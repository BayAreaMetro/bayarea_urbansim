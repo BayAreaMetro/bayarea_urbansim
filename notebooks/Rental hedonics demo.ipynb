{
 "cells": [
  {
   "cell_type": "code",
   "execution_count": null,
   "metadata": {
    "collapsed": true
   },
   "outputs": [],
   "source": [
    "# Sam Maurer, June 2015\n",
    "\n",
    "# In order to run this demo, you need to:\n",
    "#  1. Switch to the rental-hedonics branch of ual/bayarea_urbansim\n",
    "#  2. Add the data file to the appropriate directory\n",
    "#       http://samuelmaurer.info/share/sfbay_craigslist.csv\n"
   ]
  },
  {
   "cell_type": "code",
   "execution_count": 1,
   "metadata": {
    "collapsed": false
   },
   "outputs": [],
   "source": [
    "%load_ext autoreload\n",
    "%autoreload 2\n",
    "if 'sim' not in globals():\n",
    "    import os; os.chdir('..')\n",
    "import models\n",
    "import urbansim.sim.simulation as sim"
   ]
  },
  {
   "cell_type": "markdown",
   "metadata": {},
   "source": [
    "### 1. Look at the Craigslist data"
   ]
  },
  {
   "cell_type": "code",
   "execution_count": 2,
   "metadata": {
    "collapsed": false
   },
   "outputs": [
    {
     "name": "stdout",
     "output_type": "stream",
     "text": [
      "Filling column shape_area with value 604.336158108 (0 values)\n",
      "Filling column zone_id with value 1178 (0 values)\n"
     ]
    },
    {
     "data": {
      "text/html": [
       "<div style=\"max-height:1000px;max-width:1500px;overflow:auto;\">\n",
       "<table border=\"1\" class=\"dataframe\">\n",
       "  <thead>\n",
       "    <tr style=\"text-align: right;\">\n",
       "      <th></th>\n",
       "      <th>neighborhood</th>\n",
       "      <th>price</th>\n",
       "      <th>bedrooms</th>\n",
       "      <th>date</th>\n",
       "      <th>sqft</th>\n",
       "      <th>longitude</th>\n",
       "      <th>latitude</th>\n",
       "      <th>price_sqft</th>\n",
       "      <th>node_id</th>\n",
       "      <th>zone_id</th>\n",
       "    </tr>\n",
       "  </thead>\n",
       "  <tbody>\n",
       "    <tr>\n",
       "      <th>0</th>\n",
       "      <td>twin peaks / diamond hts</td>\n",
       "      <td>4500</td>\n",
       "      <td>2</td>\n",
       "      <td>2014-05-11</td>\n",
       "      <td>1200</td>\n",
       "      <td>-122.438300</td>\n",
       "      <td>37.745000</td>\n",
       "      <td>3.750000</td>\n",
       "      <td>300155</td>\n",
       "      <td>800</td>\n",
       "    </tr>\n",
       "    <tr>\n",
       "      <th>1</th>\n",
       "      <td>sunnyvale</td>\n",
       "      <td>2650</td>\n",
       "      <td>2</td>\n",
       "      <td>2014-05-11</td>\n",
       "      <td>1040</td>\n",
       "      <td>-122.008131</td>\n",
       "      <td>37.353699</td>\n",
       "      <td>2.548077</td>\n",
       "      <td>143129</td>\n",
       "      <td>960</td>\n",
       "    </tr>\n",
       "    <tr>\n",
       "      <th>2</th>\n",
       "      <td>glen park</td>\n",
       "      <td>3100</td>\n",
       "      <td>2</td>\n",
       "      <td>2014-05-11</td>\n",
       "      <td>1000</td>\n",
       "      <td>-122.439743</td>\n",
       "      <td>37.731584</td>\n",
       "      <td>3.100000</td>\n",
       "      <td>125905</td>\n",
       "      <td>1031</td>\n",
       "    </tr>\n",
       "    <tr>\n",
       "      <th>3</th>\n",
       "      <td>redwood city</td>\n",
       "      <td>1850</td>\n",
       "      <td>1</td>\n",
       "      <td>2014-05-11</td>\n",
       "      <td>792</td>\n",
       "      <td>-122.234294</td>\n",
       "      <td>37.491715</td>\n",
       "      <td>2.335859</td>\n",
       "      <td>143879</td>\n",
       "      <td>963</td>\n",
       "    </tr>\n",
       "    <tr>\n",
       "      <th>4</th>\n",
       "      <td>walnut creek</td>\n",
       "      <td>1325</td>\n",
       "      <td>1</td>\n",
       "      <td>2014-05-11</td>\n",
       "      <td>642</td>\n",
       "      <td>-122.087751</td>\n",
       "      <td>37.923448</td>\n",
       "      <td>2.063863</td>\n",
       "      <td>70923</td>\n",
       "      <td>888</td>\n",
       "    </tr>\n",
       "  </tbody>\n",
       "</table>\n",
       "</div>"
      ],
      "text/plain": [
       "               neighborhood  price  bedrooms        date  sqft   longitude  \\\n",
       "0  twin peaks / diamond hts   4500         2  2014-05-11  1200 -122.438300   \n",
       "1                 sunnyvale   2650         2  2014-05-11  1040 -122.008131   \n",
       "2                 glen park   3100         2  2014-05-11  1000 -122.439743   \n",
       "3              redwood city   1850         1  2014-05-11   792 -122.234294   \n",
       "4              walnut creek   1325         1  2014-05-11   642 -122.087751   \n",
       "\n",
       "    latitude  price_sqft  node_id  zone_id  \n",
       "0  37.745000    3.750000   300155      800  \n",
       "1  37.353699    2.548077   143129      960  \n",
       "2  37.731584    3.100000   125905     1031  \n",
       "3  37.491715    2.335859   143879      963  \n",
       "4  37.923448    2.063863    70923      888  "
      ]
     },
     "execution_count": 2,
     "metadata": {},
     "output_type": "execute_result"
    }
   ],
   "source": [
    "# This is what the Craigslist table looks like\n",
    "cl = sim.get_table('craigslist').to_frame()\n",
    "cl.head(5)"
   ]
  },
  {
   "cell_type": "code",
   "execution_count": 3,
   "metadata": {
    "collapsed": false
   },
   "outputs": [
    {
     "data": {
      "text/html": [
       "<div style=\"max-height:1000px;max-width:1500px;overflow:auto;\">\n",
       "<table border=\"1\" class=\"dataframe\">\n",
       "  <thead>\n",
       "    <tr style=\"text-align: right;\">\n",
       "      <th></th>\n",
       "      <th>price</th>\n",
       "      <th>bedrooms</th>\n",
       "      <th>sqft</th>\n",
       "      <th>longitude</th>\n",
       "      <th>latitude</th>\n",
       "      <th>price_sqft</th>\n",
       "      <th>node_id</th>\n",
       "      <th>zone_id</th>\n",
       "    </tr>\n",
       "  </thead>\n",
       "  <tbody>\n",
       "    <tr>\n",
       "      <th>count</th>\n",
       "      <td>73644.000000</td>\n",
       "      <td>68812.000000</td>\n",
       "      <td>73644.00000</td>\n",
       "      <td>73644.000000</td>\n",
       "      <td>73644.000000</td>\n",
       "      <td>73644.000000</td>\n",
       "      <td>73644.000000</td>\n",
       "      <td>73603.000000</td>\n",
       "    </tr>\n",
       "    <tr>\n",
       "      <th>mean</th>\n",
       "      <td>3806.642944</td>\n",
       "      <td>1.918575</td>\n",
       "      <td>1196.62111</td>\n",
       "      <td>-122.108903</td>\n",
       "      <td>37.639416</td>\n",
       "      <td>4.697802</td>\n",
       "      <td>156857.443906</td>\n",
       "      <td>890.963031</td>\n",
       "    </tr>\n",
       "    <tr>\n",
       "      <th>std</th>\n",
       "      <td>146802.055710</td>\n",
       "      <td>0.935159</td>\n",
       "      <td>31192.63512</td>\n",
       "      <td>1.359750</td>\n",
       "      <td>0.863417</td>\n",
       "      <td>183.768413</td>\n",
       "      <td>100783.186320</td>\n",
       "      <td>82.436500</td>\n",
       "    </tr>\n",
       "    <tr>\n",
       "      <th>min</th>\n",
       "      <td>1.000000</td>\n",
       "      <td>1.000000</td>\n",
       "      <td>1.00000</td>\n",
       "      <td>-159.609375</td>\n",
       "      <td>-85.561269</td>\n",
       "      <td>0.000154</td>\n",
       "      <td>62.000000</td>\n",
       "      <td>747.000000</td>\n",
       "    </tr>\n",
       "    <tr>\n",
       "      <th>25%</th>\n",
       "      <td>1831.000000</td>\n",
       "      <td>1.000000</td>\n",
       "      <td>720.00000</td>\n",
       "      <td>-122.286807</td>\n",
       "      <td>37.383128</td>\n",
       "      <td>2.055256</td>\n",
       "      <td>80038.000000</td>\n",
       "      <td>831.000000</td>\n",
       "    </tr>\n",
       "    <tr>\n",
       "      <th>50%</th>\n",
       "      <td>2330.500000</td>\n",
       "      <td>2.000000</td>\n",
       "      <td>904.00000</td>\n",
       "      <td>-122.050473</td>\n",
       "      <td>37.601374</td>\n",
       "      <td>2.587519</td>\n",
       "      <td>149462.000000</td>\n",
       "      <td>879.000000</td>\n",
       "    </tr>\n",
       "    <tr>\n",
       "      <th>75%</th>\n",
       "      <td>2986.000000</td>\n",
       "      <td>2.000000</td>\n",
       "      <td>1160.00000</td>\n",
       "      <td>-121.952270</td>\n",
       "      <td>37.844037</td>\n",
       "      <td>3.135714</td>\n",
       "      <td>190924.000000</td>\n",
       "      <td>956.000000</td>\n",
       "    </tr>\n",
       "    <tr>\n",
       "      <th>max</th>\n",
       "      <td>26722744.000000</td>\n",
       "      <td>8.000000</td>\n",
       "      <td>8388607.00000</td>\n",
       "      <td>146.425781</td>\n",
       "      <td>79.858833</td>\n",
       "      <td>31145.389277</td>\n",
       "      <td>354659.000000</td>\n",
       "      <td>1157.000000</td>\n",
       "    </tr>\n",
       "  </tbody>\n",
       "</table>\n",
       "</div>"
      ],
      "text/plain": [
       "                 price      bedrooms           sqft     longitude  \\\n",
       "count     73644.000000  68812.000000    73644.00000  73644.000000   \n",
       "mean       3806.642944      1.918575     1196.62111   -122.108903   \n",
       "std      146802.055710      0.935159    31192.63512      1.359750   \n",
       "min           1.000000      1.000000        1.00000   -159.609375   \n",
       "25%        1831.000000      1.000000      720.00000   -122.286807   \n",
       "50%        2330.500000      2.000000      904.00000   -122.050473   \n",
       "75%        2986.000000      2.000000     1160.00000   -121.952270   \n",
       "max    26722744.000000      8.000000  8388607.00000    146.425781   \n",
       "\n",
       "           latitude    price_sqft        node_id       zone_id  \n",
       "count  73644.000000  73644.000000   73644.000000  73603.000000  \n",
       "mean      37.639416      4.697802  156857.443906    890.963031  \n",
       "std        0.863417    183.768413  100783.186320     82.436500  \n",
       "min      -85.561269      0.000154      62.000000    747.000000  \n",
       "25%       37.383128      2.055256   80038.000000    831.000000  \n",
       "50%       37.601374      2.587519  149462.000000    879.000000  \n",
       "75%       37.844037      3.135714  190924.000000    956.000000  \n",
       "max       79.858833  31145.389277  354659.000000   1157.000000  "
      ]
     },
     "execution_count": 3,
     "metadata": {},
     "output_type": "execute_result"
    }
   ],
   "source": [
    "cl.describe()"
   ]
  },
  {
   "cell_type": "markdown",
   "metadata": {},
   "source": [
    "### 2. Set up the network vars"
   ]
  },
  {
   "cell_type": "code",
   "execution_count": 4,
   "metadata": {
    "collapsed": false
   },
   "outputs": [
    {
     "name": "stdout",
     "output_type": "stream",
     "text": [
      "Running model 'neighborhood_vars'\n",
      "Computing accessibility variables\n",
      "Computing sum_residential_units\n",
      "Filling column building_type_id with value 1 (0 values)\n",
      "Filling column residential_units with value 0 (0 values)\n",
      "Filling column year_built with value 1966.0 (0 values)\n",
      "Filling column non_residential_sqft with value 0 (0 values)\n",
      "Removed 4 rows because they contain missing values\n",
      "Computing sum_nonresidential_units\n",
      "Removed 4 rows because they contain missing values\n",
      "Computing ave_sqft_per_unit\n",
      "Removed 2 rows because they contain missing values\n",
      "Computing ave_lot_size_per_unit\n",
      "Removed 2 rows because they contain missing values\n",
      "Computing population\n",
      "Removed 79699 rows because they contain missing values\n",
      "Computing poor\n",
      "Removed 53966 rows because they contain missing values\n",
      "Computing renters\n",
      "Removed 4919 rows because they contain missing values\n",
      "Computing sfdu\n",
      "Removed 1 rows because they contain missing values\n",
      "Computing ave_hhsize\n",
      "Removed 79699 rows because they contain missing values\n",
      "Computing jobs\n",
      "Removed 335847 rows because they contain missing values\n",
      "Computing ave_income\n",
      "Removed 79699 rows because they contain missing values\n",
      "       sum_residential_units  sum_nonresidential_units  ave_sqft_per_unit  \\\n",
      "count          226060.000000             226060.000000      226060.000000   \n",
      "mean                5.959514                  5.033062           7.253990   \n",
      "std                 1.829774                  2.532726           1.322188   \n",
      "min                 0.000000                  0.000000           0.000000   \n",
      "25%                 5.517122                  3.797934           7.274734   \n",
      "50%                 6.443716                  5.747370           7.436141   \n",
      "75%                 7.027581                  6.794828           7.619552   \n",
      "max                10.149053                 11.645306          12.261587   \n",
      "\n",
      "       ave_lot_size_per_unit     population           poor        renters  \\\n",
      "count          226060.000000  226060.000000  226060.000000  226060.000000   \n",
      "mean                8.929325       6.825222       5.364583       4.052799   \n",
      "std                 1.933885       1.974722       1.966804       1.519042   \n",
      "min                 0.000000       0.000000       0.000000       0.000000   \n",
      "25%                 8.563902       6.400006       4.527863       3.515182   \n",
      "50%                 8.892104       7.388408       5.782053       4.429089   \n",
      "75%                 9.366335       7.991653       6.655447       5.041201   \n",
      "max                17.866968      10.553695      10.054707       7.257352   \n",
      "\n",
      "                sfdu     ave_hhsize           jobs     ave_income  \n",
      "count  226060.000000  226060.000000  226060.000000  226060.000000  \n",
      "mean        5.343503       1.248314       5.301676      10.934405  \n",
      "std         1.749075       0.255475       2.241773       1.963425  \n",
      "min         0.000000       0.000000       0.000000       0.000000  \n",
      "25%         4.958143       1.199913       4.195709      11.037583  \n",
      "50%         5.906678       1.279782       5.800459      11.259089  \n",
      "75%         6.438469       1.367688       6.826297      11.488537  \n",
      "max         8.095656       2.079442      11.713364      13.171155  \n",
      "Time to execute model 'neighborhood_vars': 44.92s\n",
      "Total time to execute: 44.92s\n"
     ]
    }
   ],
   "source": [
    "sim.run([\"neighborhood_vars\"])"
   ]
  },
  {
   "cell_type": "markdown",
   "metadata": {},
   "source": [
    "### 3. Estimate a hedonic"
   ]
  },
  {
   "cell_type": "code",
   "execution_count": 5,
   "metadata": {
    "collapsed": false
   },
   "outputs": [
    {
     "name": "stdout",
     "output_type": "stream",
     "text": [
      "Running model 'rh_cl_estimate'\n",
      "Found 4821 nas or inf (out of 73603) in column bedrooms\n"
     ]
    },
    {
     "ename": "AssertionError",
     "evalue": "NAs were found in dataframe, please fix",
     "output_type": "error",
     "traceback": [
      "\u001b[0;31m---------------------------------------------------------------------------\u001b[0m",
      "\u001b[0;31mAssertionError\u001b[0m                            Traceback (most recent call last)",
      "\u001b[0;32m<ipython-input-5-f71366f99376>\u001b[0m in \u001b[0;36m<module>\u001b[0;34m()\u001b[0m\n\u001b[0;32m----> 1\u001b[0;31m \u001b[0msim\u001b[0m\u001b[0;34m.\u001b[0m\u001b[0mrun\u001b[0m\u001b[0;34m(\u001b[0m\u001b[0;34m[\u001b[0m\u001b[0;34m\"rh_cl_estimate\"\u001b[0m\u001b[0;34m]\u001b[0m\u001b[0;34m)\u001b[0m\u001b[0;34m\u001b[0m\u001b[0m\n\u001b[0m",
      "\u001b[0;32m/Users/smmaurer/Dropbox/UAL/code/urbansim/urbansim/sim/simulation.pyc\u001b[0m in \u001b[0;36mrun\u001b[0;34m(models, years, data_out, out_interval)\u001b[0m\n\u001b[1;32m   1524\u001b[0m                 \u001b[0mmodel\u001b[0m \u001b[0;34m=\u001b[0m \u001b[0mget_model\u001b[0m\u001b[0;34m(\u001b[0m\u001b[0mmodel_name\u001b[0m\u001b[0;34m)\u001b[0m\u001b[0;34m\u001b[0m\u001b[0m\n\u001b[1;32m   1525\u001b[0m                 \u001b[0mt2\u001b[0m \u001b[0;34m=\u001b[0m \u001b[0mtime\u001b[0m\u001b[0;34m.\u001b[0m\u001b[0mtime\u001b[0m\u001b[0;34m(\u001b[0m\u001b[0;34m)\u001b[0m\u001b[0;34m\u001b[0m\u001b[0m\n\u001b[0;32m-> 1526\u001b[0;31m                 \u001b[0mmodel\u001b[0m\u001b[0;34m(\u001b[0m\u001b[0;34m)\u001b[0m\u001b[0;34m\u001b[0m\u001b[0m\n\u001b[0m\u001b[1;32m   1527\u001b[0m                 print(\"Time to execute model '{}': {:.2f}s\".format(\n\u001b[1;32m   1528\u001b[0m                       model_name, time.time()-t2))\n",
      "\u001b[0;32m/Users/smmaurer/Dropbox/UAL/code/urbansim/urbansim/sim/simulation.pyc\u001b[0m in \u001b[0;36m__call__\u001b[0;34m(self)\u001b[0m\n\u001b[1;32m    679\u001b[0m             kwargs = _collect_variables(names=self._argspec.args,\n\u001b[1;32m    680\u001b[0m                                         expressions=self._argspec.defaults)\n\u001b[0;32m--> 681\u001b[0;31m             \u001b[0;32mreturn\u001b[0m \u001b[0mself\u001b[0m\u001b[0;34m.\u001b[0m\u001b[0m_func\u001b[0m\u001b[0;34m(\u001b[0m\u001b[0;34m**\u001b[0m\u001b[0mkwargs\u001b[0m\u001b[0;34m)\u001b[0m\u001b[0;34m\u001b[0m\u001b[0m\n\u001b[0m\u001b[1;32m    682\u001b[0m \u001b[0;34m\u001b[0m\u001b[0m\n\u001b[1;32m    683\u001b[0m     \u001b[0;32mdef\u001b[0m \u001b[0m_tables_used\u001b[0m\u001b[0;34m(\u001b[0m\u001b[0mself\u001b[0m\u001b[0;34m)\u001b[0m\u001b[0;34m:\u001b[0m\u001b[0;34m\u001b[0m\u001b[0m\n",
      "\u001b[0;32m/Users/smmaurer/Dropbox/UAL/code/bayarea_urbansim/models.pyc\u001b[0m in \u001b[0;36mrh_cl_estimate\u001b[0;34m(craigslist, aggregations)\u001b[0m\n\u001b[1;32m     15\u001b[0m \u001b[0;34m@\u001b[0m\u001b[0msim\u001b[0m\u001b[0;34m.\u001b[0m\u001b[0mmodel\u001b[0m\u001b[0;34m(\u001b[0m\u001b[0;34m'rh_cl_estimate'\u001b[0m\u001b[0;34m)\u001b[0m\u001b[0;34m\u001b[0m\u001b[0m\n\u001b[1;32m     16\u001b[0m \u001b[0;32mdef\u001b[0m \u001b[0mrh_cl_estimate\u001b[0m\u001b[0;34m(\u001b[0m\u001b[0mcraigslist\u001b[0m\u001b[0;34m,\u001b[0m \u001b[0maggregations\u001b[0m\u001b[0;34m)\u001b[0m\u001b[0;34m:\u001b[0m\u001b[0;34m\u001b[0m\u001b[0m\n\u001b[0;32m---> 17\u001b[0;31m     \u001b[0;32mreturn\u001b[0m \u001b[0mutils\u001b[0m\u001b[0;34m.\u001b[0m\u001b[0mhedonic_estimate\u001b[0m\u001b[0;34m(\u001b[0m\u001b[0;34m\"rh_cl.yaml\"\u001b[0m\u001b[0;34m,\u001b[0m \u001b[0mcraigslist\u001b[0m\u001b[0;34m,\u001b[0m \u001b[0maggregations\u001b[0m\u001b[0;34m)\u001b[0m\u001b[0;34m\u001b[0m\u001b[0m\n\u001b[0m\u001b[1;32m     18\u001b[0m \u001b[0;34m\u001b[0m\u001b[0m\n\u001b[1;32m     19\u001b[0m \u001b[0;34m\u001b[0m\u001b[0m\n",
      "\u001b[0;32m/Users/smmaurer/Dropbox/UAL/code/urbansim_defaults/urbansim_defaults/utils.pyc\u001b[0m in \u001b[0;36mhedonic_estimate\u001b[0;34m(cfg, tbl, join_tbls)\u001b[0m\n\u001b[1;32m    236\u001b[0m     \"\"\"\n\u001b[1;32m    237\u001b[0m     \u001b[0mcfg\u001b[0m \u001b[0;34m=\u001b[0m \u001b[0mmisc\u001b[0m\u001b[0;34m.\u001b[0m\u001b[0mconfig\u001b[0m\u001b[0;34m(\u001b[0m\u001b[0mcfg\u001b[0m\u001b[0;34m)\u001b[0m\u001b[0;34m\u001b[0m\u001b[0m\n\u001b[0;32m--> 238\u001b[0;31m     \u001b[0mdf\u001b[0m \u001b[0;34m=\u001b[0m \u001b[0mto_frame\u001b[0m\u001b[0;34m(\u001b[0m\u001b[0mtbl\u001b[0m\u001b[0;34m,\u001b[0m \u001b[0mjoin_tbls\u001b[0m\u001b[0;34m,\u001b[0m \u001b[0mcfg\u001b[0m\u001b[0;34m)\u001b[0m\u001b[0;34m\u001b[0m\u001b[0m\n\u001b[0m\u001b[1;32m    239\u001b[0m     \u001b[0;32mreturn\u001b[0m \u001b[0myaml_to_class\u001b[0m\u001b[0;34m(\u001b[0m\u001b[0mcfg\u001b[0m\u001b[0;34m)\u001b[0m\u001b[0;34m.\u001b[0m\u001b[0mfit_from_cfg\u001b[0m\u001b[0;34m(\u001b[0m\u001b[0mdf\u001b[0m\u001b[0;34m,\u001b[0m \u001b[0mcfg\u001b[0m\u001b[0;34m)\u001b[0m\u001b[0;34m\u001b[0m\u001b[0m\n\u001b[1;32m    240\u001b[0m \u001b[0;34m\u001b[0m\u001b[0m\n",
      "\u001b[0;32m/Users/smmaurer/Dropbox/UAL/code/urbansim_defaults/urbansim_defaults/utils.pyc\u001b[0m in \u001b[0;36mto_frame\u001b[0;34m(tbl, join_tbls, cfg, additional_columns)\u001b[0m\n\u001b[1;32m    193\u001b[0m     \u001b[0;32melse\u001b[0m\u001b[0;34m:\u001b[0m\u001b[0;34m\u001b[0m\u001b[0m\n\u001b[1;32m    194\u001b[0m         \u001b[0mdf\u001b[0m \u001b[0;34m=\u001b[0m \u001b[0mtables\u001b[0m\u001b[0;34m[\u001b[0m\u001b[0;36m0\u001b[0m\u001b[0;34m]\u001b[0m\u001b[0;34m.\u001b[0m\u001b[0mto_frame\u001b[0m\u001b[0;34m(\u001b[0m\u001b[0mcolumns\u001b[0m\u001b[0;34m)\u001b[0m\u001b[0;34m\u001b[0m\u001b[0m\n\u001b[0;32m--> 195\u001b[0;31m     \u001b[0mcheck_nas\u001b[0m\u001b[0;34m(\u001b[0m\u001b[0mdf\u001b[0m\u001b[0;34m)\u001b[0m\u001b[0;34m\u001b[0m\u001b[0m\n\u001b[0m\u001b[1;32m    196\u001b[0m     \u001b[0;32mreturn\u001b[0m \u001b[0mdf\u001b[0m\u001b[0;34m\u001b[0m\u001b[0m\n\u001b[1;32m    197\u001b[0m \u001b[0;34m\u001b[0m\u001b[0m\n",
      "\u001b[0;32m/Users/smmaurer/Dropbox/UAL/code/urbansim_defaults/urbansim_defaults/utils.pyc\u001b[0m in \u001b[0;36mcheck_nas\u001b[0;34m(df)\u001b[0m\n\u001b[1;32m     79\u001b[0m                   \u001b[0;34m(\u001b[0m\u001b[0mdf_cnt\u001b[0m\u001b[0;34m-\u001b[0m\u001b[0ms_cnt\u001b[0m\u001b[0;34m,\u001b[0m \u001b[0mdf_cnt\u001b[0m\u001b[0;34m,\u001b[0m \u001b[0mcol\u001b[0m\u001b[0;34m)\u001b[0m\u001b[0;34m\u001b[0m\u001b[0m\n\u001b[1;32m     80\u001b[0m \u001b[0;34m\u001b[0m\u001b[0m\n\u001b[0;32m---> 81\u001b[0;31m     \u001b[0;32massert\u001b[0m \u001b[0;32mnot\u001b[0m \u001b[0mfail\u001b[0m\u001b[0;34m,\u001b[0m \u001b[0;34m\"NAs were found in dataframe, please fix\"\u001b[0m\u001b[0;34m\u001b[0m\u001b[0m\n\u001b[0m\u001b[1;32m     82\u001b[0m \u001b[0;34m\u001b[0m\u001b[0m\n\u001b[1;32m     83\u001b[0m \u001b[0;34m\u001b[0m\u001b[0m\n",
      "\u001b[0;31mAssertionError\u001b[0m: NAs were found in dataframe, please fix"
     ]
    }
   ],
   "source": [
    "sim.run([\"rh_cl_estimate\"])"
   ]
  },
  {
   "cell_type": "code",
   "execution_count": null,
   "metadata": {
    "collapsed": false
   },
   "outputs": [],
   "source": []
  },
  {
   "cell_type": "code",
   "execution_count": null,
   "metadata": {
    "collapsed": true
   },
   "outputs": [],
   "source": []
  }
 ],
 "metadata": {
  "kernelspec": {
   "display_name": "Python 2",
   "language": "python",
   "name": "python2"
  },
  "language_info": {
   "codemirror_mode": {
    "name": "ipython",
    "version": 2
   },
   "file_extension": ".py",
   "mimetype": "text/x-python",
   "name": "python",
   "nbconvert_exporter": "python",
   "pygments_lexer": "ipython2",
   "version": "2.7.9"
  }
 },
 "nbformat": 4,
 "nbformat_minor": 0
}
