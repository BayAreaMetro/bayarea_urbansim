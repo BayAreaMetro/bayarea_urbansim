{
 "cells": [
  {
   "cell_type": "code",
   "execution_count": null,
   "metadata": {
    "collapsed": true
   },
   "outputs": [],
   "source": [
    "# Sam Maurer, June 2015"
   ]
  },
  {
   "cell_type": "code",
   "execution_count": 14,
   "metadata": {
    "collapsed": false
   },
   "outputs": [
    {
     "name": "stdout",
     "output_type": "stream",
     "text": [
      "The autoreload extension is already loaded. To reload it, use:\n",
      "  %reload_ext autoreload\n"
     ]
    }
   ],
   "source": [
    "%load_ext autoreload\n",
    "%autoreload 2\n",
    "import models\n",
    "import urbansim.sim.simulation as sim\n",
    "from urbansim.utils import misc\n",
    "\n",
    "import numpy as np\n",
    "import pandas as pd"
   ]
  },
  {
   "cell_type": "markdown",
   "metadata": {},
   "source": [
    "### 1. Figure out how the hedonics are currently estimated"
   ]
  },
  {
   "cell_type": "code",
   "execution_count": 2,
   "metadata": {
    "collapsed": false
   },
   "outputs": [
    {
     "data": {
      "text/plain": [
       "<class 'pandas.io.pytables.HDFStore'>\n",
       "File path: ./data/bayarea_v3.h5\n",
       "/apartments                    frame        (shape->[4327,6])    \n",
       "/buildings                     frame        (shape->[1841288,18])\n",
       "/costar                        frame        (shape->[71520,23])  \n",
       "/homesales                     frame        (shape->[220037,14]) \n",
       "/households                    frame        (shape->[2732722,47])\n",
       "/jobs                          frame        (shape->[3386491,3]) \n",
       "/nets                          frame        (shape->[633973,7])  \n",
       "/parcels                       frame        (shape->[1951911,15])\n",
       "/zones                         frame        (shape->[1454,4])    \n",
       "/zoning                        frame        (shape->[42311,19])  \n",
       "/zoning_for_parcels            frame        (shape->[1951911,1]) "
      ]
     },
     "execution_count": 2,
     "metadata": {},
     "output_type": "execute_result"
    }
   ],
   "source": [
    "s = sim.get_injectable('store')\n",
    "s"
   ]
  },
  {
   "cell_type": "code",
   "execution_count": null,
   "metadata": {
    "collapsed": true
   },
   "outputs": [],
   "source": [
    "# Where does the data for hedonic estimation come from?\n",
    "# In rsh.yaml, the model expression is: \n",
    "'''\n",
    "np.log(price_per_sqft) ~ I(year_built < 1940) + I(year_built > 2000)\n",
    "    + np.log1p(sqft_per_unit) + ave_income + stories + poor + renters + sfdu + autoPeakTotal\n",
    "    + transitPeakTotal + autoOffPeakRetail + ave_lot_size_per_unit + sum_nonresidential_units\n",
    "    + sum_residential_units\n",
    "'''"
   ]
  },
  {
   "cell_type": "code",
   "execution_count": 27,
   "metadata": {
    "collapsed": false
   },
   "outputs": [
    {
     "data": {
      "text/plain": [
       "array(['X', 'Y', 'PropertyType', 'Res', 'City', 'county',\n",
       "       'averageweightedrent', 'rentable_building_area', 'building_class',\n",
       "       'parking_ratio', 'percent_leased', 'number_of_stories',\n",
       "       'year_built', 'zoning', 'fname', 'same', 'two', 'ok', 'parcel_id',\n",
       "       '_node_id0', '_node_id1', '_node_id2', '_node_id'], dtype=object)"
      ]
     },
     "execution_count": 27,
     "metadata": {},
     "output_type": "execute_result"
    }
   ],
   "source": [
    "s.costar.columns.values"
   ]
  },
  {
   "cell_type": "code",
   "execution_count": 5,
   "metadata": {
    "collapsed": false
   },
   "outputs": [
    {
     "data": {
      "text/plain": [
       "array(['X', 'Y', 'City', 'Lot_size', 'SQft', 'Year_built', 'Sale_price',\n",
       "       'parcel_id', 'sales', 'Sale_price_flt', '_node_id0', '_node_id1',\n",
       "       '_node_id2', '_node_id'], dtype=object)"
      ]
     },
     "execution_count": 5,
     "metadata": {},
     "output_type": "execute_result"
    }
   ],
   "source": [
    "s.homesales.columns.values"
   ]
  },
  {
   "cell_type": "code",
   "execution_count": 6,
   "metadata": {
    "collapsed": false
   },
   "outputs": [
    {
     "data": {
      "text/plain": [
       "array(['development_type_id', 'land_value', 'acres', 'county_id',\n",
       "       'zone_id', 'zoning_id', 'proportion_undevelopable',\n",
       "       'tax_exempt_status', 'apn', 'parcel_id_local', 'geom_id',\n",
       "       'imputation_flag', 'x', 'y', 'shape_area'], dtype=object)"
      ]
     },
     "execution_count": 6,
     "metadata": {},
     "output_type": "execute_result"
    }
   ],
   "source": [
    "s.parcels.columns.values"
   ]
  },
  {
   "cell_type": "code",
   "execution_count": 7,
   "metadata": {
    "collapsed": false
   },
   "outputs": [
    {
     "data": {
      "text/plain": [
       "array(['parcel_id', 'development_type_id', 'improvement_value',\n",
       "       'residential_units', 'residential_sqft', 'sqft_per_unit',\n",
       "       'non_residential_sqft', 'building_sqft', 'nonres_rent_per_sqft',\n",
       "       'res_price_per_sqft', 'stories', 'year_built', 'redfin_sale_price',\n",
       "       'redfin_sale_year', 'redfin_home_type', 'costar_property_type',\n",
       "       'costar_rent', 'building_type_id'], dtype=object)"
      ]
     },
     "execution_count": 7,
     "metadata": {},
     "output_type": "execute_result"
    }
   ],
   "source": [
    "s.buildings.columns.values"
   ]
  },
  {
   "cell_type": "code",
   "execution_count": null,
   "metadata": {
    "collapsed": true
   },
   "outputs": [],
   "source": [
    "# Many of the inputs come from the neighborhood_vars model, which does network aggregation\n",
    "# and stores its results in the 'nodes' table - and others are defined in variables.py\n",
    "'''\n",
    "price_per_sqft:              homesales (which does not come from the h5 file, but is \n",
    "                                 constructed on the fly from the buildings table)\n",
    "                                 buildings > redfin_sale_price and sqft_per_unit\n",
    "year_built:                  buildings\n",
    "sqft_per_unit:               buildings dynamic column\n",
    "ave_income:                  nodes, from households > income\n",
    "stories:                     buildings\n",
    "poor:                        nodes, from households > persons\n",
    "renters:                     nodes, from households > tenure\n",
    "sfdu:                        nodes, from buildings > building_type_id\n",
    "autoPeakTotal:               logsums\n",
    "transitPeakTotal:            logsums\n",
    "autoOffPeakRetail:           logsums\n",
    "ave_lot_size_per_unit:       nodes, from buildings dynamic column\n",
    "sum_nonresidential_units:    nodes, from buildings dynamic column\n",
    "sum_residential_units:       nodes, from buildings > residential_units\n",
    "'''"
   ]
  },
  {
   "cell_type": "markdown",
   "metadata": {},
   "source": [
    "### 2. Bring in Craigslist data as a separate table, and link"
   ]
  },
  {
   "cell_type": "code",
   "execution_count": null,
   "metadata": {
    "collapsed": true
   },
   "outputs": [],
   "source": [
    "# Craigslist gives us x,y coordinates, but they're not accurate enough to link\n",
    "# to a specific parcel. Probably the best approach is to set up a new table for CL\n",
    "# data, and then use a broadcast to link them to the nodes and logsums tables"
   ]
  },
  {
   "cell_type": "code",
   "execution_count": 15,
   "metadata": {
    "collapsed": false
   },
   "outputs": [],
   "source": [
    "df = pd.read_csv(os.path.join(misc.data_dir(), \"sfbay_craigslist.csv\"))"
   ]
  },
  {
   "cell_type": "code",
   "execution_count": 16,
   "metadata": {
    "collapsed": false
   },
   "outputs": [
    {
     "data": {
      "text/html": [
       "<div style=\"max-height:1000px;max-width:1500px;overflow:auto;\">\n",
       "<table border=\"1\" class=\"dataframe\">\n",
       "  <thead>\n",
       "    <tr style=\"text-align: right;\">\n",
       "      <th></th>\n",
       "      <th>price</th>\n",
       "      <th>bedrooms</th>\n",
       "      <th>sqft</th>\n",
       "      <th>longitude</th>\n",
       "      <th>latitude</th>\n",
       "      <th>price_sqft</th>\n",
       "    </tr>\n",
       "  </thead>\n",
       "  <tbody>\n",
       "    <tr>\n",
       "      <th>count</th>\n",
       "      <td>73644.000000</td>\n",
       "      <td>68812.000000</td>\n",
       "      <td>73644.00000</td>\n",
       "      <td>73644.000000</td>\n",
       "      <td>73644.000000</td>\n",
       "      <td>73644.000000</td>\n",
       "    </tr>\n",
       "    <tr>\n",
       "      <th>mean</th>\n",
       "      <td>3806.642944</td>\n",
       "      <td>1.918575</td>\n",
       "      <td>1196.62111</td>\n",
       "      <td>-122.108903</td>\n",
       "      <td>37.639416</td>\n",
       "      <td>4.697802</td>\n",
       "    </tr>\n",
       "    <tr>\n",
       "      <th>std</th>\n",
       "      <td>146802.055710</td>\n",
       "      <td>0.935159</td>\n",
       "      <td>31192.63512</td>\n",
       "      <td>1.359750</td>\n",
       "      <td>0.863417</td>\n",
       "      <td>183.768413</td>\n",
       "    </tr>\n",
       "    <tr>\n",
       "      <th>min</th>\n",
       "      <td>1.000000</td>\n",
       "      <td>1.000000</td>\n",
       "      <td>1.00000</td>\n",
       "      <td>-159.609375</td>\n",
       "      <td>-85.561269</td>\n",
       "      <td>0.000154</td>\n",
       "    </tr>\n",
       "    <tr>\n",
       "      <th>25%</th>\n",
       "      <td>1831.000000</td>\n",
       "      <td>1.000000</td>\n",
       "      <td>720.00000</td>\n",
       "      <td>-122.286807</td>\n",
       "      <td>37.383128</td>\n",
       "      <td>2.055256</td>\n",
       "    </tr>\n",
       "    <tr>\n",
       "      <th>50%</th>\n",
       "      <td>2330.500000</td>\n",
       "      <td>2.000000</td>\n",
       "      <td>904.00000</td>\n",
       "      <td>-122.050473</td>\n",
       "      <td>37.601374</td>\n",
       "      <td>2.587519</td>\n",
       "    </tr>\n",
       "    <tr>\n",
       "      <th>75%</th>\n",
       "      <td>2986.000000</td>\n",
       "      <td>2.000000</td>\n",
       "      <td>1160.00000</td>\n",
       "      <td>-121.952270</td>\n",
       "      <td>37.844037</td>\n",
       "      <td>3.135714</td>\n",
       "    </tr>\n",
       "    <tr>\n",
       "      <th>max</th>\n",
       "      <td>26722744.000000</td>\n",
       "      <td>8.000000</td>\n",
       "      <td>8388607.00000</td>\n",
       "      <td>146.425781</td>\n",
       "      <td>79.858833</td>\n",
       "      <td>31145.389277</td>\n",
       "    </tr>\n",
       "  </tbody>\n",
       "</table>\n",
       "</div>"
      ],
      "text/plain": [
       "                 price      bedrooms           sqft     longitude  \\\n",
       "count     73644.000000  68812.000000    73644.00000  73644.000000   \n",
       "mean       3806.642944      1.918575     1196.62111   -122.108903   \n",
       "std      146802.055710      0.935159    31192.63512      1.359750   \n",
       "min           1.000000      1.000000        1.00000   -159.609375   \n",
       "25%        1831.000000      1.000000      720.00000   -122.286807   \n",
       "50%        2330.500000      2.000000      904.00000   -122.050473   \n",
       "75%        2986.000000      2.000000     1160.00000   -121.952270   \n",
       "max    26722744.000000      8.000000  8388607.00000    146.425781   \n",
       "\n",
       "           latitude    price_sqft  \n",
       "count  73644.000000  73644.000000  \n",
       "mean      37.639416      4.697802  \n",
       "std        0.863417    183.768413  \n",
       "min      -85.561269      0.000154  \n",
       "25%       37.383128      2.055256  \n",
       "50%       37.601374      2.587519  \n",
       "75%       37.844037      3.135714  \n",
       "max       79.858833  31145.389277  "
      ]
     },
     "execution_count": 16,
     "metadata": {},
     "output_type": "execute_result"
    }
   ],
   "source": [
    "df.describe()"
   ]
  },
  {
   "cell_type": "code",
   "execution_count": 17,
   "metadata": {
    "collapsed": true
   },
   "outputs": [],
   "source": [
    "# borrowing code from datasources.py to link x,y to nodes\n",
    "net = sim.get_injectable('net')\n",
    "df['_node_id'] = net.get_node_ids(df['longitude'], df['latitude'])"
   ]
  },
  {
   "cell_type": "code",
   "execution_count": 19,
   "metadata": {
    "collapsed": false
   },
   "outputs": [
    {
     "data": {
      "text/plain": [
       "count     73644.000000\n",
       "mean     156857.443906\n",
       "std      100783.186320\n",
       "min          62.000000\n",
       "25%       80038.000000\n",
       "50%      149462.000000\n",
       "75%      190924.000000\n",
       "max      354659.000000\n",
       "Name: _node_id, dtype: float64"
      ]
     },
     "execution_count": 19,
     "metadata": {},
     "output_type": "execute_result"
    }
   ],
   "source": [
    "df['_node_id'].describe()"
   ]
  },
  {
   "cell_type": "code",
   "execution_count": 25,
   "metadata": {
    "collapsed": false
   },
   "outputs": [
    {
     "data": {
      "text/html": [
       "<div style=\"max-height:1000px;max-width:1500px;overflow:auto;\">\n",
       "<table border=\"1\" class=\"dataframe\">\n",
       "  <thead>\n",
       "    <tr style=\"text-align: right;\">\n",
       "      <th></th>\n",
       "      <th>neighborhood</th>\n",
       "      <th>price</th>\n",
       "      <th>bedrooms</th>\n",
       "      <th>date</th>\n",
       "      <th>sqft</th>\n",
       "      <th>longitude</th>\n",
       "      <th>latitude</th>\n",
       "      <th>price_sqft</th>\n",
       "      <th>_node_id</th>\n",
       "    </tr>\n",
       "  </thead>\n",
       "  <tbody>\n",
       "    <tr>\n",
       "      <th>0</th>\n",
       "      <td>twin peaks / diamond hts</td>\n",
       "      <td>4500</td>\n",
       "      <td>2</td>\n",
       "      <td>2014-05-11</td>\n",
       "      <td>1200</td>\n",
       "      <td>-122.438300</td>\n",
       "      <td>37.745000</td>\n",
       "      <td>3.750000</td>\n",
       "      <td>300155</td>\n",
       "    </tr>\n",
       "    <tr>\n",
       "      <th>1</th>\n",
       "      <td>sunnyvale</td>\n",
       "      <td>2650</td>\n",
       "      <td>2</td>\n",
       "      <td>2014-05-11</td>\n",
       "      <td>1040</td>\n",
       "      <td>-122.008131</td>\n",
       "      <td>37.353699</td>\n",
       "      <td>2.548077</td>\n",
       "      <td>143129</td>\n",
       "    </tr>\n",
       "    <tr>\n",
       "      <th>2</th>\n",
       "      <td>glen park</td>\n",
       "      <td>3100</td>\n",
       "      <td>2</td>\n",
       "      <td>2014-05-11</td>\n",
       "      <td>1000</td>\n",
       "      <td>-122.439743</td>\n",
       "      <td>37.731584</td>\n",
       "      <td>3.100000</td>\n",
       "      <td>125905</td>\n",
       "    </tr>\n",
       "    <tr>\n",
       "      <th>3</th>\n",
       "      <td>redwood city</td>\n",
       "      <td>1850</td>\n",
       "      <td>1</td>\n",
       "      <td>2014-05-11</td>\n",
       "      <td>792</td>\n",
       "      <td>-122.234294</td>\n",
       "      <td>37.491715</td>\n",
       "      <td>2.335859</td>\n",
       "      <td>143879</td>\n",
       "    </tr>\n",
       "    <tr>\n",
       "      <th>4</th>\n",
       "      <td>walnut creek</td>\n",
       "      <td>1325</td>\n",
       "      <td>1</td>\n",
       "      <td>2014-05-11</td>\n",
       "      <td>642</td>\n",
       "      <td>-122.087751</td>\n",
       "      <td>37.923448</td>\n",
       "      <td>2.063863</td>\n",
       "      <td>70923</td>\n",
       "    </tr>\n",
       "  </tbody>\n",
       "</table>\n",
       "</div>"
      ],
      "text/plain": [
       "               neighborhood  price  bedrooms        date  sqft   longitude  \\\n",
       "0  twin peaks / diamond hts   4500         2  2014-05-11  1200 -122.438300   \n",
       "1                 sunnyvale   2650         2  2014-05-11  1040 -122.008131   \n",
       "2                 glen park   3100         2  2014-05-11  1000 -122.439743   \n",
       "3              redwood city   1850         1  2014-05-11   792 -122.234294   \n",
       "4              walnut creek   1325         1  2014-05-11   642 -122.087751   \n",
       "\n",
       "    latitude  price_sqft  _node_id  \n",
       "0  37.745000    3.750000    300155  \n",
       "1  37.353699    2.548077    143129  \n",
       "2  37.731584    3.100000    125905  \n",
       "3  37.491715    2.335859    143879  \n",
       "4  37.923448    2.063863     70923  "
      ]
     },
     "execution_count": 25,
     "metadata": {},
     "output_type": "execute_result"
    }
   ],
   "source": [
    "df.head(5)"
   ]
  },
  {
   "cell_type": "code",
   "execution_count": null,
   "metadata": {
    "collapsed": true
   },
   "outputs": [],
   "source": []
  },
  {
   "cell_type": "code",
   "execution_count": null,
   "metadata": {
    "collapsed": true
   },
   "outputs": [],
   "source": []
  },
  {
   "cell_type": "code",
   "execution_count": null,
   "metadata": {
    "collapsed": true
   },
   "outputs": [],
   "source": []
  },
  {
   "cell_type": "code",
   "execution_count": null,
   "metadata": {
    "collapsed": true
   },
   "outputs": [],
   "source": []
  },
  {
   "cell_type": "code",
   "execution_count": null,
   "metadata": {
    "collapsed": true
   },
   "outputs": [],
   "source": []
  },
  {
   "cell_type": "code",
   "execution_count": null,
   "metadata": {
    "collapsed": true
   },
   "outputs": [],
   "source": []
  }
 ],
 "metadata": {
  "kernelspec": {
   "display_name": "Python 2",
   "language": "python",
   "name": "python2"
  },
  "language_info": {
   "codemirror_mode": {
    "name": "ipython",
    "version": 2
   },
   "file_extension": ".py",
   "mimetype": "text/x-python",
   "name": "python",
   "nbconvert_exporter": "python",
   "pygments_lexer": "ipython2",
   "version": "2.7.9"
  }
 },
 "nbformat": 4,
 "nbformat_minor": 0
}
