{
 "metadata": {
  "name": "",
  "signature": "sha256:b3ae3c857227da637fe2ea586d7c7f320189bb4bb70d08bed88da78a7bd20030"
 },
 "nbformat": 3,
 "nbformat_minor": 0,
 "worksheets": [
  {
   "cells": [
    {
     "cell_type": "code",
     "collapsed": true,
     "input": [
      "%load_ext autoreload\n",
      "%autoreload 2\n",
      "if 'sim' not in globals():\n",
      "    import os; os.chdir('..')\n",
      "import models\n",
      "import time\n",
      "import urbansim.sim.simulation as sim"
     ],
     "language": "python",
     "metadata": {},
     "outputs": [],
     "prompt_number": 1
    },
    {
     "cell_type": "code",
     "collapsed": true,
     "input": [
      "print \"Started\", time.ctime()\n",
      "in_year, out_year = 2010, 2011\n",
      "\n",
      "sim.run([\n",
      "    \"neighborhood_vars\",         # accessibility variables\n",
      "\n",
      "    \"rsh_simulate\",              # residential sales hedonic\n",
      "    \"nrh_simulate\",              # non-residential rent hedonic\n",
      "    \"calc_prop_taxes\",\n",
      "\n",
      "#     \"households_transition\",     # households transition\n",
      "#     \"households_relocation\",     # households relocation model\n",
      "#     \"hlcm_simulate\",            # households location choice\n",
      "#     \"jobs_relocation\",           # jobs relocation model\n",
      "#     \"jobs_transition\",           # jobs transition\n",
      "#     \"elcm_simulate\",             # employment location choice\n",
      "\n",
      "    \"price_vars\",                # compute average price measures\n",
      "    \"subsidized_residential_developer\"     # build residential buildings\n",
      "], years=range(in_year, out_year))\n",
      "print \"Finished\", time.ctime()"
     ],
     "language": "python",
     "metadata": {},
     "outputs": [
      {
       "output_type": "stream",
       "stream": "stdout",
       "text": [
        "Started Mon Apr 27 09:06:44 2015\n",
        "Running year 2010\n",
        "Running model 'neighborhood_vars'\n",
        "Computing accessibility variables"
       ]
      },
      {
       "output_type": "stream",
       "stream": "stdout",
       "text": [
        "\n",
        "Computing sum_residential_units\n",
        "Filling column building_type_id with value 1 (46350 values)"
       ]
      },
      {
       "output_type": "stream",
       "stream": "stdout",
       "text": [
        "\n",
        "Filling column residential_units with value 0 (46350 values)"
       ]
      },
      {
       "output_type": "stream",
       "stream": "stdout",
       "text": [
        "\n",
        "Filling column year_built with value 1966.0 (46350 values)"
       ]
      },
      {
       "output_type": "stream",
       "stream": "stdout",
       "text": [
        "\n",
        "Filling column non_residential_sqft with value 0 (46350 values)"
       ]
      },
      {
       "output_type": "stream",
       "stream": "stdout",
       "text": [
        "\n",
        "Filling column shape_area with value 604.336158108 (0 values)"
       ]
      },
      {
       "output_type": "stream",
       "stream": "stdout",
       "text": [
        "\n",
        "Filling column zone_id with value 1178 (0 values)"
       ]
      },
      {
       "output_type": "stream",
       "stream": "stdout",
       "text": [
        "\n",
        "Removed 4 rows because they contain missing values"
       ]
      },
      {
       "output_type": "stream",
       "stream": "stdout",
       "text": [
        "\n",
        "Computing sum_nonresidential_units"
       ]
      },
      {
       "output_type": "stream",
       "stream": "stdout",
       "text": [
        "\n",
        "Removed 4 rows because they contain missing values"
       ]
      },
      {
       "output_type": "stream",
       "stream": "stdout",
       "text": [
        "\n",
        "Computing ave_sqft_per_unit"
       ]
      },
      {
       "output_type": "stream",
       "stream": "stdout",
       "text": [
        "\n",
        "Removed 2 rows because they contain missing values"
       ]
      },
      {
       "output_type": "stream",
       "stream": "stdout",
       "text": [
        "\n",
        "Computing ave_lot_size_per_unit"
       ]
      },
      {
       "output_type": "stream",
       "stream": "stdout",
       "text": [
        "\n",
        "Removed 2 rows because they contain missing values"
       ]
      },
      {
       "output_type": "stream",
       "stream": "stdout",
       "text": [
        "\n",
        "Computing population"
       ]
      },
      {
       "output_type": "stream",
       "stream": "stdout",
       "text": [
        "\n",
        "Removed 118914 rows because they contain missing values"
       ]
      },
      {
       "output_type": "stream",
       "stream": "stdout",
       "text": [
        "\n",
        "Computing poor"
       ]
      },
      {
       "output_type": "stream",
       "stream": "stdout",
       "text": [
        "\n",
        "Removed 69738 rows because they contain missing values"
       ]
      },
      {
       "output_type": "stream",
       "stream": "stdout",
       "text": [
        "\n",
        "Computing renters"
       ]
      },
      {
       "output_type": "stream",
       "stream": "stdout",
       "text": [
        "\n",
        "Removed 9063 rows because they contain missing values"
       ]
      },
      {
       "output_type": "stream",
       "stream": "stdout",
       "text": [
        "\n",
        "Computing sfdu"
       ]
      },
      {
       "output_type": "stream",
       "stream": "stdout",
       "text": [
        "\n",
        "Removed 1 rows because they contain missing values"
       ]
      },
      {
       "output_type": "stream",
       "stream": "stdout",
       "text": [
        "\n",
        "Computing ave_hhsize"
       ]
      },
      {
       "output_type": "stream",
       "stream": "stdout",
       "text": [
        "\n",
        "Removed 118914 rows because they contain missing values"
       ]
      },
      {
       "output_type": "stream",
       "stream": "stdout",
       "text": [
        "\n",
        "Computing jobs"
       ]
      },
      {
       "output_type": "stream",
       "stream": "stdout",
       "text": [
        "\n",
        "Removed 746627 rows because they contain missing values"
       ]
      },
      {
       "output_type": "stream",
       "stream": "stdout",
       "text": [
        "\n",
        "Computing ave_income"
       ]
      },
      {
       "output_type": "stream",
       "stream": "stdout",
       "text": [
        "\n",
        "Removed 118914 rows because they contain missing values"
       ]
      },
      {
       "output_type": "stream",
       "stream": "stdout",
       "text": [
        "\n",
        "       sum_residential_units  sum_nonresidential_units  ave_sqft_per_unit  \\\n",
        "count          226060.000000             226060.000000      226060.000000   \n",
        "mean                0.000066                  0.000066           0.000033   \n",
        "std                 0.031220                  0.031273           0.015763   \n",
        "min                 0.000000                  0.000000           0.000000   \n",
        "25%                 0.000000                  0.000000           0.000000   \n",
        "50%                 0.000000                  0.000000           0.000000   \n",
        "75%                 0.000000                  0.000000           0.000000   \n",
        "max                14.843802                 14.869149           7.494779   \n",
        "\n",
        "       ave_lot_size_per_unit     population           poor        renters  \\\n",
        "count          226060.000000  226060.000000  226060.000000  226060.000000   \n",
        "mean                0.000033       0.000070       0.000064       0.000057   \n",
        "std                 0.015617       0.033094       0.030387       0.026971   \n",
        "min                 0.000000       0.000000       0.000000       0.000000   \n",
        "25%                 0.000000       0.000000       0.000000       0.000000   \n",
        "50%                 0.000000       0.000000       0.000000       0.000000   \n",
        "75%                 0.000000       0.000000       0.000000       0.000000   \n",
        "max                 7.425261      15.734810      14.447772      12.823545   \n",
        "\n",
        "                sfdu     ave_hhsize           jobs     ave_income  \n",
        "count  226060.000000  226060.000000  226060.000000  226060.000000  \n",
        "mean        0.000063       0.000006       0.000065       0.000050  \n",
        "std         0.029942       0.002699       0.031099       0.023719  \n",
        "min         0.000000       0.000000       0.000000       0.000000  \n",
        "25%         0.000000       0.000000       0.000000       0.000000  \n",
        "50%         0.000000       0.000000       0.000000       0.000000  \n",
        "75%         0.000000       0.000000       0.000000       0.000000  \n",
        "max        14.236147       1.283087      14.786239      11.277593  "
       ]
      },
      {
       "output_type": "stream",
       "stream": "stdout",
       "text": [
        "\n",
        "Time to execute model 'neighborhood_vars': 36.18s\n",
        "Running model 'rsh_simulate'\n",
        ".\\configs\\rsh.yaml\n",
        "count    1794934.000000\n",
        "mean           0.319634\n",
        "std            0.021243\n",
        "min            0.213229\n",
        "25%            0.307030\n",
        "50%            0.325391\n",
        "75%            0.334714\n",
        "max            0.362755\n",
        "dtype: float64"
       ]
      },
      {
       "output_type": "stream",
       "stream": "stdout",
       "text": [
        "\n",
        "Time to execute model 'rsh_simulate': 2.39s"
       ]
      },
      {
       "output_type": "stream",
       "stream": "stdout",
       "text": [
        "\n",
        "Running model 'nrh_simulate'\n",
        ".\\configs\\nrh.yaml\n",
        "count    70118.000000\n",
        "mean        37.033521\n",
        "std         20.671725\n",
        "min         13.859910\n",
        "25%         18.098169\n",
        "50%         23.159045\n",
        "75%         59.362128\n",
        "max        114.812745\n",
        "dtype: float64"
       ]
      },
      {
       "output_type": "stream",
       "stream": "stdout",
       "text": [
        "\n",
        "Time to execute model 'nrh_simulate': 1.80s"
       ]
      },
      {
       "output_type": "stream",
       "stream": "stdout",
       "text": [
        "\n",
        "Running model 'calc_prop_taxes'\n",
        "Sample rows from property tax accts:"
       ]
      },
      {
       "output_type": "stream",
       "stream": "stdout",
       "text": [
        "\n",
        "              amount  subaccount              description  year\n",
        "1    11054199.383428          -1  Collecting property tax  2010\n",
        "27    6712203.122857          26  Collecting property tax  2010\n",
        "101   5987819.619536         101  Collecting property tax  2010\n",
        "6     5138120.647109           5  Collecting property tax  2010\n",
        "94    2299991.552820          94  Collecting property tax  2010\n",
        "78    2174329.830110          78  Collecting property tax  2010\n",
        "81    1969126.954608          81  Collecting property tax  2010\n",
        "Time to execute model 'calc_prop_taxes': 10.56s\n",
        "Running model 'price_vars'\n",
        "Computing accessibility variables\n",
        "Computing residential\n",
        "Removed 2 rows because they contain missing values"
       ]
      },
      {
       "output_type": "stream",
       "stream": "stdout",
       "text": [
        "\n",
        "Computing retail"
       ]
      },
      {
       "output_type": "stream",
       "stream": "stdout",
       "text": [
        "\n",
        "Computing office"
       ]
      },
      {
       "output_type": "stream",
       "stream": "stdout",
       "text": [
        "\n",
        "Removed 2 rows because they contain missing values"
       ]
      },
      {
       "output_type": "stream",
       "stream": "stdout",
       "text": [
        "\n",
        "Computing industrial"
       ]
      },
      {
       "output_type": "stream",
       "stream": "stdout",
       "text": [
        "\n",
        "         residential         retail         office     industrial\n",
        "count  226060.000000  226060.000000  226060.000000  226060.000000\n",
        "mean        0.000006       0.001068       0.000400       0.000309\n",
        "std         0.001344       0.253992       0.095186       0.073556\n",
        "min         0.000000       0.000000       0.000000       0.000000\n",
        "25%         0.000000       0.000000       0.000000       0.000000\n",
        "50%         0.000000       0.000000       0.000000       0.000000\n",
        "75%         0.000000       0.000000       0.000000       0.000000\n",
        "max         0.319446      60.381573      22.628662      17.486578"
       ]
      },
      {
       "output_type": "stream",
       "stream": "stdout",
       "text": [
        "\n",
        "Time to execute model 'price_vars': 14.27s\n",
        "Running model 'subsidized_residential_developer'\n",
        "Describe of the yearly rent by use"
       ]
      },
      {
       "output_type": "stream",
       "stream": "stdout",
       "text": [
        "\n",
        "               retail      industrial          office     residential\n",
        "count  1365033.000000  1365033.000000  1365033.000000  1364794.000000\n",
        "mean        60.381573       17.486578       22.628662        0.019084\n",
        "std          0.000003        0.000001        0.000000        0.001204\n",
        "min         60.381573       17.486578       22.628662        0.000000\n",
        "25%         60.381573       17.486578       22.628662        0.018398\n",
        "50%         60.381573       17.486578       22.628662        0.019421\n",
        "75%         60.381573       17.486578       22.628662        0.019941\n",
        "max         60.381573       17.486578       22.628662        0.021765"
       ]
      },
      {
       "output_type": "stream",
       "stream": "stdout",
       "text": [
        "\n",
        "Computing feasibility for form residential\n",
        "Subaccount: "
       ]
      },
      {
       "output_type": "stream",
       "stream": "stdout",
       "text": [
        " -2\n",
        "Subaccount:  -1\n",
        "Subaccount:  1\n",
        "Subaccount:  2\n",
        "Subaccount:  3\n",
        "Subaccount:  4\n",
        "Subaccount:  5\n",
        "Subaccount:  6\n",
        "Subaccount:  7\n",
        "Subaccount:  8\n",
        "Subaccount:  9\n",
        "Subaccount:  10\n",
        "Subaccount:  11\n",
        "Subaccount:  12\n",
        "Subaccount:  13\n",
        "Subaccount:  14\n",
        "Subaccount:  15\n",
        "Subaccount:  16\n",
        "Amount in subaccount: $1,211,791.93\n",
        "Building 1 subsidized buildings\n",
        "Subaccount: "
       ]
      },
      {
       "output_type": "stream",
       "stream": "stdout",
       "text": [
        " 17\n",
        "Subaccount:  18\n",
        "Subaccount:  19\n",
        "Amount in subaccount: $209,484.51\n",
        "Subaccount:  20\n",
        "Subaccount:  21\n",
        "Subaccount:  22\n",
        "Subaccount:  23\n",
        "Subaccount:  24\n",
        "Subaccount:  25\n",
        "Subaccount:  26\n",
        "Subaccount:  27\n",
        "Subaccount:  28\n",
        "Subaccount:  29\n",
        "Subaccount:  30\n",
        "Subaccount:  31\n",
        "Subaccount:  32\n",
        "Subaccount:  33\n",
        "Subaccount:  34\n",
        "Subaccount:  35\n",
        "Subaccount:  36\n",
        "Subaccount:  37\n",
        "Subaccount:  38\n",
        "Subaccount:  39\n",
        "Subaccount:  40\n",
        "Subaccount:  41\n",
        "Subaccount:  42\n",
        "Subaccount:  43\n",
        "Subaccount:  44\n",
        "Subaccount:  45\n",
        "Subaccount:  46\n",
        "Subaccount:  47\n",
        "Subaccount:  48\n",
        "Subaccount:  49\n",
        "Subaccount:  50\n",
        "Subaccount:  51\n",
        "Subaccount:  52\n",
        "Subaccount:  53\n",
        "Subaccount:  54\n",
        "Subaccount:  55\n",
        "Subaccount:  56\n",
        "Subaccount:  57\n",
        "Subaccount:  58\n",
        "Subaccount:  59\n",
        "Subaccount:  60\n",
        "Subaccount:  61\n",
        "Subaccount:  63\n",
        "Subaccount:  64\n",
        "Subaccount:  65\n",
        "Subaccount:  66\n",
        "Subaccount:  67\n",
        "Subaccount:  68\n",
        "Subaccount:  69\n",
        "Subaccount:  70\n",
        "Subaccount:  71\n",
        "Subaccount:  72\n",
        "Subaccount:  73\n",
        "Subaccount:  74\n",
        "Amount in subaccount: $540,508.35\n",
        "Subaccount:  75\n",
        "Subaccount:  76\n",
        "Subaccount:  77\n",
        "Subaccount:  78\n",
        "Subaccount:  79\n",
        "Subaccount:  80\n",
        "Subaccount:  81\n",
        "Subaccount:  82\n",
        "Subaccount:  83\n",
        "Subaccount:  84\n",
        "Subaccount:  85\n",
        "Subaccount:  86\n",
        "Subaccount:  87\n",
        "Subaccount:  88\n",
        "Subaccount:  89\n",
        "Subaccount:  90\n",
        "Subaccount:  91\n",
        "Subaccount:  92\n",
        "Subaccount: "
       ]
      },
      {
       "output_type": "stream",
       "stream": "stdout",
       "text": [
        " 93\n",
        "Subaccount:  94\n",
        "Amount in subaccount: $2,299,991.55\n",
        "Building 1 subsidized buildings\n",
        "Subaccount: "
       ]
      },
      {
       "output_type": "stream",
       "stream": "stdout",
       "text": [
        " 95\n",
        "Subaccount:  96\n",
        "Subaccount:  97\n",
        "Subaccount:  98\n",
        "Subaccount:  99\n",
        "Subaccount:  100\n",
        "Subaccount:  101\n"
       ]
      },
      {
       "ename": "ValueError",
       "evalue": "All objects passed were None",
       "output_type": "pyerr",
       "traceback": [
        "\u001b[1;31m---------------------------------------------------------------------------\u001b[0m\n\u001b[1;31mValueError\u001b[0m                                Traceback (most recent call last)",
        "\u001b[1;32m<ipython-input-2-bb8470aca611>\u001b[0m in \u001b[0;36m<module>\u001b[1;34m()\u001b[0m\n\u001b[0;32m     18\u001b[0m     \u001b[1;34m\"price_vars\"\u001b[0m\u001b[1;33m,\u001b[0m                \u001b[1;31m# compute average price measures\u001b[0m\u001b[1;33m\u001b[0m\u001b[0m\n\u001b[0;32m     19\u001b[0m     \u001b[1;34m\"subsidized_residential_developer\"\u001b[0m     \u001b[1;31m# build residential buildings\u001b[0m\u001b[1;33m\u001b[0m\u001b[0m\n\u001b[1;32m---> 20\u001b[1;33m ], years=range(in_year, out_year))\n\u001b[0m\u001b[0;32m     21\u001b[0m \u001b[1;32mprint\u001b[0m \u001b[1;34m\"Finished\"\u001b[0m\u001b[1;33m,\u001b[0m \u001b[0mtime\u001b[0m\u001b[1;33m.\u001b[0m\u001b[0mctime\u001b[0m\u001b[1;33m(\u001b[0m\u001b[1;33m)\u001b[0m\u001b[1;33m\u001b[0m\u001b[0m\n",
        "\u001b[1;32mc:\\urbansim\\urbansim\\sim\\simulation.pyc\u001b[0m in \u001b[0;36mrun\u001b[1;34m(models, years, data_out, out_interval)\u001b[0m\n\u001b[0;32m   1458\u001b[0m                 \u001b[0mmodel\u001b[0m \u001b[1;33m=\u001b[0m \u001b[0mget_model\u001b[0m\u001b[1;33m(\u001b[0m\u001b[0mmodel_name\u001b[0m\u001b[1;33m)\u001b[0m\u001b[1;33m\u001b[0m\u001b[0m\n\u001b[0;32m   1459\u001b[0m                 \u001b[0mt2\u001b[0m \u001b[1;33m=\u001b[0m \u001b[0mtime\u001b[0m\u001b[1;33m.\u001b[0m\u001b[0mtime\u001b[0m\u001b[1;33m(\u001b[0m\u001b[1;33m)\u001b[0m\u001b[1;33m\u001b[0m\u001b[0m\n\u001b[1;32m-> 1460\u001b[1;33m                 \u001b[0mmodel\u001b[0m\u001b[1;33m(\u001b[0m\u001b[1;33m)\u001b[0m\u001b[1;33m\u001b[0m\u001b[0m\n\u001b[0m\u001b[0;32m   1461\u001b[0m                 print(\"Time to execute model '{}': {:.2f}s\".format(\n\u001b[0;32m   1462\u001b[0m                       model_name, time.time()-t2))\n",
        "\u001b[1;32mc:\\urbansim\\urbansim\\sim\\simulation.pyc\u001b[0m in \u001b[0;36m__call__\u001b[1;34m(self)\u001b[0m\n\u001b[0;32m    670\u001b[0m             kwargs = _collect_variables(names=self._argspec.args,\n\u001b[0;32m    671\u001b[0m                                         expressions=self._argspec.defaults)\n\u001b[1;32m--> 672\u001b[1;33m             \u001b[1;32mreturn\u001b[0m \u001b[0mself\u001b[0m\u001b[1;33m.\u001b[0m\u001b[0m_func\u001b[0m\u001b[1;33m(\u001b[0m\u001b[1;33m**\u001b[0m\u001b[0mkwargs\u001b[0m\u001b[1;33m)\u001b[0m\u001b[1;33m\u001b[0m\u001b[0m\n\u001b[0m\u001b[0;32m    673\u001b[0m \u001b[1;33m\u001b[0m\u001b[0m\n\u001b[0;32m    674\u001b[0m     \u001b[1;32mdef\u001b[0m \u001b[0m_tables_used\u001b[0m\u001b[1;33m(\u001b[0m\u001b[0mself\u001b[0m\u001b[1;33m)\u001b[0m\u001b[1;33m:\u001b[0m\u001b[1;33m\u001b[0m\u001b[0m\n",
        "\u001b[1;32mc:\\mtc\\bayarea_urbansim\\models.pyc\u001b[0m in \u001b[0;36msubsidized_residential_developer\u001b[1;34m(households, buildings, parcels, parcels_geography, year, acct_settings, settings, summary, coffer, form_to_btype_func, add_extra_columns_func, parcel_sales_price_sqft_func, parcel_is_allowed_func)\u001b[0m\n\u001b[0;32m    305\u001b[0m                              \u001b[0mform_to_btype_func\u001b[0m\u001b[1;33m,\u001b[0m\u001b[1;33m\u001b[0m\u001b[0m\n\u001b[0;32m    306\u001b[0m                              \u001b[0madd_extra_columns_func\u001b[0m\u001b[1;33m,\u001b[0m\u001b[1;33m\u001b[0m\u001b[0m\n\u001b[1;32m--> 307\u001b[1;33m                              summary)\n\u001b[0m\u001b[0;32m    308\u001b[0m \u001b[1;33m\u001b[0m\u001b[0m\n\u001b[0;32m    309\u001b[0m \u001b[1;33m\u001b[0m\u001b[0m\n",
        "\u001b[1;32mc:\\mtc\\bayarea_urbansim\\models.pyc\u001b[0m in \u001b[0;36mrun_subsidized_developer\u001b[1;34m(feasibility, parcels, buildings, households, acct_settings, settings, account, year, form_to_btype_func, add_extra_columns_func, summary)\u001b[0m\n\u001b[0;32m    260\u001b[0m         \u001b[0mnew_buildings_list\u001b[0m\u001b[1;33m.\u001b[0m\u001b[0mappend\u001b[0m\u001b[1;33m(\u001b[0m\u001b[0mnew_buildings\u001b[0m\u001b[1;33m)\u001b[0m\u001b[1;33m\u001b[0m\u001b[0m\n\u001b[0;32m    261\u001b[0m \u001b[1;33m\u001b[0m\u001b[0m\n\u001b[1;32m--> 262\u001b[1;33m     \u001b[0mnew_buildings\u001b[0m \u001b[1;33m=\u001b[0m \u001b[0mpd\u001b[0m\u001b[1;33m.\u001b[0m\u001b[0mconcat\u001b[0m\u001b[1;33m(\u001b[0m\u001b[0mnew_buildings_list\u001b[0m\u001b[1;33m)\u001b[0m\u001b[1;33m\u001b[0m\u001b[0m\n\u001b[0m\u001b[0;32m    263\u001b[0m     \u001b[1;32mprint\u001b[0m \u001b[1;34m\"Built {} total subsidized buildings\"\u001b[0m\u001b[1;33m.\u001b[0m\u001b[0mformat\u001b[0m\u001b[1;33m(\u001b[0m\u001b[0mlen\u001b[0m\u001b[1;33m(\u001b[0m\u001b[0mnew_buildings\u001b[0m\u001b[1;33m)\u001b[0m\u001b[1;33m)\u001b[0m\u001b[1;33m\u001b[0m\u001b[0m\n\u001b[0;32m    264\u001b[0m     \u001b[1;32mprint\u001b[0m \u001b[1;34m\"    Total subsidy: ${:,.2f}\"\u001b[0m\u001b[1;33m.\u001b[0m\u001b[0mformat\u001b[0m\u001b[1;33m(\u001b[0m\u001b[1;33m-\u001b[0m\u001b[1;36m1\u001b[0m\u001b[1;33m*\u001b[0m\u001b[0mnew_buildings\u001b[0m\u001b[1;33m.\u001b[0m\u001b[0mmax_profit\u001b[0m\u001b[1;33m.\u001b[0m\u001b[0msum\u001b[0m\u001b[1;33m(\u001b[0m\u001b[1;33m)\u001b[0m\u001b[1;33m)\u001b[0m\u001b[1;33m\u001b[0m\u001b[0m\n",
        "\u001b[1;32mc:\\Anaconda\\lib\\site-packages\\pandas\\tools\\merge.pyc\u001b[0m in \u001b[0;36mconcat\u001b[1;34m(objs, axis, join, join_axes, ignore_index, keys, levels, names, verify_integrity, copy)\u001b[0m\n\u001b[0;32m    722\u001b[0m                        \u001b[0mkeys\u001b[0m\u001b[1;33m=\u001b[0m\u001b[0mkeys\u001b[0m\u001b[1;33m,\u001b[0m \u001b[0mlevels\u001b[0m\u001b[1;33m=\u001b[0m\u001b[0mlevels\u001b[0m\u001b[1;33m,\u001b[0m \u001b[0mnames\u001b[0m\u001b[1;33m=\u001b[0m\u001b[0mnames\u001b[0m\u001b[1;33m,\u001b[0m\u001b[1;33m\u001b[0m\u001b[0m\n\u001b[0;32m    723\u001b[0m                        \u001b[0mverify_integrity\u001b[0m\u001b[1;33m=\u001b[0m\u001b[0mverify_integrity\u001b[0m\u001b[1;33m,\u001b[0m\u001b[1;33m\u001b[0m\u001b[0m\n\u001b[1;32m--> 724\u001b[1;33m                        copy=copy)\n\u001b[0m\u001b[0;32m    725\u001b[0m     \u001b[1;32mreturn\u001b[0m \u001b[0mop\u001b[0m\u001b[1;33m.\u001b[0m\u001b[0mget_result\u001b[0m\u001b[1;33m(\u001b[0m\u001b[1;33m)\u001b[0m\u001b[1;33m\u001b[0m\u001b[0m\n\u001b[0;32m    726\u001b[0m \u001b[1;33m\u001b[0m\u001b[0m\n",
        "\u001b[1;32mc:\\Anaconda\\lib\\site-packages\\pandas\\tools\\merge.pyc\u001b[0m in \u001b[0;36m__init__\u001b[1;34m(self, objs, axis, join, join_axes, keys, levels, names, ignore_index, verify_integrity, copy)\u001b[0m\n\u001b[0;32m    767\u001b[0m \u001b[1;33m\u001b[0m\u001b[0m\n\u001b[0;32m    768\u001b[0m         \u001b[1;32mif\u001b[0m \u001b[0mlen\u001b[0m\u001b[1;33m(\u001b[0m\u001b[0mobjs\u001b[0m\u001b[1;33m)\u001b[0m \u001b[1;33m==\u001b[0m \u001b[1;36m0\u001b[0m\u001b[1;33m:\u001b[0m\u001b[1;33m\u001b[0m\u001b[0m\n\u001b[1;32m--> 769\u001b[1;33m             \u001b[1;32mraise\u001b[0m \u001b[0mValueError\u001b[0m\u001b[1;33m(\u001b[0m\u001b[1;34m'All objects passed were None'\u001b[0m\u001b[1;33m)\u001b[0m\u001b[1;33m\u001b[0m\u001b[0m\n\u001b[0m\u001b[0;32m    770\u001b[0m \u001b[1;33m\u001b[0m\u001b[0m\n\u001b[0;32m    771\u001b[0m         \u001b[1;31m# consolidate data & figure out what our result ndim is going to be\u001b[0m\u001b[1;33m\u001b[0m\u001b[1;33m\u001b[0m\u001b[0m\n",
        "\u001b[1;31mValueError\u001b[0m: All objects passed were None"
       ]
      }
     ],
     "prompt_number": 2
    }
   ],
   "metadata": {}
  }
 ]
}