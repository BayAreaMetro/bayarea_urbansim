{
 "metadata": {
  "name": "",
  "signature": "sha256:a7ae72caa01647859d13e233b4aea1e38592e9fb7634e8df849b7a688d451e48"
 },
 "nbformat": 3,
 "nbformat_minor": 0,
 "worksheets": [
  {
   "cells": [
    {
     "cell_type": "code",
     "collapsed": false,
     "input": [
      "%load_ext autoreload\n",
      "%autoreload 1\n",
      "%aimport bayarea.models\n",
      "%aimport bayarea.dataset\n",
      "%aimport bayarea.feasibility\n",
      "%aimport bayarea.developer\n",
      "models = bayarea.models\n",
      "dataset = bayarea.dataset\n",
      "feasibility = bayarea.feasibility\n",
      "developer = bayarea.developer"
     ],
     "language": "python",
     "metadata": {},
     "outputs": [],
     "prompt_number": 1
    },
    {
     "cell_type": "code",
     "collapsed": false,
     "input": [
      "dset = dataset.BayAreaDataset(\"data/bayarea.h5\")"
     ],
     "language": "python",
     "metadata": {},
     "outputs": [],
     "prompt_number": 2
    },
    {
     "cell_type": "code",
     "collapsed": false,
     "input": [
      "models.build_networks()"
     ],
     "language": "python",
     "metadata": {},
     "outputs": [],
     "prompt_number": 3
    },
    {
     "cell_type": "code",
     "collapsed": false,
     "input": [
      "models.neighborhood_vars(dset)"
     ],
     "language": "python",
     "metadata": {},
     "outputs": [
      {
       "output_type": "stream",
       "stream": "stdout",
       "text": [
        "Adding xys to dataframe: households\n",
        "WARNING: imputing building square feet where it doesn't exist"
       ]
      },
      {
       "output_type": "stream",
       "stream": "stdout",
       "text": [
        "\n",
        "WARNING: imputing lot size where it doesn't exist"
       ]
      },
      {
       "output_type": "stream",
       "stream": "stdout",
       "text": [
        "\n",
        "Adding xys to dataframe: jobs"
       ]
      },
      {
       "output_type": "stream",
       "stream": "stdout",
       "text": [
        "\n",
        "Computing accessibility variables"
       ]
      },
      {
       "output_type": "stream",
       "stream": "stdout",
       "text": [
        "\n",
        "Computing sum_residential_units\n",
        "    dataframe = buildings, varname=residential_units\n",
        "    radius = 500, aggregation = AGG_SUM, decay = DECAY_LINEAR\n",
        "Computing sum_nonresidential_units"
       ]
      },
      {
       "output_type": "stream",
       "stream": "stdout",
       "text": [
        "\n",
        "    dataframe = buildings, varname=non_residential_units\n",
        "    radius = 500, aggregation = AGG_SUM, decay = DECAY_LINEAR\n",
        "Computing ave_unit_sqft"
       ]
      },
      {
       "output_type": "stream",
       "stream": "stdout",
       "text": [
        "\n",
        "    dataframe = buildings, varname=unit_sqft\n",
        "    radius = 500, aggregation = AGG_AVE, decay = DECAY_FLAT\n",
        "Computing ave_lot_sqft"
       ]
      },
      {
       "output_type": "stream",
       "stream": "stdout",
       "text": [
        "\n",
        "    dataframe = buildings, varname=unit_lot_size\n",
        "    radius = 500, aggregation = AGG_AVE, decay = DECAY_FLAT\n",
        "Computing population"
       ]
      },
      {
       "output_type": "stream",
       "stream": "stdout",
       "text": [
        "\n",
        "    dataframe = households, varname=persons\n",
        "    radius = 500, aggregation = AGG_SUM, decay = DECAY_LINEAR\n",
        "Computing poor"
       ]
      },
      {
       "output_type": "stream",
       "stream": "stdout",
       "text": [
        "\n",
        "    dataframe = households, varname=persons"
       ]
      },
      {
       "output_type": "stream",
       "stream": "stdout",
       "text": [
        "\n",
        "    radius = 500, aggregation = AGG_SUM, decay = DECAY_LINEAR\n",
        "Computing renters"
       ]
      },
      {
       "output_type": "stream",
       "stream": "stdout",
       "text": [
        "\n",
        "    dataframe = households, varname=None"
       ]
      },
      {
       "output_type": "stream",
       "stream": "stdout",
       "text": [
        "\n",
        "    radius = 500, aggregation = AGG_SUM, decay = DECAY_LINEAR\n",
        "Computing sfdu"
       ]
      },
      {
       "output_type": "stream",
       "stream": "stdout",
       "text": [
        "\n",
        "    dataframe = buildings, varname=None"
       ]
      },
      {
       "output_type": "stream",
       "stream": "stdout",
       "text": [
        "\n",
        "    radius = 500, aggregation = AGG_SUM, decay = DECAY_LINEAR\n",
        "Computing hhsize"
       ]
      },
      {
       "output_type": "stream",
       "stream": "stdout",
       "text": [
        "\n",
        "    dataframe = households, varname=persons\n",
        "    radius = 500, aggregation = AGG_AVE, decay = DECAY_FLAT\n",
        "Computing jobs"
       ]
      },
      {
       "output_type": "stream",
       "stream": "stdout",
       "text": [
        "\n",
        "    dataframe = jobs, varname=emp11\n",
        "    radius = 500, aggregation = AGG_SUM, decay = DECAY_LINEAR\n",
        "Computing ave_income"
       ]
      },
      {
       "output_type": "stream",
       "stream": "stdout",
       "text": [
        "\n",
        "    dataframe = households, varname=income\n",
        "    radius = 500, aggregation = AGG_AVE, decay = DECAY_FLAT\n"
       ]
      }
     ],
     "prompt_number": 4
    },
    {
     "cell_type": "code",
     "collapsed": false,
     "input": [
      "models.rsh_estimate(dset)"
     ],
     "language": "python",
     "metadata": {},
     "outputs": [
      {
       "output_type": "stream",
       "stream": "stdout",
       "text": [
        "Running hedonic estimation\n",
        "\n",
        "                               OLS Regression Results                               \n",
        "====================================================================================\n",
        "Dep. Variable:     np.log1p(sale_price_flt)   R-squared:                       0.089\n",
        "Model:                                  OLS   Adj. R-squared:                  0.089\n",
        "Method:                       Least Squares   F-statistic:                     2096.\n",
        "Date:                      Mon, 19 May 2014   Prob (F-statistic):               0.00\n",
        "Time:                              09:54:35   Log-Likelihood:            -1.5844e+05\n",
        "No. Observations:                    194138   AIC:                         3.169e+05\n",
        "Df Residuals:                        194128   BIC:                         3.170e+05\n",
        "Df Model:                                 9                                         \n",
        "================================================================================================\n",
        "                                   coef    std err          t      P>|t|      [95.0% Conf. Int.]\n",
        "------------------------------------------------------------------------------------------------\n",
        "Intercept                        5.7410      0.040    144.427      0.000         5.663     5.819\n",
        "I(year_built < 1940)[T.True]     0.1970      0.004     47.478      0.000         0.189     0.205\n",
        "I(year_built > 2005)[T.True]     0.0615      0.007      8.703      0.000         0.048     0.075\n",
        "np.log1p(unit_sqft)             -0.1877      0.003    -53.681      0.000        -0.195    -0.181\n",
        "np.log1p(unit_lot_size)          0.0812      0.002     47.825      0.000         0.078     0.085\n",
        "sum_residential_units           -0.0800      0.002    -36.021      0.000        -0.084    -0.076\n",
        "ave_unit_sqft                   -0.0649      0.005    -14.110      0.000        -0.074    -0.056\n",
        "ave_lot_sqft                    -0.0229      0.002    -10.843      0.000        -0.027    -0.019\n",
        "ave_income                       0.1128      0.001     89.160      0.000         0.110     0.115\n",
        "jobs                             0.0435      0.001     70.770      0.000         0.042     0.045\n",
        "==============================================================================\n",
        "Omnibus:                      206.421   Durbin-Watson:                   0.534\n",
        "Prob(Omnibus):                  0.000   Jarque-Bera (JB):              196.413\n",
        "Skew:                          -0.057   Prob(JB):                     2.24e-43\n",
        "Kurtosis:                       2.895   Cond. No.                         686.\n",
        "=============================================================================="
       ]
      },
      {
       "output_type": "stream",
       "stream": "stdout",
       "text": [
        "\n"
       ]
      }
     ],
     "prompt_number": 7
    },
    {
     "cell_type": "code",
     "collapsed": false,
     "input": [
      "models.rrh_estimate(dset)"
     ],
     "language": "python",
     "metadata": {},
     "outputs": [
      {
       "output_type": "stream",
       "stream": "stdout",
       "text": [
        "Running hedonic estimation\n",
        "\n",
        "                            OLS Regression Results                            \n",
        "==============================================================================\n",
        "Dep. Variable:         np.log1p(rent)   R-squared:                       0.220\n",
        "Model:                            OLS   Adj. R-squared:                  0.219\n",
        "Method:                 Least Squares   F-statistic:                     242.4\n",
        "Date:                Fri, 16 May 2014   Prob (F-statistic):          1.26e-228\n",
        "Time:                        11:47:12   Log-Likelihood:                 2044.3\n",
        "No. Observations:                4298   AIC:                            -4077.\n",
        "Df Residuals:                    4292   BIC:                            -4038.\n",
        "Df Model:                           5                                         \n",
        "=========================================================================================\n",
        "                            coef    std err          t      P>|t|      [95.0% Conf. Int.]\n",
        "-----------------------------------------------------------------------------------------\n",
        "Intercept                 2.1776      0.073     29.891      0.000         2.035     2.320\n",
        "np.log1p(unit_sqft)      -0.1993      0.008    -25.320      0.000        -0.215    -0.184\n",
        "sum_residential_units     0.0241      0.003      8.105      0.000         0.018     0.030\n",
        "ave_unit_sqft            -0.0119      0.008     -1.514      0.130        -0.027     0.003\n",
        "ave_lot_sqft              0.0053      0.003      1.688      0.091        -0.001     0.011\n",
        "jobs                      0.0142      0.001     18.413      0.000         0.013     0.016\n",
        "==============================================================================\n",
        "Omnibus:                      265.440   Durbin-Watson:                   0.498\n",
        "Prob(Omnibus):                  0.000   Jarque-Bera (JB):              345.707\n",
        "Skew:                           0.574   Prob(JB):                     8.53e-76\n",
        "Kurtosis:                       3.783   Cond. No.                         536.\n",
        "=============================================================================="
       ]
      },
      {
       "output_type": "stream",
       "stream": "stdout",
       "text": [
        "\n"
       ]
      }
     ],
     "prompt_number": 9
    },
    {
     "cell_type": "code",
     "collapsed": false,
     "input": [
      "models.nrh_estimate(dset)"
     ],
     "language": "python",
     "metadata": {},
     "outputs": [
      {
       "output_type": "stream",
       "stream": "stdout",
       "text": [
        "Running hedonic estimation\n",
        "\n",
        "                                  OLS Regression Results                                 \n",
        "=========================================================================================\n",
        "Dep. Variable:     np.log1p(averageweightedrent)   R-squared:                       0.219\n",
        "Model:                                       OLS   Adj. R-squared:                  0.218\n",
        "Method:                            Least Squares   F-statistic:                     401.3\n",
        "Date:                           Fri, 16 May 2014   Prob (F-statistic):               0.00\n",
        "Time:                                   11:47:16   Log-Likelihood:                -4932.4\n",
        "No. Observations:                           7176   AIC:                             9877.\n",
        "Df Residuals:                               7170   BIC:                             9918.\n",
        "Df Model:                                      5                                         \n",
        "================================================================================================\n",
        "                                   coef    std err          t      P>|t|      [95.0% Conf. Int.]\n",
        "------------------------------------------------------------------------------------------------\n",
        "Intercept                        2.0206      0.030     66.900      0.000         1.961     2.080\n",
        "I(year_built < 1940)[T.True]     0.1407      0.014      9.714      0.000         0.112     0.169\n",
        "I(year_built > 2005)[T.True]     0.2670      0.033      7.988      0.000         0.201     0.332\n",
        "np.log1p(stories)                0.4893      0.014     34.773      0.000         0.462     0.517\n",
        "ave_income                       0.0215      0.002     14.182      0.000         0.019     0.025\n",
        "jobs                             0.0045      0.003      1.803      0.071        -0.000     0.009\n",
        "==============================================================================\n",
        "Omnibus:                      215.102   Durbin-Watson:                   1.564\n",
        "Prob(Omnibus):                  0.000   Jarque-Bera (JB):              558.317\n",
        "Skew:                           0.054   Prob(JB):                    5.80e-122\n",
        "Kurtosis:                       4.362   Cond. No.                         85.9\n",
        "=============================================================================="
       ]
      },
      {
       "output_type": "stream",
       "stream": "stdout",
       "text": [
        "\n"
       ]
      }
     ],
     "prompt_number": 10
    },
    {
     "cell_type": "code",
     "collapsed": false,
     "input": [
      "models.rsh_simulate(dset)\n",
      "models.rrh_simulate(dset)\n",
      "models.nrh_simulate(dset)"
     ],
     "language": "python",
     "metadata": {},
     "outputs": [
      {
       "output_type": "stream",
       "stream": "stdout",
       "text": [
        "Running hedonic simulation\n",
        "\n",
        "count    1788632.00\n",
        "mean           1.23\n",
        "std           10.70\n",
        "min            0.09\n",
        "25%            0.30\n",
        "50%            0.36\n",
        "75%            0.43\n",
        "max         2444.07\n",
        "dtype: float64"
       ]
      },
      {
       "output_type": "stream",
       "stream": "stdout",
       "text": [
        "\n",
        "Running hedonic simulation\n"
       ]
      },
      {
       "output_type": "stream",
       "stream": "stdout",
       "text": [
        "\n",
        "count    1788632.00\n",
        "mean           1.83\n",
        "std            0.38\n",
        "min            0.29\n",
        "25%            1.68\n",
        "50%            1.85\n",
        "75%            2.01\n",
        "max           11.14\n",
        "dtype: float64"
       ]
      },
      {
       "output_type": "stream",
       "stream": "stdout",
       "text": [
        "\n",
        "Running hedonic simulation\n"
       ]
      },
      {
       "output_type": "stream",
       "stream": "stdout",
       "text": [
        "\n",
        "count    147627.00\n",
        "mean        231.27\n",
        "std         635.95\n",
        "min           1.17\n",
        "25%          25.89\n",
        "50%          88.34\n",
        "75%         203.21\n",
        "max       82890.83\n",
        "dtype: float64"
       ]
      },
      {
       "output_type": "stream",
       "stream": "stdout",
       "text": [
        "\n"
       ]
      }
     ],
     "prompt_number": 5
    },
    {
     "cell_type": "code",
     "collapsed": false,
     "input": [
      "models.hlcmo_estimate(dset)"
     ],
     "language": "python",
     "metadata": {},
     "outputs": [
      {
       "output_type": "stream",
       "stream": "stdout",
       "text": [
        "Running location choice model estimation\n",
        "\n",
        "Removing 12 choice situations because chosen alt doesn't exist"
       ]
      },
      {
       "output_type": "stream",
       "stream": "stdout",
       "text": [
        "\n",
        "Null Log-liklihood: -22970.589"
       ]
      },
      {
       "output_type": "stream",
       "stream": "stdout",
       "text": [
        "\n",
        "Log-liklihood at convergence: -22907.438\n",
        "Log-liklihood Ratio: 0.003\n",
        "\n",
        "+-----------------------------------+-------------+------------+---------+\n",
        "| Component                         | Coefficient | Std. Error | T-Score |\n",
        "+-----------------------------------+-------------+------------+---------+\n",
        "| np.log1p(residential_sales_price) |    -0.061   |   0.047    |  -1.300 |\n",
        "| np.log1p(unit_sqft)               |    -0.346   |   0.028    | -12.443 |\n",
        "| sum_residential_units             |    0.095    |   0.018    |  5.151  |\n",
        "| ave_unit_sqft                     |    0.400    |   0.059    |  6.823  |\n",
        "| ave_lot_sqft                      |    0.060    |   0.020    |  2.973  |\n",
        "| ave_income                        |    0.147    |   0.025    |  5.911  |\n",
        "+-----------------------------------+-------------+------------+---------+\n"
       ]
      }
     ],
     "prompt_number": 6
    },
    {
     "cell_type": "code",
     "collapsed": false,
     "input": [
      "models.hlcmr_estimate(dset)"
     ],
     "language": "python",
     "metadata": {},
     "outputs": [
      {
       "output_type": "stream",
       "stream": "stdout",
       "text": [
        "Running location choice model estimation\n",
        "\n",
        "Removing 44 choice situations because chosen alt doesn't exist"
       ]
      },
      {
       "output_type": "stream",
       "stream": "stdout",
       "text": [
        "\n",
        "Null Log-liklihood: -22823.223"
       ]
      },
      {
       "output_type": "stream",
       "stream": "stdout",
       "text": [
        "\n",
        "Log-liklihood at convergence: -19149.253\n",
        "Log-liklihood Ratio: 0.161\n",
        "\n",
        "+----------------------------+-------------+------------+---------+\n",
        "| Component                  | Coefficient | Std. Error | T-Score |\n",
        "+----------------------------+-------------+------------+---------+\n",
        "| np.log1p(residential_rent) |    -0.703   |   0.200    |  -3.508 |\n",
        "| np.log1p(unit_sqft)        |    -0.977   |   0.019    | -51.470 |\n",
        "| sum_residential_units      |    1.124    |   0.021    |  54.814 |\n",
        "| ave_unit_sqft              |    0.715    |   0.063    |  11.366 |\n",
        "| ave_lot_sqft               |    0.431    |   0.029    |  14.859 |\n",
        "| ave_income                 |    -0.285   |   0.028    | -10.098 |\n",
        "+----------------------------+-------------+------------+---------+\n"
       ]
      }
     ],
     "prompt_number": 7
    },
    {
     "cell_type": "code",
     "collapsed": false,
     "input": [
      "models.elcm_estimate(dset)"
     ],
     "language": "python",
     "metadata": {},
     "outputs": [
      {
       "output_type": "stream",
       "stream": "stdout",
       "text": [
        "Running location choice model estimation\n",
        "\n",
        "Removing 1437 choice situations because chosen alt doesn't exist"
       ]
      },
      {
       "output_type": "stream",
       "stream": "stdout",
       "text": [
        "\n",
        "Null Log-liklihood: -16408.221"
       ]
      },
      {
       "output_type": "stream",
       "stream": "stdout",
       "text": [
        "\n",
        "Log-liklihood at convergence: -13925.556\n",
        "Log-liklihood Ratio: 0.151\n",
        "\n",
        "+--------------------------------+-------------+------------+---------+\n",
        "| Component                      | Coefficient | Std. Error | T-Score |\n",
        "+--------------------------------+-------------+------------+---------+\n",
        "| np.log1p(non_residential_rent) |    -1.109   |   0.090    | -12.367 |\n",
        "| np.log1p(stories)              |    0.545    |   0.037    |  14.737 |\n",
        "| ave_income                     |    -0.050   |   0.004    | -12.479 |\n",
        "| sum_nonresidential_units       |    -0.110   |   0.014    |  -7.962 |\n",
        "| jobs                           |    0.942    |   0.044    |  21.354 |\n",
        "+--------------------------------+-------------+------------+---------+\n"
       ]
      }
     ],
     "prompt_number": 8
    },
    {
     "cell_type": "code",
     "collapsed": false,
     "input": [],
     "language": "python",
     "metadata": {},
     "outputs": []
    }
   ],
   "metadata": {}
  }
 ]
}