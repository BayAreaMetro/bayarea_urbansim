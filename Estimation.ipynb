{
 "metadata": {
  "name": "",
  "signature": "sha256:691c159b9f18ca1875c763de38f1eecbd972af7c6bfdd253469a7430fb6a72f9"
 },
 "nbformat": 3,
 "nbformat_minor": 0,
 "worksheets": [
  {
   "cells": [
    {
     "cell_type": "code",
     "collapsed": false,
     "input": [
      "%load_ext autoreload\n",
      "%autoreload 2\n",
      "import models\n",
      "import urbansim.sim.simulation as sim"
     ],
     "language": "python",
     "metadata": {},
     "outputs": [],
     "prompt_number": 1
    },
    {
     "cell_type": "code",
     "collapsed": false,
     "input": [
      "sim.run([\"build_networks\"])"
     ],
     "language": "python",
     "metadata": {},
     "outputs": [
      {
       "output_type": "stream",
       "stream": "stdout",
       "text": [
        "Running model build_networks\n",
        "Time to execute model = 9.927s"
       ]
      },
      {
       "output_type": "stream",
       "stream": "stdout",
       "text": [
        "\n"
       ]
      }
     ],
     "prompt_number": 2
    },
    {
     "cell_type": "heading",
     "level": 2,
     "metadata": {},
     "source": [
      "Compute Variables"
     ]
    },
    {
     "cell_type": "code",
     "collapsed": false,
     "input": [
      "sim.run([\"neighborhood_vars\"])"
     ],
     "language": "python",
     "metadata": {},
     "outputs": [
      {
       "output_type": "stream",
       "stream": "stdout",
       "text": [
        "Running model neighborhood_vars\n",
        "Computing accessibility variables\n",
        "Computing sum_residential_units\n",
        "    Fields available to accvar = residential_units, _node_id0\n",
        "    dataframe = buildings, varname=residential_units"
       ]
      },
      {
       "output_type": "stream",
       "stream": "stdout",
       "text": [
        "\n",
        "    radius = 1500, aggregation = AGG_SUM, decay = DECAY_LINEAR\n",
        "Computing sum_nonresidential_units"
       ]
      },
      {
       "output_type": "stream",
       "stream": "stdout",
       "text": [
        "\n",
        "    Fields available to accvar = non_residential_units, _node_id0\n",
        "    dataframe = buildings, varname=non_residential_units"
       ]
      },
      {
       "output_type": "stream",
       "stream": "stdout",
       "text": [
        "\n",
        "    radius = 1500, aggregation = AGG_SUM, decay = DECAY_LINEAR\n",
        "Computing ave_unit_sqft"
       ]
      },
      {
       "output_type": "stream",
       "stream": "stdout",
       "text": [
        "\n",
        "    Fields available to accvar = unit_sqft, general_type, _node_id0\n",
        "    Filters = ['general_type == \"Residential\"']"
       ]
      },
      {
       "output_type": "stream",
       "stream": "stdout",
       "text": [
        "\n",
        "    dataframe = buildings, varname=unit_sqft\n",
        "    radius = 1500, aggregation = AGG_AVE, decay = DECAY_FLAT\n",
        "Computing ave_lot_sqft"
       ]
      },
      {
       "output_type": "stream",
       "stream": "stdout",
       "text": [
        "\n",
        "    Fields available to accvar = unit_lot_size, _node_id0\n",
        "    dataframe = buildings, varname=unit_lot_size"
       ]
      },
      {
       "output_type": "stream",
       "stream": "stdout",
       "text": [
        "\n",
        "    radius = 1500, aggregation = AGG_AVE, decay = DECAY_FLAT\n",
        "Computing population"
       ]
      },
      {
       "output_type": "stream",
       "stream": "stdout",
       "text": [
        "\n",
        "    Fields available to accvar = persons, _node_id0\n",
        "    dataframe = households, varname=persons"
       ]
      },
      {
       "output_type": "stream",
       "stream": "stdout",
       "text": [
        "\n",
        "    radius = 1500, aggregation = AGG_SUM, decay = DECAY_LINEAR\n",
        "Computing poor"
       ]
      },
      {
       "output_type": "stream",
       "stream": "stdout",
       "text": [
        "\n",
        "    Fields available to accvar = persons, income, _node_id0\n",
        "    Filters = ['income < 40000']"
       ]
      },
      {
       "output_type": "stream",
       "stream": "stdout",
       "text": [
        "\n",
        "    dataframe = households, varname=persons\n",
        "    radius = 1500, aggregation = AGG_SUM, decay = DECAY_LINEAR\n",
        "Computing renters"
       ]
      },
      {
       "output_type": "stream",
       "stream": "stdout",
       "text": [
        "\n",
        "    Fields available to accvar = tenure, _node_id0\n",
        "    Filters = ['tenure == 2']"
       ]
      },
      {
       "output_type": "stream",
       "stream": "stdout",
       "text": [
        "\n",
        "    dataframe = households, varname=None\n",
        "    radius = 1500, aggregation = AGG_SUM, decay = DECAY_LINEAR\n",
        "Computing sfdu"
       ]
      },
      {
       "output_type": "stream",
       "stream": "stdout",
       "text": [
        "\n",
        "    Fields available to accvar = building_type_id, _node_id0\n",
        "    Filters = ['building_type_id == 1']"
       ]
      },
      {
       "output_type": "stream",
       "stream": "stdout",
       "text": [
        "\n",
        "    dataframe = buildings, varname=None\n",
        "    radius = 1500, aggregation = AGG_SUM, decay = DECAY_LINEAR\n",
        "Computing hhsize"
       ]
      },
      {
       "output_type": "stream",
       "stream": "stdout",
       "text": [
        "\n",
        "    Fields available to accvar = persons, _node_id0\n",
        "    dataframe = households, varname=persons"
       ]
      },
      {
       "output_type": "stream",
       "stream": "stdout",
       "text": [
        "\n",
        "    radius = 1500, aggregation = AGG_AVE, decay = DECAY_FLAT\n",
        "Computing jobs"
       ]
      },
      {
       "output_type": "stream",
       "stream": "stdout",
       "text": [
        "\n",
        "    Fields available to accvar = _node_id0\n",
        "    dataframe = jobs, varname=None"
       ]
      },
      {
       "output_type": "stream",
       "stream": "stdout",
       "text": [
        "\n",
        "    radius = 1500, aggregation = AGG_SUM, decay = DECAY_LINEAR\n",
        "Computing ave_income"
       ]
      },
      {
       "output_type": "stream",
       "stream": "stdout",
       "text": [
        "\n",
        "    Fields available to accvar = income, _node_id0\n",
        "    dataframe = households, varname=income"
       ]
      },
      {
       "output_type": "stream",
       "stream": "stdout",
       "text": [
        "\n",
        "    radius = 1500, aggregation = AGG_AVE, decay = DECAY_FLAT\n",
        "Done"
       ]
      },
      {
       "output_type": "stream",
       "stream": "stdout",
       "text": [
        "\n",
        "Time to execute model = 13.838s\n"
       ]
      }
     ],
     "prompt_number": 3
    },
    {
     "cell_type": "heading",
     "level": 2,
     "metadata": {},
     "source": [
      "Hedonic Estimation"
     ]
    },
    {
     "cell_type": "code",
     "collapsed": false,
     "input": [
      "sim.run([\"rsh_estimate\"])"
     ],
     "language": "python",
     "metadata": {},
     "outputs": [
      {
       "output_type": "stream",
       "stream": "stdout",
       "text": [
        "Running model rsh_estimate\n",
        "Running hedonic estimation\n"
       ]
      },
      {
       "output_type": "stream",
       "stream": "stdout",
       "text": [
        "\n",
        "                               OLS Regression Results                               \n",
        "====================================================================================\n",
        "Dep. Variable:     np.log1p(sale_price_flt)   R-squared:                       0.218\n",
        "Model:                                  OLS   Adj. R-squared:                  0.217\n",
        "Method:                       Least Squares   F-statistic:                     303.3\n",
        "Date:                      Sat, 19 Jul 2014   Prob (F-statistic):               0.00\n",
        "Time:                              19:15:44   Log-Likelihood:                -4991.0\n",
        "No. Observations:                      8738   AIC:                         1.000e+04\n",
        "Df Residuals:                          8729   BIC:                         1.006e+04\n",
        "Df Model:                                 8                                         \n",
        "================================================================================================\n",
        "                                   coef    std err          t      P>|t|      [95.0% Conf. Int.]\n",
        "------------------------------------------------------------------------------------------------\n",
        "Intercept                        8.6219      0.113     76.378      0.000         8.401     8.843\n",
        "I(year_built < 1940)[T.True]     0.0435      0.010      4.354      0.000         0.024     0.063\n",
        "I(year_built > 2005)[T.True]     0.0713      0.076      0.933      0.351        -0.079     0.221\n",
        "np.log1p(unit_sqft)             -0.4346      0.010    -44.076      0.000        -0.454    -0.415\n",
        "np.log1p(unit_lot_size)          0.0634      0.007      8.866      0.000         0.049     0.077\n",
        "sum_residential_units            0.0835      0.007     12.487      0.000         0.070     0.097\n",
        "ave_unit_sqft                   -0.0008      0.026     -0.032      0.975        -0.052     0.051\n",
        "ave_lot_sqft                    -0.2833      0.016    -17.246      0.000        -0.315    -0.251\n",
        "ave_income                       0.1634      0.014     11.344      0.000         0.135     0.192\n",
        "==============================================================================\n",
        "Omnibus:                      868.246   Durbin-Watson:                   1.562\n",
        "Prob(Omnibus):                  0.000   Jarque-Bera (JB):             2407.603\n",
        "Skew:                          -0.551   Prob(JB):                         0.00\n",
        "Kurtosis:                       5.323   Cond. No.                         515.\n",
        "=============================================================================="
       ]
      },
      {
       "output_type": "stream",
       "stream": "stdout",
       "text": [
        "\n",
        "Time to execute model = 0.362s\n"
       ]
      }
     ],
     "prompt_number": 4
    },
    {
     "cell_type": "code",
     "collapsed": false,
     "input": [
      "sim.run([\"rrh_estimate\"])"
     ],
     "language": "python",
     "metadata": {},
     "outputs": [
      {
       "output_type": "stream",
       "stream": "stdout",
       "text": [
        "Running model rrh_estimate\n",
        "Running hedonic estimation\n"
       ]
      },
      {
       "output_type": "stream",
       "stream": "stdout",
       "text": [
        "\n",
        "Dropped 4 rows because they contained nas\n",
        "                            OLS Regression Results                            \n",
        "==============================================================================\n",
        "Dep. Variable:         np.log1p(rent)   R-squared:                       0.399\n",
        "Model:                            OLS   Adj. R-squared:                  0.381\n",
        "Method:                 Least Squares   F-statistic:                     22.80\n",
        "Date:                Sat, 19 Jul 2014   Prob (F-statistic):           1.61e-17\n",
        "Time:                        19:15:45   Log-Likelihood:                 95.665\n",
        "No. Observations:                 178   AIC:                            -179.3\n",
        "Df Residuals:                     172   BIC:                            -160.2\n",
        "Df Model:                           5                                         \n",
        "=========================================================================================\n",
        "                            coef    std err          t      P>|t|      [95.0% Conf. Int.]\n",
        "-----------------------------------------------------------------------------------------\n",
        "Intercept                 2.5563      0.386      6.631      0.000         1.795     3.317\n",
        "np.log1p(unit_sqft)      -0.1954      0.030     -6.475      0.000        -0.255    -0.136\n",
        "sum_residential_units    -0.0275      0.024     -1.139      0.256        -0.075     0.020\n",
        "ave_unit_sqft             0.0006      0.015      0.040      0.969        -0.028     0.029\n",
        "ave_lot_sqft             -0.0378      0.028     -1.368      0.173        -0.092     0.017\n",
        "jobs                      0.0755      0.015      5.069      0.000         0.046     0.105\n",
        "==============================================================================\n",
        "Omnibus:                       11.179   Durbin-Watson:                   1.304\n",
        "Prob(Omnibus):                  0.004   Jarque-Bera (JB):               27.185\n",
        "Skew:                          -0.029   Prob(JB):                     1.25e-06\n",
        "Kurtosis:                       4.914   Cond. No.                         668.\n",
        "=============================================================================="
       ]
      },
      {
       "output_type": "stream",
       "stream": "stdout",
       "text": [
        "\n",
        "Time to execute model = 0.194s\n"
       ]
      }
     ],
     "prompt_number": 5
    },
    {
     "cell_type": "code",
     "collapsed": false,
     "input": [
      "sim.run([\"nrh_estimate\"])"
     ],
     "language": "python",
     "metadata": {},
     "outputs": [
      {
       "output_type": "stream",
       "stream": "stdout",
       "text": [
        "Running model nrh_estimate\n",
        "Running hedonic estimation\n"
       ]
      },
      {
       "output_type": "stream",
       "stream": "stdout",
       "text": [
        "\n",
        "REGRESSION RESULTS FOR SEGMENT Retail\n"
       ]
      },
      {
       "output_type": "stream",
       "stream": "stdout",
       "text": [
        "\n",
        "                            OLS Regression Results                            \n",
        "==============================================================================\n",
        "Dep. Variable:         np.log1p(rent)   R-squared:                       0.053\n",
        "Model:                            OLS   Adj. R-squared:                  0.013\n",
        "Method:                 Least Squares   F-statistic:                     1.314\n",
        "Date:                Sat, 19 Jul 2014   Prob (F-statistic):              0.263\n",
        "Time:                        19:15:45   Log-Likelihood:                -73.859\n",
        "No. Observations:                 124   AIC:                             159.7\n",
        "Df Residuals:                     118   BIC:                             176.6\n",
        "Df Model:                           5                                         \n",
        "================================================================================================\n",
        "                                   coef    std err          t      P>|t|      [95.0% Conf. Int.]\n",
        "------------------------------------------------------------------------------------------------\n",
        "Intercept                       -0.8580      2.477     -0.346      0.730        -5.762     4.046\n",
        "I(year_built < 1940)[T.True]    -0.0941      0.105     -0.896      0.372        -0.302     0.114\n",
        "I(year_built > 2005)[T.True]    -0.1046      0.246     -0.426      0.671        -0.591     0.382\n",
        "np.log1p(stories)               -0.0753      0.110     -0.682      0.497        -0.294     0.143\n",
        "ave_income                       0.2974      0.193      1.543      0.125        -0.084     0.679\n",
        "jobs                             0.1150      0.046      2.480      0.015         0.023     0.207\n",
        "==============================================================================\n",
        "Omnibus:                       15.596   Durbin-Watson:                   1.928\n",
        "Prob(Omnibus):                  0.000   Jarque-Bera (JB):               31.788\n",
        "Skew:                           0.492   Prob(JB):                     1.25e-07\n",
        "Kurtosis:                       5.277   Cond. No.                         910.\n",
        "==============================================================================\n",
        "\n",
        "REGRESSION RESULTS FOR SEGMENT Office\n",
        "\n",
        "                            OLS Regression Results                            \n",
        "==============================================================================\n",
        "Dep. Variable:         np.log1p(rent)   R-squared:                       0.044\n",
        "Model:                            OLS   Adj. R-squared:                  0.031\n",
        "Method:                 Least Squares   F-statistic:                     3.490\n",
        "Date:                Sat, 19 Jul 2014   Prob (F-statistic):            0.00426\n",
        "Time:                        19:15:45   Log-Likelihood:                -168.79\n",
        "No. Observations:                 385   AIC:                             349.6\n",
        "Df Residuals:                     379   BIC:                             373.3\n",
        "Df Model:                           5                                         \n",
        "================================================================================================\n",
        "                                   coef    std err          t      P>|t|      [95.0% Conf. Int.]\n",
        "------------------------------------------------------------------------------------------------\n",
        "Intercept                        3.5244      0.207     17.017      0.000         3.117     3.932\n",
        "I(year_built < 1940)[T.True]    -0.0787      0.046     -1.697      0.090        -0.170     0.012\n",
        "I(year_built > 2005)[T.True]    -0.0188      0.173     -0.109      0.913        -0.358     0.321\n",
        "np.log1p(stories)                0.0493      0.035      1.402      0.162        -0.020     0.118\n",
        "ave_income                      -0.0417      0.023     -1.831      0.068        -0.086     0.003\n",
        "jobs                             0.0193      0.018      1.078      0.282        -0.016     0.055\n",
        "==============================================================================\n",
        "Omnibus:                      106.604   Durbin-Watson:                   2.065\n",
        "Prob(Omnibus):                  0.000   Jarque-Bera (JB):              544.911\n",
        "Skew:                           1.074   Prob(JB):                    4.72e-119\n",
        "Kurtosis:                       8.418   Cond. No.                         167.\n",
        "==============================================================================\n",
        "\n",
        "REGRESSION RESULTS FOR SEGMENT Industrial\n",
        "\n",
        "                            OLS Regression Results                            \n",
        "==============================================================================\n",
        "Dep. Variable:         np.log1p(rent)   R-squared:                       0.984\n",
        "Model:                            OLS   Adj. R-squared:                  0.983\n",
        "Method:                 Least Squares   F-statistic:                     931.2\n",
        "Date:                Sat, 19 Jul 2014   Prob (F-statistic):           1.19e-66\n",
        "Time:                        19:15:45   Log-Likelihood:                -21.281\n",
        "No. Observations:                  81   AIC:                             52.56\n",
        "Df Residuals:                      76   BIC:                             64.53\n",
        "Df Model:                           5                                         \n",
        "================================================================================================\n",
        "                                   coef    std err          t      P>|t|      [95.0% Conf. Int.]\n",
        "------------------------------------------------------------------------------------------------\n",
        "Intercept                        2.5185      0.347      7.266      0.000         1.828     3.209\n",
        "I(year_built < 1940)[T.True]     0.0130      0.083      0.156      0.876        -0.152     0.178\n",
        "I(year_built > 2005)[T.True]  3.663e-18   2.39e-17      0.153      0.879      -4.4e-17  5.13e-17\n",
        "np.log1p(stories)                0.0787      0.134      0.588      0.559        -0.188     0.346\n",
        "ave_income                      -0.0389      0.039     -0.996      0.322        -0.117     0.039\n",
        "jobs                             0.0340      0.035      0.958      0.341        -0.037     0.104\n",
        "==============================================================================\n",
        "Omnibus:                        8.547   Durbin-Watson:                   2.047\n",
        "Prob(Omnibus):                  0.014   Jarque-Bera (JB):               18.167\n",
        "Skew:                           0.117   Prob(JB):                     0.000114\n",
        "Kurtosis:                       5.308   Cond. No.                          nan\n",
        "==============================================================================\n",
        "\n",
        "Warnings:\n",
        "[1] The smallest eigenvalue is -6.22e-15. This might indicate that there are\n",
        "strong multicollinearity problems or that the design matrix is singular."
       ]
      },
      {
       "output_type": "stream",
       "stream": "stdout",
       "text": [
        "\n",
        "\n",
        "Time to execute model = 0.280s\n"
       ]
      }
     ],
     "prompt_number": 6
    },
    {
     "cell_type": "heading",
     "level": 2,
     "metadata": {},
     "source": [
      "Hedonic Simulation"
     ]
    },
    {
     "cell_type": "code",
     "collapsed": false,
     "input": [
      "sim.run([\"rsh_simulate\", \"rrh_simulate\", \"nrh_simulate\"])"
     ],
     "language": "python",
     "metadata": {},
     "outputs": [
      {
       "output_type": "stream",
       "stream": "stdout",
       "text": [
        "Running model rsh_simulate\n",
        "Running hedonic simulation\n"
       ]
      },
      {
       "output_type": "stream",
       "stream": "stdout",
       "text": [
        "\n",
        "Dropped 3116 rows because they contained nas"
       ]
      },
      {
       "output_type": "stream",
       "stream": "stdout",
       "text": [
        "\n",
        "count    138407.000000\n",
        "mean        543.465855\n",
        "std         171.560820\n",
        "min          14.516006\n",
        "25%         461.600811\n",
        "50%         529.004032\n",
        "75%         596.287557\n",
        "max       10122.848815\n",
        "dtype: float64"
       ]
      },
      {
       "output_type": "stream",
       "stream": "stdout",
       "text": [
        "\n",
        "\n",
        "Time to execute model = 2.405s\n",
        "Running model rrh_simulate\n",
        "Running hedonic simulation\n"
       ]
      },
      {
       "output_type": "stream",
       "stream": "stdout",
       "text": [
        "\n",
        "count    140780.000000\n",
        "mean          3.414283\n",
        "std           0.499424\n",
        "min           0.630366\n",
        "25%           3.153167\n",
        "50%           3.345428\n",
        "75%           3.582419\n",
        "max          15.346592\n",
        "dtype: float64"
       ]
      },
      {
       "output_type": "stream",
       "stream": "stdout",
       "text": [
        "\n",
        "\n",
        "Time to execute model = 2.293s\n",
        "Running model nrh_simulate\n",
        "Running hedonic simulation\n"
       ]
      },
      {
       "output_type": "stream",
       "stream": "stdout",
       "text": [
        "\n",
        "Dropped 3116 rows because they contained nas"
       ]
      },
      {
       "output_type": "stream",
       "stream": "stdout",
       "text": [
        "\n",
        "count    10203.000000\n",
        "mean        23.983163\n",
        "std          7.233331\n",
        "min          0.481386\n",
        "25%         22.418606\n",
        "50%         26.249361\n",
        "75%         28.754313\n",
        "max         40.728204\n",
        "dtype: float64\n",
        "\n",
        "Time to execute model = 2.229s"
       ]
      },
      {
       "output_type": "stream",
       "stream": "stdout",
       "text": [
        "\n"
       ]
      }
     ],
     "prompt_number": 7
    },
    {
     "cell_type": "heading",
     "level": 2,
     "metadata": {},
     "source": [
      "LCM Estimation"
     ]
    },
    {
     "cell_type": "code",
     "collapsed": false,
     "input": [
      "sim.run([\"hlcmo_estimate\"])"
     ],
     "language": "python",
     "metadata": {},
     "outputs": [
      {
       "output_type": "stream",
       "stream": "stdout",
       "text": [
        "Running model hlcmo_estimate\n",
        "Running location choice model estimation\n"
       ]
      },
      {
       "output_type": "stream",
       "stream": "stdout",
       "text": [
        "\n",
        "The following fields are used by this model:"
       ]
      },
      {
       "output_type": "stream",
       "stream": "stdout",
       "text": [
        " ['tenure', 'general_type', 'residential_sales_price', 'unit_sqft', 'sum_residential_units', 'ave_unit_sqft', 'ave_lot_sqft', 'ave_income', 'hhsize', 'jobs', 'sfdu', 'renters', 'poor', 'population', 'building_id', 'income_quartile']\n",
        "\n",
        "Dropped 14196 rows because they contained nas"
       ]
      },
      {
       "output_type": "stream",
       "stream": "stdout",
       "text": [
        "\n",
        "LCM RESULTS FOR SEGMENT 0\n"
       ]
      },
      {
       "output_type": "stream",
       "stream": "stdout",
       "text": [
        "\n",
        "Null Log-liklihood: -65540.782\n",
        "Log-liklihood at convergence: -64442.369\n",
        "Log-liklihood Ratio: 0.017\n",
        "\n",
        "+-----------------------------------+-------------+------------+---------+\n",
        "| Component                         | Coefficient | Std. Error | T-Score |\n",
        "+-----------------------------------+-------------+------------+---------+\n",
        "| np.log1p(residential_sales_price) |    -2.139   |   0.167    | -12.831 |\n",
        "| np.log1p(unit_sqft)               |    -1.010   |   0.068    | -14.905 |\n",
        "| sum_residential_units             |    -1.182   |   0.087    | -13.580 |\n",
        "| ave_unit_sqft                     |    0.151    |   0.059    |  2.541  |\n",
        "| ave_lot_sqft                      |    -0.541   |   0.056    |  -9.711 |\n",
        "| ave_income                        |    -2.379   |   0.152    | -15.655 |\n",
        "| hhsize                            |    -3.000   |   0.170    | -17.610 |\n",
        "| jobs                              |    0.115    |   0.021    |  5.560  |\n",
        "| sfdu                              |    0.010    |   0.012    |  0.778  |\n",
        "| renters                           |    1.043    |   0.074    |  14.114 |\n",
        "| poor                              |    -0.033   |   0.085    |  -0.388 |\n",
        "| population                        |    0.454    |   0.157    |  2.895  |\n",
        "+-----------------------------------+-------------+------------+---------+\n",
        "\n",
        "LCM RESULTS FOR SEGMENT 1\n",
        "\n",
        "Null Log-liklihood: -67907.840\n",
        "Log-liklihood at convergence: -67283.776\n",
        "Log-liklihood Ratio: 0.009\n",
        "\n",
        "+-----------------------------------+-------------+------------+---------+\n",
        "| Component                         | Coefficient | Std. Error | T-Score |\n",
        "+-----------------------------------+-------------+------------+---------+\n",
        "| np.log1p(residential_sales_price) |    -2.461   |   0.159    | -15.492 |\n",
        "| np.log1p(unit_sqft)               |    -1.168   |   0.065    | -18.000 |\n",
        "| sum_residential_units             |    -0.757   |   0.089    |  -8.543 |\n",
        "| ave_unit_sqft                     |    0.167    |   0.056    |  2.963  |\n",
        "| ave_lot_sqft                      |    -0.750   |   0.054    | -13.936 |\n",
        "| ave_income                        |    -1.122   |   0.146    |  -7.708 |\n",
        "| hhsize                            |    -2.602   |   0.171    | -15.178 |\n",
        "| jobs                              |    0.088    |   0.021    |  4.302  |\n",
        "| sfdu                              |    0.003    |   0.012    |  0.266  |\n",
        "| renters                           |    0.816    |   0.075    |  10.940 |\n",
        "| poor                              |    0.050    |   0.084    |  0.597  |\n",
        "| population                        |    0.137    |   0.162    |  0.845  |\n",
        "+-----------------------------------+-------------+------------+---------+\n",
        "\n",
        "LCM RESULTS FOR SEGMENT 2\n",
        "\n",
        "Null Log-liklihood: -68064.415\n",
        "Log-liklihood at convergence: -67436.490\n",
        "Log-liklihood Ratio: 0.009\n",
        "\n",
        "+-----------------------------------+-------------+------------+---------+\n",
        "| Component                         | Coefficient | Std. Error | T-Score |\n",
        "+-----------------------------------+-------------+------------+---------+\n",
        "| np.log1p(residential_sales_price) |    -3.000   |   0.159    | -18.914 |\n",
        "| np.log1p(unit_sqft)               |    -1.433   |   0.064    | -22.332 |\n",
        "| sum_residential_units             |    -0.780   |   0.089    |  -8.788 |\n",
        "| ave_unit_sqft                     |    0.142    |   0.055    |  2.566  |\n",
        "| ave_lot_sqft                      |    -0.832   |   0.054    | -15.289 |\n",
        "| ave_income                        |    -0.921   |   0.146    |  -6.296 |\n",
        "| hhsize                            |    -2.209   |   0.172    | -12.816 |\n",
        "| jobs                              |    0.121    |   0.020    |  5.922  |\n",
        "| sfdu                              |    0.013    |   0.012    |  1.066  |\n",
        "| renters                           |    0.585    |   0.074    |  7.867  |\n",
        "| poor                              |    -0.416   |   0.086    |  -4.853 |\n",
        "| population                        |    0.835    |   0.167    |  5.013  |\n",
        "+-----------------------------------+-------------+------------+---------+\n",
        "\n",
        "LCM RESULTS FOR SEGMENT 3\n",
        "\n",
        "Null Log-liklihood: -68234.807\n",
        "Log-liklihood at convergence: -67175.161\n",
        "Log-liklihood Ratio: 0.016\n",
        "\n",
        "+-----------------------------------+-------------+------------+---------+\n",
        "| Component                         | Coefficient | Std. Error | T-Score |\n",
        "+-----------------------------------+-------------+------------+---------+\n",
        "| np.log1p(residential_sales_price) |    -3.000   |   0.150    | -19.954 |\n",
        "| np.log1p(unit_sqft)               |    -1.470   |   0.061    | -24.210 |\n",
        "| sum_residential_units             |    -0.874   |   0.088    |  -9.963 |\n",
        "| ave_unit_sqft                     |    0.201    |   0.058    |  3.495  |\n",
        "| ave_lot_sqft                      |    -0.880   |   0.053    | -16.513 |\n",
        "| ave_income                        |    0.489    |   0.141    |  3.474  |\n",
        "| hhsize                            |    -3.000   |   0.176    | -17.005 |\n",
        "| jobs                              |    0.251    |   0.021    |  12.172 |\n",
        "| sfdu                              |    0.018    |   0.012    |  1.472  |\n",
        "| renters                           |    0.561    |   0.074    |  7.607  |\n",
        "| poor                              |    -0.307   |   0.084    |  -3.645 |\n",
        "| population                        |    0.720    |   0.163    |  4.430  |\n",
        "+-----------------------------------+-------------+------------+---------+\n",
        "\n",
        "Time to execute model = 64.836s"
       ]
      },
      {
       "output_type": "stream",
       "stream": "stdout",
       "text": [
        "\n"
       ]
      }
     ],
     "prompt_number": 8
    },
    {
     "cell_type": "code",
     "collapsed": false,
     "input": [
      "sim.run([\"hlcmr_estimate\"])"
     ],
     "language": "python",
     "metadata": {},
     "outputs": [
      {
       "output_type": "stream",
       "stream": "stdout",
       "text": [
        "Running model hlcmr_estimate\n",
        "Running location choice model estimation\n"
       ]
      },
      {
       "output_type": "stream",
       "stream": "stdout",
       "text": [
        "\n",
        "The following fields are used by this model:"
       ]
      },
      {
       "output_type": "stream",
       "stream": "stdout",
       "text": [
        " ['tenure', 'general_type', 'residential_rent', 'unit_sqft', 'sum_residential_units', 'ave_unit_sqft', 'ave_lot_sqft', 'ave_income', 'hhsize', 'jobs', 'sfdu', 'renters', 'poor', 'building_id', 'income_quartile']\n",
        "\n",
        "Dropped 11823 rows because they contained nas"
       ]
      },
      {
       "output_type": "stream",
       "stream": "stdout",
       "text": [
        "\n",
        "LCM RESULTS FOR SEGMENT 0\n"
       ]
      },
      {
       "output_type": "stream",
       "stream": "stdout",
       "text": [
        "\n",
        "Null Log-liklihood: -23025.851\n",
        "Log-liklihood at convergence: -18082.062\n",
        "Log-liklihood Ratio: 0.215\n",
        "\n",
        "+----------------------------+-------------+------------+---------+\n",
        "| Component                  | Coefficient | Std. Error | T-Score |\n",
        "+----------------------------+-------------+------------+---------+\n",
        "| np.log1p(residential_rent) |    -3.000   |   0.962    |  -3.119 |\n",
        "| np.log1p(unit_sqft)        |    -0.886   |   0.156    |  -5.686 |\n",
        "| sum_residential_units      |    -1.127   |   0.135    |  -8.353 |\n",
        "| ave_unit_sqft              |    0.297    |   0.114    |  2.609  |\n",
        "| ave_lot_sqft               |    0.116    |   0.071    |  1.637  |\n",
        "| ave_income                 |    2.395    |   0.199    |  12.056 |\n",
        "| hhsize                     |    -3.000   |   0.293    | -10.242 |\n",
        "| jobs                       |    0.329    |   0.066    |  4.964  |\n",
        "| sfdu                       |    -0.025   |   0.022    |  -1.101 |\n",
        "| renters                    |    -1.337   |   0.062    | -21.428 |\n",
        "| poor                       |    2.389    |   0.111    |  21.521 |\n",
        "+----------------------------+-------------+------------+---------+\n",
        "\n",
        "LCM RESULTS FOR SEGMENT 1\n",
        "\n",
        "Null Log-liklihood: -23025.851\n",
        "Log-liklihood at convergence: -19954.337\n",
        "Log-liklihood Ratio: 0.133\n",
        "\n",
        "+----------------------------+-------------+------------+---------+\n",
        "| Component                  | Coefficient | Std. Error | T-Score |\n",
        "+----------------------------+-------------+------------+---------+\n",
        "| np.log1p(residential_rent) |    -3.000   |   0.941    |  -3.189 |\n",
        "| np.log1p(unit_sqft)        |    -1.037   |   0.154    |  -6.738 |\n",
        "| sum_residential_units      |    -0.026   |   0.133    |  -0.193 |\n",
        "| ave_unit_sqft              |    -0.162   |   0.107    |  -1.512 |\n",
        "| ave_lot_sqft               |    0.078    |   0.061    |  1.291  |\n",
        "| ave_income                 |    1.368    |   0.200    |  6.824  |\n",
        "| hhsize                     |    -2.170   |   0.306    |  -7.102 |\n",
        "| jobs                       |    0.102    |   0.064    |  1.587  |\n",
        "| sfdu                       |    -0.109   |   0.021    |  -5.295 |\n",
        "| renters                    |    -1.011   |   0.061    | -16.620 |\n",
        "| poor                       |    1.197    |   0.111    |  10.745 |\n",
        "+----------------------------+-------------+------------+---------+\n",
        "\n",
        "LCM RESULTS FOR SEGMENT 2\n",
        "\n",
        "Null Log-liklihood: -23025.851\n",
        "Log-liklihood at convergence: -20737.744\n",
        "Log-liklihood Ratio: 0.099\n",
        "\n",
        "+----------------------------+-------------+------------+---------+\n",
        "| Component                  | Coefficient | Std. Error | T-Score |\n",
        "+----------------------------+-------------+------------+---------+\n",
        "| np.log1p(residential_rent) |    -3.000   |   0.940    |  -3.193 |\n",
        "| np.log1p(unit_sqft)        |    -1.138   |   0.154    |  -7.402 |\n",
        "| sum_residential_units      |    0.019    |   0.132    |  0.144  |\n",
        "| ave_unit_sqft              |    -0.298   |   0.105    |  -2.830 |\n",
        "| ave_lot_sqft               |    -0.078   |   0.063    |  -1.226 |\n",
        "| ave_income                 |    1.651    |   0.206    |  7.999  |\n",
        "| hhsize                     |    -3.000   |   0.306    |  -9.815 |\n",
        "| jobs                       |    0.130    |   0.064    |  2.045  |\n",
        "| sfdu                       |    -0.108   |   0.021    |  -5.228 |\n",
        "| renters                    |    -0.700   |   0.063    | -11.102 |\n",
        "| poor                       |    0.732    |   0.112    |  6.538  |\n",
        "+----------------------------+-------------+------------+---------+\n",
        "\n",
        "LCM RESULTS FOR SEGMENT 3\n",
        "\n",
        "Null Log-liklihood: -23021.246\n",
        "Log-liklihood at convergence: -20472.955\n",
        "Log-liklihood Ratio: 0.111\n",
        "\n",
        "+----------------------------+-------------+------------+---------+\n",
        "| Component                  | Coefficient | Std. Error | T-Score |\n",
        "+----------------------------+-------------+------------+---------+\n",
        "| np.log1p(residential_rent) |    -3.000   |   0.956    |  -3.137 |\n",
        "| np.log1p(unit_sqft)        |    -1.193   |   0.158    |  -7.561 |\n",
        "| sum_residential_units      |    0.470    |   0.131    |  3.584  |\n",
        "| ave_unit_sqft              |    -0.136   |   0.104    |  -1.305 |\n",
        "| ave_lot_sqft               |    0.027    |   0.065    |  0.420  |\n",
        "| ave_income                 |    1.555    |   0.214    |  7.278  |\n",
        "| hhsize                     |    -3.000   |   0.319    |  -9.402 |\n",
        "| jobs                       |    0.252    |   0.065    |  3.898  |\n",
        "| sfdu                       |    -0.135   |   0.021    |  -6.299 |\n",
        "| renters                    |    -0.264   |   0.067    |  -3.931 |\n",
        "| poor                       |    -0.083   |   0.116    |  -0.717 |\n",
        "+----------------------------+-------------+------------+---------+\n",
        "\n",
        "Time to execute model = 28.776s"
       ]
      },
      {
       "output_type": "stream",
       "stream": "stdout",
       "text": [
        "\n"
       ]
      }
     ],
     "prompt_number": 9
    },
    {
     "cell_type": "code",
     "collapsed": false,
     "input": [
      "sim.run([\"elcm_estimate\"])"
     ],
     "language": "python",
     "metadata": {},
     "outputs": [
      {
       "output_type": "stream",
       "stream": "stdout",
       "text": [
        "Running model elcm_estimate\n",
        "Running location choice model estimation\n"
       ]
      },
      {
       "output_type": "stream",
       "stream": "stdout",
       "text": [
        "\n",
        "The following fields are used by this model:"
       ]
      },
      {
       "output_type": "stream",
       "stream": "stdout",
       "text": [
        " ['general_type', 'building_type_id', 'non_residential_rent', 'stories', 'sum_residential_units', 'ave_unit_sqft', 'ave_lot_sqft', 'ave_income', 'hhsize', 'jobs', 'sfdu', 'renters', 'poor', 'building_id', 'naics']\n",
        "\n",
        "Dropped 142400 rows because they contained nas"
       ]
      },
      {
       "output_type": "stream",
       "stream": "stdout",
       "text": [
        "\n",
        "LCM RESULTS FOR SEGMENT 11\n"
       ]
      },
      {
       "output_type": "stream",
       "stream": "stdout",
       "text": [
        "\n",
        "Null Log-liklihood: -2256.533\n",
        "Log-liklihood at convergence: -1708.078\n",
        "Log-liklihood Ratio: 0.243\n",
        "\n",
        "+--------------------------------+-------------+------------+---------+\n",
        "| Component                      | Coefficient | Std. Error | T-Score |\n",
        "+--------------------------------+-------------+------------+---------+\n",
        "| np.log1p(non_residential_rent) |    0.766    |   0.262    |  2.921  |\n",
        "| np.log1p(stories)              |    0.403    |   0.084    |  4.804  |\n",
        "| sum_residential_units          |    0.024    |   0.497    |  0.048  |\n",
        "| ave_unit_sqft                  |    1.017    |   0.475    |  2.143  |\n",
        "| ave_lot_sqft                   |    -2.452   |   0.391    |  -6.267 |\n",
        "| ave_income                     |    0.069    |   0.450    |  0.153  |\n",
        "| hhsize                         |    -0.645   |   1.309    |  -0.493 |\n",
        "| jobs                           |    0.622    |   0.128    |  4.874  |\n",
        "| sfdu                           |    -0.323   |   0.110    |  -2.923 |\n",
        "| renters                        |    -1.581   |   0.283    |  -5.581 |\n",
        "| poor                           |    -0.093   |   0.340    |  -0.273 |\n",
        "+--------------------------------+-------------+------------+---------+\n",
        "\n",
        "LCM RESULTS FOR SEGMENT 21\n",
        "\n",
        "Null Log-liklihood: -515.779\n",
        "Log-liklihood at convergence: -185.476\n",
        "Log-liklihood Ratio: 0.640\n",
        "\n",
        "+--------------------------------+-------------+------------+---------+\n",
        "| Component                      | Coefficient | Std. Error | T-Score |\n",
        "+--------------------------------+-------------+------------+---------+\n",
        "| np.log1p(non_residential_rent) |    1.074    |   1.620    |  0.663  |\n",
        "| np.log1p(stories)              |    0.477    |   0.233    |  2.047  |\n",
        "| sum_residential_units          |    -0.656   |   5.763    |  -0.114 |\n",
        "| ave_unit_sqft                  |    -3.000   |   3.571    |  -0.840 |\n",
        "| ave_lot_sqft                   |    3.000    |   3.038    |  0.987  |\n",
        "| ave_income                     |    3.000    |   2.964    |  1.012  |\n",
        "| hhsize                         |    3.000    |   9.891    |  0.303  |\n",
        "| jobs                           |    3.000    |   0.938    |  3.198  |\n",
        "| sfdu                           |    0.170    |   0.740    |  0.230  |\n",
        "| renters                        |    1.457    |   2.251    |  0.647  |\n",
        "| poor                           |    -1.456   |   3.759    |  -0.387 |\n",
        "+--------------------------------+-------------+------------+---------+\n",
        "\n",
        "LCM RESULTS FOR SEGMENT 22\n",
        "\n",
        "Null Log-liklihood: -22183.105\n",
        "Log-liklihood at convergence: -3124.546\n",
        "Log-liklihood Ratio: 0.859\n",
        "\n",
        "+--------------------------------+-------------+------------+---------+\n",
        "| Component                      | Coefficient | Std. Error | T-Score |\n",
        "+--------------------------------+-------------+------------+---------+\n",
        "| np.log1p(non_residential_rent) |    3.000    |   0.232    |  12.949 |\n",
        "| np.log1p(stories)              |    -1.556   |   0.050    | -30.860 |\n",
        "| sum_residential_units          |    2.805    |   0.393    |  7.128  |\n",
        "| ave_unit_sqft                  |    -2.691   |   0.310    |  -8.679 |\n",
        "| ave_lot_sqft                   |    1.088    |   0.086    |  12.610 |\n",
        "| ave_income                     |    1.343    |   0.297    |  4.517  |\n",
        "| hhsize                         |    3.000    |   1.261    |  2.380  |\n",
        "| jobs                           |    1.517    |   0.081    |  18.848 |\n",
        "| sfdu                           |    -0.648   |   0.124    |  -5.215 |\n",
        "| renters                        |    -2.594   |   0.157    | -16.470 |\n",
        "| poor                           |    -1.288   |   0.251    |  -5.140 |\n",
        "+--------------------------------+-------------+------------+---------+\n",
        "\n",
        "LCM RESULTS FOR SEGMENT 23\n",
        "\n",
        "Null Log-liklihood: -44531.996\n",
        "Log-liklihood at convergence: -40777.586\n",
        "Log-liklihood Ratio: 0.084\n",
        "\n",
        "+--------------------------------+-------------+------------+---------+\n",
        "| Component                      | Coefficient | Std. Error | T-Score |\n",
        "+--------------------------------+-------------+------------+---------+\n",
        "| np.log1p(non_residential_rent) |    -0.527   |   0.038    | -13.898 |\n",
        "| np.log1p(stories)              |    0.780    |   0.021    |  36.998 |\n",
        "| sum_residential_units          |    -0.799   |   0.068    | -11.681 |\n",
        "| ave_unit_sqft                  |    0.483    |   0.063    |  7.646  |\n",
        "| ave_lot_sqft                   |    0.702    |   0.038    |  18.604 |\n",
        "| ave_income                     |    2.392    |   0.060    |  39.877 |\n",
        "| hhsize                         |    2.397    |   0.196    |  12.256 |\n",
        "| jobs                           |    0.562    |   0.020    |  28.372 |\n",
        "| sfdu                           |    -0.027   |   0.016    |  -1.681 |\n",
        "| renters                        |    -0.277   |   0.036    |  -7.795 |\n",
        "| poor                           |    0.832    |   0.049    |  17.117 |\n",
        "+--------------------------------+-------------+------------+---------+\n",
        "\n",
        "LCM RESULTS FOR SEGMENT 31\n",
        "\n",
        "Null Log-liklihood: -29905.975\n",
        "Log-liklihood at convergence: -24506.717\n",
        "Log-liklihood Ratio: 0.181\n",
        "\n",
        "+--------------------------------+-------------+------------+---------+\n",
        "| Component                      | Coefficient | Std. Error | T-Score |\n",
        "+--------------------------------+-------------+------------+---------+\n",
        "| np.log1p(non_residential_rent) |    0.673    |   0.055    |  12.283 |\n",
        "| np.log1p(stories)              |    -0.216   |   0.033    |  -6.641 |\n",
        "| sum_residential_units          |    -1.881   |   0.110    | -17.047 |\n",
        "| ave_unit_sqft                  |    -0.222   |   0.123    |  -1.797 |\n",
        "| ave_lot_sqft                   |    -1.919   |   0.113    | -17.043 |\n",
        "| ave_income                     |    3.000    |   0.089    |  33.825 |\n",
        "| hhsize                         |    -3.000   |   0.284    | -10.561 |\n",
        "| jobs                           |    1.172    |   0.037    |  31.793 |\n",
        "| sfdu                           |    0.335    |   0.026    |  12.862 |\n",
        "| renters                        |    -1.307   |   0.061    | -21.429 |\n",
        "| poor                           |    0.739    |   0.072    |  10.327 |\n",
        "+--------------------------------+-------------+------------+---------+\n",
        "\n",
        "LCM RESULTS FOR SEGMENT 32\n",
        "\n",
        "Null Log-liklihood: -18158.186\n",
        "Log-liklihood at convergence: -15460.384\n",
        "Log-liklihood Ratio: 0.149\n",
        "\n",
        "+--------------------------------+-------------+------------+---------+\n",
        "| Component                      | Coefficient | Std. Error | T-Score |\n",
        "+--------------------------------+-------------+------------+---------+\n",
        "| np.log1p(non_residential_rent) |    -0.141   |   0.068    |  -2.072 |\n",
        "| np.log1p(stories)              |    0.652    |   0.033    |  19.871 |\n",
        "| sum_residential_units          |    -3.000   |   0.113    | -26.568 |\n",
        "| ave_unit_sqft                  |    0.294    |   0.137    |  2.154  |\n",
        "| ave_lot_sqft                   |    0.632    |   0.079    |  7.980  |\n",
        "| ave_income                     |    0.696    |   0.142    |  4.900  |\n",
        "| hhsize                         |    -3.000   |   0.410    |  -7.316 |\n",
        "| jobs                           |    1.472    |   0.039    |  37.900 |\n",
        "| sfdu                           |    0.551    |   0.037    |  15.045 |\n",
        "| renters                        |    1.545    |   0.079    |  19.605 |\n",
        "| poor                           |    0.485    |   0.077    |  6.285  |\n",
        "+--------------------------------+-------------+------------+---------+\n",
        "\n",
        "LCM RESULTS FOR SEGMENT 33\n",
        "\n",
        "Null Log-liklihood: -19682.497\n",
        "Log-liklihood at convergence: -17966.452\n",
        "Log-liklihood Ratio: 0.087\n",
        "\n",
        "+--------------------------------+-------------+------------+---------+\n",
        "| Component                      | Coefficient | Std. Error | T-Score |\n",
        "+--------------------------------+-------------+------------+---------+\n",
        "| np.log1p(non_residential_rent) |    -0.364   |   0.061    |  -5.990 |\n",
        "| np.log1p(stories)              |    0.557    |   0.033    |  17.061 |\n",
        "| sum_residential_units          |    -1.402   |   0.127    | -11.030 |\n",
        "| ave_unit_sqft                  |    -0.389   |   0.131    |  -2.969 |\n",
        "| ave_lot_sqft                   |    0.044    |   0.107    |  0.408  |\n",
        "| ave_income                     |    1.548    |   0.101    |  15.277 |\n",
        "| hhsize                         |    -1.886   |   0.338    |  -5.581 |\n",
        "| jobs                           |    0.963    |   0.037    |  25.879 |\n",
        "| sfdu                           |    0.505    |   0.027    |  18.637 |\n",
        "| renters                        |    0.411    |   0.066    |  6.203  |\n",
        "| poor                           |    0.119    |   0.084    |  1.419  |\n",
        "+--------------------------------+-------------+------------+---------+\n",
        "\n",
        "LCM RESULTS FOR SEGMENT 42\n",
        "\n",
        "Null Log-liklihood: -51301.596\n",
        "Log-liklihood at convergence: -40396.036\n",
        "Log-liklihood Ratio: 0.213\n",
        "\n",
        "+--------------------------------+-------------+------------+---------+\n",
        "| Component                      | Coefficient | Std. Error | T-Score |\n",
        "+--------------------------------+-------------+------------+---------+\n",
        "| np.log1p(non_residential_rent) |    0.228    |   0.037    |  6.110  |\n",
        "| np.log1p(stories)              |    0.925    |   0.016    |  56.771 |\n",
        "| sum_residential_units          |    -0.913   |   0.077    | -11.797 |\n",
        "| ave_unit_sqft                  |    -1.752   |   0.069    | -25.543 |\n",
        "| ave_lot_sqft                   |    0.726    |   0.029    |  24.661 |\n",
        "| ave_income                     |    1.786    |   0.070    |  25.624 |\n",
        "| hhsize                         |    -2.113   |   0.232    |  -9.126 |\n",
        "| jobs                           |    0.714    |   0.022    |  31.871 |\n",
        "| sfdu                           |    0.563    |   0.021    |  27.283 |\n",
        "| renters                        |    -0.214   |   0.038    |  -5.606 |\n",
        "| poor                           |    -0.065   |   0.048    |  -1.360 |\n",
        "+--------------------------------+-------------+------------+---------+\n",
        "\n",
        "LCM RESULTS FOR SEGMENT 44\n",
        "\n",
        "Null Log-liklihood: -42607.035\n",
        "Log-liklihood at convergence: -37779.710\n",
        "Log-liklihood Ratio: 0.113\n",
        "\n",
        "+--------------------------------+-------------+------------+---------+\n",
        "| Component                      | Coefficient | Std. Error | T-Score |\n",
        "+--------------------------------+-------------+------------+---------+\n",
        "| np.log1p(non_residential_rent) |    0.577    |   0.046    |  12.671 |\n",
        "| np.log1p(stories)              |    0.562    |   0.022    |  25.821 |\n",
        "| sum_residential_units          |    -0.076   |   0.095    |  -0.792 |\n",
        "| ave_unit_sqft                  |    1.054    |   0.068    |  15.552 |\n",
        "| ave_lot_sqft                   |    0.063    |   0.040    |  1.586  |\n",
        "| ave_income                     |    -0.588   |   0.059    |  -9.980 |\n",
        "| hhsize                         |    0.447    |   0.244    |  1.827  |\n",
        "| jobs                           |    0.315    |   0.024    |  13.162 |\n",
        "| sfdu                           |    -0.492   |   0.018    | -28.004 |\n",
        "| renters                        |    0.075    |   0.039    |  1.943  |\n",
        "| poor                           |    -0.132   |   0.063    |  -2.094 |\n",
        "+--------------------------------+-------------+------------+---------+\n",
        "\n",
        "LCM RESULTS FOR SEGMENT 45\n",
        "\n",
        "Null Log-liklihood: -36302.557\n",
        "Log-liklihood at convergence: -32728.035\n",
        "Log-liklihood Ratio: 0.098\n",
        "\n",
        "+--------------------------------+-------------+------------+---------+\n",
        "| Component                      | Coefficient | Std. Error | T-Score |\n",
        "+--------------------------------+-------------+------------+---------+\n",
        "| np.log1p(non_residential_rent) |    1.033    |   0.054    |  19.067 |\n",
        "| np.log1p(stories)              |    0.322    |   0.022    |  14.339 |\n",
        "| sum_residential_units          |    -0.408   |   0.102    |  -3.995 |\n",
        "| ave_unit_sqft                  |    0.935    |   0.096    |  9.743  |\n",
        "| ave_lot_sqft                   |    -0.765   |   0.075    | -10.174 |\n",
        "| ave_income                     |    1.718    |   0.071    |  24.117 |\n",
        "| hhsize                         |    -1.842   |   0.270    |  -6.830 |\n",
        "| jobs                           |    0.067    |   0.025    |  2.631  |\n",
        "| sfdu                           |    -0.206   |   0.023    |  -9.051 |\n",
        "| renters                        |    -1.374   |   0.049    | -28.063 |\n",
        "| poor                           |    1.120    |   0.062    |  17.943 |\n",
        "+--------------------------------+-------------+------------+---------+\n",
        "\n",
        "LCM RESULTS FOR SEGMENT 48\n",
        "\n",
        "Null Log-liklihood: -20502.218\n",
        "Log-liklihood at convergence: -14851.698\n",
        "Log-liklihood Ratio: 0.276\n",
        "\n",
        "+--------------------------------+-------------+------------+---------+\n",
        "| Component                      | Coefficient | Std. Error | T-Score |\n",
        "+--------------------------------+-------------+------------+---------+\n",
        "| np.log1p(non_residential_rent) |    -0.403   |   0.079    |  -5.106 |\n",
        "| np.log1p(stories)              |    0.330    |   0.027    |  12.051 |\n",
        "| sum_residential_units          |    -2.001   |   0.098    | -20.465 |\n",
        "| ave_unit_sqft                  |    1.189    |   0.101    |  11.834 |\n",
        "| ave_lot_sqft                   |    -1.089   |   0.092    | -11.887 |\n",
        "| ave_income                     |    3.000    |   0.096    |  31.168 |\n",
        "| hhsize                         |    1.458    |   0.279    |  5.231  |\n",
        "| jobs                           |    0.867    |   0.025    |  34.228 |\n",
        "| sfdu                           |    -0.491   |   0.027    | -17.978 |\n",
        "| renters                        |    -1.819   |   0.060    | -30.186 |\n",
        "| poor                           |    1.901    |   0.075    |  25.259 |\n",
        "+--------------------------------+-------------+------------+---------+\n",
        "\n",
        "LCM RESULTS FOR SEGMENT 49\n",
        "\n",
        "Null Log-liklihood: -12130.018\n",
        "Log-liklihood at convergence: -8566.452\n",
        "Log-liklihood Ratio: 0.294\n",
        "\n",
        "+--------------------------------+-------------+------------+---------+\n",
        "| Component                      | Coefficient | Std. Error | T-Score |\n",
        "+--------------------------------+-------------+------------+---------+\n",
        "| np.log1p(non_residential_rent) |    -1.564   |   0.123    | -12.683 |\n",
        "| np.log1p(stories)              |    -0.460   |   0.087    |  -5.280 |\n",
        "| sum_residential_units          |    -3.000   |   0.171    | -17.527 |\n",
        "| ave_unit_sqft                  |    1.324    |   0.175    |  7.568  |\n",
        "| ave_lot_sqft                   |    -0.275   |   0.080    |  -3.431 |\n",
        "| ave_income                     |    -0.873   |   0.203    |  -4.308 |\n",
        "| hhsize                         |    3.000    |   0.691    |  4.344  |\n",
        "| jobs                           |    0.712    |   0.059    |  12.075 |\n",
        "| sfdu                           |    -1.094   |   0.040    | -27.306 |\n",
        "| renters                        |    -0.483   |   0.101    |  -4.765 |\n",
        "| poor                           |    2.440    |   0.079    |  31.021 |\n",
        "+--------------------------------+-------------+------------+---------+\n",
        "\n",
        "LCM RESULTS FOR SEGMENT 51\n",
        "\n",
        "Null Log-liklihood: -48487.837\n",
        "Log-liklihood at convergence: -36113.952\n",
        "Log-liklihood Ratio: 0.255\n",
        "\n",
        "+--------------------------------+-------------+------------+---------+\n",
        "| Component                      | Coefficient | Std. Error | T-Score |\n",
        "+--------------------------------+-------------+------------+---------+\n",
        "| np.log1p(non_residential_rent) |    -0.297   |   0.037    |  -7.976 |\n",
        "| np.log1p(stories)              |    0.281    |   0.016    |  17.447 |\n",
        "| sum_residential_units          |    -0.212   |   0.096    |  -2.214 |\n",
        "| ave_unit_sqft                  |    0.231    |   0.090    |  2.572  |\n",
        "| ave_lot_sqft                   |    -0.933   |   0.073    | -12.696 |\n",
        "| ave_income                     |    0.090    |   0.081    |  1.113  |\n",
        "| hhsize                         |    -3.000   |   0.302    |  -9.941 |\n",
        "| jobs                           |    1.116    |   0.022    |  50.414 |\n",
        "| sfdu                           |    0.070    |   0.021    |  3.276  |\n",
        "| renters                        |    -0.257   |   0.053    |  -4.814 |\n",
        "| poor                           |    -0.829   |   0.060    | -13.703 |\n",
        "+--------------------------------+-------------+------------+---------+\n",
        "\n",
        "LCM RESULTS FOR SEGMENT 52\n",
        "\n",
        "Null Log-liklihood: -53825.229\n",
        "Log-liklihood at convergence: -25490.275\n",
        "Log-liklihood Ratio: 0.526\n",
        "\n",
        "+--------------------------------+-------------+------------+---------+\n",
        "| Component                      | Coefficient | Std. Error | T-Score |\n",
        "+--------------------------------+-------------+------------+---------+\n",
        "| np.log1p(non_residential_rent) |    0.536    |   0.083    |  6.467  |\n",
        "| np.log1p(stories)              |    1.002    |   0.016    |  63.884 |\n",
        "| sum_residential_units          |    -1.974   |   0.157    | -12.606 |\n",
        "| ave_unit_sqft                  |    -1.578   |   0.132    | -11.961 |\n",
        "| ave_lot_sqft                   |    1.159    |   0.089    |  12.999 |\n",
        "| ave_income                     |    2.006    |   0.092    |  21.827 |\n",
        "| hhsize                         |    -3.000   |   0.427    |  -7.027 |\n",
        "| jobs                           |    1.453    |   0.039    |  37.229 |\n",
        "| sfdu                           |    -0.271   |   0.031    |  -8.850 |\n",
        "| renters                        |    0.390    |   0.067    |  5.858  |\n",
        "| poor                           |    0.660    |   0.102    |  6.484  |\n",
        "+--------------------------------+-------------+------------+---------+\n",
        "\n",
        "LCM RESULTS FOR SEGMENT 53\n",
        "\n",
        "Null Log-liklihood: -37011.753\n",
        "Log-liklihood at convergence: -31545.904\n",
        "Log-liklihood Ratio: 0.148\n",
        "\n",
        "+--------------------------------+-------------+------------+---------+\n",
        "| Component                      | Coefficient | Std. Error | T-Score |\n",
        "+--------------------------------+-------------+------------+---------+\n",
        "| np.log1p(non_residential_rent) |    0.296    |   0.060    |  4.949  |\n",
        "| np.log1p(stories)              |    0.833    |   0.020    |  42.400 |\n",
        "| sum_residential_units          |    0.279    |   0.105    |  2.661  |\n",
        "| ave_unit_sqft                  |    -1.582   |   0.088    | -17.900 |\n",
        "| ave_lot_sqft                   |    -0.015   |   0.057    |  -0.258 |\n",
        "| ave_income                     |    1.414    |   0.073    |  19.361 |\n",
        "| hhsize                         |    -3.000   |   0.296    | -10.143 |\n",
        "| jobs                           |    0.179    |   0.022    |  8.173  |\n",
        "| sfdu                           |    -0.020   |   0.020    |  -0.969 |\n",
        "| renters                        |    -0.483   |   0.043    | -11.166 |\n",
        "| poor                           |    -0.315   |   0.071    |  -4.413 |\n",
        "+--------------------------------+-------------+------------+---------+\n",
        "\n",
        "LCM RESULTS FOR SEGMENT 54\n",
        "\n",
        "Null Log-liklihood: -55985.054\n",
        "Log-liklihood at convergence: -34493.133\n",
        "Log-liklihood Ratio: 0.384\n",
        "\n",
        "+--------------------------------+-------------+------------+---------+\n",
        "| Component                      | Coefficient | Std. Error | T-Score |\n",
        "+--------------------------------+-------------+------------+---------+\n",
        "| np.log1p(non_residential_rent) |    0.144    |   0.048    |  2.972  |\n",
        "| np.log1p(stories)              |    0.758    |   0.013    |  57.172 |\n",
        "| sum_residential_units          |    -0.281   |   0.104    |  -2.693 |\n",
        "| ave_unit_sqft                  |    -1.624   |   0.086    | -18.902 |\n",
        "| ave_lot_sqft                   |    0.805    |   0.080    |  10.015 |\n",
        "| ave_income                     |    1.768    |   0.083    |  21.390 |\n",
        "| hhsize                         |    -3.000   |   0.338    |  -8.870 |\n",
        "| jobs                           |    0.925    |   0.023    |  40.670 |\n",
        "| sfdu                           |    -0.009   |   0.022    |  -0.415 |\n",
        "| renters                        |    -0.396   |   0.055    |  -7.164 |\n",
        "| poor                           |    -0.197   |   0.068    |  -2.881 |\n",
        "+--------------------------------+-------------+------------+---------+\n",
        "\n",
        "LCM RESULTS FOR SEGMENT 55\n",
        "\n",
        "Null Log-liklihood: -5705.806\n",
        "Log-liklihood at convergence: -3303.044\n",
        "Log-liklihood Ratio: 0.421\n",
        "\n",
        "+--------------------------------+-------------+------------+---------+\n",
        "| Component                      | Coefficient | Std. Error | T-Score |\n",
        "+--------------------------------+-------------+------------+---------+\n",
        "| np.log1p(non_residential_rent) |    0.634    |   0.202    |  3.137  |\n",
        "| np.log1p(stories)              |    0.868    |   0.043    |  19.964 |\n",
        "| sum_residential_units          |    -2.236   |   0.428    |  -5.225 |\n",
        "| ave_unit_sqft                  |    -1.059   |   0.339    |  -3.128 |\n",
        "| ave_lot_sqft                   |    0.255    |   0.300    |  0.849  |\n",
        "| ave_income                     |    3.000    |   0.260    |  11.552 |\n",
        "| hhsize                         |    -2.992   |   1.214    |  -2.465 |\n",
        "| jobs                           |    1.536    |   0.084    |  18.368 |\n",
        "| sfdu                           |    -0.011   |   0.074    |  -0.152 |\n",
        "| renters                        |    0.217    |   0.194    |  1.120  |\n",
        "| poor                           |    0.888    |   0.283    |  3.144  |\n",
        "+--------------------------------+-------------+------------+---------+\n",
        "\n",
        "LCM RESULTS FOR SEGMENT 56\n",
        "\n",
        "Null Log-liklihood: -38549.880\n",
        "Log-liklihood at convergence: -32713.092\n",
        "Log-liklihood Ratio: 0.151\n",
        "\n",
        "+--------------------------------+-------------+------------+---------+\n",
        "| Component                      | Coefficient | Std. Error | T-Score |\n",
        "+--------------------------------+-------------+------------+---------+\n",
        "| np.log1p(non_residential_rent) |    0.204    |   0.044    |  4.603  |\n",
        "| np.log1p(stories)              |    0.617    |   0.018    |  35.152 |\n",
        "| sum_residential_units          |    -0.506   |   0.105    |  -4.822 |\n",
        "| ave_unit_sqft                  |    -0.490   |   0.075    |  -6.524 |\n",
        "| ave_lot_sqft                   |    0.087    |   0.038    |  2.328  |\n",
        "| ave_income                     |    0.680    |   0.074    |  9.184  |\n",
        "| hhsize                         |    -1.950   |   0.309    |  -6.302 |\n",
        "| jobs                           |    0.462    |   0.024    |  18.995 |\n",
        "| sfdu                           |    -0.240   |   0.020    | -12.250 |\n",
        "| renters                        |    -0.272   |   0.050    |  -5.495 |\n",
        "| poor                           |    0.132    |   0.069    |  1.916  |\n",
        "+--------------------------------+-------------+------------+---------+\n",
        "\n",
        "LCM RESULTS FOR SEGMENT 61\n",
        "\n",
        "Null Log-liklihood: -28441.531\n",
        "Log-liklihood at convergence: -24457.883\n",
        "Log-liklihood Ratio: 0.140\n",
        "\n",
        "+--------------------------------+-------------+------------+---------+\n",
        "| Component                      | Coefficient | Std. Error | T-Score |\n",
        "+--------------------------------+-------------+------------+---------+\n",
        "| np.log1p(non_residential_rent) |    1.035    |   0.063    |  16.405 |\n",
        "| np.log1p(stories)              |    1.282    |   0.026    |  49.485 |\n",
        "| sum_residential_units          |    -1.320   |   0.128    | -10.288 |\n",
        "| ave_unit_sqft                  |    0.233    |   0.098    |  2.383  |\n",
        "| ave_lot_sqft                   |    -0.062   |   0.028    |  -2.264 |\n",
        "| ave_income                     |    -0.825   |   0.102    |  -8.052 |\n",
        "| hhsize                         |    -3.000   |   0.336    |  -8.928 |\n",
        "| jobs                           |    0.817    |   0.031    |  26.711 |\n",
        "| sfdu                           |    0.896    |   0.021    |  42.056 |\n",
        "| renters                        |    2.024    |   0.054    |  37.334 |\n",
        "| poor                           |    -0.455   |   0.088    |  -5.160 |\n",
        "+--------------------------------+-------------+------------+---------+\n",
        "\n",
        "LCM RESULTS FOR SEGMENT 62\n",
        "\n",
        "Null Log-liklihood: -33834.185\n",
        "Log-liklihood at convergence: -31082.230\n",
        "Log-liklihood Ratio: 0.081\n",
        "\n",
        "+--------------------------------+-------------+------------+---------+\n",
        "| Component                      | Coefficient | Std. Error | T-Score |\n",
        "+--------------------------------+-------------+------------+---------+\n",
        "| np.log1p(non_residential_rent) |    -0.268   |   0.051    |  -5.301 |\n",
        "| np.log1p(stories)              |    0.989    |   0.022    |  45.974 |\n",
        "| sum_residential_units          |    0.240    |   0.121    |  1.985  |\n",
        "| ave_unit_sqft                  |    2.356    |   0.093    |  25.253 |\n",
        "| ave_lot_sqft                   |    -1.124   |   0.043    | -26.404 |\n",
        "| ave_income                     |    -1.304   |   0.083    | -15.666 |\n",
        "| hhsize                         |    -1.481   |   0.293    |  -5.054 |\n",
        "| jobs                           |    0.315    |   0.026    |  12.328 |\n",
        "| sfdu                           |    -0.128   |   0.022    |  -5.785 |\n",
        "| renters                        |    0.891    |   0.049    |  18.150 |\n",
        "| poor                           |    -0.553   |   0.076    |  -7.297 |\n",
        "+--------------------------------+-------------+------------+---------+\n",
        "\n",
        "LCM RESULTS FOR SEGMENT 71\n",
        "\n",
        "Null Log-liklihood: -33392.089\n",
        "Log-liklihood at convergence: -30300.216\n",
        "Log-liklihood Ratio: 0.093\n",
        "\n",
        "+--------------------------------+-------------+------------+---------+\n",
        "| Component                      | Coefficient | Std. Error | T-Score |\n",
        "+--------------------------------+-------------+------------+---------+\n",
        "| np.log1p(non_residential_rent) |    0.890    |   0.049    |  18.027 |\n",
        "| np.log1p(stories)              |    0.113    |   0.022    |  5.152  |\n",
        "| sum_residential_units          |    -0.380   |   0.107    |  -3.562 |\n",
        "| ave_unit_sqft                  |    0.385    |   0.112    |  3.445  |\n",
        "| ave_lot_sqft                   |    -0.083   |   0.091    |  -0.917 |\n",
        "| ave_income                     |    -0.026   |   0.074    |  -0.352 |\n",
        "| hhsize                         |    -2.194   |   0.256    |  -8.557 |\n",
        "| jobs                           |    0.258    |   0.030    |  8.476  |\n",
        "| sfdu                           |    -0.176   |   0.024    |  -7.458 |\n",
        "| renters                        |    -0.463   |   0.047    |  -9.821 |\n",
        "| poor                           |    0.461    |   0.071    |  6.490  |\n",
        "+--------------------------------+-------------+------------+---------+"
       ]
      },
      {
       "output_type": "stream",
       "stream": "stdout",
       "text": [
        "\n",
        "\n",
        "LCM RESULTS FOR SEGMENT 72\n",
        "\n",
        "Null Log-liklihood: -40092.612\n",
        "Log-liklihood at convergence: -35060.489\n",
        "Log-liklihood Ratio: 0.126\n",
        "\n",
        "+--------------------------------+-------------+------------+---------+\n",
        "| Component                      | Coefficient | Std. Error | T-Score |\n",
        "+--------------------------------+-------------+------------+---------+\n",
        "| np.log1p(non_residential_rent) |    0.877    |   0.054    |  16.107 |\n",
        "| np.log1p(stories)              |    0.207    |   0.021    |  9.870  |\n",
        "| sum_residential_units          |    -0.427   |   0.118    |  -3.626 |\n",
        "| ave_unit_sqft                  |    -0.222   |   0.103    |  -2.162 |\n",
        "| ave_lot_sqft                   |    -0.720   |   0.088    |  -8.187 |\n",
        "| ave_income                     |    0.878    |   0.071    |  12.408 |\n",
        "| hhsize                         |    -3.000   |   0.274    | -10.942 |\n",
        "| jobs                           |    0.223    |   0.027    |  8.378  |\n",
        "| sfdu                           |    -0.325   |   0.023    | -14.367 |\n",
        "| renters                        |    -1.040   |   0.051    | -20.471 |\n",
        "| poor                           |    0.747    |   0.076    |  9.859  |\n",
        "+--------------------------------+-------------+------------+---------+\n",
        "\n",
        "LCM RESULTS FOR SEGMENT 81\n",
        "\n",
        "Null Log-liklihood: -43247.153\n",
        "Log-liklihood at convergence: -39846.523\n",
        "Log-liklihood Ratio: 0.079\n",
        "\n",
        "+--------------------------------+-------------+------------+---------+\n",
        "| Component                      | Coefficient | Std. Error | T-Score |\n",
        "+--------------------------------+-------------+------------+---------+\n",
        "| np.log1p(non_residential_rent) |    0.047    |   0.043    |  1.085  |\n",
        "| np.log1p(stories)              |    0.544    |   0.019    |  28.368 |\n",
        "| sum_residential_units          |    0.225    |   0.094    |  2.399  |\n",
        "| ave_unit_sqft                  |    -0.117   |   0.069    |  -1.708 |\n",
        "| ave_lot_sqft                   |    0.034    |   0.026    |  1.288  |\n",
        "| ave_income                     |    -0.304   |   0.065    |  -4.694 |\n",
        "| hhsize                         |    1.133    |   0.246    |  4.597  |\n",
        "| jobs                           |    0.353    |   0.022    |  16.238 |\n",
        "| sfdu                           |    -0.212   |   0.018    | -11.617 |\n",
        "| renters                        |    -0.172   |   0.041    |  -4.157 |\n",
        "| poor                           |    -0.101   |   0.061    |  -1.663 |\n",
        "+--------------------------------+-------------+------------+---------+\n",
        "\n",
        "LCM RESULTS FOR SEGMENT 92\n",
        "\n",
        "Null Log-liklihood: -39655.120\n",
        "Log-liklihood at convergence: -28794.600\n",
        "Log-liklihood Ratio: 0.274\n",
        "\n",
        "+--------------------------------+-------------+------------+---------+\n",
        "| Component                      | Coefficient | Std. Error | T-Score |\n",
        "+--------------------------------+-------------+------------+---------+\n",
        "| np.log1p(non_residential_rent) |    0.867    |   0.053    |  16.358 |\n",
        "| np.log1p(stories)              |    1.367    |   0.019    |  70.517 |\n",
        "| sum_residential_units          |    -2.763   |   0.198    | -13.950 |\n",
        "| ave_unit_sqft                  |    2.734    |   0.143    |  19.063 |\n",
        "| ave_lot_sqft                   |    1.181    |   0.058    |  20.457 |\n",
        "| ave_income                     |    -2.163   |   0.140    | -15.443 |\n",
        "| hhsize                         |    -3.000   |   0.577    |  -5.203 |\n",
        "| jobs                           |    0.826    |   0.040    |  20.633 |\n",
        "| sfdu                           |    0.214    |   0.036    |  5.912  |\n",
        "| renters                        |    1.777    |   0.071    |  24.996 |\n",
        "| poor                           |    1.560    |   0.118    |  13.246 |\n",
        "+--------------------------------+-------------+------------+---------+\n",
        "\n",
        "LCM RESULTS FOR SEGMENT 99\n",
        "\n",
        "Null Log-liklihood: -3665.715\n",
        "Log-liklihood at convergence: -2587.161\n",
        "Log-liklihood Ratio: 0.294\n",
        "\n",
        "+--------------------------------+-------------+------------+---------+\n",
        "| Component                      | Coefficient | Std. Error | T-Score |\n",
        "+--------------------------------+-------------+------------+---------+\n",
        "| np.log1p(non_residential_rent) |    0.160    |   0.277    |  0.576  |\n",
        "| np.log1p(stories)              |    0.656    |   0.079    |  8.321  |\n",
        "| sum_residential_units          |    1.954    |   0.636    |  3.070  |\n",
        "| ave_unit_sqft                  |    1.756    |   0.484    |  3.629  |\n",
        "| ave_lot_sqft                   |    -2.651   |   0.409    |  -6.487 |\n",
        "| ave_income                     |    -0.347   |   0.430    |  -0.807 |\n",
        "| hhsize                         |    2.902    |   1.865    |  1.556  |\n",
        "| jobs                           |    0.811    |   0.091    |  8.929  |\n",
        "| sfdu                           |    -0.458   |   0.109    |  -4.208 |\n",
        "| renters                        |    -1.360   |   0.303    |  -4.496 |\n",
        "| poor                           |    -1.070   |   0.418    |  -2.559 |\n",
        "+--------------------------------+-------------+------------+---------+\n",
        "\n",
        "Time to execute model = 125.795s"
       ]
      },
      {
       "output_type": "stream",
       "stream": "stdout",
       "text": [
        "\n"
       ]
      }
     ],
     "prompt_number": 10
    }
   ],
   "metadata": {}
  }
 ]
}