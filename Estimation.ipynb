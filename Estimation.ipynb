{
 "metadata": {
  "name": "",
  "signature": "sha256:c65a75727958697286d9a25c6dfc478c04cd52b1a5026592fecab7016c62cb26"
 },
 "nbformat": 3,
 "nbformat_minor": 0,
 "worksheets": [
  {
   "cells": [
    {
     "cell_type": "code",
     "collapsed": false,
     "input": [
      "%load_ext autoreload\n",
      "%autoreload 2\n",
      "import models\n",
      "import urbansim.sim.simulation as sim"
     ],
     "language": "python",
     "metadata": {},
     "outputs": [],
     "prompt_number": 1
    },
    {
     "cell_type": "code",
     "collapsed": false,
     "input": [
      "sim.run([\"build_networks\"])"
     ],
     "language": "python",
     "metadata": {},
     "outputs": [
      {
       "output_type": "stream",
       "stream": "stdout",
       "text": [
        "Running model build_networks\n"
       ]
      }
     ],
     "prompt_number": 2
    },
    {
     "cell_type": "heading",
     "level": 2,
     "metadata": {},
     "source": [
      "Compute Variables"
     ]
    },
    {
     "cell_type": "code",
     "collapsed": false,
     "input": [
      "sim.run([\"neighborhood_vars\"])"
     ],
     "language": "python",
     "metadata": {},
     "outputs": [
      {
       "output_type": "stream",
       "stream": "stdout",
       "text": [
        "Running model neighborhood_vars\n",
        "Computing accessibility variables\n",
        "Computing sum_residential_units\n",
        "    Fields available to accvar = residential_units, _node_id0\n",
        "    dataframe = buildings, varname=residential_units"
       ]
      },
      {
       "output_type": "stream",
       "stream": "stdout",
       "text": [
        "\n",
        "    radius = 1500, aggregation = AGG_SUM, decay = DECAY_LINEAR\n",
        "Computing sum_nonresidential_units"
       ]
      },
      {
       "output_type": "stream",
       "stream": "stdout",
       "text": [
        "\n",
        "    Fields available to accvar = non_residential_units, _node_id0\n",
        "    dataframe = buildings, varname=non_residential_units"
       ]
      },
      {
       "output_type": "stream",
       "stream": "stdout",
       "text": [
        "\n",
        "    radius = 1500, aggregation = AGG_SUM, decay = DECAY_LINEAR\n",
        "Computing ave_unit_sqft"
       ]
      },
      {
       "output_type": "stream",
       "stream": "stdout",
       "text": [
        "\n",
        "    Fields available to accvar = unit_sqft, general_type, _node_id0\n",
        "    Filters = ['general_type == \"Residential\"']"
       ]
      },
      {
       "output_type": "stream",
       "stream": "stdout",
       "text": [
        "\n",
        "    dataframe = buildings, varname=unit_sqft\n",
        "    radius = 1500, aggregation = AGG_AVE, decay = DECAY_FLAT\n",
        "Computing ave_lot_sqft"
       ]
      },
      {
       "output_type": "stream",
       "stream": "stdout",
       "text": [
        "\n",
        "    Fields available to accvar = unit_lot_size, _node_id0\n",
        "    dataframe = buildings, varname=unit_lot_size"
       ]
      },
      {
       "output_type": "stream",
       "stream": "stdout",
       "text": [
        "\n",
        "    radius = 1500, aggregation = AGG_AVE, decay = DECAY_FLAT\n",
        "Computing population"
       ]
      },
      {
       "output_type": "stream",
       "stream": "stdout",
       "text": [
        "\n",
        "    Fields available to accvar = persons, _node_id0\n",
        "    dataframe = households, varname=persons"
       ]
      },
      {
       "output_type": "stream",
       "stream": "stdout",
       "text": [
        "\n",
        "    radius = 1500, aggregation = AGG_SUM, decay = DECAY_LINEAR\n",
        "Computing poor"
       ]
      },
      {
       "output_type": "stream",
       "stream": "stdout",
       "text": [
        "\n",
        "    Fields available to accvar = persons, income, _node_id0\n",
        "    Filters = ['income < 40000']"
       ]
      },
      {
       "output_type": "stream",
       "stream": "stdout",
       "text": [
        "\n",
        "    dataframe = households, varname=persons\n",
        "    radius = 1500, aggregation = AGG_SUM, decay = DECAY_LINEAR\n",
        "Computing renters"
       ]
      },
      {
       "output_type": "stream",
       "stream": "stdout",
       "text": [
        "\n",
        "    Fields available to accvar = tenure, _node_id0\n",
        "    Filters = ['tenure == 2']"
       ]
      },
      {
       "output_type": "stream",
       "stream": "stdout",
       "text": [
        "\n",
        "    dataframe = households, varname=None\n",
        "    radius = 1500, aggregation = AGG_SUM, decay = DECAY_LINEAR\n",
        "Computing sfdu"
       ]
      },
      {
       "output_type": "stream",
       "stream": "stdout",
       "text": [
        "\n",
        "    Fields available to accvar = building_type_id, _node_id0\n",
        "    Filters = ['building_type_id == 1']"
       ]
      },
      {
       "output_type": "stream",
       "stream": "stdout",
       "text": [
        "\n",
        "    dataframe = buildings, varname=None\n",
        "    radius = 1500, aggregation = AGG_SUM, decay = DECAY_LINEAR\n",
        "Computing hhsize"
       ]
      },
      {
       "output_type": "stream",
       "stream": "stdout",
       "text": [
        "\n",
        "    Fields available to accvar = persons, _node_id0\n",
        "    dataframe = households, varname=persons"
       ]
      },
      {
       "output_type": "stream",
       "stream": "stdout",
       "text": [
        "\n",
        "    radius = 1500, aggregation = AGG_AVE, decay = DECAY_FLAT\n",
        "Computing jobs"
       ]
      },
      {
       "output_type": "stream",
       "stream": "stdout",
       "text": [
        "\n",
        "    Fields available to accvar = _node_id0\n",
        "    dataframe = jobs, varname=None"
       ]
      },
      {
       "output_type": "stream",
       "stream": "stdout",
       "text": [
        "\n",
        "    radius = 1500, aggregation = AGG_SUM, decay = DECAY_LINEAR\n",
        "Computing ave_income"
       ]
      },
      {
       "output_type": "stream",
       "stream": "stdout",
       "text": [
        "\n",
        "    Fields available to accvar = income, _node_id0\n",
        "    dataframe = households, varname=income"
       ]
      },
      {
       "output_type": "stream",
       "stream": "stdout",
       "text": [
        "\n",
        "    radius = 1500, aggregation = AGG_AVE, decay = DECAY_FLAT\n",
        "Done"
       ]
      },
      {
       "output_type": "stream",
       "stream": "stdout",
       "text": [
        "\n"
       ]
      }
     ],
     "prompt_number": 3
    },
    {
     "cell_type": "heading",
     "level": 2,
     "metadata": {},
     "source": [
      "Hedonic Estimation"
     ]
    },
    {
     "cell_type": "code",
     "collapsed": false,
     "input": [
      "sim.run([\"rsh_estimate\"])"
     ],
     "language": "python",
     "metadata": {},
     "outputs": [
      {
       "output_type": "stream",
       "stream": "stdout",
       "text": [
        "Running model rsh_estimate\n",
        "                               OLS Regression Results                               \n",
        "====================================================================================\n",
        "Dep. Variable:     np.log1p(sale_price_flt)   R-squared:                       0.217\n",
        "Model:                                  OLS   Adj. R-squared:                  0.216\n",
        "Method:                       Least Squares   F-statistic:                     302.7\n",
        "Date:                      Tue, 29 Jul 2014   Prob (F-statistic):               0.00\n",
        "Time:                              19:30:04   Log-Likelihood:                -4992.8\n",
        "No. Observations:                      8738   AIC:                         1.000e+04\n",
        "Df Residuals:                          8729   BIC:                         1.007e+04\n",
        "Df Model:                                 8                                         \n",
        "================================================================================================\n",
        "                                   coef    std err          t      P>|t|      [95.0% Conf. Int.]\n",
        "------------------------------------------------------------------------------------------------\n",
        "Intercept                        8.6208      0.113     76.353      0.000         8.399     8.842\n",
        "I(year_built < 1940)[T.True]     0.0436      0.010      4.357      0.000         0.024     0.063\n",
        "I(year_built > 2005)[T.True]     0.0713      0.076      0.932      0.351        -0.079     0.221\n",
        "np.log1p(unit_sqft)             -0.4346      0.010    -44.067      0.000        -0.454    -0.415\n",
        "np.log1p(unit_lot_size)          0.0634      0.007      8.871      0.000         0.049     0.077\n",
        "sum_residential_units            0.0837      0.007     12.529      0.000         0.071     0.097\n",
        "ave_unit_sqft                   -0.0016      0.026     -0.060      0.952        -0.053     0.050\n",
        "ave_lot_sqft                    -0.2809      0.016    -17.135      0.000        -0.313    -0.249\n",
        "ave_income                       0.1621      0.014     11.254      0.000         0.134     0.190\n",
        "==============================================================================\n",
        "Omnibus:                      867.822   Durbin-Watson:                   1.324\n",
        "Prob(Omnibus):                  0.000   Jarque-Bera (JB):             2405.219\n",
        "Skew:                          -0.551   Prob(JB):                         0.00\n",
        "Kurtosis:                       5.322   Cond. No.                         515.\n",
        "=============================================================================="
       ]
      },
      {
       "output_type": "stream",
       "stream": "stdout",
       "text": [
        "\n"
       ]
      }
     ],
     "prompt_number": 5
    },
    {
     "cell_type": "code",
     "collapsed": false,
     "input": [
      "sim.run([\"rrh_estimate\"])"
     ],
     "language": "python",
     "metadata": {},
     "outputs": [
      {
       "output_type": "stream",
       "stream": "stdout",
       "text": [
        "Running model rrh_estimate\n",
        "                            OLS Regression Results                            \n",
        "==============================================================================\n",
        "Dep. Variable:         np.log1p(rent)   R-squared:                       0.398\n",
        "Model:                            OLS   Adj. R-squared:                  0.381\n",
        "Method:                 Least Squares   F-statistic:                     22.79\n",
        "Date:                Tue, 29 Jul 2014   Prob (F-statistic):           1.64e-17\n",
        "Time:                        19:30:10   Log-Likelihood:                 95.640\n",
        "No. Observations:                 178   AIC:                            -179.3\n",
        "Df Residuals:                     172   BIC:                            -160.2\n",
        "Df Model:                           5                                         \n",
        "=========================================================================================\n",
        "                            coef    std err          t      P>|t|      [95.0% Conf. Int.]\n",
        "-----------------------------------------------------------------------------------------\n",
        "Intercept                 2.5404      0.382      6.652      0.000         1.787     3.294\n",
        "np.log1p(unit_sqft)      -0.1953      0.030     -6.471      0.000        -0.255    -0.136\n",
        "sum_residential_units    -0.0268      0.024     -1.110      0.268        -0.074     0.021\n",
        "ave_unit_sqft             0.0006      0.015      0.042      0.967        -0.028     0.030\n",
        "ave_lot_sqft             -0.0365      0.027     -1.336      0.183        -0.090     0.017\n",
        "jobs                      0.0752      0.015      5.049      0.000         0.046     0.105\n",
        "==============================================================================\n",
        "Omnibus:                       11.211   Durbin-Watson:                   1.302\n",
        "Prob(Omnibus):                  0.004   Jarque-Bera (JB):               27.319\n",
        "Skew:                          -0.030   Prob(JB):                     1.17e-06\n",
        "Kurtosis:                       4.918   Cond. No.                         662.\n",
        "=============================================================================="
       ]
      },
      {
       "output_type": "stream",
       "stream": "stdout",
       "text": [
        "\n"
       ]
      }
     ],
     "prompt_number": 6
    },
    {
     "cell_type": "code",
     "collapsed": false,
     "input": [
      "sim.run([\"nrh_estimate\"])"
     ],
     "language": "python",
     "metadata": {},
     "outputs": [
      {
       "output_type": "stream",
       "stream": "stdout",
       "text": [
        "Running model nrh_estimate\n",
        "REGRESSION RESULTS FOR SEGMENT Retail\n"
       ]
      },
      {
       "output_type": "stream",
       "stream": "stdout",
       "text": [
        "\n",
        "                            OLS Regression Results                            \n",
        "==============================================================================\n",
        "Dep. Variable:         np.log1p(rent)   R-squared:                       0.053\n",
        "Model:                            OLS   Adj. R-squared:                  0.013\n",
        "Method:                 Least Squares   F-statistic:                     1.316\n",
        "Date:                Tue, 29 Jul 2014   Prob (F-statistic):              0.262\n",
        "Time:                        19:30:12   Log-Likelihood:                -73.855\n",
        "No. Observations:                 124   AIC:                             159.7\n",
        "Df Residuals:                     118   BIC:                             176.6\n",
        "Df Model:                           5                                         \n",
        "================================================================================================\n",
        "                                   coef    std err          t      P>|t|      [95.0% Conf. Int.]\n",
        "------------------------------------------------------------------------------------------------\n",
        "Intercept                       -0.8609      2.476     -0.348      0.729        -5.765     4.043\n",
        "I(year_built < 1940)[T.True]    -0.0941      0.105     -0.896      0.372        -0.302     0.114\n",
        "I(year_built > 2005)[T.True]    -0.1046      0.246     -0.426      0.671        -0.591     0.382\n",
        "np.log1p(stories)               -0.0755      0.110     -0.684      0.495        -0.294     0.143\n",
        "ave_income                       0.2976      0.193      1.545      0.125        -0.084     0.679\n",
        "jobs                             0.1151      0.046      2.482      0.014         0.023     0.207\n",
        "==============================================================================\n",
        "Omnibus:                       15.597   Durbin-Watson:                   2.433\n",
        "Prob(Omnibus):                  0.000   Jarque-Bera (JB):               31.800\n",
        "Skew:                           0.492   Prob(JB):                     1.24e-07\n",
        "Kurtosis:                       5.277   Cond. No.                         910.\n",
        "==============================================================================\n",
        "REGRESSION RESULTS FOR SEGMENT Office\n",
        "\n",
        "                            OLS Regression Results                            \n",
        "==============================================================================\n",
        "Dep. Variable:         np.log1p(rent)   R-squared:                       0.044\n",
        "Model:                            OLS   Adj. R-squared:                  0.031\n",
        "Method:                 Least Squares   F-statistic:                     3.490\n",
        "Date:                Tue, 29 Jul 2014   Prob (F-statistic):            0.00426\n",
        "Time:                        19:30:12   Log-Likelihood:                -168.79\n",
        "No. Observations:                 385   AIC:                             349.6\n",
        "Df Residuals:                     379   BIC:                             373.3\n",
        "Df Model:                           5                                         \n",
        "================================================================================================\n",
        "                                   coef    std err          t      P>|t|      [95.0% Conf. Int.]\n",
        "------------------------------------------------------------------------------------------------\n",
        "Intercept                        3.5244      0.207     17.017      0.000         3.117     3.932\n",
        "I(year_built < 1940)[T.True]    -0.0787      0.046     -1.698      0.090        -0.170     0.012\n",
        "I(year_built > 2005)[T.True]    -0.0188      0.173     -0.109      0.913        -0.358     0.321\n",
        "np.log1p(stories)                0.0493      0.035      1.401      0.162        -0.020     0.118\n",
        "ave_income                      -0.0417      0.023     -1.831      0.068        -0.086     0.003\n",
        "jobs                             0.0194      0.018      1.079      0.281        -0.016     0.055\n",
        "==============================================================================\n",
        "Omnibus:                      106.606   Durbin-Watson:                   1.811\n",
        "Prob(Omnibus):                  0.000   Jarque-Bera (JB):              544.913\n",
        "Skew:                           1.074   Prob(JB):                    4.72e-119\n",
        "Kurtosis:                       8.418   Cond. No.                         167.\n",
        "==============================================================================\n",
        "REGRESSION RESULTS FOR SEGMENT Industrial\n",
        "\n",
        "                            OLS Regression Results                            \n",
        "==============================================================================\n",
        "Dep. Variable:         np.log1p(rent)   R-squared:                       0.984\n",
        "Model:                            OLS   Adj. R-squared:                  0.983\n",
        "Method:                 Least Squares   F-statistic:                     931.2\n",
        "Date:                Tue, 29 Jul 2014   Prob (F-statistic):           1.19e-66\n",
        "Time:                        19:30:12   Log-Likelihood:                -21.284\n",
        "No. Observations:                  81   AIC:                             52.57\n",
        "Df Residuals:                      76   BIC:                             64.54\n",
        "Df Model:                           5                                         \n",
        "================================================================================================\n",
        "                                   coef    std err          t      P>|t|      [95.0% Conf. Int.]\n",
        "------------------------------------------------------------------------------------------------\n",
        "Intercept                        2.5185      0.347      7.266      0.000         1.828     3.209\n",
        "I(year_built < 1940)[T.True]     0.0130      0.083      0.157      0.876        -0.152     0.178\n",
        "I(year_built > 2005)[T.True] -9.623e-17   1.68e-16     -0.573      0.568     -4.31e-16  2.38e-16\n",
        "np.log1p(stories)                0.0788      0.134      0.588      0.558        -0.188     0.346\n",
        "ave_income                      -0.0388      0.039     -0.994      0.323        -0.116     0.039\n",
        "jobs                             0.0338      0.035      0.956      0.342        -0.037     0.104\n",
        "==============================================================================\n",
        "Omnibus:                        8.537   Durbin-Watson:                   1.893\n",
        "Prob(Omnibus):                  0.014   Jarque-Bera (JB):               18.123\n",
        "Skew:                           0.117   Prob(JB):                     0.000116\n",
        "Kurtosis:                       5.305   Cond. No.                     6.08e+09\n",
        "==============================================================================\n",
        "\n",
        "Warnings:\n",
        "[1] The smallest eigenvalue is 4.44e-16. This might indicate that there are\n",
        "strong multicollinearity problems or that the design matrix is singular."
       ]
      },
      {
       "output_type": "stream",
       "stream": "stdout",
       "text": [
        "\n"
       ]
      }
     ],
     "prompt_number": 7
    },
    {
     "cell_type": "heading",
     "level": 2,
     "metadata": {},
     "source": [
      "Hedonic Simulation"
     ]
    },
    {
     "cell_type": "code",
     "collapsed": false,
     "input": [
      "sim.run([\"rsh_simulate\", \"rrh_simulate\", \"nrh_simulate\"])"
     ],
     "language": "python",
     "metadata": {},
     "outputs": [
      {
       "output_type": "stream",
       "stream": "stdout",
       "text": [
        "Running model rsh_simulate\n",
        "Dropped 3118 rows because they contained nans"
       ]
      },
      {
       "output_type": "stream",
       "stream": "stdout",
       "text": [
        "\n",
        "count    138407.000000\n",
        "mean        543.457014\n",
        "std         171.494620\n",
        "min          14.502545\n",
        "25%         461.634613\n",
        "50%         528.977634\n",
        "75%         596.176894\n",
        "max       10138.582062\n",
        "dtype: float64"
       ]
      },
      {
       "output_type": "stream",
       "stream": "stdout",
       "text": [
        "\n",
        "Running model rrh_simulate\n",
        "Dropped 2 rows because they contained nans"
       ]
      },
      {
       "output_type": "stream",
       "stream": "stdout",
       "text": [
        "\n",
        "count    140780.000000\n",
        "mean          3.412905\n",
        "std           0.499166\n",
        "min           0.630713\n",
        "25%           3.151931\n",
        "50%           3.343975\n",
        "75%           3.580759\n",
        "max          15.340111\n",
        "dtype: float64"
       ]
      },
      {
       "output_type": "stream",
       "stream": "stdout",
       "text": [
        "\n",
        "Running model nrh_simulate\n",
        "Dropped 3118 rows because they contained nans"
       ]
      },
      {
       "output_type": "stream",
       "stream": "stdout",
       "text": [
        "\n",
        "count    10203.000000\n",
        "mean        23.982738\n",
        "std          7.233765\n",
        "min          0.480017\n",
        "25%         22.415323\n",
        "50%         26.249629\n",
        "75%         28.755369\n",
        "max         40.735691\n",
        "dtype: float64"
       ]
      },
      {
       "output_type": "stream",
       "stream": "stdout",
       "text": [
        "\n"
       ]
      }
     ],
     "prompt_number": 8
    },
    {
     "cell_type": "heading",
     "level": 2,
     "metadata": {},
     "source": [
      "LCM Estimation"
     ]
    },
    {
     "cell_type": "code",
     "collapsed": false,
     "input": [
      "sim.run([\"hlcmo_estimate\"])"
     ],
     "language": "python",
     "metadata": {},
     "outputs": [
      {
       "output_type": "stream",
       "stream": "stdout",
       "text": [
        "Running model hlcmo_estimate\n",
        "Dropped 14198 rows because they contained nans"
       ]
      },
      {
       "output_type": "stream",
       "stream": "stdout",
       "text": [
        "\n",
        "LCM RESULTS FOR SEGMENT 0\n"
       ]
      },
      {
       "output_type": "stream",
       "stream": "stdout",
       "text": [
        "\n",
        "Null Log-liklihood: -65540.782\n",
        "Log-liklihood at convergence: -64540.603\n",
        "Log-liklihood Ratio: 0.015\n",
        "\n",
        "+-----------------------------------+-------------+------------+---------+\n",
        "| Component                         | Coefficient | Std. Error | T-Score |\n",
        "+-----------------------------------+-------------+------------+---------+\n",
        "| np.log1p(residential_sales_price) |    -1.795   |   0.158    | -11.343 |\n",
        "| np.log1p(unit_sqft)               |    -0.871   |   0.065    | -13.459 |\n",
        "| sum_residential_units             |    -1.720   |   0.071    | -24.382 |\n",
        "| ave_unit_sqft                     |    0.159    |   0.059    |  2.688  |\n",
        "| ave_lot_sqft                      |    -0.438   |   0.053    |  -8.349 |\n",
        "| ave_income                        |    -1.325   |   0.146    |  -9.093 |\n",
        "| hhsize                            |    -3.000   |   0.142    | -21.191 |\n",
        "| jobs                              |    0.138    |   0.020    |  6.771  |\n",
        "| poor                              |    -0.179   |   0.079    |  -2.269 |\n",
        "| population                        |    2.012    |   0.072    |  27.861 |\n",
        "+-----------------------------------+-------------+------------+---------+\n",
        "LCM RESULTS FOR SEGMENT 1\n",
        "\n",
        "Null Log-liklihood: -67940.076\n",
        "Log-liklihood at convergence: -67366.863\n",
        "Log-liklihood Ratio: 0.008\n",
        "\n",
        "+-----------------------------------+-------------+------------+---------+\n",
        "| Component                         | Coefficient | Std. Error | T-Score |\n",
        "+-----------------------------------+-------------+------------+---------+\n",
        "| np.log1p(residential_sales_price) |    -2.195   |   0.152    | -14.448 |\n",
        "| np.log1p(unit_sqft)               |    -1.064   |   0.063    | -16.953 |\n",
        "| sum_residential_units             |    -1.228   |   0.070    | -17.645 |\n",
        "| ave_unit_sqft                     |    0.196    |   0.056    |  3.471  |\n",
        "| ave_lot_sqft                      |    -0.669   |   0.052    | -12.861 |\n",
        "| ave_income                        |    -0.377   |   0.142    |  -2.666 |\n",
        "| hhsize                            |    -2.546   |   0.143    | -17.745 |\n",
        "| jobs                              |    0.131    |   0.020    |  6.496  |\n",
        "| poor                              |    -0.068   |   0.077    |  -0.886 |\n",
        "| population                        |    1.397    |   0.072    |  19.505 |\n",
        "+-----------------------------------+-------------+------------+---------+\n",
        "LCM RESULTS FOR SEGMENT 2\n",
        "\n",
        "Null Log-liklihood: -68082.836\n",
        "Log-liklihood at convergence: -67496.668\n",
        "Log-liklihood Ratio: 0.009\n",
        "\n",
        "+-----------------------------------+-------------+------------+---------+\n",
        "| Component                         | Coefficient | Std. Error | T-Score |\n",
        "+-----------------------------------+-------------+------------+---------+\n",
        "| np.log1p(residential_sales_price) |    -2.790   |   0.155    | -17.978 |\n",
        "| np.log1p(unit_sqft)               |    -1.333   |   0.063    | -21.220 |\n",
        "| sum_residential_units             |    -1.090   |   0.070    | -15.673 |\n",
        "| ave_unit_sqft                     |    0.038    |   0.056    |  0.667  |\n",
        "| ave_lot_sqft                      |    -0.734   |   0.053    | -13.800 |\n",
        "| ave_income                        |    -0.420   |   0.146    |  -2.872 |\n",
        "| hhsize                            |    -2.145   |   0.141    | -15.159 |\n",
        "| jobs                              |    0.124    |   0.020    |  6.134  |\n",
        "| poor                              |    -0.495   |   0.079    |  -6.283 |\n",
        "| population                        |    1.725    |   0.074    |  23.195 |\n",
        "+-----------------------------------+-------------+------------+---------+\n",
        "LCM RESULTS FOR SEGMENT 3\n",
        "\n",
        "Null Log-liklihood: -68032.179\n",
        "Log-liklihood at convergence: -67061.386\n",
        "Log-liklihood Ratio: 0.014\n",
        "\n",
        "+-----------------------------------+-------------+------------+---------+\n",
        "| Component                         | Coefficient | Std. Error | T-Score |\n",
        "+-----------------------------------+-------------+------------+---------+\n",
        "| np.log1p(residential_sales_price) |    -3.000   |   0.146    | -20.598 |\n",
        "| np.log1p(unit_sqft)               |    -1.464   |   0.059    | -24.845 |\n",
        "| sum_residential_units             |    -1.129   |   0.068    | -16.555 |\n",
        "| ave_unit_sqft                     |    0.229    |   0.057    |  4.033  |\n",
        "| ave_lot_sqft                      |    -0.884   |   0.052    | -17.087 |\n",
        "| ave_income                        |    1.175    |   0.138    |  8.482  |\n",
        "| hhsize                            |    -3.000   |   0.144    | -20.823 |\n",
        "| jobs                              |    0.213    |   0.020    |  10.466 |\n",
        "| poor                              |    -0.223   |   0.077    |  -2.910 |\n",
        "| population                        |    1.388    |   0.071    |  19.451 |\n",
        "+-----------------------------------+-------------+------------+---------+\n"
       ]
      }
     ],
     "prompt_number": 9
    },
    {
     "cell_type": "code",
     "collapsed": false,
     "input": [
      "sim.run([\"hlcmr_estimate\"])"
     ],
     "language": "python",
     "metadata": {},
     "outputs": [
      {
       "output_type": "stream",
       "stream": "stdout",
       "text": [
        "Running model hlcmr_estimate\n",
        "Dropped 11825 rows because they contained nans"
       ]
      },
      {
       "output_type": "stream",
       "stream": "stdout",
       "text": [
        "\n",
        "LCM RESULTS FOR SEGMENT 0\n"
       ]
      },
      {
       "output_type": "stream",
       "stream": "stdout",
       "text": [
        "\n",
        "Null Log-liklihood: -23025.851\n",
        "Log-liklihood at convergence: -18219.236\n",
        "Log-liklihood Ratio: 0.209\n",
        "\n",
        "+----------------------------+-------------+------------+---------+\n",
        "| Component                  | Coefficient | Std. Error | T-Score |\n",
        "+----------------------------+-------------+------------+---------+\n",
        "| np.log1p(residential_rent) |    -3.000   |   0.791    |  -3.791 |\n",
        "| np.log1p(unit_sqft)        |    -0.888   |   0.128    |  -6.922 |\n",
        "| sum_residential_units      |    -0.266   |   0.127    |  -2.100 |\n",
        "| ave_unit_sqft              |    -0.028   |   0.104    |  -0.273 |\n",
        "| ave_lot_sqft               |    0.653    |   0.052    |  12.564 |\n",
        "| ave_income                 |    -1.189   |   0.131    |  -9.082 |\n",
        "| hhsize                     |    -3.000   |   0.275    | -10.907 |\n",
        "| jobs                       |    0.310    |   0.059    |  5.247  |\n",
        "| poor                       |    0.783    |   0.095    |  8.213  |\n",
        "+----------------------------+-------------+------------+---------+\n",
        "LCM RESULTS FOR SEGMENT 1\n",
        "\n",
        "Null Log-liklihood: -23025.851\n",
        "Log-liklihood at convergence: -20057.991\n",
        "Log-liklihood Ratio: 0.129\n",
        "\n",
        "+----------------------------+-------------+------------+---------+\n",
        "| Component                  | Coefficient | Std. Error | T-Score |\n",
        "+----------------------------+-------------+------------+---------+\n",
        "| np.log1p(residential_rent) |    -3.000   |   0.767    |  -3.911 |\n",
        "| np.log1p(unit_sqft)        |    -1.026   |   0.126    |  -8.141 |\n",
        "| sum_residential_units      |    0.323    |   0.125    |  2.595  |\n",
        "| ave_unit_sqft              |    -0.254   |   0.105    |  -2.416 |\n",
        "| ave_lot_sqft               |    0.312    |   0.050    |  6.267  |\n",
        "| ave_income                 |    -1.167   |   0.130    |  -8.992 |\n",
        "| hhsize                     |    -3.000   |   0.267    | -11.226 |\n",
        "| jobs                       |    0.102    |   0.058    |  1.757  |\n",
        "| poor                       |    0.128    |   0.093    |  1.384  |\n",
        "+----------------------------+-------------+------------+---------+\n",
        "LCM RESULTS FOR SEGMENT 2\n",
        "\n",
        "Null Log-liklihood: -23025.851\n",
        "Log-liklihood at convergence: -20758.161\n",
        "Log-liklihood Ratio: 0.098\n",
        "\n",
        "+----------------------------+-------------+------------+---------+\n",
        "| Component                  | Coefficient | Std. Error | T-Score |\n",
        "+----------------------------+-------------+------------+---------+\n",
        "| np.log1p(residential_rent) |    -3.000   |   0.711    |  -4.222 |\n",
        "| np.log1p(unit_sqft)        |    -1.124   |   0.117    |  -9.599 |\n",
        "| sum_residential_units      |    0.518    |   0.119    |  4.340  |\n",
        "| ave_unit_sqft              |    -0.450   |   0.102    |  -4.418 |\n",
        "| ave_lot_sqft               |    0.138    |   0.049    |  2.801  |\n",
        "| ave_income                 |    -0.221   |   0.128    |  -1.732 |\n",
        "| hhsize                     |    -3.000   |   0.265    | -11.313 |\n",
        "| jobs                       |    0.200    |   0.052    |  3.825  |\n",
        "| poor                       |    -0.340   |   0.090    |  -3.775 |\n",
        "+----------------------------+-------------+------------+---------+\n",
        "LCM RESULTS FOR SEGMENT 3\n",
        "\n",
        "Null Log-liklihood: -23025.851\n",
        "Log-liklihood at convergence: -20675.019\n",
        "Log-liklihood Ratio: 0.102\n",
        "\n",
        "+----------------------------+-------------+------------+---------+\n",
        "| Component                  | Coefficient | Std. Error | T-Score |\n",
        "+----------------------------+-------------+------------+---------+\n",
        "| np.log1p(residential_rent) |    -3.000   |   0.705    |  -4.258 |\n",
        "| np.log1p(unit_sqft)        |    -1.189   |   0.117    | -10.161 |\n",
        "| sum_residential_units      |    0.447    |   0.122    |  3.672  |\n",
        "| ave_unit_sqft              |    -0.244   |   0.103    |  -2.372 |\n",
        "| ave_lot_sqft               |    -0.106   |   0.057    |  -1.852 |\n",
        "| ave_income                 |    1.025    |   0.131    |  7.817  |\n",
        "| hhsize                     |    -3.000   |   0.269    | -11.138 |\n",
        "| jobs                       |    0.341    |   0.053    |  6.392  |\n",
        "| poor                       |    -0.434   |   0.092    |  -4.740 |\n",
        "+----------------------------+-------------+------------+---------+\n"
       ]
      }
     ],
     "prompt_number": 10
    },
    {
     "cell_type": "code",
     "collapsed": false,
     "input": [
      "sim.run([\"elcm_estimate\"])"
     ],
     "language": "python",
     "metadata": {},
     "outputs": [
      {
       "output_type": "stream",
       "stream": "stdout",
       "text": [
        "Running model elcm_estimate\n",
        "Dropped 142402 rows because they contained nans"
       ]
      },
      {
       "output_type": "stream",
       "stream": "stdout",
       "text": [
        "\n",
        "LCM RESULTS FOR SEGMENT 11\n"
       ]
      },
      {
       "output_type": "stream",
       "stream": "stdout",
       "text": [
        "\n",
        "Null Log-liklihood: -2256.533\n",
        "Log-liklihood at convergence: -1739.238\n",
        "Log-liklihood Ratio: 0.229\n",
        "\n",
        "+--------------------------------+-------------+------------+---------+\n",
        "| Component                      | Coefficient | Std. Error | T-Score |\n",
        "+--------------------------------+-------------+------------+---------+\n",
        "| np.log1p(non_residential_rent) |    0.980    |   0.254    |  3.861  |\n",
        "| np.log1p(stories)              |    0.469    |   0.082    |  5.750  |\n",
        "| sum_residential_units          |    -1.088   |   0.465    |  -2.339 |\n",
        "| ave_unit_sqft                  |    1.475    |   0.243    |  6.080  |\n",
        "| ave_lot_sqft                   |    -2.171   |   0.180    | -12.037 |\n",
        "| ave_income                     |    -1.143   |   0.256    |  -4.470 |\n",
        "| hhsize                         |    -3.000   |   1.269    |  -2.365 |\n",
        "| jobs                           |    1.098    |   0.076    |  14.453 |\n",
        "| poor                           |    -0.541   |   0.328    |  -1.650 |\n",
        "+--------------------------------+-------------+------------+---------+\n",
        "LCM RESULTS FOR SEGMENT 21\n",
        "\n",
        "Null Log-liklihood: -515.779\n",
        "Log-liklihood at convergence: -193.053\n",
        "Log-liklihood Ratio: 0.626\n",
        "\n",
        "+--------------------------------+-------------+------------+---------+\n",
        "| Component                      | Coefficient | Std. Error | T-Score |\n",
        "+--------------------------------+-------------+------------+---------+\n",
        "| np.log1p(non_residential_rent) |    0.322    |   1.479    |  0.218  |\n",
        "| np.log1p(stories)              |    0.428    |   0.216    |  1.982  |\n",
        "| sum_residential_units          |    -0.149   |   3.188    |  -0.047 |\n",
        "| ave_unit_sqft                  |    -3.000   |   1.834    |  -1.636 |\n",
        "| ave_lot_sqft                   |    3.000    |   1.260    |  2.381  |\n",
        "| ave_income                     |    3.000    |   1.535    |  1.955  |\n",
        "| hhsize                         |    3.000    |   7.250    |  0.414  |\n",
        "| jobs                           |    2.475    |   0.589    |  4.206  |\n",
        "| poor                           |    -0.467   |   2.282    |  -0.205 |\n",
        "+--------------------------------+-------------+------------+---------+\n",
        "LCM RESULTS FOR SEGMENT 22\n",
        "\n",
        "Null Log-liklihood: -22183.105\n",
        "Log-liklihood at convergence: -3383.603\n",
        "Log-liklihood Ratio: 0.847\n",
        "\n",
        "+--------------------------------+-------------+------------+---------+\n",
        "| Component                      | Coefficient | Std. Error | T-Score |\n",
        "+--------------------------------+-------------+------------+---------+\n",
        "| np.log1p(non_residential_rent) |    3.000    |   0.161    |  18.625 |\n",
        "| np.log1p(stories)              |    -1.630   |   0.050    | -32.305 |\n",
        "| sum_residential_units          |    -0.109   |   0.332    |  -0.328 |\n",
        "| ave_unit_sqft                  |    -2.577   |   0.176    | -14.623 |\n",
        "| ave_lot_sqft                   |    2.866    |   0.069    |  41.695 |\n",
        "| ave_income                     |    1.534    |   0.182    |  8.434  |\n",
        "| hhsize                         |    3.000    |   0.964    |  3.112  |\n",
        "| jobs                           |    2.803    |   0.084    |  33.304 |\n",
        "| poor                           |    -1.056   |   0.229    |  -4.609 |\n",
        "+--------------------------------+-------------+------------+---------+\n",
        "LCM RESULTS FOR SEGMENT 23\n",
        "\n",
        "Null Log-liklihood: -44605.678\n",
        "Log-liklihood at convergence: -40982.553\n",
        "Log-liklihood Ratio: 0.081\n",
        "\n",
        "+--------------------------------+-------------+------------+---------+\n",
        "| Component                      | Coefficient | Std. Error | T-Score |\n",
        "+--------------------------------+-------------+------------+---------+\n",
        "| np.log1p(non_residential_rent) |    -0.508   |   0.036    | -14.303 |\n",
        "| np.log1p(stories)              |    0.786    |   0.021    |  37.854 |\n",
        "| sum_residential_units          |    -0.734   |   0.063    | -11.723 |\n",
        "| ave_unit_sqft                  |    0.332    |   0.047    |  7.098  |\n",
        "| ave_lot_sqft                   |    0.758    |   0.032    |  23.731 |\n",
        "| ave_income                     |    1.677    |   0.043    |  38.585 |\n",
        "| hhsize                         |    1.889    |   0.182    |  10.394 |\n",
        "| jobs                           |    0.547    |   0.017    |  33.103 |\n",
        "| poor                           |    0.511    |   0.046    |  11.064 |\n",
        "+--------------------------------+-------------+------------+---------+\n",
        "LCM RESULTS FOR SEGMENT 31\n",
        "\n",
        "Null Log-liklihood: -29905.975\n",
        "Log-liklihood at convergence: -24817.045\n",
        "Log-liklihood Ratio: 0.170\n",
        "\n",
        "+--------------------------------+-------------+------------+---------+\n",
        "| Component                      | Coefficient | Std. Error | T-Score |\n",
        "+--------------------------------+-------------+------------+---------+\n",
        "| np.log1p(non_residential_rent) |    0.553    |   0.053    |  10.479 |\n",
        "| np.log1p(stories)              |    -0.212   |   0.032    |  -6.619 |\n",
        "| sum_residential_units          |    -2.370   |   0.095    | -24.822 |\n",
        "| ave_unit_sqft                  |    0.256    |   0.109    |  2.352  |\n",
        "| ave_lot_sqft                   |    -1.425   |   0.092    | -15.530 |\n",
        "| ave_income                     |    0.378    |   0.052    |  7.309  |\n",
        "| hhsize                         |    -3.000   |   0.237    | -12.645 |\n",
        "| jobs                           |    1.345    |   0.030    |  44.992 |\n",
        "| poor                           |    0.290    |   0.069    |  4.173  |\n",
        "+--------------------------------+-------------+------------+---------+\n",
        "LCM RESULTS FOR SEGMENT 32\n",
        "\n",
        "Null Log-liklihood: -18158.186\n",
        "Log-liklihood at convergence: -15778.025\n",
        "Log-liklihood Ratio: 0.131\n",
        "\n",
        "+--------------------------------+-------------+------------+---------+\n",
        "| Component                      | Coefficient | Std. Error | T-Score |\n",
        "+--------------------------------+-------------+------------+---------+\n",
        "| np.log1p(non_residential_rent) |    -0.391   |   0.068    |  -5.758 |\n",
        "| np.log1p(stories)              |    0.522    |   0.032    |  16.351 |\n",
        "| sum_residential_units          |    -3.000   |   0.102    | -29.366 |\n",
        "| ave_unit_sqft                  |    1.814    |   0.098    |  18.546 |\n",
        "| ave_lot_sqft                   |    0.172    |   0.075    |  2.281  |\n",
        "| ave_income                     |    3.000    |   0.083    |  36.331 |\n",
        "| hhsize                         |    0.962    |   0.361    |  2.668  |\n",
        "| jobs                           |    1.332    |   0.031    |  43.092 |\n",
        "| poor                           |    2.132    |   0.077    |  27.770 |\n",
        "+--------------------------------+-------------+------------+---------+\n",
        "LCM RESULTS FOR SEGMENT 33\n",
        "\n",
        "Null Log-liklihood: -19682.497\n",
        "Log-liklihood at convergence: -18138.341\n",
        "Log-liklihood Ratio: 0.078\n",
        "\n",
        "+--------------------------------+-------------+------------+---------+\n",
        "| Component                      | Coefficient | Std. Error | T-Score |\n",
        "+--------------------------------+-------------+------------+---------+\n",
        "| np.log1p(non_residential_rent) |    -0.648   |   0.059    | -11.059 |\n",
        "| np.log1p(stories)              |    0.466    |   0.032    |  14.435 |\n",
        "| sum_residential_units          |    -1.460   |   0.117    | -12.444 |\n",
        "| ave_unit_sqft                  |    0.618    |   0.123    |  5.020  |\n",
        "| ave_lot_sqft                   |    0.006    |   0.099    |  0.063  |\n",
        "| ave_income                     |    1.712    |   0.072    |  23.915 |\n",
        "| hhsize                         |    0.406    |   0.315    |  1.290  |\n",
        "| jobs                           |    0.917    |   0.032    |  28.577 |\n",
        "| poor                           |    0.818    |   0.083    |  9.889  |\n",
        "+--------------------------------+-------------+------------+---------+\n",
        "LCM RESULTS FOR SEGMENT 42\n",
        "\n",
        "Null Log-liklihood: -50905.551\n",
        "Log-liklihood at convergence: -40247.817\n",
        "Log-liklihood Ratio: 0.209\n",
        "\n",
        "+--------------------------------+-------------+------------+---------+\n",
        "| Component                      | Coefficient | Std. Error | T-Score |\n",
        "+--------------------------------+-------------+------------+---------+\n",
        "| np.log1p(non_residential_rent) |    -0.013   |   0.036    |  -0.357 |\n",
        "| np.log1p(stories)              |    0.866    |   0.016    |  55.381 |\n",
        "| sum_residential_units          |    -0.959   |   0.069    | -13.919 |\n",
        "| ave_unit_sqft                  |    -0.586   |   0.050    | -11.673 |\n",
        "| ave_lot_sqft                   |    0.753    |   0.033    |  23.047 |\n",
        "| ave_income                     |    0.613    |   0.046    |  13.384 |\n",
        "| hhsize                         |    0.701    |   0.197    |  3.562  |\n",
        "| jobs                           |    0.770    |   0.016    |  46.922 |\n",
        "| poor                           |    0.165    |   0.048    |  3.426  |\n",
        "+--------------------------------+-------------+------------+---------+\n",
        "LCM RESULTS FOR SEGMENT 44\n",
        "\n",
        "Null Log-liklihood: -43463.596\n",
        "Log-liklihood at convergence: -38952.298\n",
        "Log-liklihood Ratio: 0.104\n",
        "\n",
        "+--------------------------------+-------------+------------+---------+\n",
        "| Component                      | Coefficient | Std. Error | T-Score |\n",
        "+--------------------------------+-------------+------------+---------+\n",
        "| np.log1p(non_residential_rent) |    0.865    |   0.043    |  20.020 |\n",
        "| np.log1p(stories)              |    0.723    |   0.020    |  35.507 |\n",
        "| sum_residential_units          |    -0.381   |   0.090    |  -4.246 |\n",
        "| ave_unit_sqft                  |    0.522    |   0.068    |  7.638  |\n",
        "| ave_lot_sqft                   |    -0.054   |   0.049    |  -1.091 |\n",
        "| ave_income                     |    0.717    |   0.049    |  14.748 |\n",
        "| hhsize                         |    -1.330   |   0.222    |  -5.992 |\n",
        "| jobs                           |    0.361    |   0.021    |  16.850 |\n",
        "| poor                           |    -0.123   |   0.062    |  -1.993 |\n",
        "+--------------------------------+-------------+------------+---------+\n",
        "LCM RESULTS FOR SEGMENT 45\n",
        "\n",
        "Null Log-liklihood: -36302.557\n",
        "Log-liklihood at convergence: -33151.729\n",
        "Log-liklihood Ratio: 0.087\n",
        "\n",
        "+--------------------------------+-------------+------------+---------+\n",
        "| Component                      | Coefficient | Std. Error | T-Score |\n",
        "+--------------------------------+-------------+------------+---------+\n",
        "| np.log1p(non_residential_rent) |    1.185    |   0.052    |  22.934 |\n",
        "| np.log1p(stories)              |    0.428    |   0.022    |  19.451 |\n",
        "| sum_residential_units          |    -0.464   |   0.089    |  -5.217 |\n",
        "| ave_unit_sqft                  |    0.566    |   0.081    |  6.978  |\n",
        "| ave_lot_sqft                   |    -0.004   |   0.061    |  -0.059 |\n",
        "| ave_income                     |    -0.212   |   0.047    |  -4.547 |\n",
        "| hhsize                         |    -3.000   |   0.233    | -12.855 |\n",
        "| jobs                           |    0.200    |   0.023    |  8.711  |\n",
        "| poor                           |    0.197    |   0.060    |  3.276  |\n",
        "+--------------------------------+-------------+------------+---------+\n",
        "LCM RESULTS FOR SEGMENT 48\n",
        "\n",
        "Null Log-liklihood: -20502.218\n",
        "Log-liklihood at convergence: -15360.103\n",
        "Log-liklihood Ratio: 0.251\n",
        "\n",
        "+--------------------------------+-------------+------------+---------+\n",
        "| Component                      | Coefficient | Std. Error | T-Score |\n",
        "+--------------------------------+-------------+------------+---------+\n",
        "| np.log1p(non_residential_rent) |    0.106    |   0.066    |  1.603  |\n",
        "| np.log1p(stories)              |    0.429    |   0.026    |  16.557 |\n",
        "| sum_residential_units          |    -2.332   |   0.094    | -24.676 |\n",
        "| ave_unit_sqft                  |    0.391    |   0.089    |  4.388  |\n",
        "| ave_lot_sqft                   |    -0.379   |   0.068    |  -5.543 |\n",
        "| ave_income                     |    0.662    |   0.060    |  10.967 |\n",
        "| hhsize                         |    -3.000   |   0.237    | -12.666 |\n",
        "| jobs                           |    1.008    |   0.021    |  48.238 |\n",
        "| poor                           |    0.414    |   0.068    |  6.111  |\n",
        "+--------------------------------+-------------+------------+---------+\n",
        "LCM RESULTS FOR SEGMENT 49\n",
        "\n",
        "Null Log-liklihood: -12130.018\n",
        "Log-liklihood at convergence: -9297.953\n",
        "Log-liklihood Ratio: 0.233\n",
        "\n",
        "+--------------------------------+-------------+------------+---------+\n",
        "| Component                      | Coefficient | Std. Error | T-Score |\n",
        "+--------------------------------+-------------+------------+---------+\n",
        "| np.log1p(non_residential_rent) |    -0.369   |   0.110    |  -3.358 |\n",
        "| np.log1p(stories)              |    -0.046   |   0.085    |  -0.542 |\n",
        "| sum_residential_units          |    -2.957   |   0.114    | -25.854 |\n",
        "| ave_unit_sqft                  |    -0.149   |   0.146    |  -1.017 |\n",
        "| ave_lot_sqft                   |    0.715    |   0.058    |  12.295 |\n",
        "| ave_income                     |    0.022    |   0.145    |  0.155  |\n",
        "| hhsize                         |    3.000    |   0.516    |  5.809  |\n",
        "| jobs                           |    0.620    |   0.041    |  15.298 |\n",
        "| poor                           |    2.050    |   0.063    |  32.300 |\n",
        "+--------------------------------+-------------+------------+---------+\n",
        "LCM RESULTS FOR SEGMENT 51\n",
        "\n",
        "Null Log-liklihood: -47852.323\n",
        "Log-liklihood at convergence: -35742.434\n",
        "Log-liklihood Ratio: 0.253\n",
        "\n",
        "+--------------------------------+-------------+------------+---------+\n",
        "| Component                      | Coefficient | Std. Error | T-Score |\n",
        "+--------------------------------+-------------+------------+---------+\n",
        "| np.log1p(non_residential_rent) |    -0.299   |   0.037    |  -8.146 |\n",
        "| np.log1p(stories)              |    0.268    |   0.016    |  16.878 |\n",
        "| sum_residential_units          |    -0.488   |   0.085    |  -5.750 |\n",
        "| ave_unit_sqft                  |    0.506    |   0.074    |  6.881  |\n",
        "| ave_lot_sqft                   |    -0.714   |   0.056    | -12.841 |\n",
        "| ave_income                     |    -0.159   |   0.048    |  -3.332 |\n",
        "| hhsize                         |    -3.000   |   0.259    | -11.600 |\n",
        "| jobs                           |    1.163    |   0.019    |  61.833 |\n",
        "| poor                           |    -0.682   |   0.061    | -11.254 |\n",
        "+--------------------------------+-------------+------------+---------+\n",
        "LCM RESULTS FOR SEGMENT 52\n",
        "\n",
        "Null Log-liklihood: -53852.860\n",
        "Log-liklihood at convergence: -25625.828\n",
        "Log-liklihood Ratio: 0.524\n",
        "\n",
        "+--------------------------------+-------------+------------+---------+\n",
        "| Component                      | Coefficient | Std. Error | T-Score |\n",
        "+--------------------------------+-------------+------------+---------+\n",
        "| np.log1p(non_residential_rent) |    0.815    |   0.081    |  10.006 |\n",
        "| np.log1p(stories)              |    1.019    |   0.016    |  65.623 |\n",
        "| sum_residential_units          |    -1.405   |   0.126    | -11.155 |\n",
        "| ave_unit_sqft                  |    -2.154   |   0.083    | -26.020 |\n",
        "| ave_lot_sqft                   |    0.985    |   0.062    |  15.941 |\n",
        "| ave_income                     |    2.838    |   0.068    |  41.444 |\n",
        "| hhsize                         |    -3.000   |   0.385    |  -7.794 |\n",
        "| jobs                           |    1.354    |   0.027    |  50.310 |\n",
        "| poor                           |    0.325    |   0.092    |  3.546  |\n",
        "+--------------------------------+-------------+------------+---------+\n",
        "LCM RESULTS FOR SEGMENT 53\n",
        "\n",
        "Null Log-liklihood: -37242.011\n",
        "Log-liklihood at convergence: -31730.803\n",
        "Log-liklihood Ratio: 0.148\n",
        "\n",
        "+--------------------------------+-------------+------------+---------+\n",
        "| Component                      | Coefficient | Std. Error | T-Score |\n",
        "+--------------------------------+-------------+------------+---------+\n",
        "| np.log1p(non_residential_rent) |    0.318    |   0.055    |  5.795  |\n",
        "| np.log1p(stories)              |    0.873    |   0.020    |  44.731 |\n",
        "| sum_residential_units          |    0.038    |   0.090    |  0.421  |\n",
        "| ave_unit_sqft                  |    -1.279   |   0.052    | -24.579 |\n",
        "| ave_lot_sqft                   |    0.173    |   0.032    |  5.368  |\n",
        "| ave_income                     |    1.072    |   0.054    |  19.709 |\n",
        "| hhsize                         |    -3.000   |   0.274    | -10.965 |\n",
        "| jobs                           |    0.319    |   0.018    |  18.176 |\n",
        "| poor                           |    -0.409   |   0.067    |  -6.101 |\n",
        "+--------------------------------+-------------+------------+---------+\n",
        "LCM RESULTS FOR SEGMENT 54\n",
        "\n",
        "Null Log-liklihood: -55584.404\n",
        "Log-liklihood at convergence: -34266.937\n",
        "Log-liklihood Ratio: 0.384\n",
        "\n",
        "+--------------------------------+-------------+------------+---------+\n",
        "| Component                      | Coefficient | Std. Error | T-Score |\n",
        "+--------------------------------+-------------+------------+---------+\n",
        "| np.log1p(non_residential_rent) |    0.139    |   0.045    |  3.107  |\n",
        "| np.log1p(stories)              |    0.772    |   0.013    |  59.052 |\n",
        "| sum_residential_units          |    -0.605   |   0.090    |  -6.747 |\n",
        "| ave_unit_sqft                  |    -1.456   |   0.065    | -22.440 |\n",
        "| ave_lot_sqft                   |    1.044    |   0.049    |  21.185 |\n",
        "| ave_income                     |    1.519    |   0.052    |  29.093 |\n",
        "| hhsize                         |    -3.000   |   0.284    | -10.574 |\n",
        "| jobs                           |    1.059    |   0.019    |  54.476 |\n",
        "| poor                           |    -0.156   |   0.066    |  -2.375 |\n",
        "+--------------------------------+-------------+------------+---------+\n",
        "LCM RESULTS FOR SEGMENT 55\n",
        "\n",
        "Null Log-liklihood: -5705.806\n",
        "Log-liklihood at convergence: -3316.352\n",
        "Log-liklihood Ratio: 0.419\n",
        "\n",
        "+--------------------------------+-------------+------------+---------+\n",
        "| Component                      | Coefficient | Std. Error | T-Score |\n",
        "+--------------------------------+-------------+------------+---------+\n",
        "| np.log1p(non_residential_rent) |    0.735    |   0.189    |  3.892  |\n",
        "| np.log1p(stories)              |    0.838    |   0.043    |  19.521 |\n",
        "| sum_residential_units          |    -1.546   |   0.379    |  -4.080 |\n",
        "| ave_unit_sqft                  |    -1.124   |   0.318    |  -3.535 |\n",
        "| ave_lot_sqft                   |    0.194    |   0.255    |  0.760  |\n",
        "| ave_income                     |    3.000    |   0.199    |  15.053 |\n",
        "| hhsize                         |    -1.483   |   1.059    |  -1.400 |\n",
        "| jobs                           |    1.474    |   0.076    |  19.281 |\n",
        "| poor                           |    0.523    |   0.272    |  1.924  |\n",
        "+--------------------------------+-------------+------------+---------+\n",
        "LCM RESULTS FOR SEGMENT 56\n",
        "\n",
        "Null Log-liklihood: -39051.843\n",
        "Log-liklihood at convergence: -33285.309\n",
        "Log-liklihood Ratio: 0.148\n",
        "\n",
        "+--------------------------------+-------------+------------+---------+\n",
        "| Component                      | Coefficient | Std. Error | T-Score |\n",
        "+--------------------------------+-------------+------------+---------+\n",
        "| np.log1p(non_residential_rent) |    0.382    |   0.043    |  8.926  |\n",
        "| np.log1p(stories)              |    0.648    |   0.017    |  37.501 |\n",
        "| sum_residential_units          |    -0.721   |   0.090    |  -7.997 |\n",
        "| ave_unit_sqft                  |    -0.716   |   0.055    | -13.030 |\n",
        "| ave_lot_sqft                   |    0.150    |   0.036    |  4.171  |\n",
        "| ave_income                     |    0.881    |   0.054    |  16.331 |\n",
        "| hhsize                         |    -3.000   |   0.269    | -11.151 |\n",
        "| jobs                           |    0.561    |   0.017    |  32.389 |\n",
        "| poor                           |    -0.003   |   0.067    |  -0.040 |\n",
        "+--------------------------------+-------------+------------+---------+\n",
        "LCM RESULTS FOR SEGMENT 61\n",
        "\n",
        "Null Log-liklihood: -28625.738\n",
        "Log-liklihood at convergence: -26182.723\n",
        "Log-liklihood Ratio: 0.085\n",
        "\n",
        "+--------------------------------+-------------+------------+---------+\n",
        "| Component                      | Coefficient | Std. Error | T-Score |\n",
        "+--------------------------------+-------------+------------+---------+\n",
        "| np.log1p(non_residential_rent) |    0.744    |   0.062    |  12.018 |\n",
        "| np.log1p(stories)              |    0.928    |   0.025    |  36.508 |\n",
        "| sum_residential_units          |    -0.276   |   0.115    |  -2.390 |\n",
        "| ave_unit_sqft                  |    -0.080   |   0.062    |  -1.303 |\n",
        "| ave_lot_sqft                   |    -0.196   |   0.025    |  -7.733 |\n",
        "| ave_income                     |    -0.424   |   0.073    |  -5.793 |\n",
        "| hhsize                         |    0.146    |   0.314    |  0.465  |\n",
        "| jobs                           |    0.141    |   0.023    |  6.212  |\n",
        "| poor                           |    0.224    |   0.086    |  2.612  |\n",
        "+--------------------------------+-------------+------------+---------+\n",
        "LCM RESULTS FOR SEGMENT 62\n",
        "\n",
        "Null Log-liklihood: -34133.521\n",
        "Log-liklihood at convergence: -31631.589\n",
        "Log-liklihood Ratio: 0.073\n",
        "\n",
        "+--------------------------------+-------------+------------+---------+\n",
        "| Component                      | Coefficient | Std. Error | T-Score |\n",
        "+--------------------------------+-------------+------------+---------+\n",
        "| np.log1p(non_residential_rent) |    -0.213   |   0.048    |  -4.454 |\n",
        "| np.log1p(stories)              |    0.925    |   0.021    |  43.720 |\n",
        "| sum_residential_units          |    0.314    |   0.105    |  3.003  |\n",
        "| ave_unit_sqft                  |    2.065    |   0.064    |  32.358 |\n",
        "| ave_lot_sqft                   |    -1.546   |   0.035    | -43.940 |\n",
        "| ave_income                     |    0.236    |   0.061    |  3.883  |\n",
        "| hhsize                         |    -0.995   |   0.266    |  -3.745 |\n",
        "| jobs                           |    0.250    |   0.020    |  12.764 |\n",
        "| poor                           |    -0.190   |   0.073    |  -2.615 |\n",
        "+--------------------------------+-------------+------------+---------+\n",
        "LCM RESULTS FOR SEGMENT 71\n",
        "\n",
        "Null Log-liklihood: -33392.089\n",
        "Log-liklihood at convergence: -30384.093\n",
        "Log-liklihood Ratio: 0.090\n",
        "\n",
        "+--------------------------------+-------------+------------+---------+\n",
        "| Component                      | Coefficient | Std. Error | T-Score |\n",
        "+--------------------------------+-------------+------------+---------+\n",
        "| np.log1p(non_residential_rent) |    0.978    |   0.045    |  21.732 |\n",
        "| np.log1p(stories)              |    0.174    |   0.022    |  7.966  |\n",
        "| sum_residential_units          |    -0.668   |   0.101    |  -6.613 |\n",
        "| ave_unit_sqft                  |    0.379    |   0.095    |  4.010  |\n",
        "| ave_lot_sqft                   |    0.139    |   0.072    |  1.923  |\n",
        "| ave_income                     |    -0.077   |   0.047    |  -1.640 |\n",
        "| hhsize                         |    -3.000   |   0.242    | -12.375 |\n",
        "| jobs                           |    0.383    |   0.027    |  14.292 |\n",
        "| poor                           |    0.371    |   0.068    |  5.445  |\n",
        "+--------------------------------+-------------+------------+---------+\n",
        "LCM RESULTS FOR SEGMENT 72\n",
        "\n",
        "Null Log-liklihood: -40378.132\n",
        "Log-liklihood at convergence: -35867.825\n",
        "Log-liklihood Ratio: 0.112\n",
        "\n",
        "+--------------------------------+-------------+------------+---------+\n",
        "| Component                      | Coefficient | Std. Error | T-Score |\n",
        "+--------------------------------+-------------+------------+---------+\n",
        "| np.log1p(non_residential_rent) |    1.062    |   0.051    |  20.815 |\n",
        "| np.log1p(stories)              |    0.319    |   0.020    |  15.581 |\n",
        "| sum_residential_units          |    -0.568   |   0.103    |  -5.512 |\n",
        "| ave_unit_sqft                  |    -0.231   |   0.081    |  -2.858 |\n",
        "| ave_lot_sqft                   |    -0.160   |   0.063    |  -2.523 |\n",
        "| ave_income                     |    0.232    |   0.048    |  4.853  |\n",
        "| hhsize                         |    -3.000   |   0.236    | -12.733 |\n",
        "| jobs                           |    0.480    |   0.022    |  21.612 |\n",
        "| poor                           |    0.192    |   0.071    |  2.697  |\n",
        "+--------------------------------+-------------+------------+---------+\n",
        "LCM RESULTS FOR SEGMENT 81\n",
        "\n",
        "Null Log-liklihood: -42934.002\n",
        "Log-liklihood at convergence: -39564.421\n",
        "Log-liklihood Ratio: 0.078\n",
        "\n",
        "+--------------------------------+-------------+------------+---------+\n",
        "| Component                      | Coefficient | Std. Error | T-Score |\n",
        "+--------------------------------+-------------+------------+---------+\n",
        "| np.log1p(non_residential_rent) |    0.207    |   0.041    |  5.059  |\n",
        "| np.log1p(stories)              |    0.594    |   0.019    |  31.566 |\n",
        "| sum_residential_units          |    -0.039   |   0.082    |  -0.475 |\n",
        "| ave_unit_sqft                  |    -0.393   |   0.047    |  -8.408 |\n",
        "| ave_lot_sqft                   |    0.049    |   0.023    |  2.100  |\n",
        "| ave_income                     |    -0.014   |   0.050    |  -0.284 |\n",
        "| hhsize                         |    -0.141   |   0.225    |  -0.627 |\n",
        "| jobs                           |    0.402    |   0.016    |  24.875 |\n",
        "| poor                           |    -0.130   |   0.059    |  -2.180 |\n",
        "+--------------------------------+-------------+------------+---------+\n",
        "LCM RESULTS FOR SEGMENT 92\n",
        "\n",
        "Null Log-liklihood: -40221.556\n",
        "Log-liklihood at convergence: -29997.946\n",
        "Log-liklihood Ratio: 0.254\n",
        "\n",
        "+--------------------------------+-------------+------------+---------+\n",
        "| Component                      | Coefficient | Std. Error | T-Score |\n",
        "+--------------------------------+-------------+------------+---------+\n",
        "| np.log1p(non_residential_rent) |    0.743    |   0.052    |  14.205 |\n",
        "| np.log1p(stories)              |    1.195    |   0.019    |  61.612 |\n",
        "| sum_residential_units          |    -1.857   |   0.163    | -11.371 |\n",
        "| ave_unit_sqft                  |    1.960    |   0.105    |  18.595 |\n",
        "| ave_lot_sqft                   |    0.024    |   0.088    |  0.272  |\n",
        "| ave_income                     |    -1.225   |   0.096    | -12.828 |\n",
        "| hhsize                         |    -3.000   |   0.497    |  -6.039 |\n",
        "| jobs                           |    0.256    |   0.030    |  8.396  |\n",
        "| poor                           |    1.566    |   0.107    |  14.596 |\n",
        "+--------------------------------+-------------+------------+---------+\n",
        "LCM RESULTS FOR SEGMENT 99\n",
        "\n",
        "Null Log-liklihood: -3665.715\n",
        "Log-liklihood at convergence: -2634.241\n",
        "Log-liklihood Ratio: 0.281\n",
        "\n",
        "+--------------------------------+-------------+------------+---------+\n",
        "| Component                      | Coefficient | Std. Error | T-Score |\n",
        "+--------------------------------+-------------+------------+---------+\n",
        "| np.log1p(non_residential_rent) |    0.414    |   0.272    |  1.521  |\n",
        "| np.log1p(stories)              |    0.734    |   0.075    |  9.801  |\n",
        "| sum_residential_units          |    1.029    |   0.569    |  1.808  |\n",
        "| ave_unit_sqft                  |    0.881    |   0.387    |  2.279  |\n",
        "| ave_lot_sqft                   |    -1.733   |   0.289    |  -5.992 |\n",
        "| ave_income                     |    -1.256   |   0.285    |  -4.401 |\n",
        "| hhsize                         |    -1.786   |   1.724    |  -1.036 |\n",
        "| jobs                           |    0.961    |   0.083    |  11.548 |\n",
        "| poor                           |    -1.495   |   0.388    |  -3.855 |\n",
        "+--------------------------------+-------------+------------+---------+\n"
       ]
      }
     ],
     "prompt_number": 11
    },
    {
     "cell_type": "code",
     "collapsed": false,
     "input": [],
     "language": "python",
     "metadata": {},
     "outputs": []
    }
   ],
   "metadata": {}
  }
 ]
}