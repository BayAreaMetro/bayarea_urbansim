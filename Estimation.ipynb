{
 "metadata": {
  "name": "",
  "signature": "sha256:34d55d26c4adf5d1a86a20de1191926319fe07e77c269435dcde48c964d698dc"
 },
 "nbformat": 3,
 "nbformat_minor": 0,
 "worksheets": [
  {
   "cells": [
    {
     "cell_type": "code",
     "collapsed": false,
     "input": [
      "%load_ext autoreload\n",
      "%autoreload 2\n",
      "import models\n",
      "import dataset"
     ],
     "language": "python",
     "metadata": {},
     "outputs": [],
     "prompt_number": 1
    },
    {
     "cell_type": "code",
     "collapsed": false,
     "input": [
      "dset = dataset.BayAreaDataset(\"data/bayarea.h5\")\n",
      "dset.debug = True"
     ],
     "language": "python",
     "metadata": {},
     "outputs": [],
     "prompt_number": 2
    },
    {
     "cell_type": "code",
     "collapsed": false,
     "input": [
      "models.build_networks(dset)"
     ],
     "language": "python",
     "metadata": {},
     "outputs": [],
     "prompt_number": 3
    },
    {
     "cell_type": "heading",
     "level": 2,
     "metadata": {},
     "source": [
      "Compute Variables"
     ]
    },
    {
     "cell_type": "code",
     "collapsed": false,
     "input": [
      "models.neighborhood_vars(dset)"
     ],
     "language": "python",
     "metadata": {},
     "outputs": [
      {
       "output_type": "stream",
       "stream": "stdout",
       "text": [
        "Computing accessibility variables\n",
        "Computing sum_residential_units\n",
        "    Fields available to accvar = residential_units, _node_id0\n",
        "Fetching buildings\n",
        "Returning primary attribute: year_built of buildings"
       ]
      },
      {
       "output_type": "stream",
       "stream": "stdout",
       "text": [
        "\n",
        "Computing: unit_lot_size of buildings as\n",
        "    buildings.lot_size / buildings.residential_units\n",
        "Computing: lot_size of buildings as\n",
        "    reindex(parcels.shape_area, buildings.parcel_id) * 10.764\n",
        "Fetching parcels\n",
        "Returning primary attribute: shape_area of parcels"
       ]
      },
      {
       "output_type": "stream",
       "stream": "stdout",
       "text": [
        "\n",
        "Returning primary attribute: parcel_id of buildings\n",
        "Returning primary attribute: residential_units of buildings"
       ]
      },
      {
       "output_type": "stream",
       "stream": "stdout",
       "text": [
        "\n",
        "Computing: unit_sqft of buildings as\n",
        "    buildings.building_sqft / buildings.residential_units\n",
        "Returning primary attribute: building_sqft of buildings\n",
        "Returning primary attribute: residential_units of buildings\n",
        "Returning primary attribute: building_type_id of buildings\n",
        "Returning primary attribute: stories of buildings"
       ]
      },
      {
       "output_type": "stream",
       "stream": "stdout",
       "text": [
        "\n",
        "Returning primary attribute: residential_units of buildings\n",
        "Fetching building_sqft_per_job\n",
        "Returning primary attribute: building_type_id of buildings\n",
        "Returning primary attribute: non_residential_sqft of buildings"
       ]
      },
      {
       "output_type": "stream",
       "stream": "stdout",
       "text": [
        "\n",
        "Returning primary attribute: building_type_id of buildings\n",
        "Returning primary attribute: residential_sales_price of buildings\n",
        "Returning primary attribute: residential_rent of buildings\n",
        "Returning primary attribute: non_residential_rent of buildings\n",
        "Computing: _node_id of buildings as\n",
        "    reindex(parcels._node_id, buildings.parcel_id)\n",
        "Returning primary attribute: _node_id of parcels\n",
        "Returning primary attribute: parcel_id of buildings\n",
        "Computing: _node_id0 of buildings as"
       ]
      },
      {
       "output_type": "stream",
       "stream": "stdout",
       "text": [
        "\n",
        "    reindex(parcels._node_id0, buildings.parcel_id)\n",
        "Returning primary attribute: _node_id0 of parcels\n",
        "Returning primary attribute: parcel_id of buildings\n",
        "Computing: zone_id of buildings as"
       ]
      },
      {
       "output_type": "stream",
       "stream": "stdout",
       "text": [
        "\n",
        "    reindex(parcels.zone_id, buildings.parcel_id)\n",
        "Returning primary attribute: zone_id of parcels\n",
        "Returning primary attribute: parcel_id of buildings\n",
        "Returning from cache: lot_size of buildings"
       ]
      },
      {
       "output_type": "stream",
       "stream": "stdout",
       "text": [
        "\n",
        "    dataframe = buildings, varname=residential_units"
       ]
      },
      {
       "output_type": "stream",
       "stream": "stdout",
       "text": [
        "\n",
        "    radius = 500, aggregation = AGG_SUM, decay = DECAY_LINEAR\n",
        "Computing sum_nonresidential_units"
       ]
      },
      {
       "output_type": "stream",
       "stream": "stdout",
       "text": [
        "\n",
        "    Fields available to accvar = non_residential_units, _node_id0\n",
        "Returning primary attribute: year_built of buildings\n",
        "Returning from cache: unit_lot_size of buildings\n",
        "Returning from cache: unit_sqft of buildings\n",
        "Returning primary attribute: building_type_id of buildings\n",
        "Returning primary attribute: stories of buildings"
       ]
      },
      {
       "output_type": "stream",
       "stream": "stdout",
       "text": [
        "\n",
        "Returning primary attribute: residential_units of buildings\n",
        "Returning primary attribute: building_type_id of buildings\n",
        "Returning primary attribute: non_residential_sqft of buildings"
       ]
      },
      {
       "output_type": "stream",
       "stream": "stdout",
       "text": [
        "\n",
        "Returning primary attribute: building_type_id of buildings\n",
        "Returning primary attribute: residential_sales_price of buildings\n",
        "Returning primary attribute: residential_rent of buildings\n",
        "Returning primary attribute: non_residential_rent of buildings\n",
        "Returning from cache: _node_id of buildings\n",
        "Returning from cache: _node_id0 of buildings\n",
        "Returning from cache: zone_id of buildings\n",
        "Returning from cache: lot_size of buildings\n",
        "    dataframe = buildings, varname=non_residential_units"
       ]
      },
      {
       "output_type": "stream",
       "stream": "stdout",
       "text": [
        "\n",
        "    radius = 500, aggregation = AGG_SUM, decay = DECAY_LINEAR\n",
        "Computing ave_unit_sqft"
       ]
      },
      {
       "output_type": "stream",
       "stream": "stdout",
       "text": [
        "\n",
        "    Fields available to accvar = unit_sqft, general_type, _node_id0\n",
        "Returning primary attribute: year_built of buildings\n",
        "Returning from cache: unit_lot_size of buildings\n",
        "Returning from cache: unit_sqft of buildings\n",
        "Returning primary attribute: building_type_id of buildings\n",
        "Returning primary attribute: stories of buildings"
       ]
      },
      {
       "output_type": "stream",
       "stream": "stdout",
       "text": [
        "\n",
        "Returning primary attribute: residential_units of buildings\n",
        "Returning primary attribute: building_type_id of buildings\n",
        "Returning primary attribute: non_residential_sqft of buildings"
       ]
      },
      {
       "output_type": "stream",
       "stream": "stdout",
       "text": [
        "\n",
        "Returning primary attribute: building_type_id of buildings\n",
        "Returning primary attribute: residential_sales_price of buildings\n",
        "Returning primary attribute: residential_rent of buildings\n",
        "Returning primary attribute: non_residential_rent of buildings\n",
        "Returning from cache: _node_id of buildings\n",
        "Returning from cache: _node_id0 of buildings\n",
        "Returning from cache: zone_id of buildings\n",
        "Returning from cache: lot_size of buildings\n",
        "    Filters = ['general_type == \"Residential\"']"
       ]
      },
      {
       "output_type": "stream",
       "stream": "stdout",
       "text": [
        "\n",
        "    dataframe = buildings, varname=unit_sqft\n",
        "    radius = 500, aggregation = AGG_AVE, decay = DECAY_FLAT\n",
        "Computing ave_lot_sqft"
       ]
      },
      {
       "output_type": "stream",
       "stream": "stdout",
       "text": [
        "\n",
        "    Fields available to accvar = unit_lot_size, _node_id0\n",
        "Returning primary attribute: year_built of buildings\n",
        "Returning from cache: unit_lot_size of buildings\n",
        "Returning from cache: unit_sqft of buildings\n",
        "Returning primary attribute: building_type_id of buildings\n",
        "Returning primary attribute: stories of buildings"
       ]
      },
      {
       "output_type": "stream",
       "stream": "stdout",
       "text": [
        "\n",
        "Returning primary attribute: residential_units of buildings\n",
        "Returning primary attribute: building_type_id of buildings\n",
        "Returning primary attribute: non_residential_sqft of buildings"
       ]
      },
      {
       "output_type": "stream",
       "stream": "stdout",
       "text": [
        "\n",
        "Returning primary attribute: building_type_id of buildings\n",
        "Returning primary attribute: residential_sales_price of buildings\n",
        "Returning primary attribute: residential_rent of buildings\n",
        "Returning primary attribute: non_residential_rent of buildings\n",
        "Returning from cache: _node_id of buildings\n",
        "Returning from cache: _node_id0 of buildings\n",
        "Returning from cache: zone_id of buildings\n",
        "Returning from cache: lot_size of buildings\n",
        "    dataframe = buildings, varname=unit_lot_size"
       ]
      },
      {
       "output_type": "stream",
       "stream": "stdout",
       "text": [
        "\n",
        "    radius = 500, aggregation = AGG_AVE, decay = DECAY_FLAT\n",
        "Computing population"
       ]
      },
      {
       "output_type": "stream",
       "stream": "stdout",
       "text": [
        "\n",
        "    Fields available to accvar = persons, _node_id0\n",
        "Fetching households\n",
        "Returning primary attribute: income of households"
       ]
      },
      {
       "output_type": "stream",
       "stream": "stdout",
       "text": [
        "\n",
        "Returning primary attribute: building_id of households"
       ]
      },
      {
       "output_type": "stream",
       "stream": "stdout",
       "text": [
        "\n",
        "Returning primary attribute: tenure of households\n",
        "Returning primary attribute: persons of households\n",
        "Computing: _node_id of households as\n",
        "    reindex(buildings._node_id, households.building_id)\n",
        "Returning from cache: _node_id of buildings\n",
        "Returning primary attribute: building_id of households\n",
        "Computing: _node_id0 of households as"
       ]
      },
      {
       "output_type": "stream",
       "stream": "stdout",
       "text": [
        "\n",
        "    reindex(buildings._node_id0, households.building_id)\n",
        "Returning from cache: _node_id0 of buildings\n",
        "Returning primary attribute: building_id of households\n",
        "    dataframe = households, varname=persons"
       ]
      },
      {
       "output_type": "stream",
       "stream": "stdout",
       "text": [
        "\n",
        "    radius = 500, aggregation = AGG_SUM, decay = DECAY_LINEAR\n",
        "Computing poor"
       ]
      },
      {
       "output_type": "stream",
       "stream": "stdout",
       "text": [
        "\n",
        "    Fields available to accvar = persons, income, _node_id0\n",
        "Returning primary attribute: income of households\n",
        "Returning primary attribute: building_id of households"
       ]
      },
      {
       "output_type": "stream",
       "stream": "stdout",
       "text": [
        "\n",
        "Returning primary attribute: tenure of households\n",
        "Returning primary attribute: persons of households\n",
        "Returning from cache: _node_id of households\n",
        "Returning from cache: _node_id0 of households\n",
        "    Filters = ['income < 40000']"
       ]
      },
      {
       "output_type": "stream",
       "stream": "stdout",
       "text": [
        "\n",
        "    dataframe = households, varname=persons\n",
        "    radius = 500, aggregation = AGG_SUM, decay = DECAY_LINEAR\n",
        "Computing renters"
       ]
      },
      {
       "output_type": "stream",
       "stream": "stdout",
       "text": [
        "\n",
        "    Fields available to accvar = tenure, _node_id0\n",
        "Returning primary attribute: income of households\n",
        "Returning primary attribute: building_id of households"
       ]
      },
      {
       "output_type": "stream",
       "stream": "stdout",
       "text": [
        "\n",
        "Returning primary attribute: tenure of households\n",
        "Returning primary attribute: persons of households\n",
        "Returning from cache: _node_id of households\n",
        "Returning from cache: _node_id0 of households\n",
        "    Filters = ['tenure == 2']"
       ]
      },
      {
       "output_type": "stream",
       "stream": "stdout",
       "text": [
        "\n",
        "    dataframe = households, varname=None\n",
        "    radius = 500, aggregation = AGG_SUM, decay = DECAY_LINEAR\n",
        "Computing sfdu"
       ]
      },
      {
       "output_type": "stream",
       "stream": "stdout",
       "text": [
        "\n",
        "    Fields available to accvar = building_type_id, _node_id0\n",
        "Returning primary attribute: year_built of buildings\n",
        "Returning from cache: unit_lot_size of buildings\n",
        "Returning from cache: unit_sqft of buildings\n",
        "Returning primary attribute: building_type_id of buildings\n",
        "Returning primary attribute: stories of buildings"
       ]
      },
      {
       "output_type": "stream",
       "stream": "stdout",
       "text": [
        "\n",
        "Returning primary attribute: residential_units of buildings\n",
        "Returning primary attribute: building_type_id of buildings\n",
        "Returning primary attribute: non_residential_sqft of buildings"
       ]
      },
      {
       "output_type": "stream",
       "stream": "stdout",
       "text": [
        "\n",
        "Returning primary attribute: building_type_id of buildings\n",
        "Returning primary attribute: residential_sales_price of buildings\n",
        "Returning primary attribute: residential_rent of buildings\n",
        "Returning primary attribute: non_residential_rent of buildings\n",
        "Returning from cache: _node_id of buildings\n",
        "Returning from cache: _node_id0 of buildings\n",
        "Returning from cache: zone_id of buildings\n",
        "Returning from cache: lot_size of buildings\n",
        "    Filters = ['building_type_id == 1']"
       ]
      },
      {
       "output_type": "stream",
       "stream": "stdout",
       "text": [
        "\n",
        "    dataframe = buildings, varname=None\n",
        "    radius = 500, aggregation = AGG_SUM, decay = DECAY_LINEAR\n",
        "Computing hhsize"
       ]
      },
      {
       "output_type": "stream",
       "stream": "stdout",
       "text": [
        "\n",
        "    Fields available to accvar = persons, _node_id0\n",
        "Returning primary attribute: income of households\n",
        "Returning primary attribute: building_id of households"
       ]
      },
      {
       "output_type": "stream",
       "stream": "stdout",
       "text": [
        "\n",
        "Returning primary attribute: tenure of households\n",
        "Returning primary attribute: persons of households\n",
        "Returning from cache: _node_id of households\n",
        "Returning from cache: _node_id0 of households\n",
        "    dataframe = households, varname=persons"
       ]
      },
      {
       "output_type": "stream",
       "stream": "stdout",
       "text": [
        "\n",
        "    radius = 500, aggregation = AGG_AVE, decay = DECAY_FLAT\n",
        "Computing jobs"
       ]
      },
      {
       "output_type": "stream",
       "stream": "stdout",
       "text": [
        "\n",
        "    Fields available to accvar = _node_id0\n",
        "Fetching jobs\n",
        "Returning primary attribute: building_id of jobs"
       ]
      },
      {
       "output_type": "stream",
       "stream": "stdout",
       "text": [
        "\n",
        "Computing: _node_id0 of jobs as\n",
        "    reindex(buildings._node_id0, jobs.building_id)\n",
        "Returning from cache: _node_id0 of buildings\n",
        "Returning primary attribute: building_id of jobs\n",
        "Computing: _node_id of jobs as"
       ]
      },
      {
       "output_type": "stream",
       "stream": "stdout",
       "text": [
        "\n",
        "    reindex(buildings._node_id, jobs.building_id)\n",
        "Returning from cache: _node_id of buildings\n",
        "Returning primary attribute: building_id of jobs\n",
        "Computing: naics of jobs as"
       ]
      },
      {
       "output_type": "stream",
       "stream": "stdout",
       "text": [
        "\n",
        "    jobs.naics11cat\n",
        "Returning primary attribute: naics11cat of jobs\n",
        "    dataframe = jobs, varname=None"
       ]
      },
      {
       "output_type": "stream",
       "stream": "stdout",
       "text": [
        "\n",
        "    radius = 500, aggregation = AGG_SUM, decay = DECAY_LINEAR\n",
        "Computing ave_income"
       ]
      },
      {
       "output_type": "stream",
       "stream": "stdout",
       "text": [
        "\n",
        "    Fields available to accvar = income, _node_id0\n",
        "Returning primary attribute: income of households\n",
        "Returning primary attribute: building_id of households"
       ]
      },
      {
       "output_type": "stream",
       "stream": "stdout",
       "text": [
        "\n",
        "Returning primary attribute: tenure of households\n",
        "Returning primary attribute: persons of households\n",
        "Returning from cache: _node_id of households\n",
        "Returning from cache: _node_id0 of households\n",
        "    dataframe = households, varname=income"
       ]
      },
      {
       "output_type": "stream",
       "stream": "stdout",
       "text": [
        "\n",
        "    radius = 500, aggregation = AGG_AVE, decay = DECAY_FLAT\n",
        "Done"
       ]
      },
      {
       "output_type": "stream",
       "stream": "stdout",
       "text": [
        "\n"
       ]
      }
     ],
     "prompt_number": 4
    },
    {
     "cell_type": "heading",
     "level": 2,
     "metadata": {},
     "source": [
      "Hedonic Estimation"
     ]
    },
    {
     "cell_type": "code",
     "collapsed": false,
     "input": [
      "rsh_debug = models.rsh_estimate(dset)"
     ],
     "language": "python",
     "metadata": {},
     "outputs": [
      {
       "output_type": "stream",
       "stream": "stdout",
       "text": [
        "Fetching homesales\n",
        "Returning primary attribute: _node_id of homesales"
       ]
      },
      {
       "output_type": "stream",
       "stream": "stdout",
       "text": [
        "\n",
        "Running hedonic estimation\n"
       ]
      },
      {
       "output_type": "stream",
       "stream": "stdout",
       "text": [
        "\n",
        "                               OLS Regression Results                               \n",
        "====================================================================================\n",
        "Dep. Variable:     np.log1p(sale_price_flt)   R-squared:                       0.169\n",
        "Model:                                  OLS   Adj. R-squared:                  0.169\n",
        "Method:                       Least Squares   F-statistic:                     4396.\n",
        "Date:                      Sat, 14 Jun 2014   Prob (F-statistic):               0.00\n",
        "Time:                              11:22:42   Log-Likelihood:            -1.4943e+05\n",
        "No. Observations:                    194138   AIC:                         2.989e+05\n",
        "Df Residuals:                        194128   BIC:                         2.990e+05\n",
        "Df Model:                                 9                                         \n",
        "================================================================================================\n",
        "                                   coef    std err          t      P>|t|      [95.0% Conf. Int.]\n",
        "------------------------------------------------------------------------------------------------\n",
        "Intercept                        5.8180      0.034    170.062      0.000         5.751     5.885\n",
        "I(year_built < 1940)[T.True]     0.1575      0.004     39.673      0.000         0.150     0.165\n",
        "I(year_built > 2005)[T.True]     0.0985      0.007     14.625      0.000         0.085     0.112\n",
        "np.log1p(unit_sqft)             -0.2169      0.003    -65.079      0.000        -0.223    -0.210\n",
        "np.log1p(unit_lot_size)          0.1163      0.002     72.280      0.000         0.113     0.119\n",
        "sum_residential_units           -0.2152      0.002    -95.858      0.000        -0.220    -0.211\n",
        "ave_unit_sqft                   -0.0691      0.003    -23.223      0.000        -0.075    -0.063\n",
        "ave_lot_sqft                    -0.1465      0.002    -84.861      0.000        -0.150    -0.143\n",
        "ave_income                       0.2223      0.002    134.378      0.000         0.219     0.226\n",
        "jobs                             0.1717      0.001    128.550      0.000         0.169     0.174\n",
        "==============================================================================\n",
        "Omnibus:                      734.714   Durbin-Watson:                   0.611\n",
        "Prob(Omnibus):                  0.000   Jarque-Bera (JB):             1000.792\n",
        "Skew:                          -0.020   Prob(JB):                    4.79e-218\n",
        "Kurtosis:                       3.350   Cond. No.                         602.\n",
        "=============================================================================="
       ]
      },
      {
       "output_type": "stream",
       "stream": "stdout",
       "text": [
        "\n"
       ]
      }
     ],
     "prompt_number": 5
    },
    {
     "cell_type": "code",
     "collapsed": false,
     "input": [
      "rrh_debug = models.rrh_estimate(dset)"
     ],
     "language": "python",
     "metadata": {},
     "outputs": [
      {
       "output_type": "stream",
       "stream": "stdout",
       "text": [
        "Fetching apartments\n",
        "Computing: _node_id of apartments as\n",
        "    reindex(parcels._node_id, apartments.parcel_id)\n",
        "Returning primary attribute: _node_id of parcels\n",
        "Returning primary attribute: parcel_id of apartments\n",
        "Running hedonic estimation\n"
       ]
      },
      {
       "output_type": "stream",
       "stream": "stdout",
       "text": [
        "\n",
        "                            OLS Regression Results                            \n",
        "==============================================================================\n",
        "Dep. Variable:         np.log1p(rent)   R-squared:                       0.242\n",
        "Model:                            OLS   Adj. R-squared:                  0.241\n",
        "Method:                 Least Squares   F-statistic:                     273.8\n",
        "Date:                Sat, 14 Jun 2014   Prob (F-statistic):          8.58e-255\n",
        "Time:                        11:22:43   Log-Likelihood:                 2104.8\n",
        "No. Observations:                4298   AIC:                            -4198.\n",
        "Df Residuals:                    4292   BIC:                            -4159.\n",
        "Df Model:                           5                                         \n",
        "=========================================================================================\n",
        "                            coef    std err          t      P>|t|      [95.0% Conf. Int.]\n",
        "-----------------------------------------------------------------------------------------\n",
        "Intercept                 2.2062      0.063     34.985      0.000         2.083     2.330\n",
        "np.log1p(unit_sqft)      -0.1993      0.008    -25.676      0.000        -0.215    -0.184\n",
        "sum_residential_units     0.0216      0.003      7.273      0.000         0.016     0.027\n",
        "ave_unit_sqft            -0.0228      0.004     -6.086      0.000        -0.030    -0.015\n",
        "ave_lot_sqft              0.0089      0.003      3.290      0.001         0.004     0.014\n",
        "jobs                      0.0307      0.001     20.913      0.000         0.028     0.034\n",
        "==============================================================================\n",
        "Omnibus:                      264.581   Durbin-Watson:                   0.515\n",
        "Prob(Omnibus):                  0.000   Jarque-Bera (JB):              344.290\n",
        "Skew:                           0.573   Prob(JB):                     1.73e-75\n",
        "Kurtosis:                       3.781   Cond. No.                         435.\n",
        "=============================================================================="
       ]
      },
      {
       "output_type": "stream",
       "stream": "stdout",
       "text": [
        "\n"
       ]
      }
     ],
     "prompt_number": 6
    },
    {
     "cell_type": "code",
     "collapsed": false,
     "input": [
      "nrh_debug = models.nrh_estimate(dset)"
     ],
     "language": "python",
     "metadata": {},
     "outputs": [
      {
       "output_type": "stream",
       "stream": "stdout",
       "text": [
        "Fetching costar\n",
        "Returning primary attribute: _node_id of costar"
       ]
      },
      {
       "output_type": "stream",
       "stream": "stdout",
       "text": [
        "\n",
        "Returning primary attribute: year_built of costar\n",
        "Running hedonic estimation\n"
       ]
      },
      {
       "output_type": "stream",
       "stream": "stdout",
       "text": [
        "\n",
        "REGRESSION RESULTS FOR SEGMENT Retail\n"
       ]
      },
      {
       "output_type": "stream",
       "stream": "stdout",
       "text": [
        "\n",
        "                            OLS Regression Results                            \n",
        "==============================================================================\n",
        "Dep. Variable:         np.log1p(rent)   R-squared:                       0.111\n",
        "Model:                            OLS   Adj. R-squared:                  0.107\n",
        "Method:                 Least Squares   F-statistic:                     27.79\n",
        "Date:                Sat, 14 Jun 2014   Prob (F-statistic):           1.39e-26\n",
        "Time:                        11:22:43   Log-Likelihood:                -650.14\n",
        "No. Observations:                1115   AIC:                             1312.\n",
        "Df Residuals:                    1109   BIC:                             1342.\n",
        "Df Model:                           5                                         \n",
        "================================================================================================\n",
        "                                   coef    std err          t      P>|t|      [95.0% Conf. Int.]\n",
        "------------------------------------------------------------------------------------------------\n",
        "Intercept                        2.1760      0.112     19.459      0.000         1.957     2.395\n",
        "I(year_built < 1940)[T.True]    -0.0061      0.027     -0.223      0.823        -0.060     0.048\n",
        "I(year_built > 2005)[T.True]     0.2843      0.063      4.542      0.000         0.161     0.407\n",
        "np.log1p(stories)                0.0403      0.054      0.740      0.459        -0.067     0.147\n",
        "ave_income                       0.0176      0.008      2.169      0.030         0.002     0.034\n",
        "jobs                             0.1096      0.011     10.018      0.000         0.088     0.131\n",
        "==============================================================================\n",
        "Omnibus:                      105.482   Durbin-Watson:                   1.828\n",
        "Prob(Omnibus):                  0.000   Jarque-Bera (JB):              468.996\n",
        "Skew:                           0.324   Prob(JB):                    1.44e-102\n",
        "Kurtosis:                       6.110   Cond. No.                         110.\n",
        "==============================================================================\n",
        "\n",
        "REGRESSION RESULTS FOR SEGMENT Office\n",
        "\n",
        "                            OLS Regression Results                            \n",
        "==============================================================================\n",
        "Dep. Variable:         np.log1p(rent)   R-squared:                       0.106\n",
        "Model:                            OLS   Adj. R-squared:                  0.105\n",
        "Method:                 Least Squares   F-statistic:                     67.22\n",
        "Date:                Sat, 14 Jun 2014   Prob (F-statistic):           1.55e-66\n",
        "Time:                        11:22:43   Log-Likelihood:                -1273.5\n",
        "No. Observations:                2832   AIC:                             2559.\n",
        "Df Residuals:                    2826   BIC:                             2595.\n",
        "Df Model:                           5                                         \n",
        "================================================================================================\n",
        "                                   coef    std err          t      P>|t|      [95.0% Conf. Int.]\n",
        "------------------------------------------------------------------------------------------------\n",
        "Intercept                        2.5854      0.039     65.908      0.000         2.508     2.662\n",
        "I(year_built < 1940)[T.True]    -0.0422      0.018     -2.306      0.021        -0.078    -0.006\n",
        "I(year_built > 2005)[T.True]     0.1821      0.043      4.202      0.000         0.097     0.267\n",
        "np.log1p(stories)                0.1817      0.016     11.639      0.000         0.151     0.212\n",
        "ave_income                       0.0168      0.002      7.739      0.000         0.013     0.021\n",
        "jobs                             0.0214      0.006      3.831      0.000         0.010     0.032\n",
        "==============================================================================\n",
        "Omnibus:                      346.451   Durbin-Watson:                   1.694\n",
        "Prob(Omnibus):                  0.000   Jarque-Bera (JB):             3222.344\n",
        "Skew:                          -0.198   Prob(JB):                         0.00\n",
        "Kurtosis:                       8.211   Cond. No.                         76.5\n",
        "==============================================================================\n",
        "\n",
        "REGRESSION RESULTS FOR SEGMENT Industrial\n",
        "\n",
        "                            OLS Regression Results                            \n",
        "==============================================================================\n",
        "Dep. Variable:         np.log1p(rent)   R-squared:                       0.079\n",
        "Model:                            OLS   Adj. R-squared:                  0.076\n",
        "Method:                 Least Squares   F-statistic:                     30.84\n",
        "Date:                Sat, 14 Jun 2014   Prob (F-statistic):           3.45e-30\n",
        "Time:                        11:22:43   Log-Likelihood:                -738.71\n",
        "No. Observations:                1809   AIC:                             1489.\n",
        "Df Residuals:                    1803   BIC:                             1522.\n",
        "Df Model:                           5                                         \n",
        "================================================================================================\n",
        "                                   coef    std err          t      P>|t|      [95.0% Conf. Int.]\n",
        "------------------------------------------------------------------------------------------------\n",
        "Intercept                        1.6310      0.061     26.756      0.000         1.511     1.751\n",
        "I(year_built < 1940)[T.True]     0.0908      0.025      3.610      0.000         0.041     0.140\n",
        "I(year_built > 2005)[T.True]     0.2958      0.064      4.608      0.000         0.170     0.422\n",
        "np.log1p(stories)                0.2792      0.057      4.905      0.000         0.168     0.391\n",
        "ave_income                       0.0131      0.002      6.280      0.000         0.009     0.017\n",
        "jobs                             0.0500      0.007      7.191      0.000         0.036     0.064\n",
        "==============================================================================\n",
        "Omnibus:                      118.068   Durbin-Watson:                   1.654\n",
        "Prob(Omnibus):                  0.000   Jarque-Bera (JB):              531.467\n",
        "Skew:                          -0.042   Prob(JB):                    3.92e-116\n",
        "Kurtosis:                       5.654   Cond. No.                         102.\n",
        "=============================================================================="
       ]
      },
      {
       "output_type": "stream",
       "stream": "stdout",
       "text": [
        "\n",
        "\n"
       ]
      }
     ],
     "prompt_number": 7
    },
    {
     "cell_type": "heading",
     "level": 2,
     "metadata": {},
     "source": [
      "Hedonic Simulation"
     ]
    },
    {
     "cell_type": "code",
     "collapsed": false,
     "input": [
      "models.rsh_simulate(dset)\n",
      "models.rrh_simulate(dset)\n",
      "models.nrh_simulate(dset)"
     ],
     "language": "python",
     "metadata": {},
     "outputs": [
      {
       "output_type": "stream",
       "stream": "stdout",
       "text": [
        "Returning primary attribute: year_built of buildings\n",
        "Returning from cache: unit_lot_size of buildings\n",
        "Returning from cache: unit_sqft of buildings\n",
        "Returning primary attribute: building_type_id of buildings\n",
        "Returning primary attribute: stories of buildings"
       ]
      },
      {
       "output_type": "stream",
       "stream": "stdout",
       "text": [
        "\n",
        "Returning primary attribute: residential_units of buildings\n",
        "Returning primary attribute: building_type_id of buildings\n",
        "Returning primary attribute: non_residential_sqft of buildings"
       ]
      },
      {
       "output_type": "stream",
       "stream": "stdout",
       "text": [
        "\n",
        "Returning primary attribute: building_type_id of buildings\n",
        "Returning primary attribute: residential_sales_price of buildings\n",
        "Returning primary attribute: residential_rent of buildings\n",
        "Returning primary attribute: non_residential_rent of buildings\n",
        "Returning from cache: _node_id of buildings\n",
        "Returning from cache: _node_id0 of buildings\n",
        "Returning from cache: zone_id of buildings\n",
        "Returning from cache: lot_size of buildings\n",
        "Running hedonic simulation\n"
       ]
      },
      {
       "output_type": "stream",
       "stream": "stdout",
       "text": [
        "\n",
        "count    1796149.000000\n",
        "mean         269.736289\n",
        "std           62.394359\n",
        "min            2.597981\n",
        "25%          229.893885\n",
        "50%          265.333649\n",
        "75%          303.797200\n",
        "max         3000.906603\n",
        "dtype: float64"
       ]
      },
      {
       "output_type": "stream",
       "stream": "stdout",
       "text": [
        "\n",
        "Returning primary attribute: year_built of buildings"
       ]
      },
      {
       "output_type": "stream",
       "stream": "stdout",
       "text": [
        "\n",
        "Returning from cache: unit_lot_size of buildings\n",
        "Returning from cache: unit_sqft of buildings\n",
        "Returning primary attribute: building_type_id of buildings\n",
        "Returning primary attribute: stories of buildings"
       ]
      },
      {
       "output_type": "stream",
       "stream": "stdout",
       "text": [
        "\n",
        "Returning primary attribute: residential_units of buildings\n",
        "Returning primary attribute: building_type_id of buildings\n",
        "Returning primary attribute: non_residential_sqft of buildings"
       ]
      },
      {
       "output_type": "stream",
       "stream": "stdout",
       "text": [
        "\n",
        "Returning primary attribute: building_type_id of buildings\n",
        "Returning primary attribute: residential_sales_price of buildings\n",
        "Returning primary attribute: residential_rent of buildings\n",
        "Returning primary attribute: non_residential_rent of buildings\n",
        "Returning from cache: _node_id of buildings\n",
        "Returning from cache: _node_id0 of buildings\n",
        "Returning from cache: zone_id of buildings\n",
        "Returning from cache: lot_size of buildings\n",
        "Running hedonic simulation\n"
       ]
      },
      {
       "output_type": "stream",
       "stream": "stdout",
       "text": [
        "\n",
        "count    1796149.000000\n",
        "mean           2.384075\n",
        "std            0.320381\n",
        "min            0.332067\n",
        "25%            2.179386\n",
        "50%            2.356490\n",
        "75%            2.556978\n",
        "max           12.342420\n",
        "dtype: float64"
       ]
      },
      {
       "output_type": "stream",
       "stream": "stdout",
       "text": [
        "\n",
        "Returning primary attribute: year_built of buildings"
       ]
      },
      {
       "output_type": "stream",
       "stream": "stdout",
       "text": [
        "\n",
        "Returning from cache: unit_lot_size of buildings\n",
        "Returning from cache: unit_sqft of buildings\n",
        "Returning primary attribute: building_type_id of buildings\n",
        "Returning primary attribute: stories of buildings"
       ]
      },
      {
       "output_type": "stream",
       "stream": "stdout",
       "text": [
        "\n",
        "Returning primary attribute: residential_units of buildings\n",
        "Returning primary attribute: building_type_id of buildings\n",
        "Returning primary attribute: non_residential_sqft of buildings"
       ]
      },
      {
       "output_type": "stream",
       "stream": "stdout",
       "text": [
        "\n",
        "Returning primary attribute: building_type_id of buildings\n",
        "Returning primary attribute: residential_sales_price of buildings\n",
        "Returning primary attribute: residential_rent of buildings\n",
        "Returning primary attribute: non_residential_rent of buildings\n",
        "Returning from cache: _node_id of buildings\n",
        "Returning from cache: _node_id0 of buildings\n",
        "Returning from cache: zone_id of buildings\n",
        "Returning from cache: lot_size of buildings\n",
        "Running hedonic simulation\n"
       ]
      },
      {
       "output_type": "stream",
       "stream": "stdout",
       "text": [
        "\n",
        "count    116797.000000\n",
        "mean         17.241906\n",
        "std           5.401205\n",
        "min           6.199881\n",
        "25%          10.771861\n",
        "50%          19.030444\n",
        "75%          20.916375\n",
        "max          44.884411\n",
        "dtype: float64"
       ]
      },
      {
       "output_type": "stream",
       "stream": "stdout",
       "text": [
        "\n"
       ]
      }
     ],
     "prompt_number": 8
    },
    {
     "cell_type": "heading",
     "level": 2,
     "metadata": {},
     "source": [
      "LCM Estimation"
     ]
    },
    {
     "cell_type": "code",
     "collapsed": false,
     "input": [
      "models.hlcmo_estimate(dset)"
     ],
     "language": "python",
     "metadata": {},
     "outputs": [
      {
       "output_type": "stream",
       "stream": "stdout",
       "text": [
        "Returning primary attribute: income of households\n",
        "Returning primary attribute: building_id of households"
       ]
      },
      {
       "output_type": "stream",
       "stream": "stdout",
       "text": [
        "\n",
        "Returning primary attribute: tenure of households\n",
        "Returning primary attribute: persons of households\n",
        "Returning from cache: _node_id of households\n",
        "Returning from cache: _node_id0 of households\n",
        "Returning primary attribute: year_built of buildings"
       ]
      },
      {
       "output_type": "stream",
       "stream": "stdout",
       "text": [
        "\n",
        "Returning from cache: unit_lot_size of buildings\n",
        "Returning from cache: unit_sqft of buildings\n",
        "Returning primary attribute: building_type_id of buildings\n",
        "Returning primary attribute: stories of buildings"
       ]
      },
      {
       "output_type": "stream",
       "stream": "stdout",
       "text": [
        "\n",
        "Returning primary attribute: residential_units of buildings\n",
        "Returning primary attribute: building_type_id of buildings\n",
        "Returning primary attribute: non_residential_sqft of buildings"
       ]
      },
      {
       "output_type": "stream",
       "stream": "stdout",
       "text": [
        "\n",
        "Returning primary attribute: building_type_id of buildings\n",
        "Returning primary attribute: residential_sales_price of buildings\n",
        "Returning primary attribute: residential_rent of buildings\n",
        "Returning primary attribute: non_residential_rent of buildings\n",
        "Returning from cache: _node_id of buildings\n",
        "Returning from cache: _node_id0 of buildings\n",
        "Returning from cache: zone_id of buildings\n",
        "Returning from cache: lot_size of buildings\n",
        "Running location choice model estimation\n"
       ]
      },
      {
       "output_type": "stream",
       "stream": "stdout",
       "text": [
        "\n",
        "Returning group 0"
       ]
      },
      {
       "output_type": "stream",
       "stream": "stdout",
       "text": [
        "\n",
        "Removing 63 choice situations because chosen alt doesn't exist"
       ]
      },
      {
       "output_type": "stream",
       "stream": "stdout",
       "text": [
        "\n",
        "Returning group 1"
       ]
      },
      {
       "output_type": "stream",
       "stream": "stdout",
       "text": [
        "\n",
        "Removing 68 choice situations because chosen alt doesn't exist"
       ]
      },
      {
       "output_type": "stream",
       "stream": "stdout",
       "text": [
        "\n",
        "Returning group 2"
       ]
      },
      {
       "output_type": "stream",
       "stream": "stdout",
       "text": [
        "\n",
        "Removing 66 choice situations because chosen alt doesn't exist"
       ]
      },
      {
       "output_type": "stream",
       "stream": "stdout",
       "text": [
        "\n",
        "Returning group 3"
       ]
      },
      {
       "output_type": "stream",
       "stream": "stdout",
       "text": [
        "\n",
        "Removing 48 choice situations because chosen alt doesn't exist"
       ]
      },
      {
       "output_type": "stream",
       "stream": "stdout",
       "text": [
        "\n",
        "LCM RESULTS FOR SEGMENT 0\n"
       ]
      },
      {
       "output_type": "stream",
       "stream": "stdout",
       "text": [
        "\n",
        "Null Log-liklihood: -68787.427\n",
        "Log-liklihood at convergence: -67200.934\n",
        "Log-liklihood Ratio: 0.023\n",
        "\n",
        "+-----------------------------------+-------------+------------+---------+\n",
        "| Component                         | Coefficient | Std. Error | T-Score |\n",
        "+-----------------------------------+-------------+------------+---------+\n",
        "| np.log1p(residential_sales_price) |    -0.377   |   0.054    |  -7.002 |\n",
        "| np.log1p(unit_sqft)               |    -0.366   |   0.016    | -23.377 |\n",
        "| sum_residential_units             |    -0.518   |   0.056    |  -9.295 |\n",
        "| ave_unit_sqft                     |    0.166    |   0.023    |  7.168  |\n",
        "| ave_lot_sqft                      |    0.057    |   0.013    |  4.432  |\n",
        "| ave_income                        |    0.069    |   0.043    |  1.605  |\n",
        "| hhsize                            |    -0.971   |   0.111    |  -8.759 |\n",
        "| jobs                              |    0.031    |   0.013    |  2.443  |\n",
        "| sfdu                              |    -0.011   |   0.007    |  -1.593 |\n",
        "| renters                           |    0.575    |   0.031    |  18.330 |\n",
        "| poor                              |    0.854    |   0.028    |  30.790 |\n",
        "| population                        |    -0.751   |   0.065    | -11.609 |\n",
        "+-----------------------------------+-------------+------------+---------+\n",
        "\n",
        "LCM RESULTS FOR SEGMENT 1\n",
        "\n",
        "Null Log-liklihood: -68764.401\n",
        "Log-liklihood at convergence: -68100.020\n",
        "Log-liklihood Ratio: 0.010\n",
        "\n",
        "+-----------------------------------+-------------+------------+---------+\n",
        "| Component                         | Coefficient | Std. Error | T-Score |\n",
        "+-----------------------------------+-------------+------------+---------+\n",
        "| np.log1p(residential_sales_price) |    -0.490   |   0.050    |  -9.891 |\n",
        "| np.log1p(unit_sqft)               |    -0.308   |   0.016    | -19.241 |\n",
        "| sum_residential_units             |    -0.409   |   0.054    |  -7.565 |\n",
        "| ave_unit_sqft                     |    0.087    |   0.024    |  3.636  |\n",
        "| ave_lot_sqft                      |    0.044    |   0.012    |  3.644  |\n",
        "| ave_income                        |    -0.139   |   0.037    |  -3.701 |\n",
        "| hhsize                            |    -0.222   |   0.112    |  -1.986 |\n",
        "| jobs                              |    0.050    |   0.012    |  4.163  |\n",
        "| sfdu                              |    -0.033   |   0.007    |  -4.678 |\n",
        "| renters                           |    0.471    |   0.034    |  13.737 |\n",
        "| poor                              |    0.378    |   0.025    |  15.192 |\n",
        "| population                        |    -0.327   |   0.068    |  -4.823 |\n",
        "+-----------------------------------+-------------+------------+---------+\n",
        "\n",
        "LCM RESULTS FOR SEGMENT 2\n",
        "\n",
        "Null Log-liklihood: -68773.612\n",
        "Log-liklihood at convergence: -68454.068\n",
        "Log-liklihood Ratio: 0.005\n",
        "\n",
        "+-----------------------------------+-------------+------------+---------+\n",
        "| Component                         | Coefficient | Std. Error | T-Score |\n",
        "+-----------------------------------+-------------+------------+---------+\n",
        "| np.log1p(residential_sales_price) |    -0.529   |   0.057    |  -9.352 |\n",
        "| np.log1p(unit_sqft)               |    -0.350   |   0.016    | -21.552 |\n",
        "| sum_residential_units             |    -0.332   |   0.054    |  -6.166 |\n",
        "| ave_unit_sqft                     |    0.150    |   0.024    |  6.136  |\n",
        "| ave_lot_sqft                      |    0.021    |   0.013    |  1.615  |\n",
        "| ave_income                        |    -0.192   |   0.044    |  -4.405 |\n",
        "| hhsize                            |    0.113    |   0.111    |  1.022  |\n",
        "| jobs                              |    0.055    |   0.013    |  4.219  |\n",
        "| sfdu                              |    -0.026   |   0.007    |  -3.713 |\n",
        "| renters                           |    0.375    |   0.036    |  10.349 |\n",
        "| poor                              |    -0.177   |   0.025    |  -6.969 |\n",
        "| population                        |    0.224    |   0.067    |  3.350  |\n",
        "+-----------------------------------+-------------+------------+---------+\n",
        "\n",
        "LCM RESULTS FOR SEGMENT 3\n",
        "\n",
        "Null Log-liklihood: -68856.505\n",
        "Log-liklihood at convergence: -66871.653\n",
        "Log-liklihood Ratio: 0.029\n",
        "\n",
        "+-----------------------------------+-------------+------------+---------+\n",
        "| Component                         | Coefficient | Std. Error | T-Score |\n",
        "+-----------------------------------+-------------+------------+---------+\n",
        "| np.log1p(residential_sales_price) |    -0.259   |   0.062    |  -4.213 |\n",
        "| np.log1p(unit_sqft)               |    -0.218   |   0.018    | -12.355 |\n",
        "| sum_residential_units             |    -0.351   |   0.052    |  -6.791 |\n",
        "| ave_unit_sqft                     |    0.091    |   0.027    |  3.373  |\n",
        "| ave_lot_sqft                      |    0.069    |   0.013    |  5.428  |\n",
        "| ave_income                        |    1.422    |   0.046    |  30.725 |\n",
        "| hhsize                            |    -1.162   |   0.111    | -10.439 |\n",
        "| jobs                              |    0.041    |   0.014    |  3.037  |\n",
        "| sfdu                              |    -0.025   |   0.007    |  -3.632 |\n",
        "| renters                           |    -0.164   |   0.038    |  -4.320 |\n",
        "| poor                              |    -0.213   |   0.024    |  -8.980 |\n",
        "| population                        |    0.803    |   0.066    |  12.218 |\n",
        "+-----------------------------------+-------------+------------+---------+\n",
        "\n"
       ]
      }
     ],
     "prompt_number": 9
    },
    {
     "cell_type": "code",
     "collapsed": false,
     "input": [
      "models.hlcmr_estimate(dset)"
     ],
     "language": "python",
     "metadata": {},
     "outputs": [
      {
       "output_type": "stream",
       "stream": "stdout",
       "text": [
        "Returning primary attribute: income of households\n",
        "Returning primary attribute: building_id of households"
       ]
      },
      {
       "output_type": "stream",
       "stream": "stdout",
       "text": [
        "\n",
        "Returning primary attribute: tenure of households\n",
        "Returning primary attribute: persons of households\n",
        "Returning from cache: _node_id of households\n",
        "Returning from cache: _node_id0 of households\n",
        "Returning primary attribute: year_built of buildings"
       ]
      },
      {
       "output_type": "stream",
       "stream": "stdout",
       "text": [
        "\n",
        "Returning from cache: unit_lot_size of buildings\n",
        "Returning from cache: unit_sqft of buildings\n",
        "Returning primary attribute: building_type_id of buildings\n",
        "Returning primary attribute: stories of buildings"
       ]
      },
      {
       "output_type": "stream",
       "stream": "stdout",
       "text": [
        "\n",
        "Returning primary attribute: residential_units of buildings\n",
        "Returning primary attribute: building_type_id of buildings\n",
        "Returning primary attribute: non_residential_sqft of buildings"
       ]
      },
      {
       "output_type": "stream",
       "stream": "stdout",
       "text": [
        "\n",
        "Returning primary attribute: building_type_id of buildings"
       ]
      },
      {
       "output_type": "stream",
       "stream": "stdout",
       "text": [
        "\n",
        "Returning primary attribute: residential_sales_price of buildings\n",
        "Returning primary attribute: residential_rent of buildings\n",
        "Returning primary attribute: non_residential_rent of buildings\n",
        "Returning from cache: _node_id of buildings\n",
        "Returning from cache: _node_id0 of buildings\n",
        "Returning from cache: zone_id of buildings\n",
        "Returning from cache: lot_size of buildings\n",
        "Running location choice model estimation\n"
       ]
      },
      {
       "output_type": "stream",
       "stream": "stdout",
       "text": [
        "\n",
        "Returning group 0"
       ]
      },
      {
       "output_type": "stream",
       "stream": "stdout",
       "text": [
        "\n",
        "Removing 34 choice situations because chosen alt doesn't exist"
       ]
      },
      {
       "output_type": "stream",
       "stream": "stdout",
       "text": [
        "\n",
        "Returning group 1"
       ]
      },
      {
       "output_type": "stream",
       "stream": "stdout",
       "text": [
        "\n",
        "Removing 30 choice situations because chosen alt doesn't exist"
       ]
      },
      {
       "output_type": "stream",
       "stream": "stdout",
       "text": [
        "\n",
        "Returning group 2"
       ]
      },
      {
       "output_type": "stream",
       "stream": "stdout",
       "text": [
        "\n",
        "Removing 38 choice situations because chosen alt doesn't exist"
       ]
      },
      {
       "output_type": "stream",
       "stream": "stdout",
       "text": [
        "\n",
        "Returning group 3"
       ]
      },
      {
       "output_type": "stream",
       "stream": "stdout",
       "text": [
        "\n",
        "Removing 32 choice situations because chosen alt doesn't exist"
       ]
      },
      {
       "output_type": "stream",
       "stream": "stdout",
       "text": [
        "\n",
        "LCM RESULTS FOR SEGMENT 0\n"
       ]
      },
      {
       "output_type": "stream",
       "stream": "stdout",
       "text": [
        "\n",
        "Null Log-liklihood: -22869.275\n",
        "Log-liklihood at convergence: -17311.708\n",
        "Log-liklihood Ratio: 0.243\n",
        "\n",
        "+----------------------------+-------------+------------+---------+\n",
        "| Component                  | Coefficient | Std. Error | T-Score |\n",
        "+----------------------------+-------------+------------+---------+\n",
        "| np.log1p(residential_rent) |    -3.000   |   0.447    |  -6.715 |\n",
        "| np.log1p(unit_sqft)        |    -1.308   |   0.069    | -18.917 |\n",
        "| sum_residential_units      |    -0.285   |   0.057    |  -4.976 |\n",
        "| ave_unit_sqft              |    0.498    |   0.035    |  14.205 |\n",
        "| ave_lot_sqft               |    0.180    |   0.023    |  7.795  |\n",
        "| ave_income                 |    0.831    |   0.087    |  9.590  |\n",
        "| hhsize                     |    -2.375   |   0.142    | -16.701 |\n",
        "| jobs                       |    -0.000   |   0.017    |  -0.006 |\n",
        "| sfdu                       |    -0.038   |   0.012    |  -3.233 |\n",
        "| renters                    |    -1.027   |   0.031    | -32.971 |\n",
        "| poor                       |    1.666    |   0.054    |  30.885 |\n",
        "+----------------------------+-------------+------------+---------+\n",
        "\n",
        "LCM RESULTS FOR SEGMENT 1\n",
        "\n",
        "Null Log-liklihood: -22887.696\n",
        "Log-liklihood at convergence: -18602.327\n",
        "Log-liklihood Ratio: 0.187\n",
        "\n",
        "+----------------------------+-------------+------------+---------+\n",
        "| Component                  | Coefficient | Std. Error | T-Score |\n",
        "+----------------------------+-------------+------------+---------+\n",
        "| np.log1p(residential_rent) |    -3.000   |   0.456    |  -6.580 |\n",
        "| np.log1p(unit_sqft)        |    -1.252   |   0.070    | -17.760 |\n",
        "| sum_residential_units      |    0.641    |   0.051    |  12.648 |\n",
        "| ave_unit_sqft              |    0.366    |   0.036    |  10.291 |\n",
        "| ave_lot_sqft               |    0.184    |   0.023    |  8.118  |\n",
        "| ave_income                 |    0.874    |   0.086    |  10.140 |\n",
        "| hhsize                     |    -1.181   |   0.134    |  -8.802 |\n",
        "| jobs                       |    -0.083   |   0.017    |  -4.916 |\n",
        "| sfdu                       |    -0.043   |   0.011    |  -3.916 |\n",
        "| renters                    |    -1.052   |   0.029    | -36.428 |\n",
        "| poor                       |    0.882    |   0.048    |  18.390 |\n",
        "+----------------------------+-------------+------------+---------+\n",
        "\n",
        "LCM RESULTS FOR SEGMENT 2\n",
        "\n",
        "Null Log-liklihood: -22850.854\n",
        "Log-liklihood at convergence: -19326.918\n",
        "Log-liklihood Ratio: 0.154\n",
        "\n",
        "+----------------------------+-------------+------------+---------+\n",
        "| Component                  | Coefficient | Std. Error | T-Score |\n",
        "+----------------------------+-------------+------------+---------+\n",
        "| np.log1p(residential_rent) |    -3.000   |   0.472    |  -6.357 |\n",
        "| np.log1p(unit_sqft)        |    -1.155   |   0.073    | -15.859 |\n",
        "| sum_residential_units      |    1.181    |   0.043    |  27.447 |\n",
        "| ave_unit_sqft              |    0.237    |   0.039    |  6.100  |\n",
        "| ave_lot_sqft               |    0.174    |   0.022    |  7.864  |\n",
        "| ave_income                 |    1.603    |   0.085    |  18.782 |\n",
        "| hhsize                     |    -0.323   |   0.130    |  -2.485 |\n",
        "| jobs                       |    -0.085   |   0.017    |  -4.958 |\n",
        "| sfdu                       |    -0.062   |   0.011    |  -5.857 |\n",
        "| renters                    |    -1.092   |   0.029    | -37.373 |\n",
        "| poor                       |    0.478    |   0.043    |  11.167 |\n",
        "+----------------------------+-------------+------------+---------+\n",
        "\n",
        "LCM RESULTS FOR SEGMENT 3\n",
        "\n",
        "Null Log-liklihood: -22878.485\n",
        "Log-liklihood at convergence: -19063.166\n",
        "Log-liklihood Ratio: 0.167\n",
        "\n",
        "+----------------------------+-------------+------------+---------+\n",
        "| Component                  | Coefficient | Std. Error | T-Score |\n",
        "+----------------------------+-------------+------------+---------+\n",
        "| np.log1p(residential_rent) |    -2.369   |   0.517    |  -4.584 |\n",
        "| np.log1p(unit_sqft)        |    -1.017   |   0.080    | -12.669 |\n",
        "| sum_residential_units      |    1.264    |   0.044    |  28.561 |\n",
        "| ave_unit_sqft              |    0.126    |   0.045    |  2.812  |\n",
        "| ave_lot_sqft               |    0.161    |   0.023    |  7.135  |\n",
        "| ave_income                 |    2.664    |   0.094    |  28.489 |\n",
        "| hhsize                     |    -0.024   |   0.138    |  -0.175 |\n",
        "| jobs                       |    -0.049   |   0.019    |  -2.609 |\n",
        "| sfdu                       |    -0.117   |   0.010    | -11.459 |\n",
        "| renters                    |    -1.018   |   0.033    | -30.901 |\n",
        "| poor                       |    0.417    |   0.046    |  9.116  |\n",
        "+----------------------------+-------------+------------+---------+\n",
        "\n"
       ]
      }
     ],
     "prompt_number": 10
    },
    {
     "cell_type": "code",
     "collapsed": false,
     "input": [
      "models.elcm_estimate(dset)"
     ],
     "language": "python",
     "metadata": {},
     "outputs": [
      {
       "output_type": "stream",
       "stream": "stdout",
       "text": [
        "Returning primary attribute: building_id of jobs\n",
        "Returning from cache: _node_id0 of jobs\n",
        "Returning from cache: _node_id of jobs\n",
        "Returning from cache: naics of jobs\n",
        "Returning primary attribute: year_built of buildings"
       ]
      },
      {
       "output_type": "stream",
       "stream": "stdout",
       "text": [
        "\n",
        "Returning from cache: unit_lot_size of buildings\n",
        "Returning from cache: unit_sqft of buildings\n",
        "Returning primary attribute: building_type_id of buildings\n",
        "Returning primary attribute: stories of buildings"
       ]
      },
      {
       "output_type": "stream",
       "stream": "stdout",
       "text": [
        "\n",
        "Returning primary attribute: residential_units of buildings\n",
        "Returning primary attribute: building_type_id of buildings\n",
        "Returning primary attribute: non_residential_sqft of buildings"
       ]
      },
      {
       "output_type": "stream",
       "stream": "stdout",
       "text": [
        "\n",
        "Returning primary attribute: building_type_id of buildings\n",
        "Returning primary attribute: residential_sales_price of buildings\n",
        "Returning primary attribute: residential_rent of buildings\n",
        "Returning primary attribute: non_residential_rent of buildings\n",
        "Returning from cache: _node_id of buildings\n",
        "Returning from cache: _node_id0 of buildings\n",
        "Returning from cache: zone_id of buildings\n",
        "Returning from cache: lot_size of buildings\n",
        "Running location choice model estimation\n"
       ]
      },
      {
       "output_type": "stream",
       "stream": "stdout",
       "text": [
        "\n",
        "Returning group 11"
       ]
      },
      {
       "output_type": "stream",
       "stream": "stdout",
       "text": [
        "\n",
        "Removing 8372 choice situations because chosen alt doesn't exist"
       ]
      },
      {
       "output_type": "stream",
       "stream": "stdout",
       "text": [
        "\n",
        "Returning group 21"
       ]
      },
      {
       "output_type": "stream",
       "stream": "stdout",
       "text": [
        "\n",
        "Removing 1268 choice situations because chosen alt doesn't exist"
       ]
      },
      {
       "output_type": "stream",
       "stream": "stdout",
       "text": [
        "\n",
        "Returning group 22"
       ]
      },
      {
       "output_type": "stream",
       "stream": "stdout",
       "text": [
        "\n",
        "Removing 2793 choice situations because chosen alt doesn't exist"
       ]
      },
      {
       "output_type": "stream",
       "stream": "stdout",
       "text": [
        "\n",
        "Returning group 23"
       ]
      },
      {
       "output_type": "stream",
       "stream": "stdout",
       "text": [
        "\n",
        "Removing 5620 choice situations because chosen alt doesn't exist"
       ]
      },
      {
       "output_type": "stream",
       "stream": "stdout",
       "text": [
        "\n",
        "Returning group 31"
       ]
      },
      {
       "output_type": "stream",
       "stream": "stdout",
       "text": [
        "\n",
        "Removing 3424 choice situations because chosen alt doesn't exist"
       ]
      },
      {
       "output_type": "stream",
       "stream": "stdout",
       "text": [
        "\n",
        "Returning group 32"
       ]
      },
      {
       "output_type": "stream",
       "stream": "stdout",
       "text": [
        "\n",
        "Removing 3228 choice situations because chosen alt doesn't exist"
       ]
      },
      {
       "output_type": "stream",
       "stream": "stdout",
       "text": [
        "\n",
        "Returning group 33"
       ]
      },
      {
       "output_type": "stream",
       "stream": "stdout",
       "text": [
        "\n",
        "Removing 2342 choice situations because chosen alt doesn't exist"
       ]
      },
      {
       "output_type": "stream",
       "stream": "stdout",
       "text": [
        "\n",
        "Returning group 42"
       ]
      },
      {
       "output_type": "stream",
       "stream": "stdout",
       "text": [
        "\n",
        "Removing 3296 choice situations because chosen alt doesn't exist"
       ]
      },
      {
       "output_type": "stream",
       "stream": "stdout",
       "text": [
        "\n",
        "Returning group 44"
       ]
      },
      {
       "output_type": "stream",
       "stream": "stdout",
       "text": [
        "\n",
        "Removing 4380 choice situations because chosen alt doesn't exist"
       ]
      },
      {
       "output_type": "stream",
       "stream": "stdout",
       "text": [
        "\n",
        "Returning group 45"
       ]
      },
      {
       "output_type": "stream",
       "stream": "stdout",
       "text": [
        "\n",
        "Removing 4963 choice situations because chosen alt doesn't exist"
       ]
      },
      {
       "output_type": "stream",
       "stream": "stdout",
       "text": [
        "\n",
        "Returning group 48"
       ]
      },
      {
       "output_type": "stream",
       "stream": "stdout",
       "text": [
        "\n",
        "Removing 5029 choice situations because chosen alt doesn't exist"
       ]
      },
      {
       "output_type": "stream",
       "stream": "stdout",
       "text": [
        "\n",
        "Returning group 49"
       ]
      },
      {
       "output_type": "stream",
       "stream": "stdout",
       "text": [
        "\n",
        "Removing 3033 choice situations because chosen alt doesn't exist"
       ]
      },
      {
       "output_type": "stream",
       "stream": "stdout",
       "text": [
        "\n",
        "Returning group 51"
       ]
      },
      {
       "output_type": "stream",
       "stream": "stdout",
       "text": [
        "\n",
        "Removing 5379 choice situations because chosen alt doesn't exist"
       ]
      },
      {
       "output_type": "stream",
       "stream": "stdout",
       "text": [
        "\n",
        "Returning group 52"
       ]
      },
      {
       "output_type": "stream",
       "stream": "stdout",
       "text": [
        "\n",
        "Removing 4829 choice situations because chosen alt doesn't exist"
       ]
      },
      {
       "output_type": "stream",
       "stream": "stdout",
       "text": [
        "\n",
        "Returning group 53"
       ]
      },
      {
       "output_type": "stream",
       "stream": "stdout",
       "text": [
        "\n",
        "Removing 6150 choice situations because chosen alt doesn't exist"
       ]
      },
      {
       "output_type": "stream",
       "stream": "stdout",
       "text": [
        "\n",
        "Returning group 54"
       ]
      },
      {
       "output_type": "stream",
       "stream": "stdout",
       "text": [
        "\n",
        "Removing 5136 choice situations because chosen alt doesn't exist"
       ]
      },
      {
       "output_type": "stream",
       "stream": "stdout",
       "text": [
        "\n",
        "Returning group 55"
       ]
      },
      {
       "output_type": "stream",
       "stream": "stdout",
       "text": [
        "\n",
        "Removing 2824 choice situations because chosen alt doesn't exist\n",
        "Returning group 56"
       ]
      },
      {
       "output_type": "stream",
       "stream": "stdout",
       "text": [
        "\n",
        "Removing 7810 choice situations because chosen alt doesn't exist"
       ]
      },
      {
       "output_type": "stream",
       "stream": "stdout",
       "text": [
        "\n",
        "Returning group 61"
       ]
      },
      {
       "output_type": "stream",
       "stream": "stdout",
       "text": [
        "\n",
        "Removing 9822 choice situations because chosen alt doesn't exist"
       ]
      },
      {
       "output_type": "stream",
       "stream": "stdout",
       "text": [
        "\n",
        "Returning group 62"
       ]
      },
      {
       "output_type": "stream",
       "stream": "stdout",
       "text": [
        "\n",
        "Removing 5262 choice situations because chosen alt doesn't exist"
       ]
      },
      {
       "output_type": "stream",
       "stream": "stdout",
       "text": [
        "\n",
        "Returning group 71"
       ]
      },
      {
       "output_type": "stream",
       "stream": "stdout",
       "text": [
        "\n",
        "Removing 6779 choice situations because chosen alt doesn't exist"
       ]
      },
      {
       "output_type": "stream",
       "stream": "stdout",
       "text": [
        "\n",
        "Returning group 72"
       ]
      },
      {
       "output_type": "stream",
       "stream": "stdout",
       "text": [
        "\n",
        "Removing 4977 choice situations because chosen alt doesn't exist"
       ]
      },
      {
       "output_type": "stream",
       "stream": "stdout",
       "text": [
        "\n",
        "Returning group 81"
       ]
      },
      {
       "output_type": "stream",
       "stream": "stdout",
       "text": [
        "\n",
        "Removing 5201 choice situations because chosen alt doesn't exist"
       ]
      },
      {
       "output_type": "stream",
       "stream": "stdout",
       "text": [
        "\n",
        "Returning group 92"
       ]
      },
      {
       "output_type": "stream",
       "stream": "stdout",
       "text": [
        "\n",
        "Removing 6855 choice situations because chosen alt doesn't exist"
       ]
      },
      {
       "output_type": "stream",
       "stream": "stdout",
       "text": [
        "\n",
        "Returning group 99"
       ]
      },
      {
       "output_type": "stream",
       "stream": "stdout",
       "text": [
        "\n",
        "Removing 770 choice situations because chosen alt doesn't exist"
       ]
      },
      {
       "output_type": "stream",
       "stream": "stdout",
       "text": [
        "\n",
        "LCM RESULTS FOR SEGMENT 11\n"
       ]
      },
      {
       "output_type": "stream",
       "stream": "stdout",
       "text": [
        "\n",
        "Null Log-liklihood: -30523.068\n",
        "Log-liklihood at convergence: -23052.266\n",
        "Log-liklihood Ratio: 0.245\n",
        "\n",
        "+--------------------------------+-------------+------------+---------+\n",
        "| Component                      | Coefficient | Std. Error | T-Score |\n",
        "+--------------------------------+-------------+------------+---------+\n",
        "| np.log1p(non_residential_rent) |    -0.889   |   0.035    | -25.350 |\n",
        "| np.log1p(stories)              |    0.990    |   0.051    |  19.490 |\n",
        "| sum_residential_units          |    -1.191   |   0.032    | -37.070 |\n",
        "| ave_unit_sqft                  |    -0.068   |   0.018    |  -3.797 |\n",
        "| ave_lot_sqft                   |    0.739    |   0.006    | 133.346 |\n",
        "| ave_income                     |    0.270    |   0.017    |  15.543 |\n",
        "| hhsize                         |    -0.755   |   0.091    |  -8.270 |\n",
        "| jobs                           |    0.578    |   0.013    |  45.411 |\n",
        "| sfdu                           |    0.121    |   0.020    |  6.179  |\n",
        "| renters                        |    0.527    |   0.032    |  16.548 |\n",
        "| poor                           |    0.493    |   0.022    |  22.486 |\n",
        "+--------------------------------+-------------+------------+---------+\n",
        "\n",
        "LCM RESULTS FOR SEGMENT 21\n",
        "\n",
        "Null Log-liklihood: -4209.126\n",
        "Log-liklihood at convergence: -3540.762\n",
        "Log-liklihood Ratio: 0.159\n",
        "\n",
        "+--------------------------------+-------------+------------+---------+\n",
        "| Component                      | Coefficient | Std. Error | T-Score |\n",
        "+--------------------------------+-------------+------------+---------+\n",
        "| np.log1p(non_residential_rent) |    0.099    |   0.111    |  0.889  |\n",
        "| np.log1p(stories)              |    0.871    |   0.102    |  8.517  |\n",
        "| sum_residential_units          |    -0.753   |   0.094    |  -8.026 |\n",
        "| ave_unit_sqft                  |    0.011    |   0.042    |  0.272  |\n",
        "| ave_lot_sqft                   |    0.230    |   0.020    |  11.365 |\n",
        "| ave_income                     |    0.302    |   0.044    |  6.792  |\n",
        "| hhsize                         |    -0.758   |   0.233    |  -3.258 |\n",
        "| jobs                           |    0.524    |   0.040    |  13.180 |\n",
        "| sfdu                           |    0.102    |   0.051    |  1.995  |\n",
        "| renters                        |    0.286    |   0.074    |  3.891  |\n",
        "| poor                           |    -0.197   |   0.057    |  -3.469 |\n",
        "+--------------------------------+-------------+------------+---------+\n",
        "\n",
        "LCM RESULTS FOR SEGMENT 22\n",
        "\n",
        "Null Log-liklihood: -56215.312\n",
        "Log-liklihood at convergence: -28868.922\n",
        "Log-liklihood Ratio: 0.486\n",
        "\n",
        "+--------------------------------+-------------+------------+---------+\n",
        "| Component                      | Coefficient | Std. Error | T-Score |\n",
        "+--------------------------------+-------------+------------+---------+\n",
        "| np.log1p(non_residential_rent) |    1.821    |   0.037    |  49.022 |\n",
        "| np.log1p(stories)              |    -0.736   |   0.025    | -29.180 |\n",
        "| sum_residential_units          |    -0.999   |   0.023    | -44.379 |\n",
        "| ave_unit_sqft                  |    0.230    |   0.012    |  18.997 |\n",
        "| ave_lot_sqft                   |    -0.100   |   0.007    | -14.919 |\n",
        "| ave_income                     |    -0.036   |   0.013    |  -2.849 |\n",
        "| hhsize                         |    1.005    |   0.049    |  20.693 |\n",
        "| jobs                           |    1.519    |   0.012    | 121.580 |\n",
        "| sfdu                           |    -0.138   |   0.015    |  -8.883 |\n",
        "| renters                        |    0.309    |   0.024    |  13.093 |\n",
        "| poor                           |    -0.192   |   0.018    | -10.832 |\n",
        "+--------------------------------+-------------+------------+---------+\n",
        "\n",
        "LCM RESULTS FOR SEGMENT 23\n",
        "\n",
        "Null Log-liklihood: -43196.496\n",
        "Log-liklihood at convergence: -38747.227\n",
        "Log-liklihood Ratio: 0.103\n",
        "\n",
        "+--------------------------------+-------------+------------+---------+\n",
        "| Component                      | Coefficient | Std. Error | T-Score |\n",
        "+--------------------------------+-------------+------------+---------+\n",
        "| np.log1p(non_residential_rent) |    -0.929   |   0.032    | -28.986 |\n",
        "| np.log1p(stories)              |    0.317    |   0.037    |  8.672  |\n",
        "| sum_residential_units          |    -0.627   |   0.021    | -29.647 |\n",
        "| ave_unit_sqft                  |    0.021    |   0.010    |  2.078  |\n",
        "| ave_lot_sqft                   |    -0.037   |   0.007    |  -5.327 |\n",
        "| ave_income                     |    -0.019   |   0.010    |  -1.798 |\n",
        "| hhsize                         |    0.369    |   0.061    |  6.046  |\n",
        "| jobs                           |    0.652    |   0.012    |  55.184 |\n",
        "| sfdu                           |    0.004    |   0.012    |  0.364  |\n",
        "| renters                        |    0.157    |   0.019    |  8.081  |\n",
        "| poor                           |    -0.014   |   0.015    |  -0.916 |\n",
        "+--------------------------------+-------------+------------+---------+\n",
        "\n",
        "LCM RESULTS FOR SEGMENT 31\n",
        "\n",
        "Null Log-liklihood: -53309.450\n",
        "Log-liklihood at convergence: -42803.443\n",
        "Log-liklihood Ratio: 0.197\n",
        "\n",
        "+--------------------------------+-------------+------------+---------+\n",
        "| Component                      | Coefficient | Std. Error | T-Score |\n",
        "+--------------------------------+-------------+------------+---------+\n",
        "| np.log1p(non_residential_rent) |    -0.937   |   0.026    | -35.959 |\n",
        "| np.log1p(stories)              |    0.028    |   0.042    |  0.654  |\n",
        "| sum_residential_units          |    -1.130   |   0.020    | -56.449 |\n",
        "| ave_unit_sqft                  |    -0.188   |   0.012    | -16.021 |\n",
        "| ave_lot_sqft                   |    0.372    |   0.004    |  84.153 |\n",
        "| ave_income                     |    0.221    |   0.012    |  18.333 |\n",
        "| hhsize                         |    -0.728   |   0.061    | -11.897 |\n",
        "| jobs                           |    1.166    |   0.010    | 116.001 |\n",
        "| sfdu                           |    0.079    |   0.012    |  6.505  |\n",
        "| renters                        |    0.450    |   0.020    |  22.824 |\n",
        "| poor                           |    0.328    |   0.015    |  21.306 |\n",
        "+--------------------------------+-------------+------------+---------+\n",
        "\n",
        "LCM RESULTS FOR SEGMENT 32\n",
        "\n",
        "Null Log-liklihood: -54212.063\n",
        "Log-liklihood at convergence: -38418.760\n",
        "Log-liklihood Ratio: 0.291\n",
        "\n",
        "+--------------------------------+-------------+------------+---------+\n",
        "| Component                      | Coefficient | Std. Error | T-Score |\n",
        "+--------------------------------+-------------+------------+---------+\n",
        "| np.log1p(non_residential_rent) |    -1.095   |   0.031    | -35.442 |\n",
        "| np.log1p(stories)              |    0.253    |   0.031    |  8.256  |\n",
        "| sum_residential_units          |    -1.106   |   0.017    | -64.705 |\n",
        "| ave_unit_sqft                  |    0.014    |   0.008    |  1.807  |\n",
        "| ave_lot_sqft                   |    0.159    |   0.007    |  24.250 |\n",
        "| ave_income                     |    -0.008   |   0.009    |  -0.872 |\n",
        "| hhsize                         |    0.597    |   0.048    |  12.334 |\n",
        "| jobs                           |    1.088    |   0.011    | 101.326 |\n",
        "| sfdu                           |    -0.194   |   0.014    | -13.989 |\n",
        "| renters                        |    0.339    |   0.019    |  17.733 |\n",
        "| poor                           |    0.098    |   0.014    |  7.004  |\n",
        "+--------------------------------+-------------+------------+---------+\n",
        "\n",
        "LCM RESULTS FOR SEGMENT 33\n",
        "\n",
        "Null Log-liklihood: -58292.244\n",
        "Log-liklihood at convergence: -31700.006\n",
        "Log-liklihood Ratio: 0.456\n",
        "\n",
        "+--------------------------------+-------------+------------+---------+\n",
        "| Component                      | Coefficient | Std. Error | T-Score |\n",
        "+--------------------------------+-------------+------------+---------+\n",
        "| np.log1p(non_residential_rent) |    -1.428   |   0.031    | -45.903 |\n",
        "| np.log1p(stories)              |    0.357    |   0.037    |  9.767  |\n",
        "| sum_residential_units          |    -1.399   |   0.018    | -78.003 |\n",
        "| ave_unit_sqft                  |    -0.103   |   0.007    | -14.098 |\n",
        "| ave_lot_sqft                   |    0.108    |   0.007    |  15.078 |\n",
        "| ave_income                     |    0.011    |   0.009    |  1.246  |\n",
        "| hhsize                         |    0.364    |   0.056    |  6.462  |\n",
        "| jobs                           |    1.433    |   0.012    | 119.636 |\n",
        "| sfdu                           |    -0.024   |   0.016    |  -1.493 |\n",
        "| renters                        |    0.453    |   0.022    |  20.175 |\n",
        "| poor                           |    0.050    |   0.015    |  3.264  |\n",
        "+--------------------------------+-------------+------------+---------+\n",
        "\n",
        "LCM RESULTS FOR SEGMENT 42\n",
        "\n",
        "Null Log-liklihood: -53898.912\n",
        "Log-liklihood at convergence: -39859.670\n",
        "Log-liklihood Ratio: 0.260\n",
        "\n",
        "+--------------------------------+-------------+------------+---------+\n",
        "| Component                      | Coefficient | Std. Error | T-Score |\n",
        "+--------------------------------+-------------+------------+---------+\n",
        "| np.log1p(non_residential_rent) |    -0.715   |   0.030    | -23.805 |\n",
        "| np.log1p(stories)              |    0.279    |   0.025    |  11.108 |\n",
        "| sum_residential_units          |    -1.035   |   0.017    | -62.209 |\n",
        "| ave_unit_sqft                  |    -0.044   |   0.010    |  -4.376 |\n",
        "| ave_lot_sqft                   |    0.031    |   0.006    |  5.320  |\n",
        "| ave_income                     |    0.066    |   0.011    |  6.144  |\n",
        "| hhsize                         |    0.012    |   0.056    |  0.207  |\n",
        "| jobs                           |    1.090    |   0.010    | 105.554 |\n",
        "| sfdu                           |    -0.023   |   0.013    |  -1.742 |\n",
        "| renters                        |    0.156    |   0.019    |  8.155  |\n",
        "| poor                           |    0.132    |   0.014    |  9.377  |\n",
        "+--------------------------------+-------------+------------+---------+\n",
        "\n",
        "LCM RESULTS FOR SEGMENT 44\n",
        "\n",
        "Null Log-liklihood: -48906.907\n",
        "Log-liklihood at convergence: -43346.294\n",
        "Log-liklihood Ratio: 0.114\n",
        "\n",
        "+--------------------------------+-------------+------------+---------+\n",
        "| Component                      | Coefficient | Std. Error | T-Score |\n",
        "+--------------------------------+-------------+------------+---------+\n",
        "| np.log1p(non_residential_rent) |    1.367    |   0.033    |  41.020 |\n",
        "| np.log1p(stories)              |    -0.266   |   0.029    |  -9.284 |\n",
        "| sum_residential_units          |    -0.980   |   0.023    | -42.077 |\n",
        "| ave_unit_sqft                  |    0.061    |   0.010    |  5.952  |\n",
        "| ave_lot_sqft                   |    0.032    |   0.008    |  4.143  |\n",
        "| ave_income                     |    -0.053   |   0.012    |  -4.406 |\n",
        "| hhsize                         |    0.434    |   0.066    |  6.549  |\n",
        "| jobs                           |    0.712    |   0.012    |  61.302 |\n",
        "| sfdu                           |    -0.122   |   0.010    | -12.391 |\n",
        "| renters                        |    0.314    |   0.016    |  19.609 |\n",
        "| poor                           |    0.238    |   0.016    |  15.097 |\n",
        "+--------------------------------+-------------+------------+---------+\n",
        "\n",
        "LCM RESULTS FOR SEGMENT 45\n",
        "\n",
        "Null Log-liklihood: -46222.093\n",
        "Log-liklihood at convergence: -39153.899\n",
        "Log-liklihood Ratio: 0.153\n",
        "\n",
        "+--------------------------------+-------------+------------+---------+\n",
        "| Component                      | Coefficient | Std. Error | T-Score |\n",
        "+--------------------------------+-------------+------------+---------+\n",
        "| np.log1p(non_residential_rent) |    1.873    |   0.032    |  58.386 |\n",
        "| np.log1p(stories)              |    -0.794   |   0.034    | -23.254 |\n",
        "| sum_residential_units          |    -0.955   |   0.021    | -45.109 |\n",
        "| ave_unit_sqft                  |    -0.014   |   0.010    |  -1.348 |\n",
        "| ave_lot_sqft                   |    0.225    |   0.007    |  31.990 |\n",
        "| ave_income                     |    0.036    |   0.012    |  3.054  |\n",
        "| hhsize                         |    0.216    |   0.069    |  3.118  |\n",
        "| jobs                           |    0.705    |   0.012    |  57.298 |\n",
        "| sfdu                           |    -0.158   |   0.011    | -14.702 |\n",
        "| renters                        |    0.045    |   0.017    |  2.689  |\n",
        "| poor                           |    0.438    |   0.015    |  29.722 |\n",
        "+--------------------------------+-------------+------------+---------+\n",
        "\n",
        "LCM RESULTS FOR SEGMENT 48\n",
        "\n",
        "Null Log-liklihood: -45918.152\n",
        "Log-liklihood at convergence: -37127.308\n",
        "Log-liklihood Ratio: 0.191\n",
        "\n",
        "+--------------------------------+-------------+------------+---------+\n",
        "| Component                      | Coefficient | Std. Error | T-Score |\n",
        "+--------------------------------+-------------+------------+---------+\n",
        "| np.log1p(non_residential_rent) |    -0.712   |   0.032    | -22.178 |\n",
        "| np.log1p(stories)              |    0.094    |   0.032    |  2.952  |\n",
        "| sum_residential_units          |    -0.920   |   0.017    | -53.574 |\n",
        "| ave_unit_sqft                  |    0.124    |   0.007    |  17.705 |\n",
        "| ave_lot_sqft                   |    0.005    |   0.006    |  0.832  |\n",
        "| ave_income                     |    -0.138   |   0.009    | -15.513 |\n",
        "| hhsize                         |    0.742    |   0.053    |  13.979 |\n",
        "| jobs                           |    0.807    |   0.011    |  71.785 |\n",
        "| sfdu                           |    -0.150   |   0.014    | -10.798 |\n",
        "| renters                        |    0.192    |   0.021    |  9.158  |\n",
        "| poor                           |    0.112    |   0.014    |  8.002  |\n",
        "+--------------------------------+-------------+------------+---------+\n",
        "\n",
        "LCM RESULTS FOR SEGMENT 49\n",
        "\n",
        "Null Log-liklihood: -55110.072\n",
        "Log-liklihood at convergence: -36071.412\n",
        "Log-liklihood Ratio: 0.345\n",
        "\n",
        "+--------------------------------+-------------+------------+---------+\n",
        "| Component                      | Coefficient | Std. Error | T-Score |\n",
        "+--------------------------------+-------------+------------+---------+\n",
        "| np.log1p(non_residential_rent) |    -0.346   |   0.038    |  -9.050 |\n",
        "| np.log1p(stories)              |    -0.009   |   0.042    |  -0.213 |\n",
        "| sum_residential_units          |    -1.584   |   0.017    | -92.004 |\n",
        "| ave_unit_sqft                  |    0.008    |   0.009    |  0.894  |\n",
        "| ave_lot_sqft                   |    -0.000   |   0.007    |  -0.028 |\n",
        "| ave_income                     |    -0.003   |   0.010    |  -0.353 |\n",
        "| hhsize                         |    0.374    |   0.058    |  6.407  |\n",
        "| jobs                           |    1.126    |   0.013    |  86.886 |\n",
        "| sfdu                           |    -0.255   |   0.011    | -22.248 |\n",
        "| renters                        |    0.660    |   0.019    |  35.601 |\n",
        "| poor                           |    0.206    |   0.015    |  13.750 |\n",
        "+--------------------------------+-------------+------------+---------+\n",
        "\n",
        "LCM RESULTS FOR SEGMENT 51\n",
        "\n",
        "Null Log-liklihood: -44306.342\n",
        "Log-liklihood at convergence: -28339.777\n",
        "Log-liklihood Ratio: 0.360\n",
        "\n",
        "+--------------------------------+-------------+------------+---------+\n",
        "| Component                      | Coefficient | Std. Error | T-Score |\n",
        "+--------------------------------+-------------+------------+---------+\n",
        "| np.log1p(non_residential_rent) |    0.154    |   0.038    |  4.098  |\n",
        "| np.log1p(stories)              |    0.301    |   0.025    |  11.990 |\n",
        "| sum_residential_units          |    -1.072   |   0.021    | -52.223 |\n",
        "| ave_unit_sqft                  |    -0.134   |   0.012    | -11.554 |\n",
        "| ave_lot_sqft                   |    0.324    |   0.008    |  40.338 |\n",
        "| ave_income                     |    0.195    |   0.013    |  14.539 |\n",
        "| hhsize                         |    -0.713   |   0.075    |  -9.574 |\n",
        "| jobs                           |    1.335    |   0.013    | 101.394 |\n",
        "| sfdu                           |    -0.173   |   0.012    | -14.212 |\n",
        "| renters                        |    0.617    |   0.019    |  32.755 |\n",
        "| poor                           |    0.113    |   0.017    |  6.579  |\n",
        "+--------------------------------+-------------+------------+---------+\n",
        "\n",
        "LCM RESULTS FOR SEGMENT 52\n",
        "\n",
        "Null Log-liklihood: -46839.186\n",
        "Log-liklihood at convergence: -29542.786\n",
        "Log-liklihood Ratio: 0.369\n",
        "\n",
        "+--------------------------------+-------------+------------+---------+\n",
        "| Component                      | Coefficient | Std. Error | T-Score |\n",
        "+--------------------------------+-------------+------------+---------+\n",
        "| np.log1p(non_residential_rent) |    1.805    |   0.048    |  37.380 |\n",
        "| np.log1p(stories)              |    0.705    |   0.022    |  31.679 |\n",
        "| sum_residential_units          |    -0.826   |   0.023    | -35.804 |\n",
        "| ave_unit_sqft                  |    0.082    |   0.011    |  7.341  |\n",
        "| ave_lot_sqft                   |    0.086    |   0.010    |  8.644  |\n",
        "| ave_income                     |    0.028    |   0.014    |  2.029  |\n",
        "| hhsize                         |    -0.688   |   0.084    |  -8.181 |\n",
        "| jobs                           |    0.946    |   0.013    |  70.500 |\n",
        "| sfdu                           |    0.123    |   0.011    |  10.854 |\n",
        "| renters                        |    0.171    |   0.017    |  10.115 |\n",
        "| poor                           |    0.123    |   0.016    |  7.713  |\n",
        "+--------------------------------+-------------+------------+---------+\n",
        "\n",
        "LCM RESULTS FOR SEGMENT 53\n",
        "\n",
        "Null Log-liklihood: -40755.756\n",
        "Log-liklihood at convergence: -36665.834\n",
        "Log-liklihood Ratio: 0.100\n",
        "\n",
        "+--------------------------------+-------------+------------+---------+\n",
        "| Component                      | Coefficient | Std. Error | T-Score |\n",
        "+--------------------------------+-------------+------------+---------+\n",
        "| np.log1p(non_residential_rent) |    0.692    |   0.039    |  17.678 |\n",
        "| np.log1p(stories)              |    0.454    |   0.027    |  16.588 |\n",
        "| sum_residential_units          |    -0.455   |   0.025    | -18.546 |\n",
        "| ave_unit_sqft                  |    0.017    |   0.011    |  1.513  |\n",
        "| ave_lot_sqft                   |    0.046    |   0.008    |  5.792  |\n",
        "| ave_income                     |    0.100    |   0.012    |  8.124  |\n",
        "| hhsize                         |    -0.875   |   0.076    | -11.581 |\n",
        "| jobs                           |    0.560    |   0.012    |  46.666 |\n",
        "| sfdu                           |    -0.012   |   0.010    |  -1.179 |\n",
        "| renters                        |    0.190    |   0.017    |  11.075 |\n",
        "| poor                           |    0.019    |   0.017    |  1.117  |\n",
        "+--------------------------------+-------------+------------+---------+\n",
        "\n",
        "LCM RESULTS FOR SEGMENT 54\n",
        "\n",
        "Null Log-liklihood: -45425.399\n",
        "Log-liklihood at convergence: -32680.617\n",
        "Log-liklihood Ratio: 0.281\n",
        "\n",
        "+--------------------------------+-------------+------------+---------+\n",
        "| Component                      | Coefficient | Std. Error | T-Score |\n",
        "+--------------------------------+-------------+------------+---------+\n",
        "| np.log1p(non_residential_rent) |    0.316    |   0.037    |  8.488  |\n",
        "| np.log1p(stories)              |    0.808    |   0.022    |  37.550 |\n",
        "| sum_residential_units          |    -0.763   |   0.021    | -37.162 |\n",
        "| ave_unit_sqft                  |    -0.075   |   0.011    |  -7.059 |\n",
        "| ave_lot_sqft                   |    0.124    |   0.008    |  16.319 |\n",
        "| ave_income                     |    0.141    |   0.012    |  11.715 |\n",
        "| hhsize                         |    -0.978   |   0.073    | -13.419 |\n",
        "| jobs                           |    0.944    |   0.012    |  77.199 |\n",
        "| sfdu                           |    -0.061   |   0.011    |  -5.557 |\n",
        "| renters                        |    0.312    |   0.017    |  18.853 |\n",
        "| poor                           |    0.048    |   0.016    |  3.030  |\n",
        "+--------------------------------+-------------+------------+---------+\n",
        "\n",
        "LCM RESULTS FOR SEGMENT 55\n",
        "\n",
        "Null Log-liklihood: -22869.275\n",
        "Log-liklihood at convergence: -14616.399\n",
        "Log-liklihood Ratio: 0.361\n",
        "\n",
        "+--------------------------------+-------------+------------+---------+\n",
        "| Component                      | Coefficient | Std. Error | T-Score |\n",
        "+--------------------------------+-------------+------------+---------+\n",
        "| np.log1p(non_residential_rent) |    0.709    |   0.056    |  12.702 |\n",
        "| np.log1p(stories)              |    0.533    |   0.033    |  16.369 |\n",
        "| sum_residential_units          |    -0.775   |   0.036    | -21.348 |\n",
        "| ave_unit_sqft                  |    -0.191   |   0.019    |  -9.909 |\n",
        "| ave_lot_sqft                   |    -0.115   |   0.013    |  -8.810 |\n",
        "| ave_income                     |    0.048    |   0.021    |  2.261  |\n",
        "| hhsize                         |    -0.737   |   0.129    |  -5.731 |\n",
        "| jobs                           |    1.343    |   0.017    |  77.618 |\n",
        "| sfdu                           |    0.197    |   0.017    |  11.369 |\n",
        "| renters                        |    0.547    |   0.026    |  21.289 |\n",
        "| poor                           |    -0.332   |   0.025    | -13.515 |\n",
        "+--------------------------------+-------------+------------+---------+\n",
        "\n",
        "LCM RESULTS FOR SEGMENT 56\n",
        "\n",
        "Null Log-liklihood: -33111.174\n",
        "Log-liklihood at convergence: -29307.700\n",
        "Log-liklihood Ratio: 0.115\n",
        "\n",
        "+--------------------------------+-------------+------------+---------+\n",
        "| Component                      | Coefficient | Std. Error | T-Score |\n",
        "+--------------------------------+-------------+------------+---------+\n",
        "| np.log1p(non_residential_rent) |    -0.204   |   0.037    |  -5.484 |\n",
        "| np.log1p(stories)              |    0.686    |   0.030    |  22.770 |\n",
        "| sum_residential_units          |    -0.712   |   0.024    | -29.096 |\n",
        "| ave_unit_sqft                  |    -0.021   |   0.012    |  -1.704 |\n",
        "| ave_lot_sqft                   |    0.049    |   0.008    |  6.221  |\n",
        "| ave_income                     |    0.017    |   0.013    |  1.329  |\n",
        "| hhsize                         |    -0.253   |   0.082    |  -3.103 |\n",
        "| jobs                           |    0.700    |   0.012    |  59.689 |\n",
        "| sfdu                           |    -0.082   |   0.011    |  -7.427 |\n",
        "| renters                        |    0.410    |   0.019    |  21.177 |\n",
        "| poor                           |    0.061    |   0.018    |  3.445  |\n",
        "+--------------------------------+-------------+------------+---------+\n",
        "\n",
        "LCM RESULTS FOR SEGMENT 61\n",
        "\n",
        "Null Log-liklihood: -23845.571\n",
        "Log-liklihood at convergence: -20958.289\n",
        "Log-liklihood Ratio: 0.121\n",
        "\n",
        "+--------------------------------+-------------+------------+---------+\n",
        "| Component                      | Coefficient | Std. Error | T-Score |\n",
        "+--------------------------------+-------------+------------+---------+\n",
        "| np.log1p(non_residential_rent) |    0.477    |   0.049    |  9.724  |\n",
        "| np.log1p(stories)              |    0.536    |   0.041    |  13.243 |\n",
        "| sum_residential_units          |    -1.746   |   0.039    | -44.907 |\n",
        "| ave_unit_sqft                  |    -0.166   |   0.021    |  -7.738 |\n",
        "| ave_lot_sqft                   |    -0.062   |   0.012    |  -5.336 |\n",
        "| ave_income                     |    0.203    |   0.022    |  9.112  |\n",
        "| hhsize                         |    -0.772   |   0.117    |  -6.582 |\n",
        "| jobs                           |    0.835    |   0.016    |  53.591 |\n",
        "| sfdu                           |    -0.076   |   0.013    |  -5.979 |\n",
        "| renters                        |    0.659    |   0.023    |  28.602 |\n",
        "| poor                           |    0.727    |   0.026    |  27.717 |\n",
        "+--------------------------------+-------------+------------+---------+\n",
        "\n",
        "LCM RESULTS FOR SEGMENT 62\n",
        "\n",
        "Null Log-liklihood: -44845.147\n",
        "Log-liklihood at convergence: -36606.937\n",
        "Log-liklihood Ratio: 0.184\n",
        "\n",
        "+--------------------------------+-------------+------------+---------+\n",
        "| Component                      | Coefficient | Std. Error | T-Score |\n",
        "+--------------------------------+-------------+------------+---------+\n",
        "| np.log1p(non_residential_rent) |    1.258    |   0.044    |  28.672 |\n",
        "| np.log1p(stories)              |    0.269    |   0.028    |  9.672  |\n",
        "| sum_residential_units          |    -1.625   |   0.025    | -64.122 |\n",
        "| ave_unit_sqft                  |    -0.128   |   0.014    |  -8.919 |\n",
        "| ave_lot_sqft                   |    0.008    |   0.010    |  0.797  |\n",
        "| ave_income                     |    0.077    |   0.015    |  4.990  |\n",
        "| hhsize                         |    -0.489   |   0.082    |  -5.988 |\n",
        "| jobs                           |    1.006    |   0.012    |  86.888 |\n",
        "| sfdu                           |    -0.066   |   0.009    |  -7.072 |\n",
        "| renters                        |    0.773    |   0.017    |  45.911 |\n",
        "| poor                           |    0.480    |   0.019    |  25.653 |\n",
        "+--------------------------------+-------------+------------+---------+\n",
        "\n",
        "LCM RESULTS FOR SEGMENT 71\n",
        "\n",
        "Null Log-liklihood: -37859.104\n",
        "Log-liklihood at convergence: -34075.300\n",
        "Log-liklihood Ratio: 0.100\n",
        "\n",
        "+--------------------------------+-------------+------------+---------+\n",
        "| Component                      | Coefficient | Std. Error | T-Score |\n",
        "+--------------------------------+-------------+------------+---------+\n",
        "| np.log1p(non_residential_rent) |    0.983    |   0.037    |  26.274 |\n",
        "| np.log1p(stories)              |    0.089    |   0.031    |  2.918  |\n",
        "| sum_residential_units          |    -0.434   |   0.024    | -18.462 |\n",
        "| ave_unit_sqft                  |    -0.108   |   0.015    |  -7.200 |\n",
        "| ave_lot_sqft                   |    0.162    |   0.007    |  22.429 |\n",
        "| ave_income                     |    0.148    |   0.014    |  10.327 |\n",
        "| hhsize                         |    -0.667   |   0.073    |  -9.170 |\n",
        "| jobs                           |    0.571    |   0.013    |  44.006 |\n",
        "| sfdu                           |    -0.080   |   0.012    |  -6.945 |\n",
        "| renters                        |    0.184    |   0.018    |  10.010 |\n",
        "| poor                           |    -0.005   |   0.017    |  -0.318 |\n",
        "+--------------------------------+-------------+------------+---------+\n",
        "\n",
        "LCM RESULTS FOR SEGMENT 72\n",
        "\n",
        "Null Log-liklihood: -46157.621\n",
        "Log-liklihood at convergence: -39762.980\n",
        "Log-liklihood Ratio: 0.139\n",
        "\n",
        "+--------------------------------+-------------+------------+---------+\n",
        "| Component                      | Coefficient | Std. Error | T-Score |\n",
        "+--------------------------------+-------------+------------+---------+\n",
        "| np.log1p(non_residential_rent) |    2.116    |   0.038    |  55.351 |\n",
        "| np.log1p(stories)              |    -0.274   |   0.029    |  -9.360 |\n",
        "| sum_residential_units          |    -0.897   |   0.026    | -34.703 |\n",
        "| ave_unit_sqft                  |    -0.069   |   0.012    |  -6.030 |\n",
        "| ave_lot_sqft                   |    0.015    |   0.008    |  1.953  |\n",
        "| ave_income                     |    0.151    |   0.012    |  12.439 |\n",
        "| hhsize                         |    -0.916   |   0.071    | -12.953 |\n",
        "| jobs                           |    0.645    |   0.012    |  52.127 |\n",
        "| sfdu                           |    -0.101   |   0.010    | -10.457 |\n",
        "| renters                        |    0.097    |   0.016    |  6.146  |\n",
        "| poor                           |    0.352    |   0.017    |  20.815 |\n",
        "+--------------------------------+-------------+------------+---------+"
       ]
      },
      {
       "output_type": "stream",
       "stream": "stdout",
       "text": [
        "\n",
        "\n",
        "LCM RESULTS FOR SEGMENT 81\n",
        "\n",
        "Null Log-liklihood: -45126.063\n",
        "Log-liklihood at convergence: -41982.715\n",
        "Log-liklihood Ratio: 0.070\n",
        "\n",
        "+--------------------------------+-------------+------------+---------+\n",
        "| Component                      | Coefficient | Std. Error | T-Score |\n",
        "+--------------------------------+-------------+------------+---------+\n",
        "| np.log1p(non_residential_rent) |    0.100    |   0.034    |  2.958  |\n",
        "| np.log1p(stories)              |    0.190    |   0.030    |  6.234  |\n",
        "| sum_residential_units          |    -0.613   |   0.024    | -25.073 |\n",
        "| ave_unit_sqft                  |    -0.030   |   0.014    |  -2.151 |\n",
        "| ave_lot_sqft                   |    -0.074   |   0.008    |  -9.266 |\n",
        "| ave_income                     |    0.029    |   0.014    |  1.983  |\n",
        "| hhsize                         |    0.034    |   0.074    |  0.462  |\n",
        "| jobs                           |    0.672    |   0.010    |  64.288 |\n",
        "| sfdu                           |    0.024    |   0.010    |  2.483  |\n",
        "| renters                        |    0.191    |   0.017    |  11.029 |\n",
        "| poor                           |    0.167    |   0.017    |  9.877  |\n",
        "+--------------------------------+-------------+------------+---------+\n",
        "\n",
        "LCM RESULTS FOR SEGMENT 92\n",
        "\n",
        "Null Log-liklihood: -37509.111\n",
        "Log-liklihood at convergence: -26803.024\n",
        "Log-liklihood Ratio: 0.285\n",
        "\n",
        "+--------------------------------+-------------+------------+---------+\n",
        "| Component                      | Coefficient | Std. Error | T-Score |\n",
        "+--------------------------------+-------------+------------+---------+\n",
        "| np.log1p(non_residential_rent) |    0.509    |   0.040    |  12.604 |\n",
        "| np.log1p(stories)              |    0.363    |   0.025    |  14.633 |\n",
        "| sum_residential_units          |    -1.632   |   0.027    | -60.205 |\n",
        "| ave_unit_sqft                  |    -0.066   |   0.014    |  -4.793 |\n",
        "| ave_lot_sqft                   |    0.269    |   0.008    |  34.291 |\n",
        "| ave_income                     |    -0.018   |   0.015    |  -1.237 |\n",
        "| hhsize                         |    0.285    |   0.078    |  3.649  |\n",
        "| jobs                           |    1.290    |   0.014    |  90.148 |\n",
        "| sfdu                           |    -0.071   |   0.011    |  -6.420 |\n",
        "| renters                        |    0.305    |   0.017    |  17.686 |\n",
        "| poor                           |    1.006    |   0.019    |  53.597 |\n",
        "+--------------------------------+-------------+------------+---------+\n",
        "\n",
        "LCM RESULTS FOR SEGMENT 99\n",
        "\n",
        "Null Log-liklihood: -11342.534\n",
        "Log-liklihood at convergence: -9000.223\n",
        "Log-liklihood Ratio: 0.207\n",
        "\n",
        "+--------------------------------+-------------+------------+---------+\n",
        "| Component                      | Coefficient | Std. Error | T-Score |\n",
        "+--------------------------------+-------------+------------+---------+\n",
        "| np.log1p(non_residential_rent) |    -0.000   |   0.075    |  -0.002 |\n",
        "| np.log1p(stories)              |    0.728    |   0.055    |  13.312 |\n",
        "| sum_residential_units          |    0.042    |   0.046    |  0.899  |\n",
        "| ave_unit_sqft                  |    -0.110   |   0.029    |  -3.872 |\n",
        "| ave_lot_sqft                   |    0.228    |   0.015    |  15.561 |\n",
        "| ave_income                     |    0.194    |   0.031    |  6.268  |\n",
        "| hhsize                         |    -1.128   |   0.164    |  -6.859 |\n",
        "| jobs                           |    0.658    |   0.027    |  24.171 |\n",
        "| sfdu                           |    -0.015   |   0.023    |  -0.664 |\n",
        "| renters                        |    -0.010   |   0.032    |  -0.313 |\n",
        "| poor                           |    -0.004   |   0.033    |  -0.129 |\n",
        "+--------------------------------+-------------+------------+---------+\n",
        "\n"
       ]
      }
     ],
     "prompt_number": 11
    },
    {
     "cell_type": "heading",
     "level": 2,
     "metadata": {},
     "source": [
      "Set up the Dataset Explorer Dataframes"
     ]
    },
    {
     "cell_type": "code",
     "collapsed": false,
     "input": [
      "models.households_relocation(dset)\n",
      "models.jobs_relocation(dset)\n",
      "hlcmo_pdfs = models.hlcmo_simulate(dset)\n",
      "hlcmr_pdfs = models.hlcmr_simulate(dset)\n",
      "elcm_pdfs = models.elcm_simulate(dset)"
     ],
     "language": "python",
     "metadata": {},
     "outputs": [
      {
       "output_type": "stream",
       "stream": "stdout",
       "text": [
        "Running relocation\n",
        "\n",
        "Total currently unplaced: 101"
       ]
      },
      {
       "output_type": "stream",
       "stream": "stdout",
       "text": [
        "\n",
        "Total currently unplaced: 130495"
       ]
      },
      {
       "output_type": "stream",
       "stream": "stdout",
       "text": [
        "\n",
        "Running relocation\n",
        "\n",
        "Total currently unplaced: 0"
       ]
      },
      {
       "output_type": "stream",
       "stream": "stdout",
       "text": [
        "\n",
        "Total currently unplaced: 326867"
       ]
      },
      {
       "output_type": "stream",
       "stream": "stdout",
       "text": [
        "\n",
        "Returning primary attribute: income of households\n",
        "Returning primary attribute: building_id of households"
       ]
      },
      {
       "output_type": "stream",
       "stream": "stdout",
       "text": [
        "\n",
        "Returning primary attribute: tenure of households\n",
        "Returning primary attribute: persons of households\n",
        "Returning from cache: _node_id of households\n",
        "Returning from cache: _node_id0 of households\n",
        "Returning primary attribute: year_built of buildings"
       ]
      },
      {
       "output_type": "stream",
       "stream": "stdout",
       "text": [
        "\n",
        "Returning from cache: unit_lot_size of buildings\n",
        "Returning from cache: unit_sqft of buildings\n",
        "Returning primary attribute: building_type_id of buildings\n",
        "Returning primary attribute: stories of buildings"
       ]
      },
      {
       "output_type": "stream",
       "stream": "stdout",
       "text": [
        "\n",
        "Returning primary attribute: residential_units of buildings\n",
        "Returning primary attribute: building_type_id of buildings\n",
        "Returning primary attribute: non_residential_sqft of buildings"
       ]
      },
      {
       "output_type": "stream",
       "stream": "stdout",
       "text": [
        "\n",
        "Returning primary attribute: building_type_id of buildings\n",
        "Returning primary attribute: residential_sales_price of buildings\n",
        "Returning primary attribute: residential_rent of buildings\n",
        "Returning primary attribute: non_residential_rent of buildings\n",
        "Returning from cache: _node_id of buildings\n",
        "Returning from cache: _node_id0 of buildings\n",
        "Returning from cache: zone_id of buildings\n",
        "Returning from cache: lot_size of buildings\n",
        "There are 2919217 total available units"
       ]
      },
      {
       "output_type": "stream",
       "stream": "stdout",
       "text": [
        "\n",
        "    and 2608023 total choosers\n",
        "    but there are 168464 overfull buildings"
       ]
      },
      {
       "output_type": "stream",
       "stream": "stdout",
       "text": [
        "\n",
        "    for a total of 658849 empty units"
       ]
      },
      {
       "output_type": "stream",
       "stream": "stdout",
       "text": [
        "\n",
        "    in 408439 buildings total in the region\n",
        "Returning primary attribute: income of households\n",
        "Returning primary attribute: building_id of households"
       ]
      },
      {
       "output_type": "stream",
       "stream": "stdout",
       "text": [
        "\n",
        "Returning primary attribute: tenure of households\n",
        "Returning primary attribute: persons of households\n",
        "Returning from cache: _node_id of households\n",
        "Returning from cache: _node_id0 of households\n",
        "Running location choice model simulation\n"
       ]
      },
      {
       "output_type": "stream",
       "stream": "stdout",
       "text": [
        "\n",
        "Returning group 0"
       ]
      },
      {
       "output_type": "stream",
       "stream": "stdout",
       "text": [
        "\n",
        "Returning group 1"
       ]
      },
      {
       "output_type": "stream",
       "stream": "stdout",
       "text": [
        "\n",
        "Returning group 2"
       ]
      },
      {
       "output_type": "stream",
       "stream": "stdout",
       "text": [
        "\n",
        "Returning group 3"
       ]
      },
      {
       "output_type": "stream",
       "stream": "stdout",
       "text": [
        "\n",
        "Assigned 73423 choosers to new units"
       ]
      },
      {
       "output_type": "stream",
       "stream": "stdout",
       "text": [
        "\n",
        "Total currently unplaced: 57072"
       ]
      },
      {
       "output_type": "stream",
       "stream": "stdout",
       "text": [
        "\n",
        "Returning primary attribute: income of households"
       ]
      },
      {
       "output_type": "stream",
       "stream": "stdout",
       "text": [
        "\n",
        "Returning primary attribute: building_id of households"
       ]
      },
      {
       "output_type": "stream",
       "stream": "stdout",
       "text": [
        "\n",
        "Returning primary attribute: tenure of households\n",
        "Returning primary attribute: persons of households\n",
        "Returning from cache: _node_id of households\n",
        "Returning from cache: _node_id0 of households\n",
        "Returning primary attribute: year_built of buildings"
       ]
      },
      {
       "output_type": "stream",
       "stream": "stdout",
       "text": [
        "\n",
        "Returning from cache: unit_lot_size of buildings\n",
        "Returning from cache: unit_sqft of buildings\n",
        "Returning primary attribute: building_type_id of buildings\n",
        "Returning primary attribute: stories of buildings"
       ]
      },
      {
       "output_type": "stream",
       "stream": "stdout",
       "text": [
        "\n",
        "Returning primary attribute: residential_units of buildings\n",
        "Returning primary attribute: building_type_id of buildings\n",
        "Returning primary attribute: non_residential_sqft of buildings"
       ]
      },
      {
       "output_type": "stream",
       "stream": "stdout",
       "text": [
        "\n",
        "Returning primary attribute: building_type_id of buildings\n",
        "Returning primary attribute: residential_sales_price of buildings\n",
        "Returning primary attribute: residential_rent of buildings\n",
        "Returning primary attribute: non_residential_rent of buildings\n",
        "Returning from cache: _node_id of buildings\n",
        "Returning from cache: _node_id0 of buildings\n",
        "Returning from cache: zone_id of buildings\n",
        "Returning from cache: lot_size of buildings\n",
        "There are 2919217 total available units"
       ]
      },
      {
       "output_type": "stream",
       "stream": "stdout",
       "text": [
        "\n",
        "    and 2608023 total choosers\n",
        "    but there are 168464 overfull buildings"
       ]
      },
      {
       "output_type": "stream",
       "stream": "stdout",
       "text": [
        "\n",
        "    for a total of 585426 empty units"
       ]
      },
      {
       "output_type": "stream",
       "stream": "stdout",
       "text": [
        "\n",
        "    in 376360 buildings total in the region\n",
        "Returning primary attribute: income of households\n",
        "Returning primary attribute: building_id of households"
       ]
      },
      {
       "output_type": "stream",
       "stream": "stdout",
       "text": [
        "\n",
        "Returning primary attribute: tenure of households\n",
        "Returning primary attribute: persons of households\n",
        "Returning from cache: _node_id of households\n",
        "Returning from cache: _node_id0 of households\n",
        "Running location choice model simulation\n"
       ]
      },
      {
       "output_type": "stream",
       "stream": "stdout",
       "text": [
        "\n",
        "Returning group 0"
       ]
      },
      {
       "output_type": "stream",
       "stream": "stdout",
       "text": [
        "\n",
        "Returning group 1"
       ]
      },
      {
       "output_type": "stream",
       "stream": "stdout",
       "text": [
        "\n",
        "Returning group 2"
       ]
      },
      {
       "output_type": "stream",
       "stream": "stdout",
       "text": [
        "\n",
        "Returning group 3"
       ]
      },
      {
       "output_type": "stream",
       "stream": "stdout",
       "text": [
        "\n",
        "Assigned 57072 choosers to new units"
       ]
      },
      {
       "output_type": "stream",
       "stream": "stdout",
       "text": [
        "\n",
        "Total currently unplaced: 0"
       ]
      },
      {
       "output_type": "stream",
       "stream": "stdout",
       "text": [
        "\n",
        "Returning primary attribute: building_id of jobs"
       ]
      },
      {
       "output_type": "stream",
       "stream": "stdout",
       "text": [
        "\n",
        "Returning from cache: _node_id0 of jobs\n",
        "Returning from cache: _node_id of jobs\n",
        "Returning from cache: naics of jobs\n",
        "Returning primary attribute: year_built of buildings"
       ]
      },
      {
       "output_type": "stream",
       "stream": "stdout",
       "text": [
        "\n",
        "Returning from cache: unit_lot_size of buildings\n",
        "Returning from cache: unit_sqft of buildings\n",
        "Returning primary attribute: building_type_id of buildings\n",
        "Returning primary attribute: stories of buildings"
       ]
      },
      {
       "output_type": "stream",
       "stream": "stdout",
       "text": [
        "\n",
        "Returning primary attribute: residential_units of buildings\n",
        "Returning primary attribute: building_type_id of buildings\n",
        "Returning primary attribute: non_residential_sqft of buildings"
       ]
      },
      {
       "output_type": "stream",
       "stream": "stdout",
       "text": [
        "\n",
        "Returning primary attribute: building_type_id of buildings\n",
        "Returning primary attribute: residential_sales_price of buildings\n",
        "Returning primary attribute: residential_rent of buildings\n",
        "Returning primary attribute: non_residential_rent of buildings\n",
        "Returning from cache: _node_id of buildings\n",
        "Returning from cache: _node_id0 of buildings\n",
        "Returning from cache: zone_id of buildings\n",
        "Returning from cache: lot_size of buildings\n",
        "There are 3667764 total available units"
       ]
      },
      {
       "output_type": "stream",
       "stream": "stdout",
       "text": [
        "\n",
        "    and 4085844 total choosers\n",
        "    but there are 282584 overfull buildings"
       ]
      },
      {
       "output_type": "stream",
       "stream": "stdout",
       "text": [
        "\n",
        "    for a total of 2767741 empty units"
       ]
      },
      {
       "output_type": "stream",
       "stream": "stdout",
       "text": [
        "\n",
        "    in 57922 buildings total in the region\n",
        "Returning primary attribute: building_id of jobs\n",
        "Returning from cache: _node_id0 of jobs\n",
        "Returning from cache: _node_id of jobs\n",
        "Returning from cache: naics of jobs\n",
        "Running location choice model simulation\n",
        "\n",
        "Returning group 11"
       ]
      },
      {
       "output_type": "stream",
       "stream": "stdout",
       "text": [
        "\n",
        "Returning group 21"
       ]
      },
      {
       "output_type": "stream",
       "stream": "stdout",
       "text": [
        "\n",
        "Returning group 22"
       ]
      },
      {
       "output_type": "stream",
       "stream": "stdout",
       "text": [
        "\n",
        "Returning group 23"
       ]
      },
      {
       "output_type": "stream",
       "stream": "stdout",
       "text": [
        "\n",
        "Returning group 31"
       ]
      },
      {
       "output_type": "stream",
       "stream": "stdout",
       "text": [
        "\n",
        "Returning group 32"
       ]
      },
      {
       "output_type": "stream",
       "stream": "stdout",
       "text": [
        "\n",
        "Returning group 33"
       ]
      },
      {
       "output_type": "stream",
       "stream": "stdout",
       "text": [
        "\n",
        "Returning group 42"
       ]
      },
      {
       "output_type": "stream",
       "stream": "stdout",
       "text": [
        "\n",
        "Returning group 44"
       ]
      },
      {
       "output_type": "stream",
       "stream": "stdout",
       "text": [
        "\n",
        "Returning group 45"
       ]
      },
      {
       "output_type": "stream",
       "stream": "stdout",
       "text": [
        "\n",
        "Returning group 48"
       ]
      },
      {
       "output_type": "stream",
       "stream": "stdout",
       "text": [
        "\n",
        "Returning group 49"
       ]
      },
      {
       "output_type": "stream",
       "stream": "stdout",
       "text": [
        "\n",
        "Returning group 51"
       ]
      },
      {
       "output_type": "stream",
       "stream": "stdout",
       "text": [
        "\n",
        "Returning group 52"
       ]
      },
      {
       "output_type": "stream",
       "stream": "stdout",
       "text": [
        "\n",
        "Returning group 53"
       ]
      },
      {
       "output_type": "stream",
       "stream": "stdout",
       "text": [
        "\n",
        "Returning group 54"
       ]
      },
      {
       "output_type": "stream",
       "stream": "stdout",
       "text": [
        "\n",
        "Returning group 55"
       ]
      },
      {
       "output_type": "stream",
       "stream": "stdout",
       "text": [
        "\n",
        "Returning group 56"
       ]
      },
      {
       "output_type": "stream",
       "stream": "stdout",
       "text": [
        "\n",
        "Returning group 61"
       ]
      },
      {
       "output_type": "stream",
       "stream": "stdout",
       "text": [
        "\n",
        "Returning group 62"
       ]
      },
      {
       "output_type": "stream",
       "stream": "stdout",
       "text": [
        "\n",
        "Returning group 71"
       ]
      },
      {
       "output_type": "stream",
       "stream": "stdout",
       "text": [
        "\n",
        "Returning group 72"
       ]
      },
      {
       "output_type": "stream",
       "stream": "stdout",
       "text": [
        "\n",
        "Returning group 81"
       ]
      },
      {
       "output_type": "stream",
       "stream": "stdout",
       "text": [
        "\n",
        "Returning group 92"
       ]
      },
      {
       "output_type": "stream",
       "stream": "stdout",
       "text": [
        "\n",
        "Returning group 99"
       ]
      },
      {
       "output_type": "stream",
       "stream": "stdout",
       "text": [
        "\n",
        "Assigned 326867 choosers to new units"
       ]
      },
      {
       "output_type": "stream",
       "stream": "stdout",
       "text": [
        "\n",
        "Total currently unplaced: 0"
       ]
      },
      {
       "output_type": "stream",
       "stream": "stdout",
       "text": [
        "\n"
       ]
      }
     ],
     "prompt_number": 12
    },
    {
     "cell_type": "code",
     "collapsed": false,
     "input": [
      "from urbansim.utils.misc import naicsname\n",
      "elcm_pdfs.columns =  [naicsname(x) for x in elcm_pdfs.columns]"
     ],
     "language": "python",
     "metadata": {},
     "outputs": [],
     "prompt_number": 13
    },
    {
     "cell_type": "code",
     "collapsed": false,
     "input": [
      "import pandas as pd\n",
      "df = pd.concat([dset.merge_nodes(dset.view(\"buildings\").build_df()), hlcmo_pdfs, hlcmr_pdfs, elcm_pdfs], \n",
      "               keys=[\"\", \"hlcmo\", \"hlcmr\", \"elcm\"], axis=1, verify_integrity=True)\n",
      "df.columns = [' '.join([str(x) for x in col]).strip() for col in df.columns.values]\n",
      "d = {\"buildings\": df}\n",
      "for col in df.columns:\n",
      "    print col\n",
      "    print df[col].describe()"
     ],
     "language": "python",
     "metadata": {},
     "outputs": [
      {
       "output_type": "stream",
       "stream": "stdout",
       "text": [
        "Returning primary attribute: year_built of buildings\n",
        "Returning from cache: unit_lot_size of buildings\n",
        "Returning from cache: unit_sqft of buildings\n",
        "Returning primary attribute: building_type_id of buildings\n",
        "Returning primary attribute: stories of buildings"
       ]
      },
      {
       "output_type": "stream",
       "stream": "stdout",
       "text": [
        "\n",
        "Returning primary attribute: residential_units of buildings\n",
        "Returning primary attribute: building_type_id of buildings\n",
        "Returning primary attribute: non_residential_sqft of buildings"
       ]
      },
      {
       "output_type": "stream",
       "stream": "stdout",
       "text": [
        "\n",
        "Returning primary attribute: building_type_id of buildings\n",
        "Returning primary attribute: residential_sales_price of buildings\n",
        "Returning primary attribute: residential_rent of buildings\n",
        "Returning primary attribute: non_residential_rent of buildings\n",
        "Returning from cache: _node_id of buildings\n",
        "Returning from cache: _node_id0 of buildings\n",
        "Returning from cache: zone_id of buildings\n",
        "Returning from cache: lot_size of buildings\n",
        "year_built"
       ]
      },
      {
       "output_type": "stream",
       "stream": "stdout",
       "text": [
        "\n",
        "count    1684869.000000\n",
        "mean        1983.287740\n",
        "std           31.511782\n",
        "min          199.000000\n",
        "25%         1949.000000\n",
        "50%         1964.000000\n",
        "75%         1980.000000\n",
        "max         9770.000000\n",
        "Name: year_built, dtype: float64"
       ]
      },
      {
       "output_type": "stream",
       "stream": "stdout",
       "text": [
        "\n",
        "unit_lot_size\n",
        "count    1.918563e+06\n",
        "mean     4.858886e+04\n",
        "std      9.657334e+05\n",
        "min      0.000000e+00\n",
        "25%      3.820496e+03\n",
        "50%      6.167089e+03\n",
        "75%      9.095386e+03\n",
        "max      5.532851e+08\n",
        "Name: unit_lot_size, dtype: float64"
       ]
      },
      {
       "output_type": "stream",
       "stream": "stdout",
       "text": [
        "\n",
        "unit_sqft\n",
        "count    1918640.000000\n",
        "mean        3050.774298\n",
        "std        21236.568355\n",
        "min            0.004184\n",
        "25%         1285.000000\n",
        "50%         1799.000000\n",
        "75%         2527.000000\n",
        "max      9317505.000000\n",
        "Name: unit_sqft, dtype: float64"
       ]
      },
      {
       "output_type": "stream",
       "stream": "stdout",
       "text": [
        "\n",
        "general_type\n",
        "count         1918567\n",
        "unique              6\n",
        "top       Residential\n",
        "freq          1796149\n",
        "Name: general_type, dtype: object"
       ]
      },
      {
       "output_type": "stream",
       "stream": "stdout",
       "text": [
        "\n",
        "stories\n",
        "count    1918640.000000\n",
        "mean           1.256720\n",
        "std            0.609058\n",
        "min            1.000000\n",
        "25%            1.000000\n",
        "50%            1.000000\n",
        "75%            1.000000\n",
        "max           60.000000\n",
        "Name: stories, dtype: float64"
       ]
      },
      {
       "output_type": "stream",
       "stream": "stdout",
       "text": [
        "\n",
        "residential_units\n",
        "count    1918640.000000\n",
        "mean           1.521503\n",
        "std            6.456195\n",
        "min            1.000000\n",
        "25%            1.000000\n",
        "50%            1.000000\n",
        "75%            1.000000\n",
        "max          300.000000\n",
        "Name: residential_units, dtype: float64"
       ]
      },
      {
       "output_type": "stream",
       "stream": "stdout",
       "text": [
        "\n",
        "non_residential_units\n",
        "count    1918640.000000\n",
        "mean           1.911648\n",
        "std           32.783666\n",
        "min            0.000000\n",
        "25%            0.000000\n",
        "50%            0.000000\n",
        "75%            0.000000\n",
        "max        17021.000000\n",
        "Name: non_residential_units, dtype: float64"
       ]
      },
      {
       "output_type": "stream",
       "stream": "stdout",
       "text": [
        "\n",
        "building_type_id\n",
        "count    1918640.000000\n",
        "mean           1.660751\n",
        "std            1.829774\n",
        "min            0.000000\n",
        "25%            1.000000\n",
        "50%            1.000000\n",
        "75%            1.000000\n",
        "max           16.000000\n",
        "Name: building_type_id, dtype: float64"
       ]
      },
      {
       "output_type": "stream",
       "stream": "stdout",
       "text": [
        "\n",
        "residential_sales_price\n",
        "count    1796149.000000\n",
        "mean         269.736289\n",
        "std           62.394359\n",
        "min            2.597981\n",
        "25%          229.893885\n",
        "50%          265.333649\n",
        "75%          303.797200\n",
        "max         3000.906603\n",
        "Name: residential_sales_price, dtype: float64"
       ]
      },
      {
       "output_type": "stream",
       "stream": "stdout",
       "text": [
        "\n",
        "residential_rent\n",
        "count    1796149.000000\n",
        "mean           2.384075\n",
        "std            0.320381\n",
        "min            0.332067\n",
        "25%            2.179386\n",
        "50%            2.356490\n",
        "75%            2.556978\n",
        "max           12.342420\n",
        "Name: residential_rent, dtype: float64"
       ]
      },
      {
       "output_type": "stream",
       "stream": "stdout",
       "text": [
        "\n",
        "non_residential_rent\n",
        "count    116797.000000\n",
        "mean         17.241906\n",
        "std           5.401205\n",
        "min           6.199881\n",
        "25%          10.771861\n",
        "50%          19.030444\n",
        "75%          20.916375\n",
        "max          44.884411\n",
        "Name: non_residential_rent, dtype: float64"
       ]
      },
      {
       "output_type": "stream",
       "stream": "stdout",
       "text": [
        "\n",
        "_node_id\n",
        "count    1918640.000000\n",
        "mean      125328.413380\n",
        "std        87709.752515\n",
        "min            8.000000\n",
        "25%        57655.000000\n",
        "50%       119817.500000\n",
        "75%       168068.000000\n",
        "max       354693.000000\n",
        "Name: _node_id, dtype: float64"
       ]
      },
      {
       "output_type": "stream",
       "stream": "stdout",
       "text": [
        "\n",
        "_node_id0\n",
        "count    1918640.000000\n",
        "mean      104486.812059\n",
        "std        61154.268949\n",
        "min            0.000000\n",
        "25%        51513.000000\n",
        "50%       110428.500000\n",
        "75%       155104.000000\n",
        "max       226056.000000\n",
        "Name: _node_id0, dtype: float64"
       ]
      },
      {
       "output_type": "stream",
       "stream": "stdout",
       "text": [
        "\n",
        "zone_id\n",
        "count    1918563.000000\n",
        "mean         825.749822\n",
        "std          412.047057\n",
        "min            0.000000\n",
        "25%          489.000000\n",
        "50%          843.000000\n",
        "75%         1184.000000\n",
        "max         1454.000000\n",
        "Name: zone_id, dtype: float64"
       ]
      },
      {
       "output_type": "stream",
       "stream": "stdout",
       "text": [
        "\n",
        "lot_size\n",
        "count    1.918563e+06\n",
        "mean     5.187975e+04\n",
        "std      9.907645e+05\n",
        "min      0.000000e+00\n",
        "25%      4.444754e+03\n",
        "50%      6.342274e+03\n",
        "75%      9.442655e+03\n",
        "max      5.532851e+08\n",
        "Name: lot_size, dtype: float64"
       ]
      },
      {
       "output_type": "stream",
       "stream": "stdout",
       "text": [
        "\n",
        "sum_residential_units\n",
        "count    1918640.000000\n",
        "mean           4.784000\n",
        "std            0.937824\n",
        "min            0.693147\n",
        "25%            4.262885\n",
        "50%            4.798860\n",
        "75%            5.335542\n",
        "max            8.645390\n",
        "Name: sum_residential_units, dtype: float64"
       ]
      },
      {
       "output_type": "stream",
       "stream": "stdout",
       "text": [
        "\n",
        "sum_nonresidential_units\n",
        "count    1918640.000000\n",
        "mean           2.751250\n",
        "std            2.209042\n",
        "min            0.000000\n",
        "25%            0.000000\n",
        "50%            2.977962\n",
        "75%            4.549001\n",
        "max           10.447861\n",
        "Name: sum_nonresidential_units, dtype: float64"
       ]
      },
      {
       "output_type": "stream",
       "stream": "stdout",
       "text": [
        "\n",
        "ave_unit_sqft\n",
        "count    1918640.000000\n",
        "mean           7.531030\n",
        "std            0.560089\n",
        "min            0.000000\n",
        "25%            7.270057\n",
        "50%            7.489616\n",
        "75%            7.781586\n",
        "max           13.724186\n",
        "Name: ave_unit_sqft, dtype: float64"
       ]
      },
      {
       "output_type": "stream",
       "stream": "stdout",
       "text": [
        "\n",
        "ave_lot_sqft\n",
        "count    1918640.000000\n",
        "mean           9.193151\n",
        "std            1.046679\n",
        "min            0.000000\n",
        "25%            8.675732\n",
        "50%            8.995725\n",
        "75%            9.435395\n",
        "max           19.087842\n",
        "Name: ave_lot_sqft, dtype: float64"
       ]
      },
      {
       "output_type": "stream",
       "stream": "stdout",
       "text": [
        "\n",
        "population\n",
        "count    1918640.000000\n",
        "mean           5.685105\n",
        "std            1.037967\n",
        "min            0.000000\n",
        "25%            5.195832\n",
        "50%            5.766738\n",
        "75%            6.295396\n",
        "max            8.898661\n",
        "Name: population, dtype: float64"
       ]
      },
      {
       "output_type": "stream",
       "stream": "stdout",
       "text": [
        "\n",
        "poor\n",
        "count    1918640.000000\n",
        "mean           4.099143\n",
        "std            1.245561\n",
        "min            0.000000\n",
        "25%            3.346730\n",
        "50%            4.111603\n",
        "75%            4.935425\n",
        "max            8.588968\n",
        "Name: poor, dtype: float64"
       ]
      },
      {
       "output_type": "stream",
       "stream": "stdout",
       "text": [
        "\n",
        "renters\n",
        "count    1918640.000000\n",
        "mean           4.215815\n",
        "std            0.887975\n",
        "min            0.000000\n",
        "25%            3.826532\n",
        "50%            4.323960\n",
        "75%            4.754855\n",
        "max            7.155415\n",
        "Name: renters, dtype: float64"
       ]
      },
      {
       "output_type": "stream",
       "stream": "stdout",
       "text": [
        "\n",
        "sfdu\n",
        "count    1918640.000000\n",
        "mean           3.897848\n",
        "std            1.333234\n",
        "min            0.000000\n",
        "25%            3.619525\n",
        "50%            4.307761\n",
        "75%            4.745640\n",
        "max            6.521821\n",
        "Name: sfdu, dtype: float64"
       ]
      },
      {
       "output_type": "stream",
       "stream": "stdout",
       "text": [
        "\n",
        "hhsize\n",
        "count    1918640.000000\n",
        "mean           1.316822\n",
        "std            0.143171\n",
        "min            0.000000\n",
        "25%            1.247936\n",
        "50%            1.321347\n",
        "75%            1.392630\n",
        "max            2.995732\n",
        "Name: hhsize, dtype: float64"
       ]
      },
      {
       "output_type": "stream",
       "stream": "stdout",
       "text": [
        "\n",
        "jobs\n",
        "count    1918640.000000\n",
        "mean           4.106971\n",
        "std            1.313144\n",
        "min            0.000000\n",
        "25%            3.255907\n",
        "50%            4.019049\n",
        "75%            4.923619\n",
        "max           10.796110\n",
        "Name: jobs, dtype: float64"
       ]
      },
      {
       "output_type": "stream",
       "stream": "stdout",
       "text": [
        "\n",
        "ave_income\n",
        "count    1918640.000000\n",
        "mean          11.286627\n",
        "std            0.708206\n",
        "min            0.000000\n",
        "25%           11.102096\n",
        "50%           11.340778\n",
        "75%           11.537911\n",
        "max           13.384729\n",
        "Name: ave_income, dtype: float64"
       ]
      },
      {
       "output_type": "stream",
       "stream": "stdout",
       "text": [
        "\n",
        "hlcmo 0\n",
        "count    2.860180e+05\n",
        "mean     1.547841e-06\n",
        "std      8.061580e-07\n",
        "min      3.434052e-08\n",
        "25%      1.004570e-06\n",
        "50%      1.400497e-06\n",
        "75%      1.921540e-06\n",
        "max      3.488001e-05\n",
        "Name: hlcmo 0, dtype: float64"
       ]
      },
      {
       "output_type": "stream",
       "stream": "stdout",
       "text": [
        "\n",
        "hlcmo 1\n",
        "count    281774.000000\n",
        "mean          0.000002\n",
        "std           0.000001\n",
        "min           0.000000\n",
        "25%           0.000001\n",
        "50%           0.000002\n",
        "75%           0.000002\n",
        "max           0.000060\n",
        "Name: hlcmo 1, dtype: float64"
       ]
      },
      {
       "output_type": "stream",
       "stream": "stdout",
       "text": [
        "\n",
        "hlcmo 2\n",
        "count    275261.000000\n",
        "mean          0.000002\n",
        "std           0.000001\n",
        "min           0.000000\n",
        "25%           0.000002\n",
        "50%           0.000002\n",
        "75%           0.000002\n",
        "max           0.000026\n",
        "Name: hlcmo 2, dtype: float64"
       ]
      },
      {
       "output_type": "stream",
       "stream": "stdout",
       "text": [
        "\n",
        "hlcmo 3\n",
        "count    2.660810e+05\n",
        "mean     1.953365e-06\n",
        "std      1.052010e-06\n",
        "min      3.738082e-14\n",
        "25%      1.178514e-06\n",
        "50%      1.741575e-06\n",
        "75%      2.511067e-06\n",
        "max      1.953275e-05\n",
        "Name: hlcmo 3, dtype: float64"
       ]
      },
      {
       "output_type": "stream",
       "stream": "stdout",
       "text": [
        "\n",
        "hlcmr 0\n",
        "count    2.539390e+05\n",
        "mean     2.373002e-07\n",
        "std      3.832363e-06\n",
        "min      1.057741e-12\n",
        "25%      2.019363e-08\n",
        "50%      4.574463e-08\n",
        "75%      1.170066e-07\n",
        "max      9.696178e-04\n",
        "Name: hlcmr 0, dtype: float64"
       ]
      },
      {
       "output_type": "stream",
       "stream": "stdout",
       "text": [
        "\n",
        "hlcmr 1\n",
        "count    2.526290e+05\n",
        "mean     3.910611e-07\n",
        "std      2.749537e-06\n",
        "min      8.756861e-13\n",
        "25%      6.738117e-08\n",
        "50%      1.230273e-07\n",
        "75%      2.705914e-07\n",
        "max      3.828545e-04\n",
        "Name: hlcmr 1, dtype: float64"
       ]
      },
      {
       "output_type": "stream",
       "stream": "stdout",
       "text": [
        "\n",
        "hlcmr 2\n",
        "count    2.514050e+05\n",
        "mean     4.214431e-07\n",
        "std      2.596843e-06\n",
        "min      8.341885e-17\n",
        "25%      9.607532e-08\n",
        "50%      1.567360e-07\n",
        "75%      3.115654e-07\n",
        "max      2.875253e-04\n",
        "Name: hlcmr 2, dtype: float64"
       ]
      },
      {
       "output_type": "stream",
       "stream": "stdout",
       "text": [
        "\n",
        "hlcmr 3\n",
        "count    2.504680e+05\n",
        "mean     7.048319e-07\n",
        "std      3.170091e-06\n",
        "min      3.888887e-22\n",
        "25%      1.534374e-07\n",
        "50%      2.735855e-07\n",
        "75%      5.969705e-07\n",
        "max      2.689399e-04\n",
        "Name: hlcmr 3, dtype: float64"
       ]
      },
      {
       "output_type": "stream",
       "stream": "stdout",
       "text": [
        "\n",
        "elcm Agriculture\n",
        "count    5.503900e+04\n",
        "mean     1.533740e-07\n",
        "std      4.757336e-07\n",
        "min      3.122942e-10\n",
        "25%      3.584978e-08\n",
        "50%      6.709485e-08\n",
        "75%      1.310867e-07\n",
        "max      3.579714e-05\n",
        "Name: elcm Agriculture, dtype: float64"
       ]
      },
      {
       "output_type": "stream",
       "stream": "stdout",
       "text": [
        "\n",
        "elcm Mining\n",
        "count    5.503800e+04\n",
        "mean     1.249492e-07\n",
        "std      3.664674e-07\n",
        "min      7.291908e-10\n",
        "25%      2.756591e-08\n",
        "50%      5.531879e-08\n",
        "75%      1.213101e-07\n",
        "max      3.042172e-05\n",
        "Name: elcm Mining, dtype: float64"
       ]
      },
      {
       "output_type": "stream",
       "stream": "stdout",
       "text": [
        "\n",
        "elcm Utilities\n",
        "count    5.503800e+04\n",
        "mean     1.268881e-07\n",
        "std      1.150353e-06\n",
        "min      3.469961e-13\n",
        "25%      3.272304e-09\n",
        "50%      1.560813e-08\n",
        "75%      6.344446e-08\n",
        "max      9.946353e-05\n",
        "Name: elcm Utilities, dtype: float64"
       ]
      },
      {
       "output_type": "stream",
       "stream": "stdout",
       "text": [
        "\n",
        "elcm Construction\n",
        "count    5.503800e+04\n",
        "mean     2.454320e-07\n",
        "std      2.803935e-07\n",
        "min      3.215231e-09\n",
        "25%      8.233412e-08\n",
        "50%      1.462789e-07\n",
        "75%      2.987622e-07\n",
        "max      4.924632e-06\n",
        "Name: elcm Construction, dtype: float64"
       ]
      },
      {
       "output_type": "stream",
       "stream": "stdout",
       "text": [
        "\n",
        "elcm Manufacturing1\n",
        "count    5.502900e+04\n",
        "mean     1.973492e-07\n",
        "std      4.991141e-07\n",
        "min      3.527135e-11\n",
        "25%      3.289175e-08\n",
        "50%      8.735864e-08\n",
        "75%      2.133827e-07\n",
        "max      2.908673e-05\n",
        "Name: elcm Manufacturing1, dtype: float64"
       ]
      },
      {
       "output_type": "stream",
       "stream": "stdout",
       "text": [
        "\n",
        "elcm Manufacturing2\n",
        "count    5.502800e+04\n",
        "mean     1.664016e-07\n",
        "std      5.251253e-07\n",
        "min      5.948536e-11\n",
        "25%      1.349267e-08\n",
        "50%      3.798004e-08\n",
        "75%      1.310424e-07\n",
        "max      2.776126e-05\n",
        "Name: elcm Manufacturing2, dtype: float64"
       ]
      },
      {
       "output_type": "stream",
       "stream": "stdout",
       "text": [
        "\n",
        "elcm Manufacturing3\n",
        "count    5.502400e+04\n",
        "mean     1.412926e-07\n",
        "std      8.953196e-07\n",
        "min      2.325172e-12\n",
        "25%      4.650654e-09\n",
        "50%      1.640417e-08\n",
        "75%      7.196341e-08\n",
        "max      5.322926e-05\n",
        "Name: elcm Manufacturing3, dtype: float64"
       ]
      },
      {
       "output_type": "stream",
       "stream": "stdout",
       "text": [
        "\n",
        "elcm Wholesale\n",
        "count    5.502000e+04\n",
        "mean     1.743875e-07\n",
        "std      4.844602e-07\n",
        "min      9.051388e-11\n",
        "25%      2.049121e-08\n",
        "50%      5.615803e-08\n",
        "75%      1.702959e-07\n",
        "max      2.632326e-05\n",
        "Name: elcm Wholesale, dtype: float64"
       ]
      },
      {
       "output_type": "stream",
       "stream": "stdout",
       "text": [
        "\n",
        "elcm Retail1\n",
        "count    5.501300e+04\n",
        "mean     2.357462e-07\n",
        "std      3.317962e-07\n",
        "min      4.243170e-10\n",
        "25%      7.560553e-08\n",
        "50%      1.516512e-07\n",
        "75%      2.840727e-07\n",
        "max      1.747369e-05\n",
        "Name: elcm Retail1, dtype: float64"
       ]
      },
      {
       "output_type": "stream",
       "stream": "stdout",
       "text": [
        "\n",
        "elcm Retail2\n",
        "count    5.500000e+04\n",
        "mean     2.419931e-07\n",
        "std      4.518094e-07\n",
        "min      5.060837e-10\n",
        "25%      5.906207e-08\n",
        "50%      1.280583e-07\n",
        "75%      2.683029e-07\n",
        "max      2.732580e-05\n",
        "Name: elcm Retail2, dtype: float64"
       ]
      },
      {
       "output_type": "stream",
       "stream": "stdout",
       "text": [
        "\n",
        "elcm Transportation\n",
        "count    5.499700e+04\n",
        "mean     2.319912e-07\n",
        "std      4.593047e-07\n",
        "min      8.067054e-10\n",
        "25%      4.258869e-08\n",
        "50%      9.147657e-08\n",
        "75%      2.358632e-07\n",
        "max      1.757109e-05\n",
        "Name: elcm Transportation, dtype: float64"
       ]
      },
      {
       "output_type": "stream",
       "stream": "stdout",
       "text": [
        "\n",
        "elcm Warehousing\n",
        "count    5.499600e+04\n",
        "mean     2.080311e-07\n",
        "std      6.920199e-07\n",
        "min      2.992592e-11\n",
        "25%      2.566415e-08\n",
        "50%      7.138487e-08\n",
        "75%      1.977415e-07\n",
        "max      4.381752e-05\n",
        "Name: elcm Warehousing, dtype: float64"
       ]
      },
      {
       "output_type": "stream",
       "stream": "stdout",
       "text": [
        "\n",
        "elcm Information\n",
        "count    5.499600e+04\n",
        "mean     1.247907e-07\n",
        "std      6.258355e-07\n",
        "min      3.511862e-12\n",
        "25%      8.131178e-09\n",
        "50%      3.166453e-08\n",
        "75%      9.554850e-08\n",
        "max      4.047202e-05\n",
        "Name: elcm Information, dtype: float64"
       ]
      },
      {
       "output_type": "stream",
       "stream": "stdout",
       "text": [
        "\n",
        "elcm Finance and Insurance\n",
        "count    5.499600e+04\n",
        "mean     6.532960e-08\n",
        "std      4.644738e-07\n",
        "min      8.221869e-12\n",
        "25%      6.379416e-09\n",
        "50%      1.658493e-08\n",
        "75%      4.203417e-08\n",
        "max      3.073462e-05\n",
        "Name: elcm Finance and Insurance, dtype: float64"
       ]
      },
      {
       "output_type": "stream",
       "stream": "stdout",
       "text": [
        "\n",
        "elcm Real Estate\n",
        "count    5.499400e+04\n",
        "mean     1.826417e-07\n",
        "std      2.924265e-07\n",
        "min      1.804925e-09\n",
        "25%      6.745086e-08\n",
        "50%      1.236828e-07\n",
        "75%      2.117650e-07\n",
        "max      1.069157e-05\n",
        "Name: elcm Real Estate, dtype: float64"
       ]
      },
      {
       "output_type": "stream",
       "stream": "stdout",
       "text": [
        "\n",
        "elcm Professional\n",
        "count    5.498400e+04\n",
        "mean     1.013515e-07\n",
        "std      4.854101e-07\n",
        "min      5.646768e-11\n",
        "25%      1.289683e-08\n",
        "50%      3.582199e-08\n",
        "75%      8.442949e-08\n",
        "max      2.546652e-05\n",
        "Name: elcm Professional, dtype: float64"
       ]
      },
      {
       "output_type": "stream",
       "stream": "stdout",
       "text": [
        "\n",
        "elcm Management\n",
        "count    5.497900e+04\n",
        "mean     1.502273e-07\n",
        "std      9.946791e-07\n",
        "min      4.374299e-13\n",
        "25%      8.620847e-09\n",
        "50%      3.135402e-08\n",
        "75%      9.415039e-08\n",
        "max      1.296258e-04\n",
        "Name: elcm Management, dtype: float64"
       ]
      },
      {
       "output_type": "stream",
       "stream": "stdout",
       "text": [
        "\n",
        "elcm Administrative\n",
        "count    5.497800e+04\n",
        "mean     2.138614e-07\n",
        "std      3.286651e-07\n",
        "min      9.926024e-10\n",
        "25%      7.275713e-08\n",
        "50%      1.431642e-07\n",
        "75%      2.540828e-07\n",
        "max      1.471866e-05\n",
        "Name: elcm Administrative, dtype: float64"
       ]
      },
      {
       "output_type": "stream",
       "stream": "stdout",
       "text": [
        "\n",
        "elcm Educational\n",
        "count    5.496300e+04\n",
        "mean     2.619144e-07\n",
        "std      4.098946e-07\n",
        "min      2.160221e-11\n",
        "25%      7.190623e-08\n",
        "50%      1.650152e-07\n",
        "75%      3.209701e-07\n",
        "max      2.245562e-05\n",
        "Name: elcm Educational, dtype: float64"
       ]
      },
      {
       "output_type": "stream",
       "stream": "stdout",
       "text": [
        "\n",
        "elcm Health Care\n",
        "count    5.494800e+04\n",
        "mean     2.434742e-07\n",
        "std      5.517399e-07\n",
        "min      1.320111e-11\n",
        "25%      4.648046e-08\n",
        "50%      1.167412e-07\n",
        "75%      2.700855e-07\n",
        "max      3.454857e-05\n",
        "Name: elcm Health Care, dtype: float64"
       ]
      },
      {
       "output_type": "stream",
       "stream": "stdout",
       "text": [
        "\n",
        "elcm Arts\n",
        "count    5.492400e+04\n",
        "mean     2.602469e-07\n",
        "std      3.389154e-07\n",
        "min      2.278241e-09\n",
        "25%      8.633928e-08\n",
        "50%      1.730184e-07\n",
        "75%      3.142094e-07\n",
        "max      1.014464e-05\n",
        "Name: elcm Arts, dtype: float64"
       ]
      },
      {
       "output_type": "stream",
       "stream": "stdout",
       "text": [
        "\n",
        "elcm Accomodation and Food\n",
        "count    5.492100e+04\n",
        "mean     2.763123e-07\n",
        "std      4.452903e-07\n",
        "min      6.243363e-10\n",
        "25%      6.820174e-08\n",
        "50%      1.463445e-07\n",
        "75%      3.248991e-07\n",
        "max      1.458339e-05\n",
        "Name: elcm Accomodation and Food, dtype: float64"
       ]
      },
      {
       "output_type": "stream",
       "stream": "stdout",
       "text": [
        "\n",
        "elcm Other\n",
        "count    5.491000e+04\n",
        "mean     3.518072e-07\n",
        "std      3.156552e-07\n",
        "min      2.896936e-09\n",
        "25%      1.625460e-07\n",
        "50%      2.854609e-07\n",
        "75%      4.515455e-07\n",
        "max      5.413655e-06\n",
        "Name: elcm Other, dtype: float64"
       ]
      },
      {
       "output_type": "stream",
       "stream": "stdout",
       "text": [
        "\n",
        "elcm Public\n",
        "count    5.489100e+04\n",
        "mean     2.138665e-07\n",
        "std      8.684532e-07\n",
        "min      5.197924e-12\n",
        "25%      2.029872e-08\n",
        "50%      6.396106e-08\n",
        "75%      1.708237e-07\n",
        "max      6.815351e-05\n",
        "Name: elcm Public, dtype: float64"
       ]
      },
      {
       "output_type": "stream",
       "stream": "stdout",
       "text": [
        "\n",
        "elcm Unknown\n",
        "count    5.488300e+04\n",
        "mean     1.982514e-07\n",
        "std      7.178149e-07\n",
        "min      1.084041e-09\n",
        "25%      4.057397e-08\n",
        "50%      8.922399e-08\n",
        "75%      1.846083e-07\n",
        "max      3.415754e-05\n",
        "Name: elcm Unknown, dtype: float64"
       ]
      },
      {
       "output_type": "stream",
       "stream": "stdout",
       "text": [
        "\n"
       ]
      }
     ],
     "prompt_number": 14
    },
    {
     "cell_type": "heading",
     "level": 2,
     "metadata": {},
     "source": [
      "Do Some More in Depth Debugging"
     ]
    },
    {
     "cell_type": "code",
     "collapsed": false,
     "input": [
      "s = df[df.zone_id == 1132][\"elcm Warehousing\"].dropna()\n",
      "print s.quantile()\n",
      "print s.mean()\n",
      "s.sort()\n",
      "print s\n",
      "#print df.loc[1852076]\n",
      "#print df.loc[130882]"
     ],
     "language": "python",
     "metadata": {},
     "outputs": [
      {
       "output_type": "stream",
       "stream": "stdout",
       "text": [
        "1.49073791647e-08\n",
        "2.06194311011e-08\n",
        "1929899    8.083900e-09\n",
        "1928468    1.090578e-08\n",
        "1929877    1.170850e-08\n",
        "1929769    1.242632e-08\n",
        "1930162    1.251444e-08\n",
        "1930055    1.335964e-08\n",
        "1930039    1.354653e-08\n",
        "1930150    1.414697e-08\n",
        "1929802    1.490738e-08\n",
        "1929526    1.578781e-08\n",
        "1929454    1.656547e-08\n",
        "1929242    1.862666e-08\n",
        "1929529    2.370713e-08\n",
        "1928476    3.718493e-08\n",
        "1930233    3.917931e-08\n",
        "1930101    3.961815e-08\n",
        "1929821    4.826143e-08\n",
        "Name: elcm Warehousing, dtype: float64\n"
       ]
      }
     ],
     "prompt_number": 15
    },
    {
     "cell_type": "code",
     "collapsed": false,
     "input": [
      "s = df[df.zone_id == 1154][\"elcm Warehousing\"].dropna()\n",
      "print s.quantile()\n",
      "print s.mean()\n",
      "s.sort()\n",
      "print s\n",
      "print df.loc[[1930101, 1928569, 1929828 ]].transpose()\n",
      "#print df.loc[]"
     ],
     "language": "python",
     "metadata": {},
     "outputs": [
      {
       "output_type": "stream",
       "stream": "stdout",
       "text": [
        "3.22698048475e-07\n",
        "3.65434739139e-07\n",
        "1930687    6.834728e-09\n",
        "1929828    8.683187e-09\n",
        "1928657    1.061544e-08\n",
        "1930336    1.106180e-08\n",
        "1931594    1.356487e-08\n",
        "1929897    1.427659e-08\n",
        "1930463    1.467031e-08\n",
        "1929011    1.845055e-08\n",
        "1928714    2.063714e-08\n",
        "1931177    2.777380e-08\n",
        "1928738    8.040003e-08\n",
        "1928706    8.267696e-08\n",
        "1928441    2.503208e-07\n",
        "1927407    3.126804e-07\n",
        "1928629    3.126804e-07\n",
        "1928713    3.226980e-07\n",
        "1928715    3.226980e-07\n",
        "1928552    3.260647e-07\n",
        "1928853    3.613588e-07\n",
        "1928635    3.646272e-07\n",
        "1928744    3.815834e-07\n",
        "1928697    4.782180e-07\n",
        "1928632    5.994714e-07\n",
        "1928863    6.067939e-07\n",
        "1928550    6.555590e-07\n",
        "1928535    6.965386e-07\n",
        "1928237    7.163122e-07\n",
        "1927608    8.336348e-07\n",
        "1928598    8.846077e-07\n",
        "1928508    9.788685e-07\n",
        "1928569    9.894457e-07\n",
        "1928432    9.901047e-07\n",
        "Name: elcm Warehousing, dtype: float64\n",
        "                                 1930101       1928569       1929828\n",
        "year_built                          1984          1974          1977\n",
        "unit_lot_size                   193964.9      48945.84      37745.93\n",
        "unit_sqft                           7475         20000        203120\n",
        "general_type                      Office        Office        Retail\n",
        "stories                                1             3             1\n",
        "residential_units                      1             1             1\n",
        "non_residential_units                 21            56           227\n",
        "building_type_id                       4             4            11\n",
        "residential_sales_price              NaN           NaN           NaN\n",
        "residential_rent                     NaN           NaN           NaN\n",
        "non_residential_rent            19.65805      24.02531      14.28601\n",
        "_node_id                           69593        331039         89793\n",
        "_node_id0                          62147        210938         82122\n",
        "zone_id                             1132          1154          1154\n",
        "lot_size                        193964.9      48945.84      37745.93\n",
        "sum_residential_units           3.144431      3.147517      3.163963\n",
        "sum_nonresidential_units        4.091955      5.996874      5.429346\n",
        "ave_unit_sqft                   7.515296      9.617922      8.623957\n",
        "ave_lot_sqft                    11.24153      10.82782      10.63038\n",
        "population                      4.036529      3.295453      3.884459\n",
        "poor                            2.703171      1.288116      1.120823\n",
        "renters                         2.867391      2.341449      2.896842\n",
        "sfdu                             3.06262      2.542709      3.109611\n",
        "hhsize                          1.371027      1.226446      1.270463\n",
        "jobs                            3.328894      6.740317      2.224823\n",
        "ave_income                      11.64599      11.75385      12.00239\n",
        "hlcmo 0                              NaN           NaN           NaN\n",
        "hlcmo 1                              NaN           NaN           NaN\n",
        "hlcmo 2                              NaN           NaN           NaN\n",
        "hlcmo 3                              NaN           NaN           NaN\n",
        "hlcmr 0                              NaN           NaN           NaN\n",
        "hlcmr 1                              NaN           NaN           NaN\n",
        "hlcmr 2                              NaN           NaN           NaN\n",
        "hlcmr 3                              NaN           NaN           NaN\n",
        "elcm Agriculture            1.642788e-07  5.118121e-07  3.634093e-08\n",
        "elcm Mining                 1.120668e-07  1.444103e-06   8.79616e-08\n",
        "elcm Utilities               3.90474e-09  1.027967e-06  6.880964e-10\n",
        "elcm Construction           7.586547e-08  6.866076e-07  4.963261e-08\n",
        "elcm Manufacturing1         3.401309e-08  4.825885e-07  5.549984e-09\n",
        "elcm Manufacturing2         1.806111e-08  5.074459e-07  5.488693e-09\n",
        "elcm Manufacturing3         4.930212e-09  3.450486e-07  1.145049e-09\n",
        "elcm Wholesale              2.011088e-08  6.109713e-07    5.7139e-09\n",
        "elcm Retail1                1.290673e-07  1.064551e-06  2.594667e-08\n",
        "elcm Retail2                1.594794e-07  7.161337e-07  1.728897e-08\n",
        "elcm Transportation          4.98994e-08  6.950196e-07  2.104441e-08\n",
        "elcm Warehousing            3.961815e-08  9.894457e-07  8.683187e-09\n",
        "elcm Information            8.859079e-09   5.35283e-07  1.304381e-09\n",
        "elcm Finance and Insurance  8.324859e-09  4.411714e-07  1.567391e-09\n",
        "elcm Real Estate            7.219429e-08  7.873071e-07  3.425084e-08\n",
        "elcm Professional           1.273325e-08  4.588168e-07  3.711204e-09\n",
        "elcm Management             4.638421e-09  6.374052e-07   1.38349e-09\n",
        "elcm Administrative         6.290805e-08  7.972076e-07  2.728767e-08\n",
        "elcm Educational            1.115276e-07  6.628225e-07  1.199445e-08\n",
        "elcm Health Care            7.241565e-08  9.825005e-07  7.034047e-09\n",
        "elcm Arts                   1.343874e-07  9.619435e-07  4.830741e-08\n",
        "elcm Accomodation and Food  1.389796e-07  9.404883e-07  2.152406e-08\n",
        "elcm Other                  1.067938e-07  8.369963e-07   3.84168e-08\n",
        "elcm Public                 1.795306e-08  3.285946e-07  5.598153e-10\n",
        "elcm Unknown                2.546613e-08  3.520969e-07  1.144687e-08\n",
        "\n",
        "[59 rows x 3 columns]"
       ]
      },
      {
       "output_type": "stream",
       "stream": "stdout",
       "text": [
        "\n"
       ]
      }
     ],
     "prompt_number": 16
    },
    {
     "cell_type": "code",
     "collapsed": false,
     "input": [
      "df[df.zone_id == 1154].dropna(subset=[\"elcm Warehousing\"]).sort(\"general_type\")"
     ],
     "language": "python",
     "metadata": {},
     "outputs": [
      {
       "html": [
        "<div style=\"max-height:1000px;max-width:1500px;overflow:auto;\">\n",
        "<table border=\"1\" class=\"dataframe\">\n",
        "  <thead>\n",
        "    <tr style=\"text-align: right;\">\n",
        "      <th></th>\n",
        "      <th>year_built</th>\n",
        "      <th>unit_lot_size</th>\n",
        "      <th>unit_sqft</th>\n",
        "      <th>general_type</th>\n",
        "      <th>stories</th>\n",
        "      <th>residential_units</th>\n",
        "      <th>non_residential_units</th>\n",
        "      <th>building_type_id</th>\n",
        "      <th>residential_sales_price</th>\n",
        "      <th>residential_rent</th>\n",
        "      <th>non_residential_rent</th>\n",
        "      <th>_node_id</th>\n",
        "      <th>_node_id0</th>\n",
        "      <th>zone_id</th>\n",
        "      <th>lot_size</th>\n",
        "      <th>sum_residential_units</th>\n",
        "      <th>sum_nonresidential_units</th>\n",
        "      <th>ave_unit_sqft</th>\n",
        "      <th>ave_lot_sqft</th>\n",
        "      <th>population</th>\n",
        "      <th></th>\n",
        "    </tr>\n",
        "  </thead>\n",
        "  <tbody>\n",
        "    <tr>\n",
        "      <th>1931177</th>\n",
        "      <td>  NaN</td>\n",
        "      <td>  37142.133311</td>\n",
        "      <td>   3631.043457</td>\n",
        "      <td> Industrial</td>\n",
        "      <td> 1</td>\n",
        "      <td> 1</td>\n",
        "      <td>  87</td>\n",
        "      <td>  7</td>\n",
        "      <td>NaN</td>\n",
        "      <td>NaN</td>\n",
        "      <td>  9.399424</td>\n",
        "      <td>  83317</td>\n",
        "      <td>  75705</td>\n",
        "      <td> 1154</td>\n",
        "      <td>  37142.133311</td>\n",
        "      <td> 3.715970</td>\n",
        "      <td> 4.477337</td>\n",
        "      <td> 8.007624</td>\n",
        "      <td> 10.350852</td>\n",
        "      <td> 4.634509</td>\n",
        "      <td>...</td>\n",
        "    </tr>\n",
        "    <tr>\n",
        "      <th>1928598</th>\n",
        "      <td>  NaN</td>\n",
        "      <td>  42537.025934</td>\n",
        "      <td>   8144.000000</td>\n",
        "      <td> Industrial</td>\n",
        "      <td> 1</td>\n",
        "      <td> 1</td>\n",
        "      <td>  12</td>\n",
        "      <td>  7</td>\n",
        "      <td>NaN</td>\n",
        "      <td>NaN</td>\n",
        "      <td> 11.065895</td>\n",
        "      <td>  70795</td>\n",
        "      <td>  63338</td>\n",
        "      <td> 1154</td>\n",
        "      <td>  42537.025934</td>\n",
        "      <td> 3.405609</td>\n",
        "      <td> 6.417340</td>\n",
        "      <td> 9.456644</td>\n",
        "      <td> 11.293430</td>\n",
        "      <td> 3.612195</td>\n",
        "      <td>...</td>\n",
        "    </tr>\n",
        "    <tr>\n",
        "      <th>1931594</th>\n",
        "      <td> 1977</td>\n",
        "      <td>  73845.192129</td>\n",
        "      <td>  16000.000000</td>\n",
        "      <td> Industrial</td>\n",
        "      <td> 1</td>\n",
        "      <td> 1</td>\n",
        "      <td>  57</td>\n",
        "      <td>  9</td>\n",
        "      <td>NaN</td>\n",
        "      <td>NaN</td>\n",
        "      <td>  8.260048</td>\n",
        "      <td>  79484</td>\n",
        "      <td>  71915</td>\n",
        "      <td> 1154</td>\n",
        "      <td>  73845.192129</td>\n",
        "      <td> 3.300783</td>\n",
        "      <td> 4.060443</td>\n",
        "      <td> 7.923008</td>\n",
        "      <td> 10.479667</td>\n",
        "      <td> 4.074635</td>\n",
        "      <td>...</td>\n",
        "    </tr>\n",
        "    <tr>\n",
        "      <th>1930463</th>\n",
        "      <td> 1976</td>\n",
        "      <td>  35544.591202</td>\n",
        "      <td>  17641.000000</td>\n",
        "      <td> Industrial</td>\n",
        "      <td> 1</td>\n",
        "      <td> 1</td>\n",
        "      <td>  94</td>\n",
        "      <td>  9</td>\n",
        "      <td>NaN</td>\n",
        "      <td>NaN</td>\n",
        "      <td>  8.151780</td>\n",
        "      <td>  96542</td>\n",
        "      <td>  88765</td>\n",
        "      <td> 1154</td>\n",
        "      <td>  35544.591202</td>\n",
        "      <td> 3.283431</td>\n",
        "      <td> 4.553877</td>\n",
        "      <td> 7.741789</td>\n",
        "      <td> 10.685903</td>\n",
        "      <td> 4.259339</td>\n",
        "      <td>...</td>\n",
        "    </tr>\n",
        "    <tr>\n",
        "      <th>1930336</th>\n",
        "      <td> 1980</td>\n",
        "      <td>  29103.937611</td>\n",
        "      <td>   4700.000000</td>\n",
        "      <td> Industrial</td>\n",
        "      <td> 1</td>\n",
        "      <td> 1</td>\n",
        "      <td>   7</td>\n",
        "      <td>  7</td>\n",
        "      <td>NaN</td>\n",
        "      <td>NaN</td>\n",
        "      <td>  7.941944</td>\n",
        "      <td>  70669</td>\n",
        "      <td>  63212</td>\n",
        "      <td> 1154</td>\n",
        "      <td>  29103.937611</td>\n",
        "      <td> 2.826460</td>\n",
        "      <td> 2.079442</td>\n",
        "      <td> 7.489170</td>\n",
        "      <td> 10.891700</td>\n",
        "      <td> 3.391372</td>\n",
        "      <td>...</td>\n",
        "    </tr>\n",
        "    <tr>\n",
        "      <th>1928657</th>\n",
        "      <td> 1947</td>\n",
        "      <td>  35563.935393</td>\n",
        "      <td>  81822.000000</td>\n",
        "      <td> Industrial</td>\n",
        "      <td> 1</td>\n",
        "      <td> 1</td>\n",
        "      <td>  82</td>\n",
        "      <td>  7</td>\n",
        "      <td>NaN</td>\n",
        "      <td>NaN</td>\n",
        "      <td>  8.074422</td>\n",
        "      <td>  87121</td>\n",
        "      <td>  79471</td>\n",
        "      <td> 1154</td>\n",
        "      <td>  35563.935393</td>\n",
        "      <td> 3.036972</td>\n",
        "      <td> 4.418841</td>\n",
        "      <td> 8.121696</td>\n",
        "      <td> 10.358766</td>\n",
        "      <td> 3.889434</td>\n",
        "      <td>...</td>\n",
        "    </tr>\n",
        "    <tr>\n",
        "      <th>1928552</th>\n",
        "      <td>  NaN</td>\n",
        "      <td>  40839.378100</td>\n",
        "      <td>   6930.000000</td>\n",
        "      <td>     Office</td>\n",
        "      <td> 1</td>\n",
        "      <td> 1</td>\n",
        "      <td>  19</td>\n",
        "      <td>  4</td>\n",
        "      <td>NaN</td>\n",
        "      <td>NaN</td>\n",
        "      <td> 20.022246</td>\n",
        "      <td>  70796</td>\n",
        "      <td>  63339</td>\n",
        "      <td> 1154</td>\n",
        "      <td>  40839.378100</td>\n",
        "      <td> 3.526800</td>\n",
        "      <td> 6.108786</td>\n",
        "      <td> 8.273003</td>\n",
        "      <td> 10.166140</td>\n",
        "      <td> 4.103194</td>\n",
        "      <td>...</td>\n",
        "    </tr>\n",
        "    <tr>\n",
        "      <th>1928569</th>\n",
        "      <td> 1974</td>\n",
        "      <td>  48945.842156</td>\n",
        "      <td>  20000.000000</td>\n",
        "      <td>     Office</td>\n",
        "      <td> 3</td>\n",
        "      <td> 1</td>\n",
        "      <td>  56</td>\n",
        "      <td>  4</td>\n",
        "      <td>NaN</td>\n",
        "      <td>NaN</td>\n",
        "      <td> 24.025315</td>\n",
        "      <td> 331039</td>\n",
        "      <td> 210938</td>\n",
        "      <td> 1154</td>\n",
        "      <td>  48945.842156</td>\n",
        "      <td> 3.147517</td>\n",
        "      <td> 5.996874</td>\n",
        "      <td> 9.617922</td>\n",
        "      <td> 10.827818</td>\n",
        "      <td> 3.295453</td>\n",
        "      <td>...</td>\n",
        "    </tr>\n",
        "    <tr>\n",
        "      <th>1928629</th>\n",
        "      <td> 1979</td>\n",
        "      <td>  38181.048521</td>\n",
        "      <td>  15134.000000</td>\n",
        "      <td>     Office</td>\n",
        "      <td> 2</td>\n",
        "      <td> 1</td>\n",
        "      <td>  42</td>\n",
        "      <td>  4</td>\n",
        "      <td>NaN</td>\n",
        "      <td>NaN</td>\n",
        "      <td> 22.482309</td>\n",
        "      <td>  70796</td>\n",
        "      <td>  63339</td>\n",
        "      <td> 1154</td>\n",
        "      <td>  38181.048521</td>\n",
        "      <td> 3.526800</td>\n",
        "      <td> 6.108786</td>\n",
        "      <td> 8.273003</td>\n",
        "      <td> 10.166140</td>\n",
        "      <td> 4.103194</td>\n",
        "      <td>...</td>\n",
        "    </tr>\n",
        "    <tr>\n",
        "      <th>1928706</th>\n",
        "      <td> 1960</td>\n",
        "      <td> 198248.892258</td>\n",
        "      <td>  11932.000000</td>\n",
        "      <td>     Office</td>\n",
        "      <td> 1</td>\n",
        "      <td> 1</td>\n",
        "      <td>  33</td>\n",
        "      <td>  4</td>\n",
        "      <td>NaN</td>\n",
        "      <td>NaN</td>\n",
        "      <td> 19.940842</td>\n",
        "      <td>  90456</td>\n",
        "      <td>  82761</td>\n",
        "      <td> 1154</td>\n",
        "      <td> 198248.892258</td>\n",
        "      <td> 2.058802</td>\n",
        "      <td> 5.234928</td>\n",
        "      <td> 9.993363</td>\n",
        "      <td> 11.727376</td>\n",
        "      <td> 1.452309</td>\n",
        "      <td>...</td>\n",
        "    </tr>\n",
        "    <tr>\n",
        "      <th>1928237</th>\n",
        "      <td> 1955</td>\n",
        "      <td>  38634.442603</td>\n",
        "      <td>   3815.000000</td>\n",
        "      <td>     Office</td>\n",
        "      <td> 1</td>\n",
        "      <td> 1</td>\n",
        "      <td>  10</td>\n",
        "      <td>  4</td>\n",
        "      <td>NaN</td>\n",
        "      <td>NaN</td>\n",
        "      <td> 21.192606</td>\n",
        "      <td>  70795</td>\n",
        "      <td>  63338</td>\n",
        "      <td> 1154</td>\n",
        "      <td>  38634.442603</td>\n",
        "      <td> 3.405609</td>\n",
        "      <td> 6.417340</td>\n",
        "      <td> 9.456644</td>\n",
        "      <td> 11.293430</td>\n",
        "      <td> 3.612195</td>\n",
        "      <td>...</td>\n",
        "    </tr>\n",
        "    <tr>\n",
        "      <th>1928441</th>\n",
        "      <td> 1900</td>\n",
        "      <td>  17948.757138</td>\n",
        "      <td>   5122.000000</td>\n",
        "      <td>     Office</td>\n",
        "      <td> 2</td>\n",
        "      <td> 1</td>\n",
        "      <td>  14</td>\n",
        "      <td>  4</td>\n",
        "      <td>NaN</td>\n",
        "      <td>NaN</td>\n",
        "      <td> 21.293371</td>\n",
        "      <td> 331029</td>\n",
        "      <td> 210928</td>\n",
        "      <td> 1154</td>\n",
        "      <td>  17948.757138</td>\n",
        "      <td> 3.605672</td>\n",
        "      <td> 5.227055</td>\n",
        "      <td> 8.455481</td>\n",
        "      <td> 10.267232</td>\n",
        "      <td> 4.267496</td>\n",
        "      <td>...</td>\n",
        "    </tr>\n",
        "    <tr>\n",
        "      <th>1928508</th>\n",
        "      <td> 1962</td>\n",
        "      <td>  18742.430008</td>\n",
        "      <td>  10093.000000</td>\n",
        "      <td>     Office</td>\n",
        "      <td> 2</td>\n",
        "      <td> 1</td>\n",
        "      <td>  28</td>\n",
        "      <td>  4</td>\n",
        "      <td>NaN</td>\n",
        "      <td>NaN</td>\n",
        "      <td> 22.920390</td>\n",
        "      <td>  88594</td>\n",
        "      <td>  80931</td>\n",
        "      <td> 1154</td>\n",
        "      <td>  18742.430008</td>\n",
        "      <td> 3.347703</td>\n",
        "      <td> 6.221205</td>\n",
        "      <td> 9.500537</td>\n",
        "      <td> 11.091388</td>\n",
        "      <td> 3.557345</td>\n",
        "      <td>...</td>\n",
        "    </tr>\n",
        "    <tr>\n",
        "      <th>1928535</th>\n",
        "      <td> 1982</td>\n",
        "      <td> 236049.831773</td>\n",
        "      <td>  96241.000000</td>\n",
        "      <td>     Office</td>\n",
        "      <td> 2</td>\n",
        "      <td> 1</td>\n",
        "      <td> 271</td>\n",
        "      <td>  4</td>\n",
        "      <td>NaN</td>\n",
        "      <td>NaN</td>\n",
        "      <td> 22.812847</td>\n",
        "      <td>  70795</td>\n",
        "      <td>  63338</td>\n",
        "      <td> 1154</td>\n",
        "      <td> 236049.831773</td>\n",
        "      <td> 3.405609</td>\n",
        "      <td> 6.417340</td>\n",
        "      <td> 9.456644</td>\n",
        "      <td> 11.293430</td>\n",
        "      <td> 3.612195</td>\n",
        "      <td>...</td>\n",
        "    </tr>\n",
        "    <tr>\n",
        "      <th>1928550</th>\n",
        "      <td> 2006</td>\n",
        "      <td>  50136.299561</td>\n",
        "      <td>  12320.000000</td>\n",
        "      <td>     Office</td>\n",
        "      <td> 2</td>\n",
        "      <td> 1</td>\n",
        "      <td>  34</td>\n",
        "      <td>  4</td>\n",
        "      <td>NaN</td>\n",
        "      <td>NaN</td>\n",
        "      <td> 27.369588</td>\n",
        "      <td>  70795</td>\n",
        "      <td>  63338</td>\n",
        "      <td> 1154</td>\n",
        "      <td>  50136.299561</td>\n",
        "      <td> 3.405609</td>\n",
        "      <td> 6.417340</td>\n",
        "      <td> 9.456644</td>\n",
        "      <td> 11.293430</td>\n",
        "      <td> 3.612195</td>\n",
        "      <td>...</td>\n",
        "    </tr>\n",
        "    <tr>\n",
        "      <th>1928713</th>\n",
        "      <td> 1966</td>\n",
        "      <td>  25248.181359</td>\n",
        "      <td>  17456.000000</td>\n",
        "      <td>     Office</td>\n",
        "      <td> 2</td>\n",
        "      <td> 1</td>\n",
        "      <td>  49</td>\n",
        "      <td>  4</td>\n",
        "      <td>NaN</td>\n",
        "      <td>NaN</td>\n",
        "      <td> 22.229677</td>\n",
        "      <td>  94730</td>\n",
        "      <td>  86978</td>\n",
        "      <td> 1154</td>\n",
        "      <td>  25248.181359</td>\n",
        "      <td> 3.330155</td>\n",
        "      <td> 5.420864</td>\n",
        "      <td> 8.818991</td>\n",
        "      <td> 10.421718</td>\n",
        "      <td> 3.905905</td>\n",
        "      <td>...</td>\n",
        "    </tr>\n",
        "    <tr>\n",
        "      <th>1928714</th>\n",
        "      <td> 1971</td>\n",
        "      <td>  25455.467197</td>\n",
        "      <td>  13000.000000</td>\n",
        "      <td>     Office</td>\n",
        "      <td> 1</td>\n",
        "      <td> 1</td>\n",
        "      <td>  36</td>\n",
        "      <td>  4</td>\n",
        "      <td>NaN</td>\n",
        "      <td>NaN</td>\n",
        "      <td> 19.992157</td>\n",
        "      <td>  87991</td>\n",
        "      <td>  80336</td>\n",
        "      <td> 1154</td>\n",
        "      <td>  25455.467197</td>\n",
        "      <td> 4.243804</td>\n",
        "      <td> 4.916701</td>\n",
        "      <td> 8.091135</td>\n",
        "      <td>  9.943220</td>\n",
        "      <td> 5.141841</td>\n",
        "      <td>...</td>\n",
        "    </tr>\n",
        "    <tr>\n",
        "      <th>1928715</th>\n",
        "      <td> 1949</td>\n",
        "      <td>  15646.805046</td>\n",
        "      <td>  12807.000000</td>\n",
        "      <td>     Office</td>\n",
        "      <td> 2</td>\n",
        "      <td> 1</td>\n",
        "      <td>  36</td>\n",
        "      <td>  4</td>\n",
        "      <td>NaN</td>\n",
        "      <td>NaN</td>\n",
        "      <td> 22.229677</td>\n",
        "      <td>  94730</td>\n",
        "      <td>  86978</td>\n",
        "      <td> 1154</td>\n",
        "      <td>  15646.805046</td>\n",
        "      <td> 3.330155</td>\n",
        "      <td> 5.420864</td>\n",
        "      <td> 8.818991</td>\n",
        "      <td> 10.421718</td>\n",
        "      <td> 3.905905</td>\n",
        "      <td>...</td>\n",
        "    </tr>\n",
        "    <tr>\n",
        "      <th>1928738</th>\n",
        "      <td> 1960</td>\n",
        "      <td> 404105.619937</td>\n",
        "      <td>  23717.000000</td>\n",
        "      <td>     Office</td>\n",
        "      <td> 2</td>\n",
        "      <td> 1</td>\n",
        "      <td>  66</td>\n",
        "      <td>  4</td>\n",
        "      <td>NaN</td>\n",
        "      <td>NaN</td>\n",
        "      <td> 21.465382</td>\n",
        "      <td>  90456</td>\n",
        "      <td>  82761</td>\n",
        "      <td> 1154</td>\n",
        "      <td> 404105.619937</td>\n",
        "      <td> 2.058802</td>\n",
        "      <td> 5.234928</td>\n",
        "      <td> 9.993363</td>\n",
        "      <td> 11.727376</td>\n",
        "      <td> 1.452309</td>\n",
        "      <td>...</td>\n",
        "    </tr>\n",
        "    <tr>\n",
        "      <th>1928863</th>\n",
        "      <td> 1977</td>\n",
        "      <td> 211423.250391</td>\n",
        "      <td>  23362.000000</td>\n",
        "      <td>     Office</td>\n",
        "      <td> 1</td>\n",
        "      <td> 1</td>\n",
        "      <td>  65</td>\n",
        "      <td>  4</td>\n",
        "      <td>NaN</td>\n",
        "      <td>NaN</td>\n",
        "      <td> 20.659754</td>\n",
        "      <td>  74542</td>\n",
        "      <td>  67025</td>\n",
        "      <td> 1154</td>\n",
        "      <td> 211423.250391</td>\n",
        "      <td> 2.549410</td>\n",
        "      <td> 4.969339</td>\n",
        "      <td> 8.700661</td>\n",
        "      <td> 10.341741</td>\n",
        "      <td> 2.921235</td>\n",
        "      <td>...</td>\n",
        "    </tr>\n",
        "    <tr>\n",
        "      <th>1929011</th>\n",
        "      <td>  NaN</td>\n",
        "      <td>  17633.228190</td>\n",
        "      <td>   7200.000000</td>\n",
        "      <td>     Office</td>\n",
        "      <td> 1</td>\n",
        "      <td> 1</td>\n",
        "      <td>  20</td>\n",
        "      <td>  4</td>\n",
        "      <td>NaN</td>\n",
        "      <td>NaN</td>\n",
        "      <td> 18.542249</td>\n",
        "      <td>  72396</td>\n",
        "      <td>  64916</td>\n",
        "      <td> 1154</td>\n",
        "      <td>  17633.228190</td>\n",
        "      <td> 2.766147</td>\n",
        "      <td> 3.044522</td>\n",
        "      <td> 7.644774</td>\n",
        "      <td> 10.020013</td>\n",
        "      <td> 3.679125</td>\n",
        "      <td>...</td>\n",
        "    </tr>\n",
        "    <tr>\n",
        "      <th>1929897</th>\n",
        "      <td> 1960</td>\n",
        "      <td> 233036.016891</td>\n",
        "      <td>  21570.000000</td>\n",
        "      <td>     Office</td>\n",
        "      <td> 1</td>\n",
        "      <td> 1</td>\n",
        "      <td>  60</td>\n",
        "      <td>  4</td>\n",
        "      <td>NaN</td>\n",
        "      <td>NaN</td>\n",
        "      <td> 19.799136</td>\n",
        "      <td>  88137</td>\n",
        "      <td>  80477</td>\n",
        "      <td> 1154</td>\n",
        "      <td> 233036.016891</td>\n",
        "      <td> 4.163353</td>\n",
        "      <td> 4.110874</td>\n",
        "      <td> 7.572176</td>\n",
        "      <td>  9.990063</td>\n",
        "      <td> 5.065823</td>\n",
        "      <td>...</td>\n",
        "    </tr>\n",
        "    <tr>\n",
        "      <th>1930687</th>\n",
        "      <td> 1976</td>\n",
        "      <td>   8392.768455</td>\n",
        "      <td>   3342.000000</td>\n",
        "      <td>     Office</td>\n",
        "      <td> 1</td>\n",
        "      <td> 1</td>\n",
        "      <td>   9</td>\n",
        "      <td>  4</td>\n",
        "      <td>NaN</td>\n",
        "      <td>NaN</td>\n",
        "      <td> 19.460595</td>\n",
        "      <td>  68258</td>\n",
        "      <td>  60820</td>\n",
        "      <td> 1154</td>\n",
        "      <td>   8392.768455</td>\n",
        "      <td> 3.747936</td>\n",
        "      <td> 2.302585</td>\n",
        "      <td> 7.534196</td>\n",
        "      <td> 10.564164</td>\n",
        "      <td> 4.703377</td>\n",
        "      <td>...</td>\n",
        "    </tr>\n",
        "    <tr>\n",
        "      <th>1927407</th>\n",
        "      <td> 1972</td>\n",
        "      <td>  36686.710468</td>\n",
        "      <td>  26686.000000</td>\n",
        "      <td>     Office</td>\n",
        "      <td> 2</td>\n",
        "      <td> 1</td>\n",
        "      <td>  75</td>\n",
        "      <td>  4</td>\n",
        "      <td>NaN</td>\n",
        "      <td>NaN</td>\n",
        "      <td> 22.482309</td>\n",
        "      <td>  70796</td>\n",
        "      <td>  63339</td>\n",
        "      <td> 1154</td>\n",
        "      <td>  36686.710468</td>\n",
        "      <td> 3.526800</td>\n",
        "      <td> 6.108786</td>\n",
        "      <td> 8.273003</td>\n",
        "      <td> 10.166140</td>\n",
        "      <td> 4.103194</td>\n",
        "      <td>...</td>\n",
        "    </tr>\n",
        "    <tr>\n",
        "      <th>1928853</th>\n",
        "      <td> 1955</td>\n",
        "      <td>  46052.181475</td>\n",
        "      <td>  21983.000000</td>\n",
        "      <td>     Retail</td>\n",
        "      <td> 2</td>\n",
        "      <td> 1</td>\n",
        "      <td>  49</td>\n",
        "      <td> 10</td>\n",
        "      <td>NaN</td>\n",
        "      <td>NaN</td>\n",
        "      <td> 21.772391</td>\n",
        "      <td>  88596</td>\n",
        "      <td>  80933</td>\n",
        "      <td> 1154</td>\n",
        "      <td>  46052.181475</td>\n",
        "      <td> 3.641809</td>\n",
        "      <td> 5.730875</td>\n",
        "      <td> 8.660207</td>\n",
        "      <td> 10.314174</td>\n",
        "      <td> 4.227571</td>\n",
        "      <td>...</td>\n",
        "    </tr>\n",
        "    <tr>\n",
        "      <th>1928632</th>\n",
        "      <td> 1974</td>\n",
        "      <td>  90483.634617</td>\n",
        "      <td>  57604.000000</td>\n",
        "      <td>     Retail</td>\n",
        "      <td> 2</td>\n",
        "      <td> 1</td>\n",
        "      <td> 150</td>\n",
        "      <td> 13</td>\n",
        "      <td>NaN</td>\n",
        "      <td>NaN</td>\n",
        "      <td> 22.216203</td>\n",
        "      <td> 331040</td>\n",
        "      <td> 210939</td>\n",
        "      <td> 1154</td>\n",
        "      <td>  90483.634617</td>\n",
        "      <td> 3.036182</td>\n",
        "      <td> 5.900776</td>\n",
        "      <td> 9.116876</td>\n",
        "      <td> 10.383128</td>\n",
        "      <td> 3.189805</td>\n",
        "      <td>...</td>\n",
        "    </tr>\n",
        "    <tr>\n",
        "      <th>1927608</th>\n",
        "      <td> 1975</td>\n",
        "      <td>  19886.232463</td>\n",
        "      <td>   7610.000000</td>\n",
        "      <td>     Retail</td>\n",
        "      <td> 1</td>\n",
        "      <td> 1</td>\n",
        "      <td>  17</td>\n",
        "      <td> 10</td>\n",
        "      <td>NaN</td>\n",
        "      <td>NaN</td>\n",
        "      <td> 22.600829</td>\n",
        "      <td>  67339</td>\n",
        "      <td>  60090</td>\n",
        "      <td> 1154</td>\n",
        "      <td>  19886.232463</td>\n",
        "      <td> 3.236362</td>\n",
        "      <td> 5.696588</td>\n",
        "      <td> 8.727655</td>\n",
        "      <td> 10.458009</td>\n",
        "      <td> 3.569245</td>\n",
        "      <td>...</td>\n",
        "    </tr>\n",
        "    <tr>\n",
        "      <th>1929828</th>\n",
        "      <td> 1977</td>\n",
        "      <td>  37745.929063</td>\n",
        "      <td> 203120.000000</td>\n",
        "      <td>     Retail</td>\n",
        "      <td> 1</td>\n",
        "      <td> 1</td>\n",
        "      <td> 227</td>\n",
        "      <td> 11</td>\n",
        "      <td>NaN</td>\n",
        "      <td>NaN</td>\n",
        "      <td> 14.286007</td>\n",
        "      <td>  89793</td>\n",
        "      <td>  82122</td>\n",
        "      <td> 1154</td>\n",
        "      <td>  37745.929063</td>\n",
        "      <td> 3.163963</td>\n",
        "      <td> 5.429346</td>\n",
        "      <td> 8.623957</td>\n",
        "      <td> 10.630377</td>\n",
        "      <td> 3.884459</td>\n",
        "      <td>...</td>\n",
        "    </tr>\n",
        "    <tr>\n",
        "      <th>1928432</th>\n",
        "      <td> 1957</td>\n",
        "      <td>  15227.731727</td>\n",
        "      <td>   3543.000000</td>\n",
        "      <td>     Retail</td>\n",
        "      <td> 1</td>\n",
        "      <td> 1</td>\n",
        "      <td>   7</td>\n",
        "      <td> 10</td>\n",
        "      <td>NaN</td>\n",
        "      <td>NaN</td>\n",
        "      <td> 23.444705</td>\n",
        "      <td> 331041</td>\n",
        "      <td> 210940</td>\n",
        "      <td> 1154</td>\n",
        "      <td>  15227.731727</td>\n",
        "      <td> 3.208195</td>\n",
        "      <td> 6.038377</td>\n",
        "      <td> 9.594604</td>\n",
        "      <td> 11.083074</td>\n",
        "      <td> 3.380612</td>\n",
        "      <td>...</td>\n",
        "    </tr>\n",
        "    <tr>\n",
        "      <th>1928635</th>\n",
        "      <td> 1940</td>\n",
        "      <td>  13887.919881</td>\n",
        "      <td>  14968.000000</td>\n",
        "      <td>     Retail</td>\n",
        "      <td> 1</td>\n",
        "      <td> 1</td>\n",
        "      <td>  33</td>\n",
        "      <td> 10</td>\n",
        "      <td>NaN</td>\n",
        "      <td>NaN</td>\n",
        "      <td> 21.419160</td>\n",
        "      <td>  88596</td>\n",
        "      <td>  80933</td>\n",
        "      <td> 1154</td>\n",
        "      <td>  13887.919881</td>\n",
        "      <td> 3.641809</td>\n",
        "      <td> 5.730875</td>\n",
        "      <td> 8.660207</td>\n",
        "      <td> 10.314174</td>\n",
        "      <td> 4.227571</td>\n",
        "      <td>...</td>\n",
        "    </tr>\n",
        "    <tr>\n",
        "      <th>1928744</th>\n",
        "      <td> 1923</td>\n",
        "      <td>   6650.154773</td>\n",
        "      <td>   5227.000000</td>\n",
        "      <td>     Retail</td>\n",
        "      <td> 1</td>\n",
        "      <td> 1</td>\n",
        "      <td>  11</td>\n",
        "      <td> 10</td>\n",
        "      <td>NaN</td>\n",
        "      <td>NaN</td>\n",
        "      <td> 21.429544</td>\n",
        "      <td>  88595</td>\n",
        "      <td>  80932</td>\n",
        "      <td> 1154</td>\n",
        "      <td>   6650.154773</td>\n",
        "      <td> 3.650565</td>\n",
        "      <td> 5.769462</td>\n",
        "      <td> 8.688842</td>\n",
        "      <td> 10.320351</td>\n",
        "      <td> 4.230774</td>\n",
        "      <td>...</td>\n",
        "    </tr>\n",
        "    <tr>\n",
        "      <th>1928697</th>\n",
        "      <td> 2001</td>\n",
        "      <td>  31711.892405</td>\n",
        "      <td>  29278.000000</td>\n",
        "      <td>     Retail</td>\n",
        "      <td> 1</td>\n",
        "      <td> 1</td>\n",
        "      <td>  65</td>\n",
        "      <td> 10</td>\n",
        "      <td>NaN</td>\n",
        "      <td>NaN</td>\n",
        "      <td> 21.665554</td>\n",
        "      <td>  85692</td>\n",
        "      <td>  78060</td>\n",
        "      <td> 1154</td>\n",
        "      <td>  31711.892405</td>\n",
        "      <td> 3.375370</td>\n",
        "      <td> 5.868995</td>\n",
        "      <td> 8.904436</td>\n",
        "      <td> 10.455360</td>\n",
        "      <td> 3.827485</td>\n",
        "      <td>...</td>\n",
        "    </tr>\n",
        "  </tbody>\n",
        "</table>\n",
        "<p>32 rows \u00d7 59 columns</p>\n",
        "</div>"
       ],
       "metadata": {},
       "output_type": "pyout",
       "prompt_number": 17,
       "text": [
        "         year_built  unit_lot_size      unit_sqft general_type  stories  \\\n",
        "1931177         NaN   37142.133311    3631.043457   Industrial        1   \n",
        "1928598         NaN   42537.025934    8144.000000   Industrial        1   \n",
        "1931594        1977   73845.192129   16000.000000   Industrial        1   \n",
        "1930463        1976   35544.591202   17641.000000   Industrial        1   \n",
        "1930336        1980   29103.937611    4700.000000   Industrial        1   \n",
        "1928657        1947   35563.935393   81822.000000   Industrial        1   \n",
        "1928552         NaN   40839.378100    6930.000000       Office        1   \n",
        "1928569        1974   48945.842156   20000.000000       Office        3   \n",
        "1928629        1979   38181.048521   15134.000000       Office        2   \n",
        "1928706        1960  198248.892258   11932.000000       Office        1   \n",
        "1928237        1955   38634.442603    3815.000000       Office        1   \n",
        "1928441        1900   17948.757138    5122.000000       Office        2   \n",
        "1928508        1962   18742.430008   10093.000000       Office        2   \n",
        "1928535        1982  236049.831773   96241.000000       Office        2   \n",
        "1928550        2006   50136.299561   12320.000000       Office        2   \n",
        "1928713        1966   25248.181359   17456.000000       Office        2   \n",
        "1928714        1971   25455.467197   13000.000000       Office        1   \n",
        "1928715        1949   15646.805046   12807.000000       Office        2   \n",
        "1928738        1960  404105.619937   23717.000000       Office        2   \n",
        "1928863        1977  211423.250391   23362.000000       Office        1   \n",
        "1929011         NaN   17633.228190    7200.000000       Office        1   \n",
        "1929897        1960  233036.016891   21570.000000       Office        1   \n",
        "1930687        1976    8392.768455    3342.000000       Office        1   \n",
        "1927407        1972   36686.710468   26686.000000       Office        2   \n",
        "1928853        1955   46052.181475   21983.000000       Retail        2   \n",
        "1928632        1974   90483.634617   57604.000000       Retail        2   \n",
        "1927608        1975   19886.232463    7610.000000       Retail        1   \n",
        "1929828        1977   37745.929063  203120.000000       Retail        1   \n",
        "1928432        1957   15227.731727    3543.000000       Retail        1   \n",
        "1928635        1940   13887.919881   14968.000000       Retail        1   \n",
        "1928744        1923    6650.154773    5227.000000       Retail        1   \n",
        "1928697        2001   31711.892405   29278.000000       Retail        1   \n",
        "\n",
        "         residential_units  non_residential_units  building_type_id  \\\n",
        "1931177                  1                     87                 7   \n",
        "1928598                  1                     12                 7   \n",
        "1931594                  1                     57                 9   \n",
        "1930463                  1                     94                 9   \n",
        "1930336                  1                      7                 7   \n",
        "1928657                  1                     82                 7   \n",
        "1928552                  1                     19                 4   \n",
        "1928569                  1                     56                 4   \n",
        "1928629                  1                     42                 4   \n",
        "1928706                  1                     33                 4   \n",
        "1928237                  1                     10                 4   \n",
        "1928441                  1                     14                 4   \n",
        "1928508                  1                     28                 4   \n",
        "1928535                  1                    271                 4   \n",
        "1928550                  1                     34                 4   \n",
        "1928713                  1                     49                 4   \n",
        "1928714                  1                     36                 4   \n",
        "1928715                  1                     36                 4   \n",
        "1928738                  1                     66                 4   \n",
        "1928863                  1                     65                 4   \n",
        "1929011                  1                     20                 4   \n",
        "1929897                  1                     60                 4   \n",
        "1930687                  1                      9                 4   \n",
        "1927407                  1                     75                 4   \n",
        "1928853                  1                     49                10   \n",
        "1928632                  1                    150                13   \n",
        "1927608                  1                     17                10   \n",
        "1929828                  1                    227                11   \n",
        "1928432                  1                      7                10   \n",
        "1928635                  1                     33                10   \n",
        "1928744                  1                     11                10   \n",
        "1928697                  1                     65                10   \n",
        "\n",
        "         residential_sales_price  residential_rent  non_residential_rent  \\\n",
        "1931177                      NaN               NaN              9.399424   \n",
        "1928598                      NaN               NaN             11.065895   \n",
        "1931594                      NaN               NaN              8.260048   \n",
        "1930463                      NaN               NaN              8.151780   \n",
        "1930336                      NaN               NaN              7.941944   \n",
        "1928657                      NaN               NaN              8.074422   \n",
        "1928552                      NaN               NaN             20.022246   \n",
        "1928569                      NaN               NaN             24.025315   \n",
        "1928629                      NaN               NaN             22.482309   \n",
        "1928706                      NaN               NaN             19.940842   \n",
        "1928237                      NaN               NaN             21.192606   \n",
        "1928441                      NaN               NaN             21.293371   \n",
        "1928508                      NaN               NaN             22.920390   \n",
        "1928535                      NaN               NaN             22.812847   \n",
        "1928550                      NaN               NaN             27.369588   \n",
        "1928713                      NaN               NaN             22.229677   \n",
        "1928714                      NaN               NaN             19.992157   \n",
        "1928715                      NaN               NaN             22.229677   \n",
        "1928738                      NaN               NaN             21.465382   \n",
        "1928863                      NaN               NaN             20.659754   \n",
        "1929011                      NaN               NaN             18.542249   \n",
        "1929897                      NaN               NaN             19.799136   \n",
        "1930687                      NaN               NaN             19.460595   \n",
        "1927407                      NaN               NaN             22.482309   \n",
        "1928853                      NaN               NaN             21.772391   \n",
        "1928632                      NaN               NaN             22.216203   \n",
        "1927608                      NaN               NaN             22.600829   \n",
        "1929828                      NaN               NaN             14.286007   \n",
        "1928432                      NaN               NaN             23.444705   \n",
        "1928635                      NaN               NaN             21.419160   \n",
        "1928744                      NaN               NaN             21.429544   \n",
        "1928697                      NaN               NaN             21.665554   \n",
        "\n",
        "         _node_id  _node_id0  zone_id       lot_size  sum_residential_units  \\\n",
        "1931177     83317      75705     1154   37142.133311               3.715970   \n",
        "1928598     70795      63338     1154   42537.025934               3.405609   \n",
        "1931594     79484      71915     1154   73845.192129               3.300783   \n",
        "1930463     96542      88765     1154   35544.591202               3.283431   \n",
        "1930336     70669      63212     1154   29103.937611               2.826460   \n",
        "1928657     87121      79471     1154   35563.935393               3.036972   \n",
        "1928552     70796      63339     1154   40839.378100               3.526800   \n",
        "1928569    331039     210938     1154   48945.842156               3.147517   \n",
        "1928629     70796      63339     1154   38181.048521               3.526800   \n",
        "1928706     90456      82761     1154  198248.892258               2.058802   \n",
        "1928237     70795      63338     1154   38634.442603               3.405609   \n",
        "1928441    331029     210928     1154   17948.757138               3.605672   \n",
        "1928508     88594      80931     1154   18742.430008               3.347703   \n",
        "1928535     70795      63338     1154  236049.831773               3.405609   \n",
        "1928550     70795      63338     1154   50136.299561               3.405609   \n",
        "1928713     94730      86978     1154   25248.181359               3.330155   \n",
        "1928714     87991      80336     1154   25455.467197               4.243804   \n",
        "1928715     94730      86978     1154   15646.805046               3.330155   \n",
        "1928738     90456      82761     1154  404105.619937               2.058802   \n",
        "1928863     74542      67025     1154  211423.250391               2.549410   \n",
        "1929011     72396      64916     1154   17633.228190               2.766147   \n",
        "1929897     88137      80477     1154  233036.016891               4.163353   \n",
        "1930687     68258      60820     1154    8392.768455               3.747936   \n",
        "1927407     70796      63339     1154   36686.710468               3.526800   \n",
        "1928853     88596      80933     1154   46052.181475               3.641809   \n",
        "1928632    331040     210939     1154   90483.634617               3.036182   \n",
        "1927608     67339      60090     1154   19886.232463               3.236362   \n",
        "1929828     89793      82122     1154   37745.929063               3.163963   \n",
        "1928432    331041     210940     1154   15227.731727               3.208195   \n",
        "1928635     88596      80933     1154   13887.919881               3.641809   \n",
        "1928744     88595      80932     1154    6650.154773               3.650565   \n",
        "1928697     85692      78060     1154   31711.892405               3.375370   \n",
        "\n",
        "         sum_nonresidential_units  ave_unit_sqft  ave_lot_sqft  population      \n",
        "1931177                  4.477337       8.007624     10.350852    4.634509 ...  \n",
        "1928598                  6.417340       9.456644     11.293430    3.612195 ...  \n",
        "1931594                  4.060443       7.923008     10.479667    4.074635 ...  \n",
        "1930463                  4.553877       7.741789     10.685903    4.259339 ...  \n",
        "1930336                  2.079442       7.489170     10.891700    3.391372 ...  \n",
        "1928657                  4.418841       8.121696     10.358766    3.889434 ...  \n",
        "1928552                  6.108786       8.273003     10.166140    4.103194 ...  \n",
        "1928569                  5.996874       9.617922     10.827818    3.295453 ...  \n",
        "1928629                  6.108786       8.273003     10.166140    4.103194 ...  \n",
        "1928706                  5.234928       9.993363     11.727376    1.452309 ...  \n",
        "1928237                  6.417340       9.456644     11.293430    3.612195 ...  \n",
        "1928441                  5.227055       8.455481     10.267232    4.267496 ...  \n",
        "1928508                  6.221205       9.500537     11.091388    3.557345 ...  \n",
        "1928535                  6.417340       9.456644     11.293430    3.612195 ...  \n",
        "1928550                  6.417340       9.456644     11.293430    3.612195 ...  \n",
        "1928713                  5.420864       8.818991     10.421718    3.905905 ...  \n",
        "1928714                  4.916701       8.091135      9.943220    5.141841 ...  \n",
        "1928715                  5.420864       8.818991     10.421718    3.905905 ...  \n",
        "1928738                  5.234928       9.993363     11.727376    1.452309 ...  \n",
        "1928863                  4.969339       8.700661     10.341741    2.921235 ...  \n",
        "1929011                  3.044522       7.644774     10.020013    3.679125 ...  \n",
        "1929897                  4.110874       7.572176      9.990063    5.065823 ...  \n",
        "1930687                  2.302585       7.534196     10.564164    4.703377 ...  \n",
        "1927407                  6.108786       8.273003     10.166140    4.103194 ...  \n",
        "1928853                  5.730875       8.660207     10.314174    4.227571 ...  \n",
        "1928632                  5.900776       9.116876     10.383128    3.189805 ...  \n",
        "1927608                  5.696588       8.727655     10.458009    3.569245 ...  \n",
        "1929828                  5.429346       8.623957     10.630377    3.884459 ...  \n",
        "1928432                  6.038377       9.594604     11.083074    3.380612 ...  \n",
        "1928635                  5.730875       8.660207     10.314174    4.227571 ...  \n",
        "1928744                  5.769462       8.688842     10.320351    4.230774 ...  \n",
        "1928697                  5.868995       8.904436     10.455360    3.827485 ...  \n",
        "\n",
        "[32 rows x 59 columns]"
       ]
      }
     ],
     "prompt_number": 17
    },
    {
     "cell_type": "heading",
     "level": 2,
     "metadata": {},
     "source": [
      "Dataset Explorer Starts Here"
     ]
    },
    {
     "cell_type": "code",
     "collapsed": false,
     "input": [
      "from usui import dset_explorer\n",
      "dset_explorer.start(d, \n",
      "        center=[37.7792, -122.2191],\n",
      "        zoom=11,\n",
      "        shape_json='data/zones.json',\n",
      "        geom_name='ZONE_ID', # from JSON file\n",
      "        join_name='zone_id', # from data frames\n",
      "        precision=8)"
     ],
     "language": "python",
     "metadata": {},
     "outputs": [
      {
       "ename": "NameError",
       "evalue": "name 'd' is not defined",
       "output_type": "pyerr",
       "traceback": [
        "\u001b[0;31m---------------------------------------------------------------------------\u001b[0m\n\u001b[0;31mNameError\u001b[0m                                 Traceback (most recent call last)",
        "\u001b[0;32m<ipython-input-1-58e3ff52b596>\u001b[0m in \u001b[0;36m<module>\u001b[0;34m()\u001b[0m\n\u001b[1;32m      1\u001b[0m \u001b[0;32mfrom\u001b[0m \u001b[0musui\u001b[0m \u001b[0;32mimport\u001b[0m \u001b[0mdset_explorer\u001b[0m\u001b[0;34m\u001b[0m\u001b[0m\n\u001b[0;32m----> 2\u001b[0;31m dset_explorer.start(d, \n\u001b[0m\u001b[1;32m      3\u001b[0m         \u001b[0mcenter\u001b[0m\u001b[0;34m=\u001b[0m\u001b[0;34m[\u001b[0m\u001b[0;36m37.7792\u001b[0m\u001b[0;34m,\u001b[0m \u001b[0;34m-\u001b[0m\u001b[0;36m122.2191\u001b[0m\u001b[0;34m]\u001b[0m\u001b[0;34m,\u001b[0m\u001b[0;34m\u001b[0m\u001b[0m\n\u001b[1;32m      4\u001b[0m         \u001b[0mzoom\u001b[0m\u001b[0;34m=\u001b[0m\u001b[0;36m11\u001b[0m\u001b[0;34m,\u001b[0m\u001b[0;34m\u001b[0m\u001b[0m\n\u001b[1;32m      5\u001b[0m         \u001b[0mshape_json\u001b[0m\u001b[0;34m=\u001b[0m\u001b[0;34m'data/zones.json'\u001b[0m\u001b[0;34m,\u001b[0m\u001b[0;34m\u001b[0m\u001b[0m\n",
        "\u001b[0;31mNameError\u001b[0m: name 'd' is not defined"
       ]
      }
     ],
     "prompt_number": 1
    },
    {
     "cell_type": "code",
     "collapsed": false,
     "input": [],
     "language": "python",
     "metadata": {},
     "outputs": [],
     "prompt_number": 18
    }
   ],
   "metadata": {}
  }
 ]
}