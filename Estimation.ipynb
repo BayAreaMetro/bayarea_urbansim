{
 "metadata": {
  "name": "",
  "signature": "sha256:3290783b926527ee95e7941a60ba0871954e2f537fa1ebd0bbb95b93b2d765ed"
 },
 "nbformat": 3,
 "nbformat_minor": 0,
 "worksheets": [
  {
   "cells": [
    {
     "cell_type": "code",
     "collapsed": false,
     "input": [
      "%load_ext autoreload\n",
      "%autoreload 1\n",
      "%aimport models\n",
      "%aimport dataset"
     ],
     "language": "python",
     "metadata": {},
     "outputs": [],
     "prompt_number": 1
    },
    {
     "cell_type": "code",
     "collapsed": false,
     "input": [
      "dset = dataset.BayAreaDataset(\"data/bayarea.h5\")"
     ],
     "language": "python",
     "metadata": {},
     "outputs": [],
     "prompt_number": 2
    },
    {
     "cell_type": "code",
     "collapsed": false,
     "input": [
      "models.build_networks()"
     ],
     "language": "python",
     "metadata": {},
     "outputs": []
    },
    {
     "cell_type": "code",
     "collapsed": false,
     "input": [
      "models.neighborhood_vars(dset)"
     ],
     "language": "python",
     "metadata": {},
     "outputs": []
    },
    {
     "cell_type": "code",
     "collapsed": false,
     "input": [
      "models.rsh_estimate(dset)"
     ],
     "language": "python",
     "metadata": {},
     "outputs": [
      {
       "output_type": "stream",
       "stream": "stdout",
       "text": [
        "Fetching homesales\n",
        "Fetching nodes"
       ]
      },
      {
       "output_type": "stream",
       "stream": "stdout",
       "text": [
        "\n",
        "WARNING: fetching precomputed nodes off of disk\n",
        "Running hedonic estimation\n"
       ]
      },
      {
       "output_type": "stream",
       "stream": "stdout",
       "text": [
        "\n",
        "                               OLS Regression Results                               \n",
        "====================================================================================\n",
        "Dep. Variable:     np.log1p(sale_price_flt)   R-squared:                       0.222\n",
        "Model:                                  OLS   Adj. R-squared:                  0.222\n",
        "Method:                       Least Squares   F-statistic:                     6158.\n",
        "Date:                      Mon, 02 Jun 2014   Prob (F-statistic):               0.00\n",
        "Time:                              19:16:50   Log-Likelihood:            -1.4306e+05\n",
        "No. Observations:                    194138   AIC:                         2.861e+05\n",
        "Df Residuals:                        194128   BIC:                         2.862e+05\n",
        "Df Model:                                 9                                         \n",
        "================================================================================================\n",
        "                                   coef    std err          t      P>|t|      [95.0% Conf. Int.]\n",
        "------------------------------------------------------------------------------------------------\n",
        "Intercept                        3.8474      0.038    101.840      0.000         3.773     3.921\n",
        "I(year_built < 1940)[T.True]     0.2369      0.004     61.673      0.000         0.229     0.244\n",
        "I(year_built > 2005)[T.True]     0.0237      0.006      3.653      0.000         0.011     0.036\n",
        "np.log1p(unit_sqft)             -0.2330      0.003    -71.959      0.000        -0.239    -0.227\n",
        "np.log1p(unit_lot_size)          0.0850      0.002     56.201      0.000         0.082     0.088\n",
        "sum_residential_units           -0.0895      0.002    -47.796      0.000        -0.093    -0.086\n",
        "ave_unit_sqft                   -0.3068      0.004    -73.993      0.000        -0.315    -0.299\n",
        "ave_lot_sqft                    -0.0346      0.001    -64.330      0.000        -0.036    -0.034\n",
        "ave_income                       0.4880      0.002    195.932      0.000         0.483     0.493\n",
        "jobs                             0.0245      0.001     49.022      0.000         0.024     0.026\n",
        "==============================================================================\n",
        "Omnibus:                    42605.865   Durbin-Watson:                   0.607\n",
        "Prob(Omnibus):                  0.000   Jarque-Bera (JB):           534598.117\n",
        "Skew:                           0.703   Prob(JB):                         0.00\n",
        "Kurtosis:                      11.007   Cond. No.                         702.\n",
        "=============================================================================="
       ]
      },
      {
       "output_type": "stream",
       "stream": "stdout",
       "text": [
        "\n"
       ]
      }
     ],
     "prompt_number": 3
    },
    {
     "cell_type": "code",
     "collapsed": false,
     "input": [
      "models.rrh_estimate(dset)"
     ],
     "language": "python",
     "metadata": {},
     "outputs": [
      {
       "output_type": "stream",
       "stream": "stdout",
       "text": [
        "Fetching apartments\n",
        "Fetching parcels\n",
        "Running hedonic estimation\n"
       ]
      },
      {
       "output_type": "stream",
       "stream": "stdout",
       "text": [
        "\n",
        "                            OLS Regression Results                            \n",
        "==============================================================================\n",
        "Dep. Variable:         np.log1p(rent)   R-squared:                       0.258\n",
        "Model:                            OLS   Adj. R-squared:                  0.257\n",
        "Method:                 Least Squares   F-statistic:                     298.4\n",
        "Date:                Mon, 02 Jun 2014   Prob (F-statistic):          8.42e-275\n",
        "Time:                        19:16:51   Log-Likelihood:                 2151.0\n",
        "No. Observations:                4298   AIC:                            -4290.\n",
        "Df Residuals:                    4292   BIC:                            -4252.\n",
        "Df Model:                           5                                         \n",
        "=========================================================================================\n",
        "                            coef    std err          t      P>|t|      [95.0% Conf. Int.]\n",
        "-----------------------------------------------------------------------------------------\n",
        "Intercept                 2.2389      0.071     31.401      0.000         2.099     2.379\n",
        "np.log1p(unit_sqft)      -0.2002      0.008    -26.107      0.000        -0.215    -0.185\n",
        "sum_residential_units     0.0181      0.003      6.340      0.000         0.012     0.024\n",
        "ave_unit_sqft             0.0049      0.007      0.741      0.459        -0.008     0.018\n",
        "ave_lot_sqft             -0.0104      0.001    -15.048      0.000        -0.012    -0.009\n",
        "jobs                      0.0116      0.001     14.544      0.000         0.010     0.013\n",
        "==============================================================================\n",
        "Omnibus:                      228.946   Durbin-Watson:                   0.521\n",
        "Prob(Omnibus):                  0.000   Jarque-Bera (JB):              286.675\n",
        "Skew:                           0.533   Prob(JB):                     5.62e-63\n",
        "Kurtosis:                       3.682   Cond. No.                         522.\n",
        "=============================================================================="
       ]
      },
      {
       "output_type": "stream",
       "stream": "stdout",
       "text": [
        "\n"
       ]
      }
     ],
     "prompt_number": 4
    },
    {
     "cell_type": "code",
     "collapsed": false,
     "input": [
      "models.nrh_estimate(dset)"
     ],
     "language": "python",
     "metadata": {},
     "outputs": [
      {
       "output_type": "stream",
       "stream": "stdout",
       "text": [
        "Fetching costar\n",
        "Running hedonic estimation\n"
       ]
      },
      {
       "output_type": "stream",
       "stream": "stdout",
       "text": [
        "\n",
        "                            OLS Regression Results                            \n",
        "==============================================================================\n",
        "Dep. Variable:         np.log1p(rent)   R-squared:                       0.221\n",
        "Model:                            OLS   Adj. R-squared:                  0.221\n",
        "Method:                 Least Squares   F-statistic:                     407.0\n",
        "Date:                Mon, 02 Jun 2014   Prob (F-statistic):               0.00\n",
        "Time:                        19:16:52   Log-Likelihood:                -4921.2\n",
        "No. Observations:                7176   AIC:                             9854.\n",
        "Df Residuals:                    7170   BIC:                             9896.\n",
        "Df Model:                           5                                         \n",
        "================================================================================================\n",
        "                                   coef    std err          t      P>|t|      [95.0% Conf. Int.]\n",
        "------------------------------------------------------------------------------------------------\n",
        "Intercept                        2.0783      0.033     62.350      0.000         2.013     2.144\n",
        "I(year_built < 1940)[T.True]     0.1420      0.014      9.831      0.000         0.114     0.170\n",
        "I(year_built > 2005)[T.True]     0.2474      0.033      7.416      0.000         0.182     0.313\n",
        "np.log1p(stories)                0.5043      0.014     35.676      0.000         0.477     0.532\n",
        "ave_income                       0.0233      0.002     14.297      0.000         0.020     0.027\n",
        "jobs                            -0.0042      0.003     -1.652      0.099        -0.009     0.001\n",
        "==============================================================================\n",
        "Omnibus:                      223.863   Durbin-Watson:                   1.532\n",
        "Prob(Omnibus):                  0.000   Jarque-Bera (JB):              600.198\n",
        "Skew:                           0.039   Prob(JB):                    4.66e-131\n",
        "Kurtosis:                       4.415   Cond. No.                         90.0\n",
        "=============================================================================="
       ]
      },
      {
       "output_type": "stream",
       "stream": "stdout",
       "text": [
        "\n"
       ]
      }
     ],
     "prompt_number": 5
    },
    {
     "cell_type": "code",
     "collapsed": false,
     "input": [
      "models.rsh_simulate(dset)\n",
      "models.rrh_simulate(dset)\n",
      "models.nrh_simulate(dset)"
     ],
     "language": "python",
     "metadata": {},
     "outputs": [
      {
       "output_type": "stream",
       "stream": "stdout",
       "text": [
        "Fetching buildings\n",
        "Fetching building_sqft_per_job"
       ]
      },
      {
       "output_type": "stream",
       "stream": "stdout",
       "text": [
        "\n",
        "Running hedonic simulation\n"
       ]
      },
      {
       "output_type": "stream",
       "stream": "stdout",
       "text": [
        "\n",
        "count    1796149.000000\n",
        "mean         274.520140\n",
        "std           72.640830\n",
        "min            0.516869\n",
        "25%          227.732643\n",
        "50%          266.677090\n",
        "75%          310.073919\n",
        "max         3051.322647\n",
        "dtype: float64"
       ]
      },
      {
       "output_type": "stream",
       "stream": "stdout",
       "text": [
        "\n",
        "Running hedonic simulation\n"
       ]
      },
      {
       "output_type": "stream",
       "stream": "stdout",
       "text": [
        "\n",
        "count    1796149.000000\n",
        "mean           2.378987\n",
        "std            0.326236\n",
        "min            0.373810\n",
        "25%            2.174433\n",
        "50%            2.345380\n",
        "75%            2.549366\n",
        "max           12.852312\n",
        "dtype: float64"
       ]
      },
      {
       "output_type": "stream",
       "stream": "stdout",
       "text": [
        "\n",
        "Running hedonic simulation\n"
       ]
      },
      {
       "output_type": "stream",
       "stream": "stdout",
       "text": [
        "\n",
        "count    140110.000000\n",
        "mean         16.040056\n",
        "std           2.922911\n",
        "min          10.510099\n",
        "25%          14.185263\n",
        "50%          16.180079\n",
        "75%          16.699029\n",
        "max          84.901960\n",
        "dtype: float64"
       ]
      },
      {
       "output_type": "stream",
       "stream": "stdout",
       "text": [
        "\n"
       ]
      }
     ],
     "prompt_number": 6
    },
    {
     "cell_type": "code",
     "collapsed": false,
     "input": [
      "models.hlcmo_estimate(dset)"
     ],
     "language": "python",
     "metadata": {},
     "outputs": [
      {
       "output_type": "stream",
       "stream": "stdout",
       "text": [
        "Fetching households\n",
        "Running location choice model estimation\n"
       ]
      },
      {
       "output_type": "stream",
       "stream": "stdout",
       "text": [
        "\n",
        "Removing 25 choice situations because chosen alt doesn't exist"
       ]
      },
      {
       "output_type": "stream",
       "stream": "stdout",
       "text": [
        "\n",
        "Null Log-liklihood: -22910.722"
       ]
      },
      {
       "output_type": "stream",
       "stream": "stdout",
       "text": [
        "\n",
        "Log-liklihood at convergence: -22541.995\n",
        "Log-liklihood Ratio: 0.016\n",
        "\n",
        "+-----------------------------------+-------------+------------+---------+\n",
        "| Component                         | Coefficient | Std. Error | T-Score |\n",
        "+-----------------------------------+-------------+------------+---------+\n",
        "| np.log1p(residential_sales_price) |    0.574    |   0.075    |  7.641  |\n",
        "| np.log1p(unit_sqft)               |    -0.136   |   0.030    |  -4.563 |\n",
        "| sum_residential_units             |    0.117    |   0.016    |  7.326  |\n",
        "| ave_unit_sqft                     |    0.540    |   0.056    |  9.658  |\n",
        "| ave_lot_sqft                      |    0.027    |   0.007    |  4.120  |\n",
        "| ave_income                        |    -0.077   |   0.057    |  -1.352 |\n",
        "+-----------------------------------+-------------+------------+---------+\n"
       ]
      }
     ],
     "prompt_number": 7
    },
    {
     "cell_type": "code",
     "collapsed": false,
     "input": [
      "models.hlcmr_estimate(dset)"
     ],
     "language": "python",
     "metadata": {},
     "outputs": [
      {
       "output_type": "stream",
       "stream": "stdout",
       "text": [
        "Running location choice model estimation\n",
        "\n",
        "Removing 46 choice situations because chosen alt doesn't exist"
       ]
      },
      {
       "output_type": "stream",
       "stream": "stdout",
       "text": [
        "\n",
        "Null Log-liklihood: -22814.013"
       ]
      },
      {
       "output_type": "stream",
       "stream": "stdout",
       "text": [
        "\n",
        "Log-liklihood at convergence: -19046.441\n",
        "Log-liklihood Ratio: 0.165\n",
        "\n",
        "+----------------------------+-------------+------------+---------+\n",
        "| Component                  | Coefficient | Std. Error | T-Score |\n",
        "+----------------------------+-------------+------------+---------+\n",
        "| np.log1p(residential_rent) |    3.000    |   0.264    |  11.374 |\n",
        "| np.log1p(unit_sqft)        |    -0.578   |   0.044    | -13.159 |\n",
        "| sum_residential_units      |    0.684    |   0.020    |  33.643 |\n",
        "| ave_unit_sqft              |    1.046    |   0.068    |  15.341 |\n",
        "| ave_lot_sqft               |    0.035    |   0.005    |  6.838  |\n",
        "| ave_income                 |    -0.428   |   0.028    | -15.399 |\n",
        "+----------------------------+-------------+------------+---------+\n"
       ]
      }
     ],
     "prompt_number": 8
    },
    {
     "cell_type": "code",
     "collapsed": false,
     "input": [
      "models.elcm_estimate(dset)"
     ],
     "language": "python",
     "metadata": {},
     "outputs": [
      {
       "output_type": "stream",
       "stream": "stdout",
       "text": [
        "Fetching jobs\n",
        "Running location choice model estimation\n"
       ]
      },
      {
       "output_type": "stream",
       "stream": "stdout",
       "text": [
        "\n",
        "Null Log-liklihood: -23025.851"
       ]
      },
      {
       "output_type": "stream",
       "stream": "stdout",
       "text": [
        "\n",
        "Log-liklihood at convergence: -13906.531\n",
        "Log-liklihood Ratio: 0.396\n",
        "\n",
        "+--------------------------------+-------------+------------+---------+\n",
        "| Component                      | Coefficient | Std. Error | T-Score |\n",
        "+--------------------------------+-------------+------------+---------+\n",
        "| np.log1p(non_residential_rent) |    0.895    |   0.013    |  68.304 |\n",
        "| np.log1p(stories)              |    0.118    |   0.041    |  2.850  |\n",
        "| ave_income                     |    -0.058   |   0.004    | -15.605 |\n",
        "| sum_nonresidential_units       |    -0.170   |   0.010    | -17.096 |\n",
        "| jobs                           |    0.450    |   0.006    |  74.272 |\n",
        "+--------------------------------+-------------+------------+---------+\n"
       ]
      }
     ],
     "prompt_number": 9
    },
    {
     "cell_type": "code",
     "collapsed": false,
     "input": [],
     "language": "python",
     "metadata": {},
     "outputs": []
    }
   ],
   "metadata": {}
  }
 ]
}