{
 "metadata": {
  "name": "",
  "signature": "sha256:0fdb68679a4a7ebd9a4e3a6f52984ab6d0f6e68fa60f8f7925d545fb96b7cbca"
 },
 "nbformat": 3,
 "nbformat_minor": 0,
 "worksheets": [
  {
   "cells": [
    {
     "cell_type": "code",
     "collapsed": false,
     "input": [
      "%load_ext autoreload\n",
      "%autoreload 1\n",
      "%aimport bayarea.models\n",
      "%aimport bayarea.dataset\n",
      "%aimport bayarea.feasibility\n",
      "%aimport bayarea.developer\n",
      "models = bayarea.models\n",
      "dataset = bayarea.dataset\n",
      "feasibility = bayarea.feasibility\n",
      "developer = bayarea.developer"
     ],
     "language": "python",
     "metadata": {},
     "outputs": [],
     "prompt_number": 1
    },
    {
     "cell_type": "code",
     "collapsed": false,
     "input": [
      "dset = dataset.BayAreaDataset(\"data/bayarea.h5\")"
     ],
     "language": "python",
     "metadata": {},
     "outputs": [],
     "prompt_number": 2
    },
    {
     "cell_type": "code",
     "collapsed": false,
     "input": [
      "models.build_networks()"
     ],
     "language": "python",
     "metadata": {},
     "outputs": [],
     "prompt_number": 3
    },
    {
     "cell_type": "code",
     "collapsed": false,
     "input": [
      "models.neighborhood_vars(dset)"
     ],
     "language": "python",
     "metadata": {},
     "outputs": [
      {
       "output_type": "stream",
       "stream": "stdout",
       "text": [
        "Adding xys to dataframe: households\n",
        "WARNING: imputing building square feet where it doesn't exist"
       ]
      },
      {
       "output_type": "stream",
       "stream": "stdout",
       "text": [
        "\n",
        "WARNING: imputing lot size where it doesn't exist"
       ]
      },
      {
       "output_type": "stream",
       "stream": "stdout",
       "text": [
        "\n",
        "Adding xys to dataframe: jobs"
       ]
      },
      {
       "output_type": "stream",
       "stream": "stdout",
       "text": [
        "\n",
        "Computing accessibility variables"
       ]
      },
      {
       "output_type": "stream",
       "stream": "stdout",
       "text": [
        "\n",
        "Computing sum_residential_units\n",
        "    dataframe = buildings, varname=residential_units\n",
        "    radius = 500, aggregation = AGG_SUM, decay = DECAY_LINEAR\n",
        "Computing sum_nonresidential_units"
       ]
      },
      {
       "output_type": "stream",
       "stream": "stdout",
       "text": [
        "\n",
        "    dataframe = buildings, varname=non_residential_units\n",
        "    radius = 500, aggregation = AGG_SUM, decay = DECAY_LINEAR\n",
        "Computing ave_unit_sqft"
       ]
      },
      {
       "output_type": "stream",
       "stream": "stdout",
       "text": [
        "\n",
        "    dataframe = buildings, varname=unit_sqft\n",
        "    radius = 500, aggregation = AGG_AVE, decay = DECAY_FLAT\n",
        "Computing ave_lot_sqft"
       ]
      },
      {
       "output_type": "stream",
       "stream": "stdout",
       "text": [
        "\n",
        "    dataframe = buildings, varname=unit_lot_size\n",
        "    radius = 500, aggregation = AGG_AVE, decay = DECAY_FLAT\n",
        "Computing population"
       ]
      },
      {
       "output_type": "stream",
       "stream": "stdout",
       "text": [
        "\n",
        "    dataframe = households, varname=persons\n",
        "    radius = 500, aggregation = AGG_SUM, decay = DECAY_LINEAR\n",
        "Computing poor"
       ]
      },
      {
       "output_type": "stream",
       "stream": "stdout",
       "text": [
        "\n",
        "    dataframe = households, varname=persons"
       ]
      },
      {
       "output_type": "stream",
       "stream": "stdout",
       "text": [
        "\n",
        "    radius = 500, aggregation = AGG_SUM, decay = DECAY_LINEAR\n",
        "Computing renters"
       ]
      },
      {
       "output_type": "stream",
       "stream": "stdout",
       "text": [
        "\n",
        "    dataframe = households, varname=None"
       ]
      },
      {
       "output_type": "stream",
       "stream": "stdout",
       "text": [
        "\n",
        "    radius = 500, aggregation = AGG_SUM, decay = DECAY_LINEAR\n",
        "Computing sfdu"
       ]
      },
      {
       "output_type": "stream",
       "stream": "stdout",
       "text": [
        "\n",
        "    dataframe = buildings, varname=None"
       ]
      },
      {
       "output_type": "stream",
       "stream": "stdout",
       "text": [
        "\n",
        "    radius = 500, aggregation = AGG_SUM, decay = DECAY_LINEAR\n",
        "Computing hhsize"
       ]
      },
      {
       "output_type": "stream",
       "stream": "stdout",
       "text": [
        "\n",
        "    dataframe = households, varname=persons\n",
        "    radius = 500, aggregation = AGG_AVE, decay = DECAY_FLAT\n",
        "Computing jobs"
       ]
      },
      {
       "output_type": "stream",
       "stream": "stdout",
       "text": [
        "\n",
        "    dataframe = jobs, varname=emp11\n",
        "    radius = 500, aggregation = AGG_SUM, decay = DECAY_LINEAR\n",
        "Computing ave_income"
       ]
      },
      {
       "output_type": "stream",
       "stream": "stdout",
       "text": [
        "\n",
        "    dataframe = households, varname=income\n",
        "    radius = 500, aggregation = AGG_AVE, decay = DECAY_FLAT\n"
       ]
      }
     ],
     "prompt_number": 5
    },
    {
     "cell_type": "code",
     "collapsed": false,
     "input": [
      "models.rsh_estimate(dset)"
     ],
     "language": "python",
     "metadata": {},
     "outputs": [
      {
       "output_type": "stream",
       "stream": "stdout",
       "text": [
        "Fetching homesales\n",
        "Fetching nodes"
       ]
      },
      {
       "output_type": "stream",
       "stream": "stdout",
       "text": [
        "\n",
        "WARNING: fetching precomputed nodes off of disk\n",
        "Running hedonic estimation\n"
       ]
      },
      {
       "output_type": "stream",
       "stream": "stdout",
       "text": [
        "\n",
        "                               OLS Regression Results                               \n",
        "====================================================================================\n",
        "Dep. Variable:     np.log1p(sale_price_flt)   R-squared:                       0.222\n",
        "Model:                                  OLS   Adj. R-squared:                  0.222\n",
        "Method:                       Least Squares   F-statistic:                     6158.\n",
        "Date:                      Sun, 25 May 2014   Prob (F-statistic):               0.00\n",
        "Time:                              21:49:14   Log-Likelihood:            -1.4306e+05\n",
        "No. Observations:                    194138   AIC:                         2.861e+05\n",
        "Df Residuals:                        194128   BIC:                         2.862e+05\n",
        "Df Model:                                 9                                         \n",
        "================================================================================================\n",
        "                                   coef    std err          t      P>|t|      [95.0% Conf. Int.]\n",
        "------------------------------------------------------------------------------------------------\n",
        "Intercept                        3.8474      0.038    101.840      0.000         3.773     3.921\n",
        "I(year_built < 1940)[T.True]     0.2369      0.004     61.673      0.000         0.229     0.244\n",
        "I(year_built > 2005)[T.True]     0.0237      0.006      3.653      0.000         0.011     0.036\n",
        "np.log1p(unit_sqft)             -0.2330      0.003    -71.959      0.000        -0.239    -0.227\n",
        "np.log1p(unit_lot_size)          0.0850      0.002     56.201      0.000         0.082     0.088\n",
        "sum_residential_units           -0.0895      0.002    -47.796      0.000        -0.093    -0.086\n",
        "ave_unit_sqft                   -0.3068      0.004    -73.993      0.000        -0.315    -0.299\n",
        "ave_lot_sqft                    -0.0346      0.001    -64.330      0.000        -0.036    -0.034\n",
        "ave_income                       0.4880      0.002    195.932      0.000         0.483     0.493\n",
        "jobs                             0.0245      0.001     49.022      0.000         0.024     0.026\n",
        "==============================================================================\n",
        "Omnibus:                    42605.865   Durbin-Watson:                   0.607\n",
        "Prob(Omnibus):                  0.000   Jarque-Bera (JB):           534598.117\n",
        "Skew:                           0.703   Prob(JB):                         0.00\n",
        "Kurtosis:                      11.007   Cond. No.                         702.\n",
        "=============================================================================="
       ]
      },
      {
       "output_type": "stream",
       "stream": "stdout",
       "text": [
        "\n"
       ]
      }
     ],
     "prompt_number": 3
    },
    {
     "cell_type": "code",
     "collapsed": false,
     "input": [
      "models.rrh_estimate(dset)"
     ],
     "language": "python",
     "metadata": {},
     "outputs": [
      {
       "output_type": "stream",
       "stream": "stdout",
       "text": [
        "Fetching apartments\n",
        "Fetching parcels\n",
        "Running hedonic estimation\n"
       ]
      },
      {
       "output_type": "stream",
       "stream": "stdout",
       "text": [
        "\n",
        "                            OLS Regression Results                            \n",
        "==============================================================================\n",
        "Dep. Variable:         np.log1p(rent)   R-squared:                       0.258\n",
        "Model:                            OLS   Adj. R-squared:                  0.257\n",
        "Method:                 Least Squares   F-statistic:                     298.4\n",
        "Date:                Sun, 25 May 2014   Prob (F-statistic):          8.42e-275\n",
        "Time:                        21:49:17   Log-Likelihood:                 2151.0\n",
        "No. Observations:                4298   AIC:                            -4290.\n",
        "Df Residuals:                    4292   BIC:                            -4252.\n",
        "Df Model:                           5                                         \n",
        "=========================================================================================\n",
        "                            coef    std err          t      P>|t|      [95.0% Conf. Int.]\n",
        "-----------------------------------------------------------------------------------------\n",
        "Intercept                 2.2389      0.071     31.401      0.000         2.099     2.379\n",
        "np.log1p(unit_sqft)      -0.2002      0.008    -26.107      0.000        -0.215    -0.185\n",
        "sum_residential_units     0.0181      0.003      6.340      0.000         0.012     0.024\n",
        "ave_unit_sqft             0.0049      0.007      0.741      0.459        -0.008     0.018\n",
        "ave_lot_sqft             -0.0104      0.001    -15.048      0.000        -0.012    -0.009\n",
        "jobs                      0.0116      0.001     14.544      0.000         0.010     0.013\n",
        "==============================================================================\n",
        "Omnibus:                      228.946   Durbin-Watson:                   0.521\n",
        "Prob(Omnibus):                  0.000   Jarque-Bera (JB):              286.675\n",
        "Skew:                           0.533   Prob(JB):                     5.62e-63\n",
        "Kurtosis:                       3.682   Cond. No.                         522.\n",
        "==============================================================================\n"
       ]
      }
     ],
     "prompt_number": 4
    },
    {
     "cell_type": "code",
     "collapsed": false,
     "input": [
      "models.nrh_estimate(dset)"
     ],
     "language": "python",
     "metadata": {},
     "outputs": [
      {
       "output_type": "stream",
       "stream": "stdout",
       "text": [
        "Fetching costar\n",
        "Running hedonic estimation\n"
       ]
      },
      {
       "output_type": "stream",
       "stream": "stdout",
       "text": [
        "\n",
        "                            OLS Regression Results                            \n",
        "==============================================================================\n",
        "Dep. Variable:         np.log1p(rent)   R-squared:                       0.221\n",
        "Model:                            OLS   Adj. R-squared:                  0.221\n",
        "Method:                 Least Squares   F-statistic:                     407.0\n",
        "Date:                Sun, 25 May 2014   Prob (F-statistic):               0.00\n",
        "Time:                        21:49:19   Log-Likelihood:                -4921.2\n",
        "No. Observations:                7176   AIC:                             9854.\n",
        "Df Residuals:                    7170   BIC:                             9896.\n",
        "Df Model:                           5                                         \n",
        "================================================================================================\n",
        "                                   coef    std err          t      P>|t|      [95.0% Conf. Int.]\n",
        "------------------------------------------------------------------------------------------------\n",
        "Intercept                        2.0783      0.033     62.350      0.000         2.013     2.144\n",
        "I(year_built < 1940)[T.True]     0.1420      0.014      9.831      0.000         0.114     0.170\n",
        "I(year_built > 2005)[T.True]     0.2474      0.033      7.416      0.000         0.182     0.313\n",
        "np.log1p(stories)                0.5043      0.014     35.676      0.000         0.477     0.532\n",
        "ave_income                       0.0233      0.002     14.297      0.000         0.020     0.027\n",
        "jobs                            -0.0042      0.003     -1.652      0.099        -0.009     0.001\n",
        "==============================================================================\n",
        "Omnibus:                      223.863   Durbin-Watson:                   1.532\n",
        "Prob(Omnibus):                  0.000   Jarque-Bera (JB):              600.198\n",
        "Skew:                           0.039   Prob(JB):                    4.66e-131\n",
        "Kurtosis:                       4.415   Cond. No.                         90.0\n",
        "=============================================================================="
       ]
      },
      {
       "output_type": "stream",
       "stream": "stdout",
       "text": [
        "\n"
       ]
      }
     ],
     "prompt_number": 5
    },
    {
     "cell_type": "code",
     "collapsed": false,
     "input": [
      "models.rsh_simulate(dset)\n",
      "models.rrh_simulate(dset)\n",
      "models.nrh_simulate(dset)"
     ],
     "language": "python",
     "metadata": {},
     "outputs": [
      {
       "output_type": "stream",
       "stream": "stdout",
       "text": [
        "Fetching buildings\n",
        "Running hedonic simulation\n"
       ]
      },
      {
       "output_type": "stream",
       "stream": "stdout",
       "text": [
        "\n",
        "count    1796149.00\n",
        "mean         268.04\n",
        "std           70.69\n",
        "min            0.52\n",
        "25%          222.23\n",
        "50%          261.82\n",
        "75%          303.93\n",
        "max         3051.32\n",
        "dtype: float64"
       ]
      },
      {
       "output_type": "stream",
       "stream": "stdout",
       "text": [
        "\n",
        "Running hedonic simulation\n"
       ]
      },
      {
       "output_type": "stream",
       "stream": "stdout",
       "text": [
        "\n",
        "count    1796149.00\n",
        "mean           2.38\n",
        "std            0.33\n",
        "min            0.37\n",
        "25%            2.17\n",
        "50%            2.35\n",
        "75%            2.55\n",
        "max           12.85\n",
        "dtype: float64"
       ]
      },
      {
       "output_type": "stream",
       "stream": "stdout",
       "text": [
        "\n",
        "Running hedonic simulation\n"
       ]
      },
      {
       "output_type": "stream",
       "stream": "stdout",
       "text": [
        "\n",
        "count    140110.00\n",
        "mean         15.10\n",
        "std           2.93\n",
        "min          10.51\n",
        "25%          14.05\n",
        "50%          14.27\n",
        "75%          14.74\n",
        "max          84.90\n",
        "dtype: float64"
       ]
      },
      {
       "output_type": "stream",
       "stream": "stdout",
       "text": [
        "\n"
       ]
      }
     ],
     "prompt_number": 6
    },
    {
     "cell_type": "code",
     "collapsed": false,
     "input": [
      "models.hlcmo_estimate(dset)"
     ],
     "language": "python",
     "metadata": {},
     "outputs": [
      {
       "output_type": "stream",
       "stream": "stdout",
       "text": [
        "Running location choice model estimation\n",
        "\n",
        "Removing 22 choice situations because chosen alt doesn't exist"
       ]
      },
      {
       "output_type": "stream",
       "stream": "stdout",
       "text": [
        "\n",
        "Null Log-liklihood: -22924.537"
       ]
      },
      {
       "output_type": "stream",
       "stream": "stdout",
       "text": [
        "\n",
        "Log-liklihood at convergence: -22889.293\n",
        "Log-liklihood Ratio: 0.002\n",
        "\n",
        "+-----------------------------------+-------------+------------+---------+\n",
        "| Component                         | Coefficient | Std. Error | T-Score |\n",
        "+-----------------------------------+-------------+------------+---------+\n",
        "| np.log1p(residential_sales_price) |    -0.074   |   0.071    |  -1.048 |\n",
        "| np.log1p(unit_sqft)               |    -0.238   |   0.025    |  -9.511 |\n",
        "| sum_residential_units             |    0.041    |   0.016    |  2.619  |\n",
        "| ave_unit_sqft                     |    0.263    |   0.055    |  4.771  |\n",
        "| ave_lot_sqft                      |    -0.001   |   0.007    |  -0.173 |\n",
        "| ave_income                        |    0.227    |   0.056    |  4.040  |\n",
        "+-----------------------------------+-------------+------------+---------+\n"
       ]
      }
     ],
     "prompt_number": 8
    },
    {
     "cell_type": "code",
     "collapsed": false,
     "input": [
      "models.hlcmr_estimate(dset)"
     ],
     "language": "python",
     "metadata": {},
     "outputs": [
      {
       "output_type": "stream",
       "stream": "stdout",
       "text": [
        "Running location choice model estimation\n",
        "\n",
        "Removing 39 choice situations because chosen alt doesn't exist"
       ]
      },
      {
       "output_type": "stream",
       "stream": "stdout",
       "text": [
        "\n",
        "Null Log-liklihood: -22846.249"
       ]
      },
      {
       "output_type": "stream",
       "stream": "stdout",
       "text": [
        "\n",
        "Log-liklihood at convergence: -19443.266\n",
        "Log-liklihood Ratio: 0.149\n",
        "\n",
        "+----------------------------+-------------+------------+---------+\n",
        "| Component                  | Coefficient | Std. Error | T-Score |\n",
        "+----------------------------+-------------+------------+---------+\n",
        "| np.log1p(residential_rent) |    -3.000   |   0.269    | -11.152 |\n",
        "| np.log1p(unit_sqft)        |    -1.485   |   0.045    | -33.097 |\n",
        "| sum_residential_units      |    0.887    |   0.021    |  43.137 |\n",
        "| ave_unit_sqft              |    1.210    |   0.065    |  18.714 |\n",
        "| ave_lot_sqft               |    -0.004   |   0.005    |  -0.829 |\n",
        "| ave_income                 |    -0.446   |   0.033    | -13.660 |\n",
        "+----------------------------+-------------+------------+---------+\n"
       ]
      }
     ],
     "prompt_number": 9
    },
    {
     "cell_type": "code",
     "collapsed": false,
     "input": [
      "models.elcm_estimate(dset)"
     ],
     "language": "python",
     "metadata": {},
     "outputs": [
      {
       "output_type": "stream",
       "stream": "stdout",
       "text": [
        "Fetching nets\n",
        "Running location choice model estimation\n"
       ]
      },
      {
       "output_type": "stream",
       "stream": "stdout",
       "text": [
        "\n",
        "Removing 1452 choice situations because chosen alt doesn't exist"
       ]
      },
      {
       "output_type": "stream",
       "stream": "stdout",
       "text": [
        "\n",
        "Null Log-liklihood: -16339.144"
       ]
      },
      {
       "output_type": "stream",
       "stream": "stdout",
       "text": [
        "\n",
        "Log-liklihood at convergence: -13967.051\n",
        "Log-liklihood Ratio: 0.145\n",
        "\n",
        "+--------------------------------+-------------+------------+---------+\n",
        "| Component                      | Coefficient | Std. Error | T-Score |\n",
        "+--------------------------------+-------------+------------+---------+\n",
        "| np.log1p(non_residential_rent) |    -3.000   |   0.046    | -65.027 |\n",
        "| np.log1p(stories)              |    1.988    |   0.040    |  49.413 |\n",
        "| ave_income                     |    0.035    |   0.006    |  5.873  |\n",
        "| sum_nonresidential_units       |    -0.147   |   0.015    | -10.133 |\n",
        "| jobs                           |    0.422    |   0.009    |  45.725 |\n",
        "+--------------------------------+-------------+------------+---------+\n"
       ]
      }
     ],
     "prompt_number": 10
    },
    {
     "cell_type": "code",
     "collapsed": false,
     "input": [],
     "language": "python",
     "metadata": {},
     "outputs": []
    }
   ],
   "metadata": {}
  }
 ]
}