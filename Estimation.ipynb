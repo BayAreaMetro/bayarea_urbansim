{
 "metadata": {
  "name": "",
  "signature": "sha256:3d5bc72251cee3e80da11e1049739a9515fb95f86a82166e5d2ada42a27aec9b"
 },
 "nbformat": 3,
 "nbformat_minor": 0,
 "worksheets": [
  {
   "cells": [
    {
     "cell_type": "code",
     "collapsed": false,
     "input": [
      "import models\n",
      "import urbansim.sim.simulation as sim"
     ],
     "language": "python",
     "metadata": {},
     "outputs": [],
     "prompt_number": 1
    },
    {
     "cell_type": "code",
     "collapsed": false,
     "input": [
      "sim.run([\"build_networks\"])"
     ],
     "language": "python",
     "metadata": {},
     "outputs": [
      {
       "output_type": "stream",
       "stream": "stdout",
       "text": [
        "Running model 'build_networks'\n",
        "Time to execute model 'build_networks': 5.55s"
       ]
      },
      {
       "output_type": "stream",
       "stream": "stdout",
       "text": [
        "\n",
        "Total time to execute: 5.55s\n"
       ]
      }
     ],
     "prompt_number": 2
    },
    {
     "cell_type": "code",
     "collapsed": false,
     "input": [
      "sim.run([\"neighborhood_vars\"])"
     ],
     "language": "python",
     "metadata": {},
     "outputs": [
      {
       "output_type": "stream",
       "stream": "stdout",
       "text": [
        "Running model 'neighborhood_vars'\n",
        "Computing accessibility variables\n",
        "Computing sum_residential_units\n",
        "Filling column building_type_id with value 1.0 (17692 values)"
       ]
      },
      {
       "output_type": "stream",
       "stream": "stdout",
       "text": [
        "\n",
        "Filling column residential_units with value 0 (17692 values)\n",
        "Filling column year_built with value 1964.0 (251406 values)"
       ]
      },
      {
       "output_type": "stream",
       "stream": "stdout",
       "text": [
        "\n",
        "Filling column non_residential_sqft with value 0 (34223 values)"
       ]
      },
      {
       "output_type": "stream",
       "stream": "stdout",
       "text": [
        "\n",
        "Filling column shape_area with value 594.886657715 (114 values)"
       ]
      },
      {
       "output_type": "stream",
       "stream": "stdout",
       "text": [
        "\n",
        "Filling column zone_id with value 1178.0 (114 values)"
       ]
      },
      {
       "output_type": "stream",
       "stream": "stdout",
       "text": [
        "\n",
        "Computing sum_nonresidential_units"
       ]
      },
      {
       "output_type": "stream",
       "stream": "stdout",
       "text": [
        "\n",
        "Computing ave_sqft_per_unit"
       ]
      },
      {
       "output_type": "stream",
       "stream": "stdout",
       "text": [
        "\n",
        "Computing ave_lot_size_per_unit"
       ]
      },
      {
       "output_type": "stream",
       "stream": "stdout",
       "text": [
        "\n",
        "Computing population"
       ]
      },
      {
       "output_type": "stream",
       "stream": "stdout",
       "text": [
        "\n",
        "Removed 14076 rows because they contain missing values"
       ]
      },
      {
       "output_type": "stream",
       "stream": "stdout",
       "text": [
        "\n",
        "Computing poor"
       ]
      },
      {
       "output_type": "stream",
       "stream": "stdout",
       "text": [
        "\n",
        "Removed 5079 rows because they contain missing values"
       ]
      },
      {
       "output_type": "stream",
       "stream": "stdout",
       "text": [
        "\n",
        "Computing renters"
       ]
      },
      {
       "output_type": "stream",
       "stream": "stdout",
       "text": [
        "\n",
        "Removed 5971 rows because they contain missing values"
       ]
      },
      {
       "output_type": "stream",
       "stream": "stdout",
       "text": [
        "\n",
        "Computing sfdu"
       ]
      },
      {
       "output_type": "stream",
       "stream": "stdout",
       "text": [
        "\n",
        "Computing ave_hhsize"
       ]
      },
      {
       "output_type": "stream",
       "stream": "stdout",
       "text": [
        "\n",
        "Removed 14076 rows because they contain missing values"
       ]
      },
      {
       "output_type": "stream",
       "stream": "stdout",
       "text": [
        "\n",
        "Computing jobs"
       ]
      },
      {
       "output_type": "stream",
       "stream": "stdout",
       "text": [
        "\n",
        "Removed 148710 rows because they contain missing values"
       ]
      },
      {
       "output_type": "stream",
       "stream": "stdout",
       "text": [
        "\n",
        "Computing ave_income"
       ]
      },
      {
       "output_type": "stream",
       "stream": "stdout",
       "text": [
        "\n",
        "Removed 14076 rows because they contain missing values"
       ]
      },
      {
       "output_type": "stream",
       "stream": "stdout",
       "text": [
        "\n",
        "       sum_residential_units  sum_nonresidential_units  ave_sqft_per_unit  \\\n",
        "count          226060.000000             226060.000000      226060.000000   \n",
        "mean                6.147017                  6.379462           7.456296   \n",
        "std                 1.648035                  1.891947           0.969523   \n",
        "min                 0.000000                  0.000000           0.000000   \n",
        "25%                 5.625901                  5.504745           7.274250   \n",
        "50%                 6.535327                  6.628067           7.479912   \n",
        "75%                 7.133267                  7.601275           7.797145   \n",
        "max                10.181123                 12.389406          12.584553   \n",
        "\n",
        "       ave_lot_size_per_unit     population           poor        renters  \\\n",
        "count          226060.000000  226060.000000  226060.000000  226060.000000   \n",
        "mean                9.259173       6.875537       5.382897       5.391007   \n",
        "std                 1.841788       1.843690       1.831038       1.634224   \n",
        "min                 0.000000       0.000000       0.000000       0.000000   \n",
        "25%                 8.593434       6.422864       4.622566       5.001300   \n",
        "50%                 8.949747       7.382371       5.726997       5.897705   \n",
        "75%                 9.575930       7.983245       6.561895       6.402221   \n",
        "max                17.130289      10.437380       9.869967       8.485800   \n",
        "\n",
        "                sfdu     ave_hhsize           jobs     ave_income  \n",
        "count  226060.000000  226060.000000  226060.000000  226060.000000  \n",
        "mean        5.229702       1.289061       5.951450      11.128691  \n",
        "std         1.748419       0.201028       1.809135       1.443564  \n",
        "min         0.000000       0.000000       0.000000       0.000000  \n",
        "25%         4.691915       1.237874       5.134082      11.083780  \n",
        "50%         5.870173       1.308955       6.181096      11.304513  \n",
        "75%         6.405925       1.373032       7.080393      11.513828  \n",
        "max         7.721668       2.525729      11.950737      13.043323  \n",
        "\n",
        "[8 rows x 11 columns]"
       ]
      },
      {
       "output_type": "stream",
       "stream": "stdout",
       "text": [
        "\n",
        "Time to execute model 'neighborhood_vars': 48.14s\n",
        "Total time to execute: 48.14s\n"
       ]
      }
     ],
     "prompt_number": 3
    },
    {
     "cell_type": "heading",
     "level": 2,
     "metadata": {},
     "source": [
      "Hedonic Estimation"
     ]
    },
    {
     "cell_type": "code",
     "collapsed": false,
     "input": [
      "sim.run([\"rsh_estimate\"])"
     ],
     "language": "python",
     "metadata": {},
     "outputs": [
      {
       "output_type": "stream",
       "stream": "stdout",
       "text": [
        "Running model 'rsh_estimate'\n",
        "                               OLS Regression Results                               \n",
        "====================================================================================\n",
        "Dep. Variable:     np.log1p(sale_price_flt)   R-squared:                       0.545\n",
        "Model:                                  OLS   Adj. R-squared:                  0.545\n",
        "Method:                       Least Squares   F-statistic:                 2.287e+04\n",
        "Date:                      Mon, 06 Oct 2014   Prob (F-statistic):               0.00\n",
        "Time:                              16:53:49   Log-Likelihood:                -91490.\n",
        "No. Observations:                    190904   AIC:                         1.830e+05\n",
        "Df Residuals:                        190893   BIC:                         1.831e+05\n",
        "Df Model:                                10                                         \n",
        "================================================================================================\n",
        "                                   coef    std err          t      P>|t|      [95.0% Conf. Int.]\n",
        "------------------------------------------------------------------------------------------------\n",
        "Intercept                      -10.1497      0.048   -213.671      0.000       -10.243   -10.057\n",
        "I(year_built < 1940)[T.True]     0.1811      0.003     58.425      0.000         0.175     0.187\n",
        "I(year_built > 2005)[T.True]     0.1114      0.005     21.492      0.000         0.101     0.122\n",
        "np.log1p(sqft_per_unit)         -0.3893      0.003   -152.136      0.000        -0.394    -0.384\n",
        "np.log1p(lot_size_per_unit)      0.0948      0.001     76.035      0.000         0.092     0.097\n",
        "sum_residential_units            0.0934      0.002     53.931      0.000         0.090     0.097\n",
        "ave_lot_size_per_unit            0.0997      0.002     47.139      0.000         0.096     0.104\n",
        "ave_income                       1.2279      0.004    328.355      0.000         1.221     1.235\n",
        "autoPeakTotal                    0.2048      0.002    119.092      0.000         0.201     0.208\n",
        "transitPeakTotal                 0.0154      0.001     27.398      0.000         0.014     0.016\n",
        "nonMotorizedTotal               -0.0076      0.001    -12.160      0.000        -0.009    -0.006\n",
        "==============================================================================\n",
        "Omnibus:                    77455.242   Durbin-Watson:                   0.755\n",
        "Prob(Omnibus):                  0.000   Jarque-Bera (JB):          8990172.272\n",
        "Skew:                           0.967   Prob(JB):                         0.00\n",
        "Kurtosis:                      36.563   Cond. No.                     1.26e+03\n",
        "==============================================================================\n",
        "\n",
        "Warnings:\n",
        "[1] The condition number is large, 1.26e+03. This might indicate that there are\n",
        "strong multicollinearity or other numerical problems."
       ]
      },
      {
       "output_type": "stream",
       "stream": "stdout",
       "text": [
        "\n",
        "Time to execute model 'rsh_estimate': 2.76s\n",
        "Total time to execute: 2.76s\n"
       ]
      }
     ],
     "prompt_number": 4
    },
    {
     "cell_type": "code",
     "collapsed": false,
     "input": [
      "sim.run([\"nrh_estimate\"])"
     ],
     "language": "python",
     "metadata": {},
     "outputs": [
      {
       "output_type": "stream",
       "stream": "stdout",
       "text": [
        "Running model 'nrh_estimate'\n",
        "REGRESSION RESULTS FOR SEGMENT Retail\n"
       ]
      },
      {
       "output_type": "stream",
       "stream": "stdout",
       "text": [
        "\n",
        "                            OLS Regression Results                            \n",
        "==============================================================================\n",
        "Dep. Variable:         np.log1p(rent)   R-squared:                       0.169\n",
        "Model:                            OLS   Adj. R-squared:                  0.163\n",
        "Method:                 Least Squares   F-statistic:                     27.43\n",
        "Date:                Mon, 06 Oct 2014   Prob (F-statistic):           5.53e-39\n",
        "Time:                        16:53:50   Log-Likelihood:                -599.02\n",
        "No. Observations:                1086   AIC:                             1216.\n",
        "Df Residuals:                    1077   BIC:                             1261.\n",
        "Df Model:                           8                                         \n",
        "================================================================================================\n",
        "                                   coef    std err          t      P>|t|      [95.0% Conf. Int.]\n",
        "------------------------------------------------------------------------------------------------\n",
        "Intercept                       -0.6953      0.328     -2.120      0.034        -1.339    -0.052\n",
        "I(year_built < 1940)[T.True]     0.0089      0.028      0.322      0.748        -0.045     0.063\n",
        "I(year_built > 2005)[T.True]     0.3020      0.063      4.826      0.000         0.179     0.425\n",
        "np.log1p(stories)                0.0274      0.053      0.514      0.607        -0.077     0.132\n",
        "ave_income                       0.1059      0.020      5.348      0.000         0.067     0.145\n",
        "jobs                             0.1437      0.016      8.728      0.000         0.111     0.176\n",
        "autoPeakTotal                    0.1594      0.026      6.197      0.000         0.109     0.210\n",
        "transitPeakTotal                -0.0148      0.007     -1.990      0.047        -0.029    -0.000\n",
        "nonMotorizedTotal               -0.0505      0.014     -3.707      0.000        -0.077    -0.024\n",
        "==============================================================================\n",
        "Omnibus:                      150.158   Durbin-Watson:                   1.607\n",
        "Prob(Omnibus):                  0.000   Jarque-Bera (JB):              840.823\n",
        "Skew:                           0.492   Prob(JB):                    2.62e-183\n",
        "Kurtosis:                       7.197   Cond. No.                         529.\n",
        "==============================================================================\n",
        "REGRESSION RESULTS FOR SEGMENT Office\n",
        "\n",
        "                            OLS Regression Results                            \n",
        "==============================================================================\n",
        "Dep. Variable:         np.log1p(rent)   R-squared:                       0.125\n",
        "Model:                            OLS   Adj. R-squared:                  0.122\n",
        "Method:                 Least Squares   F-statistic:                     48.90\n",
        "Date:                Mon, 06 Oct 2014   Prob (F-statistic):           3.29e-74\n",
        "Time:                        16:53:50   Log-Likelihood:                -1202.9\n",
        "No. Observations:                2753   AIC:                             2424.\n",
        "Df Residuals:                    2744   BIC:                             2477.\n",
        "Df Model:                           8                                         \n",
        "================================================================================================\n",
        "                                   coef    std err          t      P>|t|      [95.0% Conf. Int.]\n",
        "------------------------------------------------------------------------------------------------\n",
        "Intercept                        1.3633      0.168      8.111      0.000         1.034     1.693\n",
        "I(year_built < 1940)[T.True]    -0.0282      0.019     -1.451      0.147        -0.066     0.010\n",
        "I(year_built > 2005)[T.True]     0.1858      0.047      3.944      0.000         0.093     0.278\n",
        "np.log1p(stories)                0.1626      0.017      9.493      0.000         0.129     0.196\n",
        "ave_income                       0.0400      0.004      9.010      0.000         0.031     0.049\n",
        "jobs                             0.0082      0.008      1.023      0.306        -0.008     0.024\n",
        "autoPeakTotal                    0.0927      0.015      6.374      0.000         0.064     0.121\n",
        "transitPeakTotal                -0.0032      0.004     -0.791      0.429        -0.011     0.005\n",
        "nonMotorizedTotal               -0.0059      0.006     -0.941      0.347        -0.018     0.006\n",
        "==============================================================================\n",
        "Omnibus:                      327.612   Durbin-Watson:                   1.271\n",
        "Prob(Omnibus):                  0.000   Jarque-Bera (JB):             2759.926\n",
        "Skew:                          -0.231   Prob(JB):                         0.00\n",
        "Kurtosis:                       7.883   Cond. No.                         487.\n",
        "=============================================================================="
       ]
      },
      {
       "output_type": "stream",
       "stream": "stdout",
       "text": [
        "\n",
        "REGRESSION RESULTS FOR SEGMENT Industrial\n",
        "\n",
        "                            OLS Regression Results                            \n",
        "==============================================================================\n",
        "Dep. Variable:         np.log1p(rent)   R-squared:                       0.070\n",
        "Model:                            OLS   Adj. R-squared:                  0.066\n",
        "Method:                 Least Squares   F-statistic:                     16.66\n",
        "Date:                Mon, 06 Oct 2014   Prob (F-statistic):           5.28e-24\n",
        "Time:                        16:53:51   Log-Likelihood:                -731.56\n",
        "No. Observations:                1771   AIC:                             1481.\n",
        "Df Residuals:                    1762   BIC:                             1530.\n",
        "Df Model:                           8                                         \n",
        "================================================================================================\n",
        "                                   coef    std err          t      P>|t|      [95.0% Conf. Int.]\n",
        "------------------------------------------------------------------------------------------------\n",
        "Intercept                        1.2691      0.206      6.165      0.000         0.865     1.673\n",
        "I(year_built < 1940)[T.True]     0.0884      0.026      3.390      0.001         0.037     0.139\n",
        "I(year_built > 2005)[T.True]     0.2713      0.068      3.979      0.000         0.138     0.405\n",
        "np.log1p(stories)                0.2954      0.059      5.008      0.000         0.180     0.411\n",
        "ave_income                       0.0116      0.004      2.648      0.008         0.003     0.020\n",
        "jobs                             0.0802      0.011      7.242      0.000         0.058     0.102\n",
        "autoPeakTotal                    0.0109      0.019      0.569      0.569        -0.027     0.048\n",
        "transitPeakTotal                -0.0028      0.004     -0.674      0.500        -0.011     0.005\n",
        "nonMotorizedTotal               -0.0106      0.006     -1.904      0.057        -0.021     0.000\n",
        "==============================================================================\n",
        "Omnibus:                      111.866   Durbin-Watson:                   1.475\n",
        "Prob(Omnibus):                  0.000   Jarque-Bera (JB):              489.249\n",
        "Skew:                          -0.025   Prob(JB):                    5.77e-107\n",
        "Kurtosis:                       5.574   Cond. No.                         467.\n",
        "==============================================================================\n",
        "Time to execute model 'nrh_estimate': 1.34s\n",
        "Total time to execute: 1.34s\n"
       ]
      }
     ],
     "prompt_number": 5
    },
    {
     "cell_type": "heading",
     "level": 2,
     "metadata": {},
     "source": [
      "Hedonic Simulation"
     ]
    },
    {
     "cell_type": "code",
     "collapsed": false,
     "input": [
      "sim.run([\"rsh_simulate\", \"nrh_simulate\"])"
     ],
     "language": "python",
     "metadata": {},
     "outputs": [
      {
       "output_type": "stream",
       "stream": "stdout",
       "text": [
        "Running model 'rsh_simulate'\n",
        "count    1917941.000000\n",
        "mean         303.725653\n",
        "std          155.908205\n",
        "min            0.000009\n",
        "25%          186.106654\n",
        "50%          281.635836\n",
        "75%          393.955336\n",
        "max         8396.817918\n",
        "dtype: float64"
       ]
      },
      {
       "output_type": "stream",
       "stream": "stdout",
       "text": [
        "\n",
        "Time to execute model 'rsh_simulate': 4.91s"
       ]
      },
      {
       "output_type": "stream",
       "stream": "stdout",
       "text": [
        "\n",
        "Running model 'nrh_simulate'\n",
        "count    116564.000000\n",
        "mean         17.325371\n",
        "std           5.934800\n",
        "min           1.984787\n",
        "25%          10.241802\n",
        "50%          19.074851\n",
        "75%          21.542794\n",
        "max          43.158583\n",
        "dtype: float64"
       ]
      },
      {
       "output_type": "stream",
       "stream": "stdout",
       "text": [
        "\n",
        "Time to execute model 'nrh_simulate': 2.90s"
       ]
      },
      {
       "output_type": "stream",
       "stream": "stdout",
       "text": [
        "\n",
        "Total time to execute: 7.81s\n"
       ]
      }
     ],
     "prompt_number": 6
    },
    {
     "cell_type": "heading",
     "level": 2,
     "metadata": {},
     "source": [
      "LCM Estimation"
     ]
    },
    {
     "cell_type": "code",
     "collapsed": false,
     "input": [
      "sim.run([\"hlcm_estimate\"])"
     ],
     "language": "python",
     "metadata": {},
     "outputs": [
      {
       "output_type": "stream",
       "stream": "stdout",
       "text": [
        "Running model 'hlcm_estimate'\n",
        "LCM RESULTS FOR SEGMENT 1\n"
       ]
      },
      {
       "output_type": "stream",
       "stream": "stdout",
       "text": [
        "\n",
        "Null Log-liklihood: -68681.508\n",
        "Log-liklihood at convergence: -60117.416\n",
        "Log-liklihood Ratio: 0.125\n",
        "\n",
        "+-----------------------------------+-------------+------------+---------+\n",
        "| Component                         | Coefficient | Std. Error | T-Score |\n",
        "+-----------------------------------+-------------+------------+---------+\n",
        "| np.log1p(residential_sales_price) |    -2.681   |   0.055    | -48.634 |\n",
        "| np.log1p(sqft_per_unit)           |    -1.742   |   0.022    | -78.100 |\n",
        "| sum_residential_units             |    -0.118   |   0.074    |  -1.589 |\n",
        "| ave_sqft_per_unit                 |    0.366    |   0.027    |  13.511 |\n",
        "| ave_lot_size_per_unit             |    0.514    |   0.019    |  27.179 |\n",
        "| ave_income                        |    3.000    |   0.046    |  64.729 |\n",
        "| ave_hhsize                        |    -2.502   |   0.125    | -20.096 |\n",
        "| jobs                              |    0.002    |   0.013    |  0.130  |\n",
        "| poor                              |    1.090    |   0.039    |  27.873 |\n",
        "| population                        |    -0.561   |   0.074    |  -7.563 |\n",
        "| autoPeakTotal                     |    0.613    |   0.020    |  30.658 |\n",
        "| transitPeakTotal                  |    0.070    |   0.006    |  11.994 |\n",
        "| nonMotorizedTotal                 |    -0.007   |   0.007    |  -0.941 |\n",
        "+-----------------------------------+-------------+------------+---------+\n",
        "LCM RESULTS FOR SEGMENT 2\n",
        "\n",
        "Null Log-liklihood: -68736.770\n",
        "Log-liklihood at convergence: -63651.763\n",
        "Log-liklihood Ratio: 0.074\n",
        "\n",
        "+-----------------------------------+-------------+------------+---------+\n",
        "| Component                         | Coefficient | Std. Error | T-Score |\n",
        "+-----------------------------------+-------------+------------+---------+\n",
        "| np.log1p(residential_sales_price) |    -2.839   |   0.055    | -51.264 |\n",
        "| np.log1p(sqft_per_unit)           |    -1.777   |   0.022    | -80.131 |\n",
        "| sum_residential_units             |    -0.164   |   0.070    |  -2.353 |\n",
        "| ave_sqft_per_unit                 |    0.305    |   0.028    |  11.042 |\n",
        "| ave_lot_size_per_unit             |    0.495    |   0.019    |  26.634 |\n",
        "| ave_income                        |    3.000    |   0.046    |  65.590 |\n",
        "| ave_hhsize                        |    -2.161   |   0.119    | -18.117 |\n",
        "| jobs                              |    -0.029   |   0.012    |  -2.362 |\n",
        "| poor                              |    0.273    |   0.037    |  7.333  |\n",
        "| population                        |    0.273    |   0.072    |  3.802  |\n",
        "| autoPeakTotal                     |    0.603    |   0.020    |  30.845 |\n",
        "| transitPeakTotal                  |    0.076    |   0.005    |  13.891 |\n",
        "| nonMotorizedTotal                 |    -0.005   |   0.007    |  -0.725 |\n",
        "+-----------------------------------+-------------+------------+---------+\n",
        "LCM RESULTS FOR SEGMENT 3\n",
        "\n",
        "Null Log-liklihood: -68764.401\n",
        "Log-liklihood at convergence: -66018.208\n",
        "Log-liklihood Ratio: 0.040\n",
        "\n",
        "+-----------------------------------+-------------+------------+---------+\n",
        "| Component                         | Coefficient | Std. Error | T-Score |\n",
        "+-----------------------------------+-------------+------------+---------+\n",
        "| np.log1p(residential_sales_price) |    -2.520   |   0.057    | -43.834 |\n",
        "| np.log1p(sqft_per_unit)           |    -1.570   |   0.023    | -67.789 |\n",
        "| sum_residential_units             |    0.005    |   0.073    |  0.062  |\n",
        "| ave_sqft_per_unit                 |    0.270    |   0.030    |  8.991  |\n",
        "| ave_lot_size_per_unit             |    0.449    |   0.018    |  24.506 |\n",
        "| ave_income                        |    2.493    |   0.048    |  51.872 |\n",
        "| ave_hhsize                        |    -1.448   |   0.124    | -11.646 |\n",
        "| jobs                              |    -0.036   |   0.013    |  -2.806 |\n",
        "| poor                              |    -0.384   |   0.036    | -10.750 |\n",
        "| population                        |    0.774    |   0.074    |  10.463 |\n",
        "| autoPeakTotal                     |    0.590    |   0.020    |  29.042 |\n",
        "| transitPeakTotal                  |    0.046    |   0.005    |  8.805  |\n",
        "| nonMotorizedTotal                 |    -0.002   |   0.007    |  -0.324 |\n",
        "+-----------------------------------+-------------+------------+---------+\n",
        "LCM RESULTS FOR SEGMENT 4\n",
        "\n",
        "Null Log-liklihood: -68755.191\n",
        "Log-liklihood at convergence: -65301.618\n",
        "Log-liklihood Ratio: 0.050\n",
        "\n",
        "+-----------------------------------+-------------+------------+---------+\n",
        "| Component                         | Coefficient | Std. Error | T-Score |\n",
        "+-----------------------------------+-------------+------------+---------+\n",
        "| np.log1p(residential_sales_price) |    -1.506   |   0.056    | -26.787 |\n",
        "| np.log1p(sqft_per_unit)           |    -1.199   |   0.023    | -52.844 |\n",
        "| sum_residential_units             |    -0.054   |   0.077    |  -0.699 |\n",
        "| ave_sqft_per_unit                 |    0.316    |   0.032    |  9.727  |\n",
        "| ave_lot_size_per_unit             |    0.318    |   0.018    |  17.490 |\n",
        "| ave_income                        |    2.849    |   0.048    |  59.899 |\n",
        "| ave_hhsize                        |    -1.855   |   0.131    | -14.165 |\n",
        "| jobs                              |    -0.011   |   0.013    |  -0.808 |\n",
        "| poor                              |    -0.356   |   0.034    | -10.439 |\n",
        "| population                        |    0.691    |   0.075    |  9.176  |\n",
        "| autoPeakTotal                     |    0.440    |   0.021    |  20.722 |\n",
        "| transitPeakTotal                  |    0.038    |   0.005    |  7.455  |\n",
        "| nonMotorizedTotal                 |    -0.019   |   0.006    |  -2.954 |\n",
        "+-----------------------------------+-------------+------------+---------+\n",
        "Time to execute model 'hlcm_estimate': 79.89s"
       ]
      },
      {
       "output_type": "stream",
       "stream": "stdout",
       "text": [
        "\n",
        "Total time to execute: 79.89s\n"
       ]
      }
     ],
     "prompt_number": 7
    },
    {
     "cell_type": "code",
     "collapsed": false,
     "input": [
      "sim.run([\"elcm_estimate\"])"
     ],
     "language": "python",
     "metadata": {},
     "outputs": [
      {
       "output_type": "stream",
       "stream": "stdout",
       "text": [
        "Running model 'elcm_estimate'\n",
        "LCM RESULTS FOR SEGMENT FPSEMPN\n"
       ]
      },
      {
       "output_type": "stream",
       "stream": "stdout",
       "text": [
        "\n",
        "Null Log-liklihood: -67392.061\n",
        "Log-liklihood at convergence: -43318.639\n",
        "Log-liklihood Ratio: 0.357\n",
        "\n",
        "+--------------------------------+-------------+------------+---------+\n",
        "| Component                      | Coefficient | Std. Error | T-Score |\n",
        "+--------------------------------+-------------+------------+---------+\n",
        "| np.log1p(non_residential_rent) |    0.713    |   0.007    | 104.531 |\n",
        "| np.log1p(stories)              |    0.992    |   0.025    |  40.308 |\n",
        "| sum_residential_units          |    -0.693   |   0.027    | -25.784 |\n",
        "| ave_sqft_per_unit              |    -0.148   |   0.021    |  -7.036 |\n",
        "| ave_lot_size_per_unit          |    -0.028   |   0.011    |  -2.471 |\n",
        "| ave_income                     |    0.288    |   0.017    |  16.580 |\n",
        "| ave_hhsize                     |    -1.095   |   0.084    | -13.081 |\n",
        "| jobs                           |    0.746    |   0.010    |  74.149 |\n",
        "| poor                           |    0.043    |   0.019    |  2.257  |\n",
        "| autoPeakTotal                  |    0.164    |   0.011    |  15.552 |\n",
        "| transitPeakTotal               |    -0.039   |   0.005    |  -8.009 |\n",
        "| nonMotorizedTotal              |    -0.011   |   0.007    |  -1.647 |\n",
        "+--------------------------------+-------------+------------+---------+\n",
        "LCM RESULTS FOR SEGMENT OTHEMPN\n",
        "\n",
        "Null Log-liklihood: -64573.696\n",
        "Log-liklihood at convergence: -41578.242\n",
        "Log-liklihood Ratio: 0.356\n",
        "\n",
        "+--------------------------------+-------------+------------+---------+\n",
        "| Component                      | Coefficient | Std. Error | T-Score |\n",
        "+--------------------------------+-------------+------------+---------+\n",
        "| np.log1p(non_residential_rent) |    0.757    |   0.007    | 111.604 |\n",
        "| np.log1p(stories)              |    0.421    |   0.027    |  15.787 |\n",
        "| sum_residential_units          |    -1.092   |   0.024    | -44.692 |\n",
        "| ave_sqft_per_unit              |    -0.143   |   0.020    |  -7.085 |\n",
        "| ave_lot_size_per_unit          |    0.053    |   0.011    |  4.759  |\n",
        "| ave_income                     |    0.149    |   0.017    |  8.699  |\n",
        "| ave_hhsize                     |    -0.860   |   0.082    | -10.488 |\n",
        "| jobs                           |    0.888    |   0.011    |  83.592 |\n",
        "| poor                           |    0.370    |   0.017    |  21.499 |\n",
        "| autoPeakTotal                  |    0.185    |   0.010    |  18.264 |\n",
        "| transitPeakTotal               |    -0.008   |   0.005    |  -1.681 |\n",
        "| nonMotorizedTotal              |    -0.018   |   0.006    |  -2.808 |\n",
        "+--------------------------------+-------------+------------+---------+\n",
        "LCM RESULTS FOR SEGMENT AGREMPN\n",
        "\n",
        "Null Log-liklihood: -66254.583\n",
        "Log-liklihood at convergence: -41734.056\n",
        "Log-liklihood Ratio: 0.370\n",
        "\n",
        "+--------------------------------+-------------+------------+---------+\n",
        "| Component                      | Coefficient | Std. Error | T-Score |\n",
        "+--------------------------------+-------------+------------+---------+\n",
        "| np.log1p(non_residential_rent) |    0.634    |   0.008    |  82.953 |\n",
        "| np.log1p(stories)              |    0.768    |   0.036    |  21.182 |\n",
        "| sum_residential_units          |    -1.618   |   0.027    | -59.459 |\n",
        "| ave_sqft_per_unit              |    -0.064   |   0.018    |  -3.556 |\n",
        "| ave_lot_size_per_unit          |    0.359    |   0.008    |  44.538 |\n",
        "| ave_income                     |    1.039    |   0.022    |  46.992 |\n",
        "| ave_hhsize                     |    -1.513   |   0.088    | -17.118 |\n",
        "| jobs                           |    0.773    |   0.009    |  83.731 |\n",
        "| poor                           |    0.753    |   0.020    |  37.749 |\n",
        "| autoPeakTotal                  |    -0.313   |   0.012    | -25.476 |\n",
        "| transitPeakTotal               |    -0.039   |   0.006    |  -6.561 |\n",
        "| nonMotorizedTotal              |    -0.119   |   0.004    | -29.573 |\n",
        "+--------------------------------+-------------+------------+---------+\n",
        "LCM RESULTS FOR SEGMENT HEREMPN\n",
        "\n",
        "Null Log-liklihood: -66319.056\n",
        "Log-liklihood at convergence: -46417.619\n",
        "Log-liklihood Ratio: 0.300\n",
        "\n",
        "+--------------------------------+-------------+------------+---------+\n",
        "| Component                      | Coefficient | Std. Error | T-Score |\n",
        "+--------------------------------+-------------+------------+---------+\n",
        "| np.log1p(non_residential_rent) |    0.801    |   0.006    | 132.321 |\n",
        "| np.log1p(stories)              |    0.697    |   0.024    |  28.473 |\n",
        "| sum_residential_units          |    -0.839   |   0.029    | -28.579 |\n",
        "| ave_sqft_per_unit              |    -0.191   |   0.022    |  -8.855 |\n",
        "| ave_lot_size_per_unit          |    0.080    |   0.013    |  6.284  |\n",
        "| ave_income                     |    0.299    |   0.021    |  14.408 |\n",
        "| ave_hhsize                     |    -1.027   |   0.084    | -12.160 |\n",
        "| jobs                           |    0.748    |   0.011    |  67.054 |\n",
        "| poor                           |    0.394    |   0.020    |  19.288 |\n",
        "| autoPeakTotal                  |    -0.022   |   0.013    |  -1.680 |\n",
        "| transitPeakTotal               |    0.009    |   0.005    |  1.845  |\n",
        "| nonMotorizedTotal              |    -0.043   |   0.007    |  -6.184 |\n",
        "+--------------------------------+-------------+------------+---------+\n",
        "LCM RESULTS FOR SEGMENT RETEMPN\n",
        "\n",
        "Null Log-liklihood: -67553.241\n",
        "Log-liklihood at convergence: -42812.680\n",
        "Log-liklihood Ratio: 0.366\n",
        "\n",
        "+--------------------------------+-------------+------------+---------+\n",
        "| Component                      | Coefficient | Std. Error | T-Score |\n",
        "+--------------------------------+-------------+------------+---------+\n",
        "| np.log1p(non_residential_rent) |    0.993    |   0.007    | 151.316 |\n",
        "| np.log1p(stories)              |    0.009    |   0.030    |  0.293  |\n",
        "| sum_residential_units          |    -0.937   |   0.027    | -34.913 |\n",
        "| ave_sqft_per_unit              |    0.014    |   0.020    |  0.709  |\n",
        "| ave_lot_size_per_unit          |    -0.133   |   0.013    | -10.145 |\n",
        "| ave_income                     |    0.163    |   0.019    |  8.693  |\n",
        "| ave_hhsize                     |    0.020    |   0.082    |  0.239  |\n",
        "| jobs                           |    0.742    |   0.011    |  65.051 |\n",
        "| poor                           |    0.326    |   0.019    |  17.247 |\n",
        "| autoPeakTotal                  |    -0.148   |   0.012    | -12.646 |\n",
        "| transitPeakTotal               |    0.020    |   0.005    |  4.028  |\n",
        "| nonMotorizedTotal              |    -0.006   |   0.007    |  -0.881 |\n",
        "+--------------------------------+-------------+------------+---------+\n",
        "LCM RESULTS FOR SEGMENT MWTEMPN\n",
        "\n",
        "Null Log-liklihood: -66807.204\n",
        "Log-liklihood at convergence: -30148.025\n",
        "Log-liklihood Ratio: 0.549\n",
        "\n",
        "+--------------------------------+-------------+------------+---------+\n",
        "| Component                      | Coefficient | Std. Error | T-Score |\n",
        "+--------------------------------+-------------+------------+---------+\n",
        "| np.log1p(non_residential_rent) |    0.833    |   0.009    |  93.992 |\n",
        "| np.log1p(stories)              |    0.283    |   0.032    |  8.821  |\n",
        "| sum_residential_units          |    -1.494   |   0.024    | -63.471 |\n",
        "| ave_sqft_per_unit              |    -0.042   |   0.018    |  -2.362 |\n",
        "| ave_lot_size_per_unit          |    -0.038   |   0.010    |  -3.893 |\n",
        "| ave_income                     |    -0.020   |   0.015    |  -1.329 |\n",
        "| ave_hhsize                     |    0.736    |   0.077    |  9.527  |\n",
        "| jobs                           |    1.094    |   0.012    |  90.589 |\n",
        "| poor                           |    0.342    |   0.016    |  21.094 |\n",
        "| autoPeakTotal                  |    0.347    |   0.010    |  35.893 |\n",
        "| transitPeakTotal               |    -0.043   |   0.005    |  -9.236 |\n",
        "| nonMotorizedTotal              |    -0.015   |   0.007    |  -2.305 |\n",
        "+--------------------------------+-------------+------------+---------+\n",
        "Time to execute model 'elcm_estimate': 130.08s"
       ]
      },
      {
       "output_type": "stream",
       "stream": "stdout",
       "text": [
        "\n",
        "Total time to execute: 130.08s\n"
       ]
      }
     ],
     "prompt_number": 9
    },
    {
     "cell_type": "code",
     "collapsed": false,
     "input": [],
     "language": "python",
     "metadata": {},
     "outputs": [],
     "prompt_number": 8
    }
   ],
   "metadata": {}
  }
 ]
}