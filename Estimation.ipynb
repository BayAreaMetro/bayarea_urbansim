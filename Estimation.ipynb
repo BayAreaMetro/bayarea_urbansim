{
 "metadata": {
  "name": "",
  "signature": "sha256:fb642a40bade64c7410f8aecb970329be6bf5be0c167fe2765c241a1ab1a0d45"
 },
 "nbformat": 3,
 "nbformat_minor": 0,
 "worksheets": [
  {
   "cells": [
    {
     "cell_type": "code",
     "collapsed": false,
     "input": [
      "%load_ext autoreload\n",
      "%autoreload 2\n",
      "import models\n",
      "import dataset"
     ],
     "language": "python",
     "metadata": {},
     "outputs": [],
     "prompt_number": 1
    },
    {
     "cell_type": "code",
     "collapsed": false,
     "input": [
      "dset = dataset.BayAreaDataset(\"data/bayarea.h5\")\n",
      "dset.debug = True"
     ],
     "language": "python",
     "metadata": {},
     "outputs": [],
     "prompt_number": 2
    },
    {
     "cell_type": "code",
     "collapsed": false,
     "input": [
      "models.build_networks(dset)"
     ],
     "language": "python",
     "metadata": {},
     "outputs": [],
     "prompt_number": 3
    },
    {
     "cell_type": "code",
     "collapsed": false,
     "input": [
      "models.neighborhood_vars(dset)"
     ],
     "language": "python",
     "metadata": {},
     "outputs": [
      {
       "output_type": "stream",
       "stream": "stdout",
       "text": [
        "Computing accessibility variables\n",
        "Computing sum_residential_units\n",
        "    Fields available to accvar = residential_units, _node_id0\n",
        "Fetching buildings\n",
        "Returning primary attribute: year_built of buildings"
       ]
      },
      {
       "output_type": "stream",
       "stream": "stdout",
       "text": [
        "\n",
        "Computing: unit_lot_size of buildings as\n",
        "    buildings.lot_size / buildings.residential_units\n",
        "Computing: lot_size of buildings as\n",
        "    reindex(parcels.shape_area, buildings.parcel_id) * 10.764\n",
        "Fetching parcels\n",
        "Returning primary attribute: shape_area of parcels"
       ]
      },
      {
       "output_type": "stream",
       "stream": "stdout",
       "text": [
        "\n",
        "Returning primary attribute: parcel_id of buildings\n",
        "Returning primary attribute: residential_units of buildings"
       ]
      },
      {
       "output_type": "stream",
       "stream": "stdout",
       "text": [
        "\n",
        "Computing: unit_sqft of buildings as\n",
        "    buildings.building_sqft / buildings.residential_units\n",
        "Returning primary attribute: building_sqft of buildings\n",
        "Returning primary attribute: residential_units of buildings\n",
        "Returning primary attribute: building_type_id of buildings\n",
        "Returning primary attribute: stories of buildings"
       ]
      },
      {
       "output_type": "stream",
       "stream": "stdout",
       "text": [
        "\n",
        "Returning primary attribute: residential_units of buildings\n",
        "Fetching building_sqft_per_job\n",
        "Returning primary attribute: building_type_id of buildings\n",
        "Returning primary attribute: non_residential_sqft of buildings"
       ]
      },
      {
       "output_type": "stream",
       "stream": "stdout",
       "text": [
        "\n",
        "Returning primary attribute: building_type_id of buildings\n",
        "Returning primary attribute: residential_sales_price of buildings\n",
        "Returning primary attribute: residential_rent of buildings\n",
        "Returning primary attribute: non_residential_rent of buildings\n",
        "Computing: _node_id of buildings as\n",
        "    reindex(parcels._node_id, buildings.parcel_id)\n",
        "Returning primary attribute: _node_id of parcels\n",
        "Returning primary attribute: parcel_id of buildings\n",
        "Computing: _node_id0 of buildings as"
       ]
      },
      {
       "output_type": "stream",
       "stream": "stdout",
       "text": [
        "\n",
        "    reindex(parcels._node_id0, buildings.parcel_id)\n",
        "Returning primary attribute: _node_id0 of parcels\n",
        "Returning primary attribute: parcel_id of buildings\n",
        "Computing: zone_id of buildings as"
       ]
      },
      {
       "output_type": "stream",
       "stream": "stdout",
       "text": [
        "\n",
        "    reindex(parcels.zone_id, buildings.parcel_id)\n",
        "Returning primary attribute: zone_id of parcels\n",
        "Returning primary attribute: parcel_id of buildings\n",
        "Returning from cache: lot_size of buildings"
       ]
      },
      {
       "output_type": "stream",
       "stream": "stdout",
       "text": [
        "\n",
        "    dataframe = buildings, varname=residential_units"
       ]
      },
      {
       "output_type": "stream",
       "stream": "stdout",
       "text": [
        "\n",
        "    radius = 500, aggregation = AGG_SUM, decay = DECAY_LINEAR\n",
        "Computing sum_nonresidential_units"
       ]
      },
      {
       "output_type": "stream",
       "stream": "stdout",
       "text": [
        "\n",
        "    Fields available to accvar = non_residential_units, _node_id0\n",
        "Returning primary attribute: year_built of buildings\n",
        "Returning from cache: unit_lot_size of buildings\n",
        "Returning from cache: unit_sqft of buildings\n",
        "Returning primary attribute: building_type_id of buildings\n",
        "Returning primary attribute: stories of buildings"
       ]
      },
      {
       "output_type": "stream",
       "stream": "stdout",
       "text": [
        "\n",
        "Returning primary attribute: residential_units of buildings\n",
        "Returning primary attribute: building_type_id of buildings\n",
        "Returning primary attribute: non_residential_sqft of buildings"
       ]
      },
      {
       "output_type": "stream",
       "stream": "stdout",
       "text": [
        "\n",
        "Returning primary attribute: building_type_id of buildings\n",
        "Returning primary attribute: residential_sales_price of buildings\n",
        "Returning primary attribute: residential_rent of buildings\n",
        "Returning primary attribute: non_residential_rent of buildings\n",
        "Returning from cache: _node_id of buildings\n",
        "Returning from cache: _node_id0 of buildings\n",
        "Returning from cache: zone_id of buildings\n",
        "Returning from cache: lot_size of buildings\n",
        "    dataframe = buildings, varname=non_residential_units"
       ]
      },
      {
       "output_type": "stream",
       "stream": "stdout",
       "text": [
        "\n",
        "    radius = 500, aggregation = AGG_SUM, decay = DECAY_LINEAR\n",
        "Computing ave_unit_sqft"
       ]
      },
      {
       "output_type": "stream",
       "stream": "stdout",
       "text": [
        "\n",
        "    Fields available to accvar = unit_sqft, _node_id0\n",
        "Returning primary attribute: year_built of buildings\n",
        "Returning from cache: unit_lot_size of buildings\n",
        "Returning from cache: unit_sqft of buildings\n",
        "Returning primary attribute: building_type_id of buildings\n",
        "Returning primary attribute: stories of buildings"
       ]
      },
      {
       "output_type": "stream",
       "stream": "stdout",
       "text": [
        "\n",
        "Returning primary attribute: residential_units of buildings\n",
        "Returning primary attribute: building_type_id of buildings\n",
        "Returning primary attribute: non_residential_sqft of buildings"
       ]
      },
      {
       "output_type": "stream",
       "stream": "stdout",
       "text": [
        "\n",
        "Returning primary attribute: building_type_id of buildings\n",
        "Returning primary attribute: residential_sales_price of buildings\n",
        "Returning primary attribute: residential_rent of buildings\n",
        "Returning primary attribute: non_residential_rent of buildings\n",
        "Returning from cache: _node_id of buildings\n",
        "Returning from cache: _node_id0 of buildings\n",
        "Returning from cache: zone_id of buildings\n",
        "Returning from cache: lot_size of buildings\n",
        "    dataframe = buildings, varname=unit_sqft"
       ]
      },
      {
       "output_type": "stream",
       "stream": "stdout",
       "text": [
        "\n",
        "    radius = 500, aggregation = AGG_AVE, decay = DECAY_FLAT\n",
        "Computing ave_lot_sqft"
       ]
      },
      {
       "output_type": "stream",
       "stream": "stdout",
       "text": [
        "\n",
        "    Fields available to accvar = unit_lot_size, _node_id0\n",
        "Returning primary attribute: year_built of buildings\n",
        "Returning from cache: unit_lot_size of buildings\n",
        "Returning from cache: unit_sqft of buildings\n",
        "Returning primary attribute: building_type_id of buildings\n",
        "Returning primary attribute: stories of buildings"
       ]
      },
      {
       "output_type": "stream",
       "stream": "stdout",
       "text": [
        "\n",
        "Returning primary attribute: residential_units of buildings\n",
        "Returning primary attribute: building_type_id of buildings\n",
        "Returning primary attribute: non_residential_sqft of buildings"
       ]
      },
      {
       "output_type": "stream",
       "stream": "stdout",
       "text": [
        "\n",
        "Returning primary attribute: building_type_id of buildings\n",
        "Returning primary attribute: residential_sales_price of buildings\n",
        "Returning primary attribute: residential_rent of buildings\n",
        "Returning primary attribute: non_residential_rent of buildings\n",
        "Returning from cache: _node_id of buildings\n",
        "Returning from cache: _node_id0 of buildings\n",
        "Returning from cache: zone_id of buildings\n",
        "Returning from cache: lot_size of buildings\n",
        "    dataframe = buildings, varname=unit_lot_size"
       ]
      },
      {
       "output_type": "stream",
       "stream": "stdout",
       "text": [
        "\n",
        "    radius = 500, aggregation = AGG_AVE, decay = DECAY_FLAT\n",
        "Computing population"
       ]
      },
      {
       "output_type": "stream",
       "stream": "stdout",
       "text": [
        "\n",
        "    Fields available to accvar = persons, _node_id0\n",
        "Fetching households\n",
        "Returning primary attribute: income of households"
       ]
      },
      {
       "output_type": "stream",
       "stream": "stdout",
       "text": [
        "\n",
        "Returning primary attribute: building_id of households"
       ]
      },
      {
       "output_type": "stream",
       "stream": "stdout",
       "text": [
        "\n",
        "Returning primary attribute: tenure of households\n",
        "Returning primary attribute: persons of households\n",
        "Computing: _node_id of households as\n",
        "    reindex(buildings._node_id, households.building_id)\n",
        "Returning from cache: _node_id of buildings\n",
        "Returning primary attribute: building_id of households\n",
        "Computing: _node_id0 of households as"
       ]
      },
      {
       "output_type": "stream",
       "stream": "stdout",
       "text": [
        "\n",
        "    reindex(buildings._node_id0, households.building_id)\n",
        "Returning from cache: _node_id0 of buildings\n",
        "Returning primary attribute: building_id of households\n",
        "    dataframe = households, varname=persons"
       ]
      },
      {
       "output_type": "stream",
       "stream": "stdout",
       "text": [
        "\n",
        "    radius = 500, aggregation = AGG_SUM, decay = DECAY_LINEAR\n",
        "Computing poor"
       ]
      },
      {
       "output_type": "stream",
       "stream": "stdout",
       "text": [
        "\n",
        "    Fields available to accvar = persons, income, _node_id0\n",
        "Returning primary attribute: income of households\n",
        "Returning primary attribute: building_id of households"
       ]
      },
      {
       "output_type": "stream",
       "stream": "stdout",
       "text": [
        "\n",
        "Returning primary attribute: tenure of households\n",
        "Returning primary attribute: persons of households\n",
        "Returning from cache: _node_id of households\n",
        "Returning from cache: _node_id0 of households\n",
        "    Filters = ['income < 40000']"
       ]
      },
      {
       "output_type": "stream",
       "stream": "stdout",
       "text": [
        "\n",
        "    dataframe = households, varname=persons\n",
        "    radius = 500, aggregation = AGG_SUM, decay = DECAY_LINEAR\n",
        "Computing renters"
       ]
      },
      {
       "output_type": "stream",
       "stream": "stdout",
       "text": [
        "\n",
        "    Fields available to accvar = tenure, _node_id0\n",
        "Returning primary attribute: income of households\n",
        "Returning primary attribute: building_id of households"
       ]
      },
      {
       "output_type": "stream",
       "stream": "stdout",
       "text": [
        "\n",
        "Returning primary attribute: tenure of households\n",
        "Returning primary attribute: persons of households\n",
        "Returning from cache: _node_id of households\n",
        "Returning from cache: _node_id0 of households\n",
        "    Filters = ['tenure == 2']"
       ]
      },
      {
       "output_type": "stream",
       "stream": "stdout",
       "text": [
        "\n",
        "    dataframe = households, varname=None\n",
        "    radius = 500, aggregation = AGG_SUM, decay = DECAY_LINEAR\n",
        "Computing sfdu"
       ]
      },
      {
       "output_type": "stream",
       "stream": "stdout",
       "text": [
        "\n",
        "    Fields available to accvar = building_type_id, _node_id0\n",
        "Returning primary attribute: year_built of buildings\n",
        "Returning from cache: unit_lot_size of buildings\n",
        "Returning from cache: unit_sqft of buildings\n",
        "Returning primary attribute: building_type_id of buildings\n",
        "Returning primary attribute: stories of buildings"
       ]
      },
      {
       "output_type": "stream",
       "stream": "stdout",
       "text": [
        "\n",
        "Returning primary attribute: residential_units of buildings\n",
        "Returning primary attribute: building_type_id of buildings\n",
        "Returning primary attribute: non_residential_sqft of buildings"
       ]
      },
      {
       "output_type": "stream",
       "stream": "stdout",
       "text": [
        "\n",
        "Returning primary attribute: building_type_id of buildings\n",
        "Returning primary attribute: residential_sales_price of buildings\n",
        "Returning primary attribute: residential_rent of buildings\n",
        "Returning primary attribute: non_residential_rent of buildings\n",
        "Returning from cache: _node_id of buildings\n",
        "Returning from cache: _node_id0 of buildings\n",
        "Returning from cache: zone_id of buildings\n",
        "Returning from cache: lot_size of buildings\n",
        "    Filters = ['building_type_id == 1']"
       ]
      },
      {
       "output_type": "stream",
       "stream": "stdout",
       "text": [
        "\n",
        "    dataframe = buildings, varname=None\n",
        "    radius = 500, aggregation = AGG_SUM, decay = DECAY_LINEAR\n",
        "Computing hhsize"
       ]
      },
      {
       "output_type": "stream",
       "stream": "stdout",
       "text": [
        "\n",
        "    Fields available to accvar = persons, _node_id0\n",
        "Returning primary attribute: income of households\n",
        "Returning primary attribute: building_id of households"
       ]
      },
      {
       "output_type": "stream",
       "stream": "stdout",
       "text": [
        "\n",
        "Returning primary attribute: tenure of households\n",
        "Returning primary attribute: persons of households\n",
        "Returning from cache: _node_id of households\n",
        "Returning from cache: _node_id0 of households\n",
        "    dataframe = households, varname=persons"
       ]
      },
      {
       "output_type": "stream",
       "stream": "stdout",
       "text": [
        "\n",
        "    radius = 500, aggregation = AGG_AVE, decay = DECAY_FLAT\n",
        "Computing jobs"
       ]
      },
      {
       "output_type": "stream",
       "stream": "stdout",
       "text": [
        "\n",
        "    Fields available to accvar = _node_id0\n",
        "Fetching jobs\n",
        "Returning primary attribute: building_id of jobs"
       ]
      },
      {
       "output_type": "stream",
       "stream": "stdout",
       "text": [
        "\n",
        "Computing: _node_id0 of jobs as\n",
        "    reindex(buildings._node_id0, jobs.building_id)\n",
        "Returning from cache: _node_id0 of buildings\n",
        "Returning primary attribute: building_id of jobs\n",
        "Computing: _node_id of jobs as"
       ]
      },
      {
       "output_type": "stream",
       "stream": "stdout",
       "text": [
        "\n",
        "    reindex(buildings._node_id, jobs.building_id)\n",
        "Returning from cache: _node_id of buildings\n",
        "Returning primary attribute: building_id of jobs\n",
        "Computing: naics of jobs as"
       ]
      },
      {
       "output_type": "stream",
       "stream": "stdout",
       "text": [
        "\n",
        "    jobs.naics11cat\n",
        "Returning primary attribute: naics11cat of jobs\n",
        "    dataframe = jobs, varname=None\n",
        "    radius = 500, aggregation = AGG_SUM, decay = DECAY_LINEAR\n",
        "Computing ave_income"
       ]
      },
      {
       "output_type": "stream",
       "stream": "stdout",
       "text": [
        "\n",
        "    Fields available to accvar = income, _node_id0\n",
        "Returning primary attribute: income of households\n",
        "Returning primary attribute: building_id of households"
       ]
      },
      {
       "output_type": "stream",
       "stream": "stdout",
       "text": [
        "\n",
        "Returning primary attribute: tenure of households\n",
        "Returning primary attribute: persons of households\n",
        "Returning from cache: _node_id of households\n",
        "Returning from cache: _node_id0 of households\n",
        "    dataframe = households, varname=income"
       ]
      },
      {
       "output_type": "stream",
       "stream": "stdout",
       "text": [
        "\n",
        "    radius = 500, aggregation = AGG_AVE, decay = DECAY_FLAT\n",
        "Done"
       ]
      },
      {
       "output_type": "stream",
       "stream": "stdout",
       "text": [
        "\n"
       ]
      }
     ],
     "prompt_number": 4
    },
    {
     "cell_type": "code",
     "collapsed": false,
     "input": [
      "rsh_debug = models.rsh_estimate(dset)"
     ],
     "language": "python",
     "metadata": {},
     "outputs": [
      {
       "output_type": "stream",
       "stream": "stdout",
       "text": [
        "Fetching homesales\n",
        "Returning primary attribute: _node_id of homesales"
       ]
      },
      {
       "output_type": "stream",
       "stream": "stdout",
       "text": [
        "\n",
        "Running hedonic estimation\n"
       ]
      },
      {
       "output_type": "stream",
       "stream": "stdout",
       "text": [
        "\n",
        "                               OLS Regression Results                               \n",
        "====================================================================================\n",
        "Dep. Variable:     np.log1p(sale_price_flt)   R-squared:                       0.169\n",
        "Model:                                  OLS   Adj. R-squared:                  0.169\n",
        "Method:                       Least Squares   F-statistic:                     4395.\n",
        "Date:                      Fri, 13 Jun 2014   Prob (F-statistic):               0.00\n",
        "Time:                              11:23:01   Log-Likelihood:            -1.4944e+05\n",
        "No. Observations:                    194138   AIC:                         2.989e+05\n",
        "Df Residuals:                        194128   BIC:                         2.990e+05\n",
        "Df Model:                                 9                                         \n",
        "================================================================================================\n",
        "                                   coef    std err          t      P>|t|      [95.0% Conf. Int.]\n",
        "------------------------------------------------------------------------------------------------\n",
        "Intercept                        5.8992      0.034    171.483      0.000         5.832     5.967\n",
        "I(year_built < 1940)[T.True]     0.1622      0.004     40.885      0.000         0.154     0.170\n",
        "I(year_built > 2005)[T.True]     0.1105      0.007     16.378      0.000         0.097     0.124\n",
        "np.log1p(unit_sqft)             -0.2199      0.003    -66.725      0.000        -0.226    -0.213\n",
        "np.log1p(unit_lot_size)          0.1153      0.002     72.201      0.000         0.112     0.118\n",
        "sum_residential_units           -0.2141      0.002    -95.082      0.000        -0.219    -0.210\n",
        "ave_unit_sqft                   -0.0649      0.003    -22.750      0.000        -0.071    -0.059\n",
        "ave_lot_sqft                    -0.1582      0.002    -93.081      0.000        -0.161    -0.155\n",
        "ave_income                       0.2288      0.002    140.810      0.000         0.226     0.232\n",
        "jobs                             0.1609      0.001    114.114      0.000         0.158     0.164\n",
        "==============================================================================\n",
        "Omnibus:                     1016.983   Durbin-Watson:                   0.608\n",
        "Prob(Omnibus):                  0.000   Jarque-Bera (JB):             1479.848\n",
        "Skew:                          -0.008   Prob(JB):                         0.00\n",
        "Kurtosis:                       3.427   Cond. No.                         608.\n",
        "=============================================================================="
       ]
      },
      {
       "output_type": "stream",
       "stream": "stdout",
       "text": [
        "\n"
       ]
      }
     ],
     "prompt_number": 5
    },
    {
     "cell_type": "code",
     "collapsed": false,
     "input": [
      "rrh_debug = models.rrh_estimate(dset)"
     ],
     "language": "python",
     "metadata": {},
     "outputs": [
      {
       "output_type": "stream",
       "stream": "stdout",
       "text": [
        "Fetching apartments\n",
        "Computing: _node_id of apartments as\n",
        "    reindex(parcels._node_id, apartments.parcel_id)\n",
        "Returning primary attribute: _node_id of parcels\n",
        "Returning primary attribute: parcel_id of apartments\n",
        "Running hedonic estimation\n"
       ]
      },
      {
       "output_type": "stream",
       "stream": "stdout",
       "text": [
        "\n",
        "                            OLS Regression Results                            \n",
        "==============================================================================\n",
        "Dep. Variable:         np.log1p(rent)   R-squared:                       0.250\n",
        "Model:                            OLS   Adj. R-squared:                  0.249\n",
        "Method:                 Least Squares   F-statistic:                     285.9\n",
        "Date:                Fri, 13 Jun 2014   Prob (F-statistic):          1.21e-264\n",
        "Time:                        11:23:02   Log-Likelihood:                 2127.6\n",
        "No. Observations:                4298   AIC:                            -4243.\n",
        "Df Residuals:                    4292   BIC:                            -4205.\n",
        "Df Model:                           5                                         \n",
        "=========================================================================================\n",
        "                            coef    std err          t      P>|t|      [95.0% Conf. Int.]\n",
        "-----------------------------------------------------------------------------------------\n",
        "Intercept                 2.0664      0.060     34.556      0.000         1.949     2.184\n",
        "np.log1p(unit_sqft)      -0.1995      0.008    -25.842      0.000        -0.215    -0.184\n",
        "sum_residential_units     0.0130      0.003      4.357      0.000         0.007     0.019\n",
        "ave_unit_sqft             0.0417      0.004     10.698      0.000         0.034     0.049\n",
        "ave_lot_sqft             -0.0207      0.003     -5.955      0.000        -0.027    -0.014\n",
        "jobs                      0.0216      0.002     12.981      0.000         0.018     0.025\n",
        "==============================================================================\n",
        "Omnibus:                      168.729   Durbin-Watson:                   0.516\n",
        "Prob(Omnibus):                  0.000   Jarque-Bera (JB):              202.515\n",
        "Skew:                           0.447   Prob(JB):                     1.06e-44\n",
        "Kurtosis:                       3.575   Cond. No.                         424.\n",
        "==============================================================================\n"
       ]
      }
     ],
     "prompt_number": 6
    },
    {
     "cell_type": "code",
     "collapsed": false,
     "input": [
      "nrh_debug = models.nrh_estimate(dset)"
     ],
     "language": "python",
     "metadata": {},
     "outputs": [
      {
       "output_type": "stream",
       "stream": "stdout",
       "text": [
        "Fetching costar\n",
        "Returning primary attribute: _node_id of costar"
       ]
      },
      {
       "output_type": "stream",
       "stream": "stdout",
       "text": [
        "\n",
        "Returning primary attribute: year_built of costar\n",
        "Running hedonic estimation\n"
       ]
      },
      {
       "output_type": "stream",
       "stream": "stdout",
       "text": [
        "\n",
        "REGRESSION RESULTS FOR SEGMENT Retail\n"
       ]
      },
      {
       "output_type": "stream",
       "stream": "stdout",
       "text": [
        "\n",
        "                            OLS Regression Results                            \n",
        "==============================================================================\n",
        "Dep. Variable:         np.log1p(rent)   R-squared:                       0.106\n",
        "Model:                            OLS   Adj. R-squared:                  0.102\n",
        "Method:                 Least Squares   F-statistic:                     26.23\n",
        "Date:                Fri, 13 Jun 2014   Prob (F-statistic):           4.18e-25\n",
        "Time:                        11:23:02   Log-Likelihood:                -653.64\n",
        "No. Observations:                1115   AIC:                             1319.\n",
        "Df Residuals:                    1109   BIC:                             1349.\n",
        "Df Model:                           5                                         \n",
        "================================================================================================\n",
        "                                   coef    std err          t      P>|t|      [95.0% Conf. Int.]\n",
        "------------------------------------------------------------------------------------------------\n",
        "Intercept                        2.1891      0.113     19.456      0.000         1.968     2.410\n",
        "I(year_built < 1940)[T.True]    -0.0050      0.027     -0.183      0.855        -0.059     0.049\n",
        "I(year_built > 2005)[T.True]     0.2845      0.063      4.531      0.000         0.161     0.408\n",
        "np.log1p(stories)                0.0424      0.055      0.775      0.439        -0.065     0.150\n",
        "ave_income                       0.0176      0.008      2.165      0.031         0.002     0.034\n",
        "jobs                             0.1065      0.011      9.633      0.000         0.085     0.128\n",
        "==============================================================================\n",
        "Omnibus:                      104.369   Durbin-Watson:                   1.821\n",
        "Prob(Omnibus):                  0.000   Jarque-Bera (JB):              458.214\n",
        "Skew:                           0.323   Prob(JB):                    3.16e-100\n",
        "Kurtosis:                       6.073   Cond. No.                         110.\n",
        "==============================================================================\n",
        "\n",
        "REGRESSION RESULTS FOR SEGMENT Office\n",
        "\n",
        "                            OLS Regression Results                            \n",
        "==============================================================================\n",
        "Dep. Variable:         np.log1p(rent)   R-squared:                       0.106\n",
        "Model:                            OLS   Adj. R-squared:                  0.104\n",
        "Method:                 Least Squares   F-statistic:                     66.94\n",
        "Date:                Fri, 13 Jun 2014   Prob (F-statistic):           2.89e-66\n",
        "Time:                        11:23:02   Log-Likelihood:                -1274.1\n",
        "No. Observations:                2832   AIC:                             2560.\n",
        "Df Residuals:                    2826   BIC:                             2596.\n",
        "Df Model:                           5                                         \n",
        "================================================================================================\n",
        "                                   coef    std err          t      P>|t|      [95.0% Conf. Int.]\n",
        "------------------------------------------------------------------------------------------------\n",
        "Intercept                        2.5895      0.039     65.866      0.000         2.512     2.667\n",
        "I(year_built < 1940)[T.True]    -0.0415      0.018     -2.268      0.023        -0.077    -0.006\n",
        "I(year_built > 2005)[T.True]     0.1815      0.043      4.188      0.000         0.097     0.267\n",
        "np.log1p(stories)                0.1832      0.016     11.752      0.000         0.153     0.214\n",
        "ave_income                       0.0168      0.002      7.724      0.000         0.013     0.021\n",
        "jobs                             0.0204      0.006      3.663      0.000         0.009     0.031\n",
        "==============================================================================\n",
        "Omnibus:                      345.983   Durbin-Watson:                   1.693\n",
        "Prob(Omnibus):                  0.000   Jarque-Bera (JB):             3202.264\n",
        "Skew:                          -0.200   Prob(JB):                         0.00\n",
        "Kurtosis:                       8.194   Cond. No.                         76.6\n",
        "==============================================================================\n",
        "\n",
        "REGRESSION RESULTS FOR SEGMENT Industrial\n",
        "\n",
        "                            OLS Regression Results                            \n",
        "==============================================================================\n",
        "Dep. Variable:         np.log1p(rent)   R-squared:                       0.077\n",
        "Model:                            OLS   Adj. R-squared:                  0.074\n",
        "Method:                 Least Squares   F-statistic:                     29.88\n",
        "Date:                Fri, 13 Jun 2014   Prob (F-statistic):           2.99e-29\n",
        "Time:                        11:23:02   Log-Likelihood:                -740.92\n",
        "No. Observations:                1809   AIC:                             1494.\n",
        "Df Residuals:                    1803   BIC:                             1527.\n",
        "Df Model:                           5                                         \n",
        "================================================================================================\n",
        "                                   coef    std err          t      P>|t|      [95.0% Conf. Int.]\n",
        "------------------------------------------------------------------------------------------------\n",
        "Intercept                        1.6330      0.062     26.327      0.000         1.511     1.755\n",
        "I(year_built < 1940)[T.True]     0.0915      0.025      3.634      0.000         0.042     0.141\n",
        "I(year_built > 2005)[T.True]     0.2971      0.064      4.622      0.000         0.171     0.423\n",
        "np.log1p(stories)                0.2797      0.057      4.906      0.000         0.168     0.391\n",
        "ave_income                       0.0131      0.002      6.294      0.000         0.009     0.017\n",
        "jobs                             0.0492      0.007      6.869      0.000         0.035     0.063\n",
        "==============================================================================\n",
        "Omnibus:                      117.817   Durbin-Watson:                   1.652\n",
        "Prob(Omnibus):                  0.000   Jarque-Bera (JB):              528.753\n",
        "Skew:                          -0.044   Prob(JB):                    1.52e-115\n",
        "Kurtosis:                       5.647   Cond. No.                         103.\n",
        "=============================================================================="
       ]
      },
      {
       "output_type": "stream",
       "stream": "stdout",
       "text": [
        "\n",
        "\n"
       ]
      }
     ],
     "prompt_number": 7
    },
    {
     "cell_type": "code",
     "collapsed": false,
     "input": [
      "models.rsh_simulate(dset)\n",
      "models.rrh_simulate(dset)\n",
      "models.nrh_simulate(dset)"
     ],
     "language": "python",
     "metadata": {},
     "outputs": [
      {
       "output_type": "stream",
       "stream": "stdout",
       "text": [
        "Returning primary attribute: year_built of buildings\n",
        "Returning from cache: unit_lot_size of buildings\n",
        "Returning from cache: unit_sqft of buildings\n",
        "Returning primary attribute: building_type_id of buildings\n",
        "Returning primary attribute: stories of buildings"
       ]
      },
      {
       "output_type": "stream",
       "stream": "stdout",
       "text": [
        "\n",
        "Returning primary attribute: residential_units of buildings\n",
        "Returning primary attribute: building_type_id of buildings\n",
        "Returning primary attribute: non_residential_sqft of buildings"
       ]
      },
      {
       "output_type": "stream",
       "stream": "stdout",
       "text": [
        "\n",
        "Returning primary attribute: building_type_id of buildings\n",
        "Returning primary attribute: residential_sales_price of buildings\n",
        "Returning primary attribute: residential_rent of buildings\n",
        "Returning primary attribute: non_residential_rent of buildings\n",
        "Returning from cache: _node_id of buildings\n",
        "Returning from cache: _node_id0 of buildings\n",
        "Returning from cache: zone_id of buildings\n",
        "Returning from cache: lot_size of buildings\n",
        "Running hedonic simulation\n"
       ]
      },
      {
       "output_type": "stream",
       "stream": "stdout",
       "text": [
        "\n",
        "count    1796149.000000\n",
        "mean         269.530157\n",
        "std           60.679903\n",
        "min            2.273280\n",
        "25%          230.615562\n",
        "50%          266.694812\n",
        "75%          304.089766\n",
        "max         2295.515559\n",
        "dtype: float64"
       ]
      },
      {
       "output_type": "stream",
       "stream": "stdout",
       "text": [
        "\n",
        "Returning primary attribute: year_built of buildings"
       ]
      },
      {
       "output_type": "stream",
       "stream": "stdout",
       "text": [
        "\n",
        "Returning from cache: unit_lot_size of buildings\n",
        "Returning from cache: unit_sqft of buildings\n",
        "Returning primary attribute: building_type_id of buildings\n",
        "Returning primary attribute: stories of buildings"
       ]
      },
      {
       "output_type": "stream",
       "stream": "stdout",
       "text": [
        "\n",
        "Returning primary attribute: residential_units of buildings\n",
        "Returning primary attribute: building_type_id of buildings\n",
        "Returning primary attribute: non_residential_sqft of buildings"
       ]
      },
      {
       "output_type": "stream",
       "stream": "stdout",
       "text": [
        "\n",
        "Returning primary attribute: building_type_id of buildings\n",
        "Returning primary attribute: residential_sales_price of buildings\n",
        "Returning primary attribute: residential_rent of buildings\n",
        "Returning primary attribute: non_residential_rent of buildings\n",
        "Returning from cache: _node_id of buildings\n",
        "Returning from cache: _node_id0 of buildings\n",
        "Returning from cache: zone_id of buildings\n",
        "Returning from cache: lot_size of buildings\n",
        "Running hedonic simulation\n"
       ]
      },
      {
       "output_type": "stream",
       "stream": "stdout",
       "text": [
        "\n",
        "count    1796149.000000\n",
        "mean           2.387454\n",
        "std            0.304136\n",
        "min            0.466766\n",
        "25%            2.204385\n",
        "50%            2.360573\n",
        "75%            2.541809\n",
        "max           12.684843\n",
        "dtype: float64"
       ]
      },
      {
       "output_type": "stream",
       "stream": "stdout",
       "text": [
        "\n",
        "Returning primary attribute: year_built of buildings"
       ]
      },
      {
       "output_type": "stream",
       "stream": "stdout",
       "text": [
        "\n",
        "Returning from cache: unit_lot_size of buildings\n",
        "Returning from cache: unit_sqft of buildings\n",
        "Returning primary attribute: building_type_id of buildings\n",
        "Returning primary attribute: stories of buildings"
       ]
      },
      {
       "output_type": "stream",
       "stream": "stdout",
       "text": [
        "\n",
        "Returning primary attribute: residential_units of buildings\n",
        "Returning primary attribute: building_type_id of buildings\n",
        "Returning primary attribute: non_residential_sqft of buildings"
       ]
      },
      {
       "output_type": "stream",
       "stream": "stdout",
       "text": [
        "\n",
        "Returning primary attribute: building_type_id of buildings\n",
        "Returning primary attribute: residential_sales_price of buildings\n",
        "Returning primary attribute: residential_rent of buildings\n",
        "Returning primary attribute: non_residential_rent of buildings\n",
        "Returning from cache: _node_id of buildings\n",
        "Returning from cache: _node_id0 of buildings\n",
        "Returning from cache: zone_id of buildings\n",
        "Returning from cache: lot_size of buildings\n",
        "Running hedonic simulation\n"
       ]
      },
      {
       "output_type": "stream",
       "stream": "stdout",
       "text": [
        "\n",
        "count    116797.000000\n",
        "mean         17.268361\n",
        "std           5.384029\n",
        "min           6.214531\n",
        "25%          10.767426\n",
        "50%          19.090344\n",
        "75%          20.916855\n",
        "max          44.854929\n",
        "dtype: float64"
       ]
      },
      {
       "output_type": "stream",
       "stream": "stdout",
       "text": [
        "\n"
       ]
      }
     ],
     "prompt_number": 8
    },
    {
     "cell_type": "code",
     "collapsed": false,
     "input": [
      "models.hlcmo_estimate(dset)"
     ],
     "language": "python",
     "metadata": {},
     "outputs": [
      {
       "output_type": "stream",
       "stream": "stdout",
       "text": [
        "Returning primary attribute: income of households\n",
        "Returning primary attribute: building_id of households"
       ]
      },
      {
       "output_type": "stream",
       "stream": "stdout",
       "text": [
        "\n",
        "Returning primary attribute: tenure of households\n",
        "Returning primary attribute: persons of households\n",
        "Returning from cache: _node_id of households\n",
        "Returning from cache: _node_id0 of households\n",
        "Returning primary attribute: year_built of buildings"
       ]
      },
      {
       "output_type": "stream",
       "stream": "stdout",
       "text": [
        "\n",
        "Returning from cache: unit_lot_size of buildings\n",
        "Returning from cache: unit_sqft of buildings\n",
        "Returning primary attribute: building_type_id of buildings\n",
        "Returning primary attribute: stories of buildings"
       ]
      },
      {
       "output_type": "stream",
       "stream": "stdout",
       "text": [
        "\n",
        "Returning primary attribute: residential_units of buildings\n",
        "Returning primary attribute: building_type_id of buildings\n",
        "Returning primary attribute: non_residential_sqft of buildings"
       ]
      },
      {
       "output_type": "stream",
       "stream": "stdout",
       "text": [
        "\n",
        "Returning primary attribute: building_type_id of buildings\n",
        "Returning primary attribute: residential_sales_price of buildings\n",
        "Returning primary attribute: residential_rent of buildings\n",
        "Returning primary attribute: non_residential_rent of buildings\n",
        "Returning from cache: _node_id of buildings\n",
        "Returning from cache: _node_id0 of buildings\n",
        "Returning from cache: zone_id of buildings\n",
        "Returning from cache: lot_size of buildings\n",
        "Running location choice model estimation\n"
       ]
      },
      {
       "output_type": "stream",
       "stream": "stdout",
       "text": [
        "\n",
        "Returning group 0"
       ]
      },
      {
       "output_type": "stream",
       "stream": "stdout",
       "text": [
        "\n",
        "Removing 57 choice situations because chosen alt doesn't exist"
       ]
      },
      {
       "output_type": "stream",
       "stream": "stdout",
       "text": [
        "\n",
        "Returning group 1"
       ]
      },
      {
       "output_type": "stream",
       "stream": "stdout",
       "text": [
        "\n",
        "Removing 64 choice situations because chosen alt doesn't exist"
       ]
      },
      {
       "output_type": "stream",
       "stream": "stdout",
       "text": [
        "\n",
        "Returning group 2"
       ]
      },
      {
       "output_type": "stream",
       "stream": "stdout",
       "text": [
        "\n",
        "Removing 62 choice situations because chosen alt doesn't exist"
       ]
      },
      {
       "output_type": "stream",
       "stream": "stdout",
       "text": [
        "\n",
        "Returning group 3"
       ]
      },
      {
       "output_type": "stream",
       "stream": "stdout",
       "text": [
        "\n",
        "Removing 75 choice situations because chosen alt doesn't exist"
       ]
      },
      {
       "output_type": "stream",
       "stream": "stdout",
       "text": [
        "\n",
        "LCM RESULTS FOR SEGMENT 0\n"
       ]
      },
      {
       "output_type": "stream",
       "stream": "stdout",
       "text": [
        "\n",
        "Null Log-liklihood: -68815.058\n",
        "Log-liklihood at convergence: -66198.725\n",
        "Log-liklihood Ratio: 0.038\n",
        "\n",
        "+-----------------------------------+-------------+------------+---------+\n",
        "| Component                         | Coefficient | Std. Error | T-Score |\n",
        "+-----------------------------------+-------------+------------+---------+\n",
        "| np.log1p(residential_sales_price) |    0.581    |   0.048    |  12.105 |\n",
        "| np.log1p(unit_sqft)               |    -0.229   |   0.015    | -15.715 |\n",
        "| sum_residential_units             |    -0.350   |   0.055    |  -6.335 |\n",
        "| ave_unit_sqft                     |    0.342    |   0.021    |  16.202 |\n",
        "| ave_lot_sqft                      |    0.109    |   0.013    |  8.551  |\n",
        "| ave_income                        |    -0.037   |   0.041    |  -0.901 |\n",
        "| hhsize                            |    -0.719   |   0.111    |  -6.471 |\n",
        "| jobs                              |    -0.152   |   0.012    | -12.636 |\n",
        "| sfdu                              |    0.006    |   0.007    |  0.794  |\n",
        "| renters                           |    0.705    |   0.033    |  21.425 |\n",
        "| poor                              |    0.931    |   0.027    |  34.129 |\n",
        "| population                        |    -0.901   |   0.066    | -13.597 |\n",
        "+-----------------------------------+-------------+------------+---------+\n",
        "\n",
        "LCM RESULTS FOR SEGMENT 1\n",
        "\n",
        "Null Log-liklihood: -68782.822\n",
        "Log-liklihood at convergence: -67085.323\n",
        "Log-liklihood Ratio: 0.025\n",
        "\n",
        "+-----------------------------------+-------------+------------+---------+\n",
        "| Component                         | Coefficient | Std. Error | T-Score |\n",
        "+-----------------------------------+-------------+------------+---------+\n",
        "| np.log1p(residential_sales_price) |    0.611    |   0.050    |  12.263 |\n",
        "| np.log1p(unit_sqft)               |    -0.186   |   0.015    | -12.186 |\n",
        "| sum_residential_units             |    -0.197   |   0.055    |  -3.577 |\n",
        "| ave_unit_sqft                     |    0.343    |   0.021    |  16.187 |\n",
        "| ave_lot_sqft                      |    0.120    |   0.012    |  9.620  |\n",
        "| ave_income                        |    -0.216   |   0.041    |  -5.232 |\n",
        "| hhsize                            |    -0.309   |   0.111    |  -2.784 |\n",
        "| jobs                              |    -0.175   |   0.012    | -14.404 |\n",
        "| sfdu                              |    -0.029   |   0.007    |  -4.190 |\n",
        "| renters                           |    0.579    |   0.034    |  16.881 |\n",
        "| poor                              |    0.436    |   0.026    |  16.528 |\n",
        "| population                        |    -0.393   |   0.067    |  -5.830 |\n",
        "+-----------------------------------+-------------+------------+---------+\n",
        "\n",
        "LCM RESULTS FOR SEGMENT 2\n",
        "\n",
        "Null Log-liklihood: -68792.032\n",
        "Log-liklihood at convergence: -67469.114\n",
        "Log-liklihood Ratio: 0.019\n",
        "\n",
        "+-----------------------------------+-------------+------------+---------+\n",
        "| Component                         | Coefficient | Std. Error | T-Score |\n",
        "+-----------------------------------+-------------+------------+---------+\n",
        "| np.log1p(residential_sales_price) |    0.598    |   0.054    |  11.017 |\n",
        "| np.log1p(unit_sqft)               |    -0.170   |   0.016    | -10.635 |\n",
        "| sum_residential_units             |    -0.127   |   0.055    |  -2.337 |\n",
        "| ave_unit_sqft                     |    0.313    |   0.022    |  14.085 |\n",
        "| ave_lot_sqft                      |    0.119    |   0.013    |  9.406  |\n",
        "| ave_income                        |    -0.317   |   0.044    |  -7.201 |\n",
        "| hhsize                            |    -0.032   |   0.111    |  -0.292 |\n",
        "| jobs                              |    -0.183   |   0.013    | -14.396 |\n",
        "| sfdu                              |    -0.013   |   0.007    |  -1.810 |\n",
        "| renters                           |    0.345    |   0.036    |  9.640  |\n",
        "| poor                              |    -0.149   |   0.025    |  -5.897 |\n",
        "| population                        |    0.335    |   0.067    |  5.006  |\n",
        "+-----------------------------------+-------------+------------+---------+\n",
        "\n",
        "LCM RESULTS FOR SEGMENT 3\n",
        "\n",
        "Null Log-liklihood: -68732.165\n",
        "Log-liklihood at convergence: -65739.163\n",
        "Log-liklihood Ratio: 0.044\n",
        "\n",
        "+-----------------------------------+-------------+------------+---------+\n",
        "| Component                         | Coefficient | Std. Error | T-Score |\n",
        "+-----------------------------------+-------------+------------+---------+\n",
        "| np.log1p(residential_sales_price) |    0.537    |   0.054    |  9.863  |\n",
        "| np.log1p(unit_sqft)               |    -0.154   |   0.016    |  -9.332 |\n",
        "| sum_residential_units             |    -0.201   |   0.051    |  -3.964 |\n",
        "| ave_unit_sqft                     |    0.272    |   0.023    |  11.672 |\n",
        "| ave_lot_sqft                      |    0.120    |   0.013    |  9.432  |\n",
        "| ave_income                        |    1.257    |   0.043    |  29.125 |\n",
        "| hhsize                            |    -0.975   |   0.110    |  -8.866 |\n",
        "| jobs                              |    -0.135   |   0.013    | -10.593 |\n",
        "| sfdu                              |    -0.025   |   0.007    |  -3.655 |\n",
        "| renters                           |    -0.084   |   0.038    |  -2.215 |\n",
        "| poor                              |    -0.188   |   0.023    |  -8.035 |\n",
        "| population                        |    0.772    |   0.065    |  11.830 |\n",
        "+-----------------------------------+-------------+------------+---------+\n",
        "\n"
       ]
      }
     ],
     "prompt_number": 9
    },
    {
     "cell_type": "code",
     "collapsed": false,
     "input": [
      "models.hlcmr_estimate(dset)"
     ],
     "language": "python",
     "metadata": {},
     "outputs": [
      {
       "output_type": "stream",
       "stream": "stdout",
       "text": [
        "Returning primary attribute: income of households\n",
        "Returning primary attribute: building_id of households"
       ]
      },
      {
       "output_type": "stream",
       "stream": "stdout",
       "text": [
        "\n",
        "Returning primary attribute: tenure of households\n",
        "Returning primary attribute: persons of households\n",
        "Returning from cache: _node_id of households\n",
        "Returning from cache: _node_id0 of households\n",
        "Returning primary attribute: year_built of buildings"
       ]
      },
      {
       "output_type": "stream",
       "stream": "stdout",
       "text": [
        "\n",
        "Returning from cache: unit_lot_size of buildings\n",
        "Returning from cache: unit_sqft of buildings\n",
        "Returning primary attribute: building_type_id of buildings\n",
        "Returning primary attribute: stories of buildings"
       ]
      },
      {
       "output_type": "stream",
       "stream": "stdout",
       "text": [
        "\n",
        "Returning primary attribute: residential_units of buildings\n",
        "Returning primary attribute: building_type_id of buildings\n",
        "Returning primary attribute: non_residential_sqft of buildings"
       ]
      },
      {
       "output_type": "stream",
       "stream": "stdout",
       "text": [
        "\n",
        "Returning primary attribute: building_type_id of buildings\n",
        "Returning primary attribute: residential_sales_price of buildings\n",
        "Returning primary attribute: residential_rent of buildings\n",
        "Returning primary attribute: non_residential_rent of buildings\n",
        "Returning from cache: _node_id of buildings\n",
        "Returning from cache: _node_id0 of buildings\n",
        "Returning from cache: zone_id of buildings\n",
        "Returning from cache: lot_size of buildings\n",
        "Running location choice model estimation\n"
       ]
      },
      {
       "output_type": "stream",
       "stream": "stdout",
       "text": [
        "\n",
        "Returning group 0"
       ]
      },
      {
       "output_type": "stream",
       "stream": "stdout",
       "text": [
        "\n",
        "Removing 31 choice situations because chosen alt doesn't exist"
       ]
      },
      {
       "output_type": "stream",
       "stream": "stdout",
       "text": [
        "\n",
        "Returning group 1"
       ]
      },
      {
       "output_type": "stream",
       "stream": "stdout",
       "text": [
        "\n",
        "Removing 26 choice situations because chosen alt doesn't exist"
       ]
      },
      {
       "output_type": "stream",
       "stream": "stdout",
       "text": [
        "\n",
        "Returning group 2"
       ]
      },
      {
       "output_type": "stream",
       "stream": "stdout",
       "text": [
        "\n",
        "Removing 33 choice situations because chosen alt doesn't exist"
       ]
      },
      {
       "output_type": "stream",
       "stream": "stdout",
       "text": [
        "\n",
        "Returning group 3"
       ]
      },
      {
       "output_type": "stream",
       "stream": "stdout",
       "text": [
        "\n",
        "Removing 27 choice situations because chosen alt doesn't exist"
       ]
      },
      {
       "output_type": "stream",
       "stream": "stdout",
       "text": [
        "\n",
        "LCM RESULTS FOR SEGMENT 0\n"
       ]
      },
      {
       "output_type": "stream",
       "stream": "stdout",
       "text": [
        "\n",
        "Null Log-liklihood: -22883.091\n",
        "Log-liklihood at convergence: -17200.350\n",
        "Log-liklihood Ratio: 0.248\n",
        "\n",
        "+----------------------------+-------------+------------+---------+\n",
        "| Component                  | Coefficient | Std. Error | T-Score |\n",
        "+----------------------------+-------------+------------+---------+\n",
        "| np.log1p(residential_rent) |    3.000    |   0.324    |  9.273  |\n",
        "| np.log1p(unit_sqft)        |    -0.427   |   0.051    |  -8.345 |\n",
        "| sum_residential_units      |    -0.525   |   0.056    |  -9.374 |\n",
        "| ave_unit_sqft              |    0.206    |   0.034    |  5.982  |\n",
        "| ave_lot_sqft               |    0.186    |   0.022    |  8.450  |\n",
        "| ave_income                 |    1.031    |   0.064    |  16.024 |\n",
        "| hhsize                     |    -2.687   |   0.139    | -19.272 |\n",
        "| jobs                       |    -0.169   |   0.016    | -10.657 |\n",
        "| sfdu                       |    -0.024   |   0.011    |  -2.089 |\n",
        "| renters                    |    -0.962   |   0.029    | -32.823 |\n",
        "| poor                       |    1.711    |   0.046    |  36.926 |\n",
        "+----------------------------+-------------+------------+---------+\n",
        "\n",
        "LCM RESULTS FOR SEGMENT 1\n",
        "\n",
        "Null Log-liklihood: -22906.117\n",
        "Log-liklihood at convergence: -18282.779\n",
        "Log-liklihood Ratio: 0.202\n",
        "\n",
        "+----------------------------+-------------+------------+---------+\n",
        "| Component                  | Coefficient | Std. Error | T-Score |\n",
        "+----------------------------+-------------+------------+---------+\n",
        "| np.log1p(residential_rent) |    3.000    |   0.282    |  10.652 |\n",
        "| np.log1p(unit_sqft)        |    -0.306   |   0.044    |  -7.037 |\n",
        "| sum_residential_units      |    0.518    |   0.052    |  9.971  |\n",
        "| ave_unit_sqft              |    0.051    |   0.033    |  1.530  |\n",
        "| ave_lot_sqft               |    0.212    |   0.023    |  9.378  |\n",
        "| ave_income                 |    1.007    |   0.058    |  17.401 |\n",
        "| hhsize                     |    -1.181   |   0.135    |  -8.723 |\n",
        "| jobs                       |    -0.204   |   0.016    | -13.068 |\n",
        "| sfdu                       |    -0.008   |   0.011    |  -0.709 |\n",
        "| renters                    |    -1.078   |   0.028    | -37.917 |\n",
        "| poor                       |    0.922    |   0.040    |  22.779 |\n",
        "+----------------------------+-------------+------------+---------+\n",
        "\n",
        "LCM RESULTS FOR SEGMENT 2\n",
        "\n",
        "Null Log-liklihood: -22873.880\n",
        "Log-liklihood at convergence: -18722.369\n",
        "Log-liklihood Ratio: 0.181\n",
        "\n",
        "+----------------------------+-------------+------------+---------+\n",
        "| Component                  | Coefficient | Std. Error | T-Score |\n",
        "+----------------------------+-------------+------------+---------+\n",
        "| np.log1p(residential_rent) |    3.000    |   0.425    |  7.058  |\n",
        "| np.log1p(unit_sqft)        |    -0.223   |   0.066    |  -3.386 |\n",
        "| sum_residential_units      |    1.119    |   0.047    |  23.888 |\n",
        "| ave_unit_sqft              |    0.057    |   0.038    |  1.488  |\n",
        "| ave_lot_sqft               |    0.226    |   0.022    |  10.357 |\n",
        "| ave_income                 |    1.680    |   0.078    |  21.644 |\n",
        "| hhsize                     |    -0.235   |   0.133    |  -1.766 |\n",
        "| jobs                       |    -0.202   |   0.016    | -12.612 |\n",
        "| sfdu                       |    -0.053   |   0.011    |  -5.016 |\n",
        "| renters                    |    -1.102   |   0.029    | -38.163 |\n",
        "| poor                       |    0.508    |   0.042    |  12.007 |\n",
        "+----------------------------+-------------+------------+---------+\n",
        "\n",
        "LCM RESULTS FOR SEGMENT 3\n",
        "\n",
        "Null Log-liklihood: -22901.511\n",
        "Log-liklihood at convergence: -18597.234\n",
        "Log-liklihood Ratio: 0.188\n",
        "\n",
        "+----------------------------+-------------+------------+---------+\n",
        "| Component                  | Coefficient | Std. Error | T-Score |\n",
        "+----------------------------+-------------+------------+---------+\n",
        "| np.log1p(residential_rent) |    3.000    |   0.447    |  6.718  |\n",
        "| np.log1p(unit_sqft)        |    -0.180   |   0.070    |  -2.594 |\n",
        "| sum_residential_units      |    1.201    |   0.047    |  25.362 |\n",
        "| ave_unit_sqft              |    0.041    |   0.041    |  1.000  |\n",
        "| ave_lot_sqft               |    0.139    |   0.025    |  5.615  |\n",
        "| ave_income                 |    2.647    |   0.082    |  32.311 |\n",
        "| hhsize                     |    -0.057   |   0.135    |  -0.423 |\n",
        "| jobs                       |    -0.196   |   0.017    | -11.215 |\n",
        "| sfdu                       |    -0.115   |   0.010    | -11.359 |\n",
        "| renters                    |    -1.005   |   0.031    | -32.153 |\n",
        "| poor                       |    0.425    |   0.044    |  9.648  |\n",
        "+----------------------------+-------------+------------+---------+\n",
        "\n"
       ]
      }
     ],
     "prompt_number": 10
    },
    {
     "cell_type": "code",
     "collapsed": false,
     "input": [
      "models.elcm_estimate(dset)"
     ],
     "language": "python",
     "metadata": {},
     "outputs": [
      {
       "output_type": "stream",
       "stream": "stdout",
       "text": [
        "Returning primary attribute: building_id of jobs\n",
        "Returning from cache: _node_id0 of jobs\n",
        "Returning from cache: _node_id of jobs\n",
        "Returning from cache: naics of jobs\n",
        "Returning primary attribute: year_built of buildings\n",
        "Returning from cache: unit_lot_size of buildings\n",
        "Returning from cache: unit_sqft of buildings\n",
        "Returning primary attribute: building_type_id of buildings\n",
        "Returning primary attribute: stories of buildings"
       ]
      },
      {
       "output_type": "stream",
       "stream": "stdout",
       "text": [
        "\n",
        "Returning primary attribute: residential_units of buildings\n",
        "Returning primary attribute: building_type_id of buildings\n",
        "Returning primary attribute: non_residential_sqft of buildings"
       ]
      },
      {
       "output_type": "stream",
       "stream": "stdout",
       "text": [
        "\n",
        "Returning primary attribute: building_type_id of buildings\n",
        "Returning primary attribute: residential_sales_price of buildings\n",
        "Returning primary attribute: residential_rent of buildings\n",
        "Returning primary attribute: non_residential_rent of buildings\n",
        "Returning from cache: _node_id of buildings\n",
        "Returning from cache: _node_id0 of buildings\n",
        "Returning from cache: zone_id of buildings\n",
        "Returning from cache: lot_size of buildings\n",
        "Running location choice model estimation\n"
       ]
      },
      {
       "output_type": "stream",
       "stream": "stdout",
       "text": [
        "\n",
        "Returning group 11"
       ]
      },
      {
       "output_type": "stream",
       "stream": "stdout",
       "text": [
        "\n",
        "Returning group 21"
       ]
      },
      {
       "output_type": "stream",
       "stream": "stdout",
       "text": [
        "\n",
        "Returning group 22"
       ]
      },
      {
       "output_type": "stream",
       "stream": "stdout",
       "text": [
        "\n",
        "Returning group 23"
       ]
      },
      {
       "output_type": "stream",
       "stream": "stdout",
       "text": [
        "\n",
        "Returning group 31"
       ]
      },
      {
       "output_type": "stream",
       "stream": "stdout",
       "text": [
        "\n",
        "Returning group 32"
       ]
      },
      {
       "output_type": "stream",
       "stream": "stdout",
       "text": [
        "\n",
        "Returning group 33"
       ]
      },
      {
       "output_type": "stream",
       "stream": "stdout",
       "text": [
        "\n",
        "Returning group 42"
       ]
      },
      {
       "output_type": "stream",
       "stream": "stdout",
       "text": [
        "\n",
        "Returning group 44"
       ]
      },
      {
       "output_type": "stream",
       "stream": "stdout",
       "text": [
        "\n",
        "Returning group 45"
       ]
      },
      {
       "output_type": "stream",
       "stream": "stdout",
       "text": [
        "\n",
        "Returning group 48"
       ]
      },
      {
       "output_type": "stream",
       "stream": "stdout",
       "text": [
        "\n",
        "Returning group 49"
       ]
      },
      {
       "output_type": "stream",
       "stream": "stdout",
       "text": [
        "\n",
        "Returning group 51"
       ]
      },
      {
       "output_type": "stream",
       "stream": "stdout",
       "text": [
        "\n",
        "Returning group 52"
       ]
      },
      {
       "output_type": "stream",
       "stream": "stdout",
       "text": [
        "\n",
        "Returning group 53"
       ]
      },
      {
       "output_type": "stream",
       "stream": "stdout",
       "text": [
        "\n",
        "Returning group 54"
       ]
      },
      {
       "output_type": "stream",
       "stream": "stdout",
       "text": [
        "\n",
        "Returning group 55"
       ]
      },
      {
       "output_type": "stream",
       "stream": "stdout",
       "text": [
        "\n",
        "Returning group 56"
       ]
      },
      {
       "output_type": "stream",
       "stream": "stdout",
       "text": [
        "\n",
        "Returning group 61"
       ]
      },
      {
       "output_type": "stream",
       "stream": "stdout",
       "text": [
        "\n",
        "Returning group 62"
       ]
      },
      {
       "output_type": "stream",
       "stream": "stdout",
       "text": [
        "\n",
        "Returning group 71"
       ]
      },
      {
       "output_type": "stream",
       "stream": "stdout",
       "text": [
        "\n",
        "Returning group 72"
       ]
      },
      {
       "output_type": "stream",
       "stream": "stdout",
       "text": [
        "\n",
        "Returning group 81"
       ]
      },
      {
       "output_type": "stream",
       "stream": "stdout",
       "text": [
        "\n",
        "Returning group 92"
       ]
      },
      {
       "output_type": "stream",
       "stream": "stdout",
       "text": [
        "\n",
        "Returning group 99"
       ]
      },
      {
       "output_type": "stream",
       "stream": "stdout",
       "text": [
        "\n",
        "LCM RESULTS FOR SEGMENT 11\n"
       ]
      },
      {
       "output_type": "stream",
       "stream": "stdout",
       "text": [
        "\n",
        "Null Log-liklihood: -69077.553\n",
        "Log-liklihood at convergence: -41486.430\n",
        "Log-liklihood Ratio: 0.399\n",
        "\n",
        "+--------------------------------+-------------+------------+---------+\n",
        "| Component                      | Coefficient | Std. Error | T-Score |\n",
        "+--------------------------------+-------------+------------+---------+\n",
        "| np.log1p(non_residential_rent) |    0.564    |   0.008    |  71.625 |\n",
        "| np.log1p(stories)              |    0.678    |   0.040    |  17.069 |\n",
        "| sum_residential_units          |    -1.726   |   0.026    | -67.185 |\n",
        "| ave_unit_sqft                  |    -0.823   |   0.011    | -74.817 |\n",
        "| ave_lot_sqft                   |    0.651    |   0.005    | 126.508 |\n",
        "| ave_income                     |    0.269    |   0.010    |  27.377 |\n",
        "| hhsize                         |    -0.925   |   0.069    | -13.484 |\n",
        "| jobs                           |    0.951    |   0.008    | 116.658 |\n",
        "| sfdu                           |    -0.001   |   0.012    |  -0.044 |\n",
        "| renters                        |    0.271    |   0.023    |  11.964 |\n",
        "| poor                           |    0.422    |   0.015    |  28.123 |\n",
        "+--------------------------------+-------------+------------+---------+\n",
        "\n",
        "LCM RESULTS FOR SEGMENT 21\n",
        "\n",
        "Null Log-liklihood: -10048.481\n",
        "Log-liklihood at convergence: -5403.396\n",
        "Log-liklihood Ratio: 0.462\n",
        "\n",
        "+--------------------------------+-------------+------------+---------+\n",
        "| Component                      | Coefficient | Std. Error | T-Score |\n",
        "+--------------------------------+-------------+------------+---------+\n",
        "| np.log1p(non_residential_rent) |    0.405    |   0.022    |  18.681 |\n",
        "| np.log1p(stories)              |    0.383    |   0.097    |  3.954  |\n",
        "| sum_residential_units          |    -1.415   |   0.066    | -21.501 |\n",
        "| ave_unit_sqft                  |    -0.723   |   0.031    | -22.969 |\n",
        "| ave_lot_sqft                   |    0.401    |   0.016    |  25.495 |\n",
        "| ave_income                     |    0.389    |   0.023    |  16.716 |\n",
        "| hhsize                         |    -2.153   |   0.185    | -11.653 |\n",
        "| jobs                           |    1.062    |   0.028    |  38.536 |\n",
        "| sfdu                           |    0.009    |   0.030    |  0.290  |\n",
        "| renters                        |    -0.096   |   0.057    |  -1.687 |\n",
        "| poor                           |    0.206    |   0.041    |  5.045  |\n",
        "+--------------------------------+-------------+------------+---------+\n",
        "\n",
        "LCM RESULTS FOR SEGMENT 22\n",
        "\n",
        "Null Log-liklihood: -69077.553\n",
        "Log-liklihood at convergence: -22394.820\n",
        "Log-liklihood Ratio: 0.676\n",
        "\n",
        "+--------------------------------+-------------+------------+---------+\n",
        "| Component                      | Coefficient | Std. Error | T-Score |\n",
        "+--------------------------------+-------------+------------+---------+\n",
        "| np.log1p(non_residential_rent) |    0.572    |   0.010    |  58.878 |\n",
        "| np.log1p(stories)              |    -0.193   |   0.032    |  -6.080 |\n",
        "| sum_residential_units          |    -1.091   |   0.025    | -43.193 |\n",
        "| ave_unit_sqft                  |    0.174    |   0.016    |  10.868 |\n",
        "| ave_lot_sqft                   |    0.232    |   0.010    |  24.314 |\n",
        "| ave_income                     |    0.131    |   0.009    |  14.213 |\n",
        "| hhsize                         |    0.373    |   0.063    |  5.942  |\n",
        "| jobs                           |    1.184    |   0.014    |  86.632 |\n",
        "| sfdu                           |    -0.073   |   0.015    |  -4.792 |\n",
        "| renters                        |    0.090    |   0.026    |  3.505  |\n",
        "| poor                           |    0.233    |   0.018    |  13.082 |\n",
        "+--------------------------------+-------------+------------+---------+\n",
        "\n",
        "LCM RESULTS FOR SEGMENT 23\n",
        "\n",
        "Null Log-liklihood: -69077.553\n",
        "Log-liklihood at convergence: -47551.681\n",
        "Log-liklihood Ratio: 0.312\n",
        "\n",
        "+--------------------------------+-------------+------------+---------+\n",
        "| Component                      | Coefficient | Std. Error | T-Score |\n",
        "+--------------------------------+-------------+------------+---------+\n",
        "| np.log1p(non_residential_rent) |    0.607    |   0.007    |  83.844 |\n",
        "| np.log1p(stories)              |    -0.053   |   0.032    |  -1.654 |\n",
        "| sum_residential_units          |    -0.564   |   0.020    | -28.484 |\n",
        "| ave_unit_sqft                  |    -0.167   |   0.013    | -12.524 |\n",
        "| ave_lot_sqft                   |    0.123    |   0.009    |  14.206 |\n",
        "| ave_income                     |    -0.039   |   0.008    |  -5.245 |\n",
        "| hhsize                         |    0.621    |   0.057    |  10.922 |\n",
        "| jobs                           |    0.717    |   0.009    |  78.739 |\n",
        "| sfdu                           |    -0.075   |   0.008    |  -8.972 |\n",
        "| renters                        |    -0.104   |   0.016    |  -6.608 |\n",
        "| poor                           |    0.050    |   0.013    |  3.699  |\n",
        "+--------------------------------+-------------+------------+---------+\n",
        "\n",
        "LCM RESULTS FOR SEGMENT 31\n",
        "\n",
        "Null Log-liklihood: -69077.553\n",
        "Log-liklihood at convergence: -32505.165\n",
        "Log-liklihood Ratio: 0.529\n",
        "\n",
        "+--------------------------------+-------------+------------+---------+\n",
        "| Component                      | Coefficient | Std. Error | T-Score |\n",
        "+--------------------------------+-------------+------------+---------+\n",
        "| np.log1p(non_residential_rent) |    0.701    |   0.008    |  88.230 |\n",
        "| np.log1p(stories)              |    -0.356   |   0.037    |  -9.523 |\n",
        "| sum_residential_units          |    -1.196   |   0.021    | -57.008 |\n",
        "| ave_unit_sqft                  |    -0.312   |   0.012    | -26.445 |\n",
        "| ave_lot_sqft                   |    0.509    |   0.007    |  73.813 |\n",
        "| ave_income                     |    0.061    |   0.008    |  7.550  |\n",
        "| hhsize                         |    -0.517   |   0.063    |  -8.232 |\n",
        "| jobs                           |    1.255    |   0.010    | 121.465 |\n",
        "| sfdu                           |    -0.102   |   0.010    | -10.066 |\n",
        "| renters                        |    0.202    |   0.018    |  11.123 |\n",
        "| poor                           |    0.399    |   0.015    |  27.186 |\n",
        "+--------------------------------+-------------+------------+---------+\n",
        "\n",
        "LCM RESULTS FOR SEGMENT 32\n",
        "\n",
        "Null Log-liklihood: -69077.553\n",
        "Log-liklihood at convergence: -26525.636\n",
        "Log-liklihood Ratio: 0.616\n",
        "\n",
        "+--------------------------------+-------------+------------+---------+\n",
        "| Component                      | Coefficient | Std. Error | T-Score |\n",
        "+--------------------------------+-------------+------------+---------+\n",
        "| np.log1p(non_residential_rent) |    0.484    |   0.009    |  53.867 |\n",
        "| np.log1p(stories)              |    -0.129   |   0.032    |  -4.036 |\n",
        "| sum_residential_units          |    -0.921   |   0.018    | -51.044 |\n",
        "| ave_unit_sqft                  |    0.036    |   0.014    |  2.544  |\n",
        "| ave_lot_sqft                   |    0.219    |   0.009    |  24.199 |\n",
        "| ave_income                     |    -0.037   |   0.007    |  -4.986 |\n",
        "| hhsize                         |    0.694    |   0.057    |  12.139 |\n",
        "| jobs                           |    1.103    |   0.011    |  96.921 |\n",
        "| sfdu                           |    -0.143   |   0.012    | -11.955 |\n",
        "| renters                        |    -0.054   |   0.018    |  -2.970 |\n",
        "| poor                           |    0.099    |   0.014    |  6.948  |\n",
        "+--------------------------------+-------------+------------+---------+\n",
        "\n",
        "LCM RESULTS FOR SEGMENT 33\n",
        "\n",
        "Null Log-liklihood: -69077.553\n",
        "Log-liklihood at convergence: -18780.406\n",
        "Log-liklihood Ratio: 0.728\n",
        "\n",
        "+--------------------------------+-------------+------------+---------+\n",
        "| Component                      | Coefficient | Std. Error | T-Score |\n",
        "+--------------------------------+-------------+------------+---------+\n",
        "| np.log1p(non_residential_rent) |    0.482    |   0.011    |  43.174 |\n",
        "| np.log1p(stories)              |    -0.422   |   0.044    |  -9.630 |\n",
        "| sum_residential_units          |    -1.353   |   0.023    | -58.646 |\n",
        "| ave_unit_sqft                  |    0.051    |   0.019    |  2.655  |\n",
        "| ave_lot_sqft                   |    0.056    |   0.013    |  4.192  |\n",
        "| ave_income                     |    -0.111   |   0.009    | -12.501 |\n",
        "| hhsize                         |    0.891    |   0.069    |  12.945 |\n",
        "| jobs                           |    1.422    |   0.012    | 115.351 |\n",
        "| sfdu                           |    -0.078   |   0.014    |  -5.645 |\n",
        "| renters                        |    0.218    |   0.023    |  9.587  |\n",
        "| poor                           |    0.032    |   0.017    |  1.885  |\n",
        "+--------------------------------+-------------+------------+---------+\n",
        "\n",
        "LCM RESULTS FOR SEGMENT 42\n",
        "\n",
        "Null Log-liklihood: -69077.553\n",
        "Log-liklihood at convergence: -32309.898\n",
        "Log-liklihood Ratio: 0.532\n",
        "\n",
        "+--------------------------------+-------------+------------+---------+\n",
        "| Component                      | Coefficient | Std. Error | T-Score |\n",
        "+--------------------------------+-------------+------------+---------+\n",
        "| np.log1p(non_residential_rent) |    0.624    |   0.009    |  71.534 |\n",
        "| np.log1p(stories)              |    -0.012   |   0.033    |  -0.357 |\n",
        "| sum_residential_units          |    -0.730   |   0.021    | -35.453 |\n",
        "| ave_unit_sqft                  |    0.065    |   0.015    |  4.468  |\n",
        "| ave_lot_sqft                   |    0.134    |   0.009    |  14.334 |\n",
        "| ave_income                     |    -0.034   |   0.008    |  -4.400 |\n",
        "| hhsize                         |    0.543    |   0.058    |  9.330  |\n",
        "| jobs                           |    0.877    |   0.011    |  78.375 |\n",
        "| sfdu                           |    -0.081   |   0.011    |  -7.674 |\n",
        "| renters                        |    -0.026   |   0.018    |  -1.453 |\n",
        "| poor                           |    0.045    |   0.014    |  3.242  |\n",
        "+--------------------------------+-------------+------------+---------+\n",
        "\n",
        "LCM RESULTS FOR SEGMENT 44\n",
        "\n",
        "Null Log-liklihood: -69077.553\n",
        "Log-liklihood at convergence: -40019.033\n",
        "Log-liklihood Ratio: 0.421\n",
        "\n",
        "+--------------------------------+-------------+------------+---------+\n",
        "| Component                      | Coefficient | Std. Error | T-Score |\n",
        "+--------------------------------+-------------+------------+---------+\n",
        "| np.log1p(non_residential_rent) |    0.801    |   0.007    | 119.850 |\n",
        "| np.log1p(stories)              |    -0.189   |   0.030    |  -6.268 |\n",
        "| sum_residential_units          |    -0.975   |   0.022    | -43.709 |\n",
        "| ave_unit_sqft                  |    -0.223   |   0.016    | -14.179 |\n",
        "| ave_lot_sqft                   |    0.061    |   0.011    |  5.763  |\n",
        "| ave_income                     |    0.063    |   0.009    |  7.195  |\n",
        "| hhsize                         |    0.008    |   0.064    |  0.121  |\n",
        "| jobs                           |    0.970    |   0.011    |  92.131 |\n",
        "| sfdu                           |    -0.109   |   0.008    | -13.235 |\n",
        "| renters                        |    0.041    |   0.015    |  2.683  |\n",
        "| poor                           |    0.340    |   0.015    |  23.214 |\n",
        "+--------------------------------+-------------+------------+---------+\n",
        "\n",
        "LCM RESULTS FOR SEGMENT 45\n",
        "\n",
        "Null Log-liklihood: -69077.553\n",
        "Log-liklihood at convergence: -39724.970\n",
        "Log-liklihood Ratio: 0.425\n",
        "\n",
        "+--------------------------------+-------------+------------+---------+\n",
        "| Component                      | Coefficient | Std. Error | T-Score |\n",
        "+--------------------------------+-------------+------------+---------+\n",
        "| np.log1p(non_residential_rent) |    0.662    |   0.007    |  96.412 |\n",
        "| np.log1p(stories)              |    -0.240   |   0.032    |  -7.425 |\n",
        "| sum_residential_units          |    -1.260   |   0.020    | -62.118 |\n",
        "| ave_unit_sqft                  |    -0.118   |   0.015    |  -7.966 |\n",
        "| ave_lot_sqft                   |    0.092    |   0.010    |  9.061  |\n",
        "| ave_income                     |    0.078    |   0.009    |  9.072  |\n",
        "| hhsize                         |    -0.066   |   0.064    |  -1.038 |\n",
        "| jobs                           |    1.020    |   0.010    | 105.398 |\n",
        "| sfdu                           |    -0.120   |   0.008    | -14.291 |\n",
        "| renters                        |    0.007    |   0.015    |  0.438  |\n",
        "| poor                           |    0.511    |   0.014    |  36.382 |\n",
        "+--------------------------------+-------------+------------+---------+\n",
        "\n",
        "LCM RESULTS FOR SEGMENT 48\n",
        "\n",
        "Null Log-liklihood: -69077.553\n",
        "Log-liklihood at convergence: -38664.544\n",
        "Log-liklihood Ratio: 0.440\n",
        "\n",
        "+--------------------------------+-------------+------------+---------+\n",
        "| Component                      | Coefficient | Std. Error | T-Score |\n",
        "+--------------------------------+-------------+------------+---------+\n",
        "| np.log1p(non_residential_rent) |    0.458    |   0.008    |  58.492 |\n",
        "| np.log1p(stories)              |    -0.411   |   0.031    | -13.233 |\n",
        "| sum_residential_units          |    -0.890   |   0.018    | -48.136 |\n",
        "| ave_unit_sqft                  |    -0.031   |   0.014    |  -2.276 |\n",
        "| ave_lot_sqft                   |    0.087    |   0.009    |  9.973  |\n",
        "| ave_income                     |    -0.070   |   0.007    |  -9.416 |\n",
        "| hhsize                         |    0.771    |   0.056    |  13.763 |\n",
        "| jobs                           |    0.953    |   0.009    | 105.443 |\n",
        "| sfdu                           |    -0.153   |   0.009    | -17.335 |\n",
        "| renters                        |    -0.053   |   0.016    |  -3.234 |\n",
        "| poor                           |    0.176    |   0.013    |  13.515 |\n",
        "+--------------------------------+-------------+------------+---------+\n",
        "\n",
        "LCM RESULTS FOR SEGMENT 49\n",
        "\n",
        "Null Log-liklihood: -69077.553\n",
        "Log-liklihood at convergence: -27536.875\n",
        "Log-liklihood Ratio: 0.601\n",
        "\n",
        "+--------------------------------+-------------+------------+---------+\n",
        "| Component                      | Coefficient | Std. Error | T-Score |\n",
        "+--------------------------------+-------------+------------+---------+\n",
        "| np.log1p(non_residential_rent) |    0.692    |   0.009    |  80.545 |\n",
        "| np.log1p(stories)              |    -0.888   |   0.046    | -19.523 |\n",
        "| sum_residential_units          |    -1.329   |   0.022    | -61.538 |\n",
        "| ave_unit_sqft                  |    -0.157   |   0.017    |  -9.347 |\n",
        "| ave_lot_sqft                   |    0.084    |   0.012    |  7.199  |\n",
        "| ave_income                     |    -0.089   |   0.009    | -10.421 |\n",
        "| hhsize                         |    0.669    |   0.066    |  10.118 |\n",
        "| jobs                           |    1.235    |   0.013    |  95.960 |\n",
        "| sfdu                           |    -0.190   |   0.010    | -19.982 |\n",
        "| renters                        |    0.358    |   0.018    |  19.876 |\n",
        "| poor                           |    0.159    |   0.016    |  10.133 |\n",
        "+--------------------------------+-------------+------------+---------+"
       ]
      },
      {
       "output_type": "stream",
       "stream": "stdout",
       "text": [
        "\n",
        "\n",
        "LCM RESULTS FOR SEGMENT 51\n",
        "\n",
        "Null Log-liklihood: -69077.553\n",
        "Log-liklihood at convergence: -27043.320\n",
        "Log-liklihood Ratio: 0.609\n",
        "\n",
        "+--------------------------------+-------------+------------+---------+\n",
        "| Component                      | Coefficient | Std. Error | T-Score |\n",
        "+--------------------------------+-------------+------------+---------+\n",
        "| np.log1p(non_residential_rent) |    0.380    |   0.008    |  47.510 |\n",
        "| np.log1p(stories)              |    0.469    |   0.029    |  16.326 |\n",
        "| sum_residential_units          |    -0.927   |   0.022    | -41.292 |\n",
        "| ave_unit_sqft                  |    0.190    |   0.017    |  11.088 |\n",
        "| ave_lot_sqft                   |    0.045    |   0.012    |  3.870  |\n",
        "| ave_income                     |    0.153    |   0.009    |  16.224 |\n",
        "| hhsize                         |    -1.100   |   0.072    | -15.182 |\n",
        "| jobs                           |    1.266    |   0.011    | 116.786 |\n",
        "| sfdu                           |    -0.036   |   0.009    |  -3.866 |\n",
        "| renters                        |    0.233    |   0.017    |  13.551 |\n",
        "| poor                           |    0.056    |   0.016    |  3.405  |\n",
        "+--------------------------------+-------------+------------+---------+\n",
        "\n",
        "LCM RESULTS FOR SEGMENT 52\n",
        "\n",
        "Null Log-liklihood: -69077.553\n",
        "Log-liklihood at convergence: -30325.131\n",
        "Log-liklihood Ratio: 0.561\n",
        "\n",
        "+--------------------------------+-------------+------------+---------+\n",
        "| Component                      | Coefficient | Std. Error | T-Score |\n",
        "+--------------------------------+-------------+------------+---------+\n",
        "| np.log1p(non_residential_rent) |    0.574    |   0.007    |  78.738 |\n",
        "| np.log1p(stories)              |    1.046    |   0.027    |  39.007 |\n",
        "| sum_residential_units          |    -0.972   |   0.024    | -40.447 |\n",
        "| ave_unit_sqft                  |    -0.108   |   0.017    |  -6.324 |\n",
        "| ave_lot_sqft                   |    0.084    |   0.012    |  7.064  |\n",
        "| ave_income                     |    0.200    |   0.010    |  19.700 |\n",
        "| hhsize                         |    -1.260   |   0.081    | -15.608 |\n",
        "| jobs                           |    1.163    |   0.010    | 116.286 |\n",
        "| sfdu                           |    0.079    |   0.010    |  8.171  |\n",
        "| renters                        |    0.129    |   0.017    |  7.744  |\n",
        "| poor                           |    0.138    |   0.017    |  8.355  |\n",
        "+--------------------------------+-------------+------------+---------+\n",
        "\n",
        "LCM RESULTS FOR SEGMENT 53\n",
        "\n",
        "Null Log-liklihood: -69077.553\n",
        "Log-liklihood at convergence: -47398.682\n",
        "Log-liklihood Ratio: 0.314\n",
        "\n",
        "+--------------------------------+-------------+------------+---------+\n",
        "| Component                      | Coefficient | Std. Error | T-Score |\n",
        "+--------------------------------+-------------+------------+---------+\n",
        "| np.log1p(non_residential_rent) |    0.672    |   0.006    | 103.665 |\n",
        "| np.log1p(stories)              |    0.383    |   0.027    |  14.070 |\n",
        "| sum_residential_units          |    -0.591   |   0.020    | -28.962 |\n",
        "| ave_unit_sqft                  |    -0.214   |   0.015    | -14.039 |\n",
        "| ave_lot_sqft                   |    0.060    |   0.010    |  5.950  |\n",
        "| ave_income                     |    0.172    |   0.009    |  20.126 |\n",
        "| hhsize                         |    -1.102   |   0.064    | -17.232 |\n",
        "| jobs                           |    0.745    |   0.009    |  86.128 |\n",
        "| sfdu                           |    -0.051   |   0.008    |  -6.427 |\n",
        "| renters                        |    -0.046   |   0.015    |  -3.087 |\n",
        "| poor                           |    0.145    |   0.014    |  10.425 |\n",
        "+--------------------------------+-------------+------------+---------+\n",
        "\n",
        "LCM RESULTS FOR SEGMENT 54\n",
        "\n",
        "Null Log-liklihood: -69077.553\n",
        "Log-liklihood at convergence: -35609.463\n",
        "Log-liklihood Ratio: 0.485\n",
        "\n",
        "+--------------------------------+-------------+------------+---------+\n",
        "| Component                      | Coefficient | Std. Error | T-Score |\n",
        "+--------------------------------+-------------+------------+---------+\n",
        "| np.log1p(non_residential_rent) |    0.527    |   0.007    |  70.285 |\n",
        "| np.log1p(stories)              |    0.755    |   0.026    |  28.725 |\n",
        "| sum_residential_units          |    -0.740   |   0.021    | -34.490 |\n",
        "| ave_unit_sqft                  |    -0.007   |   0.014    |  -0.494 |\n",
        "| ave_lot_sqft                   |    0.162    |   0.010    |  16.138 |\n",
        "| ave_income                     |    0.164    |   0.009    |  19.060 |\n",
        "| hhsize                         |    -1.333   |   0.069    | -19.383 |\n",
        "| jobs                           |    0.965    |   0.009    | 106.722 |\n",
        "| sfdu                           |    -0.041   |   0.009    |  -4.658 |\n",
        "| renters                        |    0.176    |   0.016    |  10.953 |\n",
        "| poor                           |    0.023    |   0.015    |  1.579  |\n",
        "+--------------------------------+-------------+------------+---------+\n",
        "\n",
        "LCM RESULTS FOR SEGMENT 55\n",
        "\n",
        "Null Log-liklihood: -35874.276\n",
        "Log-liklihood at convergence: -19576.265\n",
        "Log-liklihood Ratio: 0.454\n",
        "\n",
        "+--------------------------------+-------------+------------+---------+\n",
        "| Component                      | Coefficient | Std. Error | T-Score |\n",
        "+--------------------------------+-------------+------------+---------+\n",
        "| np.log1p(non_residential_rent) |    0.525    |   0.011    |  45.729 |\n",
        "| np.log1p(stories)              |    0.918    |   0.039    |  23.785 |\n",
        "| sum_residential_units          |    -0.648   |   0.034    | -19.339 |\n",
        "| ave_unit_sqft                  |    -0.130   |   0.023    |  -5.662 |\n",
        "| ave_lot_sqft                   |    -0.014   |   0.016    |  -0.873 |\n",
        "| ave_income                     |    0.143    |   0.013    |  11.440 |\n",
        "| hhsize                         |    -1.985   |   0.107    | -18.632 |\n",
        "| jobs                           |    0.938    |   0.014    |  65.144 |\n",
        "| sfdu                           |    -0.030   |   0.012    |  -2.594 |\n",
        "| renters                        |    0.472    |   0.023    |  20.284 |\n",
        "| poor                           |    -0.395   |   0.022    | -17.933 |\n",
        "+--------------------------------+-------------+------------+---------+\n",
        "\n",
        "LCM RESULTS FOR SEGMENT 56\n",
        "\n",
        "Null Log-liklihood: -69077.553\n",
        "Log-liklihood at convergence: -54479.931\n",
        "Log-liklihood Ratio: 0.211\n",
        "\n",
        "+--------------------------------+-------------+------------+---------+\n",
        "| Component                      | Coefficient | Std. Error | T-Score |\n",
        "+--------------------------------+-------------+------------+---------+\n",
        "| np.log1p(non_residential_rent) |    0.584    |   0.007    |  81.439 |\n",
        "| np.log1p(stories)              |    0.548    |   0.030    |  18.562 |\n",
        "| sum_residential_units          |    -0.468   |   0.022    | -21.021 |\n",
        "| ave_unit_sqft                  |    -0.073   |   0.014    |  -5.399 |\n",
        "| ave_lot_sqft                   |    0.092    |   0.009    |  10.554 |\n",
        "| ave_income                     |    0.018    |   0.008    |  2.298  |\n",
        "| hhsize                         |    -0.181   |   0.062    |  -2.941 |\n",
        "| jobs                           |    0.539    |   0.008    |  64.108 |\n",
        "| sfdu                           |    -0.086   |   0.007    | -11.868 |\n",
        "| renters                        |    0.158    |   0.016    |  9.882  |\n",
        "| poor                           |    -0.046   |   0.014    |  -3.333 |\n",
        "+--------------------------------+-------------+------------+---------+\n",
        "\n",
        "LCM RESULTS FOR SEGMENT 61\n",
        "\n",
        "Null Log-liklihood: -69077.553\n",
        "Log-liklihood at convergence: -49611.885\n",
        "Log-liklihood Ratio: 0.282\n",
        "\n",
        "+--------------------------------+-------------+------------+---------+\n",
        "| Component                      | Coefficient | Std. Error | T-Score |\n",
        "+--------------------------------+-------------+------------+---------+\n",
        "| np.log1p(non_residential_rent) |    0.311    |   0.006    |  48.193 |\n",
        "| np.log1p(stories)              |    0.564    |   0.031    |  18.464 |\n",
        "| sum_residential_units          |    -1.792   |   0.027    | -66.588 |\n",
        "| ave_unit_sqft                  |    -0.580   |   0.014    | -41.771 |\n",
        "| ave_lot_sqft                   |    0.117    |   0.010    |  11.817 |\n",
        "| ave_income                     |    0.122    |   0.010    |  11.872 |\n",
        "| hhsize                         |    -0.776   |   0.074    | -10.518 |\n",
        "| jobs                           |    1.286    |   0.010    | 129.631 |\n",
        "| sfdu                           |    -0.068   |   0.007    |  -9.148 |\n",
        "| renters                        |    0.190    |   0.017    |  11.427 |\n",
        "| poor                           |    0.762    |   0.016    |  47.596 |\n",
        "+--------------------------------+-------------+------------+---------+\n",
        "\n",
        "LCM RESULTS FOR SEGMENT 62\n",
        "\n",
        "Null Log-liklihood: -69077.553\n",
        "Log-liklihood at convergence: -38380.105\n",
        "Log-liklihood Ratio: 0.444\n",
        "\n",
        "+--------------------------------+-------------+------------+---------+\n",
        "| Component                      | Coefficient | Std. Error | T-Score |\n",
        "+--------------------------------+-------------+------------+---------+\n",
        "| np.log1p(non_residential_rent) |    0.733    |   0.007    | 111.397 |\n",
        "| np.log1p(stories)              |    0.608    |   0.028    |  21.585 |\n",
        "| sum_residential_units          |    -1.384   |   0.025    | -56.116 |\n",
        "| ave_unit_sqft                  |    -0.638   |   0.015    | -41.489 |\n",
        "| ave_lot_sqft                   |    0.130    |   0.011    |  11.922 |\n",
        "| ave_income                     |    0.033    |   0.009    |  3.445  |\n",
        "| hhsize                         |    -0.797   |   0.073    | -10.982 |\n",
        "| jobs                           |    1.281    |   0.009    | 139.716 |\n",
        "| sfdu                           |    -0.065   |   0.008    |  -8.339 |\n",
        "| renters                        |    0.268    |   0.016    |  17.200 |\n",
        "| poor                           |    0.469    |   0.017    |  28.027 |\n",
        "+--------------------------------+-------------+------------+---------+\n",
        "\n",
        "LCM RESULTS FOR SEGMENT 71\n",
        "\n",
        "Null Log-liklihood: -69077.553\n",
        "Log-liklihood at convergence: -46078.911\n",
        "Log-liklihood Ratio: 0.333\n",
        "\n",
        "+--------------------------------+-------------+------------+---------+\n",
        "| Component                      | Coefficient | Std. Error | T-Score |\n",
        "+--------------------------------+-------------+------------+---------+\n",
        "| np.log1p(non_residential_rent) |    0.523    |   0.006    |  81.361 |\n",
        "| np.log1p(stories)              |    0.504    |   0.028    |  17.730 |\n",
        "| sum_residential_units          |    -0.878   |   0.020    | -42.881 |\n",
        "| ave_unit_sqft                  |    -0.443   |   0.012    | -35.641 |\n",
        "| ave_lot_sqft                   |    0.224    |   0.008    |  29.160 |\n",
        "| ave_income                     |    0.171    |   0.008    |  20.724 |\n",
        "| hhsize                         |    -1.099   |   0.064    | -17.082 |\n",
        "| jobs                           |    0.986    |   0.009    | 106.615 |\n",
        "| sfdu                           |    -0.123   |   0.008    | -16.053 |\n",
        "| renters                        |    -0.035   |   0.014    |  -2.469 |\n",
        "| poor                           |    0.251    |   0.013    |  18.667 |\n",
        "+--------------------------------+-------------+------------+---------+\n",
        "\n",
        "LCM RESULTS FOR SEGMENT 72\n",
        "\n",
        "Null Log-liklihood: -69077.553\n",
        "Log-liklihood at convergence: -37847.153\n",
        "Log-liklihood Ratio: 0.452\n",
        "\n",
        "+--------------------------------+-------------+------------+---------+\n",
        "| Component                      | Coefficient | Std. Error | T-Score |\n",
        "+--------------------------------+-------------+------------+---------+\n",
        "| np.log1p(non_residential_rent) |    0.682    |   0.006    | 106.160 |\n",
        "| np.log1p(stories)              |    0.719    |   0.024    |  30.438 |\n",
        "| sum_residential_units          |    -1.019   |   0.023    | -44.431 |\n",
        "| ave_unit_sqft                  |    -0.231   |   0.014    | -16.632 |\n",
        "| ave_lot_sqft                   |    0.134    |   0.009    |  14.623 |\n",
        "| ave_income                     |    0.148    |   0.009    |  17.387 |\n",
        "| hhsize                         |    -1.172   |   0.065    | -17.916 |\n",
        "| jobs                           |    1.016    |   0.011    |  92.781 |\n",
        "| sfdu                           |    -0.128   |   0.008    | -16.376 |\n",
        "| renters                        |    -0.051   |   0.014    |  -3.686 |\n",
        "| poor                           |    0.492    |   0.015    |  32.638 |\n",
        "+--------------------------------+-------------+------------+---------+\n",
        "\n",
        "LCM RESULTS FOR SEGMENT 81\n",
        "\n",
        "Null Log-liklihood: -69077.553\n",
        "Log-liklihood at convergence: -46720.288\n",
        "Log-liklihood Ratio: 0.324\n",
        "\n",
        "+--------------------------------+-------------+------------+---------+\n",
        "| Component                      | Coefficient | Std. Error | T-Score |\n",
        "+--------------------------------+-------------+------------+---------+\n",
        "| np.log1p(non_residential_rent) |    0.809    |   0.007    | 118.943 |\n",
        "| np.log1p(stories)              |    0.262    |   0.029    |  8.947  |\n",
        "| sum_residential_units          |    -0.564   |   0.023    | -24.743 |\n",
        "| ave_unit_sqft                  |    -0.246   |   0.015    | -16.412 |\n",
        "| ave_lot_sqft                   |    0.027    |   0.010    |  2.656  |\n",
        "| ave_income                     |    0.020    |   0.009    |  2.369  |\n",
        "| hhsize                         |    -0.082   |   0.064    |  -1.281 |\n",
        "| jobs                           |    0.713    |   0.009    |  75.726 |\n",
        "| sfdu                           |    -0.044   |   0.008    |  -5.778 |\n",
        "| renters                        |    -0.051   |   0.016    |  -3.277 |\n",
        "| poor                           |    0.210    |   0.014    |  14.679 |\n",
        "+--------------------------------+-------------+------------+---------+\n",
        "\n",
        "LCM RESULTS FOR SEGMENT 92\n",
        "\n",
        "Null Log-liklihood: -69077.553\n",
        "Log-liklihood at convergence: -28119.728\n",
        "Log-liklihood Ratio: 0.593\n",
        "\n",
        "+--------------------------------+-------------+------------+---------+\n",
        "| Component                      | Coefficient | Std. Error | T-Score |\n",
        "+--------------------------------+-------------+------------+---------+\n",
        "| np.log1p(non_residential_rent) |    0.265    |   0.007    |  37.930 |\n",
        "| np.log1p(stories)              |    0.174    |   0.026    |  6.614  |\n",
        "| sum_residential_units          |    -1.636   |   0.025    | -66.287 |\n",
        "| ave_unit_sqft                  |    -0.612   |   0.014    | -43.605 |\n",
        "| ave_lot_sqft                   |    0.417    |   0.009    |  49.057 |\n",
        "| ave_income                     |    0.055    |   0.010    |  5.544  |\n",
        "| hhsize                         |    -0.658   |   0.076    |  -8.675 |\n",
        "| jobs                           |    1.864    |   0.012    | 162.028 |\n",
        "| sfdu                           |    -0.132   |   0.009    | -15.363 |\n",
        "| renters                        |    -0.128   |   0.015    |  -8.511 |\n",
        "| poor                           |    0.994    |   0.017    |  57.100 |\n",
        "+--------------------------------+-------------+------------+---------+\n",
        "\n",
        "LCM RESULTS FOR SEGMENT 99\n",
        "\n",
        "Null Log-liklihood: -14888.515\n",
        "Log-liklihood at convergence: -7632.329\n",
        "Log-liklihood Ratio: 0.487\n",
        "\n",
        "+--------------------------------+-------------+------------+---------+\n",
        "| Component                      | Coefficient | Std. Error | T-Score |\n",
        "+--------------------------------+-------------+------------+---------+\n",
        "| np.log1p(non_residential_rent) |    0.776    |   0.017    |  46.207 |\n",
        "| np.log1p(stories)              |    0.343    |   0.063    |  5.487  |\n",
        "| sum_residential_units          |    -0.049   |   0.046    |  -1.067 |\n",
        "| ave_unit_sqft                  |    0.002    |   0.037    |  0.064  |\n",
        "| ave_lot_sqft                   |    0.208    |   0.026    |  8.076  |\n",
        "| ave_income                     |    0.113    |   0.019    |  5.885  |\n",
        "| hhsize                         |    -0.865   |   0.154    |  -5.623 |\n",
        "| jobs                           |    0.716    |   0.025    |  28.163 |\n",
        "| sfdu                           |    -0.036   |   0.020    |  -1.870 |\n",
        "| renters                        |    -0.084   |   0.033    |  -2.536 |\n",
        "| poor                           |    -0.006   |   0.031    |  -0.179 |\n",
        "+--------------------------------+-------------+------------+---------+\n",
        "\n"
       ]
      }
     ],
     "prompt_number": 11
    },
    {
     "cell_type": "code",
     "collapsed": false,
     "input": [
      "models.households_relocation(dset)\n",
      "models.jobs_relocation(dset)\n",
      "hlcmo_pdfs = models.hlcmo_simulate(dset)\n",
      "hlcmr_pdfs = models.hlcmr_simulate(dset)\n",
      "elcm_pdfs = models.elcm_simulate(dset)"
     ],
     "language": "python",
     "metadata": {},
     "outputs": [
      {
       "output_type": "stream",
       "stream": "stdout",
       "text": [
        "Running relocation\n",
        "\n",
        "Total currently unplaced: 0"
       ]
      },
      {
       "output_type": "stream",
       "stream": "stdout",
       "text": [
        "\n",
        "Total currently unplaced: 130401"
       ]
      },
      {
       "output_type": "stream",
       "stream": "stdout",
       "text": [
        "\n",
        "Running relocation\n",
        "\n",
        "Total currently unplaced: 0"
       ]
      },
      {
       "output_type": "stream",
       "stream": "stdout",
       "text": [
        "\n",
        "Total currently unplaced: 326867"
       ]
      },
      {
       "output_type": "stream",
       "stream": "stdout",
       "text": [
        "\n",
        "Returning primary attribute: income of households\n",
        "Returning primary attribute: building_id of households"
       ]
      },
      {
       "output_type": "stream",
       "stream": "stdout",
       "text": [
        "\n",
        "Returning primary attribute: tenure of households\n",
        "Returning primary attribute: persons of households\n",
        "Returning from cache: _node_id of households\n",
        "Returning from cache: _node_id0 of households\n",
        "Returning primary attribute: year_built of buildings"
       ]
      },
      {
       "output_type": "stream",
       "stream": "stdout",
       "text": [
        "\n",
        "Returning from cache: unit_lot_size of buildings\n",
        "Returning from cache: unit_sqft of buildings\n",
        "Returning primary attribute: building_type_id of buildings\n",
        "Returning primary attribute: stories of buildings"
       ]
      },
      {
       "output_type": "stream",
       "stream": "stdout",
       "text": [
        "\n",
        "Returning primary attribute: residential_units of buildings\n",
        "Returning primary attribute: building_type_id of buildings\n",
        "Returning primary attribute: non_residential_sqft of buildings"
       ]
      },
      {
       "output_type": "stream",
       "stream": "stdout",
       "text": [
        "\n",
        "Returning primary attribute: building_type_id of buildings\n",
        "Returning primary attribute: residential_sales_price of buildings\n",
        "Returning primary attribute: residential_rent of buildings\n",
        "Returning primary attribute: non_residential_rent of buildings\n",
        "Returning from cache: _node_id of buildings\n",
        "Returning from cache: _node_id0 of buildings\n",
        "Returning from cache: zone_id of buildings\n",
        "Returning from cache: lot_size of buildings\n",
        "There are 2936840 total available units"
       ]
      },
      {
       "output_type": "stream",
       "stream": "stdout",
       "text": [
        "\n",
        "    and 2608023 total choosers\n",
        "    but there are 153353 overfull buildings"
       ]
      },
      {
       "output_type": "stream",
       "stream": "stdout",
       "text": [
        "\n",
        "    for a total of 655546 empty units"
       ]
      },
      {
       "output_type": "stream",
       "stream": "stdout",
       "text": [
        "\n",
        "    in 468478 buildings total in the region\n",
        "Returning primary attribute: income of households\n",
        "Returning primary attribute: building_id of households"
       ]
      },
      {
       "output_type": "stream",
       "stream": "stdout",
       "text": [
        "\n",
        "Returning primary attribute: tenure of households\n",
        "Returning primary attribute: persons of households\n",
        "Returning from cache: _node_id of households\n",
        "Returning from cache: _node_id0 of households\n",
        "Running location choice model simulation\n"
       ]
      },
      {
       "output_type": "stream",
       "stream": "stdout",
       "text": [
        "\n",
        "Returning group 0"
       ]
      },
      {
       "output_type": "stream",
       "stream": "stdout",
       "text": [
        "\n",
        "Returning group 1"
       ]
      },
      {
       "output_type": "stream",
       "stream": "stdout",
       "text": [
        "\n",
        "Returning group 2"
       ]
      },
      {
       "output_type": "stream",
       "stream": "stdout",
       "text": [
        "\n",
        "Returning group 3"
       ]
      },
      {
       "output_type": "stream",
       "stream": "stdout",
       "text": [
        "\n",
        "Assigned 73678 choosers to new units"
       ]
      },
      {
       "output_type": "stream",
       "stream": "stdout",
       "text": [
        "\n",
        "Total currently unplaced: 56723"
       ]
      },
      {
       "output_type": "stream",
       "stream": "stdout",
       "text": [
        "\n",
        "Returning primary attribute: income of households"
       ]
      },
      {
       "output_type": "stream",
       "stream": "stdout",
       "text": [
        "\n",
        "Returning primary attribute: building_id of households"
       ]
      },
      {
       "output_type": "stream",
       "stream": "stdout",
       "text": [
        "\n",
        "Returning primary attribute: tenure of households\n",
        "Returning primary attribute: persons of households\n",
        "Returning from cache: _node_id of households\n",
        "Returning from cache: _node_id0 of households\n",
        "Returning primary attribute: year_built of buildings"
       ]
      },
      {
       "output_type": "stream",
       "stream": "stdout",
       "text": [
        "\n",
        "Returning from cache: unit_lot_size of buildings\n",
        "Returning from cache: unit_sqft of buildings\n",
        "Returning primary attribute: building_type_id of buildings\n",
        "Returning primary attribute: stories of buildings"
       ]
      },
      {
       "output_type": "stream",
       "stream": "stdout",
       "text": [
        "\n",
        "Returning primary attribute: residential_units of buildings\n",
        "Returning primary attribute: building_type_id of buildings\n",
        "Returning primary attribute: non_residential_sqft of buildings"
       ]
      },
      {
       "output_type": "stream",
       "stream": "stdout",
       "text": [
        "\n",
        "Returning primary attribute: building_type_id of buildings\n",
        "Returning primary attribute: residential_sales_price of buildings\n",
        "Returning primary attribute: residential_rent of buildings\n",
        "Returning primary attribute: non_residential_rent of buildings\n",
        "Returning from cache: _node_id of buildings\n",
        "Returning from cache: _node_id0 of buildings\n",
        "Returning from cache: zone_id of buildings\n",
        "Returning from cache: lot_size of buildings\n",
        "There are 2936840 total available units"
       ]
      },
      {
       "output_type": "stream",
       "stream": "stdout",
       "text": [
        "\n",
        "    and 2608023 total choosers\n",
        "    but there are 153353 overfull buildings"
       ]
      },
      {
       "output_type": "stream",
       "stream": "stdout",
       "text": [
        "\n",
        "    for a total of 581868 empty units"
       ]
      },
      {
       "output_type": "stream",
       "stream": "stdout",
       "text": [
        "\n",
        "    in 426077 buildings total in the region\n",
        "Returning primary attribute: income of households\n",
        "Returning primary attribute: building_id of households"
       ]
      },
      {
       "output_type": "stream",
       "stream": "stdout",
       "text": [
        "\n",
        "Returning primary attribute: tenure of households\n",
        "Returning primary attribute: persons of households\n",
        "Returning from cache: _node_id of households\n",
        "Returning from cache: _node_id0 of households\n",
        "Running location choice model simulation\n"
       ]
      },
      {
       "output_type": "stream",
       "stream": "stdout",
       "text": [
        "\n",
        "Returning group 0"
       ]
      },
      {
       "output_type": "stream",
       "stream": "stdout",
       "text": [
        "\n",
        "Returning group 1"
       ]
      },
      {
       "output_type": "stream",
       "stream": "stdout",
       "text": [
        "\n",
        "Returning group 2"
       ]
      },
      {
       "output_type": "stream",
       "stream": "stdout",
       "text": [
        "\n",
        "Returning group 3"
       ]
      },
      {
       "output_type": "stream",
       "stream": "stdout",
       "text": [
        "\n",
        "Assigned 56723 choosers to new units"
       ]
      },
      {
       "output_type": "stream",
       "stream": "stdout",
       "text": [
        "\n",
        "Total currently unplaced: 0"
       ]
      },
      {
       "output_type": "stream",
       "stream": "stdout",
       "text": [
        "\n",
        "Returning primary attribute: building_id of jobs"
       ]
      },
      {
       "output_type": "stream",
       "stream": "stdout",
       "text": [
        "\n",
        "Returning from cache: _node_id0 of jobs\n",
        "Returning from cache: _node_id of jobs\n",
        "Returning from cache: naics of jobs\n",
        "Returning primary attribute: year_built of buildings"
       ]
      },
      {
       "output_type": "stream",
       "stream": "stdout",
       "text": [
        "\n",
        "Returning from cache: unit_lot_size of buildings\n",
        "Returning from cache: unit_sqft of buildings\n",
        "Returning primary attribute: building_type_id of buildings\n",
        "Returning primary attribute: stories of buildings"
       ]
      },
      {
       "output_type": "stream",
       "stream": "stdout",
       "text": [
        "\n",
        "Returning primary attribute: residential_units of buildings\n",
        "Returning primary attribute: building_type_id of buildings\n",
        "Returning primary attribute: non_residential_sqft of buildings"
       ]
      },
      {
       "output_type": "stream",
       "stream": "stdout",
       "text": [
        "\n",
        "Returning primary attribute: building_type_id of buildings\n",
        "Returning primary attribute: residential_sales_price of buildings\n",
        "Returning primary attribute: residential_rent of buildings\n",
        "Returning primary attribute: non_residential_rent of buildings\n",
        "Returning from cache: _node_id of buildings\n",
        "Returning from cache: _node_id0 of buildings\n",
        "Returning from cache: zone_id of buildings\n",
        "Returning from cache: lot_size of buildings\n",
        "There are 3735985 total available units"
       ]
      },
      {
       "output_type": "stream",
       "stream": "stdout",
       "text": [
        "\n",
        "    and 4085844 total choosers\n",
        "    but there are 271325 overfull buildings"
       ]
      },
      {
       "output_type": "stream",
       "stream": "stdout",
       "text": [
        "\n",
        "    for a total of 2559960 empty units"
       ]
      },
      {
       "output_type": "stream",
       "stream": "stdout",
       "text": [
        "\n",
        "    in 65261 buildings total in the region\n",
        "Returning primary attribute: building_id of jobs\n",
        "Returning from cache: _node_id0 of jobs\n",
        "Returning from cache: _node_id of jobs\n",
        "Returning from cache: naics of jobs\n",
        "Running location choice model simulation\n",
        "\n",
        "Returning group 11"
       ]
      },
      {
       "output_type": "stream",
       "stream": "stdout",
       "text": [
        "\n",
        "Returning group 21"
       ]
      },
      {
       "output_type": "stream",
       "stream": "stdout",
       "text": [
        "\n",
        "Returning group 22"
       ]
      },
      {
       "output_type": "stream",
       "stream": "stdout",
       "text": [
        "\n",
        "Returning group 23"
       ]
      },
      {
       "output_type": "stream",
       "stream": "stdout",
       "text": [
        "\n",
        "Returning group 31"
       ]
      },
      {
       "output_type": "stream",
       "stream": "stdout",
       "text": [
        "\n",
        "Returning group 32"
       ]
      },
      {
       "output_type": "stream",
       "stream": "stdout",
       "text": [
        "\n",
        "Returning group 33"
       ]
      },
      {
       "output_type": "stream",
       "stream": "stdout",
       "text": [
        "\n",
        "Returning group 42"
       ]
      },
      {
       "output_type": "stream",
       "stream": "stdout",
       "text": [
        "\n",
        "Returning group 44"
       ]
      },
      {
       "output_type": "stream",
       "stream": "stdout",
       "text": [
        "\n",
        "Returning group 45"
       ]
      },
      {
       "output_type": "stream",
       "stream": "stdout",
       "text": [
        "\n",
        "Returning group 48"
       ]
      },
      {
       "output_type": "stream",
       "stream": "stdout",
       "text": [
        "\n",
        "Returning group 49"
       ]
      },
      {
       "output_type": "stream",
       "stream": "stdout",
       "text": [
        "\n",
        "Returning group 51"
       ]
      },
      {
       "output_type": "stream",
       "stream": "stdout",
       "text": [
        "\n",
        "Returning group 52"
       ]
      },
      {
       "output_type": "stream",
       "stream": "stdout",
       "text": [
        "\n",
        "Returning group 53"
       ]
      },
      {
       "output_type": "stream",
       "stream": "stdout",
       "text": [
        "\n",
        "Returning group 54"
       ]
      },
      {
       "output_type": "stream",
       "stream": "stdout",
       "text": [
        "\n",
        "Returning group 55"
       ]
      },
      {
       "output_type": "stream",
       "stream": "stdout",
       "text": [
        "\n",
        "Returning group 56"
       ]
      },
      {
       "output_type": "stream",
       "stream": "stdout",
       "text": [
        "\n",
        "Returning group 61"
       ]
      },
      {
       "output_type": "stream",
       "stream": "stdout",
       "text": [
        "\n",
        "Returning group 62"
       ]
      },
      {
       "output_type": "stream",
       "stream": "stdout",
       "text": [
        "\n",
        "Returning group 71"
       ]
      },
      {
       "output_type": "stream",
       "stream": "stdout",
       "text": [
        "\n",
        "Returning group 72"
       ]
      },
      {
       "output_type": "stream",
       "stream": "stdout",
       "text": [
        "\n",
        "Returning group 81"
       ]
      },
      {
       "output_type": "stream",
       "stream": "stdout",
       "text": [
        "\n",
        "Returning group 92"
       ]
      },
      {
       "output_type": "stream",
       "stream": "stdout",
       "text": [
        "\n",
        "Returning group 99"
       ]
      },
      {
       "output_type": "stream",
       "stream": "stdout",
       "text": [
        "\n",
        "Assigned 326867 choosers to new units"
       ]
      },
      {
       "output_type": "stream",
       "stream": "stdout",
       "text": [
        "\n",
        "Total currently unplaced: 0"
       ]
      },
      {
       "output_type": "stream",
       "stream": "stdout",
       "text": [
        "\n"
       ]
      }
     ],
     "prompt_number": 60
    },
    {
     "cell_type": "code",
     "collapsed": false,
     "input": [
      "from urbansim.utils.misc import naicsname\n",
      "elcm_pdfs.columns =  [naicsname(x) for x in elcm_pdfs.columns]"
     ],
     "language": "python",
     "metadata": {},
     "outputs": [],
     "prompt_number": 69
    },
    {
     "cell_type": "code",
     "collapsed": false,
     "input": [
      "import pandas as pd\n",
      "df = pd.concat([dset.merge_nodes(dset.view(\"buildings\").build_df()), hlcmo_pdfs, hlcmr_pdfs, elcm_pdfs], \n",
      "               keys=[\"\", \"hlcmo\", \"hlcmr\", \"elcm\"], axis=1)\n",
      "df.columns = [' '.join([str(x) for x in col]).strip() for col in df.columns.values]\n",
      "print df.columns\n",
      "d = {\"buildings\": df}"
     ],
     "language": "python",
     "metadata": {},
     "outputs": [
      {
       "output_type": "stream",
       "stream": "stdout",
       "text": [
        "Returning primary attribute: year_built of buildings\n",
        "Returning from cache: unit_lot_size of buildings\n",
        "Returning from cache: unit_sqft of buildings\n",
        "Returning primary attribute: building_type_id of buildings\n",
        "Returning primary attribute: stories of buildings"
       ]
      },
      {
       "output_type": "stream",
       "stream": "stdout",
       "text": [
        "\n",
        "Returning primary attribute: residential_units of buildings\n",
        "Returning primary attribute: building_type_id of buildings\n",
        "Returning primary attribute: non_residential_sqft of buildings"
       ]
      },
      {
       "output_type": "stream",
       "stream": "stdout",
       "text": [
        "\n",
        "Returning primary attribute: building_type_id of buildings\n",
        "Returning primary attribute: residential_sales_price of buildings\n",
        "Returning primary attribute: residential_rent of buildings\n",
        "Returning primary attribute: non_residential_rent of buildings\n",
        "Returning from cache: _node_id of buildings\n",
        "Returning from cache: _node_id0 of buildings\n",
        "Returning from cache: zone_id of buildings\n",
        "Returning from cache: lot_size of buildings\n",
        "Index([u'year_built', u'unit_lot_size', u'unit_sqft', u'general_type', u'stories', u'residential_units', u'non_residential_units', u'building_type_id', u'residential_sales_price', u'residential_rent', u'non_residential_rent', u'_node_id', u'_node_id0', u'zone_id', u'lot_size', u'sum_residential_units', u'sum_nonresidential_units', u'ave_unit_sqft', u'ave_lot_sqft', u'population', u'poor', u'renters', u'sfdu', u'hhsize', u'jobs', u'ave_income', u'hlcmo 0', u'hlcmo 1', u'hlcmo 2', u'hlcmo 3', u'hlcmr 0', u'hlcmr 1', u'hlcmr 2', u'hlcmr 3', u'elcm Agriculture', u'elcm Mining', u'elcm Utilities', u'elcm Construction', u'elcm Manufacturing', u'elcm Manufacturing', u'elcm Manufacturing', u'elcm Wholesale', u'elcm Retail', u'elcm Retail', u'elcm Transportation', u'elcm Warehousing', u'elcm Information', u'elcm Finance and Insurance', u'elcm Real Estate', u'elcm Professional', u'elcm Management', u'elcm Administrative', u'elcm Educational', u'elcm Health Care', u'elcm Arts', u'elcm Accomodation and Food', u'elcm Other', u'elcm Public', u'elcm Unknown'], dtype='object')"
       ]
      },
      {
       "output_type": "stream",
       "stream": "stdout",
       "text": [
        "\n"
       ]
      }
     ],
     "prompt_number": 75
    },
    {
     "cell_type": "code",
     "collapsed": false,
     "input": [
      "from usui import dset_explorer\n",
      "dset_explorer.start(dset, d, {\n",
      "        'center': str([37.7792, -122.2191]),\n",
      "        'zoom': 11,\n",
      "        'shape_json': 'data/zones.json',\n",
      "        'geom_name': 'ZONE_ID', # from JSON file\n",
      "        'join_name': 'zone_id' # from data frames\n",
      "    })"
     ],
     "language": "python",
     "metadata": {},
     "outputs": [
      {
       "output_type": "stream",
       "stream": "stderr",
       "text": [
        "Bottle v0.12.7 server starting up (using WSGIRefServer())...\n",
        "Listening on http://localhost:8765/\n",
        "Hit Ctrl-C to quit.\n",
        "\n",
        "127.0.0.1 - - [13/Jun/2014 14:09:47] \"GET / HTTP/1.1\" 200 28025\n"
       ]
      },
      {
       "output_type": "stream",
       "stream": "stderr",
       "text": [
        "127.0.0.1 - - [13/Jun/2014 14:09:47] \"GET /data/zones.json HTTP/1.1\" 304 0\n",
        "127.0.0.1 - - [13/Jun/2014 14:09:57] \"GET /map_query/buildings/empty/zone_id/elcm%20Warehousing/mean() HTTP/1.1\" 200 44199\n"
       ]
      },
      {
       "output_type": "stream",
       "stream": "stdout",
       "text": [
        "VIEWS['buildings'].groupby('zone_id')['elcm Warehousing'].mean()\n",
        "VIEWS['buildings'].groupby('zone_id')['hhsize'].mean()"
       ]
      },
      {
       "output_type": "stream",
       "stream": "stdout",
       "text": [
        "\n",
        "VIEWS['buildings'].groupby('zone_id')['sfdu'].mean()"
       ]
      },
      {
       "output_type": "stream",
       "stream": "stderr",
       "text": [
        "127.0.0.1 - - [13/Jun/2014 14:10:08] \"GET /map_query/buildings/empty/zone_id/hhsize/mean() HTTP/1.1\" 200 39184\n",
        "127.0.0.1 - - [13/Jun/2014 14:10:11] \"GET /map_query/buildings/empty/zone_id/sfdu/mean() HTTP/1.1\" 200 38505\n"
       ]
      },
      {
       "output_type": "stream",
       "stream": "stdout",
       "text": [
        "\n",
        "VIEWS['buildings'].groupby('zone_id')['jobs'].mean()"
       ]
      },
      {
       "output_type": "stream",
       "stream": "stdout",
       "text": [
        "\n",
        "VIEWS['buildings'].groupby('zone_id')['ave_income'].mean()"
       ]
      },
      {
       "output_type": "stream",
       "stream": "stderr",
       "text": [
        "127.0.0.1 - - [13/Jun/2014 14:10:14] \"GET /map_query/buildings/empty/zone_id/jobs/mean() HTTP/1.1\" 200 38460\n",
        "127.0.0.1 - - [13/Jun/2014 14:10:18] \"GET /map_query/buildings/empty/zone_id/ave_income/mean() HTTP/1.1\" 200 39193\n"
       ]
      },
      {
       "output_type": "stream",
       "stream": "stdout",
       "text": [
        "\n",
        "VIEWS['buildings'].groupby('zone_id')['non_residential_rent'].mean()"
       ]
      },
      {
       "output_type": "stream",
       "stream": "stdout",
       "text": [
        "\n",
        "VIEWS['buildings'].groupby('zone_id')['ave_lot_sqft'].mean()"
       ]
      },
      {
       "output_type": "stream",
       "stream": "stderr",
       "text": [
        "127.0.0.1 - - [13/Jun/2014 14:10:27] \"GET /map_query/buildings/empty/zone_id/non_residential_rent/mean() HTTP/1.1\" 200 38709\n",
        "127.0.0.1 - - [13/Jun/2014 14:10:31] \"GET /map_query/buildings/empty/zone_id/ave_lot_sqft/mean() HTTP/1.1\" 200 38050\n"
       ]
      }
     ]
    },
    {
     "cell_type": "code",
     "collapsed": false,
     "input": [],
     "language": "python",
     "metadata": {},
     "outputs": []
    }
   ],
   "metadata": {}
  }
 ]
}