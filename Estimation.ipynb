{
 "metadata": {
  "name": "",
  "signature": "sha256:a70d061064e3fac4c50cf50511414f7a43c8d3107d58d50ce94a6fb92a9e7c2b"
 },
 "nbformat": 3,
 "nbformat_minor": 0,
 "worksheets": [
  {
   "cells": [
    {
     "cell_type": "code",
     "collapsed": false,
     "input": [
      "%load_ext autoreload\n",
      "%autoreload 2\n",
      "import models\n",
      "import urbansim.sim.simulation as sim"
     ],
     "language": "python",
     "metadata": {},
     "outputs": [],
     "prompt_number": 1
    },
    {
     "cell_type": "code",
     "collapsed": false,
     "input": [
      "sim.run([\"build_networks\"])"
     ],
     "language": "python",
     "metadata": {},
     "outputs": [
      {
       "output_type": "stream",
       "stream": "stdout",
       "text": [
        "Running model 'build_networks'\n"
       ]
      }
     ],
     "prompt_number": 2
    },
    {
     "cell_type": "heading",
     "level": 2,
     "metadata": {},
     "source": [
      "Compute Variables"
     ]
    },
    {
     "cell_type": "code",
     "collapsed": false,
     "input": [
      "sim.run([\"neighborhood_vars\"])"
     ],
     "language": "python",
     "metadata": {},
     "outputs": [
      {
       "output_type": "stream",
       "stream": "stdout",
       "text": [
        "Running model 'neighborhood_vars'\n",
        "Computing accessibility variables\n",
        "Computing sum_residential_units\n",
        "    Fields available to accvar = residential_units, _node_id0\n",
        "    dataframe = buildings, varname=residential_units"
       ]
      },
      {
       "output_type": "stream",
       "stream": "stdout",
       "text": [
        "\n",
        "    radius = 1500, aggregation = AGG_SUM, decay = DECAY_LINEAR\n",
        "Computing sum_nonresidential_units"
       ]
      },
      {
       "output_type": "stream",
       "stream": "stdout",
       "text": [
        "\n",
        "    Fields available to accvar = non_residential_units, _node_id0\n",
        "    dataframe = buildings, varname=non_residential_units"
       ]
      },
      {
       "output_type": "stream",
       "stream": "stdout",
       "text": [
        "\n",
        "    radius = 1500, aggregation = AGG_SUM, decay = DECAY_LINEAR\n",
        "Computing ave_unit_sqft"
       ]
      },
      {
       "output_type": "stream",
       "stream": "stdout",
       "text": [
        "\n",
        "    Fields available to accvar = unit_sqft, general_type, _node_id0\n",
        "    Filters = ['general_type == \"Residential\"']"
       ]
      },
      {
       "output_type": "stream",
       "stream": "stdout",
       "text": [
        "\n",
        "    dataframe = buildings, varname=unit_sqft\n",
        "    radius = 1500, aggregation = AGG_AVE, decay = DECAY_FLAT\n",
        "Computing ave_lot_sqft"
       ]
      },
      {
       "output_type": "stream",
       "stream": "stdout",
       "text": [
        "\n",
        "    Fields available to accvar = unit_lot_size, _node_id0\n",
        "    dataframe = buildings, varname=unit_lot_size"
       ]
      },
      {
       "output_type": "stream",
       "stream": "stdout",
       "text": [
        "\n",
        "    radius = 1500, aggregation = AGG_AVE, decay = DECAY_FLAT\n",
        "Computing population"
       ]
      },
      {
       "output_type": "stream",
       "stream": "stdout",
       "text": [
        "\n",
        "    Fields available to accvar = persons, _node_id0\n",
        "    dataframe = households, varname=persons"
       ]
      },
      {
       "output_type": "stream",
       "stream": "stdout",
       "text": [
        "\n",
        "    radius = 1500, aggregation = AGG_SUM, decay = DECAY_LINEAR\n",
        "Computing poor"
       ]
      },
      {
       "output_type": "stream",
       "stream": "stdout",
       "text": [
        "\n",
        "    Fields available to accvar = persons, income, _node_id0\n",
        "    Filters = ['income < 40000']"
       ]
      },
      {
       "output_type": "stream",
       "stream": "stdout",
       "text": [
        "\n",
        "    dataframe = households, varname=persons\n",
        "    radius = 1500, aggregation = AGG_SUM, decay = DECAY_LINEAR\n",
        "Computing renters"
       ]
      },
      {
       "output_type": "stream",
       "stream": "stdout",
       "text": [
        "\n",
        "    Fields available to accvar = tenure, _node_id0\n",
        "    Filters = ['tenure == 2']"
       ]
      },
      {
       "output_type": "stream",
       "stream": "stdout",
       "text": [
        "\n",
        "    dataframe = households, varname=None\n",
        "    radius = 1500, aggregation = AGG_SUM, decay = DECAY_LINEAR\n",
        "Computing sfdu"
       ]
      },
      {
       "output_type": "stream",
       "stream": "stdout",
       "text": [
        "\n",
        "    Fields available to accvar = building_type_id, _node_id0\n",
        "    Filters = ['building_type_id == 1']"
       ]
      },
      {
       "output_type": "stream",
       "stream": "stdout",
       "text": [
        "\n",
        "    dataframe = buildings, varname=None\n",
        "    radius = 1500, aggregation = AGG_SUM, decay = DECAY_LINEAR\n",
        "Computing hhsize"
       ]
      },
      {
       "output_type": "stream",
       "stream": "stdout",
       "text": [
        "\n",
        "    Fields available to accvar = persons, _node_id0\n",
        "    dataframe = households, varname=persons"
       ]
      },
      {
       "output_type": "stream",
       "stream": "stdout",
       "text": [
        "\n",
        "    radius = 1500, aggregation = AGG_AVE, decay = DECAY_FLAT\n",
        "Computing jobs"
       ]
      },
      {
       "output_type": "stream",
       "stream": "stdout",
       "text": [
        "\n",
        "    Fields available to accvar = _node_id0\n",
        "    dataframe = jobs, varname=None"
       ]
      },
      {
       "output_type": "stream",
       "stream": "stdout",
       "text": [
        "\n",
        "    radius = 1500, aggregation = AGG_SUM, decay = DECAY_LINEAR\n",
        "Computing ave_income"
       ]
      },
      {
       "output_type": "stream",
       "stream": "stdout",
       "text": [
        "\n",
        "    Fields available to accvar = income, _node_id0\n",
        "    dataframe = households, varname=income"
       ]
      },
      {
       "output_type": "stream",
       "stream": "stdout",
       "text": [
        "\n",
        "    radius = 1500, aggregation = AGG_AVE, decay = DECAY_FLAT\n",
        "Done"
       ]
      },
      {
       "output_type": "stream",
       "stream": "stdout",
       "text": [
        "\n"
       ]
      }
     ],
     "prompt_number": 3
    },
    {
     "cell_type": "heading",
     "level": 2,
     "metadata": {},
     "source": [
      "Hedonic Estimation"
     ]
    },
    {
     "cell_type": "code",
     "collapsed": false,
     "input": [
      "sim.run([\"rsh_estimate\"])"
     ],
     "language": "python",
     "metadata": {},
     "outputs": [
      {
       "output_type": "stream",
       "stream": "stdout",
       "text": [
        "Running model 'rsh_estimate'\n",
        "                               OLS Regression Results                               \n",
        "====================================================================================\n",
        "Dep. Variable:     np.log1p(sale_price_flt)   R-squared:                       0.217\n",
        "Model:                                  OLS   Adj. R-squared:                  0.216\n",
        "Method:                       Least Squares   F-statistic:                     302.7\n",
        "Date:                      Wed, 30 Jul 2014   Prob (F-statistic):               0.00\n",
        "Time:                              16:34:27   Log-Likelihood:                -4992.8\n",
        "No. Observations:                      8738   AIC:                         1.000e+04\n",
        "Df Residuals:                          8729   BIC:                         1.007e+04\n",
        "Df Model:                                 8                                         \n",
        "================================================================================================\n",
        "                                   coef    std err          t      P>|t|      [95.0% Conf. Int.]\n",
        "------------------------------------------------------------------------------------------------\n",
        "Intercept                        8.6208      0.113     76.353      0.000         8.399     8.842\n",
        "I(year_built < 1940)[T.True]     0.0436      0.010      4.357      0.000         0.024     0.063\n",
        "I(year_built > 2005)[T.True]     0.0713      0.076      0.932      0.351        -0.079     0.221\n",
        "np.log1p(unit_sqft)             -0.4346      0.010    -44.067      0.000        -0.454    -0.415\n",
        "np.log1p(unit_lot_size)          0.0634      0.007      8.871      0.000         0.049     0.077\n",
        "sum_residential_units            0.0837      0.007     12.529      0.000         0.071     0.097\n",
        "ave_unit_sqft                   -0.0016      0.026     -0.060      0.952        -0.053     0.050\n",
        "ave_lot_sqft                    -0.2809      0.016    -17.135      0.000        -0.313    -0.249\n",
        "ave_income                       0.1621      0.014     11.254      0.000         0.134     0.190\n",
        "==============================================================================\n",
        "Omnibus:                      867.822   Durbin-Watson:                   1.324\n",
        "Prob(Omnibus):                  0.000   Jarque-Bera (JB):             2405.219\n",
        "Skew:                          -0.551   Prob(JB):                         0.00\n",
        "Kurtosis:                       5.322   Cond. No.                         515.\n",
        "=============================================================================="
       ]
      },
      {
       "output_type": "stream",
       "stream": "stdout",
       "text": [
        "\n"
       ]
      }
     ],
     "prompt_number": 5
    },
    {
     "cell_type": "code",
     "collapsed": false,
     "input": [
      "sim.run([\"rrh_estimate\"])"
     ],
     "language": "python",
     "metadata": {},
     "outputs": [
      {
       "output_type": "stream",
       "stream": "stdout",
       "text": [
        "Running model 'rrh_estimate'\n",
        "                            OLS Regression Results                            \n",
        "==============================================================================\n",
        "Dep. Variable:         np.log1p(rent)   R-squared:                       0.398\n",
        "Model:                            OLS   Adj. R-squared:                  0.381\n",
        "Method:                 Least Squares   F-statistic:                     22.79\n",
        "Date:                Wed, 30 Jul 2014   Prob (F-statistic):           1.64e-17\n",
        "Time:                        16:34:27   Log-Likelihood:                 95.640\n",
        "No. Observations:                 178   AIC:                            -179.3\n",
        "Df Residuals:                     172   BIC:                            -160.2\n",
        "Df Model:                           5                                         \n",
        "=========================================================================================\n",
        "                            coef    std err          t      P>|t|      [95.0% Conf. Int.]\n",
        "-----------------------------------------------------------------------------------------\n",
        "Intercept                 2.5404      0.382      6.652      0.000         1.787     3.294\n",
        "np.log1p(unit_sqft)      -0.1953      0.030     -6.471      0.000        -0.255    -0.136\n",
        "sum_residential_units    -0.0268      0.024     -1.110      0.268        -0.074     0.021\n",
        "ave_unit_sqft             0.0006      0.015      0.042      0.967        -0.028     0.030\n",
        "ave_lot_sqft             -0.0365      0.027     -1.336      0.183        -0.090     0.017\n",
        "jobs                      0.0752      0.015      5.049      0.000         0.046     0.105\n",
        "==============================================================================\n",
        "Omnibus:                       11.211   Durbin-Watson:                   1.302\n",
        "Prob(Omnibus):                  0.004   Jarque-Bera (JB):               27.319\n",
        "Skew:                          -0.030   Prob(JB):                     1.17e-06\n",
        "Kurtosis:                       4.918   Cond. No.                         662.\n",
        "=============================================================================="
       ]
      },
      {
       "output_type": "stream",
       "stream": "stdout",
       "text": [
        "\n"
       ]
      }
     ],
     "prompt_number": 6
    },
    {
     "cell_type": "code",
     "collapsed": false,
     "input": [
      "sim.run([\"nrh_estimate\"])"
     ],
     "language": "python",
     "metadata": {},
     "outputs": [
      {
       "output_type": "stream",
       "stream": "stdout",
       "text": [
        "Running model 'nrh_estimate'\n",
        "REGRESSION RESULTS FOR SEGMENT Retail\n"
       ]
      },
      {
       "output_type": "stream",
       "stream": "stdout",
       "text": [
        "\n",
        "                            OLS Regression Results                            \n",
        "==============================================================================\n",
        "Dep. Variable:         np.log1p(rent)   R-squared:                       0.053\n",
        "Model:                            OLS   Adj. R-squared:                  0.013\n",
        "Method:                 Least Squares   F-statistic:                     1.316\n",
        "Date:                Wed, 30 Jul 2014   Prob (F-statistic):              0.262\n",
        "Time:                        16:34:27   Log-Likelihood:                -73.855\n",
        "No. Observations:                 124   AIC:                             159.7\n",
        "Df Residuals:                     118   BIC:                             176.6\n",
        "Df Model:                           5                                         \n",
        "================================================================================================\n",
        "                                   coef    std err          t      P>|t|      [95.0% Conf. Int.]\n",
        "------------------------------------------------------------------------------------------------\n",
        "Intercept                       -0.8609      2.476     -0.348      0.729        -5.765     4.043\n",
        "I(year_built < 1940)[T.True]    -0.0941      0.105     -0.896      0.372        -0.302     0.114\n",
        "I(year_built > 2005)[T.True]    -0.1046      0.246     -0.426      0.671        -0.591     0.382\n",
        "np.log1p(stories)               -0.0755      0.110     -0.684      0.495        -0.294     0.143\n",
        "ave_income                       0.2976      0.193      1.545      0.125        -0.084     0.679\n",
        "jobs                             0.1151      0.046      2.482      0.014         0.023     0.207\n",
        "==============================================================================\n",
        "Omnibus:                       15.597   Durbin-Watson:                   2.433\n",
        "Prob(Omnibus):                  0.000   Jarque-Bera (JB):               31.800\n",
        "Skew:                           0.492   Prob(JB):                     1.24e-07\n",
        "Kurtosis:                       5.277   Cond. No.                         910.\n",
        "==============================================================================\n",
        "REGRESSION RESULTS FOR SEGMENT Office\n",
        "\n",
        "                            OLS Regression Results                            \n",
        "==============================================================================\n",
        "Dep. Variable:         np.log1p(rent)   R-squared:                       0.044\n",
        "Model:                            OLS   Adj. R-squared:                  0.031\n",
        "Method:                 Least Squares   F-statistic:                     3.490\n",
        "Date:                Wed, 30 Jul 2014   Prob (F-statistic):            0.00426\n",
        "Time:                        16:34:27   Log-Likelihood:                -168.79\n",
        "No. Observations:                 385   AIC:                             349.6\n",
        "Df Residuals:                     379   BIC:                             373.3\n",
        "Df Model:                           5                                         \n",
        "================================================================================================\n",
        "                                   coef    std err          t      P>|t|      [95.0% Conf. Int.]\n",
        "------------------------------------------------------------------------------------------------\n",
        "Intercept                        3.5244      0.207     17.017      0.000         3.117     3.932\n",
        "I(year_built < 1940)[T.True]    -0.0787      0.046     -1.698      0.090        -0.170     0.012\n",
        "I(year_built > 2005)[T.True]    -0.0188      0.173     -0.109      0.913        -0.358     0.321\n",
        "np.log1p(stories)                0.0493      0.035      1.401      0.162        -0.020     0.118\n",
        "ave_income                      -0.0417      0.023     -1.831      0.068        -0.086     0.003\n",
        "jobs                             0.0194      0.018      1.079      0.281        -0.016     0.055\n",
        "==============================================================================\n",
        "Omnibus:                      106.606   Durbin-Watson:                   1.811\n",
        "Prob(Omnibus):                  0.000   Jarque-Bera (JB):              544.913\n",
        "Skew:                           1.074   Prob(JB):                    4.72e-119\n",
        "Kurtosis:                       8.418   Cond. No.                         167.\n",
        "==============================================================================\n",
        "REGRESSION RESULTS FOR SEGMENT Industrial\n",
        "\n",
        "                            OLS Regression Results                            \n",
        "==============================================================================\n",
        "Dep. Variable:         np.log1p(rent)   R-squared:                       0.984\n",
        "Model:                            OLS   Adj. R-squared:                  0.983\n",
        "Method:                 Least Squares   F-statistic:                     931.2\n",
        "Date:                Wed, 30 Jul 2014   Prob (F-statistic):           1.19e-66\n",
        "Time:                        16:34:27   Log-Likelihood:                -21.284\n",
        "No. Observations:                  81   AIC:                             52.57\n",
        "Df Residuals:                      76   BIC:                             64.54\n",
        "Df Model:                           5                                         \n",
        "================================================================================================\n",
        "                                   coef    std err          t      P>|t|      [95.0% Conf. Int.]\n",
        "------------------------------------------------------------------------------------------------\n",
        "Intercept                        2.5185      0.347      7.266      0.000         1.828     3.209\n",
        "I(year_built < 1940)[T.True]     0.0130      0.083      0.157      0.876        -0.152     0.178\n",
        "I(year_built > 2005)[T.True] -9.623e-17   1.68e-16     -0.573      0.568     -4.31e-16  2.38e-16\n",
        "np.log1p(stories)                0.0788      0.134      0.588      0.558        -0.188     0.346\n",
        "ave_income                      -0.0388      0.039     -0.994      0.323        -0.116     0.039\n",
        "jobs                             0.0338      0.035      0.956      0.342        -0.037     0.104\n",
        "==============================================================================\n",
        "Omnibus:                        8.537   Durbin-Watson:                   1.893\n",
        "Prob(Omnibus):                  0.014   Jarque-Bera (JB):               18.123\n",
        "Skew:                           0.117   Prob(JB):                     0.000116\n",
        "Kurtosis:                       5.305   Cond. No.                     6.08e+09\n",
        "==============================================================================\n",
        "\n",
        "Warnings:\n",
        "[1] The smallest eigenvalue is 4.44e-16. This might indicate that there are\n",
        "strong multicollinearity problems or that the design matrix is singular."
       ]
      },
      {
       "output_type": "stream",
       "stream": "stdout",
       "text": [
        "\n"
       ]
      }
     ],
     "prompt_number": 7
    },
    {
     "cell_type": "heading",
     "level": 2,
     "metadata": {},
     "source": [
      "Hedonic Simulation"
     ]
    },
    {
     "cell_type": "code",
     "collapsed": false,
     "input": [
      "sim.run([\"rsh_simulate\", \"rrh_simulate\", \"nrh_simulate\"])"
     ],
     "language": "python",
     "metadata": {},
     "outputs": [
      {
       "output_type": "stream",
       "stream": "stdout",
       "text": [
        "Running model 'rsh_simulate'\n",
        "Dropped 3118 rows because they contained nans"
       ]
      },
      {
       "output_type": "stream",
       "stream": "stdout",
       "text": [
        "\n",
        "count    138407.000000\n",
        "mean        543.457014\n",
        "std         171.494620\n",
        "min          14.502545\n",
        "25%         461.634613\n",
        "50%         528.977634\n",
        "75%         596.176894\n",
        "max       10138.582062\n",
        "dtype: float64"
       ]
      },
      {
       "output_type": "stream",
       "stream": "stdout",
       "text": [
        "\n",
        "Running model 'rrh_simulate'\n",
        "Dropped 2 rows because they contained nans"
       ]
      },
      {
       "output_type": "stream",
       "stream": "stdout",
       "text": [
        "\n",
        "count    140780.000000\n",
        "mean          3.412905\n",
        "std           0.499166\n",
        "min           0.630713\n",
        "25%           3.151931\n",
        "50%           3.343975\n",
        "75%           3.580759\n",
        "max          15.340111\n",
        "dtype: float64"
       ]
      },
      {
       "output_type": "stream",
       "stream": "stdout",
       "text": [
        "\n",
        "Running model 'nrh_simulate'\n",
        "Dropped 3118 rows because they contained nans"
       ]
      },
      {
       "output_type": "stream",
       "stream": "stdout",
       "text": [
        "\n",
        "count    10203.000000\n",
        "mean        23.982738\n",
        "std          7.233765\n",
        "min          0.480017\n",
        "25%         22.415323\n",
        "50%         26.249629\n",
        "75%         28.755369\n",
        "max         40.735691\n",
        "dtype: float64"
       ]
      },
      {
       "output_type": "stream",
       "stream": "stdout",
       "text": [
        "\n"
       ]
      }
     ],
     "prompt_number": 9
    },
    {
     "cell_type": "heading",
     "level": 2,
     "metadata": {},
     "source": [
      "LCM Estimation"
     ]
    },
    {
     "cell_type": "code",
     "collapsed": false,
     "input": [
      "sim.run([\"hlcmo_estimate\"])"
     ],
     "language": "python",
     "metadata": {},
     "outputs": [
      {
       "output_type": "stream",
       "stream": "stdout",
       "text": [
        "Running model 'hlcmo_estimate'\n",
        "Dropped 14198 rows because they contained nans"
       ]
      },
      {
       "output_type": "stream",
       "stream": "stdout",
       "text": [
        "\n",
        "LCM RESULTS FOR SEGMENT 0\n"
       ]
      },
      {
       "output_type": "stream",
       "stream": "stdout",
       "text": [
        "\n",
        "Null Log-liklihood: -65540.782\n",
        "Log-liklihood at convergence: -64536.806\n",
        "Log-liklihood Ratio: 0.015\n",
        "\n",
        "+-----------------------------------+-------------+------------+---------+\n",
        "| Component                         | Coefficient | Std. Error | T-Score |\n",
        "+-----------------------------------+-------------+------------+---------+\n",
        "| np.log1p(residential_sales_price) |    -1.821   |   0.158    | -11.509 |\n",
        "| np.log1p(unit_sqft)               |    -0.883   |   0.065    | -13.634 |\n",
        "| sum_residential_units             |    -1.714   |   0.071    | -24.297 |\n",
        "| ave_unit_sqft                     |    0.166    |   0.059    |  2.807  |\n",
        "| ave_lot_sqft                      |    -0.451   |   0.053    |  -8.590 |\n",
        "| ave_income                        |    -1.298   |   0.146    |  -8.907 |\n",
        "| hhsize                            |    -3.000   |   0.142    | -21.189 |\n",
        "| jobs                              |    0.129    |   0.020    |  6.330  |\n",
        "| poor                              |    -0.154   |   0.079    |  -1.957 |\n",
        "| population                        |    1.991    |   0.072    |  27.574 |\n",
        "+-----------------------------------+-------------+------------+---------+\n",
        "LCM RESULTS FOR SEGMENT 1\n",
        "\n",
        "Null Log-liklihood: -67940.076\n",
        "Log-liklihood at convergence: -67330.675\n",
        "Log-liklihood Ratio: 0.009\n",
        "\n",
        "+-----------------------------------+-------------+------------+---------+\n",
        "| Component                         | Coefficient | Std. Error | T-Score |\n",
        "+-----------------------------------+-------------+------------+---------+\n",
        "| np.log1p(residential_sales_price) |    -2.284   |   0.151    | -15.126 |\n",
        "| np.log1p(unit_sqft)               |    -1.117   |   0.062    | -17.916 |\n",
        "| sum_residential_units             |    -1.183   |   0.070    | -17.008 |\n",
        "| ave_unit_sqft                     |    0.106    |   0.056    |  1.874  |\n",
        "| ave_lot_sqft                      |    -0.663   |   0.051    | -12.914 |\n",
        "| ave_income                        |    -0.410   |   0.141    |  -2.912 |\n",
        "| hhsize                            |    -2.433   |   0.141    | -17.243 |\n",
        "| jobs                              |    0.130    |   0.020    |  6.441  |\n",
        "| poor                              |    -0.139   |   0.077    |  -1.803 |\n",
        "| population                        |    1.455    |   0.072    |  20.266 |\n",
        "+-----------------------------------+-------------+------------+---------+\n",
        "LCM RESULTS FOR SEGMENT 2\n",
        "\n",
        "Null Log-liklihood: -67981.522\n",
        "Log-liklihood at convergence: -67426.022\n",
        "Log-liklihood Ratio: 0.008\n",
        "\n",
        "+-----------------------------------+-------------+------------+---------+\n",
        "| Component                         | Coefficient | Std. Error | T-Score |\n",
        "+-----------------------------------+-------------+------------+---------+\n",
        "| np.log1p(residential_sales_price) |    -2.858   |   0.155    | -18.473 |\n",
        "| np.log1p(unit_sqft)               |    -1.367   |   0.063    | -21.762 |\n",
        "| sum_residential_units             |    -0.985   |   0.069    | -14.298 |\n",
        "| ave_unit_sqft                     |    -0.005   |   0.056    |  -0.083 |\n",
        "| ave_lot_sqft                      |    -0.768   |   0.053    | -14.398 |\n",
        "| ave_income                        |    -0.092   |   0.146    |  -0.631 |\n",
        "| hhsize                            |    -2.026   |   0.141    | -14.391 |\n",
        "| jobs                              |    0.129    |   0.020    |  6.422  |\n",
        "| poor                              |    -0.419   |   0.079    |  -5.326 |\n",
        "| population                        |    1.545    |   0.074    |  20.771 |\n",
        "+-----------------------------------+-------------+------------+---------+\n",
        "LCM RESULTS FOR SEGMENT 3\n",
        "\n",
        "Null Log-liklihood: -68092.046\n",
        "Log-liklihood at convergence: -67076.130\n",
        "Log-liklihood Ratio: 0.015\n",
        "\n",
        "+-----------------------------------+-------------+------------+---------+\n",
        "| Component                         | Coefficient | Std. Error | T-Score |\n",
        "+-----------------------------------+-------------+------------+---------+\n",
        "| np.log1p(residential_sales_price) |    -3.000   |   0.145    | -20.631 |\n",
        "| np.log1p(unit_sqft)               |    -1.469   |   0.059    | -24.954 |\n",
        "| sum_residential_units             |    -1.105   |   0.069    | -16.051 |\n",
        "| ave_unit_sqft                     |    0.251    |   0.057    |  4.402  |\n",
        "| ave_lot_sqft                      |    -0.843   |   0.052    | -16.066 |\n",
        "| ave_income                        |    1.101    |   0.139    |  7.918  |\n",
        "| hhsize                            |    -3.000   |   0.146    | -20.486 |\n",
        "| jobs                              |    0.213    |   0.020    |  10.424 |\n",
        "| poor                              |    -0.287   |   0.078    |  -3.693 |\n",
        "| population                        |    1.493    |   0.072    |  20.794 |\n",
        "+-----------------------------------+-------------+------------+---------+\n"
       ]
      }
     ],
     "prompt_number": 10
    },
    {
     "cell_type": "code",
     "collapsed": false,
     "input": [
      "sim.run([\"hlcmr_estimate\"])"
     ],
     "language": "python",
     "metadata": {},
     "outputs": [
      {
       "output_type": "stream",
       "stream": "stdout",
       "text": [
        "Running model 'hlcmr_estimate'\n",
        "Dropped 11825 rows because they contained nans"
       ]
      },
      {
       "output_type": "stream",
       "stream": "stdout",
       "text": [
        "\n",
        "LCM RESULTS FOR SEGMENT 0\n"
       ]
      },
      {
       "output_type": "stream",
       "stream": "stdout",
       "text": [
        "\n",
        "Null Log-liklihood: -23025.851\n",
        "Log-liklihood at convergence: -18404.076\n",
        "Log-liklihood Ratio: 0.201\n",
        "\n",
        "+----------------------------+-------------+------------+---------+\n",
        "| Component                  | Coefficient | Std. Error | T-Score |\n",
        "+----------------------------+-------------+------------+---------+\n",
        "| np.log1p(residential_rent) |    -3.000   |   0.827    |  -3.629 |\n",
        "| np.log1p(unit_sqft)        |    -0.908   |   0.135    |  -6.742 |\n",
        "| sum_residential_units      |    -0.325   |   0.130    |  -2.506 |\n",
        "| ave_unit_sqft              |    -0.110   |   0.109    |  -1.007 |\n",
        "| ave_lot_sqft               |    0.537    |   0.057    |  9.425  |\n",
        "| ave_income                 |    -1.213   |   0.135    |  -8.972 |\n",
        "| hhsize                     |    -3.000   |   0.278    | -10.781 |\n",
        "| jobs                       |    0.337    |   0.061    |  5.526  |\n",
        "| poor                       |    0.761    |   0.097    |  7.869  |\n",
        "+----------------------------+-------------+------------+---------+\n",
        "LCM RESULTS FOR SEGMENT 1\n",
        "\n",
        "Null Log-liklihood: -23025.851\n",
        "Log-liklihood at convergence: -20147.717\n",
        "Log-liklihood Ratio: 0.125\n",
        "\n",
        "+----------------------------+-------------+------------+---------+\n",
        "| Component                  | Coefficient | Std. Error | T-Score |\n",
        "+----------------------------+-------------+------------+---------+\n",
        "| np.log1p(residential_rent) |    -3.000   |   0.790    |  -3.798 |\n",
        "| np.log1p(unit_sqft)        |    -1.038   |   0.130    |  -7.985 |\n",
        "| sum_residential_units      |    0.165    |   0.129    |  1.277  |\n",
        "| ave_unit_sqft              |    -0.239   |   0.108    |  -2.220 |\n",
        "| ave_lot_sqft               |    0.278    |   0.051    |  5.500  |\n",
        "| ave_income                 |    -0.965   |   0.136    |  -7.114 |\n",
        "| hhsize                     |    -3.000   |   0.271    | -11.087 |\n",
        "| jobs                       |    0.159    |   0.059    |  2.699  |\n",
        "| poor                       |    0.223    |   0.098    |  2.286  |\n",
        "+----------------------------+-------------+------------+---------+\n",
        "LCM RESULTS FOR SEGMENT 2\n",
        "\n",
        "Null Log-liklihood: -23025.851\n",
        "Log-liklihood at convergence: -20730.648\n",
        "Log-liklihood Ratio: 0.100\n",
        "\n",
        "+----------------------------+-------------+------------+---------+\n",
        "| Component                  | Coefficient | Std. Error | T-Score |\n",
        "+----------------------------+-------------+------------+---------+\n",
        "| np.log1p(residential_rent) |    -3.000   |   0.727    |  -4.129 |\n",
        "| np.log1p(unit_sqft)        |    -1.134   |   0.120    |  -9.421 |\n",
        "| sum_residential_units      |    0.478    |   0.124    |  3.866  |\n",
        "| ave_unit_sqft              |    -0.420   |   0.105    |  -4.002 |\n",
        "| ave_lot_sqft               |    0.253    |   0.048    |  5.220  |\n",
        "| ave_income                 |    -0.079   |   0.130    |  -0.606 |\n",
        "| hhsize                     |    -3.000   |   0.276    | -10.854 |\n",
        "| jobs                       |    0.137    |   0.055    |  2.505  |\n",
        "| poor                       |    -0.145   |   0.093    |  -1.557 |\n",
        "+----------------------------+-------------+------------+---------+\n",
        "LCM RESULTS FOR SEGMENT 3\n",
        "\n",
        "Null Log-liklihood: -23025.851\n",
        "Log-liklihood at convergence: -20510.201\n",
        "Log-liklihood Ratio: 0.109\n",
        "\n",
        "+----------------------------+-------------+------------+---------+\n",
        "| Component                  | Coefficient | Std. Error | T-Score |\n",
        "+----------------------------+-------------+------------+---------+\n",
        "| np.log1p(residential_rent) |    -3.000   |   0.722    |  -4.154 |\n",
        "| np.log1p(unit_sqft)        |    -1.203   |   0.120    | -10.030 |\n",
        "| sum_residential_units      |    0.451    |   0.122    |  3.699  |\n",
        "| ave_unit_sqft              |    -0.270   |   0.104    |  -2.607 |\n",
        "| ave_lot_sqft               |    0.060    |   0.056    |  1.072  |\n",
        "| ave_income                 |    1.207    |   0.131    |  9.214  |\n",
        "| hhsize                     |    -3.000   |   0.273    | -10.992 |\n",
        "| jobs                       |    0.364    |   0.055    |  6.621  |\n",
        "| poor                       |    -0.392   |   0.093    |  -4.228 |\n",
        "+----------------------------+-------------+------------+---------+\n"
       ]
      }
     ],
     "prompt_number": 11
    },
    {
     "cell_type": "code",
     "collapsed": false,
     "input": [
      "sim.run([\"elcm_estimate\"])"
     ],
     "language": "python",
     "metadata": {},
     "outputs": [
      {
       "output_type": "stream",
       "stream": "stdout",
       "text": [
        "Running model 'elcm_estimate'\n",
        "Dropped 142402 rows because they contained nans"
       ]
      },
      {
       "output_type": "stream",
       "stream": "stdout",
       "text": [
        "\n",
        "LCM RESULTS FOR SEGMENT 11\n"
       ]
      },
      {
       "output_type": "stream",
       "stream": "stdout",
       "text": [
        "\n",
        "Null Log-liklihood: -2256.533\n",
        "Log-liklihood at convergence: -1739.427\n",
        "Log-liklihood Ratio: 0.229\n",
        "\n",
        "+--------------------------------+-------------+------------+---------+\n",
        "| Component                      | Coefficient | Std. Error | T-Score |\n",
        "+--------------------------------+-------------+------------+---------+\n",
        "| np.log1p(non_residential_rent) |    0.970    |   0.256    |  3.791  |\n",
        "| np.log1p(stories)              |    0.462    |   0.082    |  5.647  |\n",
        "| sum_residential_units          |    -1.185   |   0.469    |  -2.526 |\n",
        "| ave_unit_sqft                  |    1.522    |   0.308    |  4.938  |\n",
        "| ave_lot_sqft                   |    -2.174   |   0.250    |  -8.703 |\n",
        "| ave_income                     |    -1.045   |   0.256    |  -4.087 |\n",
        "| hhsize                         |    -3.000   |   1.270    |  -2.362 |\n",
        "| jobs                           |    1.121    |   0.085    |  13.159 |\n",
        "| poor                           |    -0.458   |   0.329    |  -1.395 |\n",
        "+--------------------------------+-------------+------------+---------+\n",
        "LCM RESULTS FOR SEGMENT 21\n",
        "\n",
        "Null Log-liklihood: -515.779\n",
        "Log-liklihood at convergence: -194.010\n",
        "Log-liklihood Ratio: 0.624\n",
        "\n",
        "+--------------------------------+-------------+------------+---------+\n",
        "| Component                      | Coefficient | Std. Error | T-Score |\n",
        "+--------------------------------+-------------+------------+---------+\n",
        "| np.log1p(non_residential_rent) |    0.421    |   1.356    |  0.311  |\n",
        "| np.log1p(stories)              |    0.270    |   0.212    |  1.274  |\n",
        "| sum_residential_units          |    -0.489   |   3.731    |  -0.131 |\n",
        "| ave_unit_sqft                  |    -3.000   |   2.090    |  -1.435 |\n",
        "| ave_lot_sqft                   |    3.000    |   1.372    |  2.186  |\n",
        "| ave_income                     |    3.000    |   1.424    |  2.107  |\n",
        "| hhsize                         |    3.000    |   7.731    |  0.388  |\n",
        "| jobs                           |    2.608    |   0.610    |  4.278  |\n",
        "| poor                           |    -0.291   |   2.644    |  -0.110 |\n",
        "+--------------------------------+-------------+------------+---------+\n",
        "LCM RESULTS FOR SEGMENT 22\n",
        "\n",
        "Null Log-liklihood: -22183.105\n",
        "Log-liklihood at convergence: -3391.612\n",
        "Log-liklihood Ratio: 0.847\n",
        "\n",
        "+--------------------------------+-------------+------------+---------+\n",
        "| Component                      | Coefficient | Std. Error | T-Score |\n",
        "+--------------------------------+-------------+------------+---------+\n",
        "| np.log1p(non_residential_rent) |    3.000    |   0.162    |  18.538 |\n",
        "| np.log1p(stories)              |    -1.619   |   0.050    | -32.135 |\n",
        "| sum_residential_units          |    -0.066   |   0.327    |  -0.202 |\n",
        "| ave_unit_sqft                  |    -2.648   |   0.178    | -14.837 |\n",
        "| ave_lot_sqft                   |    2.918    |   0.074    |  39.623 |\n",
        "| ave_income                     |    1.585    |   0.181    |  8.737  |\n",
        "| hhsize                         |    3.000    |   0.962    |  3.118  |\n",
        "| jobs                           |    2.786    |   0.084    |  33.120 |\n",
        "| poor                           |    -1.056   |   0.228    |  -4.643 |\n",
        "+--------------------------------+-------------+------------+---------+\n",
        "LCM RESULTS FOR SEGMENT 23\n",
        "\n",
        "Null Log-liklihood: -44449.103\n",
        "Log-liklihood at convergence: -40786.760\n",
        "Log-liklihood Ratio: 0.082\n",
        "\n",
        "+--------------------------------+-------------+------------+---------+\n",
        "| Component                      | Coefficient | Std. Error | T-Score |\n",
        "+--------------------------------+-------------+------------+---------+\n",
        "| np.log1p(non_residential_rent) |    -0.553   |   0.035    | -15.608 |\n",
        "| np.log1p(stories)              |    0.794    |   0.021    |  38.244 |\n",
        "| sum_residential_units          |    -0.790   |   0.063    | -12.550 |\n",
        "| ave_unit_sqft                  |    0.231    |   0.045    |  5.130  |\n",
        "| ave_lot_sqft                   |    0.698    |   0.029    |  24.058 |\n",
        "| ave_income                     |    1.571    |   0.043    |  36.121 |\n",
        "| hhsize                         |    1.519    |   0.183    |  8.316  |\n",
        "| jobs                           |    0.542    |   0.016    |  32.968 |\n",
        "| poor                           |    0.499    |   0.047    |  10.716 |\n",
        "+--------------------------------+-------------+------------+---------+\n",
        "LCM RESULTS FOR SEGMENT 31\n",
        "\n",
        "Null Log-liklihood: -29905.975\n",
        "Log-liklihood at convergence: -24820.685\n",
        "Log-liklihood Ratio: 0.170\n",
        "\n",
        "+--------------------------------+-------------+------------+---------+\n",
        "| Component                      | Coefficient | Std. Error | T-Score |\n",
        "+--------------------------------+-------------+------------+---------+\n",
        "| np.log1p(non_residential_rent) |    0.526    |   0.053    |  9.969  |\n",
        "| np.log1p(stories)              |    -0.218   |   0.032    |  -6.823 |\n",
        "| sum_residential_units          |    -2.382   |   0.095    | -24.993 |\n",
        "| ave_unit_sqft                  |    0.254    |   0.108    |  2.360  |\n",
        "| ave_lot_sqft                   |    -1.429   |   0.091    | -15.736 |\n",
        "| ave_income                     |    0.387    |   0.052    |  7.473  |\n",
        "| hhsize                         |    -3.000   |   0.237    | -12.652 |\n",
        "| jobs                           |    1.348    |   0.030    |  45.390 |\n",
        "| poor                           |    0.301    |   0.069    |  4.336  |\n",
        "+--------------------------------+-------------+------------+---------+\n",
        "LCM RESULTS FOR SEGMENT 32\n",
        "\n",
        "Null Log-liklihood: -18158.186\n",
        "Log-liklihood at convergence: -15774.267\n",
        "Log-liklihood Ratio: 0.131\n",
        "\n",
        "+--------------------------------+-------------+------------+---------+\n",
        "| Component                      | Coefficient | Std. Error | T-Score |\n",
        "+--------------------------------+-------------+------------+---------+\n",
        "| np.log1p(non_residential_rent) |    -0.398   |   0.068    |  -5.866 |\n",
        "| np.log1p(stories)              |    0.526    |   0.032    |  16.447 |\n",
        "| sum_residential_units          |    -3.000   |   0.102    | -29.368 |\n",
        "| ave_unit_sqft                  |    1.799    |   0.098    |  18.386 |\n",
        "| ave_lot_sqft                   |    0.176    |   0.075    |  2.330  |\n",
        "| ave_income                     |    3.000    |   0.083    |  36.323 |\n",
        "| hhsize                         |    0.952    |   0.361    |  2.640  |\n",
        "| jobs                           |    1.328    |   0.031    |  42.956 |\n",
        "| poor                           |    2.134    |   0.077    |  27.791 |\n",
        "+--------------------------------+-------------+------------+---------+\n",
        "LCM RESULTS FOR SEGMENT 33\n",
        "\n",
        "Null Log-liklihood: -19682.497\n",
        "Log-liklihood at convergence: -18137.497\n",
        "Log-liklihood Ratio: 0.078\n",
        "\n",
        "+--------------------------------+-------------+------------+---------+\n",
        "| Component                      | Coefficient | Std. Error | T-Score |\n",
        "+--------------------------------+-------------+------------+---------+\n",
        "| np.log1p(non_residential_rent) |    -0.630   |   0.059    | -10.748 |\n",
        "| np.log1p(stories)              |    0.484    |   0.032    |  14.971 |\n",
        "| sum_residential_units          |    -1.446   |   0.117    | -12.322 |\n",
        "| ave_unit_sqft                  |    0.635    |   0.123    |  5.153  |\n",
        "| ave_lot_sqft                   |    0.013    |   0.099    |  0.135  |\n",
        "| ave_income                     |    1.703    |   0.072    |  23.792 |\n",
        "| hhsize                         |    0.510    |   0.315    |  1.621  |\n",
        "| jobs                           |    0.912    |   0.032    |  28.432 |\n",
        "| poor                           |    0.814    |   0.083    |  9.843  |\n",
        "+--------------------------------+-------------+------------+---------+\n",
        "LCM RESULTS FOR SEGMENT 42\n",
        "\n",
        "Null Log-liklihood: -51103.574\n",
        "Log-liklihood at convergence: -40539.323\n",
        "Log-liklihood Ratio: 0.207\n",
        "\n",
        "+--------------------------------+-------------+------------+---------+\n",
        "| Component                      | Coefficient | Std. Error | T-Score |\n",
        "+--------------------------------+-------------+------------+---------+\n",
        "| np.log1p(non_residential_rent) |    -0.050   |   0.036    |  -1.406 |\n",
        "| np.log1p(stories)              |    0.862    |   0.016    |  54.790 |\n",
        "| sum_residential_units          |    -0.996   |   0.068    | -14.585 |\n",
        "| ave_unit_sqft                  |    -0.537   |   0.049    | -11.067 |\n",
        "| ave_lot_sqft                   |    0.733    |   0.031    |  23.732 |\n",
        "| ave_income                     |    0.614    |   0.046    |  13.362 |\n",
        "| hhsize                         |    0.463    |   0.199    |  2.333  |\n",
        "| jobs                           |    0.757    |   0.016    |  46.807 |\n",
        "| poor                           |    0.185    |   0.048    |  3.870  |\n",
        "+--------------------------------+-------------+------------+---------+\n",
        "LCM RESULTS FOR SEGMENT 44\n",
        "\n",
        "Null Log-liklihood: -42860.319\n",
        "Log-liklihood at convergence: -38370.243\n",
        "Log-liklihood Ratio: 0.105\n",
        "\n",
        "+--------------------------------+-------------+------------+---------+\n",
        "| Component                      | Coefficient | Std. Error | T-Score |\n",
        "+--------------------------------+-------------+------------+---------+\n",
        "| np.log1p(non_residential_rent) |    0.958    |   0.044    |  21.748 |\n",
        "| np.log1p(stories)              |    0.719    |   0.021    |  34.951 |\n",
        "| sum_residential_units          |    -0.324   |   0.091    |  -3.560 |\n",
        "| ave_unit_sqft                  |    0.654    |   0.070    |  9.305  |\n",
        "| ave_lot_sqft                   |    -0.066   |   0.050    |  -1.311 |\n",
        "| ave_income                     |    0.739    |   0.050    |  14.872 |\n",
        "| hhsize                         |    -0.908   |   0.226    |  -4.017 |\n",
        "| jobs                           |    0.378    |   0.022    |  17.594 |\n",
        "| poor                           |    -0.128   |   0.063    |  -2.032 |\n",
        "+--------------------------------+-------------+------------+---------+\n",
        "LCM RESULTS FOR SEGMENT 45\n",
        "\n",
        "Null Log-liklihood: -36302.557\n",
        "Log-liklihood at convergence: -33171.719\n",
        "Log-liklihood Ratio: 0.086\n",
        "\n",
        "+--------------------------------+-------------+------------+---------+\n",
        "| Component                      | Coefficient | Std. Error | T-Score |\n",
        "+--------------------------------+-------------+------------+---------+\n",
        "| np.log1p(non_residential_rent) |    1.181    |   0.052    |  22.853 |\n",
        "| np.log1p(stories)              |    0.425    |   0.022    |  19.313 |\n",
        "| sum_residential_units          |    -0.465   |   0.089    |  -5.225 |\n",
        "| ave_unit_sqft                  |    0.547    |   0.082    |  6.687  |\n",
        "| ave_lot_sqft                   |    0.015    |   0.062    |  0.249  |\n",
        "| ave_income                     |    -0.183   |   0.047    |  -3.910 |\n",
        "| hhsize                         |    -3.000   |   0.233    | -12.851 |\n",
        "| jobs                           |    0.201    |   0.023    |  8.733  |\n",
        "| poor                           |    0.204    |   0.060    |  3.390  |\n",
        "+--------------------------------+-------------+------------+---------+\n",
        "LCM RESULTS FOR SEGMENT 48\n",
        "\n",
        "Null Log-liklihood: -20502.218\n",
        "Log-liklihood at convergence: -15382.173\n",
        "Log-liklihood Ratio: 0.250\n",
        "\n",
        "+--------------------------------+-------------+------------+---------+\n",
        "| Component                      | Coefficient | Std. Error | T-Score |\n",
        "+--------------------------------+-------------+------------+---------+\n",
        "| np.log1p(non_residential_rent) |    0.080    |   0.066    |  1.214  |\n",
        "| np.log1p(stories)              |    0.411    |   0.026    |  15.858 |\n",
        "| sum_residential_units          |    -2.272   |   0.095    | -23.967 |\n",
        "| ave_unit_sqft                  |    0.342    |   0.089    |  3.823  |\n",
        "| ave_lot_sqft                   |    -0.347   |   0.069    |  -5.050 |\n",
        "| ave_income                     |    0.700    |   0.060    |  11.591 |\n",
        "| hhsize                         |    -3.000   |   0.237    | -12.633 |\n",
        "| jobs                           |    1.006    |   0.021    |  48.052 |\n",
        "| poor                           |    0.378    |   0.068    |  5.553  |\n",
        "+--------------------------------+-------------+------------+---------+\n",
        "LCM RESULTS FOR SEGMENT 49\n",
        "\n",
        "Null Log-liklihood: -12130.018\n",
        "Log-liklihood at convergence: -9288.219\n",
        "Log-liklihood Ratio: 0.234\n",
        "\n",
        "+--------------------------------+-------------+------------+---------+\n",
        "| Component                      | Coefficient | Std. Error | T-Score |\n",
        "+--------------------------------+-------------+------------+---------+\n",
        "| np.log1p(non_residential_rent) |    -0.367   |   0.110    |  -3.341 |\n",
        "| np.log1p(stories)              |    -0.049   |   0.085    |  -0.571 |\n",
        "| sum_residential_units          |    -2.959   |   0.116    | -25.509 |\n",
        "| ave_unit_sqft                  |    -0.167   |   0.149    |  -1.123 |\n",
        "| ave_lot_sqft                   |    0.730    |   0.062    |  11.851 |\n",
        "| ave_income                     |    0.066    |   0.144    |  0.457  |\n",
        "| hhsize                         |    3.000    |   0.516    |  5.819  |\n",
        "| jobs                           |    0.618    |   0.041    |  15.162 |\n",
        "| poor                           |    2.058    |   0.064    |  32.160 |\n",
        "+--------------------------------+-------------+------------+---------+\n",
        "LCM RESULTS FOR SEGMENT 51\n",
        "\n",
        "Null Log-liklihood: -47935.216\n",
        "Log-liklihood at convergence: -35754.046\n",
        "Log-liklihood Ratio: 0.254\n",
        "\n",
        "+--------------------------------+-------------+------------+---------+\n",
        "| Component                      | Coefficient | Std. Error | T-Score |\n",
        "+--------------------------------+-------------+------------+---------+\n",
        "| np.log1p(non_residential_rent) |    -0.265   |   0.036    |  -7.267 |\n",
        "| np.log1p(stories)              |    0.271    |   0.016    |  17.147 |\n",
        "| sum_residential_units          |    -0.462   |   0.085    |  -5.435 |\n",
        "| ave_unit_sqft                  |    0.450    |   0.075    |  6.040  |\n",
        "| ave_lot_sqft                   |    -0.658   |   0.057    | -11.532 |\n",
        "| ave_income                     |    -0.098   |   0.047    |  -2.060 |\n",
        "| hhsize                         |    -3.000   |   0.259    | -11.593 |\n",
        "| jobs                           |    1.152    |   0.019    |  61.256 |\n",
        "| poor                           |    -0.690   |   0.061    | -11.288 |\n",
        "+--------------------------------+-------------+------------+---------+\n",
        "LCM RESULTS FOR SEGMENT 52\n",
        "\n",
        "Null Log-liklihood: -53668.653\n",
        "Log-liklihood at convergence: -25557.585\n",
        "Log-liklihood Ratio: 0.524\n",
        "\n",
        "+--------------------------------+-------------+------------+---------+\n",
        "| Component                      | Coefficient | Std. Error | T-Score |\n",
        "+--------------------------------+-------------+------------+---------+\n",
        "| np.log1p(non_residential_rent) |    0.796    |   0.082    |  9.734  |\n",
        "| np.log1p(stories)              |    0.999    |   0.015    |  65.325 |\n",
        "| sum_residential_units          |    -1.367   |   0.128    | -10.684 |\n",
        "| ave_unit_sqft                  |    -2.125   |   0.084    | -25.419 |\n",
        "| ave_lot_sqft                   |    0.880    |   0.063    |  13.901 |\n",
        "| ave_income                     |    2.628    |   0.069    |  38.100 |\n",
        "| hhsize                         |    -3.000   |   0.387    |  -7.757 |\n",
        "| jobs                           |    1.383    |   0.027    |  51.468 |\n",
        "| poor                           |    0.233    |   0.093    |  2.520  |\n",
        "+--------------------------------+-------------+------------+---------+\n",
        "LCM RESULTS FOR SEGMENT 53\n",
        "\n",
        "Null Log-liklihood: -37301.879\n",
        "Log-liklihood at convergence: -31704.839\n",
        "Log-liklihood Ratio: 0.150\n",
        "\n",
        "+--------------------------------+-------------+------------+---------+\n",
        "| Component                      | Coefficient | Std. Error | T-Score |\n",
        "+--------------------------------+-------------+------------+---------+\n",
        "| np.log1p(non_residential_rent) |    0.308    |   0.055    |  5.600  |\n",
        "| np.log1p(stories)              |    0.880    |   0.019    |  45.277 |\n",
        "| sum_residential_units          |    0.010    |   0.090    |  0.108  |\n",
        "| ave_unit_sqft                  |    -1.260   |   0.052    | -24.178 |\n",
        "| ave_lot_sqft                   |    0.083    |   0.032    |  2.591  |\n",
        "| ave_income                     |    1.036    |   0.054    |  19.097 |\n",
        "| hhsize                         |    -3.000   |   0.275    | -10.918 |\n",
        "| jobs                           |    0.336    |   0.018    |  19.049 |\n",
        "| poor                           |    -0.415   |   0.067    |  -6.148 |\n",
        "+--------------------------------+-------------+------------+---------+\n",
        "LCM RESULTS FOR SEGMENT 54\n",
        "\n",
        "Null Log-liklihood: -55294.278\n",
        "Log-liklihood at convergence: -33793.099\n",
        "Log-liklihood Ratio: 0.389\n",
        "\n",
        "+--------------------------------+-------------+------------+---------+\n",
        "| Component                      | Coefficient | Std. Error | T-Score |\n",
        "+--------------------------------+-------------+------------+---------+\n",
        "| np.log1p(non_residential_rent) |    0.214    |   0.047    |  4.608  |\n",
        "| np.log1p(stories)              |    0.765    |   0.013    |  57.885 |\n",
        "| sum_residential_units          |    -0.589   |   0.092    |  -6.387 |\n",
        "| ave_unit_sqft                  |    -1.526   |   0.076    | -20.143 |\n",
        "| ave_lot_sqft                   |    1.066    |   0.061    |  17.408 |\n",
        "| ave_income                     |    1.602    |   0.053    |  30.040 |\n",
        "| hhsize                         |    -3.000   |   0.291    | -10.316 |\n",
        "| jobs                           |    1.061    |   0.021    |  51.205 |\n",
        "| poor                           |    -0.182   |   0.067    |  -2.728 |\n",
        "+--------------------------------+-------------+------------+---------+\n",
        "LCM RESULTS FOR SEGMENT 55\n",
        "\n",
        "Null Log-liklihood: -5705.806\n",
        "Log-liklihood at convergence: -3337.267\n",
        "Log-liklihood Ratio: 0.415\n",
        "\n",
        "+--------------------------------+-------------+------------+---------+\n",
        "| Component                      | Coefficient | Std. Error | T-Score |\n",
        "+--------------------------------+-------------+------------+---------+\n",
        "| np.log1p(non_residential_rent) |    0.692    |   0.189    |  3.663  |\n",
        "| np.log1p(stories)              |    0.831    |   0.043    |  19.358 |\n",
        "| sum_residential_units          |    -1.803   |   0.381    |  -4.737 |\n",
        "| ave_unit_sqft                  |    -1.039   |   0.319    |  -3.259 |\n",
        "| ave_lot_sqft                   |    0.087    |   0.256    |  0.341  |\n",
        "| ave_income                     |    3.000    |   0.200    |  15.015 |\n",
        "| hhsize                         |    -2.032   |   1.063    |  -1.912 |\n",
        "| jobs                           |    1.479    |   0.076    |  19.360 |\n",
        "| poor                           |    0.692    |   0.273    |  2.539  |\n",
        "+--------------------------------+-------------+------------+---------+\n",
        "LCM RESULTS FOR SEGMENT 56\n",
        "\n",
        "Null Log-liklihood: -38729.481\n",
        "Log-liklihood at convergence: -32892.320\n",
        "Log-liklihood Ratio: 0.151\n",
        "\n",
        "+--------------------------------+-------------+------------+---------+\n",
        "| Component                      | Coefficient | Std. Error | T-Score |\n",
        "+--------------------------------+-------------+------------+---------+\n",
        "| np.log1p(non_residential_rent) |    0.455    |   0.044    |  10.432 |\n",
        "| np.log1p(stories)              |    0.669    |   0.018    |  37.226 |\n",
        "| sum_residential_units          |    -0.755   |   0.100    |  -7.574 |\n",
        "| ave_unit_sqft                  |    -0.646   |   0.084    |  -7.671 |\n",
        "| ave_lot_sqft                   |    0.183    |   0.065    |  2.800  |\n",
        "| ave_income                     |    0.902    |   0.056    |  16.177 |\n",
        "| hhsize                         |    -3.000   |   0.281    | -10.659 |\n",
        "| jobs                           |    0.553    |   0.021    |  25.880 |\n",
        "| poor                           |    0.029    |   0.071    |  0.410  |\n",
        "+--------------------------------+-------------+------------+---------+\n",
        "LCM RESULTS FOR SEGMENT 61\n",
        "\n",
        "Null Log-liklihood: -28681.000\n",
        "Log-liklihood at convergence: -26200.506\n",
        "Log-liklihood Ratio: 0.086\n",
        "\n",
        "+--------------------------------+-------------+------------+---------+\n",
        "| Component                      | Coefficient | Std. Error | T-Score |\n",
        "+--------------------------------+-------------+------------+---------+\n",
        "| np.log1p(non_residential_rent) |    0.691    |   0.062    |  11.230 |\n",
        "| np.log1p(stories)              |    0.940    |   0.025    |  37.205 |\n",
        "| sum_residential_units          |    -0.212   |   0.117    |  -1.810 |\n",
        "| ave_unit_sqft                  |    0.032    |   0.063    |  0.510  |\n",
        "| ave_lot_sqft                   |    -0.289   |   0.027    | -10.690 |\n",
        "| ave_income                     |    -0.518   |   0.074    |  -7.028 |\n",
        "| hhsize                         |    0.330    |   0.319    |  1.035  |\n",
        "| jobs                           |    0.155    |   0.023    |  6.688  |\n",
        "| poor                           |    0.163    |   0.087    |  1.882  |\n",
        "+--------------------------------+-------------+------------+---------+\n",
        "LCM RESULTS FOR SEGMENT 62\n",
        "\n",
        "Null Log-liklihood: -34547.987\n",
        "Log-liklihood at convergence: -31882.324\n",
        "Log-liklihood Ratio: 0.077\n",
        "\n",
        "+--------------------------------+-------------+------------+---------+\n",
        "| Component                      | Coefficient | Std. Error | T-Score |\n",
        "+--------------------------------+-------------+------------+---------+\n",
        "| np.log1p(non_residential_rent) |    -0.211   |   0.048    |  -4.406 |\n",
        "| np.log1p(stories)              |    0.987    |   0.021    |  46.911 |\n",
        "| sum_residential_units          |    0.135    |   0.107    |  1.263  |\n",
        "| ave_unit_sqft                  |    2.296    |   0.067    |  34.339 |\n",
        "| ave_lot_sqft                   |    -1.462   |   0.039    | -37.221 |\n",
        "| ave_income                     |    0.600    |   0.060    |  9.939  |\n",
        "| hhsize                         |    -1.340   |   0.266    |  -5.030 |\n",
        "| jobs                           |    0.216    |   0.020    |  10.683 |\n",
        "| poor                           |    0.094    |   0.073    |  1.288  |\n",
        "+--------------------------------+-------------+------------+---------+\n",
        "LCM RESULTS FOR SEGMENT 71\n",
        "\n",
        "Null Log-liklihood: -33392.089\n",
        "Log-liklihood at convergence: -30374.374\n",
        "Log-liklihood Ratio: 0.090\n",
        "\n",
        "+--------------------------------+-------------+------------+---------+\n",
        "| Component                      | Coefficient | Std. Error | T-Score |\n",
        "+--------------------------------+-------------+------------+---------+\n",
        "| np.log1p(non_residential_rent) |    0.989    |   0.045    |  22.026 |\n",
        "| np.log1p(stories)              |    0.175    |   0.022    |  7.987  |\n",
        "| sum_residential_units          |    -0.669   |   0.101    |  -6.633 |\n",
        "| ave_unit_sqft                  |    0.372    |   0.093    |  3.984  |\n",
        "| ave_lot_sqft                   |    0.135    |   0.071    |  1.892  |\n",
        "| ave_income                     |    -0.081   |   0.047    |  -1.736 |\n",
        "| hhsize                         |    -3.000   |   0.242    | -12.378 |\n",
        "| jobs                           |    0.384    |   0.027    |  14.425 |\n",
        "| poor                           |    0.367    |   0.068    |  5.395  |\n",
        "+--------------------------------+-------------+------------+---------+\n",
        "LCM RESULTS FOR SEGMENT 72\n",
        "\n",
        "Null Log-liklihood: -40147.874\n",
        "Log-liklihood at convergence: -35621.732\n",
        "Log-liklihood Ratio: 0.113\n",
        "\n",
        "+--------------------------------+-------------+------------+---------+\n",
        "| Component                      | Coefficient | Std. Error | T-Score |\n",
        "+--------------------------------+-------------+------------+---------+\n",
        "| np.log1p(non_residential_rent) |    1.098    |   0.051    |  21.330 |\n",
        "| np.log1p(stories)              |    0.322    |   0.021    |  15.622 |\n",
        "| sum_residential_units          |    -0.633   |   0.103    |  -6.164 |\n",
        "| ave_unit_sqft                  |    -0.267   |   0.080    |  -3.363 |\n",
        "| ave_lot_sqft                   |    -0.139   |   0.062    |  -2.248 |\n",
        "| ave_income                     |    0.270    |   0.048    |  5.634  |\n",
        "| hhsize                         |    -3.000   |   0.233    | -12.888 |\n",
        "| jobs                           |    0.489    |   0.022    |  22.308 |\n",
        "| poor                           |    0.223    |   0.071    |  3.143  |\n",
        "+--------------------------------+-------------+------------+---------+\n",
        "LCM RESULTS FOR SEGMENT 81\n",
        "\n",
        "Null Log-liklihood: -43509.648\n",
        "Log-liklihood at convergence: -40262.009\n",
        "Log-liklihood Ratio: 0.075\n",
        "\n",
        "+--------------------------------+-------------+------------+---------+\n",
        "| Component                      | Coefficient | Std. Error | T-Score |\n",
        "+--------------------------------+-------------+------------+---------+\n",
        "| np.log1p(non_residential_rent) |    0.181    |   0.040    |  4.499  |\n",
        "| np.log1p(stories)              |    0.572    |   0.019    |  30.505 |\n",
        "| sum_residential_units          |    -0.009   |   0.083    |  -0.108 |\n",
        "| ave_unit_sqft                  |    -0.344   |   0.048    |  -7.236 |\n",
        "| ave_lot_sqft                   |    0.051    |   0.025    |  2.030  |\n",
        "| ave_income                     |    -0.073   |   0.051    |  -1.431 |\n",
        "| hhsize                         |    0.138    |   0.232    |  0.592  |\n",
        "| jobs                           |    0.409    |   0.016    |  25.053 |\n",
        "| poor                           |    -0.138   |   0.061    |  -2.274 |\n",
        "+--------------------------------+-------------+------------+---------+\n",
        "LCM RESULTS FOR SEGMENT 92\n",
        "\n",
        "Null Log-liklihood: -40553.129\n",
        "Log-liklihood at convergence: -30068.297\n",
        "Log-liklihood Ratio: 0.259\n",
        "\n",
        "+--------------------------------+-------------+------------+---------+\n",
        "| Component                      | Coefficient | Std. Error | T-Score |\n",
        "+--------------------------------+-------------+------------+---------+\n",
        "| np.log1p(non_residential_rent) |    0.744    |   0.052    |  14.218 |\n",
        "| np.log1p(stories)              |    1.208    |   0.019    |  62.250 |\n",
        "| sum_residential_units          |    -1.868   |   0.162    | -11.529 |\n",
        "| ave_unit_sqft                  |    1.929    |   0.105    |  18.368 |\n",
        "| ave_lot_sqft                   |    0.104    |   0.088    |  1.179  |\n",
        "| ave_income                     |    -1.184   |   0.096    | -12.314 |\n",
        "| hhsize                         |    -3.000   |   0.500    |  -6.001 |\n",
        "| jobs                           |    0.251    |   0.030    |  8.308  |\n",
        "| poor                           |    1.601    |   0.107    |  15.005 |\n",
        "+--------------------------------+-------------+------------+---------+"
       ]
      },
      {
       "output_type": "stream",
       "stream": "stdout",
       "text": [
        "\n",
        "LCM RESULTS FOR SEGMENT 99\n",
        "\n",
        "Null Log-liklihood: -3665.715\n",
        "Log-liklihood at convergence: -2625.213\n",
        "Log-liklihood Ratio: 0.284\n",
        "\n",
        "+--------------------------------+-------------+------------+---------+\n",
        "| Component                      | Coefficient | Std. Error | T-Score |\n",
        "+--------------------------------+-------------+------------+---------+\n",
        "| np.log1p(non_residential_rent) |    0.412    |   0.272    |  1.517  |\n",
        "| np.log1p(stories)              |    0.753    |   0.075    |  10.074 |\n",
        "| sum_residential_units          |    0.977    |   0.562    |  1.738  |\n",
        "| ave_unit_sqft                  |    0.955    |   0.372    |  2.563  |\n",
        "| ave_lot_sqft                   |    -1.823   |   0.277    |  -6.580 |\n",
        "| ave_income                     |    -1.359   |   0.283    |  -4.795 |\n",
        "| hhsize                         |    -1.942   |   1.716    |  -1.132 |\n",
        "| jobs                           |    0.958    |   0.081    |  11.770 |\n",
        "| poor                           |    -1.494   |   0.385    |  -3.885 |\n",
        "+--------------------------------+-------------+------------+---------+\n"
       ]
      }
     ],
     "prompt_number": 12
    },
    {
     "cell_type": "code",
     "collapsed": false,
     "input": [],
     "language": "python",
     "metadata": {},
     "outputs": [],
     "prompt_number": 12
    }
   ],
   "metadata": {}
  }
 ]
}