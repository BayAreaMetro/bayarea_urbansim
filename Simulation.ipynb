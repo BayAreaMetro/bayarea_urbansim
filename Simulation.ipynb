{
 "metadata": {
  "name": "",
  "signature": "sha256:5960b4c8b4e2a58d97b862f7526f6e0527a5273853d62afa9940bf50560a8597"
 },
 "nbformat": 3,
 "nbformat_minor": 0,
 "worksheets": [
  {
   "cells": [
    {
     "cell_type": "code",
     "collapsed": false,
     "input": [
      "%load_ext autoreload\n",
      "%autoreload 1\n",
      "%aimport bayarea.models\n",
      "%aimport bayarea.dataset\n",
      "%aimport bayarea.feasibility\n",
      "%aimport bayarea.developer\n",
      "models = bayarea.models\n",
      "dataset = bayarea.dataset\n",
      "feasibility = bayarea.feasibility\n",
      "developer = bayarea.developer"
     ],
     "language": "python",
     "metadata": {},
     "outputs": [],
     "prompt_number": 1
    },
    {
     "cell_type": "code",
     "collapsed": false,
     "input": [
      "dset = dataset.BayAreaDataset(\"data/bayarea.h5\")"
     ],
     "language": "python",
     "metadata": {},
     "outputs": [],
     "prompt_number": 2
    },
    {
     "cell_type": "code",
     "collapsed": false,
     "input": [
      "models.build_networks()"
     ],
     "language": "python",
     "metadata": {},
     "outputs": [],
     "prompt_number": 3
    },
    {
     "cell_type": "code",
     "collapsed": false,
     "input": [
      "NUM_YEARS = 1\n",
      "MODEL_LIST = [\n",
      "    \"neighborhood_vars\",      # accessibility variables\n",
      "    \"rsh_simulate\",           # residential sales hedonic\n",
      "    \"rrh_simulate\",           # residenital rent hedonic\n",
      "    \"households_relocation\",  # households relocation model\n",
      "    \"hlcmo_simulate\",         # households location choice (owner)\n",
      "    \"hlcmr_simulate\",         # households location choice (renter)\n",
      "    \"households_transition\",  # households transition\n",
      "    \"nrh_simulate\",           # non-residential rent hedonic\n",
      "    \"jobs_relocation\",        # jobs relocation model\n",
      "    \"elcm_simulate\",          # employment location choice\n",
      "    \"jobs_transition\",        # jobs transition\n",
      "    \"price_vars\",             # compute average price measures\n",
      "    \"feasibility\",            # compute development feasibility\n",
      "    \"developer\"               # build actual buildings\n",
      "]\n",
      "import time\n",
      "for i in range(NUM_YEARS):\n",
      "    t1 = time.time()\n",
      "    for model in MODEL_LIST:\n",
      "        t2 = time.time()\n",
      "        print \"\\n\" + model + \"\\n\"\n",
      "        if model == \"feasibility\": feasibility.feasibility_run(dset)\n",
      "        elif model == \"developer\": developer.developer_run(dset)\n",
      "        else: getattr(models, model)(dset)\n",
      "        print \"Model %s executed in %.3fs\" % (model, time.time()-t2)\n",
      "    print \"Year %d completed in %.3fs\" % (i+1, time.time()-t1)"
     ],
     "language": "python",
     "metadata": {},
     "outputs": [
      {
       "output_type": "stream",
       "stream": "stdout",
       "text": [
        "\n",
        "neighborhood_vars\n",
        "\n",
        "Adding xys to dataframe: households\n",
        "Adding xys to dataframe: jobs"
       ]
      },
      {
       "output_type": "stream",
       "stream": "stdout",
       "text": [
        "\n",
        "Computing accessibility variables"
       ]
      },
      {
       "output_type": "stream",
       "stream": "stdout",
       "text": [
        "\n",
        "Computing sum_residential_units\n",
        "    dataframe = buildings, varname=residential_units\n",
        "    radius = 500, aggregation = AGG_SUM, decay = DECAY_LINEAR\n",
        "Computing sum_nonresidential_units"
       ]
      },
      {
       "output_type": "stream",
       "stream": "stdout",
       "text": [
        "\n",
        "    dataframe = buildings, varname=non_residential_units\n",
        "    radius = 500, aggregation = AGG_SUM, decay = DECAY_LINEAR\n",
        "Computing ave_unit_sqft"
       ]
      },
      {
       "output_type": "stream",
       "stream": "stdout",
       "text": [
        "\n",
        "    dataframe = buildings, varname=unit_sqft\n",
        "    radius = 500, aggregation = AGG_AVE, decay = DECAY_FLAT\n",
        "Computing ave_lot_sqft"
       ]
      },
      {
       "output_type": "stream",
       "stream": "stdout",
       "text": [
        "\n",
        "    dataframe = buildings, varname=unit_lot_size\n",
        "    radius = 500, aggregation = AGG_AVE, decay = DECAY_FLAT\n",
        "Computing population"
       ]
      },
      {
       "output_type": "stream",
       "stream": "stdout",
       "text": [
        "\n",
        "    dataframe = households, varname=persons\n",
        "    radius = 500, aggregation = AGG_SUM, decay = DECAY_LINEAR\n",
        "Computing poor"
       ]
      },
      {
       "output_type": "stream",
       "stream": "stdout",
       "text": [
        "\n",
        "    dataframe = households, varname=persons"
       ]
      },
      {
       "output_type": "stream",
       "stream": "stdout",
       "text": [
        "\n",
        "    radius = 500, aggregation = AGG_SUM, decay = DECAY_LINEAR\n",
        "Computing renters"
       ]
      },
      {
       "output_type": "stream",
       "stream": "stdout",
       "text": [
        "\n",
        "    dataframe = households, varname=None"
       ]
      },
      {
       "output_type": "stream",
       "stream": "stdout",
       "text": [
        "\n",
        "    radius = 500, aggregation = AGG_SUM, decay = DECAY_LINEAR\n",
        "Computing sfdu"
       ]
      },
      {
       "output_type": "stream",
       "stream": "stdout",
       "text": [
        "\n",
        "    dataframe = buildings, varname=None"
       ]
      },
      {
       "output_type": "stream",
       "stream": "stdout",
       "text": [
        "\n",
        "    radius = 500, aggregation = AGG_SUM, decay = DECAY_LINEAR\n",
        "Computing hhsize"
       ]
      },
      {
       "output_type": "stream",
       "stream": "stdout",
       "text": [
        "\n",
        "    dataframe = households, varname=persons\n",
        "    radius = 500, aggregation = AGG_AVE, decay = DECAY_FLAT\n",
        "Computing jobs"
       ]
      },
      {
       "output_type": "stream",
       "stream": "stdout",
       "text": [
        "\n",
        "    dataframe = jobs, varname=emp11\n",
        "    radius = 500, aggregation = AGG_SUM, decay = DECAY_LINEAR\n",
        "Computing ave_income"
       ]
      },
      {
       "output_type": "stream",
       "stream": "stdout",
       "text": [
        "\n",
        "    dataframe = households, varname=income\n",
        "    radius = 500, aggregation = AGG_AVE, decay = DECAY_FLAT\n",
        "Model neighborhood_vars executed in 52.740s"
       ]
      },
      {
       "output_type": "stream",
       "stream": "stdout",
       "text": [
        "\n",
        "\n",
        "rsh_simulate\n",
        "\n",
        "Running hedonic simulation\n"
       ]
      },
      {
       "output_type": "stream",
       "stream": "stdout",
       "text": [
        "\n",
        "count    1788632.00\n",
        "mean           1.23\n",
        "std           10.83\n",
        "min            0.09\n",
        "25%            0.30\n",
        "50%            0.36\n",
        "75%            0.43\n",
        "max         2444.07\n",
        "dtype: float64"
       ]
      },
      {
       "output_type": "stream",
       "stream": "stdout",
       "text": [
        "\n",
        "Model rsh_simulate executed in 23.199s"
       ]
      },
      {
       "output_type": "stream",
       "stream": "stdout",
       "text": [
        "\n",
        "\n",
        "rrh_simulate\n",
        "\n",
        "Running hedonic simulation\n"
       ]
      },
      {
       "output_type": "stream",
       "stream": "stdout",
       "text": [
        "\n",
        "count    1788632.00\n",
        "mean           1.83\n",
        "std            0.38\n",
        "min            0.29\n",
        "25%            1.68\n",
        "50%            1.85\n",
        "75%            2.01\n",
        "max           11.14\n",
        "dtype: float64"
       ]
      },
      {
       "output_type": "stream",
       "stream": "stdout",
       "text": [
        "\n",
        "Model rrh_simulate executed in 3.345s"
       ]
      },
      {
       "output_type": "stream",
       "stream": "stdout",
       "text": [
        "\n",
        "\n",
        "households_relocation\n",
        "\n",
        "Running relocation\n",
        "\n",
        "Total currently unplaced: 0"
       ]
      },
      {
       "output_type": "stream",
       "stream": "stdout",
       "text": [
        "\n",
        "Total currently unplaced: 129699"
       ]
      },
      {
       "output_type": "stream",
       "stream": "stdout",
       "text": [
        "\n",
        "Model households_relocation executed in 1.122s\n",
        "\n",
        "hlcmo_simulate\n",
        "\n",
        "Running location choice model simulation\n"
       ]
      },
      {
       "output_type": "stream",
       "stream": "stdout",
       "text": [
        "\n",
        "There are 2740841 total available units"
       ]
      },
      {
       "output_type": "stream",
       "stream": "stdout",
       "text": [
        "\n",
        "    and 2593999 total choosers\n",
        "    but there are 128960 overfull buildings"
       ]
      },
      {
       "output_type": "stream",
       "stream": "stdout",
       "text": [
        "\n",
        "    for a total of 438658 empty units"
       ]
      },
      {
       "output_type": "stream",
       "stream": "stdout",
       "text": [
        "\n",
        "    in 306323 buildings total in the region\n",
        "Assigned 72999 choosers to new units"
       ]
      },
      {
       "output_type": "stream",
       "stream": "stdout",
       "text": [
        "\n",
        "Total currently unplaced: 56700"
       ]
      },
      {
       "output_type": "stream",
       "stream": "stdout",
       "text": [
        "\n",
        "Model hlcmo_simulate executed in 12.796s\n",
        "\n",
        "hlcmr_simulate\n",
        "\n",
        "Running location choice model simulation\n"
       ]
      },
      {
       "output_type": "stream",
       "stream": "stdout",
       "text": [
        "\n",
        "There are 2740841 total available units"
       ]
      },
      {
       "output_type": "stream",
       "stream": "stdout",
       "text": [
        "\n",
        "    and 2593999 total choosers\n",
        "    but there are 128960 overfull buildings"
       ]
      },
      {
       "output_type": "stream",
       "stream": "stdout",
       "text": [
        "\n",
        "    for a total of 365659 empty units"
       ]
      },
      {
       "output_type": "stream",
       "stream": "stdout",
       "text": [
        "\n",
        "    in 262090 buildings total in the region\n",
        "Assigned 56700 choosers to new units"
       ]
      },
      {
       "output_type": "stream",
       "stream": "stdout",
       "text": [
        "\n",
        "Total currently unplaced: 0"
       ]
      },
      {
       "output_type": "stream",
       "stream": "stdout",
       "text": [
        "\n",
        "Model hlcmr_simulate executed in 11.243s\n",
        "\n",
        "households_transition\n",
        "\n",
        "2593999 agents before transition\n",
        "2723699 agents after transition"
       ]
      },
      {
       "output_type": "stream",
       "stream": "stdout",
       "text": [
        "\n",
        "Model households_transition executed in 1.057s\n",
        "\n",
        "nrh_simulate\n",
        "\n",
        "Running hedonic simulation\n"
       ]
      },
      {
       "output_type": "stream",
       "stream": "stdout",
       "text": [
        "\n",
        "count    147627.00\n",
        "mean        231.37\n",
        "std         636.45\n",
        "min           1.17\n",
        "25%          25.89\n",
        "50%          88.35\n",
        "75%         203.19\n",
        "max       82921.70\n",
        "dtype: float64"
       ]
      },
      {
       "output_type": "stream",
       "stream": "stdout",
       "text": [
        "\n",
        "Model nrh_simulate executed in 2.037s"
       ]
      },
      {
       "output_type": "stream",
       "stream": "stdout",
       "text": [
        "\n",
        "\n",
        "jobs_relocation\n",
        "\n",
        "Running relocation\n",
        "\n",
        "Total currently unplaced: 0"
       ]
      },
      {
       "output_type": "stream",
       "stream": "stdout",
       "text": [
        "\n",
        "Total currently unplaced: 326867"
       ]
      },
      {
       "output_type": "stream",
       "stream": "stdout",
       "text": [
        "\n",
        "Model jobs_relocation executed in 1.995s\n",
        "\n",
        "elcm_simulate\n",
        "\n",
        "Running location choice model simulation\n"
       ]
      },
      {
       "output_type": "stream",
       "stream": "stdout",
       "text": [
        "\n",
        "There are 3731240 total available units"
       ]
      },
      {
       "output_type": "stream",
       "stream": "stdout",
       "text": [
        "\n",
        "    and 4085844 total choosers\n",
        "    but there are 280975 overfull buildings"
       ]
      },
      {
       "output_type": "stream",
       "stream": "stdout",
       "text": [
        "\n",
        "    for a total of 2818842 empty units"
       ]
      },
      {
       "output_type": "stream",
       "stream": "stdout",
       "text": [
        "\n",
        "    in 64093 buildings total in the region\n",
        "Assigned 326867 choosers to new units"
       ]
      },
      {
       "output_type": "stream",
       "stream": "stdout",
       "text": [
        "\n",
        "Total currently unplaced: 0"
       ]
      },
      {
       "output_type": "stream",
       "stream": "stdout",
       "text": [
        "\n",
        "Model elcm_simulate executed in 34.138s\n",
        "\n",
        "jobs_transition\n",
        "\n",
        "4085844 agents before transition\n",
        "4290136 agents after transition"
       ]
      },
      {
       "output_type": "stream",
       "stream": "stdout",
       "text": [
        "\n",
        "Model jobs_transition executed in 1.733s\n",
        "\n",
        "price_vars\n",
        "\n",
        "Computing accessibility variables\n",
        "Computing ave_residential_price\n",
        "    dataframe = buildings, varname=residential_sales_price\n",
        "    radius = 1500, aggregation = AGG_AVE, decay = DECAY_FLAT\n",
        "Computing ave_retail_rent"
       ]
      },
      {
       "output_type": "stream",
       "stream": "stdout",
       "text": [
        "\n",
        "    dataframe = buildings, varname=non_residential_rent"
       ]
      },
      {
       "output_type": "stream",
       "stream": "stdout",
       "text": [
        "\n",
        "    radius = 1500, aggregation = AGG_AVE, decay = DECAY_FLAT\n",
        "Computing ave_office_rent"
       ]
      },
      {
       "output_type": "stream",
       "stream": "stdout",
       "text": [
        "\n",
        "    dataframe = buildings, varname=non_residential_rent"
       ]
      },
      {
       "output_type": "stream",
       "stream": "stdout",
       "text": [
        "\n",
        "    radius = 1500, aggregation = AGG_AVE, decay = DECAY_FLAT\n",
        "Computing ave_industrial_rent"
       ]
      },
      {
       "output_type": "stream",
       "stream": "stdout",
       "text": [
        "\n",
        "    dataframe = buildings, varname=non_residential_rent"
       ]
      },
      {
       "output_type": "stream",
       "stream": "stdout",
       "text": [
        "\n",
        "    radius = 1500, aggregation = AGG_AVE, decay = DECAY_FLAT\n",
        "Model price_vars executed in 8.537s"
       ]
      },
      {
       "output_type": "stream",
       "stream": "stdout",
       "text": [
        "\n",
        "\n",
        "feasibility\n",
        "\n",
        "Running pro forma\n",
        "       residential      office      retail  industrial\n",
        "count   2023915.00  2023915.00  2023915.00  2023915.00\n",
        "mean          0.10      151.18      151.18      151.18\n",
        "std           0.40      208.53      208.53      208.53\n",
        "min          -0.00        0.00        0.00        0.00\n",
        "25%           0.03       41.36       41.36       41.36\n",
        "50%           0.04       94.87       94.87       94.87\n",
        "75%           0.06      180.65      180.65      180.65\n",
        "max          65.41     5280.08     5280.08     5280.08\n",
        "\n",
        "[8 rows x 4 columns]"
       ]
      },
      {
       "output_type": "stream",
       "stream": "stdout",
       "text": [
        "\n",
        "Get zoning:"
       ]
      },
      {
       "output_type": "stream",
       "stream": "stdout",
       "text": [
        " Fri May 16 14:46:43 2014\n",
        "mixedoffice"
       ]
      },
      {
       "output_type": "stream",
       "stream": "stdout",
       "text": [
        " 14\n",
        "mixedoffice"
       ]
      },
      {
       "output_type": "stream",
       "stream": "stdout",
       "text": [
        " Fri May 16 14:46:44 2014\n",
        "sqft cost\n",
        "0.25     19.72\n",
        "0.50     19.72\n",
        "0.75     19.72\n",
        "1.00     21.26\n",
        "1.50     21.61\n",
        "1.80     21.61\n",
        "2.00     23.16\n",
        "3.00     23.16\n",
        "4.00     23.16\n",
        "5.00     25.85\n",
        "7.00     25.85\n",
        "9.00     25.85\n",
        "11.00    29.29\n",
        "Name: even_rent, dtype: float64\n",
        "maxprofit_fars\n"
       ]
      },
      {
       "output_type": "stream",
       "stream": "stdout",
       "text": [
        "3.00     7549\n",
        "2.00     6012\n",
        "1.50     5843\n",
        "1.00     4140\n",
        "4.00     3039\n",
        "5.00     2979\n",
        "0.50     2301\n",
        "11.00    2100\n",
        "0.75     1792\n",
        "0.25     1652\n",
        "7.00      724\n",
        "9.00      220\n",
        "1.80      136\n",
        "dtype: int64\n",
        "industrial"
       ]
      },
      {
       "output_type": "stream",
       "stream": "stdout",
       "text": [
        " 7\n",
        "industrial"
       ]
      },
      {
       "output_type": "stream",
       "stream": "stdout",
       "text": [
        " Fri May 16 14:47:01 2014\n",
        "sqft cost\n",
        "0.25     16.67\n",
        "0.50     16.67\n",
        "0.75     16.67\n",
        "1.00     17.60\n",
        "1.50     20.68\n",
        "1.80     20.68\n",
        "2.00     20.68\n",
        "3.00       NaN\n",
        "4.00       NaN\n",
        "5.00       NaN\n",
        "7.00       NaN\n",
        "9.00       NaN\n",
        "11.00      NaN\n",
        "Name: even_rent, dtype: float64\n",
        "maxprofit_fars\n"
       ]
      },
      {
       "output_type": "stream",
       "stream": "stdout",
       "text": [
        "2.00    16803\n",
        "0.50     6986\n",
        "0.25     5411\n",
        "1.50     5350\n",
        "1.00     4909\n",
        "0.75     1120\n",
        "1.80      452\n",
        "dtype: int64\n",
        "industrial"
       ]
      },
      {
       "output_type": "stream",
       "stream": "stdout",
       "text": [
        " 8\n",
        "industrial"
       ]
      },
      {
       "output_type": "stream",
       "stream": "stdout",
       "text": [
        " Fri May 16 14:47:13 2014\n",
        "sqft cost\n",
        "0.25     16.67\n",
        "0.50     16.67\n",
        "0.75     16.67\n",
        "1.00     17.60\n",
        "1.50     20.68\n",
        "1.80     20.68\n",
        "2.00     20.68\n",
        "3.00       NaN\n",
        "4.00       NaN\n",
        "5.00       NaN\n",
        "7.00       NaN\n",
        "9.00       NaN\n",
        "11.00      NaN\n",
        "Name: even_rent, dtype: float64\n",
        "maxprofit_fars\n"
       ]
      },
      {
       "output_type": "stream",
       "stream": "stdout",
       "text": [
        "2.00    11373\n",
        "0.50     5690\n",
        "1.50     4802\n",
        "0.25     3795\n",
        "1.00     1932\n",
        "0.75      853\n",
        "1.80      371\n",
        "dtype: int64\n",
        "industrial"
       ]
      },
      {
       "output_type": "stream",
       "stream": "stdout",
       "text": [
        " 9\n",
        "industrial"
       ]
      },
      {
       "output_type": "stream",
       "stream": "stdout",
       "text": [
        " Fri May 16 14:47:24 2014\n",
        "sqft cost\n",
        "0.25     16.67\n",
        "0.50     16.67\n",
        "0.75     16.67\n",
        "1.00     17.60\n",
        "1.50     20.68\n",
        "1.80     20.68\n",
        "2.00     20.68\n",
        "3.00       NaN\n",
        "4.00       NaN\n",
        "5.00       NaN\n",
        "7.00       NaN\n",
        "9.00       NaN\n",
        "11.00      NaN\n",
        "Name: even_rent, dtype: float64\n",
        "maxprofit_fars\n"
       ]
      },
      {
       "output_type": "stream",
       "stream": "stdout",
       "text": [
        "1.50    3612\n",
        "2.00    2622\n",
        "0.50    2495\n",
        "0.25    2445\n",
        "1.00     773\n",
        "1.80     331\n",
        "0.75       7\n",
        "dtype: int64\n",
        "office"
       ]
      },
      {
       "output_type": "stream",
       "stream": "stdout",
       "text": [
        " 4\n",
        "office"
       ]
      },
      {
       "output_type": "stream",
       "stream": "stdout",
       "text": [
        " Fri May 16 14:47:35 2014\n",
        "sqft cost\n",
        "0.25     19.37\n",
        "0.50     19.37\n",
        "0.75     19.37\n",
        "1.00     20.92\n",
        "1.50     21.09\n",
        "1.80     21.09\n",
        "2.00     22.64\n",
        "3.00     22.64\n",
        "4.00     22.64\n",
        "5.00     25.51\n",
        "7.00     25.51\n",
        "9.00     25.51\n",
        "11.00    28.94\n",
        "Name: even_rent, dtype: float64\n",
        "maxprofit_fars\n"
       ]
      },
      {
       "output_type": "stream",
       "stream": "stdout",
       "text": [
        "3.00     19177\n",
        "2.00     15508\n",
        "1.00     11279\n",
        "1.50     10451\n",
        "0.50      8358\n",
        "0.25      7451\n",
        "4.00      5340\n",
        "5.00      4483\n",
        "0.75      3316\n",
        "11.00     2100\n",
        "7.00       865\n",
        "1.80       587\n",
        "9.00       220\n",
        "dtype: int64\n",
        "residential"
       ]
      },
      {
       "output_type": "stream",
       "stream": "stdout",
       "text": [
        " 1\n",
        "residential"
       ]
      },
      {
       "output_type": "stream",
       "stream": "stdout",
       "text": [
        " Fri May 16 14:47:46 2014\n",
        "sqft cost\n",
        "0.25     20.52\n",
        "0.50     20.52\n",
        "0.75     20.52\n",
        "1.00     22.07\n",
        "1.50     22.81\n",
        "1.80     22.81\n",
        "2.00     24.36\n",
        "3.00     24.36\n",
        "4.00     24.36\n",
        "5.00     26.65\n",
        "7.00     26.65\n",
        "9.00     26.65\n",
        "11.00    30.09\n",
        "Name: even_rent, dtype: float64\n",
        "maxprofit_fars\n"
       ]
      },
      {
       "output_type": "stream",
       "stream": "stdout",
       "text": [
        "0.75    20\n",
        "dtype: int64\n",
        "residential"
       ]
      },
      {
       "output_type": "stream",
       "stream": "stdout",
       "text": [
        " 2\n",
        "residential"
       ]
      },
      {
       "output_type": "stream",
       "stream": "stdout",
       "text": [
        " Fri May 16 14:47:57 2014\n",
        "sqft cost\n",
        "0.25     20.52\n",
        "0.50     20.52\n",
        "0.75     20.52\n",
        "1.00     22.07\n",
        "1.50     22.81\n",
        "1.80     22.81\n",
        "2.00     24.36\n",
        "3.00     24.36\n",
        "4.00     24.36\n",
        "5.00     26.65\n",
        "7.00     26.65\n",
        "9.00     26.65\n",
        "11.00    30.09\n",
        "Name: even_rent, dtype: float64\n",
        "maxprofit_fars\n"
       ]
      },
      {
       "output_type": "stream",
       "stream": "stdout",
       "text": [
        "0.75    19\n",
        "1.00     1\n",
        "dtype: int64\n",
        "residential"
       ]
      },
      {
       "output_type": "stream",
       "stream": "stdout",
       "text": [
        " 3\n",
        "residential"
       ]
      },
      {
       "output_type": "stream",
       "stream": "stdout",
       "text": [
        " Fri May 16 14:48:09 2014\n",
        "sqft cost\n",
        "0.25     20.52\n",
        "0.50     20.52\n",
        "0.75     20.52\n",
        "1.00     22.07\n",
        "1.50     22.81\n",
        "1.80     22.81\n",
        "2.00     24.36\n",
        "3.00     24.36\n",
        "4.00     24.36\n",
        "5.00     26.65\n",
        "7.00     26.65\n",
        "9.00     26.65\n",
        "11.00    30.09\n",
        "Name: even_rent, dtype: float64\n",
        "maxprofit_fars\n"
       ]
      },
      {
       "output_type": "stream",
       "stream": "stdout",
       "text": [
        "Series([], dtype: int64)\n",
        "mixedresidential"
       ]
      },
      {
       "output_type": "stream",
       "stream": "stdout",
       "text": [
        " 12\n",
        "mixedresidential"
       ]
      },
      {
       "output_type": "stream",
       "stream": "stdout",
       "text": [
        " Fri May 16 14:48:24 2014\n",
        "sqft cost\n",
        "0.25     20.51\n",
        "0.50     20.51\n",
        "0.75     20.51\n",
        "1.00     22.21\n",
        "1.50     22.74\n",
        "1.80     24.45\n",
        "2.00     24.45\n",
        "3.00     24.45\n",
        "4.00     24.45\n",
        "5.00     26.80\n",
        "7.00     26.80\n",
        "9.00     26.80\n",
        "11.00    30.23\n",
        "Name: even_rent, dtype: float64\n",
        "maxprofit_fars\n"
       ]
      },
      {
       "output_type": "stream",
       "stream": "stdout",
       "text": [
        "2.00     5710\n",
        "3.00     5602\n",
        "0.75     4434\n",
        "4.00     3046\n",
        "5.00     3044\n",
        "1.50     2141\n",
        "0.50     1691\n",
        "1.00     1567\n",
        "11.00    1255\n",
        "1.80     1016\n",
        "9.00     1004\n",
        "0.25      937\n",
        "7.00      301\n",
        "dtype: int64\n",
        "retail"
       ]
      },
      {
       "output_type": "stream",
       "stream": "stdout",
       "text": [
        " 10\n",
        "retail"
       ]
      },
      {
       "output_type": "stream",
       "stream": "stdout",
       "text": [
        " Fri May 16 14:48:38 2014\n",
        "sqft cost\n",
        "0.25     20.40\n",
        "0.50     20.40\n",
        "0.75     22.12\n",
        "1.00     22.12\n",
        "1.50     25.22\n",
        "1.80     25.22\n",
        "2.00     25.22\n",
        "3.00       NaN\n",
        "4.00       NaN\n",
        "5.00       NaN\n",
        "7.00       NaN\n",
        "9.00       NaN\n",
        "11.00      NaN\n",
        "Name: even_rent, dtype: float64\n",
        "maxprofit_fars\n"
       ]
      },
      {
       "output_type": "stream",
       "stream": "stdout",
       "text": [
        "0.50    184398\n",
        "2.00    118569\n",
        "0.25     14316\n",
        "1.50     11818\n",
        "1.00     10006\n",
        "0.75      2388\n",
        "1.80      2255\n",
        "dtype: int64\n",
        "retail"
       ]
      },
      {
       "output_type": "stream",
       "stream": "stdout",
       "text": [
        " 11\n",
        "retail"
       ]
      },
      {
       "output_type": "stream",
       "stream": "stdout",
       "text": [
        " Fri May 16 14:48:51 2014\n",
        "sqft cost\n",
        "0.25     20.40\n",
        "0.50     20.40\n",
        "0.75     22.12\n",
        "1.00     22.12\n",
        "1.50     25.22\n",
        "1.80     25.22\n",
        "2.00     25.22\n",
        "3.00       NaN\n",
        "4.00       NaN\n",
        "5.00       NaN\n",
        "7.00       NaN\n",
        "9.00       NaN\n",
        "11.00      NaN\n",
        "Name: even_rent, dtype: float64\n",
        "maxprofit_fars\n"
       ]
      },
      {
       "output_type": "stream",
       "stream": "stdout",
       "text": [
        "2.00    11501\n",
        "1.50     5869\n",
        "0.50     2715\n",
        "1.00     2622\n",
        "0.25     1672\n",
        "0.75      933\n",
        "dtype: int64\n",
        "Feasibility and zoning\n"
       ]
      },
      {
       "output_type": "stream",
       "stream": "stdout",
       "text": [
        "        total_sqft  total_units  year_built  currentrent  parcelsize  \\\n",
        "count   1906847.00   1906847.00  1906847.00   1906847.00    2.02e+06   \n",
        "mean       3694.52         1.54     1989.42       286.67    9.71e+04   \n",
        "std       28752.35         6.49       29.48      4400.84    1.53e+06   \n",
        "min           1.00         1.00      199.00        -0.00    3.00e+02   \n",
        "25%        1396.00         1.00     1951.00        40.85    4.44e+03   \n",
        "50%        1864.00         1.00     1960.00        64.06    6.40e+03   \n",
        "75%        2527.00         1.00     1978.00       120.17    9.91e+03   \n",
        "max    18635010.00       404.00     9770.00   1876627.75    1.01e+09   \n",
        "\n",
        "       type14_zonedfar  type14_zonedheight  type14_feasiblefar  type14_profit  \\\n",
        "count       2023915.00          2023915.00           369682.00       3.70e+05   \n",
        "mean              0.08            10019.81                0.21       4.50e+07   \n",
        "std               0.85             1253.11                0.98       8.25e+08   \n",
        "min               0.00               25.00                0.00       0.00e+00   \n",
        "25%               0.00             9999.00                0.00       0.00e+00   \n",
        "50%               0.00             9999.00                0.00       0.00e+00   \n",
        "75%               0.00             9999.00                0.00       0.00e+00   \n",
        "max              20.00             9999.00               11.00       1.17e+11   \n",
        "\n",
        "       type7_zonedfar  type7_zonedheight  type7_feasiblefar  type7_profit  \\\n",
        "count      2023915.00         2023915.00          374982.00      3.75e+05   \n",
        "mean             0.05           10026.36               0.12      5.50e+07   \n",
        "std              0.52            1230.77               0.42      8.39e+08   \n",
        "min              0.00              15.00               0.00      0.00e+00   \n",
        "25%              0.00            9999.00               0.00      0.00e+00   \n",
        "50%              0.00            9999.00               0.00      0.00e+00   \n",
        "75%              0.00            9999.00               0.00      0.00e+00   \n",
        "max             12.00            9999.00               2.00      1.12e+11   \n",
        "\n",
        "       type8_zonedfar  type8_zonedheight  type8_feasiblefar  type8_profit  \\\n",
        "count      2023915.00         2023915.00          364601.00      3.65e+05   \n",
        "mean             0.03           10069.95               0.09      3.37e+07   \n",
        "std              0.39            1049.63               0.36      6.09e+08   \n",
        "min              0.00              15.00               0.00      0.00e+00   \n",
        "25%              0.00            9999.00               0.00      0.00e+00   \n",
        "50%              0.00            9999.00               0.00      0.00e+00   \n",
        "75%              0.00            9999.00               0.00      0.00e+00   \n",
        "max             12.00            9999.00               2.00      1.07e+11   \n",
        "\n",
        "       type9_zonedfar  type9_zonedheight  type9_feasiblefar      \n",
        "count      2023915.00         2023915.00          350662.00 ...  \n",
        "mean             0.01           10141.25               0.04 ...  \n",
        "std              0.14             652.26               0.23 ...  \n",
        "min              0.00              30.00               0.00 ...  \n",
        "25%              0.00            9999.00               0.00 ...  \n",
        "50%              0.00            9999.00               0.00 ...  \n",
        "75%              0.00            9999.00               0.00 ...  \n",
        "max              5.00            9999.00               2.00 ...  \n",
        "\n",
        "[8 rows x 53 columns]\n",
        "Finished developer"
       ]
      },
      {
       "output_type": "stream",
       "stream": "stdout",
       "text": [
        " Fri May 16 14:50:33 2014\n",
        "Model feasibility executed in 252.808s"
       ]
      },
      {
       "output_type": "stream",
       "stream": "stdout",
       "text": [
        "\n",
        "\n",
        "developer\n",
        "\n",
        "Running developer for households\n",
        "Number of agents: 2723699\n",
        "Number of agent spaces: 2936840\n",
        "Current vacancy = 0.07\n",
        "Target vacancy = 0.10, target of new units = 89492\n",
        "Describe of netunits\n"
       ]
      },
      {
       "output_type": "stream",
       "stream": "stdout",
       "text": [
        "       total_sqft  total_units  year_built  currentrent  parcelsize  \\\n",
        "count        3.00            3        3.00         3.00        3.00   \n",
        "mean      2368.35            1     1962.67    945653.13   127501.22   \n",
        "std       1118.91            0        4.62    423445.24    17239.90   \n",
        "min       1500.00            1     1960.00    633696.56   108230.33   \n",
        "25%       1737.00            1     1960.00    704631.64   120521.96   \n",
        "50%       1974.00            1     1960.00    775566.72   132813.59   \n",
        "75%       2802.52            1     1964.00   1101631.42   137136.66   \n",
        "max       3631.04            1     1968.00   1427696.13   141459.73   \n",
        "\n",
        "       type14_zonedfar  type14_zonedheight  type14_feasiblefar  type14_profit  \\\n",
        "count                3                   3                   0              0   \n",
        "mean                 0                9999                 NaN            NaN   \n",
        "std                  0                   0                 NaN            NaN   \n",
        "min                  0                9999                 NaN            NaN   \n",
        "25%                  0                9999                 NaN            NaN   \n",
        "50%                  0                9999                 NaN            NaN   \n",
        "75%                  0                9999                 NaN            NaN   \n",
        "max                  0                9999                 NaN            NaN   \n",
        "\n",
        "       type7_zonedfar  type7_zonedheight  type7_feasiblefar  type7_profit  \\\n",
        "count               3                  3                  0             0   \n",
        "mean                0               9999                NaN           NaN   \n",
        "std                 0                  0                NaN           NaN   \n",
        "min                 0               9999                NaN           NaN   \n",
        "25%                 0               9999                NaN           NaN   \n",
        "50%                 0               9999                NaN           NaN   \n",
        "75%                 0               9999                NaN           NaN   \n",
        "max                 0               9999                NaN           NaN   \n",
        "\n",
        "       type8_zonedfar  type8_zonedheight  type8_feasiblefar  type8_profit  \\\n",
        "count               3                  3                  0             0   \n",
        "mean                0               9999                NaN           NaN   \n",
        "std                 0                  0                NaN           NaN   \n",
        "min                 0               9999                NaN           NaN   \n",
        "25%                 0               9999                NaN           NaN   \n",
        "50%                 0               9999                NaN           NaN   \n",
        "75%                 0               9999                NaN           NaN   \n",
        "max                 0               9999                NaN           NaN   \n",
        "\n",
        "       type9_zonedfar  type9_zonedheight  type9_feasiblefar      \n",
        "count               3                  3                  0 ...  \n",
        "mean                0               9999                NaN ...  \n",
        "std                 0                  0                NaN ...  \n",
        "min                 0               9999                NaN ...  \n",
        "25%                 0               9999                NaN ...  \n",
        "50%                 0               9999                NaN ...  \n",
        "75%                 0               9999                NaN ...  \n",
        "max                 0               9999                NaN ...  \n",
        "\n",
        "[8 rows x 59 columns]\n",
        "Describe of buildings built\n",
        "count    3\n",
        "mean     1\n",
        "std      0\n",
        "min      1\n",
        "25%      1\n",
        "50%      1\n",
        "75%      1\n",
        "max      1\n",
        "Name: total_units, dtype: float64\n",
        "Describe of profit\n",
        "count           3.00\n",
        "mean      8094052.42\n",
        "std       3284819.24\n",
        "min       5777521.96\n",
        "25%       6214410.06\n",
        "50%       6651298.15\n",
        "75%       9252317.65\n",
        "max      11853337.14\n",
        "Name: max_profit, dtype: float64\n",
        "Buildings by type\n",
        "1    3\n",
        "dtype: int64\n",
        "Units by type\n",
        "max_btype\n",
        "1            219\n",
        "Name: netunits, dtype: float64\n",
        "Running developer for jobs"
       ]
      },
      {
       "output_type": "stream",
       "stream": "stdout",
       "text": [
        "\n",
        "Number of agents: 4290136\n",
        "Number of agent spaces: 3735985\n",
        "Current vacancy = -0.15\n",
        "Target vacancy = 0.10, target of new units = 1030832\n",
        "Describe of netunits\n"
       ]
      },
      {
       "output_type": "stream",
       "stream": "stdout",
       "text": [
        "       total_sqft  total_units  year_built  currentrent  parcelsize  \\\n",
        "count   325058.00    325058.00   325058.00    325058.00   325058.00   \n",
        "mean      5341.21         4.92     1971.58      7668.31    12288.71   \n",
        "std      25266.79        37.24       26.09     85161.96    22148.82   \n",
        "min          1.00         0.00     1945.00        -0.00      300.00   \n",
        "25%       1442.00         0.00     1960.00       876.03     5053.22   \n",
        "50%       2025.00         0.00     1968.00      1389.62     6449.55   \n",
        "75%       2527.00         0.00     1980.00      2883.61     8844.92   \n",
        "max    4676154.00      3943.00     8687.00  24116625.80   199982.74   \n",
        "\n",
        "       type14_zonedfar  type14_zonedheight  type14_feasiblefar  type14_profit  \\\n",
        "count        325058.00           325058.00            29625.00       2.96e+04   \n",
        "mean              0.35             9276.91                2.60       3.40e+08   \n",
        "std               1.68             2553.12                2.38       1.54e+09   \n",
        "min               0.00               25.00                0.25       3.52e+03   \n",
        "25%               0.00             9999.00                1.00       6.57e+06   \n",
        "50%               0.00             9999.00                2.00       2.72e+07   \n",
        "75%               0.00             9999.00                3.00       1.16e+08   \n",
        "max              20.00             9999.00               11.00       7.85e+10   \n",
        "\n",
        "       type7_zonedfar  type7_zonedheight  type7_feasiblefar  type7_profit  \\\n",
        "count       325058.00          325058.00           33053.00      3.31e+04   \n",
        "mean             0.22            9283.98               1.24      2.67e+08   \n",
        "std              1.04            2543.61               0.70      8.61e+08   \n",
        "min              0.00              15.00               0.25      5.84e+01   \n",
        "25%              0.00            9999.00               0.50      1.26e+07   \n",
        "50%              0.00            9999.00               1.50      5.21e+07   \n",
        "75%              0.00            9999.00               2.00      1.99e+08   \n",
        "max             12.00            9999.00               2.00      2.85e+10   \n",
        "\n",
        "       type8_zonedfar  type8_zonedheight  type8_feasiblefar  type8_profit  \\\n",
        "count       325058.00          325058.00           23445.00      2.34e+04   \n",
        "mean             0.14            9476.38               1.24      2.42e+08   \n",
        "std              0.78            2188.38               0.70      6.03e+08   \n",
        "min              0.00              15.00               0.25      5.84e+01   \n",
        "25%              0.00            9999.00               0.50      1.46e+07   \n",
        "50%              0.00            9999.00               1.50      6.82e+07   \n",
        "75%              0.00            9999.00               2.00      2.28e+08   \n",
        "max             12.00            9999.00               2.00      1.65e+10   \n",
        "\n",
        "       type9_zonedfar  type9_zonedheight  type9_feasiblefar      \n",
        "count       325058.00          325058.00           10429.00 ...  \n",
        "mean             0.04            9775.58               1.12 ...  \n",
        "std              0.28            1427.23               0.67 ...  \n",
        "min              0.00              30.00               0.25 ...  \n",
        "25%              0.00            9999.00               0.50 ...  \n",
        "50%              0.00            9999.00               1.50 ...  \n",
        "75%              0.00            9999.00               1.50 ...  \n",
        "max              5.00            9999.00               2.00 ...  \n",
        "\n",
        "[8 rows x 59 columns]\n",
        "Describe of buildings built\n"
       ]
      },
      {
       "output_type": "stream",
       "stream": "stdout",
       "text": [
        "count    1621.00\n",
        "mean      104.84\n",
        "std       294.64\n",
        "min         0.00\n",
        "25%         0.00\n",
        "50%        14.00\n",
        "75%        70.00\n",
        "max      3943.00\n",
        "Name: total_units, dtype: float64\n",
        "Describe of profit\n",
        "count    1.62e+03\n",
        "mean     3.60e+09\n",
        "std      7.23e+09\n",
        "min      1.33e+06\n",
        "25%      2.02e+08\n",
        "50%      9.70e+08\n",
        "75%      3.47e+09\n",
        "max      1.12e+11\n",
        "Name: max_profit, dtype: float64\n",
        "Buildings by type\n",
        "4     951\n",
        "7     289\n",
        "10    285\n",
        "14     61\n",
        "8      24\n",
        "11      5\n",
        "12      4\n",
        "9       2\n",
        "dtype: int64\n",
        "Units by type\n",
        "max_btype\n",
        "4            759532\n",
        "7            126259\n",
        "14            77709\n",
        "10            45815\n",
        "8             12794\n",
        "12             4872\n",
        "11             2087\n",
        "9               657\n",
        "Name: netunits, dtype: float64\n",
        "Model developer executed in 43.003s"
       ]
      },
      {
       "output_type": "stream",
       "stream": "stdout",
       "text": [
        "\n",
        "Year 1 completed in 449.756s\n"
       ]
      }
     ],
     "prompt_number": 7
    },
    {
     "cell_type": "code",
     "collapsed": false,
     "input": [],
     "language": "python",
     "metadata": {},
     "outputs": []
    }
   ],
   "metadata": {}
  }
 ]
}