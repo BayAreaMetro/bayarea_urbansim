{
 "metadata": {
  "name": "",
  "signature": "sha256:3afe6673aa1e7e130b68afe2248560c18d84ec5009482be4ef9ad49810b35efe"
 },
 "nbformat": 3,
 "nbformat_minor": 0,
 "worksheets": [
  {
   "cells": [
    {
     "cell_type": "code",
     "collapsed": true,
     "input": [
      "%load_ext autoreload\n",
      "%autoreload 2\n",
      "import models\n",
      "import dataset"
     ],
     "language": "python",
     "metadata": {},
     "outputs": [],
     "prompt_number": 1
    },
    {
     "cell_type": "code",
     "collapsed": true,
     "input": [
      "dset = dataset.BayAreaDataset(\"data/bayarea.h5\")"
     ],
     "language": "python",
     "metadata": {},
     "outputs": [],
     "prompt_number": 2
    },
    {
     "cell_type": "code",
     "collapsed": true,
     "input": [
      "models.build_networks(dset)"
     ],
     "language": "python",
     "metadata": {},
     "outputs": [],
     "prompt_number": 3
    },
    {
     "cell_type": "code",
     "collapsed": true,
     "input": [
      "years = range(2010, 2011)\n",
      "model_list = [\n",
      "    \"clear_cache\",               # recompute the variables every year\n",
      "    \"cache_variables\",           # compute the variables up front\n",
      "    \"neighborhood_vars\",         # accessibility variables\n",
      "    \"rsh_simulate\",              # residential sales hedonic\n",
      "    \"rrh_simulate\",              # residenital rent hedonic\n",
      "    \"nrh_simulate\",              # non-residential rent hedonic\n",
      "    \"households_relocation\",     # households relocation model\n",
      "    \"hlcmo_simulate\",            # households location choice (owner)\n",
      "    \"hlcmr_simulate\",            # households location choice (renter)\n",
      "    \"households_transition\",     # households transition\n",
      "    \"jobs_relocation\",           # jobs relocation model\n",
      "    \"elcm_simulate\",             # employment location choice\n",
      "    \"jobs_transition\",           # jobs transition\n",
      "    \"price_vars\",                # compute average price measures\n",
      "    \"feasibility\",               # compute development feasibility\n",
      "    \"residential_developer\",     # build residential buildings\n",
      "    \"non_residential_developer\"  # build non-residential buildings\n",
      "]\n",
      "models._run_models(dset, model_list, years)"
     ],
     "language": "python",
     "metadata": {},
     "outputs": [
      {
       "output_type": "stream",
       "stream": "stdout",
       "text": [
        "\n",
        "clear_cache\n",
        "\n",
        "Model clear_cache executed in 0.000s\n",
        "\n",
        "cache_variables\n",
        "\n",
        "Fetching buildings\n",
        "Fetching parcels"
       ]
      },
      {
       "output_type": "stream",
       "stream": "stdout",
       "text": [
        "\n",
        "Fetching building_sqft_per_job"
       ]
      },
      {
       "output_type": "stream",
       "stream": "stdout",
       "text": [
        "\n",
        "Fetching nodes"
       ]
      },
      {
       "output_type": "stream",
       "stream": "stdout",
       "text": [
        "\n",
        "WARNING: fetching precomputed nodes off of disk\n",
        "Fetching households"
       ]
      },
      {
       "output_type": "stream",
       "stream": "stdout",
       "text": [
        "\n",
        "Fetching jobs"
       ]
      },
      {
       "output_type": "stream",
       "stream": "stdout",
       "text": [
        "\n",
        "Fetching homesales"
       ]
      },
      {
       "output_type": "stream",
       "stream": "stdout",
       "text": [
        "\n",
        "Fetching apartments"
       ]
      },
      {
       "output_type": "stream",
       "stream": "stdout",
       "text": [
        "\n",
        "Fetching costar"
       ]
      },
      {
       "output_type": "stream",
       "stream": "stdout",
       "text": [
        "\n",
        "Model cache_variables executed in 167.298s"
       ]
      },
      {
       "output_type": "stream",
       "stream": "stdout",
       "text": [
        "\n",
        "\n",
        "neighborhood_vars\n",
        "\n",
        "Computing accessibility variables\n",
        "Computing sum_residential_units\n",
        "    Fields available to accvar = residential_units, _node_id0\n",
        "    dataframe = buildings, varname=residential_units\n",
        "    radius = 1500, aggregation = AGG_SUM, decay = DECAY_LINEAR\n",
        "Computing sum_nonresidential_units"
       ]
      },
      {
       "output_type": "stream",
       "stream": "stdout",
       "text": [
        "\n",
        "    Fields available to accvar = non_residential_units, _node_id0\n",
        "    dataframe = buildings, varname=non_residential_units"
       ]
      },
      {
       "output_type": "stream",
       "stream": "stdout",
       "text": [
        "\n",
        "    radius = 1500, aggregation = AGG_SUM, decay = DECAY_LINEAR\n",
        "Computing ave_unit_sqft"
       ]
      },
      {
       "output_type": "stream",
       "stream": "stdout",
       "text": [
        "\n",
        "    Fields available to accvar = unit_sqft, general_type, _node_id0\n",
        "    Filters = ['general_type == \"Residential\"']"
       ]
      },
      {
       "output_type": "stream",
       "stream": "stdout",
       "text": [
        "\n",
        "    dataframe = buildings, varname=unit_sqft\n",
        "    radius = 1500, aggregation = AGG_AVE, decay = DECAY_FLAT\n",
        "Computing ave_lot_sqft"
       ]
      },
      {
       "output_type": "stream",
       "stream": "stdout",
       "text": [
        "\n",
        "    Fields available to accvar = unit_lot_size, _node_id0\n",
        "    dataframe = buildings, varname=unit_lot_size\n",
        "    radius = 1500, aggregation = AGG_AVE, decay = DECAY_FLAT\n",
        "Computing population"
       ]
      },
      {
       "output_type": "stream",
       "stream": "stdout",
       "text": [
        "\n",
        "    Fields available to accvar = persons, _node_id0\n",
        "    dataframe = households, varname=persons\n",
        "    radius = 1500, aggregation = AGG_SUM, decay = DECAY_LINEAR\n",
        "Computing poor"
       ]
      },
      {
       "output_type": "stream",
       "stream": "stdout",
       "text": [
        "\n",
        "    Fields available to accvar = persons, income, _node_id0\n",
        "    Filters = ['income < 40000']"
       ]
      },
      {
       "output_type": "stream",
       "stream": "stdout",
       "text": [
        "\n",
        "    dataframe = households, varname=persons\n",
        "    radius = 1500, aggregation = AGG_SUM, decay = DECAY_LINEAR\n",
        "Computing renters"
       ]
      },
      {
       "output_type": "stream",
       "stream": "stdout",
       "text": [
        "\n",
        "    Fields available to accvar = tenure, _node_id0\n",
        "    Filters = ['tenure == 2']"
       ]
      },
      {
       "output_type": "stream",
       "stream": "stdout",
       "text": [
        "\n",
        "    dataframe = households, varname=None\n",
        "    radius = 1500, aggregation = AGG_SUM, decay = DECAY_LINEAR\n",
        "Computing sfdu"
       ]
      },
      {
       "output_type": "stream",
       "stream": "stdout",
       "text": [
        "\n",
        "    Fields available to accvar = building_type_id, _node_id0\n",
        "    Filters = ['building_type_id == 1']"
       ]
      },
      {
       "output_type": "stream",
       "stream": "stdout",
       "text": [
        "\n",
        "    dataframe = buildings, varname=None\n",
        "    radius = 1500, aggregation = AGG_SUM, decay = DECAY_LINEAR\n",
        "Computing hhsize"
       ]
      },
      {
       "output_type": "stream",
       "stream": "stdout",
       "text": [
        "\n",
        "    Fields available to accvar = persons, _node_id0\n",
        "    dataframe = households, varname=persons\n",
        "    radius = 1500, aggregation = AGG_AVE, decay = DECAY_FLAT\n",
        "Computing jobs"
       ]
      },
      {
       "output_type": "stream",
       "stream": "stdout",
       "text": [
        "\n",
        "    Fields available to accvar = _node_id0\n",
        "    dataframe = jobs, varname=None\n",
        "    radius = 1500, aggregation = AGG_SUM, decay = DECAY_LINEAR\n",
        "Computing ave_income"
       ]
      },
      {
       "output_type": "stream",
       "stream": "stdout",
       "text": [
        "\n",
        "    Fields available to accvar = income, _node_id0\n",
        "    dataframe = households, varname=income\n",
        "    radius = 1500, aggregation = AGG_AVE, decay = DECAY_FLAT\n",
        "Done"
       ]
      },
      {
       "output_type": "stream",
       "stream": "stdout",
       "text": [
        "\n",
        "Model neighborhood_vars executed in 29.051s\n",
        "\n",
        "rsh_simulate\n",
        "\n",
        "Running hedonic simulation\n"
       ]
      },
      {
       "output_type": "stream",
       "stream": "stdout",
       "text": [
        "\n",
        "count    1796149.000000\n",
        "mean         215.760942\n",
        "std           52.244186\n",
        "min            0.648444\n",
        "25%          185.188365\n",
        "50%          214.313194\n",
        "75%          242.959994\n",
        "max         1786.521123\n",
        "dtype: float64"
       ]
      },
      {
       "output_type": "stream",
       "stream": "stdout",
       "text": [
        "\n",
        "Model rsh_simulate executed in 9.731s"
       ]
      },
      {
       "output_type": "stream",
       "stream": "stdout",
       "text": [
        "\n",
        "\n",
        "rrh_simulate\n",
        "\n",
        "Running hedonic simulation\n"
       ]
      },
      {
       "output_type": "stream",
       "stream": "stdout",
       "text": [
        "\n",
        "count    1796149.000000\n",
        "mean           2.660221\n",
        "std            0.363344\n",
        "min            0.390097\n",
        "25%            2.431345\n",
        "50%            2.636714\n",
        "75%            2.862199\n",
        "max           13.903194\n",
        "dtype: float64"
       ]
      },
      {
       "output_type": "stream",
       "stream": "stdout",
       "text": [
        "\n",
        "Model rrh_simulate executed in 9.510s"
       ]
      },
      {
       "output_type": "stream",
       "stream": "stdout",
       "text": [
        "\n",
        "\n",
        "nrh_simulate\n",
        "\n",
        "Running hedonic simulation\n"
       ]
      },
      {
       "output_type": "stream",
       "stream": "stdout",
       "text": [
        "\n",
        "count    116797.000000\n",
        "mean         19.572638\n",
        "std           6.453566\n",
        "min           6.199881\n",
        "25%          11.742626\n",
        "50%          20.782462\n",
        "75%          23.962627\n",
        "max          53.132535\n",
        "dtype: float64"
       ]
      },
      {
       "output_type": "stream",
       "stream": "stdout",
       "text": [
        "\n",
        "Model nrh_simulate executed in 7.767s\n",
        "\n",
        "households_relocation\n",
        "\n",
        "Running relocation\n",
        "\n",
        "Total currently unplaced: 101"
       ]
      },
      {
       "output_type": "stream",
       "stream": "stdout",
       "text": [
        "\n",
        "Total currently unplaced: 130497"
       ]
      },
      {
       "output_type": "stream",
       "stream": "stdout",
       "text": [
        "\n",
        "Model households_relocation executed in 1.087s\n",
        "\n",
        "hlcmo_simulate\n",
        "\n",
        "There are 2919217 total available units"
       ]
      },
      {
       "output_type": "stream",
       "stream": "stdout",
       "text": [
        "\n",
        "    and 2608023 total choosers\n",
        "    but there are 168617 overfull buildings"
       ]
      },
      {
       "output_type": "stream",
       "stream": "stdout",
       "text": [
        "\n",
        "    for a total of 658939 empty units"
       ]
      },
      {
       "output_type": "stream",
       "stream": "stdout",
       "text": [
        "\n",
        "    in 408505 buildings total in the region\n",
        "Running location choice model simulation\n"
       ]
      },
      {
       "output_type": "stream",
       "stream": "stdout",
       "text": [
        "\n",
        "Returning group 0"
       ]
      },
      {
       "output_type": "stream",
       "stream": "stdout",
       "text": [
        "\n",
        "Returning group 1"
       ]
      },
      {
       "output_type": "stream",
       "stream": "stdout",
       "text": [
        "\n",
        "Returning group 2"
       ]
      },
      {
       "output_type": "stream",
       "stream": "stdout",
       "text": [
        "\n",
        "Returning group 3"
       ]
      },
      {
       "output_type": "stream",
       "stream": "stdout",
       "text": [
        "\n",
        "Assigned 73586 choosers to new units"
       ]
      },
      {
       "output_type": "stream",
       "stream": "stdout",
       "text": [
        "\n",
        "Total currently unplaced: 56911"
       ]
      },
      {
       "output_type": "stream",
       "stream": "stdout",
       "text": [
        "\n",
        "Model hlcmo_simulate executed in 24.353s"
       ]
      },
      {
       "output_type": "stream",
       "stream": "stdout",
       "text": [
        "\n",
        "\n",
        "hlcmr_simulate\n",
        "\n",
        "There are 2919217 total available units"
       ]
      },
      {
       "output_type": "stream",
       "stream": "stdout",
       "text": [
        "\n",
        "    and 2608023 total choosers\n",
        "    but there are 168617 overfull buildings"
       ]
      },
      {
       "output_type": "stream",
       "stream": "stdout",
       "text": [
        "\n",
        "    for a total of 585353 empty units"
       ]
      },
      {
       "output_type": "stream",
       "stream": "stdout",
       "text": [
        "\n",
        "    in 377902 buildings total in the region\n",
        "Running location choice model simulation\n"
       ]
      },
      {
       "output_type": "stream",
       "stream": "stdout",
       "text": [
        "\n",
        "Returning group 0"
       ]
      },
      {
       "output_type": "stream",
       "stream": "stdout",
       "text": [
        "\n",
        "Returning group 1"
       ]
      },
      {
       "output_type": "stream",
       "stream": "stdout",
       "text": [
        "\n",
        "Returning group 2"
       ]
      },
      {
       "output_type": "stream",
       "stream": "stdout",
       "text": [
        "\n",
        "Returning group 3"
       ]
      },
      {
       "output_type": "stream",
       "stream": "stdout",
       "text": [
        "\n",
        "Assigned 56911 choosers to new units"
       ]
      },
      {
       "output_type": "stream",
       "stream": "stdout",
       "text": [
        "\n",
        "Total currently unplaced: 0"
       ]
      },
      {
       "output_type": "stream",
       "stream": "stdout",
       "text": [
        "\n",
        "Model hlcmr_simulate executed in 23.595s"
       ]
      },
      {
       "output_type": "stream",
       "stream": "stdout",
       "text": [
        "\n",
        "\n",
        "households_transition\n",
        "\n",
        "2608023 agents before transition\n",
        "2738424 agents after transition"
       ]
      },
      {
       "output_type": "stream",
       "stream": "stdout",
       "text": [
        "\n",
        "Model households_transition executed in 1.024s\n",
        "\n",
        "jobs_relocation\n",
        "\n",
        "Running relocation\n",
        "\n",
        "Total currently unplaced: 0"
       ]
      },
      {
       "output_type": "stream",
       "stream": "stdout",
       "text": [
        "\n",
        "Total currently unplaced: 326867"
       ]
      },
      {
       "output_type": "stream",
       "stream": "stdout",
       "text": [
        "\n",
        "Model jobs_relocation executed in 1.723s\n",
        "\n",
        "elcm_simulate\n",
        "\n",
        "There are 4594953 total available units"
       ]
      },
      {
       "output_type": "stream",
       "stream": "stdout",
       "text": [
        "\n",
        "    and 4085844 total choosers\n",
        "    but there are 279476 overfull buildings"
       ]
      },
      {
       "output_type": "stream",
       "stream": "stdout",
       "text": [
        "\n",
        "    for a total of 3589410 empty units"
       ]
      },
      {
       "output_type": "stream",
       "stream": "stdout",
       "text": [
        "\n",
        "    in 61490 buildings total in the region\n",
        "Running location choice model simulation\n",
        "\n",
        "Returning group 11"
       ]
      },
      {
       "output_type": "stream",
       "stream": "stdout",
       "text": [
        "\n",
        "Returning group 21"
       ]
      },
      {
       "output_type": "stream",
       "stream": "stdout",
       "text": [
        "\n",
        "Returning group 22"
       ]
      },
      {
       "output_type": "stream",
       "stream": "stdout",
       "text": [
        "\n",
        "Returning group 23"
       ]
      },
      {
       "output_type": "stream",
       "stream": "stdout",
       "text": [
        "\n",
        "Returning group 31"
       ]
      },
      {
       "output_type": "stream",
       "stream": "stdout",
       "text": [
        "\n",
        "Returning group 32"
       ]
      },
      {
       "output_type": "stream",
       "stream": "stdout",
       "text": [
        "\n",
        "Returning group 33"
       ]
      },
      {
       "output_type": "stream",
       "stream": "stdout",
       "text": [
        "\n",
        "Returning group 42"
       ]
      },
      {
       "output_type": "stream",
       "stream": "stdout",
       "text": [
        "\n",
        "Returning group 44"
       ]
      },
      {
       "output_type": "stream",
       "stream": "stdout",
       "text": [
        "\n",
        "Returning group 45"
       ]
      },
      {
       "output_type": "stream",
       "stream": "stdout",
       "text": [
        "\n",
        "Returning group 48"
       ]
      },
      {
       "output_type": "stream",
       "stream": "stdout",
       "text": [
        "\n",
        "Returning group 49"
       ]
      },
      {
       "output_type": "stream",
       "stream": "stdout",
       "text": [
        "\n",
        "Returning group 51"
       ]
      },
      {
       "output_type": "stream",
       "stream": "stdout",
       "text": [
        "\n",
        "Returning group 52"
       ]
      },
      {
       "output_type": "stream",
       "stream": "stdout",
       "text": [
        "\n",
        "Returning group 53"
       ]
      },
      {
       "output_type": "stream",
       "stream": "stdout",
       "text": [
        "\n",
        "Returning group 54"
       ]
      },
      {
       "output_type": "stream",
       "stream": "stdout",
       "text": [
        "\n",
        "Returning group 55"
       ]
      },
      {
       "output_type": "stream",
       "stream": "stdout",
       "text": [
        "\n",
        "Returning group 56"
       ]
      },
      {
       "output_type": "stream",
       "stream": "stdout",
       "text": [
        "\n",
        "Returning group 61"
       ]
      },
      {
       "output_type": "stream",
       "stream": "stdout",
       "text": [
        "\n",
        "Returning group 62"
       ]
      },
      {
       "output_type": "stream",
       "stream": "stdout",
       "text": [
        "\n",
        "Returning group 71"
       ]
      },
      {
       "output_type": "stream",
       "stream": "stdout",
       "text": [
        "\n",
        "Returning group 72"
       ]
      },
      {
       "output_type": "stream",
       "stream": "stdout",
       "text": [
        "\n",
        "Returning group 81"
       ]
      },
      {
       "output_type": "stream",
       "stream": "stdout",
       "text": [
        "\n",
        "Returning group 92"
       ]
      },
      {
       "output_type": "stream",
       "stream": "stdout",
       "text": [
        "\n",
        "Returning group 99"
       ]
      },
      {
       "output_type": "stream",
       "stream": "stdout",
       "text": [
        "\n",
        "Assigned 326867 choosers to new units"
       ]
      },
      {
       "output_type": "stream",
       "stream": "stdout",
       "text": [
        "\n",
        "Total currently unplaced: 0"
       ]
      },
      {
       "output_type": "stream",
       "stream": "stdout",
       "text": [
        "\n",
        "Model elcm_simulate executed in 283.215s"
       ]
      },
      {
       "output_type": "stream",
       "stream": "stdout",
       "text": [
        "\n",
        "\n",
        "jobs_transition\n",
        "\n",
        "4085844 agents before transition\n",
        "4290136 agents after transition"
       ]
      },
      {
       "output_type": "stream",
       "stream": "stdout",
       "text": [
        "\n",
        "Model jobs_transition executed in 4.534s\n",
        "\n",
        "price_vars\n",
        "\n",
        "Computing accessibility variables\n",
        "Computing residential\n",
        "    Fields available to accvar = residential_sales_price, _node_id0\n",
        "    dataframe = buildings, varname=residential_sales_price"
       ]
      },
      {
       "output_type": "stream",
       "stream": "stdout",
       "text": [
        "\n",
        "    radius = 2000, aggregation = AGG_AVE, decay = DECAY_FLAT\n",
        "Computing retail"
       ]
      },
      {
       "output_type": "stream",
       "stream": "stdout",
       "text": [
        "\n",
        "    Fields available to accvar = non_residential_rent, general_type, _node_id0\n",
        "    Filters = ['general_type == \"Retail\"']"
       ]
      },
      {
       "output_type": "stream",
       "stream": "stdout",
       "text": [
        "\n",
        "    dataframe = buildings, varname=non_residential_rent\n",
        "    radius = 2000, aggregation = AGG_AVE, decay = DECAY_FLAT\n",
        "Computing office"
       ]
      },
      {
       "output_type": "stream",
       "stream": "stdout",
       "text": [
        "\n",
        "    Fields available to accvar = non_residential_rent, general_type, _node_id0\n",
        "    Filters = ['general_type == \"Office\"']"
       ]
      },
      {
       "output_type": "stream",
       "stream": "stdout",
       "text": [
        "\n",
        "    dataframe = buildings, varname=non_residential_rent\n",
        "    radius = 2000, aggregation = AGG_AVE, decay = DECAY_FLAT\n",
        "Computing industrial"
       ]
      },
      {
       "output_type": "stream",
       "stream": "stdout",
       "text": [
        "\n",
        "    Fields available to accvar = non_residential_rent, general_type, _node_id0\n",
        "    Filters = ['general_type == \"Industrial\"']"
       ]
      },
      {
       "output_type": "stream",
       "stream": "stdout",
       "text": [
        "\n",
        "    dataframe = buildings, varname=non_residential_rent\n",
        "    radius = 2000, aggregation = AGG_AVE, decay = DECAY_FLAT\n",
        "Done"
       ]
      },
      {
       "output_type": "stream",
       "stream": "stdout",
       "text": [
        "\n",
        "Model price_vars executed in 9.153s\n",
        "\n",
        "feasibility\n",
        "\n",
        "Fetching zoning_baseline"
       ]
      },
      {
       "output_type": "stream",
       "stream": "stdout",
       "text": [
        "\n",
        "Fetching zoning_for_parcels\n",
        "Fetching zoning"
       ]
      },
      {
       "output_type": "stream",
       "stream": "stdout",
       "text": [
        "\n",
        "               retail      industrial          office     residential\n",
        "count  2023915.000000  2023915.000000  2023915.000000  2023915.000000\n",
        "mean        22.323054        9.611538       19.892754       10.778397\n",
        "std          6.091799        3.356090        4.874389        2.154876\n",
        "min          0.000000        0.000000        0.000000        0.000000\n",
        "25%         21.540541       10.024606       20.183224        9.725047\n",
        "50%         23.495461       10.576539       20.868755       10.874809\n",
        "75%         25.285507       11.049774       21.601410       11.846039\n",
        "max         38.953449       15.697085       28.126806       57.038257\n",
        "\n",
        "[8 rows x 4 columns]"
       ]
      },
      {
       "output_type": "stream",
       "stream": "stdout",
       "text": [
        "\n",
        "Computing feasibility for form mixedoffice\n",
        "Computing feasibility for form industrial"
       ]
      },
      {
       "output_type": "stream",
       "stream": "stdout",
       "text": [
        "\n",
        "Computing feasibility for form office"
       ]
      },
      {
       "output_type": "stream",
       "stream": "stdout",
       "text": [
        "\n",
        "Computing feasibility for form residential"
       ]
      },
      {
       "output_type": "stream",
       "stream": "stdout",
       "text": [
        "\n",
        "Computing feasibility for form mixedresidential"
       ]
      },
      {
       "output_type": "stream",
       "stream": "stdout",
       "text": [
        "\n",
        "Computing feasibility for form retail"
       ]
      },
      {
       "output_type": "stream",
       "stream": "stdout",
       "text": [
        "\n",
        "Model feasibility executed in 51.348s"
       ]
      },
      {
       "output_type": "stream",
       "stream": "stdout",
       "text": [
        "\n",
        "\n",
        "residential_developer\n",
        "\n",
        "Number of agents: 2738424"
       ]
      },
      {
       "output_type": "stream",
       "stream": "stdout",
       "text": [
        "\n",
        "Number of agent spaces: 2919217\n",
        "Current vacancy = 0.06\n",
        "Target vacancy = 0.15, target of new units = 302458\n",
        "Sum of net units that are profitable"
       ]
      },
      {
       "output_type": "stream",
       "stream": "stdout",
       "text": [
        " 238903.0\n",
        "WARNING THERE WERE NOT ENOUGH PROFITABLE UNITS TO MATCH DEMAND\n",
        "Adding 1870 buildings with 241,959.0 residential units"
       ]
      },
      {
       "output_type": "stream",
       "stream": "stdout",
       "text": [
        "\n",
        "Model residential_developer executed in 7.786s"
       ]
      },
      {
       "output_type": "stream",
       "stream": "stdout",
       "text": [
        "\n",
        "\n",
        "non_residential_developer\n",
        "\n",
        "Number of agents: 4290136"
       ]
      },
      {
       "output_type": "stream",
       "stream": "stdout",
       "text": [
        "\n",
        "Number of agent spaces: 4594953\n",
        "Current vacancy = 0.07\n",
        "Target vacancy = 0.15, target of new units = 452265\n",
        "Sum of net units that are profitable"
       ]
      },
      {
       "output_type": "stream",
       "stream": "stdout",
       "text": [
        " 8154170.0\n",
        "Adding 2340 buildings with 250,771,712.26 non-residential sqft"
       ]
      },
      {
       "output_type": "stream",
       "stream": "stdout",
       "text": [
        "\n",
        "Model non_residential_developer executed in 16.196s"
       ]
      },
      {
       "output_type": "stream",
       "stream": "stdout",
       "text": [
        "\n",
        "Year 2010 completed in 647.381s\n"
       ]
      }
     ],
     "prompt_number": 4
    },
    {
     "cell_type": "code",
     "collapsed": true,
     "input": [
      "import os\n",
      "from urbansim.utils import misc\n",
      "runnum = misc.get_run_number()\n",
      "dset.save_output(os.path.join(misc.runs_dir(), \"run%d.h5\" % runnum))"
     ],
     "language": "python",
     "metadata": {},
     "outputs": []
    }
   ],
   "metadata": {}
  }
 ]
}