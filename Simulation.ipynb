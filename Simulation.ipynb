{
 "metadata": {
  "name": "",
  "signature": "sha256:84e93357a87f9c23919abc4c77486e8f3055c3b18c638075e5ef42a88d87bfb2"
 },
 "nbformat": 3,
 "nbformat_minor": 0,
 "worksheets": [
  {
   "cells": [
    {
     "cell_type": "code",
     "collapsed": true,
     "input": [
      "%load_ext autoreload\n",
      "%autoreload 2\n",
      "import models, utils\n",
      "import urbansim.sim.simulation as sim"
     ],
     "language": "python",
     "metadata": {},
     "outputs": [],
     "prompt_number": 1
    },
    {
     "cell_type": "code",
     "collapsed": false,
     "input": [
      "sim.run(['build_networks'])"
     ],
     "language": "python",
     "metadata": {},
     "outputs": [
      {
       "output_type": "stream",
       "stream": "stdout",
       "text": [
        "Running model 'build_networks'\n"
       ]
      }
     ],
     "prompt_number": 2
    },
    {
     "cell_type": "code",
     "collapsed": true,
     "input": [
      "sim.run([\n",
      "    \"neighborhood_vars\",         # accessibility variables\n",
      "\n",
      "    \"rsh_simulate\",              # residential sales hedonic\n",
      "    \"rrh_simulate\",              # residenital rent hedonic\n",
      "    \"nrh_simulate\",              # non-residential rent hedonic\n",
      "\n",
      "    \"households_relocation\",     # households relocation model\n",
      "    \"hlcmo_simulate\",            # households location choice (owner)\n",
      "    \"hlcmr_simulate\",            # households location choice (renter)\n",
      "    \"households_transition\",     # households transition\n",
      "\n",
      "    \"jobs_relocation\",           # jobs relocation model\n",
      "    \"elcm_simulate\",             # employment location choice\n",
      "    \"jobs_transition\",           # jobs transition\n",
      "\n",
      "    \"price_vars\",                # compute average price measures\n",
      "\n",
      "    \"feasibility\",               # compute development feasibility\n",
      "    \"residential_developer\",     # build residential buildings\n",
      "    \"non_residential_developer\", # build non-residential buildings\n",
      "    \"clear_cache\"                # clear the cache each year\n",
      "], years=[2010], data_out=utils.get_run_filename(), out_interval=10)"
     ],
     "language": "python",
     "metadata": {},
     "outputs": [
      {
       "output_type": "stream",
       "stream": "stdout",
       "text": [
        "Running year 2010\n",
        "Running model 'neighborhood_vars'\n",
        "Computing accessibility variables\n",
        "Computing sum_residential_units\n",
        "    Fields available to accvar = residential_units, _node_id0\n",
        "    dataframe = buildings, varname=residential_units\n",
        "    radius = 1500, aggregation = AGG_SUM, decay = DECAY_LINEAR\n",
        "Computing sum_nonresidential_units"
       ]
      },
      {
       "output_type": "stream",
       "stream": "stdout",
       "text": [
        "\n",
        "    Fields available to accvar = job_spaces, _node_id0\n",
        "    dataframe = buildings, varname=job_spaces\n",
        "    radius = 1500, aggregation = AGG_SUM, decay = DECAY_LINEAR\n",
        "Computing ave_unit_sqft"
       ]
      },
      {
       "output_type": "stream",
       "stream": "stdout",
       "text": [
        "\n",
        "    Fields available to accvar = unit_sqft, general_type, _node_id0\n",
        "    Filters = ['general_type == \"Residential\"']\n",
        "    dataframe = buildings, varname=unit_sqft\n",
        "    radius = 1500, aggregation = AGG_AVE, decay = DECAY_FLAT\n",
        "Computing ave_lot_sqft"
       ]
      },
      {
       "output_type": "stream",
       "stream": "stdout",
       "text": [
        "\n",
        "    Fields available to accvar = unit_lot_size, _node_id0\n",
        "    dataframe = buildings, varname=unit_lot_size\n",
        "    radius = 1500, aggregation = AGG_AVE, decay = DECAY_FLAT\n",
        "Computing population"
       ]
      },
      {
       "output_type": "stream",
       "stream": "stdout",
       "text": [
        "\n",
        "    Fields available to accvar = persons, _node_id0\n",
        "    dataframe = households, varname=persons\n",
        "    radius = 1500, aggregation = AGG_SUM, decay = DECAY_LINEAR\n",
        "Computing poor"
       ]
      },
      {
       "output_type": "stream",
       "stream": "stdout",
       "text": [
        "\n",
        "    Fields available to accvar = persons, income, _node_id0\n",
        "    Filters = ['income < 40000']\n",
        "    dataframe = households, varname=persons\n",
        "    radius = 1500, aggregation = AGG_SUM, decay = DECAY_LINEAR\n",
        "Computing renters"
       ]
      },
      {
       "output_type": "stream",
       "stream": "stdout",
       "text": [
        "\n",
        "    Fields available to accvar = tenure, _node_id0\n",
        "    Filters = ['tenure == 2']\n",
        "    dataframe = households, varname=None\n",
        "    radius = 1500, aggregation = AGG_SUM, decay = DECAY_LINEAR\n",
        "Computing sfdu"
       ]
      },
      {
       "output_type": "stream",
       "stream": "stdout",
       "text": [
        "\n",
        "    Fields available to accvar = building_type_id, _node_id0\n",
        "    Filters = ['building_type_id == 1']\n",
        "    dataframe = buildings, varname=None\n",
        "    radius = 1500, aggregation = AGG_SUM, decay = DECAY_LINEAR\n",
        "Computing hhsize"
       ]
      },
      {
       "output_type": "stream",
       "stream": "stdout",
       "text": [
        "\n",
        "    Fields available to accvar = persons, _node_id0\n",
        "    dataframe = households, varname=persons\n",
        "    radius = 1500, aggregation = AGG_AVE, decay = DECAY_FLAT\n",
        "Computing jobs"
       ]
      },
      {
       "output_type": "stream",
       "stream": "stdout",
       "text": [
        "\n",
        "    Fields available to accvar = _node_id0\n",
        "    dataframe = jobs, varname=None\n",
        "    radius = 1500, aggregation = AGG_SUM, decay = DECAY_LINEAR\n",
        "Computing ave_income"
       ]
      },
      {
       "output_type": "stream",
       "stream": "stdout",
       "text": [
        "\n",
        "    Fields available to accvar = income, _node_id0\n",
        "    dataframe = households, varname=income\n",
        "    radius = 1500, aggregation = AGG_AVE, decay = DECAY_FLAT\n",
        "Done"
       ]
      },
      {
       "output_type": "stream",
       "stream": "stdout",
       "text": [
        "\n",
        "Running model 'rsh_simulate'\n",
        "Dropped 3118 rows because they contained nans"
       ]
      },
      {
       "output_type": "stream",
       "stream": "stdout",
       "text": [
        "\n",
        "count    138407.000000\n",
        "mean        543.457014\n",
        "std         171.494620\n",
        "min          14.502545\n",
        "25%         461.634613\n",
        "50%         528.977634\n",
        "75%         596.176894\n",
        "max       10138.582062\n",
        "dtype: float64"
       ]
      },
      {
       "output_type": "stream",
       "stream": "stdout",
       "text": [
        "\n",
        "Running model 'rrh_simulate'\n",
        "Dropped 2 rows because they contained nans"
       ]
      },
      {
       "output_type": "stream",
       "stream": "stdout",
       "text": [
        "\n",
        "count    140780.000000\n",
        "mean          3.412905\n",
        "std           0.499166\n",
        "min           0.630713\n",
        "25%           3.151931\n",
        "50%           3.343975\n",
        "75%           3.580759\n",
        "max          15.340111\n",
        "dtype: float64"
       ]
      },
      {
       "output_type": "stream",
       "stream": "stdout",
       "text": [
        "\n",
        "Running model 'nrh_simulate'\n",
        "Dropped 3118 rows because they contained nans"
       ]
      },
      {
       "output_type": "stream",
       "stream": "stdout",
       "text": [
        "\n",
        "count    10203.000000\n",
        "mean        23.982738\n",
        "std          7.233765\n",
        "min          0.480017\n",
        "25%         22.415323\n",
        "50%         26.249629\n",
        "75%         28.755369\n",
        "max         40.735691\n",
        "dtype: float64"
       ]
      },
      {
       "output_type": "stream",
       "stream": "stdout",
       "text": [
        "\n",
        "Running model 'households_relocation'\n",
        "Total agents: 345588\n",
        "Total currently unplaced: 0"
       ]
      },
      {
       "output_type": "stream",
       "stream": "stdout",
       "text": [
        "\n",
        "Assinging for relocation...\n",
        "Total currently unplaced: 17279"
       ]
      },
      {
       "output_type": "stream",
       "stream": "stdout",
       "text": [
        "\n",
        "Running model 'hlcmo_simulate'\n",
        "Dropped 14198 rows because they contained nans"
       ]
      },
      {
       "output_type": "stream",
       "stream": "stdout",
       "text": [
        "\n",
        "There are 348965 total available units\n",
        "    and 345588 total choosers\n",
        "    but there are 42340 overfull buildings\n",
        "    for a total of 91309 empty units"
       ]
      },
      {
       "output_type": "stream",
       "stream": "stdout",
       "text": [
        "\n",
        "    in 38463 buildings total in the region\n",
        "Assigned 6176 choosers to new units"
       ]
      },
      {
       "output_type": "stream",
       "stream": "stdout",
       "text": [
        "\n",
        "Total currently unplaced: 11103"
       ]
      },
      {
       "output_type": "stream",
       "stream": "stdout",
       "text": [
        "\n",
        "Running model 'hlcmr_simulate'\n",
        "Dropped 11825 rows because they contained nans"
       ]
      },
      {
       "output_type": "stream",
       "stream": "stdout",
       "text": [
        "\n",
        "There are 362310 total available units\n",
        "    and 345588 total choosers\n",
        "    but there are 43062 overfull buildings\n",
        "    for a total of 91480 empty units"
       ]
      },
      {
       "output_type": "stream",
       "stream": "stdout",
       "text": [
        "\n",
        "    in 37394 buildings total in the region\n",
        "Assigned 11103 choosers to new units"
       ]
      },
      {
       "output_type": "stream",
       "stream": "stdout",
       "text": [
        "\n",
        "Total currently unplaced: 0"
       ]
      },
      {
       "output_type": "stream",
       "stream": "stdout",
       "text": [
        "\n",
        "Running model 'households_transition'\n",
        "345588 agents before transition\n",
        "362867 agents after transition"
       ]
      },
      {
       "output_type": "stream",
       "stream": "stdout",
       "text": [
        "\n",
        "Running model 'jobs_relocation'\n",
        "Total agents: 644114\n",
        "Total currently unplaced: 0"
       ]
      },
      {
       "output_type": "stream",
       "stream": "stdout",
       "text": [
        "\n",
        "Assinging for relocation...\n",
        "Total currently unplaced: 32205"
       ]
      },
      {
       "output_type": "stream",
       "stream": "stdout",
       "text": [
        "\n",
        "Running model 'elcm_simulate'\n",
        "Dropped 142402 rows because they contained nans"
       ]
      },
      {
       "output_type": "stream",
       "stream": "stdout",
       "text": [
        "\n",
        "There are 532540 total available units\n",
        "    and 644114 total choosers\n",
        "    but there are 3880 overfull buildings\n",
        "    for a total of 373650 empty units"
       ]
      },
      {
       "output_type": "stream",
       "stream": "stdout",
       "text": [
        "\n",
        "    in 5686 buildings total in the region\n",
        "Assigned 32205 choosers to new units"
       ]
      },
      {
       "output_type": "stream",
       "stream": "stdout",
       "text": [
        "\n",
        "Total currently unplaced: 0"
       ]
      },
      {
       "output_type": "stream",
       "stream": "stdout",
       "text": [
        "\n",
        "Running model 'jobs_transition'\n",
        "644114 agents before transition"
       ]
      },
      {
       "output_type": "stream",
       "stream": "stdout",
       "text": [
        "\n",
        "676320 agents after transition"
       ]
      },
      {
       "output_type": "stream",
       "stream": "stdout",
       "text": [
        "\n",
        "Running model 'price_vars'\n",
        "Computing accessibility variables\n",
        "Computing residential\n",
        "    Fields available to accvar = residential_sales_price, _node_id0\n",
        "    dataframe = buildings, varname=residential_sales_price\n",
        "    radius = 2000, aggregation = AGG_AVE, decay = DECAY_FLAT\n",
        "Computing retail"
       ]
      },
      {
       "output_type": "stream",
       "stream": "stdout",
       "text": [
        "\n",
        "    Fields available to accvar = non_residential_rent, general_type, _node_id0\n",
        "    Filters = ['general_type == \"Retail\"']\n",
        "    dataframe = buildings, varname=non_residential_rent\n",
        "    radius = 2000, aggregation = AGG_AVE, decay = DECAY_FLAT\n",
        "Computing office"
       ]
      },
      {
       "output_type": "stream",
       "stream": "stdout",
       "text": [
        "\n",
        "    Fields available to accvar = non_residential_rent, general_type, _node_id0\n",
        "    Filters = ['general_type == \"Office\"']\n",
        "    dataframe = buildings, varname=non_residential_rent\n",
        "    radius = 2000, aggregation = AGG_AVE, decay = DECAY_FLAT\n",
        "Computing industrial"
       ]
      },
      {
       "output_type": "stream",
       "stream": "stdout",
       "text": [
        "\n",
        "    Fields available to accvar = non_residential_rent, general_type, _node_id0\n",
        "    Filters = ['general_type == \"Industrial\"']\n",
        "    dataframe = buildings, varname=non_residential_rent\n",
        "    radius = 2000, aggregation = AGG_AVE, decay = DECAY_FLAT\n",
        "Done"
       ]
      },
      {
       "output_type": "stream",
       "stream": "stdout",
       "text": [
        "\n",
        "Running model 'feasibility'\n",
        "Describe of the yearly rent by use"
       ]
      },
      {
       "output_type": "stream",
       "stream": "stdout",
       "text": [
        "\n",
        "              retail     industrial         office    residential\n",
        "count  153341.000000  153341.000000  153341.000000  153341.000000\n",
        "mean       28.108569      11.009169      24.955014      27.418578\n",
        "std         2.013943       2.376602       1.246036       3.291631\n",
        "min         0.000000       0.000000       0.000000       0.000000\n",
        "25%        27.032972      11.078692      24.541599      24.954105\n",
        "50%        28.027246      11.324498      24.881798      26.942410\n",
        "75%        29.085213      11.703362      25.221481      30.437686\n",
        "max        33.767647      15.983118      28.043917      34.613959\n",
        "\n",
        "[8 rows x 4 columns]"
       ]
      },
      {
       "output_type": "stream",
       "stream": "stderr",
       "text": [
        "/Users/ffoti/anaconda/lib/python2.7/site-packages/tables/path.py:100: NaturalNameWarning: object name is not a valid Python identifier: '2010'; it does not match the pattern ``^[a-zA-Z_][a-zA-Z0-9_]*$``; you will not be able to use natural naming to access this object; using ``getattr()`` will still work, though\n",
        "  NaturalNameWarning)\n",
        "/Users/ffoti/src/urbansim/urbansim/developer/sqftproforma.py:555: SettingWithCopyWarning: A value is trying to be set on a copy of a slice from a DataFrame.\n",
        "Try using .loc[row_index,col_indexer] = value instead\n",
        "  df['min_max_fars'] = df[['min_max_fars', 'max_far_from_dua']].min(axis=1)\n"
       ]
      },
      {
       "output_type": "stream",
       "stream": "stdout",
       "text": [
        "\n",
        "Computing feasibility for form mixedoffice\n",
        "Computing feasibility for form industrial"
       ]
      },
      {
       "output_type": "stream",
       "stream": "stdout",
       "text": [
        "\n",
        "Computing feasibility for form office"
       ]
      },
      {
       "output_type": "stream",
       "stream": "stdout",
       "text": [
        "\n",
        "Computing feasibility for form residential"
       ]
      },
      {
       "output_type": "stream",
       "stream": "stdout",
       "text": [
        "\n",
        "Computing feasibility for form mixedresidential"
       ]
      },
      {
       "output_type": "stream",
       "stream": "stdout",
       "text": [
        "\n",
        "Computing feasibility for form retail"
       ]
      },
      {
       "output_type": "stream",
       "stream": "stdout",
       "text": [
        "\n",
        "Running model 'residential_developer'"
       ]
      },
      {
       "output_type": "stream",
       "stream": "stdout",
       "text": [
        "\n",
        "         mixedoffice                                                  \\\n",
        "       building_cost  building_revenue   building_sqft    max_profit   \n",
        "count   1.177000e+03      1.177000e+03     1177.000000  1.177000e+03   \n",
        "mean    1.716867e+07      3.343488e+07    90062.351683  1.063864e+07   \n",
        "std     5.883405e+07      1.050908e+08   303121.662945  4.208007e+07   \n",
        "min     9.774098e+04      1.817617e+05      549.847970  3.805790e+03   \n",
        "25%     2.618820e+06      5.260803e+06    13541.349828  9.804490e+05   \n",
        "50%     6.122350e+06      1.230388e+07    31856.381235  2.935069e+06   \n",
        "75%     1.453967e+07      2.887893e+07    75121.768103  8.270727e+06   \n",
        "max     1.584098e+09      2.723257e+09  7982754.792187  1.110690e+09   \n",
        "\n",
        "                                                                             \\\n",
        "       max_profit_far    total_cost  residential_sqft  non_residential_sqft   \n",
        "count     1177.000000  1.177000e+03       1177.000000           1177.000000   \n",
        "mean         4.744265  2.279624e+07      18913.093854          63043.646178   \n",
        "std          1.626320  6.538342e+07      63655.549218         212185.164061   \n",
        "min          1.800000  9.774098e+04        115.468074            384.893579   \n",
        "25%          3.000000  3.933648e+06       2843.683464           9478.944879   \n",
        "50%          5.000000  8.643517e+06       6689.840059          22299.466865   \n",
        "75%          6.000000  1.998487e+07      15775.571302          52585.237672   \n",
        "max          9.000000  1.612567e+09    1676378.506359        5587928.354531   \n",
        "\n",
        "                       industrial                                    \\\n",
        "           stories  building_cost  building_revenue   building_sqft   \n",
        "count  1177.000000   1.380000e+02      1.380000e+02      138.000000   \n",
        "mean      5.930331   1.025808e+07      1.218192e+07    75675.500480   \n",
        "std       2.032901   6.702787e+07      7.838101e+07   494516.842658   \n",
        "min       2.250000   4.687380e+03      5.470658e+03       34.582395   \n",
        "25%       3.750000   2.919685e+05      3.670548e+05     2154.075675   \n",
        "50%       6.250000   7.405843e+05      9.142632e+05     5463.858285   \n",
        "75%       7.500000   2.228718e+06      2.831198e+06    16442.963364   \n",
        "max      11.250000   7.420394e+08      8.685267e+08  5474593.441688   \n",
        "\n",
        "                                                                     \\\n",
        "         max_profit  max_profit_far    total_cost  residential_sqft   \n",
        "count  1.380000e+02      138.000000  1.380000e+02               138   \n",
        "mean   1.426459e+06        0.751812  1.075546e+07                 0   \n",
        "std    9.917214e+06        0.021281  6.909600e+07                 0   \n",
        "min    7.832785e+02        0.750000  4.687380e+03                 0   \n",
        "25%    6.738915e+04        0.750000  2.919685e+05                 0   \n",
        "50%    1.625344e+05        0.750000  7.405843e+05                 0   \n",
        "75%    3.964137e+05        0.750000  2.326055e+06                 0   \n",
        "max    1.158380e+08        1.000000  7.526887e+08                 0   \n",
        "\n",
        "                                                office                        \n",
        "       non_residential_sqft     stories  building_cost  building_revenue      \n",
        "count            138.000000  138.000000   2.317000e+03      2.317000e+03 ...  \n",
        "mean           75675.500480    0.939764   2.337202e+07      4.471760e+07 ...  \n",
        "std           494516.842658    0.026602   1.012603e+08      1.973525e+08 ...  \n",
        "min               34.582395    0.937500   2.404168e+04      4.701100e+04 ...  \n",
        "25%             2154.075675    0.937500   3.039565e+06      5.915078e+06 ...  \n",
        "50%             5463.858285    0.937500   6.948025e+06      1.360898e+07 ...  \n",
        "75%            16442.963364    0.937500   1.967375e+07      3.719334e+07 ...  \n",
        "max          5474593.441688    1.250000   3.805937e+09      7.589236e+09 ...  \n",
        "\n",
        "[8 rows x 54 columns]"
       ]
      },
      {
       "output_type": "stream",
       "stream": "stdout",
       "text": [
        "\n",
        "Number of agents: 362867"
       ]
      },
      {
       "output_type": "stream",
       "stream": "stdout",
       "text": [
        "\n",
        "Number of agent spaces: 374135\n",
        "Current vacancy = 0.03\n",
        "Target vacancy = 0.15, target of new units = 52767\n",
        "Sum of net units that are profitable"
       ]
      },
      {
       "output_type": "stream",
       "stream": "stdout",
       "text": [
        " 882522.0\n",
        "Adding 610 buildings with 56,779.0 residential_units"
       ]
      },
      {
       "output_type": "stream",
       "stream": "stdout",
       "text": [
        "\n",
        "Running model 'non_residential_developer'"
       ]
      },
      {
       "output_type": "stream",
       "stream": "stdout",
       "text": [
        "\n",
        "         mixedoffice                                                  \\\n",
        "       building_cost  building_revenue   building_sqft    max_profit   \n",
        "count   1.177000e+03      1.177000e+03     1177.000000  1.177000e+03   \n",
        "mean    1.716867e+07      3.343488e+07    90062.351683  1.063864e+07   \n",
        "std     5.883405e+07      1.050908e+08   303121.662945  4.208007e+07   \n",
        "min     9.774098e+04      1.817617e+05      549.847970  3.805790e+03   \n",
        "25%     2.618820e+06      5.260803e+06    13541.349828  9.804490e+05   \n",
        "50%     6.122350e+06      1.230388e+07    31856.381235  2.935069e+06   \n",
        "75%     1.453967e+07      2.887893e+07    75121.768103  8.270727e+06   \n",
        "max     1.584098e+09      2.723257e+09  7982754.792187  1.110690e+09   \n",
        "\n",
        "                                                                             \\\n",
        "       max_profit_far    total_cost  residential_sqft  non_residential_sqft   \n",
        "count     1177.000000  1.177000e+03       1177.000000           1177.000000   \n",
        "mean         4.744265  2.279624e+07      18913.093854          63043.646178   \n",
        "std          1.626320  6.538342e+07      63655.549218         212185.164061   \n",
        "min          1.800000  9.774098e+04        115.468074            384.893579   \n",
        "25%          3.000000  3.933648e+06       2843.683464           9478.944879   \n",
        "50%          5.000000  8.643517e+06       6689.840059          22299.466865   \n",
        "75%          6.000000  1.998487e+07      15775.571302          52585.237672   \n",
        "max          9.000000  1.612567e+09    1676378.506359        5587928.354531   \n",
        "\n",
        "                       industrial                                    \\\n",
        "           stories  building_cost  building_revenue   building_sqft   \n",
        "count  1177.000000   1.380000e+02      1.380000e+02      138.000000   \n",
        "mean      5.930331   1.025808e+07      1.218192e+07    75675.500480   \n",
        "std       2.032901   6.702787e+07      7.838101e+07   494516.842658   \n",
        "min       2.250000   4.687380e+03      5.470658e+03       34.582395   \n",
        "25%       3.750000   2.919685e+05      3.670548e+05     2154.075675   \n",
        "50%       6.250000   7.405843e+05      9.142632e+05     5463.858285   \n",
        "75%       7.500000   2.228718e+06      2.831198e+06    16442.963364   \n",
        "max      11.250000   7.420394e+08      8.685267e+08  5474593.441688   \n",
        "\n",
        "                                                                     \\\n",
        "         max_profit  max_profit_far    total_cost  residential_sqft   \n",
        "count  1.380000e+02      138.000000  1.380000e+02               138   \n",
        "mean   1.426459e+06        0.751812  1.075546e+07                 0   \n",
        "std    9.917214e+06        0.021281  6.909600e+07                 0   \n",
        "min    7.832785e+02        0.750000  4.687380e+03                 0   \n",
        "25%    6.738915e+04        0.750000  2.919685e+05                 0   \n",
        "50%    1.625344e+05        0.750000  7.405843e+05                 0   \n",
        "75%    3.964137e+05        0.750000  2.326055e+06                 0   \n",
        "max    1.158380e+08        1.000000  7.526887e+08                 0   \n",
        "\n",
        "                                                office                        \n",
        "       non_residential_sqft     stories  building_cost  building_revenue      \n",
        "count            138.000000  138.000000   2.317000e+03      2.317000e+03 ...  \n",
        "mean           75675.500480    0.939764   2.337202e+07      4.471760e+07 ...  \n",
        "std           494516.842658    0.026602   1.012603e+08      1.973525e+08 ...  \n",
        "min               34.582395    0.937500   2.404168e+04      4.701100e+04 ...  \n",
        "25%             2154.075675    0.937500   3.039565e+06      5.915078e+06 ...  \n",
        "50%             5463.858285    0.937500   6.948025e+06      1.360898e+07 ...  \n",
        "75%            16442.963364    0.937500   1.967375e+07      3.719334e+07 ...  \n",
        "max          5474593.441688    1.250000   3.805937e+09      7.589236e+09 ...  \n",
        "\n",
        "[8 rows x 54 columns]"
       ]
      },
      {
       "output_type": "stream",
       "stream": "stdout",
       "text": [
        "\n",
        "Number of agents: 676320"
       ]
      },
      {
       "output_type": "stream",
       "stream": "stdout",
       "text": [
        "\n",
        "Number of agent spaces: 645814\n",
        "Current vacancy = -0.05\n",
        "Target vacancy = 0.15, target of new units = 149856\n",
        "Sum of net units that are profitable"
       ]
      },
      {
       "output_type": "stream",
       "stream": "stdout",
       "text": [
        " 523954.0\n",
        "Adding 302 buildings with 157,491.0 job_spaces"
       ]
      },
      {
       "output_type": "stream",
       "stream": "stdout",
       "text": [
        "\n",
        "Running model 'clear_cache'\n"
       ]
      }
     ],
     "prompt_number": 3
    },
    {
     "cell_type": "code",
     "collapsed": false,
     "input": [],
     "language": "python",
     "metadata": {},
     "outputs": [],
     "prompt_number": 3
    }
   ],
   "metadata": {}
  }
 ]
}