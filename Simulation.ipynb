{
 "metadata": {
  "name": "",
  "signature": "sha256:e16f9cf78b5f18c2e26a7da4a6185d033bd5b5cc9977feac379fe0fa4021fb67"
 },
 "nbformat": 3,
 "nbformat_minor": 0,
 "worksheets": [
  {
   "cells": [
    {
     "cell_type": "code",
     "collapsed": true,
     "input": [
      "%load_ext autoreload\n",
      "%autoreload 2\n",
      "import models, utils\n",
      "import time\n",
      "import urbansim.sim.simulation as sim"
     ],
     "language": "python",
     "metadata": {},
     "outputs": [],
     "prompt_number": 1
    },
    {
     "cell_type": "code",
     "collapsed": false,
     "input": [
      "sim.run(['build_networks'])"
     ],
     "language": "python",
     "metadata": {},
     "outputs": [
      {
       "output_type": "stream",
       "stream": "stdout",
       "text": [
        "Running model 'build_networks'\n",
        "Time to execute model 'build_networks': 6.59s"
       ]
      },
      {
       "output_type": "stream",
       "stream": "stdout",
       "text": [
        "\n",
        "Total time to execute: 6.59s\n"
       ]
      }
     ],
     "prompt_number": 2
    },
    {
     "cell_type": "code",
     "collapsed": true,
     "input": [
      "print \"Started\", time.ctime()\n",
      "in_year, out_year = 2010, 2013\n",
      "\n",
      "# one time for base year indicators\n",
      "sim.run([\n",
      "    \"diagnostic_output\",         # create diagnostic indicators\n",
      "    \"travel_model_output\",       # create the output for the travel model\n",
      "], years=[in_year-1])\n",
      "\n",
      "sim.run([\n",
      "    \"neighborhood_vars\",         # accessibility variables\n",
      "\n",
      "    \"rsh_simulate\",              # residential sales hedonic\n",
      "    \"nrh_simulate\",              # non-residential rent hedonic\n",
      "\n",
      "    \"households_relocation\",     # households relocation model\n",
      "    \"hlcmo_simulate\",            # households location choice (owner)\n",
      "    \"hlcmr_simulate\",            # households location choice (renter)\n",
      "    \"households_transition\",     # households transition\n",
      "\n",
      "    \"jobs_relocation\",           # jobs relocation model\n",
      "    \"elcm_simulate\",             # employment location choice\n",
      "    \"jobs_transition\",           # jobs transition\n",
      "\n",
      "    \"price_vars\",                # compute average price measures\n",
      "\n",
      "    \"feasibility\",               # compute development feasibility\n",
      "    \"residential_developer\",     # build residential buildings\n",
      "    \"non_residential_developer\", # build non-residential buildings\n",
      "\n",
      "    \"diagnostic_output\",         # create diagnostic indicators\n",
      "    \"travel_model_output\",       # create the output for the travel model\n",
      "    \"pusher\",                    # push results to the web client\n",
      "    \"clear_cache\"                # clear the cache each year\n",
      "], years=range(in_year, out_year))\n",
      "print \"Finished\", time.ctime()"
     ],
     "language": "python",
     "metadata": {},
     "outputs": [
      {
       "output_type": "stream",
       "stream": "stdout",
       "text": [
        "Started Wed Sep 24 16:22:22 2014\n",
        "Running year 2009\n",
        "Running model 'diagnostic_output'\n",
        "Filling column building_type_id with value 1.0 (0 values)"
       ]
      },
      {
       "output_type": "stream",
       "stream": "stdout",
       "text": [
        "\n",
        "Filling column residential_units with value 0 (0 values)\n",
        "Filling column year_built with value 1964.0 (233714 values)"
       ]
      },
      {
       "output_type": "stream",
       "stream": "stdout",
       "text": [
        "\n",
        "Filling column non_residential_sqft with value 0 (16531 values)"
       ]
      },
      {
       "output_type": "stream",
       "stream": "stdout",
       "text": [
        "\n",
        "Time to execute model 'diagnostic_output': 35.31s"
       ]
      },
      {
       "output_type": "stream",
       "stream": "stdout",
       "text": [
        "\n",
        "Running model 'travel_model_output'\n",
        "Time to execute model 'travel_model_output': 13.98s"
       ]
      },
      {
       "output_type": "stream",
       "stream": "stdout",
       "text": [
        "\n",
        "Total time to execute year 2009: 49.29s\n",
        "Running year 2010\n",
        "Running model 'neighborhood_vars'\n",
        "Computing accessibility variables"
       ]
      },
      {
       "output_type": "stream",
       "stream": "stdout",
       "text": [
        "\n",
        "Computing sum_residential_units\n",
        "Computing sum_nonresidential_units"
       ]
      },
      {
       "output_type": "stream",
       "stream": "stdout",
       "text": [
        "\n",
        "Computing ave_unit_sqft"
       ]
      },
      {
       "output_type": "stream",
       "stream": "stdout",
       "text": [
        "\n",
        "Computing ave_lot_sqft"
       ]
      },
      {
       "output_type": "stream",
       "stream": "stdout",
       "text": [
        "\n",
        "Computing population"
       ]
      },
      {
       "output_type": "stream",
       "stream": "stdout",
       "text": [
        "\n",
        "Removed 14076 rows because they contain missing values"
       ]
      },
      {
       "output_type": "stream",
       "stream": "stdout",
       "text": [
        "\n",
        "Computing poor"
       ]
      },
      {
       "output_type": "stream",
       "stream": "stdout",
       "text": [
        "\n",
        "Removed 5079 rows because they contain missing values"
       ]
      },
      {
       "output_type": "stream",
       "stream": "stdout",
       "text": [
        "\n",
        "Computing renters"
       ]
      },
      {
       "output_type": "stream",
       "stream": "stdout",
       "text": [
        "\n",
        "Removed 5971 rows because they contain missing values"
       ]
      },
      {
       "output_type": "stream",
       "stream": "stdout",
       "text": [
        "\n",
        "Computing sfdu"
       ]
      },
      {
       "output_type": "stream",
       "stream": "stdout",
       "text": [
        "\n",
        "Computing hhsize"
       ]
      },
      {
       "output_type": "stream",
       "stream": "stdout",
       "text": [
        "\n",
        "Removed 14076 rows because they contain missing values"
       ]
      },
      {
       "output_type": "stream",
       "stream": "stdout",
       "text": [
        "\n",
        "Computing jobs"
       ]
      },
      {
       "output_type": "stream",
       "stream": "stdout",
       "text": [
        "\n",
        "Removed 148710 rows because they contain missing values"
       ]
      },
      {
       "output_type": "stream",
       "stream": "stdout",
       "text": [
        "\n",
        "Computing ave_income"
       ]
      },
      {
       "output_type": "stream",
       "stream": "stdout",
       "text": [
        "\n",
        "Removed 14076 rows because they contain missing values"
       ]
      },
      {
       "output_type": "stream",
       "stream": "stdout",
       "text": [
        "\n",
        "       sum_residential_units  sum_nonresidential_units  ave_unit_sqft  \\\n",
        "count          226060.000000             226060.000000  226060.000000   \n",
        "mean                6.050540                  6.379462       7.464933   \n",
        "std                 1.758118                  1.891947       0.970166   \n",
        "min                 0.000000                  0.000000       0.000000   \n",
        "25%                 5.576124                  5.504745       7.284776   \n",
        "50%                 6.498351                  6.628067       7.487014   \n",
        "75%                 7.096611                  7.601275       7.803067   \n",
        "max                10.048551                 12.389406      12.584553   \n",
        "\n",
        "        ave_lot_sqft     population           poor        renters  \\\n",
        "count  226060.000000  226060.000000  226060.000000  226060.000000   \n",
        "mean        9.284677       6.875537       5.382897       5.391007   \n",
        "std         1.839126       1.843690       1.831038       1.634224   \n",
        "min         0.000000       0.000000       0.000000       0.000000   \n",
        "25%         8.604148       6.422864       4.622566       5.001300   \n",
        "50%         8.977871       7.382371       5.726997       5.897705   \n",
        "75%         9.615728       7.983245       6.561895       6.402221   \n",
        "max        17.130289      10.437380       9.869967       8.485800   \n",
        "\n",
        "                sfdu         hhsize           jobs     ave_income  \n",
        "count  226060.000000  226060.000000  226060.000000  226060.000000  \n",
        "mean        5.229702       1.289061       5.951450      11.128691  \n",
        "std         1.748419       0.201028       1.809135       1.443564  \n",
        "min         0.000000       0.000000       0.000000       0.000000  \n",
        "25%         4.691915       1.237874       5.134082      11.083780  \n",
        "50%         5.870173       1.308955       6.181096      11.304513  \n",
        "75%         6.405925       1.373032       7.080393      11.513828  \n",
        "max         7.721668       2.525729      11.950737      13.043323  \n",
        "\n",
        "[8 rows x 11 columns]"
       ]
      },
      {
       "output_type": "stream",
       "stream": "stdout",
       "text": [
        "\n",
        "Time to execute model 'neighborhood_vars': 30.02s\n",
        "Running model 'rsh_simulate'\n",
        "count    1795725.000000\n",
        "mean         312.577215\n",
        "std          154.211586\n",
        "min            0.000068\n",
        "25%          193.333458\n",
        "50%          289.941593\n",
        "75%          402.636073\n",
        "max         7644.141079\n",
        "dtype: float64"
       ]
      },
      {
       "output_type": "stream",
       "stream": "stdout",
       "text": [
        "\n",
        "Time to execute model 'rsh_simulate': 8.47s"
       ]
      },
      {
       "output_type": "stream",
       "stream": "stdout",
       "text": [
        "\n",
        "Running model 'nrh_simulate'\n",
        "count    116797.000000\n",
        "mean         21.076521\n",
        "std           7.019626\n",
        "min           0.401221\n",
        "25%          11.414740\n",
        "50%          23.964669\n",
        "75%          25.799952\n",
        "max          45.021582\n",
        "dtype: float64"
       ]
      },
      {
       "output_type": "stream",
       "stream": "stdout",
       "text": [
        "\n",
        "Time to execute model 'nrh_simulate': 2.18s"
       ]
      },
      {
       "output_type": "stream",
       "stream": "stdout",
       "text": [
        "\n",
        "Running model 'households_relocation'\n",
        "Total agents: 2608023\n",
        "Total currently unplaced: 14024"
       ]
      },
      {
       "output_type": "stream",
       "stream": "stdout",
       "text": [
        "\n",
        "Assinging for relocation...\n",
        "Total currently unplaced: 143726"
       ]
      },
      {
       "output_type": "stream",
       "stream": "stdout",
       "text": [
        "\n",
        "Time to execute model 'households_relocation': 2.77s\n",
        "Running model 'hlcmo_simulate'\n",
        "There are 2983993 total available units"
       ]
      },
      {
       "output_type": "stream",
       "stream": "stdout",
       "text": [
        "\n",
        "    and 2608023 total choosers\n",
        "    but there are 0 overfull buildings"
       ]
      },
      {
       "output_type": "stream",
       "stream": "stdout",
       "text": [
        "\n",
        "    for a total of 519745 temporarily empty units"
       ]
      },
      {
       "output_type": "stream",
       "stream": "stdout",
       "text": [
        "\n",
        "    in 301246 buildings total in the region\n",
        "Assigned 78916 choosers to new units"
       ]
      },
      {
       "output_type": "stream",
       "stream": "stdout",
       "text": [
        "\n",
        "Total currently unplaced: 64810"
       ]
      },
      {
       "output_type": "stream",
       "stream": "stdout",
       "text": [
        "\n",
        "    and there are now 440829 empty units"
       ]
      },
      {
       "output_type": "stream",
       "stream": "stdout",
       "text": [
        "\n",
        "    and 0 overfull buildings"
       ]
      },
      {
       "output_type": "stream",
       "stream": "stdout",
       "text": [
        "\n",
        "Time to execute model 'hlcmo_simulate': 13.19s\n",
        "Running model 'hlcmr_simulate'\n",
        "There are 2983993 total available units"
       ]
      },
      {
       "output_type": "stream",
       "stream": "stdout",
       "text": [
        "\n",
        "    and 2608023 total choosers\n",
        "    but there are 0 overfull buildings"
       ]
      },
      {
       "output_type": "stream",
       "stream": "stdout",
       "text": [
        "\n",
        "    for a total of 440829 temporarily empty units"
       ]
      },
      {
       "output_type": "stream",
       "stream": "stdout",
       "text": [
        "\n",
        "    in 271871 buildings total in the region\n",
        "Assigned 64810 choosers to new units"
       ]
      },
      {
       "output_type": "stream",
       "stream": "stdout",
       "text": [
        "\n",
        "Total currently unplaced: 0"
       ]
      },
      {
       "output_type": "stream",
       "stream": "stdout",
       "text": [
        "\n",
        "    and there are now 376019 empty units"
       ]
      },
      {
       "output_type": "stream",
       "stream": "stdout",
       "text": [
        "\n",
        "    and 0 overfull buildings"
       ]
      },
      {
       "output_type": "stream",
       "stream": "stdout",
       "text": [
        "\n",
        "Time to execute model 'hlcmr_simulate': 13.57s"
       ]
      },
      {
       "output_type": "stream",
       "stream": "stdout",
       "text": [
        "\n",
        "Running model 'households_transition'\n",
        "Total households before transition: 2608023"
       ]
      },
      {
       "output_type": "stream",
       "stream": "stdout",
       "text": [
        "\n",
        "Total households after transition: 2608027"
       ]
      },
      {
       "output_type": "stream",
       "stream": "stdout",
       "text": [
        "\n",
        "Time to execute model 'households_transition': 7.25s\n",
        "Running model 'jobs_relocation'\n",
        "Total agents: 4085844\n",
        "Total currently unplaced: 0"
       ]
      },
      {
       "output_type": "stream",
       "stream": "stdout",
       "text": [
        "\n",
        "Assinging for relocation...\n",
        "Total currently unplaced: 204292"
       ]
      },
      {
       "output_type": "stream",
       "stream": "stdout",
       "text": [
        "\n",
        "Time to execute model 'jobs_relocation': 2.68s\n",
        "Running model 'elcm_simulate'\n",
        "There are 6668605 total available units"
       ]
      },
      {
       "output_type": "stream",
       "stream": "stdout",
       "text": [
        "\n",
        "    and 4085844 total choosers\n",
        "    but there are 0 overfull buildings"
       ]
      },
      {
       "output_type": "stream",
       "stream": "stdout",
       "text": [
        "\n",
        "    for a total of 2928253 temporarily empty units"
       ]
      },
      {
       "output_type": "stream",
       "stream": "stdout",
       "text": [
        "\n",
        "    in 113863 buildings total in the region\n",
        "Assigned 204292 choosers to new units"
       ]
      },
      {
       "output_type": "stream",
       "stream": "stdout",
       "text": [
        "\n",
        "Total currently unplaced: 0"
       ]
      },
      {
       "output_type": "stream",
       "stream": "stdout",
       "text": [
        "\n",
        "    and there are now 2723961 empty units"
       ]
      },
      {
       "output_type": "stream",
       "stream": "stdout",
       "text": [
        "\n",
        "    and 0 overfull buildings"
       ]
      },
      {
       "output_type": "stream",
       "stream": "stdout",
       "text": [
        "\n",
        "Time to execute model 'elcm_simulate': 35.11s\n",
        "Running model 'jobs_transition'\n",
        "Total jobs before transition: 4085844"
       ]
      },
      {
       "output_type": "stream",
       "stream": "stdout",
       "text": [
        "\n",
        "Total jobs after transition: 3385280"
       ]
      },
      {
       "output_type": "stream",
       "stream": "stdout",
       "text": [
        "\n",
        "Time to execute model 'jobs_transition': 6.10s\n",
        "Running model 'price_vars'\n",
        "Computing accessibility variables\n",
        "Computing residential"
       ]
      },
      {
       "output_type": "stream",
       "stream": "stdout",
       "text": [
        "\n",
        "Computing retail"
       ]
      },
      {
       "output_type": "stream",
       "stream": "stdout",
       "text": [
        "\n",
        "Computing office"
       ]
      },
      {
       "output_type": "stream",
       "stream": "stdout",
       "text": [
        "\n",
        "Computing industrial"
       ]
      },
      {
       "output_type": "stream",
       "stream": "stdout",
       "text": [
        "\n",
        "         residential         retail         office     industrial\n",
        "count  226060.000000  226060.000000  226060.000000  226060.000000\n",
        "mean      305.638291      22.428402      22.606142       9.193193\n",
        "std       141.008421       8.185517       7.486283       3.719660\n",
        "min         0.000000       0.000000       0.000000       0.000000\n",
        "25%       192.615234      21.756649      24.271132       9.973364\n",
        "50%       291.038162      24.311617      24.909847      10.537447\n",
        "75%       398.551620      26.924165      25.400837      10.952697\n",
        "max      3333.752930      34.986435      42.407494      17.485878\n",
        "\n",
        "[8 rows x 4 columns]"
       ]
      },
      {
       "output_type": "stream",
       "stream": "stdout",
       "text": [
        "\n",
        "Time to execute model 'price_vars': 29.24s\n",
        "Running model 'feasibility'\n",
        "Describe of the yearly rent by use"
       ]
      },
      {
       "output_type": "stream",
       "stream": "stdout",
       "text": [
        "\n",
        "               retail      industrial          office     residential\n",
        "count  1513115.000000  1513115.000000  1513115.000000  1512834.000000\n",
        "mean        23.631967        9.438417       23.780152       17.242760\n",
        "std          6.210531        3.306533        5.192954        7.527561\n",
        "min          0.000000        0.000000        0.000000        0.000000\n",
        "25%         22.386634       10.095661       24.424356       10.751952\n",
        "50%         24.544132       10.520760       24.912241       16.417058\n",
        "75%         26.816578       10.879598       25.315971       22.118136\n",
        "max         34.986435       17.485878       42.051506      109.497620\n",
        "\n",
        "[8 rows x 4 columns]"
       ]
      },
      {
       "output_type": "stream",
       "stream": "stdout",
       "text": [
        "\n",
        "Computing feasibility for form mixedoffice\n",
        "Computing feasibility for form industrial"
       ]
      },
      {
       "output_type": "stream",
       "stream": "stdout",
       "text": [
        "\n",
        "Computing feasibility for form office"
       ]
      },
      {
       "output_type": "stream",
       "stream": "stdout",
       "text": [
        "\n",
        "Computing feasibility for form residential"
       ]
      },
      {
       "output_type": "stream",
       "stream": "stdout",
       "text": [
        "\n",
        "Computing feasibility for form mixedresidential"
       ]
      },
      {
       "output_type": "stream",
       "stream": "stdout",
       "text": [
        "\n",
        "Computing feasibility for form retail"
       ]
      },
      {
       "output_type": "stream",
       "stream": "stdout",
       "text": [
        "\n",
        "Time to execute model 'feasibility': 42.75s"
       ]
      },
      {
       "output_type": "stream",
       "stream": "stdout",
       "text": [
        "\n",
        "Running model 'residential_developer'\n",
        "Number of agents: 2,608,027"
       ]
      },
      {
       "output_type": "stream",
       "stream": "stdout",
       "text": [
        "\n",
        "Number of agent spaces: 2,983,993\n",
        "Current vacancy = 0.13\n",
        "Target vacancy = 0.13, target of new units = 13,739\n",
        "129,944 feasible buildings before running developer\n",
        "Sum of net units that are profitable: 257,820"
       ]
      },
      {
       "output_type": "stream",
       "stream": "stdout",
       "text": [
        "\n",
        "Adding 28 buildings with 15,028 residential_units"
       ]
      },
      {
       "output_type": "stream",
       "stream": "stdout",
       "text": [
        "\n",
        "129,916 feasible buildings after running developer\n",
        "Unplaced households before: 94108"
       ]
      },
      {
       "output_type": "stream",
       "stream": "stdout",
       "text": [
        "\n",
        "Unplaced households after: 94210"
       ]
      },
      {
       "output_type": "stream",
       "stream": "stdout",
       "text": [
        "\n",
        "Unplaced jobs before: 17016"
       ]
      },
      {
       "output_type": "stream",
       "stream": "stdout",
       "text": [
        "\n",
        "Unplaced jobs after: 18278"
       ]
      },
      {
       "output_type": "stream",
       "stream": "stdout",
       "text": [
        "\n",
        "Time to execute model 'residential_developer': 10.42s"
       ]
      },
      {
       "output_type": "stream",
       "stream": "stdout",
       "text": [
        "\n",
        "Running model 'non_residential_developer'\n",
        "Number of agents: 3,385,280"
       ]
      },
      {
       "output_type": "stream",
       "stream": "stdout",
       "text": [
        "\n",
        "Number of agent spaces: 6,666,843\n",
        "Current vacancy = 0.49\n",
        "Target vacancy = 0.49, target of new units = 0\n",
        "129,916 feasible buildings before running developer\n",
        "Sum of net units that are profitable: 3,385,119"
       ]
      },
      {
       "output_type": "stream",
       "stream": "stdout",
       "text": [
        "\n",
        "Time to execute model 'non_residential_developer': 6.99s"
       ]
      },
      {
       "output_type": "stream",
       "stream": "stdout",
       "text": [
        "\n",
        "Running model 'diagnostic_output'\n",
        "Time to execute model 'diagnostic_output': 16.38s"
       ]
      },
      {
       "output_type": "stream",
       "stream": "stdout",
       "text": [
        "\n",
        "Running model 'travel_model_output'\n",
        "Time to execute model 'travel_model_output': 10.27s"
       ]
      },
      {
       "output_type": "stream",
       "stream": "stdout",
       "text": [
        "\n",
        "Running model 'pusher'\n",
        "Time to execute model 'pusher': 0.39s"
       ]
      },
      {
       "output_type": "stream",
       "stream": "stdout",
       "text": [
        "\n",
        "Running model 'clear_cache'\n",
        "Time to execute model 'clear_cache': 0.10s"
       ]
      },
      {
       "output_type": "stream",
       "stream": "stdout",
       "text": [
        "\n",
        "Total time to execute year 2010: 237.88s\n",
        "Running year 2011\n",
        "Running model 'neighborhood_vars'\n",
        "Computing accessibility variables\n",
        "Computing sum_residential_units"
       ]
      },
      {
       "output_type": "stream",
       "stream": "stdout",
       "text": [
        "\n",
        "Computing sum_nonresidential_units"
       ]
      },
      {
       "output_type": "stream",
       "stream": "stdout",
       "text": [
        "\n",
        "Computing ave_unit_sqft"
       ]
      },
      {
       "output_type": "stream",
       "stream": "stdout",
       "text": [
        "\n",
        "Computing ave_lot_sqft"
       ]
      },
      {
       "output_type": "stream",
       "stream": "stdout",
       "text": [
        "\n",
        "Computing population"
       ]
      },
      {
       "output_type": "stream",
       "stream": "stdout",
       "text": [
        "\n",
        "Removed 94257 rows because they contain missing values"
       ]
      },
      {
       "output_type": "stream",
       "stream": "stdout",
       "text": [
        "\n",
        "Computing poor"
       ]
      },
      {
       "output_type": "stream",
       "stream": "stdout",
       "text": [
        "\n",
        "Removed 73852 rows because they contain missing values"
       ]
      },
      {
       "output_type": "stream",
       "stream": "stdout",
       "text": [
        "\n",
        "Computing renters"
       ]
      },
      {
       "output_type": "stream",
       "stream": "stdout",
       "text": [
        "\n",
        "Removed 41226 rows because they contain missing values"
       ]
      },
      {
       "output_type": "stream",
       "stream": "stdout",
       "text": [
        "\n",
        "Computing sfdu"
       ]
      },
      {
       "output_type": "stream",
       "stream": "stdout",
       "text": [
        "\n",
        "Computing hhsize"
       ]
      },
      {
       "output_type": "stream",
       "stream": "stdout",
       "text": [
        "\n",
        "Removed 94257 rows because they contain missing values"
       ]
      },
      {
       "output_type": "stream",
       "stream": "stdout",
       "text": [
        "\n",
        "Computing jobs"
       ]
      },
      {
       "output_type": "stream",
       "stream": "stdout",
       "text": [
        "\n",
        "Removed 140795 rows because they contain missing values"
       ]
      },
      {
       "output_type": "stream",
       "stream": "stdout",
       "text": [
        "\n",
        "Computing ave_income"
       ]
      },
      {
       "output_type": "stream",
       "stream": "stdout",
       "text": [
        "\n",
        "Removed 94257 rows because they contain missing values"
       ]
      },
      {
       "output_type": "stream",
       "stream": "stdout",
       "text": [
        "\n",
        "       sum_residential_units  sum_nonresidential_units  ave_unit_sqft  \\\n",
        "count          226060.000000             226060.000000  226060.000000   \n",
        "mean                6.052586                  6.378919       7.464842   \n",
        "std                 1.758973                  1.891797       0.970073   \n",
        "min                 0.000000                  0.000000       0.000000   \n",
        "25%                 5.577266                  5.504469       7.284776   \n",
        "50%                 6.499308                  6.626633       7.487009   \n",
        "75%                 7.098530                  7.600967       7.803022   \n",
        "max                10.048551                 12.389399      12.584553   \n",
        "\n",
        "        ave_lot_sqft     population           poor        renters  \\\n",
        "count  226060.000000  226060.000000  226060.000000  226060.000000   \n",
        "mean        9.284432       6.845123       5.348550       5.372795   \n",
        "std         1.839192       1.845054       1.836745       1.637732   \n",
        "min         0.000000       0.000000       0.000000       0.000000   \n",
        "25%         8.603383       6.386381       4.577169       4.974312   \n",
        "50%         8.977581       7.346765       5.689498       5.874384   \n",
        "75%         9.615582       7.953578       6.535178       6.380962   \n",
        "max        17.130289      10.493048       9.935611       8.446344   \n",
        "\n",
        "                sfdu         hhsize           jobs     ave_income  \n",
        "count  226060.000000  226060.000000  226060.000000  226060.000000  \n",
        "mean        5.229683       1.292805       5.748071      11.152748  \n",
        "std         1.748434       0.196862       1.802871       1.419877  \n",
        "min         0.000000       0.000000       0.000000       0.000000  \n",
        "25%         4.691915       1.243773       4.900003      11.111396  \n",
        "50%         5.870173       1.311289       5.971660      11.323326  \n",
        "75%         6.405925       1.373330       6.882740      11.525311  \n",
        "max         7.721668       2.525729      11.705117      12.899597  \n",
        "\n",
        "[8 rows x 11 columns]"
       ]
      },
      {
       "output_type": "stream",
       "stream": "stdout",
       "text": [
        "\n",
        "Time to execute model 'neighborhood_vars': 33.17s\n",
        "Running model 'rsh_simulate'\n",
        "count    1795737.000000\n",
        "mean         319.640724\n",
        "std          155.001238\n",
        "min            0.000073\n",
        "25%          199.934982\n",
        "50%          297.295982\n",
        "75%          409.835733\n",
        "max         7555.560211\n",
        "dtype: float64"
       ]
      },
      {
       "output_type": "stream",
       "stream": "stdout",
       "text": [
        "\n",
        "Time to execute model 'rsh_simulate': 5.66s"
       ]
      },
      {
       "output_type": "stream",
       "stream": "stdout",
       "text": [
        "\n",
        "Running model 'nrh_simulate'\n",
        "count    116784.000000\n",
        "mean         20.883756\n",
        "std           6.932216\n",
        "min           0.401221\n",
        "25%          11.327647\n",
        "50%          23.789876\n",
        "75%          25.624969\n",
        "max          44.821614\n",
        "dtype: float64"
       ]
      },
      {
       "output_type": "stream",
       "stream": "stdout",
       "text": [
        "\n",
        "Time to execute model 'nrh_simulate': 1.49s\n",
        "Running model 'households_relocation'\n",
        "Total agents: 2608027\n",
        "Total currently unplaced: 94210"
       ]
      },
      {
       "output_type": "stream",
       "stream": "stdout",
       "text": [
        "\n",
        "Assinging for relocation...\n",
        "Total currently unplaced: 219964"
       ]
      },
      {
       "output_type": "stream",
       "stream": "stdout",
       "text": [
        "\n",
        "Time to execute model 'households_relocation': 2.01s\n",
        "Running model 'hlcmo_simulate'\n",
        "There are 2998831 total available units"
       ]
      },
      {
       "output_type": "stream",
       "stream": "stdout",
       "text": [
        "\n",
        "    and 2608027 total choosers\n",
        "    but there are 0 overfull buildings"
       ]
      },
      {
       "output_type": "stream",
       "stream": "stdout",
       "text": [
        "\n",
        "    for a total of 610808 temporarily empty units"
       ]
      },
      {
       "output_type": "stream",
       "stream": "stdout",
       "text": [
        "\n",
        "    in 405627 buildings total in the region\n",
        "Assigned 112442 choosers to new units"
       ]
      },
      {
       "output_type": "stream",
       "stream": "stdout",
       "text": [
        "\n",
        "Total currently unplaced: 107522"
       ]
      },
      {
       "output_type": "stream",
       "stream": "stdout",
       "text": [
        "\n",
        "    and there are now 498366 empty units"
       ]
      },
      {
       "output_type": "stream",
       "stream": "stdout",
       "text": [
        "\n",
        "    and 0 overfull buildings"
       ]
      },
      {
       "output_type": "stream",
       "stream": "stdout",
       "text": [
        "\n",
        "Time to execute model 'hlcmo_simulate': 14.70s\n",
        "Running model 'hlcmr_simulate'\n",
        "There are 2998831 total available units"
       ]
      },
      {
       "output_type": "stream",
       "stream": "stdout",
       "text": [
        "\n",
        "    and 2608027 total choosers\n",
        "    but there are 0 overfull buildings"
       ]
      },
      {
       "output_type": "stream",
       "stream": "stdout",
       "text": [
        "\n",
        "    for a total of 498366 temporarily empty units"
       ]
      },
      {
       "output_type": "stream",
       "stream": "stdout",
       "text": [
        "\n",
        "    in 351178 buildings total in the region\n",
        "Assigned 107522 choosers to new units"
       ]
      },
      {
       "output_type": "stream",
       "stream": "stdout",
       "text": [
        "\n",
        "Total currently unplaced: 0"
       ]
      },
      {
       "output_type": "stream",
       "stream": "stdout",
       "text": [
        "\n",
        "    and there are now 390844 empty units"
       ]
      },
      {
       "output_type": "stream",
       "stream": "stdout",
       "text": [
        "\n",
        "    and 0 overfull buildings"
       ]
      },
      {
       "output_type": "stream",
       "stream": "stdout",
       "text": [
        "\n",
        "Time to execute model 'hlcmr_simulate': 11.63s\n",
        "Running model 'households_transition'\n",
        "Total households before transition: 2608027"
       ]
      },
      {
       "output_type": "stream",
       "stream": "stdout",
       "text": [
        "\n",
        "Total households after transition: 2629692"
       ]
      },
      {
       "output_type": "stream",
       "stream": "stdout",
       "text": [
        "\n",
        "Time to execute model 'households_transition': 2.16s\n",
        "Running model 'jobs_relocation'\n",
        "Total agents: 3385280\n",
        "Total currently unplaced: 18278"
       ]
      },
      {
       "output_type": "stream",
       "stream": "stdout",
       "text": [
        "\n",
        "Assinging for relocation...\n",
        "Total currently unplaced: 186624"
       ]
      },
      {
       "output_type": "stream",
       "stream": "stdout",
       "text": [
        "\n",
        "Time to execute model 'jobs_relocation': 2.26s\n",
        "Running model 'elcm_simulate'\n",
        "There are 6666843 total available units"
       ]
      },
      {
       "output_type": "stream",
       "stream": "stdout",
       "text": [
        "\n",
        "    and 3385280 total choosers\n",
        "    but there are 0 overfull buildings"
       ]
      },
      {
       "output_type": "stream",
       "stream": "stdout",
       "text": [
        "\n",
        "    for a total of 3584662 temporarily empty units"
       ]
      },
      {
       "output_type": "stream",
       "stream": "stdout",
       "text": [
        "\n",
        "    in 217891 buildings total in the region\n",
        "Assigned 186624 choosers to new units"
       ]
      },
      {
       "output_type": "stream",
       "stream": "stdout",
       "text": [
        "\n",
        "Total currently unplaced: 0"
       ]
      },
      {
       "output_type": "stream",
       "stream": "stdout",
       "text": [
        "\n",
        "    and there are now 3398038 empty units"
       ]
      },
      {
       "output_type": "stream",
       "stream": "stdout",
       "text": [
        "\n",
        "    and 0 overfull buildings"
       ]
      },
      {
       "output_type": "stream",
       "stream": "stdout",
       "text": [
        "\n",
        "Time to execute model 'elcm_simulate': 33.74s\n",
        "Running model 'jobs_transition'\n",
        "Total jobs before transition: 3385280"
       ]
      },
      {
       "output_type": "stream",
       "stream": "stdout",
       "text": [
        "\n",
        "Total jobs after transition: 3442300"
       ]
      },
      {
       "output_type": "stream",
       "stream": "stdout",
       "text": [
        "\n",
        "Time to execute model 'jobs_transition': 2.93s\n",
        "Running model 'price_vars'\n",
        "Computing accessibility variables\n",
        "Computing residential\n",
        "Computing retail"
       ]
      },
      {
       "output_type": "stream",
       "stream": "stdout",
       "text": [
        "\n",
        "Computing office"
       ]
      },
      {
       "output_type": "stream",
       "stream": "stdout",
       "text": [
        "\n",
        "Computing industrial"
       ]
      },
      {
       "output_type": "stream",
       "stream": "stdout",
       "text": [
        "\n",
        "         residential         retail         office     industrial\n",
        "count  226060.000000  226060.000000  226060.000000  226060.000000\n",
        "mean      311.767566      22.071452      22.500343       9.122887\n",
        "std       140.766886       8.033829       7.452232       3.693086\n",
        "min         0.000000       0.000000       0.000000       0.000000\n",
        "25%       199.320129      21.485853      24.149088       9.884823\n",
        "50%       298.664001      23.988411      24.789131      10.453609\n",
        "75%       403.913261      26.488647      25.282551      10.862342\n",
        "max      3333.752686      36.108227      42.376701      17.349293\n",
        "\n",
        "[8 rows x 4 columns]"
       ]
      },
      {
       "output_type": "stream",
       "stream": "stdout",
       "text": [
        "\n",
        "Time to execute model 'price_vars': 18.11s\n",
        "Running model 'feasibility'\n",
        "Describe of the yearly rent by use"
       ]
      },
      {
       "output_type": "stream",
       "stream": "stdout",
       "text": [
        "\n",
        "               retail      industrial          office     residential\n",
        "count  1513087.000000  1513087.000000  1513087.000000  1512806.000000\n",
        "mean        23.238428        9.371428       23.648916       17.615761\n",
        "std          6.094218        3.280426        5.168550        7.544444\n",
        "min          0.000000        0.000000        0.000000        0.000000\n",
        "25%         22.061876       10.012053       24.300678       11.182177\n",
        "50%         24.170221       10.436434       24.791071       16.768283\n",
        "75%         26.373484       10.791986       25.198698       22.545389\n",
        "max         36.108227       17.349293       42.127758       94.760048\n",
        "\n",
        "[8 rows x 4 columns]"
       ]
      },
      {
       "output_type": "stream",
       "stream": "stdout",
       "text": [
        "\n",
        "Computing feasibility for form mixedoffice\n",
        "Computing feasibility for form industrial"
       ]
      },
      {
       "output_type": "stream",
       "stream": "stdout",
       "text": [
        "\n",
        "Computing feasibility for form office"
       ]
      },
      {
       "output_type": "stream",
       "stream": "stdout",
       "text": [
        "\n",
        "Computing feasibility for form residential"
       ]
      },
      {
       "output_type": "stream",
       "stream": "stdout",
       "text": [
        "\n",
        "Computing feasibility for form mixedresidential"
       ]
      },
      {
       "output_type": "stream",
       "stream": "stdout",
       "text": [
        "\n",
        "Computing feasibility for form retail"
       ]
      },
      {
       "output_type": "stream",
       "stream": "stdout",
       "text": [
        "\n",
        "Time to execute model 'feasibility': 31.24s"
       ]
      },
      {
       "output_type": "stream",
       "stream": "stdout",
       "text": [
        "\n",
        "Running model 'residential_developer'\n",
        "Number of agents: 2,629,692"
       ]
      },
      {
       "output_type": "stream",
       "stream": "stdout",
       "text": [
        "\n",
        "Number of agent spaces: 2,998,831\n",
        "Current vacancy = 0.12\n",
        "Target vacancy = 0.13, target of new units = 23,803\n",
        "118,777 feasible buildings before running developer\n",
        "Sum of net units that are profitable: 266,263"
       ]
      },
      {
       "output_type": "stream",
       "stream": "stdout",
       "text": [
        "\n",
        "Adding 59 buildings with 26,427 residential_units"
       ]
      },
      {
       "output_type": "stream",
       "stream": "stdout",
       "text": [
        "\n",
        "118,718 feasible buildings after running developer\n",
        "Unplaced households before: 108215"
       ]
      },
      {
       "output_type": "stream",
       "stream": "stdout",
       "text": [
        "\n",
        "Unplaced households after: 108771"
       ]
      },
      {
       "output_type": "stream",
       "stream": "stdout",
       "text": [
        "\n",
        "Unplaced jobs before: 57020"
       ]
      },
      {
       "output_type": "stream",
       "stream": "stdout",
       "text": [
        "\n",
        "Unplaced jobs after: 57577"
       ]
      },
      {
       "output_type": "stream",
       "stream": "stdout",
       "text": [
        "\n",
        "Time to execute model 'residential_developer': 6.77s"
       ]
      },
      {
       "output_type": "stream",
       "stream": "stdout",
       "text": [
        "\n",
        "Running model 'non_residential_developer'\n",
        "Number of agents: 3,442,300"
       ]
      },
      {
       "output_type": "stream",
       "stream": "stdout",
       "text": [
        "\n",
        "Number of agent spaces: 6,664,757\n",
        "Current vacancy = 0.48\n",
        "Target vacancy = 0.49, target of new units = 84,850\n",
        "118,718 feasible buildings before running developer\n",
        "Sum of net units that are profitable: 3,244,171"
       ]
      },
      {
       "output_type": "stream",
       "stream": "stdout",
       "text": [
        "\n",
        "Adding 132 buildings with 90,327 job_spaces"
       ]
      },
      {
       "output_type": "stream",
       "stream": "stdout",
       "text": [
        "\n",
        "118,586 feasible buildings after running developer\n",
        "Unplaced households before: 108771"
       ]
      },
      {
       "output_type": "stream",
       "stream": "stdout",
       "text": [
        "\n",
        "Unplaced households after: 109834"
       ]
      },
      {
       "output_type": "stream",
       "stream": "stdout",
       "text": [
        "\n",
        "Unplaced jobs before: 57577"
       ]
      },
      {
       "output_type": "stream",
       "stream": "stdout",
       "text": [
        "\n",
        "Unplaced jobs after: 59493"
       ]
      },
      {
       "output_type": "stream",
       "stream": "stdout",
       "text": [
        "\n",
        "Time to execute model 'non_residential_developer': 9.29s"
       ]
      },
      {
       "output_type": "stream",
       "stream": "stdout",
       "text": [
        "\n",
        "Running model 'diagnostic_output'\n",
        "Time to execute model 'diagnostic_output': 12.50s"
       ]
      },
      {
       "output_type": "stream",
       "stream": "stdout",
       "text": [
        "\n",
        "Running model 'travel_model_output'\n",
        "Time to execute model 'travel_model_output': 10.23s"
       ]
      },
      {
       "output_type": "stream",
       "stream": "stdout",
       "text": [
        "\n",
        "Running model 'pusher'\n",
        "Time to execute model 'pusher': 0.79s"
       ]
      },
      {
       "output_type": "stream",
       "stream": "stdout",
       "text": [
        "\n",
        "Running model 'clear_cache'\n",
        "Time to execute model 'clear_cache': 0.08s"
       ]
      },
      {
       "output_type": "stream",
       "stream": "stdout",
       "text": [
        "\n",
        "Total time to execute year 2011: 198.77s\n",
        "Running year 2012\n",
        "Running model 'neighborhood_vars'\n",
        "Computing accessibility variables\n",
        "Computing sum_residential_units"
       ]
      },
      {
       "output_type": "stream",
       "stream": "stdout",
       "text": [
        "\n",
        "Computing sum_nonresidential_units"
       ]
      },
      {
       "output_type": "stream",
       "stream": "stdout",
       "text": [
        "\n",
        "Computing ave_unit_sqft"
       ]
      },
      {
       "output_type": "stream",
       "stream": "stdout",
       "text": [
        "\n",
        "Computing ave_lot_sqft"
       ]
      },
      {
       "output_type": "stream",
       "stream": "stdout",
       "text": [
        "\n",
        "Computing population"
       ]
      },
      {
       "output_type": "stream",
       "stream": "stdout",
       "text": [
        "\n",
        "Removed 109874 rows because they contain missing values"
       ]
      },
      {
       "output_type": "stream",
       "stream": "stdout",
       "text": [
        "\n",
        "Computing poor"
       ]
      },
      {
       "output_type": "stream",
       "stream": "stdout",
       "text": [
        "\n",
        "Removed 83726 rows because they contain missing values"
       ]
      },
      {
       "output_type": "stream",
       "stream": "stdout",
       "text": [
        "\n",
        "Computing renters"
       ]
      },
      {
       "output_type": "stream",
       "stream": "stdout",
       "text": [
        "\n",
        "Removed 47702 rows because they contain missing values"
       ]
      },
      {
       "output_type": "stream",
       "stream": "stdout",
       "text": [
        "\n",
        "Computing sfdu"
       ]
      },
      {
       "output_type": "stream",
       "stream": "stdout",
       "text": [
        "\n",
        "Computing hhsize"
       ]
      },
      {
       "output_type": "stream",
       "stream": "stdout",
       "text": [
        "\n",
        "Removed 109874 rows because they contain missing values"
       ]
      },
      {
       "output_type": "stream",
       "stream": "stdout",
       "text": [
        "\n",
        "Computing jobs"
       ]
      },
      {
       "output_type": "stream",
       "stream": "stdout",
       "text": [
        "\n",
        "Removed 175968 rows because they contain missing values"
       ]
      },
      {
       "output_type": "stream",
       "stream": "stdout",
       "text": [
        "\n",
        "Computing ave_income"
       ]
      },
      {
       "output_type": "stream",
       "stream": "stdout",
       "text": [
        "\n",
        "Removed 109874 rows because they contain missing values"
       ]
      },
      {
       "output_type": "stream",
       "stream": "stdout",
       "text": [
        "\n",
        "       sum_residential_units  sum_nonresidential_units  ave_unit_sqft  \\\n",
        "count          226060.000000             226060.000000  226060.000000   \n",
        "mean                6.057462                  6.387122       7.464828   \n",
        "std                 1.760149                  1.895897       0.970072   \n",
        "min                 0.000000                  0.000000       0.000000   \n",
        "25%                 5.579994                  5.509058       7.284781   \n",
        "50%                 6.503802                  6.637814       7.487009   \n",
        "75%                 7.104816                  7.610945       7.802996   \n",
        "max                10.048551                 12.389378      12.584553   \n",
        "\n",
        "        ave_lot_sqft     population           poor        renters  \\\n",
        "count  226060.000000  226060.000000  226060.000000  226060.000000   \n",
        "mean        9.283818       6.836437       5.374389       5.369066   \n",
        "std         1.839250       1.857099       1.862902       1.655006   \n",
        "min         0.000000       0.000000       0.000000       0.000000   \n",
        "25%         8.603131       6.363605       4.568849       4.956466   \n",
        "50%         8.977051       7.335101       5.718407       5.863415   \n",
        "75%         9.615091       7.953300       6.588111       6.381482   \n",
        "max        17.130289      10.547883      10.034077       8.475218   \n",
        "\n",
        "                sfdu         hhsize           jobs     ave_income  \n",
        "count  226060.000000  226060.000000  226060.000000  226060.000000  \n",
        "mean        5.229629       1.292369       5.726920      11.161689  \n",
        "std         1.748460       0.193313       1.806296       1.413857  \n",
        "min         0.000000       0.000000       0.000000       0.000000  \n",
        "25%         4.691915       1.246751       4.867180      11.126669  \n",
        "50%         5.870155       1.310529       5.941667      11.331813  \n",
        "75%         6.405851       1.369816       6.861458      11.523746  \n",
        "max         7.721668       2.525729      11.760571      12.899597  \n",
        "\n",
        "[8 rows x 11 columns]"
       ]
      },
      {
       "output_type": "stream",
       "stream": "stdout",
       "text": [
        "\n",
        "Time to execute model 'neighborhood_vars': 26.90s\n",
        "Running model 'rsh_simulate'\n",
        "count    1795710.000000\n",
        "mean         322.400701\n",
        "std          153.529274\n",
        "min            0.000073\n",
        "25%          204.521545\n",
        "50%          300.373198\n",
        "75%          411.100061\n",
        "max         7605.212329\n",
        "dtype: float64"
       ]
      },
      {
       "output_type": "stream",
       "stream": "stdout",
       "text": [
        "\n",
        "Time to execute model 'rsh_simulate': 5.48s"
       ]
      },
      {
       "output_type": "stream",
       "stream": "stdout",
       "text": [
        "\n",
        "Running model 'nrh_simulate'\n",
        "count    116808.000000\n",
        "mean         20.898513\n",
        "std           6.932280\n",
        "min           0.401221\n",
        "25%          11.335801\n",
        "50%          23.798247\n",
        "75%          25.635575\n",
        "max          44.899965\n",
        "dtype: float64"
       ]
      },
      {
       "output_type": "stream",
       "stream": "stdout",
       "text": [
        "\n",
        "Time to execute model 'nrh_simulate': 2.08s\n",
        "Running model 'households_relocation'\n",
        "Total agents: 2629692\n",
        "Total currently unplaced: 109834"
       ]
      },
      {
       "output_type": "stream",
       "stream": "stdout",
       "text": [
        "\n",
        "Assinging for relocation...\n",
        "Total currently unplaced: 235844"
       ]
      },
      {
       "output_type": "stream",
       "stream": "stdout",
       "text": [
        "\n",
        "Time to execute model 'households_relocation': 2.17s\n",
        "Running model 'hlcmo_simulate'\n",
        "There are 3023275 total available units"
       ]
      },
      {
       "output_type": "stream",
       "stream": "stdout",
       "text": [
        "\n",
        "    and 2629692 total choosers\n",
        "    but there are 0 overfull buildings"
       ]
      },
      {
       "output_type": "stream",
       "stream": "stdout",
       "text": [
        "\n",
        "    for a total of 629466 temporarily empty units"
       ]
      },
      {
       "output_type": "stream",
       "stream": "stdout",
       "text": [
        "\n",
        "    in 443556 buildings total in the region\n",
        "Assigned 118759 choosers to new units"
       ]
      },
      {
       "output_type": "stream",
       "stream": "stdout",
       "text": [
        "\n",
        "Total currently unplaced: 117085"
       ]
      },
      {
       "output_type": "stream",
       "stream": "stdout",
       "text": [
        "\n",
        "    and there are now 510707 empty units"
       ]
      },
      {
       "output_type": "stream",
       "stream": "stdout",
       "text": [
        "\n",
        "    and 0 overfull buildings"
       ]
      },
      {
       "output_type": "stream",
       "stream": "stdout",
       "text": [
        "\n",
        "Time to execute model 'hlcmo_simulate': 15.60s\n",
        "Running model 'hlcmr_simulate'\n",
        "There are 3023275 total available units"
       ]
      },
      {
       "output_type": "stream",
       "stream": "stdout",
       "text": [
        "\n",
        "    and 2629692 total choosers\n",
        "    but there are 0 overfull buildings"
       ]
      },
      {
       "output_type": "stream",
       "stream": "stdout",
       "text": [
        "\n",
        "    for a total of 510707 temporarily empty units"
       ]
      },
      {
       "output_type": "stream",
       "stream": "stdout",
       "text": [
        "\n",
        "    in 377524 buildings total in the region\n",
        "Assigned 117085 choosers to new units"
       ]
      },
      {
       "output_type": "stream",
       "stream": "stdout",
       "text": [
        "\n",
        "Total currently unplaced: 0"
       ]
      },
      {
       "output_type": "stream",
       "stream": "stdout",
       "text": [
        "\n",
        "    and there are now 393622 empty units"
       ]
      },
      {
       "output_type": "stream",
       "stream": "stdout",
       "text": [
        "\n",
        "    and 0 overfull buildings"
       ]
      },
      {
       "output_type": "stream",
       "stream": "stdout",
       "text": [
        "\n",
        "Time to execute model 'hlcmr_simulate': 12.22s\n",
        "Running model 'households_transition'\n",
        "Total households before transition: 2629692"
       ]
      },
      {
       "output_type": "stream",
       "stream": "stdout",
       "text": [
        "\n",
        "Total households after transition: 2651568"
       ]
      },
      {
       "output_type": "stream",
       "stream": "stdout",
       "text": [
        "\n",
        "Time to execute model 'households_transition': 3.10s\n",
        "Running model 'jobs_relocation'\n",
        "Total agents: 3442300\n",
        "Total currently unplaced: 59493"
       ]
      },
      {
       "output_type": "stream",
       "stream": "stdout",
       "text": [
        "\n",
        "Assinging for relocation...\n",
        "Total currently unplaced: 228596"
       ]
      },
      {
       "output_type": "stream",
       "stream": "stdout",
       "text": [
        "\n",
        "Time to execute model 'jobs_relocation': 2.39s\n",
        "Running model 'elcm_simulate'\n",
        "There are 6757784 total available units"
       ]
      },
      {
       "output_type": "stream",
       "stream": "stdout",
       "text": [
        "\n",
        "    and 3442300 total choosers\n",
        "    but there are 0 overfull buildings"
       ]
      },
      {
       "output_type": "stream",
       "stream": "stdout",
       "text": [
        "\n",
        "    for a total of 3654774 temporarily empty units"
       ]
      },
      {
       "output_type": "stream",
       "stream": "stdout",
       "text": [
        "\n",
        "    in 228204 buildings total in the region\n",
        "Assigned 228596 choosers to new units"
       ]
      },
      {
       "output_type": "stream",
       "stream": "stdout",
       "text": [
        "\n",
        "Total currently unplaced: 0"
       ]
      },
      {
       "output_type": "stream",
       "stream": "stdout",
       "text": [
        "\n",
        "    and there are now 3426178 empty units"
       ]
      },
      {
       "output_type": "stream",
       "stream": "stdout",
       "text": [
        "\n",
        "    and 0 overfull buildings"
       ]
      },
      {
       "output_type": "stream",
       "stream": "stdout",
       "text": [
        "\n",
        "Time to execute model 'elcm_simulate': 40.15s\n",
        "Running model 'jobs_transition'\n",
        "Total jobs before transition: 3442300"
       ]
      },
      {
       "output_type": "stream",
       "stream": "stdout",
       "text": [
        "\n",
        "Total jobs after transition: 3500411"
       ]
      },
      {
       "output_type": "stream",
       "stream": "stdout",
       "text": [
        "\n",
        "Time to execute model 'jobs_transition': 3.07s\n",
        "Running model 'price_vars'\n",
        "Computing accessibility variables\n",
        "Computing residential\n",
        "Computing retail"
       ]
      },
      {
       "output_type": "stream",
       "stream": "stdout",
       "text": [
        "\n",
        "Computing office"
       ]
      },
      {
       "output_type": "stream",
       "stream": "stdout",
       "text": [
        "\n",
        "Computing industrial"
       ]
      },
      {
       "output_type": "stream",
       "stream": "stdout",
       "text": [
        "\n",
        "         residential         retail         office     industrial\n",
        "count  226060.000000  226060.000000  226060.000000  226060.000000\n",
        "mean      313.917119      22.062751      22.485555       9.116300\n",
        "std       139.158813       8.020009       7.449940       3.692085\n",
        "min         0.000000       0.000000       0.000000       0.000000\n",
        "25%       203.421230      21.489256      24.124742       9.871066\n",
        "50%       301.989746      24.003551      24.764902      10.437749\n",
        "75%       403.904816      26.495289      25.263628      10.853418\n",
        "max      3333.752686      34.330276      42.506001      17.386827\n",
        "\n",
        "[8 rows x 4 columns]"
       ]
      },
      {
       "output_type": "stream",
       "stream": "stdout",
       "text": [
        "\n",
        "Time to execute model 'price_vars': 18.20s\n",
        "Running model 'feasibility'\n",
        "Describe of the yearly rent by use"
       ]
      },
      {
       "output_type": "stream",
       "stream": "stdout",
       "text": [
        "\n",
        "               retail      industrial          office     residential\n",
        "count  1512896.000000  1512896.000000  1512896.000000  1512615.000000\n",
        "mean        23.239020        9.359421       23.618417       17.768702\n",
        "std          6.071978        3.276820        5.164448        7.468932\n",
        "min          0.000000        0.000000        0.000000        0.000000\n",
        "25%         22.090990       10.000827       24.274677       11.404155\n",
        "50%         24.186915       10.419197       24.764160       16.993635\n",
        "75%         26.367741       10.776101       25.173882       22.663611\n",
        "max         34.330276       17.386827       42.286842       82.876025\n",
        "\n",
        "[8 rows x 4 columns]"
       ]
      },
      {
       "output_type": "stream",
       "stream": "stdout",
       "text": [
        "\n",
        "Computing feasibility for form mixedoffice\n",
        "Computing feasibility for form industrial"
       ]
      },
      {
       "output_type": "stream",
       "stream": "stdout",
       "text": [
        "\n",
        "Computing feasibility for form office"
       ]
      },
      {
       "output_type": "stream",
       "stream": "stdout",
       "text": [
        "\n",
        "Computing feasibility for form residential"
       ]
      },
      {
       "output_type": "stream",
       "stream": "stdout",
       "text": [
        "\n",
        "Computing feasibility for form mixedresidential"
       ]
      },
      {
       "output_type": "stream",
       "stream": "stdout",
       "text": [
        "\n",
        "Computing feasibility for form retail"
       ]
      },
      {
       "output_type": "stream",
       "stream": "stdout",
       "text": [
        "\n",
        "Time to execute model 'feasibility': 29.64s"
       ]
      },
      {
       "output_type": "stream",
       "stream": "stdout",
       "text": [
        "\n",
        "Running model 'residential_developer'\n",
        "Number of agents: 2,651,568"
       ]
      },
      {
       "output_type": "stream",
       "stream": "stdout",
       "text": [
        "\n",
        "Number of agent spaces: 3,023,275\n",
        "Current vacancy = 0.12\n",
        "Target vacancy = 0.13, target of new units = 24,504\n",
        "115,527 feasible buildings before running developer\n",
        "Sum of net units that are profitable: 236,921"
       ]
      },
      {
       "output_type": "stream",
       "stream": "stdout",
       "text": [
        "\n",
        "Adding 83 buildings with 25,198 residential_units"
       ]
      },
      {
       "output_type": "stream",
       "stream": "stdout",
       "text": [
        "\n",
        "115,444 feasible buildings after running developer\n",
        "Unplaced households before: 109902"
       ]
      },
      {
       "output_type": "stream",
       "stream": "stdout",
       "text": [
        "\n",
        "Unplaced households after: 110397"
       ]
      },
      {
       "output_type": "stream",
       "stream": "stdout",
       "text": [
        "\n",
        "Unplaced jobs before: 58111"
       ]
      },
      {
       "output_type": "stream",
       "stream": "stdout",
       "text": [
        "\n",
        "Unplaced jobs after: 59730"
       ]
      },
      {
       "output_type": "stream",
       "stream": "stdout",
       "text": [
        "\n",
        "Time to execute model 'residential_developer': 6.03s"
       ]
      },
      {
       "output_type": "stream",
       "stream": "stdout",
       "text": [
        "\n",
        "Running model 'non_residential_developer'\n",
        "Number of agents: 3,500,411"
       ]
      },
      {
       "output_type": "stream",
       "stream": "stdout",
       "text": [
        "\n",
        "Number of agent spaces: 6,754,972\n",
        "Current vacancy = 0.48\n",
        "Target vacancy = 0.49, target of new units = 108,578\n",
        "115,444 feasible buildings before running developer\n",
        "Sum of net units that are profitable: 3,084,889"
       ]
      },
      {
       "output_type": "stream",
       "stream": "stdout",
       "text": [
        "\n",
        "Adding 142 buildings with 119,576 job_spaces"
       ]
      },
      {
       "output_type": "stream",
       "stream": "stdout",
       "text": [
        "\n",
        "115,302 feasible buildings after running developer\n",
        "Unplaced households before: 110397"
       ]
      },
      {
       "output_type": "stream",
       "stream": "stdout",
       "text": [
        "\n",
        "Unplaced households after: 111792"
       ]
      },
      {
       "output_type": "stream",
       "stream": "stdout",
       "text": [
        "\n",
        "Unplaced jobs before: 59730"
       ]
      },
      {
       "output_type": "stream",
       "stream": "stdout",
       "text": [
        "\n",
        "Unplaced jobs after: 63980"
       ]
      },
      {
       "output_type": "stream",
       "stream": "stdout",
       "text": [
        "\n",
        "Time to execute model 'non_residential_developer': 8.73s"
       ]
      },
      {
       "output_type": "stream",
       "stream": "stdout",
       "text": [
        "\n",
        "Running model 'diagnostic_output'\n",
        "Time to execute model 'diagnostic_output': 12.99s"
       ]
      },
      {
       "output_type": "stream",
       "stream": "stdout",
       "text": [
        "\n",
        "Running model 'travel_model_output'\n",
        "Time to execute model 'travel_model_output': 13.01s"
       ]
      },
      {
       "output_type": "stream",
       "stream": "stdout",
       "text": [
        "\n",
        "Running model 'pusher'\n",
        "Time to execute model 'pusher': 0.94s"
       ]
      },
      {
       "output_type": "stream",
       "stream": "stdout",
       "text": [
        "\n",
        "Running model 'clear_cache'\n",
        "Time to execute model 'clear_cache': 0.13s"
       ]
      },
      {
       "output_type": "stream",
       "stream": "stdout",
       "text": [
        "\n",
        "Total time to execute year 2012: 202.83s\n",
        "Finished Wed Sep 24 16:33:51 2014\n"
       ]
      },
      {
       "output_type": "stream",
       "stream": "stderr",
       "text": [
        "/Users/ffoti/anaconda/lib/python2.7/site-packages/pandas/core/frame.py:1686: UserWarning: Boolean Series key will be reindexed to match DataFrame index.\n",
        "  \"DataFrame index.\", UserWarning)\n"
       ]
      }
     ],
     "prompt_number": 3
    },
    {
     "cell_type": "code",
     "collapsed": false,
     "input": [],
     "language": "python",
     "metadata": {},
     "outputs": [],
     "prompt_number": 3
    }
   ],
   "metadata": {}
  }
 ]
}