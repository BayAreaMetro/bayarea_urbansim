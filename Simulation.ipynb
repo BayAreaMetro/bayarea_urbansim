{
 "metadata": {
  "name": "",
  "signature": "sha256:f27941e30630a84e9bc3313a83d43ccee003a2231221f50d2575de12df9bdd90"
 },
 "nbformat": 3,
 "nbformat_minor": 0,
 "worksheets": [
  {
   "cells": [
    {
     "cell_type": "code",
     "collapsed": true,
     "input": [
      "%load_ext autoreload\n",
      "%autoreload 2\n",
      "import models, utils\n",
      "import time\n",
      "import urbansim.sim.simulation as sim"
     ],
     "language": "python",
     "metadata": {},
     "outputs": [],
     "prompt_number": 1
    },
    {
     "cell_type": "code",
     "collapsed": false,
     "input": [
      "sim.run(['build_networks'])"
     ],
     "language": "python",
     "metadata": {},
     "outputs": [
      {
       "output_type": "stream",
       "stream": "stdout",
       "text": [
        "Running model 'build_networks'\n",
        "Time to execute model 'build_networks': 6.72s"
       ]
      },
      {
       "output_type": "stream",
       "stream": "stdout",
       "text": [
        "\n",
        "Total time to execute: 6.73s\n"
       ]
      }
     ]
    },
    {
     "cell_type": "code",
     "collapsed": true,
     "input": [
      "print \"Started\", time.ctime()\n",
      "in_year, out_year = 2010, 2013\n",
      "\n",
      "# one time for base year indicators\n",
      "sim.run([\n",
      "    \"diagnostic_output\",         # create diagnostic indicators\n",
      "    \"travel_model_output\",       # create the output for the travel model\n",
      "], years=[in_year-1])\n",
      "\n",
      "sim.run([\n",
      "    \"neighborhood_vars\",         # accessibility variables\n",
      "\n",
      "    \"rsh_simulate\",              # residential sales hedonic\n",
      "    \"nrh_simulate\",              # non-residential rent hedonic\n",
      "\n",
      "    \"households_relocation\",     # households relocation model\n",
      "    \"hlcmo_simulate\",            # households location choice (owner)\n",
      "    \"hlcmr_simulate\",            # households location choice (renter)\n",
      "    \"households_transition\",     # households transition\n",
      "\n",
      "    \"jobs_relocation\",           # jobs relocation model\n",
      "    \"elcm_simulate\",             # employment location choice\n",
      "    \"jobs_transition\",           # jobs transition\n",
      "\n",
      "    \"price_vars\",                # compute average price measures\n",
      "\n",
      "    \"feasibility\",               # compute development feasibility\n",
      "    \"residential_developer\",     # build residential buildings\n",
      "    \"non_residential_developer\", # build non-residential buildings\n",
      "\n",
      "    \"diagnostic_output\",         # create diagnostic indicators\n",
      "    \"travel_model_output\",       # create the output for the travel model\n",
      "    \"clear_cache\"                # clear the cache each year\n",
      "], years=range(in_year, out_year))\n",
      "print \"Finished\", time.ctime()"
     ],
     "language": "python",
     "metadata": {},
     "outputs": [
      {
       "output_type": "stream",
       "stream": "stdout",
       "text": [
        "Started Tue Sep 23 16:39:04 2014\n",
        "Running year 2009\n",
        "Running model 'diagnostic_output'\n",
        "Filling column building_type_id with value 1.0 (0 values)"
       ]
      },
      {
       "output_type": "stream",
       "stream": "stdout",
       "text": [
        "\n",
        "Filling column residential_units with value 0 (0 values)\n",
        "Filling column year_built with value 1964.0 (233714 values)"
       ]
      },
      {
       "output_type": "stream",
       "stream": "stdout",
       "text": [
        "\n",
        "Filling column non_residential_sqft with value 0 (16531 values)"
       ]
      },
      {
       "output_type": "stream",
       "stream": "stdout",
       "text": [
        "\n",
        "Time to execute model 'diagnostic_output': 32.68s"
       ]
      },
      {
       "output_type": "stream",
       "stream": "stdout",
       "text": [
        "\n",
        "Running model 'travel_model_output'\n",
        "Time to execute model 'travel_model_output': 11.21s"
       ]
      },
      {
       "output_type": "stream",
       "stream": "stdout",
       "text": [
        "\n",
        "Total time to execute year 2009: 43.88s\n",
        "Running year 2010\n",
        "Running model 'neighborhood_vars'\n",
        "Computing accessibility variables\n",
        "Computing sum_residential_units\n",
        "Computing sum_nonresidential_units"
       ]
      },
      {
       "output_type": "stream",
       "stream": "stdout",
       "text": [
        "\n",
        "Computing ave_unit_sqft"
       ]
      }
     ]
    },
    {
     "cell_type": "code",
     "collapsed": false,
     "input": [],
     "language": "python",
     "metadata": {},
     "outputs": []
    }
   ],
   "metadata": {}
  }
 ]
}