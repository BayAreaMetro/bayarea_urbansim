{
 "metadata": {
  "name": "",
  "signature": "sha256:cb7ef5a9c53d110fa6a3ca84371e4cc9c2d2990ef1b408edb3cd3938360a7b23"
 },
 "nbformat": 3,
 "nbformat_minor": 0,
 "worksheets": [
  {
   "cells": [
    {
     "cell_type": "code",
     "collapsed": true,
     "input": [
      "%load_ext autoreload\n",
      "%autoreload 2\n",
      "import models\n",
      "import urbansim.sim.simulation as sim"
     ],
     "language": "python",
     "metadata": {},
     "outputs": [],
     "prompt_number": 1
    },
    {
     "cell_type": "code",
     "collapsed": false,
     "input": [
      "sim.run(['hlcmo_simulate'])"
     ],
     "language": "python",
     "metadata": {},
     "outputs": [
      {
       "output_type": "stream",
       "stream": "stdout",
       "text": [
        "Running model hlcmo_simulate\n",
        "There are 374133 total available units"
       ]
      },
      {
       "output_type": "stream",
       "stream": "stdout",
       "text": [
        "\n",
        "    and 345588 total choosers\n",
        "    but there are 47365 overfull buildings\n",
        "    for a total of 99634 empty units"
       ]
      },
      {
       "output_type": "stream",
       "stream": "stdout",
       "text": [
        "\n",
        "    in 45182 buildings total in the region\n",
        "Running location choice model simulation\n",
        "\n",
        "The following fields are used by this model:"
       ]
      },
      {
       "output_type": "stream",
       "stream": "stdout",
       "text": [
        " ['tenure', 'general_type', 'residential_sales_price', 'unit_sqft', 'sum_residential_units', 'ave_unit_sqft', 'ave_lot_sqft', 'ave_income', 'hhsize', 'jobs', 'sfdu', 'renters', 'poor', 'population', 'building_id', 'income_quartile']\n",
        "\n",
        "Location ratio exceeded: 99634 locations and only 0 choosers\n",
        "  after sampling 0 locations are available\n"
       ]
      },
      {
       "output_type": "stream",
       "stream": "stdout",
       "text": [
        "\n",
        "Assigned 0 choosers to new units\n",
        "Time to execute model = 2.491s\n"
       ]
      }
     ],
     "prompt_number": 4
    },
    {
     "cell_type": "code",
     "collapsed": true,
     "input": [
      "# do some performance checking on to_frame()\n",
      "\n",
      "# make sure accessibility and developer are working\n",
      "\n",
      "# check estimation too"
     ],
     "language": "python",
     "metadata": {},
     "outputs": [],
     "prompt_number": 2
    },
    {
     "cell_type": "code",
     "collapsed": true,
     "input": [
      "years = range(2010, 2011)\n",
      "model_list = [\n",
      "    \"neighborhood_vars\",         # accessibility variables\n",
      "    \"rsh_simulate\",              # residential sales hedonic\n",
      "    \"rrh_simulate\",              # residenital rent hedonic\n",
      "    \"nrh_simulate\",              # non-residential rent hedonic\n",
      "    \"households_relocation\",     # households relocation model\n",
      "    \"hlcmo_simulate\",            # households location choice (owner)\n",
      "    \"hlcmr_simulate\",            # households location choice (renter)\n",
      "    \"households_transition\",     # households transition\n",
      "    \"jobs_relocation\",           # jobs relocation model\n",
      "    \"elcm_simulate\",             # employment location choice\n",
      "    \"jobs_transition\",           # jobs transition\n",
      "    \"price_vars\",                # compute average price measures\n",
      "    \"feasibility\",               # compute development feasibility\n",
      "    \"residential_developer\",     # build residential buildings\n",
      "    \"non_residential_developer\"  # build non-residential buildings\n",
      "]\n",
      "sim.run(model_list, years)"
     ],
     "language": "python",
     "metadata": {},
     "outputs": [
      {
       "output_type": "stream",
       "stream": "stdout",
       "text": [
        "Running year 2010\n",
        "Running model rsh_simulate\n",
        "WARNING: fetching precomputed nodes off of disk"
       ]
      },
      {
       "output_type": "stream",
       "stream": "stdout",
       "text": [
        "\n",
        "Running hedonic simulation\n"
       ]
      },
      {
       "output_type": "stream",
       "stream": "stdout",
       "text": [
        "\n",
        "count    140780.000000\n",
        "mean        313.601182\n",
        "std          69.740775\n",
        "min           0.686964\n",
        "25%         268.465345\n",
        "50%         303.373600\n",
        "75%         349.972524\n",
        "max        1528.951713\n",
        "dtype: float64"
       ]
      },
      {
       "output_type": "stream",
       "stream": "stdout",
       "text": [
        "\n",
        "\n",
        "Running model households_relocation\n",
        "Total agents: 345588"
       ]
      },
      {
       "output_type": "stream",
       "stream": "stdout",
       "text": [
        "\n",
        "Total currently unplaced: 0\n",
        "Assinging for relocation..."
       ]
      },
      {
       "output_type": "stream",
       "stream": "stdout",
       "text": [
        "\n",
        "Total currently unplaced: 17279"
       ]
      },
      {
       "output_type": "stream",
       "stream": "stdout",
       "text": [
        "\n",
        "Running model hlcmo_simulate\n",
        "There are 374133 total available units"
       ]
      },
      {
       "output_type": "stream",
       "stream": "stdout",
       "text": [
        "\n",
        "    and 345588 total choosers\n",
        "    but there are 43034 overfull buildings\n",
        "    for a total of 109428 empty units"
       ]
      },
      {
       "output_type": "stream",
       "stream": "stdout",
       "text": [
        "\n",
        "    in 50944 buildings total in the region\n",
        "Running location choice model simulation\n",
        "\n",
        "Location ratio exceeded: 109428 locations and only 17279 choosers"
       ]
      },
      {
       "output_type": "stream",
       "stream": "stdout",
       "text": [
        "\n",
        "  after sampling 34558 locations are available\n"
       ]
      },
      {
       "output_type": "stream",
       "stream": "stdout",
       "text": [
        "\n",
        "Assigned 6253 choosers to new units"
       ]
      },
      {
       "output_type": "stream",
       "stream": "stdout",
       "text": [
        "\n",
        "Total currently unplaced: 11026"
       ]
      },
      {
       "output_type": "stream",
       "stream": "stdout",
       "text": [
        "\n"
       ]
      }
     ],
     "prompt_number": 3
    },
    {
     "cell_type": "code",
     "collapsed": true,
     "input": [
      "import os\n",
      "from urbansim.utils import misc\n",
      "runnum = misc.get_run_number()\n",
      "dset.save_output(os.path.join(misc.runs_dir(), \"run%d.h5\" % runnum))"
     ],
     "language": "python",
     "metadata": {},
     "outputs": []
    }
   ],
   "metadata": {}
  }
 ]
}