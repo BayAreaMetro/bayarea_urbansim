{
 "metadata": {
  "name": "",
  "signature": "sha256:e56a68f38b3094cf07ac26d83f968ca01f4509756df5d4db8c7668dd4ec452a8"
 },
 "nbformat": 3,
 "nbformat_minor": 0,
 "worksheets": [
  {
   "cells": [
    {
     "cell_type": "code",
     "collapsed": true,
     "input": [
      "%load_ext autoreload\n",
      "%autoreload 2\n",
      "import models, utils\n",
      "import time\n",
      "import urbansim.sim.simulation as sim"
     ],
     "language": "python",
     "metadata": {},
     "outputs": [],
     "prompt_number": 1
    },
    {
     "cell_type": "code",
     "collapsed": false,
     "input": [
      "sim.run(['build_networks'])"
     ],
     "language": "python",
     "metadata": {},
     "outputs": [
      {
       "output_type": "stream",
       "stream": "stdout",
       "text": [
        "Running model 'build_networks'\n",
        "Time to execute model = 9.886s"
       ]
      },
      {
       "output_type": "stream",
       "stream": "stdout",
       "text": [
        "\n",
        "Time to execute year = 9.886s\n"
       ]
      }
     ],
     "prompt_number": 2
    },
    {
     "cell_type": "code",
     "collapsed": true,
     "input": [
      "print \"Started\", time.ctime()\n",
      "sim.run([\n",
      "    \"neighborhood_vars\",         # accessibility variables\n",
      "\n",
      "    \"rsh_simulate\",              # residential sales hedonic\n",
      "    \"rrh_simulate\",              # residenital rent hedonic\n",
      "    \"nrh_simulate\",              # non-residential rent hedonic\n",
      "\n",
      "    \"households_relocation\",     # households relocation model\n",
      "    \"hlcmo_simulate\",            # households location choice (owner)\n",
      "    \"hlcmr_simulate\",            # households location choice (renter)\n",
      "    \"households_transition\",     # households transition\n",
      "\n",
      "    \"jobs_relocation\",           # jobs relocation model\n",
      "    \"elcm_simulate\",             # employment location choice\n",
      "    \"jobs_transition\",           # jobs transition\n",
      "\n",
      "    \"price_vars\",                # compute average price measures\n",
      "\n",
      "    \"feasibility\",               # compute development feasibility\n",
      "    \"residential_developer\",     # build residential buildings\n",
      "    \"non_residential_developer\", # build non-residential buildings\n",
      "    \"clear_cache\"                # clear the cache each year\n",
      "], years=range(2010, 2040), data_out=utils.get_run_filename(), out_interval=10)\n",
      "print \"Finished\", time.ctime()"
     ],
     "language": "python",
     "metadata": {},
     "outputs": [
      {
       "output_type": "stream",
       "stream": "stdout",
       "text": [
        "Started Tue Aug  5 18:41:25 2014\n",
        "Filling column building_type_id with value 1.0 (0 values)"
       ]
      },
      {
       "output_type": "stream",
       "stream": "stdout",
       "text": [
        "\n",
        "Filling column residential_units with value 0 (0 values)"
       ]
      },
      {
       "output_type": "stream",
       "stream": "stdout",
       "text": [
        "\n",
        "Filling column year_built with value 1964.0 (233714 values)"
       ]
      },
      {
       "output_type": "stream",
       "stream": "stdout",
       "text": [
        "\n",
        "Filling column non_residential_sqft with value 0 (16531 values)"
       ]
      },
      {
       "output_type": "stream",
       "stream": "stdout",
       "text": [
        "\n",
        "Running year 2010"
       ]
      },
      {
       "output_type": "stream",
       "stream": "stdout",
       "text": [
        "\n",
        "Running model 'neighborhood_vars'\n",
        "Computing accessibility variables\n",
        "Computing sum_residential_units"
       ]
      },
      {
       "output_type": "stream",
       "stream": "stdout",
       "text": [
        "\n",
        "Computing sum_nonresidential_units"
       ]
      },
      {
       "output_type": "stream",
       "stream": "stdout",
       "text": [
        "\n",
        "Computing ave_unit_sqft"
       ]
      },
      {
       "output_type": "stream",
       "stream": "stdout",
       "text": [
        "\n",
        "Computing ave_lot_sqft"
       ]
      },
      {
       "output_type": "stream",
       "stream": "stdout",
       "text": [
        "\n",
        "Computing population"
       ]
      },
      {
       "output_type": "stream",
       "stream": "stdout",
       "text": [
        "\n",
        "Computing poor"
       ]
      },
      {
       "output_type": "stream",
       "stream": "stdout",
       "text": [
        "\n",
        "Computing renters"
       ]
      },
      {
       "output_type": "stream",
       "stream": "stdout",
       "text": [
        "\n",
        "Computing sfdu"
       ]
      },
      {
       "output_type": "stream",
       "stream": "stdout",
       "text": [
        "\n",
        "Computing hhsize"
       ]
      },
      {
       "output_type": "stream",
       "stream": "stdout",
       "text": [
        "\n",
        "Computing jobs"
       ]
      },
      {
       "output_type": "stream",
       "stream": "stdout",
       "text": [
        "\n",
        "Computing ave_income"
       ]
      },
      {
       "output_type": "stream",
       "stream": "stdout",
       "text": [
        "\n",
        "Time to execute model = 19.107s"
       ]
      },
      {
       "output_type": "stream",
       "stream": "stdout",
       "text": [
        "\n",
        "Running model 'rsh_simulate'\n",
        "count    1796149.000000\n",
        "mean         370.211967\n",
        "std          166.551705\n",
        "min            2.900189\n",
        "25%          268.479588\n",
        "50%          349.782538\n",
        "75%          437.794331\n",
        "max        14050.287976\n",
        "dtype: float64"
       ]
      },
      {
       "output_type": "stream",
       "stream": "stdout",
       "text": [
        "\n",
        "Time to execute model = 4.138s"
       ]
      },
      {
       "output_type": "stream",
       "stream": "stdout",
       "text": [
        "\n",
        "Running model 'rrh_simulate'\n",
        "count    1796149.000000\n",
        "mean           2.947548\n",
        "std            0.503526\n",
        "min            0.442574\n",
        "25%            2.628218\n",
        "50%            2.910269\n",
        "75%            3.224142\n",
        "max           16.073223\n",
        "dtype: float64"
       ]
      },
      {
       "output_type": "stream",
       "stream": "stdout",
       "text": [
        "\n",
        "Time to execute model = 3.112s"
       ]
      },
      {
       "output_type": "stream",
       "stream": "stdout",
       "text": [
        "\n",
        "Running model 'nrh_simulate'\n",
        "count    116797.000000\n",
        "mean         21.076521\n",
        "std           7.019626\n",
        "min           0.401221\n",
        "25%          11.414740\n",
        "50%          23.964668\n",
        "75%          25.799952\n",
        "max          45.021582\n",
        "dtype: float64"
       ]
      },
      {
       "output_type": "stream",
       "stream": "stdout",
       "text": [
        "\n",
        "Time to execute model = 1.786s"
       ]
      },
      {
       "output_type": "stream",
       "stream": "stdout",
       "text": [
        "\n",
        "Running model 'households_relocation'\n",
        "Total agents: 2608023\n",
        "Total currently unplaced: 101"
       ]
      },
      {
       "output_type": "stream",
       "stream": "stdout",
       "text": [
        "\n",
        "Assinging for relocation...\n",
        "Total currently unplaced: 130497"
       ]
      },
      {
       "output_type": "stream",
       "stream": "stdout",
       "text": [
        "\n",
        "Time to execute model = 2.206s\n",
        "Running model 'hlcmo_simulate'\n",
        "There are 2983993 total available units"
       ]
      },
      {
       "output_type": "stream",
       "stream": "stdout",
       "text": [
        "\n",
        "    and 2608023 total choosers\n",
        "    but there are 0 overfull buildings"
       ]
      },
      {
       "output_type": "stream",
       "stream": "stdout",
       "text": [
        "\n",
        "    for a total of 519729 temporarily empty units"
       ]
      },
      {
       "output_type": "stream",
       "stream": "stdout",
       "text": [
        "\n",
        "    in 301214 buildings total in the region\n",
        "Assigned 73037 choosers to new units"
       ]
      },
      {
       "output_type": "stream",
       "stream": "stdout",
       "text": [
        "\n",
        "Total currently unplaced: 57460"
       ]
      },
      {
       "output_type": "stream",
       "stream": "stdout",
       "text": [
        "\n",
        "    and there are now 446692 empty units"
       ]
      },
      {
       "output_type": "stream",
       "stream": "stdout",
       "text": [
        "\n",
        "    and 0 overfull buildings"
       ]
      },
      {
       "output_type": "stream",
       "stream": "stdout",
       "text": [
        "\n",
        "Time to execute model = 11.875s\n",
        "Running model 'hlcmr_simulate'\n",
        "There are 2983993 total available units"
       ]
      },
      {
       "output_type": "stream",
       "stream": "stdout",
       "text": [
        "\n",
        "    and 2608023 total choosers\n",
        "    but there are 0 overfull buildings"
       ]
      },
      {
       "output_type": "stream",
       "stream": "stdout",
       "text": [
        "\n",
        "    for a total of 446692 temporarily empty units"
       ]
      },
      {
       "output_type": "stream",
       "stream": "stdout",
       "text": [
        "\n",
        "    in 268359 buildings total in the region\n",
        "Assigned 57460 choosers to new units"
       ]
      },
      {
       "output_type": "stream",
       "stream": "stdout",
       "text": [
        "\n",
        "Total currently unplaced: 0"
       ]
      },
      {
       "output_type": "stream",
       "stream": "stdout",
       "text": [
        "\n",
        "    and there are now 389232 empty units"
       ]
      },
      {
       "output_type": "stream",
       "stream": "stdout",
       "text": [
        "\n",
        "    and 0 overfull buildings"
       ]
      },
      {
       "output_type": "stream",
       "stream": "stdout",
       "text": [
        "\n",
        "Time to execute model = 10.835s\n",
        "Running model 'households_transition'\n",
        "2608023 agents before transition"
       ]
      },
      {
       "output_type": "stream",
       "stream": "stdout",
       "text": [
        "\n",
        "2738424 agents after transition"
       ]
      },
      {
       "output_type": "stream",
       "stream": "stdout",
       "text": [
        "\n",
        "Time to execute model = 1.152s"
       ]
      },
      {
       "output_type": "stream",
       "stream": "stdout",
       "text": [
        "\n",
        "Running model 'jobs_relocation'\n",
        "Total agents: 4085844\n",
        "Total currently unplaced: 0"
       ]
      },
      {
       "output_type": "stream",
       "stream": "stdout",
       "text": [
        "\n",
        "Assinging for relocation...\n",
        "Total currently unplaced: 204292"
       ]
      },
      {
       "output_type": "stream",
       "stream": "stdout",
       "text": [
        "\n",
        "Time to execute model = 2.426s\n",
        "Running model 'elcm_simulate'\n",
        "There are 6668605 total available units"
       ]
      },
      {
       "output_type": "stream",
       "stream": "stdout",
       "text": [
        "\n",
        "    and 4085844 total choosers\n",
        "    but there are 0 overfull buildings"
       ]
      },
      {
       "output_type": "stream",
       "stream": "stdout",
       "text": [
        "\n",
        "    for a total of 2928338 temporarily empty units"
       ]
      },
      {
       "output_type": "stream",
       "stream": "stdout",
       "text": [
        "\n",
        "    in 113532 buildings total in the region\n",
        "Assigned 204292 choosers to new units"
       ]
      },
      {
       "output_type": "stream",
       "stream": "stdout",
       "text": [
        "\n",
        "Total currently unplaced: 0"
       ]
      },
      {
       "output_type": "stream",
       "stream": "stdout",
       "text": [
        "\n",
        "    and there are now 2724046 empty units"
       ]
      },
      {
       "output_type": "stream",
       "stream": "stdout",
       "text": [
        "\n",
        "    and 0 overfull buildings"
       ]
      },
      {
       "output_type": "stream",
       "stream": "stdout",
       "text": [
        "\n",
        "Time to execute model = 29.420s\n",
        "Running model 'jobs_transition'\n",
        "4085844 agents before transition"
       ]
      },
      {
       "output_type": "stream",
       "stream": "stdout",
       "text": [
        "\n",
        "4290136 agents after transition"
       ]
      },
      {
       "output_type": "stream",
       "stream": "stdout",
       "text": [
        "\n",
        "Time to execute model = 2.216s"
       ]
      },
      {
       "output_type": "stream",
       "stream": "stdout",
       "text": [
        "\n",
        "Running model 'price_vars'\n",
        "Computing accessibility variables\n",
        "Computing residential\n",
        "Computing retail"
       ]
      },
      {
       "output_type": "stream",
       "stream": "stdout",
       "text": [
        "\n",
        "Computing office"
       ]
      },
      {
       "output_type": "stream",
       "stream": "stdout",
       "text": [
        "\n",
        "Computing industrial"
       ]
      },
      {
       "output_type": "stream",
       "stream": "stdout",
       "text": [
        "\n",
        "Time to execute model = 4.296s"
       ]
      },
      {
       "output_type": "stream",
       "stream": "stdout",
       "text": [
        "\n",
        "Running model 'feasibility'\n",
        "Describe of the yearly rent by use"
       ]
      },
      {
       "output_type": "stream",
       "stream": "stdout",
       "text": [
        "\n",
        "               retail      industrial          office     residential\n",
        "count  2023915.000000  2023915.000000  2023915.000000  2023915.000000\n",
        "mean        23.560526        9.550028       23.604780       17.253065\n",
        "std          6.529486        3.286218        5.698171        6.386755\n",
        "min          0.000000        0.000000        0.000000        0.000000\n",
        "25%         22.287020       10.113648       24.412188       13.203070\n",
        "50%         24.603710       10.594790       24.938841       17.089537\n",
        "75%         27.066828       10.971909       25.383635       20.521719\n",
        "max         34.986439       17.485878       42.407494       42.447852\n",
        "\n",
        "[8 rows x 4 columns]"
       ]
      },
      {
       "output_type": "stream",
       "stream": "stdout",
       "text": [
        "\n",
        "Computing feasibility for form mixedoffice\n",
        "Computing feasibility for form industrial"
       ]
      },
      {
       "output_type": "stream",
       "stream": "stdout",
       "text": [
        "\n",
        "Computing feasibility for form office"
       ]
      },
      {
       "output_type": "stream",
       "stream": "stdout",
       "text": [
        "\n",
        "Computing feasibility for form residential"
       ]
      },
      {
       "output_type": "stream",
       "stream": "stdout",
       "text": [
        "\n",
        "Computing feasibility for form mixedresidential"
       ]
      },
      {
       "output_type": "stream",
       "stream": "stdout",
       "text": [
        "\n",
        "Computing feasibility for form retail"
       ]
      },
      {
       "output_type": "stream",
       "stream": "stdout",
       "text": [
        "\n",
        "Time to execute model = 38.462s"
       ]
      },
      {
       "output_type": "stream",
       "stream": "stdout",
       "text": [
        "\n",
        "Running model 'residential_developer'\n",
        "Number of agents: 2,738,424"
       ]
      },
      {
       "output_type": "stream",
       "stream": "stdout",
       "text": [
        "\n",
        "Number of agent spaces: 2,983,993\n",
        "Current vacancy = 0.08\n",
        "Target vacancy = 0.08, target of new units = 0\n",
        "384,871 feasible buildings before running developer\n",
        "Sum of net units that are profitable: 2,971,150"
       ]
      },
      {
       "output_type": "stream",
       "stream": "stdout",
       "text": [
        "\n",
        "Adding 0 buildings with 0 residential_units"
       ]
      },
      {
       "output_type": "stream",
       "stream": "stdout",
       "text": [
        "\n",
        "384,871 feasible buildings after running developer\n",
        "Time to execute model = 6.202s"
       ]
      },
      {
       "output_type": "stream",
       "stream": "stdout",
       "text": [
        "\n",
        "Running model 'non_residential_developer'\n",
        "Number of agents: 4,290,136"
       ]
      },
      {
       "output_type": "stream",
       "stream": "stdout",
       "text": [
        "\n",
        "Number of agent spaces: 6,668,605\n",
        "Current vacancy = 0.36\n",
        "Target vacancy = 0.08, target of new units = 0\n",
        "384,871 feasible buildings before running developer\n",
        "Sum of net units that are profitable: 10,423,374"
       ]
      },
      {
       "output_type": "stream",
       "stream": "stdout",
       "text": [
        "\n",
        "Adding 0 buildings with 0 job_spaces"
       ]
      },
      {
       "output_type": "stream",
       "stream": "stdout",
       "text": [
        "\n",
        "384,871 feasible buildings after running developer\n",
        "Time to execute model = 9.845s"
       ]
      },
      {
       "output_type": "stream",
       "stream": "stdout",
       "text": [
        "\n",
        "Running model 'clear_cache'\n",
        "Time to execute model = 0.015s\n",
        "Time to execute year = 147.099s\n",
        "Running year 2011\n",
        "Running model 'neighborhood_vars'\n",
        "Computing accessibility variables\n",
        "Computing sum_residential_units\n",
        "Computing sum_nonresidential_units"
       ]
      },
      {
       "output_type": "stream",
       "stream": "stdout",
       "text": [
        "\n",
        "Computing ave_unit_sqft"
       ]
      },
      {
       "output_type": "stream",
       "stream": "stdout",
       "text": [
        "\n",
        "Computing ave_lot_sqft"
       ]
      },
      {
       "output_type": "stream",
       "stream": "stdout",
       "text": [
        "\n",
        "Computing population"
       ]
      },
      {
       "output_type": "stream",
       "stream": "stdout",
       "text": [
        "\n",
        "Computing poor"
       ]
      },
      {
       "output_type": "stream",
       "stream": "stdout",
       "text": [
        "\n",
        "Computing renters"
       ]
      },
      {
       "output_type": "stream",
       "stream": "stdout",
       "text": [
        "\n",
        "Computing sfdu"
       ]
      },
      {
       "output_type": "stream",
       "stream": "stdout",
       "text": [
        "\n",
        "Computing hhsize"
       ]
      },
      {
       "output_type": "stream",
       "stream": "stdout",
       "text": [
        "\n",
        "Computing jobs"
       ]
      },
      {
       "output_type": "stream",
       "stream": "stdout",
       "text": [
        "\n",
        "Computing ave_income"
       ]
      },
      {
       "output_type": "stream",
       "stream": "stdout",
       "text": [
        "\n",
        "Time to execute model = 90.697s"
       ]
      },
      {
       "output_type": "stream",
       "stream": "stdout",
       "text": [
        "\n",
        "Running model 'rsh_simulate'\n",
        "count    1796149.000000\n",
        "mean         370.349948\n",
        "std          166.670437\n",
        "min            2.900190\n",
        "25%          268.574408\n",
        "50%          349.847171\n",
        "75%          438.000749\n",
        "max        14085.223452\n",
        "dtype: float64"
       ]
      },
      {
       "output_type": "stream",
       "stream": "stdout",
       "text": [
        "\n",
        "Time to execute model = 25.363s"
       ]
      },
      {
       "output_type": "stream",
       "stream": "stdout",
       "text": [
        "\n",
        "Running model 'rrh_simulate'\n",
        "count    1796149.000000\n",
        "mean           2.940156\n",
        "std            0.503365\n",
        "min            0.441887\n",
        "25%            2.620858\n",
        "50%            2.902582\n",
        "75%            3.216203\n",
        "max           16.138477\n",
        "dtype: float64"
       ]
      },
      {
       "output_type": "stream",
       "stream": "stdout",
       "text": [
        "\n",
        "Time to execute model = 2.893s"
       ]
      },
      {
       "output_type": "stream",
       "stream": "stdout",
       "text": [
        "\n",
        "Running model 'nrh_simulate'\n",
        "count    116797.000000\n",
        "mean         21.073053\n",
        "std           7.020709\n",
        "min           0.401221\n",
        "25%          11.415625\n",
        "50%          23.949556\n",
        "75%          25.797478\n",
        "max          45.088984\n",
        "dtype: float64"
       ]
      },
      {
       "output_type": "stream",
       "stream": "stdout",
       "text": [
        "\n",
        "Time to execute model = 1.547s\n",
        "Running model 'households_relocation'\n",
        "Total agents: 2738424\n",
        "Total currently unplaced: 130401"
       ]
      },
      {
       "output_type": "stream",
       "stream": "stdout",
       "text": [
        "\n",
        "Assinging for relocation...\n",
        "Total currently unplaced: 260873"
       ]
      },
      {
       "output_type": "stream",
       "stream": "stdout",
       "text": [
        "\n",
        "Time to execute model = 2.156s\n",
        "Running model 'hlcmo_simulate'\n",
        "There are 2983993 total available units"
       ]
      },
      {
       "output_type": "stream",
       "stream": "stdout",
       "text": [
        "\n",
        "    and 2738424 total choosers\n",
        "    but there are 0 overfull buildings"
       ]
      },
      {
       "output_type": "stream",
       "stream": "stdout",
       "text": [
        "\n",
        "    for a total of 519051 temporarily empty units"
       ]
      },
      {
       "output_type": "stream",
       "stream": "stdout",
       "text": [
        "\n",
        "    in 342909 buildings total in the region\n",
        "Assigned 146925 choosers to new units"
       ]
      },
      {
       "output_type": "stream",
       "stream": "stdout",
       "text": [
        "\n",
        "Total currently unplaced: 113948"
       ]
      },
      {
       "output_type": "stream",
       "stream": "stdout",
       "text": [
        "\n",
        "    and there are now 372126 empty units"
       ]
      },
      {
       "output_type": "stream",
       "stream": "stdout",
       "text": [
        "\n",
        "    and 0 overfull buildings"
       ]
      },
      {
       "output_type": "stream",
       "stream": "stdout",
       "text": [
        "\n",
        "Time to execute model = 12.815s\n",
        "Running model 'hlcmr_simulate'\n",
        "There are 2983993 total available units"
       ]
      },
      {
       "output_type": "stream",
       "stream": "stdout",
       "text": [
        "\n",
        "    and 2738424 total choosers\n",
        "    but there are 0 overfull buildings"
       ]
      },
      {
       "output_type": "stream",
       "stream": "stdout",
       "text": [
        "\n",
        "    for a total of 372126 temporarily empty units"
       ]
      },
      {
       "output_type": "stream",
       "stream": "stdout",
       "text": [
        "\n",
        "    in 264833 buildings total in the region\n",
        "Assigned 113948 choosers to new units"
       ]
      },
      {
       "output_type": "stream",
       "stream": "stdout",
       "text": [
        "\n",
        "Total currently unplaced: 0"
       ]
      },
      {
       "output_type": "stream",
       "stream": "stdout",
       "text": [
        "\n",
        "    and there are now 258178 empty units"
       ]
      },
      {
       "output_type": "stream",
       "stream": "stdout",
       "text": [
        "\n",
        "    and 0 overfull buildings"
       ]
      },
      {
       "output_type": "stream",
       "stream": "stdout",
       "text": [
        "\n",
        "Time to execute model = 10.532s\n",
        "Running model 'households_transition'\n",
        "2738424 agents before transition"
       ]
      },
      {
       "output_type": "stream",
       "stream": "stdout",
       "text": [
        "\n",
        "2875345 agents after transition"
       ]
      },
      {
       "output_type": "stream",
       "stream": "stdout",
       "text": [
        "\n",
        "Time to execute model = 1.192s"
       ]
      },
      {
       "output_type": "stream",
       "stream": "stdout",
       "text": [
        "\n",
        "Running model 'jobs_relocation'\n",
        "Total agents: 4290136\n",
        "Total currently unplaced: 204292"
       ]
      },
      {
       "output_type": "stream",
       "stream": "stdout",
       "text": [
        "\n",
        "Assinging for relocation...\n",
        "Total currently unplaced: 408602"
       ]
      },
      {
       "output_type": "stream",
       "stream": "stdout",
       "text": [
        "\n",
        "Time to execute model = 2.105s\n",
        "Running model 'elcm_simulate'\n",
        "There are 6668605 total available units"
       ]
      },
      {
       "output_type": "stream",
       "stream": "stdout",
       "text": [
        "\n",
        "    and 4290136 total choosers\n",
        "    but there are 0 overfull buildings"
       ]
      },
      {
       "output_type": "stream",
       "stream": "stdout",
       "text": [
        "\n",
        "    for a total of 2921232 temporarily empty units"
       ]
      },
      {
       "output_type": "stream",
       "stream": "stdout",
       "text": [
        "\n",
        "    in 141754 buildings total in the region\n",
        "Assigned 408602 choosers to new units"
       ]
      },
      {
       "output_type": "stream",
       "stream": "stdout",
       "text": [
        "\n",
        "Total currently unplaced: 0"
       ]
      },
      {
       "output_type": "stream",
       "stream": "stdout",
       "text": [
        "\n",
        "    and there are now 2512630 empty units"
       ]
      },
      {
       "output_type": "stream",
       "stream": "stdout",
       "text": [
        "\n",
        "    and 0 overfull buildings"
       ]
      },
      {
       "output_type": "stream",
       "stream": "stdout",
       "text": [
        "\n",
        "Time to execute model = 42.218s\n",
        "Running model 'jobs_transition'\n",
        "4290136 agents before transition"
       ]
      },
      {
       "output_type": "stream",
       "stream": "stdout",
       "text": [
        "\n",
        "4504643 agents after transition"
       ]
      },
      {
       "output_type": "stream",
       "stream": "stdout",
       "text": [
        "\n",
        "Time to execute model = 2.282s"
       ]
      },
      {
       "output_type": "stream",
       "stream": "stdout",
       "text": [
        "\n",
        "Running model 'price_vars'\n",
        "Computing accessibility variables\n",
        "Computing residential\n",
        "Computing retail"
       ]
      },
      {
       "output_type": "stream",
       "stream": "stdout",
       "text": [
        "\n",
        "Computing office"
       ]
      },
      {
       "output_type": "stream",
       "stream": "stdout",
       "text": [
        "\n",
        "Computing industrial"
       ]
      },
      {
       "output_type": "stream",
       "stream": "stdout",
       "text": [
        "\n",
        "Time to execute model = 3.690s"
       ]
      },
      {
       "output_type": "stream",
       "stream": "stdout",
       "text": [
        "\n",
        "Running model 'feasibility'\n",
        "Describe of the yearly rent by use"
       ]
      },
      {
       "output_type": "stream",
       "stream": "stdout",
       "text": [
        "\n",
        "               retail      industrial          office     residential\n",
        "count  2023915.000000  2023915.000000  2023915.000000  2023915.000000\n",
        "mean        23.512076        9.540937       23.588987       17.259508\n",
        "std          6.518613        3.283290        5.693733        6.389209\n",
        "min          0.000000        0.000000        0.000000        0.000000\n",
        "25%         22.231117       10.104608       24.396250       13.208078\n",
        "50%         24.566650       10.584360       24.920507       17.087787\n",
        "75%         27.002609       10.959348       25.366987       20.525928\n",
        "max         35.589966       17.506956       42.603500       42.429565\n",
        "\n",
        "[8 rows x 4 columns]"
       ]
      },
      {
       "output_type": "stream",
       "stream": "stdout",
       "text": [
        "\n",
        "Computing feasibility for form mixedoffice\n",
        "Computing feasibility for form industrial"
       ]
      },
      {
       "output_type": "stream",
       "stream": "stdout",
       "text": [
        "\n",
        "Computing feasibility for form office"
       ]
      },
      {
       "output_type": "stream",
       "stream": "stdout",
       "text": [
        "\n",
        "Computing feasibility for form residential"
       ]
      },
      {
       "output_type": "stream",
       "stream": "stdout",
       "text": [
        "\n",
        "Computing feasibility for form mixedresidential"
       ]
      },
      {
       "output_type": "stream",
       "stream": "stdout",
       "text": [
        "\n",
        "Computing feasibility for form retail"
       ]
      },
      {
       "output_type": "stream",
       "stream": "stdout",
       "text": [
        "\n",
        "Time to execute model = 43.715s"
       ]
      },
      {
       "output_type": "stream",
       "stream": "stdout",
       "text": [
        "\n",
        "Running model 'residential_developer'\n",
        "Number of agents: 2,875,345"
       ]
      },
      {
       "output_type": "stream",
       "stream": "stdout",
       "text": [
        "\n",
        "Number of agent spaces: 2,983,993\n",
        "Current vacancy = 0.04\n",
        "Target vacancy = 0.08, target of new units = 141,382\n",
        "384,122 feasible buildings before running developer\n",
        "Sum of net units that are profitable: 2,974,876"
       ]
      },
      {
       "output_type": "stream",
       "stream": "stdout",
       "text": [
        "\n",
        "Adding 1,368 buildings with 146,779 residential_units"
       ]
      },
      {
       "output_type": "stream",
       "stream": "stdout",
       "text": [
        "\n",
        "382,754 feasible buildings after running developer\n",
        "Time to execute model = 6.136s"
       ]
      },
      {
       "output_type": "stream",
       "stream": "stdout",
       "text": [
        "\n",
        "Running model 'non_residential_developer'\n",
        "Number of agents: 4,504,643"
       ]
      },
      {
       "output_type": "stream",
       "stream": "stdout",
       "text": [
        "\n",
        "Number of agent spaces: 6,668,605\n",
        "Current vacancy = 0.32\n",
        "Target vacancy = 0.08, target of new units = 0\n",
        "382,754 feasible buildings before running developer\n",
        "Sum of net units that are profitable: 10,273,561"
       ]
      },
      {
       "output_type": "stream",
       "stream": "stdout",
       "text": [
        "\n",
        "Adding 0 buildings with 0 job_spaces"
       ]
      },
      {
       "output_type": "stream",
       "stream": "stdout",
       "text": [
        "\n",
        "382,754 feasible buildings after running developer\n",
        "Time to execute model = 10.050s"
       ]
      },
      {
       "output_type": "stream",
       "stream": "stdout",
       "text": [
        "\n",
        "Running model 'clear_cache'\n",
        "Time to execute model = 0.015s\n",
        "Time to execute year = 257.411s\n",
        "Running year 2012\n",
        "Running model 'neighborhood_vars'\n",
        "Computing accessibility variables\n",
        "Computing sum_residential_units\n",
        "Computing sum_nonresidential_units"
       ]
      },
      {
       "output_type": "stream",
       "stream": "stdout",
       "text": [
        "\n",
        "Computing ave_unit_sqft"
       ]
      },
      {
       "output_type": "stream",
       "stream": "stdout",
       "text": [
        "\n",
        "Computing ave_lot_sqft"
       ]
      },
      {
       "output_type": "stream",
       "stream": "stdout",
       "text": [
        "\n",
        "Computing population"
       ]
      },
      {
       "output_type": "stream",
       "stream": "stdout",
       "text": [
        "\n",
        "Computing poor"
       ]
      },
      {
       "output_type": "stream",
       "stream": "stdout",
       "text": [
        "\n",
        "Computing renters"
       ]
      },
      {
       "output_type": "stream",
       "stream": "stdout",
       "text": [
        "\n",
        "Computing sfdu"
       ]
      },
      {
       "output_type": "stream",
       "stream": "stdout",
       "text": [
        "\n",
        "Computing hhsize"
       ]
      },
      {
       "output_type": "stream",
       "stream": "stdout",
       "text": [
        "\n",
        "Computing jobs"
       ]
      },
      {
       "output_type": "stream",
       "stream": "stdout",
       "text": [
        "\n",
        "Computing ave_income"
       ]
      },
      {
       "output_type": "stream",
       "stream": "stdout",
       "text": [
        "\n",
        "Time to execute model = 92.181s"
       ]
      },
      {
       "output_type": "stream",
       "stream": "stdout",
       "text": [
        "\n",
        "Running model 'rsh_simulate'\n",
        "count    1797517.000000\n",
        "mean         371.886793\n",
        "std          168.498931\n",
        "min            2.900190\n",
        "25%          268.916434\n",
        "50%          350.488782\n",
        "75%          439.818084\n",
        "max        14394.814718\n",
        "dtype: float64"
       ]
      },
      {
       "output_type": "stream",
       "stream": "stdout",
       "text": [
        "\n",
        "Time to execute model = 25.172s"
       ]
      },
      {
       "output_type": "stream",
       "stream": "stdout",
       "text": [
        "\n",
        "Running model 'rrh_simulate'\n",
        "count    1797517.000000\n",
        "mean           2.935831\n",
        "std            0.503831\n",
        "min            0.441887\n",
        "25%            2.616384\n",
        "50%            2.897969\n",
        "75%            3.211373\n",
        "max           16.226597\n",
        "dtype: float64"
       ]
      },
      {
       "output_type": "stream",
       "stream": "stdout",
       "text": [
        "\n",
        "Time to execute model = 2.835s"
       ]
      },
      {
       "output_type": "stream",
       "stream": "stdout",
       "text": [
        "\n",
        "Running model 'nrh_simulate'\n",
        "count    116797.000000\n",
        "mean         21.127014\n",
        "std           7.059692\n",
        "min           0.401221\n",
        "25%          11.435472\n",
        "50%          23.976078\n",
        "75%          25.821778\n",
        "max          45.239529\n",
        "dtype: float64"
       ]
      },
      {
       "output_type": "stream",
       "stream": "stdout",
       "text": [
        "\n",
        "Time to execute model = 1.528s\n",
        "Running model 'households_relocation'\n",
        "Total agents: 2875345\n",
        "Total currently unplaced: 136921"
       ]
      },
      {
       "output_type": "stream",
       "stream": "stdout",
       "text": [
        "\n",
        "Assinging for relocation...\n",
        "Total currently unplaced: 273913"
       ]
      },
      {
       "output_type": "stream",
       "stream": "stdout",
       "text": [
        "\n",
        "Time to execute model = 2.250s\n",
        "Running model 'hlcmo_simulate'\n",
        "There are 3130772 total available units"
       ]
      },
      {
       "output_type": "stream",
       "stream": "stdout",
       "text": [
        "\n",
        "    and 2875345 total choosers\n",
        "    but there are 18 overfull buildings"
       ]
      },
      {
       "output_type": "stream",
       "stream": "stdout",
       "text": [
        "\n",
        "    for a total of 539908 temporarily empty units"
       ]
      },
      {
       "output_type": "stream",
       "stream": "stdout",
       "text": [
        "\n",
        "    in 303109 buildings total in the region\n",
        "Assigned 153872 choosers to new units"
       ]
      },
      {
       "output_type": "stream",
       "stream": "stdout",
       "text": [
        "\n",
        "Total currently unplaced: 120041"
       ]
      },
      {
       "output_type": "stream",
       "stream": "stdout",
       "text": [
        "\n",
        "    and there are now 384549 empty units"
       ]
      },
      {
       "output_type": "stream",
       "stream": "stdout",
       "text": [
        "\n",
        "    and 18 overfull buildings"
       ]
      },
      {
       "output_type": "stream",
       "stream": "stdout",
       "text": [
        "\n",
        "Time to execute model = 12.940s\n",
        "Running model 'hlcmr_simulate'\n",
        "There are 3130772 total available units"
       ]
      },
      {
       "output_type": "stream",
       "stream": "stdout",
       "text": [
        "\n",
        "    and 2875345 total choosers\n",
        "    but there are 18 overfull buildings"
       ]
      },
      {
       "output_type": "stream",
       "stream": "stdout",
       "text": [
        "\n",
        "    for a total of 386036 temporarily empty units"
       ]
      },
      {
       "output_type": "stream",
       "stream": "stdout",
       "text": [
        "\n",
        "    in 226007 buildings total in the region\n",
        "Assigned 120041 choosers to new units"
       ]
      },
      {
       "output_type": "stream",
       "stream": "stdout",
       "text": [
        "\n",
        "Total currently unplaced: 0"
       ]
      },
      {
       "output_type": "stream",
       "stream": "stdout",
       "text": [
        "\n",
        "    and there are now 264508 empty units"
       ]
      },
      {
       "output_type": "stream",
       "stream": "stdout",
       "text": [
        "\n",
        "    and 18 overfull buildings"
       ]
      },
      {
       "output_type": "stream",
       "stream": "stdout",
       "text": [
        "\n",
        "Time to execute model = 10.652s\n",
        "Running model 'households_transition'\n",
        "2875345 agents before transition"
       ]
      },
      {
       "output_type": "stream",
       "stream": "stdout",
       "text": [
        "\n",
        "3019112 agents after transition"
       ]
      },
      {
       "output_type": "stream",
       "stream": "stdout",
       "text": [
        "\n",
        "Time to execute model = 1.291s"
       ]
      },
      {
       "output_type": "stream",
       "stream": "stdout",
       "text": [
        "\n",
        "Running model 'jobs_relocation'\n",
        "Total agents: 4504643\n",
        "Total currently unplaced: 214507"
       ]
      },
      {
       "output_type": "stream",
       "stream": "stdout",
       "text": [
        "\n",
        "Assinging for relocation...\n",
        "Total currently unplaced: 429016"
       ]
      },
      {
       "output_type": "stream",
       "stream": "stdout",
       "text": [
        "\n",
        "Time to execute model = 2.196s\n",
        "Running model 'elcm_simulate'\n",
        "There are 6668605 total available units"
       ]
      },
      {
       "output_type": "stream",
       "stream": "stdout",
       "text": [
        "\n",
        "    and 4504643 total choosers\n",
        "    but there are 0 overfull buildings"
       ]
      },
      {
       "output_type": "stream",
       "stream": "stdout",
       "text": [
        "\n",
        "    for a total of 2720272 temporarily empty units"
       ]
      },
      {
       "output_type": "stream",
       "stream": "stdout",
       "text": [
        "\n",
        "    in 161981 buildings total in the region\n",
        "Assigned 429016 choosers to new units"
       ]
      },
      {
       "output_type": "stream",
       "stream": "stdout",
       "text": [
        "\n",
        "Total currently unplaced: 0"
       ]
      },
      {
       "output_type": "stream",
       "stream": "stdout",
       "text": [
        "\n",
        "    and there are now 2291256 empty units"
       ]
      },
      {
       "output_type": "stream",
       "stream": "stdout",
       "text": [
        "\n",
        "    and 0 overfull buildings"
       ]
      },
      {
       "output_type": "stream",
       "stream": "stdout",
       "text": [
        "\n",
        "Time to execute model = 43.486s\n",
        "Running model 'jobs_transition'\n",
        "4504643 agents before transition"
       ]
      },
      {
       "output_type": "stream",
       "stream": "stdout",
       "text": [
        "\n",
        "4729875 agents after transition"
       ]
      },
      {
       "output_type": "stream",
       "stream": "stdout",
       "text": [
        "\n",
        "Time to execute model = 2.436s"
       ]
      },
      {
       "output_type": "stream",
       "stream": "stdout",
       "text": [
        "\n",
        "Running model 'price_vars'\n",
        "Computing accessibility variables\n",
        "Computing residential\n",
        "Computing retail"
       ]
      },
      {
       "output_type": "stream",
       "stream": "stdout",
       "text": [
        "\n",
        "Computing office"
       ]
      },
      {
       "output_type": "stream",
       "stream": "stdout",
       "text": [
        "\n",
        "Computing industrial"
       ]
      },
      {
       "output_type": "stream",
       "stream": "stdout",
       "text": [
        "\n",
        "Time to execute model = 3.738s"
       ]
      },
      {
       "output_type": "stream",
       "stream": "stdout",
       "text": [
        "\n",
        "Running model 'feasibility'\n",
        "Describe of the yearly rent by use"
       ]
      },
      {
       "output_type": "stream",
       "stream": "stdout",
       "text": [
        "\n",
        "               retail      industrial          office     residential\n",
        "count  2023915.000000  2023915.000000  2023915.000000  2023915.000000\n",
        "mean        23.543844        9.540207       23.584282       17.323585\n",
        "std          6.537831        3.283633        5.693036        6.456389\n",
        "min          0.000000        0.000000        0.000000        0.000000\n",
        "25%         22.244516       10.094963       24.391708       13.221005\n",
        "50%         24.609051       10.578794       24.912424       17.103093\n",
        "75%         27.027250       10.958575       25.359846       20.600130\n",
        "max         36.410408       17.592512       42.847656       42.586319\n",
        "\n",
        "[8 rows x 4 columns]"
       ]
      },
      {
       "output_type": "stream",
       "stream": "stdout",
       "text": [
        "\n",
        "Computing feasibility for form mixedoffice\n",
        "Computing feasibility for form industrial"
       ]
      },
      {
       "output_type": "stream",
       "stream": "stdout",
       "text": [
        "\n",
        "Computing feasibility for form office"
       ]
      },
      {
       "output_type": "stream",
       "stream": "stdout",
       "text": [
        "\n",
        "Computing feasibility for form residential"
       ]
      },
      {
       "output_type": "stream",
       "stream": "stdout",
       "text": [
        "\n",
        "Computing feasibility for form mixedresidential"
       ]
      },
      {
       "output_type": "stream",
       "stream": "stdout",
       "text": [
        "\n",
        "Computing feasibility for form retail"
       ]
      },
      {
       "output_type": "stream",
       "stream": "stdout",
       "text": [
        "\n",
        "Time to execute model = 43.924s"
       ]
      },
      {
       "output_type": "stream",
       "stream": "stdout",
       "text": [
        "\n",
        "Running model 'residential_developer'\n",
        "Number of agents: 3,019,112"
       ]
      },
      {
       "output_type": "stream",
       "stream": "stdout",
       "text": [
        "\n",
        "Number of agent spaces: 3,130,772\n",
        "Current vacancy = 0.04\n",
        "Target vacancy = 0.08, target of new units = 150,871\n",
        "382,241 feasible buildings before running developer\n",
        "Sum of net units that are profitable: 2,898,931"
       ]
      },
      {
       "output_type": "stream",
       "stream": "stdout",
       "text": [
        "\n",
        "Adding 1,624 buildings with 156,452 residential_units"
       ]
      },
      {
       "output_type": "stream",
       "stream": "stdout",
       "text": [
        "\n",
        "380,617 feasible buildings after running developer\n",
        "Time to execute model = 6.073s"
       ]
      },
      {
       "output_type": "stream",
       "stream": "stdout",
       "text": [
        "\n",
        "Running model 'non_residential_developer'\n",
        "Number of agents: 4,729,875"
       ]
      },
      {
       "output_type": "stream",
       "stream": "stdout",
       "text": [
        "\n",
        "Number of agent spaces: 6,668,605\n",
        "Current vacancy = 0.29\n",
        "Target vacancy = 0.08, target of new units = 0\n",
        "380,617 feasible buildings before running developer\n",
        "Sum of net units that are profitable: 10,104,136"
       ]
      },
      {
       "output_type": "stream",
       "stream": "stdout",
       "text": [
        "\n",
        "Adding 0 buildings with 0 job_spaces"
       ]
      },
      {
       "output_type": "stream",
       "stream": "stdout",
       "text": [
        "\n",
        "380,617 feasible buildings after running developer\n",
        "Time to execute model = 9.982s"
       ]
      },
      {
       "output_type": "stream",
       "stream": "stdout",
       "text": [
        "\n",
        "Running model 'clear_cache'\n",
        "Time to execute model = 0.014s\n",
        "Time to execute year = 260.702s\n",
        "Running year 2013\n",
        "Running model 'neighborhood_vars'\n",
        "Computing accessibility variables\n",
        "Computing sum_residential_units\n",
        "Computing sum_nonresidential_units"
       ]
      },
      {
       "output_type": "stream",
       "stream": "stdout",
       "text": [
        "\n",
        "Computing ave_unit_sqft"
       ]
      },
      {
       "output_type": "stream",
       "stream": "stdout",
       "text": [
        "\n",
        "Computing ave_lot_sqft"
       ]
      },
      {
       "output_type": "stream",
       "stream": "stdout",
       "text": [
        "\n",
        "Computing population"
       ]
      },
      {
       "output_type": "stream",
       "stream": "stdout",
       "text": [
        "\n",
        "Computing poor"
       ]
      },
      {
       "output_type": "stream",
       "stream": "stdout",
       "text": [
        "\n",
        "Computing renters"
       ]
      },
      {
       "output_type": "stream",
       "stream": "stdout",
       "text": [
        "\n",
        "Computing sfdu"
       ]
      },
      {
       "output_type": "stream",
       "stream": "stdout",
       "text": [
        "\n",
        "Computing hhsize"
       ]
      },
      {
       "output_type": "stream",
       "stream": "stdout",
       "text": [
        "\n",
        "Computing jobs"
       ]
      },
      {
       "output_type": "stream",
       "stream": "stdout",
       "text": [
        "\n",
        "Computing ave_income"
       ]
      },
      {
       "output_type": "stream",
       "stream": "stdout",
       "text": [
        "\n",
        "Time to execute model = 95.379s"
       ]
      },
      {
       "output_type": "stream",
       "stream": "stdout",
       "text": [
        "\n",
        "Running model 'rsh_simulate'\n",
        "count    1799141.000000\n",
        "mean         373.614513\n",
        "std          170.444670\n",
        "min            2.938175\n",
        "25%          269.306603\n",
        "50%          351.239782\n",
        "75%          441.566441\n",
        "max        14564.244259\n",
        "dtype: float64"
       ]
      },
      {
       "output_type": "stream",
       "stream": "stdout",
       "text": [
        "\n",
        "Time to execute model = 25.201s"
       ]
      },
      {
       "output_type": "stream",
       "stream": "stdout",
       "text": [
        "\n",
        "Running model 'rrh_simulate'\n",
        "count    1799141.000000\n",
        "mean           2.933721\n",
        "std            0.505072\n",
        "min            0.440858\n",
        "25%            2.613087\n",
        "50%            2.895476\n",
        "75%            3.209537\n",
        "max           16.350558\n",
        "dtype: float64"
       ]
      },
      {
       "output_type": "stream",
       "stream": "stdout",
       "text": [
        "\n",
        "Time to execute model = 2.929s"
       ]
      },
      {
       "output_type": "stream",
       "stream": "stdout",
       "text": [
        "\n",
        "Running model 'nrh_simulate'\n",
        "count    116797.000000\n",
        "mean         21.195067\n",
        "std           7.111756\n",
        "min           0.401221\n",
        "25%          11.451700\n",
        "50%          24.029076\n",
        "75%          25.862724\n",
        "max          45.334352\n",
        "dtype: float64"
       ]
      },
      {
       "output_type": "stream",
       "stream": "stdout",
       "text": [
        "\n",
        "Time to execute model = 1.554s\n",
        "Running model 'households_relocation'\n",
        "Total agents: 3019112\n",
        "Total currently unplaced: 143767"
       ]
      },
      {
       "output_type": "stream",
       "stream": "stdout",
       "text": [
        "\n",
        "Assinging for relocation...\n",
        "Total currently unplaced: 287587"
       ]
      },
      {
       "output_type": "stream",
       "stream": "stdout",
       "text": [
        "\n",
        "Time to execute model = 2.329s\n",
        "Running model 'hlcmo_simulate'\n",
        "There are 3287224 total available units"
       ]
      },
      {
       "output_type": "stream",
       "stream": "stdout",
       "text": [
        "\n",
        "    and 3019112 total choosers\n",
        "    but there are 35 overfull buildings"
       ]
      },
      {
       "output_type": "stream",
       "stream": "stdout",
       "text": [
        "\n",
        "    for a total of 564282 temporarily empty units"
       ]
      },
      {
       "output_type": "stream",
       "stream": "stdout",
       "text": [
        "\n",
        "    in 281798 buildings total in the region\n",
        "Assigned 161943 choosers to new units"
       ]
      },
      {
       "output_type": "stream",
       "stream": "stdout",
       "text": [
        "\n",
        "Total currently unplaced: 125644"
       ]
      },
      {
       "output_type": "stream",
       "stream": "stdout",
       "text": [
        "\n",
        "    and there are now 399966 empty units"
       ]
      },
      {
       "output_type": "stream",
       "stream": "stdout",
       "text": [
        "\n",
        "    and 35 overfull buildings"
       ]
      },
      {
       "output_type": "stream",
       "stream": "stdout",
       "text": [
        "\n",
        "Time to execute model = 13.176s\n",
        "Running model 'hlcmr_simulate'\n",
        "There are 3287224 total available units"
       ]
      },
      {
       "output_type": "stream",
       "stream": "stdout",
       "text": [
        "\n",
        "    and 3019112 total choosers\n",
        "    but there are 35 overfull buildings"
       ]
      },
      {
       "output_type": "stream",
       "stream": "stdout",
       "text": [
        "\n",
        "    for a total of 402339 temporarily empty units"
       ]
      },
      {
       "output_type": "stream",
       "stream": "stdout",
       "text": [
        "\n",
        "    in 208804 buildings total in the region\n",
        "Assigned 125644 choosers to new units"
       ]
      },
      {
       "output_type": "stream",
       "stream": "stdout",
       "text": [
        "\n",
        "Total currently unplaced: 0"
       ]
      },
      {
       "output_type": "stream",
       "stream": "stdout",
       "text": [
        "\n",
        "    and there are now 274322 empty units"
       ]
      },
      {
       "output_type": "stream",
       "stream": "stdout",
       "text": [
        "\n",
        "    and 35 overfull buildings"
       ]
      },
      {
       "output_type": "stream",
       "stream": "stdout",
       "text": [
        "\n",
        "Time to execute model = 10.820s\n",
        "Running model 'households_transition'\n",
        "3019112 agents before transition"
       ]
      },
      {
       "output_type": "stream",
       "stream": "stdout",
       "text": [
        "\n",
        "3170068 agents after transition"
       ]
      },
      {
       "output_type": "stream",
       "stream": "stdout",
       "text": [
        "\n",
        "Time to execute model = 1.289s"
       ]
      },
      {
       "output_type": "stream",
       "stream": "stdout",
       "text": [
        "\n",
        "Running model 'jobs_relocation'\n",
        "Total agents: 4729875\n",
        "Total currently unplaced: 225232"
       ]
      },
      {
       "output_type": "stream",
       "stream": "stdout",
       "text": [
        "\n",
        "Assinging for relocation...\n",
        "Total currently unplaced: 450375"
       ]
      },
      {
       "output_type": "stream",
       "stream": "stdout",
       "text": [
        "\n",
        "Time to execute model = 2.325s\n",
        "Running model 'elcm_simulate'\n",
        "There are 6668605 total available units"
       ]
      },
      {
       "output_type": "stream",
       "stream": "stdout",
       "text": [
        "\n",
        "    and 4729875 total choosers\n",
        "    but there are 0 overfull buildings"
       ]
      },
      {
       "output_type": "stream",
       "stream": "stdout",
       "text": [
        "\n",
        "    for a total of 2509992 temporarily empty units"
       ]
      },
      {
       "output_type": "stream",
       "stream": "stdout",
       "text": [
        "\n",
        "    in 177606 buildings total in the region\n",
        "Assigned 450375 choosers to new units"
       ]
      },
      {
       "output_type": "stream",
       "stream": "stdout",
       "text": [
        "\n",
        "Total currently unplaced: 0"
       ]
      },
      {
       "output_type": "stream",
       "stream": "stdout",
       "text": [
        "\n",
        "    and there are now 2059617 empty units"
       ]
      },
      {
       "output_type": "stream",
       "stream": "stdout",
       "text": [
        "\n",
        "    and 0 overfull buildings"
       ]
      },
      {
       "output_type": "stream",
       "stream": "stdout",
       "text": [
        "\n",
        "Time to execute model = 44.234s\n",
        "Running model 'jobs_transition'\n",
        "4729875 agents before transition"
       ]
      },
      {
       "output_type": "stream",
       "stream": "stdout",
       "text": [
        "\n",
        "4966369 agents after transition"
       ]
      },
      {
       "output_type": "stream",
       "stream": "stdout",
       "text": [
        "\n",
        "Time to execute model = 3.183s"
       ]
      },
      {
       "output_type": "stream",
       "stream": "stdout",
       "text": [
        "\n",
        "Running model 'price_vars'\n",
        "Computing accessibility variables\n",
        "Computing residential\n",
        "Computing retail"
       ]
      },
      {
       "output_type": "stream",
       "stream": "stdout",
       "text": [
        "\n",
        "Computing office"
       ]
      },
      {
       "output_type": "stream",
       "stream": "stdout",
       "text": [
        "\n",
        "Computing industrial"
       ]
      },
      {
       "output_type": "stream",
       "stream": "stdout",
       "text": [
        "\n",
        "Time to execute model = 3.751s"
       ]
      },
      {
       "output_type": "stream",
       "stream": "stdout",
       "text": [
        "\n",
        "Running model 'feasibility'\n",
        "Describe of the yearly rent by use"
       ]
      },
      {
       "output_type": "stream",
       "stream": "stdout",
       "text": [
        "\n",
        "               retail      industrial          office     residential\n",
        "count  2023915.000000  2023915.000000  2023915.000000  2023915.000000\n",
        "mean        23.620371        9.540645       23.580076       17.395819\n",
        "std          6.568928        3.284244        5.691992        6.530012\n",
        "min          0.000000        0.000000        0.000000        0.000000\n",
        "25%         22.326897       10.092799       24.386097       13.238605\n",
        "50%         24.661390       10.578074       24.905401       17.130501\n",
        "75%         27.090082       10.960747       25.356838       20.679309\n",
        "max         36.935181       17.656382       43.009346       42.698013\n",
        "\n",
        "[8 rows x 4 columns]"
       ]
      },
      {
       "output_type": "stream",
       "stream": "stdout",
       "text": [
        "\n",
        "Computing feasibility for form mixedoffice\n",
        "Computing feasibility for form industrial"
       ]
      },
      {
       "output_type": "stream",
       "stream": "stdout",
       "text": [
        "\n",
        "Computing feasibility for form office"
       ]
      },
      {
       "output_type": "stream",
       "stream": "stdout",
       "text": [
        "\n",
        "Computing feasibility for form residential"
       ]
      },
      {
       "output_type": "stream",
       "stream": "stdout",
       "text": [
        "\n",
        "Computing feasibility for form mixedresidential"
       ]
      },
      {
       "output_type": "stream",
       "stream": "stdout",
       "text": [
        "\n",
        "Computing feasibility for form retail"
       ]
      },
      {
       "output_type": "stream",
       "stream": "stdout",
       "text": [
        "\n",
        "Time to execute model = 42.852s"
       ]
      },
      {
       "output_type": "stream",
       "stream": "stdout",
       "text": [
        "\n",
        "Running model 'residential_developer'\n",
        "Number of agents: 3,170,068"
       ]
      },
      {
       "output_type": "stream",
       "stream": "stdout",
       "text": [
        "\n",
        "Number of agent spaces: 3,287,224\n",
        "Current vacancy = 0.04\n",
        "Target vacancy = 0.08, target of new units = 158,502\n",
        "380,681 feasible buildings before running developer\n",
        "Sum of net units that are profitable: 2,803,489"
       ]
      },
      {
       "output_type": "stream",
       "stream": "stdout",
       "text": [
        "\n",
        "Adding 2,091 buildings with 164,946 residential_units"
       ]
      },
      {
       "output_type": "stream",
       "stream": "stdout",
       "text": [
        "\n",
        "378,590 feasible buildings after running developer\n",
        "Time to execute model = 6.039s"
       ]
      },
      {
       "output_type": "stream",
       "stream": "stdout",
       "text": [
        "\n",
        "Running model 'non_residential_developer'\n",
        "Number of agents: 4,966,369"
       ]
      },
      {
       "output_type": "stream",
       "stream": "stdout",
       "text": [
        "\n",
        "Number of agent spaces: 6,668,605\n",
        "Current vacancy = 0.26\n",
        "Target vacancy = 0.08, target of new units = 0\n",
        "378,590 feasible buildings before running developer\n",
        "Sum of net units that are profitable: 9,939,962"
       ]
      },
      {
       "output_type": "stream",
       "stream": "stdout",
       "text": [
        "\n",
        "Adding 0 buildings with 0 job_spaces"
       ]
      },
      {
       "output_type": "stream",
       "stream": "stdout",
       "text": [
        "\n",
        "378,590 feasible buildings after running developer\n",
        "Time to execute model = 10.141s"
       ]
      },
      {
       "output_type": "stream",
       "stream": "stdout",
       "text": [
        "\n",
        "Running model 'clear_cache'\n",
        "Time to execute model = 0.013s\n",
        "Time to execute year = 265.221s\n",
        "Running year 2014\n",
        "Running model 'neighborhood_vars'\n",
        "Computing accessibility variables\n",
        "Computing sum_residential_units\n",
        "Computing sum_nonresidential_units"
       ]
      },
      {
       "output_type": "stream",
       "stream": "stdout",
       "text": [
        "\n",
        "Computing ave_unit_sqft"
       ]
      },
      {
       "output_type": "stream",
       "stream": "stdout",
       "text": [
        "\n",
        "Computing ave_lot_sqft"
       ]
      },
      {
       "output_type": "stream",
       "stream": "stdout",
       "text": [
        "\n",
        "Computing population"
       ]
      },
      {
       "output_type": "stream",
       "stream": "stdout",
       "text": [
        "\n",
        "Computing poor"
       ]
      },
      {
       "output_type": "stream",
       "stream": "stdout",
       "text": [
        "\n",
        "Computing renters"
       ]
      },
      {
       "output_type": "stream",
       "stream": "stdout",
       "text": [
        "\n",
        "Computing sfdu"
       ]
      },
      {
       "output_type": "stream",
       "stream": "stdout",
       "text": [
        "\n",
        "Computing hhsize"
       ]
      },
      {
       "output_type": "stream",
       "stream": "stdout",
       "text": [
        "\n",
        "Computing jobs"
       ]
      },
      {
       "output_type": "stream",
       "stream": "stdout",
       "text": [
        "\n",
        "Computing ave_income"
       ]
      },
      {
       "output_type": "stream",
       "stream": "stdout",
       "text": [
        "\n",
        "Time to execute model = 97.668s"
       ]
      },
      {
       "output_type": "stream",
       "stream": "stdout",
       "text": [
        "\n",
        "Running model 'rsh_simulate'\n",
        "count    1801232.000000\n",
        "mean         375.517918\n",
        "std          172.535657\n",
        "min            2.938175\n",
        "25%          269.801005\n",
        "50%          352.113103\n",
        "75%          443.495375\n",
        "max        14726.154439\n",
        "dtype: float64"
       ]
      },
      {
       "output_type": "stream",
       "stream": "stdout",
       "text": [
        "\n",
        "Time to execute model = 25.227s"
       ]
      },
      {
       "output_type": "stream",
       "stream": "stdout",
       "text": [
        "\n",
        "Running model 'rrh_simulate'\n",
        "count    1801232.000000\n",
        "mean           2.934032\n",
        "std            0.507281\n",
        "min            0.440363\n",
        "25%            2.611296\n",
        "50%            2.895235\n",
        "75%            3.210994\n",
        "max           16.438875\n",
        "dtype: float64"
       ]
      },
      {
       "output_type": "stream",
       "stream": "stdout",
       "text": [
        "\n",
        "Time to execute model = 2.898s"
       ]
      },
      {
       "output_type": "stream",
       "stream": "stdout",
       "text": [
        "\n",
        "Running model 'nrh_simulate'\n",
        "count    116797.000000\n",
        "mean         21.274864\n",
        "std           7.168157\n",
        "min           0.401221\n",
        "25%          11.456951\n",
        "50%          24.085826\n",
        "75%          25.913091\n",
        "max          45.405070\n",
        "dtype: float64"
       ]
      },
      {
       "output_type": "stream",
       "stream": "stdout",
       "text": [
        "\n",
        "Time to execute model = 1.533s\n",
        "Running model 'households_relocation'\n",
        "Total agents: 3170068\n",
        "Total currently unplaced: 150956"
       ]
      },
      {
       "output_type": "stream",
       "stream": "stdout",
       "text": [
        "\n",
        "Assinging for relocation...\n",
        "Total currently unplaced: 301936"
       ]
      },
      {
       "output_type": "stream",
       "stream": "stdout",
       "text": [
        "\n",
        "Time to execute model = 2.397s\n",
        "Running model 'hlcmo_simulate'\n",
        "There are 3452170 total available units"
       ]
      },
      {
       "output_type": "stream",
       "stream": "stdout",
       "text": [
        "\n",
        "    and 3170068 total choosers\n",
        "    but there are 69 overfull buildings"
       ]
      },
      {
       "output_type": "stream",
       "stream": "stdout",
       "text": [
        "\n",
        "    for a total of 590136 temporarily empty units"
       ]
      },
      {
       "output_type": "stream",
       "stream": "stdout",
       "text": [
        "\n",
        "    in 274523 buildings total in the region\n",
        "Assigned 169886 choosers to new units"
       ]
      },
      {
       "output_type": "stream",
       "stream": "stdout",
       "text": [
        "\n",
        "Total currently unplaced: 132050"
       ]
      },
      {
       "output_type": "stream",
       "stream": "stdout",
       "text": [
        "\n",
        "    and there are now 417194 empty units"
       ]
      },
      {
       "output_type": "stream",
       "stream": "stdout",
       "text": [
        "\n",
        "    and 69 overfull buildings"
       ]
      },
      {
       "output_type": "stream",
       "stream": "stdout",
       "text": [
        "\n",
        "Time to execute model = 13.437s\n",
        "Running model 'hlcmr_simulate'\n",
        "There are 3452170 total available units"
       ]
      },
      {
       "output_type": "stream",
       "stream": "stdout",
       "text": [
        "\n",
        "    and 3170068 total choosers\n",
        "    but there are 69 overfull buildings"
       ]
      },
      {
       "output_type": "stream",
       "stream": "stdout",
       "text": [
        "\n",
        "    for a total of 420250 temporarily empty units"
       ]
      },
      {
       "output_type": "stream",
       "stream": "stdout",
       "text": [
        "\n",
        "    in 205438 buildings total in the region\n",
        "Assigned 132050 choosers to new units"
       ]
      },
      {
       "output_type": "stream",
       "stream": "stdout",
       "text": [
        "\n",
        "Total currently unplaced: 0"
       ]
      },
      {
       "output_type": "stream",
       "stream": "stdout",
       "text": [
        "\n",
        "    and there are now 285144 empty units"
       ]
      },
      {
       "output_type": "stream",
       "stream": "stdout",
       "text": [
        "\n",
        "    and 69 overfull buildings"
       ]
      },
      {
       "output_type": "stream",
       "stream": "stdout",
       "text": [
        "\n",
        "Time to execute model = 11.017s\n",
        "Running model 'households_transition'\n",
        "3170068 agents before transition"
       ]
      },
      {
       "output_type": "stream",
       "stream": "stdout",
       "text": [
        "\n",
        "3328571 agents after transition"
       ]
      },
      {
       "output_type": "stream",
       "stream": "stdout",
       "text": [
        "\n",
        "Time to execute model = 1.515s"
       ]
      },
      {
       "output_type": "stream",
       "stream": "stdout",
       "text": [
        "\n",
        "Running model 'jobs_relocation'\n",
        "Total agents: 4966369\n",
        "Total currently unplaced: 236494"
       ]
      },
      {
       "output_type": "stream",
       "stream": "stdout",
       "text": [
        "\n",
        "Assinging for relocation...\n",
        "Total currently unplaced: 472911"
       ]
      },
      {
       "output_type": "stream",
       "stream": "stdout",
       "text": [
        "\n",
        "Time to execute model = 2.411s\n",
        "Running model 'elcm_simulate'\n",
        "There are 6668605 total available units"
       ]
      },
      {
       "output_type": "stream",
       "stream": "stdout",
       "text": [
        "\n",
        "    and 4966369 total choosers\n",
        "    but there are 0 overfull buildings"
       ]
      },
      {
       "output_type": "stream",
       "stream": "stdout",
       "text": [
        "\n",
        "    for a total of 2289959 temporarily empty units"
       ]
      },
      {
       "output_type": "stream",
       "stream": "stdout",
       "text": [
        "\n",
        "    in 189585 buildings total in the region\n",
        "Assigned 472911 choosers to new units"
       ]
      },
      {
       "output_type": "stream",
       "stream": "stdout",
       "text": [
        "\n",
        "Total currently unplaced: 0"
       ]
      },
      {
       "output_type": "stream",
       "stream": "stdout",
       "text": [
        "\n",
        "    and there are now 1817048 empty units"
       ]
      },
      {
       "output_type": "stream",
       "stream": "stdout",
       "text": [
        "\n",
        "    and 0 overfull buildings"
       ]
      },
      {
       "output_type": "stream",
       "stream": "stdout",
       "text": [
        "\n",
        "Time to execute model = 45.220s\n",
        "Running model 'jobs_transition'\n",
        "4966369 agents before transition"
       ]
      },
      {
       "output_type": "stream",
       "stream": "stdout",
       "text": [
        "\n",
        "5214687 agents after transition"
       ]
      },
      {
       "output_type": "stream",
       "stream": "stdout",
       "text": [
        "\n",
        "Time to execute model = 2.554s"
       ]
      },
      {
       "output_type": "stream",
       "stream": "stdout",
       "text": [
        "\n",
        "Running model 'price_vars'\n",
        "Computing accessibility variables\n",
        "Computing residential\n",
        "Computing retail"
       ]
      },
      {
       "output_type": "stream",
       "stream": "stdout",
       "text": [
        "\n",
        "Computing office"
       ]
      },
      {
       "output_type": "stream",
       "stream": "stdout",
       "text": [
        "\n",
        "Computing industrial"
       ]
      },
      {
       "output_type": "stream",
       "stream": "stdout",
       "text": [
        "\n",
        "Time to execute model = 3.731s"
       ]
      },
      {
       "output_type": "stream",
       "stream": "stdout",
       "text": [
        "\n",
        "Running model 'feasibility'\n",
        "Describe of the yearly rent by use"
       ]
      },
      {
       "output_type": "stream",
       "stream": "stdout",
       "text": [
        "\n",
        "               retail      industrial          office     residential\n",
        "count  2023915.000000  2023915.000000  2023915.000000  2023915.000000\n",
        "mean        23.734082        9.543854       23.579163       17.474239\n",
        "std          6.608606        3.285808        5.691666        6.611605\n",
        "min          0.000000        0.000000        0.000000        0.000000\n",
        "25%         22.410009       10.090919       24.381557       13.256110\n",
        "50%         24.776392       10.580356       24.902000       17.160762\n",
        "75%         27.203623       10.965301       25.357258       20.745906\n",
        "max         37.555256       17.705784       43.118958       42.921130\n",
        "\n",
        "[8 rows x 4 columns]"
       ]
      },
      {
       "output_type": "stream",
       "stream": "stdout",
       "text": [
        "\n",
        "Computing feasibility for form mixedoffice\n",
        "Computing feasibility for form industrial"
       ]
      },
      {
       "output_type": "stream",
       "stream": "stdout",
       "text": [
        "\n",
        "Computing feasibility for form office"
       ]
      },
      {
       "output_type": "stream",
       "stream": "stdout",
       "text": [
        "\n",
        "Computing feasibility for form residential"
       ]
      },
      {
       "output_type": "stream",
       "stream": "stdout",
       "text": [
        "\n",
        "Computing feasibility for form mixedresidential"
       ]
      },
      {
       "output_type": "stream",
       "stream": "stdout",
       "text": [
        "\n",
        "Computing feasibility for form retail"
       ]
      },
      {
       "output_type": "stream",
       "stream": "stdout",
       "text": [
        "\n",
        "Time to execute model = 43.290s"
       ]
      },
      {
       "output_type": "stream",
       "stream": "stdout",
       "text": [
        "\n",
        "Running model 'residential_developer'\n",
        "Number of agents: 3,328,571"
       ]
      },
      {
       "output_type": "stream",
       "stream": "stdout",
       "text": [
        "\n",
        "Number of agent spaces: 3,452,170\n",
        "Current vacancy = 0.04\n",
        "Target vacancy = 0.08, target of new units = 165,841\n",
        "379,265 feasible buildings before running developer\n",
        "Sum of net units that are profitable: 2,698,425"
       ]
      },
      {
       "output_type": "stream",
       "stream": "stdout",
       "text": [
        "\n",
        "Adding 2,941 buildings with 174,189 residential_units"
       ]
      },
      {
       "output_type": "stream",
       "stream": "stdout",
       "text": [
        "\n",
        "376,324 feasible buildings after running developer\n",
        "Time to execute model = 6.140s"
       ]
      },
      {
       "output_type": "stream",
       "stream": "stdout",
       "text": [
        "\n",
        "Running model 'non_residential_developer'\n",
        "Number of agents: 5,214,687"
       ]
      },
      {
       "output_type": "stream",
       "stream": "stdout",
       "text": [
        "\n",
        "Number of agent spaces: 6,668,605\n",
        "Current vacancy = 0.22\n",
        "Target vacancy = 0.08, target of new units = 0\n",
        "376,324 feasible buildings before running developer\n",
        "Sum of net units that are profitable: 9,770,980"
       ]
      },
      {
       "output_type": "stream",
       "stream": "stdout",
       "text": [
        "\n",
        "Adding 0 buildings with 0 job_spaces"
       ]
      },
      {
       "output_type": "stream",
       "stream": "stdout",
       "text": [
        "\n",
        "376,324 feasible buildings after running developer\n",
        "Time to execute model = 9.990s"
       ]
      },
      {
       "output_type": "stream",
       "stream": "stdout",
       "text": [
        "\n",
        "Running model 'clear_cache'\n",
        "Time to execute model = 0.017s\n",
        "Time to execute year = 269.048s\n",
        "Running year 2015\n",
        "Running model 'neighborhood_vars'\n",
        "Computing accessibility variables\n",
        "Computing sum_residential_units\n",
        "Computing sum_nonresidential_units"
       ]
      },
      {
       "output_type": "stream",
       "stream": "stdout",
       "text": [
        "\n",
        "Computing ave_unit_sqft"
       ]
      },
      {
       "output_type": "stream",
       "stream": "stdout",
       "text": [
        "\n",
        "Computing ave_lot_sqft"
       ]
      },
      {
       "output_type": "stream",
       "stream": "stdout",
       "text": [
        "\n",
        "Computing population"
       ]
      },
      {
       "output_type": "stream",
       "stream": "stdout",
       "text": [
        "\n",
        "Computing poor"
       ]
      },
      {
       "output_type": "stream",
       "stream": "stdout",
       "text": [
        "\n",
        "Computing renters"
       ]
      },
      {
       "output_type": "stream",
       "stream": "stdout",
       "text": [
        "\n",
        "Computing sfdu"
       ]
      },
      {
       "output_type": "stream",
       "stream": "stdout",
       "text": [
        "\n",
        "Computing hhsize"
       ]
      },
      {
       "output_type": "stream",
       "stream": "stdout",
       "text": [
        "\n",
        "Computing jobs"
       ]
      },
      {
       "output_type": "stream",
       "stream": "stdout",
       "text": [
        "\n",
        "Computing ave_income"
       ]
      },
      {
       "output_type": "stream",
       "stream": "stdout",
       "text": [
        "\n",
        "Time to execute model = 105.238s"
       ]
      },
      {
       "output_type": "stream",
       "stream": "stdout",
       "text": [
        "\n",
        "Running model 'rsh_simulate'\n",
        "count    1804173.000000\n",
        "mean         377.683168\n",
        "std          174.947713\n",
        "min            2.925409\n",
        "25%          270.360276\n",
        "50%          353.038009\n",
        "75%          445.740104\n",
        "max        14875.328236\n",
        "dtype: float64"
       ]
      },
      {
       "output_type": "stream",
       "stream": "stdout",
       "text": [
        "\n",
        "Time to execute model = 31.226s"
       ]
      },
      {
       "output_type": "stream",
       "stream": "stdout",
       "text": [
        "\n",
        "Running model 'rrh_simulate'\n",
        "count    1804173.000000\n",
        "mean           2.937018\n",
        "std            0.510295\n",
        "min            0.441406\n",
        "25%            2.611906\n",
        "50%            2.897445\n",
        "75%            3.215440\n",
        "max           16.510483\n",
        "dtype: float64"
       ]
      },
      {
       "output_type": "stream",
       "stream": "stdout",
       "text": [
        "\n",
        "Time to execute model = 3.481s"
       ]
      },
      {
       "output_type": "stream",
       "stream": "stdout",
       "text": [
        "\n",
        "Running model 'nrh_simulate'\n",
        "count    116797.000000\n",
        "mean         21.364844\n",
        "std           7.230515\n",
        "min           0.401221\n",
        "25%          11.460644\n",
        "50%          24.151263\n",
        "75%          25.984106\n",
        "max          45.460795\n",
        "dtype: float64"
       ]
      },
      {
       "output_type": "stream",
       "stream": "stdout",
       "text": [
        "\n",
        "Time to execute model = 2.292s\n",
        "Running model 'households_relocation'\n",
        "Total agents: 3328571\n",
        "Total currently unplaced: 158503"
       ]
      },
      {
       "output_type": "stream",
       "stream": "stdout",
       "text": [
        "\n",
        "Assinging for relocation...\n",
        "Total currently unplaced: 317040"
       ]
      },
      {
       "output_type": "stream",
       "stream": "stdout",
       "text": [
        "\n",
        "Time to execute model = 3.585s\n",
        "Running model 'hlcmo_simulate'\n",
        "There are 3626359 total available units"
       ]
      },
      {
       "output_type": "stream",
       "stream": "stdout",
       "text": [
        "\n",
        "    and 3328571 total choosers\n",
        "    but there are 83 overfull buildings"
       ]
      },
      {
       "output_type": "stream",
       "stream": "stdout",
       "text": [
        "\n",
        "    for a total of 619256 temporarily empty units"
       ]
      },
      {
       "output_type": "stream",
       "stream": "stdout",
       "text": [
        "\n",
        "    in 275624 buildings total in the region\n",
        "Assigned 178101 choosers to new units"
       ]
      },
      {
       "output_type": "stream",
       "stream": "stdout",
       "text": [
        "\n",
        "Total currently unplaced: 138939"
       ]
      },
      {
       "output_type": "stream",
       "stream": "stdout",
       "text": [
        "\n",
        "    and there are now 437530 empty units"
       ]
      },
      {
       "output_type": "stream",
       "stream": "stdout",
       "text": [
        "\n",
        "    and 83 overfull buildings"
       ]
      },
      {
       "output_type": "stream",
       "stream": "stdout",
       "text": [
        "\n",
        "Time to execute model = 15.642s\n",
        "Running model 'hlcmr_simulate'\n",
        "There are 3626359 total available units"
       ]
      },
      {
       "output_type": "stream",
       "stream": "stdout",
       "text": [
        "\n",
        "    and 3328571 total choosers\n",
        "    but there are 83 overfull buildings"
       ]
      },
      {
       "output_type": "stream",
       "stream": "stdout",
       "text": [
        "\n",
        "    for a total of 441155 temporarily empty units"
       ]
      },
      {
       "output_type": "stream",
       "stream": "stdout",
       "text": [
        "\n",
        "    in 209211 buildings total in the region\n",
        "Assigned 138939 choosers to new units"
       ]
      },
      {
       "output_type": "stream",
       "stream": "stdout",
       "text": [
        "\n",
        "Total currently unplaced: 0"
       ]
      },
      {
       "output_type": "stream",
       "stream": "stdout",
       "text": [
        "\n",
        "    and there are now 298591 empty units"
       ]
      },
      {
       "output_type": "stream",
       "stream": "stdout",
       "text": [
        "\n",
        "    and 83 overfull buildings"
       ]
      },
      {
       "output_type": "stream",
       "stream": "stdout",
       "text": [
        "\n",
        "Time to execute model = 12.373s\n",
        "Running model 'households_transition'\n",
        "3328571 agents before transition"
       ]
      },
      {
       "output_type": "stream",
       "stream": "stdout",
       "text": [
        "\n",
        "3495000 agents after transition"
       ]
      },
      {
       "output_type": "stream",
       "stream": "stdout",
       "text": [
        "\n",
        "Time to execute model = 1.855s"
       ]
      },
      {
       "output_type": "stream",
       "stream": "stdout",
       "text": [
        "\n",
        "Running model 'jobs_relocation'\n",
        "Total agents: 5214687\n",
        "Total currently unplaced: 248318"
       ]
      },
      {
       "output_type": "stream",
       "stream": "stdout",
       "text": [
        "\n",
        "Assinging for relocation...\n",
        "Total currently unplaced: 496893"
       ]
      },
      {
       "output_type": "stream",
       "stream": "stdout",
       "text": [
        "\n",
        "Time to execute model = 2.731s\n",
        "Running model 'elcm_simulate'\n",
        "There are 6668605 total available units"
       ]
      },
      {
       "output_type": "stream",
       "stream": "stdout",
       "text": [
        "\n",
        "    and 5214687 total choosers\n",
        "    but there are 0 overfull buildings"
       ]
      },
      {
       "output_type": "stream",
       "stream": "stdout",
       "text": [
        "\n",
        "    for a total of 2059867 temporarily empty units"
       ]
      },
      {
       "output_type": "stream",
       "stream": "stdout",
       "text": [
        "\n",
        "    in 198425 buildings total in the region\n",
        "Assigned 496893 choosers to new units"
       ]
      },
      {
       "output_type": "stream",
       "stream": "stdout",
       "text": [
        "\n",
        "Total currently unplaced: 0"
       ]
      },
      {
       "output_type": "stream",
       "stream": "stdout",
       "text": [
        "\n",
        "    and there are now 1562974 empty units"
       ]
      },
      {
       "output_type": "stream",
       "stream": "stdout",
       "text": [
        "\n",
        "    and 0 overfull buildings"
       ]
      },
      {
       "output_type": "stream",
       "stream": "stdout",
       "text": [
        "\n",
        "Time to execute model = 46.732s\n",
        "Running model 'jobs_transition'\n",
        "5214687 agents before transition"
       ]
      },
      {
       "output_type": "stream",
       "stream": "stdout",
       "text": [
        "\n",
        "5475421 agents after transition"
       ]
      },
      {
       "output_type": "stream",
       "stream": "stdout",
       "text": [
        "\n",
        "Time to execute model = 2.761s"
       ]
      },
      {
       "output_type": "stream",
       "stream": "stdout",
       "text": [
        "\n",
        "Running model 'price_vars'\n",
        "Computing accessibility variables\n",
        "Computing residential\n",
        "Computing retail"
       ]
      },
      {
       "output_type": "stream",
       "stream": "stdout",
       "text": [
        "\n",
        "Computing office"
       ]
      },
      {
       "output_type": "stream",
       "stream": "stdout",
       "text": [
        "\n",
        "Computing industrial"
       ]
      },
      {
       "output_type": "stream",
       "stream": "stdout",
       "text": [
        "\n",
        "Time to execute model = 3.793s"
       ]
      },
      {
       "output_type": "stream",
       "stream": "stdout",
       "text": [
        "\n",
        "Running model 'feasibility'\n",
        "Describe of the yearly rent by use"
       ]
      },
      {
       "output_type": "stream",
       "stream": "stdout",
       "text": [
        "\n",
        "               retail      industrial          office     residential\n",
        "count  2023915.000000  2023915.000000  2023915.000000  2023915.000000\n",
        "mean        23.871301        9.550511       23.583413       17.559671\n",
        "std          6.655375        3.288609        5.692907        6.706780\n",
        "min          0.000000        0.000000        0.000000        0.000000\n",
        "25%         22.528004       10.093542       24.376982       13.279720\n",
        "50%         24.919548       10.587009       24.905363       17.186668\n",
        "75%         27.347225       10.974770       25.365229       20.821872\n",
        "max         38.151031       17.741104       43.193123       43.231839\n",
        "\n",
        "[8 rows x 4 columns]"
       ]
      },
      {
       "output_type": "stream",
       "stream": "stdout",
       "text": [
        "\n",
        "Computing feasibility for form mixedoffice\n",
        "Computing feasibility for form industrial"
       ]
      },
      {
       "output_type": "stream",
       "stream": "stdout",
       "text": [
        "\n",
        "Computing feasibility for form office"
       ]
      },
      {
       "output_type": "stream",
       "stream": "stdout",
       "text": [
        "\n",
        "Computing feasibility for form residential"
       ]
      },
      {
       "output_type": "stream",
       "stream": "stdout",
       "text": [
        "\n",
        "Computing feasibility for form mixedresidential"
       ]
      },
      {
       "output_type": "stream",
       "stream": "stdout",
       "text": [
        "\n",
        "Computing feasibility for form retail"
       ]
      },
      {
       "output_type": "stream",
       "stream": "stdout",
       "text": [
        "\n",
        "Time to execute model = 44.276s"
       ]
      },
      {
       "output_type": "stream",
       "stream": "stdout",
       "text": [
        "\n",
        "Running model 'residential_developer'\n",
        "Number of agents: 3,495,000"
       ]
      },
      {
       "output_type": "stream",
       "stream": "stdout",
       "text": [
        "\n",
        "Number of agent spaces: 3,626,359\n",
        "Current vacancy = 0.04\n",
        "Target vacancy = 0.08, target of new units = 172,554\n",
        "377,105 feasible buildings before running developer\n",
        "Sum of net units that are profitable: 2,583,600"
       ]
      },
      {
       "output_type": "stream",
       "stream": "stdout",
       "text": [
        "\n",
        "Adding 3,507 buildings with 180,180 residential_units"
       ]
      },
      {
       "output_type": "stream",
       "stream": "stdout",
       "text": [
        "\n",
        "373,598 feasible buildings after running developer\n",
        "Time to execute model = 6.101s"
       ]
      },
      {
       "output_type": "stream",
       "stream": "stdout",
       "text": [
        "\n",
        "Running model 'non_residential_developer'\n",
        "Number of agents: 5,475,421"
       ]
      },
      {
       "output_type": "stream",
       "stream": "stdout",
       "text": [
        "\n",
        "Number of agent spaces: 6,668,605\n",
        "Current vacancy = 0.18\n",
        "Target vacancy = 0.08, target of new units = 0\n",
        "373,598 feasible buildings before running developer\n",
        "Sum of net units that are profitable: 9,601,251"
       ]
      },
      {
       "output_type": "stream",
       "stream": "stdout",
       "text": [
        "\n",
        "Adding 0 buildings with 0 job_spaces"
       ]
      },
      {
       "output_type": "stream",
       "stream": "stdout",
       "text": [
        "\n",
        "373,598 feasible buildings after running developer\n",
        "Time to execute model = 9.906s"
       ]
      },
      {
       "output_type": "stream",
       "stream": "stdout",
       "text": [
        "\n",
        "Running model 'clear_cache'\n",
        "Time to execute model = 0.015s\n",
        "Time to execute year = 292.012s\n",
        "Running year 2016\n",
        "Running model 'neighborhood_vars'\n",
        "Computing accessibility variables\n",
        "Computing sum_residential_units\n",
        "Computing sum_nonresidential_units"
       ]
      },
      {
       "output_type": "stream",
       "stream": "stdout",
       "text": [
        "\n",
        "Computing ave_unit_sqft"
       ]
      },
      {
       "output_type": "stream",
       "stream": "stdout",
       "text": [
        "\n",
        "Computing ave_lot_sqft"
       ]
      },
      {
       "output_type": "stream",
       "stream": "stdout",
       "text": [
        "\n",
        "Computing population"
       ]
      },
      {
       "output_type": "stream",
       "stream": "stdout",
       "text": [
        "\n",
        "Computing poor"
       ]
      },
      {
       "output_type": "stream",
       "stream": "stdout",
       "text": [
        "\n",
        "Computing renters"
       ]
      },
      {
       "output_type": "stream",
       "stream": "stdout",
       "text": [
        "\n",
        "Computing sfdu"
       ]
      },
      {
       "output_type": "stream",
       "stream": "stdout",
       "text": [
        "\n",
        "Computing hhsize"
       ]
      },
      {
       "output_type": "stream",
       "stream": "stdout",
       "text": [
        "\n",
        "Computing jobs"
       ]
      },
      {
       "output_type": "stream",
       "stream": "stdout",
       "text": [
        "\n",
        "Computing ave_income"
       ]
      },
      {
       "output_type": "stream",
       "stream": "stdout",
       "text": [
        "\n",
        "Time to execute model = 109.486s"
       ]
      },
      {
       "output_type": "stream",
       "stream": "stdout",
       "text": [
        "\n",
        "Running model 'rsh_simulate'\n",
        "count    1807680.000000\n",
        "mean         379.910330\n",
        "std          177.518163\n",
        "min            2.925409\n",
        "25%          270.908008\n",
        "50%          353.937797\n",
        "75%          447.872393\n",
        "max        15028.069496\n",
        "dtype: float64"
       ]
      },
      {
       "output_type": "stream",
       "stream": "stdout",
       "text": [
        "\n",
        "Time to execute model = 27.508s"
       ]
      },
      {
       "output_type": "stream",
       "stream": "stdout",
       "text": [
        "\n",
        "Running model 'rrh_simulate'\n",
        "count    1807680.000000\n",
        "mean           2.942834\n",
        "std            0.514026\n",
        "min            0.442727\n",
        "25%            2.614400\n",
        "50%            2.902102\n",
        "75%            3.223424\n",
        "max           16.563931\n",
        "dtype: float64"
       ]
      },
      {
       "output_type": "stream",
       "stream": "stdout",
       "text": [
        "\n",
        "Time to execute model = 3.077s"
       ]
      },
      {
       "output_type": "stream",
       "stream": "stdout",
       "text": [
        "\n",
        "Running model 'nrh_simulate'\n",
        "count    116797.000000\n",
        "mean         21.460908\n",
        "std           7.292530\n",
        "min           0.401221\n",
        "25%          11.478213\n",
        "50%          24.224321\n",
        "75%          26.068167\n",
        "max          51.107351\n",
        "dtype: float64"
       ]
      },
      {
       "output_type": "stream",
       "stream": "stdout",
       "text": [
        "\n",
        "Time to execute model = 1.627s\n",
        "Running model 'households_relocation'\n",
        "Total agents: 3495000\n",
        "Total currently unplaced: 166429"
       ]
      },
      {
       "output_type": "stream",
       "stream": "stdout",
       "text": [
        "\n",
        "Assinging for relocation...\n",
        "Total currently unplaced: 332955"
       ]
      },
      {
       "output_type": "stream",
       "stream": "stdout",
       "text": [
        "\n",
        "Time to execute model = 2.720s\n",
        "Running model 'hlcmo_simulate'\n",
        "There are 3806539 total available units"
       ]
      },
      {
       "output_type": "stream",
       "stream": "stdout",
       "text": [
        "\n",
        "    and 3495000 total choosers\n",
        "    but there are 82 overfull buildings"
       ]
      },
      {
       "output_type": "stream",
       "stream": "stdout",
       "text": [
        "\n",
        "    for a total of 648638 temporarily empty units"
       ]
      },
      {
       "output_type": "stream",
       "stream": "stdout",
       "text": [
        "\n",
        "    in 280679 buildings total in the region\n",
        "Assigned 186849 choosers to new units"
       ]
      },
      {
       "output_type": "stream",
       "stream": "stdout",
       "text": [
        "\n",
        "Total currently unplaced: 146106"
       ]
      },
      {
       "output_type": "stream",
       "stream": "stdout",
       "text": [
        "\n",
        "    and there are now 458413 empty units"
       ]
      },
      {
       "output_type": "stream",
       "stream": "stdout",
       "text": [
        "\n",
        "    and 82 overfull buildings"
       ]
      },
      {
       "output_type": "stream",
       "stream": "stdout",
       "text": [
        "\n",
        "Time to execute model = 15.137s\n",
        "Running model 'hlcmr_simulate'\n",
        "There are 3806539 total available units"
       ]
      },
      {
       "output_type": "stream",
       "stream": "stdout",
       "text": [
        "\n",
        "    and 3495000 total choosers\n",
        "    but there are 82 overfull buildings"
       ]
      },
      {
       "output_type": "stream",
       "stream": "stdout",
       "text": [
        "\n",
        "    for a total of 461789 temporarily empty units"
       ]
      },
      {
       "output_type": "stream",
       "stream": "stdout",
       "text": [
        "\n",
        "    in 216417 buildings total in the region\n",
        "Assigned 146106 choosers to new units"
       ]
      },
      {
       "output_type": "stream",
       "stream": "stdout",
       "text": [
        "\n",
        "Total currently unplaced: 0"
       ]
      },
      {
       "output_type": "stream",
       "stream": "stdout",
       "text": [
        "\n",
        "    and there are now 312307 empty units"
       ]
      },
      {
       "output_type": "stream",
       "stream": "stdout",
       "text": [
        "\n",
        "    and 82 overfull buildings"
       ]
      },
      {
       "output_type": "stream",
       "stream": "stdout",
       "text": [
        "\n",
        "Time to execute model = 12.058s\n",
        "Running model 'households_transition'\n",
        "3495000 agents before transition"
       ]
      },
      {
       "output_type": "stream",
       "stream": "stdout",
       "text": [
        "\n",
        "3669750 agents after transition"
       ]
      },
      {
       "output_type": "stream",
       "stream": "stdout",
       "text": [
        "\n",
        "Time to execute model = 1.900s"
       ]
      },
      {
       "output_type": "stream",
       "stream": "stdout",
       "text": [
        "\n",
        "Running model 'jobs_relocation'\n",
        "Total agents: 5475421\n",
        "Total currently unplaced: 260734"
       ]
      },
      {
       "output_type": "stream",
       "stream": "stdout",
       "text": [
        "\n",
        "Assinging for relocation...\n",
        "Total currently unplaced: 521603"
       ]
      },
      {
       "output_type": "stream",
       "stream": "stdout",
       "text": [
        "\n",
        "Time to execute model = 3.021s\n",
        "Running model 'elcm_simulate'\n",
        "There are 6668605 total available units"
       ]
      },
      {
       "output_type": "stream",
       "stream": "stdout",
       "text": [
        "\n",
        "    and 5475421 total choosers\n",
        "    but there are 0 overfull buildings"
       ]
      },
      {
       "output_type": "stream",
       "stream": "stdout",
       "text": [
        "\n",
        "    for a total of 1818207 temporarily empty units"
       ]
      },
      {
       "output_type": "stream",
       "stream": "stdout",
       "text": [
        "\n",
        "    in 203907 buildings total in the region\n",
        "Assigned 521603 choosers to new units"
       ]
      },
      {
       "output_type": "stream",
       "stream": "stdout",
       "text": [
        "\n",
        "Total currently unplaced: 0"
       ]
      },
      {
       "output_type": "stream",
       "stream": "stdout",
       "text": [
        "\n",
        "    and there are now 1296604 empty units"
       ]
      },
      {
       "output_type": "stream",
       "stream": "stdout",
       "text": [
        "\n",
        "    and 0 overfull buildings"
       ]
      },
      {
       "output_type": "stream",
       "stream": "stdout",
       "text": [
        "\n",
        "Time to execute model = 49.639s\n",
        "Running model 'jobs_transition'\n",
        "5475421 agents before transition"
       ]
      },
      {
       "output_type": "stream",
       "stream": "stdout",
       "text": [
        "\n",
        "5749192 agents after transition"
       ]
      },
      {
       "output_type": "stream",
       "stream": "stdout",
       "text": [
        "\n",
        "Time to execute model = 2.851s"
       ]
      },
      {
       "output_type": "stream",
       "stream": "stdout",
       "text": [
        "\n",
        "Running model 'price_vars'\n",
        "Computing accessibility variables\n",
        "Computing residential\n",
        "Computing retail"
       ]
      },
      {
       "output_type": "stream",
       "stream": "stdout",
       "text": [
        "\n",
        "Computing office"
       ]
      },
      {
       "output_type": "stream",
       "stream": "stdout",
       "text": [
        "\n",
        "Computing industrial"
       ]
      },
      {
       "output_type": "stream",
       "stream": "stdout",
       "text": [
        "\n",
        "Time to execute model = 4.253s"
       ]
      },
      {
       "output_type": "stream",
       "stream": "stdout",
       "text": [
        "\n",
        "Running model 'feasibility'\n",
        "Describe of the yearly rent by use"
       ]
      },
      {
       "output_type": "stream",
       "stream": "stdout",
       "text": [
        "\n",
        "               retail      industrial          office     residential\n",
        "count  2023915.000000  2023915.000000  2023915.000000  2023915.000000\n",
        "mean        24.026209        9.561164       23.594122       17.644268\n",
        "std          6.713905        3.292884        5.696622        6.807938\n",
        "min          0.000000        0.000000        0.000000        0.000000\n",
        "25%         22.670095       10.095289       24.381540       13.298054\n",
        "50%         25.092655       10.598838       24.914234       17.218192\n",
        "75%         27.536776       10.991243       25.379211       20.877074\n",
        "max         50.482101       17.770370       43.245380       43.560974\n",
        "\n",
        "[8 rows x 4 columns]"
       ]
      },
      {
       "output_type": "stream",
       "stream": "stdout",
       "text": [
        "\n",
        "Computing feasibility for form mixedoffice\n",
        "Computing feasibility for form industrial"
       ]
      },
      {
       "output_type": "stream",
       "stream": "stdout",
       "text": [
        "\n",
        "Computing feasibility for form office"
       ]
      },
      {
       "output_type": "stream",
       "stream": "stdout",
       "text": [
        "\n",
        "Computing feasibility for form residential"
       ]
      },
      {
       "output_type": "stream",
       "stream": "stdout",
       "text": [
        "\n",
        "Computing feasibility for form mixedresidential"
       ]
      },
      {
       "output_type": "stream",
       "stream": "stdout",
       "text": [
        "\n",
        "Computing feasibility for form retail"
       ]
      },
      {
       "output_type": "stream",
       "stream": "stdout",
       "text": [
        "\n",
        "Time to execute model = 49.544s"
       ]
      },
      {
       "output_type": "stream",
       "stream": "stdout",
       "text": [
        "\n",
        "Running model 'residential_developer'\n",
        "Number of agents: 3,669,750"
       ]
      },
      {
       "output_type": "stream",
       "stream": "stdout",
       "text": [
        "\n",
        "Number of agent spaces: 3,806,539\n",
        "Current vacancy = 0.04\n",
        "Target vacancy = 0.08, target of new units = 182,319\n",
        "374,926 feasible buildings before running developer\n",
        "Sum of net units that are profitable: 2,463,623"
       ]
      },
      {
       "output_type": "stream",
       "stream": "stdout",
       "text": [
        "\n",
        "Adding 4,499 buildings with 192,006 residential_units"
       ]
      },
      {
       "output_type": "stream",
       "stream": "stdout",
       "text": [
        "\n",
        "370,427 feasible buildings after running developer\n",
        "Time to execute model = 6.263s"
       ]
      },
      {
       "output_type": "stream",
       "stream": "stdout",
       "text": [
        "\n",
        "Running model 'non_residential_developer'\n",
        "Number of agents: 5,749,192"
       ]
      },
      {
       "output_type": "stream",
       "stream": "stdout",
       "text": [
        "\n",
        "Number of agent spaces: 6,668,605\n",
        "Current vacancy = 0.14\n",
        "Target vacancy = 0.08, target of new units = 0\n",
        "370,427 feasible buildings before running developer\n",
        "Sum of net units that are profitable: 9,427,532"
       ]
      },
      {
       "output_type": "stream",
       "stream": "stdout",
       "text": [
        "\n",
        "Adding 0 buildings with 0 job_spaces"
       ]
      },
      {
       "output_type": "stream",
       "stream": "stdout",
       "text": [
        "\n",
        "370,427 feasible buildings after running developer\n",
        "Time to execute model = 10.377s"
       ]
      },
      {
       "output_type": "stream",
       "stream": "stdout",
       "text": [
        "\n",
        "Running model 'clear_cache'\n",
        "Time to execute model = 0.013s\n",
        "Time to execute year = 299.481s\n",
        "Running year 2017\n",
        "Running model 'neighborhood_vars'\n",
        "Computing accessibility variables\n",
        "Computing sum_residential_units\n",
        "Computing sum_nonresidential_units"
       ]
      },
      {
       "output_type": "stream",
       "stream": "stdout",
       "text": [
        "\n",
        "Computing ave_unit_sqft"
       ]
      },
      {
       "output_type": "stream",
       "stream": "stdout",
       "text": [
        "\n",
        "Computing ave_lot_sqft"
       ]
      },
      {
       "output_type": "stream",
       "stream": "stdout",
       "text": [
        "\n",
        "Computing population"
       ]
      },
      {
       "output_type": "stream",
       "stream": "stdout",
       "text": [
        "\n",
        "Computing poor"
       ]
      },
      {
       "output_type": "stream",
       "stream": "stdout",
       "text": [
        "\n",
        "Computing renters"
       ]
      },
      {
       "output_type": "stream",
       "stream": "stdout",
       "text": [
        "\n",
        "Computing sfdu"
       ]
      },
      {
       "output_type": "stream",
       "stream": "stdout",
       "text": [
        "\n",
        "Computing hhsize"
       ]
      },
      {
       "output_type": "stream",
       "stream": "stdout",
       "text": [
        "\n",
        "Computing jobs"
       ]
      },
      {
       "output_type": "stream",
       "stream": "stdout",
       "text": [
        "\n",
        "Computing ave_income"
       ]
      },
      {
       "output_type": "stream",
       "stream": "stdout",
       "text": [
        "\n",
        "Time to execute model = 116.717s"
       ]
      },
      {
       "output_type": "stream",
       "stream": "stdout",
       "text": [
        "\n",
        "Running model 'rsh_simulate'\n",
        "count    1812179.000000\n",
        "mean         382.616148\n",
        "std          180.564342\n",
        "min            2.939801\n",
        "25%          271.513801\n",
        "50%          355.094659\n",
        "75%          450.478918\n",
        "max        15180.718412\n",
        "dtype: float64"
       ]
      },
      {
       "output_type": "stream",
       "stream": "stdout",
       "text": [
        "\n",
        "Time to execute model = 26.272s"
       ]
      },
      {
       "output_type": "stream",
       "stream": "stdout",
       "text": [
        "\n",
        "Running model 'rrh_simulate'\n",
        "count    1812179.000000\n",
        "mean           2.951418\n",
        "std            0.518279\n",
        "min            0.443705\n",
        "25%            2.619541\n",
        "50%            2.909479\n",
        "75%            3.234894\n",
        "max           16.604773\n",
        "dtype: float64"
       ]
      },
      {
       "output_type": "stream",
       "stream": "stdout",
       "text": [
        "\n",
        "Time to execute model = 2.947s"
       ]
      },
      {
       "output_type": "stream",
       "stream": "stdout",
       "text": [
        "\n",
        "Running model 'nrh_simulate'\n",
        "count    116797.000000\n",
        "mean         21.568855\n",
        "std           7.362549\n",
        "min           0.401221\n",
        "25%          11.499487\n",
        "50%          24.313239\n",
        "75%          26.162833\n",
        "max          51.271405\n",
        "dtype: float64"
       ]
      },
      {
       "output_type": "stream",
       "stream": "stdout",
       "text": [
        "\n",
        "Time to execute model = 1.535s\n",
        "Running model 'households_relocation'\n",
        "Total agents: 3669750\n",
        "Total currently unplaced: 174750"
       ]
      },
      {
       "output_type": "stream",
       "stream": "stdout",
       "text": [
        "\n",
        "Assinging for relocation...\n",
        "Total currently unplaced: 349436"
       ]
      },
      {
       "output_type": "stream",
       "stream": "stdout",
       "text": [
        "\n",
        "Time to execute model = 2.730s\n",
        "Running model 'hlcmo_simulate'\n",
        "There are 3998545 total available units"
       ]
      },
      {
       "output_type": "stream",
       "stream": "stdout",
       "text": [
        "\n",
        "    and 3669750 total choosers\n",
        "    but there are 79 overfull buildings"
       ]
      },
      {
       "output_type": "stream",
       "stream": "stdout",
       "text": [
        "\n",
        "    for a total of 682101 temporarily empty units"
       ]
      },
      {
       "output_type": "stream",
       "stream": "stdout",
       "text": [
        "\n",
        "    in 289196 buildings total in the region\n",
        "Assigned 196642 choosers to new units"
       ]
      },
      {
       "output_type": "stream",
       "stream": "stdout",
       "text": [
        "\n",
        "Total currently unplaced: 152794"
       ]
      },
      {
       "output_type": "stream",
       "stream": "stdout",
       "text": [
        "\n",
        "    and there are now 482321 empty units"
       ]
      },
      {
       "output_type": "stream",
       "stream": "stdout",
       "text": [
        "\n",
        "    and 79 overfull buildings"
       ]
      },
      {
       "output_type": "stream",
       "stream": "stdout",
       "text": [
        "\n",
        "Time to execute model = 14.544s\n",
        "Running model 'hlcmr_simulate'\n",
        "There are 3998545 total available units"
       ]
      },
      {
       "output_type": "stream",
       "stream": "stdout",
       "text": [
        "\n",
        "    and 3669750 total choosers\n",
        "    but there are 79 overfull buildings"
       ]
      },
      {
       "output_type": "stream",
       "stream": "stdout",
       "text": [
        "\n",
        "    for a total of 485459 temporarily empty units"
       ]
      },
      {
       "output_type": "stream",
       "stream": "stdout",
       "text": [
        "\n",
        "    in 224814 buildings total in the region\n",
        "Assigned 152794 choosers to new units"
       ]
      },
      {
       "output_type": "stream",
       "stream": "stdout",
       "text": [
        "\n",
        "Total currently unplaced: 0"
       ]
      },
      {
       "output_type": "stream",
       "stream": "stdout",
       "text": [
        "\n",
        "    and there are now 329527 empty units"
       ]
      },
      {
       "output_type": "stream",
       "stream": "stdout",
       "text": [
        "\n",
        "    and 79 overfull buildings"
       ]
      },
      {
       "output_type": "stream",
       "stream": "stdout",
       "text": [
        "\n",
        "Time to execute model = 12.086s\n",
        "Running model 'households_transition'\n",
        "3669750 agents before transition"
       ]
      },
      {
       "output_type": "stream",
       "stream": "stdout",
       "text": [
        "\n",
        "3853238 agents after transition"
       ]
      },
      {
       "output_type": "stream",
       "stream": "stdout",
       "text": [
        "\n",
        "Time to execute model = 1.839s"
       ]
      },
      {
       "output_type": "stream",
       "stream": "stdout",
       "text": [
        "\n",
        "Running model 'jobs_relocation'\n",
        "Total agents: 5749192\n",
        "Total currently unplaced: 273771"
       ]
      },
      {
       "output_type": "stream",
       "stream": "stdout",
       "text": [
        "\n",
        "Assinging for relocation...\n",
        "Total currently unplaced: 547605"
       ]
      },
      {
       "output_type": "stream",
       "stream": "stdout",
       "text": [
        "\n",
        "Time to execute model = 3.029s\n",
        "Running model 'elcm_simulate'\n",
        "There are 6668605 total available units"
       ]
      },
      {
       "output_type": "stream",
       "stream": "stdout",
       "text": [
        "\n",
        "    and 5749192 total choosers\n",
        "    but there are 0 overfull buildings"
       ]
      },
      {
       "output_type": "stream",
       "stream": "stdout",
       "text": [
        "\n",
        "    for a total of 1565312 temporarily empty units"
       ]
      },
      {
       "output_type": "stream",
       "stream": "stdout",
       "text": [
        "\n",
        "    in 205766 buildings total in the region\n",
        "Assigned 547605 choosers to new units"
       ]
      },
      {
       "output_type": "stream",
       "stream": "stdout",
       "text": [
        "\n",
        "Total currently unplaced: 0"
       ]
      },
      {
       "output_type": "stream",
       "stream": "stdout",
       "text": [
        "\n",
        "    and there are now 1017707 empty units"
       ]
      },
      {
       "output_type": "stream",
       "stream": "stdout",
       "text": [
        "\n",
        "    and 0 overfull buildings"
       ]
      },
      {
       "output_type": "stream",
       "stream": "stdout",
       "text": [
        "\n",
        "Time to execute model = 48.129s\n",
        "Running model 'jobs_transition'\n",
        "5749192 agents before transition"
       ]
      },
      {
       "output_type": "stream",
       "stream": "stdout",
       "text": [
        "\n",
        "6036652 agents after transition"
       ]
      },
      {
       "output_type": "stream",
       "stream": "stdout",
       "text": [
        "\n",
        "Time to execute model = 3.069s"
       ]
      },
      {
       "output_type": "stream",
       "stream": "stdout",
       "text": [
        "\n",
        "Running model 'price_vars'\n",
        "Computing accessibility variables\n",
        "Computing residential\n",
        "Computing retail"
       ]
      },
      {
       "output_type": "stream",
       "stream": "stdout",
       "text": [
        "\n",
        "Computing office"
       ]
      },
      {
       "output_type": "stream",
       "stream": "stdout",
       "text": [
        "\n",
        "Computing industrial"
       ]
      },
      {
       "output_type": "stream",
       "stream": "stdout",
       "text": [
        "\n",
        "Time to execute model = 4.101s"
       ]
      },
      {
       "output_type": "stream",
       "stream": "stdout",
       "text": [
        "\n",
        "Running model 'feasibility'\n",
        "Describe of the yearly rent by use"
       ]
      },
      {
       "output_type": "stream",
       "stream": "stdout",
       "text": [
        "\n",
        "               retail      industrial          office     residential\n",
        "count  2023915.000000  2023915.000000  2023915.000000  2023915.000000\n",
        "mean        24.216577        9.574457       23.607958       17.744377\n",
        "std          6.773266        3.297788        5.700125        6.931226\n",
        "min          0.000000        0.000000        0.000000        0.000000\n",
        "25%         22.847122       10.104836       24.394611       13.324896\n",
        "50%         25.297379       10.615826       24.928402       17.252309\n",
        "75%         27.773033       11.008860       25.396860       20.944295\n",
        "max         50.637157       17.790533       43.280830       43.951019\n",
        "\n",
        "[8 rows x 4 columns]"
       ]
      },
      {
       "output_type": "stream",
       "stream": "stdout",
       "text": [
        "\n",
        "Computing feasibility for form mixedoffice\n",
        "Computing feasibility for form industrial"
       ]
      },
      {
       "output_type": "stream",
       "stream": "stdout",
       "text": [
        "\n",
        "Computing feasibility for form office"
       ]
      },
      {
       "output_type": "stream",
       "stream": "stdout",
       "text": [
        "\n",
        "Computing feasibility for form residential"
       ]
      },
      {
       "output_type": "stream",
       "stream": "stdout",
       "text": [
        "\n",
        "Computing feasibility for form mixedresidential"
       ]
      },
      {
       "output_type": "stream",
       "stream": "stdout",
       "text": [
        "\n",
        "Computing feasibility for form retail"
       ]
      },
      {
       "output_type": "stream",
       "stream": "stdout",
       "text": [
        "\n",
        "Time to execute model = 45.186s"
       ]
      },
      {
       "output_type": "stream",
       "stream": "stdout",
       "text": [
        "\n",
        "Running model 'residential_developer'\n",
        "Number of agents: 3,853,238"
       ]
      },
      {
       "output_type": "stream",
       "stream": "stdout",
       "text": [
        "\n",
        "Number of agent spaces: 3,998,545\n",
        "Current vacancy = 0.04\n",
        "Target vacancy = 0.08, target of new units = 189,757\n",
        "372,282 feasible buildings before running developer\n",
        "Sum of net units that are profitable: 2,333,178"
       ]
      },
      {
       "output_type": "stream",
       "stream": "stdout",
       "text": [
        "\n",
        "Adding 5,550 buildings with 200,116 residential_units"
       ]
      },
      {
       "output_type": "stream",
       "stream": "stdout",
       "text": [
        "\n",
        "366,732 feasible buildings after running developer\n",
        "Time to execute model = 5.725s"
       ]
      },
      {
       "output_type": "stream",
       "stream": "stdout",
       "text": [
        "\n",
        "Running model 'non_residential_developer'\n",
        "Number of agents: 6,036,652"
       ]
      },
      {
       "output_type": "stream",
       "stream": "stdout",
       "text": [
        "\n",
        "Number of agent spaces: 6,668,605\n",
        "Current vacancy = 0.09\n",
        "Target vacancy = 0.08, target of new units = 0\n",
        "366,732 feasible buildings before running developer\n",
        "Sum of net units that are profitable: 9,259,448"
       ]
      },
      {
       "output_type": "stream",
       "stream": "stdout",
       "text": [
        "\n",
        "Adding 0 buildings with 0 job_spaces"
       ]
      },
      {
       "output_type": "stream",
       "stream": "stdout",
       "text": [
        "\n",
        "366,732 feasible buildings after running developer\n",
        "Time to execute model = 9.872s"
       ]
      },
      {
       "output_type": "stream",
       "stream": "stdout",
       "text": [
        "\n",
        "Running model 'clear_cache'\n",
        "Time to execute model = 0.014s\n",
        "Time to execute year = 297.799s\n",
        "Running year 2018\n",
        "Running model 'neighborhood_vars'\n",
        "Computing accessibility variables\n",
        "Computing sum_residential_units\n",
        "Computing sum_nonresidential_units"
       ]
      },
      {
       "output_type": "stream",
       "stream": "stdout",
       "text": [
        "\n",
        "Computing ave_unit_sqft"
       ]
      },
      {
       "output_type": "stream",
       "stream": "stdout",
       "text": [
        "\n",
        "Computing ave_lot_sqft"
       ]
      },
      {
       "output_type": "stream",
       "stream": "stdout",
       "text": [
        "\n",
        "Computing population"
       ]
      },
      {
       "output_type": "stream",
       "stream": "stdout",
       "text": [
        "\n",
        "Computing poor"
       ]
      },
      {
       "output_type": "stream",
       "stream": "stdout",
       "text": [
        "\n",
        "Computing renters"
       ]
      },
      {
       "output_type": "stream",
       "stream": "stdout",
       "text": [
        "\n",
        "Computing sfdu"
       ]
      },
      {
       "output_type": "stream",
       "stream": "stdout",
       "text": [
        "\n",
        "Computing hhsize"
       ]
      },
      {
       "output_type": "stream",
       "stream": "stdout",
       "text": [
        "\n",
        "Computing jobs"
       ]
      },
      {
       "output_type": "stream",
       "stream": "stdout",
       "text": [
        "\n",
        "Computing ave_income"
       ]
      },
      {
       "output_type": "stream",
       "stream": "stdout",
       "text": [
        "\n",
        "Time to execute model = 113.847s"
       ]
      },
      {
       "output_type": "stream",
       "stream": "stdout",
       "text": [
        "\n",
        "Running model 'rsh_simulate'\n",
        "count    1817729.000000\n",
        "mean         385.614756\n",
        "std          183.947647\n",
        "min            2.950056\n",
        "25%          272.243508\n",
        "50%          356.357223\n",
        "75%          453.360237\n",
        "max        15329.325701\n",
        "dtype: float64"
       ]
      },
      {
       "output_type": "stream",
       "stream": "stdout",
       "text": [
        "\n",
        "Time to execute model = 25.961s"
       ]
      },
      {
       "output_type": "stream",
       "stream": "stdout",
       "text": [
        "\n",
        "Running model 'rrh_simulate'\n",
        "count    1817729.000000\n",
        "mean           2.963210\n",
        "std            0.523093\n",
        "min            0.444802\n",
        "25%            2.627168\n",
        "50%            2.920257\n",
        "75%            3.250243\n",
        "max           16.639043\n",
        "dtype: float64"
       ]
      },
      {
       "output_type": "stream",
       "stream": "stdout",
       "text": [
        "\n",
        "Time to execute model = 2.935s"
       ]
      },
      {
       "output_type": "stream",
       "stream": "stdout",
       "text": [
        "\n",
        "Running model 'nrh_simulate'\n",
        "count    116797.000000\n",
        "mean         21.681420\n",
        "std           7.431694\n",
        "min           0.401221\n",
        "25%          11.520048\n",
        "50%          24.412154\n",
        "75%          26.265074\n",
        "max          51.419657\n",
        "dtype: float64"
       ]
      },
      {
       "output_type": "stream",
       "stream": "stdout",
       "text": [
        "\n",
        "Time to execute model = 1.620s\n",
        "Running model 'households_relocation'\n",
        "Total agents: 3853238\n",
        "Total currently unplaced: 183488"
       ]
      },
      {
       "output_type": "stream",
       "stream": "stdout",
       "text": [
        "\n",
        "Assinging for relocation...\n",
        "Total currently unplaced: 366982"
       ]
      },
      {
       "output_type": "stream",
       "stream": "stdout",
       "text": [
        "\n",
        "Time to execute model = 2.791s\n",
        "Running model 'hlcmo_simulate'\n",
        "There are 4198661 total available units"
       ]
      },
      {
       "output_type": "stream",
       "stream": "stdout",
       "text": [
        "\n",
        "    and 3853238 total choosers\n",
        "    but there are 79 overfull buildings"
       ]
      },
      {
       "output_type": "stream",
       "stream": "stdout",
       "text": [
        "\n",
        "    for a total of 716028 temporarily empty units"
       ]
      },
      {
       "output_type": "stream",
       "stream": "stdout",
       "text": [
        "\n",
        "    in 298245 buildings total in the region\n",
        "Assigned 206662 choosers to new units"
       ]
      },
      {
       "output_type": "stream",
       "stream": "stdout",
       "text": [
        "\n",
        "Total currently unplaced: 160320"
       ]
      },
      {
       "output_type": "stream",
       "stream": "stdout",
       "text": [
        "\n",
        "    and there are now 506434 empty units"
       ]
      },
      {
       "output_type": "stream",
       "stream": "stdout",
       "text": [
        "\n",
        "    and 79 overfull buildings"
       ]
      },
      {
       "output_type": "stream",
       "stream": "stdout",
       "text": [
        "\n",
        "Time to execute model = 15.344s\n",
        "Running model 'hlcmr_simulate'\n",
        "There are 4198661 total available units"
       ]
      },
      {
       "output_type": "stream",
       "stream": "stdout",
       "text": [
        "\n",
        "    and 3853238 total choosers\n",
        "    but there are 79 overfull buildings"
       ]
      },
      {
       "output_type": "stream",
       "stream": "stdout",
       "text": [
        "\n",
        "    for a total of 509366 temporarily empty units"
       ]
      },
      {
       "output_type": "stream",
       "stream": "stdout",
       "text": [
        "\n",
        "    in 233808 buildings total in the region\n",
        "Assigned 160320 choosers to new units"
       ]
      },
      {
       "output_type": "stream",
       "stream": "stdout",
       "text": [
        "\n",
        "Total currently unplaced: 0"
       ]
      },
      {
       "output_type": "stream",
       "stream": "stdout",
       "text": [
        "\n",
        "    and there are now 346114 empty units"
       ]
      },
      {
       "output_type": "stream",
       "stream": "stdout",
       "text": [
        "\n",
        "    and 79 overfull buildings"
       ]
      },
      {
       "output_type": "stream",
       "stream": "stdout",
       "text": [
        "\n",
        "Time to execute model = 11.733s\n",
        "Running model 'households_transition'\n",
        "3853238 agents before transition"
       ]
      },
      {
       "output_type": "stream",
       "stream": "stdout",
       "text": [
        "\n",
        "4045900 agents after transition"
       ]
      },
      {
       "output_type": "stream",
       "stream": "stdout",
       "text": [
        "\n",
        "Time to execute model = 2.113s"
       ]
      },
      {
       "output_type": "stream",
       "stream": "stdout",
       "text": [
        "\n",
        "Running model 'jobs_relocation'\n",
        "Total agents: 6036652\n",
        "Total currently unplaced: 287460"
       ]
      },
      {
       "output_type": "stream",
       "stream": "stdout",
       "text": [
        "\n",
        "Assinging for relocation...\n",
        "Total currently unplaced: 575037"
       ]
      },
      {
       "output_type": "stream",
       "stream": "stdout",
       "text": [
        "\n",
        "Time to execute model = 3.250s\n",
        "Running model 'elcm_simulate'\n",
        "There are 6668605 total available units"
       ]
      },
      {
       "output_type": "stream",
       "stream": "stdout",
       "text": [
        "\n",
        "    and 6036652 total choosers\n",
        "    but there are 0 overfull buildings"
       ]
      },
      {
       "output_type": "stream",
       "stream": "stdout",
       "text": [
        "\n",
        "    for a total of 1300340 temporarily empty units"
       ]
      },
      {
       "output_type": "stream",
       "stream": "stdout",
       "text": [
        "\n",
        "    in 203573 buildings total in the region\n",
        "Assigned 575037 choosers to new units"
       ]
      },
      {
       "output_type": "stream",
       "stream": "stdout",
       "text": [
        "\n",
        "Total currently unplaced: 0"
       ]
      },
      {
       "output_type": "stream",
       "stream": "stdout",
       "text": [
        "\n",
        "    and there are now 725303 empty units"
       ]
      },
      {
       "output_type": "stream",
       "stream": "stdout",
       "text": [
        "\n",
        "    and 0 overfull buildings"
       ]
      },
      {
       "output_type": "stream",
       "stream": "stdout",
       "text": [
        "\n",
        "Time to execute model = 49.293s\n",
        "Running model 'jobs_transition'\n",
        "6036652 agents before transition"
       ]
      },
      {
       "output_type": "stream",
       "stream": "stdout",
       "text": [
        "\n",
        "6338485 agents after transition"
       ]
      },
      {
       "output_type": "stream",
       "stream": "stdout",
       "text": [
        "\n",
        "Time to execute model = 3.208s"
       ]
      },
      {
       "output_type": "stream",
       "stream": "stdout",
       "text": [
        "\n",
        "Running model 'price_vars'\n",
        "Computing accessibility variables\n",
        "Computing residential\n",
        "Computing retail"
       ]
      },
      {
       "output_type": "stream",
       "stream": "stdout",
       "text": [
        "\n",
        "Computing office"
       ]
      },
      {
       "output_type": "stream",
       "stream": "stdout",
       "text": [
        "\n",
        "Computing industrial"
       ]
      },
      {
       "output_type": "stream",
       "stream": "stdout",
       "text": [
        "\n",
        "Time to execute model = 3.918s"
       ]
      },
      {
       "output_type": "stream",
       "stream": "stdout",
       "text": [
        "\n",
        "Running model 'feasibility'\n",
        "Describe of the yearly rent by use"
       ]
      },
      {
       "output_type": "stream",
       "stream": "stdout",
       "text": [
        "\n",
        "               retail      industrial          office     residential\n",
        "count  2023915.000000  2023915.000000  2023915.000000  2023915.000000\n",
        "mean        24.436960        9.590755       23.625938       17.850856\n",
        "std          6.827547        3.303333        5.703492        7.067512\n",
        "min          0.000000        0.000000        0.000000        0.000000\n",
        "25%         23.048805       10.117872       24.416037       13.345670\n",
        "50%         25.542877       10.634761       24.949539       17.297179\n",
        "75%         28.039095       11.030066       25.418146       21.012161\n",
        "max         50.781826       17.807198       43.307137       44.386301\n",
        "\n",
        "[8 rows x 4 columns]"
       ]
      },
      {
       "output_type": "stream",
       "stream": "stdout",
       "text": [
        "\n",
        "Computing feasibility for form mixedoffice\n",
        "Computing feasibility for form industrial"
       ]
      },
      {
       "output_type": "stream",
       "stream": "stdout",
       "text": [
        "\n",
        "Computing feasibility for form office"
       ]
      },
      {
       "output_type": "stream",
       "stream": "stdout",
       "text": [
        "\n",
        "Computing feasibility for form residential"
       ]
      },
      {
       "output_type": "stream",
       "stream": "stdout",
       "text": [
        "\n",
        "Computing feasibility for form mixedresidential"
       ]
      },
      {
       "output_type": "stream",
       "stream": "stdout",
       "text": [
        "\n",
        "Computing feasibility for form retail"
       ]
      },
      {
       "output_type": "stream",
       "stream": "stdout",
       "text": [
        "\n",
        "Time to execute model = 44.192s"
       ]
      },
      {
       "output_type": "stream",
       "stream": "stdout",
       "text": [
        "\n",
        "Running model 'residential_developer'\n",
        "Number of agents: 4,045,900"
       ]
      },
      {
       "output_type": "stream",
       "stream": "stdout",
       "text": [
        "\n",
        "Number of agent spaces: 4,198,661\n",
        "Current vacancy = 0.04\n",
        "Target vacancy = 0.08, target of new units = 199,056\n",
        "369,030 feasible buildings before running developer\n",
        "Sum of net units that are profitable: 2,197,337"
       ]
      },
      {
       "output_type": "stream",
       "stream": "stdout",
       "text": [
        "\n",
        "Adding 6,871 buildings with 212,464 residential_units"
       ]
      },
      {
       "output_type": "stream",
       "stream": "stdout",
       "text": [
        "\n",
        "362,159 feasible buildings after running developer\n",
        "Time to execute model = 6.083s"
       ]
      },
      {
       "output_type": "stream",
       "stream": "stdout",
       "text": [
        "\n",
        "Running model 'non_residential_developer'\n",
        "Number of agents: 6,338,485"
       ]
      },
      {
       "output_type": "stream",
       "stream": "stdout",
       "text": [
        "\n",
        "Number of agent spaces: 6,668,605\n",
        "Current vacancy = 0.05\n",
        "Target vacancy = 0.08, target of new units = 221,052\n",
        "362,159 feasible buildings before running developer\n",
        "Sum of net units that are profitable: 9,082,196"
       ]
      },
      {
       "output_type": "stream",
       "stream": "stdout",
       "text": [
        "\n",
        "Adding 777 buildings with 235,042 job_spaces"
       ]
      },
      {
       "output_type": "stream",
       "stream": "stdout",
       "text": [
        "\n",
        "361,382 feasible buildings after running developer\n",
        "Time to execute model = 10.009s"
       ]
      },
      {
       "output_type": "stream",
       "stream": "stdout",
       "text": [
        "\n",
        "Running model 'clear_cache'\n",
        "Time to execute model = 0.015s\n",
        "Time to execute year = 296.316s\n",
        "Running year 2019\n",
        "Running model 'neighborhood_vars'\n",
        "Computing accessibility variables\n",
        "Computing sum_residential_units"
       ]
      },
      {
       "output_type": "stream",
       "stream": "stdout",
       "text": [
        "\n",
        "Computing sum_nonresidential_units"
       ]
      },
      {
       "output_type": "stream",
       "stream": "stdout",
       "text": [
        "\n",
        "Computing ave_unit_sqft"
       ]
      },
      {
       "output_type": "stream",
       "stream": "stdout",
       "text": [
        "\n",
        "Computing ave_lot_sqft"
       ]
      },
      {
       "output_type": "stream",
       "stream": "stdout",
       "text": [
        "\n",
        "Computing population"
       ]
      },
      {
       "output_type": "stream",
       "stream": "stdout",
       "text": [
        "\n",
        "Computing poor"
       ]
      },
      {
       "output_type": "stream",
       "stream": "stdout",
       "text": [
        "\n",
        "Computing renters"
       ]
      },
      {
       "output_type": "stream",
       "stream": "stdout",
       "text": [
        "\n",
        "Computing sfdu"
       ]
      },
      {
       "output_type": "stream",
       "stream": "stdout",
       "text": [
        "\n",
        "Computing hhsize"
       ]
      },
      {
       "output_type": "stream",
       "stream": "stdout",
       "text": [
        "\n",
        "Computing jobs"
       ]
      },
      {
       "output_type": "stream",
       "stream": "stdout",
       "text": [
        "\n",
        "Computing ave_income"
       ]
      },
      {
       "output_type": "stream",
       "stream": "stdout",
       "text": [
        "\n",
        "Time to execute model = 118.872s"
       ]
      },
      {
       "output_type": "stream",
       "stream": "stdout",
       "text": [
        "\n",
        "Running model 'rsh_simulate'\n",
        "count    1824600.000000\n",
        "mean         389.080562\n",
        "std          187.939938\n",
        "min            2.998142\n",
        "25%          273.068807\n",
        "50%          357.660191\n",
        "75%          456.596137\n",
        "max        15440.585034\n",
        "dtype: float64"
       ]
      },
      {
       "output_type": "stream",
       "stream": "stdout",
       "text": [
        "\n",
        "Time to execute model = 26.204s"
       ]
      },
      {
       "output_type": "stream",
       "stream": "stdout",
       "text": [
        "\n",
        "Running model 'rrh_simulate'\n",
        "count    1824600.000000\n",
        "mean           2.978310\n",
        "std            0.528074\n",
        "min            0.444802\n",
        "25%            2.638179\n",
        "50%            2.934509\n",
        "75%            3.269422\n",
        "max           16.672522\n",
        "dtype: float64"
       ]
      },
      {
       "output_type": "stream",
       "stream": "stdout",
       "text": [
        "\n",
        "Time to execute model = 2.960s"
       ]
      },
      {
       "output_type": "stream",
       "stream": "stdout",
       "text": [
        "\n",
        "Running model 'nrh_simulate'\n",
        "count    117574.000000\n",
        "mean         21.810716\n",
        "std           7.485750\n",
        "min           0.401221\n",
        "25%          11.557096\n",
        "50%          24.521259\n",
        "75%          26.381190\n",
        "max          51.551438\n",
        "dtype: float64"
       ]
      },
      {
       "output_type": "stream",
       "stream": "stdout",
       "text": [
        "\n",
        "Time to execute model = 1.585s\n",
        "Running model 'households_relocation'\n",
        "Total agents: 4045900\n",
        "Total currently unplaced: 192662"
       ]
      },
      {
       "output_type": "stream",
       "stream": "stdout",
       "text": [
        "\n",
        "Assinging for relocation...\n",
        "Total currently unplaced: 385456"
       ]
      },
      {
       "output_type": "stream",
       "stream": "stdout",
       "text": [
        "\n",
        "Time to execute model = 2.994s\n",
        "Running model 'hlcmo_simulate'\n",
        "There are 4411125 total available units"
       ]
      },
      {
       "output_type": "stream",
       "stream": "stdout",
       "text": [
        "\n",
        "    and 4045900 total choosers\n",
        "    but there are 75 overfull buildings"
       ]
      },
      {
       "output_type": "stream",
       "stream": "stdout",
       "text": [
        "\n",
        "    for a total of 754061 temporarily empty units"
       ]
      },
      {
       "output_type": "stream",
       "stream": "stdout",
       "text": [
        "\n",
        "    in 308488 buildings total in the region\n",
        "Assigned 216472 choosers to new units"
       ]
      },
      {
       "output_type": "stream",
       "stream": "stdout",
       "text": [
        "\n",
        "Total currently unplaced: 168984"
       ]
      },
      {
       "output_type": "stream",
       "stream": "stdout",
       "text": [
        "\n",
        "    and there are now 534877 empty units"
       ]
      },
      {
       "output_type": "stream",
       "stream": "stdout",
       "text": [
        "\n",
        "    and 75 overfull buildings"
       ]
      },
      {
       "output_type": "stream",
       "stream": "stdout",
       "text": [
        "\n",
        "Time to execute model = 15.309s\n",
        "Running model 'hlcmr_simulate'\n",
        "There are 4411125 total available units"
       ]
      },
      {
       "output_type": "stream",
       "stream": "stdout",
       "text": [
        "\n",
        "    and 4045900 total choosers\n",
        "    but there are 75 overfull buildings"
       ]
      },
      {
       "output_type": "stream",
       "stream": "stdout",
       "text": [
        "\n",
        "    for a total of 537589 temporarily empty units"
       ]
      },
      {
       "output_type": "stream",
       "stream": "stdout",
       "text": [
        "\n",
        "    in 243477 buildings total in the region\n",
        "Assigned 168984 choosers to new units"
       ]
      },
      {
       "output_type": "stream",
       "stream": "stdout",
       "text": [
        "\n",
        "Total currently unplaced: 0"
       ]
      },
      {
       "output_type": "stream",
       "stream": "stdout",
       "text": [
        "\n",
        "    and there are now 365893 empty units"
       ]
      },
      {
       "output_type": "stream",
       "stream": "stdout",
       "text": [
        "\n",
        "    and 75 overfull buildings"
       ]
      },
      {
       "output_type": "stream",
       "stream": "stdout",
       "text": [
        "\n",
        "Time to execute model = 12.075s\n",
        "Running model 'households_transition'\n",
        "4045900 agents before transition"
       ]
      },
      {
       "output_type": "stream",
       "stream": "stdout",
       "text": [
        "\n",
        "4248195 agents after transition"
       ]
      },
      {
       "output_type": "stream",
       "stream": "stdout",
       "text": [
        "\n",
        "Time to execute model = 1.914s"
       ]
      },
      {
       "output_type": "stream",
       "stream": "stdout",
       "text": [
        "\n",
        "Running model 'jobs_relocation'\n",
        "Total agents: 6338485\n",
        "Total currently unplaced: 301833"
       ]
      },
      {
       "output_type": "stream",
       "stream": "stdout",
       "text": [
        "\n",
        "Assinging for relocation...\n",
        "Total currently unplaced: 603592"
       ]
      },
      {
       "output_type": "stream",
       "stream": "stdout",
       "text": [
        "\n",
        "Time to execute model = 3.209s\n",
        "Running model 'elcm_simulate'\n",
        "There are 6913185 total available units"
       ]
      },
      {
       "output_type": "stream",
       "stream": "stdout",
       "text": [
        "\n",
        "    and 6338485 total choosers\n",
        "    but there are 0 overfull buildings"
       ]
      },
      {
       "output_type": "stream",
       "stream": "stdout",
       "text": [
        "\n",
        "    for a total of 1266973 temporarily empty units"
       ]
      },
      {
       "output_type": "stream",
       "stream": "stdout",
       "text": [
        "\n",
        "    in 196525 buildings total in the region\n",
        "Assigned 603592 choosers to new units"
       ]
      },
      {
       "output_type": "stream",
       "stream": "stdout",
       "text": [
        "\n",
        "Total currently unplaced: 0"
       ]
      },
      {
       "output_type": "stream",
       "stream": "stdout",
       "text": [
        "\n",
        "    and there are now 663381 empty units"
       ]
      },
      {
       "output_type": "stream",
       "stream": "stdout",
       "text": [
        "\n",
        "    and 0 overfull buildings"
       ]
      },
      {
       "output_type": "stream",
       "stream": "stdout",
       "text": [
        "\n",
        "Time to execute model = 50.002s\n",
        "Running model 'jobs_transition'\n",
        "6338485 agents before transition"
       ]
      },
      {
       "output_type": "stream",
       "stream": "stdout",
       "text": [
        "\n",
        "6655409 agents after transition"
       ]
      },
      {
       "output_type": "stream",
       "stream": "stdout",
       "text": [
        "\n",
        "Time to execute model = 3.675s"
       ]
      },
      {
       "output_type": "stream",
       "stream": "stdout",
       "text": [
        "\n",
        "Running model 'price_vars'\n",
        "Computing accessibility variables\n",
        "Computing residential\n",
        "Computing retail"
       ]
      },
      {
       "output_type": "stream",
       "stream": "stdout",
       "text": [
        "\n",
        "Computing office"
       ]
      },
      {
       "output_type": "stream",
       "stream": "stdout",
       "text": [
        "\n",
        "Computing industrial"
       ]
      },
      {
       "output_type": "stream",
       "stream": "stdout",
       "text": [
        "\n",
        "Time to execute model = 3.950s"
       ]
      },
      {
       "output_type": "stream",
       "stream": "stdout",
       "text": [
        "\n",
        "Running model 'feasibility'\n",
        "Describe of the yearly rent by use"
       ]
      },
      {
       "output_type": "stream",
       "stream": "stdout",
       "text": [
        "\n",
        "               retail      industrial          office     residential\n",
        "count  2023915.000000  2023915.000000  2023915.000000  2023915.000000\n",
        "mean        24.647159        9.610189       23.677746       17.962406\n",
        "std          6.826356        3.309852        5.661899        7.227593\n",
        "min          0.000000        0.000000        0.000000        0.000000\n",
        "25%         23.242289       10.137878       24.445734       13.368248\n",
        "50%         25.723749       10.658760       24.982422       17.330717\n",
        "75%         28.319393       11.052385       25.448046       21.072963\n",
        "max         50.911102       17.821510       43.327068       44.845303\n",
        "\n",
        "[8 rows x 4 columns]"
       ]
      },
      {
       "output_type": "stream",
       "stream": "stdout",
       "text": [
        "\n",
        "Computing feasibility for form mixedoffice\n",
        "Computing feasibility for form industrial"
       ]
      },
      {
       "output_type": "stream",
       "stream": "stdout",
       "text": [
        "\n",
        "Computing feasibility for form office"
       ]
      },
      {
       "output_type": "stream",
       "stream": "stdout",
       "text": [
        "\n",
        "Computing feasibility for form residential"
       ]
      },
      {
       "output_type": "stream",
       "stream": "stdout",
       "text": [
        "\n",
        "Computing feasibility for form mixedresidential"
       ]
      },
      {
       "output_type": "stream",
       "stream": "stdout",
       "text": [
        "\n",
        "Computing feasibility for form retail"
       ]
      },
      {
       "output_type": "stream",
       "stream": "stdout",
       "text": [
        "\n",
        "Time to execute model = 44.218s"
       ]
      },
      {
       "output_type": "stream",
       "stream": "stdout",
       "text": [
        "\n",
        "Running model 'residential_developer'\n",
        "Number of agents: 4,248,195"
       ]
      },
      {
       "output_type": "stream",
       "stream": "stdout",
       "text": [
        "\n",
        "Number of agent spaces: 4,411,125\n",
        "Current vacancy = 0.04\n",
        "Target vacancy = 0.08, target of new units = 206,478\n",
        "365,017 feasible buildings before running developer\n",
        "Sum of net units that are profitable: 2,033,308"
       ]
      },
      {
       "output_type": "stream",
       "stream": "stdout",
       "text": [
        "\n",
        "Adding 8,549 buildings with 222,737 residential_units"
       ]
      },
      {
       "output_type": "stream",
       "stream": "stdout",
       "text": [
        "\n",
        "356,468 feasible buildings after running developer\n",
        "Time to execute model = 6.085s"
       ]
      },
      {
       "output_type": "stream",
       "stream": "stdout",
       "text": [
        "\n",
        "Running model 'non_residential_developer'\n",
        "Number of agents: 6,655,409"
       ]
      },
      {
       "output_type": "stream",
       "stream": "stdout",
       "text": [
        "\n",
        "Number of agent spaces: 6,913,185\n",
        "Current vacancy = 0.04\n",
        "Target vacancy = 0.08, target of new units = 320,955\n",
        "356,468 feasible buildings before running developer\n",
        "Sum of net units that are profitable: 8,877,774"
       ]
      },
      {
       "output_type": "stream",
       "stream": "stdout",
       "text": [
        "\n",
        "Adding 1,191 buildings with 342,605 job_spaces"
       ]
      },
      {
       "output_type": "stream",
       "stream": "stdout",
       "text": [
        "\n",
        "355,277 feasible buildings after running developer\n",
        "Time to execute model = 9.869s"
       ]
      },
      {
       "output_type": "stream",
       "stream": "stdout",
       "text": [
        "\n",
        "Running model 'clear_cache'\n",
        "Time to execute model = 0.017s\n",
        "Time to execute year = 302.943s\n",
        "Running year 2020"
       ]
      },
      {
       "output_type": "stream",
       "stream": "stdout",
       "text": [
        "\n",
        "Running model 'neighborhood_vars'\n",
        "Computing accessibility variables\n",
        "Computing sum_residential_units"
       ]
      },
      {
       "output_type": "stream",
       "stream": "stdout",
       "text": [
        "\n",
        "Computing sum_nonresidential_units"
       ]
      },
      {
       "output_type": "stream",
       "stream": "stdout",
       "text": [
        "\n",
        "Computing ave_unit_sqft"
       ]
      },
      {
       "output_type": "stream",
       "stream": "stdout",
       "text": [
        "\n",
        "Computing ave_lot_sqft"
       ]
      },
      {
       "output_type": "stream",
       "stream": "stdout",
       "text": [
        "\n",
        "Computing population"
       ]
      },
      {
       "output_type": "stream",
       "stream": "stdout",
       "text": [
        "\n",
        "Computing poor"
       ]
      },
      {
       "output_type": "stream",
       "stream": "stdout",
       "text": [
        "\n",
        "Computing renters"
       ]
      },
      {
       "output_type": "stream",
       "stream": "stdout",
       "text": [
        "\n",
        "Computing sfdu"
       ]
      },
      {
       "output_type": "stream",
       "stream": "stdout",
       "text": [
        "\n",
        "Computing hhsize"
       ]
      },
      {
       "output_type": "stream",
       "stream": "stdout",
       "text": [
        "\n",
        "Computing jobs"
       ]
      },
      {
       "output_type": "stream",
       "stream": "stdout",
       "text": [
        "\n",
        "Computing ave_income"
       ]
      },
      {
       "output_type": "stream",
       "stream": "stdout",
       "text": [
        "\n",
        "Time to execute model = 24.307s"
       ]
      },
      {
       "output_type": "stream",
       "stream": "stdout",
       "text": [
        "\n",
        "Running model 'rsh_simulate'\n",
        "count    1833149.000000\n",
        "mean         393.127376\n",
        "std          192.641638\n",
        "min            2.967203\n",
        "25%          273.994289\n",
        "50%          359.187089\n",
        "75%          460.353054\n",
        "max        15533.813251\n",
        "dtype: float64"
       ]
      },
      {
       "output_type": "stream",
       "stream": "stdout",
       "text": [
        "\n",
        "Time to execute model = 4.031s"
       ]
      },
      {
       "output_type": "stream",
       "stream": "stdout",
       "text": [
        "\n",
        "Running model 'rrh_simulate'\n",
        "count    1833149.000000\n",
        "mean           2.991846\n",
        "std            0.531750\n",
        "min            0.443705\n",
        "25%            2.648775\n",
        "50%            2.946185\n",
        "75%            3.285341\n",
        "max           16.680491\n",
        "dtype: float64"
       ]
      },
      {
       "output_type": "stream",
       "stream": "stdout",
       "text": [
        "\n",
        "Time to execute model = 3.088s"
       ]
      },
      {
       "output_type": "stream",
       "stream": "stdout",
       "text": [
        "\n",
        "Running model 'nrh_simulate'\n",
        "count    118765.000000\n",
        "mean         21.932729\n",
        "std           7.513485\n",
        "min           0.401221\n",
        "25%          11.602735\n",
        "50%          24.609140\n",
        "75%          26.499296\n",
        "max          51.639576\n",
        "dtype: float64"
       ]
      },
      {
       "output_type": "stream",
       "stream": "stdout",
       "text": [
        "\n",
        "Time to execute model = 1.667s\n",
        "Running model 'households_relocation'\n",
        "Total agents: 4248195\n",
        "Total currently unplaced: 202295"
       ]
      },
      {
       "output_type": "stream",
       "stream": "stdout",
       "text": [
        "\n",
        "Assinging for relocation...\n",
        "Total currently unplaced: 404540"
       ]
      },
      {
       "output_type": "stream",
       "stream": "stdout",
       "text": [
        "\n",
        "Time to execute model = 3.265s\n",
        "Running model 'hlcmo_simulate'\n",
        "There are 4633862 total available units"
       ]
      },
      {
       "output_type": "stream",
       "stream": "stdout",
       "text": [
        "\n",
        "    and 4248195 total choosers\n",
        "    but there are 74 overfull buildings"
       ]
      },
      {
       "output_type": "stream",
       "stream": "stdout",
       "text": [
        "\n",
        "    for a total of 793374 temporarily empty units"
       ]
      },
      {
       "output_type": "stream",
       "stream": "stdout",
       "text": [
        "\n",
        "    in 320316 buildings total in the region\n",
        "Assigned 227226 choosers to new units"
       ]
      },
      {
       "output_type": "stream",
       "stream": "stdout",
       "text": [
        "\n",
        "Total currently unplaced: 177314"
       ]
      },
      {
       "output_type": "stream",
       "stream": "stdout",
       "text": [
        "\n",
        "    and there are now 563616 empty units"
       ]
      },
      {
       "output_type": "stream",
       "stream": "stdout",
       "text": [
        "\n",
        "    and 74 overfull buildings"
       ]
      },
      {
       "output_type": "stream",
       "stream": "stdout",
       "text": [
        "\n",
        "Time to execute model = 16.180s\n",
        "Running model 'hlcmr_simulate'\n",
        "There are 4633862 total available units"
       ]
      },
      {
       "output_type": "stream",
       "stream": "stdout",
       "text": [
        "\n",
        "    and 4248195 total choosers\n",
        "    but there are 74 overfull buildings"
       ]
      },
      {
       "output_type": "stream",
       "stream": "stdout",
       "text": [
        "\n",
        "    for a total of 566148 temporarily empty units"
       ]
      },
      {
       "output_type": "stream",
       "stream": "stdout",
       "text": [
        "\n",
        "    in 254338 buildings total in the region\n",
        "Assigned 177314 choosers to new units"
       ]
      },
      {
       "output_type": "stream",
       "stream": "stdout",
       "text": [
        "\n",
        "Total currently unplaced: 0"
       ]
      },
      {
       "output_type": "stream",
       "stream": "stdout",
       "text": [
        "\n",
        "    and there are now 386302 empty units"
       ]
      },
      {
       "output_type": "stream",
       "stream": "stdout",
       "text": [
        "\n",
        "    and 74 overfull buildings"
       ]
      },
      {
       "output_type": "stream",
       "stream": "stdout",
       "text": [
        "\n",
        "Time to execute model = 12.830s\n",
        "Running model 'households_transition'\n",
        "4248195 agents before transition"
       ]
      },
      {
       "output_type": "stream",
       "stream": "stdout",
       "text": [
        "\n",
        "4460605 agents after transition"
       ]
      },
      {
       "output_type": "stream",
       "stream": "stdout",
       "text": [
        "\n",
        "Time to execute model = 2.011s"
       ]
      },
      {
       "output_type": "stream",
       "stream": "stdout",
       "text": [
        "\n",
        "Running model 'jobs_relocation'\n",
        "Total agents: 6655409\n",
        "Total currently unplaced: 316924"
       ]
      },
      {
       "output_type": "stream",
       "stream": "stdout",
       "text": [
        "\n",
        "Assinging for relocation...\n",
        "Total currently unplaced: 633693"
       ]
      },
      {
       "output_type": "stream",
       "stream": "stdout",
       "text": [
        "\n",
        "Time to execute model = 3.621s\n",
        "Running model 'elcm_simulate'\n",
        "There are 7267737 total available units"
       ]
      },
      {
       "output_type": "stream",
       "stream": "stdout",
       "text": [
        "\n",
        "    and 6655409 total choosers\n",
        "    but there are 0 overfull buildings"
       ]
      },
      {
       "output_type": "stream",
       "stream": "stdout",
       "text": [
        "\n",
        "    for a total of 1330271 temporarily empty units"
       ]
      },
      {
       "output_type": "stream",
       "stream": "stdout",
       "text": [
        "\n",
        "    in 192502 buildings total in the region\n",
        "Assigned 633693 choosers to new units"
       ]
      },
      {
       "output_type": "stream",
       "stream": "stdout",
       "text": [
        "\n",
        "Total currently unplaced: 0"
       ]
      },
      {
       "output_type": "stream",
       "stream": "stdout",
       "text": [
        "\n",
        "    and there are now 696578 empty units"
       ]
      },
      {
       "output_type": "stream",
       "stream": "stdout",
       "text": [
        "\n",
        "    and 0 overfull buildings"
       ]
      },
      {
       "output_type": "stream",
       "stream": "stdout",
       "text": [
        "\n",
        "Time to execute model = 56.483s\n",
        "Running model 'jobs_transition'\n",
        "6655409 agents before transition"
       ]
      },
      {
       "output_type": "stream",
       "stream": "stdout",
       "text": [
        "\n",
        "6988179 agents after transition"
       ]
      },
      {
       "output_type": "stream",
       "stream": "stdout",
       "text": [
        "\n",
        "Time to execute model = 5.483s"
       ]
      },
      {
       "output_type": "stream",
       "stream": "stdout",
       "text": [
        "\n",
        "Running model 'price_vars'\n",
        "Computing accessibility variables\n",
        "Computing residential\n",
        "Computing retail"
       ]
      },
      {
       "output_type": "stream",
       "stream": "stdout",
       "text": [
        "\n",
        "Computing office"
       ]
      },
      {
       "output_type": "stream",
       "stream": "stdout",
       "text": [
        "\n",
        "Computing industrial"
       ]
      },
      {
       "output_type": "stream",
       "stream": "stdout",
       "text": [
        "\n",
        "Time to execute model = 5.024s"
       ]
      },
      {
       "output_type": "stream",
       "stream": "stdout",
       "text": [
        "\n",
        "Running model 'feasibility'\n",
        "Describe of the yearly rent by use"
       ]
      },
      {
       "output_type": "stream",
       "stream": "stdout",
       "text": [
        "\n",
        "               retail      industrial          office     residential\n",
        "count  2023915.000000  2023915.000000  2023915.000000  2023915.000000\n",
        "mean        24.814651        9.626776       23.710717       18.083784\n",
        "std          6.828431        3.315437        5.653232        7.415627\n",
        "min          0.000000        0.000000        0.000000        0.000000\n",
        "25%         23.429640       10.155117       24.467426       13.391296\n",
        "50%         25.895191       10.681106       25.008018       17.364616\n",
        "75%         28.501554       11.071801       25.479996       21.138092\n",
        "max         51.062859       17.824476       43.333855       45.338904\n",
        "\n",
        "[8 rows x 4 columns]"
       ]
      },
      {
       "output_type": "stream",
       "stream": "stdout",
       "text": [
        "\n",
        "Computing feasibility for form mixedoffice\n",
        "Computing feasibility for form industrial"
       ]
      },
      {
       "output_type": "stream",
       "stream": "stdout",
       "text": [
        "\n",
        "Computing feasibility for form office"
       ]
      },
      {
       "output_type": "stream",
       "stream": "stdout",
       "text": [
        "\n",
        "Computing feasibility for form residential"
       ]
      },
      {
       "output_type": "stream",
       "stream": "stdout",
       "text": [
        "\n",
        "Computing feasibility for form mixedresidential"
       ]
      },
      {
       "output_type": "stream",
       "stream": "stdout",
       "text": [
        "\n",
        "Computing feasibility for form retail"
       ]
      },
      {
       "output_type": "stream",
       "stream": "stdout",
       "text": [
        "\n",
        "Time to execute model = 42.972s"
       ]
      },
      {
       "output_type": "stream",
       "stream": "stdout",
       "text": [
        "\n",
        "Running model 'residential_developer'\n",
        "Number of agents: 4,460,605"
       ]
      },
      {
       "output_type": "stream",
       "stream": "stdout",
       "text": [
        "\n",
        "Number of agent spaces: 4,633,862\n",
        "Current vacancy = 0.04\n",
        "Target vacancy = 0.08, target of new units = 214,621\n",
        "357,397 feasible buildings before running developer\n",
        "Sum of net units that are profitable: 1,859,473"
       ]
      },
      {
       "output_type": "stream",
       "stream": "stdout",
       "text": [
        "\n",
        "Adding 10,544 buildings with 233,824 residential_units"
       ]
      },
      {
       "output_type": "stream",
       "stream": "stdout",
       "text": [
        "\n",
        "346,853 feasible buildings after running developer\n",
        "Time to execute model = 6.857s"
       ]
      },
      {
       "output_type": "stream",
       "stream": "stdout",
       "text": [
        "\n",
        "Running model 'non_residential_developer'\n",
        "Number of agents: 6,988,179"
       ]
      },
      {
       "output_type": "stream",
       "stream": "stdout",
       "text": [
        "\n",
        "Number of agent spaces: 7,267,737\n",
        "Current vacancy = 0.04\n",
        "Target vacancy = 0.08, target of new units = 328,109\n",
        "346,853 feasible buildings before running developer\n",
        "Sum of net units that are profitable: 8,429,339"
       ]
      },
      {
       "output_type": "stream",
       "stream": "stdout",
       "text": [
        "\n",
        "Adding 1,184 buildings with 351,275 job_spaces"
       ]
      },
      {
       "output_type": "stream",
       "stream": "stdout",
       "text": [
        "\n",
        "345,669 feasible buildings after running developer\n",
        "Time to execute model = 10.719s"
       ]
      },
      {
       "output_type": "stream",
       "stream": "stdout",
       "text": [
        "\n",
        "Running model 'clear_cache'\n",
        "Time to execute model = 0.018s\n",
        "Time to execute year = 198.562s\n",
        "Running year 2021\n",
        "Running model 'neighborhood_vars'\n",
        "Computing accessibility variables\n",
        "Computing sum_residential_units"
       ]
      },
      {
       "output_type": "stream",
       "stream": "stdout",
       "text": [
        "\n",
        "Computing sum_nonresidential_units"
       ]
      },
      {
       "output_type": "stream",
       "stream": "stdout",
       "text": [
        "\n",
        "Computing ave_unit_sqft"
       ]
      },
      {
       "output_type": "stream",
       "stream": "stdout",
       "text": [
        "\n",
        "Computing ave_lot_sqft"
       ]
      },
      {
       "output_type": "stream",
       "stream": "stdout",
       "text": [
        "\n",
        "Computing population"
       ]
      },
      {
       "output_type": "stream",
       "stream": "stdout",
       "text": [
        "\n",
        "Computing poor"
       ]
      },
      {
       "output_type": "stream",
       "stream": "stdout",
       "text": [
        "\n",
        "Computing renters"
       ]
      },
      {
       "output_type": "stream",
       "stream": "stdout",
       "text": [
        "\n",
        "Computing sfdu"
       ]
      },
      {
       "output_type": "stream",
       "stream": "stdout",
       "text": [
        "\n",
        "Computing hhsize"
       ]
      },
      {
       "output_type": "stream",
       "stream": "stdout",
       "text": [
        "\n",
        "Computing jobs"
       ]
      },
      {
       "output_type": "stream",
       "stream": "stdout",
       "text": [
        "\n",
        "Computing ave_income"
       ]
      },
      {
       "output_type": "stream",
       "stream": "stdout",
       "text": [
        "\n",
        "Time to execute model = 142.272s"
       ]
      },
      {
       "output_type": "stream",
       "stream": "stdout",
       "text": [
        "\n",
        "Running model 'rsh_simulate'\n",
        "count    1843693.000000\n",
        "mean         397.933677\n",
        "std          198.244479\n",
        "min            2.967203\n",
        "25%          274.995379\n",
        "50%          360.891913\n",
        "75%          464.942976\n",
        "max        15658.647925\n",
        "dtype: float64"
       ]
      },
      {
       "output_type": "stream",
       "stream": "stdout",
       "text": [
        "\n",
        "Time to execute model = 27.979s"
       ]
      },
      {
       "output_type": "stream",
       "stream": "stdout",
       "text": [
        "\n",
        "Running model 'rrh_simulate'\n",
        "count    1843693.000000\n",
        "mean           3.004520\n",
        "std            0.535230\n",
        "min            0.444802\n",
        "25%            2.659518\n",
        "50%            2.957463\n",
        "75%            3.299888\n",
        "max           16.679123\n",
        "dtype: float64"
       ]
      },
      {
       "output_type": "stream",
       "stream": "stdout",
       "text": [
        "\n",
        "Time to execute model = 3.245s"
       ]
      },
      {
       "output_type": "stream",
       "stream": "stdout",
       "text": [
        "\n",
        "Running model 'nrh_simulate'\n",
        "count    119949.000000\n",
        "mean         22.049109\n",
        "std           7.535309\n",
        "min           0.401221\n",
        "25%          11.663156\n",
        "50%          24.689874\n",
        "75%          26.619230\n",
        "max          48.466457\n",
        "dtype: float64"
       ]
      },
      {
       "output_type": "stream",
       "stream": "stdout",
       "text": [
        "\n",
        "Time to execute model = 1.741s\n",
        "Running model 'households_relocation'\n",
        "Total agents: 4460605\n",
        "Total currently unplaced: 212410"
       ]
      },
      {
       "output_type": "stream",
       "stream": "stdout",
       "text": [
        "\n",
        "Assinging for relocation...\n",
        "Total currently unplaced: 424755"
       ]
      },
      {
       "output_type": "stream",
       "stream": "stdout",
       "text": [
        "\n",
        "Time to execute model = 3.766s\n",
        "Running model 'hlcmo_simulate'\n",
        "There are 4867686 total available units"
       ]
      },
      {
       "output_type": "stream",
       "stream": "stdout",
       "text": [
        "\n",
        "    and 4460605 total choosers\n",
        "    but there are 73 overfull buildings"
       ]
      },
      {
       "output_type": "stream",
       "stream": "stdout",
       "text": [
        "\n",
        "    for a total of 834767 temporarily empty units"
       ]
      },
      {
       "output_type": "stream",
       "stream": "stdout",
       "text": [
        "\n",
        "    in 333331 buildings total in the region\n",
        "Assigned 238571 choosers to new units"
       ]
      },
      {
       "output_type": "stream",
       "stream": "stdout",
       "text": [
        "\n",
        "Total currently unplaced: 186184"
       ]
      },
      {
       "output_type": "stream",
       "stream": "stdout",
       "text": [
        "\n",
        "    and there are now 593874 empty units"
       ]
      },
      {
       "output_type": "stream",
       "stream": "stdout",
       "text": [
        "\n",
        "    and 73 overfull buildings"
       ]
      },
      {
       "output_type": "stream",
       "stream": "stdout",
       "text": [
        "\n",
        "Time to execute model = 18.763s\n",
        "Running model 'hlcmr_simulate'\n",
        "There are 4867686 total available units"
       ]
      },
      {
       "output_type": "stream",
       "stream": "stdout",
       "text": [
        "\n",
        "    and 4460605 total choosers\n",
        "    but there are 73 overfull buildings"
       ]
      },
      {
       "output_type": "stream",
       "stream": "stdout",
       "text": [
        "\n",
        "    for a total of 596196 temporarily empty units"
       ]
      },
      {
       "output_type": "stream",
       "stream": "stdout",
       "text": [
        "\n",
        "    in 265590 buildings total in the region\n",
        "Assigned 186184 choosers to new units"
       ]
      },
      {
       "output_type": "stream",
       "stream": "stdout",
       "text": [
        "\n",
        "Total currently unplaced: 0"
       ]
      },
      {
       "output_type": "stream",
       "stream": "stdout",
       "text": [
        "\n",
        "    and there are now 407690 empty units"
       ]
      },
      {
       "output_type": "stream",
       "stream": "stdout",
       "text": [
        "\n",
        "    and 73 overfull buildings"
       ]
      },
      {
       "output_type": "stream",
       "stream": "stdout",
       "text": [
        "\n",
        "Time to execute model = 15.155s\n",
        "Running model 'households_transition'\n",
        "4460605 agents before transition"
       ]
      },
      {
       "output_type": "stream",
       "stream": "stdout",
       "text": [
        "\n",
        "4683635 agents after transition"
       ]
      },
      {
       "output_type": "stream",
       "stream": "stdout",
       "text": [
        "\n",
        "Time to execute model = 2.378s"
       ]
      },
      {
       "output_type": "stream",
       "stream": "stdout",
       "text": [
        "\n",
        "Running model 'jobs_relocation'\n",
        "Total agents: 6988179\n",
        "Total currently unplaced: 332770"
       ]
      },
      {
       "output_type": "stream",
       "stream": "stdout",
       "text": [
        "\n",
        "Assinging for relocation...\n",
        "Total currently unplaced: 665632"
       ]
      },
      {
       "output_type": "stream",
       "stream": "stdout",
       "text": [
        "\n",
        "Time to execute model = 4.272s\n",
        "Running model 'elcm_simulate'\n",
        "There are 7629565 total available units"
       ]
      },
      {
       "output_type": "stream",
       "stream": "stdout",
       "text": [
        "\n",
        "    and 6988179 total choosers\n",
        "    but there are 0 overfull buildings"
       ]
      },
      {
       "output_type": "stream",
       "stream": "stdout",
       "text": [
        "\n",
        "    for a total of 1386890 temporarily empty units"
       ]
      },
      {
       "output_type": "stream",
       "stream": "stdout",
       "text": [
        "\n",
        "    in 192406 buildings total in the region\n",
        "Assigned 665632 choosers to new units"
       ]
      },
      {
       "output_type": "stream",
       "stream": "stdout",
       "text": [
        "\n",
        "Total currently unplaced: 0"
       ]
      },
      {
       "output_type": "stream",
       "stream": "stdout",
       "text": [
        "\n",
        "    and there are now 721258 empty units"
       ]
      },
      {
       "output_type": "stream",
       "stream": "stdout",
       "text": [
        "\n",
        "    and 0 overfull buildings"
       ]
      },
      {
       "output_type": "stream",
       "stream": "stdout",
       "text": [
        "\n",
        "Time to execute model = 60.993s\n",
        "Running model 'jobs_transition'\n",
        "6988179 agents before transition"
       ]
      },
      {
       "output_type": "stream",
       "stream": "stdout",
       "text": [
        "\n",
        "7337588 agents after transition"
       ]
      },
      {
       "output_type": "stream",
       "stream": "stdout",
       "text": [
        "\n",
        "Time to execute model = 5.056s"
       ]
      },
      {
       "output_type": "stream",
       "stream": "stdout",
       "text": [
        "\n",
        "Running model 'price_vars'\n",
        "Computing accessibility variables\n",
        "Computing residential\n",
        "Computing retail"
       ]
      },
      {
       "output_type": "stream",
       "stream": "stdout",
       "text": [
        "\n",
        "Computing office"
       ]
      },
      {
       "output_type": "stream",
       "stream": "stdout",
       "text": [
        "\n",
        "Computing industrial"
       ]
      },
      {
       "output_type": "stream",
       "stream": "stdout",
       "text": [
        "\n",
        "Time to execute model = 5.166s"
       ]
      },
      {
       "output_type": "stream",
       "stream": "stdout",
       "text": [
        "\n",
        "Running model 'feasibility'\n",
        "Describe of the yearly rent by use"
       ]
      },
      {
       "output_type": "stream",
       "stream": "stdout",
       "text": [
        "\n",
        "               retail      industrial          office     residential\n",
        "count  2023915.000000  2023915.000000  2023915.000000  2023915.000000\n",
        "mean        24.965762        9.641581       23.746752       18.222595\n",
        "std          6.836077        3.320605        5.630529        7.636008\n",
        "min          0.000000        0.000000        0.000000        0.000000\n",
        "25%         23.603874       10.172462       24.491180       13.423134\n",
        "50%         26.111134       10.700271       25.032030       17.398088\n",
        "75%         28.627529       11.084824       25.508291       21.199640\n",
        "max         47.930202       17.825264       43.334377       45.985516\n",
        "\n",
        "[8 rows x 4 columns]"
       ]
      },
      {
       "output_type": "stream",
       "stream": "stdout",
       "text": [
        "\n",
        "Computing feasibility for form mixedoffice\n",
        "Computing feasibility for form industrial"
       ]
      },
      {
       "output_type": "stream",
       "stream": "stdout",
       "text": [
        "\n",
        "Computing feasibility for form office"
       ]
      },
      {
       "output_type": "stream",
       "stream": "stdout",
       "text": [
        "\n",
        "Computing feasibility for form residential"
       ]
      },
      {
       "output_type": "stream",
       "stream": "stdout",
       "text": [
        "\n",
        "Computing feasibility for form mixedresidential"
       ]
      },
      {
       "output_type": "stream",
       "stream": "stdout",
       "text": [
        "\n",
        "Computing feasibility for form retail"
       ]
      },
      {
       "output_type": "stream",
       "stream": "stdout",
       "text": [
        "\n",
        "Time to execute model = 46.396s"
       ]
      },
      {
       "output_type": "stream",
       "stream": "stdout",
       "text": [
        "\n",
        "Running model 'residential_developer'\n",
        "Number of agents: 4,683,635"
       ]
      },
      {
       "output_type": "stream",
       "stream": "stdout",
       "text": [
        "\n",
        "Number of agent spaces: 4,867,686\n",
        "Current vacancy = 0.04\n",
        "Target vacancy = 0.08, target of new units = 223,221\n",
        "348,201 feasible buildings before running developer\n",
        "Sum of net units that are profitable: 1,679,172"
       ]
      },
      {
       "output_type": "stream",
       "stream": "stdout",
       "text": [
        "\n",
        "Adding 12,185 buildings with 244,955 residential_units"
       ]
      },
      {
       "output_type": "stream",
       "stream": "stdout",
       "text": [
        "\n",
        "336,016 feasible buildings after running developer\n",
        "Time to execute model = 6.655s"
       ]
      },
      {
       "output_type": "stream",
       "stream": "stdout",
       "text": [
        "\n",
        "Running model 'non_residential_developer'\n",
        "Number of agents: 7,337,588"
       ]
      },
      {
       "output_type": "stream",
       "stream": "stdout",
       "text": [
        "\n",
        "Number of agent spaces: 7,629,565\n",
        "Current vacancy = 0.04\n",
        "Target vacancy = 0.08, target of new units = 346,074\n",
        "336,016 feasible buildings before running developer\n",
        "Sum of net units that are profitable: 7,946,638"
       ]
      },
      {
       "output_type": "stream",
       "stream": "stdout",
       "text": [
        "\n",
        "Adding 1,578 buildings with 372,644 job_spaces"
       ]
      },
      {
       "output_type": "stream",
       "stream": "stdout",
       "text": [
        "\n",
        "334,438 feasible buildings after running developer\n",
        "Time to execute model = 10.643s"
       ]
      },
      {
       "output_type": "stream",
       "stream": "stdout",
       "text": [
        "\n",
        "Running model 'clear_cache'\n",
        "Time to execute model = 0.019s\n",
        "Time to execute year = 354.503s\n",
        "Running year 2022\n",
        "Running model 'neighborhood_vars'\n",
        "Computing accessibility variables\n",
        "Computing sum_residential_units"
       ]
      },
      {
       "output_type": "stream",
       "stream": "stdout",
       "text": [
        "\n",
        "Computing sum_nonresidential_units"
       ]
      },
      {
       "output_type": "stream",
       "stream": "stdout",
       "text": [
        "\n",
        "Computing ave_unit_sqft"
       ]
      },
      {
       "output_type": "stream",
       "stream": "stdout",
       "text": [
        "\n",
        "Computing ave_lot_sqft"
       ]
      },
      {
       "output_type": "stream",
       "stream": "stdout",
       "text": [
        "\n",
        "Computing population"
       ]
      },
      {
       "output_type": "stream",
       "stream": "stdout",
       "text": [
        "\n",
        "Computing poor"
       ]
      },
      {
       "output_type": "stream",
       "stream": "stdout",
       "text": [
        "\n",
        "Computing renters"
       ]
      },
      {
       "output_type": "stream",
       "stream": "stdout",
       "text": [
        "\n",
        "Computing sfdu"
       ]
      },
      {
       "output_type": "stream",
       "stream": "stdout",
       "text": [
        "\n",
        "Computing hhsize"
       ]
      },
      {
       "output_type": "stream",
       "stream": "stdout",
       "text": [
        "\n",
        "Computing jobs"
       ]
      },
      {
       "output_type": "stream",
       "stream": "stdout",
       "text": [
        "\n",
        "Computing ave_income"
       ]
      },
      {
       "output_type": "stream",
       "stream": "stdout",
       "text": [
        "\n",
        "Time to execute model = 152.871s"
       ]
      },
      {
       "output_type": "stream",
       "stream": "stdout",
       "text": [
        "\n",
        "Running model 'rsh_simulate'\n",
        "count    1855878.000000\n",
        "mean         403.323664\n",
        "std          204.516196\n",
        "min            3.004220\n",
        "25%          276.149177\n",
        "50%          362.768440\n",
        "75%          470.040835\n",
        "max        15770.734419\n",
        "dtype: float64"
       ]
      },
      {
       "output_type": "stream",
       "stream": "stdout",
       "text": [
        "\n",
        "Time to execute model = 29.989s"
       ]
      },
      {
       "output_type": "stream",
       "stream": "stdout",
       "text": [
        "\n",
        "Running model 'rrh_simulate'\n",
        "count    1855878.000000\n",
        "mean           3.016954\n",
        "std            0.539371\n",
        "min            0.443705\n",
        "25%            2.669358\n",
        "50%            2.969201\n",
        "75%            3.314881\n",
        "max           16.678834\n",
        "dtype: float64"
       ]
      },
      {
       "output_type": "stream",
       "stream": "stdout",
       "text": [
        "\n",
        "Time to execute model = 3.278s"
       ]
      },
      {
       "output_type": "stream",
       "stream": "stdout",
       "text": [
        "\n",
        "Running model 'nrh_simulate'\n",
        "count    121527.000000\n",
        "mean         22.164859\n",
        "std           7.540037\n",
        "min           0.401221\n",
        "25%          11.754605\n",
        "50%          24.759113\n",
        "75%          26.716525\n",
        "max          48.516531\n",
        "dtype: float64"
       ]
      },
      {
       "output_type": "stream",
       "stream": "stdout",
       "text": [
        "\n",
        "Time to execute model = 1.755s\n",
        "Running model 'households_relocation'\n",
        "Total agents: 4683635\n",
        "Total currently unplaced: 223030"
       ]
      },
      {
       "output_type": "stream",
       "stream": "stdout",
       "text": [
        "\n",
        "Assinging for relocation...\n",
        "Total currently unplaced: 446078"
       ]
      },
      {
       "output_type": "stream",
       "stream": "stdout",
       "text": [
        "\n",
        "Time to execute model = 5.636s\n",
        "Running model 'hlcmo_simulate'\n",
        "There are 5112641 total available units"
       ]
      },
      {
       "output_type": "stream",
       "stream": "stdout",
       "text": [
        "\n",
        "    and 4683635 total choosers\n",
        "    but there are 70 overfull buildings"
       ]
      },
      {
       "output_type": "stream",
       "stream": "stdout",
       "text": [
        "\n",
        "    for a total of 877799 temporarily empty units"
       ]
      },
      {
       "output_type": "stream",
       "stream": "stdout",
       "text": [
        "\n",
        "    in 346821 buildings total in the region\n",
        "Assigned 250535 choosers to new units"
       ]
      },
      {
       "output_type": "stream",
       "stream": "stdout",
       "text": [
        "\n",
        "Total currently unplaced: 195543"
       ]
      },
      {
       "output_type": "stream",
       "stream": "stdout",
       "text": [
        "\n",
        "    and there are now 625124 empty units"
       ]
      },
      {
       "output_type": "stream",
       "stream": "stdout",
       "text": [
        "\n",
        "    and 70 overfull buildings"
       ]
      },
      {
       "output_type": "stream",
       "stream": "stdout",
       "text": [
        "\n",
        "Time to execute model = 37.541s"
       ]
      },
      {
       "output_type": "stream",
       "stream": "stdout",
       "text": [
        "\n",
        "Running model 'hlcmr_simulate'\n",
        "There are 5112641 total available units"
       ]
      },
      {
       "output_type": "stream",
       "stream": "stdout",
       "text": [
        "\n",
        "    and 4683635 total choosers\n",
        "    but there are 70 overfull buildings"
       ]
      },
      {
       "output_type": "stream",
       "stream": "stdout",
       "text": [
        "\n",
        "    for a total of 627264 temporarily empty units"
       ]
      },
      {
       "output_type": "stream",
       "stream": "stdout",
       "text": [
        "\n",
        "    in 278173 buildings total in the region\n",
        "Assigned 195543 choosers to new units"
       ]
      },
      {
       "output_type": "stream",
       "stream": "stdout",
       "text": [
        "\n",
        "Total currently unplaced: 0"
       ]
      },
      {
       "output_type": "stream",
       "stream": "stdout",
       "text": [
        "\n",
        "    and there are now 429581 empty units"
       ]
      },
      {
       "output_type": "stream",
       "stream": "stdout",
       "text": [
        "\n",
        "    and 70 overfull buildings"
       ]
      },
      {
       "output_type": "stream",
       "stream": "stdout",
       "text": [
        "\n",
        "Time to execute model = 29.978s\n",
        "Running model 'households_transition'\n",
        "4683635 agents before transition"
       ]
      },
      {
       "output_type": "stream",
       "stream": "stdout",
       "text": [
        "\n",
        "4917817 agents after transition"
       ]
      },
      {
       "output_type": "stream",
       "stream": "stdout",
       "text": [
        "\n",
        "Time to execute model = 4.086s"
       ]
      },
      {
       "output_type": "stream",
       "stream": "stdout",
       "text": [
        "\n",
        "Running model 'jobs_relocation'\n",
        "Total agents: 7337588\n",
        "Total currently unplaced: 349409"
       ]
      },
      {
       "output_type": "stream",
       "stream": "stdout",
       "text": [
        "\n",
        "Assinging for relocation...\n",
        "Total currently unplaced: 698892"
       ]
      },
      {
       "output_type": "stream",
       "stream": "stdout",
       "text": [
        "\n",
        "Time to execute model = 6.198s\n",
        "Running model 'elcm_simulate'\n",
        "There are 8004452 total available units"
       ]
      },
      {
       "output_type": "stream",
       "stream": "stdout",
       "text": [
        "\n",
        "    and 7337588 total choosers\n",
        "    but there are 0 overfull buildings"
       ]
      },
      {
       "output_type": "stream",
       "stream": "stdout",
       "text": [
        "\n",
        "    for a total of 1441641 temporarily empty units"
       ]
      },
      {
       "output_type": "stream",
       "stream": "stdout",
       "text": [
        "\n",
        "    in 194400 buildings total in the region\n",
        "Assigned 698892 choosers to new units"
       ]
      },
      {
       "output_type": "stream",
       "stream": "stdout",
       "text": [
        "\n",
        "Total currently unplaced: 0"
       ]
      },
      {
       "output_type": "stream",
       "stream": "stdout",
       "text": [
        "\n",
        "    and there are now 742749 empty units"
       ]
      },
      {
       "output_type": "stream",
       "stream": "stdout",
       "text": [
        "\n",
        "    and 0 overfull buildings"
       ]
      },
      {
       "output_type": "stream",
       "stream": "stdout",
       "text": [
        "\n",
        "Time to execute model = 79.915s\n",
        "Running model 'jobs_transition'\n",
        "7337588 agents before transition"
       ]
      },
      {
       "output_type": "stream",
       "stream": "stdout",
       "text": [
        "\n",
        "7704467 agents after transition"
       ]
      },
      {
       "output_type": "stream",
       "stream": "stdout",
       "text": [
        "\n",
        "Time to execute model = 11.290s"
       ]
      },
      {
       "output_type": "stream",
       "stream": "stdout",
       "text": [
        "\n",
        "Running model 'price_vars'\n",
        "Computing accessibility variables\n",
        "Computing residential\n",
        "Computing retail"
       ]
      },
      {
       "output_type": "stream",
       "stream": "stdout",
       "text": [
        "\n",
        "Computing office"
       ]
      },
      {
       "output_type": "stream",
       "stream": "stdout",
       "text": [
        "\n",
        "Computing industrial"
       ]
      },
      {
       "output_type": "stream",
       "stream": "stdout",
       "text": [
        "\n",
        "Time to execute model = 11.279s"
       ]
      },
      {
       "output_type": "stream",
       "stream": "stdout",
       "text": [
        "\n",
        "Running model 'feasibility'\n",
        "Describe of the yearly rent by use"
       ]
      },
      {
       "output_type": "stream",
       "stream": "stdout",
       "text": [
        "\n",
        "               retail      industrial          office     residential\n",
        "count  2023915.000000  2023915.000000  2023915.000000  2023915.000000\n",
        "mean        25.096069        9.653726       23.800098       18.367404\n",
        "std          6.825190        3.325046        5.567275        7.876882\n",
        "min          0.000000        0.000000        0.000000        0.000000\n",
        "25%         23.757175       10.183648       24.511105       13.448138\n",
        "50%         26.257627       10.714175       25.049612       17.433943\n",
        "75%         28.706668       11.097955       25.529541       21.268164\n",
        "max         45.431877       17.825420       43.334423       46.600497\n",
        "\n",
        "[8 rows x 4 columns]"
       ]
      },
      {
       "output_type": "stream",
       "stream": "stdout",
       "text": [
        "\n",
        "Computing feasibility for form mixedoffice\n",
        "Computing feasibility for form industrial"
       ]
      },
      {
       "output_type": "stream",
       "stream": "stdout",
       "text": [
        "\n",
        "Computing feasibility for form office"
       ]
      },
      {
       "output_type": "stream",
       "stream": "stdout",
       "text": [
        "\n",
        "Computing feasibility for form residential"
       ]
      },
      {
       "output_type": "stream",
       "stream": "stdout",
       "text": [
        "\n",
        "Computing feasibility for form mixedresidential"
       ]
      },
      {
       "output_type": "stream",
       "stream": "stdout",
       "text": [
        "\n",
        "Computing feasibility for form retail"
       ]
      },
      {
       "output_type": "stream",
       "stream": "stdout",
       "text": [
        "\n",
        "Time to execute model = 73.162s"
       ]
      },
      {
       "output_type": "stream",
       "stream": "stdout",
       "text": [
        "\n",
        "Running model 'residential_developer'\n",
        "Number of agents: 4,917,817"
       ]
      },
      {
       "output_type": "stream",
       "stream": "stdout",
       "text": [
        "\n",
        "Number of agent spaces: 5,112,641\n",
        "Current vacancy = 0.04\n",
        "Target vacancy = 0.08, target of new units = 232,812\n",
        "337,236 feasible buildings before running developer\n",
        "Sum of net units that are profitable: 1,483,035"
       ]
      },
      {
       "output_type": "stream",
       "stream": "stdout",
       "text": [
        "\n",
        "Adding 15,021 buildings with 257,915 residential_units"
       ]
      },
      {
       "output_type": "stream",
       "stream": "stdout",
       "text": [
        "\n",
        "322,215 feasible buildings after running developer\n",
        "Time to execute model = 11.038s"
       ]
      },
      {
       "output_type": "stream",
       "stream": "stdout",
       "text": [
        "\n",
        "Running model 'non_residential_developer'\n",
        "Number of agents: 7,704,467"
       ]
      },
      {
       "output_type": "stream",
       "stream": "stdout",
       "text": [
        "\n",
        "Number of agent spaces: 8,004,452\n",
        "Current vacancy = 0.04\n",
        "Target vacancy = 0.08, target of new units = 369,968\n",
        "322,215 feasible buildings before running developer\n",
        "Sum of net units that are profitable: 7,470,362"
       ]
      },
      {
       "output_type": "stream",
       "stream": "stdout",
       "text": [
        "\n",
        "Adding 1,765 buildings with 406,778 job_spaces"
       ]
      },
      {
       "output_type": "stream",
       "stream": "stdout",
       "text": [
        "\n",
        "320,450 feasible buildings after running developer\n",
        "Time to execute model = 18.554s"
       ]
      },
      {
       "output_type": "stream",
       "stream": "stdout",
       "text": [
        "\n",
        "Running model 'clear_cache'\n",
        "Time to execute model = 0.036s\n",
        "Time to execute year = 476.614s\n",
        "Running year 2023\n",
        "Running model 'neighborhood_vars'\n",
        "Computing accessibility variables\n",
        "Computing sum_residential_units"
       ]
      },
      {
       "output_type": "stream",
       "stream": "stdout",
       "text": [
        "\n",
        "Computing sum_nonresidential_units"
       ]
      },
      {
       "output_type": "stream",
       "stream": "stdout",
       "text": [
        "\n",
        "Computing ave_unit_sqft"
       ]
      },
      {
       "output_type": "stream",
       "stream": "stdout",
       "text": [
        "\n",
        "Computing ave_lot_sqft"
       ]
      },
      {
       "output_type": "stream",
       "stream": "stdout",
       "text": [
        "\n",
        "Computing population"
       ]
      },
      {
       "output_type": "stream",
       "stream": "stdout",
       "text": [
        "\n",
        "Computing poor"
       ]
      },
      {
       "output_type": "stream",
       "stream": "stdout",
       "text": [
        "\n",
        "Computing renters"
       ]
      },
      {
       "output_type": "stream",
       "stream": "stdout",
       "text": [
        "\n",
        "Computing sfdu"
       ]
      },
      {
       "output_type": "stream",
       "stream": "stdout",
       "text": [
        "\n",
        "Computing hhsize"
       ]
      },
      {
       "output_type": "stream",
       "stream": "stdout",
       "text": [
        "\n",
        "Computing jobs"
       ]
      },
      {
       "output_type": "stream",
       "stream": "stdout",
       "text": [
        "\n",
        "Computing ave_income"
       ]
      },
      {
       "output_type": "stream",
       "stream": "stdout",
       "text": [
        "\n",
        "Time to execute model = 162.522s"
       ]
      },
      {
       "output_type": "stream",
       "stream": "stdout",
       "text": [
        "\n",
        "Running model 'rsh_simulate'\n",
        "count    1870899.000000\n",
        "mean         409.785582\n",
        "std          212.186150\n",
        "min            3.004220\n",
        "25%          277.368157\n",
        "50%          364.919268\n",
        "75%          476.226507\n",
        "max        15873.607083\n",
        "dtype: float64"
       ]
      },
      {
       "output_type": "stream",
       "stream": "stdout",
       "text": [
        "\n",
        "Time to execute model = 27.463s"
       ]
      },
      {
       "output_type": "stream",
       "stream": "stdout",
       "text": [
        "\n",
        "Running model 'rrh_simulate'\n",
        "count    1870899.000000\n",
        "mean           3.029149\n",
        "std            0.543948\n",
        "min            0.444802\n",
        "25%            2.677389\n",
        "50%            2.980619\n",
        "75%            3.330048\n",
        "max           16.679006\n",
        "dtype: float64"
       ]
      },
      {
       "output_type": "stream",
       "stream": "stdout",
       "text": [
        "\n",
        "Time to execute model = 3.078s"
       ]
      },
      {
       "output_type": "stream",
       "stream": "stdout",
       "text": [
        "\n",
        "Running model 'nrh_simulate'\n",
        "count    123292.000000\n",
        "mean         22.279500\n",
        "std           7.541518\n",
        "min           0.401221\n",
        "25%          11.862142\n",
        "50%          24.825108\n",
        "75%          26.792281\n",
        "max          48.752521\n",
        "dtype: float64"
       ]
      },
      {
       "output_type": "stream",
       "stream": "stdout",
       "text": [
        "\n",
        "Time to execute model = 1.767s\n",
        "Running model 'households_relocation'\n",
        "Total agents: 4917817\n",
        "Total currently unplaced: 234182"
       ]
      },
      {
       "output_type": "stream",
       "stream": "stdout",
       "text": [
        "\n",
        "Assinging for relocation...\n",
        "Total currently unplaced: 468493"
       ]
      },
      {
       "output_type": "stream",
       "stream": "stdout",
       "text": [
        "\n",
        "Time to execute model = 3.684s\n",
        "Running model 'hlcmo_simulate'\n",
        "There are 5370556 total available units"
       ]
      },
      {
       "output_type": "stream",
       "stream": "stdout",
       "text": [
        "\n",
        "    and 4917817 total choosers\n",
        "    but there are 67 overfull buildings"
       ]
      },
      {
       "output_type": "stream",
       "stream": "stdout",
       "text": [
        "\n",
        "    for a total of 923781 temporarily empty units"
       ]
      },
      {
       "output_type": "stream",
       "stream": "stdout",
       "text": [
        "\n",
        "    in 362281 buildings total in the region\n",
        "Assigned 263331 choosers to new units"
       ]
      },
      {
       "output_type": "stream",
       "stream": "stdout",
       "text": [
        "\n",
        "Total currently unplaced: 205162"
       ]
      },
      {
       "output_type": "stream",
       "stream": "stdout",
       "text": [
        "\n",
        "    and there are now 658452 empty units"
       ]
      },
      {
       "output_type": "stream",
       "stream": "stdout",
       "text": [
        "\n",
        "    and 67 overfull buildings"
       ]
      },
      {
       "output_type": "stream",
       "stream": "stdout",
       "text": [
        "\n",
        "Time to execute model = 18.658s\n",
        "Running model 'hlcmr_simulate'\n",
        "There are 5370556 total available units"
       ]
      },
      {
       "output_type": "stream",
       "stream": "stdout",
       "text": [
        "\n",
        "    and 4917817 total choosers\n",
        "    but there are 67 overfull buildings"
       ]
      },
      {
       "output_type": "stream",
       "stream": "stdout",
       "text": [
        "\n",
        "    for a total of 660450 temporarily empty units"
       ]
      },
      {
       "output_type": "stream",
       "stream": "stdout",
       "text": [
        "\n",
        "    in 291801 buildings total in the region\n",
        "Assigned 205162 choosers to new units"
       ]
      },
      {
       "output_type": "stream",
       "stream": "stdout",
       "text": [
        "\n",
        "Total currently unplaced: 0"
       ]
      },
      {
       "output_type": "stream",
       "stream": "stdout",
       "text": [
        "\n",
        "    and there are now 453290 empty units"
       ]
      },
      {
       "output_type": "stream",
       "stream": "stdout",
       "text": [
        "\n",
        "    and 67 overfull buildings"
       ]
      },
      {
       "output_type": "stream",
       "stream": "stdout",
       "text": [
        "\n",
        "Time to execute model = 15.011s\n",
        "Running model 'households_transition'\n",
        "4917817 agents before transition"
       ]
      },
      {
       "output_type": "stream",
       "stream": "stdout",
       "text": [
        "\n",
        "5163708 agents after transition"
       ]
      },
      {
       "output_type": "stream",
       "stream": "stdout",
       "text": [
        "\n",
        "Time to execute model = 2.573s"
       ]
      },
      {
       "output_type": "stream",
       "stream": "stdout",
       "text": [
        "\n",
        "Running model 'jobs_relocation'\n",
        "Total agents: 7704467\n",
        "Total currently unplaced: 366879"
       ]
      },
      {
       "output_type": "stream",
       "stream": "stdout",
       "text": [
        "\n",
        "Assinging for relocation...\n",
        "Total currently unplaced: 733821"
       ]
      },
      {
       "output_type": "stream",
       "stream": "stdout",
       "text": [
        "\n",
        "Time to execute model = 4.533s\n",
        "Running model 'elcm_simulate'\n",
        "There are 8410825 total available units"
       ]
      },
      {
       "output_type": "stream",
       "stream": "stdout",
       "text": [
        "\n",
        "    and 7704467 total choosers\n",
        "    but there are 0 overfull buildings"
       ]
      },
      {
       "output_type": "stream",
       "stream": "stdout",
       "text": [
        "\n",
        "    for a total of 1512205 temporarily empty units"
       ]
      },
      {
       "output_type": "stream",
       "stream": "stdout",
       "text": [
        "\n",
        "    in 197509 buildings total in the region\n",
        "Assigned 733821 choosers to new units"
       ]
      },
      {
       "output_type": "stream",
       "stream": "stdout",
       "text": [
        "\n",
        "Total currently unplaced: 0"
       ]
      },
      {
       "output_type": "stream",
       "stream": "stdout",
       "text": [
        "\n",
        "    and there are now 778384 empty units"
       ]
      },
      {
       "output_type": "stream",
       "stream": "stdout",
       "text": [
        "\n",
        "    and 0 overfull buildings"
       ]
      },
      {
       "output_type": "stream",
       "stream": "stdout",
       "text": [
        "\n",
        "Time to execute model = 65.939s\n",
        "Running model 'jobs_transition'\n",
        "7704467 agents before transition"
       ]
      },
      {
       "output_type": "stream",
       "stream": "stdout",
       "text": [
        "\n",
        "8089690 agents after transition"
       ]
      },
      {
       "output_type": "stream",
       "stream": "stdout",
       "text": [
        "\n",
        "Time to execute model = 5.379s"
       ]
      },
      {
       "output_type": "stream",
       "stream": "stdout",
       "text": [
        "\n",
        "Running model 'price_vars'\n",
        "Computing accessibility variables\n",
        "Computing residential\n",
        "Computing retail"
       ]
      },
      {
       "output_type": "stream",
       "stream": "stdout",
       "text": [
        "\n",
        "Computing office"
       ]
      },
      {
       "output_type": "stream",
       "stream": "stdout",
       "text": [
        "\n",
        "Computing industrial"
       ]
      },
      {
       "output_type": "stream",
       "stream": "stdout",
       "text": [
        "\n",
        "Time to execute model = 4.962s"
       ]
      },
      {
       "output_type": "stream",
       "stream": "stdout",
       "text": [
        "\n",
        "Running model 'feasibility'\n",
        "Describe of the yearly rent by use"
       ]
      },
      {
       "output_type": "stream",
       "stream": "stdout",
       "text": [
        "\n",
        "               retail      industrial          office     residential\n",
        "count  2023915.000000  2023915.000000  2023915.000000  2023915.000000\n",
        "mean        25.205315        9.663471       23.822803       18.529166\n",
        "std          6.808357        3.328667        5.558986        8.162617\n",
        "min          0.000000        0.000000        0.000000        0.000000\n",
        "25%         23.903503       10.194616       24.525055       13.472006\n",
        "50%         26.359730       10.726084       25.061243       17.469572\n",
        "75%         28.775072       11.106150       25.549376       21.335266\n",
        "max         46.009144       17.825680       43.334492       47.444040\n",
        "\n",
        "[8 rows x 4 columns]"
       ]
      },
      {
       "output_type": "stream",
       "stream": "stdout",
       "text": [
        "\n",
        "Computing feasibility for form mixedoffice\n",
        "Computing feasibility for form industrial"
       ]
      },
      {
       "output_type": "stream",
       "stream": "stdout",
       "text": [
        "\n",
        "Computing feasibility for form office"
       ]
      },
      {
       "output_type": "stream",
       "stream": "stdout",
       "text": [
        "\n",
        "Computing feasibility for form residential"
       ]
      },
      {
       "output_type": "stream",
       "stream": "stdout",
       "text": [
        "\n",
        "Computing feasibility for form mixedresidential"
       ]
      },
      {
       "output_type": "stream",
       "stream": "stdout",
       "text": [
        "\n",
        "Computing feasibility for form retail"
       ]
      },
      {
       "output_type": "stream",
       "stream": "stdout",
       "text": [
        "\n",
        "Time to execute model = 47.148s"
       ]
      },
      {
       "output_type": "stream",
       "stream": "stdout",
       "text": [
        "\n",
        "Running model 'residential_developer'\n",
        "Number of agents: 5,163,708"
       ]
      },
      {
       "output_type": "stream",
       "stream": "stdout",
       "text": [
        "\n",
        "Number of agent spaces: 5,370,556\n",
        "Current vacancy = 0.04\n",
        "Target vacancy = 0.08, target of new units = 242,170\n",
        "322,651 feasible buildings before running developer\n",
        "Sum of net units that are profitable: 1,281,889"
       ]
      },
      {
       "output_type": "stream",
       "stream": "stdout",
       "text": [
        "\n",
        "Adding 17,858 buildings with 272,769 residential_units"
       ]
      },
      {
       "output_type": "stream",
       "stream": "stdout",
       "text": [
        "\n",
        "304,793 feasible buildings after running developer\n",
        "Time to execute model = 6.541s"
       ]
      },
      {
       "output_type": "stream",
       "stream": "stdout",
       "text": [
        "\n",
        "Running model 'non_residential_developer'\n",
        "Number of agents: 8,089,690"
       ]
      },
      {
       "output_type": "stream",
       "stream": "stdout",
       "text": [
        "\n",
        "Number of agent spaces: 8,410,825\n",
        "Current vacancy = 0.04\n",
        "Target vacancy = 0.08, target of new units = 382,316\n",
        "304,793 feasible buildings before running developer\n",
        "Sum of net units that are profitable: 6,954,905"
       ]
      },
      {
       "output_type": "stream",
       "stream": "stdout",
       "text": [
        "\n",
        "Adding 1,928 buildings with 428,740 job_spaces"
       ]
      },
      {
       "output_type": "stream",
       "stream": "stdout",
       "text": [
        "\n",
        "302,865 feasible buildings after running developer\n",
        "Time to execute model = 10.264s"
       ]
      },
      {
       "output_type": "stream",
       "stream": "stdout",
       "text": [
        "\n",
        "Running model 'clear_cache'\n",
        "Time to execute model = 0.014s\n",
        "Time to execute year = 379.542s\n",
        "Running year 2024\n",
        "Running model 'neighborhood_vars'\n",
        "Computing accessibility variables\n",
        "Computing sum_residential_units"
       ]
      },
      {
       "output_type": "stream",
       "stream": "stdout",
       "text": [
        "\n",
        "Computing sum_nonresidential_units"
       ]
      },
      {
       "output_type": "stream",
       "stream": "stdout",
       "text": [
        "\n",
        "Computing ave_unit_sqft"
       ]
      },
      {
       "output_type": "stream",
       "stream": "stdout",
       "text": [
        "\n",
        "Computing ave_lot_sqft"
       ]
      },
      {
       "output_type": "stream",
       "stream": "stdout",
       "text": [
        "\n",
        "Computing population"
       ]
      },
      {
       "output_type": "stream",
       "stream": "stdout",
       "text": [
        "\n",
        "Computing poor"
       ]
      },
      {
       "output_type": "stream",
       "stream": "stdout",
       "text": [
        "\n",
        "Computing renters"
       ]
      },
      {
       "output_type": "stream",
       "stream": "stdout",
       "text": [
        "\n",
        "Computing sfdu"
       ]
      },
      {
       "output_type": "stream",
       "stream": "stdout",
       "text": [
        "\n",
        "Computing hhsize"
       ]
      },
      {
       "output_type": "stream",
       "stream": "stdout",
       "text": [
        "\n",
        "Computing jobs"
       ]
      },
      {
       "output_type": "stream",
       "stream": "stdout",
       "text": [
        "\n",
        "Computing ave_income"
       ]
      },
      {
       "output_type": "stream",
       "stream": "stdout",
       "text": [
        "\n",
        "Time to execute model = 154.882s"
       ]
      },
      {
       "output_type": "stream",
       "stream": "stdout",
       "text": [
        "\n",
        "Running model 'rsh_simulate'\n",
        "count    1888757.000000\n",
        "mean         417.294106\n",
        "std          220.968117\n",
        "min            2.904214\n",
        "25%          278.776761\n",
        "50%          367.380784\n",
        "75%          483.701334\n",
        "max        15986.329883\n",
        "dtype: float64"
       ]
      },
      {
       "output_type": "stream",
       "stream": "stdout",
       "text": [
        "\n",
        "Time to execute model = 27.003s"
       ]
      },
      {
       "output_type": "stream",
       "stream": "stdout",
       "text": [
        "\n",
        "Running model 'rrh_simulate'\n",
        "count    1888757.000000\n",
        "mean           3.042003\n",
        "std            0.549442\n",
        "min            0.444802\n",
        "25%            2.684899\n",
        "50%            2.993591\n",
        "75%            3.347311\n",
        "max           16.682850\n",
        "dtype: float64"
       ]
      },
      {
       "output_type": "stream",
       "stream": "stdout",
       "text": [
        "\n",
        "Time to execute model = 3.091s"
       ]
      },
      {
       "output_type": "stream",
       "stream": "stdout",
       "text": [
        "\n",
        "Running model 'nrh_simulate'\n",
        "count    125220.000000\n",
        "mean         22.403828\n",
        "std           7.542077\n",
        "min           0.401221\n",
        "25%          12.012128\n",
        "50%          24.906406\n",
        "75%          26.889911\n",
        "max          48.761061\n",
        "dtype: float64"
       ]
      },
      {
       "output_type": "stream",
       "stream": "stdout",
       "text": [
        "\n",
        "Time to execute model = 1.700s\n",
        "Running model 'households_relocation'\n",
        "Total agents: 5163708\n",
        "Total currently unplaced: 245891"
       ]
      },
      {
       "output_type": "stream",
       "stream": "stdout",
       "text": [
        "\n",
        "Assinging for relocation...\n",
        "Total currently unplaced: 491787"
       ]
      },
      {
       "output_type": "stream",
       "stream": "stdout",
       "text": [
        "\n",
        "Time to execute model = 3.819s\n",
        "Running model 'hlcmo_simulate'\n",
        "There are 5643325 total available units"
       ]
      },
      {
       "output_type": "stream",
       "stream": "stdout",
       "text": [
        "\n",
        "    and 5163708 total choosers\n",
        "    but there are 66 overfull buildings"
       ]
      },
      {
       "output_type": "stream",
       "stream": "stdout",
       "text": [
        "\n",
        "    for a total of 973792 temporarily empty units"
       ]
      },
      {
       "output_type": "stream",
       "stream": "stdout",
       "text": [
        "\n",
        "    in 379085 buildings total in the region\n",
        "Assigned 276478 choosers to new units"
       ]
      },
      {
       "output_type": "stream",
       "stream": "stdout",
       "text": [
        "\n",
        "Total currently unplaced: 215309"
       ]
      },
      {
       "output_type": "stream",
       "stream": "stdout",
       "text": [
        "\n",
        "    and there are now 695455 empty units"
       ]
      },
      {
       "output_type": "stream",
       "stream": "stdout",
       "text": [
        "\n",
        "    and 66 overfull buildings"
       ]
      },
      {
       "output_type": "stream",
       "stream": "stdout",
       "text": [
        "\n",
        "Time to execute model = 24.421s\n",
        "Running model 'hlcmr_simulate'\n",
        "There are 5643325 total available units"
       ]
      },
      {
       "output_type": "stream",
       "stream": "stdout",
       "text": [
        "\n",
        "    and 5163708 total choosers\n",
        "    but there are 66 overfull buildings"
       ]
      },
      {
       "output_type": "stream",
       "stream": "stdout",
       "text": [
        "\n",
        "    for a total of 697314 temporarily empty units"
       ]
      },
      {
       "output_type": "stream",
       "stream": "stdout",
       "text": [
        "\n",
        "    in 306697 buildings total in the region\n",
        "Assigned 215309 choosers to new units"
       ]
      },
      {
       "output_type": "stream",
       "stream": "stdout",
       "text": [
        "\n",
        "Total currently unplaced: 0"
       ]
      },
      {
       "output_type": "stream",
       "stream": "stdout",
       "text": [
        "\n",
        "    and there are now 480146 empty units"
       ]
      },
      {
       "output_type": "stream",
       "stream": "stdout",
       "text": [
        "\n",
        "    and 66 overfull buildings"
       ]
      },
      {
       "output_type": "stream",
       "stream": "stdout",
       "text": [
        "\n",
        "Time to execute model = 17.258s\n",
        "Running model 'households_transition'\n",
        "5163708 agents before transition"
       ]
      },
      {
       "output_type": "stream",
       "stream": "stdout",
       "text": [
        "\n",
        "5421893 agents after transition"
       ]
      },
      {
       "output_type": "stream",
       "stream": "stdout",
       "text": [
        "\n",
        "Time to execute model = 3.190s"
       ]
      },
      {
       "output_type": "stream",
       "stream": "stdout",
       "text": [
        "\n",
        "Running model 'jobs_relocation'\n",
        "Total agents: 8089690\n",
        "Total currently unplaced: 385223"
       ]
      },
      {
       "output_type": "stream",
       "stream": "stdout",
       "text": [
        "\n",
        "Assinging for relocation...\n",
        "Total currently unplaced: 770385"
       ]
      },
      {
       "output_type": "stream",
       "stream": "stdout",
       "text": [
        "\n",
        "Time to execute model = 8.323s\n",
        "Running model 'elcm_simulate'\n",
        "There are 8834765 total available units"
       ]
      },
      {
       "output_type": "stream",
       "stream": "stdout",
       "text": [
        "\n",
        "    and 8089690 total choosers\n",
        "    but there are 0 overfull buildings"
       ]
      },
      {
       "output_type": "stream",
       "stream": "stdout",
       "text": [
        "\n",
        "    for a total of 1583881 temporarily empty units"
       ]
      },
      {
       "output_type": "stream",
       "stream": "stdout",
       "text": [
        "\n",
        "    in 200878 buildings total in the region\n",
        "Assigned 770385 choosers to new units"
       ]
      },
      {
       "output_type": "stream",
       "stream": "stdout",
       "text": [
        "\n",
        "Total currently unplaced: 0"
       ]
      },
      {
       "output_type": "stream",
       "stream": "stdout",
       "text": [
        "\n",
        "    and there are now 813496 empty units"
       ]
      },
      {
       "output_type": "stream",
       "stream": "stdout",
       "text": [
        "\n",
        "    and 0 overfull buildings"
       ]
      },
      {
       "output_type": "stream",
       "stream": "stdout",
       "text": [
        "\n",
        "Time to execute model = 138.941s\n",
        "Running model 'jobs_transition'\n",
        "8089690 agents before transition"
       ]
      },
      {
       "output_type": "stream",
       "stream": "stdout",
       "text": [
        "\n",
        "8494175 agents after transition"
       ]
      },
      {
       "output_type": "stream",
       "stream": "stdout",
       "text": [
        "\n",
        "Time to execute model = 11.716s"
       ]
      },
      {
       "output_type": "stream",
       "stream": "stdout",
       "text": [
        "\n",
        "Running model 'price_vars'\n",
        "Computing accessibility variables\n",
        "Computing residential\n",
        "Computing retail"
       ]
      },
      {
       "output_type": "stream",
       "stream": "stdout",
       "text": [
        "\n",
        "Computing office"
       ]
      },
      {
       "output_type": "stream",
       "stream": "stdout",
       "text": [
        "\n",
        "Computing industrial"
       ]
      },
      {
       "output_type": "stream",
       "stream": "stdout",
       "text": [
        "\n",
        "Time to execute model = 5.650s"
       ]
      },
      {
       "output_type": "stream",
       "stream": "stdout",
       "text": [
        "\n",
        "Running model 'feasibility'\n",
        "Describe of the yearly rent by use"
       ]
      },
      {
       "output_type": "stream",
       "stream": "stdout",
       "text": [
        "\n",
        "               retail      industrial          office     residential\n",
        "count  2023915.000000  2023915.000000  2023915.000000  2023915.000000\n",
        "mean        25.301659        9.672127       23.848446       18.706437\n",
        "std          6.810257        3.332152        5.539334        8.481551\n",
        "min          0.000000        0.000000        0.000000        0.000000\n",
        "25%         24.032397       10.202258       24.541393       13.502701\n",
        "50%         26.467947       10.733875       25.073044       17.511566\n",
        "75%         28.835161       11.117882       25.572292       21.395209\n",
        "max         46.026436       17.825464       43.334190       48.275845\n",
        "\n",
        "[8 rows x 4 columns]"
       ]
      },
      {
       "output_type": "stream",
       "stream": "stdout",
       "text": [
        "\n",
        "Computing feasibility for form mixedoffice\n",
        "Computing feasibility for form industrial"
       ]
      },
      {
       "output_type": "stream",
       "stream": "stdout",
       "text": [
        "\n",
        "Computing feasibility for form office"
       ]
      },
      {
       "output_type": "stream",
       "stream": "stdout",
       "text": [
        "\n",
        "Computing feasibility for form residential"
       ]
      },
      {
       "output_type": "stream",
       "stream": "stdout",
       "text": [
        "\n",
        "Computing feasibility for form mixedresidential"
       ]
      },
      {
       "output_type": "stream",
       "stream": "stdout",
       "text": [
        "\n",
        "Computing feasibility for form retail"
       ]
      },
      {
       "output_type": "stream",
       "stream": "stdout",
       "text": [
        "\n",
        "Time to execute model = 61.314s"
       ]
      },
      {
       "output_type": "stream",
       "stream": "stdout",
       "text": [
        "\n",
        "Running model 'residential_developer'\n",
        "Number of agents: 5,421,893"
       ]
      },
      {
       "output_type": "stream",
       "stream": "stdout",
       "text": [
        "\n",
        "Number of agent spaces: 5,643,325\n",
        "Current vacancy = 0.04\n",
        "Target vacancy = 0.08, target of new units = 250,036\n",
        "305,143 feasible buildings before running developer\n",
        "Sum of net units that are profitable: 1,073,327"
       ]
      },
      {
       "output_type": "stream",
       "stream": "stdout",
       "text": [
        "\n",
        "Adding 20,868 buildings with 284,158 residential_units"
       ]
      },
      {
       "output_type": "stream",
       "stream": "stdout",
       "text": [
        "\n",
        "284,275 feasible buildings after running developer\n",
        "Time to execute model = 6.949s"
       ]
      },
      {
       "output_type": "stream",
       "stream": "stdout",
       "text": [
        "\n",
        "Running model 'non_residential_developer'\n",
        "Number of agents: 8,494,175"
       ]
      },
      {
       "output_type": "stream",
       "stream": "stdout",
       "text": [
        "\n",
        "Number of agent spaces: 8,834,765\n",
        "Current vacancy = 0.04\n",
        "Target vacancy = 0.08, target of new units = 398,033\n",
        "284,275 feasible buildings before running developer\n",
        "Sum of net units that are profitable: 6,483,560"
       ]
      },
      {
       "output_type": "stream",
       "stream": "stdout",
       "text": [
        "\n",
        "Adding 2,199 buildings with 454,015 job_spaces"
       ]
      },
      {
       "output_type": "stream",
       "stream": "stdout",
       "text": [
        "\n",
        "282,076 feasible buildings after running developer\n",
        "Time to execute model = 11.331s"
       ]
      },
      {
       "output_type": "stream",
       "stream": "stdout",
       "text": [
        "\n",
        "Running model 'clear_cache'\n",
        "Time to execute model = 0.015s\n",
        "Time to execute year = 479.608s\n",
        "Running year 2025\n",
        "Running model 'neighborhood_vars'\n",
        "Computing accessibility variables\n",
        "Computing sum_residential_units\n",
        "Computing sum_nonresidential_units"
       ]
      },
      {
       "output_type": "stream",
       "stream": "stdout",
       "text": [
        "\n",
        "Computing ave_unit_sqft"
       ]
      },
      {
       "output_type": "stream",
       "stream": "stdout",
       "text": [
        "\n",
        "Computing ave_lot_sqft"
       ]
      },
      {
       "output_type": "stream",
       "stream": "stdout",
       "text": [
        "\n",
        "Computing population"
       ]
      },
      {
       "output_type": "stream",
       "stream": "stdout",
       "text": [
        "\n",
        "Computing poor"
       ]
      },
      {
       "output_type": "stream",
       "stream": "stdout",
       "text": [
        "\n",
        "Computing renters"
       ]
      },
      {
       "output_type": "stream",
       "stream": "stdout",
       "text": [
        "\n",
        "Computing sfdu"
       ]
      },
      {
       "output_type": "stream",
       "stream": "stdout",
       "text": [
        "\n",
        "Computing hhsize"
       ]
      },
      {
       "output_type": "stream",
       "stream": "stdout",
       "text": [
        "\n",
        "Computing jobs"
       ]
      },
      {
       "output_type": "stream",
       "stream": "stdout",
       "text": [
        "\n",
        "Computing ave_income"
       ]
      },
      {
       "output_type": "stream",
       "stream": "stdout",
       "text": [
        "\n",
        "Time to execute model = 180.327s"
       ]
      },
      {
       "output_type": "stream",
       "stream": "stdout",
       "text": [
        "\n",
        "Running model 'rsh_simulate'\n",
        "count    1909625.000000\n",
        "mean         425.819067\n",
        "std          230.702905\n",
        "min            2.904214\n",
        "25%          280.321884\n",
        "50%          370.226256\n",
        "75%          493.389672\n",
        "max        16100.128003\n",
        "dtype: float64"
       ]
      },
      {
       "output_type": "stream",
       "stream": "stdout",
       "text": [
        "\n",
        "Time to execute model = 36.016s"
       ]
      },
      {
       "output_type": "stream",
       "stream": "stdout",
       "text": [
        "\n",
        "Running model 'rrh_simulate'\n",
        "count    1909625.000000\n",
        "mean           3.055356\n",
        "std            0.555286\n",
        "min            0.444802\n",
        "25%            2.692051\n",
        "50%            3.005638\n",
        "75%            3.365962\n",
        "max           16.683228\n",
        "dtype: float64"
       ]
      },
      {
       "output_type": "stream",
       "stream": "stdout",
       "text": [
        "\n",
        "Time to execute model = 3.878s"
       ]
      },
      {
       "output_type": "stream",
       "stream": "stdout",
       "text": [
        "\n",
        "Running model 'nrh_simulate'\n",
        "count    127419.000000\n",
        "mean         22.534939\n",
        "std           7.537076\n",
        "min           0.401221\n",
        "25%          12.215164\n",
        "50%          24.988611\n",
        "75%          27.001537\n",
        "max          48.757513\n",
        "dtype: float64"
       ]
      },
      {
       "output_type": "stream",
       "stream": "stdout",
       "text": [
        "\n",
        "Time to execute model = 2.005s\n",
        "Running model 'households_relocation'\n",
        "Total agents: 5421893\n",
        "Total currently unplaced: 258185"
       ]
      },
      {
       "output_type": "stream",
       "stream": "stdout",
       "text": [
        "\n",
        "Assinging for relocation...\n",
        "Total currently unplaced: 516149"
       ]
      },
      {
       "output_type": "stream",
       "stream": "stdout",
       "text": [
        "\n",
        "Time to execute model = 5.009s\n",
        "Running model 'hlcmo_simulate'\n",
        "There are 5927483 total available units"
       ]
      },
      {
       "output_type": "stream",
       "stream": "stdout",
       "text": [
        "\n",
        "    and 5421893 total choosers\n",
        "    but there are 62 overfull buildings"
       ]
      },
      {
       "output_type": "stream",
       "stream": "stdout",
       "text": [
        "\n",
        "    for a total of 1023975 temporarily empty units"
       ]
      },
      {
       "output_type": "stream",
       "stream": "stdout",
       "text": [
        "\n",
        "    in 398577 buildings total in the region\n",
        "Assigned 290163 choosers to new units"
       ]
      },
      {
       "output_type": "stream",
       "stream": "stdout",
       "text": [
        "\n",
        "Total currently unplaced: 225986"
       ]
      },
      {
       "output_type": "stream",
       "stream": "stdout",
       "text": [
        "\n",
        "    and there are now 732081 empty units"
       ]
      },
      {
       "output_type": "stream",
       "stream": "stdout",
       "text": [
        "\n",
        "    and 62 overfull buildings"
       ]
      },
      {
       "output_type": "stream",
       "stream": "stdout",
       "text": [
        "\n",
        "Time to execute model = 23.946s\n",
        "Running model 'hlcmr_simulate'\n",
        "There are 5927483 total available units"
       ]
      },
      {
       "output_type": "stream",
       "stream": "stdout",
       "text": [
        "\n",
        "    and 5421893 total choosers\n",
        "    but there are 62 overfull buildings"
       ]
      },
      {
       "output_type": "stream",
       "stream": "stdout",
       "text": [
        "\n",
        "    for a total of 733812 temporarily empty units"
       ]
      },
      {
       "output_type": "stream",
       "stream": "stdout",
       "text": [
        "\n",
        "    in 323764 buildings total in the region\n",
        "Assigned 225986 choosers to new units"
       ]
      },
      {
       "output_type": "stream",
       "stream": "stdout",
       "text": [
        "\n",
        "Total currently unplaced: 0"
       ]
      },
      {
       "output_type": "stream",
       "stream": "stdout",
       "text": [
        "\n",
        "    and there are now 506095 empty units"
       ]
      },
      {
       "output_type": "stream",
       "stream": "stdout",
       "text": [
        "\n",
        "    and 62 overfull buildings"
       ]
      },
      {
       "output_type": "stream",
       "stream": "stdout",
       "text": [
        "\n",
        "Time to execute model = 15.290s\n",
        "Running model 'households_transition'\n",
        "5421893 agents before transition"
       ]
      },
      {
       "output_type": "stream",
       "stream": "stdout",
       "text": [
        "\n",
        "5692988 agents after transition"
       ]
      },
      {
       "output_type": "stream",
       "stream": "stdout",
       "text": [
        "\n",
        "Time to execute model = 2.729s"
       ]
      },
      {
       "output_type": "stream",
       "stream": "stdout",
       "text": [
        "\n",
        "Running model 'jobs_relocation'\n",
        "Total agents: 8494175\n",
        "Total currently unplaced: 404485"
       ]
      },
      {
       "output_type": "stream",
       "stream": "stdout",
       "text": [
        "\n",
        "Assinging for relocation...\n",
        "Total currently unplaced: 808801"
       ]
      },
      {
       "output_type": "stream",
       "stream": "stdout",
       "text": [
        "\n",
        "Time to execute model = 4.932s\n",
        "Running model 'elcm_simulate'\n",
        "There are 9276915 total available units"
       ]
      },
      {
       "output_type": "stream",
       "stream": "stdout",
       "text": [
        "\n",
        "    and 8494175 total choosers\n",
        "    but there are 0 overfull buildings"
       ]
      },
      {
       "output_type": "stream",
       "stream": "stdout",
       "text": [
        "\n",
        "    for a total of 1656533 temporarily empty units"
       ]
      },
      {
       "output_type": "stream",
       "stream": "stdout",
       "text": [
        "\n",
        "    in 205262 buildings total in the region\n",
        "Assigned 808801 choosers to new units"
       ]
      },
      {
       "output_type": "stream",
       "stream": "stdout",
       "text": [
        "\n",
        "Total currently unplaced: 0"
       ]
      },
      {
       "output_type": "stream",
       "stream": "stdout",
       "text": [
        "\n",
        "    and there are now 847732 empty units"
       ]
      },
      {
       "output_type": "stream",
       "stream": "stdout",
       "text": [
        "\n",
        "    and 0 overfull buildings"
       ]
      },
      {
       "output_type": "stream",
       "stream": "stdout",
       "text": [
        "\n",
        "Time to execute model = 69.521s\n",
        "Running model 'jobs_transition'\n",
        "8494175 agents before transition"
       ]
      },
      {
       "output_type": "stream",
       "stream": "stdout",
       "text": [
        "\n",
        "8918884 agents after transition"
       ]
      },
      {
       "output_type": "stream",
       "stream": "stdout",
       "text": [
        "\n",
        "Time to execute model = 7.939s"
       ]
      },
      {
       "output_type": "stream",
       "stream": "stdout",
       "text": [
        "\n",
        "Running model 'price_vars'\n",
        "Computing accessibility variables\n",
        "Computing residential\n",
        "Computing retail"
       ]
      },
      {
       "output_type": "stream",
       "stream": "stdout",
       "text": [
        "\n",
        "Computing office"
       ]
      },
      {
       "output_type": "stream",
       "stream": "stdout",
       "text": [
        "\n",
        "Computing industrial"
       ]
      },
      {
       "output_type": "stream",
       "stream": "stdout",
       "text": [
        "\n",
        "Time to execute model = 5.795s"
       ]
      },
      {
       "output_type": "stream",
       "stream": "stdout",
       "text": [
        "\n",
        "Running model 'feasibility'\n",
        "Describe of the yearly rent by use"
       ]
      },
      {
       "output_type": "stream",
       "stream": "stdout",
       "text": [
        "\n",
        "               retail      industrial          office     residential\n",
        "count  2023915.000000  2023915.000000  2023915.000000  2023915.000000\n",
        "mean        25.383397        9.679512       23.874742       18.896867\n",
        "std          6.809277        3.335177        5.518059        8.825844\n",
        "min          0.000000        0.000000        0.000000        0.000000\n",
        "25%         24.142538       10.207207       24.547945       13.524808\n",
        "50%         26.550140       10.740025       25.083189       17.560051\n",
        "75%         28.875805       11.127300       25.593603       21.484914\n",
        "max         46.021713       17.825304       43.334373       49.202744\n",
        "\n",
        "[8 rows x 4 columns]"
       ]
      },
      {
       "output_type": "stream",
       "stream": "stdout",
       "text": [
        "\n",
        "Computing feasibility for form mixedoffice\n",
        "Computing feasibility for form industrial"
       ]
      },
      {
       "output_type": "stream",
       "stream": "stdout",
       "text": [
        "\n",
        "Computing feasibility for form office"
       ]
      },
      {
       "output_type": "stream",
       "stream": "stdout",
       "text": [
        "\n",
        "Computing feasibility for form residential"
       ]
      },
      {
       "output_type": "stream",
       "stream": "stdout",
       "text": [
        "\n",
        "Computing feasibility for form mixedresidential"
       ]
      },
      {
       "output_type": "stream",
       "stream": "stdout",
       "text": [
        "\n",
        "Computing feasibility for form retail"
       ]
      },
      {
       "output_type": "stream",
       "stream": "stdout",
       "text": [
        "\n",
        "Time to execute model = 48.354s"
       ]
      },
      {
       "output_type": "stream",
       "stream": "stdout",
       "text": [
        "\n",
        "Running model 'residential_developer'\n",
        "Number of agents: 5,692,988"
       ]
      },
      {
       "output_type": "stream",
       "stream": "stdout",
       "text": [
        "\n",
        "Number of agent spaces: 5,927,483\n",
        "Current vacancy = 0.04\n",
        "Target vacancy = 0.08, target of new units = 260,547\n",
        "284,572 feasible buildings before running developer\n",
        "Sum of net units that are profitable: 863,726"
       ]
      },
      {
       "output_type": "stream",
       "stream": "stdout",
       "text": [
        "\n",
        "Adding 23,760 buildings with 299,761 residential_units"
       ]
      },
      {
       "output_type": "stream",
       "stream": "stdout",
       "text": [
        "\n",
        "260,812 feasible buildings after running developer\n",
        "Time to execute model = 7.459s"
       ]
      },
      {
       "output_type": "stream",
       "stream": "stdout",
       "text": [
        "\n",
        "Running model 'non_residential_developer'\n",
        "Number of agents: 8,918,884"
       ]
      },
      {
       "output_type": "stream",
       "stream": "stdout",
       "text": [
        "\n",
        "Number of agent spaces: 9,276,915\n",
        "Current vacancy = 0.04\n",
        "Target vacancy = 0.08, target of new units = 417,524\n",
        "260,812 feasible buildings before running developer\n",
        "Sum of net units that are profitable: 5,982,095"
       ]
      },
      {
       "output_type": "stream",
       "stream": "stdout",
       "text": [
        "\n",
        "Adding 2,553 buildings with 493,460 job_spaces"
       ]
      },
      {
       "output_type": "stream",
       "stream": "stdout",
       "text": [
        "\n",
        "258,259 feasible buildings after running developer\n",
        "Time to execute model = 10.489s"
       ]
      },
      {
       "output_type": "stream",
       "stream": "stdout",
       "text": [
        "\n",
        "Running model 'clear_cache'\n",
        "Time to execute model = 0.015s\n",
        "Time to execute year = 423.709s\n",
        "Running year 2026\n",
        "Running model 'neighborhood_vars'\n",
        "Computing accessibility variables\n",
        "Computing sum_residential_units\n",
        "Computing sum_nonresidential_units"
       ]
      },
      {
       "output_type": "stream",
       "stream": "stdout",
       "text": [
        "\n",
        "Computing ave_unit_sqft"
       ]
      },
      {
       "output_type": "stream",
       "stream": "stdout",
       "text": [
        "\n",
        "Computing ave_lot_sqft"
       ]
      },
      {
       "output_type": "stream",
       "stream": "stdout",
       "text": [
        "\n",
        "Computing population"
       ]
      },
      {
       "output_type": "stream",
       "stream": "stdout",
       "text": [
        "\n",
        "Computing poor"
       ]
      },
      {
       "output_type": "stream",
       "stream": "stdout",
       "text": [
        "\n",
        "Computing renters"
       ]
      },
      {
       "output_type": "stream",
       "stream": "stdout",
       "text": [
        "\n",
        "Computing sfdu"
       ]
      },
      {
       "output_type": "stream",
       "stream": "stdout",
       "text": [
        "\n",
        "Computing hhsize"
       ]
      },
      {
       "output_type": "stream",
       "stream": "stdout",
       "text": [
        "\n",
        "Computing jobs"
       ]
      },
      {
       "output_type": "stream",
       "stream": "stdout",
       "text": [
        "\n",
        "Computing ave_income"
       ]
      },
      {
       "output_type": "stream",
       "stream": "stdout",
       "text": [
        "\n",
        "Time to execute model = 225.790s"
       ]
      },
      {
       "output_type": "stream",
       "stream": "stdout",
       "text": [
        "\n",
        "Running model 'rsh_simulate'\n",
        "count    1933385.000000\n",
        "mean         435.225659\n",
        "std          241.120108\n",
        "min            2.904214\n",
        "25%          281.964823\n",
        "50%          373.468369\n",
        "75%          505.521539\n",
        "max        16216.146571\n",
        "dtype: float64"
       ]
      },
      {
       "output_type": "stream",
       "stream": "stdout",
       "text": [
        "\n",
        "Time to execute model = 42.773s"
       ]
      },
      {
       "output_type": "stream",
       "stream": "stdout",
       "text": [
        "\n",
        "Running model 'rrh_simulate'\n",
        "count    1933385.000000\n",
        "mean           3.069391\n",
        "std            0.561494\n",
        "min            0.444802\n",
        "25%            2.699367\n",
        "50%            3.019033\n",
        "75%            3.386342\n",
        "max           16.686755\n",
        "dtype: float64"
       ]
      },
      {
       "output_type": "stream",
       "stream": "stdout",
       "text": [
        "\n",
        "Time to execute model = 5.664s"
       ]
      },
      {
       "output_type": "stream",
       "stream": "stdout",
       "text": [
        "\n",
        "Running model 'nrh_simulate'\n",
        "count    129972.000000\n",
        "mean         22.681855\n",
        "std           7.530829\n",
        "min           0.401221\n",
        "25%          12.554154\n",
        "50%          25.076970\n",
        "75%          27.139334\n",
        "max          48.762569\n",
        "dtype: float64"
       ]
      },
      {
       "output_type": "stream",
       "stream": "stdout",
       "text": [
        "\n",
        "Time to execute model = 2.102s\n",
        "Running model 'households_relocation'\n",
        "Total agents: 5692988\n",
        "Total currently unplaced: 271095"
       ]
      },
      {
       "output_type": "stream",
       "stream": "stdout",
       "text": [
        "\n",
        "Assinging for relocation...\n",
        "Total currently unplaced: 542245"
       ]
      },
      {
       "output_type": "stream",
       "stream": "stdout",
       "text": [
        "\n",
        "Time to execute model = 5.632s\n",
        "Running model 'hlcmo_simulate'\n",
        "There are 6227244 total available units"
       ]
      },
      {
       "output_type": "stream",
       "stream": "stdout",
       "text": [
        "\n",
        "    and 5692988 total choosers\n",
        "    but there are 59 overfull buildings"
       ]
      },
      {
       "output_type": "stream",
       "stream": "stdout",
       "text": [
        "\n",
        "    for a total of 1078586 temporarily empty units"
       ]
      },
      {
       "output_type": "stream",
       "stream": "stdout",
       "text": [
        "\n",
        "    in 418551 buildings total in the region\n",
        "Assigned 305519 choosers to new units"
       ]
      },
      {
       "output_type": "stream",
       "stream": "stdout",
       "text": [
        "\n",
        "Total currently unplaced: 236726"
       ]
      },
      {
       "output_type": "stream",
       "stream": "stdout",
       "text": [
        "\n",
        "    and there are now 771463 empty units"
       ]
      },
      {
       "output_type": "stream",
       "stream": "stdout",
       "text": [
        "\n",
        "    and 59 overfull buildings"
       ]
      },
      {
       "output_type": "stream",
       "stream": "stdout",
       "text": [
        "\n",
        "Time to execute model = 25.888s\n",
        "Running model 'hlcmr_simulate'\n",
        "There are 6227244 total available units"
       ]
      },
      {
       "output_type": "stream",
       "stream": "stdout",
       "text": [
        "\n",
        "    and 5692988 total choosers\n",
        "    but there are 59 overfull buildings"
       ]
      },
      {
       "output_type": "stream",
       "stream": "stdout",
       "text": [
        "\n",
        "    for a total of 773067 temporarily empty units"
       ]
      },
      {
       "output_type": "stream",
       "stream": "stdout",
       "text": [
        "\n",
        "    in 340985 buildings total in the region\n",
        "Assigned 236726 choosers to new units"
       ]
      },
      {
       "output_type": "stream",
       "stream": "stdout",
       "text": [
        "\n",
        "Total currently unplaced: 0"
       ]
      },
      {
       "output_type": "stream",
       "stream": "stdout",
       "text": [
        "\n",
        "    and there are now 534737 empty units"
       ]
      },
      {
       "output_type": "stream",
       "stream": "stdout",
       "text": [
        "\n",
        "    and 59 overfull buildings"
       ]
      },
      {
       "output_type": "stream",
       "stream": "stdout",
       "text": [
        "\n",
        "Time to execute model = 18.845s\n",
        "Running model 'households_transition'\n",
        "5692988 agents before transition"
       ]
      },
      {
       "output_type": "stream",
       "stream": "stdout",
       "text": [
        "\n",
        "5977637 agents after transition"
       ]
      },
      {
       "output_type": "stream",
       "stream": "stdout",
       "text": [
        "\n",
        "Time to execute model = 3.025s"
       ]
      },
      {
       "output_type": "stream",
       "stream": "stdout",
       "text": [
        "\n",
        "Running model 'jobs_relocation'\n",
        "Total agents: 8918884\n",
        "Total currently unplaced: 424709"
       ]
      },
      {
       "output_type": "stream",
       "stream": "stdout",
       "text": [
        "\n",
        "Assinging for relocation...\n",
        "Total currently unplaced: 849462"
       ]
      },
      {
       "output_type": "stream",
       "stream": "stdout",
       "text": [
        "\n",
        "Time to execute model = 5.344s\n",
        "Running model 'elcm_simulate'\n",
        "There are 9755348 total available units"
       ]
      },
      {
       "output_type": "stream",
       "stream": "stdout",
       "text": [
        "\n",
        "    and 8918884 total choosers\n",
        "    but there are 0 overfull buildings"
       ]
      },
      {
       "output_type": "stream",
       "stream": "stdout",
       "text": [
        "\n",
        "    for a total of 1747749 temporarily empty units"
       ]
      },
      {
       "output_type": "stream",
       "stream": "stdout",
       "text": [
        "\n",
        "    in 209446 buildings total in the region\n",
        "Assigned 849462 choosers to new units"
       ]
      },
      {
       "output_type": "stream",
       "stream": "stdout",
       "text": [
        "\n",
        "Total currently unplaced: 0"
       ]
      },
      {
       "output_type": "stream",
       "stream": "stdout",
       "text": [
        "\n",
        "    and there are now 898287 empty units"
       ]
      },
      {
       "output_type": "stream",
       "stream": "stdout",
       "text": [
        "\n",
        "    and 0 overfull buildings"
       ]
      },
      {
       "output_type": "stream",
       "stream": "stdout",
       "text": [
        "\n",
        "Time to execute model = 75.946s\n",
        "Running model 'jobs_transition'\n",
        "8918884 agents before transition"
       ]
      },
      {
       "output_type": "stream",
       "stream": "stdout",
       "text": [
        "\n",
        "9364828 agents after transition"
       ]
      },
      {
       "output_type": "stream",
       "stream": "stdout",
       "text": [
        "\n",
        "Time to execute model = 7.345s"
       ]
      },
      {
       "output_type": "stream",
       "stream": "stdout",
       "text": [
        "\n",
        "Running model 'price_vars'\n",
        "Computing accessibility variables\n",
        "Computing residential\n",
        "Computing retail"
       ]
      },
      {
       "output_type": "stream",
       "stream": "stdout",
       "text": [
        "\n",
        "Computing office"
       ]
      },
      {
       "output_type": "stream",
       "stream": "stdout",
       "text": [
        "\n",
        "Computing industrial"
       ]
      },
      {
       "output_type": "stream",
       "stream": "stdout",
       "text": [
        "\n",
        "Time to execute model = 4.613s"
       ]
      },
      {
       "output_type": "stream",
       "stream": "stdout",
       "text": [
        "\n",
        "Running model 'feasibility'\n",
        "Describe of the yearly rent by use"
       ]
      },
      {
       "output_type": "stream",
       "stream": "stdout",
       "text": [
        "\n",
        "               retail      industrial          office     residential\n",
        "count  2023915.000000  2023915.000000  2023915.000000  2023915.000000\n",
        "mean        25.462471        9.686937       23.893388       19.096133\n",
        "std          6.804003        3.338280        5.513072        9.185028\n",
        "min          0.000000        0.000000        0.000000        0.000000\n",
        "25%         24.245173       10.208716       24.558634       13.547412\n",
        "50%         26.628178       10.750123       25.095949       17.613799\n",
        "75%         28.922626       11.135977       25.609908       21.611981\n",
        "max         46.077797       17.825539       43.334946       50.570074\n",
        "\n",
        "[8 rows x 4 columns]"
       ]
      },
      {
       "output_type": "stream",
       "stream": "stdout",
       "text": [
        "\n",
        "Computing feasibility for form mixedoffice\n",
        "Computing feasibility for form industrial"
       ]
      },
      {
       "output_type": "stream",
       "stream": "stdout",
       "text": [
        "\n",
        "Computing feasibility for form office"
       ]
      },
      {
       "output_type": "stream",
       "stream": "stdout",
       "text": [
        "\n",
        "Computing feasibility for form residential"
       ]
      },
      {
       "output_type": "stream",
       "stream": "stdout",
       "text": [
        "\n",
        "Computing feasibility for form mixedresidential"
       ]
      },
      {
       "output_type": "stream",
       "stream": "stdout",
       "text": [
        "\n",
        "Computing feasibility for form retail"
       ]
      },
      {
       "output_type": "stream",
       "stream": "stdout",
       "text": [
        "\n",
        "Time to execute model = 45.767s"
       ]
      },
      {
       "output_type": "stream",
       "stream": "stdout",
       "text": [
        "\n",
        "Running model 'residential_developer'\n",
        "Number of agents: 5,977,637"
       ]
      },
      {
       "output_type": "stream",
       "stream": "stdout",
       "text": [
        "\n",
        "Number of agent spaces: 6,227,244\n",
        "Current vacancy = 0.04\n",
        "Target vacancy = 0.08, target of new units = 270,187\n",
        "261,078 feasible buildings before running developer\n",
        "Sum of net units that are profitable: 644,389"
       ]
      },
      {
       "output_type": "stream",
       "stream": "stdout",
       "text": [
        "\n",
        "Adding 27,246 buildings with 312,739 residential_units"
       ]
      },
      {
       "output_type": "stream",
       "stream": "stdout",
       "text": [
        "\n",
        "233,832 feasible buildings after running developer\n",
        "Time to execute model = 5.956s"
       ]
      },
      {
       "output_type": "stream",
       "stream": "stdout",
       "text": [
        "\n",
        "Running model 'non_residential_developer'\n",
        "Number of agents: 9,364,828"
       ]
      },
      {
       "output_type": "stream",
       "stream": "stdout",
       "text": [
        "\n",
        "Number of agent spaces: 9,755,348\n",
        "Current vacancy = 0.04\n",
        "Target vacancy = 0.08, target of new units = 423,812\n",
        "233,832 feasible buildings before running developer\n",
        "Sum of net units that are profitable: 5,583,740"
       ]
      },
      {
       "output_type": "stream",
       "stream": "stdout",
       "text": [
        "\n",
        "Adding 3,140 buildings with 519,900 job_spaces"
       ]
      },
      {
       "output_type": "stream",
       "stream": "stdout",
       "text": [
        "\n",
        "230,692 feasible buildings after running developer\n",
        "Time to execute model = 9.995s"
       ]
      },
      {
       "output_type": "stream",
       "stream": "stdout",
       "text": [
        "\n",
        "Running model 'clear_cache'\n",
        "Time to execute model = 0.049s\n",
        "Time to execute year = 484.740s\n",
        "Running year 2027\n",
        "Running model 'neighborhood_vars'\n",
        "Computing accessibility variables\n",
        "Computing sum_residential_units"
       ]
      },
      {
       "output_type": "stream",
       "stream": "stdout",
       "text": [
        "\n",
        "Computing sum_nonresidential_units"
       ]
      },
      {
       "output_type": "stream",
       "stream": "stdout",
       "text": [
        "\n",
        "Computing ave_unit_sqft"
       ]
      },
      {
       "output_type": "stream",
       "stream": "stdout",
       "text": [
        "\n",
        "Computing ave_lot_sqft"
       ]
      },
      {
       "output_type": "stream",
       "stream": "stdout",
       "text": [
        "\n",
        "Computing population"
       ]
      },
      {
       "output_type": "stream",
       "stream": "stdout",
       "text": [
        "\n",
        "Computing poor"
       ]
      },
      {
       "output_type": "stream",
       "stream": "stdout",
       "text": [
        "\n",
        "Computing renters"
       ]
      },
      {
       "output_type": "stream",
       "stream": "stdout",
       "text": [
        "\n",
        "Computing sfdu"
       ]
      },
      {
       "output_type": "stream",
       "stream": "stdout",
       "text": [
        "\n",
        "Computing hhsize"
       ]
      },
      {
       "output_type": "stream",
       "stream": "stdout",
       "text": [
        "\n",
        "Computing jobs"
       ]
      },
      {
       "output_type": "stream",
       "stream": "stdout",
       "text": [
        "\n",
        "Computing ave_income"
       ]
      },
      {
       "output_type": "stream",
       "stream": "stdout",
       "text": [
        "\n",
        "Time to execute model = 204.515s"
       ]
      },
      {
       "output_type": "stream",
       "stream": "stdout",
       "text": [
        "\n",
        "Running model 'rsh_simulate'\n",
        "count    1960631.000000\n",
        "mean         445.179858\n",
        "std          251.155120\n",
        "min            2.914346\n",
        "25%          283.855593\n",
        "50%          377.206787\n",
        "75%          520.906072\n",
        "max        16309.237106\n",
        "dtype: float64"
       ]
      },
      {
       "output_type": "stream",
       "stream": "stdout",
       "text": [
        "\n",
        "Time to execute model = 31.278s"
       ]
      },
      {
       "output_type": "stream",
       "stream": "stdout",
       "text": [
        "\n",
        "Running model 'rrh_simulate'\n",
        "count    1960631.000000\n",
        "mean           3.083405\n",
        "std            0.567878\n",
        "min            0.444802\n",
        "25%            2.706260\n",
        "50%            3.032583\n",
        "75%            3.408352\n",
        "max           16.687904\n",
        "dtype: float64"
       ]
      },
      {
       "output_type": "stream",
       "stream": "stdout",
       "text": [
        "\n",
        "Time to execute model = 3.464s"
       ]
      },
      {
       "output_type": "stream",
       "stream": "stdout",
       "text": [
        "\n",
        "Running model 'nrh_simulate'\n",
        "count    133112.000000\n",
        "mean         22.844141\n",
        "std           7.520708\n",
        "min           0.401221\n",
        "25%          13.830823\n",
        "50%          25.173717\n",
        "75%          27.302400\n",
        "max          48.758560\n",
        "dtype: float64"
       ]
      },
      {
       "output_type": "stream",
       "stream": "stdout",
       "text": [
        "\n",
        "Time to execute model = 1.734s\n",
        "Running model 'households_relocation'\n",
        "Total agents: 5977637\n",
        "Total currently unplaced: 284649"
       ]
      },
      {
       "output_type": "stream",
       "stream": "stdout",
       "text": [
        "\n",
        "Assinging for relocation...\n",
        "Total currently unplaced: 569298"
       ]
      },
      {
       "output_type": "stream",
       "stream": "stdout",
       "text": [
        "\n",
        "Time to execute model = 4.923s\n",
        "Running model 'hlcmo_simulate'\n",
        "There are 6539983 total available units"
       ]
      },
      {
       "output_type": "stream",
       "stream": "stdout",
       "text": [
        "\n",
        "    and 5977637 total choosers\n",
        "    but there are 54 overfull buildings"
       ]
      },
      {
       "output_type": "stream",
       "stream": "stdout",
       "text": [
        "\n",
        "    for a total of 1133572 temporarily empty units"
       ]
      },
      {
       "output_type": "stream",
       "stream": "stdout",
       "text": [
        "\n",
        "    in 441177 buildings total in the region\n",
        "Assigned 319735 choosers to new units"
       ]
      },
      {
       "output_type": "stream",
       "stream": "stdout",
       "text": [
        "\n",
        "Total currently unplaced: 249563"
       ]
      },
      {
       "output_type": "stream",
       "stream": "stdout",
       "text": [
        "\n",
        "    and there are now 812363 empty units"
       ]
      },
      {
       "output_type": "stream",
       "stream": "stdout",
       "text": [
        "\n",
        "    and 54 overfull buildings"
       ]
      },
      {
       "output_type": "stream",
       "stream": "stdout",
       "text": [
        "\n",
        "Time to execute model = 23.141s\n",
        "Running model 'hlcmr_simulate'\n",
        "There are 6539983 total available units"
       ]
      },
      {
       "output_type": "stream",
       "stream": "stdout",
       "text": [
        "\n",
        "    and 5977637 total choosers\n",
        "    but there are 54 overfull buildings"
       ]
      },
      {
       "output_type": "stream",
       "stream": "stdout",
       "text": [
        "\n",
        "    for a total of 813837 temporarily empty units"
       ]
      },
      {
       "output_type": "stream",
       "stream": "stdout",
       "text": [
        "\n",
        "    in 360402 buildings total in the region\n",
        "Assigned 249563 choosers to new units"
       ]
      },
      {
       "output_type": "stream",
       "stream": "stdout",
       "text": [
        "\n",
        "Total currently unplaced: 0"
       ]
      },
      {
       "output_type": "stream",
       "stream": "stdout",
       "text": [
        "\n",
        "    and there are now 562800 empty units"
       ]
      },
      {
       "output_type": "stream",
       "stream": "stdout",
       "text": [
        "\n",
        "    and 54 overfull buildings"
       ]
      },
      {
       "output_type": "stream",
       "stream": "stdout",
       "text": [
        "\n",
        "Time to execute model = 18.524s\n",
        "Running model 'households_transition'\n",
        "5977637 agents before transition"
       ]
      },
      {
       "output_type": "stream",
       "stream": "stdout",
       "text": [
        "\n",
        "6276519 agents after transition"
       ]
      },
      {
       "output_type": "stream",
       "stream": "stdout",
       "text": [
        "\n",
        "Time to execute model = 3.205s"
       ]
      },
      {
       "output_type": "stream",
       "stream": "stdout",
       "text": [
        "\n",
        "Running model 'jobs_relocation'\n",
        "Total agents: 9364828\n",
        "Total currently unplaced: 445944"
       ]
      },
      {
       "output_type": "stream",
       "stream": "stdout",
       "text": [
        "\n",
        "Assinging for relocation...\n",
        "Total currently unplaced: 891828"
       ]
      },
      {
       "output_type": "stream",
       "stream": "stdout",
       "text": [
        "\n",
        "Time to execute model = 5.460s\n",
        "Running model 'elcm_simulate'\n",
        "There are 10253561 total available units"
       ]
      },
      {
       "output_type": "stream",
       "stream": "stdout",
       "text": [
        "\n",
        "    and 9364828 total choosers\n",
        "    but there are 0 overfull buildings"
       ]
      },
      {
       "output_type": "stream",
       "stream": "stdout",
       "text": [
        "\n",
        "    for a total of 1839391 temporarily empty units"
       ]
      },
      {
       "output_type": "stream",
       "stream": "stdout",
       "text": [
        "\n",
        "    in 215121 buildings total in the region\n",
        "Assigned 891828 choosers to new units"
       ]
      },
      {
       "output_type": "stream",
       "stream": "stdout",
       "text": [
        "\n",
        "Total currently unplaced: 0"
       ]
      },
      {
       "output_type": "stream",
       "stream": "stdout",
       "text": [
        "\n",
        "    and there are now 947563 empty units"
       ]
      },
      {
       "output_type": "stream",
       "stream": "stdout",
       "text": [
        "\n",
        "    and 0 overfull buildings"
       ]
      },
      {
       "output_type": "stream",
       "stream": "stdout",
       "text": [
        "\n",
        "Time to execute model = 80.913s\n",
        "Running model 'jobs_transition'\n",
        "9364828 agents before transition"
       ]
      },
      {
       "output_type": "stream",
       "stream": "stdout",
       "text": [
        "\n",
        "9833069 agents after transition"
       ]
      },
      {
       "output_type": "stream",
       "stream": "stdout",
       "text": [
        "\n",
        "Time to execute model = 6.839s"
       ]
      },
      {
       "output_type": "stream",
       "stream": "stdout",
       "text": [
        "\n",
        "Running model 'price_vars'\n",
        "Computing accessibility variables\n",
        "Computing residential\n",
        "Computing retail"
       ]
      },
      {
       "output_type": "stream",
       "stream": "stdout",
       "text": [
        "\n",
        "Computing office"
       ]
      },
      {
       "output_type": "stream",
       "stream": "stdout",
       "text": [
        "\n",
        "Computing industrial"
       ]
      },
      {
       "output_type": "stream",
       "stream": "stdout",
       "text": [
        "\n",
        "Time to execute model = 5.493s"
       ]
      },
      {
       "output_type": "stream",
       "stream": "stdout",
       "text": [
        "\n",
        "Running model 'feasibility'\n",
        "Describe of the yearly rent by use"
       ]
      },
      {
       "output_type": "stream",
       "stream": "stdout",
       "text": [
        "\n",
        "               retail      industrial          office     residential\n",
        "count  2023915.000000  2023915.000000  2023915.000000  2023915.000000\n",
        "mean        25.526752        9.693398       23.917713       19.307617\n",
        "std          6.802198        3.340967        5.490581        9.533069\n",
        "min          0.000000        0.000000        0.000000        0.000000\n",
        "25%         24.319538       10.213928       24.568160       13.571550\n",
        "50%         26.694338       10.758866       25.108866       17.701955\n",
        "75%         28.962866       11.146301       25.622864       21.762039\n",
        "max         46.073727       17.825571       43.334324       51.675183\n",
        "\n",
        "[8 rows x 4 columns]"
       ]
      },
      {
       "output_type": "stream",
       "stream": "stdout",
       "text": [
        "\n",
        "Computing feasibility for form mixedoffice\n",
        "Computing feasibility for form industrial"
       ]
      },
      {
       "output_type": "stream",
       "stream": "stdout",
       "text": [
        "\n",
        "Computing feasibility for form office"
       ]
      },
      {
       "output_type": "stream",
       "stream": "stdout",
       "text": [
        "\n",
        "Computing feasibility for form residential"
       ]
      },
      {
       "output_type": "stream",
       "stream": "stdout",
       "text": [
        "\n",
        "Computing feasibility for form mixedresidential"
       ]
      },
      {
       "output_type": "stream",
       "stream": "stdout",
       "text": [
        "\n",
        "Computing feasibility for form retail"
       ]
      },
      {
       "output_type": "stream",
       "stream": "stdout",
       "text": [
        "\n",
        "Time to execute model = 50.686s"
       ]
      },
      {
       "output_type": "stream",
       "stream": "stdout",
       "text": [
        "\n",
        "Running model 'residential_developer'\n",
        "Number of agents: 6,276,519"
       ]
      },
      {
       "output_type": "stream",
       "stream": "stdout",
       "text": [
        "\n",
        "Number of agent spaces: 6,539,983\n",
        "Current vacancy = 0.04\n",
        "Target vacancy = 0.08, target of new units = 282,320\n",
        "234,112 feasible buildings before running developer\n",
        "Sum of net units that are profitable: 445,732"
       ]
      },
      {
       "output_type": "stream",
       "stream": "stdout",
       "text": [
        "\n",
        "Adding 29,862 buildings with 325,401 residential_units"
       ]
      },
      {
       "output_type": "stream",
       "stream": "stdout",
       "text": [
        "\n",
        "204,250 feasible buildings after running developer\n",
        "Time to execute model = 6.419s"
       ]
      },
      {
       "output_type": "stream",
       "stream": "stdout",
       "text": [
        "\n",
        "Running model 'non_residential_developer'\n",
        "Number of agents: 9,833,069"
       ]
      },
      {
       "output_type": "stream",
       "stream": "stdout",
       "text": [
        "\n",
        "Number of agent spaces: 10,253,561\n",
        "Current vacancy = 0.04\n",
        "Target vacancy = 0.08, target of new units = 434,557\n",
        "204,250 feasible buildings before running developer\n",
        "Sum of net units that are profitable: 5,104,007"
       ]
      },
      {
       "output_type": "stream",
       "stream": "stdout",
       "text": [
        "\n",
        "Adding 3,432 buildings with 572,887 job_spaces"
       ]
      },
      {
       "output_type": "stream",
       "stream": "stdout",
       "text": [
        "\n",
        "200,818 feasible buildings after running developer\n",
        "Time to execute model = 9.677s"
       ]
      },
      {
       "output_type": "stream",
       "stream": "stdout",
       "text": [
        "\n",
        "Running model 'clear_cache'\n",
        "Time to execute model = 0.019s\n",
        "Time to execute year = 456.294s\n",
        "Running year 2028\n",
        "Running model 'neighborhood_vars'\n",
        "Computing accessibility variables\n",
        "Computing sum_residential_units"
       ]
      },
      {
       "output_type": "stream",
       "stream": "stdout",
       "text": [
        "\n",
        "Computing sum_nonresidential_units"
       ]
      },
      {
       "output_type": "stream",
       "stream": "stdout",
       "text": [
        "\n",
        "Computing ave_unit_sqft"
       ]
      },
      {
       "output_type": "stream",
       "stream": "stdout",
       "text": [
        "\n",
        "Computing ave_lot_sqft"
       ]
      },
      {
       "output_type": "stream",
       "stream": "stdout",
       "text": [
        "\n",
        "Computing population"
       ]
      },
      {
       "output_type": "stream",
       "stream": "stdout",
       "text": [
        "\n",
        "Computing poor"
       ]
      },
      {
       "output_type": "stream",
       "stream": "stdout",
       "text": [
        "\n",
        "Computing renters"
       ]
      },
      {
       "output_type": "stream",
       "stream": "stdout",
       "text": [
        "\n",
        "Computing sfdu"
       ]
      },
      {
       "output_type": "stream",
       "stream": "stdout",
       "text": [
        "\n",
        "Computing hhsize"
       ]
      },
      {
       "output_type": "stream",
       "stream": "stdout",
       "text": [
        "\n",
        "Computing jobs"
       ]
      },
      {
       "output_type": "stream",
       "stream": "stdout",
       "text": [
        "\n",
        "Computing ave_income"
       ]
      },
      {
       "output_type": "stream",
       "stream": "stdout",
       "text": [
        "\n",
        "Time to execute model = 204.857s"
       ]
      },
      {
       "output_type": "stream",
       "stream": "stdout",
       "text": [
        "\n",
        "Running model 'rsh_simulate'\n",
        "count    1990493.000000\n",
        "mean         454.228267\n",
        "std          258.078723\n",
        "min            2.875780\n",
        "25%          286.059437\n",
        "50%          381.709087\n",
        "75%          539.968065\n",
        "max        16437.952077\n",
        "dtype: float64"
       ]
      },
      {
       "output_type": "stream",
       "stream": "stdout",
       "text": [
        "\n",
        "Time to execute model = 30.878s"
       ]
      },
      {
       "output_type": "stream",
       "stream": "stdout",
       "text": [
        "\n",
        "Running model 'rrh_simulate'\n",
        "count    1990493.000000\n",
        "mean           3.097185\n",
        "std            0.573290\n",
        "min            0.444802\n",
        "25%            2.712531\n",
        "50%            3.046617\n",
        "75%            3.430980\n",
        "max           16.695210\n",
        "dtype: float64"
       ]
      },
      {
       "output_type": "stream",
       "stream": "stdout",
       "text": [
        "\n",
        "Time to execute model = 3.551s"
       ]
      },
      {
       "output_type": "stream",
       "stream": "stdout",
       "text": [
        "\n",
        "Running model 'nrh_simulate'\n",
        "count    136544.000000\n",
        "mean         23.025806\n",
        "std           7.511381\n",
        "min           0.401221\n",
        "25%          17.478853\n",
        "50%          25.276538\n",
        "75%          27.487106\n",
        "max          48.766772\n",
        "dtype: float64"
       ]
      },
      {
       "output_type": "stream",
       "stream": "stdout",
       "text": [
        "\n",
        "Time to execute model = 1.937s\n",
        "Running model 'households_relocation'\n",
        "Total agents: 6276519\n",
        "Total currently unplaced: 298882"
       ]
      },
      {
       "output_type": "stream",
       "stream": "stdout",
       "text": [
        "\n",
        "Assinging for relocation...\n",
        "Total currently unplaced: 597745"
       ]
      },
      {
       "output_type": "stream",
       "stream": "stdout",
       "text": [
        "\n",
        "Time to execute model = 5.156s\n",
        "Running model 'hlcmo_simulate'\n",
        "There are 6865384 total available units"
       ]
      },
      {
       "output_type": "stream",
       "stream": "stdout",
       "text": [
        "\n",
        "    and 6276519 total choosers\n",
        "    but there are 50 overfull buildings"
       ]
      },
      {
       "output_type": "stream",
       "stream": "stdout",
       "text": [
        "\n",
        "    for a total of 1188417 temporarily empty units"
       ]
      },
      {
       "output_type": "stream",
       "stream": "stdout",
       "text": [
        "\n",
        "    in 463027 buildings total in the region\n",
        "Assigned 336359 choosers to new units"
       ]
      },
      {
       "output_type": "stream",
       "stream": "stdout",
       "text": [
        "\n",
        "Total currently unplaced: 261386"
       ]
      },
      {
       "output_type": "stream",
       "stream": "stdout",
       "text": [
        "\n",
        "    and there are now 850681 empty units"
       ]
      },
      {
       "output_type": "stream",
       "stream": "stdout",
       "text": [
        "\n",
        "    and 50 overfull buildings"
       ]
      },
      {
       "output_type": "stream",
       "stream": "stdout",
       "text": [
        "\n",
        "Time to execute model = 24.309s\n",
        "Running model 'hlcmr_simulate'\n",
        "There are 6865384 total available units"
       ]
      },
      {
       "output_type": "stream",
       "stream": "stdout",
       "text": [
        "\n",
        "    and 6276519 total choosers\n",
        "    but there are 50 overfull buildings"
       ]
      },
      {
       "output_type": "stream",
       "stream": "stdout",
       "text": [
        "\n",
        "    for a total of 852058 temporarily empty units"
       ]
      },
      {
       "output_type": "stream",
       "stream": "stdout",
       "text": [
        "\n",
        "    in 375341 buildings total in the region\n",
        "Assigned 261386 choosers to new units"
       ]
      },
      {
       "output_type": "stream",
       "stream": "stdout",
       "text": [
        "\n",
        "Total currently unplaced: 0"
       ]
      },
      {
       "output_type": "stream",
       "stream": "stdout",
       "text": [
        "\n",
        "    and there are now 589295 empty units"
       ]
      },
      {
       "output_type": "stream",
       "stream": "stdout",
       "text": [
        "\n",
        "    and 50 overfull buildings"
       ]
      },
      {
       "output_type": "stream",
       "stream": "stdout",
       "text": [
        "\n",
        "Time to execute model = 19.421s\n",
        "Running model 'households_transition'\n",
        "6276519 agents before transition"
       ]
      },
      {
       "output_type": "stream",
       "stream": "stdout",
       "text": [
        "\n",
        "6590345 agents after transition"
       ]
      },
      {
       "output_type": "stream",
       "stream": "stdout",
       "text": [
        "\n",
        "Time to execute model = 4.377s"
       ]
      },
      {
       "output_type": "stream",
       "stream": "stdout",
       "text": [
        "\n",
        "Running model 'jobs_relocation'\n",
        "Total agents: 9833069\n",
        "Total currently unplaced: 468241"
       ]
      },
      {
       "output_type": "stream",
       "stream": "stdout",
       "text": [
        "\n",
        "Assinging for relocation...\n",
        "Total currently unplaced: 936705"
       ]
      },
      {
       "output_type": "stream",
       "stream": "stdout",
       "text": [
        "\n",
        "Time to execute model = 7.280s\n",
        "Running model 'elcm_simulate'\n",
        "There are 10799349 total available units"
       ]
      },
      {
       "output_type": "stream",
       "stream": "stdout",
       "text": [
        "\n",
        "    and 9833069 total choosers\n",
        "    but there are 0 overfull buildings"
       ]
      },
      {
       "output_type": "stream",
       "stream": "stdout",
       "text": [
        "\n",
        "    for a total of 1958965 temporarily empty units"
       ]
      },
      {
       "output_type": "stream",
       "stream": "stdout",
       "text": [
        "\n",
        "    in 220531 buildings total in the region\n",
        "Assigned 936705 choosers to new units"
       ]
      },
      {
       "output_type": "stream",
       "stream": "stdout",
       "text": [
        "\n",
        "Total currently unplaced: 0"
       ]
      },
      {
       "output_type": "stream",
       "stream": "stdout",
       "text": [
        "\n",
        "    and there are now 1022260 empty units"
       ]
      },
      {
       "output_type": "stream",
       "stream": "stdout",
       "text": [
        "\n",
        "    and 0 overfull buildings"
       ]
      },
      {
       "output_type": "stream",
       "stream": "stdout",
       "text": [
        "\n",
        "Time to execute model = 81.817s\n",
        "Running model 'jobs_transition'\n",
        "9833069 agents before transition"
       ]
      },
      {
       "output_type": "stream",
       "stream": "stdout",
       "text": [
        "\n",
        "10324722 agents after transition"
       ]
      },
      {
       "output_type": "stream",
       "stream": "stdout",
       "text": [
        "\n",
        "Time to execute model = 6.468s"
       ]
      },
      {
       "output_type": "stream",
       "stream": "stdout",
       "text": [
        "\n",
        "Running model 'price_vars'\n",
        "Computing accessibility variables\n",
        "Computing residential\n",
        "Computing retail"
       ]
      },
      {
       "output_type": "stream",
       "stream": "stdout",
       "text": [
        "\n",
        "Computing office"
       ]
      },
      {
       "output_type": "stream",
       "stream": "stdout",
       "text": [
        "\n",
        "Computing industrial"
       ]
      },
      {
       "output_type": "stream",
       "stream": "stdout",
       "text": [
        "\n",
        "Time to execute model = 4.930s"
       ]
      },
      {
       "output_type": "stream",
       "stream": "stdout",
       "text": [
        "\n",
        "Running model 'feasibility'\n",
        "Describe of the yearly rent by use"
       ]
      },
      {
       "output_type": "stream",
       "stream": "stdout",
       "text": [
        "\n",
        "               retail      industrial          office     residential\n",
        "count  2023915.000000  2023915.000000  2023915.000000  2023915.000000\n",
        "mean        25.584231        9.700938       23.944516       19.530289\n",
        "std          6.801440        3.344250        5.474225        9.801428\n",
        "min          0.000000        0.000000        0.000000        0.000000\n",
        "25%         24.378201       10.217414       24.582180       13.612343\n",
        "50%         26.759451       10.765315       25.120243       17.812515\n",
        "75%         29.013466       11.155015       25.635786       22.055249\n",
        "max         46.074516       17.825813       43.334431       52.198907\n",
        "\n",
        "[8 rows x 4 columns]"
       ]
      },
      {
       "output_type": "stream",
       "stream": "stdout",
       "text": [
        "\n",
        "Computing feasibility for form mixedoffice\n",
        "Computing feasibility for form industrial"
       ]
      },
      {
       "output_type": "stream",
       "stream": "stdout",
       "text": [
        "\n",
        "Computing feasibility for form office"
       ]
      },
      {
       "output_type": "stream",
       "stream": "stdout",
       "text": [
        "\n",
        "Computing feasibility for form residential"
       ]
      },
      {
       "output_type": "stream",
       "stream": "stdout",
       "text": [
        "\n",
        "Computing feasibility for form mixedresidential"
       ]
      },
      {
       "output_type": "stream",
       "stream": "stdout",
       "text": [
        "\n",
        "Computing feasibility for form retail"
       ]
      },
      {
       "output_type": "stream",
       "stream": "stdout",
       "text": [
        "\n",
        "Time to execute model = 43.912s"
       ]
      },
      {
       "output_type": "stream",
       "stream": "stdout",
       "text": [
        "\n",
        "Running model 'residential_developer'\n",
        "Number of agents: 6,590,345"
       ]
      },
      {
       "output_type": "stream",
       "stream": "stdout",
       "text": [
        "\n",
        "Number of agent spaces: 6,865,384\n",
        "Current vacancy = 0.04\n",
        "Target vacancy = 0.08, target of new units = 298,034\n",
        "202,422 feasible buildings before running developer\n",
        "Sum of net units that are profitable: 241,008"
       ]
      },
      {
       "output_type": "stream",
       "stream": "stdout",
       "text": [
        "\n",
        "WARNING THERE WERE NOT ENOUGH PROFITABLE UNITS TO MATCH DEMAND\n",
        "Adding 31,100 buildings with 280,933 residential_units"
       ]
      },
      {
       "output_type": "stream",
       "stream": "stdout",
       "text": [
        "\n",
        "171,322 feasible buildings after running developer\n",
        "Time to execute model = 5.799s"
       ]
      },
      {
       "output_type": "stream",
       "stream": "stdout",
       "text": [
        "\n",
        "Running model 'non_residential_developer'\n",
        "Number of agents: 10,324,722"
       ]
      },
      {
       "output_type": "stream",
       "stream": "stdout",
       "text": [
        "\n",
        "Number of agent spaces: 10,799,349\n",
        "Current vacancy = 0.04\n",
        "Target vacancy = 0.08, target of new units = 423,174\n",
        "171,322 feasible buildings before running developer\n",
        "Sum of net units that are profitable: 4,504,355"
       ]
      },
      {
       "output_type": "stream",
       "stream": "stdout",
       "text": [
        "\n",
        "Adding 3,785 buildings with 584,456 job_spaces"
       ]
      },
      {
       "output_type": "stream",
       "stream": "stdout",
       "text": [
        "\n",
        "167,537 feasible buildings after running developer\n",
        "Time to execute model = 8.194s"
       ]
      },
      {
       "output_type": "stream",
       "stream": "stdout",
       "text": [
        "\n",
        "Running model 'clear_cache'\n",
        "Time to execute model = 0.024s\n",
        "Time to execute year = 452.916s\n",
        "Running year 2029\n",
        "Running model 'neighborhood_vars'\n",
        "Computing accessibility variables\n",
        "Computing sum_residential_units"
       ]
      },
      {
       "output_type": "stream",
       "stream": "stdout",
       "text": [
        "\n",
        "Computing sum_nonresidential_units"
       ]
      },
      {
       "output_type": "stream",
       "stream": "stdout",
       "text": [
        "\n",
        "Computing ave_unit_sqft"
       ]
      },
      {
       "output_type": "stream",
       "stream": "stdout",
       "text": [
        "\n",
        "Computing ave_lot_sqft"
       ]
      },
      {
       "output_type": "stream",
       "stream": "stdout",
       "text": [
        "\n",
        "Computing population"
       ]
      },
      {
       "output_type": "stream",
       "stream": "stdout",
       "text": [
        "\n",
        "Computing poor"
       ]
      },
      {
       "output_type": "stream",
       "stream": "stdout",
       "text": [
        "\n",
        "Computing renters"
       ]
      },
      {
       "output_type": "stream",
       "stream": "stdout",
       "text": [
        "\n",
        "Computing sfdu"
       ]
      },
      {
       "output_type": "stream",
       "stream": "stdout",
       "text": [
        "\n",
        "Computing hhsize"
       ]
      },
      {
       "output_type": "stream",
       "stream": "stdout",
       "text": [
        "\n",
        "Computing jobs"
       ]
      },
      {
       "output_type": "stream",
       "stream": "stdout",
       "text": [
        "\n",
        "Computing ave_income"
       ]
      },
      {
       "output_type": "stream",
       "stream": "stdout",
       "text": [
        "\n",
        "Time to execute model = 195.441s"
       ]
      },
      {
       "output_type": "stream",
       "stream": "stdout",
       "text": [
        "\n",
        "Running model 'rsh_simulate'\n",
        "count    2021593.000000\n",
        "mean         461.346812\n",
        "std          260.620279\n",
        "min            2.900184\n",
        "25%          288.467393\n",
        "50%          387.101115\n",
        "75%          561.918605\n",
        "max        16545.587906\n",
        "dtype: float64"
       ]
      },
      {
       "output_type": "stream",
       "stream": "stdout",
       "text": [
        "\n",
        "Time to execute model = 29.074s"
       ]
      },
      {
       "output_type": "stream",
       "stream": "stdout",
       "text": [
        "\n",
        "Running model 'rrh_simulate'\n",
        "count    2021593.000000\n",
        "mean           3.109477\n",
        "std            0.577011\n",
        "min            0.444802\n",
        "25%            2.718967\n",
        "50%            3.060682\n",
        "75%            3.453090\n",
        "max           16.700130\n",
        "dtype: float64"
       ]
      },
      {
       "output_type": "stream",
       "stream": "stdout",
       "text": [
        "\n",
        "Time to execute model = 3.337s"
       ]
      },
      {
       "output_type": "stream",
       "stream": "stdout",
       "text": [
        "\n",
        "Running model 'nrh_simulate'\n",
        "count    140329.000000\n",
        "mean         23.223386\n",
        "std           7.508313\n",
        "min           0.401221\n",
        "25%          19.649177\n",
        "50%          25.390576\n",
        "75%          27.718857\n",
        "max          49.201196\n",
        "dtype: float64"
       ]
      },
      {
       "output_type": "stream",
       "stream": "stdout",
       "text": [
        "\n",
        "Time to execute model = 1.844s\n",
        "Running model 'households_relocation'\n",
        "Total agents: 6590345\n",
        "Total currently unplaced: 313826"
       ]
      },
      {
       "output_type": "stream",
       "stream": "stdout",
       "text": [
        "\n",
        "Assinging for relocation...\n",
        "Total currently unplaced: 627574"
       ]
      },
      {
       "output_type": "stream",
       "stream": "stdout",
       "text": [
        "\n",
        "Time to execute model = 4.846s\n",
        "Running model 'hlcmo_simulate'\n",
        "There are 7146317 total available units"
       ]
      },
      {
       "output_type": "stream",
       "stream": "stdout",
       "text": [
        "\n",
        "    and 6590345 total choosers\n",
        "    but there are 49 overfull buildings"
       ]
      },
      {
       "output_type": "stream",
       "stream": "stdout",
       "text": [
        "\n",
        "    for a total of 1185227 temporarily empty units"
       ]
      },
      {
       "output_type": "stream",
       "stream": "stdout",
       "text": [
        "\n",
        "    in 481843 buildings total in the region\n",
        "Assigned 352958 choosers to new units"
       ]
      },
      {
       "output_type": "stream",
       "stream": "stdout",
       "text": [
        "\n",
        "Total currently unplaced: 274616"
       ]
      },
      {
       "output_type": "stream",
       "stream": "stdout",
       "text": [
        "\n",
        "    and there are now 830985 empty units"
       ]
      },
      {
       "output_type": "stream",
       "stream": "stdout",
       "text": [
        "\n",
        "    and 49 overfull buildings"
       ]
      },
      {
       "output_type": "stream",
       "stream": "stdout",
       "text": [
        "\n",
        "Time to execute model = 22.259s\n",
        "Running model 'hlcmr_simulate'\n",
        "There are 7146317 total available units"
       ]
      },
      {
       "output_type": "stream",
       "stream": "stdout",
       "text": [
        "\n",
        "    and 6590345 total choosers\n",
        "    but there are 49 overfull buildings"
       ]
      },
      {
       "output_type": "stream",
       "stream": "stdout",
       "text": [
        "\n",
        "    for a total of 832269 temporarily empty units"
       ]
      },
      {
       "output_type": "stream",
       "stream": "stdout",
       "text": [
        "\n",
        "    in 381529 buildings total in the region\n",
        "Assigned 274616 choosers to new units"
       ]
      },
      {
       "output_type": "stream",
       "stream": "stdout",
       "text": [
        "\n",
        "Total currently unplaced: 0"
       ]
      },
      {
       "output_type": "stream",
       "stream": "stdout",
       "text": [
        "\n",
        "    and there are now 556369 empty units"
       ]
      },
      {
       "output_type": "stream",
       "stream": "stdout",
       "text": [
        "\n",
        "    and 49 overfull buildings"
       ]
      },
      {
       "output_type": "stream",
       "stream": "stdout",
       "text": [
        "\n",
        "Time to execute model = 16.443s\n",
        "Running model 'households_transition'\n",
        "6590345 agents before transition"
       ]
      },
      {
       "output_type": "stream",
       "stream": "stdout",
       "text": [
        "\n",
        "6919862 agents after transition"
       ]
      },
      {
       "output_type": "stream",
       "stream": "stdout",
       "text": [
        "\n",
        "Time to execute model = 4.039s"
       ]
      },
      {
       "output_type": "stream",
       "stream": "stdout",
       "text": [
        "\n",
        "Running model 'jobs_relocation'\n",
        "Total agents: 10324722\n",
        "Total currently unplaced: 491653"
       ]
      },
      {
       "output_type": "stream",
       "stream": "stdout",
       "text": [
        "\n",
        "Assinging for relocation...\n",
        "Total currently unplaced: 983433"
       ]
      },
      {
       "output_type": "stream",
       "stream": "stdout",
       "text": [
        "\n",
        "Time to execute model = 6.274s\n",
        "Running model 'elcm_simulate'\n",
        "There are 11353037 total available units"
       ]
      },
      {
       "output_type": "stream",
       "stream": "stdout",
       "text": [
        "\n",
        "    and 10324722 total choosers\n",
        "    but there are 0 overfull buildings"
       ]
      },
      {
       "output_type": "stream",
       "stream": "stdout",
       "text": [
        "\n",
        "    for a total of 2064932 temporarily empty units"
       ]
      },
      {
       "output_type": "stream",
       "stream": "stdout",
       "text": [
        "\n",
        "    in 226638 buildings total in the region\n",
        "Assigned 983433 choosers to new units"
       ]
      },
      {
       "output_type": "stream",
       "stream": "stdout",
       "text": [
        "\n",
        "Total currently unplaced: 0"
       ]
      },
      {
       "output_type": "stream",
       "stream": "stdout",
       "text": [
        "\n",
        "    and there are now 1081499 empty units"
       ]
      },
      {
       "output_type": "stream",
       "stream": "stdout",
       "text": [
        "\n",
        "    and 0 overfull buildings"
       ]
      },
      {
       "output_type": "stream",
       "stream": "stdout",
       "text": [
        "\n",
        "Time to execute model = 84.666s\n",
        "Running model 'jobs_transition'\n",
        "10324722 agents before transition"
       ]
      },
      {
       "output_type": "stream",
       "stream": "stdout",
       "text": [
        "\n",
        "10840958 agents after transition"
       ]
      },
      {
       "output_type": "stream",
       "stream": "stdout",
       "text": [
        "\n",
        "Time to execute model = 7.647s"
       ]
      },
      {
       "output_type": "stream",
       "stream": "stdout",
       "text": [
        "\n",
        "Running model 'price_vars'\n",
        "Computing accessibility variables\n",
        "Computing residential\n",
        "Computing retail"
       ]
      },
      {
       "output_type": "stream",
       "stream": "stdout",
       "text": [
        "\n",
        "Computing office"
       ]
      },
      {
       "output_type": "stream",
       "stream": "stdout",
       "text": [
        "\n",
        "Computing industrial"
       ]
      },
      {
       "output_type": "stream",
       "stream": "stdout",
       "text": [
        "\n",
        "Time to execute model = 4.759s"
       ]
      },
      {
       "output_type": "stream",
       "stream": "stdout",
       "text": [
        "\n",
        "Running model 'feasibility'\n",
        "Describe of the yearly rent by use"
       ]
      },
      {
       "output_type": "stream",
       "stream": "stdout",
       "text": [
        "\n",
        "               retail      industrial          office     residential\n",
        "count  2023915.000000  2023915.000000  2023915.000000  2023915.000000\n",
        "mean        25.633640        9.707614       23.966852       19.752818\n",
        "std          6.800815        3.347015        5.460890        9.957484\n",
        "min          0.000000        0.000000        0.000000        0.000000\n",
        "25%         24.459705       10.221303       24.594816       13.676431\n",
        "50%         26.833984       10.774320       25.132338       17.907086\n",
        "75%         29.054153       11.162845       25.645016       22.485712\n",
        "max         46.965298       17.825087       43.333595       52.302332\n",
        "\n",
        "[8 rows x 4 columns]"
       ]
      },
      {
       "output_type": "stream",
       "stream": "stdout",
       "text": [
        "\n",
        "Computing feasibility for form mixedoffice\n",
        "Computing feasibility for form industrial"
       ]
      },
      {
       "output_type": "stream",
       "stream": "stdout",
       "text": [
        "\n",
        "Computing feasibility for form office"
       ]
      },
      {
       "output_type": "stream",
       "stream": "stdout",
       "text": [
        "\n",
        "Computing feasibility for form residential"
       ]
      },
      {
       "output_type": "stream",
       "stream": "stdout",
       "text": [
        "\n",
        "Computing feasibility for form mixedresidential"
       ]
      },
      {
       "output_type": "stream",
       "stream": "stdout",
       "text": [
        "\n",
        "Computing feasibility for form retail"
       ]
      },
      {
       "output_type": "stream",
       "stream": "stdout",
       "text": [
        "\n",
        "Time to execute model = 44.515s"
       ]
      },
      {
       "output_type": "stream",
       "stream": "stdout",
       "text": [
        "\n",
        "Running model 'residential_developer'\n",
        "Number of agents: 6,919,862"
       ]
      },
      {
       "output_type": "stream",
       "stream": "stdout",
       "text": [
        "\n",
        "Number of agent spaces: 7,146,317\n",
        "Current vacancy = 0.03\n",
        "Target vacancy = 0.08, target of new units = 375,272\n",
        "165,544 feasible buildings before running developer\n",
        "Sum of net units that are profitable: 78,210"
       ]
      },
      {
       "output_type": "stream",
       "stream": "stdout",
       "text": [
        "\n",
        "WARNING THERE WERE NOT ENOUGH PROFITABLE UNITS TO MATCH DEMAND\n",
        "Adding 9,127 buildings with 90,071 residential_units"
       ]
      },
      {
       "output_type": "stream",
       "stream": "stdout",
       "text": [
        "\n",
        "156,417 feasible buildings after running developer\n",
        "Time to execute model = 5.621s"
       ]
      },
      {
       "output_type": "stream",
       "stream": "stdout",
       "text": [
        "\n",
        "Running model 'non_residential_developer'\n",
        "Number of agents: 10,840,958"
       ]
      },
      {
       "output_type": "stream",
       "stream": "stdout",
       "text": [
        "\n",
        "Number of agent spaces: 11,353,037\n",
        "Current vacancy = 0.05\n",
        "Target vacancy = 0.08, target of new units = 430,613\n",
        "156,417 feasible buildings before running developer\n",
        "Sum of net units that are profitable: 3,991,376"
       ]
      },
      {
       "output_type": "stream",
       "stream": "stdout",
       "text": [
        "\n",
        "Adding 4,609 buildings with 633,174 job_spaces"
       ]
      },
      {
       "output_type": "stream",
       "stream": "stdout",
       "text": [
        "\n",
        "151,808 feasible buildings after running developer\n",
        "Time to execute model = 7.972s"
       ]
      },
      {
       "output_type": "stream",
       "stream": "stdout",
       "text": [
        "\n",
        "Running model 'clear_cache'\n",
        "Time to execute model = 0.020s\n",
        "Time to execute year = 438.762s\n",
        "Running year 2030"
       ]
      },
      {
       "output_type": "stream",
       "stream": "stdout",
       "text": [
        "\n",
        "Running model 'neighborhood_vars'\n",
        "Computing accessibility variables\n",
        "Computing sum_residential_units"
       ]
      },
      {
       "output_type": "stream",
       "stream": "stdout",
       "text": [
        "\n",
        "Computing sum_nonresidential_units"
       ]
      },
      {
       "output_type": "stream",
       "stream": "stdout",
       "text": [
        "\n",
        "Computing ave_unit_sqft"
       ]
      },
      {
       "output_type": "stream",
       "stream": "stdout",
       "text": [
        "\n",
        "Computing ave_lot_sqft"
       ]
      },
      {
       "output_type": "stream",
       "stream": "stdout",
       "text": [
        "\n",
        "Computing population"
       ]
      },
      {
       "output_type": "stream",
       "stream": "stdout",
       "text": [
        "\n",
        "Computing poor"
       ]
      },
      {
       "output_type": "stream",
       "stream": "stdout",
       "text": [
        "\n",
        "Computing renters"
       ]
      },
      {
       "output_type": "stream",
       "stream": "stdout",
       "text": [
        "\n",
        "Computing sfdu"
       ]
      },
      {
       "output_type": "stream",
       "stream": "stdout",
       "text": [
        "\n",
        "Computing hhsize"
       ]
      },
      {
       "output_type": "stream",
       "stream": "stdout",
       "text": [
        "\n",
        "Computing jobs"
       ]
      },
      {
       "output_type": "stream",
       "stream": "stdout",
       "text": [
        "\n",
        "Computing ave_income"
       ]
      },
      {
       "output_type": "stream",
       "stream": "stdout",
       "text": [
        "\n",
        "Time to execute model = 35.580s"
       ]
      },
      {
       "output_type": "stream",
       "stream": "stdout",
       "text": [
        "\n",
        "Running model 'rsh_simulate'\n",
        "count    2030720.000000\n",
        "mean         463.007190\n",
        "std          260.433008\n",
        "min            2.920519\n",
        "25%          289.271961\n",
        "50%          388.832689\n",
        "75%          568.341410\n",
        "max        16570.934555\n",
        "dtype: float64"
       ]
      },
      {
       "output_type": "stream",
       "stream": "stdout",
       "text": [
        "\n",
        "Time to execute model = 4.418s"
       ]
      },
      {
       "output_type": "stream",
       "stream": "stdout",
       "text": [
        "\n",
        "Running model 'rrh_simulate'\n",
        "count    2030720.000000\n",
        "mean           3.114947\n",
        "std            0.578993\n",
        "min            0.444296\n",
        "25%            2.721200\n",
        "50%            3.068262\n",
        "75%            3.463117\n",
        "max           16.699123\n",
        "dtype: float64"
       ]
      },
      {
       "output_type": "stream",
       "stream": "stdout",
       "text": [
        "\n",
        "Time to execute model = 3.436s"
       ]
      },
      {
       "output_type": "stream",
       "stream": "stdout",
       "text": [
        "\n",
        "Running model 'nrh_simulate'\n",
        "count    144938.000000\n",
        "mean         23.451974\n",
        "std           7.502775\n",
        "min           0.401221\n",
        "25%          20.945338\n",
        "50%          25.513243\n",
        "75%          28.012689\n",
        "max          49.417457\n",
        "dtype: float64"
       ]
      },
      {
       "output_type": "stream",
       "stream": "stdout",
       "text": [
        "\n",
        "Time to execute model = 1.886s\n",
        "Running model 'households_relocation'\n",
        "Total agents: 6919862\n",
        "Total currently unplaced: 329517"
       ]
      },
      {
       "output_type": "stream",
       "stream": "stdout",
       "text": [
        "\n",
        "Assinging for relocation...\n",
        "Total currently unplaced: 658970"
       ]
      },
      {
       "output_type": "stream",
       "stream": "stdout",
       "text": [
        "\n",
        "Time to execute model = 5.219s\n",
        "Running model 'hlcmo_simulate'\n",
        "There are 7236388 total available units"
       ]
      },
      {
       "output_type": "stream",
       "stream": "stdout",
       "text": [
        "\n",
        "    and 6919862 total choosers\n",
        "    but there are 47 overfull buildings"
       ]
      },
      {
       "output_type": "stream",
       "stream": "stdout",
       "text": [
        "\n",
        "    for a total of 977072 temporarily empty units"
       ]
      },
      {
       "output_type": "stream",
       "stream": "stdout",
       "text": [
        "\n",
        "    in 466058 buildings total in the region\n",
        "Assigned 369420 choosers to new units"
       ]
      },
      {
       "output_type": "stream",
       "stream": "stdout",
       "text": [
        "\n",
        "Total currently unplaced: 289550"
       ]
      },
      {
       "output_type": "stream",
       "stream": "stdout",
       "text": [
        "\n",
        "    and there are now 606457 empty units"
       ]
      },
      {
       "output_type": "stream",
       "stream": "stdout",
       "text": [
        "\n",
        "    and 47 overfull buildings"
       ]
      },
      {
       "output_type": "stream",
       "stream": "stdout",
       "text": [
        "\n",
        "Time to execute model = 20.302s\n",
        "Running model 'hlcmr_simulate'\n",
        "There are 7236388 total available units"
       ]
      },
      {
       "output_type": "stream",
       "stream": "stdout",
       "text": [
        "\n",
        "    and 6919862 total choosers\n",
        "    but there are 47 overfull buildings"
       ]
      },
      {
       "output_type": "stream",
       "stream": "stdout",
       "text": [
        "\n",
        "    for a total of 607652 temporarily empty units"
       ]
      },
      {
       "output_type": "stream",
       "stream": "stdout",
       "text": [
        "\n",
        "    in 337547 buildings total in the region\n",
        "Assigned 289550 choosers to new units"
       ]
      },
      {
       "output_type": "stream",
       "stream": "stdout",
       "text": [
        "\n",
        "Total currently unplaced: 0"
       ]
      },
      {
       "output_type": "stream",
       "stream": "stdout",
       "text": [
        "\n",
        "    and there are now 316907 empty units"
       ]
      },
      {
       "output_type": "stream",
       "stream": "stdout",
       "text": [
        "\n",
        "    and 47 overfull buildings"
       ]
      },
      {
       "output_type": "stream",
       "stream": "stdout",
       "text": [
        "\n",
        "Time to execute model = 16.515s\n",
        "Running model 'households_transition'\n",
        "6919862 agents before transition"
       ]
      },
      {
       "output_type": "stream",
       "stream": "stdout",
       "text": [
        "\n",
        "7265855 agents after transition"
       ]
      },
      {
       "output_type": "stream",
       "stream": "stdout",
       "text": [
        "\n",
        "Time to execute model = 4.027s"
       ]
      },
      {
       "output_type": "stream",
       "stream": "stdout",
       "text": [
        "\n",
        "Running model 'jobs_relocation'\n",
        "Total agents: 10840958\n",
        "Total currently unplaced: 516236"
       ]
      },
      {
       "output_type": "stream",
       "stream": "stdout",
       "text": [
        "\n",
        "Assinging for relocation...\n",
        "Total currently unplaced: 1032318"
       ]
      },
      {
       "output_type": "stream",
       "stream": "stdout",
       "text": [
        "\n",
        "Time to execute model = 6.415s\n",
        "Running model 'elcm_simulate'\n",
        "There are 11948260 total available units"
       ]
      },
      {
       "output_type": "stream",
       "stream": "stdout",
       "text": [
        "\n",
        "    and 10840958 total choosers\n",
        "    but there are 0 overfull buildings"
       ]
      },
      {
       "output_type": "stream",
       "stream": "stdout",
       "text": [
        "\n",
        "    for a total of 2190189 temporarily empty units"
       ]
      },
      {
       "output_type": "stream",
       "stream": "stdout",
       "text": [
        "\n",
        "    in 233883 buildings total in the region\n",
        "Assigned 1032318 choosers to new units"
       ]
      },
      {
       "output_type": "stream",
       "stream": "stdout",
       "text": [
        "\n",
        "Total currently unplaced: 0"
       ]
      },
      {
       "output_type": "stream",
       "stream": "stdout",
       "text": [
        "\n",
        "    and there are now 1157871 empty units"
       ]
      },
      {
       "output_type": "stream",
       "stream": "stdout",
       "text": [
        "\n",
        "    and 0 overfull buildings"
       ]
      },
      {
       "output_type": "stream",
       "stream": "stdout",
       "text": [
        "\n",
        "Time to execute model = 88.653s\n",
        "Running model 'jobs_transition'\n",
        "10840958 agents before transition"
       ]
      },
      {
       "output_type": "stream",
       "stream": "stdout",
       "text": [
        "\n",
        "11383006 agents after transition"
       ]
      },
      {
       "output_type": "stream",
       "stream": "stdout",
       "text": [
        "\n",
        "Time to execute model = 8.304s"
       ]
      },
      {
       "output_type": "stream",
       "stream": "stdout",
       "text": [
        "\n",
        "Running model 'price_vars'\n",
        "Computing accessibility variables\n",
        "Computing residential\n",
        "Computing retail"
       ]
      },
      {
       "output_type": "stream",
       "stream": "stdout",
       "text": [
        "\n",
        "Computing office"
       ]
      },
      {
       "output_type": "stream",
       "stream": "stdout",
       "text": [
        "\n",
        "Computing industrial"
       ]
      },
      {
       "output_type": "stream",
       "stream": "stdout",
       "text": [
        "\n",
        "Time to execute model = 4.804s"
       ]
      },
      {
       "output_type": "stream",
       "stream": "stdout",
       "text": [
        "\n",
        "Running model 'feasibility'\n",
        "Describe of the yearly rent by use"
       ]
      },
      {
       "output_type": "stream",
       "stream": "stdout",
       "text": [
        "\n",
        "               retail      industrial          office     residential\n",
        "count  2023915.000000  2023915.000000  2023915.000000  2023915.000000\n",
        "mean        25.677058        9.713395       23.986958       19.796696\n",
        "std          6.799261        3.349557        5.450236        9.983987\n",
        "min          0.000000        0.000000        0.000000        0.000000\n",
        "25%         24.506516       10.225280       24.603525       13.688904\n",
        "50%         26.900467       10.777436       25.143360       17.923355\n",
        "75%         29.089573       11.168729       25.658327       22.629460\n",
        "max         47.059425       17.825329       43.333946       52.232483\n",
        "\n",
        "[8 rows x 4 columns]"
       ]
      },
      {
       "output_type": "stream",
       "stream": "stdout",
       "text": [
        "\n",
        "Computing feasibility for form mixedoffice\n",
        "Computing feasibility for form industrial"
       ]
      },
      {
       "output_type": "stream",
       "stream": "stdout",
       "text": [
        "\n",
        "Computing feasibility for form office"
       ]
      },
      {
       "output_type": "stream",
       "stream": "stdout",
       "text": [
        "\n",
        "Computing feasibility for form residential"
       ]
      },
      {
       "output_type": "stream",
       "stream": "stdout",
       "text": [
        "\n",
        "Computing feasibility for form mixedresidential"
       ]
      },
      {
       "output_type": "stream",
       "stream": "stdout",
       "text": [
        "\n",
        "Computing feasibility for form retail"
       ]
      },
      {
       "output_type": "stream",
       "stream": "stdout",
       "text": [
        "\n",
        "Time to execute model = 37.718s"
       ]
      },
      {
       "output_type": "stream",
       "stream": "stdout",
       "text": [
        "\n",
        "Running model 'residential_developer'\n",
        "Number of agents: 7,265,855"
       ]
      },
      {
       "output_type": "stream",
       "stream": "stdout",
       "text": [
        "\n",
        "Number of agent spaces: 7,236,388\n",
        "Current vacancy = -0.00\n",
        "Target vacancy = 0.08, target of new units = 661,280\n",
        "154,240 feasible buildings before running developer\n",
        "Sum of net units that are profitable: 28,640"
       ]
      },
      {
       "output_type": "stream",
       "stream": "stdout",
       "text": [
        "\n",
        "WARNING THERE WERE NOT ENOUGH PROFITABLE UNITS TO MATCH DEMAND\n",
        "Adding 3,580 buildings with 33,084 residential_units"
       ]
      },
      {
       "output_type": "stream",
       "stream": "stdout",
       "text": [
        "\n",
        "150,660 feasible buildings after running developer\n",
        "Time to execute model = 5.731s"
       ]
      },
      {
       "output_type": "stream",
       "stream": "stdout",
       "text": [
        "\n",
        "Running model 'non_residential_developer'\n",
        "Number of agents: 11,383,006"
       ]
      },
      {
       "output_type": "stream",
       "stream": "stdout",
       "text": [
        "\n",
        "Number of agent spaces: 11,948,260\n",
        "Current vacancy = 0.05\n",
        "Target vacancy = 0.08, target of new units = 424,572\n",
        "150,660 feasible buildings before running developer\n",
        "Sum of net units that are profitable: 3,552,956"
       ]
      },
      {
       "output_type": "stream",
       "stream": "stdout",
       "text": [
        "\n",
        "Adding 5,581 buildings with 677,529 job_spaces"
       ]
      },
      {
       "output_type": "stream",
       "stream": "stdout",
       "text": [
        "\n",
        "145,079 feasible buildings after running developer\n",
        "Time to execute model = 7.802s"
       ]
      },
      {
       "output_type": "stream",
       "stream": "stdout",
       "text": [
        "\n",
        "Running model 'clear_cache'\n",
        "Time to execute model = 0.017s\n",
        "Time to execute year = 250.832s\n",
        "Running year 2031\n",
        "Running model 'neighborhood_vars'\n",
        "Computing accessibility variables\n",
        "Computing sum_residential_units"
       ]
      },
      {
       "output_type": "stream",
       "stream": "stdout",
       "text": [
        "\n",
        "Computing sum_nonresidential_units"
       ]
      },
      {
       "output_type": "stream",
       "stream": "stdout",
       "text": [
        "\n",
        "Computing ave_unit_sqft"
       ]
      },
      {
       "output_type": "stream",
       "stream": "stdout",
       "text": [
        "\n",
        "Computing ave_lot_sqft"
       ]
      },
      {
       "output_type": "stream",
       "stream": "stdout",
       "text": [
        "\n",
        "Computing population"
       ]
      },
      {
       "output_type": "stream",
       "stream": "stdout",
       "text": [
        "\n",
        "Computing poor"
       ]
      },
      {
       "output_type": "stream",
       "stream": "stdout",
       "text": [
        "\n",
        "Computing renters"
       ]
      },
      {
       "output_type": "stream",
       "stream": "stdout",
       "text": [
        "\n",
        "Computing sfdu"
       ]
      },
      {
       "output_type": "stream",
       "stream": "stdout",
       "text": [
        "\n",
        "Computing hhsize"
       ]
      },
      {
       "output_type": "stream",
       "stream": "stdout",
       "text": [
        "\n",
        "Computing jobs"
       ]
      },
      {
       "output_type": "stream",
       "stream": "stdout",
       "text": [
        "\n",
        "Computing ave_income"
       ]
      },
      {
       "output_type": "stream",
       "stream": "stdout",
       "text": [
        "\n",
        "Time to execute model = 214.038s"
       ]
      },
      {
       "output_type": "stream",
       "stream": "stdout",
       "text": [
        "\n",
        "Running model 'rsh_simulate'\n",
        "count    2034300.000000\n",
        "mean         463.577435\n",
        "std          260.079824\n",
        "min            2.920519\n",
        "25%          289.705708\n",
        "50%          389.655525\n",
        "75%          570.357487\n",
        "max        16584.335737\n",
        "dtype: float64"
       ]
      },
      {
       "output_type": "stream",
       "stream": "stdout",
       "text": [
        "\n",
        "Time to execute model = 29.040s"
       ]
      },
      {
       "output_type": "stream",
       "stream": "stdout",
       "text": [
        "\n",
        "Running model 'rrh_simulate'\n",
        "count    2034300.000000\n",
        "mean           3.119120\n",
        "std            0.580885\n",
        "min            0.444157\n",
        "25%            2.722348\n",
        "50%            3.073424\n",
        "75%            3.470482\n",
        "max           16.697622\n",
        "dtype: float64"
       ]
      },
      {
       "output_type": "stream",
       "stream": "stdout",
       "text": [
        "\n",
        "Time to execute model = 3.343s"
       ]
      },
      {
       "output_type": "stream",
       "stream": "stdout",
       "text": [
        "\n",
        "Running model 'nrh_simulate'\n",
        "count    150519.000000\n",
        "mean         23.721612\n",
        "std           7.499236\n",
        "min           0.401221\n",
        "25%          21.893253\n",
        "50%          25.645204\n",
        "75%          28.394316\n",
        "max          48.938278\n",
        "dtype: float64"
       ]
      },
      {
       "output_type": "stream",
       "stream": "stdout",
       "text": [
        "\n",
        "Time to execute model = 1.857s\n",
        "Running model 'households_relocation'\n",
        "Total agents: 7265855\n",
        "Total currently unplaced: 345993"
       ]
      },
      {
       "output_type": "stream",
       "stream": "stdout",
       "text": [
        "\n",
        "Assinging for relocation...\n",
        "Total currently unplaced: 692094"
       ]
      },
      {
       "output_type": "stream",
       "stream": "stdout",
       "text": [
        "\n",
        "Time to execute model = 5.197s\n",
        "Running model 'hlcmo_simulate'\n",
        "There are 7269472 total available units"
       ]
      },
      {
       "output_type": "stream",
       "stream": "stdout",
       "text": [
        "\n",
        "    and 7265855 total choosers\n",
        "    but there are 45 overfull buildings"
       ]
      },
      {
       "output_type": "stream",
       "stream": "stdout",
       "text": [
        "\n",
        "    for a total of 697175 temporarily empty units"
       ]
      },
      {
       "output_type": "stream",
       "stream": "stdout",
       "text": [
        "\n",
        "    in 405155 buildings total in the region\n",
        "Assigned 388104 choosers to new units"
       ]
      },
      {
       "output_type": "stream",
       "stream": "stdout",
       "text": [
        "\n",
        "Total currently unplaced: 303990"
       ]
      },
      {
       "output_type": "stream",
       "stream": "stdout",
       "text": [
        "\n",
        "    and there are now 307964 empty units"
       ]
      },
      {
       "output_type": "stream",
       "stream": "stdout",
       "text": [
        "\n",
        "    and 45 overfull buildings"
       ]
      },
      {
       "output_type": "stream",
       "stream": "stdout",
       "text": [
        "\n",
        "Time to execute model = 17.927s\n",
        "Running model 'hlcmr_simulate'\n",
        "There are 7269472 total available units"
       ]
      },
      {
       "output_type": "stream",
       "stream": "stdout",
       "text": [
        "\n",
        "    and 7265855 total choosers\n",
        "    but there are 45 overfull buildings"
       ]
      },
      {
       "output_type": "stream",
       "stream": "stdout",
       "text": [
        "\n",
        "    for a total of 309071 temporarily empty units"
       ]
      },
      {
       "output_type": "stream",
       "stream": "stdout",
       "text": [
        "\n",
        "    in 222260 buildings total in the region\n",
        "Assigned 303990 choosers to new units"
       ]
      },
      {
       "output_type": "stream",
       "stream": "stdout",
       "text": [
        "\n",
        "Total currently unplaced: 0"
       ]
      },
      {
       "output_type": "stream",
       "stream": "stdout",
       "text": [
        "\n",
        "    and there are now 3974 empty units"
       ]
      },
      {
       "output_type": "stream",
       "stream": "stdout",
       "text": [
        "\n",
        "    and 45 overfull buildings"
       ]
      },
      {
       "output_type": "stream",
       "stream": "stdout",
       "text": [
        "\n",
        "Time to execute model = 13.489s\n",
        "Running model 'households_transition'\n",
        "7265855 agents before transition"
       ]
      },
      {
       "output_type": "stream",
       "stream": "stdout",
       "text": [
        "\n",
        "7629148 agents after transition"
       ]
      },
      {
       "output_type": "stream",
       "stream": "stdout",
       "text": [
        "\n",
        "Time to execute model = 3.922s"
       ]
      },
      {
       "output_type": "stream",
       "stream": "stdout",
       "text": [
        "\n",
        "Running model 'jobs_relocation'\n",
        "Total agents: 11383006\n",
        "Total currently unplaced: 542048"
       ]
      },
      {
       "output_type": "stream",
       "stream": "stdout",
       "text": [
        "\n",
        "Assinging for relocation...\n",
        "Total currently unplaced: 1084077"
       ]
      },
      {
       "output_type": "stream",
       "stream": "stdout",
       "text": [
        "\n",
        "Time to execute model = 6.505s\n",
        "Running model 'elcm_simulate'\n",
        "There are 12581274 total available units"
       ]
      },
      {
       "output_type": "stream",
       "stream": "stdout",
       "text": [
        "\n",
        "    and 11383006 total choosers\n",
        "    but there are 0 overfull buildings"
       ]
      },
      {
       "output_type": "stream",
       "stream": "stdout",
       "text": [
        "\n",
        "    for a total of 2330307 temporarily empty units"
       ]
      },
      {
       "output_type": "stream",
       "stream": "stdout",
       "text": [
        "\n",
        "    in 242428 buildings total in the region\n",
        "Assigned 1084077 choosers to new units"
       ]
      },
      {
       "output_type": "stream",
       "stream": "stdout",
       "text": [
        "\n",
        "Total currently unplaced: 0"
       ]
      },
      {
       "output_type": "stream",
       "stream": "stdout",
       "text": [
        "\n",
        "    and there are now 1246230 empty units"
       ]
      },
      {
       "output_type": "stream",
       "stream": "stdout",
       "text": [
        "\n",
        "    and 0 overfull buildings"
       ]
      },
      {
       "output_type": "stream",
       "stream": "stdout",
       "text": [
        "\n",
        "Time to execute model = 95.287s\n",
        "Running model 'jobs_transition'\n",
        "11383006 agents before transition"
       ]
      },
      {
       "output_type": "stream",
       "stream": "stdout",
       "text": [
        "\n",
        "11952156 agents after transition"
       ]
      },
      {
       "output_type": "stream",
       "stream": "stdout",
       "text": [
        "\n",
        "Time to execute model = 8.284s"
       ]
      },
      {
       "output_type": "stream",
       "stream": "stdout",
       "text": [
        "\n",
        "Running model 'price_vars'\n",
        "Computing accessibility variables\n",
        "Computing residential\n",
        "Computing retail"
       ]
      },
      {
       "output_type": "stream",
       "stream": "stdout",
       "text": [
        "\n",
        "Computing office"
       ]
      },
      {
       "output_type": "stream",
       "stream": "stdout",
       "text": [
        "\n",
        "Computing industrial"
       ]
      },
      {
       "output_type": "stream",
       "stream": "stdout",
       "text": [
        "\n",
        "Time to execute model = 4.800s"
       ]
      },
      {
       "output_type": "stream",
       "stream": "stdout",
       "text": [
        "\n",
        "Running model 'feasibility'\n",
        "Describe of the yearly rent by use"
       ]
      },
      {
       "output_type": "stream",
       "stream": "stdout",
       "text": [
        "\n",
        "               retail      industrial          office     residential\n",
        "count  2023915.000000  2023915.000000  2023915.000000  2023915.000000\n",
        "mean        25.724001        9.718491       24.000880       19.797503\n",
        "std          6.804826        3.351885        5.451263        9.991458\n",
        "min          0.000000        0.000000        0.000000        0.000000\n",
        "25%         24.568150       10.226582       24.606503       13.693318\n",
        "50%         26.943739       10.780125       25.152557       17.941315\n",
        "75%         29.132555       11.174803       25.670525       22.699196\n",
        "max         46.164555       17.824974       43.333504       52.175787\n",
        "\n",
        "[8 rows x 4 columns]"
       ]
      },
      {
       "output_type": "stream",
       "stream": "stdout",
       "text": [
        "\n",
        "Computing feasibility for form mixedoffice\n",
        "Computing feasibility for form industrial"
       ]
      },
      {
       "output_type": "stream",
       "stream": "stdout",
       "text": [
        "\n",
        "Computing feasibility for form office"
       ]
      },
      {
       "output_type": "stream",
       "stream": "stdout",
       "text": [
        "\n",
        "Computing feasibility for form residential"
       ]
      },
      {
       "output_type": "stream",
       "stream": "stdout",
       "text": [
        "\n",
        "Computing feasibility for form mixedresidential"
       ]
      },
      {
       "output_type": "stream",
       "stream": "stdout",
       "text": [
        "\n",
        "Computing feasibility for form retail"
       ]
      },
      {
       "output_type": "stream",
       "stream": "stdout",
       "text": [
        "\n",
        "Time to execute model = 42.667s"
       ]
      },
      {
       "output_type": "stream",
       "stream": "stdout",
       "text": [
        "\n",
        "Running model 'residential_developer'\n",
        "Number of agents: 7,629,148"
       ]
      },
      {
       "output_type": "stream",
       "stream": "stdout",
       "text": [
        "\n",
        "Number of agent spaces: 7,269,472\n",
        "Current vacancy = -0.05\n",
        "Target vacancy = 0.08, target of new units = 1,023,080\n",
        "149,509 feasible buildings before running developer\n",
        "Sum of net units that are profitable: 11,710"
       ]
      },
      {
       "output_type": "stream",
       "stream": "stdout",
       "text": [
        "\n",
        "WARNING THERE WERE NOT ENOUGH PROFITABLE UNITS TO MATCH DEMAND\n",
        "Adding 1,491 buildings with 13,505 residential_units"
       ]
      },
      {
       "output_type": "stream",
       "stream": "stdout",
       "text": [
        "\n",
        "148,018 feasible buildings after running developer\n",
        "Time to execute model = 5.693s"
       ]
      },
      {
       "output_type": "stream",
       "stream": "stdout",
       "text": [
        "\n",
        "Running model 'non_residential_developer'\n",
        "Number of agents: 11,952,156"
       ]
      },
      {
       "output_type": "stream",
       "stream": "stdout",
       "text": [
        "\n",
        "Number of agent spaces: 12,581,274\n",
        "Current vacancy = 0.05\n",
        "Target vacancy = 0.08, target of new units = 410,199\n",
        "148,018 feasible buildings before running developer\n",
        "Sum of net units that are profitable: 3,150,526"
       ]
      },
      {
       "output_type": "stream",
       "stream": "stdout",
       "text": [
        "\n",
        "Adding 6,691 buildings with 683,075 job_spaces"
       ]
      },
      {
       "output_type": "stream",
       "stream": "stdout",
       "text": [
        "\n",
        "141,327 feasible buildings after running developer\n",
        "Time to execute model = 7.725s"
       ]
      },
      {
       "output_type": "stream",
       "stream": "stdout",
       "text": [
        "\n",
        "Running model 'clear_cache'\n",
        "Time to execute model = 0.017s\n",
        "Time to execute year = 459.796s\n",
        "Running year 2032\n",
        "Running model 'neighborhood_vars'\n",
        "Computing accessibility variables\n",
        "Computing sum_residential_units"
       ]
      },
      {
       "output_type": "stream",
       "stream": "stdout",
       "text": [
        "\n",
        "Computing sum_nonresidential_units"
       ]
      },
      {
       "output_type": "stream",
       "stream": "stdout",
       "text": [
        "\n",
        "Computing ave_unit_sqft"
       ]
      },
      {
       "output_type": "stream",
       "stream": "stdout",
       "text": [
        "\n",
        "Computing ave_lot_sqft"
       ]
      },
      {
       "output_type": "stream",
       "stream": "stdout",
       "text": [
        "\n",
        "Computing population"
       ]
      },
      {
       "output_type": "stream",
       "stream": "stdout",
       "text": [
        "\n",
        "Computing poor"
       ]
      },
      {
       "output_type": "stream",
       "stream": "stdout",
       "text": [
        "\n",
        "Computing renters"
       ]
      },
      {
       "output_type": "stream",
       "stream": "stdout",
       "text": [
        "\n",
        "Computing sfdu"
       ]
      },
      {
       "output_type": "stream",
       "stream": "stdout",
       "text": [
        "\n",
        "Computing hhsize"
       ]
      },
      {
       "output_type": "stream",
       "stream": "stdout",
       "text": [
        "\n",
        "Computing jobs"
       ]
      },
      {
       "output_type": "stream",
       "stream": "stdout",
       "text": [
        "\n",
        "Computing ave_income"
       ]
      },
      {
       "output_type": "stream",
       "stream": "stdout",
       "text": [
        "\n",
        "Time to execute model = 224.251s"
       ]
      },
      {
       "output_type": "stream",
       "stream": "stdout",
       "text": [
        "\n",
        "Running model 'rsh_simulate'\n",
        "count    2035791.000000\n",
        "mean         463.577914\n",
        "std          259.445792\n",
        "min            2.885028\n",
        "25%          290.144370\n",
        "50%          390.008128\n",
        "75%          570.451549\n",
        "max        16593.881137\n",
        "dtype: float64"
       ]
      },
      {
       "output_type": "stream",
       "stream": "stdout",
       "text": [
        "\n",
        "Time to execute model = 28.930s"
       ]
      },
      {
       "output_type": "stream",
       "stream": "stdout",
       "text": [
        "\n",
        "Running model 'rrh_simulate'\n",
        "count    2035791.000000\n",
        "mean           3.122720\n",
        "std            0.582866\n",
        "min            0.444802\n",
        "25%            2.723617\n",
        "50%            3.077914\n",
        "75%            3.477382\n",
        "max           16.697130\n",
        "dtype: float64"
       ]
      },
      {
       "output_type": "stream",
       "stream": "stdout",
       "text": [
        "\n",
        "Time to execute model = 3.377s"
       ]
      },
      {
       "output_type": "stream",
       "stream": "stdout",
       "text": [
        "\n",
        "Running model 'nrh_simulate'\n",
        "count    157210.000000\n",
        "mean         24.044006\n",
        "std           7.512835\n",
        "min           0.401221\n",
        "25%          22.622145\n",
        "50%          25.812382\n",
        "75%          28.894533\n",
        "max          48.964313\n",
        "dtype: float64"
       ]
      },
      {
       "output_type": "stream",
       "stream": "stdout",
       "text": [
        "\n",
        "Time to execute model = 1.879s\n",
        "Running model 'households_relocation'\n",
        "Total agents: 7629148\n",
        "Total currently unplaced: 363293"
       ]
      },
      {
       "output_type": "stream",
       "stream": "stdout",
       "text": [
        "\n",
        "Assinging for relocation...\n",
        "Total currently unplaced: 726750"
       ]
      },
      {
       "output_type": "stream",
       "stream": "stdout",
       "text": [
        "\n",
        "Time to execute model = 5.519s\n",
        "Running model 'hlcmo_simulate'\n",
        "There are 7282977 total available units"
       ]
      },
      {
       "output_type": "stream",
       "stream": "stdout",
       "text": [
        "\n",
        "    and 7629148 total choosers\n",
        "    but there are 41 overfull buildings"
       ]
      },
      {
       "output_type": "stream",
       "stream": "stdout",
       "text": [
        "\n",
        "    for a total of 381925 temporarily empty units"
       ]
      },
      {
       "output_type": "stream",
       "stream": "stdout",
       "text": [
        "\n",
        "    in 234773 buildings total in the region\n",
        "WARNING: Not enough locations for movers"
       ]
      },
      {
       "output_type": "stream",
       "stream": "stdout",
       "text": [
        "\n",
        "    reducing locations to size of movers for performance gain\n",
        "Assigned 214817 choosers to new units"
       ]
      },
      {
       "output_type": "stream",
       "stream": "stdout",
       "text": [
        "\n",
        "Total currently unplaced: 511933"
       ]
      },
      {
       "output_type": "stream",
       "stream": "stdout",
       "text": [
        "\n",
        "    and there are now 166097 empty units"
       ]
      },
      {
       "output_type": "stream",
       "stream": "stdout",
       "text": [
        "\n",
        "    and 41 overfull buildings"
       ]
      },
      {
       "output_type": "stream",
       "stream": "stdout",
       "text": [
        "\n",
        "Time to execute model = 15.252s\n",
        "Running model 'hlcmr_simulate'\n",
        "There are 7282977 total available units"
       ]
      },
      {
       "output_type": "stream",
       "stream": "stdout",
       "text": [
        "\n",
        "    and 7629148 total choosers\n",
        "    but there are 41 overfull buildings"
       ]
      },
      {
       "output_type": "stream",
       "stream": "stdout",
       "text": [
        "\n",
        "    for a total of 167108 temporarily empty units"
       ]
      },
      {
       "output_type": "stream",
       "stream": "stdout",
       "text": [
        "\n",
        "    in 127030 buildings total in the region\n",
        "WARNING: Not enough locations for movers"
       ]
      },
      {
       "output_type": "stream",
       "stream": "stdout",
       "text": [
        "\n",
        "    reducing locations to size of movers for performance gain\n",
        "Assigned 166819 choosers to new units"
       ]
      },
      {
       "output_type": "stream",
       "stream": "stdout",
       "text": [
        "\n",
        "Total currently unplaced: 345114"
       ]
      },
      {
       "output_type": "stream",
       "stream": "stdout",
       "text": [
        "\n",
        "    and there are now -722 empty units"
       ]
      },
      {
       "output_type": "stream",
       "stream": "stdout",
       "text": [
        "\n",
        "    and 41 overfull buildings"
       ]
      },
      {
       "output_type": "stream",
       "stream": "stdout",
       "text": [
        "\n",
        "Time to execute model = 12.490s\n",
        "Running model 'households_transition'\n",
        "7629148 agents before transition"
       ]
      },
      {
       "output_type": "stream",
       "stream": "stdout",
       "text": [
        "\n",
        "8010605 agents after transition"
       ]
      },
      {
       "output_type": "stream",
       "stream": "stdout",
       "text": [
        "\n",
        "Time to execute model = 4.166s"
       ]
      },
      {
       "output_type": "stream",
       "stream": "stdout",
       "text": [
        "\n",
        "Running model 'jobs_relocation'\n",
        "Total agents: 11952156\n",
        "Total currently unplaced: 569150"
       ]
      },
      {
       "output_type": "stream",
       "stream": "stdout",
       "text": [
        "\n",
        "Assinging for relocation...\n",
        "Total currently unplaced: 1138151"
       ]
      },
      {
       "output_type": "stream",
       "stream": "stdout",
       "text": [
        "\n",
        "Time to execute model = 6.697s\n",
        "Running model 'elcm_simulate'\n",
        "There are 13213700 total available units"
       ]
      },
      {
       "output_type": "stream",
       "stream": "stdout",
       "text": [
        "\n",
        "    and 11952156 total choosers\n",
        "    but there are 0 overfull buildings"
       ]
      },
      {
       "output_type": "stream",
       "stream": "stdout",
       "text": [
        "\n",
        "    for a total of 2445205 temporarily empty units"
       ]
      },
      {
       "output_type": "stream",
       "stream": "stdout",
       "text": [
        "\n",
        "    in 251299 buildings total in the region\n",
        "Assigned 1138151 choosers to new units"
       ]
      },
      {
       "output_type": "stream",
       "stream": "stdout",
       "text": [
        "\n",
        "Total currently unplaced: 0"
       ]
      },
      {
       "output_type": "stream",
       "stream": "stdout",
       "text": [
        "\n",
        "    and there are now 1307054 empty units"
       ]
      },
      {
       "output_type": "stream",
       "stream": "stdout",
       "text": [
        "\n",
        "    and 0 overfull buildings"
       ]
      },
      {
       "output_type": "stream",
       "stream": "stdout",
       "text": [
        "\n",
        "Time to execute model = 96.387s\n",
        "Running model 'jobs_transition'\n",
        "11952156 agents before transition"
       ]
      },
      {
       "output_type": "stream",
       "stream": "stdout",
       "text": [
        "\n",
        "12549764 agents after transition"
       ]
      },
      {
       "output_type": "stream",
       "stream": "stdout",
       "text": [
        "\n",
        "Time to execute model = 8.676s"
       ]
      },
      {
       "output_type": "stream",
       "stream": "stdout",
       "text": [
        "\n",
        "Running model 'price_vars'\n",
        "Computing accessibility variables\n",
        "Computing residential\n",
        "Computing retail"
       ]
      },
      {
       "output_type": "stream",
       "stream": "stdout",
       "text": [
        "\n",
        "Computing office"
       ]
      },
      {
       "output_type": "stream",
       "stream": "stdout",
       "text": [
        "\n",
        "Computing industrial"
       ]
      },
      {
       "output_type": "stream",
       "stream": "stdout",
       "text": [
        "\n",
        "Time to execute model = 4.806s"
       ]
      },
      {
       "output_type": "stream",
       "stream": "stdout",
       "text": [
        "\n",
        "Running model 'feasibility'\n",
        "Describe of the yearly rent by use"
       ]
      },
      {
       "output_type": "stream",
       "stream": "stdout",
       "text": [
        "\n",
        "               retail      industrial          office     residential\n",
        "count  2023915.000000  2023915.000000  2023915.000000  2023915.000000\n",
        "mean        25.772334        9.722810       24.029892       19.773842\n",
        "std          6.786322        3.353747        5.415474        9.981483\n",
        "min          0.000000        0.000000        0.000000        0.000000\n",
        "25%         24.616459       10.225872       24.609926       13.715172\n",
        "50%         26.956280       10.780957       25.161247       17.964325\n",
        "75%         29.180456       11.179994       25.684908       22.686713\n",
        "max         46.158409       17.824190       43.333481       52.091467\n",
        "\n",
        "[8 rows x 4 columns]"
       ]
      },
      {
       "output_type": "stream",
       "stream": "stdout",
       "text": [
        "\n",
        "Computing feasibility for form mixedoffice\n",
        "Computing feasibility for form industrial"
       ]
      },
      {
       "output_type": "stream",
       "stream": "stdout",
       "text": [
        "\n",
        "Computing feasibility for form office"
       ]
      },
      {
       "output_type": "stream",
       "stream": "stdout",
       "text": [
        "\n",
        "Computing feasibility for form residential"
       ]
      },
      {
       "output_type": "stream",
       "stream": "stdout",
       "text": [
        "\n",
        "Computing feasibility for form mixedresidential"
       ]
      },
      {
       "output_type": "stream",
       "stream": "stdout",
       "text": [
        "\n",
        "Computing feasibility for form retail"
       ]
      },
      {
       "output_type": "stream",
       "stream": "stdout",
       "text": [
        "\n",
        "Time to execute model = 42.615s"
       ]
      },
      {
       "output_type": "stream",
       "stream": "stdout",
       "text": [
        "\n",
        "Running model 'residential_developer'\n",
        "Number of agents: 8,010,605"
       ]
      },
      {
       "output_type": "stream",
       "stream": "stdout",
       "text": [
        "\n",
        "Number of agent spaces: 7,282,977\n",
        "Current vacancy = -0.10\n",
        "Target vacancy = 0.08, target of new units = 1,424,202\n",
        "146,592 feasible buildings before running developer\n",
        "Sum of net units that are profitable: 3,878"
       ]
      },
      {
       "output_type": "stream",
       "stream": "stdout",
       "text": [
        "\n",
        "WARNING THERE WERE NOT ENOUGH PROFITABLE UNITS TO MATCH DEMAND\n",
        "Adding 368 buildings with 4,309 residential_units"
       ]
      },
      {
       "output_type": "stream",
       "stream": "stdout",
       "text": [
        "\n",
        "146,224 feasible buildings after running developer\n",
        "Time to execute model = 5.616s"
       ]
      },
      {
       "output_type": "stream",
       "stream": "stdout",
       "text": [
        "\n",
        "Running model 'non_residential_developer'\n",
        "Number of agents: 12,549,764"
       ]
      },
      {
       "output_type": "stream",
       "stream": "stdout",
       "text": [
        "\n",
        "Number of agent spaces: 13,213,700\n",
        "Current vacancy = 0.05\n",
        "Target vacancy = 0.08, target of new units = 427,347\n",
        "146,224 feasible buildings before running developer\n",
        "Sum of net units that are profitable: 2,770,573"
       ]
      },
      {
       "output_type": "stream",
       "stream": "stdout",
       "text": [
        "\n",
        "Adding 8,482 buildings with 723,167 job_spaces"
       ]
      },
      {
       "output_type": "stream",
       "stream": "stdout",
       "text": [
        "\n",
        "137,742 feasible buildings after running developer\n",
        "Time to execute model = 7.719s"
       ]
      },
      {
       "output_type": "stream",
       "stream": "stdout",
       "text": [
        "\n",
        "Running model 'clear_cache'\n",
        "Time to execute model = 0.021s\n",
        "Time to execute year = 468.406s\n",
        "Running year 2033\n",
        "Running model 'neighborhood_vars'\n",
        "Computing accessibility variables\n",
        "Computing sum_residential_units"
       ]
      },
      {
       "output_type": "stream",
       "stream": "stdout",
       "text": [
        "\n",
        "Computing sum_nonresidential_units"
       ]
      },
      {
       "output_type": "stream",
       "stream": "stdout",
       "text": [
        "\n",
        "Computing ave_unit_sqft"
       ]
      },
      {
       "output_type": "stream",
       "stream": "stdout",
       "text": [
        "\n",
        "Computing ave_lot_sqft"
       ]
      },
      {
       "output_type": "stream",
       "stream": "stdout",
       "text": [
        "\n",
        "Computing population"
       ]
      },
      {
       "output_type": "stream",
       "stream": "stdout",
       "text": [
        "\n",
        "Computing poor"
       ]
      },
      {
       "output_type": "stream",
       "stream": "stdout",
       "text": [
        "\n",
        "Computing renters"
       ]
      },
      {
       "output_type": "stream",
       "stream": "stdout",
       "text": [
        "\n",
        "Computing sfdu"
       ]
      },
      {
       "output_type": "stream",
       "stream": "stdout",
       "text": [
        "\n",
        "Computing hhsize"
       ]
      },
      {
       "output_type": "stream",
       "stream": "stdout",
       "text": [
        "\n",
        "Computing jobs"
       ]
      },
      {
       "output_type": "stream",
       "stream": "stdout",
       "text": [
        "\n",
        "Computing ave_income"
       ]
      },
      {
       "output_type": "stream",
       "stream": "stdout",
       "text": [
        "\n",
        "Time to execute model = 239.266s"
       ]
      },
      {
       "output_type": "stream",
       "stream": "stdout",
       "text": [
        "\n",
        "Running model 'rsh_simulate'\n",
        "count    2036159.000000\n",
        "mean         463.689011\n",
        "std          259.112126\n",
        "min            2.910387\n",
        "25%          290.450881\n",
        "50%          390.306744\n",
        "75%          570.447729\n",
        "max        16598.599192\n",
        "dtype: float64"
       ]
      },
      {
       "output_type": "stream",
       "stream": "stdout",
       "text": [
        "\n",
        "Time to execute model = 29.456s"
       ]
      },
      {
       "output_type": "stream",
       "stream": "stdout",
       "text": [
        "\n",
        "Running model 'rrh_simulate'\n",
        "count    2036159.000000\n",
        "mean           3.126119\n",
        "std            0.584993\n",
        "min            0.444802\n",
        "25%            2.724515\n",
        "50%            3.081284\n",
        "75%            3.485085\n",
        "max           16.698235\n",
        "dtype: float64"
       ]
      },
      {
       "output_type": "stream",
       "stream": "stdout",
       "text": [
        "\n",
        "Time to execute model = 3.358s"
       ]
      },
      {
       "output_type": "stream",
       "stream": "stdout",
       "text": [
        "\n",
        "Running model 'nrh_simulate'\n",
        "count    165692.000000\n",
        "mean         24.435193\n",
        "std           7.534810\n",
        "min           0.401221\n",
        "25%          23.154420\n",
        "50%          26.026221\n",
        "75%          29.477312\n",
        "max          48.984143\n",
        "dtype: float64"
       ]
      },
      {
       "output_type": "stream",
       "stream": "stdout",
       "text": [
        "\n",
        "Time to execute model = 1.917s\n",
        "Running model 'households_relocation'\n",
        "Total agents: 8010605\n",
        "Total currently unplaced: 726571"
       ]
      },
      {
       "output_type": "stream",
       "stream": "stdout",
       "text": [
        "\n",
        "Assinging for relocation...\n",
        "Total currently unplaced: 1090644"
       ]
      },
      {
       "output_type": "stream",
       "stream": "stdout",
       "text": [
        "\n",
        "Time to execute model = 5.532s\n",
        "Running model 'hlcmo_simulate'\n",
        "There are 7287286 total available units"
       ]
      },
      {
       "output_type": "stream",
       "stream": "stdout",
       "text": [
        "\n",
        "    and 8010605 total choosers\n",
        "    but there are 40 overfull buildings"
       ]
      },
      {
       "output_type": "stream",
       "stream": "stdout",
       "text": [
        "\n",
        "    for a total of 368568 temporarily empty units"
       ]
      },
      {
       "output_type": "stream",
       "stream": "stdout",
       "text": [
        "\n",
        "    in 229927 buildings total in the region\n",
        "WARNING: Not enough locations for movers"
       ]
      },
      {
       "output_type": "stream",
       "stream": "stdout",
       "text": [
        "\n",
        "    reducing locations to size of movers for performance gain\n",
        "Assigned 206935 choosers to new units"
       ]
      },
      {
       "output_type": "stream",
       "stream": "stdout",
       "text": [
        "\n",
        "Total currently unplaced: 883709"
       ]
      },
      {
       "output_type": "stream",
       "stream": "stdout",
       "text": [
        "\n",
        "    and there are now 160703 empty units"
       ]
      },
      {
       "output_type": "stream",
       "stream": "stdout",
       "text": [
        "\n",
        "    and 40 overfull buildings"
       ]
      },
      {
       "output_type": "stream",
       "stream": "stdout",
       "text": [
        "\n",
        "Time to execute model = 15.162s\n",
        "Running model 'hlcmr_simulate'\n",
        "There are 7287286 total available units"
       ]
      },
      {
       "output_type": "stream",
       "stream": "stdout",
       "text": [
        "\n",
        "    and 8010605 total choosers\n",
        "    but there are 40 overfull buildings"
       ]
      },
      {
       "output_type": "stream",
       "stream": "stdout",
       "text": [
        "\n",
        "    for a total of 161633 temporarily empty units"
       ]
      },
      {
       "output_type": "stream",
       "stream": "stdout",
       "text": [
        "\n",
        "    in 124286 buildings total in the region\n",
        "WARNING: Not enough locations for movers"
       ]
      },
      {
       "output_type": "stream",
       "stream": "stdout",
       "text": [
        "\n",
        "    reducing locations to size of movers for performance gain\n",
        "Assigned 161336 choosers to new units"
       ]
      },
      {
       "output_type": "stream",
       "stream": "stdout",
       "text": [
        "\n",
        "Total currently unplaced: 722373"
       ]
      },
      {
       "output_type": "stream",
       "stream": "stdout",
       "text": [
        "\n",
        "    and there are now -633 empty units"
       ]
      },
      {
       "output_type": "stream",
       "stream": "stdout",
       "text": [
        "\n",
        "    and 40 overfull buildings"
       ]
      },
      {
       "output_type": "stream",
       "stream": "stdout",
       "text": [
        "\n",
        "Time to execute model = 12.519s\n",
        "Running model 'households_transition'\n",
        "8010605 agents before transition"
       ]
      },
      {
       "output_type": "stream",
       "stream": "stdout",
       "text": [
        "\n",
        "8411135 agents after transition"
       ]
      },
      {
       "output_type": "stream",
       "stream": "stdout",
       "text": [
        "\n",
        "Time to execute model = 4.250s"
       ]
      },
      {
       "output_type": "stream",
       "stream": "stdout",
       "text": [
        "\n",
        "Running model 'jobs_relocation'\n",
        "Total agents: 12549764\n",
        "Total currently unplaced: 597608"
       ]
      },
      {
       "output_type": "stream",
       "stream": "stdout",
       "text": [
        "\n",
        "Assinging for relocation...\n",
        "Total currently unplaced: 1195297"
       ]
      },
      {
       "output_type": "stream",
       "stream": "stdout",
       "text": [
        "\n",
        "Time to execute model = 7.203s\n",
        "Running model 'elcm_simulate'\n",
        "There are 13882261 total available units"
       ]
      },
      {
       "output_type": "stream",
       "stream": "stdout",
       "text": [
        "\n",
        "    and 12549764 total choosers\n",
        "    but there are 0 overfull buildings"
       ]
      },
      {
       "output_type": "stream",
       "stream": "stdout",
       "text": [
        "\n",
        "    for a total of 2571044 temporarily empty units"
       ]
      },
      {
       "output_type": "stream",
       "stream": "stdout",
       "text": [
        "\n",
        "    in 261959 buildings total in the region\n",
        "Assigned 1195297 choosers to new units"
       ]
      },
      {
       "output_type": "stream",
       "stream": "stdout",
       "text": [
        "\n",
        "Total currently unplaced: 0"
       ]
      },
      {
       "output_type": "stream",
       "stream": "stdout",
       "text": [
        "\n",
        "    and there are now 1375747 empty units"
       ]
      },
      {
       "output_type": "stream",
       "stream": "stdout",
       "text": [
        "\n",
        "    and 0 overfull buildings"
       ]
      },
      {
       "output_type": "stream",
       "stream": "stdout",
       "text": [
        "\n",
        "Time to execute model = 101.101s\n",
        "Running model 'jobs_transition'\n",
        "12549764 agents before transition"
       ]
      },
      {
       "output_type": "stream",
       "stream": "stdout",
       "text": [
        "\n",
        "13177252 agents after transition"
       ]
      },
      {
       "output_type": "stream",
       "stream": "stdout",
       "text": [
        "\n",
        "Time to execute model = 9.804s"
       ]
      },
      {
       "output_type": "stream",
       "stream": "stdout",
       "text": [
        "\n",
        "Running model 'price_vars'\n",
        "Computing accessibility variables\n",
        "Computing residential\n",
        "Computing retail"
       ]
      },
      {
       "output_type": "stream",
       "stream": "stdout",
       "text": [
        "\n",
        "Computing office"
       ]
      },
      {
       "output_type": "stream",
       "stream": "stdout",
       "text": [
        "\n",
        "Computing industrial"
       ]
      },
      {
       "output_type": "stream",
       "stream": "stdout",
       "text": [
        "\n",
        "Time to execute model = 4.827s"
       ]
      },
      {
       "output_type": "stream",
       "stream": "stdout",
       "text": [
        "\n",
        "Running model 'feasibility'\n",
        "Describe of the yearly rent by use"
       ]
      },
      {
       "output_type": "stream",
       "stream": "stdout",
       "text": [
        "\n",
        "               retail      industrial          office     residential\n",
        "count  2023915.000000  2023915.000000  2023915.000000  2023915.000000\n",
        "mean        25.828361        9.726665       24.047690       19.746488\n",
        "std          6.794692        3.355774        5.401993        9.985785\n",
        "min          0.000000        0.000000        0.000000        0.000000\n",
        "25%         24.664799       10.227915       24.613552       13.722856\n",
        "50%         27.012636       10.782341       25.166822       17.965944\n",
        "75%         29.233091       11.185615       25.699348       22.675967\n",
        "max         43.484463       17.823706       43.332939       52.056360\n",
        "\n",
        "[8 rows x 4 columns]"
       ]
      },
      {
       "output_type": "stream",
       "stream": "stdout",
       "text": [
        "\n",
        "Computing feasibility for form mixedoffice\n",
        "Computing feasibility for form industrial"
       ]
      },
      {
       "output_type": "stream",
       "stream": "stdout",
       "text": [
        "\n",
        "Computing feasibility for form office"
       ]
      },
      {
       "output_type": "stream",
       "stream": "stdout",
       "text": [
        "\n",
        "Computing feasibility for form residential"
       ]
      },
      {
       "output_type": "stream",
       "stream": "stdout",
       "text": [
        "\n",
        "Computing feasibility for form mixedresidential"
       ]
      },
      {
       "output_type": "stream",
       "stream": "stdout",
       "text": [
        "\n",
        "Computing feasibility for form retail"
       ]
      },
      {
       "output_type": "stream",
       "stream": "stdout",
       "text": [
        "\n",
        "Time to execute model = 44.018s"
       ]
      },
      {
       "output_type": "stream",
       "stream": "stdout",
       "text": [
        "\n",
        "Running model 'residential_developer'\n",
        "Number of agents: 8,411,135"
       ]
      },
      {
       "output_type": "stream",
       "stream": "stdout",
       "text": [
        "\n",
        "Number of agent spaces: 7,287,286\n",
        "Current vacancy = -0.15\n",
        "Target vacancy = 0.08, target of new units = 1,855,252\n",
        "145,485 feasible buildings before running developer\n",
        "Sum of net units that are profitable: 1,592"
       ]
      },
      {
       "output_type": "stream",
       "stream": "stdout",
       "text": [
        "\n",
        "WARNING THERE WERE NOT ENOUGH PROFITABLE UNITS TO MATCH DEMAND\n",
        "Adding 127 buildings with 1,735 residential_units"
       ]
      },
      {
       "output_type": "stream",
       "stream": "stdout",
       "text": [
        "\n",
        "145,358 feasible buildings after running developer\n",
        "Time to execute model = 5.593s"
       ]
      },
      {
       "output_type": "stream",
       "stream": "stdout",
       "text": [
        "\n",
        "Running model 'non_residential_developer'\n",
        "Number of agents: 13,177,252"
       ]
      },
      {
       "output_type": "stream",
       "stream": "stdout",
       "text": [
        "\n",
        "Number of agent spaces: 13,882,261\n",
        "Current vacancy = 0.05\n",
        "Target vacancy = 0.08, target of new units = 440,839\n",
        "145,358 feasible buildings before running developer\n",
        "Sum of net units that are profitable: 2,388,086"
       ]
      },
      {
       "output_type": "stream",
       "stream": "stdout",
       "text": [
        "\n",
        "Adding 11,268 buildings with 786,459 job_spaces"
       ]
      },
      {
       "output_type": "stream",
       "stream": "stdout",
       "text": [
        "\n",
        "134,090 feasible buildings after running developer\n",
        "Time to execute model = 7.902s"
       ]
      },
      {
       "output_type": "stream",
       "stream": "stdout",
       "text": [
        "\n",
        "Running model 'clear_cache'\n",
        "Time to execute model = 0.019s\n",
        "Time to execute year = 491.933s\n",
        "Running year 2034\n",
        "Running model 'neighborhood_vars'\n",
        "Computing accessibility variables\n",
        "Computing sum_residential_units\n",
        "Computing sum_nonresidential_units"
       ]
      },
      {
       "output_type": "stream",
       "stream": "stdout",
       "text": [
        "\n",
        "Computing ave_unit_sqft"
       ]
      },
      {
       "output_type": "stream",
       "stream": "stdout",
       "text": [
        "\n",
        "Computing ave_lot_sqft"
       ]
      },
      {
       "output_type": "stream",
       "stream": "stdout",
       "text": [
        "\n",
        "Computing population"
       ]
      },
      {
       "output_type": "stream",
       "stream": "stdout",
       "text": [
        "\n",
        "Computing poor"
       ]
      },
      {
       "output_type": "stream",
       "stream": "stdout",
       "text": [
        "\n",
        "Computing renters"
       ]
      },
      {
       "output_type": "stream",
       "stream": "stdout",
       "text": [
        "\n",
        "Computing sfdu"
       ]
      },
      {
       "output_type": "stream",
       "stream": "stdout",
       "text": [
        "\n",
        "Computing hhsize"
       ]
      },
      {
       "output_type": "stream",
       "stream": "stdout",
       "text": [
        "\n",
        "Computing jobs"
       ]
      },
      {
       "output_type": "stream",
       "stream": "stdout",
       "text": [
        "\n",
        "Computing ave_income"
       ]
      },
      {
       "output_type": "stream",
       "stream": "stdout",
       "text": [
        "\n",
        "Time to execute model = 262.982s"
       ]
      },
      {
       "output_type": "stream",
       "stream": "stdout",
       "text": [
        "\n",
        "Running model 'rsh_simulate'\n",
        "count    2036286.000000\n",
        "mean         463.768849\n",
        "std          258.832127\n",
        "min            2.910387\n",
        "25%          290.733053\n",
        "50%          390.560588\n",
        "75%          570.441019\n",
        "max        16614.678341\n",
        "dtype: float64"
       ]
      },
      {
       "output_type": "stream",
       "stream": "stdout",
       "text": [
        "\n",
        "Time to execute model = 29.572s"
       ]
      },
      {
       "output_type": "stream",
       "stream": "stdout",
       "text": [
        "\n",
        "Running model 'rrh_simulate'\n",
        "count    2036286.000000\n",
        "mean           3.129977\n",
        "std            0.587163\n",
        "min            0.444802\n",
        "25%            2.725762\n",
        "50%            3.085104\n",
        "75%            3.494480\n",
        "max           16.698208\n",
        "dtype: float64"
       ]
      },
      {
       "output_type": "stream",
       "stream": "stdout",
       "text": [
        "\n",
        "Time to execute model = 3.455s"
       ]
      },
      {
       "output_type": "stream",
       "stream": "stdout",
       "text": [
        "\n",
        "Running model 'nrh_simulate'\n",
        "count    176960.000000\n",
        "mean         24.907718\n",
        "std           7.548273\n",
        "min           0.401221\n",
        "25%          23.549795\n",
        "50%          26.282527\n",
        "75%          30.154828\n",
        "max          49.053086\n",
        "dtype: float64"
       ]
      },
      {
       "output_type": "stream",
       "stream": "stdout",
       "text": [
        "\n",
        "Time to execute model = 1.940s\n",
        "Running model 'households_relocation'\n",
        "Total agents: 8411135\n",
        "Total currently unplaced: 1122903"
       ]
      },
      {
       "output_type": "stream",
       "stream": "stdout",
       "text": [
        "\n",
        "Assinging for relocation...\n",
        "Total currently unplaced: 1487689"
       ]
      },
      {
       "output_type": "stream",
       "stream": "stdout",
       "text": [
        "\n",
        "Time to execute model = 6.149s\n",
        "Running model 'hlcmo_simulate'\n",
        "There are 7289021 total available units"
       ]
      },
      {
       "output_type": "stream",
       "stream": "stdout",
       "text": [
        "\n",
        "    and 8411135 total choosers\n",
        "    but there are 38 overfull buildings"
       ]
      },
      {
       "output_type": "stream",
       "stream": "stdout",
       "text": [
        "\n",
        "    for a total of 366739 temporarily empty units"
       ]
      },
      {
       "output_type": "stream",
       "stream": "stdout",
       "text": [
        "\n",
        "    in 229732 buildings total in the region\n",
        "WARNING: Not enough locations for movers"
       ]
      },
      {
       "output_type": "stream",
       "stream": "stdout",
       "text": [
        "\n",
        "    reducing locations to size of movers for performance gain\n",
        "Assigned 205820 choosers to new units"
       ]
      },
      {
       "output_type": "stream",
       "stream": "stdout",
       "text": [
        "\n",
        "Total currently unplaced: 1281869"
       ]
      },
      {
       "output_type": "stream",
       "stream": "stdout",
       "text": [
        "\n",
        "    and there are now 160056 empty units"
       ]
      },
      {
       "output_type": "stream",
       "stream": "stdout",
       "text": [
        "\n",
        "    and 38 overfull buildings"
       ]
      },
      {
       "output_type": "stream",
       "stream": "stdout",
       "text": [
        "\n",
        "Time to execute model = 16.596s\n",
        "Running model 'hlcmr_simulate'\n",
        "There are 7289021 total available units"
       ]
      },
      {
       "output_type": "stream",
       "stream": "stdout",
       "text": [
        "\n",
        "    and 8411135 total choosers\n",
        "    but there are 38 overfull buildings"
       ]
      },
      {
       "output_type": "stream",
       "stream": "stdout",
       "text": [
        "\n",
        "    for a total of 160919 temporarily empty units"
       ]
      },
      {
       "output_type": "stream",
       "stream": "stdout",
       "text": [
        "\n",
        "    in 124585 buildings total in the region\n",
        "WARNING: Not enough locations for movers"
       ]
      },
      {
       "output_type": "stream",
       "stream": "stdout",
       "text": [
        "\n",
        "    reducing locations to size of movers for performance gain\n",
        "Assigned 160619 choosers to new units"
       ]
      },
      {
       "output_type": "stream",
       "stream": "stdout",
       "text": [
        "\n",
        "Total currently unplaced: 1121250"
       ]
      },
      {
       "output_type": "stream",
       "stream": "stdout",
       "text": [
        "\n",
        "    and there are now -563 empty units"
       ]
      },
      {
       "output_type": "stream",
       "stream": "stdout",
       "text": [
        "\n",
        "    and 38 overfull buildings"
       ]
      },
      {
       "output_type": "stream",
       "stream": "stdout",
       "text": [
        "\n",
        "Time to execute model = 13.725s\n",
        "Running model 'households_transition'\n",
        "8411135 agents before transition"
       ]
      },
      {
       "output_type": "stream",
       "stream": "stdout",
       "text": [
        "\n",
        "8831692 agents after transition"
       ]
      },
      {
       "output_type": "stream",
       "stream": "stdout",
       "text": [
        "\n",
        "Time to execute model = 4.233s"
       ]
      },
      {
       "output_type": "stream",
       "stream": "stdout",
       "text": [
        "\n",
        "Running model 'jobs_relocation'\n",
        "Total agents: 13177252\n",
        "Total currently unplaced: 627488"
       ]
      },
      {
       "output_type": "stream",
       "stream": "stdout",
       "text": [
        "\n",
        "Assinging for relocation...\n",
        "Total currently unplaced: 1254928"
       ]
      },
      {
       "output_type": "stream",
       "stream": "stdout",
       "text": [
        "\n",
        "Time to execute model = 7.960s\n",
        "Running model 'elcm_simulate'\n",
        "There are 14605332 total available units"
       ]
      },
      {
       "output_type": "stream",
       "stream": "stdout",
       "text": [
        "\n",
        "    and 13177252 total choosers\n",
        "    but there are 0 overfull buildings"
       ]
      },
      {
       "output_type": "stream",
       "stream": "stdout",
       "text": [
        "\n",
        "    for a total of 2724116 temporarily empty units"
       ]
      },
      {
       "output_type": "stream",
       "stream": "stdout",
       "text": [
        "\n",
        "    in 274875 buildings total in the region\n",
        "Assigned 1254928 choosers to new units"
       ]
      },
      {
       "output_type": "stream",
       "stream": "stdout",
       "text": [
        "\n",
        "Total currently unplaced: 0"
       ]
      },
      {
       "output_type": "stream",
       "stream": "stdout",
       "text": [
        "\n",
        "    and there are now 1469188 empty units"
       ]
      },
      {
       "output_type": "stream",
       "stream": "stdout",
       "text": [
        "\n",
        "    and 0 overfull buildings"
       ]
      },
      {
       "output_type": "stream",
       "stream": "stdout",
       "text": [
        "\n",
        "Time to execute model = 109.190s\n",
        "Running model 'jobs_transition'\n",
        "13177252 agents before transition"
       ]
      },
      {
       "output_type": "stream",
       "stream": "stdout",
       "text": [
        "\n",
        "13836115 agents after transition"
       ]
      },
      {
       "output_type": "stream",
       "stream": "stdout",
       "text": [
        "\n",
        "Time to execute model = 10.873s"
       ]
      },
      {
       "output_type": "stream",
       "stream": "stdout",
       "text": [
        "\n",
        "Running model 'price_vars'\n",
        "Computing accessibility variables\n",
        "Computing residential\n",
        "Computing retail"
       ]
      },
      {
       "output_type": "stream",
       "stream": "stdout",
       "text": [
        "\n",
        "Computing office"
       ]
      },
      {
       "output_type": "stream",
       "stream": "stdout",
       "text": [
        "\n",
        "Computing industrial"
       ]
      },
      {
       "output_type": "stream",
       "stream": "stdout",
       "text": [
        "\n",
        "Time to execute model = 4.797s"
       ]
      },
      {
       "output_type": "stream",
       "stream": "stdout",
       "text": [
        "\n",
        "Running model 'feasibility'\n",
        "Describe of the yearly rent by use"
       ]
      },
      {
       "output_type": "stream",
       "stream": "stdout",
       "text": [
        "\n",
        "               retail      industrial          office     residential\n",
        "count  2023915.000000  2023915.000000  2023915.000000  2023915.000000\n",
        "mean        25.887096        9.731516       24.062580       19.708017\n",
        "std          6.807458        3.358197        5.400614        9.995429\n",
        "min          0.000000        0.000000        0.000000        0.000000\n",
        "25%         24.743504       10.229496       24.613720       13.717938\n",
        "50%         27.044930       10.785604       25.172720       17.958221\n",
        "75%         29.296467       11.190031       25.716591       22.659442\n",
        "max         42.115456       17.824863       43.332390       52.034125\n",
        "\n",
        "[8 rows x 4 columns]"
       ]
      },
      {
       "output_type": "stream",
       "stream": "stdout",
       "text": [
        "\n",
        "Computing feasibility for form mixedoffice\n",
        "Computing feasibility for form industrial"
       ]
      },
      {
       "output_type": "stream",
       "stream": "stdout",
       "text": [
        "\n",
        "Computing feasibility for form office"
       ]
      },
      {
       "output_type": "stream",
       "stream": "stdout",
       "text": [
        "\n",
        "Computing feasibility for form residential"
       ]
      },
      {
       "output_type": "stream",
       "stream": "stdout",
       "text": [
        "\n",
        "Computing feasibility for form mixedresidential"
       ]
      },
      {
       "output_type": "stream",
       "stream": "stdout",
       "text": [
        "\n",
        "Computing feasibility for form retail"
       ]
      },
      {
       "output_type": "stream",
       "stream": "stdout",
       "text": [
        "\n",
        "Time to execute model = 43.653s"
       ]
      },
      {
       "output_type": "stream",
       "stream": "stdout",
       "text": [
        "\n",
        "Running model 'residential_developer'\n",
        "Number of agents: 8,831,692"
       ]
      },
      {
       "output_type": "stream",
       "stream": "stdout",
       "text": [
        "\n",
        "Number of agent spaces: 7,289,021\n",
        "Current vacancy = -0.21\n",
        "Target vacancy = 0.08, target of new units = 2,310,644\n",
        "143,728 feasible buildings before running developer\n",
        "Sum of net units that are profitable: 666"
       ]
      },
      {
       "output_type": "stream",
       "stream": "stdout",
       "text": [
        "\n",
        "WARNING THERE WERE NOT ENOUGH PROFITABLE UNITS TO MATCH DEMAND\n",
        "Adding 62 buildings with 742 residential_units"
       ]
      },
      {
       "output_type": "stream",
       "stream": "stdout",
       "text": [
        "\n",
        "143,666 feasible buildings after running developer\n",
        "Time to execute model = 5.254s"
       ]
      },
      {
       "output_type": "stream",
       "stream": "stdout",
       "text": [
        "\n",
        "Running model 'non_residential_developer'\n",
        "Number of agents: 13,836,115"
       ]
      },
      {
       "output_type": "stream",
       "stream": "stdout",
       "text": [
        "\n",
        "Number of agent spaces: 14,605,332\n",
        "Current vacancy = 0.05\n",
        "Target vacancy = 0.08, target of new units = 433,923\n",
        "143,666 feasible buildings before running developer\n",
        "Sum of net units that are profitable: 1,995,069"
       ]
      },
      {
       "output_type": "stream",
       "stream": "stdout",
       "text": [
        "\n",
        "Adding 14,266 buildings with 815,690 job_spaces"
       ]
      },
      {
       "output_type": "stream",
       "stream": "stdout",
       "text": [
        "\n",
        "129,400 feasible buildings after running developer\n",
        "Time to execute model = 7.702s"
       ]
      },
      {
       "output_type": "stream",
       "stream": "stdout",
       "text": [
        "\n",
        "Running model 'clear_cache'\n",
        "Time to execute model = 0.019s\n",
        "Time to execute year = 528.105s\n",
        "Running year 2035\n",
        "Running model 'neighborhood_vars'\n",
        "Computing accessibility variables\n",
        "Computing sum_residential_units"
       ]
      },
      {
       "output_type": "stream",
       "stream": "stdout",
       "text": [
        "\n",
        "Computing sum_nonresidential_units"
       ]
      },
      {
       "output_type": "stream",
       "stream": "stdout",
       "text": [
        "\n",
        "Computing ave_unit_sqft"
       ]
      },
      {
       "output_type": "stream",
       "stream": "stdout",
       "text": [
        "\n",
        "Computing ave_lot_sqft"
       ]
      },
      {
       "output_type": "stream",
       "stream": "stdout",
       "text": [
        "\n",
        "Computing population"
       ]
      },
      {
       "output_type": "stream",
       "stream": "stdout",
       "text": [
        "\n",
        "Computing poor"
       ]
      },
      {
       "output_type": "stream",
       "stream": "stdout",
       "text": [
        "\n",
        "Computing renters"
       ]
      },
      {
       "output_type": "stream",
       "stream": "stdout",
       "text": [
        "\n",
        "Computing sfdu"
       ]
      },
      {
       "output_type": "stream",
       "stream": "stdout",
       "text": [
        "\n",
        "Computing hhsize"
       ]
      },
      {
       "output_type": "stream",
       "stream": "stdout",
       "text": [
        "\n",
        "Computing jobs"
       ]
      },
      {
       "output_type": "stream",
       "stream": "stdout",
       "text": [
        "\n",
        "Computing ave_income"
       ]
      },
      {
       "output_type": "stream",
       "stream": "stdout",
       "text": [
        "\n",
        "Time to execute model = 271.022s"
       ]
      },
      {
       "output_type": "stream",
       "stream": "stdout",
       "text": [
        "\n",
        "Running model 'rsh_simulate'\n",
        "count    2036348.000000\n",
        "mean         463.837276\n",
        "std          258.554079\n",
        "min            2.917774\n",
        "25%          291.022216\n",
        "50%          390.770933\n",
        "75%          570.411287\n",
        "max        16627.625273\n",
        "dtype: float64"
       ]
      },
      {
       "output_type": "stream",
       "stream": "stdout",
       "text": [
        "\n",
        "Time to execute model = 29.772s"
       ]
      },
      {
       "output_type": "stream",
       "stream": "stdout",
       "text": [
        "\n",
        "Running model 'rrh_simulate'\n",
        "count    2036348.000000\n",
        "mean           3.134016\n",
        "std            0.589491\n",
        "min            0.444802\n",
        "25%            2.727204\n",
        "50%            3.088567\n",
        "75%            3.505612\n",
        "max           16.697666\n",
        "dtype: float64"
       ]
      },
      {
       "output_type": "stream",
       "stream": "stdout",
       "text": [
        "\n",
        "Time to execute model = 3.412s"
       ]
      },
      {
       "output_type": "stream",
       "stream": "stdout",
       "text": [
        "\n",
        "Running model 'nrh_simulate'\n",
        "count    191226.000000\n",
        "mean         25.458097\n",
        "std           7.564169\n",
        "min           0.401221\n",
        "25%          23.900497\n",
        "50%          26.632715\n",
        "75%          30.915673\n",
        "max          49.097370\n",
        "dtype: float64"
       ]
      },
      {
       "output_type": "stream",
       "stream": "stdout",
       "text": [
        "\n",
        "Time to execute model = 1.937s\n",
        "Running model 'households_relocation'\n",
        "Total agents: 8831692\n",
        "Total currently unplaced: 1541807"
       ]
      },
      {
       "output_type": "stream",
       "stream": "stdout",
       "text": [
        "\n",
        "Assinging for relocation...\n",
        "Total currently unplaced: 1906290"
       ]
      },
      {
       "output_type": "stream",
       "stream": "stdout",
       "text": [
        "\n",
        "Time to execute model = 6.225s\n",
        "Running model 'hlcmo_simulate'\n",
        "There are 7289763 total available units"
       ]
      },
      {
       "output_type": "stream",
       "stream": "stdout",
       "text": [
        "\n",
        "    and 8831692 total choosers\n",
        "    but there are 34 overfull buildings"
       ]
      },
      {
       "output_type": "stream",
       "stream": "stdout",
       "text": [
        "\n",
        "    for a total of 365431 temporarily empty units"
       ]
      },
      {
       "output_type": "stream",
       "stream": "stdout",
       "text": [
        "\n",
        "    in 229221 buildings total in the region\n",
        "WARNING: Not enough locations for movers"
       ]
      },
      {
       "output_type": "stream",
       "stream": "stdout",
       "text": [
        "\n",
        "    reducing locations to size of movers for performance gain\n",
        "Assigned 205468 choosers to new units"
       ]
      },
      {
       "output_type": "stream",
       "stream": "stdout",
       "text": [
        "\n",
        "Total currently unplaced: 1700822"
       ]
      },
      {
       "output_type": "stream",
       "stream": "stdout",
       "text": [
        "\n",
        "    and there are now 159172 empty units"
       ]
      },
      {
       "output_type": "stream",
       "stream": "stdout",
       "text": [
        "\n",
        "    and 34 overfull buildings"
       ]
      },
      {
       "output_type": "stream",
       "stream": "stdout",
       "text": [
        "\n",
        "Time to execute model = 16.243s\n",
        "Running model 'hlcmr_simulate'\n",
        "There are 7289763 total available units"
       ]
      },
      {
       "output_type": "stream",
       "stream": "stdout",
       "text": [
        "\n",
        "    and 8831692 total choosers\n",
        "    but there are 34 overfull buildings"
       ]
      },
      {
       "output_type": "stream",
       "stream": "stdout",
       "text": [
        "\n",
        "    for a total of 159963 temporarily empty units"
       ]
      },
      {
       "output_type": "stream",
       "stream": "stdout",
       "text": [
        "\n",
        "    in 124076 buildings total in the region\n",
        "WARNING: Not enough locations for movers"
       ]
      },
      {
       "output_type": "stream",
       "stream": "stdout",
       "text": [
        "\n",
        "    reducing locations to size of movers for performance gain\n",
        "Assigned 159657 choosers to new units"
       ]
      },
      {
       "output_type": "stream",
       "stream": "stdout",
       "text": [
        "\n",
        "Total currently unplaced: 1541165"
       ]
      },
      {
       "output_type": "stream",
       "stream": "stdout",
       "text": [
        "\n",
        "    and there are now -485 empty units"
       ]
      },
      {
       "output_type": "stream",
       "stream": "stdout",
       "text": [
        "\n",
        "    and 34 overfull buildings"
       ]
      },
      {
       "output_type": "stream",
       "stream": "stdout",
       "text": [
        "\n",
        "Time to execute model = 13.559s\n",
        "Running model 'households_transition'\n",
        "8831692 agents before transition"
       ]
      },
      {
       "output_type": "stream",
       "stream": "stdout",
       "text": [
        "\n",
        "9273277 agents after transition"
       ]
      },
      {
       "output_type": "stream",
       "stream": "stdout",
       "text": [
        "\n",
        "Time to execute model = 4.525s"
       ]
      },
      {
       "output_type": "stream",
       "stream": "stdout",
       "text": [
        "\n",
        "Running model 'jobs_relocation'\n",
        "Total agents: 13836115\n",
        "Total currently unplaced: 658863"
       ]
      },
      {
       "output_type": "stream",
       "stream": "stdout",
       "text": [
        "\n",
        "Assinging for relocation...\n",
        "Total currently unplaced: 1317440"
       ]
      },
      {
       "output_type": "stream",
       "stream": "stdout",
       "text": [
        "\n",
        "Time to execute model = 8.276s\n",
        "Running model 'elcm_simulate'\n",
        "There are 15348001 total available units"
       ]
      },
      {
       "output_type": "stream",
       "stream": "stdout",
       "text": [
        "\n",
        "    and 13836115 total choosers\n",
        "    but there are 0 overfull buildings"
       ]
      },
      {
       "output_type": "stream",
       "stream": "stdout",
       "text": [
        "\n",
        "    for a total of 2868397 temporarily empty units"
       ]
      },
      {
       "output_type": "stream",
       "stream": "stdout",
       "text": [
        "\n",
        "    in 290635 buildings total in the region\n",
        "Assigned 1317440 choosers to new units"
       ]
      },
      {
       "output_type": "stream",
       "stream": "stdout",
       "text": [
        "\n",
        "Total currently unplaced: 0"
       ]
      },
      {
       "output_type": "stream",
       "stream": "stdout",
       "text": [
        "\n",
        "    and there are now 1550957 empty units"
       ]
      },
      {
       "output_type": "stream",
       "stream": "stdout",
       "text": [
        "\n",
        "    and 0 overfull buildings"
       ]
      },
      {
       "output_type": "stream",
       "stream": "stdout",
       "text": [
        "\n",
        "Time to execute model = 113.747s\n",
        "Running model 'jobs_transition'\n",
        "13836115 agents before transition"
       ]
      },
      {
       "output_type": "stream",
       "stream": "stdout",
       "text": [
        "\n",
        "14527921 agents after transition"
       ]
      },
      {
       "output_type": "stream",
       "stream": "stdout",
       "text": [
        "\n",
        "Time to execute model = 12.090s"
       ]
      },
      {
       "output_type": "stream",
       "stream": "stdout",
       "text": [
        "\n",
        "Running model 'price_vars'\n",
        "Computing accessibility variables\n",
        "Computing residential\n",
        "Computing retail"
       ]
      },
      {
       "output_type": "stream",
       "stream": "stdout",
       "text": [
        "\n",
        "Computing office"
       ]
      },
      {
       "output_type": "stream",
       "stream": "stdout",
       "text": [
        "\n",
        "Computing industrial"
       ]
      },
      {
       "output_type": "stream",
       "stream": "stdout",
       "text": [
        "\n",
        "Time to execute model = 4.831s"
       ]
      },
      {
       "output_type": "stream",
       "stream": "stdout",
       "text": [
        "\n",
        "Running model 'feasibility'\n",
        "Describe of the yearly rent by use"
       ]
      },
      {
       "output_type": "stream",
       "stream": "stdout",
       "text": [
        "\n",
        "               retail      industrial          office     residential\n",
        "count  2023915.000000  2023915.000000  2023915.000000  2023915.000000\n",
        "mean        25.945727        9.736521       24.076236       19.661350\n",
        "std          6.823607        3.360645        5.402612       10.009475\n",
        "min          0.000000        0.000000        0.000000        0.000000\n",
        "25%         24.791439       10.234298       24.615423       13.709563\n",
        "50%         27.091467       10.791044       25.180342       17.934047\n",
        "75%         29.343077       11.194870       25.731781       22.639636\n",
        "max         41.978851       17.824413       43.332241       52.002179\n",
        "\n",
        "[8 rows x 4 columns]"
       ]
      },
      {
       "output_type": "stream",
       "stream": "stdout",
       "text": [
        "\n",
        "Computing feasibility for form mixedoffice\n",
        "Computing feasibility for form industrial"
       ]
      },
      {
       "output_type": "stream",
       "stream": "stdout",
       "text": [
        "\n",
        "Computing feasibility for form office"
       ]
      },
      {
       "output_type": "stream",
       "stream": "stdout",
       "text": [
        "\n",
        "Computing feasibility for form residential"
       ]
      },
      {
       "output_type": "stream",
       "stream": "stdout",
       "text": [
        "\n",
        "Computing feasibility for form mixedresidential"
       ]
      },
      {
       "output_type": "stream",
       "stream": "stdout",
       "text": [
        "\n",
        "Computing feasibility for form retail"
       ]
      },
      {
       "output_type": "stream",
       "stream": "stdout",
       "text": [
        "\n",
        "Time to execute model = 42.868s"
       ]
      },
      {
       "output_type": "stream",
       "stream": "stdout",
       "text": [
        "\n",
        "Running model 'residential_developer'\n",
        "Number of agents: 9,273,277"
       ]
      },
      {
       "output_type": "stream",
       "stream": "stdout",
       "text": [
        "\n",
        "Number of agent spaces: 7,289,763\n",
        "Current vacancy = -0.27\n",
        "Target vacancy = 0.08, target of new units = 2,789,885\n",
        "141,200 feasible buildings before running developer\n",
        "Sum of net units that are profitable: 415"
       ]
      },
      {
       "output_type": "stream",
       "stream": "stdout",
       "text": [
        "\n",
        "WARNING THERE WERE NOT ENOUGH PROFITABLE UNITS TO MATCH DEMAND\n",
        "Adding 31 buildings with 446 residential_units"
       ]
      },
      {
       "output_type": "stream",
       "stream": "stdout",
       "text": [
        "\n",
        "141,169 feasible buildings after running developer\n",
        "Time to execute model = 5.682s"
       ]
      },
      {
       "output_type": "stream",
       "stream": "stdout",
       "text": [
        "\n",
        "Running model 'non_residential_developer'\n",
        "Number of agents: 14,527,921"
       ]
      },
      {
       "output_type": "stream",
       "stream": "stdout",
       "text": [
        "\n",
        "Number of agent spaces: 15,348,001\n",
        "Current vacancy = 0.05\n",
        "Target vacancy = 0.08, target of new units = 443,217\n",
        "141,169 feasible buildings before running developer\n",
        "Sum of net units that are profitable: 1,609,263"
       ]
      },
      {
       "output_type": "stream",
       "stream": "stdout",
       "text": [
        "\n",
        "Adding 19,043 buildings with 868,293 job_spaces"
       ]
      },
      {
       "output_type": "stream",
       "stream": "stdout",
       "text": [
        "\n",
        "122,126 feasible buildings after running developer\n",
        "Time to execute model = 7.614s"
       ]
      },
      {
       "output_type": "stream",
       "stream": "stdout",
       "text": [
        "\n",
        "Running model 'clear_cache'\n",
        "Time to execute model = 0.021s\n",
        "Time to execute year = 541.830s\n",
        "Running year 2036\n",
        "Running model 'neighborhood_vars'\n",
        "Computing accessibility variables\n",
        "Computing sum_residential_units"
       ]
      },
      {
       "output_type": "stream",
       "stream": "stdout",
       "text": [
        "\n",
        "Computing sum_nonresidential_units"
       ]
      },
      {
       "output_type": "stream",
       "stream": "stdout",
       "text": [
        "\n",
        "Computing ave_unit_sqft"
       ]
      },
      {
       "output_type": "stream",
       "stream": "stdout",
       "text": [
        "\n",
        "Computing ave_lot_sqft"
       ]
      },
      {
       "output_type": "stream",
       "stream": "stdout",
       "text": [
        "\n",
        "Computing population"
       ]
      },
      {
       "output_type": "stream",
       "stream": "stdout",
       "text": [
        "\n",
        "Computing poor"
       ]
      },
      {
       "output_type": "stream",
       "stream": "stdout",
       "text": [
        "\n",
        "Computing renters"
       ]
      },
      {
       "output_type": "stream",
       "stream": "stdout",
       "text": [
        "\n",
        "Computing sfdu"
       ]
      },
      {
       "output_type": "stream",
       "stream": "stdout",
       "text": [
        "\n",
        "Computing hhsize"
       ]
      },
      {
       "output_type": "stream",
       "stream": "stdout",
       "text": [
        "\n",
        "Computing jobs"
       ]
      },
      {
       "output_type": "stream",
       "stream": "stdout",
       "text": [
        "\n",
        "Computing ave_income"
       ]
      },
      {
       "output_type": "stream",
       "stream": "stdout",
       "text": [
        "\n",
        "Time to execute model = 286.853s"
       ]
      },
      {
       "output_type": "stream",
       "stream": "stdout",
       "text": [
        "\n",
        "Running model 'rsh_simulate'\n",
        "count    2036379.000000\n",
        "mean         463.906575\n",
        "std          258.295522\n",
        "min            2.909766\n",
        "25%          291.297803\n",
        "50%          390.979540\n",
        "75%          570.429357\n",
        "max        16638.466554\n",
        "dtype: float64"
       ]
      },
      {
       "output_type": "stream",
       "stream": "stdout",
       "text": [
        "\n",
        "Time to execute model = 30.095s"
       ]
      },
      {
       "output_type": "stream",
       "stream": "stdout",
       "text": [
        "\n",
        "Running model 'rrh_simulate'\n",
        "count    2036379.000000\n",
        "mean           3.138117\n",
        "std            0.591777\n",
        "min            0.444802\n",
        "25%            2.728493\n",
        "50%            3.091611\n",
        "75%            3.517421\n",
        "max           16.697160\n",
        "dtype: float64"
       ]
      },
      {
       "output_type": "stream",
       "stream": "stdout",
       "text": [
        "\n",
        "Time to execute model = 3.405s"
       ]
      },
      {
       "output_type": "stream",
       "stream": "stdout",
       "text": [
        "\n",
        "Running model 'nrh_simulate'\n",
        "count    210269.000000\n",
        "mean         26.108053\n",
        "std           7.569467\n",
        "min           0.401221\n",
        "25%          24.276822\n",
        "50%          27.126478\n",
        "75%          31.760588\n",
        "max          49.165199\n",
        "dtype: float64"
       ]
      },
      {
       "output_type": "stream",
       "stream": "stdout",
       "text": [
        "\n",
        "Time to execute model = 1.994s\n",
        "Running model 'households_relocation'\n",
        "Total agents: 9273277\n",
        "Total currently unplaced: 1982750"
       ]
      },
      {
       "output_type": "stream",
       "stream": "stdout",
       "text": [
        "\n",
        "Assinging for relocation...\n",
        "Total currently unplaced: 2347262"
       ]
      },
      {
       "output_type": "stream",
       "stream": "stdout",
       "text": [
        "\n",
        "Time to execute model = 6.968s\n",
        "Running model 'hlcmo_simulate'\n",
        "There are 7290209 total available units"
       ]
      },
      {
       "output_type": "stream",
       "stream": "stdout",
       "text": [
        "\n",
        "    and 9273277 total choosers\n",
        "    but there are 32 overfull buildings"
       ]
      },
      {
       "output_type": "stream",
       "stream": "stdout",
       "text": [
        "\n",
        "    for a total of 365189 temporarily empty units"
       ]
      },
      {
       "output_type": "stream",
       "stream": "stdout",
       "text": [
        "\n",
        "    in 229576 buildings total in the region\n",
        "WARNING: Not enough locations for movers"
       ]
      },
      {
       "output_type": "stream",
       "stream": "stdout",
       "text": [
        "\n",
        "    reducing locations to size of movers for performance gain\n",
        "Assigned 205077 choosers to new units"
       ]
      },
      {
       "output_type": "stream",
       "stream": "stdout",
       "text": [
        "\n",
        "Total currently unplaced: 2142185"
       ]
      },
      {
       "output_type": "stream",
       "stream": "stdout",
       "text": [
        "\n",
        "    and there are now 159382 empty units"
       ]
      },
      {
       "output_type": "stream",
       "stream": "stdout",
       "text": [
        "\n",
        "    and 32 overfull buildings"
       ]
      },
      {
       "output_type": "stream",
       "stream": "stdout",
       "text": [
        "\n",
        "Time to execute model = 16.408s\n",
        "Running model 'hlcmr_simulate'\n",
        "There are 7290209 total available units"
       ]
      },
      {
       "output_type": "stream",
       "stream": "stdout",
       "text": [
        "\n",
        "    and 9273277 total choosers\n",
        "    but there are 32 overfull buildings"
       ]
      },
      {
       "output_type": "stream",
       "stream": "stdout",
       "text": [
        "\n",
        "    for a total of 160112 temporarily empty units"
       ]
      },
      {
       "output_type": "stream",
       "stream": "stdout",
       "text": [
        "\n",
        "    in 124419 buildings total in the region\n",
        "WARNING: Not enough locations for movers"
       ]
      },
      {
       "output_type": "stream",
       "stream": "stdout",
       "text": [
        "\n",
        "    reducing locations to size of movers for performance gain\n",
        "Assigned 159796 choosers to new units"
       ]
      },
      {
       "output_type": "stream",
       "stream": "stdout",
       "text": [
        "\n",
        "Total currently unplaced: 1982389"
       ]
      },
      {
       "output_type": "stream",
       "stream": "stdout",
       "text": [
        "\n",
        "    and there are now -414 empty units"
       ]
      },
      {
       "output_type": "stream",
       "stream": "stdout",
       "text": [
        "\n",
        "    and 32 overfull buildings"
       ]
      },
      {
       "output_type": "stream",
       "stream": "stdout",
       "text": [
        "\n",
        "Time to execute model = 13.652s\n",
        "Running model 'households_transition'\n",
        "9273277 agents before transition"
       ]
      },
      {
       "output_type": "stream",
       "stream": "stdout",
       "text": [
        "\n",
        "9736941 agents after transition"
       ]
      },
      {
       "output_type": "stream",
       "stream": "stdout",
       "text": [
        "\n",
        "Time to execute model = 4.874s"
       ]
      },
      {
       "output_type": "stream",
       "stream": "stdout",
       "text": [
        "\n",
        "Running model 'jobs_relocation'\n",
        "Total agents: 14527921\n",
        "Total currently unplaced: 691806"
       ]
      },
      {
       "output_type": "stream",
       "stream": "stdout",
       "text": [
        "\n",
        "Assinging for relocation...\n",
        "Total currently unplaced: 1383553"
       ]
      },
      {
       "output_type": "stream",
       "stream": "stdout",
       "text": [
        "\n",
        "Time to execute model = 8.814s\n",
        "Running model 'elcm_simulate'\n",
        "There are 16135082 total available units"
       ]
      },
      {
       "output_type": "stream",
       "stream": "stdout",
       "text": [
        "\n",
        "    and 14527921 total choosers\n",
        "    but there are 0 overfull buildings"
       ]
      },
      {
       "output_type": "stream",
       "stream": "stdout",
       "text": [
        "\n",
        "    for a total of 3027868 temporarily empty units"
       ]
      },
      {
       "output_type": "stream",
       "stream": "stdout",
       "text": [
        "\n",
        "    in 310535 buildings total in the region\n",
        "Assigned 1383553 choosers to new units"
       ]
      },
      {
       "output_type": "stream",
       "stream": "stdout",
       "text": [
        "\n",
        "Total currently unplaced: 0"
       ]
      },
      {
       "output_type": "stream",
       "stream": "stdout",
       "text": [
        "\n",
        "    and there are now 1644315 empty units"
       ]
      },
      {
       "output_type": "stream",
       "stream": "stdout",
       "text": [
        "\n",
        "    and 0 overfull buildings"
       ]
      },
      {
       "output_type": "stream",
       "stream": "stdout",
       "text": [
        "\n",
        "Time to execute model = 119.417s\n",
        "Running model 'jobs_transition'\n",
        "14527921 agents before transition"
       ]
      },
      {
       "output_type": "stream",
       "stream": "stdout",
       "text": [
        "\n",
        "15254317 agents after transition"
       ]
      },
      {
       "output_type": "stream",
       "stream": "stdout",
       "text": [
        "\n",
        "Time to execute model = 11.858s"
       ]
      },
      {
       "output_type": "stream",
       "stream": "stdout",
       "text": [
        "\n",
        "Running model 'price_vars'\n",
        "Computing accessibility variables\n",
        "Computing residential\n",
        "Computing retail"
       ]
      },
      {
       "output_type": "stream",
       "stream": "stdout",
       "text": [
        "\n",
        "Computing office"
       ]
      },
      {
       "output_type": "stream",
       "stream": "stdout",
       "text": [
        "\n",
        "Computing industrial"
       ]
      },
      {
       "output_type": "stream",
       "stream": "stdout",
       "text": [
        "\n",
        "Time to execute model = 4.943s"
       ]
      },
      {
       "output_type": "stream",
       "stream": "stdout",
       "text": [
        "\n",
        "Running model 'feasibility'\n",
        "Describe of the yearly rent by use"
       ]
      },
      {
       "output_type": "stream",
       "stream": "stdout",
       "text": [
        "\n",
        "               retail      industrial          office     residential\n",
        "count  2023915.000000  2023915.000000  2023915.000000  2023915.000000\n",
        "mean        25.996537        9.741338       24.090194       19.600965\n",
        "std          6.843699        3.363030        5.405445       10.027183\n",
        "min          0.000000        0.000000        0.000000        0.000000\n",
        "25%         24.831059       10.231786       24.617123       13.684921\n",
        "50%         27.127712       10.795395       25.185993       17.877414\n",
        "75%         29.371521       11.197714       25.744688       22.607574\n",
        "max         41.975979       17.823111       43.332428       51.965936\n",
        "\n",
        "[8 rows x 4 columns]"
       ]
      },
      {
       "output_type": "stream",
       "stream": "stdout",
       "text": [
        "\n",
        "Computing feasibility for form mixedoffice\n",
        "Computing feasibility for form industrial"
       ]
      },
      {
       "output_type": "stream",
       "stream": "stdout",
       "text": [
        "\n",
        "Computing feasibility for form office"
       ]
      },
      {
       "output_type": "stream",
       "stream": "stdout",
       "text": [
        "\n",
        "Computing feasibility for form residential"
       ]
      },
      {
       "output_type": "stream",
       "stream": "stdout",
       "text": [
        "\n",
        "Computing feasibility for form mixedresidential"
       ]
      },
      {
       "output_type": "stream",
       "stream": "stdout",
       "text": [
        "\n",
        "Computing feasibility for form retail"
       ]
      },
      {
       "output_type": "stream",
       "stream": "stdout",
       "text": [
        "\n",
        "Time to execute model = 43.220s"
       ]
      },
      {
       "output_type": "stream",
       "stream": "stdout",
       "text": [
        "\n",
        "Running model 'residential_developer'\n",
        "Number of agents: 9,736,941"
       ]
      },
      {
       "output_type": "stream",
       "stream": "stdout",
       "text": [
        "\n",
        "Number of agent spaces: 7,290,209\n",
        "Current vacancy = -0.34\n",
        "Target vacancy = 0.08, target of new units = 3,293,422\n",
        "138,593 feasible buildings before running developer\n",
        "Sum of net units that are profitable: 55"
       ]
      },
      {
       "output_type": "stream",
       "stream": "stdout",
       "text": [
        "\n",
        "WARNING THERE WERE NOT ENOUGH PROFITABLE UNITS TO MATCH DEMAND\n",
        "Adding 9 buildings with 64 residential_units"
       ]
      },
      {
       "output_type": "stream",
       "stream": "stdout",
       "text": [
        "\n",
        "138,584 feasible buildings after running developer\n",
        "Time to execute model = 5.583s"
       ]
      },
      {
       "output_type": "stream",
       "stream": "stdout",
       "text": [
        "\n",
        "Running model 'non_residential_developer'\n",
        "Number of agents: 15,254,317"
       ]
      },
      {
       "output_type": "stream",
       "stream": "stdout",
       "text": [
        "\n",
        "Number of agent spaces: 16,135,082\n",
        "Current vacancy = 0.05\n",
        "Target vacancy = 0.08, target of new units = 445,697\n",
        "138,584 feasible buildings before running developer\n",
        "Sum of net units that are profitable: 1,209,655"
       ]
      },
      {
       "output_type": "stream",
       "stream": "stdout",
       "text": [
        "\n",
        "Adding 27,997 buildings with 992,243 job_spaces"
       ]
      },
      {
       "output_type": "stream",
       "stream": "stdout",
       "text": [
        "\n",
        "110,587 feasible buildings after running developer\n",
        "Time to execute model = 7.568s"
       ]
      },
      {
       "output_type": "stream",
       "stream": "stdout",
       "text": [
        "\n",
        "Running model 'clear_cache'\n",
        "Time to execute model = 0.020s\n",
        "Time to execute year = 565.678s\n",
        "Running year 2037\n",
        "Running model 'neighborhood_vars'\n",
        "Computing accessibility variables\n",
        "Computing sum_residential_units"
       ]
      },
      {
       "output_type": "stream",
       "stream": "stdout",
       "text": [
        "\n",
        "Computing sum_nonresidential_units"
       ]
      },
      {
       "output_type": "stream",
       "stream": "stdout",
       "text": [
        "\n",
        "Computing ave_unit_sqft"
       ]
      },
      {
       "output_type": "stream",
       "stream": "stdout",
       "text": [
        "\n",
        "Computing ave_lot_sqft"
       ]
      },
      {
       "output_type": "stream",
       "stream": "stdout",
       "text": [
        "\n",
        "Computing population"
       ]
      },
      {
       "output_type": "stream",
       "stream": "stdout",
       "text": [
        "\n",
        "Computing poor"
       ]
      },
      {
       "output_type": "stream",
       "stream": "stdout",
       "text": [
        "\n",
        "Computing renters"
       ]
      },
      {
       "output_type": "stream",
       "stream": "stdout",
       "text": [
        "\n",
        "Computing sfdu"
       ]
      },
      {
       "output_type": "stream",
       "stream": "stdout",
       "text": [
        "\n",
        "Computing hhsize"
       ]
      },
      {
       "output_type": "stream",
       "stream": "stdout",
       "text": [
        "\n",
        "Computing jobs"
       ]
      },
      {
       "output_type": "stream",
       "stream": "stdout",
       "text": [
        "\n",
        "Computing ave_income"
       ]
      },
      {
       "output_type": "stream",
       "stream": "stdout",
       "text": [
        "\n",
        "Time to execute model = 374.970s"
       ]
      },
      {
       "output_type": "stream",
       "stream": "stdout",
       "text": [
        "\n",
        "Running model 'rsh_simulate'\n",
        "count    2036388.000000\n",
        "mean         463.969812\n",
        "std          258.039085\n",
        "min            2.909766\n",
        "25%          291.555816\n",
        "50%          391.199304\n",
        "75%          570.425451\n",
        "max        16651.573036\n",
        "dtype: float64"
       ]
      },
      {
       "output_type": "stream",
       "stream": "stdout",
       "text": [
        "\n",
        "Time to execute model = 35.925s"
       ]
      },
      {
       "output_type": "stream",
       "stream": "stdout",
       "text": [
        "\n",
        "Running model 'rrh_simulate'\n",
        "count    2036388.000000\n",
        "mean           3.142312\n",
        "std            0.594295\n",
        "min            0.442574\n",
        "25%            2.729690\n",
        "50%            3.094805\n",
        "75%            3.530586\n",
        "max           16.697770\n",
        "dtype: float64"
       ]
      },
      {
       "output_type": "stream",
       "stream": "stdout",
       "text": [
        "\n",
        "Time to execute model = 3.528s"
       ]
      },
      {
       "output_type": "stream",
       "stream": "stdout",
       "text": [
        "\n",
        "Running model 'nrh_simulate'\n",
        "count    238266.000000\n",
        "mean         26.873268\n",
        "std           7.533473\n",
        "min           0.401221\n",
        "25%          24.690820\n",
        "50%          27.791478\n",
        "75%          32.693302\n",
        "max          49.174256\n",
        "dtype: float64"
       ]
      },
      {
       "output_type": "stream",
       "stream": "stdout",
       "text": [
        "\n",
        "Time to execute model = 2.216s"
       ]
      },
      {
       "output_type": "stream",
       "stream": "stdout",
       "text": [
        "\n",
        "Running model 'households_relocation'\n",
        "Total agents: 9736941\n",
        "Total currently unplaced: 2446053"
       ]
      },
      {
       "output_type": "stream",
       "stream": "stdout",
       "text": [
        "\n",
        "Assinging for relocation...\n",
        "Total currently unplaced: 2810888"
       ]
      },
      {
       "output_type": "stream",
       "stream": "stdout",
       "text": [
        "\n",
        "Time to execute model = 7.524s\n",
        "Running model 'hlcmo_simulate'\n",
        "There are 7290273 total available units"
       ]
      },
      {
       "output_type": "stream",
       "stream": "stdout",
       "text": [
        "\n",
        "    and 9736941 total choosers\n",
        "    but there are 30 overfull buildings"
       ]
      },
      {
       "output_type": "stream",
       "stream": "stdout",
       "text": [
        "\n",
        "    for a total of 365135 temporarily empty units"
       ]
      },
      {
       "output_type": "stream",
       "stream": "stdout",
       "text": [
        "\n",
        "    in 229840 buildings total in the region\n",
        "WARNING: Not enough locations for movers"
       ]
      },
      {
       "output_type": "stream",
       "stream": "stdout",
       "text": [
        "\n",
        "    reducing locations to size of movers for performance gain\n",
        "Assigned 205182 choosers to new units"
       ]
      },
      {
       "output_type": "stream",
       "stream": "stdout",
       "text": [
        "\n",
        "Total currently unplaced: 2605706"
       ]
      },
      {
       "output_type": "stream",
       "stream": "stdout",
       "text": [
        "\n",
        "    and there are now 159285 empty units"
       ]
      },
      {
       "output_type": "stream",
       "stream": "stdout",
       "text": [
        "\n",
        "    and 30 overfull buildings"
       ]
      },
      {
       "output_type": "stream",
       "stream": "stdout",
       "text": [
        "\n",
        "Time to execute model = 17.763s\n",
        "Running model 'hlcmr_simulate'\n",
        "There are 7290273 total available units"
       ]
      },
      {
       "output_type": "stream",
       "stream": "stdout",
       "text": [
        "\n",
        "    and 9736941 total choosers\n",
        "    but there are 30 overfull buildings"
       ]
      },
      {
       "output_type": "stream",
       "stream": "stdout",
       "text": [
        "\n",
        "    for a total of 159953 temporarily empty units"
       ]
      },
      {
       "output_type": "stream",
       "stream": "stdout",
       "text": [
        "\n",
        "    in 124217 buildings total in the region\n",
        "WARNING: Not enough locations for movers"
       ]
      },
      {
       "output_type": "stream",
       "stream": "stdout",
       "text": [
        "\n",
        "    reducing locations to size of movers for performance gain\n",
        "Assigned 159631 choosers to new units"
       ]
      },
      {
       "output_type": "stream",
       "stream": "stdout",
       "text": [
        "\n",
        "Total currently unplaced: 2446075"
       ]
      },
      {
       "output_type": "stream",
       "stream": "stdout",
       "text": [
        "\n",
        "    and there are now -346 empty units"
       ]
      },
      {
       "output_type": "stream",
       "stream": "stdout",
       "text": [
        "\n",
        "    and 30 overfull buildings"
       ]
      },
      {
       "output_type": "stream",
       "stream": "stdout",
       "text": [
        "\n",
        "Time to execute model = 14.040s\n",
        "Running model 'households_transition'\n",
        "9736941 agents before transition"
       ]
      },
      {
       "output_type": "stream",
       "stream": "stdout",
       "text": [
        "\n",
        "10223788 agents after transition"
       ]
      },
      {
       "output_type": "stream",
       "stream": "stdout",
       "text": [
        "\n",
        "Time to execute model = 5.339s"
       ]
      },
      {
       "output_type": "stream",
       "stream": "stdout",
       "text": [
        "\n",
        "Running model 'jobs_relocation'\n",
        "Total agents: 15254317\n",
        "Total currently unplaced: 726396"
       ]
      },
      {
       "output_type": "stream",
       "stream": "stdout",
       "text": [
        "\n",
        "Assinging for relocation...\n",
        "Total currently unplaced: 1452742"
       ]
      },
      {
       "output_type": "stream",
       "stream": "stdout",
       "text": [
        "\n",
        "Time to execute model = 9.355s\n",
        "Running model 'elcm_simulate'\n",
        "There are 17025251 total available units"
       ]
      },
      {
       "output_type": "stream",
       "stream": "stdout",
       "text": [
        "\n",
        "    and 15254317 total choosers\n",
        "    but there are 0 overfull buildings"
       ]
      },
      {
       "output_type": "stream",
       "stream": "stdout",
       "text": [
        "\n",
        "    for a total of 3258988 temporarily empty units"
       ]
      },
      {
       "output_type": "stream",
       "stream": "stdout",
       "text": [
        "\n",
        "    in 338949 buildings total in the region\n",
        "Assigned 1452742 choosers to new units"
       ]
      },
      {
       "output_type": "stream",
       "stream": "stdout",
       "text": [
        "\n",
        "Total currently unplaced: 0"
       ]
      },
      {
       "output_type": "stream",
       "stream": "stdout",
       "text": [
        "\n",
        "    and there are now 1806246 empty units"
       ]
      },
      {
       "output_type": "stream",
       "stream": "stdout",
       "text": [
        "\n",
        "    and 0 overfull buildings"
       ]
      },
      {
       "output_type": "stream",
       "stream": "stdout",
       "text": [
        "\n",
        "Time to execute model = 128.291s\n",
        "Running model 'jobs_transition'\n",
        "15254317 agents before transition"
       ]
      },
      {
       "output_type": "stream",
       "stream": "stdout",
       "text": [
        "\n",
        "16017033 agents after transition"
       ]
      },
      {
       "output_type": "stream",
       "stream": "stdout",
       "text": [
        "\n",
        "Time to execute model = 13.243s"
       ]
      },
      {
       "output_type": "stream",
       "stream": "stdout",
       "text": [
        "\n",
        "Running model 'price_vars'\n",
        "Computing accessibility variables\n",
        "Computing residential\n",
        "Computing retail"
       ]
      },
      {
       "output_type": "stream",
       "stream": "stdout",
       "text": [
        "\n",
        "Computing office"
       ]
      },
      {
       "output_type": "stream",
       "stream": "stdout",
       "text": [
        "\n",
        "Computing industrial"
       ]
      },
      {
       "output_type": "stream",
       "stream": "stdout",
       "text": [
        "\n",
        "Time to execute model = 6.370s"
       ]
      },
      {
       "output_type": "stream",
       "stream": "stdout",
       "text": [
        "\n",
        "Running model 'feasibility'\n",
        "Describe of the yearly rent by use"
       ]
      },
      {
       "output_type": "stream",
       "stream": "stdout",
       "text": [
        "\n",
        "               retail      industrial          office     residential\n",
        "count  2023915.000000  2023915.000000  2023915.000000  2023915.000000\n",
        "mean        26.039055        9.745825       24.101876       19.514758\n",
        "std          6.866521        3.365324        5.410293       10.053308\n",
        "min          0.000000        0.000000        0.000000        0.000000\n",
        "25%         24.854141       10.232057       24.619146       13.645495\n",
        "50%         27.144909       10.798171       25.191145       17.804454\n",
        "75%         29.388599       11.200881       25.756844       22.535181\n",
        "max         41.972698       17.823965       43.331284       51.929999\n",
        "\n",
        "[8 rows x 4 columns]"
       ]
      },
      {
       "output_type": "stream",
       "stream": "stdout",
       "text": [
        "\n",
        "Computing feasibility for form mixedoffice\n",
        "Computing feasibility for form industrial"
       ]
      },
      {
       "output_type": "stream",
       "stream": "stdout",
       "text": [
        "\n",
        "Computing feasibility for form office"
       ]
      },
      {
       "output_type": "stream",
       "stream": "stdout",
       "text": [
        "\n",
        "Computing feasibility for form residential"
       ]
      },
      {
       "output_type": "stream",
       "stream": "stdout",
       "text": [
        "\n",
        "Computing feasibility for form mixedresidential"
       ]
      },
      {
       "output_type": "stream",
       "stream": "stdout",
       "text": [
        "\n",
        "Computing feasibility for form retail"
       ]
      },
      {
       "output_type": "stream",
       "stream": "stdout",
       "text": [
        "\n",
        "Time to execute model = 43.508s"
       ]
      },
      {
       "output_type": "stream",
       "stream": "stdout",
       "text": [
        "\n",
        "Running model 'residential_developer'\n",
        "Number of agents: 10,223,788"
       ]
      },
      {
       "output_type": "stream",
       "stream": "stdout",
       "text": [
        "\n",
        "Number of agent spaces: 7,290,273\n",
        "Current vacancy = -0.40\n",
        "Target vacancy = 0.08, target of new units = 3,822,540\n",
        "134,270 feasible buildings before running developer\n",
        "Sum of net units that are profitable: 62"
       ]
      },
      {
       "output_type": "stream",
       "stream": "stdout",
       "text": [
        "\n",
        "WARNING THERE WERE NOT ENOUGH PROFITABLE UNITS TO MATCH DEMAND\n",
        "Adding 7 buildings with 68 residential_units"
       ]
      },
      {
       "output_type": "stream",
       "stream": "stdout",
       "text": [
        "\n",
        "134,263 feasible buildings after running developer\n",
        "Time to execute model = 5.634s"
       ]
      },
      {
       "output_type": "stream",
       "stream": "stdout",
       "text": [
        "\n",
        "Running model 'non_residential_developer'\n",
        "Number of agents: 16,017,033"
       ]
      },
      {
       "output_type": "stream",
       "stream": "stdout",
       "text": [
        "\n",
        "Number of agent spaces: 17,025,251\n",
        "Current vacancy = 0.06\n",
        "Target vacancy = 0.08, target of new units = 384,567\n",
        "134,263 feasible buildings before running developer\n",
        "Sum of net units that are profitable: 815,104"
       ]
      },
      {
       "output_type": "stream",
       "stream": "stdout",
       "text": [
        "\n",
        "Adding 36,647 buildings with 886,248 job_spaces"
       ]
      },
      {
       "output_type": "stream",
       "stream": "stdout",
       "text": [
        "\n",
        "97,616 feasible buildings after running developer\n",
        "Time to execute model = 7.613s"
       ]
      },
      {
       "output_type": "stream",
       "stream": "stdout",
       "text": [
        "\n",
        "Running model 'clear_cache'\n",
        "Time to execute model = 0.017s\n",
        "Time to execute year = 675.341s\n",
        "Running year 2038\n",
        "Running model 'neighborhood_vars'\n",
        "Computing accessibility variables\n",
        "Computing sum_residential_units"
       ]
      },
      {
       "output_type": "stream",
       "stream": "stdout",
       "text": [
        "\n",
        "Computing sum_nonresidential_units"
       ]
      },
      {
       "output_type": "stream",
       "stream": "stdout",
       "text": [
        "\n",
        "Computing ave_unit_sqft"
       ]
      },
      {
       "output_type": "stream",
       "stream": "stdout",
       "text": [
        "\n",
        "Computing ave_lot_sqft"
       ]
      },
      {
       "output_type": "stream",
       "stream": "stdout",
       "text": [
        "\n",
        "Computing population"
       ]
      },
      {
       "output_type": "stream",
       "stream": "stdout",
       "text": [
        "\n",
        "Computing poor"
       ]
      },
      {
       "output_type": "stream",
       "stream": "stdout",
       "text": [
        "\n",
        "Computing renters"
       ]
      },
      {
       "output_type": "stream",
       "stream": "stdout",
       "text": [
        "\n",
        "Computing sfdu"
       ]
      },
      {
       "output_type": "stream",
       "stream": "stdout",
       "text": [
        "\n",
        "Computing hhsize"
       ]
      },
      {
       "output_type": "stream",
       "stream": "stdout",
       "text": [
        "\n",
        "Computing jobs"
       ]
      },
      {
       "output_type": "stream",
       "stream": "stdout",
       "text": [
        "\n",
        "Computing ave_income"
       ]
      },
      {
       "output_type": "stream",
       "stream": "stdout",
       "text": [
        "\n",
        "Time to execute model = 328.377s"
       ]
      },
      {
       "output_type": "stream",
       "stream": "stdout",
       "text": [
        "\n",
        "Running model 'rsh_simulate'\n",
        "count    2036395.000000\n",
        "mean         464.029181\n",
        "std          257.787073\n",
        "min            2.974996\n",
        "25%          291.794104\n",
        "50%          391.432880\n",
        "75%          570.419308\n",
        "max        16659.839664\n",
        "dtype: float64"
       ]
      },
      {
       "output_type": "stream",
       "stream": "stdout",
       "text": [
        "\n",
        "Time to execute model = 30.533s"
       ]
      },
      {
       "output_type": "stream",
       "stream": "stdout",
       "text": [
        "\n",
        "Running model 'rrh_simulate'\n",
        "count    2036395.000000\n",
        "mean           3.146186\n",
        "std            0.596902\n",
        "min            0.443705\n",
        "25%            2.731012\n",
        "50%            3.098099\n",
        "75%            3.543575\n",
        "max           16.695470\n",
        "dtype: float64"
       ]
      },
      {
       "output_type": "stream",
       "stream": "stdout",
       "text": [
        "\n",
        "Time to execute model = 3.485s"
       ]
      },
      {
       "output_type": "stream",
       "stream": "stdout",
       "text": [
        "\n",
        "Running model 'nrh_simulate'\n",
        "count    274913.000000\n",
        "mean         27.565316\n",
        "std           7.454055\n",
        "min           0.401221\n",
        "25%          24.982895\n",
        "50%          28.439936\n",
        "75%          33.447866\n",
        "max          49.207605\n",
        "dtype: float64"
       ]
      },
      {
       "output_type": "stream",
       "stream": "stdout",
       "text": [
        "\n",
        "Time to execute model = 2.073s\n",
        "Running model 'households_relocation'\n",
        "Total agents: 10223788\n",
        "Total currently unplaced: 2932922"
       ]
      },
      {
       "output_type": "stream",
       "stream": "stdout",
       "text": [
        "\n",
        "Assinging for relocation...\n",
        "Total currently unplaced: 3296690"
       ]
      },
      {
       "output_type": "stream",
       "stream": "stdout",
       "text": [
        "\n",
        "Time to execute model = 7.303s\n",
        "Running model 'hlcmo_simulate'\n",
        "There are 7290341 total available units"
       ]
      },
      {
       "output_type": "stream",
       "stream": "stdout",
       "text": [
        "\n",
        "    and 10223788 total choosers\n",
        "    but there are 30 overfull buildings"
       ]
      },
      {
       "output_type": "stream",
       "stream": "stdout",
       "text": [
        "\n",
        "    for a total of 364108 temporarily empty units"
       ]
      },
      {
       "output_type": "stream",
       "stream": "stdout",
       "text": [
        "\n",
        "    in 228984 buildings total in the region\n",
        "WARNING: Not enough locations for movers"
       ]
      },
      {
       "output_type": "stream",
       "stream": "stdout",
       "text": [
        "\n",
        "    reducing locations to size of movers for performance gain\n",
        "Assigned 204644 choosers to new units"
       ]
      },
      {
       "output_type": "stream",
       "stream": "stdout",
       "text": [
        "\n",
        "Total currently unplaced: 3092046"
       ]
      },
      {
       "output_type": "stream",
       "stream": "stdout",
       "text": [
        "\n",
        "    and there are now 158838 empty units"
       ]
      },
      {
       "output_type": "stream",
       "stream": "stdout",
       "text": [
        "\n",
        "    and 30 overfull buildings"
       ]
      },
      {
       "output_type": "stream",
       "stream": "stdout",
       "text": [
        "\n",
        "Time to execute model = 17.124s\n",
        "Running model 'hlcmr_simulate'\n",
        "There are 7290341 total available units"
       ]
      },
      {
       "output_type": "stream",
       "stream": "stdout",
       "text": [
        "\n",
        "    and 10223788 total choosers\n",
        "    but there are 30 overfull buildings"
       ]
      },
      {
       "output_type": "stream",
       "stream": "stdout",
       "text": [
        "\n",
        "    for a total of 159464 temporarily empty units"
       ]
      },
      {
       "output_type": "stream",
       "stream": "stdout",
       "text": [
        "\n",
        "    in 123679 buildings total in the region\n",
        "WARNING: Not enough locations for movers"
       ]
      },
      {
       "output_type": "stream",
       "stream": "stdout",
       "text": [
        "\n",
        "    reducing locations to size of movers for performance gain\n",
        "Assigned 159138 choosers to new units"
       ]
      },
      {
       "output_type": "stream",
       "stream": "stdout",
       "text": [
        "\n",
        "Total currently unplaced: 2932908"
       ]
      },
      {
       "output_type": "stream",
       "stream": "stdout",
       "text": [
        "\n",
        "    and there are now -300 empty units"
       ]
      },
      {
       "output_type": "stream",
       "stream": "stdout",
       "text": [
        "\n",
        "    and 30 overfull buildings"
       ]
      },
      {
       "output_type": "stream",
       "stream": "stdout",
       "text": [
        "\n",
        "Time to execute model = 14.124s\n",
        "Running model 'households_transition'\n",
        "10223788 agents before transition"
       ]
      },
      {
       "output_type": "stream",
       "stream": "stdout",
       "text": [
        "\n",
        "10734977 agents after transition"
       ]
      },
      {
       "output_type": "stream",
       "stream": "stdout",
       "text": [
        "\n",
        "Time to execute model = 5.409s"
       ]
      },
      {
       "output_type": "stream",
       "stream": "stdout",
       "text": [
        "\n",
        "Running model 'jobs_relocation'\n",
        "Total agents: 16017033\n",
        "Total currently unplaced: 762716"
       ]
      },
      {
       "output_type": "stream",
       "stream": "stdout",
       "text": [
        "\n",
        "Assinging for relocation...\n",
        "Total currently unplaced: 1525581"
       ]
      },
      {
       "output_type": "stream",
       "stream": "stdout",
       "text": [
        "\n",
        "Time to execute model = 9.668s\n",
        "Running model 'elcm_simulate'\n",
        "There are 17812189 total available units"
       ]
      },
      {
       "output_type": "stream",
       "stream": "stdout",
       "text": [
        "\n",
        "    and 16017033 total choosers\n",
        "    but there are 0 overfull buildings"
       ]
      },
      {
       "output_type": "stream",
       "stream": "stdout",
       "text": [
        "\n",
        "    for a total of 3354273 temporarily empty units"
       ]
      },
      {
       "output_type": "stream",
       "stream": "stdout",
       "text": [
        "\n",
        "    in 376124 buildings total in the region\n",
        "Assigned 1525581 choosers to new units"
       ]
      },
      {
       "output_type": "stream",
       "stream": "stdout",
       "text": [
        "\n",
        "Total currently unplaced: 0"
       ]
      },
      {
       "output_type": "stream",
       "stream": "stdout",
       "text": [
        "\n",
        "    and there are now 1828692 empty units"
       ]
      },
      {
       "output_type": "stream",
       "stream": "stdout",
       "text": [
        "\n",
        "    and 0 overfull buildings"
       ]
      },
      {
       "output_type": "stream",
       "stream": "stdout",
       "text": [
        "\n",
        "Time to execute model = 135.025s"
       ]
      },
      {
       "output_type": "stream",
       "stream": "stdout",
       "text": [
        "\n",
        "Running model 'jobs_transition'\n",
        "16017033 agents before transition"
       ]
      },
      {
       "output_type": "stream",
       "stream": "stdout",
       "text": [
        "\n",
        "16817885 agents after transition"
       ]
      },
      {
       "output_type": "stream",
       "stream": "stdout",
       "text": [
        "\n",
        "Time to execute model = 13.817s"
       ]
      },
      {
       "output_type": "stream",
       "stream": "stdout",
       "text": [
        "\n",
        "Running model 'price_vars'\n",
        "Computing accessibility variables\n",
        "Computing residential\n",
        "Computing retail"
       ]
      },
      {
       "output_type": "stream",
       "stream": "stdout",
       "text": [
        "\n",
        "Computing office"
       ]
      },
      {
       "output_type": "stream",
       "stream": "stdout",
       "text": [
        "\n",
        "Computing industrial"
       ]
      },
      {
       "output_type": "stream",
       "stream": "stdout",
       "text": [
        "\n",
        "Time to execute model = 6.601s"
       ]
      },
      {
       "output_type": "stream",
       "stream": "stdout",
       "text": [
        "\n",
        "Running model 'feasibility'\n",
        "Describe of the yearly rent by use"
       ]
      },
      {
       "output_type": "stream",
       "stream": "stdout",
       "text": [
        "\n",
        "               retail      industrial          office     residential\n",
        "count  2023915.000000  2023915.000000  2023915.000000  2023915.000000\n",
        "mean        26.066966        9.749952       24.113294       19.382458\n",
        "std          6.886238        3.366754        5.411774       10.079499\n",
        "min          0.000000        0.000000        0.000000        0.000000\n",
        "25%         24.886812       10.234064       24.619839       13.584703\n",
        "50%         27.142469       10.800793       25.195229       17.706512\n",
        "75%         29.377886       11.205652       25.768221       22.359654\n",
        "max         47.137817       17.822683       43.329552       51.891327\n",
        "\n",
        "[8 rows x 4 columns]"
       ]
      },
      {
       "output_type": "stream",
       "stream": "stdout",
       "text": [
        "\n",
        "Computing feasibility for form mixedoffice\n",
        "Computing feasibility for form industrial"
       ]
      },
      {
       "output_type": "stream",
       "stream": "stdout",
       "text": [
        "\n",
        "Computing feasibility for form office"
       ]
      },
      {
       "output_type": "stream",
       "stream": "stdout",
       "text": [
        "\n",
        "Computing feasibility for form residential"
       ]
      },
      {
       "output_type": "stream",
       "stream": "stdout",
       "text": [
        "\n",
        "Computing feasibility for form mixedresidential"
       ]
      },
      {
       "output_type": "stream",
       "stream": "stdout",
       "text": [
        "\n",
        "Computing feasibility for form retail"
       ]
      },
      {
       "output_type": "stream",
       "stream": "stdout",
       "text": [
        "\n",
        "Time to execute model = 49.361s"
       ]
      },
      {
       "output_type": "stream",
       "stream": "stdout",
       "text": [
        "\n",
        "Running model 'residential_developer'\n",
        "Number of agents: 10,734,977"
       ]
      },
      {
       "output_type": "stream",
       "stream": "stdout",
       "text": [
        "\n",
        "Number of agent spaces: 7,290,341\n",
        "Current vacancy = -0.47\n",
        "Target vacancy = 0.08, target of new units = 4,378,112\n",
        "124,156 feasible buildings before running developer\n",
        "Sum of net units that are profitable: 38"
       ]
      },
      {
       "output_type": "stream",
       "stream": "stdout",
       "text": [
        "\n",
        "WARNING THERE WERE NOT ENOUGH PROFITABLE UNITS TO MATCH DEMAND\n",
        "Adding 6 buildings with 44 residential_units"
       ]
      },
      {
       "output_type": "stream",
       "stream": "stdout",
       "text": [
        "\n",
        "124,150 feasible buildings after running developer\n",
        "Time to execute model = 6.328s"
       ]
      },
      {
       "output_type": "stream",
       "stream": "stdout",
       "text": [
        "\n",
        "Running model 'non_residential_developer'\n",
        "Number of agents: 16,817,885"
       ]
      },
      {
       "output_type": "stream",
       "stream": "stdout",
       "text": [
        "\n",
        "Number of agent spaces: 17,812,189\n",
        "Current vacancy = 0.06\n",
        "Target vacancy = 0.08, target of new units = 468,120\n",
        "124,150 feasible buildings before running developer\n",
        "Sum of net units that are profitable: 488,543"
       ]
      },
      {
       "output_type": "stream",
       "stream": "stdout",
       "text": [
        "\n",
        "Adding 56,165 buildings with 665,867 job_spaces"
       ]
      },
      {
       "output_type": "stream",
       "stream": "stdout",
       "text": [
        "\n",
        "67,985 feasible buildings after running developer\n",
        "Time to execute model = 8.045s"
       ]
      },
      {
       "output_type": "stream",
       "stream": "stdout",
       "text": [
        "\n",
        "Running model 'clear_cache'\n",
        "Time to execute model = 0.019s\n",
        "Time to execute year = 637.300s\n",
        "Running year 2039\n",
        "Running model 'neighborhood_vars'\n",
        "Computing accessibility variables\n",
        "Computing sum_residential_units"
       ]
      },
      {
       "output_type": "stream",
       "stream": "stdout",
       "text": [
        "\n",
        "Computing sum_nonresidential_units"
       ]
      },
      {
       "output_type": "stream",
       "stream": "stdout",
       "text": [
        "\n",
        "Computing ave_unit_sqft"
       ]
      },
      {
       "output_type": "stream",
       "stream": "stdout",
       "text": [
        "\n",
        "Computing ave_lot_sqft"
       ]
      },
      {
       "output_type": "stream",
       "stream": "stdout",
       "text": [
        "\n",
        "Computing population"
       ]
      },
      {
       "output_type": "stream",
       "stream": "stdout",
       "text": [
        "\n",
        "Computing poor"
       ]
      },
      {
       "output_type": "stream",
       "stream": "stdout",
       "text": [
        "\n",
        "Computing renters"
       ]
      },
      {
       "output_type": "stream",
       "stream": "stdout",
       "text": [
        "\n",
        "Computing sfdu"
       ]
      },
      {
       "output_type": "stream",
       "stream": "stdout",
       "text": [
        "\n",
        "Computing hhsize"
       ]
      },
      {
       "output_type": "stream",
       "stream": "stdout",
       "text": [
        "\n",
        "Computing jobs"
       ]
      },
      {
       "output_type": "stream",
       "stream": "stdout",
       "text": [
        "\n",
        "Computing ave_income"
       ]
      },
      {
       "output_type": "stream",
       "stream": "stdout",
       "text": [
        "\n",
        "Time to execute model = 443.204s"
       ]
      },
      {
       "output_type": "stream",
       "stream": "stdout",
       "text": [
        "\n",
        "Running model 'rsh_simulate'\n",
        "count    2036401.000000\n",
        "mean         464.084195\n",
        "std          257.519450\n",
        "min            2.974996\n",
        "25%          292.037871\n",
        "50%          391.665125\n",
        "75%          570.430262\n",
        "max        16669.901744\n",
        "dtype: float64"
       ]
      },
      {
       "output_type": "stream",
       "stream": "stdout",
       "text": [
        "\n",
        "Time to execute model = 40.212s"
       ]
      },
      {
       "output_type": "stream",
       "stream": "stdout",
       "text": [
        "\n",
        "Running model 'rrh_simulate'\n",
        "count    2036401.000000\n",
        "mean           3.151707\n",
        "std            0.599624\n",
        "min            0.442574\n",
        "25%            2.734363\n",
        "50%            3.103248\n",
        "75%            3.557488\n",
        "max           16.697001\n",
        "dtype: float64"
       ]
      },
      {
       "output_type": "stream",
       "stream": "stdout",
       "text": [
        "\n",
        "Time to execute model = 3.994s"
       ]
      },
      {
       "output_type": "stream",
       "stream": "stdout",
       "text": [
        "\n",
        "Running model 'nrh_simulate'\n",
        "count    331078.000000\n",
        "mean         27.766618\n",
        "std           7.215917\n",
        "min           0.401221\n",
        "25%          24.924047\n",
        "50%          28.023938\n",
        "75%          33.762673\n",
        "max          49.237614\n",
        "dtype: float64"
       ]
      },
      {
       "output_type": "stream",
       "stream": "stdout",
       "text": [
        "\n",
        "Time to execute model = 2.691s"
       ]
      },
      {
       "output_type": "stream",
       "stream": "stdout",
       "text": [
        "\n",
        "Running model 'households_relocation'\n",
        "Total agents: 10734977\n",
        "Total currently unplaced: 3444097"
       ]
      },
      {
       "output_type": "stream",
       "stream": "stdout",
       "text": [
        "\n",
        "Assinging for relocation...\n",
        "Total currently unplaced: 3808257"
       ]
      },
      {
       "output_type": "stream",
       "stream": "stdout",
       "text": [
        "\n",
        "Time to execute model = 9.361s\n",
        "Running model 'hlcmo_simulate'\n",
        "There are 7290385 total available units"
       ]
      },
      {
       "output_type": "stream",
       "stream": "stdout",
       "text": [
        "\n",
        "    and 10734977 total choosers\n",
        "    but there are 26 overfull buildings"
       ]
      },
      {
       "output_type": "stream",
       "stream": "stdout",
       "text": [
        "\n",
        "    for a total of 364454 temporarily empty units"
       ]
      },
      {
       "output_type": "stream",
       "stream": "stdout",
       "text": [
        "\n",
        "    in 228835 buildings total in the region\n",
        "WARNING: Not enough locations for movers"
       ]
      },
      {
       "output_type": "stream",
       "stream": "stdout",
       "text": [
        "\n",
        "    reducing locations to size of movers for performance gain\n",
        "Assigned 204664 choosers to new units"
       ]
      },
      {
       "output_type": "stream",
       "stream": "stdout",
       "text": [
        "\n",
        "Total currently unplaced: 3603593"
       ]
      },
      {
       "output_type": "stream",
       "stream": "stdout",
       "text": [
        "\n",
        "    and there are now 159228 empty units"
       ]
      },
      {
       "output_type": "stream",
       "stream": "stdout",
       "text": [
        "\n",
        "    and 26 overfull buildings"
       ]
      },
      {
       "output_type": "stream",
       "stream": "stdout",
       "text": [
        "\n",
        "Time to execute model = 22.806s\n",
        "Running model 'hlcmr_simulate'\n",
        "There are 7290385 total available units"
       ]
      },
      {
       "output_type": "stream",
       "stream": "stdout",
       "text": [
        "\n",
        "    and 10734977 total choosers\n",
        "    but there are 26 overfull buildings"
       ]
      },
      {
       "output_type": "stream",
       "stream": "stdout",
       "text": [
        "\n",
        "    for a total of 159790 temporarily empty units"
       ]
      },
      {
       "output_type": "stream",
       "stream": "stdout",
       "text": [
        "\n",
        "    in 124149 buildings total in the region\n",
        "WARNING: Not enough locations for movers"
       ]
      },
      {
       "output_type": "stream",
       "stream": "stdout",
       "text": [
        "\n",
        "    reducing locations to size of movers for performance gain\n",
        "Assigned 159457 choosers to new units"
       ]
      },
      {
       "output_type": "stream",
       "stream": "stdout",
       "text": [
        "\n",
        "Total currently unplaced: 3444136"
       ]
      },
      {
       "output_type": "stream",
       "stream": "stdout",
       "text": [
        "\n",
        "    and there are now -229 empty units"
       ]
      },
      {
       "output_type": "stream",
       "stream": "stdout",
       "text": [
        "\n",
        "    and 26 overfull buildings"
       ]
      },
      {
       "output_type": "stream",
       "stream": "stdout",
       "text": [
        "\n",
        "Time to execute model = 24.782s\n",
        "Running model 'households_transition'\n",
        "10734977 agents before transition"
       ]
      },
      {
       "output_type": "stream",
       "stream": "stdout",
       "text": [
        "\n",
        "11271726 agents after transition"
       ]
      },
      {
       "output_type": "stream",
       "stream": "stdout",
       "text": [
        "\n",
        "Time to execute model = 7.143s"
       ]
      },
      {
       "output_type": "stream",
       "stream": "stdout",
       "text": [
        "\n",
        "Running model 'jobs_relocation'\n",
        "Total agents: 16817885\n",
        "Total currently unplaced: 800852"
       ]
      },
      {
       "output_type": "stream",
       "stream": "stdout",
       "text": [
        "\n",
        "Assinging for relocation...\n",
        "Total currently unplaced: 1601463"
       ]
      },
      {
       "output_type": "stream",
       "stream": "stdout",
       "text": [
        "\n",
        "Time to execute model = 14.178s\n",
        "Running model 'elcm_simulate'\n",
        "There are 18383052 total available units"
       ]
      },
      {
       "output_type": "stream",
       "stream": "stdout",
       "text": [
        "\n",
        "    and 16817885 total choosers\n",
        "    but there are 0 overfull buildings"
       ]
      },
      {
       "output_type": "stream",
       "stream": "stdout",
       "text": [
        "\n",
        "    for a total of 3198542 temporarily empty units"
       ]
      },
      {
       "output_type": "stream",
       "stream": "stdout",
       "text": [
        "\n",
        "    in 429922 buildings total in the region\n",
        "Assigned 1601463 choosers to new units"
       ]
      },
      {
       "output_type": "stream",
       "stream": "stdout",
       "text": [
        "\n",
        "Total currently unplaced: 0"
       ]
      },
      {
       "output_type": "stream",
       "stream": "stdout",
       "text": [
        "\n",
        "    and there are now 1597079 empty units"
       ]
      },
      {
       "output_type": "stream",
       "stream": "stdout",
       "text": [
        "\n",
        "    and 0 overfull buildings"
       ]
      },
      {
       "output_type": "stream",
       "stream": "stdout",
       "text": [
        "\n",
        "Time to execute model = 155.987s\n",
        "Running model 'jobs_transition'\n",
        "16817885 agents before transition"
       ]
      },
      {
       "output_type": "stream",
       "stream": "stdout",
       "text": [
        "\n",
        "17658779 agents after transition"
       ]
      },
      {
       "output_type": "stream",
       "stream": "stdout",
       "text": [
        "\n",
        "Time to execute model = 14.531s"
       ]
      },
      {
       "output_type": "stream",
       "stream": "stdout",
       "text": [
        "\n",
        "Running model 'price_vars'\n",
        "Computing accessibility variables\n",
        "Computing residential\n",
        "Computing retail"
       ]
      },
      {
       "output_type": "stream",
       "stream": "stdout",
       "text": [
        "\n",
        "Computing office"
       ]
      },
      {
       "output_type": "stream",
       "stream": "stdout",
       "text": [
        "\n",
        "Computing industrial"
       ]
      },
      {
       "output_type": "stream",
       "stream": "stdout",
       "text": [
        "\n",
        "Time to execute model = 5.785s"
       ]
      },
      {
       "output_type": "stream",
       "stream": "stdout",
       "text": [
        "\n",
        "Running model 'feasibility'\n",
        "Describe of the yearly rent by use"
       ]
      },
      {
       "output_type": "stream",
       "stream": "stdout",
       "text": [
        "\n",
        "               retail      industrial          office     residential\n",
        "count  2023915.000000  2023915.000000  2023915.000000  2023915.000000\n",
        "mean        26.067324        9.756931       24.125384       19.086229\n",
        "std          6.908431        3.367777        5.416345       10.080860\n",
        "min          0.000000        0.000000        0.000000        0.000000\n",
        "25%         24.832729       10.235676       24.622915       13.360104\n",
        "50%         27.107721       10.805317       25.204300       17.445715\n",
        "75%         29.396370       11.213874       25.784061       21.647023\n",
        "max         47.286007       17.823483       43.331383       51.852478\n",
        "\n",
        "[8 rows x 4 columns]"
       ]
      },
      {
       "output_type": "stream",
       "stream": "stdout",
       "text": [
        "\n",
        "Computing feasibility for form mixedoffice\n",
        "Computing feasibility for form industrial"
       ]
      },
      {
       "output_type": "stream",
       "stream": "stdout",
       "text": [
        "\n",
        "Computing feasibility for form office"
       ]
      },
      {
       "output_type": "stream",
       "stream": "stdout",
       "text": [
        "\n",
        "Computing feasibility for form residential"
       ]
      },
      {
       "output_type": "stream",
       "stream": "stdout",
       "text": [
        "\n",
        "Computing feasibility for form mixedresidential"
       ]
      },
      {
       "output_type": "stream",
       "stream": "stdout",
       "text": [
        "\n",
        "Computing feasibility for form retail"
       ]
      },
      {
       "output_type": "stream",
       "stream": "stdout",
       "text": [
        "\n",
        "Time to execute model = 48.063s"
       ]
      },
      {
       "output_type": "stream",
       "stream": "stdout",
       "text": [
        "\n",
        "Running model 'residential_developer'\n",
        "Number of agents: 11,271,726"
       ]
      },
      {
       "output_type": "stream",
       "stream": "stdout",
       "text": [
        "\n",
        "Number of agent spaces: 7,290,385\n",
        "Current vacancy = -0.55\n",
        "Target vacancy = 0.08, target of new units = 4,961,491\n",
        "96,360 feasible buildings before running developer\n",
        "Sum of net units that are profitable: 27"
       ]
      },
      {
       "output_type": "stream",
       "stream": "stdout",
       "text": [
        "\n",
        "WARNING THERE WERE NOT ENOUGH PROFITABLE UNITS TO MATCH DEMAND\n",
        "Adding 3 buildings with 30 residential_units"
       ]
      },
      {
       "output_type": "stream",
       "stream": "stdout",
       "text": [
        "\n",
        "96,357 feasible buildings after running developer\n",
        "Time to execute model = 6.307s"
       ]
      },
      {
       "output_type": "stream",
       "stream": "stdout",
       "text": [
        "\n",
        "Running model 'non_residential_developer'\n",
        "Number of agents: 17,658,779"
       ]
      },
      {
       "output_type": "stream",
       "stream": "stdout",
       "text": [
        "\n",
        "Number of agent spaces: 18,383,052\n",
        "Current vacancy = 0.04\n",
        "Target vacancy = 0.08, target of new units = 811,273\n",
        "96,357 feasible buildings before running developer\n",
        "Sum of net units that are profitable: 153,751"
       ]
      },
      {
       "output_type": "stream",
       "stream": "stdout",
       "text": [
        "\n",
        "WARNING THERE WERE NOT ENOUGH PROFITABLE UNITS TO MATCH DEMAND\n",
        "Adding 22,238 buildings with 229,424 job_spaces"
       ]
      },
      {
       "output_type": "stream",
       "stream": "stdout",
       "text": [
        "\n",
        "74,119 feasible buildings after running developer\n",
        "Time to execute model = 7.188s"
       ]
      },
      {
       "output_type": "stream",
       "stream": "stdout",
       "text": [
        "\n",
        "Running model 'clear_cache'\n",
        "Time to execute model = 0.018s\n",
        "Time to execute year = 806.256s\n",
        "Finished"
       ]
      },
      {
       "output_type": "stream",
       "stream": "stdout",
       "text": [
        " Tue Aug  5 22:39:21 2014\n"
       ]
      },
      {
       "output_type": "stream",
       "stream": "stderr",
       "text": [
        "utils.py:82: SettingWithCopyWarning: A value is trying to be set on a copy of a slice from a DataFrame.\n",
        "Try using .loc[row_index,col_indexer] = value instead\n",
        "  df[fname] = df[fname].fillna(val).astype(dtyp)\n"
       ]
      }
     ],
     "prompt_number": 3
    },
    {
     "cell_type": "code",
     "collapsed": false,
     "input": [],
     "language": "python",
     "metadata": {},
     "outputs": [],
     "prompt_number": 3
    }
   ],
   "metadata": {}
  }
 ]
}