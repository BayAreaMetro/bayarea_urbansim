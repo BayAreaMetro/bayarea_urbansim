{
 "cells": [
  {
   "cell_type": "code",
   "execution_count": 1,
   "metadata": {},
   "outputs": [],
   "source": [
    "import geopandas as gpd \n",
    "import pandas as pd\n",
    "import numpy as np \n",
    "import fiona\n",
    "import os"
   ]
  },
  {
   "cell_type": "code",
   "execution_count": 3,
   "metadata": {},
   "outputs": [
    {
     "name": "stdout",
     "output_type": "stream",
     "text": [
      "{'init': 'epsg:26910'}\n"
     ]
    }
   ],
   "source": [
    "# get parcels geogrpahy\n",
    "file_dir = r'C:\\Users\\{}\\Box\\Modeling and Surveys\\Urban Modeling\\Bay Area UrbanSim\\p10 Datasets for PBA2050plus'.format(os.getenv('USERNAME'))\n",
    "pg = gpd.read_file(os.path.join(file_dir, 'parcels_geography_2024_02_14.shp'))\n",
    "\n",
    "print(pg.crs)"
   ]
  },
  {
   "cell_type": "code",
   "execution_count": 4,
   "metadata": {},
   "outputs": [],
   "source": [
    "pg.loc[((pg.gg_id == 'GG') & (pg.tra_id == 'TRA1') & (pg.hra_id == 'HRA')), \"inclusionary_cat\"] = 'GG + TRA1 + HRA'\n",
    "pg.loc[((pg.gg_id == 'GG') & (pg.tra_id == 'TRA2') & (pg.hra_id == 'HRA')), \"inclusionary_cat\"] = 'GG + TRA2 + HRA'\n",
    "pg.loc[((pg.gg_id == 'GG') & (pg.tra_id == 'TRA3') & (pg.hra_id == 'HRA')), \"inclusionary_cat\"] = 'GG + TRA3 + HRA'\n",
    "\n",
    "pg.loc[((pg.gg_id == 'GG') & (pg.tra_id == 'TRA1') & (pg.hra_id != 'HRA')), \"inclusionary_cat\"] = 'GG + TRA1 + non-HRA'\n",
    "pg.loc[((pg.gg_id == 'GG') & (pg.tra_id == 'TRA2') & (pg.hra_id != 'HRA')), \"inclusionary_cat\"] = 'GG + TRA2 + non-HRA'\n",
    "pg.loc[((pg.gg_id == 'GG') & (pg.tra_id.isnull()) & (pg.hra_id == 'HRA')), \"inclusionary_cat\"] = 'GG + non-TRA + HRA'\n",
    "\n",
    "pg.loc[((pg.gg_id == 'GG') & (pg.tra_id == 'TRA3') & (pg.hra_id != 'HRA')), \"inclusionary_cat\"] = 'GG + TRA3 + non-HRA'\n",
    "pg.loc[((pg.gg_id == 'GG') & (pg.tra_id.isnull()) & (pg.hra_id != 'HRA')), \"inclusionary_cat\"] = 'GG + non-TRA + non-HRA'\n",
    "pg.loc[(pg.gg_id != 'GG'), \"inclusionary_cat\"] = 'non-GG'"
   ]
  },
  {
   "cell_type": "code",
   "execution_count": 5,
   "metadata": {},
   "outputs": [],
   "source": [
    "pg.loc[((pg.gg_id == 'GG') & (pg.tra_id == 'TRA1') & (pg.hra_id == 'HRA') & (pg.exd_id == 'exd')), \"zoning_cat\"] = 'GG + TRA1 + HRA + RD'\n",
    "pg.loc[((pg.gg_id == 'GG') & (pg.tra_id == 'TRA1') & (pg.hra_id == 'HRA') & (pg.exd_id != 'exd')), \"zoning_cat\"] = 'GG + TRA1 + HRA + non-RD'\n",
    "pg.loc[((pg.gg_id == 'GG') & (pg.tra_id == 'TRA1') & (pg.hra_id != 'HRA') & (pg.exd_id == 'exd')), \"zoning_cat\"] = 'GG + TRA1 + RD'\n",
    "pg.loc[((pg.gg_id == 'GG') & (pg.tra_id == 'TRA1') & (pg.hra_id != 'HRA') & (pg.exd_id != 'exd')), \"zoning_cat\"] = 'GG + TRA1 + non-RD'\n",
    "pg.loc[((pg.gg_id == 'GG') & (pg.tra_id == 'TRA2') & (pg.hra_id == 'HRA') & (pg.exd_id == 'exd')), \"zoning_cat\"] = 'GG + TRA2 + HRA + RD'\n",
    "pg.loc[((pg.gg_id == 'GG') & (pg.tra_id == 'TRA2') & (pg.hra_id == 'HRA') & (pg.exd_id != 'exd')), \"zoning_cat\"] = 'GG + TRA2 + HRA + non-RD'\n",
    "pg.loc[((pg.gg_id == 'GG') & (pg.tra_id == 'TRA2') & (pg.hra_id != 'HRA') & (pg.exd_id == 'exd')), \"zoning_cat\"] = 'GG + TRA2 + RD'\n",
    "pg.loc[((pg.gg_id == 'GG') & (pg.tra_id == 'TRA2') & (pg.hra_id != 'HRA') & (pg.exd_id != 'exd')), \"zoning_cat\"] = 'GG + TRA2 + non-RD'\n",
    "pg.loc[((pg.gg_id == 'GG') & (pg.tra_id == 'TRA3') & (pg.hra_id == 'HRA') & (pg.exd_id == 'exd')), \"zoning_cat\"] = 'GG + TRA3 + HRA + RD'\n",
    "pg.loc[((pg.gg_id == 'GG') & (pg.tra_id == 'TRA3') & (pg.hra_id == 'HRA') & (pg.exd_id != 'exd')), \"zoning_cat\"] = 'GG + TRA3 + HRA + non-RD'\n",
    "pg.loc[((pg.gg_id == 'GG') & (pg.tra_id == 'TRA3') & (pg.hra_id != 'HRA') & (pg.exd_id == 'exd')), \"zoning_cat\"] = 'GG + TRA3 + RD'\n",
    "pg.loc[((pg.gg_id == 'GG') & (pg.tra_id == 'TRA3') & (pg.hra_id != 'HRA') & (pg.exd_id != 'exd')), \"zoning_cat\"] = 'GG + TRA3 + non-RD'\n",
    "pg.loc[((pg.gg_id == 'GG') & (pg.tra_id.isnull()) & (pg.hra_id == 'HRA') & (pg.exd_id == 'exd')), \"zoning_cat\"] = 'GG + HRA + RD'\n",
    "pg.loc[((pg.gg_id == 'GG') & (pg.tra_id.isnull()) & (pg.hra_id == 'HRA') & (pg.exd_id != 'exd')), \"zoning_cat\"] = 'GG + HRA + non-RD'\n",
    "pg.loc[((pg.gg_id == 'GG') & (pg.tra_id.isnull()) & (pg.hra_id.isnull()) & (pg.exd_id == 'exd')), \"zoning_cat\"] = 'GG + RD'\n",
    "pg.loc[((pg.gg_id == 'GG') & (pg.tra_id.isnull()) & (pg.hra_id.isnull()) & (pg.exd_id != 'exd')), \"zoning_cat\"] = 'GG + non-RD'\n"
   ]
  },
  {
   "cell_type": "code",
   "execution_count": 6,
   "metadata": {},
   "outputs": [
    {
     "data": {
      "text/plain": [
       "NA     1948459\n",
       "PPA       7749\n",
       "Name: ppa_id, dtype: int64"
      ]
     },
     "execution_count": 6,
     "metadata": {},
     "output_type": "execute_result"
    }
   ],
   "source": [
    "pg.ppa_id.value_counts()"
   ]
  },
  {
   "cell_type": "code",
   "execution_count": 7,
   "metadata": {},
   "outputs": [
    {
     "data": {
      "text/plain": [
       "UGB          1669191\n",
       "Uninc UGB     167059\n",
       "Name: ugb_id, dtype: int64"
      ]
     },
     "execution_count": 7,
     "metadata": {},
     "output_type": "execute_result"
    }
   ],
   "source": [
    "pg.ugb_id.value_counts()"
   ]
  },
  {
   "cell_type": "code",
   "execution_count": 8,
   "metadata": {},
   "outputs": [],
   "source": [
    "# get parcel to county lookup\n",
    "counties = pd.read_csv(os.path.join(file_dir, '2020_08_17_parcel_to_taz1454sub.csv'))"
   ]
  },
  {
   "cell_type": "code",
   "execution_count": 9,
   "metadata": {},
   "outputs": [
    {
     "name": "stdout",
     "output_type": "stream",
     "text": [
      "1956208\n",
      "1956208\n"
     ]
    }
   ],
   "source": [
    "print(len(pg))\n",
    "print(len(counties))\n",
    "pg = pg.merge(counties[['PARCEL_ID', 'county']], on='PARCEL_ID')"
   ]
  },
  {
   "cell_type": "code",
   "execution_count": 10,
   "metadata": {},
   "outputs": [],
   "source": [
    "pg.loc[(pg.county == 'ala') & (pg.gg_id == 'GG') & (pg.dis_id == 'DIS') & (pg.tra_id.notnull()), 'pres_cat'] = 'Alameda GG + DIS + TRA'\n",
    "pg.loc[(pg.county == 'ala') & (pg.gg_id == 'GG') & (pg.dis_id == 'DIS') & (pg.tra_id.isnull()), 'pres_cat'] = 'Alameda GG + DIS'\n",
    "pg.loc[(pg.county == 'ala') & (pg.gg_id == 'GG') & (pg.dis_id != 'DIS') & (pg.tra_id.notnull()), 'pres_cat'] = 'Alameda GG + TRA'\n",
    "pg.loc[(pg.county == 'ala') & (pg.gg_id == 'GG') & (pg.dis_id.isnull()) & (pg.tra_id.isnull()), 'pres_cat'] = 'Alameda GG'\n",
    "\n",
    "pg.loc[(pg.county == 'cnc') & (pg.gg_id == 'GG') & (pg.dis_id == 'DIS') & (pg.tra_id.notnull()), 'pres_cat'] = 'Contra Costa GG + DIS + TRA'\n",
    "pg.loc[(pg.county == 'cnc') & (pg.gg_id == 'GG') & (pg.dis_id == 'DIS') & (pg.tra_id.isnull()), 'pres_cat'] = 'Contra Costa GG + DIS'\n",
    "pg.loc[(pg.county == 'cnc') & (pg.gg_id == 'GG') & (pg.dis_id != 'DIS') & (pg.tra_id.notnull()), 'pres_cat'] = 'Contra Costa GG + TRA'\n",
    "pg.loc[(pg.county == 'cnc') & (pg.gg_id == 'GG') & (pg.dis_id.isnull()) & (pg.tra_id.isnull()), 'pres_cat'] = 'Contra Costa GG'\n",
    "\n",
    "pg.loc[(pg.county == 'mar') & (pg.gg_id == 'GG') & (pg.dis_id == 'DIS') & (pg.tra_id.notnull()), 'pres_cat'] = 'Marin GG + DIS + TRA'\n",
    "pg.loc[(pg.county == 'mar') & (pg.gg_id == 'GG') & (pg.dis_id == 'DIS') & (pg.tra_id.isnull()), 'pres_cat'] = 'Marin GG + DIS'\n",
    "pg.loc[(pg.county == 'mar') & (pg.gg_id == 'GG') & (pg.dis_id != 'DIS') & (pg.tra_id.notnull()), 'pres_cat'] = 'Marin GG + TRA'\n",
    "pg.loc[(pg.county == 'mar') & (pg.gg_id == 'GG') & (pg.dis_id.isnull()) & (pg.tra_id.isnull()), 'pres_cat'] = 'Marin GG'\n",
    "\n",
    "pg.loc[(pg.county == 'nap') & (pg.gg_id == 'GG') & (pg.dis_id == 'DIS') & (pg.tra_id.notnull()), 'pres_cat'] = 'Napa GG + DIS + TRA'\n",
    "pg.loc[(pg.county == 'nap') & (pg.gg_id == 'GG') & (pg.dis_id == 'DIS') & (pg.tra_id.isnull()), 'pres_cat'] = 'Napa GG + DIS'\n",
    "pg.loc[(pg.county == 'nap') & (pg.gg_id == 'GG') & (pg.dis_id != 'DIS') & (pg.tra_id.notnull()), 'pres_cat'] = 'Napa GG + TRA'\n",
    "pg.loc[(pg.county == 'nap') & (pg.gg_id == 'GG') & (pg.dis_id.isnull()) & (pg.tra_id.isnull()), 'pres_cat'] = 'Napa GG'\n",
    "\n",
    "pg.loc[(pg.county == 'sfr') & (pg.gg_id == 'GG') & (pg.dis_id == 'DIS') & (pg.tra_id.notnull()), 'pres_cat'] = 'San Francisco GG + DIS + TRA'\n",
    "pg.loc[(pg.county == 'sfr') & (pg.gg_id == 'GG') & (pg.dis_id == 'DIS') & (pg.tra_id.isnull()), 'pres_cat'] = 'San Francisco GG + DIS'\n",
    "pg.loc[(pg.county == 'sfr') & (pg.gg_id == 'GG') & (pg.dis_id != 'DIS') & (pg.tra_id.notnull()), 'pres_cat'] = 'San Francisco GG + TRA'\n",
    "pg.loc[(pg.county == 'sfr') & (pg.gg_id == 'GG') & (pg.dis_id.isnull()) & (pg.tra_id.isnull()), 'pres_cat'] = 'San Francisco GG'\n",
    "\n",
    "pg.loc[(pg.county == 'smt') & (pg.gg_id == 'GG') & (pg.dis_id == 'DIS') & (pg.tra_id.notnull()), 'pres_cat'] = 'San Mateo GG + DIS + TRA'\n",
    "pg.loc[(pg.county == 'smt') & (pg.gg_id == 'GG') & (pg.dis_id == 'DIS') & (pg.tra_id.isnull()), 'pres_cat'] = 'San Mateo GG + DIS'\n",
    "pg.loc[(pg.county == 'smt') & (pg.gg_id == 'GG') & (pg.dis_id != 'DIS') & (pg.tra_id.notnull()), 'pres_cat'] = 'San Mateo GG + TRA'\n",
    "pg.loc[(pg.county == 'smt') & (pg.gg_id == 'GG') & (pg.dis_id.isnull()) & (pg.tra_id.isnull()), 'pres_cat'] = 'San Mateo GG'\n",
    "\n",
    "pg.loc[(pg.county == 'scl') & (pg.gg_id == 'GG') & (pg.dis_id == 'DIS') & (pg.tra_id.notnull()), 'pres_cat'] = 'Santa Clara GG + DIS + TRA'\n",
    "pg.loc[(pg.county == 'scl') & (pg.gg_id == 'GG') & (pg.dis_id == 'DIS') & (pg.tra_id.isnull()), 'pres_cat'] = 'Santa Clara GG + DIS'\n",
    "pg.loc[(pg.county == 'scl') & (pg.gg_id == 'GG') & (pg.dis_id != 'DIS') & (pg.tra_id.notnull()), 'pres_cat'] = 'Santa Clara GG + TRA'\n",
    "pg.loc[(pg.county == 'scl') & (pg.gg_id == 'GG') & (pg.dis_id.isnull()) & (pg.tra_id.isnull()), 'pres_cat'] = 'Santa Clara GG'\n",
    "\n",
    "pg.loc[(pg.county == 'sol') & (pg.gg_id == 'GG') & (pg.dis_id == 'DIS') & (pg.tra_id.notnull()), 'pres_cat'] = 'Solano GG + DIS + TRA'\n",
    "pg.loc[(pg.county == 'sol') & (pg.gg_id == 'GG') & (pg.dis_id == 'DIS') & (pg.tra_id.isnull()), 'pres_cat'] = 'Solano GG + DIS'\n",
    "pg.loc[(pg.county == 'sol') & (pg.gg_id == 'GG') & (pg.dis_id != 'DIS') & (pg.tra_id.notnull()), 'pres_cat'] = 'Solano GG + TRA'\n",
    "pg.loc[(pg.county == 'sol') & (pg.gg_id == 'GG') & (pg.dis_id.isnull()) & (pg.tra_id.isnull()), 'pres_cat'] = 'Solano GG'\n",
    "\n",
    "pg.loc[(pg.county == 'son') & (pg.gg_id == 'GG') & (pg.dis_id == 'DIS') & (pg.tra_id.notnull()), 'pres_cat'] = 'Sonoma GG + DIS + TRA'\n",
    "pg.loc[(pg.county == 'son') & (pg.gg_id == 'GG') & (pg.dis_id == 'DIS') & (pg.tra_id.isnull()), 'pres_cat'] = 'Sonoma GG + DIS'\n",
    "pg.loc[(pg.county == 'son') & (pg.gg_id == 'GG') & (pg.dis_id != 'DIS') & (pg.tra_id.notnull()), 'pres_cat'] = 'Sonoma GG + TRA'\n",
    "pg.loc[(pg.county == 'son') & (pg.gg_id == 'GG') & (pg.dis_id.isnull()) & (pg.tra_id.isnull()), 'pres_cat'] = 'Sonoma GG'"
   ]
  },
  {
   "cell_type": "code",
   "execution_count": 11,
   "metadata": {},
   "outputs": [],
   "source": [
    "pg.to_file(os.path.join(file_dir, 'parcels_geography_2024_02_14_forvisualizer.shp'))"
   ]
  },
  {
   "cell_type": "code",
   "execution_count": 25,
   "metadata": {},
   "outputs": [
    {
     "name": "stdout",
     "output_type": "stream",
     "text": [
      "{'init': 'epsg:26910'}\n",
      "PARCEL_ID            float64\n",
      "geom_id                int64\n",
      "jurisdicti             int64\n",
      "juris                 object\n",
      "ACRES                float64\n",
      "tpp_id                object\n",
      "opp_id                object\n",
      "perffoot               int64\n",
      "perfarea               int64\n",
      "urbanized              int64\n",
      "exp2020_id            object\n",
      "exsfd_id              object\n",
      "dis_id                object\n",
      "nodev                float64\n",
      "tra_id                object\n",
      "gg_id                 object\n",
      "pda_id                object\n",
      "hra_id                object\n",
      "epc_id                object\n",
      "ugb_id                object\n",
      "ppa_50plus            object\n",
      "ppa_id                object\n",
      "exd_id                object\n",
      "geometry            geometry\n",
      "inclusionary_cat      object\n",
      "zoning_cat            object\n",
      "county                object\n",
      "pres_cat              object\n",
      "dtype: object\n"
     ]
    }
   ],
   "source": [
    "print(pg.crs)\n",
    "print(pg.dtypes)"
   ]
  },
  {
   "cell_type": "code",
   "execution_count": null,
   "metadata": {},
   "outputs": [],
   "source": []
  }
 ],
 "metadata": {
  "kernelspec": {
   "display_name": "geo_env",
   "language": "python",
   "name": "python3"
  },
  "language_info": {
   "codemirror_mode": {
    "name": "ipython",
    "version": 3
   },
   "file_extension": ".py",
   "mimetype": "text/x-python",
   "name": "python",
   "nbconvert_exporter": "python",
   "pygments_lexer": "ipython3",
   "version": "3.6.15"
  }
 },
 "nbformat": 4,
 "nbformat_minor": 2
}
