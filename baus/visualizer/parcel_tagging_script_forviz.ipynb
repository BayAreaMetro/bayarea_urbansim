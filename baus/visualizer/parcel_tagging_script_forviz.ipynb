{
 "cells": [
  {
   "cell_type": "code",
   "execution_count": 44,
   "metadata": {},
   "outputs": [],
   "source": [
    "import geopandas as gpd \n",
    "import pandas as pd\n",
    "import numpy as np \n",
    "import fiona\n",
    "import os"
   ]
  },
  {
   "cell_type": "code",
   "execution_count": 45,
   "metadata": {},
   "outputs": [
    {
     "name": "stdout",
     "output_type": "stream",
     "text": [
      "{'init': 'epsg:26910'}\n"
     ]
    }
   ],
   "source": [
    "# get parcels geogrpahy\n",
    "pg = gpd.read_file(os.path.join(file_dir, 'parcels_geography_2024_02_14.shp'))\n",
    "\n",
    "print(pg.crs)"
   ]
  },
  {
   "cell_type": "code",
   "execution_count": 47,
   "metadata": {},
   "outputs": [],
   "source": [
    "pg.loc[((pg.gg_id == 'GG') & (pg.tra_id == 'TRA1') & (pg.hra_id == 'HRA') & (pg.exd_id == 'exd')), \"zoning_cat\"] = 'GG + TRA1 + HRA + RD'\n",
    "pg.loc[((pg.gg_id == 'GG') & (pg.tra_id == 'TRA1') & (pg.hra_id == 'HRA') & (pg.exd_id != 'exd')), \"zoning_cat\"] = 'GG + TRA1 + HRA + non-RD'\n",
    "pg.loc[((pg.gg_id == 'GG') & (pg.tra_id == 'TRA1') & (pg.hra_id != 'HRA') & (pg.exd_id == 'exd')), \"zoning_cat\"] = 'GG + TRA1 + RD'\n",
    "pg.loc[((pg.gg_id == 'GG') & (pg.tra_id == 'TRA1') & (pg.hra_id != 'HRA') & (pg.exd_id != 'exd')), \"zoning_cat\"] = 'GG + TRA1 + non-RD'\n",
    "pg.loc[((pg.gg_id == 'GG') & (pg.tra_id == 'TRA2') & (pg.hra_id == 'HRA') & (pg.exd_id == 'exd')), \"zoning_cat\"] = 'GG + TRA2 + HRA + RD'\n",
    "pg.loc[((pg.gg_id == 'GG') & (pg.tra_id == 'TRA2') & (pg.hra_id == 'HRA') & (pg.exd_id != 'exd')), \"zoning_cat\"] = 'GG + TRA2 + HRA + non-RD'\n",
    "pg.loc[((pg.gg_id == 'GG') & (pg.tra_id == 'TRA2') & (pg.hra_id != 'HRA') & (pg.exd_id == 'exd')), \"zoning_cat\"] = 'GG + TRA2 + RD'\n",
    "pg.loc[((pg.gg_id == 'GG') & (pg.tra_id == 'TRA2') & (pg.hra_id != 'HRA') & (pg.exd_id != 'exd')), \"zoning_cat\"] = 'GG + TRA2 + non-RD'\n",
    "pg.loc[((pg.gg_id == 'GG') & (pg.tra_id == 'TRA3') & (pg.hra_id == 'HRA') & (pg.exd_id == 'exd')), \"zoning_cat\"] = 'GG + TRA3 + HRA + RD'\n",
    "pg.loc[((pg.gg_id == 'GG') & (pg.tra_id == 'TRA3') & (pg.hra_id == 'HRA') & (pg.exd_id != 'exd')), \"zoning_cat\"] = 'GG + TRA3 + HRA + non-RD'\n",
    "pg.loc[((pg.gg_id == 'GG') & (pg.tra_id == 'TRA3') & (pg.hra_id != 'HRA') & (pg.exd_id == 'exd')), \"zoning_cat\"] = 'GG + TRA3 + RD'\n",
    "pg.loc[((pg.gg_id == 'GG') & (pg.tra_id == 'TRA3') & (pg.hra_id != 'HRA') & (pg.exd_id != 'exd')), \"zoning_cat\"] = 'GG + TRA3 + non-RD'\n",
    "pg.loc[((pg.gg_id == 'GG') & (pg.tra_id.isnull()) & (pg.hra_id == 'HRA') & (pg.exd_id == 'exd')), \"zoning_cat\"] = 'GG + HRA + RD'\n",
    "pg.loc[((pg.gg_id == 'GG') & (pg.tra_id.isnull()) & (pg.hra_id == 'HRA') & (pg.exd_id != 'exd')), \"zoning_cat\"] = 'GG + HRA + non-RD'\n",
    "pg.loc[((pg.gg_id == 'GG') & (pg.tra_id.isnull()) & (pg.hra_id.isnull()) & (pg.exd_id == 'exd')), \"zoning_cat\"] = 'GG + RD'\n",
    "pg.loc[((pg.gg_id == 'GG') & (pg.tra_id.isnull()) & (pg.hra_id.isnull()) & (pg.exd_id != 'exd')), \"zoning_cat\"] = 'GG + non-RD'\n"
   ]
  },
  {
   "cell_type": "code",
   "execution_count": 48,
   "metadata": {},
   "outputs": [
    {
     "data": {
      "text/plain": [
       "GG + TRA3 + RD              102767\n",
       "GG + HRA + RD               102155\n",
       "GG + TRA2 + HRA + RD         78299\n",
       "GG + TRA2 + RD               78103\n",
       "GG + TRA3 + HRA + RD         66316\n",
       "GG + RD                      48402\n",
       "GG + non-RD                  22913\n",
       "GG + TRA1 + RD               22742\n",
       "GG + TRA3 + non-RD           20824\n",
       "GG + TRA2 + non-RD           16958\n",
       "GG + HRA + non-RD            10358\n",
       "GG + TRA2 + HRA + non-RD      9299\n",
       "GG + TRA3 + HRA + non-RD      7957\n",
       "GG + TRA1 + non-RD            7792\n",
       "GG + TRA1 + HRA + RD          2394\n",
       "GG + TRA1 + HRA + non-RD       175\n",
       "Name: zoning_cat, dtype: int64"
      ]
     },
     "execution_count": 48,
     "metadata": {},
     "output_type": "execute_result"
    }
   ],
   "source": [
    "pg.zoning_cat.value_counts()"
   ]
  },
  {
   "cell_type": "code",
   "execution_count": 49,
   "metadata": {},
   "outputs": [
    {
     "data": {
      "text/plain": [
       "NA     1948459\n",
       "PPA       7749\n",
       "Name: ppa_id, dtype: int64"
      ]
     },
     "execution_count": 49,
     "metadata": {},
     "output_type": "execute_result"
    }
   ],
   "source": [
    "pg.ppa_id.value_counts()"
   ]
  },
  {
   "cell_type": "code",
   "execution_count": 50,
   "metadata": {},
   "outputs": [
    {
     "data": {
      "text/plain": [
       "UGB          1669191\n",
       "Uninc UGB     167059\n",
       "Name: ugb_id, dtype: int64"
      ]
     },
     "execution_count": 50,
     "metadata": {},
     "output_type": "execute_result"
    }
   ],
   "source": [
    "pg.ugb_id.value_counts()"
   ]
  },
  {
   "cell_type": "code",
   "execution_count": 51,
   "metadata": {},
   "outputs": [],
   "source": [
    "# get parcel to county lookup\n",
    "file_dir = r'C:\\Users\\{}\\Box\\Modeling and Surveys\\Urban Modeling\\Bay Area UrbanSim\\p10 Datasets for PBA2050plus'.format(os.getenv('USERNAME'))\n",
    "counties = pd.read_csv(os.path.join(file_dir, '2020_08_17_parcel_to_taz1454sub.csv'))"
   ]
  },
  {
   "cell_type": "code",
   "execution_count": 52,
   "metadata": {},
   "outputs": [
    {
     "name": "stdout",
     "output_type": "stream",
     "text": [
      "1956208\n",
      "1956208\n"
     ]
    }
   ],
   "source": [
    "print(len(pg))\n",
    "print(len(counties))\n",
    "pg = pg.merge(counties[['PARCEL_ID', 'county']], on='PARCEL_ID')"
   ]
  },
  {
   "cell_type": "code",
   "execution_count": 53,
   "metadata": {},
   "outputs": [],
   "source": [
    "pg.loc[(pg.county == 'ala') & (pg.gg_id == 'GG') & (pg.dis_id == 'DIS') & (pg.tra_id.notnull()), 'pres_cat'] = 'Alameda GG + DIS + TRA'\n",
    "pg.loc[(pg.county == 'ala') & (pg.gg_id == 'GG') & (pg.dis_id == 'DIS') & (pg.tra_id.isnull()), 'pres_cat'] = 'Alameda GG + DIS'\n",
    "pg.loc[(pg.county == 'ala') & (pg.gg_id == 'GG') & (pg.dis_id != 'DIS') & (pg.tra_id.notnull()), 'pres_cat'] = 'Alameda GG + TRA'\n",
    "pg.loc[(pg.county == 'ala') & (pg.gg_id == 'GG') & (pg.dis_id.isnull()) & (pg.tra_id.isnull()), 'pres_cat'] = 'Alameda GG'\n",
    "\n",
    "pg.loc[(pg.county == 'cnc') & (pg.gg_id == 'GG') & (pg.dis_id == 'DIS') & (pg.tra_id.notnull()), 'pres_cat'] = 'Contra Costa GG + DIS + TRA'\n",
    "pg.loc[(pg.county == 'cnc') & (pg.gg_id == 'GG') & (pg.dis_id == 'DIS') & (pg.tra_id.isnull()), 'pres_cat'] = 'Contra Costa GG + DIS'\n",
    "pg.loc[(pg.county == 'cnc') & (pg.gg_id == 'GG') & (pg.dis_id != 'DIS') & (pg.tra_id.notnull()), 'pres_cat'] = 'Contra Costa GG + TRA'\n",
    "pg.loc[(pg.county == 'cnc') & (pg.gg_id == 'GG') & (pg.dis_id.isnull()) & (pg.tra_id.isnull()), 'pres_cat'] = 'Contra Costa GG'\n",
    "\n",
    "pg.loc[(pg.county == 'mar') & (pg.gg_id == 'GG') & (pg.dis_id == 'DIS') & (pg.tra_id.notnull()), 'pres_cat'] = 'Marin GG + DIS + TRA'\n",
    "pg.loc[(pg.county == 'mar') & (pg.gg_id == 'GG') & (pg.dis_id == 'DIS') & (pg.tra_id.isnull()), 'pres_cat'] = 'Marin GG + DIS'\n",
    "pg.loc[(pg.county == 'mar') & (pg.gg_id == 'GG') & (pg.dis_id != 'DIS') & (pg.tra_id.notnull()), 'pres_cat'] = 'Marin GG + TRA'\n",
    "pg.loc[(pg.county == 'mar') & (pg.gg_id == 'GG') & (pg.dis_id.isnull()) & (pg.tra_id.isnull()), 'pres_cat'] = 'Marin GG'\n",
    "\n",
    "pg.loc[(pg.county == 'nap') & (pg.gg_id == 'GG') & (pg.dis_id == 'DIS') & (pg.tra_id.notnull()), 'pres_cat'] = 'Napa GG + DIS + TRA'\n",
    "pg.loc[(pg.county == 'nap') & (pg.gg_id == 'GG') & (pg.dis_id == 'DIS') & (pg.tra_id.isnull()), 'pres_cat'] = 'Napa GG + DIS'\n",
    "pg.loc[(pg.county == 'nap') & (pg.gg_id == 'GG') & (pg.dis_id != 'DIS') & (pg.tra_id.notnull()), 'pres_cat'] = 'Napa GG + TRA'\n",
    "pg.loc[(pg.county == 'nap') & (pg.gg_id == 'GG') & (pg.dis_id.isnull()) & (pg.tra_id.isnull()), 'pres_cat'] = 'Napa GG'\n",
    "\n",
    "pg.loc[(pg.county == 'sfr') & (pg.gg_id == 'GG') & (pg.dis_id == 'DIS') & (pg.tra_id.notnull()), 'pres_cat'] = 'San Francisco GG + DIS + TRA'\n",
    "pg.loc[(pg.county == 'sfr') & (pg.gg_id == 'GG') & (pg.dis_id == 'DIS') & (pg.tra_id.isnull()), 'pres_cat'] = 'San Francisco GG + DIS'\n",
    "pg.loc[(pg.county == 'sfr') & (pg.gg_id == 'GG') & (pg.dis_id != 'DIS') & (pg.tra_id.notnull()), 'pres_cat'] = 'San Francisco GG + TRA'\n",
    "pg.loc[(pg.county == 'sfr') & (pg.gg_id == 'GG') & (pg.dis_id.isnull()) & (pg.tra_id.isnull()), 'pres_cat'] = 'San Francisco GG'\n",
    "\n",
    "pg.loc[(pg.county == 'smt') & (pg.gg_id == 'GG') & (pg.dis_id == 'DIS') & (pg.tra_id.notnull()), 'pres_cat'] = 'San Mateo GG + DIS + TRA'\n",
    "pg.loc[(pg.county == 'smt') & (pg.gg_id == 'GG') & (pg.dis_id == 'DIS') & (pg.tra_id.isnull()), 'pres_cat'] = 'San Mateo GG + DIS'\n",
    "pg.loc[(pg.county == 'smt') & (pg.gg_id == 'GG') & (pg.dis_id != 'DIS') & (pg.tra_id.notnull()), 'pres_cat'] = 'San Mateo GG + TRA'\n",
    "pg.loc[(pg.county == 'smt') & (pg.gg_id == 'GG') & (pg.dis_id.isnull()) & (pg.tra_id.isnull()), 'pres_cat'] = 'San Mateo GG'\n",
    "\n",
    "pg.loc[(pg.county == 'scl') & (pg.gg_id == 'GG') & (pg.dis_id == 'DIS') & (pg.tra_id.notnull()), 'pres_cat'] = 'Santa Clara GG + DIS + TRA'\n",
    "pg.loc[(pg.county == 'scl') & (pg.gg_id == 'GG') & (pg.dis_id == 'DIS') & (pg.tra_id.isnull()), 'pres_cat'] = 'Santa Clara GG + DIS'\n",
    "pg.loc[(pg.county == 'scl') & (pg.gg_id == 'GG') & (pg.dis_id != 'DIS') & (pg.tra_id.notnull()), 'pres_cat'] = 'Santa Clara GG + TRA'\n",
    "pg.loc[(pg.county == 'scl') & (pg.gg_id == 'GG') & (pg.dis_id.isnull()) & (pg.tra_id.isnull()), 'pres_cat'] = 'Santa Clara GG'\n",
    "\n",
    "pg.loc[(pg.county == 'sol') & (pg.gg_id == 'GG') & (pg.dis_id == 'DIS') & (pg.tra_id.notnull()), 'pres_cat'] = 'Solano GG + DIS + TRA'\n",
    "pg.loc[(pg.county == 'sol') & (pg.gg_id == 'GG') & (pg.dis_id == 'DIS') & (pg.tra_id.isnull()), 'pres_cat'] = 'Solano GG + DIS'\n",
    "pg.loc[(pg.county == 'sol') & (pg.gg_id == 'GG') & (pg.dis_id != 'DIS') & (pg.tra_id.notnull()), 'pres_cat'] = 'Solano GG + TRA'\n",
    "pg.loc[(pg.county == 'sol') & (pg.gg_id == 'GG') & (pg.dis_id.isnull()) & (pg.tra_id.isnull()), 'pres_cat'] = 'Solano GG'\n",
    "\n",
    "pg.loc[(pg.county == 'son') & (pg.gg_id == 'GG') & (pg.dis_id == 'DIS') & (pg.tra_id.notnull()), 'pres_cat'] = 'Sonoma GG + DIS + TRA'\n",
    "pg.loc[(pg.county == 'son') & (pg.gg_id == 'GG') & (pg.dis_id == 'DIS') & (pg.tra_id.isnull()), 'pres_cat'] = 'Sonoma GG + DIS'\n",
    "pg.loc[(pg.county == 'son') & (pg.gg_id == 'GG') & (pg.dis_id != 'DIS') & (pg.tra_id.notnull()), 'pres_cat'] = 'Sonoma GG + TRA'\n",
    "pg.loc[(pg.county == 'son') & (pg.gg_id == 'GG') & (pg.dis_id.isnull()) & (pg.tra_id.isnull()), 'pres_cat'] = 'Sonoma GG'"
   ]
  },
  {
   "cell_type": "code",
   "execution_count": 54,
   "metadata": {},
   "outputs": [],
   "source": [
    "pg.to_file(os.path.join(file_dir, 'parcels_geography_2024_02_14_forvisualizer.shp'))"
   ]
  },
  {
   "cell_type": "code",
   "execution_count": null,
   "metadata": {},
   "outputs": [],
   "source": [
    "print(pg.crs)\n",
    "print(pg.dtypes)"
   ]
  },
  {
   "cell_type": "code",
   "execution_count": 62,
   "metadata": {},
   "outputs": [
    {
     "data": {
      "text/plain": [
       "array([nan, 'Contra Costa GG + DIS', 'Contra Costa GG',\n",
       "       'San Francisco GG + TRA', 'Alameda GG + TRA', 'Alameda GG + DIS',\n",
       "       'Alameda GG', 'Santa Clara GG', 'San Mateo GG',\n",
       "       'San Francisco GG + DIS + TRA', 'Contra Costa GG + DIS + TRA',\n",
       "       'Contra Costa GG + TRA', 'Alameda GG + DIS + TRA',\n",
       "       'Santa Clara GG + TRA', 'Santa Clara GG + DIS', 'Sonoma GG',\n",
       "       'Sonoma GG + DIS', 'Napa GG', 'Santa Clara GG + DIS + TRA',\n",
       "       'Solano GG + DIS', 'Marin GG + DIS', 'Marin GG',\n",
       "       'San Francisco GG', 'San Mateo GG + TRA', 'Solano GG',\n",
       "       'Sonoma GG + DIS + TRA', 'San Mateo GG + DIS + TRA',\n",
       "       'Marin GG + TRA', 'Solano GG + DIS + TRA', 'Sonoma GG + TRA',\n",
       "       'San Mateo GG + DIS', 'Solano GG + TRA', 'San Francisco GG + DIS',\n",
       "       'Marin GG + DIS + TRA', 'Napa GG + DIS'], dtype=object)"
      ]
     },
     "execution_count": 62,
     "metadata": {},
     "output_type": "execute_result"
    }
   ],
   "source": [
    "pg.pres_cat.unique()"
   ]
  },
  {
   "cell_type": "code",
   "execution_count": null,
   "metadata": {},
   "outputs": [],
   "source": []
  }
 ],
 "metadata": {
  "kernelspec": {
   "display_name": "geo_env",
   "language": "python",
   "name": "python3"
  },
  "language_info": {
   "codemirror_mode": {
    "name": "ipython",
    "version": 3
   },
   "file_extension": ".py",
   "mimetype": "text/x-python",
   "name": "python",
   "nbconvert_exporter": "python",
   "pygments_lexer": "ipython3",
   "version": "3.6.15"
  }
 },
 "nbformat": 4,
 "nbformat_minor": 2
}
