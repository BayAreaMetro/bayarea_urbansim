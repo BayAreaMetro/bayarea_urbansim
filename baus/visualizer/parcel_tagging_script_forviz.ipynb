{
 "cells": [
  {
   "cell_type": "code",
   "execution_count": 42,
   "metadata": {},
   "outputs": [],
   "source": [
    "import geopandas as gpd \n",
    "import pandas as pd\n",
    "import numpy as np \n",
    "import fiona\n",
    "import os"
   ]
  },
  {
   "cell_type": "code",
   "execution_count": 43,
   "metadata": {},
   "outputs": [
    {
     "name": "stdout",
     "output_type": "stream",
     "text": [
      "{'init': 'epsg:26910'}\n"
     ]
    }
   ],
   "source": [
    "# get parcels geogrpahy\n",
    "file_dir = r'C:\\Users\\{}\\Box\\Modeling and Surveys\\Urban Modeling\\Bay Area UrbanSim\\p10 Datasets for PBA2050plus'.format(os.getenv('USERNAME'))\n",
    "pg = gpd.read_file(os.path.join(file_dir, 'parcels_geography_2024_02_14.shp'))\n",
    "\n",
    "print(pg.crs)"
   ]
  },
  {
   "cell_type": "code",
   "execution_count": 44,
   "metadata": {},
   "outputs": [],
   "source": [
    "pg.loc[((pg.gg_id == 'GG') & (pg.tra_id == 'TRA1') & (pg.hra_id == 'HRA') & (pg.exd_id == 'exd')), \"zoning_cat\"] = 'GG + TRA1 + HRA + RD'\n",
    "pg.loc[((pg.gg_id == 'GG') & (pg.tra_id == 'TRA1') & (pg.hra_id == 'HRA') & (pg.exd_id != 'exd')), \"zoning_cat\"] = 'GG + TRA1 + HRA + non-RD'\n",
    "pg.loc[((pg.gg_id == 'GG') & (pg.tra_id == 'TRA1') & (pg.hra_id != 'HRA') & (pg.exd_id == 'exd')), \"zoning_cat\"] = 'GG + TRA1 + RD'\n",
    "pg.loc[((pg.gg_id == 'GG') & (pg.tra_id == 'TRA1') & (pg.hra_id != 'HRA') & (pg.exd_id != 'exd')), \"zoning_cat\"] = 'GG + TRA1 + non-RD'\n",
    "pg.loc[((pg.gg_id == 'GG') & (pg.tra_id == 'TRA2') & (pg.hra_id == 'HRA') & (pg.exd_id == 'exd')), \"zoning_cat\"] = 'GG + TRA2 + HRA + RD'\n",
    "pg.loc[((pg.gg_id == 'GG') & (pg.tra_id == 'TRA2') & (pg.hra_id == 'HRA') & (pg.exd_id != 'exd')), \"zoning_cat\"] = 'GG + TRA2 + HRA + non-RD'\n",
    "pg.loc[((pg.gg_id == 'GG') & (pg.tra_id == 'TRA2') & (pg.hra_id != 'HRA') & (pg.exd_id == 'exd')), \"zoning_cat\"] = 'GG + TRA2 + RD'\n",
    "pg.loc[((pg.gg_id == 'GG') & (pg.tra_id == 'TRA2') & (pg.hra_id != 'HRA') & (pg.exd_id != 'exd')), \"zoning_cat\"] = 'GG + TRA2 + non-RD'\n",
    "pg.loc[((pg.gg_id == 'GG') & (pg.tra_id == 'TRA3') & (pg.hra_id == 'HRA') & (pg.exd_id == 'exd')), \"zoning_cat\"] = 'GG + TRA3 + HRA + RD'\n",
    "pg.loc[((pg.gg_id == 'GG') & (pg.tra_id == 'TRA3') & (pg.hra_id == 'HRA') & (pg.exd_id != 'exd')), \"zoning_cat\"] = 'GG + TRA3 + HRA + non-RD'\n",
    "pg.loc[((pg.gg_id == 'GG') & (pg.tra_id == 'TRA3') & (pg.hra_id != 'HRA') & (pg.exd_id == 'exd')), \"zoning_cat\"] = 'GG + TRA3 + RD'\n",
    "pg.loc[((pg.gg_id == 'GG') & (pg.tra_id == 'TRA3') & (pg.hra_id != 'HRA') & (pg.exd_id != 'exd')), \"zoning_cat\"] = 'GG + TRA3 + non-RD'\n",
    "pg.loc[((pg.gg_id == 'GG') & (pg.tra_id.isnull()) & (pg.hra_id == 'HRA') & (pg.exd_id == 'exd')), \"zoning_cat\"] = 'GG + HRA + RD'\n",
    "pg.loc[((pg.gg_id == 'GG') & (pg.tra_id.isnull()) & (pg.hra_id == 'HRA') & (pg.exd_id != 'exd')), \"zoning_cat\"] = 'GG + HRA + non-RD'\n",
    "pg.loc[((pg.gg_id == 'GG') & (pg.tra_id.isnull()) & (pg.hra_id.isnull()) & (pg.exd_id == 'exd')), \"zoning_cat\"] = 'GG + RD'\n",
    "pg.loc[((pg.gg_id == 'GG') & (pg.tra_id.isnull()) & (pg.hra_id.isnull()) & (pg.exd_id != 'exd')), \"zoning_cat\"] = 'GG + non-RD'\n"
   ]
  },
  {
   "cell_type": "code",
   "execution_count": 55,
   "metadata": {},
   "outputs": [
    {
     "data": {
      "text/plain": [
       "GG + TRA3 + RD              102767\n",
       "GG + HRA + RD               102155\n",
       "GG + TRA2 + HRA + RD         78299\n",
       "GG + TRA2 + RD               78103\n",
       "GG + TRA3 + HRA + RD         66316\n",
       "GG + RD                      48402\n",
       "GG + non-RD                  22913\n",
       "GG + TRA1 + RD               22742\n",
       "GG + TRA3 + non-RD           20824\n",
       "GG + TRA2 + non-RD           16958\n",
       "GG + HRA + non-RD            10358\n",
       "GG + TRA2 + HRA + non-RD      9299\n",
       "GG + TRA3 + HRA + non-RD      7957\n",
       "GG + TRA1 + non-RD            7792\n",
       "GG + TRA1 + HRA + RD          2394\n",
       "GG + TRA1 + HRA + non-RD       175\n",
       "Name: zoning_cat, dtype: int64"
      ]
     },
     "execution_count": 55,
     "metadata": {},
     "output_type": "execute_result"
    }
   ],
   "source": [
    "pg.zoning_cat.value_counts()"
   ]
  },
  {
   "cell_type": "code",
   "execution_count": 45,
   "metadata": {},
   "outputs": [
    {
     "data": {
      "text/plain": [
       "NA     1948459\n",
       "PPA       7749\n",
       "Name: ppa_id, dtype: int64"
      ]
     },
     "execution_count": 45,
     "metadata": {},
     "output_type": "execute_result"
    }
   ],
   "source": [
    "pg.ppa_id.value_counts()"
   ]
  },
  {
   "cell_type": "code",
   "execution_count": 46,
   "metadata": {},
   "outputs": [
    {
     "data": {
      "text/plain": [
       "UGB          1669191\n",
       "Uninc UGB     167059\n",
       "Name: ugb_id, dtype: int64"
      ]
     },
     "execution_count": 46,
     "metadata": {},
     "output_type": "execute_result"
    }
   ],
   "source": [
    "pg.ugb_id.value_counts()"
   ]
  },
  {
   "cell_type": "code",
   "execution_count": 47,
   "metadata": {},
   "outputs": [],
   "source": [
    "pg.to_file(os.path.join(file_dir, 'parcels_geography_2024_02_14_growthgeographies.shp'))"
   ]
  },
  {
   "cell_type": "code",
   "execution_count": 48,
   "metadata": {},
   "outputs": [
    {
     "name": "stdout",
     "output_type": "stream",
     "text": [
      "{'init': 'epsg:26910'}\n",
      "PARCEL_ID      float64\n",
      "geom_id          int64\n",
      "jurisdicti       int64\n",
      "juris           object\n",
      "ACRES          float64\n",
      "tpp_id          object\n",
      "opp_id          object\n",
      "perffoot         int64\n",
      "perfarea         int64\n",
      "urbanized        int64\n",
      "exp2020_id      object\n",
      "exsfd_id        object\n",
      "dis_id          object\n",
      "nodev          float64\n",
      "tra_id          object\n",
      "gg_id           object\n",
      "pda_id          object\n",
      "hra_id          object\n",
      "epc_id          object\n",
      "ugb_id          object\n",
      "ppa_50plus      object\n",
      "ppa_id          object\n",
      "exd_id          object\n",
      "geometry      geometry\n",
      "zoning_cat      object\n",
      "dtype: object\n"
     ]
    }
   ],
   "source": [
    "print(pg.crs)\n",
    "print(pg.dtypes)"
   ]
  }
 ],
 "metadata": {
  "kernelspec": {
   "display_name": "geo_env",
   "language": "python",
   "name": "python3"
  },
  "language_info": {
   "codemirror_mode": {
    "name": "ipython",
    "version": 3
   },
   "file_extension": ".py",
   "mimetype": "text/x-python",
   "name": "python",
   "nbconvert_exporter": "python",
   "pygments_lexer": "ipython3",
   "version": "3.6.15"
  }
 },
 "nbformat": 4,
 "nbformat_minor": 2
}
