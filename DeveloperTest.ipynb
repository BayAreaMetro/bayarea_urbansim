{
 "metadata": {
  "name": "",
  "signature": "sha256:9e08a7cc6120c6e64d64147c7abc43c8ee5293cd0f948d2242570bcbb9904b7c"
 },
 "nbformat": 3,
 "nbformat_minor": 0,
 "worksheets": [
  {
   "cells": [
    {
     "cell_type": "code",
     "collapsed": false,
     "input": [
      "%load_ext autoreload\n",
      "%autoreload 1\n",
      "%aimport bayarea.models\n",
      "%aimport bayarea.dataset\n",
      "models = bayarea.models\n",
      "dataset = bayarea.dataset"
     ],
     "language": "python",
     "metadata": {},
     "outputs": [],
     "prompt_number": 1
    },
    {
     "cell_type": "code",
     "collapsed": false,
     "input": [
      "dset = dataset.BayAreaDataset(\"data/bayarea.h5\")"
     ],
     "language": "python",
     "metadata": {},
     "outputs": [],
     "prompt_number": 2
    },
    {
     "cell_type": "heading",
     "level": 2,
     "metadata": {},
     "source": [
      "Compute a node-based average price for each use"
     ]
    },
    {
     "cell_type": "code",
     "collapsed": false,
     "input": [
      "models.build_networks()"
     ],
     "language": "python",
     "metadata": {},
     "outputs": [],
     "prompt_number": 3
    },
    {
     "cell_type": "code",
     "collapsed": false,
     "input": [
      "models.neighborhood_vars(dset)"
     ],
     "language": "python",
     "metadata": {},
     "outputs": [
      {
       "output_type": "stream",
       "stream": "stdout",
       "text": [
        "Adding xys to dataframe: households\n",
        "WARNING: imputing building square feet where it doesn't exist"
       ]
      },
      {
       "output_type": "stream",
       "stream": "stdout",
       "text": [
        "\n",
        "WARNING: imputing lot size where it doesn't exist"
       ]
      },
      {
       "output_type": "stream",
       "stream": "stdout",
       "text": [
        "\n",
        "Adding xys to dataframe: jobs"
       ]
      },
      {
       "output_type": "stream",
       "stream": "stdout",
       "text": [
        "\n",
        "Computing accessibility variables"
       ]
      },
      {
       "output_type": "stream",
       "stream": "stdout",
       "text": [
        "\n",
        "Computing sum_residential_units\n",
        "    dataframe = buildings, varname=residential_units\n",
        "    radius = 500, aggregation = AGG_SUM, decay = DECAY_LINEAR\n",
        "Computing sum_nonresidential_units"
       ]
      },
      {
       "output_type": "stream",
       "stream": "stdout",
       "text": [
        "\n",
        "    dataframe = buildings, varname=non_residential_units\n",
        "    radius = 500, aggregation = AGG_SUM, decay = DECAY_LINEAR\n",
        "Computing ave_unit_sqft"
       ]
      },
      {
       "output_type": "stream",
       "stream": "stdout",
       "text": [
        "\n",
        "    dataframe = buildings, varname=unit_sqft\n",
        "    radius = 500, aggregation = AGG_AVE, decay = DECAY_FLAT\n",
        "Computing ave_lot_sqft"
       ]
      },
      {
       "output_type": "stream",
       "stream": "stdout",
       "text": [
        "\n",
        "    dataframe = buildings, varname=unit_lot_size\n",
        "    radius = 500, aggregation = AGG_AVE, decay = DECAY_FLAT\n",
        "Computing population"
       ]
      },
      {
       "output_type": "stream",
       "stream": "stdout",
       "text": [
        "\n",
        "    dataframe = households, varname=persons\n",
        "    radius = 500, aggregation = AGG_SUM, decay = DECAY_LINEAR\n",
        "Computing poor"
       ]
      },
      {
       "output_type": "stream",
       "stream": "stdout",
       "text": [
        "\n",
        "    dataframe = households, varname=persons"
       ]
      },
      {
       "output_type": "stream",
       "stream": "stdout",
       "text": [
        "\n",
        "    radius = 500, aggregation = AGG_SUM, decay = DECAY_LINEAR\n",
        "Computing renters"
       ]
      },
      {
       "output_type": "stream",
       "stream": "stdout",
       "text": [
        "\n",
        "    dataframe = households, varname=None"
       ]
      },
      {
       "output_type": "stream",
       "stream": "stdout",
       "text": [
        "\n",
        "    radius = 500, aggregation = AGG_SUM, decay = DECAY_LINEAR\n",
        "Computing sfdu"
       ]
      },
      {
       "output_type": "stream",
       "stream": "stdout",
       "text": [
        "\n",
        "    dataframe = buildings, varname=None"
       ]
      },
      {
       "output_type": "stream",
       "stream": "stdout",
       "text": [
        "\n",
        "    radius = 500, aggregation = AGG_SUM, decay = DECAY_LINEAR\n",
        "Computing hhsize"
       ]
      },
      {
       "output_type": "stream",
       "stream": "stdout",
       "text": [
        "\n",
        "    dataframe = households, varname=persons\n",
        "    radius = 500, aggregation = AGG_AVE, decay = DECAY_FLAT\n",
        "Computing jobs"
       ]
      },
      {
       "output_type": "stream",
       "stream": "stdout",
       "text": [
        "\n",
        "    dataframe = jobs, varname=emp11\n",
        "    radius = 500, aggregation = AGG_SUM, decay = DECAY_LINEAR\n",
        "Computing ave_income"
       ]
      },
      {
       "output_type": "stream",
       "stream": "stdout",
       "text": [
        "\n",
        "    dataframe = households, varname=income\n",
        "    radius = 500, aggregation = AGG_AVE, decay = DECAY_FLAT\n"
       ]
      }
     ],
     "prompt_number": 4
    },
    {
     "cell_type": "code",
     "collapsed": false,
     "input": [
      "models.rsh_simulate(dset)\n",
      "models.rrh_simulate(dset)\n",
      "models.nrh_simulate(dset)"
     ],
     "language": "python",
     "metadata": {},
     "outputs": [
      {
       "output_type": "stream",
       "stream": "stdout",
       "text": [
        "Running hedonic simulation\n",
        "\n",
        "count    1788632.000000\n",
        "mean           1.229955\n",
        "std           10.695695\n",
        "min            0.087615\n",
        "25%            0.299735\n",
        "50%            0.357886\n",
        "75%            0.427135\n",
        "max         2444.074424\n",
        "dtype: float64"
       ]
      },
      {
       "output_type": "stream",
       "stream": "stdout",
       "text": [
        "\n",
        "Running hedonic simulation\n"
       ]
      },
      {
       "output_type": "stream",
       "stream": "stdout",
       "text": [
        "\n",
        "count    1788632.000000\n",
        "mean           1.764076\n",
        "std            0.368267\n",
        "min            0.271017\n",
        "25%            1.613040\n",
        "50%            1.778793\n",
        "75%            1.931844\n",
        "max           10.115346\n",
        "dtype: float64"
       ]
      },
      {
       "output_type": "stream",
       "stream": "stdout",
       "text": [
        "\n",
        "Running hedonic simulation\n"
       ]
      },
      {
       "output_type": "stream",
       "stream": "stdout",
       "text": [
        "\n",
        "count    147627.000000\n",
        "mean        231.272696\n",
        "std         635.946979\n",
        "min           1.168422\n",
        "25%          25.893029\n",
        "50%          88.342168\n",
        "75%         203.205067\n",
        "max       82890.826871\n",
        "dtype: float64"
       ]
      },
      {
       "output_type": "stream",
       "stream": "stdout",
       "text": [
        "\n"
       ]
      }
     ],
     "prompt_number": 5
    },
    {
     "cell_type": "code",
     "collapsed": false,
     "input": [
      "models.price_vars(dset)"
     ],
     "language": "python",
     "metadata": {},
     "outputs": [
      {
       "output_type": "stream",
       "stream": "stdout",
       "text": [
        "Computing accessibility variables\n",
        "Computing ave_residential_price\n",
        "    dataframe = buildings, varname=residential_sales_price\n",
        "    radius = 1500, aggregation = AGG_AVE, decay = DECAY_FLAT\n",
        "Computing ave_retail_rent"
       ]
      },
      {
       "output_type": "stream",
       "stream": "stdout",
       "text": [
        "\n",
        "    dataframe = buildings, varname=non_residential_rent"
       ]
      },
      {
       "output_type": "stream",
       "stream": "stdout",
       "text": [
        "\n",
        "    radius = 1500, aggregation = AGG_AVE, decay = DECAY_FLAT\n",
        "Computing ave_office_rent"
       ]
      },
      {
       "output_type": "stream",
       "stream": "stdout",
       "text": [
        "\n",
        "    dataframe = buildings, varname=non_residential_rent"
       ]
      },
      {
       "output_type": "stream",
       "stream": "stdout",
       "text": [
        "\n",
        "    radius = 1500, aggregation = AGG_AVE, decay = DECAY_FLAT\n",
        "Computing ave_industrial_rent"
       ]
      },
      {
       "output_type": "stream",
       "stream": "stdout",
       "text": [
        "\n",
        "    dataframe = buildings, varname=non_residential_rent"
       ]
      },
      {
       "output_type": "stream",
       "stream": "stdout",
       "text": [
        "\n",
        "    radius = 1500, aggregation = AGG_AVE, decay = DECAY_FLAT\n"
       ]
      }
     ],
     "prompt_number": 6
    },
    {
     "cell_type": "code",
     "collapsed": false,
     "input": [
      "print dset.nodes_prices.describe()"
     ],
     "language": "python",
     "metadata": {},
     "outputs": [
      {
       "output_type": "stream",
       "stream": "stdout",
       "text": [
        "       ave_residential_price  ave_retail_rent  ave_office_rent  \\\n",
        "count          226060.000000    226060.000000    226060.000000   \n",
        "mean                1.782136       141.876146       141.876146   \n",
        "std                 7.862018       240.158576       240.158576   \n",
        "min                 0.000000         0.000000         0.000000   \n",
        "25%                 0.380090        27.833814        27.833814   \n",
        "50%                 0.471444        75.181648        75.181648   \n",
        "75%                 0.899126       158.349464       158.349464   \n",
        "max               815.137695      4400.063477      4400.063477   \n",
        "\n",
        "       ave_industrial_rent  \n",
        "count        226060.000000  \n",
        "mean            141.876146  \n",
        "std             240.158576  \n",
        "min               0.000000  \n",
        "25%              27.833814  \n",
        "50%              75.181648  \n",
        "75%             158.349464  \n",
        "max            4400.063477  \n",
        "\n",
        "[8 rows x 4 columns]\n"
       ]
      }
     ],
     "prompt_number": 7
    },
    {
     "cell_type": "code",
     "collapsed": false,
     "input": [
      "import os\n",
      "from urbansim.utils import misc\n",
      "dset.nodes_prices.to_csv(os.path.join(misc.data_dir(),'nodes_prices.csv'), index_label='node_id')"
     ],
     "language": "python",
     "metadata": {},
     "outputs": [],
     "prompt_number": 14
    },
    {
     "cell_type": "heading",
     "level": 2,
     "metadata": {},
     "source": [
      "Run the pro forma"
     ]
    },
    {
     "cell_type": "code",
     "collapsed": false,
     "input": [
      "%aimport urbansim.developer.sqftproforma\n",
      "sqftproforma = urbansim.developer.sqftproforma"
     ],
     "language": "python",
     "metadata": {},
     "outputs": [],
     "prompt_number": 3
    },
    {
     "cell_type": "code",
     "collapsed": false,
     "input": [
      "pf = sqftproforma.SqFtProForma()"
     ],
     "language": "python",
     "metadata": {},
     "outputs": [],
     "prompt_number": 4
    },
    {
     "cell_type": "code",
     "collapsed": false,
     "input": [
      "print pf.get_ave_cost_sqft('residential')"
     ],
     "language": "python",
     "metadata": {},
     "outputs": [
      {
       "output_type": "stream",
       "stream": "stdout",
       "text": [
        "0.10     151.461538\n",
        "0.25     151.461538\n",
        "0.50     151.461538\n",
        "0.75     151.461538\n",
        "1.00     168.384615\n",
        "1.50     168.384615\n",
        "1.80     168.384615\n",
        "2.00     185.307692\n",
        "3.00     187.000000\n",
        "4.00     187.000000\n",
        "5.00     204.600000\n",
        "7.00     204.600000\n",
        "9.00     204.600000\n",
        "11.00    231.000000\n",
        "Name: ave_cost_sqft, dtype: float64\n"
       ]
      }
     ],
     "prompt_number": 5
    },
    {
     "cell_type": "code",
     "collapsed": false,
     "input": [
      "print pf.get_debug_info('residential', 'deck')"
     ],
     "language": "python",
     "metadata": {},
     "outputs": [
      {
       "output_type": "stream",
       "stream": "stdout",
       "text": [
        "         far  pclsz         build     spaces      parksqft     total_sqft  \\\n",
        "0.10    0.10  10000    800.048828   0.800049    200.012207    1000.061035   \n",
        "0.25    0.25  10000   2000.122070   2.000122    500.030518    2500.152588   \n",
        "0.50    0.50  10000   4000.244141   4.000244   1000.061035    5000.305176   \n",
        "0.75    0.75  10000   6000.366211   6.000366   1500.091553    7500.457764   \n",
        "1.00    1.00  10000   8000.488281   8.000488   2000.122070   10000.610352   \n",
        "1.50    1.50  10000  12000.732422  12.000732   3000.183105   15000.915527   \n",
        "1.80    1.80  10000  14400.878906  14.400879   3600.219727   18001.098633   \n",
        "2.00    2.00  10000  16000.976562  16.000977   4000.244141   20001.220703   \n",
        "3.00    3.00  10000  24001.464844  24.001465   6000.366211   30001.831055   \n",
        "4.00    4.00  10000  32001.953125  32.001953   8000.488281   40002.441406   \n",
        "5.00    5.00  10000  40002.441406  40.002441  10000.610352   50003.051758   \n",
        "7.00    7.00  10000  56003.417969  56.003418  14000.854492   70004.272461   \n",
        "9.00    9.00  10000  72004.394531  72.004395  18001.098633   90005.493164   \n",
        "11.00  11.00  10000  88005.371094  88.005371  22001.342773  110006.713867   \n",
        "\n",
        "         stories  build_cost_sqft       build_cost       park_cost  \\\n",
        "0.10    0.125008              170    136008.300781    18001.098633   \n",
        "0.25    0.312519              170    340020.751953    45002.746582   \n",
        "0.50    0.625038              170    680041.503906    90005.493164   \n",
        "0.75    0.937557              170   1020062.255859   135008.239746   \n",
        "1.00    1.250076              170   1360083.007812   180010.986328   \n",
        "1.50    1.875114              190   2280139.160156   270016.479492   \n",
        "1.80    2.250137              190   2736166.992188   324019.775391   \n",
        "2.00    2.500153              190   3040185.546875   360021.972656   \n",
        "3.00    3.750229              190   4560278.320312   540032.958984   \n",
        "4.00    5.000305              190   6080371.093750   720043.945312   \n",
        "5.00    6.250381              210   8400512.695312   900054.931641   \n",
        "7.00    8.750534              210  11760717.773438  1260076.904297   \n",
        "9.00   11.250687              210  15120922.851562  1620098.876953   \n",
        "11.00  13.750839              240  21121289.062500  1980120.849609   \n",
        "\n",
        "                  cost  ave_cost_sqft  \n",
        "0.10     154009.399414          169.4  \n",
        "0.25     385023.498535          169.4  \n",
        "0.50     770046.997070          169.4  \n",
        "0.75    1155070.495605          169.4  \n",
        "1.00    1540093.994141          169.4  \n",
        "1.50    2550155.639648          187.0  \n",
        "1.80    3060186.767578          187.0  \n",
        "2.00    3400207.519531          187.0  \n",
        "3.00    5100311.279297          187.0  \n",
        "4.00    6800415.039062          187.0  \n",
        "5.00    9300567.626953          204.6  \n",
        "7.00   13020794.677734          204.6  \n",
        "9.00   16741021.728516          204.6  \n",
        "11.00  23101409.912109          231.0  \n",
        "\n",
        "[14 rows x 12 columns]\n"
       ]
      }
     ],
     "prompt_number": 6
    },
    {
     "cell_type": "code",
     "collapsed": false,
     "input": [
      "import pandas as pd, numpy as np\n",
      "import os\n",
      "from urbansim.utils import misc\n",
      "nodes_prices = pd.read_csv(os.path.join(misc.data_dir(),'nodes_prices.csv'),index_col='node_id')\n",
      "df = nodes_prices.loc[dset.parcels._node_id].set_index(dset.parcels.index)\n",
      "df = df.rename(columns={\n",
      "    \"ave_residential_price\": \"residential\", \n",
      "    \"ave_office_rent\": \"office\", \n",
      "    \"ave_retail_rent\": \"retail\", \n",
      "    \"ave_industrial_rent\": \"industrial\"\n",
      "})\n",
      "for col in df.columns:\n",
      "    df[col] = np.ones(len(df.index)) * 24.0\n",
      "df['parcel_sizes'] = dset.parcels.shape_area.fillna(0) * 10.7639\n",
      "df['building_sqft'] = dset.buildings.groupby('parcel_id').building_sqft.sum()\n",
      "df['building_sqft'] = df.building_sqft.fillna(0)\n",
      "df['year_built'] = dset.buildings.groupby('parcel_id').year_built.min()\n",
      "df['year_built'] = df.year_built.fillna(2050)\n",
      "df['land_costs'] = df.building_sqft * 24.0 / .05 # this is not clever!\n",
      "zoning = dset.zoning.loc[dset.zoning_for_parcels.zoning].set_index(dset.zoning_for_parcels.index)\n",
      "df['max_fars'] = zoning.max_far\n",
      "df['max_heights'] = zoning.max_height\n",
      "df = df.query('land_costs < 10000000 and year_built > 1945')\n",
      "print df.describe()"
     ],
     "language": "python",
     "metadata": {},
     "outputs": [
      {
       "output_type": "stream",
       "stream": "stdout",
       "text": [
        "WARNING: imputing building square feet where it doesn't exist\n",
        "WARNING: imputing lot size where it doesn't exist"
       ]
      },
      {
       "output_type": "stream",
       "stream": "stdout",
       "text": [
        "\n",
        "       residential   retail   office  industrial  parcel_sizes  \\\n",
        "count      1648524  1648524  1648524     1648524  1.648524e+06   \n",
        "mean            24       24       24          24  1.107382e+05   \n",
        "std              0        0        0           0  1.675595e+06   \n",
        "min             24       24       24          24  0.000000e+00   \n",
        "25%             24       24       24          24  4.992018e+03   \n",
        "50%             24       24       24          24  6.681620e+03   \n",
        "75%             24       24       24          24  1.027038e+04   \n",
        "max             24       24       24          24  1.012911e+09   \n",
        "\n",
        "        building_sqft      year_built      land_costs       max_fars  \\\n",
        "count  1648524.000000  1648524.000000  1648524.000000  575531.000000   \n",
        "mean      2143.746488     2003.667533  1028385.702182       1.350622   \n",
        "std       1813.936590       38.830795   870689.563332       1.538230   \n",
        "min          0.000000     1946.000000        0.000000       0.000000   \n",
        "25%       1348.000000     1961.000000   647040.000000       0.600000   \n",
        "50%       1816.000000     1977.000000   871680.000000       0.700000   \n",
        "75%       2527.000000     2001.000000  1212960.000000       1.800000   \n",
        "max      20832.000000     9770.000000  9999360.000000      20.000000   \n",
        "\n",
        "         max_heights  \n",
        "count  994841.000000  \n",
        "mean       35.494174  \n",
        "std        21.017019  \n",
        "min         0.000000  \n",
        "25%        30.000000  \n",
        "50%        35.000000  \n",
        "75%        35.000000  \n",
        "max       550.000000  \n",
        "\n",
        "[8 rows x 10 columns]"
       ]
      },
      {
       "output_type": "stream",
       "stream": "stdout",
       "text": [
        "\n"
       ]
      }
     ],
     "prompt_number": 7
    },
    {
     "cell_type": "code",
     "collapsed": false,
     "input": [
      "outdf = pf.lookup(\"residential\", df)"
     ],
     "language": "python",
     "metadata": {},
     "outputs": [],
     "prompt_number": 8
    },
    {
     "cell_type": "code",
     "collapsed": false,
     "input": [
      "print outdf.describe()\n",
      "print outdf.max_profit_far.value_counts()"
     ],
     "language": "python",
     "metadata": {},
     "outputs": [
      {
       "output_type": "stream",
       "stream": "stdout",
       "text": [
        "       building_cost  building_revenue  building_size    max_profit  \\\n",
        "count   6.306910e+05      6.306910e+05   6.306910e+05  6.306910e+05   \n",
        "mean    2.474296e+07      4.926048e+07   1.466086e+05  2.354411e+07   \n",
        "std     2.342656e+08      4.673229e+08   1.390842e+06  2.330850e+08   \n",
        "min     2.094498e-01      4.179428e-01   1.243877e-03  2.084930e-01   \n",
        "25%     1.544187e+06      3.082841e+06   9.175121e+03  6.107896e+05   \n",
        "50%     2.124833e+06      4.231372e+06   1.259337e+04  1.198526e+06   \n",
        "75%     3.430295e+06      6.807411e+06   2.026015e+04  2.308356e+06   \n",
        "max     2.276928e+10      4.543454e+10   1.352218e+08  2.266352e+10   \n",
        "\n",
        "       max_profit_far    total_cost  \n",
        "count   630691.000000  6.306910e+05  \n",
        "mean         1.756404  2.571636e+07  \n",
        "std          0.751240  2.342623e+08  \n",
        "min          0.100000  2.094498e-01  \n",
        "25%          1.800000  2.334658e+06  \n",
        "50%          1.800000  3.102737e+06  \n",
        "75%          1.800000  4.580675e+06  \n",
        "max          9.000000  2.277102e+10  \n",
        "\n",
        "[8 rows x 6 columns]\n",
        "1.80    481965\n",
        "0.50     50524\n",
        "3.00     25648\n",
        "1.00     21263\n",
        "1.50     14440\n",
        "4.00     12018\n",
        "0.25      9328\n",
        "0.75      7088\n",
        "5.00      5008\n",
        "0.10      1732\n",
        "9.00      1205\n",
        "7.00       472\n",
        "dtype: int64"
       ]
      },
      {
       "output_type": "stream",
       "stream": "stdout",
       "text": [
        "\n"
       ]
      }
     ],
     "prompt_number": 12
    },
    {
     "cell_type": "code",
     "collapsed": false,
     "input": [
      "outdf.join(df).dropna(subset=['max_profit']).fillna(0).to_csv(os.path.join(misc.data_dir(),'devmdl_predictions.csv'), index_label='parcel_id')"
     ],
     "language": "python",
     "metadata": {},
     "outputs": [],
     "prompt_number": 13
    },
    {
     "cell_type": "code",
     "collapsed": false,
     "input": [],
     "language": "python",
     "metadata": {},
     "outputs": []
    }
   ],
   "metadata": {}
  }
 ]
}