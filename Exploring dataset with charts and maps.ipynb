{
 "metadata": {
  "name": "",
  "signature": "sha256:9767c34929575ba361114732d61e3622e44777b1939b66817ddeb5139b03581a"
 },
 "nbformat": 3,
 "nbformat_minor": 0,
 "worksheets": [
  {
   "cells": [
    {
     "cell_type": "code",
     "collapsed": false,
     "input": [
      "# try cleaning browser cache if something doesn't work as expected\n",
      "\n",
      "from IPython import display as d\n",
      "from bayarea import dataset\n",
      "import pandas as pd\n",
      "import vincent\n",
      "import nvd3\n",
      "import folium\n",
      "\n",
      "vincent.core.initialize_notebook()\n",
      "nvd3.ipynb.initialize_javascript(use_remote=True)\n",
      "folium.initialize_notebook()\n",
      "\n",
      "dset = dataset.BayAreaDataset('data/bayarea.h5')"
     ],
     "language": "python",
     "metadata": {},
     "outputs": [
      {
       "output_type": "stream",
       "stream": "stdout",
       "text": [
        "loaded nvd3 IPython extension\n",
        "run nvd3.IPython_wrapper.initialize_javascript() to set up the notebook\n",
        "help(nvd3.IPython_wrapper.initialize_javascript) for options\n"
       ]
      },
      {
       "html": [
        "\n",
        "           <script>\n",
        "               \n",
        "                function vct_load_lib(url, callback){\n",
        "                      if(typeof d3 !== 'undefined' &&\n",
        "                         url === 'http://d3js.org/d3.v3.min.js'){\n",
        "                        callback()\n",
        "                      }\n",
        "                      var s = document.createElement('script');\n",
        "                      s.src = url;\n",
        "                      s.async = true;\n",
        "                      s.onreadystatechange = s.onload = callback;\n",
        "                      s.onerror = function(){\n",
        "                        console.warn(\"failed to load library \" + url);\n",
        "                        };\n",
        "                      document.getElementsByTagName(\"head\")[0].appendChild(s);\n",
        "                };\n",
        "                var vincent_event = new CustomEvent(\n",
        "                  \"vincent_libs_loaded\",\n",
        "                  {bubbles: true, cancelable: true}\n",
        "                );\n",
        "                \n",
        "               function load_all_libs(){\n",
        "                  console.log('Loading Vincent libs...')\n",
        "                  vct_load_lib('http://d3js.org/d3.v3.min.js', function(){\n",
        "                  vct_load_lib('http://d3js.org/d3.geo.projection.v0.min.js', function(){\n",
        "                  vct_load_lib('http://wrobstory.github.io/d3-cloud/d3.layout.cloud.js', function(){\n",
        "                  vct_load_lib('http://wrobstory.github.io/vega/vega.v1.3.3.js', function(){\n",
        "                  window.dispatchEvent(vincent_event);\n",
        "                  });\n",
        "                  });\n",
        "                  });\n",
        "                  });\n",
        "               };\n",
        "               if(typeof define === \"function\" && define.amd){\n",
        "                    if (window['d3'] === undefined ||\n",
        "                        window['topojson'] === undefined){\n",
        "                        require.config(\n",
        "                            {paths: {\n",
        "                              d3: 'http://d3js.org/d3.v3.min',\n",
        "                              topojson: 'http://d3js.org/topojson.v1.min'\n",
        "                              }\n",
        "                            }\n",
        "                          );\n",
        "                        require([\"d3\"], function(d3){\n",
        "                            console.log('Loading Vincent from require.js...')\n",
        "                            window.d3 = d3;\n",
        "                            require([\"topojson\"], function(topojson){\n",
        "                                window.topojson = topojson;\n",
        "                                load_all_libs();\n",
        "                            });\n",
        "                        });\n",
        "                    } else {\n",
        "                        load_all_libs();\n",
        "                    };\n",
        "               }else{\n",
        "                    console.log('Require.js not found, loading manually...')\n",
        "                    load_all_libs();\n",
        "               };\n",
        "\n",
        "           </script>"
       ],
       "metadata": {},
       "output_type": "display_data",
       "text": [
        "<IPython.core.display.HTML at 0x2e6edd0>"
       ]
      },
      {
       "html": [
        "<link media=\"all\" href=\"http://nvd3.org/assets/css/nv.d3.css\" type=\"text/css\"\n",
        "                        rel=\"stylesheet\"/>"
       ],
       "metadata": {},
       "output_type": "display_data",
       "text": [
        "<IPython.core.display.HTML at 0x2fcfdd0>"
       ]
      },
      {
       "javascript": [
        "$.getScript(\"http://nvd3.org/assets/js/nv.d3.js\")"
       ],
       "metadata": {},
       "output_type": "display_data",
       "text": [
        "<IPython.core.display.Javascript at 0x2fd9050>"
       ]
      },
      {
       "javascript": [
        "$.getScript(\"http://nvd3.org/assets/lib/d3.v3.js\", function() {\n",
        "                              $.getScript(\"http://nvd3.org/assets/js/nv.d3.js\", function() {})});"
       ],
       "metadata": {},
       "output_type": "display_data",
       "text": [
        "<IPython.core.display.Javascript at 0x2fd90d0>"
       ]
      },
      {
       "html": [
        "<script src=\"http://nvd3.org/assets/lib/d3.v3.js\"></script>"
       ],
       "metadata": {},
       "output_type": "display_data",
       "text": [
        "<IPython.core.display.HTML at 0x2fd9090>"
       ]
      },
      {
       "html": [
        "<script src=\"http://nvd3.org/assets/js/nv.d3.js\"></script>"
       ],
       "metadata": {},
       "output_type": "display_data",
       "text": [
        "<IPython.core.display.HTML at 0x2fd9110>"
       ]
      },
      {
       "html": [
        "<link rel=\"stylesheet\" href=\"http://cdn.leafletjs.com/leaflet-0.7.2/leaflet.css\" />\n",
        "<style>\n",
        "    .leaflet-popup-content {\n",
        "        color: black !important;\n",
        "    }\n",
        "\n",
        "    .leaflet-control-zoom-in {\n",
        "        text-decoration: none !important;\n",
        "    }\n",
        "\n",
        "    .leaflet-control-zoom-out {\n",
        "        text-decoration: none !important;\n",
        "    }\n",
        "</style>"
       ],
       "metadata": {},
       "output_type": "display_data",
       "text": [
        "<IPython.core.display.HTML at 0x2fd9410>"
       ]
      },
      {
       "html": [
        "<script>\n",
        "\n",
        "  var folium_event = new CustomEvent(\n",
        "    \"folium_libs_loaded\",\n",
        "    {bubbles: true, cancelable: true}\n",
        "  );\n",
        "\n",
        "  var load_folium_charts = function(){\n",
        "    window.dispatchEvent(folium_event);\n",
        "  };\n",
        "\n",
        " var load_folium_libs = function(){\n",
        "    console.log('Loading all Folium libraries...')\n",
        "    $.getScript(\"http://cdn.leafletjs.com/leaflet-0.7.2/leaflet.js\", function(){\n",
        "      $.getScript('https://wrobstory.github.io/leaflet-dvf/leaflet-dvf.markers.min.js', function(){\n",
        "          if (window['vg'] === undefined){\n",
        "            $.getScript(\"http://wrobstory.github.io/vega/vega.v1.3.3.js\", function(){\n",
        "              load_folium_charts();\n",
        "          });\n",
        "        } else {\n",
        "          load_folium_charts();\n",
        "        }\n",
        "      });\n",
        "    });\n",
        "  };\n",
        "\n",
        " if(typeof define === \"function\" && define.amd){\n",
        "      var load_paths = {\n",
        "        paths: {\n",
        "          topojson:'http://d3js.org/topojson.v1.min',\n",
        "          queue: 'http://d3js.org/queue.v1.min',\n",
        "          d3: 'http://d3js.org/d3.v3.min'\n",
        "        }\n",
        "      };\n",
        "      var libs = ['d3', 'queue', 'topojson'];\n",
        "      for (var i=0; i < libs.length; i++){\n",
        "        lib = libs[i]\n",
        "        if (window[lib] !== undefined){\n",
        "          delete load_paths.paths[lib]\n",
        "        };\n",
        "      };\n",
        "      if (Object.keys(load_paths.paths).length != 0){\n",
        "        require.config(load_paths);\n",
        "        require([\"queue\"], function(queue){\n",
        "          window.queue = queue;\n",
        "        });\n",
        "        require([\"d3\"], function(d3){\n",
        "            console.log('Loading from require.js...')\n",
        "            window.d3 = d3;\n",
        "            require([\"topojson\"], function(topojson){\n",
        "                window.topojson = topojson;\n",
        "                load_folium_libs();\n",
        "            });\n",
        "        });\n",
        "      } else {\n",
        "        load_folium_libs();\n",
        "      }\n",
        "\n",
        " }else{\n",
        "      console.log('Require.js not found!');\n",
        "      throw \"Require.js not found!\"\n",
        " };\n",
        "\n",
        "</script>"
       ],
       "metadata": {},
       "output_type": "display_data",
       "text": [
        "<IPython.core.display.HTML at 0x2fcfdd0>"
       ]
      }
     ],
     "prompt_number": 1
    },
    {
     "cell_type": "heading",
     "level": 2,
     "metadata": {},
     "source": [
      "Homesales price by decade built"
     ]
    },
    {
     "cell_type": "code",
     "collapsed": false,
     "input": [
      "homesales = dset.homesales\n",
      "homesales = homesales[(homesales.Year_built >= 1900) & (homesales.Year_built <= 2010)]\n",
      "decade_built = homesales.groupby((homesales.Year_built // 10) * 10)\n",
      "price_decade = decade_built.Sale_price_flt.mean()"
     ],
     "language": "python",
     "metadata": {},
     "outputs": [],
     "prompt_number": 2
    },
    {
     "cell_type": "code",
     "collapsed": false,
     "input": [
      "# https://github.com/areski/python-nvd3/issues/50\n",
      "x = price_decade.index.astype(int)\n",
      "y = price_decade.values.astype(int)\n",
      "\n",
      "bar = nvd3.discreteBarChart()\n",
      "bar.add_serie(x=x, y=y)\n",
      "bar"
     ],
     "language": "python",
     "metadata": {},
     "outputs": [
      {
       "html": [
        "<div id=\"discretebarchart\"><svg style=\"height:450px;\"></svg></div>\n",
        "\n",
        "<script>\n",
        "    nv.addGraph(function() {\n",
        "        var chart = nv.models.discreteBarChart();\n",
        "        chart.margin({top: 30, right: 60, bottom: 20, left: 60})\n",
        "        chart.tooltipContent(function(key, y, e, graph) {\n",
        "            var x = String(graph.point.x);\n",
        "            var y = String(graph.point.y);\n",
        "var y = String(graph.point.y);\n",
        "            tooltip_str = '<center><b>'+key+'</b></center>' + y + ' at ' + x;\n",
        "            return tooltip_str;\n",
        "        });\n",
        "        d3.select('#discretebarchart svg')\n",
        "            .datum(data_discretebarchart)\n",
        "            .transition().duration(500)\n",
        "            .attr('height', 450)\n",
        "            .call(chart);\n",
        "\n",
        "    return chart;\n",
        "});data_discretebarchart=[{\"values\": [{\"y\": 777671, \"x\": 1900}, {\"y\": 611230, \"x\": 1910}, {\"y\": 571813, \"x\": 1920}, {\"y\": 642367, \"x\": 1930}, {\"y\": 476451, \"x\": 1940}, {\"y\": 519925, \"x\": 1950}, {\"y\": 540686, \"x\": 1960}, {\"y\": 435181, \"x\": 1970}, {\"y\": 418000, \"x\": 1980}, {\"y\": 518810, \"x\": 1990}, {\"y\": 534508, \"x\": 2000}, {\"y\": 934407, \"x\": 2010}], \"key\": \"Serie 1\", \"yAxis\": \"1\"}];\n",
        "</script>"
       ],
       "metadata": {},
       "output_type": "pyout",
       "prompt_number": 3,
       "text": [
        "<nvd3.discreteBarChart.discreteBarChart instance at 0x4b20a28>"
       ]
      }
     ],
     "prompt_number": 3
    },
    {
     "cell_type": "heading",
     "level": 2,
     "metadata": {},
     "source": [
      "Building type breakdown for Salt Lake County"
     ]
    },
    {
     "cell_type": "code",
     "collapsed": false,
     "input": [
      "buildings = dset.buildings\n",
      "buildings_scl = buildings[buildings.county == 'scl'].groupby('building_type').size()"
     ],
     "language": "python",
     "metadata": {},
     "outputs": [
      {
       "output_type": "stream",
       "stream": "stdout",
       "text": [
        "WARNING: imputing building square feet where it doesn't exist\n",
        "WARNING: imputing lot size where it doesn't exist"
       ]
      },
      {
       "output_type": "stream",
       "stream": "stdout",
       "text": [
        "\n"
       ]
      }
     ],
     "prompt_number": 4
    },
    {
     "cell_type": "code",
     "collapsed": false,
     "input": [
      "pie_chart = nvd3.pieChart()\n",
      "pie_chart.add_serie(x=buildings_scl.index, y=buildings_scl.values)\n",
      "pie_chart"
     ],
     "language": "python",
     "metadata": {},
     "outputs": [
      {
       "html": [
        "<div id=\"piechart\"><svg style=\"height:450px;\"></svg></div>\n",
        "\n",
        "<script>\n",
        "    nv.addGraph(function() {\n",
        "        var chart = nv.models.pieChart();\n",
        "        chart.x(function(d) { return d.label })\n",
        "            .y(function(d) { return d.value });\n",
        "        chart.height(450);\n",
        "\n",
        "        chart.margin({top: 30, right: 60, bottom: 20, left: 60})\n",
        "        chart.showLegend(true);\n",
        "        chart.showLabels(true);\n",
        "        chart.donut(false);\n",
        "        d3.select('#piechart svg')\n",
        "            .datum(data_piechart[0].values)\n",
        "            .transition().duration(500)\n",
        "            .attr('height', 450)\n",
        "            .call(chart);\n",
        "\n",
        "    return chart;\n",
        "});data_piechart=[{\"values\": [{\"value\": 131, \"label\": \"GV\"}, {\"value\": 11737, \"label\": \"HM\"}, {\"value\": 260, \"label\": \"HO\"}, {\"value\": 335705, \"label\": \"HS\"}, {\"value\": 66651, \"label\": \"HT\"}, {\"value\": 88, \"label\": \"IH\"}, {\"value\": 5803, \"label\": \"IL\"}, {\"value\": 2181, \"label\": \"IW\"}, {\"value\": 117, \"label\": \"ME\"}, {\"value\": 316, \"label\": \"MR\"}, {\"value\": 193, \"label\": \"MT\"}, {\"value\": 7064, \"label\": \"OF\"}, {\"value\": 149, \"label\": \"RB\"}, {\"value\": 7, \"label\": \"RC\"}, {\"value\": 7321, \"label\": \"RS\"}, {\"value\": 532, \"label\": \"SC\"}], \"key\": \"Serie 1\"}];\n",
        "</script>"
       ],
       "metadata": {},
       "output_type": "pyout",
       "prompt_number": 5,
       "text": [
        "<nvd3.pieChart.pieChart instance at 0x24e35f80>"
       ]
      }
     ],
     "prompt_number": 5
    },
    {
     "cell_type": "heading",
     "level": 2,
     "metadata": {},
     "source": [
      "Mean unit lot size by zone"
     ]
    },
    {
     "cell_type": "code",
     "collapsed": false,
     "input": [
      "ls_zone = buildings.groupby('zone_id').unit_lot_size.mean()\n",
      "# should be able to just use the series, opened an issue\n",
      "ls_zone = ls_zone.to_frame()\n",
      "ls_zone['zone_id2'] = [int(x) for x in ls_zone.index]\n",
      "ls_zone.unit_lot_size = ls_zone.unit_lot_size.astype(float)\n",
      "\n",
      "zones_acres = dset.zones\n",
      "zones_acres['zone_id2'] = zones_acres.index\n",
      "zones_acres.acres = zones_acres.acres.astype(float)"
     ],
     "language": "python",
     "metadata": {},
     "outputs": [],
     "prompt_number": 6
    },
    {
     "cell_type": "code",
     "collapsed": false,
     "input": [
      "map = folium.Map(location=[37.7792,-122.4391], zoom_start=11)\n",
      "map.geo_json(geo_path='data/zones.json', data=ls_zone,\n",
      "             columns=['zone_id2', 'unit_lot_size'], key_on='feature.properties.ZONE_ID',\n",
      "             fill_color='YlGn')\n",
      "map.create_map(\"map.html\")\n",
      "map"
     ],
     "language": "python",
     "metadata": {},
     "outputs": [
      {
       "html": [
        "<iframe class=\"folium-iframe\" src=\"files/map.html\" style=\"width: 960px; height: 500px; border: none; margin-left: 75px;\" scrolling=\"no\"></iframe>"
       ],
       "metadata": {},
       "output_type": "pyout",
       "prompt_number": 7,
       "text": [
        "<folium.folium.Map at 0x4b22490>"
       ]
      }
     ],
     "prompt_number": 7
    },
    {
     "cell_type": "heading",
     "level": 2,
     "metadata": {},
     "source": [
      "Homesales by zone"
     ]
    },
    {
     "cell_type": "code",
     "collapsed": false,
     "input": [
      "merged = pd.merge(dset.homesales, dset.parcels, left_on='parcel_id', right_index=True)"
     ],
     "language": "python",
     "metadata": {},
     "outputs": [],
     "prompt_number": 8
    },
    {
     "cell_type": "code",
     "collapsed": false,
     "input": [
      "sales_zone = merged.groupby('zone_id').size()\n",
      "sales_zone = sales_zone.to_frame()\n",
      "sales_zone['zone_id2'] = [int(x) for x in sales_zone.index]\n",
      "sales_zone['sales_count'] = sales_zone[0]"
     ],
     "language": "python",
     "metadata": {},
     "outputs": [],
     "prompt_number": 9
    },
    {
     "cell_type": "code",
     "collapsed": false,
     "input": [
      "map = folium.Map(location=[37.7792,-122.4391], zoom_start=11)\n",
      "map.geo_json(geo_path='data/zones.json', data=sales_zone,\n",
      "             columns=['zone_id2', 'sales_count'], key_on='feature.properties.ZONE_ID',\n",
      "             fill_color='OrRd')\n",
      "map.create_map(\"map2.html\")\n",
      "map"
     ],
     "language": "python",
     "metadata": {},
     "outputs": [
      {
       "html": [
        "<iframe class=\"folium-iframe\" src=\"files/map2.html\" style=\"width: 960px; height: 500px; border: none; margin-left: 75px;\" scrolling=\"no\"></iframe>"
       ],
       "metadata": {},
       "output_type": "pyout",
       "prompt_number": 10,
       "text": [
        "<folium.folium.Map at 0x2bc34290>"
       ]
      }
     ],
     "prompt_number": 10
    },
    {
     "cell_type": "code",
     "collapsed": false,
     "input": [
      "#import subprocess\n",
      "#subprocess.call([\"urbansim\", \"serve\", \"data/bayarea.h5\"])"
     ],
     "language": "python",
     "metadata": {},
     "outputs": [],
     "prompt_number": 11
    }
   ],
   "metadata": {}
  }
 ]
}