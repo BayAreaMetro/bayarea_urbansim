{
 "metadata": {
  "name": "",
  "signature": "sha256:c94b18aeabe98712e7393a2e6d3774f6e131ff1fb4240c4e6d374e66e79160fa"
 },
 "nbformat": 3,
 "nbformat_minor": 0,
 "worksheets": [
  {
   "cells": [
    {
     "cell_type": "heading",
     "level": 1,
     "metadata": {},
     "source": [
      "Residential Price Model"
     ]
    },
    {
     "cell_type": "heading",
     "level": 2,
     "metadata": {},
     "source": [
      "Imports"
     ]
    },
    {
     "cell_type": "code",
     "collapsed": false,
     "input": [
      "import numpy as np\n",
      "import pandas as pd\n",
      "import dataset\n",
      "from urbansim.models import HedonicModel, HedonicModelGroup\n",
      "dset = dataset.LocalDataset('data/bayarea.h5')"
     ],
     "language": "python",
     "metadata": {},
     "outputs": [],
     "prompt_number": 47
    },
    {
     "cell_type": "heading",
     "level": 2,
     "metadata": {},
     "source": [
      "Merge"
     ]
    },
    {
     "cell_type": "code",
     "collapsed": false,
     "input": [
      "buildings = dset.homesales\n",
      "nodes = dset.nodes\n",
      "nodes = nodes.replace([np.inf, -np.inf], np.nan).fillna(0)\n",
      "buildings = pd.merge(buildings,nodes,left_on=\"_node_id\",right_index=True)\n",
      "print buildings.columns"
     ],
     "language": "python",
     "metadata": {},
     "outputs": [
      {
       "output_type": "stream",
       "stream": "stdout",
       "text": [
        "WARNING: fetching precomputed nodes off of disk\n",
        "Index([u'_node_id', u'X', u'Y', u'City', u'Lot_size', u'SQft', u'Year_built', u'Sale_price', u'parcel_id', u'sales', u'Sale_price_flt', u'_node_id0', u'_node_id1', u'_node_id2', u'_node_id_x', u'sale_price_flt', u'year_built', u'unit_lot_size', u'unit_sqft', u'_graph_id', u'_node_id_y', u'sum_residential_units', u'sum_nonresidential_units', u'ave_unit_sqft', u'ave_lot_sqft', u'ave_income', u'population', u'poor', u'hhsize', u'jobs', u'sfdu', u'renters'], dtype='object')"
       ]
      },
      {
       "output_type": "stream",
       "stream": "stdout",
       "text": [
        "\n"
       ]
      }
     ],
     "prompt_number": 48
    },
    {
     "cell_type": "heading",
     "level": 2,
     "metadata": {},
     "source": [
      "urbansim"
     ]
    },
    {
     "cell_type": "code",
     "collapsed": false,
     "input": [
      "cfg = {\n",
      "    \"estimate_filters\": [\n",
      "        \"unit_lot_size > 0\",\n",
      "        \"year_built > 1000\",\n",
      "        \"year_built < 2020\",\n",
      "        \"unit_sqft > 100\",\n",
      "        \"unit_sqft < 10000\",\n",
      "        \"sale_price_flt > 30\",\n",
      "        \"sale_price_flt < 1500\"\n",
      "    ],\n",
      "    \"patsy\": [\"I(year_built < 1940)\",\n",
      "              \"I(year_built > 2005)\",\n",
      "              \"np.log1p(unit_sqft)\",\n",
      "              \"np.log1p(unit_lot_size)\",\n",
      "              \"sum_residential_units\",\n",
      "              \"ave_unit_sqft\",\n",
      "              \"ave_lot_sqft\",\n",
      "              \"ave_income\",\n",
      "              \"poor\",\n",
      "              \"jobs\",\n",
      "              \"1\"\n",
      "    ],\n",
      "    \"dep_var\": \"sale_price_flt\",\n",
      "    \"dep_var_transform\": \"np.log1p\",\n",
      "    \"ytransform\": np.exp\n",
      "}"
     ],
     "language": "python",
     "metadata": {},
     "outputs": [],
     "prompt_number": 49
    },
    {
     "cell_type": "code",
     "collapsed": false,
     "input": [
      "def patsy_expression(cfg):\n",
      "    patsy_exp = cfg['patsy']\n",
      "    if type(patsy_exp) == list: patsy_exp = ' + '.join(cfg['patsy'])\n",
      "    # deal with missing dep_var_transform\n",
      "    patsy_exp = '%s(%s) ~ ' % (cfg['dep_var_transform'],cfg['dep_var']) + patsy_exp\n",
      "    return patsy_exp\n",
      "\n",
      "model_expression = patsy_expression(cfg)"
     ],
     "language": "python",
     "metadata": {},
     "outputs": [],
     "prompt_number": 50
    },
    {
     "cell_type": "code",
     "collapsed": false,
     "input": [
      "hm = HedonicModel(cfg.get('estimate_filters',[]),cfg.get('simulate_filters',[]),patsy_expression(cfg),\n",
      "                          ytransform=cfg['ytransform'])"
     ],
     "language": "python",
     "metadata": {},
     "outputs": [],
     "prompt_number": 51
    },
    {
     "cell_type": "code",
     "collapsed": false,
     "input": [
      "fits = hm.fit_model(buildings)"
     ],
     "language": "python",
     "metadata": {},
     "outputs": [],
     "prompt_number": 52
    },
    {
     "cell_type": "code",
     "collapsed": false,
     "input": [
      "fits.summary()"
     ],
     "language": "python",
     "metadata": {},
     "outputs": [
      {
       "html": [
        "<table class=\"simpletable\">\n",
        "<caption>OLS Regression Results</caption>\n",
        "<tr>\n",
        "  <th>Dep. Variable:</th>    <td>np.log1p(sale_price_flt)</td> <th>  R-squared:         </th>  <td>   0.265</td>  \n",
        "</tr>\n",
        "<tr>\n",
        "  <th>Model:</th>                       <td>OLS</td>           <th>  Adj. R-squared:    </th>  <td>   0.265</td>  \n",
        "</tr>\n",
        "<tr>\n",
        "  <th>Method:</th>                 <td>Least Squares</td>      <th>  F-statistic:       </th>  <td>   7008.</td>  \n",
        "</tr>\n",
        "<tr>\n",
        "  <th>Date:</th>                 <td>Fri, 18 Apr 2014</td>     <th>  Prob (F-statistic):</th>   <td>  0.00</td>   \n",
        "</tr>\n",
        "<tr>\n",
        "  <th>Time:</th>                     <td>00:18:33</td>         <th>  Log-Likelihood:    </th> <td>-1.3752e+05</td>\n",
        "</tr>\n",
        "<tr>\n",
        "  <th>No. Observations:</th>          <td>194138</td>          <th>  AIC:               </th>  <td>2.751e+05</td> \n",
        "</tr>\n",
        "<tr>\n",
        "  <th>Df Residuals:</th>              <td>194127</td>          <th>  BIC:               </th>  <td>2.752e+05</td> \n",
        "</tr>\n",
        "<tr>\n",
        "  <th>Df Model:</th>                  <td>    10</td>          <th>                     </th>      <td> </td>     \n",
        "</tr>\n",
        "</table>\n",
        "<table class=\"simpletable\">\n",
        "<tr>\n",
        "                <td></td>                  <th>coef</th>     <th>std err</th>      <th>t</th>      <th>P>|t|</th> <th>[95.0% Conf. Int.]</th> \n",
        "</tr>\n",
        "<tr>\n",
        "  <th>Intercept</th>                    <td>    4.4789</td> <td>    0.037</td> <td>  120.436</td> <td> 0.000</td> <td>    4.406     4.552</td>\n",
        "</tr>\n",
        "<tr>\n",
        "  <th>I(year_built < 1940)[T.True]</th> <td>    0.2419</td> <td>    0.004</td> <td>   64.802</td> <td> 0.000</td> <td>    0.235     0.249</td>\n",
        "</tr>\n",
        "<tr>\n",
        "  <th>I(year_built > 2005)[T.True]</th> <td>    0.0896</td> <td>    0.006</td> <td>   14.147</td> <td> 0.000</td> <td>    0.077     0.102</td>\n",
        "</tr>\n",
        "<tr>\n",
        "  <th>np.log1p(unit_sqft)</th>          <td>   -0.2693</td> <td>    0.003</td> <td>  -85.071</td> <td> 0.000</td> <td>   -0.275    -0.263</td>\n",
        "</tr>\n",
        "<tr>\n",
        "  <th>np.log1p(unit_lot_size)</th>      <td>    0.0889</td> <td>    0.001</td> <td>   60.444</td> <td> 0.000</td> <td>    0.086     0.092</td>\n",
        "</tr>\n",
        "<tr>\n",
        "  <th>sum_residential_units</th>        <td>    0.1019</td> <td>    0.003</td> <td>   39.880</td> <td> 0.000</td> <td>    0.097     0.107</td>\n",
        "</tr>\n",
        "<tr>\n",
        "  <th>ave_unit_sqft</th>                <td>   -0.2970</td> <td>    0.004</td> <td>  -73.695</td> <td> 0.000</td> <td>   -0.305    -0.289</td>\n",
        "</tr>\n",
        "<tr>\n",
        "  <th>ave_lot_sqft</th>                 <td>   -0.0257</td> <td>    0.001</td> <td>  -48.675</td> <td> 0.000</td> <td>   -0.027    -0.025</td>\n",
        "</tr>\n",
        "<tr>\n",
        "  <th>ave_income</th>                   <td>    0.4127</td> <td>    0.003</td> <td>  163.696</td> <td> 0.000</td> <td>    0.408     0.418</td>\n",
        "</tr>\n",
        "<tr>\n",
        "  <th>poor</th>                         <td>   -0.1761</td> <td>    0.002</td> <td> -106.788</td> <td> 0.000</td> <td>   -0.179    -0.173</td>\n",
        "</tr>\n",
        "<tr>\n",
        "  <th>jobs</th>                         <td>    0.0443</td> <td>    0.001</td> <td>   85.108</td> <td> 0.000</td> <td>    0.043     0.045</td>\n",
        "</tr>\n",
        "</table>\n",
        "<table class=\"simpletable\">\n",
        "<tr>\n",
        "  <th>Omnibus:</th>       <td>24656.064</td> <th>  Durbin-Watson:     </th>  <td>   0.638</td> \n",
        "</tr>\n",
        "<tr>\n",
        "  <th>Prob(Omnibus):</th>  <td> 0.000</td>   <th>  Jarque-Bera (JB):  </th> <td>158406.175</td>\n",
        "</tr>\n",
        "<tr>\n",
        "  <th>Skew:</th>           <td> 0.438</td>   <th>  Prob(JB):          </th>  <td>    0.00</td> \n",
        "</tr>\n",
        "<tr>\n",
        "  <th>Kurtosis:</th>       <td> 7.338</td>   <th>  Cond. No.          </th>  <td>    725.</td> \n",
        "</tr>\n",
        "</table>"
       ],
       "metadata": {},
       "output_type": "pyout",
       "prompt_number": 53,
       "text": [
        "<class 'statsmodels.iolib.summary.Summary'>\n",
        "\"\"\"\n",
        "                               OLS Regression Results                               \n",
        "====================================================================================\n",
        "Dep. Variable:     np.log1p(sale_price_flt)   R-squared:                       0.265\n",
        "Model:                                  OLS   Adj. R-squared:                  0.265\n",
        "Method:                       Least Squares   F-statistic:                     7008.\n",
        "Date:                      Fri, 18 Apr 2014   Prob (F-statistic):               0.00\n",
        "Time:                              00:18:33   Log-Likelihood:            -1.3752e+05\n",
        "No. Observations:                    194138   AIC:                         2.751e+05\n",
        "Df Residuals:                        194127   BIC:                         2.752e+05\n",
        "Df Model:                                10                                         \n",
        "================================================================================================\n",
        "                                   coef    std err          t      P>|t|      [95.0% Conf. Int.]\n",
        "------------------------------------------------------------------------------------------------\n",
        "Intercept                        4.4789      0.037    120.436      0.000         4.406     4.552\n",
        "I(year_built < 1940)[T.True]     0.2419      0.004     64.802      0.000         0.235     0.249\n",
        "I(year_built > 2005)[T.True]     0.0896      0.006     14.147      0.000         0.077     0.102\n",
        "np.log1p(unit_sqft)             -0.2693      0.003    -85.071      0.000        -0.275    -0.263\n",
        "np.log1p(unit_lot_size)          0.0889      0.001     60.444      0.000         0.086     0.092\n",
        "sum_residential_units            0.1019      0.003     39.880      0.000         0.097     0.107\n",
        "ave_unit_sqft                   -0.2970      0.004    -73.695      0.000        -0.305    -0.289\n",
        "ave_lot_sqft                    -0.0257      0.001    -48.675      0.000        -0.027    -0.025\n",
        "ave_income                       0.4127      0.003    163.696      0.000         0.408     0.418\n",
        "poor                            -0.1761      0.002   -106.788      0.000        -0.179    -0.173\n",
        "jobs                             0.0443      0.001     85.108      0.000         0.043     0.045\n",
        "==============================================================================\n",
        "Omnibus:                    24656.064   Durbin-Watson:                   0.638\n",
        "Prob(Omnibus):                  0.000   Jarque-Bera (JB):           158406.175\n",
        "Skew:                           0.438   Prob(JB):                         0.00\n",
        "Kurtosis:                       7.338   Cond. No.                         725.\n",
        "==============================================================================\n",
        "\"\"\""
       ]
      }
     ],
     "prompt_number": 53
    },
    {
     "cell_type": "code",
     "collapsed": false,
     "input": [
      "new_unit_price_res = hm.predict(buildings)"
     ],
     "language": "python",
     "metadata": {},
     "outputs": [],
     "prompt_number": 54
    },
    {
     "cell_type": "code",
     "collapsed": false,
     "input": [
      "new_unit_price_res"
     ],
     "language": "python",
     "metadata": {},
     "outputs": [
      {
       "metadata": {},
       "output_type": "pyout",
       "prompt_number": 55,
       "text": [
        "RecordID\n",
        "378         120.884068\n",
        "184211      184.278887\n",
        "176692      204.547924\n",
        "1222        269.764323\n",
        "1263        331.955687\n",
        "1667        349.885033\n",
        "24829       371.256965\n",
        "40032       335.634141\n",
        "164905      341.900027\n",
        "169983      372.765028\n",
        "184368      341.900027\n",
        "230531      351.729230\n",
        "3345        195.985635\n",
        "31036       270.778400\n",
        "107793      195.696069\n",
        "...\n",
        "260963      301.030801\n",
        "260969      312.391840\n",
        "260972      288.110456\n",
        "260973      388.622747\n",
        "260974      338.107035\n",
        "260975      230.210204\n",
        "260976      240.397362\n",
        "260981      322.695974\n",
        "260983      260.062635\n",
        "260985      718.272947\n",
        "260988      257.412599\n",
        "260992      323.340543\n",
        "260994      309.608405\n",
        "260996      248.999976\n",
        "260998      264.765664\n",
        "Length: 209075, dtype: float64"
       ]
      }
     ],
     "prompt_number": 55
    },
    {
     "cell_type": "code",
     "collapsed": false,
     "input": [],
     "language": "python",
     "metadata": {},
     "outputs": []
    }
   ],
   "metadata": {}
  }
 ]
}