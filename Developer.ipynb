{
 "metadata": {
  "name": "",
  "signature": "sha256:40a8d9940e485efa9a43ae08e91b5f7e505843fa2cc3f185358b49ac24c2d19d"
 },
 "nbformat": 3,
 "nbformat_minor": 0,
 "worksheets": [
  {
   "cells": [
    {
     "cell_type": "code",
     "collapsed": false,
     "input": [
      "%load_ext autoreload\n",
      "%autoreload 2\n",
      "import models\n",
      "import dataset\n",
      "dset = dataset.BayAreaDataset(\"data/bayarea.h5\")\n",
      "dset.debug = True"
     ],
     "language": "python",
     "metadata": {},
     "outputs": [
      {
       "output_type": "stream",
       "stream": "stdout",
       "text": [
        "The autoreload extension is already loaded. To reload it, use:\n",
        "  %reload_ext autoreload\n"
       ]
      }
     ],
     "prompt_number": 24
    },
    {
     "cell_type": "heading",
     "level": 2,
     "metadata": {},
     "source": [
      "Compute a node-based average price for each use"
     ]
    },
    {
     "cell_type": "code",
     "collapsed": false,
     "input": [
      "models.build_networks(dset)"
     ],
     "language": "python",
     "metadata": {},
     "outputs": [],
     "prompt_number": 25
    },
    {
     "cell_type": "code",
     "collapsed": false,
     "input": [
      "models.neighborhood_vars(dset)"
     ],
     "language": "python",
     "metadata": {},
     "outputs": [
      {
       "output_type": "stream",
       "stream": "stdout",
       "text": [
        "Computing accessibility variables\n",
        "Computing sum_residential_units\n",
        "    Fields available to accvar = residential_units, _node_id0\n",
        "Fetching buildings\n",
        "Returning primary attribute: year_built of buildings"
       ]
      },
      {
       "output_type": "stream",
       "stream": "stdout",
       "text": [
        "\n",
        "Computing: unit_lot_size of buildings as\n",
        "    buildings.lot_size / buildings.residential_units\n",
        "Computing: lot_size of buildings as\n",
        "    reindex(parcels.shape_area, buildings.parcel_id) * 10.764\n",
        "Fetching parcels\n",
        "Returning primary attribute: shape_area of parcels"
       ]
      },
      {
       "output_type": "stream",
       "stream": "stdout",
       "text": [
        "\n",
        "Returning primary attribute: parcel_id of buildings\n",
        "Returning primary attribute: residential_units of buildings"
       ]
      },
      {
       "output_type": "stream",
       "stream": "stdout",
       "text": [
        "\n",
        "Computing: unit_sqft of buildings as\n",
        "    buildings.building_sqft / buildings.residential_units\n",
        "Returning primary attribute: building_sqft of buildings\n",
        "Returning primary attribute: residential_units of buildings\n",
        "Returning primary attribute: building_type_id of buildings\n",
        "Returning primary attribute: stories of buildings"
       ]
      },
      {
       "output_type": "stream",
       "stream": "stdout",
       "text": [
        "\n",
        "Returning primary attribute: residential_units of buildings\n",
        "Fetching building_sqft_per_job\n",
        "Returning primary attribute: building_type_id of buildings\n",
        "Returning primary attribute: non_residential_sqft of buildings"
       ]
      },
      {
       "output_type": "stream",
       "stream": "stdout",
       "text": [
        "\n",
        "Returning primary attribute: building_type_id of buildings\n",
        "Returning primary attribute: residential_sales_price of buildings\n",
        "Returning primary attribute: residential_rent of buildings\n",
        "Returning primary attribute: non_residential_rent of buildings\n",
        "Computing: _node_id of buildings as\n",
        "    reindex(parcels._node_id, buildings.parcel_id)\n",
        "Returning primary attribute: _node_id of parcels\n",
        "Returning primary attribute: parcel_id of buildings\n",
        "Computing: _node_id0 of buildings as"
       ]
      },
      {
       "output_type": "stream",
       "stream": "stdout",
       "text": [
        "\n",
        "    reindex(parcels._node_id0, buildings.parcel_id)\n",
        "Returning primary attribute: _node_id0 of parcels\n",
        "Returning primary attribute: parcel_id of buildings\n",
        "Computing: zone_id of buildings as"
       ]
      },
      {
       "output_type": "stream",
       "stream": "stdout",
       "text": [
        "\n",
        "    reindex(parcels.zone_id, buildings.parcel_id)\n",
        "Returning primary attribute: zone_id of parcels\n",
        "Returning primary attribute: parcel_id of buildings\n",
        "Returning from cache: lot_size of buildings"
       ]
      },
      {
       "output_type": "stream",
       "stream": "stdout",
       "text": [
        "\n",
        "    dataframe = buildings, varname=residential_units"
       ]
      },
      {
       "output_type": "stream",
       "stream": "stdout",
       "text": [
        "\n",
        "    radius = 500, aggregation = AGG_SUM, decay = DECAY_LINEAR\n",
        "Computing sum_nonresidential_units"
       ]
      },
      {
       "output_type": "stream",
       "stream": "stdout",
       "text": [
        "\n",
        "    Fields available to accvar = non_residential_units, _node_id0\n",
        "Returning primary attribute: year_built of buildings\n",
        "Returning from cache: unit_lot_size of buildings\n",
        "Returning from cache: unit_sqft of buildings\n",
        "Returning primary attribute: building_type_id of buildings\n",
        "Returning primary attribute: stories of buildings"
       ]
      },
      {
       "output_type": "stream",
       "stream": "stdout",
       "text": [
        "\n",
        "Returning primary attribute: residential_units of buildings\n",
        "Returning primary attribute: building_type_id of buildings\n",
        "Returning primary attribute: non_residential_sqft of buildings"
       ]
      },
      {
       "output_type": "stream",
       "stream": "stdout",
       "text": [
        "\n",
        "Returning primary attribute: building_type_id of buildings\n",
        "Returning primary attribute: residential_sales_price of buildings\n",
        "Returning primary attribute: residential_rent of buildings\n",
        "Returning primary attribute: non_residential_rent of buildings\n",
        "Returning from cache: _node_id of buildings\n",
        "Returning from cache: _node_id0 of buildings\n",
        "Returning from cache: zone_id of buildings\n",
        "Returning from cache: lot_size of buildings\n",
        "    dataframe = buildings, varname=non_residential_units"
       ]
      },
      {
       "output_type": "stream",
       "stream": "stdout",
       "text": [
        "\n",
        "    radius = 500, aggregation = AGG_SUM, decay = DECAY_LINEAR\n",
        "Computing ave_unit_sqft"
       ]
      },
      {
       "output_type": "stream",
       "stream": "stdout",
       "text": [
        "\n",
        "    Fields available to accvar = unit_sqft, _node_id0\n",
        "Returning primary attribute: year_built of buildings\n",
        "Returning from cache: unit_lot_size of buildings\n",
        "Returning from cache: unit_sqft of buildings\n",
        "Returning primary attribute: building_type_id of buildings\n",
        "Returning primary attribute: stories of buildings"
       ]
      },
      {
       "output_type": "stream",
       "stream": "stdout",
       "text": [
        "\n",
        "Returning primary attribute: residential_units of buildings\n",
        "Returning primary attribute: building_type_id of buildings\n",
        "Returning primary attribute: non_residential_sqft of buildings"
       ]
      },
      {
       "output_type": "stream",
       "stream": "stdout",
       "text": [
        "\n",
        "Returning primary attribute: building_type_id of buildings\n",
        "Returning primary attribute: residential_sales_price of buildings\n",
        "Returning primary attribute: residential_rent of buildings\n",
        "Returning primary attribute: non_residential_rent of buildings\n",
        "Returning from cache: _node_id of buildings\n",
        "Returning from cache: _node_id0 of buildings\n",
        "Returning from cache: zone_id of buildings\n",
        "Returning from cache: lot_size of buildings\n",
        "    dataframe = buildings, varname=unit_sqft"
       ]
      },
      {
       "output_type": "stream",
       "stream": "stdout",
       "text": [
        "\n",
        "    radius = 500, aggregation = AGG_AVE, decay = DECAY_FLAT\n",
        "Computing ave_lot_sqft"
       ]
      },
      {
       "output_type": "stream",
       "stream": "stdout",
       "text": [
        "\n",
        "    Fields available to accvar = unit_lot_size, _node_id0\n",
        "Returning primary attribute: year_built of buildings\n",
        "Returning from cache: unit_lot_size of buildings\n",
        "Returning from cache: unit_sqft of buildings\n",
        "Returning primary attribute: building_type_id of buildings\n",
        "Returning primary attribute: stories of buildings"
       ]
      },
      {
       "output_type": "stream",
       "stream": "stdout",
       "text": [
        "\n",
        "Returning primary attribute: residential_units of buildings\n",
        "Returning primary attribute: building_type_id of buildings\n",
        "Returning primary attribute: non_residential_sqft of buildings"
       ]
      },
      {
       "output_type": "stream",
       "stream": "stdout",
       "text": [
        "\n",
        "Returning primary attribute: building_type_id of buildings\n",
        "Returning primary attribute: residential_sales_price of buildings\n",
        "Returning primary attribute: residential_rent of buildings\n",
        "Returning primary attribute: non_residential_rent of buildings\n",
        "Returning from cache: _node_id of buildings\n",
        "Returning from cache: _node_id0 of buildings\n",
        "Returning from cache: zone_id of buildings\n",
        "Returning from cache: lot_size of buildings\n",
        "    dataframe = buildings, varname=unit_lot_size"
       ]
      },
      {
       "output_type": "stream",
       "stream": "stdout",
       "text": [
        "\n",
        "    radius = 500, aggregation = AGG_AVE, decay = DECAY_FLAT\n",
        "Computing population"
       ]
      },
      {
       "output_type": "stream",
       "stream": "stdout",
       "text": [
        "\n",
        "    Fields available to accvar = persons, _node_id0\n",
        "Fetching households\n",
        "Returning primary attribute: income of households"
       ]
      },
      {
       "output_type": "stream",
       "stream": "stdout",
       "text": [
        "\n",
        "Returning primary attribute: building_id of households"
       ]
      },
      {
       "output_type": "stream",
       "stream": "stdout",
       "text": [
        "\n",
        "Returning primary attribute: tenure of households\n",
        "Returning primary attribute: persons of households\n",
        "Computing: _node_id of households as\n",
        "    reindex(buildings._node_id, households.building_id)\n",
        "Returning from cache: _node_id of buildings\n",
        "Returning primary attribute: building_id of households\n",
        "Computing: _node_id0 of households as"
       ]
      },
      {
       "output_type": "stream",
       "stream": "stdout",
       "text": [
        "\n",
        "    reindex(buildings._node_id0, households.building_id)\n",
        "Returning from cache: _node_id0 of buildings\n",
        "Returning primary attribute: building_id of households\n",
        "    dataframe = households, varname=persons"
       ]
      },
      {
       "output_type": "stream",
       "stream": "stdout",
       "text": [
        "\n",
        "    radius = 500, aggregation = AGG_SUM, decay = DECAY_LINEAR\n",
        "Computing poor"
       ]
      },
      {
       "output_type": "stream",
       "stream": "stdout",
       "text": [
        "\n",
        "    Fields available to accvar = persons, income, _node_id0\n",
        "Returning primary attribute: income of households\n",
        "Returning primary attribute: building_id of households"
       ]
      },
      {
       "output_type": "stream",
       "stream": "stdout",
       "text": [
        "\n",
        "Returning primary attribute: tenure of households\n",
        "Returning primary attribute: persons of households\n",
        "Returning from cache: _node_id of households\n",
        "Returning from cache: _node_id0 of households\n",
        "    Filters = ['income < 40000']"
       ]
      },
      {
       "output_type": "stream",
       "stream": "stdout",
       "text": [
        "\n",
        "    dataframe = households, varname=persons\n",
        "    radius = 500, aggregation = AGG_SUM, decay = DECAY_LINEAR\n",
        "Computing renters"
       ]
      },
      {
       "output_type": "stream",
       "stream": "stdout",
       "text": [
        "\n",
        "    Fields available to accvar = tenure, _node_id0\n",
        "Returning primary attribute: income of households\n",
        "Returning primary attribute: building_id of households"
       ]
      },
      {
       "output_type": "stream",
       "stream": "stdout",
       "text": [
        "\n",
        "Returning primary attribute: tenure of households\n",
        "Returning primary attribute: persons of households\n",
        "Returning from cache: _node_id of households\n",
        "Returning from cache: _node_id0 of households\n",
        "    Filters = ['tenure == 2']"
       ]
      },
      {
       "output_type": "stream",
       "stream": "stdout",
       "text": [
        "\n",
        "    dataframe = households, varname=None\n",
        "    radius = 500, aggregation = AGG_SUM, decay = DECAY_LINEAR\n",
        "Computing sfdu"
       ]
      },
      {
       "output_type": "stream",
       "stream": "stdout",
       "text": [
        "\n",
        "    Fields available to accvar = building_type_id, _node_id0\n",
        "Returning primary attribute: year_built of buildings\n",
        "Returning from cache: unit_lot_size of buildings\n",
        "Returning from cache: unit_sqft of buildings\n",
        "Returning primary attribute: building_type_id of buildings\n",
        "Returning primary attribute: stories of buildings"
       ]
      },
      {
       "output_type": "stream",
       "stream": "stdout",
       "text": [
        "\n",
        "Returning primary attribute: residential_units of buildings\n",
        "Returning primary attribute: building_type_id of buildings\n",
        "Returning primary attribute: non_residential_sqft of buildings"
       ]
      },
      {
       "output_type": "stream",
       "stream": "stdout",
       "text": [
        "\n",
        "Returning primary attribute: building_type_id of buildings\n",
        "Returning primary attribute: residential_sales_price of buildings\n",
        "Returning primary attribute: residential_rent of buildings\n",
        "Returning primary attribute: non_residential_rent of buildings\n",
        "Returning from cache: _node_id of buildings\n",
        "Returning from cache: _node_id0 of buildings\n",
        "Returning from cache: zone_id of buildings\n",
        "Returning from cache: lot_size of buildings\n",
        "    Filters = ['building_type_id == 1']"
       ]
      },
      {
       "output_type": "stream",
       "stream": "stdout",
       "text": [
        "\n",
        "    dataframe = buildings, varname=None\n",
        "    radius = 500, aggregation = AGG_SUM, decay = DECAY_LINEAR\n",
        "Computing hhsize"
       ]
      },
      {
       "output_type": "stream",
       "stream": "stdout",
       "text": [
        "\n",
        "    Fields available to accvar = persons, _node_id0\n",
        "Returning primary attribute: income of households\n",
        "Returning primary attribute: building_id of households"
       ]
      },
      {
       "output_type": "stream",
       "stream": "stdout",
       "text": [
        "\n",
        "Returning primary attribute: tenure of households\n",
        "Returning primary attribute: persons of households\n",
        "Returning from cache: _node_id of households\n",
        "Returning from cache: _node_id0 of households\n",
        "    dataframe = households, varname=persons"
       ]
      },
      {
       "output_type": "stream",
       "stream": "stdout",
       "text": [
        "\n",
        "    radius = 500, aggregation = AGG_AVE, decay = DECAY_FLAT\n",
        "Computing jobs"
       ]
      },
      {
       "output_type": "stream",
       "stream": "stdout",
       "text": [
        "\n",
        "    Fields available to accvar = _node_id0\n",
        "Fetching jobs\n",
        "Returning primary attribute: building_id of jobs"
       ]
      },
      {
       "output_type": "stream",
       "stream": "stdout",
       "text": [
        "\n",
        "Computing: _node_id0 of jobs as\n",
        "    reindex(buildings._node_id0, jobs.building_id)\n",
        "Returning from cache: _node_id0 of buildings\n",
        "Returning primary attribute: building_id of jobs\n",
        "Computing: _node_id of jobs as"
       ]
      },
      {
       "output_type": "stream",
       "stream": "stdout",
       "text": [
        "\n",
        "    reindex(buildings._node_id, jobs.building_id)\n",
        "Returning from cache: _node_id of buildings\n",
        "Returning primary attribute: building_id of jobs\n",
        "    dataframe = jobs, varname=None"
       ]
      },
      {
       "output_type": "stream",
       "stream": "stdout",
       "text": [
        "\n",
        "    radius = 500, aggregation = AGG_SUM, decay = DECAY_LINEAR\n",
        "Computing ave_income"
       ]
      },
      {
       "output_type": "stream",
       "stream": "stdout",
       "text": [
        "\n",
        "    Fields available to accvar = income, _node_id0\n",
        "Returning primary attribute: income of households\n",
        "Returning primary attribute: building_id of households"
       ]
      },
      {
       "output_type": "stream",
       "stream": "stdout",
       "text": [
        "\n",
        "Returning primary attribute: tenure of households\n",
        "Returning primary attribute: persons of households\n",
        "Returning from cache: _node_id of households\n",
        "Returning from cache: _node_id0 of households\n",
        "    dataframe = households, varname=income"
       ]
      },
      {
       "output_type": "stream",
       "stream": "stdout",
       "text": [
        "\n",
        "    radius = 500, aggregation = AGG_AVE, decay = DECAY_FLAT\n",
        "Done"
       ]
      },
      {
       "output_type": "stream",
       "stream": "stdout",
       "text": [
        "\n"
       ]
      }
     ],
     "prompt_number": 26
    },
    {
     "cell_type": "code",
     "collapsed": false,
     "input": [
      "models.rsh_simulate(dset)\n",
      "models.rrh_simulate(dset)\n",
      "models.nrh_simulate(dset)"
     ],
     "language": "python",
     "metadata": {},
     "outputs": [
      {
       "output_type": "stream",
       "stream": "stdout",
       "text": [
        "Returning primary attribute: year_built of buildings\n",
        "Returning from cache: unit_lot_size of buildings\n",
        "Returning from cache: unit_sqft of buildings\n",
        "Returning primary attribute: building_type_id of buildings\n",
        "Returning primary attribute: stories of buildings"
       ]
      },
      {
       "output_type": "stream",
       "stream": "stdout",
       "text": [
        "\n",
        "Returning primary attribute: residential_units of buildings\n",
        "Returning primary attribute: building_type_id of buildings\n",
        "Returning primary attribute: non_residential_sqft of buildings"
       ]
      },
      {
       "output_type": "stream",
       "stream": "stdout",
       "text": [
        "\n",
        "Returning primary attribute: building_type_id of buildings\n",
        "Returning primary attribute: residential_sales_price of buildings\n",
        "Returning primary attribute: residential_rent of buildings\n",
        "Returning primary attribute: non_residential_rent of buildings\n",
        "Returning from cache: _node_id of buildings\n",
        "Returning from cache: _node_id0 of buildings\n",
        "Returning from cache: zone_id of buildings\n",
        "Returning from cache: lot_size of buildings\n",
        "Running hedonic simulation\n"
       ]
      },
      {
       "output_type": "stream",
       "stream": "stdout",
       "text": [
        "\n",
        "count    1796149.000000\n",
        "mean         269.530157\n",
        "std           60.679903\n",
        "min            2.273280\n",
        "25%          230.615562\n",
        "50%          266.694812\n",
        "75%          304.089766\n",
        "max         2295.515559\n",
        "dtype: float64"
       ]
      },
      {
       "output_type": "stream",
       "stream": "stdout",
       "text": [
        "\n",
        "Returning primary attribute: year_built of buildings"
       ]
      },
      {
       "output_type": "stream",
       "stream": "stdout",
       "text": [
        "\n",
        "Returning from cache: unit_lot_size of buildings\n",
        "Returning from cache: unit_sqft of buildings\n",
        "Returning primary attribute: building_type_id of buildings\n",
        "Returning primary attribute: stories of buildings"
       ]
      },
      {
       "output_type": "stream",
       "stream": "stdout",
       "text": [
        "\n",
        "Returning primary attribute: residential_units of buildings\n",
        "Returning primary attribute: building_type_id of buildings\n",
        "Returning primary attribute: non_residential_sqft of buildings"
       ]
      },
      {
       "output_type": "stream",
       "stream": "stdout",
       "text": [
        "\n",
        "Returning primary attribute: building_type_id of buildings\n",
        "Returning primary attribute: residential_sales_price of buildings\n",
        "Returning primary attribute: residential_rent of buildings\n",
        "Returning primary attribute: non_residential_rent of buildings\n",
        "Returning from cache: _node_id of buildings\n",
        "Returning from cache: _node_id0 of buildings\n",
        "Returning from cache: zone_id of buildings\n",
        "Returning from cache: lot_size of buildings\n",
        "Running hedonic simulation\n"
       ]
      },
      {
       "output_type": "stream",
       "stream": "stdout",
       "text": [
        "\n",
        "count    1796149.000000\n",
        "mean           2.297442\n",
        "std            0.281413\n",
        "min            0.384809\n",
        "25%            2.121706\n",
        "50%            2.274556\n",
        "75%            2.449613\n",
        "max           11.234001\n",
        "dtype: float64"
       ]
      },
      {
       "output_type": "stream",
       "stream": "stdout",
       "text": [
        "\n",
        "Returning primary attribute: year_built of buildings"
       ]
      },
      {
       "output_type": "stream",
       "stream": "stdout",
       "text": [
        "\n",
        "Returning from cache: unit_lot_size of buildings\n",
        "Returning from cache: unit_sqft of buildings\n",
        "Returning primary attribute: building_type_id of buildings\n",
        "Returning primary attribute: stories of buildings"
       ]
      },
      {
       "output_type": "stream",
       "stream": "stdout",
       "text": [
        "\n",
        "Returning primary attribute: residential_units of buildings\n",
        "Returning primary attribute: building_type_id of buildings\n",
        "Returning primary attribute: non_residential_sqft of buildings"
       ]
      },
      {
       "output_type": "stream",
       "stream": "stdout",
       "text": [
        "\n",
        "Returning primary attribute: building_type_id of buildings\n",
        "Returning primary attribute: residential_sales_price of buildings\n",
        "Returning primary attribute: residential_rent of buildings\n",
        "Returning primary attribute: non_residential_rent of buildings\n",
        "Returning from cache: _node_id of buildings\n",
        "Returning from cache: _node_id0 of buildings\n",
        "Returning from cache: zone_id of buildings\n",
        "Returning from cache: lot_size of buildings\n",
        "Running hedonic simulation\n"
       ]
      },
      {
       "output_type": "stream",
       "stream": "stdout",
       "text": [
        "\n",
        "count    116797.000000\n",
        "mean         17.268361\n",
        "std           5.384029\n",
        "min           6.214531\n",
        "25%          10.767426\n",
        "50%          19.090344\n",
        "75%          20.916855\n",
        "max          44.854929\n",
        "dtype: float64"
       ]
      },
      {
       "output_type": "stream",
       "stream": "stdout",
       "text": [
        "\n"
       ]
      }
     ],
     "prompt_number": 57
    },
    {
     "cell_type": "code",
     "collapsed": false,
     "input": [
      "models.price_vars(dset)"
     ],
     "language": "python",
     "metadata": {},
     "outputs": [
      {
       "output_type": "stream",
       "stream": "stdout",
       "text": [
        "Computing accessibility variables\n",
        "Computing residential\n",
        "    dataframe = buildings, varname=residential_sales_price"
       ]
      },
      {
       "output_type": "stream",
       "stream": "stdout",
       "text": [
        "\n",
        "    radius = 2000, aggregation = AGG_AVE, decay = DECAY_FLAT\n",
        "Computing retail"
       ]
      },
      {
       "output_type": "stream",
       "stream": "stdout",
       "text": [
        "\n",
        "    dataframe = buildings, varname=non_residential_rent"
       ]
      },
      {
       "output_type": "stream",
       "stream": "stdout",
       "text": [
        "\n",
        "    radius = 2000, aggregation = AGG_AVE, decay = DECAY_FLAT\n",
        "Computing office"
       ]
      },
      {
       "output_type": "stream",
       "stream": "stdout",
       "text": [
        "\n",
        "    dataframe = buildings, varname=non_residential_rent"
       ]
      },
      {
       "output_type": "stream",
       "stream": "stdout",
       "text": [
        "\n",
        "    radius = 2000, aggregation = AGG_AVE, decay = DECAY_FLAT\n",
        "Computing industrial"
       ]
      },
      {
       "output_type": "stream",
       "stream": "stdout",
       "text": [
        "\n",
        "    dataframe = buildings, varname=non_residential_rent"
       ]
      },
      {
       "output_type": "stream",
       "stream": "stdout",
       "text": [
        "\n",
        "    radius = 2000, aggregation = AGG_AVE, decay = DECAY_FLAT\n"
       ]
      }
     ],
     "prompt_number": 5
    },
    {
     "cell_type": "code",
     "collapsed": false,
     "input": [
      "print dset.nodes_prices.describe()"
     ],
     "language": "python",
     "metadata": {},
     "outputs": [
      {
       "output_type": "stream",
       "stream": "stdout",
       "text": [
        "         residential         retail         office     industrial\n",
        "count  226060.000000  226060.000000  226060.000000  226060.000000\n",
        "mean      216.338947      17.509820      18.197696       8.320488\n",
        "std        64.696774       6.198623       6.064454       3.385474\n",
        "min         0.000000       0.000000       0.000000       0.000000\n",
        "25%       185.738441      17.180752      19.208099       8.930923\n",
        "50%       222.638702      19.198458      19.899113       9.486524\n",
        "75%       252.829803      20.699176      20.690248       9.936295\n",
        "max      1066.370605      32.680153      26.880569      14.397214\n",
        "\n",
        "[8 rows x 4 columns]\n"
       ]
      }
     ],
     "prompt_number": 6
    },
    {
     "cell_type": "code",
     "collapsed": false,
     "input": [
      "import os\n",
      "from urbansim.utils import misc\n",
      "dset.nodes_prices.to_csv(os.path.join(misc.data_dir(),'nodes_prices.csv'), index_label='node_id')"
     ],
     "language": "python",
     "metadata": {},
     "outputs": [],
     "prompt_number": 7
    },
    {
     "cell_type": "heading",
     "level": 2,
     "metadata": {},
     "source": [
      "Run the pro forma"
     ]
    },
    {
     "cell_type": "code",
     "collapsed": false,
     "input": [
      "models.feasibility(dset)"
     ],
     "language": "python",
     "metadata": {},
     "outputs": [
      {
       "output_type": "stream",
       "stream": "stdout",
       "text": [
        "               retail      industrial          office     residential\n",
        "count  2023915.000000  2023915.000000  2023915.000000  2023915.000000\n",
        "mean        18.443254        8.709457       19.086396       10.992531\n",
        "std          4.951902        3.033087        4.671409        2.428606\n",
        "min          0.000000        0.000000        0.000000        0.000000\n",
        "25%         17.801592        9.084018       19.375507        9.578068\n",
        "50%         19.427368        9.575040       20.013433       11.236297\n",
        "75%         20.847170       10.012740       20.730633       12.622887\n",
        "max         32.680153       14.397214       26.880569       40.310925\n",
        "\n",
        "[8 rows x 4 columns]\n",
        "Computing feasibility for form mixedoffice\n",
        "Computing feasibility for form industrial"
       ]
      },
      {
       "output_type": "stream",
       "stream": "stdout",
       "text": [
        "\n",
        "Computing feasibility for form office"
       ]
      },
      {
       "output_type": "stream",
       "stream": "stdout",
       "text": [
        "\n",
        "Computing feasibility for form residential"
       ]
      },
      {
       "output_type": "stream",
       "stream": "stdout",
       "text": [
        "\n",
        "Computing feasibility for form mixedresidential"
       ]
      },
      {
       "output_type": "stream",
       "stream": "stdout",
       "text": [
        "\n",
        "Computing feasibility for form retail"
       ]
      },
      {
       "output_type": "stream",
       "stream": "stdout",
       "text": [
        "\n"
       ]
      }
     ],
     "prompt_number": 13
    },
    {
     "cell_type": "heading",
     "level": 2,
     "metadata": {},
     "source": [
      "Build Buildings"
     ]
    },
    {
     "cell_type": "code",
     "collapsed": false,
     "input": [
      "models.residential_developer(dset)"
     ],
     "language": "python",
     "metadata": {},
     "outputs": [
      {
       "output_type": "stream",
       "stream": "stdout",
       "text": [
        "Number of agents: 2608023\n",
        "Number of agent spaces: 2936840\n",
        "Current vacancy = 0.11\n",
        "Target vacancy = 0.15, target of new units = 131422\n",
        "Sum of net units that are profitable"
       ]
      },
      {
       "output_type": "stream",
       "stream": "stdout",
       "text": [
        " 367138.0\n",
        "NEW BUILDINGS"
       ]
      },
      {
       "output_type": "stream",
       "stream": "stdout",
       "text": [
        "\n",
        "            parcel_id  residential_units  non_residential_sqft  building_sqft  \\\n",
        "count      796.000000         796.000000                   796     796.000000   \n",
        "mean    877291.821608         167.487437                     0   66993.630045   \n",
        "std     571946.683950         144.533276                     0   57816.459884   \n",
        "min       2301.000000          11.000000                     0    4466.694619   \n",
        "25%     438426.250000          68.750000                     0   27401.085820   \n",
        "50%     555411.000000         124.000000                     0   49708.564848   \n",
        "75%    1605408.000000         209.000000                     0   83603.716009   \n",
        "max    2077196.000000         894.000000                     0  357413.141292   \n",
        "\n",
        "          stories  building_type_id  year_built  residential_sales_price  \\\n",
        "count  796.000000               796         796                        0   \n",
        "mean     1.476131                 3        2012                      NaN   \n",
        "std      0.844178                 0           0                      NaN   \n",
        "min      1.000000                 3        2012                      NaN   \n",
        "25%      1.000000                 3        2012                      NaN   \n",
        "50%      1.000000                 3        2012                      NaN   \n",
        "75%      1.000000                 3        2012                      NaN   \n",
        "max      3.000000                 3        2012                      NaN   \n",
        "\n",
        "       residential_rent  non_residential_rent  \n",
        "count                 0                     0  \n",
        "mean                NaN                   NaN  \n",
        "std                 NaN                   NaN  \n",
        "min                 NaN                   NaN  \n",
        "25%                 NaN                   NaN  \n",
        "50%                 NaN                   NaN  \n",
        "75%                 NaN                   NaN  \n",
        "max                 NaN                   NaN  \n",
        "\n",
        "[8 rows x 10 columns]"
       ]
      },
      {
       "output_type": "stream",
       "stream": "stdout",
       "text": [
        "\n"
       ]
      }
     ],
     "prompt_number": 23
    },
    {
     "cell_type": "code",
     "collapsed": false,
     "input": [
      "for k in debug_dict.keys():\n",
      "    debug_dict[k]['zone_id'] = dset.view(\"buildings\").zone_id.loc[debug_dict[k].index]"
     ],
     "language": "python",
     "metadata": {},
     "outputs": [
      {
       "output_type": "stream",
       "stream": "stdout",
       "text": [
        "Returning from cache: zone_id of buildings\n"
       ]
      }
     ],
     "prompt_number": 12
    },
    {
     "cell_type": "code",
     "collapsed": false,
     "input": [
      "debug_dict = models.rsh_estimate(dset)"
     ],
     "language": "python",
     "metadata": {},
     "outputs": [
      {
       "output_type": "stream",
       "stream": "stdout",
       "text": [
        "Returning primary attribute: _node_id of homesales\n",
        "Running hedonic estimation\n"
       ]
      },
      {
       "output_type": "stream",
       "stream": "stdout",
       "text": [
        "\n",
        "                               OLS Regression Results                               \n",
        "====================================================================================\n",
        "Dep. Variable:     np.log1p(sale_price_flt)   R-squared:                       0.169\n",
        "Model:                                  OLS   Adj. R-squared:                  0.169\n",
        "Method:                       Least Squares   F-statistic:                     4395.\n",
        "Date:                      Thu, 12 Jun 2014   Prob (F-statistic):               0.00\n",
        "Time:                              23:23:46   Log-Likelihood:            -1.4944e+05\n",
        "No. Observations:                    194138   AIC:                         2.989e+05\n",
        "Df Residuals:                        194128   BIC:                         2.990e+05\n",
        "Df Model:                                 9                                         \n",
        "================================================================================================\n",
        "                                   coef    std err          t      P>|t|      [95.0% Conf. Int.]\n",
        "------------------------------------------------------------------------------------------------\n",
        "Intercept                        5.8992      0.034    171.483      0.000         5.832     5.967\n",
        "I(year_built < 1940)[T.True]     0.1622      0.004     40.885      0.000         0.154     0.170\n",
        "I(year_built > 2005)[T.True]     0.1105      0.007     16.378      0.000         0.097     0.124\n",
        "np.log1p(unit_sqft)             -0.2199      0.003    -66.725      0.000        -0.226    -0.213\n",
        "np.log1p(unit_lot_size)          0.1153      0.002     72.201      0.000         0.112     0.118\n",
        "sum_residential_units           -0.2141      0.002    -95.082      0.000        -0.219    -0.210\n",
        "ave_unit_sqft                   -0.0649      0.003    -22.750      0.000        -0.071    -0.059\n",
        "ave_lot_sqft                    -0.1582      0.002    -93.081      0.000        -0.161    -0.155\n",
        "ave_income                       0.2288      0.002    140.810      0.000         0.226     0.232\n",
        "jobs                             0.1609      0.001    114.114      0.000         0.158     0.164\n",
        "==============================================================================\n",
        "Omnibus:                     1016.983   Durbin-Watson:                   0.608\n",
        "Prob(Omnibus):                  0.000   Jarque-Bera (JB):             1479.848\n",
        "Skew:                          -0.008   Prob(JB):                         0.00\n",
        "Kurtosis:                       3.427   Cond. No.                         608.\n",
        "=============================================================================="
       ]
      },
      {
       "output_type": "stream",
       "stream": "stdout",
       "text": [
        "\n"
       ]
      }
     ],
     "prompt_number": 58
    },
    {
     "cell_type": "code",
     "collapsed": false,
     "input": [
      "models.hlcmo_estimate(dset)"
     ],
     "language": "python",
     "metadata": {},
     "outputs": [
      {
       "output_type": "stream",
       "stream": "stdout",
       "text": [
        "Returning primary attribute: income of households\n",
        "Returning primary attribute: building_id of households"
       ]
      },
      {
       "output_type": "stream",
       "stream": "stdout",
       "text": [
        "\n",
        "Returning primary attribute: tenure of households\n",
        "Returning primary attribute: persons of households\n",
        "Returning from cache: _node_id of households\n",
        "Returning from cache: _node_id0 of households\n",
        "Returning primary attribute: year_built of buildings"
       ]
      },
      {
       "output_type": "stream",
       "stream": "stdout",
       "text": [
        "\n",
        "Returning from cache: unit_lot_size of buildings\n",
        "Returning from cache: unit_sqft of buildings\n",
        "Returning primary attribute: building_type_id of buildings\n",
        "Returning primary attribute: stories of buildings"
       ]
      },
      {
       "output_type": "stream",
       "stream": "stdout",
       "text": [
        "\n",
        "Returning primary attribute: residential_units of buildings\n",
        "Returning primary attribute: building_type_id of buildings\n",
        "Returning primary attribute: non_residential_sqft of buildings"
       ]
      },
      {
       "output_type": "stream",
       "stream": "stdout",
       "text": [
        "\n",
        "Returning primary attribute: building_type_id of buildings\n",
        "Returning primary attribute: residential_sales_price of buildings\n",
        "Returning primary attribute: residential_rent of buildings\n",
        "Returning primary attribute: non_residential_rent of buildings\n",
        "Returning from cache: _node_id of buildings\n",
        "Returning from cache: _node_id0 of buildings\n",
        "Returning from cache: zone_id of buildings\n",
        "Returning from cache: lot_size of buildings\n",
        "Running location choice model estimation\n"
       ]
      },
      {
       "output_type": "stream",
       "stream": "stdout",
       "text": [
        "\n",
        "Removing 24 choice situations because chosen alt doesn't exist"
       ]
      },
      {
       "output_type": "stream",
       "stream": "stdout",
       "text": [
        "\n",
        "Removing 33 choice situations because chosen alt doesn't exist"
       ]
      },
      {
       "output_type": "stream",
       "stream": "stdout",
       "text": [
        "\n",
        "Removing 26 choice situations because chosen alt doesn't exist"
       ]
      },
      {
       "output_type": "stream",
       "stream": "stdout",
       "text": [
        "\n",
        "Removing 27 choice situations because chosen alt doesn't exist"
       ]
      },
      {
       "output_type": "stream",
       "stream": "stdout",
       "text": [
        "\n",
        "LCM RESULTS FOR SEGMENT 0\n"
       ]
      },
      {
       "output_type": "stream",
       "stream": "stdout",
       "text": [
        "\n",
        "Null Log-liklihood: -68967.029\n",
        "Log-liklihood at convergence: -65882.049\n",
        "Log-liklihood Ratio: 0.045\n",
        "\n",
        "+-----------------------------------+-------------+------------+---------+\n",
        "| Component                         | Coefficient | Std. Error | T-Score |\n",
        "+-----------------------------------+-------------+------------+---------+\n",
        "| np.log1p(residential_sales_price) |    -0.145   |   0.005    | -28.823 |\n",
        "| np.log1p(unit_sqft)               |    -0.449   |   0.008    | -54.089 |\n",
        "| sum_residential_units             |    0.441    |   0.010    |  46.140 |\n",
        "| ave_unit_sqft                     |    0.500    |   0.013    |  37.594 |\n",
        "| ave_lot_sqft                      |    0.149    |   0.010    |  14.524 |\n",
        "| ave_income                        |    0.008    |   0.010    |  0.795  |\n",
        "+-----------------------------------+-------------+------------+---------+\n",
        "\n",
        "LCM RESULTS FOR SEGMENT 1\n",
        "\n",
        "Null Log-liklihood: -68925.582\n",
        "Log-liklihood at convergence: -65910.752\n",
        "Log-liklihood Ratio: 0.044\n",
        "\n",
        "+-----------------------------------+-------------+------------+---------+\n",
        "| Component                         | Coefficient | Std. Error | T-Score |\n",
        "+-----------------------------------+-------------+------------+---------+\n",
        "| np.log1p(residential_sales_price) |    -0.101   |   0.005    | -18.572 |\n",
        "| np.log1p(unit_sqft)               |    -0.503   |   0.008    | -59.901 |\n",
        "| sum_residential_units             |    0.434    |   0.010    |  44.323 |\n",
        "| ave_unit_sqft                     |    0.491    |   0.014    |  35.931 |\n",
        "| ave_lot_sqft                      |    0.135    |   0.010    |  12.893 |\n",
        "| ave_income                        |    -0.002   |   0.010    |  -0.177 |\n",
        "+-----------------------------------+-------------+------------+---------+\n",
        "\n",
        "LCM RESULTS FOR SEGMENT 2\n",
        "\n",
        "Null Log-liklihood: -68957.818\n",
        "Log-liklihood at convergence: -65181.192\n",
        "Log-liklihood Ratio: 0.055\n",
        "\n",
        "+-----------------------------------+-------------+------------+---------+\n",
        "| Component                         | Coefficient | Std. Error | T-Score |\n",
        "+-----------------------------------+-------------+------------+---------+\n",
        "| np.log1p(residential_sales_price) |    0.041    |   0.008    |  5.266  |\n",
        "| np.log1p(unit_sqft)               |    -0.635   |   0.009    | -73.849 |\n",
        "| sum_residential_units             |    0.409    |   0.010    |  41.164 |\n",
        "| ave_unit_sqft                     |    0.536    |   0.014    |  37.655 |\n",
        "| ave_lot_sqft                      |    0.145    |   0.011    |  13.519 |\n",
        "| ave_income                        |    0.028    |   0.011    |  2.613  |\n",
        "+-----------------------------------+-------------+------------+---------+\n",
        "\n",
        "LCM RESULTS FOR SEGMENT 3\n",
        "\n",
        "Null Log-liklihood: -68953.213\n",
        "Log-liklihood at convergence: -61758.432\n",
        "Log-liklihood Ratio: 0.104\n",
        "\n",
        "+-----------------------------------+-------------+------------+---------+\n",
        "| Component                         | Coefficient | Std. Error | T-Score |\n",
        "+-----------------------------------+-------------+------------+---------+\n",
        "| np.log1p(residential_sales_price) |    0.412    |   0.030    |  13.742 |\n",
        "| np.log1p(unit_sqft)               |    -0.825   |   0.010    | -85.316 |\n",
        "| sum_residential_units             |    0.452    |   0.010    |  44.251 |\n",
        "| ave_unit_sqft                     |    0.660    |   0.015    |  42.700 |\n",
        "| ave_lot_sqft                      |    0.133    |   0.012    |  11.087 |\n",
        "| ave_income                        |    1.105    |   0.022    |  50.523 |\n",
        "+-----------------------------------+-------------+------------+---------+\n",
        "\n"
       ]
      }
     ],
     "prompt_number": 65
    },
    {
     "cell_type": "code",
     "collapsed": false,
     "input": [
      "models.households_relocation(dset)\n",
      "pdfs = models.hlcmo_simulate(dset)"
     ],
     "language": "python",
     "metadata": {},
     "outputs": []
    },
    {
     "cell_type": "code",
     "collapsed": false,
     "input": [
      "from usui import dset_explorer\n",
      "d = {\n",
      "    \"buildings\": dset.merge_nodes(dset.view(\"buildings\").build_df()),\n",
      "    #\"households\": dset.view(\"households\").build_df()\n",
      "}"
     ],
     "language": "python",
     "metadata": {},
     "outputs": []
    },
    {
     "cell_type": "code",
     "collapsed": false,
     "input": [
      "pdfs[\"zone_id\"] = dset.view(\"buildings\").zone_id\n",
      "pdfs.columns = [str(x) for x in pdfs.columns]\n",
      "d[\"pdf\"] = pdfs"
     ],
     "language": "python",
     "metadata": {},
     "outputs": []
    },
    {
     "cell_type": "code",
     "collapsed": false,
     "input": [
      "dset_explorer.start(dset, , {\n",
      "        'center': str([37.7792, -122.2191]),\n",
      "        'zoom': 11,\n",
      "        'shape_json': 'data/zones.json',\n",
      "        'geom_name': 'ZONE_ID', # from JSON file\n",
      "        'join_name': 'zone_id' # from data frames\n",
      "    })"
     ],
     "language": "python",
     "metadata": {},
     "outputs": [
      {
       "output_type": "stream",
       "stream": "stderr",
       "text": [
        "Bottle v0.12.7 server starting up (using WSGIRefServer())...\n",
        "Listening on http://localhost:8765/\n",
        "Hit Ctrl-C to quit.\n",
        "\n",
        "Traceback (most recent call last):\n",
        "  File \"/Users/ffoti/anaconda/lib/python2.7/site-packages/bottle-0.12.7-py2.7.egg/bottle.py\", line 862, in _handle\n",
        "    return route.call(**args)\n",
        "  File \"/Users/ffoti/anaconda/lib/python2.7/site-packages/bottle-0.12.7-py2.7.egg/bottle.py\", line 1729, in wrapper\n",
        "    rv = callback(*a, **ka)\n",
        "  File \"/Users/ffoti/src/usui/usui/dset_explorer.py\", line 33, in map_query\n",
        "    results = eval(cmd)\n",
        "  File \"<string>\", line 1, in <module>\n",
        "  File \"/Users/ffoti/anaconda/lib/python2.7/site-packages/pandas/core/groupby.py\", line 2477, in __getitem__\n",
        "    raise KeyError(str(key))\n",
        "KeyError: 'elcm Warehousing'\n"
       ]
      },
      {
       "output_type": "stream",
       "stream": "stderr",
       "text": [
        "127.0.0.1 - - [13/Jun/2014 14:03:05] \"GET /map_query/buildings/empty/zone_id/elcm%20Warehousing/sum() HTTP/1.1\" 500 1664\n",
        "127.0.0.1 - - [13/Jun/2014 14:03:09] \"GET / HTTP/1.1\" 200 27505\n"
       ]
      },
      {
       "output_type": "stream",
       "stream": "stdout",
       "text": [
        "VIEWS['buildings'].groupby('zone_id')['elcm Warehousing'].sum()\n",
        "----------------------------------------"
       ]
      },
      {
       "output_type": "stream",
       "stream": "stderr",
       "text": [
        "127.0.0.1 - - [13/Jun/2014 14:03:09] \"GET /data/zones.json HTTP/1.1\" 304 0\n",
        "Traceback (most recent call last):\n"
       ]
      },
      {
       "output_type": "stream",
       "stream": "stdout",
       "text": [
        "\n",
        "Exception happened during processing of request from ('127.0.0.1', 60497)\n",
        "----------------------------------------\n"
       ]
      },
      {
       "output_type": "stream",
       "stream": "stderr",
       "text": [
        "  File \"/Users/ffoti/anaconda/python.app/Contents/lib/python2.7/SocketServer.py\", line 295, in _handle_request_noblock\n",
        "    self.process_request(request, client_address)\n",
        "  File \"/Users/ffoti/anaconda/python.app/Contents/lib/python2.7/SocketServer.py\", line 321, in process_request\n",
        "    self.finish_request(request, client_address)\n",
        "  File \"/Users/ffoti/anaconda/python.app/Contents/lib/python2.7/SocketServer.py\", line 334, in finish_request\n",
        "    self.RequestHandlerClass(request, client_address, self)\n",
        "  File \"/Users/ffoti/anaconda/python.app/Contents/lib/python2.7/SocketServer.py\", line 649, in __init__\n",
        "    self.handle()\n",
        "  File \"/Users/ffoti/anaconda/python.app/Contents/lib/python2.7/wsgiref/simple_server.py\", line 116, in handle\n",
        "    self.raw_requestline = self.rfile.readline()\n",
        "  File \"/Users/ffoti/anaconda/python.app/Contents/lib/python2.7/socket.py\", line 447, in readline\n",
        "    data = self._sock.recv(self._rbufsize)\n",
        "KeyboardInterrupt\n"
       ]
      }
     ],
     "prompt_number": 66
    },
    {
     "cell_type": "code",
     "collapsed": false,
     "input": [],
     "language": "python",
     "metadata": {},
     "outputs": []
    }
   ],
   "metadata": {}
  }
 ]
}