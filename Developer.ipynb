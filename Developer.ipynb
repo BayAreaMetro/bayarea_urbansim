{
 "metadata": {
  "name": "",
  "signature": "sha256:3237a9178cea058761bd8a6ddc397b67d43cf2208b7d7c2202f9c428dbb9c50a"
 },
 "nbformat": 3,
 "nbformat_minor": 0,
 "worksheets": [
  {
   "cells": [
    {
     "cell_type": "heading",
     "level": 2,
     "metadata": {},
     "source": [
      "Compute a node-based average price for each use"
     ]
    },
    {
     "cell_type": "code",
     "collapsed": false,
     "input": [
      "models.build_networks()"
     ],
     "language": "python",
     "metadata": {},
     "outputs": [],
     "prompt_number": 3
    },
    {
     "cell_type": "code",
     "collapsed": false,
     "input": [
      "models.neighborhood_vars(dset)"
     ],
     "language": "python",
     "metadata": {},
     "outputs": [
      {
       "output_type": "stream",
       "stream": "stdout",
       "text": [
        "Adding xys to dataframe: households\n",
        "Adding xys to dataframe: jobs"
       ]
      },
      {
       "output_type": "stream",
       "stream": "stdout",
       "text": [
        "\n",
        "Computing accessibility variables"
       ]
      },
      {
       "output_type": "stream",
       "stream": "stdout",
       "text": [
        "\n",
        "Computing sum_residential_units\n",
        "    dataframe = buildings, varname=residential_units"
       ]
      },
      {
       "output_type": "stream",
       "stream": "stdout",
       "text": [
        "\n",
        "    radius = 500, aggregation = AGG_SUM, decay = DECAY_LINEAR\n",
        "Computing sum_nonresidential_units"
       ]
      },
      {
       "output_type": "stream",
       "stream": "stdout",
       "text": [
        "\n",
        "    dataframe = buildings, varname=non_residential_units"
       ]
      },
      {
       "output_type": "stream",
       "stream": "stdout",
       "text": [
        "\n",
        "    radius = 500, aggregation = AGG_SUM, decay = DECAY_LINEAR\n",
        "Computing ave_unit_sqft"
       ]
      },
      {
       "output_type": "stream",
       "stream": "stdout",
       "text": [
        "\n",
        "    dataframe = buildings, varname=unit_sqft"
       ]
      },
      {
       "output_type": "stream",
       "stream": "stdout",
       "text": [
        "\n",
        "    radius = 500, aggregation = AGG_AVE, decay = DECAY_FLAT\n",
        "Computing ave_lot_sqft"
       ]
      },
      {
       "output_type": "stream",
       "stream": "stdout",
       "text": [
        "\n",
        "    dataframe = buildings, varname=unit_lot_size"
       ]
      },
      {
       "output_type": "stream",
       "stream": "stdout",
       "text": [
        "\n",
        "    radius = 500, aggregation = AGG_AVE, decay = DECAY_FLAT\n",
        "Computing population"
       ]
      },
      {
       "output_type": "stream",
       "stream": "stdout",
       "text": [
        "\n",
        "    dataframe = households, varname=persons"
       ]
      },
      {
       "output_type": "stream",
       "stream": "stdout",
       "text": [
        "\n",
        "    radius = 500, aggregation = AGG_SUM, decay = DECAY_LINEAR\n",
        "Computing poor"
       ]
      },
      {
       "output_type": "stream",
       "stream": "stdout",
       "text": [
        "\n",
        "    dataframe = households, varname=persons"
       ]
      },
      {
       "output_type": "stream",
       "stream": "stdout",
       "text": [
        "\n",
        "    radius = 500, aggregation = AGG_SUM, decay = DECAY_LINEAR\n",
        "Computing renters"
       ]
      },
      {
       "output_type": "stream",
       "stream": "stdout",
       "text": [
        "\n",
        "    dataframe = households, varname=None"
       ]
      },
      {
       "output_type": "stream",
       "stream": "stdout",
       "text": [
        "\n",
        "    radius = 500, aggregation = AGG_SUM, decay = DECAY_LINEAR\n",
        "Computing sfdu"
       ]
      },
      {
       "output_type": "stream",
       "stream": "stdout",
       "text": [
        "\n",
        "    dataframe = buildings, varname=None"
       ]
      },
      {
       "output_type": "stream",
       "stream": "stdout",
       "text": [
        "\n",
        "    radius = 500, aggregation = AGG_SUM, decay = DECAY_LINEAR\n",
        "Computing hhsize"
       ]
      },
      {
       "output_type": "stream",
       "stream": "stdout",
       "text": [
        "\n",
        "    dataframe = households, varname=persons"
       ]
      },
      {
       "output_type": "stream",
       "stream": "stdout",
       "text": [
        "\n",
        "    radius = 500, aggregation = AGG_AVE, decay = DECAY_FLAT\n",
        "Computing jobs"
       ]
      },
      {
       "output_type": "stream",
       "stream": "stdout",
       "text": [
        "\n",
        "    dataframe = jobs, varname=None"
       ]
      },
      {
       "output_type": "stream",
       "stream": "stdout",
       "text": [
        "\n",
        "    radius = 500, aggregation = AGG_SUM, decay = DECAY_LINEAR\n",
        "Computing ave_income"
       ]
      },
      {
       "output_type": "stream",
       "stream": "stdout",
       "text": [
        "\n",
        "    dataframe = households, varname=income"
       ]
      },
      {
       "output_type": "stream",
       "stream": "stdout",
       "text": [
        "\n",
        "    radius = 500, aggregation = AGG_AVE, decay = DECAY_FLAT\n"
       ]
      }
     ],
     "prompt_number": 8
    },
    {
     "cell_type": "code",
     "collapsed": false,
     "input": [
      "models.rsh_simulate(dset)\n",
      "models.rrh_simulate(dset)\n",
      "models.nrh_simulate(dset)"
     ],
     "language": "python",
     "metadata": {},
     "outputs": [
      {
       "output_type": "stream",
       "stream": "stdout",
       "text": [
        "Fetching buildings\n",
        "Fetching building_sqft_per_job"
       ]
      },
      {
       "output_type": "stream",
       "stream": "stdout",
       "text": [
        "\n",
        "Fetching nodes"
       ]
      },
      {
       "output_type": "stream",
       "stream": "stdout",
       "text": [
        "\n",
        "WARNING: fetching precomputed nodes off of disk\n",
        "Running hedonic simulation\n"
       ]
      },
      {
       "output_type": "stream",
       "stream": "stdout",
       "text": [
        "\n",
        "count    1796149.000000\n",
        "mean         268.040543\n",
        "std           70.692300\n",
        "min            0.516869\n",
        "25%          222.229454\n",
        "50%          261.819736\n",
        "75%          303.930779\n",
        "max         3051.322647\n",
        "dtype: float64"
       ]
      },
      {
       "output_type": "stream",
       "stream": "stdout",
       "text": [
        "\n",
        "Running hedonic simulation\n"
       ]
      },
      {
       "output_type": "stream",
       "stream": "stdout",
       "text": [
        "\n",
        "count    1796149.000000\n",
        "mean           2.378987\n",
        "std            0.326236\n",
        "min            0.373810\n",
        "25%            2.174433\n",
        "50%            2.345380\n",
        "75%            2.549366\n",
        "max           12.852312\n",
        "dtype: float64"
       ]
      },
      {
       "output_type": "stream",
       "stream": "stdout",
       "text": [
        "\n",
        "Running hedonic simulation\n"
       ]
      },
      {
       "output_type": "stream",
       "stream": "stdout",
       "text": [
        "\n",
        "count    140110.000000\n",
        "mean         15.098280\n",
        "std           2.928482\n",
        "min          10.510099\n",
        "25%          14.047972\n",
        "50%          14.267093\n",
        "75%          14.736610\n",
        "max          84.901960\n",
        "dtype: float64"
       ]
      },
      {
       "output_type": "stream",
       "stream": "stdout",
       "text": [
        "\n"
       ]
      }
     ],
     "prompt_number": 7
    },
    {
     "cell_type": "code",
     "collapsed": false,
     "input": [
      "print dset.buildings.residential_sales_price.describe()\n",
      "print dset.buildings.non_residential_rent.describe()"
     ],
     "language": "python",
     "metadata": {},
     "outputs": [
      {
       "output_type": "stream",
       "stream": "stdout",
       "text": [
        "count    1796149.000000\n",
        "mean         268.040543\n",
        "std           70.692300\n",
        "min            0.516869\n",
        "25%          222.229454\n",
        "50%          261.819736\n",
        "75%          303.930779\n",
        "max         3051.322647\n",
        "Name: residential_sales_price, dtype: float64\n",
        "count    140110.000000\n",
        "mean         15.098280\n",
        "std           2.928482\n",
        "min          10.510099\n",
        "25%          14.047972\n",
        "50%          14.267093\n",
        "75%          14.736610\n",
        "max          84.901960\n",
        "Name: non_residential_rent, dtype: float64"
       ]
      },
      {
       "output_type": "stream",
       "stream": "stdout",
       "text": [
        "\n"
       ]
      }
     ],
     "prompt_number": 5
    },
    {
     "cell_type": "code",
     "collapsed": false,
     "input": [
      "models.price_vars(dset)"
     ],
     "language": "python",
     "metadata": {},
     "outputs": [
      {
       "output_type": "stream",
       "stream": "stdout",
       "text": [
        "Computing accessibility variables\n",
        "Computing residential\n",
        "    dataframe = buildings, varname=residential_sales_price"
       ]
      },
      {
       "output_type": "stream",
       "stream": "stdout",
       "text": [
        "\n",
        "    radius = 1500, aggregation = AGG_AVE, decay = DECAY_FLAT\n",
        "Computing retail"
       ]
      },
      {
       "output_type": "stream",
       "stream": "stdout",
       "text": [
        "\n",
        "    dataframe = buildings, varname=non_residential_rent"
       ]
      },
      {
       "output_type": "stream",
       "stream": "stdout",
       "text": [
        "\n",
        "    radius = 1500, aggregation = AGG_AVE, decay = DECAY_FLAT\n",
        "Computing office"
       ]
      },
      {
       "output_type": "stream",
       "stream": "stdout",
       "text": [
        "\n",
        "    dataframe = buildings, varname=non_residential_rent"
       ]
      },
      {
       "output_type": "stream",
       "stream": "stdout",
       "text": [
        "\n",
        "    radius = 1500, aggregation = AGG_AVE, decay = DECAY_FLAT\n",
        "Computing industrial"
       ]
      },
      {
       "output_type": "stream",
       "stream": "stdout",
       "text": [
        "\n",
        "    dataframe = buildings, varname=non_residential_rent"
       ]
      },
      {
       "output_type": "stream",
       "stream": "stdout",
       "text": [
        "\n",
        "    radius = 1500, aggregation = AGG_AVE, decay = DECAY_FLAT\n"
       ]
      }
     ],
     "prompt_number": 6
    },
    {
     "cell_type": "code",
     "collapsed": false,
     "input": [
      "print dset.nodes_prices.describe()"
     ],
     "language": "python",
     "metadata": {},
     "outputs": [
      {
       "output_type": "stream",
       "stream": "stdout",
       "text": [
        "         residential         retail         office     industrial\n",
        "count  226060.000000  226060.000000  226060.000000  226060.000000\n",
        "mean      268.011642      14.428583      14.428583      14.428583\n",
        "std        67.355747       2.913342       2.913342       2.913342\n",
        "min         0.000000       0.000000       0.000000       0.000000\n",
        "25%       233.927967      14.439637      14.439637      14.439637\n",
        "50%       268.944992      14.693309      14.693309      14.693309\n",
        "75%       306.556282      15.108625      15.108625      15.108625\n",
        "max      1233.820557      30.196896      30.196896      30.196896\n",
        "\n",
        "[8 rows x 4 columns]\n"
       ]
      }
     ],
     "prompt_number": 7
    },
    {
     "cell_type": "code",
     "collapsed": false,
     "input": [
      "import os\n",
      "from urbansim.utils import misc\n",
      "dset.nodes_prices.to_csv(os.path.join(misc.data_dir(),'nodes_prices.csv'), index_label='node_id')"
     ],
     "language": "python",
     "metadata": {},
     "outputs": [],
     "prompt_number": 8
    },
    {
     "cell_type": "heading",
     "level": 2,
     "metadata": {},
     "source": [
      "Run the pro forma"
     ]
    },
    {
     "cell_type": "code",
     "collapsed": false,
     "input": [
      "%load_ext autoreload\n",
      "%autoreload 1\n",
      "%aimport models\n",
      "%aimport dataset\n",
      "dset = dataset.BayAreaDataset(\"data/bayarea.h5\")"
     ],
     "language": "python",
     "metadata": {},
     "outputs": [
      {
       "output_type": "stream",
       "stream": "stdout",
       "text": [
        "The autoreload extension is already loaded. To reload it, use:\n",
        "  %reload_ext autoreload\n",
        "Fetching nodes\n",
        "WARNING: fetching precomputed nodes off of disk\n"
       ]
      }
     ],
     "prompt_number": 3
    },
    {
     "cell_type": "code",
     "collapsed": false,
     "input": [
      "a = [dset.view(x).flds for x in ['buildings','households','jobs']]\n",
      "print a"
     ],
     "language": "python",
     "metadata": {},
     "outputs": [
      {
       "output_type": "stream",
       "stream": "stdout",
       "text": [
        "[['year_built', 'unit_lot_size', 'unit_sqft', '_node_id', 'general_type', 'stories', 'residential_units', 'non_residential_units', 'building_type_id', 'x', 'y'], ['income', 'income_quartile', 'building_id', 'tenure', 'persons', 'x', 'y'], ['building_id', 'x', 'y']]\n"
       ]
      }
     ],
     "prompt_number": 7
    },
    {
     "cell_type": "code",
     "collapsed": false,
     "input": [
      "models.feasibility(dset)"
     ],
     "language": "python",
     "metadata": {},
     "outputs": [
      {
       "output_type": "stream",
       "stream": "stdout",
       "text": [
        "Fetching nodes\n",
        "WARNING: fetching precomputed nodes off of disk\n",
        "Fetching parcels"
       ]
      },
      {
       "output_type": "stream",
       "stream": "stdout",
       "text": [
        "\n",
        "Fetching buildings"
       ]
      },
      {
       "output_type": "stream",
       "stream": "stdout",
       "text": [
        "\n",
        "Fetching nodes_prices"
       ]
      },
      {
       "output_type": "stream",
       "stream": "stdout",
       "text": [
        "\n",
        "WARNING: fetching precomputed nodes_prices off of disk\n",
        "Fetching zoning_baseline"
       ]
      },
      {
       "output_type": "stream",
       "stream": "stdout",
       "text": [
        "\n",
        "Fetching zoning_for_parcels\n",
        "Fetching zoning"
       ]
      },
      {
       "output_type": "stream",
       "stream": "stdout",
       "text": [
        "\n",
        "Computing feasibility for form mixedoffice"
       ]
      },
      {
       "output_type": "stream",
       "stream": "stdout",
       "text": [
        "\n",
        "Computing feasibility for form industrial"
       ]
      },
      {
       "output_type": "stream",
       "stream": "stdout",
       "text": [
        "\n",
        "Computing feasibility for form office"
       ]
      },
      {
       "output_type": "stream",
       "stream": "stdout",
       "text": [
        "\n",
        "Computing feasibility for form residential"
       ]
      },
      {
       "output_type": "stream",
       "stream": "stdout",
       "text": [
        "\n",
        "Computing feasibility for form mixedresidential"
       ]
      },
      {
       "output_type": "stream",
       "stream": "stdout",
       "text": [
        "\n",
        "Computing feasibility for form retail"
       ]
      },
      {
       "output_type": "stream",
       "stream": "stdout",
       "text": [
        "\n"
       ]
      }
     ],
     "prompt_number": 1
    },
    {
     "cell_type": "heading",
     "level": 2,
     "metadata": {},
     "source": [
      "Build Buildings"
     ]
    },
    {
     "cell_type": "code",
     "collapsed": false,
     "input": [
      "models.residential_developer(dset)"
     ],
     "language": "python",
     "metadata": {},
     "outputs": [
      {
       "output_type": "stream",
       "stream": "stdout",
       "text": [
        "Fetching households\n",
        "Number of agents: 2608023"
       ]
      },
      {
       "output_type": "stream",
       "stream": "stdout",
       "text": [
        "\n",
        "Number of agent spaces: 2936840\n",
        "Current vacancy = 0.11\n",
        "Target vacancy = 0.15, target of new units = 131422\n",
        "Describe of net units\n"
       ]
      },
      {
       "output_type": "stream",
       "stream": "stdout",
       "text": [
        "count    26621.000000\n",
        "mean        51.156455\n",
        "std         98.894672\n",
        "min          1.000000\n",
        "25%         13.000000\n",
        "50%         23.000000\n",
        "75%         48.000000\n",
        "max       3257.000000\n",
        "Name: net_units, dtype: float64\n",
        "Sum of net units that are profitable 1361836.0\n",
        "            parcel_id  building_cost  building_revenue   building_size  \\\n",
        "count      510.000000   5.100000e+02      5.100000e+02      510.000000   \n",
        "mean    764505.929412   1.820280e+07      2.492844e+07   104238.854984   \n",
        "std     604048.958582   2.411864e+07      3.475249e+07   126645.680440   \n",
        "min        860.000000   7.553900e+05      1.054901e+06     4486.098497   \n",
        "25%     392805.250000   3.844536e+06      5.188618e+06    23392.865628   \n",
        "50%     546894.500000   1.086975e+07      1.477906e+07    66106.826388   \n",
        "75%    1015053.750000   2.130674e+07      2.967838e+07   127821.584823   \n",
        "max    2077196.000000   2.772420e+08      3.341583e+08  1355043.873270   \n",
        "\n",
        "         max_profit  max_profit_far    total_cost    parcel_size  \\\n",
        "count  5.100000e+02      510.000000  5.100000e+02     510.000000   \n",
        "mean   5.119554e+06        1.810882  1.980889e+07   68832.483790   \n",
        "std    9.906529e+06        1.584023  2.702732e+07   54738.924066   \n",
        "min    8.640698e+03        0.100000  9.684393e+05    2492.276943   \n",
        "25%    5.969298e+05        0.750000  4.400021e+06   19621.788826   \n",
        "50%    2.086890e+06        1.800000  1.160080e+07   52531.376282   \n",
        "75%    5.570472e+06        1.800000  2.283887e+07  111242.652460   \n",
        "max    1.075599e+08        9.000000  3.157096e+08  199245.718547   \n",
        "\n",
        "             new_sqft    new_units  current_units    net_units  \n",
        "count      510.000000   510.000000     510.000000   510.000000  \n",
        "mean    104238.854984   260.590196       3.982353   256.607843  \n",
        "std     126645.680440   316.624266      18.591823   314.269795  \n",
        "min       4486.098497    11.000000       1.000000    10.000000  \n",
        "25%      23392.865628    58.250000       1.000000    57.000000  \n",
        "50%      66106.826388   165.500000       1.000000   156.500000  \n",
        "75%     127821.584823   319.750000       1.000000   312.750000  \n",
        "max    1355043.873270  3388.000000     300.000000  3257.000000  \n",
        "\n",
        "[8 rows x 12 columns]"
       ]
      },
      {
       "output_type": "stream",
       "stream": "stdout",
       "text": [
        "\n",
        "   parcel_id    building_cost  building_revenue  building_size  \\\n",
        "0    1827303  13910180.839397   15868657.234897   82609.570997   \n",
        "1     651201   5105218.878391    7661249.626966   33706.371467   \n",
        "2    1963024  18651622.210147   21112339.121178  110767.971097   \n",
        "3     437190   3767118.515982    5284146.313839   24871.782990   \n",
        "4     651329  14387107.134437   19672282.757143   94988.518409   \n",
        "\n",
        "       max_profit  max_profit_far       total_cost    parcel_size  \\\n",
        "0  1265023.422355            1.80  14603633.812541   45894.206109   \n",
        "1  1809208.226602            0.75   5852041.400364   44941.828623   \n",
        "2  1772652.089833            1.80  19339687.031345   61537.761721   \n",
        "3   985585.618169            0.50   4298560.695670   49743.565980   \n",
        "4  4596118.711879            0.75  15076164.045264  126651.357879   \n",
        "\n",
        "        new_sqft  new_units  current_units  net_units  \n",
        "0   82609.570997        207              1        206  \n",
        "1   33706.371467         84              1         83  \n",
        "2  110767.971097        277              1        276  \n",
        "3   24871.782990         62              1         61  \n",
        "4   94988.518409        237              1        236  \n",
        "\n",
        "[5 rows x 12 columns]\n"
       ]
      }
     ],
     "prompt_number": 2
    },
    {
     "cell_type": "code",
     "collapsed": false,
     "input": [],
     "language": "python",
     "metadata": {},
     "outputs": [],
     "prompt_number": 2
    },
    {
     "cell_type": "code",
     "collapsed": false,
     "input": [],
     "language": "python",
     "metadata": {},
     "outputs": []
    }
   ],
   "metadata": {}
  }
 ]
}