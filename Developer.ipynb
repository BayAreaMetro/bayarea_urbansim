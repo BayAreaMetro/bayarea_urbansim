{
 "metadata": {
  "name": "",
  "signature": "sha256:c9d2c1ea3229d9b3878783b10161877938c0b38258d73b3504209b170ccc29e6"
 },
 "nbformat": 3,
 "nbformat_minor": 0,
 "worksheets": [
  {
   "cells": [
    {
     "cell_type": "code",
     "collapsed": false,
     "input": [
      "%load_ext autoreload\n",
      "%autoreload 2\n",
      "\n",
      "import models\n",
      "import dataset\n",
      "dset = dataset.BayAreaDataset(\"data/bayarea.h5\")\n",
      "dset.debug = True"
     ],
     "language": "python",
     "metadata": {},
     "outputs": [],
     "prompt_number": 1
    },
    {
     "cell_type": "heading",
     "level": 2,
     "metadata": {},
     "source": [
      "Compute a node-based average price for each use"
     ]
    },
    {
     "cell_type": "code",
     "collapsed": false,
     "input": [
      "models.build_networks(dset)"
     ],
     "language": "python",
     "metadata": {},
     "outputs": [],
     "prompt_number": 2
    },
    {
     "cell_type": "code",
     "collapsed": false,
     "input": [
      "models.neighborhood_vars(dset)"
     ],
     "language": "python",
     "metadata": {},
     "outputs": [
      {
       "output_type": "stream",
       "stream": "stdout",
       "text": [
        "Computing accessibility variables\n",
        "Computing sum_residential_units\n",
        "    Fields available to accvar = residential_units, _node_id0\n",
        "Fetching buildings\n",
        "Returning primary attribute: residential_units of buildings"
       ]
      },
      {
       "output_type": "stream",
       "stream": "stdout",
       "text": [
        "\n",
        "Computing: _node_id0 of buildings as\n",
        "    reindex(parcels._node_id0, buildings.parcel_id)\n",
        "Fetching parcels\n",
        "Returning primary attribute: _node_id0 of parcels"
       ]
      },
      {
       "output_type": "stream",
       "stream": "stdout",
       "text": [
        "\n",
        "Returning primary attribute: parcel_id of buildings\n",
        "    dataframe = buildings, varname=residential_units"
       ]
      },
      {
       "output_type": "stream",
       "stream": "stdout",
       "text": [
        "\n",
        "    radius = 500, aggregation = AGG_SUM, decay = DECAY_LINEAR\n",
        "Computing sum_nonresidential_units"
       ]
      },
      {
       "output_type": "stream",
       "stream": "stdout",
       "text": [
        "\n",
        "    Fields available to accvar = non_residential_units, _node_id0\n",
        "Fetching building_sqft_per_job\n",
        "Returning primary attribute: building_type_id of buildings\n",
        "Returning primary attribute: non_residential_sqft of buildings"
       ]
      },
      {
       "output_type": "stream",
       "stream": "stdout",
       "text": [
        "\n",
        "Returning from cache: _node_id0 of buildings\n",
        "    dataframe = buildings, varname=non_residential_units\n",
        "    radius = 500, aggregation = AGG_SUM, decay = DECAY_LINEAR\n",
        "Computing ave_unit_sqft"
       ]
      },
      {
       "output_type": "stream",
       "stream": "stdout",
       "text": [
        "\n",
        "    Fields available to accvar = unit_sqft, general_type, _node_id0\n",
        "Computing: unit_sqft of buildings as\n",
        "    buildings.building_sqft / buildings.residential_units\n",
        "Returning primary attribute: building_sqft of buildings\n",
        "Returning primary attribute: residential_units of buildings\n",
        "Returning primary attribute: building_type_id of buildings\n",
        "Returning from cache: _node_id0 of buildings"
       ]
      },
      {
       "output_type": "stream",
       "stream": "stdout",
       "text": [
        "\n",
        "    Filters = ['general_type == \"Residential\"']"
       ]
      },
      {
       "output_type": "stream",
       "stream": "stdout",
       "text": [
        "\n",
        "    dataframe = buildings, varname=unit_sqft\n",
        "    radius = 500, aggregation = AGG_AVE, decay = DECAY_FLAT\n",
        "Computing ave_lot_sqft"
       ]
      },
      {
       "output_type": "stream",
       "stream": "stdout",
       "text": [
        "\n",
        "    Fields available to accvar = unit_lot_size, _node_id0\n",
        "Computing: unit_lot_size of buildings as\n",
        "    buildings.lot_size / buildings.residential_units\n",
        "Computing: lot_size of buildings as\n",
        "    reindex(parcels.shape_area, buildings.parcel_id) * 10.764\n",
        "Returning primary attribute: shape_area of parcels\n",
        "Returning primary attribute: parcel_id of buildings\n",
        "Returning primary attribute: residential_units of buildings"
       ]
      },
      {
       "output_type": "stream",
       "stream": "stdout",
       "text": [
        "\n",
        "Returning from cache: _node_id0 of buildings\n",
        "    dataframe = buildings, varname=unit_lot_size\n",
        "    radius = 500, aggregation = AGG_AVE, decay = DECAY_FLAT\n",
        "Computing population"
       ]
      },
      {
       "output_type": "stream",
       "stream": "stdout",
       "text": [
        "\n",
        "    Fields available to accvar = persons, _node_id0\n",
        "Fetching households\n",
        "Returning primary attribute: persons of households"
       ]
      },
      {
       "output_type": "stream",
       "stream": "stdout",
       "text": [
        "\n",
        "Computing: _node_id0 of households as\n",
        "    reindex(buildings._node_id0, households.building_id)\n",
        "Returning from cache: _node_id0 of buildings\n",
        "Returning primary attribute: building_id of households\n",
        "    dataframe = households, varname=persons"
       ]
      },
      {
       "output_type": "stream",
       "stream": "stdout",
       "text": [
        "\n",
        "    radius = 500, aggregation = AGG_SUM, decay = DECAY_LINEAR\n",
        "Computing poor"
       ]
      },
      {
       "output_type": "stream",
       "stream": "stdout",
       "text": [
        "\n",
        "    Fields available to accvar = persons, income, _node_id0\n",
        "Returning primary attribute: persons of households\n",
        "Returning primary attribute: income of households\n",
        "Returning from cache: _node_id0 of households\n",
        "    Filters = ['income < 40000']"
       ]
      },
      {
       "output_type": "stream",
       "stream": "stdout",
       "text": [
        "\n",
        "    dataframe = households, varname=persons\n",
        "    radius = 500, aggregation = AGG_SUM, decay = DECAY_LINEAR\n",
        "Computing renters"
       ]
      },
      {
       "output_type": "stream",
       "stream": "stdout",
       "text": [
        "\n",
        "    Fields available to accvar = tenure, _node_id0\n",
        "Returning primary attribute: tenure of households\n",
        "Returning from cache: _node_id0 of households\n",
        "    Filters = ['tenure == 2']"
       ]
      },
      {
       "output_type": "stream",
       "stream": "stdout",
       "text": [
        "\n",
        "    dataframe = households, varname=None\n",
        "    radius = 500, aggregation = AGG_SUM, decay = DECAY_LINEAR\n",
        "Computing sfdu"
       ]
      },
      {
       "output_type": "stream",
       "stream": "stdout",
       "text": [
        "\n",
        "    Fields available to accvar = building_type_id, _node_id0\n",
        "Returning primary attribute: building_type_id of buildings\n",
        "Returning from cache: _node_id0 of buildings\n",
        "    Filters = ['building_type_id == 1']"
       ]
      },
      {
       "output_type": "stream",
       "stream": "stdout",
       "text": [
        "\n",
        "    dataframe = buildings, varname=None\n",
        "    radius = 500, aggregation = AGG_SUM, decay = DECAY_LINEAR\n",
        "Computing hhsize"
       ]
      },
      {
       "output_type": "stream",
       "stream": "stdout",
       "text": [
        "\n",
        "    Fields available to accvar = persons, _node_id0\n",
        "Returning primary attribute: persons of households\n",
        "Returning from cache: _node_id0 of households\n",
        "    dataframe = households, varname=persons\n",
        "    radius = 500, aggregation = AGG_AVE, decay = DECAY_FLAT\n",
        "Computing jobs"
       ]
      },
      {
       "output_type": "stream",
       "stream": "stdout",
       "text": [
        "\n",
        "    Fields available to accvar = _node_id0\n",
        "Fetching jobs\n",
        "Computing: _node_id0 of jobs as"
       ]
      },
      {
       "output_type": "stream",
       "stream": "stdout",
       "text": [
        "\n",
        "    reindex(buildings._node_id0, jobs.building_id)\n",
        "Returning from cache: _node_id0 of buildings\n",
        "Returning primary attribute: building_id of jobs\n",
        "    dataframe = jobs, varname=None"
       ]
      },
      {
       "output_type": "stream",
       "stream": "stdout",
       "text": [
        "\n",
        "    radius = 500, aggregation = AGG_SUM, decay = DECAY_LINEAR\n",
        "Computing ave_income"
       ]
      },
      {
       "output_type": "stream",
       "stream": "stdout",
       "text": [
        "\n",
        "    Fields available to accvar = income, _node_id0\n",
        "Returning primary attribute: income of households\n",
        "Returning from cache: _node_id0 of households\n",
        "    dataframe = households, varname=income\n",
        "    radius = 500, aggregation = AGG_AVE, decay = DECAY_FLAT\n",
        "Done"
       ]
      },
      {
       "output_type": "stream",
       "stream": "stdout",
       "text": [
        "\n"
       ]
      }
     ],
     "prompt_number": 3
    },
    {
     "cell_type": "code",
     "collapsed": false,
     "input": [
      "models.rsh_simulate(dset)\n",
      "models.rrh_simulate(dset)\n",
      "models.nrh_simulate(dset)"
     ],
     "language": "python",
     "metadata": {},
     "outputs": [
      {
       "output_type": "stream",
       "stream": "stdout",
       "text": [
        "Returning primary attribute: year_built of buildings\n",
        "Returning from cache: unit_lot_size of buildings\n",
        "Returning from cache: unit_sqft of buildings\n",
        "Returning primary attribute: building_type_id of buildings\n",
        "Returning primary attribute: stories of buildings"
       ]
      },
      {
       "output_type": "stream",
       "stream": "stdout",
       "text": [
        "\n",
        "Returning primary attribute: residential_units of buildings\n",
        "Returning primary attribute: building_type_id of buildings\n",
        "Returning primary attribute: non_residential_sqft of buildings"
       ]
      },
      {
       "output_type": "stream",
       "stream": "stdout",
       "text": [
        "\n",
        "Returning primary attribute: building_type_id of buildings\n",
        "Returning primary attribute: residential_sales_price of buildings\n",
        "Returning primary attribute: residential_rent of buildings\n",
        "Returning primary attribute: non_residential_rent of buildings\n",
        "Computing: _node_id of buildings as\n",
        "    reindex(parcels._node_id, buildings.parcel_id)\n",
        "Returning primary attribute: _node_id of parcels\n",
        "Returning primary attribute: parcel_id of buildings\n",
        "Returning from cache: _node_id0 of buildings"
       ]
      },
      {
       "output_type": "stream",
       "stream": "stdout",
       "text": [
        "\n",
        "Computing: zone_id of buildings as\n",
        "    reindex(parcels.zone_id, buildings.parcel_id)\n",
        "Returning primary attribute: zone_id of parcels\n",
        "Returning primary attribute: parcel_id of buildings\n",
        "Returning from cache: lot_size of buildings"
       ]
      },
      {
       "output_type": "stream",
       "stream": "stdout",
       "text": [
        "\n",
        "Running hedonic simulation\n"
       ]
      },
      {
       "output_type": "stream",
       "stream": "stdout",
       "text": [
        "\n",
        "count    1796149.000000\n",
        "mean         269.736289\n",
        "std           62.394359\n",
        "min            2.597981\n",
        "25%          229.893885\n",
        "50%          265.333649\n",
        "75%          303.797200\n",
        "max         3000.906603\n",
        "dtype: float64"
       ]
      },
      {
       "output_type": "stream",
       "stream": "stdout",
       "text": [
        "\n",
        "Returning primary attribute: year_built of buildings"
       ]
      },
      {
       "output_type": "stream",
       "stream": "stdout",
       "text": [
        "\n",
        "Returning from cache: unit_lot_size of buildings\n",
        "Returning from cache: unit_sqft of buildings\n",
        "Returning primary attribute: building_type_id of buildings\n",
        "Returning primary attribute: stories of buildings"
       ]
      },
      {
       "output_type": "stream",
       "stream": "stdout",
       "text": [
        "\n",
        "Returning primary attribute: residential_units of buildings\n",
        "Returning primary attribute: building_type_id of buildings\n",
        "Returning primary attribute: non_residential_sqft of buildings"
       ]
      },
      {
       "output_type": "stream",
       "stream": "stdout",
       "text": [
        "\n",
        "Returning primary attribute: building_type_id of buildings\n",
        "Returning primary attribute: residential_sales_price of buildings\n",
        "Returning primary attribute: residential_rent of buildings\n",
        "Returning primary attribute: non_residential_rent of buildings\n",
        "Returning from cache: _node_id of buildings\n",
        "Returning from cache: _node_id0 of buildings\n",
        "Returning from cache: zone_id of buildings\n",
        "Returning from cache: lot_size of buildings\n",
        "Running hedonic simulation\n"
       ]
      },
      {
       "output_type": "stream",
       "stream": "stdout",
       "text": [
        "\n",
        "count    1796149.000000\n",
        "mean           2.384075\n",
        "std            0.320381\n",
        "min            0.332067\n",
        "25%            2.179386\n",
        "50%            2.356490\n",
        "75%            2.556978\n",
        "max           12.342420\n",
        "dtype: float64"
       ]
      },
      {
       "output_type": "stream",
       "stream": "stdout",
       "text": [
        "\n",
        "Returning primary attribute: year_built of buildings"
       ]
      },
      {
       "output_type": "stream",
       "stream": "stdout",
       "text": [
        "\n",
        "Returning from cache: unit_lot_size of buildings\n",
        "Returning from cache: unit_sqft of buildings\n",
        "Returning primary attribute: building_type_id of buildings\n",
        "Returning primary attribute: stories of buildings"
       ]
      },
      {
       "output_type": "stream",
       "stream": "stdout",
       "text": [
        "\n",
        "Returning primary attribute: residential_units of buildings\n",
        "Returning primary attribute: building_type_id of buildings\n",
        "Returning primary attribute: non_residential_sqft of buildings"
       ]
      },
      {
       "output_type": "stream",
       "stream": "stdout",
       "text": [
        "\n",
        "Returning primary attribute: building_type_id of buildings\n",
        "Returning primary attribute: residential_sales_price of buildings\n",
        "Returning primary attribute: residential_rent of buildings\n",
        "Returning primary attribute: non_residential_rent of buildings\n",
        "Returning from cache: _node_id of buildings\n",
        "Returning from cache: _node_id0 of buildings\n",
        "Returning from cache: zone_id of buildings\n",
        "Returning from cache: lot_size of buildings\n",
        "Running hedonic simulation\n"
       ]
      },
      {
       "output_type": "stream",
       "stream": "stdout",
       "text": [
        "\n",
        "count    116797.000000\n",
        "mean         17.241906\n",
        "std           5.401205\n",
        "min           6.199881\n",
        "25%          10.771861\n",
        "50%          19.030444\n",
        "75%          20.916375\n",
        "max          44.884411\n",
        "dtype: float64"
       ]
      },
      {
       "output_type": "stream",
       "stream": "stdout",
       "text": [
        "\n"
       ]
      }
     ],
     "prompt_number": 4
    },
    {
     "cell_type": "code",
     "collapsed": false,
     "input": [
      "models.price_vars(dset)"
     ],
     "language": "python",
     "metadata": {},
     "outputs": [
      {
       "output_type": "stream",
       "stream": "stdout",
       "text": [
        "Computing accessibility variables\n",
        "Computing residential\n",
        "    Fields available to accvar = residential_sales_price, _node_id0\n",
        "Returning primary attribute: residential_sales_price of buildings\n",
        "Returning from cache: _node_id0 of buildings\n",
        "    dataframe = buildings, varname=residential_sales_price\n",
        "    radius = 2000, aggregation = AGG_AVE, decay = DECAY_FLAT\n",
        "Computing retail"
       ]
      },
      {
       "output_type": "stream",
       "stream": "stdout",
       "text": [
        "\n",
        "    Fields available to accvar = non_residential_rent, general_type, _node_id0\n",
        "Returning primary attribute: non_residential_rent of buildings\n",
        "Returning primary attribute: building_type_id of buildings\n",
        "Returning from cache: _node_id0 of buildings"
       ]
      },
      {
       "output_type": "stream",
       "stream": "stdout",
       "text": [
        "\n",
        "    Filters = ['general_type == \"Retail\"']"
       ]
      },
      {
       "output_type": "stream",
       "stream": "stdout",
       "text": [
        "\n",
        "    dataframe = buildings, varname=non_residential_rent\n",
        "    radius = 2000, aggregation = AGG_AVE, decay = DECAY_FLAT\n",
        "Computing office"
       ]
      },
      {
       "output_type": "stream",
       "stream": "stdout",
       "text": [
        "\n",
        "    Fields available to accvar = non_residential_rent, general_type, _node_id0\n",
        "Returning primary attribute: non_residential_rent of buildings\n",
        "Returning primary attribute: building_type_id of buildings\n",
        "Returning from cache: _node_id0 of buildings"
       ]
      },
      {
       "output_type": "stream",
       "stream": "stdout",
       "text": [
        "\n",
        "    Filters = ['general_type == \"Office\"']"
       ]
      },
      {
       "output_type": "stream",
       "stream": "stdout",
       "text": [
        "\n",
        "    dataframe = buildings, varname=non_residential_rent\n",
        "    radius = 2000, aggregation = AGG_AVE, decay = DECAY_FLAT\n",
        "Computing industrial"
       ]
      },
      {
       "output_type": "stream",
       "stream": "stdout",
       "text": [
        "\n",
        "    Fields available to accvar = non_residential_rent, general_type, _node_id0\n",
        "Returning primary attribute: non_residential_rent of buildings\n",
        "Returning primary attribute: building_type_id of buildings\n",
        "Returning from cache: _node_id0 of buildings"
       ]
      },
      {
       "output_type": "stream",
       "stream": "stdout",
       "text": [
        "\n",
        "    Filters = ['general_type == \"Industrial\"']"
       ]
      },
      {
       "output_type": "stream",
       "stream": "stdout",
       "text": [
        "\n",
        "    dataframe = buildings, varname=non_residential_rent\n",
        "    radius = 2000, aggregation = AGG_AVE, decay = DECAY_FLAT\n",
        "Done"
       ]
      },
      {
       "output_type": "stream",
       "stream": "stdout",
       "text": [
        "\n"
       ]
      }
     ],
     "prompt_number": 6
    },
    {
     "cell_type": "code",
     "collapsed": false,
     "input": [
      "print dset.nodes_prices.describe()"
     ],
     "language": "python",
     "metadata": {},
     "outputs": [
      {
       "output_type": "stream",
       "stream": "stdout",
       "text": [
        "         residential         retail         office     industrial\n",
        "count  226060.000000  226060.000000  226060.000000  226060.000000\n",
        "mean      272.037567      17.454301      18.167825       8.307387\n",
        "std        53.438264       6.215718       6.058869       3.383655\n",
        "min         0.000000       0.000000       0.000000       0.000000\n",
        "25%       247.391205      17.025167      19.148067       8.900862\n",
        "50%       273.689438      19.128517      19.868578       9.465552\n",
        "75%       298.741501      20.701900      20.678301       9.933848\n",
        "max       971.837158      32.954872      26.929792      14.415293\n",
        "\n",
        "[8 rows x 4 columns]\n"
       ]
      }
     ],
     "prompt_number": 7
    },
    {
     "cell_type": "code",
     "collapsed": false,
     "input": [
      "import os\n",
      "from urbansim.utils import misc\n",
      "dset.nodes_prices.to_csv(os.path.join(misc.data_dir(),'nodes_prices.csv'), index_label='node_id')"
     ],
     "language": "python",
     "metadata": {},
     "outputs": [],
     "prompt_number": 8
    },
    {
     "cell_type": "heading",
     "level": 2,
     "metadata": {},
     "source": [
      "Run the pro forma"
     ]
    },
    {
     "cell_type": "code",
     "collapsed": false,
     "input": [
      "models.feasibility(dset)"
     ],
     "language": "python",
     "metadata": {},
     "outputs": [
      {
       "output_type": "stream",
       "stream": "stdout",
       "text": [
        "Fetching parcels\n",
        "Computing: parcel_size of parcels as"
       ]
      },
      {
       "output_type": "stream",
       "stream": "stdout",
       "text": [
        "\n",
        "    parcels.shape_area * 10.764\n",
        "Returning primary attribute: shape_area of parcels\n",
        "Computing: total_units of parcels as"
       ]
      },
      {
       "output_type": "stream",
       "stream": "stdout",
       "text": [
        "\n",
        "    buildings.groupby(buildings.parcel_id).residential_units.sum().fillna(0)\n",
        "Fetching buildings\n",
        "Returning primary attribute: groupby of buildings"
       ]
      },
      {
       "output_type": "stream",
       "stream": "stdout",
       "text": [
        "\n",
        "Returning primary attribute: parcel_id of buildings\n",
        "Computing: total_sqft of parcels as"
       ]
      },
      {
       "output_type": "stream",
       "stream": "stdout",
       "text": [
        "\n",
        "    buildings.groupby(buildings.parcel_id).building_sqft.sum().fillna(0)\n",
        "Returning primary attribute: groupby of buildings\n",
        "Returning primary attribute: parcel_id of buildings\n",
        "Returning from cache: total_sqft of parcels"
       ]
      },
      {
       "output_type": "stream",
       "stream": "stdout",
       "text": [
        "\n",
        "Fetching nodes_prices\n",
        "WARNING: fetching precomputed nodes_prices off of disk\n",
        "Fetching zoning_baseline"
       ]
      },
      {
       "output_type": "stream",
       "stream": "stdout",
       "text": [
        "\n",
        "Fetching zoning_for_parcels\n",
        "Fetching zoning"
       ]
      },
      {
       "output_type": "stream",
       "stream": "stdout",
       "text": [
        "\n",
        "               retail      industrial          office     residential\n",
        "count  2023915.000000  2023915.000000  2023915.000000  2023915.000000\n",
        "mean        18.388959        8.697600       19.056334       13.506131\n",
        "std          4.982815        3.032822        4.668929        2.008091\n",
        "min          0.000000        0.000000        0.000000        0.000000\n",
        "25%         17.669264        9.051761       19.325000       12.318807\n",
        "50%         19.383923        9.555856       19.982599       13.641818\n",
        "75%         20.862297       10.013644       20.720098       14.810565\n",
        "max         32.954872       14.415293       26.929792       48.591858\n",
        "\n",
        "[8 rows x 4 columns]"
       ]
      },
      {
       "output_type": "stream",
       "stream": "stdout",
       "text": [
        "\n",
        "Computing feasibility for form mixedoffice\n",
        "Computing feasibility for form industrial"
       ]
      },
      {
       "output_type": "stream",
       "stream": "stdout",
       "text": [
        "\n",
        "Computing feasibility for form office"
       ]
      },
      {
       "output_type": "stream",
       "stream": "stdout",
       "text": [
        "\n",
        "Computing feasibility for form residential"
       ]
      },
      {
       "output_type": "stream",
       "stream": "stdout",
       "text": [
        "\n",
        "Computing feasibility for form mixedresidential"
       ]
      },
      {
       "output_type": "stream",
       "stream": "stdout",
       "text": [
        "\n",
        "Computing feasibility for form retail"
       ]
      },
      {
       "output_type": "stream",
       "stream": "stdout",
       "text": [
        "\n"
       ]
      }
     ],
     "prompt_number": 2
    },
    {
     "cell_type": "heading",
     "level": 2,
     "metadata": {},
     "source": [
      "Build Buildings"
     ]
    },
    {
     "cell_type": "code",
     "collapsed": false,
     "input": [
      "models.residential_developer(dset)\n",
      "models.non_residential_developer(dset)"
     ],
     "language": "python",
     "metadata": {},
     "outputs": [
      {
       "output_type": "stream",
       "stream": "stdout",
       "text": [
        "Number of agents: 2608023\n",
        "Number of agent spaces: 2919217\n",
        "Current vacancy = 0.11\n",
        "Target vacancy = 0.15, target of new units = 149045\n",
        "Returning from cache: parcel_size of parcels\n",
        "Returning from cache: ave_unit_sqft of parcels\n",
        "Returning from cache: total_units of parcels\n",
        "Sum of net units that are profitable"
       ]
      },
      {
       "output_type": "stream",
       "stream": "stdout",
       "text": [
        " 1266346.0\n",
        "Adding 585 buildings with 151,736.0 residential units"
       ]
      },
      {
       "output_type": "stream",
       "stream": "stdout",
       "text": [
        "\n",
        "Returning primary attribute: building_type_id of buildings"
       ]
      },
      {
       "output_type": "stream",
       "stream": "stdout",
       "text": [
        "\n",
        "Returning primary attribute: non_residential_sqft of buildings"
       ]
      },
      {
       "output_type": "stream",
       "stream": "stdout",
       "text": [
        "\n",
        "Number of agents: 4085844"
       ]
      },
      {
       "output_type": "stream",
       "stream": "stdout",
       "text": [
        "\n",
        "Number of agent spaces: 4594953\n",
        "Current vacancy = 0.11\n",
        "Target vacancy = 0.15, target of new units = 211922\n",
        "Returning from cache: parcel_size of parcels\n",
        "Returning primary attribute: index of parcels\n",
        "Returning from cache: total_nonres_units of parcels\n",
        "Sum of net units that are profitable"
       ]
      },
      {
       "output_type": "stream",
       "stream": "stdout",
       "text": [
        " 7448180.0\n",
        "Adding 794 buildings with 114,329,192.631 non-residential sqft"
       ]
      },
      {
       "output_type": "stream",
       "stream": "stdout",
       "text": [
        "\n"
       ]
      }
     ],
     "prompt_number": 5
    },
    {
     "cell_type": "code",
     "collapsed": false,
     "input": [
      "df = dset.view(\"buildings\").build_df()\n",
      "df = df.query(\"year_built == 2013\")\n",
      "print df.describe()\n",
      "d = {\n",
      "    \"buildings\": df\n",
      "}"
     ],
     "language": "python",
     "metadata": {},
     "outputs": [
      {
       "output_type": "stream",
       "stream": "stdout",
       "text": [
        "Returning primary attribute: year_built of buildings\n",
        "Computing: unit_lot_size of buildings as\n",
        "    buildings.lot_size / buildings.residential_units\n",
        "Computing: lot_size of buildings as\n",
        "    reindex(parcels.shape_area, buildings.parcel_id) * 10.764\n",
        "Returning primary attribute: shape_area of parcels\n",
        "Returning primary attribute: parcel_id of buildings\n",
        "Returning primary attribute: residential_units of buildings"
       ]
      },
      {
       "output_type": "stream",
       "stream": "stdout",
       "text": [
        "\n",
        "Computing: unit_sqft of buildings as\n",
        "    buildings.building_sqft / buildings.residential_units\n",
        "Returning primary attribute: building_sqft of buildings\n",
        "Returning primary attribute: residential_units of buildings\n",
        "Returning primary attribute: building_type_id of buildings\n",
        "Returning primary attribute: stories of buildings"
       ]
      },
      {
       "output_type": "stream",
       "stream": "stdout",
       "text": [
        "\n",
        "Returning primary attribute: residential_units of buildings\n",
        "Returning primary attribute: building_type_id of buildings\n",
        "Returning primary attribute: non_residential_sqft of buildings"
       ]
      },
      {
       "output_type": "stream",
       "stream": "stdout",
       "text": [
        "\n",
        "Returning primary attribute: building_type_id of buildings\n",
        "Returning primary attribute: residential_sales_price of buildings\n",
        "Returning primary attribute: residential_rent of buildings\n",
        "Returning primary attribute: non_residential_rent of buildings\n",
        "Computing: _node_id of buildings as\n",
        "    reindex(parcels._node_id, buildings.parcel_id)\n",
        "Returning primary attribute: _node_id of parcels\n",
        "Returning primary attribute: parcel_id of buildings\n",
        "Computing: _node_id0 of buildings as"
       ]
      },
      {
       "output_type": "stream",
       "stream": "stdout",
       "text": [
        "\n",
        "    reindex(parcels._node_id0, buildings.parcel_id)\n",
        "Returning primary attribute: _node_id0 of parcels\n",
        "Returning primary attribute: parcel_id of buildings\n",
        "Computing: zone_id of buildings as"
       ]
      },
      {
       "output_type": "stream",
       "stream": "stdout",
       "text": [
        "\n",
        "    reindex(parcels.zone_id, buildings.parcel_id)\n",
        "Returning primary attribute: zone_id of parcels\n",
        "Returning primary attribute: parcel_id of buildings\n",
        "Returning from cache: lot_size of buildings"
       ]
      },
      {
       "output_type": "stream",
       "stream": "stdout",
       "text": [
        "\n",
        "       year_built  unit_lot_size  unit_sqft     stories  residential_units  \\\n",
        "count         822              0          0  822.000000                822   \n",
        "mean         2013            NaN        NaN    3.812652                  0   \n",
        "std             0            NaN        NaN    2.473033                  0   \n",
        "min          2013            NaN        NaN    1.000000                  0   \n",
        "25%          2013            NaN        NaN    3.000000                  0   \n",
        "50%          2013            NaN        NaN    3.000000                  0   \n",
        "75%          2013            NaN        NaN    4.000000                  0   \n",
        "max          2013            NaN        NaN   12.000000                  0   \n",
        "\n",
        "       non_residential_units  building_type_id  residential_sales_price  \\\n",
        "count             822.000000        822.000000                        0   \n",
        "mean              459.418491          7.357664                      NaN   \n",
        "std               596.819232          2.980417                      NaN   \n",
        "min                 6.000000          4.000000                      NaN   \n",
        "25%                58.000000          4.000000                      NaN   \n",
        "50%               212.000000         10.000000                      NaN   \n",
        "75%               656.750000         10.000000                      NaN   \n",
        "max              4383.000000         10.000000                      NaN   \n",
        "\n",
        "       residential_rent  non_residential_rent       _node_id      _node_id0  \\\n",
        "count                 0                     0     822.000000     822.000000   \n",
        "mean                NaN                   NaN  114561.518248   91945.611922   \n",
        "std                 NaN                   NaN   98332.191353   66346.152714   \n",
        "min                 NaN                   NaN      12.000000       4.000000   \n",
        "25%                 NaN                   NaN   50976.750000   45355.750000   \n",
        "50%                 NaN                   NaN   61887.000000   55413.000000   \n",
        "75%                 NaN                   NaN  171569.250000  158494.000000   \n",
        "max                 NaN                   NaN  354215.000000  225713.000000   \n",
        "\n",
        "           zone_id       lot_size  \n",
        "count   822.000000     822.000000  \n",
        "mean    999.012165   53455.981561  \n",
        "std     404.429599   54506.783670  \n",
        "min      10.000000    1285.720841  \n",
        "25%     676.000000    8577.659898  \n",
        "50%     999.000000   30075.588334  \n",
        "75%    1366.000000   88731.998596  \n",
        "max    1443.000000  199905.455039  \n",
        "\n",
        "[8 rows x 14 columns]"
       ]
      },
      {
       "output_type": "stream",
       "stream": "stdout",
       "text": [
        "\n"
       ]
      }
     ],
     "prompt_number": 32
    },
    {
     "cell_type": "code",
     "collapsed": false,
     "input": [
      "from usui import dset_explorer\n",
      "dset_explorer.start(d, \n",
      "        center=[37.7792, -122.2191],\n",
      "        zoom=11,\n",
      "        shape_json='data/zones.json',\n",
      "        geom_name='ZONE_ID', # from JSON file\n",
      "        join_name='zone_id', # from data frames\n",
      "        precision=1)"
     ],
     "language": "python",
     "metadata": {},
     "outputs": [
      {
       "output_type": "stream",
       "stream": "stderr",
       "text": [
        "Bottle v0.12.7 server starting up (using WSGIRefServer())...\n",
        "Listening on http://localhost:8765/\n",
        "Hit Ctrl-C to quit.\n",
        "\n",
        "127.0.0.1 - - [17/Jun/2014 16:33:31] \"GET / HTTP/1.1\" 200 27545\n"
       ]
      },
      {
       "output_type": "stream",
       "stream": "stderr",
       "text": [
        "127.0.0.1 - - [17/Jun/2014 16:33:31] \"GET /data/zones.json HTTP/1.1\" 304 0\n",
        "127.0.0.1 - - [17/Jun/2014 16:33:36] \"GET /map_query/buildings/empty/zone_id/residential_units/mean() HTTP/1.1\" 200 3655\n"
       ]
      },
      {
       "output_type": "stream",
       "stream": "stdout",
       "text": [
        "df.groupby('zone_id')['residential_units'].mean()\n",
        "df.groupby('zone_id')['non_residential_units'].mean()"
       ]
      },
      {
       "output_type": "stream",
       "stream": "stdout",
       "text": [
        "\n",
        "df.groupby('zone_id')['non_residential_units'].sum()"
       ]
      },
      {
       "output_type": "stream",
       "stream": "stderr",
       "text": [
        "127.0.0.1 - - [17/Jun/2014 16:33:43] \"GET /map_query/buildings/empty/zone_id/non_residential_units/mean() HTTP/1.1\" 200 4642\n",
        "127.0.0.1 - - [17/Jun/2014 16:33:51] \"GET /map_query/buildings/empty/zone_id/non_residential_units/sum() HTTP/1.1\" 200 3671\n"
       ]
      },
      {
       "output_type": "stream",
       "stream": "stderr",
       "text": [
        "127.0.0.1 - - [17/Jun/2014 16:34:01] \"GET / HTTP/1.1\" 200 27545\n",
        "127.0.0.1 - - [17/Jun/2014 16:34:01] \"GET /data/zones.json HTTP/1.1\" 304 0\n"
       ]
      },
      {
       "output_type": "stream",
       "stream": "stdout",
       "text": [
        "\n",
        "df.groupby('zone_id')['non_residential_units'].mean()"
       ]
      },
      {
       "output_type": "stream",
       "stream": "stdout",
       "text": [
        "\n",
        "df.groupby('zone_id')['non_residential_units'].sum()"
       ]
      },
      {
       "output_type": "stream",
       "stream": "stderr",
       "text": [
        "127.0.0.1 - - [17/Jun/2014 16:34:06] \"GET /map_query/buildings/empty/zone_id/non_residential_units/mean() HTTP/1.1\" 200 4642\n",
        "127.0.0.1 - - [17/Jun/2014 16:34:09] \"GET /map_query/buildings/empty/zone_id/non_residential_units/sum() HTTP/1.1\" 200 3671\n"
       ]
      },
      {
       "output_type": "stream",
       "stream": "stdout",
       "text": [
        "\n"
       ]
      }
     ],
     "prompt_number": 33
    }
   ],
   "metadata": {}
  }
 ]
}