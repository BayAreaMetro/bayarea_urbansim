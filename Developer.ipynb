{
 "metadata": {
  "name": "",
  "signature": "sha256:417fbdbf216876dce4f6be7d5ed7bb26657ba83048e45322f60936ed94ccd635"
 },
 "nbformat": 3,
 "nbformat_minor": 0,
 "worksheets": [
  {
   "cells": [
    {
     "cell_type": "code",
     "collapsed": false,
     "input": [
      "%load_ext autoreload\n",
      "%autoreload 2\n",
      "import models\n",
      "import dataset\n",
      "dset = dataset.BayAreaDataset(\"data/bayarea.h5\")\n",
      "dset.debug = False"
     ],
     "language": "python",
     "metadata": {},
     "outputs": [],
     "prompt_number": 1
    },
    {
     "cell_type": "heading",
     "level": 2,
     "metadata": {},
     "source": [
      "Compute a node-based average price for each use"
     ]
    },
    {
     "cell_type": "code",
     "collapsed": false,
     "input": [
      "models.build_networks(dset)"
     ],
     "language": "python",
     "metadata": {},
     "outputs": [
      {
       "output_type": "stream",
       "stream": "stdout",
       "text": [
        "Fetching NETWORKS\n"
       ]
      }
     ],
     "prompt_number": 2
    },
    {
     "cell_type": "code",
     "collapsed": false,
     "input": [
      "models.neighborhood_vars(dset)"
     ],
     "language": "python",
     "metadata": {},
     "outputs": [
      {
       "output_type": "stream",
       "stream": "stdout",
       "text": [
        "Computing accessibility variables\n",
        "Computing sum_residential_units\n",
        "Fetching buildings\n",
        "Fetching parcels"
       ]
      },
      {
       "output_type": "stream",
       "stream": "stdout",
       "text": [
        "\n",
        "Fetching building_sqft_per_job"
       ]
      },
      {
       "output_type": "stream",
       "stream": "stdout",
       "text": [
        "\n",
        "    dataframe = buildings, varname=residential_units"
       ]
      },
      {
       "output_type": "stream",
       "stream": "stdout",
       "text": [
        "\n",
        "    radius = 500, aggregation = AGG_SUM, decay = DECAY_LINEAR\n",
        "Computing sum_nonresidential_units"
       ]
      },
      {
       "output_type": "stream",
       "stream": "stdout",
       "text": [
        "\n",
        "    dataframe = buildings, varname=non_residential_units"
       ]
      },
      {
       "output_type": "stream",
       "stream": "stdout",
       "text": [
        "\n",
        "    radius = 500, aggregation = AGG_SUM, decay = DECAY_LINEAR\n",
        "Computing ave_unit_sqft"
       ]
      },
      {
       "output_type": "stream",
       "stream": "stdout",
       "text": [
        "\n",
        "    dataframe = buildings, varname=unit_sqft"
       ]
      },
      {
       "output_type": "stream",
       "stream": "stdout",
       "text": [
        "\n",
        "    radius = 500, aggregation = AGG_AVE, decay = DECAY_FLAT\n",
        "Computing ave_lot_sqft"
       ]
      },
      {
       "output_type": "stream",
       "stream": "stdout",
       "text": [
        "\n",
        "    dataframe = buildings, varname=unit_lot_size"
       ]
      },
      {
       "output_type": "stream",
       "stream": "stdout",
       "text": [
        "\n",
        "    radius = 500, aggregation = AGG_AVE, decay = DECAY_FLAT\n",
        "Computing population"
       ]
      },
      {
       "output_type": "stream",
       "stream": "stdout",
       "text": [
        "\n",
        "Fetching households\n",
        "    dataframe = households, varname=persons"
       ]
      },
      {
       "output_type": "stream",
       "stream": "stdout",
       "text": [
        "\n",
        "    radius = 500, aggregation = AGG_SUM, decay = DECAY_LINEAR\n",
        "Computing poor"
       ]
      },
      {
       "output_type": "stream",
       "stream": "stdout",
       "text": [
        "\n",
        "    dataframe = households, varname=persons"
       ]
      },
      {
       "output_type": "stream",
       "stream": "stdout",
       "text": [
        "\n",
        "    radius = 500, aggregation = AGG_SUM, decay = DECAY_LINEAR\n",
        "Computing renters"
       ]
      },
      {
       "output_type": "stream",
       "stream": "stdout",
       "text": [
        "\n",
        "    dataframe = households, varname=None"
       ]
      },
      {
       "output_type": "stream",
       "stream": "stdout",
       "text": [
        "\n",
        "    radius = 500, aggregation = AGG_SUM, decay = DECAY_LINEAR\n",
        "Computing sfdu"
       ]
      },
      {
       "output_type": "stream",
       "stream": "stdout",
       "text": [
        "\n",
        "    dataframe = buildings, varname=None"
       ]
      },
      {
       "output_type": "stream",
       "stream": "stdout",
       "text": [
        "\n",
        "    radius = 500, aggregation = AGG_SUM, decay = DECAY_LINEAR\n",
        "Computing hhsize"
       ]
      },
      {
       "output_type": "stream",
       "stream": "stdout",
       "text": [
        "\n",
        "    dataframe = households, varname=persons"
       ]
      },
      {
       "output_type": "stream",
       "stream": "stdout",
       "text": [
        "\n",
        "    radius = 500, aggregation = AGG_AVE, decay = DECAY_FLAT\n",
        "Computing jobs"
       ]
      },
      {
       "output_type": "stream",
       "stream": "stdout",
       "text": [
        "\n",
        "Fetching jobs\n",
        "    dataframe = jobs, varname=None"
       ]
      },
      {
       "output_type": "stream",
       "stream": "stdout",
       "text": [
        "\n",
        "    radius = 500, aggregation = AGG_SUM, decay = DECAY_LINEAR\n",
        "Computing ave_income"
       ]
      },
      {
       "output_type": "stream",
       "stream": "stdout",
       "text": [
        "\n",
        "    dataframe = households, varname=income"
       ]
      },
      {
       "output_type": "stream",
       "stream": "stdout",
       "text": [
        "\n",
        "    radius = 500, aggregation = AGG_AVE, decay = DECAY_FLAT\n"
       ]
      }
     ],
     "prompt_number": 3
    },
    {
     "cell_type": "code",
     "collapsed": false,
     "input": [
      "models.rsh_simulate(dset)\n",
      "models.rrh_simulate(dset)\n",
      "models.nrh_simulate(dset)"
     ],
     "language": "python",
     "metadata": {},
     "outputs": [
      {
       "output_type": "stream",
       "stream": "stdout",
       "text": [
        "Running hedonic simulation\n",
        "\n",
        "count    1796149.000000\n",
        "mean         236.982775\n",
        "std           61.433426\n",
        "min            0.131698\n",
        "25%          197.287793\n",
        "50%          236.217680\n",
        "75%          271.933210\n",
        "max         2366.399176\n",
        "dtype: float64"
       ]
      },
      {
       "output_type": "stream",
       "stream": "stdout",
       "text": [
        "\n",
        "Running hedonic simulation\n"
       ]
      },
      {
       "output_type": "stream",
       "stream": "stdout",
       "text": [
        "\n",
        "count    1796149.000000\n",
        "mean           2.297442\n",
        "std            0.281413\n",
        "min            0.384809\n",
        "25%            2.121706\n",
        "50%            2.274556\n",
        "75%            2.449613\n",
        "max           11.234001\n",
        "dtype: float64"
       ]
      },
      {
       "output_type": "stream",
       "stream": "stdout",
       "text": [
        "\n",
        "Running hedonic simulation\n"
       ]
      },
      {
       "output_type": "stream",
       "stream": "stdout",
       "text": [
        "\n",
        "count    116797.000000\n",
        "mean         17.268361\n",
        "std           5.384029\n",
        "min           6.214531\n",
        "25%          10.767426\n",
        "50%          19.090344\n",
        "75%          20.916855\n",
        "max          44.854929\n",
        "dtype: float64"
       ]
      },
      {
       "output_type": "stream",
       "stream": "stdout",
       "text": [
        "\n"
       ]
      }
     ],
     "prompt_number": 4
    },
    {
     "cell_type": "code",
     "collapsed": false,
     "input": [
      "models.price_vars(dset)"
     ],
     "language": "python",
     "metadata": {},
     "outputs": [
      {
       "output_type": "stream",
       "stream": "stdout",
       "text": [
        "Computing accessibility variables\n",
        "Computing residential\n",
        "    dataframe = buildings, varname=residential_sales_price"
       ]
      },
      {
       "output_type": "stream",
       "stream": "stdout",
       "text": [
        "\n",
        "    radius = 2000, aggregation = AGG_AVE, decay = DECAY_FLAT\n",
        "Computing retail"
       ]
      },
      {
       "output_type": "stream",
       "stream": "stdout",
       "text": [
        "\n",
        "    dataframe = buildings, varname=non_residential_rent"
       ]
      },
      {
       "output_type": "stream",
       "stream": "stdout",
       "text": [
        "\n",
        "    radius = 2000, aggregation = AGG_AVE, decay = DECAY_FLAT\n",
        "Computing office"
       ]
      },
      {
       "output_type": "stream",
       "stream": "stdout",
       "text": [
        "\n",
        "    dataframe = buildings, varname=non_residential_rent"
       ]
      },
      {
       "output_type": "stream",
       "stream": "stdout",
       "text": [
        "\n",
        "    radius = 2000, aggregation = AGG_AVE, decay = DECAY_FLAT\n",
        "Computing industrial"
       ]
      },
      {
       "output_type": "stream",
       "stream": "stdout",
       "text": [
        "\n",
        "    dataframe = buildings, varname=non_residential_rent"
       ]
      },
      {
       "output_type": "stream",
       "stream": "stdout",
       "text": [
        "\n",
        "    radius = 2000, aggregation = AGG_AVE, decay = DECAY_FLAT\n"
       ]
      }
     ],
     "prompt_number": 5
    },
    {
     "cell_type": "code",
     "collapsed": false,
     "input": [
      "print dset.nodes_prices.describe()"
     ],
     "language": "python",
     "metadata": {},
     "outputs": [
      {
       "output_type": "stream",
       "stream": "stdout",
       "text": [
        "         residential         retail         office     industrial\n",
        "count  226060.000000  226060.000000  226060.000000  226060.000000\n",
        "mean      216.338947      17.509820      18.197696       8.320488\n",
        "std        64.696774       6.198623       6.064454       3.385474\n",
        "min         0.000000       0.000000       0.000000       0.000000\n",
        "25%       185.738441      17.180752      19.208099       8.930923\n",
        "50%       222.638702      19.198458      19.899113       9.486524\n",
        "75%       252.829803      20.699176      20.690248       9.936295\n",
        "max      1066.370605      32.680153      26.880569      14.397214\n",
        "\n",
        "[8 rows x 4 columns]\n"
       ]
      }
     ],
     "prompt_number": 6
    },
    {
     "cell_type": "code",
     "collapsed": false,
     "input": [
      "import os\n",
      "from urbansim.utils import misc\n",
      "dset.nodes_prices.to_csv(os.path.join(misc.data_dir(),'nodes_prices.csv'), index_label='node_id')"
     ],
     "language": "python",
     "metadata": {},
     "outputs": [],
     "prompt_number": 7
    },
    {
     "cell_type": "heading",
     "level": 2,
     "metadata": {},
     "source": [
      "Run the pro forma"
     ]
    },
    {
     "cell_type": "code",
     "collapsed": false,
     "input": [
      "models.feasibility(dset)"
     ],
     "language": "python",
     "metadata": {},
     "outputs": [
      {
       "output_type": "stream",
       "stream": "stdout",
       "text": [
        "               retail      industrial          office     residential\n",
        "count  2023915.000000  2023915.000000  2023915.000000  2023915.000000\n",
        "mean        18.443254        8.709457       19.086396       10.992531\n",
        "std          4.951902        3.033087        4.671409        2.428606\n",
        "min          0.000000        0.000000        0.000000        0.000000\n",
        "25%         17.801592        9.084018       19.375507        9.578068\n",
        "50%         19.427368        9.575040       20.013433       11.236297\n",
        "75%         20.847170       10.012740       20.730633       12.622887\n",
        "max         32.680153       14.397214       26.880569       40.310925\n",
        "\n",
        "[8 rows x 4 columns]\n",
        "Computing feasibility for form mixedoffice\n",
        "Computing feasibility for form industrial"
       ]
      },
      {
       "output_type": "stream",
       "stream": "stdout",
       "text": [
        "\n",
        "Computing feasibility for form office"
       ]
      },
      {
       "output_type": "stream",
       "stream": "stdout",
       "text": [
        "\n",
        "Computing feasibility for form residential"
       ]
      },
      {
       "output_type": "stream",
       "stream": "stdout",
       "text": [
        "\n",
        "Computing feasibility for form mixedresidential"
       ]
      },
      {
       "output_type": "stream",
       "stream": "stdout",
       "text": [
        "\n",
        "Computing feasibility for form retail"
       ]
      },
      {
       "output_type": "stream",
       "stream": "stdout",
       "text": [
        "\n"
       ]
      }
     ],
     "prompt_number": 13
    },
    {
     "cell_type": "heading",
     "level": 2,
     "metadata": {},
     "source": [
      "Build Buildings"
     ]
    },
    {
     "cell_type": "code",
     "collapsed": false,
     "input": [
      "models.residential_developer(dset)"
     ],
     "language": "python",
     "metadata": {},
     "outputs": [
      {
       "output_type": "stream",
       "stream": "stdout",
       "text": [
        "Number of agents: 2608023\n",
        "Number of agent spaces: 2936840\n",
        "Current vacancy = 0.11\n",
        "Target vacancy = 0.15, target of new units = 131422\n",
        "Sum of net units that are profitable"
       ]
      },
      {
       "output_type": "stream",
       "stream": "stdout",
       "text": [
        " 367138.0\n",
        "NEW BUILDINGS"
       ]
      },
      {
       "output_type": "stream",
       "stream": "stdout",
       "text": [
        "\n",
        "            parcel_id  residential_units  non_residential_sqft  building_sqft  \\\n",
        "count      796.000000         796.000000                   796     796.000000   \n",
        "mean    877291.821608         167.487437                     0   66993.630045   \n",
        "std     571946.683950         144.533276                     0   57816.459884   \n",
        "min       2301.000000          11.000000                     0    4466.694619   \n",
        "25%     438426.250000          68.750000                     0   27401.085820   \n",
        "50%     555411.000000         124.000000                     0   49708.564848   \n",
        "75%    1605408.000000         209.000000                     0   83603.716009   \n",
        "max    2077196.000000         894.000000                     0  357413.141292   \n",
        "\n",
        "          stories  building_type_id  year_built  residential_sales_price  \\\n",
        "count  796.000000               796         796                        0   \n",
        "mean     1.476131                 3        2012                      NaN   \n",
        "std      0.844178                 0           0                      NaN   \n",
        "min      1.000000                 3        2012                      NaN   \n",
        "25%      1.000000                 3        2012                      NaN   \n",
        "50%      1.000000                 3        2012                      NaN   \n",
        "75%      1.000000                 3        2012                      NaN   \n",
        "max      3.000000                 3        2012                      NaN   \n",
        "\n",
        "       residential_rent  non_residential_rent  \n",
        "count                 0                     0  \n",
        "mean                NaN                   NaN  \n",
        "std                 NaN                   NaN  \n",
        "min                 NaN                   NaN  \n",
        "25%                 NaN                   NaN  \n",
        "50%                 NaN                   NaN  \n",
        "75%                 NaN                   NaN  \n",
        "max                 NaN                   NaN  \n",
        "\n",
        "[8 rows x 10 columns]"
       ]
      },
      {
       "output_type": "stream",
       "stream": "stdout",
       "text": [
        "\n"
       ]
      }
     ],
     "prompt_number": 23
    },
    {
     "cell_type": "code",
     "collapsed": false,
     "input": [
      "from usui import dset_explorer"
     ],
     "language": "python",
     "metadata": {},
     "outputs": [],
     "prompt_number": 2
    },
    {
     "cell_type": "code",
     "collapsed": false,
     "input": [
      "debug_dict = models.rsh_estimate(dset)"
     ],
     "language": "python",
     "metadata": {},
     "outputs": [
      {
       "output_type": "stream",
       "stream": "stdout",
       "text": [
        "Fetching homesales\n",
        "Fetching nodes"
       ]
      },
      {
       "output_type": "stream",
       "stream": "stdout",
       "text": [
        "\n",
        "WARNING: fetching precomputed nodes off of disk\n",
        "Running hedonic estimation\n"
       ]
      },
      {
       "output_type": "stream",
       "stream": "stdout",
       "text": [
        "\n",
        "                               OLS Regression Results                               \n",
        "====================================================================================\n",
        "Dep. Variable:     np.log1p(sale_price_flt)   R-squared:                       0.222\n",
        "Model:                                  OLS   Adj. R-squared:                  0.222\n",
        "Method:                       Least Squares   F-statistic:                     6158.\n",
        "Date:                      Wed, 11 Jun 2014   Prob (F-statistic):               0.00\n",
        "Time:                              23:12:10   Log-Likelihood:            -1.4306e+05\n",
        "No. Observations:                    194138   AIC:                         2.861e+05\n",
        "Df Residuals:                        194128   BIC:                         2.862e+05\n",
        "Df Model:                                 9                                         \n",
        "================================================================================================\n",
        "                                   coef    std err          t      P>|t|      [95.0% Conf. Int.]\n",
        "------------------------------------------------------------------------------------------------\n",
        "Intercept                        3.8474      0.038    101.840      0.000         3.773     3.921\n",
        "I(year_built < 1940)[T.True]     0.2369      0.004     61.673      0.000         0.229     0.244\n",
        "I(year_built > 2005)[T.True]     0.0237      0.006      3.653      0.000         0.011     0.036\n",
        "np.log1p(unit_sqft)             -0.2330      0.003    -71.959      0.000        -0.239    -0.227\n",
        "np.log1p(unit_lot_size)          0.0850      0.002     56.201      0.000         0.082     0.088\n",
        "sum_residential_units           -0.0895      0.002    -47.796      0.000        -0.093    -0.086\n",
        "ave_unit_sqft                   -0.3068      0.004    -73.993      0.000        -0.315    -0.299\n",
        "ave_lot_sqft                    -0.0346      0.001    -64.330      0.000        -0.036    -0.034\n",
        "ave_income                       0.4880      0.002    195.932      0.000         0.483     0.493\n",
        "jobs                             0.0245      0.001     49.022      0.000         0.024     0.026\n",
        "==============================================================================\n",
        "Omnibus:                    42605.865   Durbin-Watson:                   0.607\n",
        "Prob(Omnibus):                  0.000   Jarque-Bera (JB):           534598.117\n",
        "Skew:                           0.703   Prob(JB):                         0.00\n",
        "Kurtosis:                      11.007   Cond. No.                         702.\n",
        "=============================================================================="
       ]
      },
      {
       "output_type": "stream",
       "stream": "stdout",
       "text": [
        "\n"
       ]
      }
     ],
     "prompt_number": 3
    },
    {
     "cell_type": "code",
     "collapsed": false,
     "input": [
      "for k in debug_dict.keys():\n",
      "    debug_dict[k]['zone_id'] = dset.view(\"buildings\").zone_id.loc[debug_dict[k].index]"
     ],
     "language": "python",
     "metadata": {},
     "outputs": [],
     "prompt_number": 19
    },
    {
     "cell_type": "code",
     "collapsed": false,
     "input": [
      "dset.debug = True\n",
      "d = {\"buildings\": dset.view(\"buildings\").build_df()}"
     ],
     "language": "python",
     "metadata": {},
     "outputs": [
      {
       "output_type": "stream",
       "stream": "stdout",
       "text": [
        "Returning primary attribute: year_built of buildings\n",
        "Returning from cache: unit_lot_size of buildings\n",
        "Returning from cache: unit_sqft of buildings\n",
        "Returning primary attribute: building_type_id of buildings\n",
        "Returning primary attribute: stories of buildings"
       ]
      },
      {
       "output_type": "stream",
       "stream": "stdout",
       "text": [
        "\n",
        "Returning primary attribute: residential_units of buildings\n",
        "Returning primary attribute: building_type_id of buildings\n",
        "Returning primary attribute: non_residential_sqft of buildings"
       ]
      },
      {
       "output_type": "stream",
       "stream": "stdout",
       "text": [
        "\n",
        "Returning primary attribute: building_type_id of buildings\n",
        "Returning primary attribute: residential_sales_price of buildings\n",
        "Returning primary attribute: residential_rent of buildings\n",
        "Returning primary attribute: non_residential_rent of buildings\n",
        "Returning from cache: _node_id of buildings\n",
        "Computing: _node_id0 of buildings as\n",
        "    reindex(parcels._node_id0, buildings.parcel_id)\n",
        "Returning primary attribute: _node_id0 of parcels\n",
        "Returning primary attribute: parcel_id of buildings\n",
        "Returning from cache: zone_id of buildings"
       ]
      },
      {
       "output_type": "stream",
       "stream": "stdout",
       "text": [
        "\n",
        "Returning from cache: lot_size of buildings\n"
       ]
      }
     ],
     "prompt_number": 27
    },
    {
     "cell_type": "code",
     "collapsed": false,
     "input": [
      "dset_explorer.start(dset, d, {\n",
      "        'center': str([37.7792, -122.2191]),\n",
      "        'zoom': 11,\n",
      "        'shape_json': 'data/zones.json',\n",
      "        'geom_name': 'ZONE_ID'\n",
      "    })"
     ],
     "language": "python",
     "metadata": {},
     "outputs": [
      {
       "output_type": "stream",
       "stream": "stderr",
       "text": [
        "Bottle v0.12.7 server starting up (using WSGIRefServer())...\n",
        "Listening on http://localhost:8765/\n",
        "Hit Ctrl-C to quit.\n",
        "\n",
        "127.0.0.1 - - [11/Jun/2014 23:36:37] \"GET / HTTP/1.1\" 200 27084\n"
       ]
      },
      {
       "output_type": "stream",
       "stream": "stderr",
       "text": [
        "127.0.0.1 - - [11/Jun/2014 23:36:38] \"GET /data/zones.json HTTP/1.1\" 304 0\n",
        "127.0.0.1 - - [11/Jun/2014 23:36:42] \"GET /map_query/buildings/empty/zone_id/residential_units/mean HTTP/1.1\" 200 37897\n"
       ]
      },
      {
       "output_type": "stream",
       "stream": "stderr",
       "text": [
        "127.0.0.1 - - [11/Jun/2014 23:37:31] \"GET / HTTP/1.1\" 200 27009\n",
        "127.0.0.1 - - [11/Jun/2014 23:37:31] \"GET /data/zones.json HTTP/1.1\" 304 0\n"
       ]
      },
      {
       "output_type": "stream",
       "stream": "stdout",
       "text": [
        "VIEWS['buildings'].groupby('zone_id')['residential_units'].mean()\n",
        "VIEWS['buildings'].groupby('zone_id')['residential_units'].mean()"
       ]
      },
      {
       "output_type": "stream",
       "stream": "stdout",
       "text": [
        "\n",
        "VIEWS['buildings'].groupby('zone_id')['residential_units'].sum()"
       ]
      },
      {
       "output_type": "stream",
       "stream": "stderr",
       "text": [
        "127.0.0.1 - - [11/Jun/2014 23:37:36] \"GET /map_query/buildings/empty/zone_id/residential_units/mean HTTP/1.1\" 200 37897\n",
        "127.0.0.1 - - [11/Jun/2014 23:37:47] \"GET /map_query/buildings/empty/zone_id/residential_units/sum HTTP/1.1\" 200 21943\n"
       ]
      },
      {
       "output_type": "stream",
       "stream": "stderr",
       "text": [
        "127.0.0.1 - - [11/Jun/2014 23:42:34] \"GET / HTTP/1.1\" 200 26953\n",
        "127.0.0.1 - - [11/Jun/2014 23:42:35] \"GET /data/zones.json HTTP/1.1\" 304 0\n"
       ]
      },
      {
       "output_type": "stream",
       "stream": "stdout",
       "text": [
        "\n",
        "VIEWS['buildings'].groupby('zone_id')['residential_units'].mean()"
       ]
      },
      {
       "output_type": "stream",
       "stream": "stdout",
       "text": [
        "\n",
        "VIEWS['buildings'].groupby('zone_id')['residential_units'].sum()"
       ]
      },
      {
       "output_type": "stream",
       "stream": "stderr",
       "text": [
        "127.0.0.1 - - [11/Jun/2014 23:42:39] \"GET /map_query/buildings/empty/zone_id/residential_units/mean HTTP/1.1\" 200 37897\n",
        "127.0.0.1 - - [11/Jun/2014 23:42:46] \"GET /map_query/buildings/empty/zone_id/residential_units/sum HTTP/1.1\" 200 21943\n"
       ]
      },
      {
       "output_type": "stream",
       "stream": "stderr",
       "text": [
        "127.0.0.1 - - [11/Jun/2014 23:43:32] \"GET / HTTP/1.1\" 200 26981\n",
        "127.0.0.1 - - [11/Jun/2014 23:43:32] \"GET /data/zones.json HTTP/1.1\" 304 0\n"
       ]
      },
      {
       "output_type": "stream",
       "stream": "stdout",
       "text": [
        "\n",
        "VIEWS['buildings'].groupby('zone_id')['residential_units'].mean()"
       ]
      },
      {
       "output_type": "stream",
       "stream": "stderr",
       "text": [
        "127.0.0.1 - - [11/Jun/2014 23:43:36] \"GET /map_query/buildings/empty/zone_id/residential_units/mean HTTP/1.1\" 200 37897\n",
        "127.0.0.1 - - [11/Jun/2014 23:44:29] \"GET / HTTP/1.1\" 200 26981\n"
       ]
      },
      {
       "output_type": "stream",
       "stream": "stdout",
       "text": [
        "\n",
        "VIEWS['buildings'].groupby('zone_id')['residential_units'].mean()"
       ]
      },
      {
       "output_type": "stream",
       "stream": "stderr",
       "text": [
        "127.0.0.1 - - [11/Jun/2014 23:44:29] \"GET /data/zones.json HTTP/1.1\" 304 0\n",
        "127.0.0.1 - - [11/Jun/2014 23:44:34] \"GET /map_query/buildings/empty/zone_id/residential_units/mean HTTP/1.1\" 200 37897\n"
       ]
      },
      {
       "output_type": "stream",
       "stream": "stderr",
       "text": [
        "127.0.0.1 - - [11/Jun/2014 23:44:44] \"GET / HTTP/1.1\" 200 26981\n",
        "127.0.0.1 - - [11/Jun/2014 23:44:44] \"GET /data/zones.json HTTP/1.1\" 304 0\n"
       ]
      },
      {
       "output_type": "stream",
       "stream": "stdout",
       "text": [
        "\n",
        "VIEWS['buildings'].groupby('zone_id')['residential_units'].mean()"
       ]
      },
      {
       "output_type": "stream",
       "stream": "stdout",
       "text": [
        "\n"
       ]
      },
      {
       "output_type": "stream",
       "stream": "stderr",
       "text": [
        "127.0.0.1 - - [11/Jun/2014 23:44:48] \"GET /map_query/buildings/empty/zone_id/residential_units/mean HTTP/1.1\" 200 37897\n"
       ]
      }
     ],
     "prompt_number": 29
    },
    {
     "cell_type": "code",
     "collapsed": false,
     "input": [],
     "language": "python",
     "metadata": {},
     "outputs": []
    }
   ],
   "metadata": {}
  }
 ]
}