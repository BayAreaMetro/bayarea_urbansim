{
 "metadata": {
  "name": "",
  "signature": "sha256:bab62ebd8a8c380934bbdd03bc61a194b1c6adb14d2f10007086034aac084d10"
 },
 "nbformat": 3,
 "nbformat_minor": 0,
 "worksheets": [
  {
   "cells": [
    {
     "cell_type": "code",
     "collapsed": false,
     "input": [
      "import pandas as pd, os\n",
      "from urbansim.utils import misc\n",
      "%load_ext autoreload\n",
      "%autoreload 1\n",
      "%aimport bayarea.dataset\n",
      "dataset = bayarea.dataset"
     ],
     "language": "python",
     "metadata": {},
     "outputs": [
      {
       "output_type": "stream",
       "stream": "stdout",
       "text": [
        "The autoreload extension is already loaded. To reload it, use:\n",
        "  %reload_ext autoreload\n"
       ]
      }
     ],
     "prompt_number": 99
    },
    {
     "cell_type": "code",
     "collapsed": false,
     "input": [
      "dset = dataset.BayAreaDataset(\"data/bayarea.h5\")"
     ],
     "language": "python",
     "metadata": {},
     "outputs": [],
     "prompt_number": 149
    },
    {
     "cell_type": "code",
     "collapsed": false,
     "input": [
      "dset.set_scenario('baseline')\n",
      "max_far = dset.zoning_max_far()\n",
      "print max_far.describe()\n",
      "print max_far.ix[1625750]\n",
      "dset.set_scenario('test')\n",
      "max_far = dset.zoning_max_far()\n",
      "print max_far.describe()\n",
      "print max_far.ix[1625750]"
     ],
     "language": "python",
     "metadata": {},
     "outputs": [
      {
       "output_type": "stream",
       "stream": "stdout",
       "text": [
        "Fetching zoning_baseline\n",
        "Fetching zoning_for_parcels\n",
        "Fetching modify_table"
       ]
      },
      {
       "output_type": "stream",
       "stream": "stdout",
       "text": [
        "\n",
        "Fetching zoning\n",
        "Fetching modify_table"
       ]
      },
      {
       "output_type": "stream",
       "stream": "stdout",
       "text": [
        "\n",
        "Fetching modify_table"
       ]
      },
      {
       "output_type": "stream",
       "stream": "stdout",
       "text": [
        "\n",
        "count    1280730.00\n",
        "mean          36.73\n",
        "std           25.29\n",
        "min            0.00\n",
        "25%           30.00\n",
        "50%           35.00\n",
        "75%           35.00\n",
        "max          550.00\n",
        "Name: max_height, dtype: float64"
       ]
      },
      {
       "output_type": "stream",
       "stream": "stdout",
       "text": [
        "\n",
        "40.0"
       ]
      },
      {
       "output_type": "stream",
       "stream": "stdout",
       "text": [
        "\n",
        "Fetching zoning_test\n",
        "Fetching modify_table"
       ]
      },
      {
       "output_type": "stream",
       "stream": "stdout",
       "text": [
        "\n",
        "count    1385470.00\n",
        "mean          33.85\n",
        "std           25.88\n",
        "min            0.00\n",
        "25%           30.00\n",
        "50%           35.00\n",
        "75%           35.00\n",
        "max          550.00\n",
        "dtype: float64"
       ]
      },
      {
       "output_type": "stream",
       "stream": "stdout",
       "text": [
        "\n",
        "40.0\n"
       ]
      }
     ],
     "prompt_number": 150
    },
    {
     "cell_type": "code",
     "collapsed": false,
     "input": [],
     "language": "python",
     "metadata": {},
     "outputs": [],
     "prompt_number": 61
    },
    {
     "cell_type": "code",
     "collapsed": false,
     "input": [],
     "language": "python",
     "metadata": {},
     "outputs": []
    }
   ],
   "metadata": {}
  }
 ]
}