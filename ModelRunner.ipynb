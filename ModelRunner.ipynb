{
 "metadata": {
  "name": "",
  "signature": "sha256:7a9f97d236421188fb880bd8697de8a47c01925f2a03bf4cf36c61c209b41b94"
 },
 "nbformat": 3,
 "nbformat_minor": 0,
 "worksheets": [
  {
   "cells": [
    {
     "cell_type": "code",
     "collapsed": false,
     "input": [
      "%load_ext autoreload\n",
      "%autoreload 1\n",
      "%aimport bayarea.models\n",
      "%aimport bayarea.dataset\n",
      "%aimport bayarea.feasibility\n",
      "%aimport bayarea.developer\n",
      "models = bayarea.models\n",
      "dataset = bayarea.dataset\n",
      "feasibility = bayarea.feasibility\n",
      "developer = bayarea.developer"
     ],
     "language": "python",
     "metadata": {},
     "outputs": [],
     "prompt_number": 1
    },
    {
     "cell_type": "code",
     "collapsed": false,
     "input": [
      "dset = dataset.BayAreaDataset(\"data/bayarea.h5\")"
     ],
     "language": "python",
     "metadata": {},
     "outputs": [],
     "prompt_number": 2
    },
    {
     "cell_type": "code",
     "collapsed": false,
     "input": [
      "print dset.parcels.columns\n",
      "print dset.zoning.columns\n",
      "print len(dset.zoning.index)"
     ],
     "language": "python",
     "metadata": {},
     "outputs": [
      {
       "output_type": "stream",
       "stream": "stdout",
       "text": [
        "Index([u'shape_area', u'tree', u'county_id', u'zone_id', u'projects', u'x', u'y', u'_node_id0', u'_node_id1', u'_node_id2', u'_node_id'], dtype='object')\n",
        "Index([u'name', u'max_height', u'city', u'max_far', u'coverage', u'type1', u'type2', u'type3', u'type4', u'type5', u'type6', u'type7', u'type8', u'type9', u'type10', u'type11', u'type12', u'type13', u'type14'], dtype='object')\n",
        "42311\n"
       ]
      }
     ],
     "prompt_number": 17
    },
    {
     "cell_type": "code",
     "collapsed": false,
     "input": [
      "print dset.parcels.head()"
     ],
     "language": "python",
     "metadata": {},
     "outputs": [
      {
       "output_type": "stream",
       "stream": "stdout",
       "text": [
        "           shape_area  tree  county_id  zone_id projects          x  \\\n",
        "parcel_id                                                             \n",
        "1              281.61     1         38       91      {1}  548474.12   \n",
        "2              247.65     1         38       91      {1}  548618.25   \n",
        "3              291.02     1         38       91      {1}  548722.38   \n",
        "4              233.68     1         38       91      {1}  548675.50   \n",
        "5              233.68     1         38       91      {1}  548670.38   \n",
        "\n",
        "                    y  _node_id0  _node_id1  _node_id2  _node_id  \n",
        "parcel_id                                                         \n",
        "1          4179481.50     119221      11569     117106    128904  \n",
        "2          4179506.25     115538      11569     113423    125155  \n",
        "3          4179475.75     116905       6976     234072    126552  \n",
        "4          4179456.75     115539       6976     113424    125156  \n",
        "5          4179487.00     115538       6976     113423    125155  \n",
        "\n",
        "[5 rows x 11 columns]\n"
       ]
      }
     ],
     "prompt_number": 18
    },
    {
     "cell_type": "code",
     "collapsed": false,
     "input": [
      "models.build_networks()"
     ],
     "language": "python",
     "metadata": {},
     "outputs": [],
     "prompt_number": 3
    },
    {
     "cell_type": "code",
     "collapsed": false,
     "input": [
      "# TODO\n",
      "# work with feasibility / developer\n",
      "# clean up urbansim\n",
      "\n",
      "NUM_YEARS = 1\n",
      "MODEL_LIST = [\n",
      "    \"neighborhood_vars\",      # accessibility variables\n",
      "    \"rsh_simulate\",           # residential sales hedonic\n",
      "    \"rrh_simulate\",           # residenital rent hedonic\n",
      "    \"households_relocation\",  # households relocation model\n",
      "    \"hlcmo_simulate\",         # households location choice (owner)\n",
      "    \"hlcmr_simulate\",         # households location choice (renter)\n",
      "    \"households_transition\",  # households transition\n",
      "    \"nrh_simulate\",           # non-residential rent hedonic\n",
      "    \"jobs_relocation\",        # jobs relocation model\n",
      "    \"elcm_simulate\",          # employment location choice\n",
      "    \"jobs_transition\",        # jobs transition\n",
      "    #\"price_vars\",             # compute average price measures\n",
      "    #\"feasibility\",            # compute development feasibility\n",
      "    #\"developer\"               # build actual buildings\n",
      "]\n",
      "import time\n",
      "for i in range(NUM_YEARS):\n",
      "    t1 = time.time()\n",
      "    for model in MODEL_LIST:\n",
      "        t2 = time.time()\n",
      "        print \"\\n\" + model + \"\\n\"\n",
      "        if model == \"feasibility\": feasibility.feasibility_run(dset)\n",
      "        elif model == \"developer\": developer.developer_run(dset)\n",
      "        else: getattr(models, model)(dset)\n",
      "        print \"Model %s executed in %.3fs\" % (model, time.time()-t2)\n",
      "    print \"Year %d completed in %.3fs\" % (i+1, time.time()-t1)"
     ],
     "language": "python",
     "metadata": {},
     "outputs": [
      {
       "output_type": "stream",
       "stream": "stdout",
       "text": [
        "\n",
        "neighborhood_vars\n",
        "\n",
        "Adding xys to dataframe: households\n",
        "Adding xys to dataframe: jobs"
       ]
      },
      {
       "output_type": "stream",
       "stream": "stdout",
       "text": [
        "\n",
        "Computing accessibility variables"
       ]
      },
      {
       "output_type": "stream",
       "stream": "stdout",
       "text": [
        "\n",
        "Computing sum_residential_units\n",
        "    dataframe = buildings, varname=residential_units\n",
        "    radius = 500, aggregation = AGG_SUM, decay = DECAY_LINEAR\n",
        "Computing sum_nonresidential_units"
       ]
      },
      {
       "output_type": "stream",
       "stream": "stdout",
       "text": [
        "\n",
        "    dataframe = buildings, varname=non_residential_units\n",
        "    radius = 500, aggregation = AGG_SUM, decay = DECAY_LINEAR\n",
        "Computing ave_unit_sqft"
       ]
      },
      {
       "output_type": "stream",
       "stream": "stdout",
       "text": [
        "\n",
        "    dataframe = buildings, varname=unit_sqft\n",
        "    radius = 500, aggregation = AGG_AVE, decay = DECAY_FLAT\n",
        "Computing ave_lot_sqft"
       ]
      },
      {
       "output_type": "stream",
       "stream": "stdout",
       "text": [
        "\n",
        "    dataframe = buildings, varname=unit_lot_size\n",
        "    radius = 500, aggregation = AGG_AVE, decay = DECAY_FLAT\n",
        "Computing population"
       ]
      },
      {
       "output_type": "stream",
       "stream": "stdout",
       "text": [
        "\n",
        "    dataframe = households, varname=persons\n",
        "    radius = 500, aggregation = AGG_SUM, decay = DECAY_LINEAR\n",
        "Computing poor"
       ]
      },
      {
       "output_type": "stream",
       "stream": "stdout",
       "text": [
        "\n",
        "    dataframe = households, varname=persons"
       ]
      },
      {
       "output_type": "stream",
       "stream": "stdout",
       "text": [
        "\n",
        "    radius = 500, aggregation = AGG_SUM, decay = DECAY_LINEAR\n",
        "Computing renters"
       ]
      },
      {
       "output_type": "stream",
       "stream": "stdout",
       "text": [
        "\n",
        "    dataframe = households, varname=None"
       ]
      },
      {
       "output_type": "stream",
       "stream": "stdout",
       "text": [
        "\n",
        "    radius = 500, aggregation = AGG_SUM, decay = DECAY_LINEAR\n",
        "Computing sfdu"
       ]
      },
      {
       "output_type": "stream",
       "stream": "stdout",
       "text": [
        "\n",
        "    dataframe = buildings, varname=None"
       ]
      },
      {
       "output_type": "stream",
       "stream": "stdout",
       "text": [
        "\n",
        "    radius = 500, aggregation = AGG_SUM, decay = DECAY_LINEAR\n",
        "Computing hhsize"
       ]
      },
      {
       "output_type": "stream",
       "stream": "stdout",
       "text": [
        "\n",
        "    dataframe = households, varname=persons\n",
        "    radius = 500, aggregation = AGG_AVE, decay = DECAY_FLAT\n",
        "Computing jobs"
       ]
      },
      {
       "output_type": "stream",
       "stream": "stdout",
       "text": [
        "\n",
        "    dataframe = jobs, varname=emp11\n",
        "    radius = 500, aggregation = AGG_SUM, decay = DECAY_LINEAR\n",
        "Computing ave_income"
       ]
      },
      {
       "output_type": "stream",
       "stream": "stdout",
       "text": [
        "\n",
        "    dataframe = households, varname=income\n",
        "    radius = 500, aggregation = AGG_AVE, decay = DECAY_FLAT\n",
        "Model neighborhood_vars executed in 49.237s"
       ]
      },
      {
       "output_type": "stream",
       "stream": "stdout",
       "text": [
        "\n",
        "\n",
        "rsh_simulate\n",
        "\n",
        "Running hedonic simulation\n"
       ]
      },
      {
       "output_type": "stream",
       "stream": "stdout",
       "text": [
        "\n",
        "count    1788632.00\n",
        "mean           0.06\n",
        "std            4.06\n",
        "min            0.00\n",
        "25%            0.00\n",
        "50%            0.00\n",
        "75%            0.00\n",
        "max         4297.41\n",
        "dtype: float64"
       ]
      },
      {
       "output_type": "stream",
       "stream": "stdout",
       "text": [
        "\n",
        "Model rsh_simulate executed in 24.748s"
       ]
      },
      {
       "output_type": "stream",
       "stream": "stdout",
       "text": [
        "\n",
        "\n",
        "rrh_simulate\n",
        "\n",
        "Running hedonic simulation\n"
       ]
      },
      {
       "output_type": "stream",
       "stream": "stdout",
       "text": [
        "\n",
        "count    1788632.00\n",
        "mean           1.76\n",
        "std            0.37\n",
        "min            0.27\n",
        "25%            1.61\n",
        "50%            1.78\n",
        "75%            1.93\n",
        "max           10.12\n",
        "dtype: float64"
       ]
      },
      {
       "output_type": "stream",
       "stream": "stdout",
       "text": [
        "\n",
        "Model rrh_simulate executed in 3.572s"
       ]
      },
      {
       "output_type": "stream",
       "stream": "stdout",
       "text": [
        "\n",
        "\n",
        "households_relocation\n",
        "\n",
        "Running relocation\n",
        "\n",
        "Total currently unplaced: 0"
       ]
      },
      {
       "output_type": "stream",
       "stream": "stdout",
       "text": [
        "\n",
        "Total currently unplaced: 129699"
       ]
      },
      {
       "output_type": "stream",
       "stream": "stdout",
       "text": [
        "\n",
        "Model households_relocation executed in 1.131s\n",
        "\n",
        "hlcmo_simulate\n",
        "\n",
        "Running location choice model simulation\n"
       ]
      },
      {
       "output_type": "stream",
       "stream": "stdout",
       "text": [
        "\n",
        "There are 2740841 total available units"
       ]
      },
      {
       "output_type": "stream",
       "stream": "stdout",
       "text": [
        "\n",
        "    and 2593999 total choosers\n",
        "    but there are 170884 overfull buildings"
       ]
      },
      {
       "output_type": "stream",
       "stream": "stdout",
       "text": [
        "\n",
        "    for a total of 495492 empty units"
       ]
      },
      {
       "output_type": "stream",
       "stream": "stdout",
       "text": [
        "\n",
        "    in 279572 buildings total in the region\n",
        "Assigned 73090 choosers to new units"
       ]
      },
      {
       "output_type": "stream",
       "stream": "stdout",
       "text": [
        "\n",
        "Total currently unplaced: 56609"
       ]
      },
      {
       "output_type": "stream",
       "stream": "stdout",
       "text": [
        "\n",
        "Model hlcmo_simulate executed in 12.694s"
       ]
      },
      {
       "output_type": "stream",
       "stream": "stdout",
       "text": [
        "\n",
        "\n",
        "hlcmr_simulate\n",
        "\n",
        "Running location choice model simulation\n"
       ]
      },
      {
       "output_type": "stream",
       "stream": "stdout",
       "text": [
        "\n",
        "There are 2740841 total available units"
       ]
      },
      {
       "output_type": "stream",
       "stream": "stdout",
       "text": [
        "\n",
        "    and 2593999 total choosers\n",
        "    but there are 170884 overfull buildings"
       ]
      },
      {
       "output_type": "stream",
       "stream": "stdout",
       "text": [
        "\n",
        "    for a total of 422402 empty units"
       ]
      },
      {
       "output_type": "stream",
       "stream": "stdout",
       "text": [
        "\n",
        "    in 242127 buildings total in the region\n",
        "Assigned 56609 choosers to new units"
       ]
      },
      {
       "output_type": "stream",
       "stream": "stdout",
       "text": [
        "\n",
        "Total currently unplaced: 0"
       ]
      },
      {
       "output_type": "stream",
       "stream": "stdout",
       "text": [
        "\n",
        "Model hlcmr_simulate executed in 11.312s"
       ]
      },
      {
       "output_type": "stream",
       "stream": "stdout",
       "text": [
        "\n",
        "\n",
        "households_transition\n",
        "\n",
        "2593999 agents before transition\n"
       ]
      },
      {
       "ename": "TypeError",
       "evalue": "transition() takes exactly 3 arguments (2 given)",
       "output_type": "pyerr",
       "traceback": [
        "\u001b[0;31m---------------------------------------------------------------------------\u001b[0m\n\u001b[0;31mTypeError\u001b[0m                                 Traceback (most recent call last)",
        "\u001b[0;32m<ipython-input-11-cc5d06ca5dd8>\u001b[0m in \u001b[0;36m<module>\u001b[0;34m()\u001b[0m\n\u001b[1;32m     28\u001b[0m         \u001b[0;32mif\u001b[0m \u001b[0mmodel\u001b[0m \u001b[0;34m==\u001b[0m \u001b[0;34m\"feasibility\"\u001b[0m\u001b[0;34m:\u001b[0m \u001b[0mfeasibility\u001b[0m\u001b[0;34m.\u001b[0m\u001b[0mfeasibility_run\u001b[0m\u001b[0;34m(\u001b[0m\u001b[0mdset\u001b[0m\u001b[0;34m)\u001b[0m\u001b[0;34m\u001b[0m\u001b[0m\n\u001b[1;32m     29\u001b[0m         \u001b[0;32melif\u001b[0m \u001b[0mmodel\u001b[0m \u001b[0;34m==\u001b[0m \u001b[0;34m\"developer\"\u001b[0m\u001b[0;34m:\u001b[0m \u001b[0mdeveloper\u001b[0m\u001b[0;34m.\u001b[0m\u001b[0mdeveloper_run\u001b[0m\u001b[0;34m(\u001b[0m\u001b[0mdset\u001b[0m\u001b[0;34m)\u001b[0m\u001b[0;34m\u001b[0m\u001b[0m\n\u001b[0;32m---> 30\u001b[0;31m         \u001b[0;32melse\u001b[0m\u001b[0;34m:\u001b[0m \u001b[0mgetattr\u001b[0m\u001b[0;34m(\u001b[0m\u001b[0mmodels\u001b[0m\u001b[0;34m,\u001b[0m \u001b[0mmodel\u001b[0m\u001b[0;34m)\u001b[0m\u001b[0;34m(\u001b[0m\u001b[0mdset\u001b[0m\u001b[0;34m)\u001b[0m\u001b[0;34m\u001b[0m\u001b[0m\n\u001b[0m\u001b[1;32m     31\u001b[0m         \u001b[0;32mprint\u001b[0m \u001b[0;34m\"Model %s executed in %.3fs\"\u001b[0m \u001b[0;34m%\u001b[0m \u001b[0;34m(\u001b[0m\u001b[0mmodel\u001b[0m\u001b[0;34m,\u001b[0m \u001b[0mtime\u001b[0m\u001b[0;34m.\u001b[0m\u001b[0mtime\u001b[0m\u001b[0;34m(\u001b[0m\u001b[0;34m)\u001b[0m\u001b[0;34m-\u001b[0m\u001b[0mt2\u001b[0m\u001b[0;34m)\u001b[0m\u001b[0;34m\u001b[0m\u001b[0m\n\u001b[1;32m     32\u001b[0m     \u001b[0;32mprint\u001b[0m \u001b[0;34m\"Year %d completed in %.3fs\"\u001b[0m \u001b[0;34m%\u001b[0m \u001b[0;34m(\u001b[0m\u001b[0mi\u001b[0m\u001b[0;34m+\u001b[0m\u001b[0;36m1\u001b[0m\u001b[0;34m,\u001b[0m \u001b[0mtime\u001b[0m\u001b[0;34m.\u001b[0m\u001b[0mtime\u001b[0m\u001b[0;34m(\u001b[0m\u001b[0;34m)\u001b[0m\u001b[0;34m-\u001b[0m\u001b[0mt1\u001b[0m\u001b[0;34m)\u001b[0m\u001b[0;34m\u001b[0m\u001b[0m\n",
        "\u001b[0;32m/Users/ffoti/src/bayarea_urbansim/bayarea/models.pyc\u001b[0m in \u001b[0;36mhouseholds_transition\u001b[0;34m(dset)\u001b[0m\n\u001b[1;32m    180\u001b[0m \u001b[0;34m\u001b[0m\u001b[0m\n\u001b[1;32m    181\u001b[0m \u001b[0;32mdef\u001b[0m \u001b[0mhouseholds_transition\u001b[0m\u001b[0;34m(\u001b[0m\u001b[0mdset\u001b[0m\u001b[0;34m)\u001b[0m\u001b[0;34m:\u001b[0m\u001b[0;34m\u001b[0m\u001b[0m\n\u001b[0;32m--> 182\u001b[0;31m     \u001b[0;32mreturn\u001b[0m \u001b[0m_simple_transition\u001b[0m\u001b[0;34m(\u001b[0m\u001b[0mdset\u001b[0m\u001b[0;34m,\u001b[0m \u001b[0;34m\"households\"\u001b[0m\u001b[0;34m,\u001b[0m \u001b[0;36m.05\u001b[0m\u001b[0;34m)\u001b[0m\u001b[0;34m\u001b[0m\u001b[0m\n\u001b[0m\u001b[1;32m    183\u001b[0m \u001b[0;34m\u001b[0m\u001b[0m\n\u001b[1;32m    184\u001b[0m \u001b[0;34m\u001b[0m\u001b[0m\n",
        "\u001b[0;32m/Users/ffoti/src/bayarea_urbansim/bayarea/models.pyc\u001b[0m in \u001b[0;36m_simple_transition\u001b[0;34m(dset, dfname, rate)\u001b[0m\n\u001b[1;32m    174\u001b[0m     \u001b[0mdf\u001b[0m \u001b[0;34m=\u001b[0m \u001b[0mdset\u001b[0m\u001b[0;34m.\u001b[0m\u001b[0mfetch\u001b[0m\u001b[0;34m(\u001b[0m\u001b[0mdfname\u001b[0m\u001b[0;34m)\u001b[0m\u001b[0;34m\u001b[0m\u001b[0m\n\u001b[1;32m    175\u001b[0m     \u001b[0;32mprint\u001b[0m \u001b[0;34m\"%d agents before transition\"\u001b[0m \u001b[0;34m%\u001b[0m \u001b[0mlen\u001b[0m\u001b[0;34m(\u001b[0m\u001b[0mdf\u001b[0m\u001b[0;34m.\u001b[0m\u001b[0mindex\u001b[0m\u001b[0;34m)\u001b[0m\u001b[0;34m\u001b[0m\u001b[0m\n\u001b[0;32m--> 176\u001b[0;31m     \u001b[0mdf\u001b[0m\u001b[0;34m,\u001b[0m \u001b[0mnew_indexes\u001b[0m \u001b[0;34m=\u001b[0m \u001b[0mtransition\u001b[0m\u001b[0;34m.\u001b[0m\u001b[0mtransition\u001b[0m\u001b[0;34m(\u001b[0m\u001b[0mdf\u001b[0m\u001b[0;34m)\u001b[0m\u001b[0;34m\u001b[0m\u001b[0m\n\u001b[0m\u001b[1;32m    177\u001b[0m     \u001b[0;32mprint\u001b[0m \u001b[0;34m\"%d agents after transition\"\u001b[0m \u001b[0;34m%\u001b[0m \u001b[0mlen\u001b[0m\u001b[0;34m(\u001b[0m\u001b[0mdf\u001b[0m\u001b[0;34m.\u001b[0m\u001b[0mindex\u001b[0m\u001b[0;34m)\u001b[0m\u001b[0;34m\u001b[0m\u001b[0m\n\u001b[1;32m    178\u001b[0m     \u001b[0mdset\u001b[0m\u001b[0;34m.\u001b[0m\u001b[0msave_tmptbl\u001b[0m\u001b[0;34m(\u001b[0m\u001b[0mdfname\u001b[0m\u001b[0;34m,\u001b[0m \u001b[0mdf\u001b[0m\u001b[0;34m)\u001b[0m\u001b[0;34m\u001b[0m\u001b[0m\n",
        "\u001b[0;31mTypeError\u001b[0m: transition() takes exactly 3 arguments (2 given)"
       ]
      }
     ],
     "prompt_number": 11
    },
    {
     "cell_type": "code",
     "collapsed": false,
     "input": [
      "#models.price_vars(dset)\n",
      "print dset.building_filter(residential=1).residential_sales_price.describe()\n",
      "#print dset.nodes_prices[dset.nodes_prices.ave_residential_price>0].describe()"
     ],
     "language": "python",
     "metadata": {},
     "outputs": [
      {
       "output_type": "stream",
       "stream": "stdout",
       "text": [
        "count    1788632.00\n",
        "mean           0.06\n",
        "std            4.06\n",
        "min            0.00\n",
        "25%            0.00\n",
        "50%            0.00\n",
        "75%            0.00\n",
        "max         4297.41\n",
        "Name: residential_sales_price, dtype: float64\n"
       ]
      }
     ],
     "prompt_number": 20
    },
    {
     "cell_type": "code",
     "collapsed": false,
     "input": [
      "parcels = dset.parcels\n",
      "nodeavgrents = dset.nodes_prices\n",
      "price = nodeavgrents.ave_residential_price * -1\n",
      "nodeavgrents['ave_residential_rent'] = np.pmt(spotproforma.INTERESTRATE,\n",
      "                                              spotproforma.PERIODS,\n",
      "                                              price)\n",
      "del nodeavgrents['ave_residential_price']\n",
      "\n",
      "# need predictions of rents for each parcel\n",
      "avgrents = pd.DataFrame(index=parcels.index)\n",
      "for btype in ['residential', 'office', 'retail', 'industrial']:\n",
      "    avgrents[btype] = nodeavgrents['ave_%s_rent' %\n",
      "                                   btype].ix[parcels._node_id].values\n",
      "    if btype != 'residential':\n",
      "        avgrents[btype] *= 1.2\n",
      "print avgrents.describe()"
     ],
     "language": "python",
     "metadata": {},
     "outputs": [
      {
       "ename": "AttributeError",
       "evalue": "'DataFrame' object has no attribute 'ave_residential_price'",
       "output_type": "pyerr",
       "traceback": [
        "\u001b[0;31m---------------------------------------------------------------------------\u001b[0m\n\u001b[0;31mAttributeError\u001b[0m                            Traceback (most recent call last)",
        "\u001b[0;32m<ipython-input-9-f0681fd04ff9>\u001b[0m in \u001b[0;36m<module>\u001b[0;34m()\u001b[0m\n\u001b[1;32m      1\u001b[0m \u001b[0mparcels\u001b[0m \u001b[0;34m=\u001b[0m \u001b[0mdset\u001b[0m\u001b[0;34m.\u001b[0m\u001b[0mparcels\u001b[0m\u001b[0;34m\u001b[0m\u001b[0m\n\u001b[1;32m      2\u001b[0m \u001b[0mnodeavgrents\u001b[0m \u001b[0;34m=\u001b[0m \u001b[0mdset\u001b[0m\u001b[0;34m.\u001b[0m\u001b[0mnodes_prices\u001b[0m\u001b[0;34m\u001b[0m\u001b[0m\n\u001b[0;32m----> 3\u001b[0;31m \u001b[0mprice\u001b[0m \u001b[0;34m=\u001b[0m \u001b[0mnodeavgrents\u001b[0m\u001b[0;34m.\u001b[0m\u001b[0mave_residential_price\u001b[0m \u001b[0;34m*\u001b[0m \u001b[0;34m-\u001b[0m\u001b[0;36m1\u001b[0m\u001b[0;34m\u001b[0m\u001b[0m\n\u001b[0m\u001b[1;32m      4\u001b[0m nodeavgrents['ave_residential_rent'] = np.pmt(spotproforma.INTERESTRATE,\n\u001b[1;32m      5\u001b[0m                                               \u001b[0mspotproforma\u001b[0m\u001b[0;34m.\u001b[0m\u001b[0mPERIODS\u001b[0m\u001b[0;34m,\u001b[0m\u001b[0;34m\u001b[0m\u001b[0m\n",
        "\u001b[0;32m/Users/ffoti/anaconda/lib/python2.7/site-packages/pandas/core/generic.pyc\u001b[0m in \u001b[0;36m__getattr__\u001b[0;34m(self, name)\u001b[0m\n\u001b[1;32m   1813\u001b[0m                 \u001b[0;32mreturn\u001b[0m \u001b[0mself\u001b[0m\u001b[0;34m[\u001b[0m\u001b[0mname\u001b[0m\u001b[0;34m]\u001b[0m\u001b[0;34m\u001b[0m\u001b[0m\n\u001b[1;32m   1814\u001b[0m             raise AttributeError(\"'%s' object has no attribute '%s'\" %\n\u001b[0;32m-> 1815\u001b[0;31m                                  (type(self).__name__, name))\n\u001b[0m\u001b[1;32m   1816\u001b[0m \u001b[0;34m\u001b[0m\u001b[0m\n\u001b[1;32m   1817\u001b[0m     \u001b[0;32mdef\u001b[0m \u001b[0m__setattr__\u001b[0m\u001b[0;34m(\u001b[0m\u001b[0mself\u001b[0m\u001b[0;34m,\u001b[0m \u001b[0mname\u001b[0m\u001b[0;34m,\u001b[0m \u001b[0mvalue\u001b[0m\u001b[0;34m)\u001b[0m\u001b[0;34m:\u001b[0m\u001b[0;34m\u001b[0m\u001b[0m\n",
        "\u001b[0;31mAttributeError\u001b[0m: 'DataFrame' object has no attribute 'ave_residential_price'"
       ]
      }
     ],
     "prompt_number": 9
    },
    {
     "cell_type": "code",
     "collapsed": false,
     "input": [
      "feasibility.feasibility_run(dset)"
     ],
     "language": "python",
     "metadata": {},
     "outputs": [
      {
       "output_type": "stream",
       "stream": "stdout",
       "text": [
        "Running pro forma\n",
        "       residential      office      retail  industrial\n",
        "count   2023915.00  2023915.00  2023915.00  2023915.00\n",
        "mean          0.00        4.02        4.02        4.02\n",
        "std           0.22       52.44       52.44       52.44\n",
        "min          -0.00        0.00        0.00        0.00\n",
        "25%           0.00        0.00        0.00        0.00\n",
        "50%          -0.00        0.00        0.00        0.00\n",
        "75%           0.00        0.00        0.00        0.00\n",
        "max         114.95     5274.58     5274.58     5274.58\n",
        "\n",
        "[8 rows x 4 columns]"
       ]
      },
      {
       "output_type": "stream",
       "stream": "stdout",
       "text": [
        "\n",
        "Get zoning:"
       ]
      },
      {
       "output_type": "stream",
       "stream": "stdout",
       "text": [
        " Sun May 11 22:32:12 2014\n",
        "mixedoffice"
       ]
      },
      {
       "output_type": "stream",
       "stream": "stdout",
       "text": [
        " 14\n",
        "mixedoffice"
       ]
      },
      {
       "output_type": "stream",
       "stream": "stdout",
       "text": [
        " Sun May 11 22:32:13 2014\n",
        "sqft cost\n",
        "0.25     19.72\n",
        "0.50     19.72\n",
        "0.75     19.72\n",
        "1.00     21.26\n",
        "1.50     21.61\n",
        "1.80     21.61\n",
        "2.00     23.16\n",
        "3.00     23.16\n",
        "4.00     23.16\n",
        "5.00     25.85\n",
        "7.00     25.85\n",
        "9.00     25.85\n",
        "11.00    29.29\n",
        "Name: even_rent, dtype: float64\n",
        "maxprofit_fars\n"
       ]
      },
      {
       "output_type": "stream",
       "stream": "stdout",
       "text": [
        "3.00    806\n",
        "2.00    337\n",
        "0.50    226\n",
        "1.50    137\n",
        "4.00     51\n",
        "0.25     29\n",
        "1.80     28\n",
        "0.75     27\n",
        "1.00      7\n",
        "dtype: int64\n",
        "industrial"
       ]
      },
      {
       "output_type": "stream",
       "stream": "stdout",
       "text": [
        " 7\n",
        "industrial"
       ]
      },
      {
       "output_type": "stream",
       "stream": "stdout",
       "text": [
        " Sun May 11 22:32:30 2014\n",
        "sqft cost\n",
        "0.25     16.67\n",
        "0.50     16.67\n",
        "0.75     16.67\n",
        "1.00     17.60\n",
        "1.50     20.68\n",
        "1.80     20.68\n",
        "2.00     20.68\n",
        "3.00       NaN\n",
        "4.00       NaN\n",
        "5.00       NaN\n",
        "7.00       NaN\n",
        "9.00       NaN\n",
        "11.00      NaN\n",
        "Name: even_rent, dtype: float64\n",
        "maxprofit_fars\n"
       ]
      },
      {
       "output_type": "stream",
       "stream": "stdout",
       "text": [
        "0.25    2133\n",
        "1.50    1756\n",
        "0.50    1725\n",
        "2.00    1705\n",
        "1.00    1150\n",
        "0.75     279\n",
        "1.80     110\n",
        "dtype: int64\n",
        "industrial"
       ]
      },
      {
       "output_type": "stream",
       "stream": "stdout",
       "text": [
        " 8\n",
        "industrial"
       ]
      },
      {
       "output_type": "stream",
       "stream": "stdout",
       "text": [
        " Sun May 11 22:32:41 2014\n",
        "sqft cost\n",
        "0.25     16.67\n",
        "0.50     16.67\n",
        "0.75     16.67\n",
        "1.00     17.60\n",
        "1.50     20.68\n",
        "1.80     20.68\n",
        "2.00     20.68\n",
        "3.00       NaN\n",
        "4.00       NaN\n",
        "5.00       NaN\n",
        "7.00       NaN\n",
        "9.00       NaN\n",
        "11.00      NaN\n",
        "Name: even_rent, dtype: float64\n",
        "maxprofit_fars\n"
       ]
      },
      {
       "output_type": "stream",
       "stream": "stdout",
       "text": [
        "0.25    1757\n",
        "1.50    1636\n",
        "0.50    1338\n",
        "2.00     891\n",
        "1.00     481\n",
        "0.75     220\n",
        "1.80     110\n",
        "dtype: int64\n",
        "industrial"
       ]
      },
      {
       "output_type": "stream",
       "stream": "stdout",
       "text": [
        " 9\n",
        "industrial"
       ]
      },
      {
       "output_type": "stream",
       "stream": "stdout",
       "text": [
        " Sun May 11 22:32:52 2014\n",
        "sqft cost\n",
        "0.25     16.67\n",
        "0.50     16.67\n",
        "0.75     16.67\n",
        "1.00     17.60\n",
        "1.50     20.68\n",
        "1.80     20.68\n",
        "2.00     20.68\n",
        "3.00       NaN\n",
        "4.00       NaN\n",
        "5.00       NaN\n",
        "7.00       NaN\n",
        "9.00       NaN\n",
        "11.00      NaN\n",
        "Name: even_rent, dtype: float64\n",
        "maxprofit_fars\n"
       ]
      },
      {
       "output_type": "stream",
       "stream": "stdout",
       "text": [
        "1.50    1503\n",
        "0.25    1437\n",
        "0.50     870\n",
        "2.00     225\n",
        "1.00     196\n",
        "1.80     110\n",
        "0.75      62\n",
        "dtype: int64\n",
        "office"
       ]
      },
      {
       "output_type": "stream",
       "stream": "stdout",
       "text": [
        " 4\n",
        "office"
       ]
      },
      {
       "output_type": "stream",
       "stream": "stdout",
       "text": [
        " Sun May 11 22:33:03 2014\n",
        "sqft cost\n",
        "0.25     19.37\n",
        "0.50     19.37\n",
        "0.75     19.37\n",
        "1.00     20.92\n",
        "1.50     21.09\n",
        "1.80     21.09\n",
        "2.00     22.64\n",
        "3.00     22.64\n",
        "4.00     22.64\n",
        "5.00     25.51\n",
        "7.00     25.51\n",
        "9.00     25.51\n",
        "11.00    28.94\n",
        "Name: even_rent, dtype: float64\n",
        "maxprofit_fars\n"
       ]
      },
      {
       "output_type": "stream",
       "stream": "stdout",
       "text": [
        "1.50    1726\n",
        "3.00    1411\n",
        "0.25    1406\n",
        "1.00    1147\n",
        "0.50    1051\n",
        "4.00     638\n",
        "2.00     519\n",
        "0.75     429\n",
        "1.80     218\n",
        "dtype: int64\n",
        "residential"
       ]
      },
      {
       "output_type": "stream",
       "stream": "stdout",
       "text": [
        " 1\n",
        "residential"
       ]
      },
      {
       "output_type": "stream",
       "stream": "stdout",
       "text": [
        " Sun May 11 22:33:14 2014\n",
        "sqft cost\n",
        "0.25     20.52\n",
        "0.50     20.52\n",
        "0.75     20.52\n",
        "1.00     22.07\n",
        "1.50     22.81\n",
        "1.80     22.81\n",
        "2.00     24.36\n",
        "3.00     24.36\n",
        "4.00     24.36\n",
        "5.00     26.65\n",
        "7.00     26.65\n",
        "9.00     26.65\n",
        "11.00    30.09\n",
        "Name: even_rent, dtype: float64\n",
        "maxprofit_fars\n"
       ]
      },
      {
       "output_type": "stream",
       "stream": "stdout",
       "text": [
        "0.75    15\n",
        "dtype: int64\n",
        "residential"
       ]
      },
      {
       "output_type": "stream",
       "stream": "stdout",
       "text": [
        " 2\n",
        "residential"
       ]
      },
      {
       "output_type": "stream",
       "stream": "stdout",
       "text": [
        " Sun May 11 22:33:25 2014\n",
        "sqft cost\n",
        "0.25     20.52\n",
        "0.50     20.52\n",
        "0.75     20.52\n",
        "1.00     22.07\n",
        "1.50     22.81\n",
        "1.80     22.81\n",
        "2.00     24.36\n",
        "3.00     24.36\n",
        "4.00     24.36\n",
        "5.00     26.65\n",
        "7.00     26.65\n",
        "9.00     26.65\n",
        "11.00    30.09\n",
        "Name: even_rent, dtype: float64\n",
        "maxprofit_fars\n"
       ]
      },
      {
       "output_type": "stream",
       "stream": "stdout",
       "text": [
        "0.75    8\n",
        "1.00    7\n",
        "dtype: int64\n",
        "residential"
       ]
      },
      {
       "output_type": "stream",
       "stream": "stdout",
       "text": [
        " 3\n",
        "residential"
       ]
      },
      {
       "output_type": "stream",
       "stream": "stdout",
       "text": [
        " Sun May 11 22:33:38 2014\n",
        "sqft cost\n",
        "0.25     20.52\n",
        "0.50     20.52\n",
        "0.75     20.52\n",
        "1.00     22.07\n",
        "1.50     22.81\n",
        "1.80     22.81\n",
        "2.00     24.36\n",
        "3.00     24.36\n",
        "4.00     24.36\n",
        "5.00     26.65\n",
        "7.00     26.65\n",
        "9.00     26.65\n",
        "11.00    30.09\n",
        "Name: even_rent, dtype: float64\n",
        "maxprofit_fars\n"
       ]
      },
      {
       "output_type": "stream",
       "stream": "stdout",
       "text": [
        "Series([], dtype: int64)\n",
        "mixedresidential"
       ]
      },
      {
       "output_type": "stream",
       "stream": "stdout",
       "text": [
        " 12\n",
        "mixedresidential"
       ]
      },
      {
       "output_type": "stream",
       "stream": "stdout",
       "text": [
        " Sun May 11 22:33:52 2014\n",
        "sqft cost\n",
        "0.25     20.51\n",
        "0.50     20.51\n",
        "0.75     20.51\n",
        "1.00     22.21\n",
        "1.50     22.74\n",
        "1.80     24.45\n",
        "2.00     24.45\n",
        "3.00     24.45\n",
        "4.00     24.45\n",
        "5.00     26.80\n",
        "7.00     26.80\n",
        "9.00     26.80\n",
        "11.00    30.23\n",
        "Name: even_rent, dtype: float64\n",
        "maxprofit_fars\n"
       ]
      },
      {
       "output_type": "stream",
       "stream": "stdout",
       "text": [
        "3.00    71\n",
        "5.00    70\n",
        "0.50    52\n",
        "0.75    18\n",
        "4.00    10\n",
        "0.25     8\n",
        "1.50     3\n",
        "dtype: int64\n",
        "retail"
       ]
      },
      {
       "output_type": "stream",
       "stream": "stdout",
       "text": [
        " 10\n",
        "retail"
       ]
      },
      {
       "output_type": "stream",
       "stream": "stdout",
       "text": [
        " Sun May 11 22:34:06 2014\n",
        "sqft cost\n",
        "0.25     20.40\n",
        "0.50     20.40\n",
        "0.75     22.12\n",
        "1.00     22.12\n",
        "1.50     25.22\n",
        "1.80     25.22\n",
        "2.00     25.22\n",
        "3.00       NaN\n",
        "4.00       NaN\n",
        "5.00       NaN\n",
        "7.00       NaN\n",
        "9.00       NaN\n",
        "11.00      NaN\n",
        "Name: even_rent, dtype: float64\n",
        "maxprofit_fars\n"
       ]
      },
      {
       "output_type": "stream",
       "stream": "stdout",
       "text": [
        "0.50    3349\n",
        "0.25    3093\n",
        "2.00    2059\n",
        "1.00     422\n",
        "1.50     333\n",
        "0.75     114\n",
        "dtype: int64\n",
        "retail"
       ]
      },
      {
       "output_type": "stream",
       "stream": "stdout",
       "text": [
        " 11\n",
        "retail"
       ]
      },
      {
       "output_type": "stream",
       "stream": "stdout",
       "text": [
        " Sun May 11 22:34:17 2014\n",
        "sqft cost\n",
        "0.25     20.40\n",
        "0.50     20.40\n",
        "0.75     22.12\n",
        "1.00     22.12\n",
        "1.50     25.22\n",
        "1.80     25.22\n",
        "2.00     25.22\n",
        "3.00       NaN\n",
        "4.00       NaN\n",
        "5.00       NaN\n",
        "7.00       NaN\n",
        "9.00       NaN\n",
        "11.00      NaN\n",
        "Name: even_rent, dtype: float64\n",
        "maxprofit_fars\n"
       ]
      },
      {
       "output_type": "stream",
       "stream": "stdout",
       "text": [
        "1.50    1258\n",
        "1.00     301\n",
        "0.50     217\n",
        "0.25     161\n",
        "0.75     107\n",
        "2.00      74\n",
        "dtype: int64\n",
        "Feasibility and zoning\n"
       ]
      },
      {
       "output_type": "stream",
       "stream": "stdout",
       "text": [
        "        total_sqft  total_units  year_built  currentrent  parcelsize  \\\n",
        "count   1906847.00   1906847.00  1906847.00   1906847.00    2.02e+06   \n",
        "mean       3694.52         1.54     1989.42        16.24    9.71e+04   \n",
        "std       28752.35         6.49       29.48      1574.54    1.53e+06   \n",
        "min           1.00         1.00      199.00        -0.00    3.00e+02   \n",
        "25%        1396.00         1.00     1951.00         0.00    4.44e+03   \n",
        "50%        1864.00         1.00     1960.00        -0.00    6.40e+03   \n",
        "75%        2527.00         1.00     1978.00         0.00    9.91e+03   \n",
        "max    18635010.00       404.00     9770.00    830669.27    1.01e+09   \n",
        "\n",
        "       type14_zonedfar  type14_zonedheight  type14_feasiblefar  type14_profit  \\\n",
        "count       2023915.00          2023915.00           340602.00       3.41e+05   \n",
        "mean              0.08            10019.81                0.01       1.39e+07   \n",
        "std               0.85             1253.11                0.17       6.71e+08   \n",
        "min               0.00               25.00                0.00       0.00e+00   \n",
        "25%               0.00             9999.00                0.00       0.00e+00   \n",
        "50%               0.00             9999.00                0.00       0.00e+00   \n",
        "75%               0.00             9999.00                0.00       0.00e+00   \n",
        "max              20.00             9999.00                4.00       1.38e+11   \n",
        "\n",
        "       type7_zonedfar  type7_zonedheight  type7_feasiblefar  type7_profit  \\\n",
        "count      2023915.00         2023915.00          347735.00      3.48e+05   \n",
        "mean             0.05           10026.36               0.03      2.25e+07   \n",
        "std              0.52            1230.77               0.19      7.25e+08   \n",
        "min              0.00              15.00               0.00      0.00e+00   \n",
        "25%              0.00            9999.00               0.00      0.00e+00   \n",
        "50%              0.00            9999.00               0.00      0.00e+00   \n",
        "75%              0.00            9999.00               0.00      0.00e+00   \n",
        "max             12.00            9999.00               2.00      1.33e+11   \n",
        "\n",
        "       type8_zonedfar  type8_zonedheight  type8_feasiblefar  type8_profit  \\\n",
        "count      2023915.00         2023915.00          345320.00      3.45e+05   \n",
        "mean             0.03           10069.95               0.02      9.91e+06   \n",
        "std              0.39            1049.63               0.16      4.65e+08   \n",
        "min              0.00              15.00               0.00      0.00e+00   \n",
        "25%              0.00            9999.00               0.00      0.00e+00   \n",
        "50%              0.00            9999.00               0.00      0.00e+00   \n",
        "75%              0.00            9999.00               0.00      0.00e+00   \n",
        "max             12.00            9999.00               2.00      1.33e+11   \n",
        "\n",
        "       type9_zonedfar  type9_zonedheight  type9_feasiblefar      \n",
        "count      2023915.00         2023915.00          343304.00 ...  \n",
        "mean             0.01           10141.25               0.01 ...  \n",
        "std              0.14             652.26               0.12 ...  \n",
        "min              0.00              30.00               0.00 ...  \n",
        "25%              0.00            9999.00               0.00 ...  \n",
        "50%              0.00            9999.00               0.00 ...  \n",
        "75%              0.00            9999.00               0.00 ...  \n",
        "max              5.00            9999.00               2.00 ...  \n",
        "\n",
        "[8 rows x 53 columns]\n",
        "Finished developer"
       ]
      },
      {
       "output_type": "stream",
       "stream": "stdout",
       "text": [
        " Sun May 11 22:35:46 2014\n"
       ]
      }
     ],
     "prompt_number": 8
    },
    {
     "cell_type": "code",
     "collapsed": false,
     "input": [
      "developer.developer_run(dset)"
     ],
     "language": "python",
     "metadata": {},
     "outputs": [
      {
       "output_type": "stream",
       "stream": "stdout",
       "text": [
        "Running developer for households\n",
        "Number of agents: 2859884\n",
        "Number of agent spaces: 2937584\n",
        "Current vacancy = 0.03\n",
        "Target vacancy = 0.10, target of new units = 240064\n",
        "Describe of netunits\n"
       ]
      },
      {
       "output_type": "stream",
       "stream": "stdout",
       "text": [
        "       total_sqft  total_units  year_built  currentrent  parcelsize  \\\n",
        "count        1.00            1           1         1.00        1.00   \n",
        "mean      3631.04          745        1960   7303435.39   160111.28   \n",
        "std           NaN          NaN         NaN          NaN         NaN   \n",
        "min       3631.04          745        1960   7303435.39   160111.28   \n",
        "25%       3631.04          745        1960   7303435.39   160111.28   \n",
        "50%       3631.04          745        1960   7303435.39   160111.28   \n",
        "75%       3631.04          745        1960   7303435.39   160111.28   \n",
        "max       3631.04          745        1960   7303435.39   160111.28   \n",
        "\n",
        "       type14_zonedfar  type14_zonedheight  type14_feasiblefar  type14_profit  \\\n",
        "count                1                   1                   0              0   \n",
        "mean                 0                9999                 NaN            NaN   \n",
        "std                NaN                 NaN                 NaN            NaN   \n",
        "min                  0                9999                 NaN            NaN   \n",
        "25%                  0                9999                 NaN            NaN   \n",
        "50%                  0                9999                 NaN            NaN   \n",
        "75%                  0                9999                 NaN            NaN   \n",
        "max                  0                9999                 NaN            NaN   \n",
        "\n",
        "       type7_zonedfar  type7_zonedheight  type7_feasiblefar  type7_profit  \\\n",
        "count               1                  1                  0             0   \n",
        "mean                0               9999                NaN           NaN   \n",
        "std               NaN                NaN                NaN           NaN   \n",
        "min                 0               9999                NaN           NaN   \n",
        "25%                 0               9999                NaN           NaN   \n",
        "50%                 0               9999                NaN           NaN   \n",
        "75%                 0               9999                NaN           NaN   \n",
        "max                 0               9999                NaN           NaN   \n",
        "\n",
        "       type8_zonedfar  type8_zonedheight  type8_feasiblefar  type8_profit  \\\n",
        "count               1                  1                  0             0   \n",
        "mean                0               9999                NaN           NaN   \n",
        "std               NaN                NaN                NaN           NaN   \n",
        "min                 0               9999                NaN           NaN   \n",
        "25%                 0               9999                NaN           NaN   \n",
        "50%                 0               9999                NaN           NaN   \n",
        "75%                 0               9999                NaN           NaN   \n",
        "max                 0               9999                NaN           NaN   \n",
        "\n",
        "       type9_zonedfar  type9_zonedheight  type9_feasiblefar      \n",
        "count               1                  1                  0 ...  \n",
        "mean                0               9999                NaN ...  \n",
        "std               NaN                NaN                NaN ...  \n",
        "min                 0               9999                NaN ...  \n",
        "25%                 0               9999                NaN ...  \n",
        "50%                 0               9999                NaN ...  \n",
        "75%                 0               9999                NaN ...  \n",
        "max                 0               9999                NaN ...  \n",
        "\n",
        "[8 rows x 59 columns]\n",
        "Describe of buildings built\n",
        "count      1\n",
        "mean     745\n",
        "std      NaN\n",
        "min      745\n",
        "25%      745\n",
        "50%      745\n",
        "75%      745\n",
        "max      745\n",
        "Name: total_units, dtype: float64\n",
        "Describe of profit\n",
        "count    1.00e+00\n",
        "mean     3.25e+08\n",
        "std           NaN\n",
        "min      3.25e+08\n",
        "25%      3.25e+08\n",
        "50%      3.25e+08\n",
        "75%      3.25e+08\n",
        "max      3.25e+08\n",
        "Name: max_profit, dtype: float64\n",
        "Buildings by type\n",
        "2    1\n",
        "dtype: int64\n",
        "Units by type\n",
        "max_btype\n",
        "2           -621\n",
        "Name: netunits, dtype: float64\n",
        "         _node_id   _node_id0   _node_id1   _node_id2    building  \\\n",
        "count  1936265.00  1936259.00  1936259.00  1936259.00  1936259.00   \n",
        "mean    125133.49   104278.01     5470.79   109141.12  1002345.77   \n",
        "std      87847.45    61213.68     3739.26    65450.02   571989.14   \n",
        "min          8.00        0.00        0.00        0.00        1.00   \n",
        "25%      57453.00    51332.00     1675.00    53283.00   509449.50   \n",
        "50%     119191.00   109814.00     5358.00   112322.00  1009980.00   \n",
        "75%     167924.00   154965.00     8422.00   159698.00  1495141.50   \n",
        "max     354693.00   226056.00    11998.00   252966.00  2110122.00   \n",
        "\n",
        "       building_sqft  building_type_id  currentrent          id  industrial  \\\n",
        "count     1936265.00        1918646.00         6.00  1936259.00           6   \n",
        "mean         3626.41              1.66   7303435.39  1004449.24           0   \n",
        "std         25999.06              1.83         0.11   575130.07           0   \n",
        "min             1.00              0.00   7303435.39       11.00           0   \n",
        "25%          1400.00              1.00   7303435.39   510733.50           0   \n",
        "50%          1871.00              1.00   7303435.39  1011264.00           0   \n",
        "75%          2527.00              1.00   7303435.39  1496522.50           0   \n",
        "max       9317505.00             16.00   7303435.39  3345320.00           0   \n",
        "\n",
        "       lot_size  max_btype  max_feasiblefar  max_profit  netunits    newsqft  \\\n",
        "count  1.94e+06          6                6    6.00e+00      6.00       6.00   \n",
        "mean   5.94e+04          2                1    3.25e+08   -187.00  160111.28   \n",
        "std    1.09e+06          0                0    7.16e+00    231.98       0.00   \n",
        "min    1.88e-04          2                1    3.25e+08   -497.00  160111.28   \n",
        "25%    4.46e+03          2                1    3.25e+08   -342.00  160111.28   \n",
        "50%    6.36e+03          2                1    3.25e+08   -187.00  160111.28   \n",
        "75%    9.55e+03          2                1    3.25e+08    -32.00  160111.28   \n",
        "max    5.53e+08          2                1    3.25e+08    123.00  160111.28   \n",
        "\n",
        "       newunits  non_residential_rent  non_residential_units  office      \n",
        "count         6              1.48e+05             1936265.00       6 ...  \n",
        "mean        124              2.89e+01                   1.93       0 ...  \n",
        "std           0              2.28e+02                  32.83       0 ...  \n",
        "min         124              0.00e+00                   0.00       0 ...  \n",
        "25%         124             2.16e-161                   0.00       0 ...  \n",
        "50%         124             7.31e-125                   0.00       0 ...  \n",
        "75%         124              1.69e-91                   0.00       0 ...  \n",
        "max         124              1.62e+04               17021.00       0 ...  \n",
        "\n",
        "[8 rows x 84 columns]"
       ]
      },
      {
       "output_type": "stream",
       "stream": "stdout",
       "text": [
        "\n",
        "         _node_id   _node_id0   _node_id1   _node_id2    building  \\\n",
        "count  1936266.00  1936259.00  1936259.00  1936259.00  1936259.00   \n",
        "mean    125133.48   104278.01     5470.79   109141.12  1002345.77   \n",
        "std      87847.43    61213.68     3739.26    65450.02   571989.14   \n",
        "min          8.00        0.00        0.00        0.00        1.00   \n",
        "25%      57453.00    51332.00     1675.00    53283.00   509449.50   \n",
        "50%     119191.00   109814.00     5358.00   112322.00  1009980.00   \n",
        "75%     167924.00   154965.00     8422.00   159698.00  1495141.50   \n",
        "max     354693.00   226056.00    11998.00   252966.00  2110122.00   \n",
        "\n",
        "       building_sqft  building_type_id  currentrent          id  industrial  \\\n",
        "count     1936266.00        1918647.00         7.00  1936259.00           7   \n",
        "mean         3626.49              1.66   7303435.39  1004449.24           0   \n",
        "std         25999.29              1.83         0.10   575130.07           0   \n",
        "min             1.00              0.00   7303435.39       11.00           0   \n",
        "25%          1400.00              1.00   7303435.39   510733.50           0   \n",
        "50%          1871.00              1.00   7303435.39  1011264.00           0   \n",
        "75%          2527.00              1.00   7303435.39  1496522.50           0   \n",
        "max       9317505.00             16.00   7303435.39  3345320.00           0   \n",
        "\n",
        "       lot_size  max_btype  max_feasiblefar  max_profit  netunits    newsqft  \\\n",
        "count  1.94e+06          7                7    7.00e+00      7.00       7.00   \n",
        "mean   5.94e+04          2                1    3.25e+08   -249.00  160111.28   \n",
        "std    1.09e+06          0                0    8.00e+00    267.87       0.00   \n",
        "min    1.88e-04          2                1    3.25e+08   -621.00  160111.28   \n",
        "25%    4.46e+03          2                1    3.25e+08   -435.00  160111.28   \n",
        "50%    6.36e+03          2                1    3.25e+08   -249.00  160111.28   \n",
        "75%    9.55e+03          2                1    3.25e+08    -63.00  160111.28   \n",
        "max    5.53e+08          2                1    3.25e+08    123.00  160111.28   \n",
        "\n",
        "       newunits  non_residential_rent  non_residential_units  office      \n",
        "count         7              1.48e+05             1936266.00       7 ...  \n",
        "mean        124              2.89e+01                   1.93       0 ...  \n",
        "std           0              2.28e+02                  32.83       0 ...  \n",
        "min         124              0.00e+00                   0.00       0 ...  \n",
        "25%         124             2.16e-161                   0.00       0 ...  \n",
        "50%         124             7.31e-125                   0.00       0 ...  \n",
        "75%         124              1.69e-91                   0.00       0 ...  \n",
        "max         124              1.62e+04               17021.00       0 ...  \n",
        "\n",
        "[8 rows x 84 columns]"
       ]
      },
      {
       "output_type": "stream",
       "stream": "stdout",
       "text": [
        "\n",
        "Running developer for jobs"
       ]
      },
      {
       "output_type": "stream",
       "stream": "stdout",
       "text": [
        "\n",
        "Number of agents: 4504643\n",
        "Number of agent spaces: 3735985\n",
        "Current vacancy = -0.21\n",
        "Target vacancy = 0.10, target of new units = 1269173\n",
        "Describe of netunits\n"
       ]
      },
      {
       "output_type": "stream",
       "stream": "stdout",
       "text": [
        "       total_sqft  total_units  year_built  currentrent  parcelsize  \\\n",
        "count    19086.00     19086.00    19086.00     19086.00    19086.00   \n",
        "mean     12899.19        17.96     1973.88      1005.28    31668.63   \n",
        "std      29354.43        52.39       15.18     24940.30    44165.73   \n",
        "min          1.00         0.00     1945.00        -0.00      300.00   \n",
        "25%       1613.00         0.00     1960.00         0.00     4882.66   \n",
        "50%       2865.00         0.00     1970.00        -0.00     8134.61   \n",
        "75%      11677.50        16.00     1984.00         0.00    42482.51   \n",
        "max    1061613.00      1420.00     2010.00   1539030.12   199982.74   \n",
        "\n",
        "       type14_zonedfar  type14_zonedheight  type14_feasiblefar  type14_profit  \\\n",
        "count         19086.00            19086.00             1647.00       1.65e+03   \n",
        "mean              0.50             9203.68                1.92       1.16e+09   \n",
        "std               2.11             2699.74                1.17       2.75e+09   \n",
        "min               0.00               30.00                0.25       1.08e+04   \n",
        "25%               0.00             9999.00                0.50       7.47e+06   \n",
        "50%               0.00             9999.00                2.00       6.75e+07   \n",
        "75%               0.00             9999.00                3.00       5.41e+08   \n",
        "max              12.00             9999.00                5.00       3.33e+10   \n",
        "\n",
        "       type7_zonedfar  type7_zonedheight  type7_feasiblefar  type7_profit  \\\n",
        "count        19086.00           19086.00            8682.00      8.68e+03   \n",
        "mean             0.87            7181.42               0.96      4.53e+08   \n",
        "std              2.13            4482.97               0.65      1.37e+09   \n",
        "min              0.00              25.00               0.25      2.99e+01   \n",
        "25%              0.00              75.00               0.25      6.49e+06   \n",
        "50%              0.00            9999.00               0.75      3.76e+07   \n",
        "75%              0.70            9999.00               1.50      2.37e+08   \n",
        "max             12.00            9999.00               2.00      3.18e+10   \n",
        "\n",
        "       type8_zonedfar  type8_zonedheight  type8_feasiblefar  type8_profit  \\\n",
        "count        19086.00           19086.00            6704.00      6.70e+03   \n",
        "mean             0.49            7628.35               0.93      3.48e+08   \n",
        "std              1.21            4236.50               0.65      1.10e+09   \n",
        "min              0.00              25.00               0.25      1.53e+02   \n",
        "25%              0.00            9999.00               0.25      6.03e+06   \n",
        "50%              0.00            9999.00               0.50      3.06e+07   \n",
        "75%              0.50            9999.00               1.50      1.66e+08   \n",
        "max             12.00            9999.00               2.00      1.31e+10   \n",
        "\n",
        "       type9_zonedfar  type9_zonedheight  type9_feasiblefar      \n",
        "count        19086.00           19086.00            4317.00 ...  \n",
        "mean             0.23            8660.52               0.88 ...  \n",
        "std              0.52            3392.12               0.61 ...  \n",
        "min              0.00              30.00               0.25 ...  \n",
        "25%              0.00            9999.00               0.25 ...  \n",
        "50%              0.00            9999.00               0.50 ...  \n",
        "75%              0.00            9999.00               1.50 ...  \n",
        "max              3.00            9999.00               2.00 ...  \n",
        "\n",
        "[8 rows x 59 columns]\n",
        "Describe of buildings built\n",
        "count    2904.00\n",
        "mean       51.82\n",
        "std        92.59\n",
        "min         0.00\n",
        "25%         6.00\n",
        "50%        29.00\n",
        "75%        65.00\n",
        "max      1420.00\n",
        "Name: total_units, dtype: float64\n",
        "Describe of profit\n",
        "count    2.90e+03\n",
        "mean     1.62e+09\n",
        "std      2.91e+09\n",
        "min      1.02e+06\n",
        "25%      1.77e+08\n",
        "50%      5.69e+08\n",
        "75%      1.53e+09\n",
        "max      3.33e+10\n",
        "Name: max_profit, dtype: float64\n",
        "Buildings by type\n",
        "7     1895\n",
        "4      668\n",
        "10     118\n",
        "14     106\n",
        "8       57\n",
        "9       55\n",
        "12       5\n",
        "dtype: int64\n",
        "Units by type\n",
        "max_btype\n",
        "7            665253\n",
        "4            439394\n",
        "14           105438\n",
        "8             38661\n",
        "10            10241\n",
        "12             7308\n",
        "9              2830\n",
        "Name: netunits, dtype: float64\n",
        "         _node_id   _node_id0   _node_id1   _node_id2    building  \\\n",
        "count  1936266.00  1936259.00  1936259.00  1936259.00  1936259.00   \n",
        "mean    125133.48   104278.01     5470.79   109141.12  1002345.77   \n",
        "std      87847.43    61213.68     3739.26    65450.02   571989.14   \n",
        "min          8.00        0.00        0.00        0.00        1.00   \n",
        "25%      57453.00    51332.00     1675.00    53283.00   509449.50   \n",
        "50%     119191.00   109814.00     5358.00   112322.00  1009980.00   \n",
        "75%     167924.00   154965.00     8422.00   159698.00  1495141.50   \n",
        "max     354693.00   226056.00    11998.00   252966.00  2110122.00   \n",
        "\n",
        "       building_sqft  building_type_id  currentrent          id  industrial  \\\n",
        "count     1936266.00        1918647.00         7.00  1936259.00           7   \n",
        "mean         3626.49              1.66   7303435.39  1004449.24           0   \n",
        "std         25999.29              1.83         0.10   575130.07           0   \n",
        "min             1.00              0.00   7303435.39       11.00           0   \n",
        "25%          1400.00              1.00   7303435.39   510733.50           0   \n",
        "50%          1871.00              1.00   7303435.39  1011264.00           0   \n",
        "75%          2527.00              1.00   7303435.39  1496522.50           0   \n",
        "max       9317505.00             16.00   7303435.39  3345320.00           0   \n",
        "\n",
        "       lot_size  max_btype  max_feasiblefar  max_profit  netunits    newsqft  \\\n",
        "count  1.94e+06          7                7    7.00e+00      7.00       7.00   \n",
        "mean   5.94e+04          2                1    3.25e+08   -249.00  160111.28   \n",
        "std    1.09e+06          0                0    8.00e+00    267.87       0.00   \n",
        "min    1.88e-04          2                1    3.25e+08   -621.00  160111.28   \n",
        "25%    4.46e+03          2                1    3.25e+08   -435.00  160111.28   \n",
        "50%    6.36e+03          2                1    3.25e+08   -249.00  160111.28   \n",
        "75%    9.55e+03          2                1    3.25e+08    -63.00  160111.28   \n",
        "max    5.53e+08          2                1    3.25e+08    123.00  160111.28   \n",
        "\n",
        "       newunits  non_residential_rent  non_residential_units  office      \n",
        "count         7              1.48e+05             1936266.00       7 ...  \n",
        "mean        124              2.89e+01                   1.93       0 ...  \n",
        "std           0              2.28e+02                  32.83       0 ...  \n",
        "min         124              0.00e+00                   0.00       0 ...  \n",
        "25%         124             2.16e-161                   0.00       0 ...  \n",
        "50%         124             7.31e-125                   0.00       0 ...  \n",
        "75%         124              1.69e-91                   0.00       0 ...  \n",
        "max         124              1.62e+04               17021.00       0 ...  \n",
        "\n",
        "[8 rows x 84 columns]"
       ]
      },
      {
       "output_type": "stream",
       "stream": "stdout",
       "text": [
        "\n",
        "         _node_id   _node_id0   _node_id1   _node_id2    building  \\\n",
        "count  1939170.00  1936259.00  1936259.00  1936259.00  1936259.00   \n",
        "mean    125168.34   104278.01     5470.79   109141.12  1002345.77   \n",
        "std      87900.76    61213.68     3739.26    65450.02   571989.14   \n",
        "min          8.00        0.00        0.00        0.00        1.00   \n",
        "25%      57420.00    51332.00     1675.00    53283.00   509449.50   \n",
        "50%     119219.00   109814.00     5358.00   112322.00  1009980.00   \n",
        "75%     167973.00   154965.00     8422.00   159698.00  1495141.50   \n",
        "max     354693.00   226056.00    11998.00   252966.00  2110122.00   \n",
        "\n",
        "       building_sqft  building_type_id  currentrent          id  industrial  \\\n",
        "count     1939170.00        1921551.00      2911.00  1936259.00     2911.00   \n",
        "mean         3803.89              1.67     22295.90  1004449.24      636.40   \n",
        "std         26839.69              1.84    362116.17   575130.07      519.94   \n",
        "min             1.00              0.00        -0.00       11.00        0.00   \n",
        "25%          1400.00              1.00         0.00   510733.50      220.99   \n",
        "50%          1874.00              1.00        -0.00  1011264.00      507.52   \n",
        "75%          2527.00              1.00         0.00  1496522.50      958.89   \n",
        "max       9317505.00             16.00   7303435.39  3345320.00     5213.73   \n",
        "\n",
        "       lot_size  max_btype  max_feasiblefar  max_profit  netunits    newsqft  \\\n",
        "count  1.94e+06    2911.00          2911.00    2.91e+03   2911.00    2911.00   \n",
        "mean   5.95e+04       6.74             1.59    1.62e+09    435.38  122178.29   \n",
        "std    1.09e+06       2.09             1.05    2.91e+09    494.51  127616.80   \n",
        "min    1.88e-04       2.00             0.25    1.02e+06  -1197.00     164.12   \n",
        "25%    4.46e+03       7.00             1.00    1.78e+08     95.00   33122.51   \n",
        "50%    6.36e+03       7.00             1.50    5.62e+08    267.00   78835.88   \n",
        "75%    9.57e+03       7.00             2.00    1.52e+09    622.50  170599.76   \n",
        "max    5.53e+08      14.00             5.00    3.33e+10   3151.00  799930.95   \n",
        "\n",
        "       newunits  non_residential_rent  non_residential_units   office      \n",
        "count   2911.00              1.48e+05             1939170.00  2911.00 ...  \n",
        "mean     487.97              2.89e+01                   2.66   636.40 ...  \n",
        "std      510.72              2.28e+02                  42.68   519.94 ...  \n",
        "min        1.00              0.00e+00                   0.00     0.00 ...  \n",
        "25%      132.00             2.16e-161                   0.00   220.99 ...  \n",
        "50%      314.00             7.31e-125                   0.00   507.52 ...  \n",
        "75%      683.00              1.69e-91                   0.00   958.89 ...  \n",
        "max     3200.00              1.62e+04               17021.00  5213.73 ...  \n",
        "\n",
        "[8 rows x 84 columns]"
       ]
      },
      {
       "output_type": "stream",
       "stream": "stdout",
       "text": [
        "\n"
       ]
      }
     ],
     "prompt_number": 41
    }
   ],
   "metadata": {}
  }
 ]
}
