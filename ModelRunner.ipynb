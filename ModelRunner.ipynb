{
 "metadata": {
  "name": "",
  "signature": "sha256:19a7c5db71cf0eabd5de0a922264a1bf9383d289b29d02c2a84187bec40a2a93"
 },
 "nbformat": 3,
 "nbformat_minor": 0,
 "worksheets": [
  {
   "cells": [
    {
     "cell_type": "code",
     "collapsed": false,
     "input": [
      "import dataset\n",
      "import models"
     ],
     "language": "python",
     "metadata": {},
     "outputs": [],
     "prompt_number": 2
    },
    {
     "cell_type": "code",
     "collapsed": false,
     "input": [
      "dset = dataset.BayAreaDataset(\"data/bayarea.h5\")"
     ],
     "language": "python",
     "metadata": {},
     "outputs": [],
     "prompt_number": 7
    },
    {
     "cell_type": "code",
     "collapsed": false,
     "input": [
      "models.rsh_estimate(dset)"
     ],
     "language": "python",
     "metadata": {},
     "outputs": [
      {
       "output_type": "stream",
       "stream": "stdout",
       "text": [
        "WARNING: fetching precomputed nodes off of disk\n",
        "                               OLS Regression Results                               \n",
        "====================================================================================\n",
        "Dep. Variable:     np.log1p(sale_price_flt)   R-squared:                       0.265\n",
        "Model:                                  OLS   Adj. R-squared:                  0.265\n",
        "Method:                       Least Squares   F-statistic:                     7008.\n",
        "Date:                      Tue, 06 May 2014   Prob (F-statistic):               0.00\n",
        "Time:                              18:23:49   Log-Likelihood:            -1.3752e+05\n",
        "No. Observations:                    194138   AIC:                         2.751e+05\n",
        "Df Residuals:                        194127   BIC:                         2.752e+05\n",
        "Df Model:                                10                                         \n",
        "================================================================================================\n",
        "                                   coef    std err          t      P>|t|      [95.0% Conf. Int.]\n",
        "------------------------------------------------------------------------------------------------\n",
        "Intercept                        4.4789      0.037    120.436      0.000         4.406     4.552\n",
        "I(year_built < 1940)[T.True]     0.2419      0.004     64.802      0.000         0.235     0.249\n",
        "I(year_built > 2005)[T.True]     0.0896      0.006     14.147      0.000         0.077     0.102\n",
        "np.log1p(unit_sqft)             -0.2693      0.003    -85.071      0.000        -0.275    -0.263\n",
        "np.log1p(unit_lot_size)          0.0889      0.001     60.444      0.000         0.086     0.092\n",
        "sum_residential_units            0.1019      0.003     39.880      0.000         0.097     0.107\n",
        "ave_unit_sqft                   -0.2970      0.004    -73.695      0.000        -0.305    -0.289\n",
        "ave_lot_sqft                    -0.0257      0.001    -48.675      0.000        -0.027    -0.025\n",
        "ave_income                       0.4127      0.003    163.696      0.000         0.408     0.418\n",
        "poor                            -0.1761      0.002   -106.788      0.000        -0.179    -0.173\n",
        "jobs                             0.0443      0.001     85.108      0.000         0.043     0.045\n",
        "==============================================================================\n",
        "Omnibus:                    24656.064   Durbin-Watson:                   0.638\n",
        "Prob(Omnibus):                  0.000   Jarque-Bera (JB):           158406.175\n",
        "Skew:                           0.438   Prob(JB):                         0.00\n",
        "Kurtosis:                       7.338   Cond. No.                         725.\n",
        "=============================================================================="
       ]
      },
      {
       "output_type": "stream",
       "stream": "stdout",
       "text": [
        "\n"
       ]
      }
     ],
     "prompt_number": 4
    },
    {
     "cell_type": "code",
     "collapsed": false,
     "input": [
      "models.rrh_estimate(dset)"
     ],
     "language": "python",
     "metadata": {},
     "outputs": [
      {
       "output_type": "stream",
       "stream": "stdout",
       "text": [
        "                            OLS Regression Results                            \n",
        "==============================================================================\n",
        "Dep. Variable:         np.log1p(rent)   R-squared:                       0.392\n",
        "Model:                            OLS   Adj. R-squared:                  0.391\n",
        "Method:                 Least Squares   F-statistic:                     461.3\n",
        "Date:                Tue, 06 May 2014   Prob (F-statistic):               0.00\n",
        "Time:                        18:24:00   Log-Likelihood:                 2579.6\n",
        "No. Observations:                4298   AIC:                            -5145.\n",
        "Df Residuals:                    4291   BIC:                            -5101.\n",
        "Df Model:                           6                                         \n",
        "=========================================================================================\n",
        "                            coef    std err          t      P>|t|      [95.0% Conf. Int.]\n",
        "-----------------------------------------------------------------------------------------\n",
        "Intercept                 2.2814      0.065     35.340      0.000         2.155     2.408\n",
        "np.log1p(unit_sqft)      -0.2027      0.007    -29.195      0.000        -0.216    -0.189\n",
        "sum_residential_units     0.1858      0.006     30.809      0.000         0.174     0.198\n",
        "ave_unit_sqft            -0.0281      0.006     -4.663      0.000        -0.040    -0.016\n",
        "ave_lot_sqft             -0.0075      0.001    -11.909      0.000        -0.009    -0.006\n",
        "poor                     -0.1420      0.005    -30.774      0.000        -0.151    -0.133\n",
        "jobs                      0.0113      0.001     15.582      0.000         0.010     0.013\n",
        "==============================================================================\n",
        "Omnibus:                      303.354   Durbin-Watson:                   0.595\n",
        "Prob(Omnibus):                  0.000   Jarque-Bera (JB):              430.945\n",
        "Skew:                           0.595   Prob(JB):                     2.64e-94\n",
        "Kurtosis:                       3.995   Cond. No.                         548.\n",
        "==============================================================================\n"
       ]
      }
     ],
     "prompt_number": 5
    },
    {
     "cell_type": "code",
     "collapsed": false,
     "input": [
      "models.rsh_simulate(dset)"
     ],
     "language": "python",
     "metadata": {},
     "outputs": [
      {
       "output_type": "stream",
       "stream": "stdout",
       "text": [
        "WARNING: imputing building square feet where it doesn't exist\n",
        "WARNING: imputing lot size where it doesn't exist"
       ]
      },
      {
       "output_type": "stream",
       "stream": "stdout",
       "text": [
        "\n",
        "count    1788632.000000\n",
        "mean           1.476464\n",
        "std           15.466437\n",
        "min            0.005017\n",
        "25%            0.508202\n",
        "50%            0.711139\n",
        "75%            0.972781\n",
        "max         9272.548192\n",
        "dtype: float64"
       ]
      },
      {
       "output_type": "stream",
       "stream": "stdout",
       "text": [
        "\n"
       ]
      }
     ],
     "prompt_number": 6
    },
    {
     "cell_type": "code",
     "collapsed": false,
     "input": [
      "models.rrh_simulate(dset)"
     ],
     "language": "python",
     "metadata": {},
     "outputs": [
      {
       "output_type": "stream",
       "stream": "stdout",
       "text": [
        "WARNING: imputing building square feet where it doesn't exist\n",
        "WARNING: imputing lot size where it doesn't exist"
       ]
      },
      {
       "output_type": "stream",
       "stream": "stdout",
       "text": [
        "\n",
        "count    1788632.000000\n",
        "mean           4.245143\n",
        "std            6.451845\n",
        "min            0.213291\n",
        "25%            1.840169\n",
        "50%            2.556791\n",
        "75%            3.596604\n",
        "max          214.855464\n",
        "dtype: float64"
       ]
      },
      {
       "output_type": "stream",
       "stream": "stdout",
       "text": [
        "\n"
       ]
      }
     ],
     "prompt_number": 6
    },
    {
     "cell_type": "code",
     "collapsed": false,
     "input": [],
     "language": "python",
     "metadata": {},
     "outputs": []
    }
   ],
   "metadata": {}
  }
 ]
}