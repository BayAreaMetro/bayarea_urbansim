{
 "metadata": {
  "name": "",
  "signature": "sha256:0ecc614cfdc3f21d060b07043e053ab2ef817341a583f427b20ecf1063f0e8b9"
 },
 "nbformat": 3,
 "nbformat_minor": 0,
 "worksheets": [
  {
   "cells": [
    {
     "cell_type": "code",
     "collapsed": false,
     "input": [
      "%load_ext autoreload\n",
      "%autoreload 1\n",
      "%aimport bayarea.models\n",
      "%aimport bayarea.dataset"
     ],
     "language": "python",
     "metadata": {},
     "outputs": [
      {
       "output_type": "stream",
       "stream": "stdout",
       "text": [
        "The autoreload extension is already loaded. To reload it, use:\n",
        "  %reload_ext autoreload\n"
       ]
      }
     ],
     "prompt_number": 5
    },
    {
     "cell_type": "code",
     "collapsed": false,
     "input": [
      "dset = dataset.BayAreaDataset(\"data/bayarea.h5\")"
     ],
     "language": "python",
     "metadata": {},
     "outputs": [],
     "prompt_number": 2
    },
    {
     "cell_type": "heading",
     "level": 1,
     "metadata": {},
     "source": [
      "Estimation"
     ]
    },
    {
     "cell_type": "code",
     "collapsed": false,
     "input": [
      "models.rsh_estimate(dset)"
     ],
     "language": "python",
     "metadata": {},
     "outputs": [
      {
       "output_type": "stream",
       "stream": "stdout",
       "text": [
        "WARNING: fetching precomputed nodes off of disk\n",
        "                               OLS Regression Results                               \n",
        "====================================================================================\n",
        "Dep. Variable:     np.log1p(sale_price_flt)   R-squared:                       0.265\n",
        "Model:                                  OLS   Adj. R-squared:                  0.265\n",
        "Method:                       Least Squares   F-statistic:                     7008.\n",
        "Date:                      Thu, 08 May 2014   Prob (F-statistic):               0.00\n",
        "Time:                              11:52:55   Log-Likelihood:            -1.3752e+05\n",
        "No. Observations:                    194138   AIC:                         2.751e+05\n",
        "Df Residuals:                        194127   BIC:                         2.752e+05\n",
        "Df Model:                                10                                         \n",
        "================================================================================================\n",
        "                                   coef    std err          t      P>|t|      [95.0% Conf. Int.]\n",
        "------------------------------------------------------------------------------------------------\n",
        "Intercept                        4.4789      0.037    120.436      0.000         4.406     4.552\n",
        "I(year_built < 1940)[T.True]     0.2419      0.004     64.802      0.000         0.235     0.249\n",
        "I(year_built > 2005)[T.True]     0.0896      0.006     14.147      0.000         0.077     0.102\n",
        "np.log1p(unit_sqft)             -0.2693      0.003    -85.071      0.000        -0.275    -0.263\n",
        "np.log1p(unit_lot_size)          0.0889      0.001     60.444      0.000         0.086     0.092\n",
        "sum_residential_units            0.1019      0.003     39.880      0.000         0.097     0.107\n",
        "ave_unit_sqft                   -0.2970      0.004    -73.695      0.000        -0.305    -0.289\n",
        "ave_lot_sqft                    -0.0257      0.001    -48.675      0.000        -0.027    -0.025\n",
        "ave_income                       0.4127      0.003    163.696      0.000         0.408     0.418\n",
        "poor                            -0.1761      0.002   -106.788      0.000        -0.179    -0.173\n",
        "jobs                             0.0443      0.001     85.108      0.000         0.043     0.045\n",
        "==============================================================================\n",
        "Omnibus:                    24656.064   Durbin-Watson:                   0.638\n",
        "Prob(Omnibus):                  0.000   Jarque-Bera (JB):           158406.175\n",
        "Skew:                           0.438   Prob(JB):                         0.00\n",
        "Kurtosis:                       7.338   Cond. No.                         725.\n",
        "=============================================================================="
       ]
      },
      {
       "output_type": "stream",
       "stream": "stdout",
       "text": [
        "\n"
       ]
      }
     ],
     "prompt_number": 4
    },
    {
     "cell_type": "code",
     "collapsed": false,
     "input": [
      "models.rrh_estimate(dset)"
     ],
     "language": "python",
     "metadata": {},
     "outputs": [
      {
       "output_type": "stream",
       "stream": "stdout",
       "text": [
        "                            OLS Regression Results                            \n",
        "==============================================================================\n",
        "Dep. Variable:         np.log1p(rent)   R-squared:                       0.392\n",
        "Model:                            OLS   Adj. R-squared:                  0.391\n",
        "Method:                 Least Squares   F-statistic:                     461.3\n",
        "Date:                Thu, 08 May 2014   Prob (F-statistic):               0.00\n",
        "Time:                        11:52:59   Log-Likelihood:                 2579.6\n",
        "No. Observations:                4298   AIC:                            -5145.\n",
        "Df Residuals:                    4291   BIC:                            -5101.\n",
        "Df Model:                           6                                         \n",
        "=========================================================================================\n",
        "                            coef    std err          t      P>|t|      [95.0% Conf. Int.]\n",
        "-----------------------------------------------------------------------------------------\n",
        "Intercept                 2.2814      0.065     35.340      0.000         2.155     2.408\n",
        "np.log1p(unit_sqft)      -0.2027      0.007    -29.195      0.000        -0.216    -0.189\n",
        "sum_residential_units     0.1858      0.006     30.809      0.000         0.174     0.198\n",
        "ave_unit_sqft            -0.0281      0.006     -4.663      0.000        -0.040    -0.016\n",
        "ave_lot_sqft             -0.0075      0.001    -11.909      0.000        -0.009    -0.006\n",
        "poor                     -0.1420      0.005    -30.774      0.000        -0.151    -0.133\n",
        "jobs                      0.0113      0.001     15.582      0.000         0.010     0.013\n",
        "==============================================================================\n",
        "Omnibus:                      303.354   Durbin-Watson:                   0.595\n",
        "Prob(Omnibus):                  0.000   Jarque-Bera (JB):              430.945\n",
        "Skew:                           0.595   Prob(JB):                     2.64e-94\n",
        "Kurtosis:                       3.995   Cond. No.                         548.\n",
        "==============================================================================\n"
       ]
      }
     ],
     "prompt_number": 5
    },
    {
     "cell_type": "code",
     "collapsed": false,
     "input": [
      "models.nrh_estimate(dset)"
     ],
     "language": "python",
     "metadata": {},
     "outputs": [
      {
       "output_type": "stream",
       "stream": "stdout",
       "text": [
        "                                  OLS Regression Results                                 \n",
        "=========================================================================================\n",
        "Dep. Variable:     np.log1p(averageweightedrent)   R-squared:                       0.246\n",
        "Model:                                       OLS   Adj. R-squared:                  0.245\n",
        "Method:                            Least Squares   F-statistic:                     389.3\n",
        "Date:                           Thu, 08 May 2014   Prob (F-statistic):               0.00\n",
        "Time:                                   11:53:02   Log-Likelihood:                -4805.8\n",
        "No. Observations:                           7176   AIC:                             9626.\n",
        "Df Residuals:                               7169   BIC:                             9674.\n",
        "Df Model:                                      6                                         \n",
        "================================================================================================\n",
        "                                   coef    std err          t      P>|t|      [95.0% Conf. Int.]\n",
        "------------------------------------------------------------------------------------------------\n",
        "Intercept                        2.1442      0.033     64.810      0.000         2.079     2.209\n",
        "I(year_built < 1940)[T.True]     0.0697      0.015      4.654      0.000         0.040     0.099\n",
        "I(year_built > 2005)[T.True]     0.2133      0.033      6.482      0.000         0.149     0.278\n",
        "np.log1p(stories)                0.4713      0.014     33.483      0.000         0.444     0.499\n",
        "ave_income                       0.0104      0.002      5.709      0.000         0.007     0.014\n",
        "poor                             0.0443      0.003     15.310      0.000         0.039     0.050\n",
        "jobs                            -0.0074      0.003     -2.923      0.003        -0.012    -0.002\n",
        "==============================================================================\n",
        "Omnibus:                      248.154   Durbin-Watson:                   1.560\n",
        "Prob(Omnibus):                  0.000   Jarque-Bera (JB):              716.121\n",
        "Skew:                           0.004   Prob(JB):                    3.13e-156\n",
        "Kurtosis:                       4.548   Cond. No.                         93.3\n",
        "==============================================================================\n"
       ]
      }
     ],
     "prompt_number": 6
    },
    {
     "cell_type": "code",
     "collapsed": false,
     "input": [
      "models.hlcmo_estimate(dset)"
     ],
     "language": "python",
     "metadata": {},
     "outputs": [
      {
       "output_type": "stream",
       "stream": "stdout",
       "text": [
        "WARNING: imputing building square feet where it doesn't exist\n",
        "WARNING: imputing lot size where it doesn't exist"
       ]
      },
      {
       "output_type": "stream",
       "stream": "stdout",
       "text": [
        "\n",
        "Running location choice model estimation\n"
       ]
      },
      {
       "output_type": "stream",
       "stream": "stdout",
       "text": [
        "\n",
        "WARNING: fetching precomputed nodes off of disk\n",
        "Removing 53 choice situations because chosen alt doesn't exist"
       ]
      },
      {
       "output_type": "stream",
       "stream": "stdout",
       "text": [
        "\n",
        "Null Log-liklihood: -22781.777"
       ]
      },
      {
       "output_type": "stream",
       "stream": "stdout",
       "text": [
        "\n",
        "Log-liklihood at convergence: -22742.362\n",
        "Log-liklihood Ratio: 0.002\n",
        "\n",
        "+-----------------------+-------------+------------+---------+\n",
        "| Component             | Coefficient | Std. Error | T-Score |\n",
        "+-----------------------+-------------+------------+---------+\n",
        "| np.log1p(unit_sqft)   |    -0.269   |    0.024   | -11.283 |\n",
        "| sum_residential_units |     0.181   |    0.046   |   3.982 |\n",
        "| ave_unit_sqft         |     0.202   |    0.055   |   3.665 |\n",
        "| ave_lot_sqft          |    -0.005   |    0.006   |  -0.863 |\n",
        "| ave_income            |    -0.008   |    0.035   |  -0.213 |\n",
        "| poor                  |    -0.140   |    0.034   |  -4.154 |\n",
        "+-----------------------+-------------+------------+---------+\n"
       ]
      }
     ],
     "prompt_number": 3
    },
    {
     "cell_type": "code",
     "collapsed": false,
     "input": [
      "models.hlcmr_estimate(dset)"
     ],
     "language": "python",
     "metadata": {},
     "outputs": [
      {
       "output_type": "stream",
       "stream": "stdout",
       "text": [
        "Running location choice model estimation\n",
        "\n",
        "Removing 78 choice situations because chosen alt doesn't exist"
       ]
      },
      {
       "output_type": "stream",
       "stream": "stdout",
       "text": [
        "\n",
        "Null Log-liklihood: -22666.648"
       ]
      },
      {
       "output_type": "stream",
       "stream": "stdout",
       "text": [
        "\n",
        "Log-liklihood at convergence: -19149.910\n",
        "Log-liklihood Ratio: 0.155\n",
        "\n",
        "+-----------------------+-------------+------------+---------+\n",
        "| Component             | Coefficient | Std. Error | T-Score |\n",
        "+-----------------------+-------------+------------+---------+\n",
        "| np.log1p(unit_sqft)   |    -1.115   |    0.018   | -60.606 |\n",
        "| sum_residential_units |     0.446   |    0.043   |  10.414 |\n",
        "| ave_unit_sqft         |     1.378   |    0.049   |  28.389 |\n",
        "| ave_lot_sqft          |     0.005   |    0.005   |   0.956 |\n",
        "| ave_income            |    -0.377   |    0.033   | -11.469 |\n",
        "| poor                  |     0.292   |    0.034   |   8.532 |\n",
        "+-----------------------+-------------+------------+---------+\n"
       ]
      }
     ],
     "prompt_number": 4
    },
    {
     "cell_type": "code",
     "collapsed": false,
     "input": [
      "models.elcm_estimate(dset)"
     ],
     "language": "python",
     "metadata": {},
     "outputs": [
      {
       "output_type": "stream",
       "stream": "stdout",
       "text": [
        "Running location choice model estimation\n",
        "\n",
        "Removing 1300 choice situations because chosen alt doesn't exist"
       ]
      },
      {
       "output_type": "stream",
       "stream": "stdout",
       "text": [
        "\n",
        "Null Log-liklihood: -17039.130"
       ]
      },
      {
       "output_type": "stream",
       "stream": "stdout",
       "text": [
        "\n",
        "Log-liklihood at convergence: -14616.271\n",
        "Log-liklihood Ratio: 0.142\n",
        "\n",
        "+--------------------------+-------------+------------+---------+\n",
        "| Component                | Coefficient | Std. Error | T-Score |\n",
        "+--------------------------+-------------+------------+---------+\n",
        "| np.log1p(stories)        |     0.613   |    0.037   |  16.621 |\n",
        "| ave_income               |     0.009   |    0.005   |   1.951 |\n",
        "| poor                     |    -0.154   |    0.009   | -16.245 |\n",
        "| sum_nonresidential_units |    -0.158   |    0.015   | -10.375 |\n",
        "| jobs                     |     0.429   |    0.008   |  52.108 |\n",
        "+--------------------------+-------------+------------+---------+\n"
       ]
      }
     ],
     "prompt_number": 7
    },
    {
     "cell_type": "heading",
     "level": 1,
     "metadata": {},
     "source": [
      "Simulation"
     ]
    },
    {
     "cell_type": "code",
     "collapsed": false,
     "input": [
      "models.rsh_simulate(dset)\n",
      "models.rrh_simulate(dset)\n",
      "models.nrh_simulate(dset)"
     ],
     "language": "python",
     "metadata": {},
     "outputs": [
      {
       "output_type": "stream",
       "stream": "stdout",
       "text": [
        "count    1788632.000000\n",
        "mean           1.476464\n",
        "std           15.466437\n",
        "min            0.005017\n",
        "25%            0.508202\n",
        "50%            0.711139\n",
        "75%            0.972781\n",
        "max         9272.548192\n",
        "dtype: float64\n",
        "count    1788632.000000\n",
        "mean           4.245143\n",
        "std            6.451845\n",
        "min            0.213291\n",
        "25%            1.840169\n",
        "50%            2.556791\n",
        "75%            3.596604\n",
        "max          214.855464\n",
        "dtype: float64"
       ]
      },
      {
       "output_type": "stream",
       "stream": "stdout",
       "text": [
        "\n",
        "count    147627.000000\n",
        "mean         14.976088\n",
        "std          20.199632\n",
        "min           0.981449\n",
        "25%           4.703492\n",
        "50%          10.313077\n",
        "75%          19.064256\n",
        "max         834.664625\n",
        "dtype: float64"
       ]
      },
      {
       "output_type": "stream",
       "stream": "stdout",
       "text": [
        "\n"
       ]
      }
     ],
     "prompt_number": 10
    },
    {
     "cell_type": "code",
     "collapsed": false,
     "input": [
      "models.household_relocation(dset)\n",
      "models.hlcmo_simulate(dset)\n",
      "models.hlcmr_simulate(dset)"
     ],
     "language": "python",
     "metadata": {},
     "outputs": [
      {
       "output_type": "stream",
       "stream": "stdout",
       "text": [
        "Running relocation\n",
        "\n",
        "Total currently unplaced: 130498"
       ]
      },
      {
       "output_type": "stream",
       "stream": "stdout",
       "text": [
        "\n",
        "Total currently unplaced: 254391"
       ]
      },
      {
       "output_type": "stream",
       "stream": "stdout",
       "text": [
        "\n",
        "Running location choice model simulation\n"
       ]
      },
      {
       "output_type": "stream",
       "stream": "stdout",
       "text": [
        "\n",
        "There are 597437.0 empty units in 355478 locations total in the region"
       ]
      },
      {
       "output_type": "stream",
       "stream": "stdout",
       "text": [
        "\n",
        "Assigned 142873 choosers to new units"
       ]
      },
      {
       "output_type": "stream",
       "stream": "stdout",
       "text": [
        "\n",
        "Total currently unplaced: 111518"
       ]
      },
      {
       "output_type": "stream",
       "stream": "stdout",
       "text": [
        "\n",
        "Running location choice model simulation\n"
       ]
      },
      {
       "output_type": "stream",
       "stream": "stdout",
       "text": [
        "\n",
        "There are 454564.0 empty units in 290455 locations total in the region"
       ]
      },
      {
       "output_type": "stream",
       "stream": "stdout",
       "text": [
        "\n",
        "Assigned 111518 choosers to new units"
       ]
      },
      {
       "output_type": "stream",
       "stream": "stdout",
       "text": [
        "\n",
        "Total currently unplaced: 0"
       ]
      },
      {
       "output_type": "stream",
       "stream": "stdout",
       "text": [
        "\n"
       ]
      }
     ],
     "prompt_number": 9
    },
    {
     "cell_type": "code",
     "collapsed": false,
     "input": [
      "models.jobs_relocation(dset)\n",
      "models.elcm_simulate(dset)"
     ],
     "language": "python",
     "metadata": {},
     "outputs": [
      {
       "output_type": "stream",
       "stream": "stdout",
       "text": [
        "Running relocation\n",
        "\n",
        "Total currently unplaced: 0"
       ]
      },
      {
       "output_type": "stream",
       "stream": "stdout",
       "text": [
        "\n",
        "Total currently unplaced: 326867"
       ]
      },
      {
       "output_type": "stream",
       "stream": "stdout",
       "text": [
        "\n",
        "Running location choice model simulation\n"
       ]
      },
      {
       "output_type": "stream",
       "stream": "stdout",
       "text": [
        "\n",
        "There are 3731240 total available units"
       ]
      },
      {
       "output_type": "stream",
       "stream": "stdout",
       "text": [
        "\n",
        "    and 4085844 total choosers\n",
        "    but there are 135087 overfull buildings"
       ]
      },
      {
       "output_type": "stream",
       "stream": "stdout",
       "text": [
        "\n",
        "    for a total of 589451 empty units"
       ]
      },
      {
       "output_type": "stream",
       "stream": "stdout",
       "text": [
        "\n",
        "    in 67974 buildings total in the region\n",
        "Assigned 326867 choosers to new units"
       ]
      },
      {
       "output_type": "stream",
       "stream": "stdout",
       "text": [
        "\n",
        "Total currently unplaced: 0"
       ]
      },
      {
       "output_type": "stream",
       "stream": "stdout",
       "text": [
        "\n"
       ]
      }
     ],
     "prompt_number": 24
    },
    {
     "cell_type": "code",
     "collapsed": false,
     "input": [],
     "language": "python",
     "metadata": {},
     "outputs": []
    }
   ],
   "metadata": {}
  }
 ]
}