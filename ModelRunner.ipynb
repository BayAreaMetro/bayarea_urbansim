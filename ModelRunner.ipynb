{
 "metadata": {
  "name": "",
  "signature": "sha256:08efe260c02729f5cd1d5f18da082d052666e012d139612425239193638b8656"
 },
 "nbformat": 3,
 "nbformat_minor": 0,
 "worksheets": [
  {
   "cells": [
    {
     "cell_type": "code",
     "collapsed": false,
     "input": [
      "%load_ext autoreload\n",
      "%autoreload 1\n",
      "%aimport bayarea.models\n",
      "%aimport bayarea.dataset\n",
      "%aimport bayarea.feasibility\n",
      "%aimport bayarea.developer\n",
      "models = bayarea.models\n",
      "dataset = bayarea.dataset\n",
      "feasibility = bayarea.feasibility\n",
      "developer = bayarea.developer"
     ],
     "language": "python",
     "metadata": {},
     "outputs": [],
     "prompt_number": 1
    },
    {
     "cell_type": "code",
     "collapsed": false,
     "input": [
      "dset = dataset.BayAreaDataset(\"data/bayarea.h5\")"
     ],
     "language": "python",
     "metadata": {},
     "outputs": [],
     "prompt_number": 9
    },
    {
     "cell_type": "code",
     "collapsed": false,
     "input": [
      "models.build_networks()"
     ],
     "language": "python",
     "metadata": {},
     "outputs": [],
     "prompt_number": 3
    },
    {
     "cell_type": "heading",
     "level": 1,
     "metadata": {},
     "source": [
      "Estimation"
     ]
    },
    {
     "cell_type": "code",
     "collapsed": false,
     "input": [
      "models.rsh_estimate(dset)"
     ],
     "language": "python",
     "metadata": {},
     "outputs": [
      {
       "output_type": "stream",
       "stream": "stdout",
       "text": [
        "Running hedonic estimation\n",
        "\n",
        "WARNING: fetching precomputed nodes off of disk\n",
        "                               OLS Regression Results                               \n",
        "====================================================================================\n",
        "Dep. Variable:     np.log1p(sale_price_flt)   R-squared:                       0.222\n",
        "Model:                                  OLS   Adj. R-squared:                  0.222\n",
        "Method:                       Least Squares   F-statistic:                     6158.\n",
        "Date:                      Sat, 10 May 2014   Prob (F-statistic):               0.00\n",
        "Time:                              00:09:52   Log-Likelihood:            -1.4306e+05\n",
        "No. Observations:                    194138   AIC:                         2.861e+05\n",
        "Df Residuals:                        194128   BIC:                         2.862e+05\n",
        "Df Model:                                 9                                         \n",
        "================================================================================================\n",
        "                                   coef    std err          t      P>|t|      [95.0% Conf. Int.]\n",
        "------------------------------------------------------------------------------------------------\n",
        "Intercept                        3.8474      0.038    101.840      0.000         3.773     3.921\n",
        "I(year_built < 1940)[T.True]     0.2369      0.004     61.673      0.000         0.229     0.244\n",
        "I(year_built > 2005)[T.True]     0.0237      0.006      3.653      0.000         0.011     0.036\n",
        "np.log1p(unit_sqft)             -0.2330      0.003    -71.959      0.000        -0.239    -0.227\n",
        "np.log1p(unit_lot_size)          0.0850      0.002     56.201      0.000         0.082     0.088\n",
        "sum_residential_units           -0.0895      0.002    -47.796      0.000        -0.093    -0.086\n",
        "ave_unit_sqft                   -0.3068      0.004    -73.993      0.000        -0.315    -0.299\n",
        "ave_lot_sqft                    -0.0346      0.001    -64.330      0.000        -0.036    -0.034\n",
        "ave_income                       0.4880      0.002    195.932      0.000         0.483     0.493\n",
        "jobs                             0.0245      0.001     49.022      0.000         0.024     0.026\n",
        "==============================================================================\n",
        "Omnibus:                    42605.865   Durbin-Watson:                   0.607\n",
        "Prob(Omnibus):                  0.000   Jarque-Bera (JB):           534598.117\n",
        "Skew:                           0.703   Prob(JB):                         0.00\n",
        "Kurtosis:                      11.007   Cond. No.                         702.\n",
        "=============================================================================="
       ]
      },
      {
       "output_type": "stream",
       "stream": "stdout",
       "text": [
        "\n"
       ]
      }
     ],
     "prompt_number": 4
    },
    {
     "cell_type": "code",
     "collapsed": false,
     "input": [
      "models.rrh_estimate(dset)"
     ],
     "language": "python",
     "metadata": {},
     "outputs": [
      {
       "output_type": "stream",
       "stream": "stdout",
       "text": [
        "Running hedonic estimation\n",
        "\n",
        "                            OLS Regression Results                            \n",
        "==============================================================================\n",
        "Dep. Variable:         np.log1p(rent)   R-squared:                       0.258\n",
        "Model:                            OLS   Adj. R-squared:                  0.257\n",
        "Method:                 Least Squares   F-statistic:                     298.4\n",
        "Date:                Sat, 10 May 2014   Prob (F-statistic):          8.42e-275\n",
        "Time:                        00:09:55   Log-Likelihood:                 2151.0\n",
        "No. Observations:                4298   AIC:                            -4290.\n",
        "Df Residuals:                    4292   BIC:                            -4252.\n",
        "Df Model:                           5                                         \n",
        "=========================================================================================\n",
        "                            coef    std err          t      P>|t|      [95.0% Conf. Int.]\n",
        "-----------------------------------------------------------------------------------------\n",
        "Intercept                 2.2389      0.071     31.401      0.000         2.099     2.379\n",
        "np.log1p(unit_sqft)      -0.2002      0.008    -26.107      0.000        -0.215    -0.185\n",
        "sum_residential_units     0.0181      0.003      6.340      0.000         0.012     0.024\n",
        "ave_unit_sqft             0.0049      0.007      0.741      0.459        -0.008     0.018\n",
        "ave_lot_sqft             -0.0104      0.001    -15.048      0.000        -0.012    -0.009\n",
        "jobs                      0.0116      0.001     14.544      0.000         0.010     0.013\n",
        "==============================================================================\n",
        "Omnibus:                      228.946   Durbin-Watson:                   0.521\n",
        "Prob(Omnibus):                  0.000   Jarque-Bera (JB):              286.675\n",
        "Skew:                           0.533   Prob(JB):                     5.62e-63\n",
        "Kurtosis:                       3.682   Cond. No.                         522.\n",
        "=============================================================================="
       ]
      },
      {
       "output_type": "stream",
       "stream": "stdout",
       "text": [
        "\n"
       ]
      }
     ],
     "prompt_number": 5
    },
    {
     "cell_type": "code",
     "collapsed": false,
     "input": [
      "models.nrh_estimate(dset)"
     ],
     "language": "python",
     "metadata": {},
     "outputs": [
      {
       "output_type": "stream",
       "stream": "stdout",
       "text": [
        "Running hedonic estimation\n",
        "\n",
        "                                  OLS Regression Results                                 \n",
        "=========================================================================================\n",
        "Dep. Variable:     np.log1p(averageweightedrent)   R-squared:                       0.221\n",
        "Model:                                       OLS   Adj. R-squared:                  0.221\n",
        "Method:                            Least Squares   F-statistic:                     407.0\n",
        "Date:                           Sat, 10 May 2014   Prob (F-statistic):               0.00\n",
        "Time:                                   00:09:58   Log-Likelihood:                -4921.2\n",
        "No. Observations:                           7176   AIC:                             9854.\n",
        "Df Residuals:                               7170   BIC:                             9896.\n",
        "Df Model:                                      5                                         \n",
        "================================================================================================\n",
        "                                   coef    std err          t      P>|t|      [95.0% Conf. Int.]\n",
        "------------------------------------------------------------------------------------------------\n",
        "Intercept                        2.0783      0.033     62.350      0.000         2.013     2.144\n",
        "I(year_built < 1940)[T.True]     0.1420      0.014      9.831      0.000         0.114     0.170\n",
        "I(year_built > 2005)[T.True]     0.2474      0.033      7.416      0.000         0.182     0.313\n",
        "np.log1p(stories)                0.5043      0.014     35.676      0.000         0.477     0.532\n",
        "ave_income                       0.0233      0.002     14.297      0.000         0.020     0.027\n",
        "jobs                            -0.0042      0.003     -1.652      0.099        -0.009     0.001\n",
        "==============================================================================\n",
        "Omnibus:                      223.863   Durbin-Watson:                   1.570\n",
        "Prob(Omnibus):                  0.000   Jarque-Bera (JB):              600.198\n",
        "Skew:                           0.039   Prob(JB):                    4.66e-131\n",
        "Kurtosis:                       4.415   Cond. No.                         90.0\n",
        "=============================================================================="
       ]
      },
      {
       "output_type": "stream",
       "stream": "stdout",
       "text": [
        "\n"
       ]
      }
     ],
     "prompt_number": 6
    },
    {
     "cell_type": "code",
     "collapsed": false,
     "input": [
      "models.hlcmo_estimate(dset)"
     ],
     "language": "python",
     "metadata": {},
     "outputs": [
      {
       "output_type": "stream",
       "stream": "stdout",
       "text": [
        "Running location choice model estimation\n",
        "\n",
        "Removing 35 choice situations because chosen alt doesn't exist"
       ]
      },
      {
       "output_type": "stream",
       "stream": "stdout",
       "text": [
        "\n",
        "Null Log-liklihood: -22864.670"
       ]
      },
      {
       "output_type": "stream",
       "stream": "stdout",
       "text": [
        "\n",
        "Log-liklihood at convergence: -22826.305\n",
        "Log-liklihood Ratio: 0.002\n",
        "\n",
        "+-----------------------------------+-------------+------------+---------+\n",
        "| Component                         | Coefficient | Std. Error | T-Score |\n",
        "+-----------------------------------+-------------+------------+---------+\n",
        "| np.log1p(residential_sales_price) |    -0.014   |    0.056   |  -0.243 |\n",
        "| np.log1p(unit_sqft)               |    -0.240   |    0.031   |  -7.647 |\n",
        "| sum_residential_units             |     0.075   |    0.019   |   4.026 |\n",
        "| ave_unit_sqft                     |     0.304   |    0.055   |   5.527 |\n",
        "| ave_lot_sqft                      |    -0.007   |    0.006   |  -1.076 |\n",
        "| ave_income                        |     0.074   |    0.031   |   2.352 |\n",
        "+-----------------------------------+-------------+------------+---------+\n"
       ]
      }
     ],
     "prompt_number": 9
    },
    {
     "cell_type": "code",
     "collapsed": false,
     "input": [
      "models.hlcmr_estimate(dset)"
     ],
     "language": "python",
     "metadata": {},
     "outputs": [
      {
       "output_type": "stream",
       "stream": "stdout",
       "text": [
        "Running location choice model estimation\n",
        "\n",
        "Removing 78 choice situations because chosen alt doesn't exist"
       ]
      },
      {
       "output_type": "stream",
       "stream": "stdout",
       "text": [
        "\n",
        "Null Log-liklihood: -22666.648"
       ]
      },
      {
       "output_type": "stream",
       "stream": "stdout",
       "text": [
        "\n",
        "Log-liklihood at convergence: -19306.200\n",
        "Log-liklihood Ratio: 0.148\n",
        "\n",
        "+----------------------------+-------------+------------+---------+\n",
        "| Component                  | Coefficient | Std. Error | T-Score |\n",
        "+----------------------------+-------------+------------+---------+\n",
        "| np.log1p(residential_rent) |     3.000   |    0.145   |  20.629 |\n",
        "| np.log1p(unit_sqft)        |    -1.030   |    0.018   | -58.700 |\n",
        "| sum_residential_units      |     0.761   |    0.015   |  49.609 |\n",
        "| ave_unit_sqft              |     1.006   |    0.054   |  18.685 |\n",
        "| ave_lot_sqft               |     0.508   |    0.024   |  21.128 |\n",
        "| ave_income                 |    -0.368   |    0.023   | -15.957 |\n",
        "+----------------------------+-------------+------------+---------+\n"
       ]
      }
     ],
     "prompt_number": 10
    },
    {
     "cell_type": "code",
     "collapsed": false,
     "input": [
      "models.elcm_estimate(dset)"
     ],
     "language": "python",
     "metadata": {},
     "outputs": [
      {
       "output_type": "stream",
       "stream": "stdout",
       "text": [
        "Running location choice model estimation\n",
        "\n",
        "Removing 1367 choice situations because chosen alt doesn't exist"
       ]
      },
      {
       "output_type": "stream",
       "stream": "stdout",
       "text": [
        "\n",
        "Null Log-liklihood: -16730.583"
       ]
      },
      {
       "output_type": "stream",
       "stream": "stdout",
       "text": [
        "\n",
        "Log-liklihood at convergence: -14288.447\n",
        "Log-liklihood Ratio: 0.146\n",
        "\n",
        "+--------------------------------+-------------+------------+---------+\n",
        "| Component                      | Coefficient | Std. Error | T-Score |\n",
        "+--------------------------------+-------------+------------+---------+\n",
        "| np.log1p(non_residential_rent) |    -1.018   |    0.085   | -11.917 |\n",
        "| np.log1p(stories)              |     0.497   |    0.036   |  13.774 |\n",
        "| ave_income                     |    -0.041   |    0.004   | -10.592 |\n",
        "| sum_nonresidential_units       |    -0.168   |    0.014   | -11.852 |\n",
        "| jobs                           |     0.963   |    0.044   |  22.091 |\n",
        "+--------------------------------+-------------+------------+---------+\n"
       ]
      }
     ],
     "prompt_number": 11
    },
    {
     "cell_type": "heading",
     "level": 1,
     "metadata": {},
     "source": [
      "Simulation"
     ]
    },
    {
     "cell_type": "heading",
     "level": 3,
     "metadata": {},
     "source": [
      "Hedonics"
     ]
    },
    {
     "cell_type": "code",
     "collapsed": false,
     "input": [
      "models.rsh_simulate(dset)\n",
      "models.rrh_simulate(dset)\n",
      "models.nrh_simulate(dset)"
     ],
     "language": "python",
     "metadata": {},
     "outputs": [
      {
       "output_type": "stream",
       "stream": "stdout",
       "text": [
        "Running hedonic simulation\n",
        "\n",
        "count    1788632.00\n",
        "mean           1.42\n",
        "std            8.83\n",
        "min            0.00\n",
        "25%            0.56\n",
        "50%            0.84\n",
        "75%            1.21\n",
        "max         6266.98\n",
        "dtype: float64"
       ]
      },
      {
       "output_type": "stream",
       "stream": "stdout",
       "text": [
        "\n",
        "Running hedonic simulation\n"
       ]
      },
      {
       "output_type": "stream",
       "stream": "stdout",
       "text": [
        "\n",
        "count    1788632.00\n",
        "mean           2.42\n",
        "std            2.48\n",
        "min            0.27\n",
        "25%            1.62\n",
        "50%            1.79\n",
        "75%            1.98\n",
        "max           14.08\n",
        "dtype: float64"
       ]
      },
      {
       "output_type": "stream",
       "stream": "stdout",
       "text": [
        "\n",
        "Running hedonic simulation\n"
       ]
      },
      {
       "output_type": "stream",
       "stream": "stdout",
       "text": [
        "\n",
        "count    147627.00\n",
        "mean        318.22\n",
        "std         832.99\n",
        "min           1.11\n",
        "25%          36.18\n",
        "50%         124.98\n",
        "75%         300.90\n",
        "max       95297.07\n",
        "dtype: float64"
       ]
      },
      {
       "output_type": "stream",
       "stream": "stdout",
       "text": [
        "\n"
       ]
      }
     ],
     "prompt_number": 8
    },
    {
     "cell_type": "heading",
     "level": 3,
     "metadata": {},
     "source": [
      "Household Location Choice"
     ]
    },
    {
     "cell_type": "code",
     "collapsed": false,
     "input": [
      "models.household_relocation(dset)\n",
      "models.hlcmo_simulate(dset)\n",
      "models.hlcmr_simulate(dset)"
     ],
     "language": "python",
     "metadata": {},
     "outputs": [
      {
       "output_type": "stream",
       "stream": "stdout",
       "text": [
        "Running relocation\n",
        "\n",
        "Total currently unplaced: 130498"
       ]
      },
      {
       "output_type": "stream",
       "stream": "stdout",
       "text": [
        "\n",
        "Total currently unplaced: 254391"
       ]
      },
      {
       "output_type": "stream",
       "stream": "stdout",
       "text": [
        "\n",
        "Running location choice model simulation\n"
       ]
      },
      {
       "output_type": "stream",
       "stream": "stdout",
       "text": [
        "\n",
        "There are 597437.0 empty units in 355478 locations total in the region"
       ]
      },
      {
       "output_type": "stream",
       "stream": "stdout",
       "text": [
        "\n",
        "Assigned 142873 choosers to new units"
       ]
      },
      {
       "output_type": "stream",
       "stream": "stdout",
       "text": [
        "\n",
        "Total currently unplaced: 111518"
       ]
      },
      {
       "output_type": "stream",
       "stream": "stdout",
       "text": [
        "\n",
        "Running location choice model simulation\n"
       ]
      },
      {
       "output_type": "stream",
       "stream": "stdout",
       "text": [
        "\n",
        "There are 454564.0 empty units in 290455 locations total in the region"
       ]
      },
      {
       "output_type": "stream",
       "stream": "stdout",
       "text": [
        "\n",
        "Assigned 111518 choosers to new units"
       ]
      },
      {
       "output_type": "stream",
       "stream": "stdout",
       "text": [
        "\n",
        "Total currently unplaced: 0"
       ]
      },
      {
       "output_type": "stream",
       "stream": "stdout",
       "text": [
        "\n"
       ]
      }
     ],
     "prompt_number": 9
    },
    {
     "cell_type": "heading",
     "level": 3,
     "metadata": {},
     "source": [
      "Employment Location Choice"
     ]
    },
    {
     "cell_type": "code",
     "collapsed": false,
     "input": [
      "models.jobs_relocation(dset)\n",
      "models.elcm_simulate(dset)"
     ],
     "language": "python",
     "metadata": {},
     "outputs": [
      {
       "output_type": "stream",
       "stream": "stdout",
       "text": [
        "Running relocation\n",
        "\n",
        "Total currently unplaced: 0"
       ]
      },
      {
       "output_type": "stream",
       "stream": "stdout",
       "text": [
        "\n",
        "Total currently unplaced: 326867"
       ]
      },
      {
       "output_type": "stream",
       "stream": "stdout",
       "text": [
        "\n",
        "Running location choice model simulation\n"
       ]
      },
      {
       "output_type": "stream",
       "stream": "stdout",
       "text": [
        "\n",
        "There are 3731240 total available units"
       ]
      },
      {
       "output_type": "stream",
       "stream": "stdout",
       "text": [
        "\n",
        "    and 4085844 total choosers\n",
        "    but there are 135087 overfull buildings"
       ]
      },
      {
       "output_type": "stream",
       "stream": "stdout",
       "text": [
        "\n",
        "    for a total of 589451 empty units"
       ]
      },
      {
       "output_type": "stream",
       "stream": "stdout",
       "text": [
        "\n",
        "    in 67974 buildings total in the region\n",
        "Assigned 326867 choosers to new units"
       ]
      },
      {
       "output_type": "stream",
       "stream": "stdout",
       "text": [
        "\n",
        "Total currently unplaced: 0"
       ]
      },
      {
       "output_type": "stream",
       "stream": "stdout",
       "text": [
        "\n"
       ]
      }
     ],
     "prompt_number": 24
    },
    {
     "cell_type": "heading",
     "level": 3,
     "metadata": {},
     "source": [
      "Accessibility Variables"
     ]
    },
    {
     "cell_type": "code",
     "collapsed": false,
     "input": [
      "models.neighborhood_vars(dset)"
     ],
     "language": "python",
     "metadata": {},
     "outputs": [
      {
       "output_type": "stream",
       "stream": "stdout",
       "text": [
        "Adding xys to dataframe: households\n",
        "WARNING: imputing building square feet where it doesn't exist"
       ]
      },
      {
       "output_type": "stream",
       "stream": "stdout",
       "text": [
        "\n",
        "WARNING: imputing lot size where it doesn't exist"
       ]
      },
      {
       "output_type": "stream",
       "stream": "stdout",
       "text": [
        "\n",
        "Adding xys to dataframe: jobs"
       ]
      },
      {
       "output_type": "stream",
       "stream": "stdout",
       "text": [
        "\n",
        "Computing accessibility variables"
       ]
      },
      {
       "output_type": "stream",
       "stream": "stdout",
       "text": [
        "\n",
        "Computing sum_residential_units\n",
        "    dataframe = buildings, varname=residential_units\n",
        "    radius = 500, aggregation = AGG_SUM, decay = DECAY_LINEAR\n",
        "Computing sum_nonresidential_units"
       ]
      },
      {
       "output_type": "stream",
       "stream": "stdout",
       "text": [
        "\n",
        "    dataframe = buildings, varname=non_residential_units\n",
        "    radius = 500, aggregation = AGG_SUM, decay = DECAY_LINEAR\n",
        "Computing ave_unit_sqft"
       ]
      },
      {
       "output_type": "stream",
       "stream": "stdout",
       "text": [
        "\n",
        "    dataframe = buildings, varname=unit_sqft\n",
        "    radius = 500, aggregation = AGG_AVE, decay = DECAY_FLAT\n",
        "Computing ave_lot_sqft"
       ]
      },
      {
       "output_type": "stream",
       "stream": "stdout",
       "text": [
        "\n",
        "    dataframe = buildings, varname=unit_lot_size\n",
        "    radius = 500, aggregation = AGG_AVE, decay = DECAY_FLAT\n",
        "Computing population"
       ]
      },
      {
       "output_type": "stream",
       "stream": "stdout",
       "text": [
        "\n",
        "    dataframe = households, varname=persons\n",
        "    radius = 500, aggregation = AGG_SUM, decay = DECAY_LINEAR\n",
        "Computing population"
       ]
      },
      {
       "output_type": "stream",
       "stream": "stdout",
       "text": [
        "\n",
        "    dataframe = households, varname=persons"
       ]
      },
      {
       "output_type": "stream",
       "stream": "stdout",
       "text": [
        "\n",
        "    radius = 500, aggregation = AGG_SUM, decay = DECAY_LINEAR\n",
        "Computing renters"
       ]
      },
      {
       "output_type": "stream",
       "stream": "stdout",
       "text": [
        "\n",
        "    dataframe = buildings, varname=None"
       ]
      },
      {
       "output_type": "stream",
       "stream": "stdout",
       "text": [
        "\n",
        "    radius = 500, aggregation = AGG_SUM, decay = DECAY_LINEAR\n",
        "Computing sfdu"
       ]
      },
      {
       "output_type": "stream",
       "stream": "stdout",
       "text": [
        "\n",
        "    dataframe = households, varname=None"
       ]
      },
      {
       "output_type": "stream",
       "stream": "stdout",
       "text": [
        "\n",
        "    radius = 500, aggregation = AGG_SUM, decay = DECAY_LINEAR\n",
        "Computing hhsize"
       ]
      },
      {
       "output_type": "stream",
       "stream": "stdout",
       "text": [
        "\n",
        "    dataframe = households, varname=persons\n",
        "    radius = 500, aggregation = AGG_AVE, decay = DECAY_FLAT\n",
        "Computing jobs"
       ]
      },
      {
       "output_type": "stream",
       "stream": "stdout",
       "text": [
        "\n",
        "    dataframe = jobs, varname=emp11\n",
        "    radius = 500, aggregation = AGG_SUM, decay = DECAY_LINEAR\n",
        "Computing ave_income"
       ]
      },
      {
       "output_type": "stream",
       "stream": "stdout",
       "text": [
        "\n",
        "    dataframe = households, varname=income\n",
        "    radius = 500, aggregation = AGG_AVE, decay = DECAY_FLAT\n"
       ]
      }
     ],
     "prompt_number": 4
    },
    {
     "cell_type": "heading",
     "level": 3,
     "metadata": {},
     "source": [
      "Run a full simulation in less than 10 lines of code"
     ]
    },
    {
     "cell_type": "code",
     "collapsed": false,
     "input": [
      "# TODO\n",
      "# find bug in renters / sfdu\n",
      "# segmentation\n",
      "# clean urbansim\n",
      "\n",
      "NUM_YEARS = 1\n",
      "MODEL_LIST = [\n",
      "    \"neighborhood_vars\",      # accessibility variables\n",
      "    \"rsh_simulate\",           # residential sales hedonic\n",
      "    \"rrh_simulate\",           # residenital rent hedonic\n",
      "    \"households_relocation\",  # households relocation model\n",
      "    \"hlcmo_simulate\",         # households location choice (owner)\n",
      "    \"hlcmr_simulate\",         # households location choice (renter)\n",
      "    \"households_transition\",  # households transition\n",
      "    \"nrh_simulate\",           # non-residential rent hedonic\n",
      "    \"jobs_relocation\",        # jobs relocation model\n",
      "    \"elcm_simulate\",          # employment location choice\n",
      "    \"jobs_transition\",        # jobs transition\n",
      "    \"price_vars\",             # compute average price measures\n",
      "    #\"feasibility\",            # compute development feasibility\n",
      "    #\"developer\"               # build actual buildings\n",
      "]\n",
      "import time\n",
      "for i in range(NUM_YEARS):\n",
      "    t1 = time.time()\n",
      "    for model in MODEL_LIST:\n",
      "        t2 = time.time()\n",
      "        print \"\\n\" + model + \"\\n\"\n",
      "        if model == \"feasibility\": feasibility.feasibility_run(dset)\n",
      "        elif model == \"developer\": developer.developer_run(dset)\n",
      "        else: getattr(models, model)(dset)\n",
      "        print \"Model %s executed in %.3fs\" % (model, time.time()-t2)\n",
      "    print \"Year %d completed in %.3fs\" % (i+1, time.time()-t1)"
     ],
     "language": "python",
     "metadata": {},
     "outputs": [
      {
       "output_type": "stream",
       "stream": "stdout",
       "text": [
        "\n",
        "neighborhood_vars\n",
        "\n",
        "Adding xys to dataframe: households\n",
        "Adding xys to dataframe: jobs"
       ]
      },
      {
       "output_type": "stream",
       "stream": "stdout",
       "text": [
        "\n",
        "Computing accessibility variables"
       ]
      },
      {
       "output_type": "stream",
       "stream": "stdout",
       "text": [
        "\n",
        "Computing sum_residential_units\n",
        "    dataframe = buildings, varname=residential_units\n",
        "    radius = 500, aggregation = AGG_SUM, decay = DECAY_LINEAR\n",
        "Computing sum_nonresidential_units"
       ]
      },
      {
       "output_type": "stream",
       "stream": "stdout",
       "text": [
        "\n",
        "    dataframe = buildings, varname=non_residential_units\n",
        "    radius = 500, aggregation = AGG_SUM, decay = DECAY_LINEAR\n",
        "Computing ave_unit_sqft"
       ]
      },
      {
       "output_type": "stream",
       "stream": "stdout",
       "text": [
        "\n",
        "    dataframe = buildings, varname=unit_sqft\n",
        "    radius = 500, aggregation = AGG_AVE, decay = DECAY_FLAT\n",
        "Computing ave_lot_sqft"
       ]
      },
      {
       "output_type": "stream",
       "stream": "stdout",
       "text": [
        "\n",
        "    dataframe = buildings, varname=unit_lot_size\n",
        "    radius = 500, aggregation = AGG_AVE, decay = DECAY_FLAT\n",
        "Computing population"
       ]
      },
      {
       "output_type": "stream",
       "stream": "stdout",
       "text": [
        "\n",
        "    dataframe = households, varname=persons\n",
        "    radius = 500, aggregation = AGG_SUM, decay = DECAY_LINEAR\n",
        "Computing poor"
       ]
      },
      {
       "output_type": "stream",
       "stream": "stdout",
       "text": [
        "\n",
        "    dataframe = households, varname=persons"
       ]
      },
      {
       "output_type": "stream",
       "stream": "stdout",
       "text": [
        "\n",
        "    radius = 500, aggregation = AGG_SUM, decay = DECAY_LINEAR\n",
        "Computing renters"
       ]
      },
      {
       "output_type": "stream",
       "stream": "stdout",
       "text": [
        "\n",
        "    dataframe = buildings, varname=None"
       ]
      },
      {
       "output_type": "stream",
       "stream": "stdout",
       "text": [
        "\n",
        "    radius = 500, aggregation = AGG_SUM, decay = DECAY_LINEAR\n",
        "Computing sfdu"
       ]
      },
      {
       "output_type": "stream",
       "stream": "stdout",
       "text": [
        "\n",
        "    dataframe = households, varname=None"
       ]
      },
      {
       "output_type": "stream",
       "stream": "stdout",
       "text": [
        "\n",
        "    radius = 500, aggregation = AGG_SUM, decay = DECAY_LINEAR\n",
        "Computing hhsize"
       ]
      },
      {
       "output_type": "stream",
       "stream": "stdout",
       "text": [
        "\n",
        "    dataframe = households, varname=persons\n",
        "    radius = 500, aggregation = AGG_AVE, decay = DECAY_FLAT\n",
        "Computing jobs"
       ]
      },
      {
       "output_type": "stream",
       "stream": "stdout",
       "text": [
        "\n",
        "    dataframe = jobs, varname=emp11\n",
        "    radius = 500, aggregation = AGG_SUM, decay = DECAY_LINEAR\n",
        "Computing ave_income"
       ]
      },
      {
       "output_type": "stream",
       "stream": "stdout",
       "text": [
        "\n",
        "    dataframe = households, varname=income\n",
        "    radius = 500, aggregation = AGG_AVE, decay = DECAY_FLAT\n",
        "       sum_residential_units  sum_nonresidential_units  ave_unit_sqft  \\\n",
        "count              226060.00                 226060.00      226060.00   \n",
        "mean                    4.15                      2.79           7.40   \n",
        "std                     1.47                      2.36           1.11   \n",
        "min                     0.00                      0.00           0.00   \n",
        "25%                     3.54                      0.00           7.36   \n",
        "50%                     4.47                      2.85           7.54   \n",
        "75%                     5.07                      4.71           7.77   \n",
        "max                     8.65                     10.45           8.01   \n",
        "\n",
        "       ave_lot_sqft  population       poor  renters    sfdu     hhsize  \\\n",
        "count     226060.00   226060.00  226060.00   226060  226060  226060.00   \n",
        "mean           9.60        4.90       4.90        0       0       2.60   \n",
        "std            2.06        1.79       1.79        0       0       0.79   \n",
        "min            0.00        0.00       0.00        0       0       0.00   \n",
        "25%            8.85        4.38       4.38        0       0       2.38   \n",
        "50%            9.28        5.42       5.42        0       0       2.69   \n",
        "75%           10.21        6.04       6.04        0       0       2.98   \n",
        "max           18.58        8.96       8.96        0       0      19.00   \n",
        "\n",
        "            jobs  ave_income  \n",
        "count  226060.00   226060.00  \n",
        "mean        6.11    82736.23  \n",
        "std         3.23    36726.18  \n",
        "min         0.00        0.00  \n",
        "25%         3.89    62014.36  \n",
        "50%         5.94    81050.25  \n",
        "75%         8.30   102035.70  \n",
        "max        19.19   650000.00  \n",
        "\n",
        "[8 rows x 11 columns]"
       ]
      },
      {
       "output_type": "stream",
       "stream": "stdout",
       "text": [
        "\n",
        "Model neighborhood_vars executed in 52.865s\n",
        "\n",
        "rsh_simulate\n",
        "\n",
        "Running hedonic simulation\n"
       ]
      },
      {
       "output_type": "stream",
       "stream": "stdout",
       "text": [
        "\n",
        "count    1788632.00\n",
        "mean           0.05\n",
        "std            5.13\n",
        "min            0.00\n",
        "25%            0.00\n",
        "50%            0.00\n",
        "75%            0.00\n",
        "max         6266.58\n",
        "dtype: float64"
       ]
      },
      {
       "output_type": "stream",
       "stream": "stdout",
       "text": [
        "\n",
        "Model rsh_simulate executed in 23.100s"
       ]
      },
      {
       "output_type": "stream",
       "stream": "stdout",
       "text": [
        "\n",
        "\n",
        "rrh_simulate\n",
        "\n",
        "Running hedonic simulation\n"
       ]
      },
      {
       "output_type": "stream",
       "stream": "stdout",
       "text": [
        "\n",
        "count    1788632.00\n",
        "mean           1.76\n",
        "std            0.37\n",
        "min            0.27\n",
        "25%            1.61\n",
        "50%            1.78\n",
        "75%            1.93\n",
        "max           10.09\n",
        "dtype: float64"
       ]
      },
      {
       "output_type": "stream",
       "stream": "stdout",
       "text": [
        "\n",
        "Model rrh_simulate executed in 4.915s"
       ]
      },
      {
       "output_type": "stream",
       "stream": "stdout",
       "text": [
        "\n",
        "\n",
        "households_relocation\n",
        "\n",
        "Running relocation\n",
        "\n",
        "Total currently unplaced: 0"
       ]
      },
      {
       "output_type": "stream",
       "stream": "stdout",
       "text": [
        "\n",
        "Total currently unplaced: 136184"
       ]
      },
      {
       "output_type": "stream",
       "stream": "stdout",
       "text": [
        "\n",
        "Model households_relocation executed in 1.337s\n",
        "\n",
        "hlcmo_simulate\n",
        "\n",
        "Running location choice model simulation\n"
       ]
      },
      {
       "output_type": "stream",
       "stream": "stdout",
       "text": [
        "\n",
        "There are 2740841 total available units"
       ]
      },
      {
       "output_type": "stream",
       "stream": "stdout",
       "text": [
        "\n",
        "    and 2723699 total choosers\n",
        "    but there are 226044 overfull buildings"
       ]
      },
      {
       "output_type": "stream",
       "stream": "stdout",
       "text": [
        "\n",
        "    for a total of 443770 empty units"
       ]
      },
      {
       "output_type": "stream",
       "stream": "stdout",
       "text": [
        "\n",
        "    in 283479 buildings total in the region\n",
        "Assigned 76679 choosers to new units"
       ]
      },
      {
       "output_type": "stream",
       "stream": "stdout",
       "text": [
        "\n",
        "Total currently unplaced: 59505"
       ]
      },
      {
       "output_type": "stream",
       "stream": "stdout",
       "text": [
        "\n",
        "Model hlcmo_simulate executed in 14.328s\n",
        "\n",
        "hlcmr_simulate\n",
        "\n",
        "Running location choice model simulation\n"
       ]
      },
      {
       "output_type": "stream",
       "stream": "stdout",
       "text": [
        "\n",
        "There are 2740841 total available units"
       ]
      },
      {
       "output_type": "stream",
       "stream": "stdout",
       "text": [
        "\n",
        "    and 2723699 total choosers\n",
        "    but there are 226044 overfull buildings"
       ]
      },
      {
       "output_type": "stream",
       "stream": "stdout",
       "text": [
        "\n",
        "    for a total of 367091 empty units"
       ]
      },
      {
       "output_type": "stream",
       "stream": "stdout",
       "text": [
        "\n",
        "    in 237893 buildings total in the region\n",
        "Assigned 59505 choosers to new units"
       ]
      },
      {
       "output_type": "stream",
       "stream": "stdout",
       "text": [
        "\n",
        "Total currently unplaced: 0"
       ]
      },
      {
       "output_type": "stream",
       "stream": "stdout",
       "text": [
        "\n",
        "Model hlcmr_simulate executed in 11.359s\n",
        "\n",
        "households_transition\n",
        "\n",
        "2723699 agents before transition\n",
        "2859884 agents after transition"
       ]
      },
      {
       "output_type": "stream",
       "stream": "stdout",
       "text": [
        "\n",
        "Model households_transition executed in 2.345s\n",
        "\n",
        "nrh_simulate\n",
        "\n",
        "Running hedonic simulation\n"
       ]
      },
      {
       "output_type": "stream",
       "stream": "stdout",
       "text": [
        "\n",
        "count     1.48e+05\n",
        "mean      2.89e+01\n",
        "std       2.28e+02\n",
        "min       0.00e+00\n",
        "25%      2.16e-161\n",
        "50%      7.31e-125\n",
        "75%       1.69e-91\n",
        "max       1.62e+04\n",
        "dtype: float64"
       ]
      },
      {
       "output_type": "stream",
       "stream": "stdout",
       "text": [
        "\n",
        "Model nrh_simulate executed in 1.916s"
       ]
      },
      {
       "output_type": "stream",
       "stream": "stdout",
       "text": [
        "\n",
        "\n",
        "jobs_relocation\n",
        "\n",
        "Running relocation\n",
        "\n",
        "Total currently unplaced: 0"
       ]
      },
      {
       "output_type": "stream",
       "stream": "stdout",
       "text": [
        "\n",
        "Total currently unplaced: 343210"
       ]
      },
      {
       "output_type": "stream",
       "stream": "stdout",
       "text": [
        "\n",
        "Model jobs_relocation executed in 1.944s\n",
        "\n",
        "elcm_simulate\n",
        "\n",
        "Running location choice model simulation\n"
       ]
      },
      {
       "output_type": "stream",
       "stream": "stdout",
       "text": [
        "\n",
        "There are 3731240 total available units"
       ]
      },
      {
       "output_type": "stream",
       "stream": "stdout",
       "text": [
        "\n",
        "    and 4290136 total choosers\n",
        "    but there are 272863 overfull buildings"
       ]
      },
      {
       "output_type": "stream",
       "stream": "stdout",
       "text": [
        "\n",
        "    for a total of 2520000 empty units"
       ]
      },
      {
       "output_type": "stream",
       "stream": "stdout",
       "text": [
        "\n",
        "    in 63352 buildings total in the region\n",
        "Assigned 343210 choosers to new units"
       ]
      },
      {
       "output_type": "stream",
       "stream": "stdout",
       "text": [
        "\n",
        "Total currently unplaced: 0"
       ]
      },
      {
       "output_type": "stream",
       "stream": "stdout",
       "text": [
        "\n",
        "Model elcm_simulate executed in 34.712s\n",
        "\n",
        "jobs_transition\n",
        "\n",
        "4290136 agents before transition\n",
        "4504643 agents after transition"
       ]
      },
      {
       "output_type": "stream",
       "stream": "stdout",
       "text": [
        "\n",
        "Model jobs_transition executed in 3.662s\n",
        "\n",
        "price_vars\n",
        "\n",
        "Computing accessibility variables\n",
        "Computing ave_residential_price\n",
        "    dataframe = buildings, varname=residential_sales_price\n",
        "    radius = 1500, aggregation = AGG_AVE, decay = DECAY_FLAT\n",
        "Computing ave_retail_rent"
       ]
      },
      {
       "output_type": "stream",
       "stream": "stdout",
       "text": [
        "\n",
        "    dataframe = buildings, varname=non_residential_rent"
       ]
      },
      {
       "output_type": "stream",
       "stream": "stdout",
       "text": [
        "\n",
        "    radius = 1500, aggregation = AGG_AVE, decay = DECAY_FLAT\n",
        "Computing ave_office_rent"
       ]
      },
      {
       "output_type": "stream",
       "stream": "stdout",
       "text": [
        "\n",
        "    dataframe = buildings, varname=non_residential_rent"
       ]
      },
      {
       "output_type": "stream",
       "stream": "stdout",
       "text": [
        "\n",
        "    radius = 1500, aggregation = AGG_AVE, decay = DECAY_FLAT\n",
        "Computing ave_industrial_rent"
       ]
      },
      {
       "output_type": "stream",
       "stream": "stdout",
       "text": [
        "\n",
        "    dataframe = buildings, varname=non_residential_rent"
       ]
      },
      {
       "output_type": "stream",
       "stream": "stdout",
       "text": [
        "\n",
        "    radius = 1500, aggregation = AGG_AVE, decay = DECAY_FLAT\n",
        "Model price_vars executed in 8.848s"
       ]
      },
      {
       "output_type": "stream",
       "stream": "stdout",
       "text": [
        "\n",
        "\n",
        "feasibility\n",
        "\n",
        "       residential      office      retail  industrial\n",
        "count   2023915.00  2023915.00  2023915.00  2023915.00\n",
        "mean          0.00        6.82        6.82        6.82\n",
        "std           0.43       68.87       68.87       68.87\n",
        "min          -0.00        0.00        0.00        0.00\n",
        "25%           0.00        0.00        0.00        0.00\n",
        "50%          -0.00        0.00        0.00        0.00\n",
        "75%           0.00        0.00        0.00        0.00\n",
        "max         251.42     5213.73     5213.73     5213.73\n",
        "\n",
        "[8 rows x 4 columns]"
       ]
      },
      {
       "output_type": "stream",
       "stream": "stdout",
       "text": [
        "\n",
        "Get zoning:"
       ]
      },
      {
       "output_type": "stream",
       "stream": "stdout",
       "text": [
        " Sat May 10 09:25:15 2014\n",
        "mixedoffice"
       ]
      },
      {
       "output_type": "stream",
       "stream": "stdout",
       "text": [
        " 14\n",
        "mixedoffice"
       ]
      },
      {
       "output_type": "stream",
       "stream": "stdout",
       "text": [
        " Sat May 10 09:25:16 2014\n",
        "sqft cost\n",
        "0.25     19.72\n",
        "0.50     19.72\n",
        "0.75     19.72\n",
        "1.00     21.26\n",
        "1.50     21.61\n",
        "1.80     21.61\n",
        "2.00     23.16\n",
        "3.00     23.16\n",
        "4.00     23.16\n",
        "5.00     25.85\n",
        "7.00     25.85\n",
        "9.00     25.85\n",
        "11.00    29.29\n",
        "Name: even_rent, dtype: float64\n",
        "maxprofit_fars\n"
       ]
      },
      {
       "output_type": "stream",
       "stream": "stdout",
       "text": [
        "3.00    759\n",
        "0.50    517\n",
        "2.00    338\n",
        "0.75    152\n",
        "1.50    123\n",
        "4.00     99\n",
        "1.80     72\n",
        "0.25     29\n",
        "5.00     15\n",
        "1.00      3\n",
        "dtype: int64\n",
        "industrial"
       ]
      },
      {
       "output_type": "stream",
       "stream": "stdout",
       "text": [
        " 7\n",
        "industrial"
       ]
      },
      {
       "output_type": "stream",
       "stream": "stdout",
       "text": [
        " Sat May 10 09:25:39 2014\n",
        "sqft cost\n",
        "0.25     16.67\n",
        "0.50     16.67\n",
        "0.75     16.67\n",
        "1.00     17.60\n",
        "1.50     20.68\n",
        "1.80     20.68\n",
        "2.00     20.68\n",
        "3.00       NaN\n",
        "4.00       NaN\n",
        "5.00       NaN\n",
        "7.00       NaN\n",
        "9.00       NaN\n",
        "11.00      NaN\n",
        "Name: even_rent, dtype: float64\n",
        "maxprofit_fars\n"
       ]
      },
      {
       "output_type": "stream",
       "stream": "stdout",
       "text": [
        "0.25    2555\n",
        "0.50    2244\n",
        "1.50    1893\n",
        "2.00    1873\n",
        "1.00    1305\n",
        "0.75     374\n",
        "1.80     111\n",
        "dtype: int64\n",
        "industrial"
       ]
      },
      {
       "output_type": "stream",
       "stream": "stdout",
       "text": [
        " 8\n",
        "industrial"
       ]
      },
      {
       "output_type": "stream",
       "stream": "stdout",
       "text": [
        " Sat May 10 09:25:54 2014\n",
        "sqft cost\n",
        "0.25     16.67\n",
        "0.50     16.67\n",
        "0.75     16.67\n",
        "1.00     17.60\n",
        "1.50     20.68\n",
        "1.80     20.68\n",
        "2.00     20.68\n",
        "3.00       NaN\n",
        "4.00       NaN\n",
        "5.00       NaN\n",
        "7.00       NaN\n",
        "9.00       NaN\n",
        "11.00      NaN\n",
        "Name: even_rent, dtype: float64\n",
        "maxprofit_fars\n"
       ]
      },
      {
       "output_type": "stream",
       "stream": "stdout",
       "text": [
        "0.25    2157\n",
        "0.50    1807\n",
        "1.50    1777\n",
        "2.00    1116\n",
        "1.00     592\n",
        "0.75     408\n",
        "1.80     110\n",
        "dtype: int64\n",
        "industrial"
       ]
      },
      {
       "output_type": "stream",
       "stream": "stdout",
       "text": [
        " 9\n",
        "industrial"
       ]
      },
      {
       "output_type": "stream",
       "stream": "stdout",
       "text": [
        " Sat May 10 09:26:07 2014\n",
        "sqft cost\n",
        "0.25     16.67\n",
        "0.50     16.67\n",
        "0.75     16.67\n",
        "1.00     17.60\n",
        "1.50     20.68\n",
        "1.80     20.68\n",
        "2.00     20.68\n",
        "3.00       NaN\n",
        "4.00       NaN\n",
        "5.00       NaN\n",
        "7.00       NaN\n",
        "9.00       NaN\n",
        "11.00      NaN\n",
        "Name: even_rent, dtype: float64\n",
        "maxprofit_fars\n"
       ]
      },
      {
       "output_type": "stream",
       "stream": "stdout",
       "text": [
        "1.50    1643\n",
        "0.25    1517\n",
        "0.50    1181\n",
        "2.00     316\n",
        "1.00     247\n",
        "0.75     125\n",
        "1.80     110\n",
        "dtype: int64\n",
        "office"
       ]
      },
      {
       "output_type": "stream",
       "stream": "stdout",
       "text": [
        " 4\n",
        "office"
       ]
      },
      {
       "output_type": "stream",
       "stream": "stdout",
       "text": [
        " Sat May 10 09:26:18 2014\n",
        "sqft cost\n",
        "0.25     19.37\n",
        "0.50     19.37\n",
        "0.75     19.37\n",
        "1.00     20.92\n",
        "1.50     21.09\n",
        "1.80     21.09\n",
        "2.00     22.64\n",
        "3.00     22.64\n",
        "4.00     22.64\n",
        "5.00     25.51\n",
        "7.00     25.51\n",
        "9.00     25.51\n",
        "11.00    28.94\n",
        "Name: even_rent, dtype: float64\n",
        "maxprofit_fars\n"
       ]
      },
      {
       "output_type": "stream",
       "stream": "stdout",
       "text": [
        "1.50    1902\n",
        "0.25    1797\n",
        "0.50    1530\n",
        "1.00    1347\n",
        "3.00    1126\n",
        "4.00     725\n",
        "0.75     667\n",
        "2.00     658\n",
        "1.80     262\n",
        "5.00      16\n",
        "7.00       2\n",
        "dtype: int64\n",
        "residential"
       ]
      },
      {
       "output_type": "stream",
       "stream": "stdout",
       "text": [
        " 1\n",
        "residential"
       ]
      },
      {
       "output_type": "stream",
       "stream": "stdout",
       "text": [
        " Sat May 10 09:26:30 2014\n",
        "sqft cost\n",
        "0.25     20.52\n",
        "0.50     20.52\n",
        "0.75     20.52\n",
        "1.00     22.07\n",
        "1.50     22.81\n",
        "1.80     22.81\n",
        "2.00     24.36\n",
        "3.00     24.36\n",
        "4.00     24.36\n",
        "5.00     26.65\n",
        "7.00     26.65\n",
        "9.00     26.65\n",
        "11.00    30.09\n",
        "Name: even_rent, dtype: float64\n",
        "maxprofit_fars\n"
       ]
      },
      {
       "output_type": "stream",
       "stream": "stdout",
       "text": [
        "0.75    7\n",
        "dtype: int64\n",
        "residential"
       ]
      },
      {
       "output_type": "stream",
       "stream": "stdout",
       "text": [
        " 2\n",
        "residential"
       ]
      },
      {
       "output_type": "stream",
       "stream": "stdout",
       "text": [
        " Sat May 10 09:26:42 2014\n",
        "sqft cost\n",
        "0.25     20.52\n",
        "0.50     20.52\n",
        "0.75     20.52\n",
        "1.00     22.07\n",
        "1.50     22.81\n",
        "1.80     22.81\n",
        "2.00     24.36\n",
        "3.00     24.36\n",
        "4.00     24.36\n",
        "5.00     26.65\n",
        "7.00     26.65\n",
        "9.00     26.65\n",
        "11.00    30.09\n",
        "Name: even_rent, dtype: float64\n",
        "maxprofit_fars\n"
       ]
      },
      {
       "output_type": "stream",
       "stream": "stdout",
       "text": [
        "1    7\n",
        "dtype: int64\n",
        "residential"
       ]
      },
      {
       "output_type": "stream",
       "stream": "stdout",
       "text": [
        " 3\n",
        "residential"
       ]
      },
      {
       "output_type": "stream",
       "stream": "stdout",
       "text": [
        " Sat May 10 09:26:55 2014\n",
        "sqft cost\n",
        "0.25     20.52\n",
        "0.50     20.52\n",
        "0.75     20.52\n",
        "1.00     22.07\n",
        "1.50     22.81\n",
        "1.80     22.81\n",
        "2.00     24.36\n",
        "3.00     24.36\n",
        "4.00     24.36\n",
        "5.00     26.65\n",
        "7.00     26.65\n",
        "9.00     26.65\n",
        "11.00    30.09\n",
        "Name: even_rent, dtype: float64\n",
        "maxprofit_fars\n"
       ]
      },
      {
       "output_type": "stream",
       "stream": "stdout",
       "text": [
        "Series([], dtype: int64)\n",
        "mixedresidential"
       ]
      },
      {
       "output_type": "stream",
       "stream": "stdout",
       "text": [
        " 12\n",
        "mixedresidential"
       ]
      },
      {
       "output_type": "stream",
       "stream": "stdout",
       "text": [
        " Sat May 10 09:27:08 2014\n",
        "sqft cost\n",
        "0.25     20.51\n",
        "0.50     20.51\n",
        "0.75     20.51\n",
        "1.00     22.21\n",
        "1.50     22.74\n",
        "1.80     24.45\n",
        "2.00     24.45\n",
        "3.00     24.45\n",
        "4.00     24.45\n",
        "5.00     26.80\n",
        "7.00     26.80\n",
        "9.00     26.80\n",
        "11.00    30.23\n",
        "Name: even_rent, dtype: float64\n",
        "maxprofit_fars\n"
       ]
      },
      {
       "output_type": "stream",
       "stream": "stdout",
       "text": [
        "0.50    133\n",
        "3.00     75\n",
        "5.00     70\n",
        "0.25     59\n",
        "0.75     33\n",
        "4.00     19\n",
        "1.50     15\n",
        "1.00      1\n",
        "dtype: int64\n",
        "retail"
       ]
      },
      {
       "output_type": "stream",
       "stream": "stdout",
       "text": [
        " 10\n",
        "retail"
       ]
      },
      {
       "output_type": "stream",
       "stream": "stdout",
       "text": [
        " Sat May 10 09:27:22 2014\n",
        "sqft cost\n",
        "0.25     20.40\n",
        "0.50     20.40\n",
        "0.75     22.12\n",
        "1.00     22.12\n",
        "1.50     25.22\n",
        "1.80     25.22\n",
        "2.00     25.22\n",
        "3.00       NaN\n",
        "4.00       NaN\n",
        "5.00       NaN\n",
        "7.00       NaN\n",
        "9.00       NaN\n",
        "11.00      NaN\n",
        "Name: even_rent, dtype: float64\n",
        "maxprofit_fars\n"
       ]
      },
      {
       "output_type": "stream",
       "stream": "stdout",
       "text": [
        "0.50    5446\n",
        "0.25    4001\n",
        "2.00    2354\n",
        "1.00     518\n",
        "1.50     370\n",
        "0.75     191\n",
        "dtype: int64\n",
        "retail"
       ]
      },
      {
       "output_type": "stream",
       "stream": "stdout",
       "text": [
        " 11\n",
        "retail"
       ]
      },
      {
       "output_type": "stream",
       "stream": "stdout",
       "text": [
        " Sat May 10 09:27:35 2014\n",
        "sqft cost\n",
        "0.25     20.40\n",
        "0.50     20.40\n",
        "0.75     22.12\n",
        "1.00     22.12\n",
        "1.50     25.22\n",
        "1.80     25.22\n",
        "2.00     25.22\n",
        "3.00       NaN\n",
        "4.00       NaN\n",
        "5.00       NaN\n",
        "7.00       NaN\n",
        "9.00       NaN\n",
        "11.00      NaN\n",
        "Name: even_rent, dtype: float64\n",
        "maxprofit_fars\n"
       ]
      },
      {
       "output_type": "stream",
       "stream": "stdout",
       "text": [
        "1.50    1422\n",
        "0.50     303\n",
        "1.00     282\n",
        "0.25     177\n",
        "2.00     137\n",
        "0.75     136\n",
        "dtype: int64\n",
        "Feasibility and zoning\n"
       ]
      },
      {
       "output_type": "stream",
       "stream": "stdout",
       "text": [
        "        total_sqft  total_units  year_built  currentrent  parcelsize  \\\n",
        "count   1906847.00   1906847.00  1906847.00   1906847.00    2.02e+06   \n",
        "mean       3694.52         1.54     1989.42         3.49    9.71e+04   \n",
        "std       28752.35         6.49       29.48       707.49    1.53e+06   \n",
        "min           1.00         1.00      199.00        -0.00    3.00e+02   \n",
        "25%        1396.00         1.00     1951.00         0.00    4.44e+03   \n",
        "50%        1864.00         1.00     1960.00        -0.00    6.40e+03   \n",
        "75%        2527.00         1.00     1978.00         0.00    9.91e+03   \n",
        "max    18635010.00       404.00     9770.00    374989.66    1.01e+09   \n",
        "\n",
        "       type14_zonedfar  type14_zonedheight  type14_feasiblefar  type14_profit  \\\n",
        "count       2023915.00          2023915.00           341054.00       3.41e+05   \n",
        "mean              0.08            10019.81                0.01       2.06e+07   \n",
        "std               0.85             1253.11                0.18       8.95e+08   \n",
        "min               0.00               25.00                0.00       0.00e+00   \n",
        "25%               0.00             9999.00                0.00       0.00e+00   \n",
        "50%               0.00             9999.00                0.00       0.00e+00   \n",
        "75%               0.00             9999.00                0.00       0.00e+00   \n",
        "max              20.00             9999.00                5.00       2.20e+11   \n",
        "\n",
        "       type7_zonedfar  type7_zonedheight  type7_feasiblefar  type7_profit  \\\n",
        "count      2023915.00         2023915.00          349185.00      3.49e+05   \n",
        "mean             0.05           10026.36               0.03      3.83e+07   \n",
        "std              0.52            1230.77               0.20      1.02e+09   \n",
        "min              0.00              15.00               0.00      0.00e+00   \n",
        "25%              0.00            9999.00               0.00      0.00e+00   \n",
        "50%              0.00            9999.00               0.00      0.00e+00   \n",
        "75%              0.00            9999.00               0.00      0.00e+00   \n",
        "max             12.00            9999.00               2.00      2.11e+11   \n",
        "\n",
        "       type8_zonedfar  type8_zonedheight  type8_feasiblefar  type8_profit  \\\n",
        "count      2023915.00         2023915.00          346772.00      3.47e+05   \n",
        "mean             0.03           10069.95               0.02      2.03e+07   \n",
        "std              0.39            1049.63               0.17      7.63e+08   \n",
        "min              0.00              15.00               0.00      0.00e+00   \n",
        "25%              0.00            9999.00               0.00      0.00e+00   \n",
        "50%              0.00            9999.00               0.00      0.00e+00   \n",
        "75%              0.00            9999.00               0.00      0.00e+00   \n",
        "max             12.00            9999.00               2.00      2.11e+11   \n",
        "\n",
        "       type9_zonedfar  type9_zonedheight  type9_feasiblefar      \n",
        "count      2023915.00         2023915.00          343980.00 ...  \n",
        "mean             0.01           10141.25               0.01 ...  \n",
        "std              0.14             652.26               0.13 ...  \n",
        "min              0.00              30.00               0.00 ...  \n",
        "25%              0.00            9999.00               0.00 ...  \n",
        "50%              0.00            9999.00               0.00 ...  \n",
        "75%              0.00            9999.00               0.00 ...  \n",
        "max              5.00            9999.00               2.00 ...  \n",
        "\n",
        "[8 rows x 53 columns]\n",
        "Finished developer"
       ]
      },
      {
       "output_type": "stream",
       "stream": "stdout",
       "text": [
        " Sat May 10 09:29:11 2014\n",
        "Model feasibility executed in 256.466s"
       ]
      },
      {
       "output_type": "stream",
       "stream": "stdout",
       "text": [
        "\n",
        "Year 1 completed in 417.802s\n"
       ]
      }
     ],
     "prompt_number": 14
    },
    {
     "cell_type": "code",
     "collapsed": false,
     "input": [
      "developer.developer_run(dset)"
     ],
     "language": "python",
     "metadata": {},
     "outputs": [
      {
       "output_type": "stream",
       "stream": "stdout",
       "text": [
        "Running developer for households\n",
        "Number of agents: 2859884\n",
        "Number of agent spaces: 2937584\n",
        "Current vacancy = 0.03\n",
        "Target vacancy = 0.10, target of new units = 240064\n",
        "Describe of netunits\n"
       ]
      },
      {
       "output_type": "stream",
       "stream": "stdout",
       "text": [
        "       total_sqft  total_units  year_built  currentrent  parcelsize  \\\n",
        "count        1.00            1           1         1.00        1.00   \n",
        "mean      3631.04          745        1960   7303435.39   160111.28   \n",
        "std           NaN          NaN         NaN          NaN         NaN   \n",
        "min       3631.04          745        1960   7303435.39   160111.28   \n",
        "25%       3631.04          745        1960   7303435.39   160111.28   \n",
        "50%       3631.04          745        1960   7303435.39   160111.28   \n",
        "75%       3631.04          745        1960   7303435.39   160111.28   \n",
        "max       3631.04          745        1960   7303435.39   160111.28   \n",
        "\n",
        "       type14_zonedfar  type14_zonedheight  type14_feasiblefar  type14_profit  \\\n",
        "count                1                   1                   0              0   \n",
        "mean                 0                9999                 NaN            NaN   \n",
        "std                NaN                 NaN                 NaN            NaN   \n",
        "min                  0                9999                 NaN            NaN   \n",
        "25%                  0                9999                 NaN            NaN   \n",
        "50%                  0                9999                 NaN            NaN   \n",
        "75%                  0                9999                 NaN            NaN   \n",
        "max                  0                9999                 NaN            NaN   \n",
        "\n",
        "       type7_zonedfar  type7_zonedheight  type7_feasiblefar  type7_profit  \\\n",
        "count               1                  1                  0             0   \n",
        "mean                0               9999                NaN           NaN   \n",
        "std               NaN                NaN                NaN           NaN   \n",
        "min                 0               9999                NaN           NaN   \n",
        "25%                 0               9999                NaN           NaN   \n",
        "50%                 0               9999                NaN           NaN   \n",
        "75%                 0               9999                NaN           NaN   \n",
        "max                 0               9999                NaN           NaN   \n",
        "\n",
        "       type8_zonedfar  type8_zonedheight  type8_feasiblefar  type8_profit  \\\n",
        "count               1                  1                  0             0   \n",
        "mean                0               9999                NaN           NaN   \n",
        "std               NaN                NaN                NaN           NaN   \n",
        "min                 0               9999                NaN           NaN   \n",
        "25%                 0               9999                NaN           NaN   \n",
        "50%                 0               9999                NaN           NaN   \n",
        "75%                 0               9999                NaN           NaN   \n",
        "max                 0               9999                NaN           NaN   \n",
        "\n",
        "       type9_zonedfar  type9_zonedheight  type9_feasiblefar      \n",
        "count               1                  1                  0 ...  \n",
        "mean                0               9999                NaN ...  \n",
        "std               NaN                NaN                NaN ...  \n",
        "min                 0               9999                NaN ...  \n",
        "25%                 0               9999                NaN ...  \n",
        "50%                 0               9999                NaN ...  \n",
        "75%                 0               9999                NaN ...  \n",
        "max                 0               9999                NaN ...  \n",
        "\n",
        "[8 rows x 59 columns]\n",
        "Describe of buildings built\n",
        "count      1\n",
        "mean     745\n",
        "std      NaN\n",
        "min      745\n",
        "25%      745\n",
        "50%      745\n",
        "75%      745\n",
        "max      745\n",
        "Name: total_units, dtype: float64\n",
        "Describe of profit\n",
        "count    1.00e+00\n",
        "mean     3.25e+08\n",
        "std           NaN\n",
        "min      3.25e+08\n",
        "25%      3.25e+08\n",
        "50%      3.25e+08\n",
        "75%      3.25e+08\n",
        "max      3.25e+08\n",
        "Name: max_profit, dtype: float64\n",
        "Buildings by type\n",
        "2    1\n",
        "dtype: int64\n",
        "Units by type\n",
        "max_btype\n",
        "2           -621\n",
        "Name: netunits, dtype: float64\n",
        "         _node_id   _node_id0   _node_id1   _node_id2    building  \\\n",
        "count  1936265.00  1936259.00  1936259.00  1936259.00  1936259.00   \n",
        "mean    125133.49   104278.01     5470.79   109141.12  1002345.77   \n",
        "std      87847.45    61213.68     3739.26    65450.02   571989.14   \n",
        "min          8.00        0.00        0.00        0.00        1.00   \n",
        "25%      57453.00    51332.00     1675.00    53283.00   509449.50   \n",
        "50%     119191.00   109814.00     5358.00   112322.00  1009980.00   \n",
        "75%     167924.00   154965.00     8422.00   159698.00  1495141.50   \n",
        "max     354693.00   226056.00    11998.00   252966.00  2110122.00   \n",
        "\n",
        "       building_sqft  building_type_id  currentrent          id  industrial  \\\n",
        "count     1936265.00        1918646.00         6.00  1936259.00           6   \n",
        "mean         3626.41              1.66   7303435.39  1004449.24           0   \n",
        "std         25999.06              1.83         0.11   575130.07           0   \n",
        "min             1.00              0.00   7303435.39       11.00           0   \n",
        "25%          1400.00              1.00   7303435.39   510733.50           0   \n",
        "50%          1871.00              1.00   7303435.39  1011264.00           0   \n",
        "75%          2527.00              1.00   7303435.39  1496522.50           0   \n",
        "max       9317505.00             16.00   7303435.39  3345320.00           0   \n",
        "\n",
        "       lot_size  max_btype  max_feasiblefar  max_profit  netunits    newsqft  \\\n",
        "count  1.94e+06          6                6    6.00e+00      6.00       6.00   \n",
        "mean   5.94e+04          2                1    3.25e+08   -187.00  160111.28   \n",
        "std    1.09e+06          0                0    7.16e+00    231.98       0.00   \n",
        "min    1.88e-04          2                1    3.25e+08   -497.00  160111.28   \n",
        "25%    4.46e+03          2                1    3.25e+08   -342.00  160111.28   \n",
        "50%    6.36e+03          2                1    3.25e+08   -187.00  160111.28   \n",
        "75%    9.55e+03          2                1    3.25e+08    -32.00  160111.28   \n",
        "max    5.53e+08          2                1    3.25e+08    123.00  160111.28   \n",
        "\n",
        "       newunits  non_residential_rent  non_residential_units  office      \n",
        "count         6              1.48e+05             1936265.00       6 ...  \n",
        "mean        124              2.89e+01                   1.93       0 ...  \n",
        "std           0              2.28e+02                  32.83       0 ...  \n",
        "min         124              0.00e+00                   0.00       0 ...  \n",
        "25%         124             2.16e-161                   0.00       0 ...  \n",
        "50%         124             7.31e-125                   0.00       0 ...  \n",
        "75%         124              1.69e-91                   0.00       0 ...  \n",
        "max         124              1.62e+04               17021.00       0 ...  \n",
        "\n",
        "[8 rows x 84 columns]"
       ]
      },
      {
       "output_type": "stream",
       "stream": "stdout",
       "text": [
        "\n",
        "         _node_id   _node_id0   _node_id1   _node_id2    building  \\\n",
        "count  1936266.00  1936259.00  1936259.00  1936259.00  1936259.00   \n",
        "mean    125133.48   104278.01     5470.79   109141.12  1002345.77   \n",
        "std      87847.43    61213.68     3739.26    65450.02   571989.14   \n",
        "min          8.00        0.00        0.00        0.00        1.00   \n",
        "25%      57453.00    51332.00     1675.00    53283.00   509449.50   \n",
        "50%     119191.00   109814.00     5358.00   112322.00  1009980.00   \n",
        "75%     167924.00   154965.00     8422.00   159698.00  1495141.50   \n",
        "max     354693.00   226056.00    11998.00   252966.00  2110122.00   \n",
        "\n",
        "       building_sqft  building_type_id  currentrent          id  industrial  \\\n",
        "count     1936266.00        1918647.00         7.00  1936259.00           7   \n",
        "mean         3626.49              1.66   7303435.39  1004449.24           0   \n",
        "std         25999.29              1.83         0.10   575130.07           0   \n",
        "min             1.00              0.00   7303435.39       11.00           0   \n",
        "25%          1400.00              1.00   7303435.39   510733.50           0   \n",
        "50%          1871.00              1.00   7303435.39  1011264.00           0   \n",
        "75%          2527.00              1.00   7303435.39  1496522.50           0   \n",
        "max       9317505.00             16.00   7303435.39  3345320.00           0   \n",
        "\n",
        "       lot_size  max_btype  max_feasiblefar  max_profit  netunits    newsqft  \\\n",
        "count  1.94e+06          7                7    7.00e+00      7.00       7.00   \n",
        "mean   5.94e+04          2                1    3.25e+08   -249.00  160111.28   \n",
        "std    1.09e+06          0                0    8.00e+00    267.87       0.00   \n",
        "min    1.88e-04          2                1    3.25e+08   -621.00  160111.28   \n",
        "25%    4.46e+03          2                1    3.25e+08   -435.00  160111.28   \n",
        "50%    6.36e+03          2                1    3.25e+08   -249.00  160111.28   \n",
        "75%    9.55e+03          2                1    3.25e+08    -63.00  160111.28   \n",
        "max    5.53e+08          2                1    3.25e+08    123.00  160111.28   \n",
        "\n",
        "       newunits  non_residential_rent  non_residential_units  office      \n",
        "count         7              1.48e+05             1936266.00       7 ...  \n",
        "mean        124              2.89e+01                   1.93       0 ...  \n",
        "std           0              2.28e+02                  32.83       0 ...  \n",
        "min         124              0.00e+00                   0.00       0 ...  \n",
        "25%         124             2.16e-161                   0.00       0 ...  \n",
        "50%         124             7.31e-125                   0.00       0 ...  \n",
        "75%         124              1.69e-91                   0.00       0 ...  \n",
        "max         124              1.62e+04               17021.00       0 ...  \n",
        "\n",
        "[8 rows x 84 columns]"
       ]
      },
      {
       "output_type": "stream",
       "stream": "stdout",
       "text": [
        "\n",
        "Running developer for jobs"
       ]
      },
      {
       "output_type": "stream",
       "stream": "stdout",
       "text": [
        "\n",
        "Number of agents: 4504643\n",
        "Number of agent spaces: 3735985\n",
        "Current vacancy = -0.21\n",
        "Target vacancy = 0.10, target of new units = 1269173\n",
        "Describe of netunits\n"
       ]
      },
      {
       "output_type": "stream",
       "stream": "stdout",
       "text": [
        "       total_sqft  total_units  year_built  currentrent  parcelsize  \\\n",
        "count    19086.00     19086.00    19086.00     19086.00    19086.00   \n",
        "mean     12899.19        17.96     1973.88      1005.28    31668.63   \n",
        "std      29354.43        52.39       15.18     24940.30    44165.73   \n",
        "min          1.00         0.00     1945.00        -0.00      300.00   \n",
        "25%       1613.00         0.00     1960.00         0.00     4882.66   \n",
        "50%       2865.00         0.00     1970.00        -0.00     8134.61   \n",
        "75%      11677.50        16.00     1984.00         0.00    42482.51   \n",
        "max    1061613.00      1420.00     2010.00   1539030.12   199982.74   \n",
        "\n",
        "       type14_zonedfar  type14_zonedheight  type14_feasiblefar  type14_profit  \\\n",
        "count         19086.00            19086.00             1647.00       1.65e+03   \n",
        "mean              0.50             9203.68                1.92       1.16e+09   \n",
        "std               2.11             2699.74                1.17       2.75e+09   \n",
        "min               0.00               30.00                0.25       1.08e+04   \n",
        "25%               0.00             9999.00                0.50       7.47e+06   \n",
        "50%               0.00             9999.00                2.00       6.75e+07   \n",
        "75%               0.00             9999.00                3.00       5.41e+08   \n",
        "max              12.00             9999.00                5.00       3.33e+10   \n",
        "\n",
        "       type7_zonedfar  type7_zonedheight  type7_feasiblefar  type7_profit  \\\n",
        "count        19086.00           19086.00            8682.00      8.68e+03   \n",
        "mean             0.87            7181.42               0.96      4.53e+08   \n",
        "std              2.13            4482.97               0.65      1.37e+09   \n",
        "min              0.00              25.00               0.25      2.99e+01   \n",
        "25%              0.00              75.00               0.25      6.49e+06   \n",
        "50%              0.00            9999.00               0.75      3.76e+07   \n",
        "75%              0.70            9999.00               1.50      2.37e+08   \n",
        "max             12.00            9999.00               2.00      3.18e+10   \n",
        "\n",
        "       type8_zonedfar  type8_zonedheight  type8_feasiblefar  type8_profit  \\\n",
        "count        19086.00           19086.00            6704.00      6.70e+03   \n",
        "mean             0.49            7628.35               0.93      3.48e+08   \n",
        "std              1.21            4236.50               0.65      1.10e+09   \n",
        "min              0.00              25.00               0.25      1.53e+02   \n",
        "25%              0.00            9999.00               0.25      6.03e+06   \n",
        "50%              0.00            9999.00               0.50      3.06e+07   \n",
        "75%              0.50            9999.00               1.50      1.66e+08   \n",
        "max             12.00            9999.00               2.00      1.31e+10   \n",
        "\n",
        "       type9_zonedfar  type9_zonedheight  type9_feasiblefar      \n",
        "count        19086.00           19086.00            4317.00 ...  \n",
        "mean             0.23            8660.52               0.88 ...  \n",
        "std              0.52            3392.12               0.61 ...  \n",
        "min              0.00              30.00               0.25 ...  \n",
        "25%              0.00            9999.00               0.25 ...  \n",
        "50%              0.00            9999.00               0.50 ...  \n",
        "75%              0.00            9999.00               1.50 ...  \n",
        "max              3.00            9999.00               2.00 ...  \n",
        "\n",
        "[8 rows x 59 columns]\n",
        "Describe of buildings built\n",
        "count    2904.00\n",
        "mean       51.82\n",
        "std        92.59\n",
        "min         0.00\n",
        "25%         6.00\n",
        "50%        29.00\n",
        "75%        65.00\n",
        "max      1420.00\n",
        "Name: total_units, dtype: float64\n",
        "Describe of profit\n",
        "count    2.90e+03\n",
        "mean     1.62e+09\n",
        "std      2.91e+09\n",
        "min      1.02e+06\n",
        "25%      1.77e+08\n",
        "50%      5.69e+08\n",
        "75%      1.53e+09\n",
        "max      3.33e+10\n",
        "Name: max_profit, dtype: float64\n",
        "Buildings by type\n",
        "7     1895\n",
        "4      668\n",
        "10     118\n",
        "14     106\n",
        "8       57\n",
        "9       55\n",
        "12       5\n",
        "dtype: int64\n",
        "Units by type\n",
        "max_btype\n",
        "7            665253\n",
        "4            439394\n",
        "14           105438\n",
        "8             38661\n",
        "10            10241\n",
        "12             7308\n",
        "9              2830\n",
        "Name: netunits, dtype: float64\n",
        "         _node_id   _node_id0   _node_id1   _node_id2    building  \\\n",
        "count  1936266.00  1936259.00  1936259.00  1936259.00  1936259.00   \n",
        "mean    125133.48   104278.01     5470.79   109141.12  1002345.77   \n",
        "std      87847.43    61213.68     3739.26    65450.02   571989.14   \n",
        "min          8.00        0.00        0.00        0.00        1.00   \n",
        "25%      57453.00    51332.00     1675.00    53283.00   509449.50   \n",
        "50%     119191.00   109814.00     5358.00   112322.00  1009980.00   \n",
        "75%     167924.00   154965.00     8422.00   159698.00  1495141.50   \n",
        "max     354693.00   226056.00    11998.00   252966.00  2110122.00   \n",
        "\n",
        "       building_sqft  building_type_id  currentrent          id  industrial  \\\n",
        "count     1936266.00        1918647.00         7.00  1936259.00           7   \n",
        "mean         3626.49              1.66   7303435.39  1004449.24           0   \n",
        "std         25999.29              1.83         0.10   575130.07           0   \n",
        "min             1.00              0.00   7303435.39       11.00           0   \n",
        "25%          1400.00              1.00   7303435.39   510733.50           0   \n",
        "50%          1871.00              1.00   7303435.39  1011264.00           0   \n",
        "75%          2527.00              1.00   7303435.39  1496522.50           0   \n",
        "max       9317505.00             16.00   7303435.39  3345320.00           0   \n",
        "\n",
        "       lot_size  max_btype  max_feasiblefar  max_profit  netunits    newsqft  \\\n",
        "count  1.94e+06          7                7    7.00e+00      7.00       7.00   \n",
        "mean   5.94e+04          2                1    3.25e+08   -249.00  160111.28   \n",
        "std    1.09e+06          0                0    8.00e+00    267.87       0.00   \n",
        "min    1.88e-04          2                1    3.25e+08   -621.00  160111.28   \n",
        "25%    4.46e+03          2                1    3.25e+08   -435.00  160111.28   \n",
        "50%    6.36e+03          2                1    3.25e+08   -249.00  160111.28   \n",
        "75%    9.55e+03          2                1    3.25e+08    -63.00  160111.28   \n",
        "max    5.53e+08          2                1    3.25e+08    123.00  160111.28   \n",
        "\n",
        "       newunits  non_residential_rent  non_residential_units  office      \n",
        "count         7              1.48e+05             1936266.00       7 ...  \n",
        "mean        124              2.89e+01                   1.93       0 ...  \n",
        "std           0              2.28e+02                  32.83       0 ...  \n",
        "min         124              0.00e+00                   0.00       0 ...  \n",
        "25%         124             2.16e-161                   0.00       0 ...  \n",
        "50%         124             7.31e-125                   0.00       0 ...  \n",
        "75%         124              1.69e-91                   0.00       0 ...  \n",
        "max         124              1.62e+04               17021.00       0 ...  \n",
        "\n",
        "[8 rows x 84 columns]"
       ]
      },
      {
       "output_type": "stream",
       "stream": "stdout",
       "text": [
        "\n",
        "         _node_id   _node_id0   _node_id1   _node_id2    building  \\\n",
        "count  1939170.00  1936259.00  1936259.00  1936259.00  1936259.00   \n",
        "mean    125168.34   104278.01     5470.79   109141.12  1002345.77   \n",
        "std      87900.76    61213.68     3739.26    65450.02   571989.14   \n",
        "min          8.00        0.00        0.00        0.00        1.00   \n",
        "25%      57420.00    51332.00     1675.00    53283.00   509449.50   \n",
        "50%     119219.00   109814.00     5358.00   112322.00  1009980.00   \n",
        "75%     167973.00   154965.00     8422.00   159698.00  1495141.50   \n",
        "max     354693.00   226056.00    11998.00   252966.00  2110122.00   \n",
        "\n",
        "       building_sqft  building_type_id  currentrent          id  industrial  \\\n",
        "count     1939170.00        1921551.00      2911.00  1936259.00     2911.00   \n",
        "mean         3803.89              1.67     22295.90  1004449.24      636.40   \n",
        "std         26839.69              1.84    362116.17   575130.07      519.94   \n",
        "min             1.00              0.00        -0.00       11.00        0.00   \n",
        "25%          1400.00              1.00         0.00   510733.50      220.99   \n",
        "50%          1874.00              1.00        -0.00  1011264.00      507.52   \n",
        "75%          2527.00              1.00         0.00  1496522.50      958.89   \n",
        "max       9317505.00             16.00   7303435.39  3345320.00     5213.73   \n",
        "\n",
        "       lot_size  max_btype  max_feasiblefar  max_profit  netunits    newsqft  \\\n",
        "count  1.94e+06    2911.00          2911.00    2.91e+03   2911.00    2911.00   \n",
        "mean   5.95e+04       6.74             1.59    1.62e+09    435.38  122178.29   \n",
        "std    1.09e+06       2.09             1.05    2.91e+09    494.51  127616.80   \n",
        "min    1.88e-04       2.00             0.25    1.02e+06  -1197.00     164.12   \n",
        "25%    4.46e+03       7.00             1.00    1.78e+08     95.00   33122.51   \n",
        "50%    6.36e+03       7.00             1.50    5.62e+08    267.00   78835.88   \n",
        "75%    9.57e+03       7.00             2.00    1.52e+09    622.50  170599.76   \n",
        "max    5.53e+08      14.00             5.00    3.33e+10   3151.00  799930.95   \n",
        "\n",
        "       newunits  non_residential_rent  non_residential_units   office      \n",
        "count   2911.00              1.48e+05             1939170.00  2911.00 ...  \n",
        "mean     487.97              2.89e+01                   2.66   636.40 ...  \n",
        "std      510.72              2.28e+02                  42.68   519.94 ...  \n",
        "min        1.00              0.00e+00                   0.00     0.00 ...  \n",
        "25%      132.00             2.16e-161                   0.00   220.99 ...  \n",
        "50%      314.00             7.31e-125                   0.00   507.52 ...  \n",
        "75%      683.00              1.69e-91                   0.00   958.89 ...  \n",
        "max     3200.00              1.62e+04               17021.00  5213.73 ...  \n",
        "\n",
        "[8 rows x 84 columns]"
       ]
      },
      {
       "output_type": "stream",
       "stream": "stdout",
       "text": [
        "\n"
       ]
      }
     ],
     "prompt_number": 41
    },
    {
     "cell_type": "code",
     "collapsed": false,
     "input": [],
     "language": "python",
     "metadata": {},
     "outputs": []
    }
   ],
   "metadata": {}
  }
 ]
}