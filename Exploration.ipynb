{
 "metadata": {
  "name": "",
  "signature": "sha256:1b3066966f3ca284c67d25fe13dd91d385caceef52026690b9fa80a90a60361c"
 },
 "nbformat": 3,
 "nbformat_minor": 0,
 "worksheets": [
  {
   "cells": [
    {
     "cell_type": "code",
     "collapsed": false,
     "input": [
      "%load_ext autoreload\n",
      "%autoreload 2\n",
      "import models\n",
      "import urbansim.sim.simulation as sim"
     ],
     "language": "python",
     "metadata": {},
     "outputs": [],
     "prompt_number": 1
    },
    {
     "cell_type": "code",
     "collapsed": false,
     "input": [
      "d = {}\n",
      "for tbl in ['buildings', 'jobs', 'households']:\n",
      "    print \"Generating %s\" % tbl\n",
      "    d[tbl] = sim.get_table(tbl).to_frame()"
     ],
     "language": "python",
     "metadata": {},
     "outputs": [
      {
       "output_type": "stream",
       "stream": "stdout",
       "text": [
        "Generating buildings\n",
        "Generating jobs"
       ]
      },
      {
       "output_type": "stream",
       "stream": "stdout",
       "text": [
        "\n",
        "Generating households"
       ]
      },
      {
       "output_type": "stream",
       "stream": "stdout",
       "text": [
        "\n"
       ]
      }
     ],
     "prompt_number": 2
    },
    {
     "cell_type": "code",
     "collapsed": false,
     "input": [
      "from usui import dset_explorer\n",
      "dset_explorer.start(d, \n",
      "        center=[37.7792, -122.2191],\n",
      "        zoom=11,\n",
      "        shape_json='data/zones.json',\n",
      "        geom_name='ZONE_ID', # from JSON file\n",
      "        join_name='zone_id', # from data frames\n",
      "        precision=2)"
     ],
     "language": "python",
     "metadata": {},
     "outputs": [
      {
       "output_type": "stream",
       "stream": "stderr",
       "text": [
        "Bottle v0.12.7 server starting up (using WSGIRefServer())...\n",
        "Listening on http://localhost:8765/\n",
        "Hit Ctrl-C to quit.\n",
        "\n",
        "127.0.0.1 - - [20/Jul/2014 00:38:38] \"GET / HTTP/1.1\" 200 27880\n"
       ]
      },
      {
       "output_type": "stream",
       "stream": "stderr",
       "text": [
        "127.0.0.1 - - [20/Jul/2014 00:38:39] \"GET /data/zones.json HTTP/1.1\" 200 7389418\n",
        "127.0.0.1 - - [20/Jul/2014 00:38:41] \"GET /favicon.ico HTTP/1.1\" 404 742\n"
       ]
      },
      {
       "output_type": "stream",
       "stream": "stdout",
       "text": [
        "184    2864\n",
        "131    2751\n",
        "186    2531\n",
        "168    2523\n",
        "169    2436\n",
        "185    2435\n",
        "179    2284\n",
        "177    2195\n",
        "183    2179\n",
        "138    2144\n",
        "134    2096\n",
        "170    2035\n",
        "166    2033\n",
        "133    1979\n",
        "182    1970\n",
        "...\n",
        "2      82\n",
        "76     77\n",
        "3      70\n",
        "189    68\n",
        "13     68\n",
        "4      56\n",
        "56     43\n",
        "1      43\n",
        "22     42\n",
        "14     36\n",
        "188    36\n",
        "15     28\n",
        "52     27\n",
        "53      4\n",
        "42      2\n",
        "Length: 190, dtype: int64\n",
        "df.groupby('zone_id')['parcel_id'].mean()\n",
        "184    2864\n",
        "131    2751\n",
        "186    2531\n",
        "168    2523\n",
        "169    2436\n",
        "185    2435\n",
        "179    2284\n",
        "177    2195\n",
        "183    2179\n",
        "138    2144\n",
        "134    2096\n",
        "170    2035\n",
        "166    2033\n",
        "133    1979\n",
        "182    1970\n",
        "...\n",
        "2      82\n",
        "76     77\n",
        "3      70\n",
        "189    68\n",
        "13     68\n",
        "4      56\n",
        "56     43\n",
        "1      43\n",
        "22     42\n",
        "14     36\n",
        "188    36\n",
        "15     28\n",
        "52     27\n",
        "53      4\n",
        "42      2\n",
        "Length: 190, dtype: int64"
       ]
      },
      {
       "output_type": "stream",
       "stream": "stderr",
       "text": [
        "127.0.0.1 - - [20/Jul/2014 00:38:44] \"GET /map_query/buildings/empty/zone_id/parcel_id/mean() HTTP/1.1\" 200 4846\n",
        "127.0.0.1 - - [20/Jul/2014 00:38:51] \"GET /map_query/buildings/empty/zone_id/residential_units/mean() HTTP/1.1\" 200 4835\n"
       ]
      }
     ]
    },
    {
     "cell_type": "code",
     "collapsed": false,
     "input": [],
     "language": "python",
     "metadata": {},
     "outputs": []
    }
   ],
   "metadata": {}
  }
 ]
}