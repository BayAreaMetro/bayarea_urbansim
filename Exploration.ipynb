{
 "metadata": {
  "name": "",
  "signature": "sha256:cc10be8a7a1a229869077258a5647c6e746edf233738e97c8e9ce6e69fac4ced"
 },
 "nbformat": 3,
 "nbformat_minor": 0,
 "worksheets": [
  {
   "cells": [
    {
     "cell_type": "code",
     "collapsed": false,
     "input": [
      "%load_ext autoreload\n",
      "%autoreload 2\n",
      "import models\n",
      "import dataset"
     ],
     "language": "python",
     "metadata": {},
     "outputs": [],
     "prompt_number": 1
    },
    {
     "cell_type": "code",
     "collapsed": false,
     "input": [
      "dset = dataset.BayAreaDataset(\"data/bayarea.h5\")"
     ],
     "language": "python",
     "metadata": {},
     "outputs": [],
     "prompt_number": 2
    },
    {
     "cell_type": "code",
     "collapsed": false,
     "input": [
      "grouped = dset.parcels.groupby('zone_id')\n",
      "df = grouped.x.mean()\n",
      "df2 = df.order(ascending=True).head(10)\n",
      "df2.to_csv('output.csv')\n",
      "print df2"
     ],
     "language": "python",
     "metadata": {},
     "outputs": [
      {
       "output_type": "stream",
       "stream": "stdout",
       "text": [
        "Fetching parcels\n",
        "zone_id\n",
        "1403       477401.28125\n",
        "1402       497833.50000\n",
        "1390       498384.65625\n",
        "1391       500060.06250\n",
        "1389       501382.96875\n",
        "1400       506462.50000\n",
        "1392       507691.43750\n",
        "1393       508580.40625\n",
        "1383       510215.81250\n",
        "1401       511014.65625\n",
        "Name: x, dtype: float32"
       ]
      },
      {
       "output_type": "stream",
       "stream": "stdout",
       "text": [
        "\n"
       ]
      }
     ],
     "prompt_number": 3
    },
    {
     "cell_type": "code",
     "collapsed": false,
     "input": [
      "rsh_debug = models.rsh_estimate(dset)"
     ],
     "language": "python",
     "metadata": {},
     "outputs": [
      {
       "output_type": "stream",
       "stream": "stdout",
       "text": [
        "Fetching homesales\n",
        "Fetching nodes"
       ]
      },
      {
       "output_type": "stream",
       "stream": "stdout",
       "text": [
        "\n",
        "WARNING: fetching precomputed nodes off of disk\n",
        "Running hedonic estimation\n"
       ]
      },
      {
       "output_type": "stream",
       "stream": "stdout",
       "text": [
        "\n",
        "                               OLS Regression Results                               \n",
        "====================================================================================\n",
        "Dep. Variable:     np.log1p(sale_price_flt)   R-squared:                       0.213\n",
        "Model:                                  OLS   Adj. R-squared:                  0.213\n",
        "Method:                       Least Squares   F-statistic:                     6571.\n",
        "Date:                      Fri, 11 Jul 2014   Prob (F-statistic):               0.00\n",
        "Time:                              11:21:23   Log-Likelihood:            -1.4445e+05\n",
        "No. Observations:                    194222   AIC:                         2.889e+05\n",
        "Df Residuals:                        194213   BIC:                         2.890e+05\n",
        "Df Model:                                 8                                         \n",
        "================================================================================================\n",
        "                                   coef    std err          t      P>|t|      [95.0% Conf. Int.]\n",
        "------------------------------------------------------------------------------------------------\n",
        "Intercept                        3.9578      0.038    104.309      0.000         3.883     4.032\n",
        "I(year_built < 1940)[T.True]     0.2483      0.004     64.351      0.000         0.241     0.256\n",
        "I(year_built > 2005)[T.True]     0.0455      0.007      6.983      0.000         0.033     0.058\n",
        "np.log1p(unit_sqft)             -0.2489      0.003    -77.082      0.000        -0.255    -0.243\n",
        "np.log1p(unit_lot_size)          0.0843      0.002     55.418      0.000         0.081     0.087\n",
        "sum_residential_units           -0.0576      0.002    -32.628      0.000        -0.061    -0.054\n",
        "ave_unit_sqft                   -0.2915      0.004    -70.019      0.000        -0.300    -0.283\n",
        "ave_lot_sqft                    -0.0375      0.001    -69.868      0.000        -0.039    -0.036\n",
        "ave_income                       0.4815      0.003    192.315      0.000         0.477     0.486\n",
        "==============================================================================\n",
        "Omnibus:                    42344.857   Durbin-Watson:                   0.592\n",
        "Prob(Omnibus):                  0.000   Jarque-Bera (JB):           516302.770\n",
        "Skew:                           0.704   Prob(JB):                         0.00\n",
        "Kurtosis:                      10.862   Cond. No.                         668.\n",
        "=============================================================================="
       ]
      },
      {
       "output_type": "stream",
       "stream": "stdout",
       "text": [
        "\n"
       ]
      }
     ],
     "prompt_number": 4
    },
    {
     "cell_type": "code",
     "collapsed": false,
     "input": [
      "rsh_debug['est_data'][\"zone_id\"] = dset.view(\"homesales\").zone_id"
     ],
     "language": "python",
     "metadata": {},
     "outputs": []
    },
    {
     "cell_type": "code",
     "collapsed": false,
     "input": [
      "from usui import dset_explorer\n",
      "dset_explorer.start(rsh_debug, \n",
      "        center=[37.7792, -122.2191],\n",
      "        zoom=11,\n",
      "        shape_json='data/zones.json',\n",
      "        geom_name='ZONE_ID', # from JSON file\n",
      "        join_name='zone_id', # from data frames\n",
      "        precision=2)"
     ],
     "language": "python",
     "metadata": {},
     "outputs": [
      {
       "output_type": "stream",
       "stream": "stderr",
       "text": [
        "Bottle v0.12.7 server starting up (using WSGIRefServer())...\n",
        "Listening on http://localhost:8765/\n",
        "Hit Ctrl-C to quit.\n",
        "\n",
        "127.0.0.1 - - [11/Jul/2014 11:21:29] \"GET / HTTP/1.1\" 200 27555\n"
       ]
      },
      {
       "output_type": "stream",
       "stream": "stderr",
       "text": [
        "127.0.0.1 - - [11/Jul/2014 11:21:45] \"GET /data/zones.json HTTP/1.1\" 200 7389418\n",
        "127.0.0.1 - - [11/Jul/2014 11:21:46] \"GET / HTTP/1.1\" 200 27555\n"
       ]
      },
      {
       "output_type": "stream",
       "stream": "stderr",
       "text": [
        "127.0.0.1 - - [11/Jul/2014 11:21:47] \"GET /data/zones.json HTTP/1.1\" 304 0\n",
        "127.0.0.1 - - [11/Jul/2014 11:22:09] \"GET /map_query/est_data/empty/zone_id/ave_income/mean() HTTP/1.1\" 200 37335\n"
       ]
      },
      {
       "output_type": "stream",
       "stream": "stdout",
       "text": [
        "1178    2631\n",
        "1176    1901\n",
        "1177    1634\n",
        "1195    1331\n",
        "1179    1326\n",
        "1186    1261\n",
        "1185    1183\n",
        "1180    1023\n",
        "1270     970\n",
        "1083     753\n",
        "1271     749\n",
        "1248     717\n",
        "1246     714\n",
        "1247     691\n",
        "1182     670\n",
        "...\n",
        "110     2\n",
        "981     2\n",
        "228     2\n",
        "22      1\n",
        "350     1\n",
        "428     1\n",
        "432     1\n",
        "142     1\n",
        "190     1\n",
        "188     1\n",
        "1008    1\n",
        "9       1\n",
        "6       1\n",
        "966     1\n",
        "24      1\n",
        "Length: 1405, dtype: int64\n",
        "df.groupby('zone_id')['ave_income'].mean()\n",
        "1178    2631\n",
        "1176    1901\n",
        "1177    1634\n",
        "1195    1331\n",
        "1179    1326\n",
        "1186    1261\n",
        "1185    1183\n",
        "1180    1023\n",
        "1270     970\n",
        "1083     753\n",
        "1271     749\n",
        "1248     717\n",
        "1246     714\n",
        "1247     691\n",
        "1182     670\n",
        "...\n",
        "110     2\n",
        "981     2\n",
        "228     2\n",
        "22      1\n",
        "350     1\n",
        "428     1\n",
        "432     1\n",
        "142     1\n",
        "190     1\n",
        "188     1\n",
        "1008    1\n",
        "9       1\n",
        "6       1\n",
        "966     1\n",
        "24      1\n",
        "Length: 1405, dtype: int64"
       ]
      },
      {
       "output_type": "stream",
       "stream": "stderr",
       "text": [
        "/Users/ffoti/anaconda/lib/python2.7/site-packages/pandas/compat/scipy.py:68: DeprecationWarning: using a non-integer number instead of an integer will result in an error in the future\n",
        "  score = values[idx]\n",
        "127.0.0.1 - - [11/Jul/2014 11:22:47] \"GET /map_query/est_data/empty/zone_id/ave_income/quantile(.5) HTTP/1.1\" 200 26717\n"
       ]
      },
      {
       "output_type": "stream",
       "stream": "stdout",
       "text": [
        "\n",
        "df.groupby('zone_id')['ave_income'].quantile(.5)\n",
        "1178    2631\n",
        "1176    1901\n",
        "1177    1634\n",
        "1195    1331\n",
        "1179    1326\n",
        "1186    1261\n",
        "1185    1183\n",
        "1180    1023\n",
        "1270     970\n",
        "1083     753\n",
        "1271     749\n",
        "1248     717\n",
        "1246     714\n",
        "1247     691\n",
        "1182     670\n",
        "...\n",
        "110     2\n",
        "981     2\n",
        "228     2\n",
        "22      1\n",
        "350     1\n",
        "428     1\n",
        "432     1\n",
        "142     1\n",
        "190     1\n",
        "188     1\n",
        "1008    1\n",
        "9       1\n",
        "6       1\n",
        "966     1\n",
        "24      1\n",
        "Length: 1405, dtype: int64"
       ]
      },
      {
       "output_type": "stream",
       "stream": "stdout",
       "text": [
        "\n",
        "df.groupby('zone_id')['ave_income'].quantile(.75)\n",
        "1178    2631\n",
        "1176    1901\n",
        "1177    1634\n",
        "1195    1331\n",
        "1179    1326\n",
        "1186    1261\n",
        "1185    1183\n",
        "1180    1023\n",
        "1270     970\n",
        "1083     753\n",
        "1271     749\n",
        "1248     717\n",
        "1246     714\n",
        "1247     691\n",
        "1182     670\n",
        "...\n",
        "110     2\n",
        "981     2\n",
        "228     2\n",
        "22      1\n",
        "350     1\n",
        "428     1\n",
        "432     1\n",
        "142     1\n",
        "190     1\n",
        "188     1\n",
        "1008    1\n",
        "9       1\n",
        "6       1\n",
        "966     1\n",
        "24      1\n",
        "Length: 1405, dtype: int64"
       ]
      },
      {
       "output_type": "stream",
       "stream": "stderr",
       "text": [
        "127.0.0.1 - - [11/Jul/2014 11:22:50] \"GET /map_query/est_data/empty/zone_id/ave_income/quantile(.75) HTTP/1.1\" 200 27000\n",
        "127.0.0.1 - - [11/Jul/2014 11:22:59] \"GET /map_query/est_data/empty/zone_id/ave_income/std() HTTP/1.1\" 200 39146\n"
       ]
      },
      {
       "output_type": "stream",
       "stream": "stdout",
       "text": [
        "\n",
        "df.groupby('zone_id')['ave_income'].std()\n",
        "1178    2631\n",
        "1176    1901\n",
        "1177    1634\n",
        "1195    1331\n",
        "1179    1326\n",
        "1186    1261\n",
        "1185    1183\n",
        "1180    1023\n",
        "1270     970\n",
        "1083     753\n",
        "1271     749\n",
        "1248     717\n",
        "1246     714\n",
        "1247     691\n",
        "1182     670\n",
        "...\n",
        "110     2\n",
        "981     2\n",
        "228     2\n",
        "22      1\n",
        "350     1\n",
        "428     1\n",
        "432     1\n",
        "142     1\n",
        "190     1\n",
        "188     1\n",
        "1008    1\n",
        "9       1\n",
        "6       1\n",
        "966     1\n",
        "24      1\n",
        "Length: 1405, dtype: int64"
       ]
      }
     ]
    },
    {
     "cell_type": "code",
     "collapsed": false,
     "input": [],
     "language": "python",
     "metadata": {},
     "outputs": []
    }
   ],
   "metadata": {}
  }
 ]
}