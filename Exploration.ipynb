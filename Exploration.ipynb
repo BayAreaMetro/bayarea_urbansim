{
 "metadata": {
  "name": "",
  "signature": "sha256:7552ef706b3c3efbb1a7e03a657e877122f7b0473eb035ba65d0c0db1cc669eb"
 },
 "nbformat": 3,
 "nbformat_minor": 0,
 "worksheets": [
  {
   "cells": [
    {
     "cell_type": "code",
     "collapsed": false,
     "input": [
      "%load_ext autoreload\n",
      "%autoreload 2\n",
      "import models\n",
      "import dataset"
     ],
     "language": "python",
     "metadata": {},
     "outputs": [],
     "prompt_number": 1
    },
    {
     "cell_type": "code",
     "collapsed": false,
     "input": [
      "dset = dataset.BayAreaDataset(\"data/bayarea.h5\")"
     ],
     "language": "python",
     "metadata": {},
     "outputs": [],
     "prompt_number": 2
    },
    {
     "cell_type": "code",
     "collapsed": false,
     "input": [
      "rsh_debug = models.rsh_estimate(dset)"
     ],
     "language": "python",
     "metadata": {},
     "outputs": [
      {
       "output_type": "stream",
       "stream": "stdout",
       "text": [
        "Fetching homesales\n",
        "Fetching parcels"
       ]
      },
      {
       "output_type": "stream",
       "stream": "stdout",
       "text": [
        "\n",
        "Fetching nodes"
       ]
      },
      {
       "output_type": "stream",
       "stream": "stdout",
       "text": [
        "\n",
        "WARNING: fetching precomputed nodes off of disk\n",
        "Running hedonic estimation\n"
       ]
      },
      {
       "output_type": "stream",
       "stream": "stdout",
       "text": [
        "\n",
        "                               OLS Regression Results                               \n",
        "====================================================================================\n",
        "Dep. Variable:     np.log1p(sale_price_flt)   R-squared:                       0.223\n",
        "Model:                                  OLS   Adj. R-squared:                  0.223\n",
        "Method:                       Least Squares   F-statistic:                     6177.\n",
        "Date:                      Sat, 21 Jun 2014   Prob (F-statistic):               0.00\n",
        "Time:                              10:42:20   Log-Likelihood:            -1.4327e+05\n",
        "No. Observations:                    194222   AIC:                         2.866e+05\n",
        "Df Residuals:                        194212   BIC:                         2.867e+05\n",
        "Df Model:                                 9                                         \n",
        "================================================================================================\n",
        "                                   coef    std err          t      P>|t|      [95.0% Conf. Int.]\n",
        "------------------------------------------------------------------------------------------------\n",
        "Intercept                        3.8757      0.038    102.665      0.000         3.802     3.950\n",
        "I(year_built < 1940)[T.True]     0.2365      0.004     61.540      0.000         0.229     0.244\n",
        "I(year_built > 2005)[T.True]     0.0261      0.006      4.014      0.000         0.013     0.039\n",
        "np.log1p(unit_sqft)             -0.2391      0.003    -74.340      0.000        -0.245    -0.233\n",
        "np.log1p(unit_lot_size)          0.0859      0.002     56.797      0.000         0.083     0.089\n",
        "sum_residential_units           -0.0898      0.002    -47.907      0.000        -0.093    -0.086\n",
        "ave_unit_sqft                   -0.3059      0.004    -73.732      0.000        -0.314    -0.298\n",
        "ave_lot_sqft                    -0.0345      0.001    -64.112      0.000        -0.036    -0.033\n",
        "ave_income                       0.4883      0.002    195.907      0.000         0.483     0.493\n",
        "jobs                             0.0244      0.001     48.788      0.000         0.023     0.025\n",
        "==============================================================================\n",
        "Omnibus:                    42487.744   Durbin-Watson:                   0.606\n",
        "Prob(Omnibus):                  0.000   Jarque-Bera (JB):           532808.789\n",
        "Skew:                           0.699   Prob(JB):                         0.00\n",
        "Kurtosis:                      10.993   Cond. No.                         701.\n",
        "=============================================================================="
       ]
      },
      {
       "output_type": "stream",
       "stream": "stdout",
       "text": [
        "\n"
       ]
      }
     ],
     "prompt_number": 3
    },
    {
     "cell_type": "code",
     "collapsed": false,
     "input": [
      "rsh_debug['est_data'][\"zone_id\"] = dset.view(\"homesales\").zone_id"
     ],
     "language": "python",
     "metadata": {},
     "outputs": []
    },
    {
     "cell_type": "code",
     "collapsed": false,
     "input": [
      "from usui import dset_explorer\n",
      "dset_explorer.start(rsh_debug, \n",
      "        center=[37.7792, -122.2191],\n",
      "        zoom=11,\n",
      "        shape_json='data/zones.json',\n",
      "        geom_name='ZONE_ID', # from JSON file\n",
      "        join_name='zone_id', # from data frames\n",
      "        precision=2)"
     ],
     "language": "python",
     "metadata": {},
     "outputs": [
      {
       "output_type": "stream",
       "stream": "stderr",
       "text": [
        "Bottle v0.12.7 server starting up (using WSGIRefServer())...\n",
        "Listening on http://localhost:8765/\n",
        "Hit Ctrl-C to quit.\n",
        "\n",
        "127.0.0.1 - - [21/Jun/2014 10:42:27] \"GET / HTTP/1.1\" 200 27563\n"
       ]
      }
     ]
    },
    {
     "cell_type": "code",
     "collapsed": false,
     "input": [],
     "language": "python",
     "metadata": {},
     "outputs": []
    }
   ],
   "metadata": {}
  }
 ]
}