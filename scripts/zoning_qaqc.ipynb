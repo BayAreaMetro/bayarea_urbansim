{
 "cells": [
  {
   "cell_type": "code",
   "execution_count": 2,
   "metadata": {},
   "outputs": [],
   "source": [
    "import pandas as pd\n",
    "import matplotlib.pyplot as plt"
   ]
  },
  {
   "cell_type": "markdown",
   "metadata": {},
   "source": [
    "PBA50+ DBP Zoning Check: Look at the BAUS zoning for buildings built in PBA50+ DBP\n",
    "\n",
    "BAUS zoning processing:\n",
    "- Apply BAUS zoning processing from imputation- this infers DUA for far/height and FAR from height, but still picks the min\n",
    "- eliminates zoning on nodev parcels\n",
    "- applies rural zoning outside of the urban footprint\n",
    "- sets max dua to be the highest built density in a TAZ, or if there are no buildings max dua = 4"
   ]
  },
  {
   "cell_type": "code",
   "execution_count": 3,
   "metadata": {},
   "outputs": [],
   "source": [
    "# new buildings output for PBA50+ DBP\n",
    "bz = pd.read_csv(\"M:/urban_modeling/baus/PBA50Plus/PBA50Plus_DraftBlueprint/\\\n",
    "PBA50Plus_Draft_Blueprint_v8_znupd_nodevfix/core_summaries/PBA50Plus_Draft_Blueprint_v8_znupd_nodevfix_new_buildings_summary.csv\")"
   ]
  },
  {
   "cell_type": "markdown",
   "metadata": {},
   "source": [
    "1. Add jurisdiction and superdistrict variables for placetype"
   ]
  },
  {
   "cell_type": "code",
   "execution_count": 109,
   "metadata": {},
   "outputs": [],
   "source": [
    "# parcels to jurisdiction crosswalk\n",
    "pg = pd.read_csv(\"M:/urban_modeling/baus/BAUS Inputs/basis_inputs/crosswalks/parcels_geography_2024_02_14.csv\")\n",
    "# jurisdiction to \"subregion\" crosswalk\n",
    "juris = pd.read_csv(\"M:/urban_modeling/baus/juris_subregion.csv\")\n",
    "\n",
    "# make the juris column formats match\n",
    "juris['jurisdiction'] = juris['jurisdiction'].str.lower().str.replace(' ','_').str.replace('.','')\n",
    "juris.loc[juris.jurisdiction.str.contains(\"county\"), 'jurisdiction'] = 'unincorporated_' + juris['jurisdiction']\n",
    "\n",
    "bz = bz.merge(pg[['PARCEL_ID', 'juris']], left_on='parcel_id', right_on='PARCEL_ID', how='left')\\\n",
    "              .merge(juris, left_on='juris', right_on='jurisdiction', how='left')"
   ]
  },
  {
   "cell_type": "code",
   "execution_count": 111,
   "metadata": {},
   "outputs": [],
   "source": [
    "# parcel to TAZ crosswalk\n",
    "ptaz = pd.read_csv(\"M:/urban_modeling/baus/BAUS Inputs/basis_inputs/crosswalks/2020_08_17_parcel_to_taz1454sub.csv\")\n",
    "# taz to superdistrict crosswalk\n",
    "taz = pd.read_csv(\"M:/urban_modeling/baus/BAUS Inputs/basis_inputs/crosswalks/taz_geography.csv\")\n",
    "# superdistrict to \"subregion\" crosswalk\n",
    "sd = pd.read_csv(\"M:/urban_modeling/baus/BAUS Inputs/basis_inputs/crosswalks/superdistricts_geography.csv\")\n",
    "\n",
    "bz = bz.merge(ptaz[['PARCEL_ID', 'ZONE_ID']], left_on='parcel_id', right_on='PARCEL_ID', how='left')\\\n",
    "              .merge(taz[['zone', 'superdistrict']], left_on='ZONE_ID', right_on='zone', how='left')\\\n",
    "              .merge(sd, left_on='superdistrict', right_on='number')\n"
   ]
  },
  {
   "cell_type": "code",
   "execution_count": 112,
   "metadata": {},
   "outputs": [
    {
     "data": {
      "text/html": [
       "<div>\n",
       "<style scoped>\n",
       "    .dataframe tbody tr th:only-of-type {\n",
       "        vertical-align: middle;\n",
       "    }\n",
       "\n",
       "    .dataframe tbody tr th {\n",
       "        vertical-align: top;\n",
       "    }\n",
       "\n",
       "    .dataframe thead th {\n",
       "        text-align: right;\n",
       "    }\n",
       "</style>\n",
       "<table border=\"1\" class=\"dataframe\">\n",
       "  <thead>\n",
       "    <tr style=\"text-align: right;\">\n",
       "      <th></th>\n",
       "      <th>building_id</th>\n",
       "      <th>parcel_id</th>\n",
       "      <th>building_type</th>\n",
       "      <th>building_sqft</th>\n",
       "      <th>deed_restricted_units</th>\n",
       "      <th>year_built</th>\n",
       "      <th>preserved_units</th>\n",
       "      <th>inclusionary_units</th>\n",
       "      <th>subsidized_units</th>\n",
       "      <th>non_residential_sqft</th>\n",
       "      <th>...</th>\n",
       "      <th>juris</th>\n",
       "      <th>jurisdiction</th>\n",
       "      <th>subregion_x</th>\n",
       "      <th>PARCEL_ID_y</th>\n",
       "      <th>ZONE_ID</th>\n",
       "      <th>zone</th>\n",
       "      <th>superdistrict</th>\n",
       "      <th>number</th>\n",
       "      <th>name</th>\n",
       "      <th>subregion_y</th>\n",
       "    </tr>\n",
       "  </thead>\n",
       "  <tbody>\n",
       "    <tr>\n",
       "      <th>0</th>\n",
       "      <td>1872832</td>\n",
       "      <td>75010</td>\n",
       "      <td>HS</td>\n",
       "      <td>0.0</td>\n",
       "      <td>1.0</td>\n",
       "      <td>2011.0</td>\n",
       "      <td>1.0</td>\n",
       "      <td>0.0</td>\n",
       "      <td>0.0</td>\n",
       "      <td>0.0</td>\n",
       "      <td>...</td>\n",
       "      <td>oakland</td>\n",
       "      <td>oakland</td>\n",
       "      <td>Big Three</td>\n",
       "      <td>75010</td>\n",
       "      <td>892</td>\n",
       "      <td>892</td>\n",
       "      <td>18</td>\n",
       "      <td>18</td>\n",
       "      <td>Oakland Alameda</td>\n",
       "      <td>1</td>\n",
       "    </tr>\n",
       "    <tr>\n",
       "      <th>1</th>\n",
       "      <td>1872833</td>\n",
       "      <td>75010</td>\n",
       "      <td>HS</td>\n",
       "      <td>0.0</td>\n",
       "      <td>1.0</td>\n",
       "      <td>2011.0</td>\n",
       "      <td>1.0</td>\n",
       "      <td>0.0</td>\n",
       "      <td>0.0</td>\n",
       "      <td>0.0</td>\n",
       "      <td>...</td>\n",
       "      <td>oakland</td>\n",
       "      <td>oakland</td>\n",
       "      <td>Big Three</td>\n",
       "      <td>75010</td>\n",
       "      <td>892</td>\n",
       "      <td>892</td>\n",
       "      <td>18</td>\n",
       "      <td>18</td>\n",
       "      <td>Oakland Alameda</td>\n",
       "      <td>1</td>\n",
       "    </tr>\n",
       "    <tr>\n",
       "      <th>2</th>\n",
       "      <td>1872834</td>\n",
       "      <td>75010</td>\n",
       "      <td>HS</td>\n",
       "      <td>0.0</td>\n",
       "      <td>1.0</td>\n",
       "      <td>2011.0</td>\n",
       "      <td>1.0</td>\n",
       "      <td>0.0</td>\n",
       "      <td>0.0</td>\n",
       "      <td>0.0</td>\n",
       "      <td>...</td>\n",
       "      <td>oakland</td>\n",
       "      <td>oakland</td>\n",
       "      <td>Big Three</td>\n",
       "      <td>75010</td>\n",
       "      <td>892</td>\n",
       "      <td>892</td>\n",
       "      <td>18</td>\n",
       "      <td>18</td>\n",
       "      <td>Oakland Alameda</td>\n",
       "      <td>1</td>\n",
       "    </tr>\n",
       "    <tr>\n",
       "      <th>3</th>\n",
       "      <td>1872835</td>\n",
       "      <td>75010</td>\n",
       "      <td>HS</td>\n",
       "      <td>0.0</td>\n",
       "      <td>1.0</td>\n",
       "      <td>2011.0</td>\n",
       "      <td>1.0</td>\n",
       "      <td>0.0</td>\n",
       "      <td>0.0</td>\n",
       "      <td>0.0</td>\n",
       "      <td>...</td>\n",
       "      <td>oakland</td>\n",
       "      <td>oakland</td>\n",
       "      <td>Big Three</td>\n",
       "      <td>75010</td>\n",
       "      <td>892</td>\n",
       "      <td>892</td>\n",
       "      <td>18</td>\n",
       "      <td>18</td>\n",
       "      <td>Oakland Alameda</td>\n",
       "      <td>1</td>\n",
       "    </tr>\n",
       "    <tr>\n",
       "      <th>4</th>\n",
       "      <td>1872836</td>\n",
       "      <td>75010</td>\n",
       "      <td>HS</td>\n",
       "      <td>0.0</td>\n",
       "      <td>0.0</td>\n",
       "      <td>2011.0</td>\n",
       "      <td>0.0</td>\n",
       "      <td>0.0</td>\n",
       "      <td>0.0</td>\n",
       "      <td>0.0</td>\n",
       "      <td>...</td>\n",
       "      <td>oakland</td>\n",
       "      <td>oakland</td>\n",
       "      <td>Big Three</td>\n",
       "      <td>75010</td>\n",
       "      <td>892</td>\n",
       "      <td>892</td>\n",
       "      <td>18</td>\n",
       "      <td>18</td>\n",
       "      <td>Oakland Alameda</td>\n",
       "      <td>1</td>\n",
       "    </tr>\n",
       "  </tbody>\n",
       "</table>\n",
       "<p>5 rows × 56 columns</p>\n",
       "</div>"
      ],
      "text/plain": [
       "   building_id  parcel_id building_type  building_sqft  deed_restricted_units  \\\n",
       "0      1872832      75010            HS            0.0                    1.0   \n",
       "1      1872833      75010            HS            0.0                    1.0   \n",
       "2      1872834      75010            HS            0.0                    1.0   \n",
       "3      1872835      75010            HS            0.0                    1.0   \n",
       "4      1872836      75010            HS            0.0                    0.0   \n",
       "\n",
       "   year_built  preserved_units  inclusionary_units  subsidized_units  \\\n",
       "0      2011.0              1.0                 0.0               0.0   \n",
       "1      2011.0              1.0                 0.0               0.0   \n",
       "2      2011.0              1.0                 0.0               0.0   \n",
       "3      2011.0              1.0                 0.0               0.0   \n",
       "4      2011.0              0.0                 0.0               0.0   \n",
       "\n",
       "   non_residential_sqft  ...    juris  jurisdiction subregion_x  PARCEL_ID_y  \\\n",
       "0                   0.0  ...  oakland       oakland   Big Three        75010   \n",
       "1                   0.0  ...  oakland       oakland   Big Three        75010   \n",
       "2                   0.0  ...  oakland       oakland   Big Three        75010   \n",
       "3                   0.0  ...  oakland       oakland   Big Three        75010   \n",
       "4                   0.0  ...  oakland       oakland   Big Three        75010   \n",
       "\n",
       "   ZONE_ID  zone  superdistrict  number             name  subregion_y  \n",
       "0      892   892             18      18  Oakland Alameda            1  \n",
       "1      892   892             18      18  Oakland Alameda            1  \n",
       "2      892   892             18      18  Oakland Alameda            1  \n",
       "3      892   892             18      18  Oakland Alameda            1  \n",
       "4      892   892             18      18  Oakland Alameda            1  \n",
       "\n",
       "[5 rows x 56 columns]"
      ]
     },
     "execution_count": 112,
     "metadata": {},
     "output_type": "execute_result"
    }
   ],
   "source": [
    "bz.head()"
   ]
  },
  {
   "cell_type": "markdown",
   "metadata": {},
   "source": [
    "2. Check outliers by place type"
   ]
  },
  {
   "cell_type": "code",
   "execution_count": 109,
   "metadata": {},
   "outputs": [
    {
     "name": "stdout",
     "output_type": "stream",
     "text": [
      "['Solano Remainder' 'East Contra Costa' 'SE Snta Clara Cnty'\n",
      " 'Southern Sonoma' 'Northern Sonoma' 'Napa Remainder' 'Northern Marin']\n"
     ]
    },
    {
     "data": {
      "text/plain": [
       "<AxesSubplot:>"
      ]
     },
     "execution_count": 109,
     "metadata": {},
     "output_type": "execute_result"
    },
    {
     "data": {
      "image/png": "[encoded data removed]",
      "text/plain": [
       "<Figure size 432x288 with 1 Axes>"
      ]
     },
     "metadata": {
      "needs_background": "light"
     },
     "output_type": "display_data"
    }
   ],
   "source": [
    "qa1 = bz.loc[bz.subregion == 4]\n",
    "print(qa1.name.unique())\n",
    "qa1.max_dua.hist(bins=30)"
   ]
  },
  {
   "cell_type": "code",
   "execution_count": 108,
   "metadata": {},
   "outputs": [
    {
     "data": {
      "text/plain": [
       "<AxesSubplot:>"
      ]
     },
     "execution_count": 108,
     "metadata": {},
     "output_type": "execute_result"
    },
    {
     "data": {
      "image/png": "[encoded data removed]",
      "text/plain": [
       "<Figure size 432x288 with 1 Axes>"
      ]
     },
     "metadata": {
      "needs_background": "light"
     },
     "output_type": "display_data"
    }
   ],
   "source": [
    "qa1.max_far.hist(bins=30)"
   ]
  },
  {
   "cell_type": "code",
   "execution_count": 106,
   "metadata": {},
   "outputs": [
    {
     "data": {
      "text/plain": [
       "854"
      ]
     },
     "execution_count": 106,
     "metadata": {},
     "output_type": "execute_result"
    }
   ],
   "source": [
    "# number of parcels with DUA > 25\n",
    "len(rural_qa.loc[rural_qa.max_dua > 25].parcel_id.unique())"
   ]
  },
  {
   "cell_type": "code",
   "execution_count": 107,
   "metadata": {},
   "outputs": [
    {
     "data": {
      "text/plain": [
       "East Contra Costa     590\n",
       "Napa Remainder        149\n",
       "SE Snta Clara Cnty    137\n",
       "Northern Marin         92\n",
       "Southern Sonoma        68\n",
       "Solano Remainder       48\n",
       "Northern Sonoma        31\n",
       "Name: name, dtype: int64"
      ]
     },
     "execution_count": 107,
     "metadata": {},
     "output_type": "execute_result"
    }
   ],
   "source": [
    "rural_qa.loc[rural_qa.max_dua > 25].name.value_counts()"
   ]
  },
  {
   "cell_type": "code",
   "execution_count": 96,
   "metadata": {},
   "outputs": [
    {
     "data": {
      "text/plain": [
       "<AxesSubplot:>"
      ]
     },
     "execution_count": 96,
     "metadata": {},
     "output_type": "execute_result"
    },
    {
     "data": {
      "image/png": "[encoded data removed]",
      "text/plain": [
       "<Figure size 432x288 with 1 Axes>"
      ]
     },
     "metadata": {
      "needs_background": "light"
     },
     "output_type": "display_data"
    }
   ],
   "source": [
    "suburban_qa = bz.loc[bz.subregion == 3]\n",
    "suburban_qa.max_dua.hist(bins=10)"
   ]
  },
  {
   "cell_type": "code",
   "execution_count": 97,
   "metadata": {},
   "outputs": [
    {
     "data": {
      "text/plain": [
       "<AxesSubplot:>"
      ]
     },
     "execution_count": 97,
     "metadata": {},
     "output_type": "execute_result"
    },
    {
     "data": {
      "image/png": "[encoded data removed]",
      "text/plain": [
       "<Figure size 432x288 with 1 Axes>"
      ]
     },
     "metadata": {
      "needs_background": "light"
     },
     "output_type": "display_data"
    }
   ],
   "source": [
    "suburban_urban_qa = bz.loc[bz.subregion == 2]\n",
    "suburban_urban_qa.max_dua.hist(bins=10)"
   ]
  },
  {
   "cell_type": "code",
   "execution_count": 98,
   "metadata": {},
   "outputs": [
    {
     "data": {
      "text/plain": [
       "<AxesSubplot:>"
      ]
     },
     "execution_count": 98,
     "metadata": {},
     "output_type": "execute_result"
    },
    {
     "data": {
      "image/png": "[encoded data removed]",
      "text/plain": [
       "<Figure size 432x288 with 1 Axes>"
      ]
     },
     "metadata": {
      "needs_background": "light"
     },
     "output_type": "display_data"
    }
   ],
   "source": [
    "urban_qa = bz.loc[bz.subregion == 1]\n",
    "urban_qa.max_dua.hist(bins=10)"
   ]
  },
  {
   "cell_type": "markdown",
   "metadata": {},
   "source": [
    "Zoning Inputs Check: Import latest zoning files to check for outliers"
   ]
  },
  {
   "cell_type": "code",
   "execution_count": 11,
   "metadata": {},
   "outputs": [],
   "source": [
    "# latest parcels zoning file\n",
    "pz = pd.read_csv(\"M:/urban_modeling/baus/BAUS Inputs/basis_inputs/zoning/zoning_parcels_2024-04-30.csv\")\n",
    "# latest parcel lookup file\n",
    "zl = pd.read_csv(\"M:/urban_modeling/baus/BAUS Inputs/basis_inputs/zoning/zoning_lookup_2024-04-30.csv\")\n",
    "\n",
    "# merge the zoning lookup to parcels\n",
    "pz = pz.merge(zl, left_on='zoning_id', right_on='id', how='left')"
   ]
  },
  {
   "cell_type": "markdown",
   "metadata": {},
   "source": [
    "1. Add a superdistrict variable to categorize parcels by place type"
   ]
  },
  {
   "cell_type": "code",
   "execution_count": 44,
   "metadata": {},
   "outputs": [],
   "source": [
    "pz = pz.merge(ptaz[['PARCEL_ID', 'ZONE_ID']], on='PARCEL_ID', how='left')\\\n",
    "              .merge(taz[['zone', 'superdistrict']], left_on='ZONE_ID', right_on='zone', how='left')\\\n",
    "              .merge(sd, left_on='superdistrict', right_on='number')"
   ]
  }
 ],
 "metadata": {
  "kernelspec": {
   "display_name": "baus-pip-env",
   "language": "python",
   "name": "python3"
  },
  "language_info": {
   "codemirror_mode": {
    "name": "ipython",
    "version": 3
   },
   "file_extension": ".py",
   "mimetype": "text/x-python",
   "name": "python",
   "nbconvert_exporter": "python",
   "pygments_lexer": "ipython3",
   "version": "3.6.15"
  },
  "orig_nbformat": 4,
  "vscode": {
   "interpreter": {
    "hash": "9278ca6451010c8509587daf3170d1f5396b4ec7bad79e6bf112ffac13fb68de"
   }
  }
 },
 "nbformat": 4,
 "nbformat_minor": 2
}
