{
 "cells": [
  {
   "cell_type": "code",
   "execution_count": 3,
   "metadata": {},
   "outputs": [],
   "source": [
    "import pandas as pd\n",
    "import matplotlib.pyplot as plt"
   ]
  },
  {
   "cell_type": "markdown",
   "metadata": {},
   "source": [
    "1. Look at the BAUS zoning for buildings built in PBA50+ DBP"
   ]
  },
  {
   "cell_type": "code",
   "execution_count": 25,
   "metadata": {},
   "outputs": [],
   "source": [
    "# new buildings output for PBA50+ DBP\n",
    "bz = pd.read_csv(\"M:/urban_modeling/baus/PBA50Plus/PBA50Plus_DraftBlueprint/\\\n",
    "PBA50Plus_Draft_Blueprint_v8_znupd_nodevfix/core_summaries/PBA50Plus_Draft_Blueprint_v8_znupd_nodevfix_new_buildings_summary.csv\")"
   ]
  },
  {
   "cell_type": "markdown",
   "metadata": {},
   "source": [
    "2. Add variables to categorize the parcels' \"density type\" (rural/suburban/urban-suburban/urban) in order to compare againsst their BAUS zoning"
   ]
  },
  {
   "cell_type": "code",
   "execution_count": 26,
   "metadata": {},
   "outputs": [],
   "source": [
    "# parcels to jurisdiction crosswalk\n",
    "pg = pd.read_csv(\"M:/urban_modeling/baus/BAUS Inputs/basis_inputs/crosswalks/parcels_geography_2024_02_14.csv\")\n",
    "# jurisdiction to \"subregion\" crosswalk\n",
    "juris = pd.read_csv(\"M:/urban_modeling/baus/juris_subregion.csv\")\n",
    "\n",
    "# make the juris column formats match\n",
    "juris['jurisdiction'] = juris['jurisdiction'].str.lower().str.replace(' ','_').str.replace('.','')\n",
    "juris.loc[juris.jurisdiction.str.contains(\"county\"), 'jurisdiction'] = 'unincorporated_' + juris['jurisdiction']\n",
    "\n",
    "# parcel to TAZ crosswalk\n",
    "ptaz = pd.read_csv(\"M:/urban_modeling/baus/BAUS Inputs/basis_inputs/crosswalks/2020_08_17_parcel_to_taz1454sub.csv\")\n",
    "# taz to superdistrict crosswalk\n",
    "taz = pd.read_csv(\"M:/urban_modeling/baus/BAUS Inputs/basis_inputs/crosswalks/taz_geography.csv\")\n",
    "# superdistrict to \"subregion\" crosswalk\n",
    "sd = pd.read_csv(\"M:/urban_modeling/baus/BAUS Inputs/basis_inputs/crosswalks/superdistricts_geography.csv\")"
   ]
  },
  {
   "cell_type": "code",
   "execution_count": 27,
   "metadata": {},
   "outputs": [],
   "source": [
    "# merge the jurisdiction and superdistrict \"subregion\" variables\n",
    "bz = bz.merge(pg[['PARCEL_ID', 'juris']], left_on='parcel_id', right_on='PARCEL_ID', how='left')\\\n",
    "              .merge(juris, left_on='juris', right_on='jurisdiction', how='left')\n",
    "\n",
    "bz = bz.merge(ptaz[['PARCEL_ID', 'ZONE_ID']], left_on='parcel_id', right_on='PARCEL_ID', how='left')\\\n",
    "              .merge(taz[['zone', 'superdistrict']], left_on='ZONE_ID', right_on='zone', how='left')\\\n",
    "              .merge(sd, left_on='superdistrict', right_on='number')\n",
    "\n",
    "bz = bz.rename(columns={\"subregion_x\": \"subregion_juris\", \"subregion_y\": \"subregion_sd\"})"
   ]
  },
  {
   "cell_type": "markdown",
   "metadata": {},
   "source": [
    "3. Add the base zoning to parcels in order to lookup the corresponding zoning input"
   ]
  },
  {
   "cell_type": "code",
   "execution_count": 36,
   "metadata": {},
   "outputs": [],
   "source": [
    "# latest parcels zoning file\n",
    "pz = pd.read_csv(\"M:/urban_modeling/baus/BAUS Inputs/basis_inputs/zoning/zoning_parcels_2024-04-30.csv\")\n",
    "# latest parcel lookup file\n",
    "zl = pd.read_csv(\"M:/urban_modeling/baus/BAUS Inputs/basis_inputs/zoning/zoning_lookup_2024-04-30.csv\")\n",
    "zl = zl.rename(columns={\"name\": \"zoning_name\"})\n",
    "\n",
    "# merge the zoning lookup to buildings\n",
    "bz = bz.merge(pz[['PARCEL_ID', 'zoning_id']], left_on='parcel_id', right_on='PARCEL_ID', how='left')\\\n",
    ".merge(zl[['id', 'zoning_name']], left_on='zoning_id', right_on='id', how='left')"
   ]
  },
  {
   "cell_type": "markdown",
   "metadata": {},
   "source": [
    "4. Look at the BAUS zoning for parcels as compared to their categorized \"density type\" and lookup the zoning input for any outliers\n",
    "\n",
    "BAUS zoning processing:\n",
    "- Apply BAUS zoning processing from imputation- this infers DUA for far/height and FAR from height, but still picks the min\n",
    "- eliminates zoning on nodev parcels\n",
    "- applies rural zoning outside of the urban footprint\n",
    "- sets max dua to be the highest built density in a TAZ, or if there are no buildings max dua = 4"
   ]
  },
  {
   "cell_type": "markdown",
   "metadata": {},
   "source": [
    "3a. Look at DUA by \"density type\""
   ]
  },
  {
   "cell_type": "code",
   "execution_count": 74,
   "metadata": {},
   "outputs": [
    {
     "name": "stdout",
     "output_type": "stream",
     "text": [
      "Rural superdistricts are ['Solano Remainder' 'East Contra Costa' 'SE Snta Clara Cnty'\n",
      " 'Southern Sonoma' 'Northern Sonoma' 'Napa Remainder' 'Northern Marin']\n",
      "The correspont to ['vacaville' 'fairfield' 'unincorporated_solano' 'dixon' 'suisun_city'\n",
      " 'rio_vista' 'brentwood' 'oakley' 'antioch' 'unincorporated_contra_costa'\n",
      " 'pittsburg' 'concord' 'morgan_hill' 'gilroy' 'unincorporated_santa_clara'\n",
      " 'san_jose' 'petaluma' 'rohnert_park' 'unincorporated_sonoma' 'sonoma'\n",
      " 'cotati' 'unincorporated_napa' 'unincorporated_marin' 'healdsburg'\n",
      " 'windsor' 'cloverdale' 'calistoga' 'napa' 'yountville' 'st_helena'\n",
      " 'novato']\n",
      "Their distribution of max DUA is AxesSubplot(0.125,0.125;0.775x0.755)\n"
     ]
    },
    {
     "data": {
      "image/png": "[encoded data removed]",
      "text/plain": [
       "<Figure size 432x288 with 1 Axes>"
      ]
     },
     "metadata": {
      "needs_background": "light"
     },
     "output_type": "display_data"
    }
   ],
   "source": [
    "rural = bz.loc[bz.subregion_sd == 4]\n",
    "print(\"Rural superdistricts are {}\".format(rural.name.unique()))\n",
    "print(\"The correspont to {}\".format(rural.juris.unique()))\n",
    "print(\"Their distribution of max DUA is {}\".format(rural.max_dua.hist()))"
   ]
  },
  {
   "cell_type": "code",
   "execution_count": 53,
   "metadata": {},
   "outputs": [
    {
     "name": "stdout",
     "output_type": "stream",
     "text": [
      "Number of rural parcels with DUA > 60 is 112\n",
      "This includes 18 zoning codes\n",
      "Zoning codes for those parcels are ['MU (BASIS)' 'CO (BASIS)' 'P-D (BASIS)' 'OUT (BASIS)' 'RS-5 (BASIS)'\n",
      " 'C-2 (BASIS)' 'CC (BASIS)' 'LDR (BASIS)' 'B/C (BASIS)' nan 'MM_pba40'\n",
      " 'M-6 (BASIS)' 'C3 (BASIS)' 'R1 (BASIS)' 'RAL (BASIS)' 'nan (BASIS)'\n",
      " 'OS (BASIS)' 'RR (BASIS)']\n"
     ]
    }
   ],
   "source": [
    "print(\"Number of rural parcels with DUA > 60 is {}\".format(len(rural.loc[rural.max_dua > 60].parcel_id.unique())))\n",
    "print(\"This includes {} zoning codes\".format(len(rural.loc[rural.max_dua > 60].zoning_name.unique())))\n",
    "print(\"Zoning codes for those parcels are {}\".format(rural.loc[rural.max_dua > 60].zoning_name.unique()))"
   ]
  },
  {
   "cell_type": "code",
   "execution_count": 75,
   "metadata": {},
   "outputs": [
    {
     "name": "stdout",
     "output_type": "stream",
     "text": [
      "Suburban superdistricts are ['Tri Valley' 'Martinez Concord' 'S Ramon Danville' 'Vallejo Benicia'\n",
      " 'Santa Rosa Area' 'Lamorinda WC' 'Napa City and S' 'Southern Marin'\n",
      " 'Central Marin']\n",
      "The correspond to ['dublin' 'livermore' 'pleasanton' 'unincorporated_alameda' 'concord'\n",
      " 'unincorporated_contra_costa' 'pleasant_hill' 'pittsburg' 'clayton'\n",
      " 'martinez' 'lafayette' 'san_ramon' 'danville' 'walnut_creek' 'vallejo'\n",
      " 'benicia' 'unincorporated_solano' 'sebastopol' 'santa_rosa'\n",
      " 'unincorporated_sonoma' 'windsor' 'rohnert_park' 'orinda' 'moraga' 'napa'\n",
      " 'american_canyon' 'unincorporated_napa' 'unincorporated_marin'\n",
      " 'corte_madera' 'larkspur' 'mill_valley' 'belvedere' 'tiburon' 'sausalito'\n",
      " 'san_rafael' 'san_anselmo' 'ross' 'fairfax']\n",
      "Their distribution of max DUA is AxesSubplot(0.125,0.125;0.775x0.755)\n"
     ]
    },
    {
     "data": {
      "image/png": "[encoded data removed]",
      "text/plain": [
       "<Figure size 432x288 with 1 Axes>"
      ]
     },
     "metadata": {
      "needs_background": "light"
     },
     "output_type": "display_data"
    }
   ],
   "source": [
    "suburban = bz.loc[bz.subregion_sd == 3]\n",
    "print(\"Suburban superdistricts are {}\".format(suburban.name.unique()))\n",
    "print(\"The correspond to {}\".format(suburban.juris.unique()))\n",
    "print(\"Their distribution of max DUA is {}\".format(suburban.max_dua.hist()))"
   ]
  },
  {
   "cell_type": "code",
   "execution_count": 61,
   "metadata": {},
   "outputs": [
    {
     "name": "stdout",
     "output_type": "stream",
     "text": [
      "Number of suburban parcels with DUA > 100 is 9\n",
      "This includes 4 zoning codes\n",
      "Zoning codes for those parcels are ['RH (HE Data)' '226 - Single Family Low/ Medium Density_pba40'\n",
      " 'Core Mixed Use (BASIS)' 'Neighborhood Mixed Use (BASIS)']\n"
     ]
    }
   ],
   "source": [
    "print(\"Number of suburban parcels with DUA > 100 is {}\".format(len(suburban.loc[suburban.max_dua > 100].parcel_id.unique())))\n",
    "print(\"This includes {} zoning codes\".format(len(suburban.loc[suburban.max_dua > 100].zoning_name.unique())))\n",
    "print(\"Zoning codes for those parcels are {}\".format(suburban.loc[suburban.max_dua > 100].zoning_name.unique()))"
   ]
  },
  {
   "cell_type": "code",
   "execution_count": 77,
   "metadata": {},
   "outputs": [
    {
     "name": "stdout",
     "output_type": "stream",
     "text": [
      "Suburban-urban superdistricts are ['Richmond Pinole' 'Fremont' 'Palo Alto' 'S Leandro Hayward'\n",
      " 'Berkeley Eville' 'Redwood City' 'Daly City Millbrae' 'San Mateo']\n",
      "The correspont to ['richmond' 'unincorporated_contra_costa' 'pinole' 'martinez' 'el_cerrito'\n",
      " 'san_pablo' 'hercules' 'union_city' 'fremont' 'newark'\n",
      " 'unincorporated_alameda' 'palo_alto' 'mountain_view' 'los_altos'\n",
      " 'los_altos_hills' 'unincorporated_santa_clara' 'cupertino' 'sunnyvale'\n",
      " 'hayward' 'san_leandro' 'oakland' 'berkeley' 'emeryville' 'albany'\n",
      " 'menlo_park' 'redwood_city' 'san_carlos' 'unincorporated_san_mateo'\n",
      " 'woodside' 'atherton' 'portola_valley' 'east_palo_alto' 'belmont'\n",
      " 'millbrae' 'brisbane' 'daly_city' 'san_bruno' 'pacifica'\n",
      " 'south_san_francisco' 'burlingame' 'colma' 'san_francisco' 'san_mateo'\n",
      " 'half_moon_bay' 'foster_city' 'hillsborough']\n",
      "Their distribution of max DUA is AxesSubplot(0.125,0.125;0.775x0.755)\n"
     ]
    },
    {
     "data": {
      "image/png": "[encoded data removed]",
      "text/plain": [
       "<Figure size 432x288 with 1 Axes>"
      ]
     },
     "metadata": {
      "needs_background": "light"
     },
     "output_type": "display_data"
    }
   ],
   "source": [
    "suburbanurban = bz.loc[bz.subregion_sd == 2]\n",
    "print(\"Suburban-urban superdistricts are {}\".format(suburbanurban.name.unique()))\n",
    "print(\"The correspont to {}\".format(suburbanurban.juris.unique()))\n",
    "print(\"Their distribution of max DUA is {}\".format(suburbanurban.max_dua.hist()))"
   ]
  },
  {
   "cell_type": "code",
   "execution_count": 64,
   "metadata": {},
   "outputs": [
    {
     "name": "stdout",
     "output_type": "stream",
     "text": [
      "Number of Suburban-urban parcels with DUA > 100 is 274\n",
      "This includes 71 zoning codes\n",
      "Zoning codes for those parcels are ['CM-5 (BASIS)' 'CM5 (HE Data)' 'RC (HE Data)' 'CSMU (BASIS)'\n",
      " 'P(38) - El Camino Real Precise Plan (HE Data)' 'R1 (BASIS)'\n",
      " 'RHS (BASIS)' 'MUTOD (BASIS)' 'DA-1 (BASIS)' 'DA-2 (BASIS)'\n",
      " 'DA-4 (BASIS)' '112 - General Commercial_pba40' 'DT-MS (HE Data)'\n",
      " 'UC (HE Data)' 'C-DMU Buffer_pba40' 'C-W (HE Data)'\n",
      " 'Mixed Use with Residential (MUR) (HE Data)' 'RHD-4-135-55_pba40'\n",
      " 'C-DMU Buffer (HE Data)' 'C-DMU Core_pba40' 'R-2A_pba40'\n",
      " 'C-DMU Corridor_pba40' 'C-1_pba40' 'C-T (HE Data)' 'MUR (BASIS)'\n",
      " 'C-W_pba40' 'Community Commercial_pba40' 'C-DMU Outer Core (HE Data)'\n",
      " 'C-U (HE Data)' 'C-DMU Core (HE Data)' 'R-4 (HE Data)'\n",
      " 'C-DMU Corridor (HE Data)' 'RH (BASIS)' 'C-AC (HE Data)'\n",
      " 'MUR-4-135-100_pba40' 'R-SMU (HE Data)' 'MU-D-120 (HE Data)' 'CBR_pba40'\n",
      " 'M-1_pba40' 'MU-DC_pba40' 'MU-SB_pba40' 'MU-N-120 (HE Data)' 'R-5_pba40'\n",
      " 'MSASPD-TOD (BASIS)' 'RRMU (BASIS)' 'MSASP General Commercial-30_pba40'\n",
      " 'MSASPD-EIZ (BASIS)' 'C-MU (BASIS)' 'T5C (HE Data)' 'NBMU (BASIS)'\n",
      " 'R-3 (BASIS)' 'Park and Open Space_pba40' 'MSASP Quasi-Public_pba40'\n",
      " '606 - Retail and Office_pba40' 'DIA (BASIS)'\n",
      " 'MSASP Quasi-Public-30_pba40' 'Transit-Oriented Development_pba40'\n",
      " '606 - Low Density Residential_pba40'\n",
      " '606 - Medium-Low Density Residential_pba40' 'RH-180 (HE Data)'\n",
      " 'C (BASIS)' '606 - Government Facilities_pba40' 'TOD-2 (HE Data)'\n",
      " 'T4C (HE Data)' nan '618 - Office_pba40' 'C-RO (BASIS)' 'R-MD (BASIS)'\n",
      " '604 - Shopping & Service_pba40' '604 - Medium High Density_pba40'\n",
      " 'Downtown Retail Core_pba40']\n"
     ]
    }
   ],
   "source": [
    "print(\"Number of Suburban-urban parcels with DUA > 100 is {}\".format(len(suburbanurban.loc[suburbanurban.max_dua > 100].parcel_id.unique())))\n",
    "print(\"This includes {} zoning codes\".format(len(suburbanurban.loc[suburbanurban.max_dua > 100].zoning_name.unique())))\n",
    "print(\"Zoning codes for those parcels are {}\".format(suburbanurban.loc[suburbanurban.max_dua > 100].zoning_name.unique()))"
   ]
  },
  {
   "cell_type": "code",
   "execution_count": 65,
   "metadata": {},
   "outputs": [
    {
     "name": "stdout",
     "output_type": "stream",
     "text": [
      "Urban jurisdictions are ['oakland' 'alameda' 'piedmont' 'emeryville' 'unincorporated_alameda'\n",
      " 'san_leandro' 'san_jose' 'unincorporated_santa_clara' 'santa_clara'\n",
      " 'campbell' 'los_gatos' 'cupertino' 'saratoga' 'monte_sereno' 'los_altos'\n",
      " 'san_francisco' 'daly_city' 'mountain_view' 'sunnyvale' 'milpitas'\n",
      " 'palo_alto']\n",
      "Their distribution of max DUA is AxesSubplot(0.125,0.125;0.775x0.755)\n"
     ]
    },
    {
     "data": {
      "image/png": "[encoded data removed]",
      "text/plain": [
       "<Figure size 432x288 with 1 Axes>"
      ]
     },
     "metadata": {
      "needs_background": "light"
     },
     "output_type": "display_data"
    }
   ],
   "source": [
    "urban = bz.loc[bz.subregion_sd == 1]\n",
    "print(\"Urban jurisdictions are {}\".format(urban.juris.unique()))\n",
    "print(\"Their distribution of max DUA is {}\".format(urban.max_dua.hist()))"
   ]
  },
  {
   "cell_type": "code",
   "execution_count": 66,
   "metadata": {},
   "outputs": [
    {
     "name": "stdout",
     "output_type": "stream",
     "text": [
      "Number of Urban parcels with DUA > 200 is 684\n",
      "This includes 45 zoning codes\n",
      "Zoning codes for those parcels are ['Institutional_pba40' 'CBD-C (HE Data)' 'D-LM-4 (HE Data)'\n",
      " 'Central Business District_pba40' 'Downtown_pba40' 'DC (HE Data)'\n",
      " 'UV (BASIS)' 'DC-NT1 (HE Data)' 'Transit Residential_pba40'\n",
      " 'Combined Industrial/Commercial_pba40' 'UV (HE Data)'\n",
      " 'C-3-O(SD) (HE Data)' 'C-3-G (HE Data)' 'C-3-O (HE Data)' 'MUR (HE Data)'\n",
      " 'CMUO (HE Data)' 'C-3-R (HE Data)' 'C-3-S (HE Data)' 'MUO (HE Data)'\n",
      " 'NCT-FOLSOM (HE Data)' 'DOWNTOWN- OFFICE-300-S_pba40' 'CRNC (HE Data)'\n",
      " 'MUG (HE Data)' 'RC-4 (HE Data)' 'NCT-SOMA (HE Data)' 'RM-4 (HE Data)'\n",
      " 'UMU (HE Data)' 'RM-4 (BASIS)' 'P (HE Data)' 'RH DTR (HE Data)'\n",
      " 'WMUG (HE Data)' 'NEIGHBORHOOD COMMERCIAL, MODERATE SCALE-130-V_pba40'\n",
      " 'NCT-3 (HE Data)' \"240' Height Allowed (HE Data)\"\n",
      " \"85' Height Allowed (HE Data)\" 'NCT-DIVISADERO (HE Data)'\n",
      " 'NCT-FILLMORE (HE Data)' 'NCT-UPPER MARKET (HE Data)'\n",
      " 'NCT-HAYES (HE Data)' 'RTO (HE Data)' 'NCT-MISSION (HE Data)'\n",
      " 'NCT-VALENCIA (HE Data)' 'TN (BASIS)' 'TR (HE Data)'\n",
      " 'Transit Employment Center_pba40']\n"
     ]
    }
   ],
   "source": [
    "print(\"Number of Urban parcels with DUA > 200 is {}\".format(len(urban.loc[urban.max_dua > 200].parcel_id.unique())))\n",
    "print(\"This includes {} zoning codes\".format(len(urban.loc[urban.max_dua > 200].zoning_name.unique())))\n",
    "print(\"Zoning codes for those parcels are {}\".format(urban.loc[urban.max_dua > 200].zoning_name.unique()))"
   ]
  },
  {
   "cell_type": "markdown",
   "metadata": {},
   "source": [
    "3b. Look at FAR by \"density type\""
   ]
  },
  {
   "cell_type": "code",
   "execution_count": 70,
   "metadata": {},
   "outputs": [
    {
     "name": "stdout",
     "output_type": "stream",
     "text": [
      "Rural distribution of max FAR is AxesSubplot(0.125,0.125;0.775x0.755)\n"
     ]
    },
    {
     "data": {
      "image/png": "[encoded data removed]",
      "text/plain": [
       "<Figure size 432x288 with 1 Axes>"
      ]
     },
     "metadata": {
      "needs_background": "light"
     },
     "output_type": "display_data"
    }
   ],
   "source": [
    "print(\"Rural distribution of max FAR is {}\".format(rural.max_far.hist()))"
   ]
  },
  {
   "cell_type": "code",
   "execution_count": 73,
   "metadata": {},
   "outputs": [
    {
     "name": "stdout",
     "output_type": "stream",
     "text": [
      "Number of rural parcels with FAR > 3 is 22\n",
      "This includes 13 zoning codes\n",
      "Zoning codes for those parcels are ['C-S (BASIS)' 'P-D (BASIS)' 'RS-5 (BASIS)' 'CC (BASIS)' 'LDR (BASIS)'\n",
      " 'C-2 (BASIS)' nan 'C3 (BASIS)' 'MU (BASIS)' 'R1 (BASIS)' 'RAL (BASIS)'\n",
      " 'nan (BASIS)' 'OS (BASIS)']\n"
     ]
    }
   ],
   "source": [
    "print(\"Number of rural parcels with FAR > 3 is {}\".format(len(rural.loc[rural.max_far > 3].parcel_id.unique())))\n",
    "print(\"This includes {} zoning codes\".format(len(rural.loc[rural.max_far > 3].zoning_name.unique())))\n",
    "print(\"Zoning codes for those parcels are {}\".format(rural.loc[rural.max_far > 3].zoning_name.unique()))"
   ]
  },
  {
   "cell_type": "code",
   "execution_count": 84,
   "metadata": {},
   "outputs": [
    {
     "name": "stdout",
     "output_type": "stream",
     "text": [
      "Suburban distribution of max FAR is AxesSubplot(0.125,0.125;0.775x0.755)\n"
     ]
    },
    {
     "data": {
      "image/png": "[encoded data removed]",
      "text/plain": [
       "<Figure size 432x288 with 1 Axes>"
      ]
     },
     "metadata": {
      "needs_background": "light"
     },
     "output_type": "display_data"
    }
   ],
   "source": [
    "print(\"Suburban distribution of max FAR is {}\".format(suburban.max_far.hist()))"
   ]
  },
  {
   "cell_type": "code",
   "execution_count": 86,
   "metadata": {},
   "outputs": [
    {
     "name": "stdout",
     "output_type": "stream",
     "text": [
      "Number of suburban parcels with FAR > 3 is 216\n",
      "This includes 46 zoning codes\n",
      "Zoning codes for those parcels are ['C-R (m)/PUD-MU (HE Data)' 'DDTOD (BASIS)' 'C (BASIS)' 'DD-ZD (BASIS)'\n",
      " 'P/HS (BASIS)' 'DDVPD (BASIS)' 'RC (BASIS)' 'WMX (BASIS)' 'DP (BASIS)'\n",
      " 'HDR_pba40' 'M-3 (BASIS)' 'DTMU_pba40' 'RB (BASIS)' 'PUD (BASIS)'\n",
      " 'OF (BASIS)' 'MH_pba40' 'OA-H (BASIS)' 'RHD (BASIS)'\n",
      " 'Core Mixed Use (BASIS)' 'Neighborhood Mixed Use (BASIS)' 'DTC (BASIS)'\n",
      " 'MFMH_pba40' 'P-D (HE Data)' 'MU-C (HE Data)' 'O-C (BASIS)' 'MFVH_pba40'\n",
      " 'P-R (BASIS)' 'WEC (BASIS)' 'MU-PD (BASIS)' 'MR-A (BASIS)'\n",
      " 'MU-PD (HE Data)' 'P-D (BASIS)' 'Downtown Commercial (DC) (HE Data)'\n",
      " 'C-F (BASIS)' 'MFSH_pba40' 'C-C (BASIS)' 'AS (BASIS)' 'DC (BASIS)'\n",
      " 'RL-6 (BASIS)' 'O (BASIS)' 'T5N 50/70 (HE Data)' 'T4N 40/50 (HE Data)'\n",
      " 'T5MS 70/90 (HE Data)' 'T4MS 40/60 (HE Data)' 'T4MS 50/70 (HE Data)'\n",
      " 'T4MS 60/80 (HE Data)']\n"
     ]
    }
   ],
   "source": [
    "print(\"Number of suburban parcels with FAR > 3 is {}\".format(len(suburban.loc[suburban.max_far > 3].parcel_id.unique())))\n",
    "print(\"This includes {} zoning codes\".format(len(suburban.loc[suburban.max_far > 3].zoning_name.unique())))\n",
    "print(\"Zoning codes for those parcels are {}\".format(suburban.loc[suburban.max_far > 3].zoning_name.unique()))"
   ]
  },
  {
   "cell_type": "code",
   "execution_count": 78,
   "metadata": {},
   "outputs": [
    {
     "name": "stdout",
     "output_type": "stream",
     "text": [
      "Suburban-urban distribution of max FAR is AxesSubplot(0.125,0.125;0.775x0.755)\n"
     ]
    },
    {
     "data": {
      "image/png": "[encoded data removed]",
      "text/plain": [
       "<Figure size 432x288 with 1 Axes>"
      ]
     },
     "metadata": {
      "needs_background": "light"
     },
     "output_type": "display_data"
    }
   ],
   "source": [
    "print(\"Suburban-urban distribution of max FAR is {}\".format(suburbanurban.max_far.hist()))"
   ]
  },
  {
   "cell_type": "code",
   "execution_count": 88,
   "metadata": {},
   "outputs": [
    {
     "name": "stdout",
     "output_type": "stream",
     "text": [
      "Number of suburban-urban parcels with FAR > 6 is 176\n",
      "This includes 26 zoning codes\n",
      "Zoning codes for those parcels are ['RH (BASIS)' 'MUTOD (BASIS)' 'DA-1 (BASIS)' 'DA-4 (BASIS)'\n",
      " '112 - General Commercial_pba40' 'DA-2 (BASIS)' 'RU-4 (BASIS)'\n",
      " 'MSASPD-TOD (BASIS)' 'RRMU (BASIS)' 'MSASP General Commercial-30_pba40'\n",
      " 'MSASPD-EIZ (BASIS)' 'NBMU (BASIS)' 'R-3 (BASIS)'\n",
      " 'Park and Open Space_pba40' 'MSASP Quasi-Public_pba40'\n",
      " '606 - Retail and Office_pba40' 'DIA (BASIS)'\n",
      " 'MSASP Quasi-Public-30_pba40' 'C-MU (BASIS)'\n",
      " '606 - Low Density Residential_pba40'\n",
      " '606 - Medium-Low Density Residential_pba40' 'C (BASIS)'\n",
      " '606 - Government Facilities_pba40' nan 'C-RO (BASIS)' 'R-MD (BASIS)']\n"
     ]
    }
   ],
   "source": [
    "print(\"Number of suburban-urban parcels with FAR > 6 is {}\".format(len(suburbanurban.loc[suburbanurban.max_far > 6].parcel_id.unique())))\n",
    "print(\"This includes {} zoning codes\".format(len(suburbanurban.loc[suburbanurban.max_far > 6].zoning_name.unique())))\n",
    "print(\"Zoning codes for those parcels are {}\".format(suburbanurban.loc[suburbanurban.max_far > 6].zoning_name.unique()))"
   ]
  },
  {
   "cell_type": "code",
   "execution_count": 81,
   "metadata": {},
   "outputs": [
    {
     "name": "stdout",
     "output_type": "stream",
     "text": [
      "Urban distribution of max FAR is AxesSubplot(0.125,0.125;0.775x0.755)\n"
     ]
    },
    {
     "data": {
      "image/png": "[encoded data removed]",
      "text/plain": [
       "<Figure size 432x288 with 1 Axes>"
      ]
     },
     "metadata": {
      "needs_background": "light"
     },
     "output_type": "display_data"
    }
   ],
   "source": [
    "print(\"Urban distribution of max FAR is {}\".format(urban.max_far.hist()))"
   ]
  },
  {
   "cell_type": "code",
   "execution_count": 83,
   "metadata": {},
   "outputs": [
    {
     "name": "stdout",
     "output_type": "stream",
     "text": [
      "Number of Urban parcels with FAR > 10 is 47\n",
      "This includes 9 zoning codes\n",
      "Zoning codes for those parcels are ['D-LM-4 (BASIS)' 'S-15 (BASIS)' 'Central Business District_pba40'\n",
      " 'S-15W (BASIS)' 'Downtown_pba40' 'Transit Residential_pba40'\n",
      " 'Combined Industrial/Commercial_pba40' 'DOWNTOWN- OFFICE-300-S_pba40'\n",
      " \"240' Height Allowed (HE Data)\"]\n"
     ]
    }
   ],
   "source": [
    "print(\"Number of Urban parcels with FAR > 10 is {}\".format(len(urban.loc[urban.max_far > 10].parcel_id.unique())))\n",
    "print(\"This includes {} zoning codes\".format(len(urban.loc[urban.max_far > 10].zoning_name.unique())))\n",
    "print(\"Zoning codes for those parcels are {}\".format(urban.loc[urban.max_far > 10].zoning_name.unique()))"
   ]
  }
 ],
 "metadata": {
  "kernelspec": {
   "display_name": "baus-pip-env",
   "language": "python",
   "name": "python3"
  },
  "language_info": {
   "codemirror_mode": {
    "name": "ipython",
    "version": 3
   },
   "file_extension": ".py",
   "mimetype": "text/x-python",
   "name": "python",
   "nbconvert_exporter": "python",
   "pygments_lexer": "ipython3",
   "version": "3.6.15"
  },
  "orig_nbformat": 4,
  "vscode": {
   "interpreter": {
    "hash": "9278ca6451010c8509587daf3170d1f5396b4ec7bad79e6bf112ffac13fb68de"
   }
  }
 },
 "nbformat": 4,
 "nbformat_minor": 2
}
