{
 "cells": [
  {
   "cell_type": "code",
   "execution_count": 1,
   "metadata": {},
   "outputs": [],
   "source": [
    "import pandas as pd"
   ]
  },
  {
   "cell_type": "code",
   "execution_count": 2,
   "metadata": {},
   "outputs": [
    {
     "name": "stdout",
     "output_type": "stream",
     "text": [
      "row count: 58723\n",
      "\n",
      "unique development_projects_id: 58723\n",
      "\n",
      "action\n",
      "build    53713\n",
      "add       5010\n",
      "Name: count, dtype: int64 \n",
      "\n",
      "non_residential_sqft    392460056.0\n",
      "residential_units          439465.0\n",
      "dtype: float64 \n",
      "\n",
      "        non_residential_sqft  residential_units\n",
      "action                                         \n",
      "add               82823884.0            58031.0\n",
      "build            309636172.0           381434.0\n"
     ]
    },
    {
     "name": "stderr",
     "output_type": "stream",
     "text": [
      "C:\\Users\\ywang\\AppData\\Local\\Temp\\ipykernel_4052\\1866414638.py:2: DtypeWarning: Columns (3,4,6,7,8,9,14,22,23,26,27,34) have mixed types. Specify dtype option on import or set low_memory=False.\n",
      "  pipeline_dbp_version = pd.read_csv(\n"
     ]
    }
   ],
   "source": [
    "# pipeline data used in Draft Blueprint modeling\n",
    "pipeline_dbp_version = pd.read_csv(\n",
    "    r'M:\\urban_modeling\\baus\\BAUS Inputs\\basis_inputs\\parcels_buildings_agents\\development_pipeline_NP_2024-03-08.csv'\n",
    ")\n",
    "print('row count: {}'.format(len(pipeline_dbp_version)))\n",
    "print('\\nunique development_projects_id: {}\\n'.format(pipeline_dbp_version['development_projects_id'].nunique()))\n",
    "print(pipeline_dbp_version['action'].value_counts(dropna=False), '\\n')\n",
    "print(pipeline_dbp_version[['non_residential_sqft', 'residential_units']].sum(), '\\n')\n",
    "print(pipeline_dbp_version.groupby('action')[['non_residential_sqft', 'residential_units']].sum())"
   ]
  },
  {
   "cell_type": "code",
   "execution_count": 3,
   "metadata": {},
   "outputs": [],
   "source": [
    "# a function to modify the project list to ensure the earliest project on a parcel has \"build\" action\n",
    "\n",
    "def ensure_earliest_proj_build(df):\n",
    "    df = df.sort_values([\"PARCEL_ID\", \"year_built\"])\n",
    "    prev_parcel_id = None\n",
    "    for index, rec in df.iterrows():\n",
    "        if rec.PARCEL_ID != prev_parcel_id:\n",
    "            df.loc[index, \"action\"] = \"build\"\n",
    "        prev_parcel_id = rec.PARCEL_ID\n",
    "    \n",
    "    return df"
   ]
  },
  {
   "cell_type": "code",
   "execution_count": 4,
   "metadata": {},
   "outputs": [
    {
     "name": "stdout",
     "output_type": "stream",
     "text": [
      "action\n",
      "build    54503\n",
      "add       4220\n",
      "Name: count, dtype: int64 \n",
      "\n",
      "non_residential_sqft    392460056.0\n",
      "residential_units          439465.0\n",
      "dtype: float64 \n",
      "\n",
      "        non_residential_sqft  residential_units\n",
      "action                                         \n",
      "add               56993041.0            38754.0\n",
      "build            335467015.0           400711.0\n"
     ]
    }
   ],
   "source": [
    "# apply the modification\n",
    "pipeline_updated = ensure_earliest_proj_build(pipeline_dbp_version)\n",
    "\n",
    "print(pipeline_updated['action'].value_counts(dropna=False), '\\n')\n",
    "print(pipeline_updated[['non_residential_sqft', 'residential_units']].sum(), '\\n')\n",
    "print(pipeline_updated.groupby('action')[['non_residential_sqft', 'residential_units']].sum())"
   ]
  },
  {
   "cell_type": "code",
   "execution_count": null,
   "metadata": {},
   "outputs": [],
   "source": [
    "# drop \"geom_id\" column\n",
    "pipeline_updated.drop(['geom_id'], axis=1, inplace=False)\n",
    "print(list(pipeline_updated))"
   ]
  },
  {
   "cell_type": "code",
   "execution_count": 5,
   "metadata": {},
   "outputs": [
    {
     "name": "stdout",
     "output_type": "stream",
     "text": [
      "['development_projects_id', 'OBJECTID', 'raw_id', 'building_name', 'site_name', 'action', 'address', 'city', 'zip', 'county', 'x', 'y', 'geom_id', 'year_built', 'building_type_det', 'building_type', 'building_type_id', 'development_type_id', 'building_sqft', 'non_residential_sqft', 'residential_units', 'unit_ave_sqft', 'tenure', 'rent_type', 'stories', 'parking_spaces', 'average_weighted_rent', 'last_sale_year', 'last_sale_price', 'deed_restricted_units', 'source', 'PARCEL_ID', 'ZONE_ID', 'edit_date', 'editor', 'data_source', 'parcel_id_basis', 'building_id_basis', 'residential_sqft', 'preserved_units', 'inclusionary_units', 'subsidized_units']\n"
     ]
    }
   ],
   "source": [
    "# drop \"geom_id\" column\n",
    "pipeline_updated.drop(['geom_id'], axis=1, inplace=False)\n",
    "print(list(pipeline_updated))"
   ]
  },
  {
   "cell_type": "code",
   "execution_count": 6,
   "metadata": {},
   "outputs": [],
   "source": [
    "# write out\n",
    "pipeline_updated.to_csv(\n",
    "    r'M:\\urban_modeling\\baus\\BAUS Inputs\\basis_inputs\\parcels_buildings_agents\\development_pipeline_2024-07-31.csv', index=False\n",
    ")"
   ]
  },
  {
   "cell_type": "code",
   "execution_count": null,
   "metadata": {},
   "outputs": [],
   "source": []
  }
 ],
 "metadata": {
  "kernelspec": {
   "display_name": "geo_evn310",
   "language": "python",
   "name": "python3"
  },
  "language_info": {
   "codemirror_mode": {
    "name": "ipython",
    "version": 3
   },
   "file_extension": ".py",
   "mimetype": "text/x-python",
   "name": "python",
   "nbconvert_exporter": "python",
   "pygments_lexer": "ipython3",
   "version": "3.10.13"
  }
 },
 "nbformat": 4,
 "nbformat_minor": 2
}
