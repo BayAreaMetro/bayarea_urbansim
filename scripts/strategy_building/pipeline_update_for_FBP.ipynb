{
 "cells": [
  {
   "cell_type": "code",
   "execution_count": 30,
   "metadata": {},
   "outputs": [],
   "source": [
    "import pandas as pd"
   ]
  },
  {
   "cell_type": "markdown",
   "metadata": {},
   "source": [
    "### update on 7/31/2024: make sure the earliest project on a parcel has \"build\" action"
   ]
  },
  {
   "cell_type": "code",
   "execution_count": 31,
   "metadata": {},
   "outputs": [
    {
     "name": "stdout",
     "output_type": "stream",
     "text": [
      "row count: 58723\n",
      "\n",
      "unique development_projects_id: 58723\n",
      "\n",
      "build    53713\n",
      "add       5010\n",
      "Name: action, dtype: int64 \n",
      "\n",
      "non_residential_sqft    392460056.0\n",
      "residential_units          439465.0\n",
      "dtype: float64 \n",
      "\n",
      "        non_residential_sqft  residential_units\n",
      "action                                         \n",
      "add               82823884.0            58031.0\n",
      "build            309636172.0           381434.0\n"
     ]
    },
    {
     "name": "stderr",
     "output_type": "stream",
     "text": [
      "C:\\Users\\ywang\\AppData\\Local\\Temp\\ipykernel_12516\\1866414638.py:2: DtypeWarning: Columns (3,4,6,7,8,9,14,22,23,26,27,34) have mixed types. Specify dtype option on import or set low_memory=False.\n",
      "  pipeline_dbp_version = pd.read_csv(\n"
     ]
    }
   ],
   "source": [
    "# pipeline data used in Draft Blueprint modeling\n",
    "pipeline_dbp_version = pd.read_csv(\n",
    "    r'M:\\urban_modeling\\baus\\BAUS Inputs\\basis_inputs\\parcels_buildings_agents\\development_pipeline_NP_2024-03-08.csv'\n",
    ")\n",
    "print('row count: {}'.format(len(pipeline_dbp_version)))\n",
    "print('\\nunique development_projects_id: {}\\n'.format(pipeline_dbp_version['development_projects_id'].nunique()))\n",
    "print(pipeline_dbp_version['action'].value_counts(dropna=False), '\\n')\n",
    "print(pipeline_dbp_version[['non_residential_sqft', 'residential_units']].sum(), '\\n')\n",
    "print(pipeline_dbp_version.groupby('action')[['non_residential_sqft', 'residential_units']].sum())"
   ]
  },
  {
   "cell_type": "code",
   "execution_count": 32,
   "metadata": {},
   "outputs": [],
   "source": [
    "# a function to modify the project list to ensure the earliest project on a parcel has \"build\" action\n",
    "\n",
    "def ensure_earliest_proj_build(df):\n",
    "    df = df.sort_values([\"PARCEL_ID\", \"year_built\"])\n",
    "    prev_parcel_id = None\n",
    "    for index, rec in df.iterrows():\n",
    "        if rec.PARCEL_ID != prev_parcel_id:\n",
    "            df.loc[index, \"action\"] = \"build\"\n",
    "        prev_parcel_id = rec.PARCEL_ID\n",
    "    \n",
    "    return df"
   ]
  },
  {
   "cell_type": "code",
   "execution_count": 33,
   "metadata": {},
   "outputs": [
    {
     "name": "stdout",
     "output_type": "stream",
     "text": [
      "build    54503\n",
      "add       4220\n",
      "Name: action, dtype: int64 \n",
      "\n",
      "non_residential_sqft    392460056.0\n",
      "residential_units          439465.0\n",
      "dtype: float64 \n",
      "\n",
      "        non_residential_sqft  residential_units\n",
      "action                                         \n",
      "add               56993041.0            38754.0\n",
      "build            335467015.0           400711.0\n"
     ]
    }
   ],
   "source": [
    "# apply the modification\n",
    "pipeline_updated = ensure_earliest_proj_build(pipeline_dbp_version)\n",
    "\n",
    "print(pipeline_updated['action'].value_counts(dropna=False), '\\n')\n",
    "print(pipeline_updated[['non_residential_sqft', 'residential_units']].sum(), '\\n')\n",
    "print(pipeline_updated.groupby('action')[['non_residential_sqft', 'residential_units']].sum())"
   ]
  },
  {
   "cell_type": "code",
   "execution_count": 34,
   "metadata": {},
   "outputs": [
    {
     "name": "stdout",
     "output_type": "stream",
     "text": [
      "['development_projects_id', 'OBJECTID', 'raw_id', 'building_name', 'site_name', 'action', 'address', 'city', 'zip', 'county', 'x', 'y', 'geom_id', 'year_built', 'building_type_det', 'building_type', 'building_type_id', 'development_type_id', 'building_sqft', 'non_residential_sqft', 'residential_units', 'unit_ave_sqft', 'tenure', 'rent_type', 'stories', 'parking_spaces', 'average_weighted_rent', 'last_sale_year', 'last_sale_price', 'deed_restricted_units', 'source', 'PARCEL_ID', 'ZONE_ID', 'edit_date', 'editor', 'data_source', 'parcel_id_basis', 'building_id_basis', 'residential_sqft', 'preserved_units', 'inclusionary_units', 'subsidized_units']\n"
     ]
    }
   ],
   "source": [
    "# drop \"geom_id\" column\n",
    "pipeline_updated.drop(['geom_id'], axis=1, inplace=False)\n",
    "print(list(pipeline_updated))"
   ]
  },
  {
   "cell_type": "code",
   "execution_count": 35,
   "metadata": {},
   "outputs": [],
   "source": [
    "# # write out\n",
    "# pipeline_updated.to_csv(\n",
    "#     r'M:\\urban_modeling\\baus\\BAUS Inputs\\basis_inputs\\parcels_buildings_agents\\development_pipeline_2024-07-31.csv', index=False\n",
    "# )"
   ]
  },
  {
   "cell_type": "markdown",
   "metadata": {},
   "source": [
    "### update on 8/13/2024: remove \"manual\" projects from pipeline (while still making sure the earliest project on a parcel has \"build\" action)"
   ]
  },
  {
   "cell_type": "code",
   "execution_count": 36,
   "metadata": {},
   "outputs": [
    {
     "name": "stdout",
     "output_type": "stream",
     "text": [
      "row count: 58723\n",
      "\n",
      "unique development_projects_id: 58723\n",
      "\n",
      "basis_buildingsv0    44797\n",
      "bas_bp_new            5807\n",
      "cs                    3105\n",
      "rf                    2785\n",
      "basis                 1898\n",
      "manual                 331\n",
      "Name: source, dtype: int64 \n",
      "\n",
      "non_residential_sqft    392460056.0\n",
      "residential_units          439465.0\n",
      "dtype: float64 \n",
      "\n",
      "                   non_residential_sqft  residential_units\n",
      "source                                                    \n",
      "bas_bp_new                    7185174.0             8598.0\n",
      "basis                        49555908.0            75564.0\n",
      "basis_buildingsv0            54698303.0           108945.0\n",
      "cs                          225220281.0           170523.0\n",
      "manual                       55800390.0            73012.0\n",
      "rf                                  0.0             2823.0\n"
     ]
    },
    {
     "name": "stderr",
     "output_type": "stream",
     "text": [
      "C:\\Users\\ywang\\AppData\\Local\\Temp\\ipykernel_12516\\4054561755.py:3: DtypeWarning: Columns (3,4,6,7,8,9,14,22,23,26,27,34) have mixed types. Specify dtype option on import or set low_memory=False.\n",
      "  pipeline_dbp_version = pd.read_csv(\n"
     ]
    }
   ],
   "source": [
    "# pipeline data used in Draft Blueprint modeling\n",
    "\n",
    "pipeline_dbp_version = pd.read_csv(\n",
    "    r'M:\\urban_modeling\\baus\\BAUS Inputs\\basis_inputs\\parcels_buildings_agents\\development_pipeline_NP_2024-03-08.csv'\n",
    ")\n",
    "print('row count: {}'.format(len(pipeline_dbp_version)))\n",
    "print('\\nunique development_projects_id: {}\\n'.format(pipeline_dbp_version['development_projects_id'].nunique()))\n",
    "\n",
    "print(pipeline_dbp_version['source'].value_counts(dropna=False), '\\n')\n",
    "print(pipeline_dbp_version[['non_residential_sqft', 'residential_units']].sum(), '\\n')\n",
    "print(pipeline_dbp_version.groupby('source')[['non_residential_sqft', 'residential_units']].sum())"
   ]
  },
  {
   "cell_type": "code",
   "execution_count": 37,
   "metadata": {},
   "outputs": [
    {
     "name": "stdout",
     "output_type": "stream",
     "text": [
      "58392\n",
      "build    53527\n",
      "add       4865\n",
      "Name: action, dtype: int64 \n",
      "\n",
      "non_residential_sqft    336659666.0\n",
      "residential_units          366453.0\n",
      "dtype: float64 \n",
      "\n",
      "        non_residential_sqft  residential_units\n",
      "action                                         \n",
      "add               56923039.0            31624.0\n",
      "build            279736627.0           334829.0\n",
      "build    54275\n",
      "add       4117\n",
      "Name: action, dtype: int64 \n",
      "\n",
      "non_residential_sqft    336659666.0\n",
      "residential_units          366453.0\n",
      "dtype: float64 \n",
      "\n",
      "        non_residential_sqft  residential_units\n",
      "action                                         \n",
      "add               36660146.0            21370.0\n",
      "build            299999520.0           345083.0\n"
     ]
    }
   ],
   "source": [
    "# drop \"manual\"\n",
    "pipeline_wo_manual = pipeline_dbp_version.loc[pipeline_dbp_version['source'] != 'manual']\n",
    "print(len(pipeline_wo_manual))\n",
    "print(pipeline_wo_manual['action'].value_counts(dropna=False), '\\n')\n",
    "print(pipeline_wo_manual[['non_residential_sqft', 'residential_units']].sum(), '\\n')\n",
    "print(pipeline_wo_manual.groupby('action')[['non_residential_sqft', 'residential_units']].sum())\n",
    "\n",
    "# apply the modification on \"action\"\n",
    "pipeline_wo_manual_updated = ensure_earliest_proj_build(pipeline_wo_manual)\n",
    "\n",
    "print(pipeline_wo_manual_updated['action'].value_counts(dropna=False), '\\n')\n",
    "print(pipeline_wo_manual_updated[['non_residential_sqft', 'residential_units']].sum(), '\\n')\n",
    "print(pipeline_wo_manual_updated.groupby('action')[['non_residential_sqft', 'residential_units']].sum())"
   ]
  },
  {
   "cell_type": "code",
   "execution_count": 38,
   "metadata": {},
   "outputs": [
    {
     "name": "stdout",
     "output_type": "stream",
     "text": [
      "['development_projects_id', 'OBJECTID', 'raw_id', 'building_name', 'site_name', 'action', 'address', 'city', 'zip', 'county', 'x', 'y', 'geom_id', 'year_built', 'building_type_det', 'building_type', 'building_type_id', 'development_type_id', 'building_sqft', 'non_residential_sqft', 'residential_units', 'unit_ave_sqft', 'tenure', 'rent_type', 'stories', 'parking_spaces', 'average_weighted_rent', 'last_sale_year', 'last_sale_price', 'deed_restricted_units', 'source', 'PARCEL_ID', 'ZONE_ID', 'edit_date', 'editor', 'data_source', 'parcel_id_basis', 'building_id_basis', 'residential_sqft', 'preserved_units', 'inclusionary_units', 'subsidized_units']\n"
     ]
    }
   ],
   "source": [
    "# drop \"geom_id\" column\n",
    "pipeline_wo_manual_updated.drop(['geom_id'], axis=1, inplace=False)\n",
    "print(list(pipeline_wo_manual_updated))"
   ]
  },
  {
   "cell_type": "code",
   "execution_count": 39,
   "metadata": {},
   "outputs": [],
   "source": [
    "# # write out\n",
    "# pipeline_wo_manual_updated.to_csv(\n",
    "#     r'M:\\urban_modeling\\baus\\BAUS Inputs\\basis_inputs\\parcels_buildings_agents\\development_pipeline_wo_manual_2024-08-13.csv', index=False\n",
    "# )"
   ]
  },
  {
   "cell_type": "markdown",
   "metadata": {},
   "source": [
    "### update on 8/15/2024: use PBA50 scen25 (NoProject) equavilent pipeline projects for test run."
   ]
  },
  {
   "cell_type": "code",
   "execution_count": 40,
   "metadata": {},
   "outputs": [
    {
     "name": "stdout",
     "output_type": "stream",
     "text": [
      "49665\n"
     ]
    },
    {
     "name": "stderr",
     "output_type": "stream",
     "text": [
      "C:\\Users\\ywang\\AppData\\Local\\Temp\\ipykernel_12516\\292447193.py:1: DtypeWarning: Columns (3,4,28,30,44,45,48,49) have mixed types. Specify dtype option on import or set low_memory=False.\n",
      "  pba50_proj = pd.read_csv(\n"
     ]
    },
    {
     "data": {
      "text/html": [
       "<div>\n",
       "<style scoped>\n",
       "    .dataframe tbody tr th:only-of-type {\n",
       "        vertical-align: middle;\n",
       "    }\n",
       "\n",
       "    .dataframe tbody tr th {\n",
       "        vertical-align: top;\n",
       "    }\n",
       "\n",
       "    .dataframe thead th {\n",
       "        text-align: right;\n",
       "    }\n",
       "</style>\n",
       "<table border=\"1\" class=\"dataframe\">\n",
       "  <thead>\n",
       "    <tr style=\"text-align: right;\">\n",
       "      <th></th>\n",
       "      <th>non_residential_sqft</th>\n",
       "      <th>residential_units</th>\n",
       "      <th>source</th>\n",
       "    </tr>\n",
       "    <tr>\n",
       "      <th>scen25</th>\n",
       "      <th></th>\n",
       "      <th></th>\n",
       "      <th></th>\n",
       "    </tr>\n",
       "  </thead>\n",
       "  <tbody>\n",
       "    <tr>\n",
       "      <th>0</th>\n",
       "      <td>154009073</td>\n",
       "      <td>789938</td>\n",
       "      <td>12872</td>\n",
       "    </tr>\n",
       "    <tr>\n",
       "      <th>1</th>\n",
       "      <td>337074344</td>\n",
       "      <td>398569</td>\n",
       "      <td>36793</td>\n",
       "    </tr>\n",
       "  </tbody>\n",
       "</table>\n",
       "</div>"
      ],
      "text/plain": [
       "        non_residential_sqft  residential_units  source\n",
       "scen25                                                 \n",
       "0                  154009073             789938   12872\n",
       "1                  337074344             398569   36793"
      ]
     },
     "metadata": {},
     "output_type": "display_data"
    },
    {
     "data": {
      "text/html": [
       "<div>\n",
       "<style scoped>\n",
       "    .dataframe tbody tr th:only-of-type {\n",
       "        vertical-align: middle;\n",
       "    }\n",
       "\n",
       "    .dataframe tbody tr th {\n",
       "        vertical-align: top;\n",
       "    }\n",
       "\n",
       "    .dataframe thead th {\n",
       "        text-align: right;\n",
       "    }\n",
       "</style>\n",
       "<table border=\"1\" class=\"dataframe\">\n",
       "  <thead>\n",
       "    <tr style=\"text-align: right;\">\n",
       "      <th></th>\n",
       "      <th>non_residential_sqft</th>\n",
       "      <th>residential_units</th>\n",
       "      <th>source</th>\n",
       "    </tr>\n",
       "    <tr>\n",
       "      <th>scen24</th>\n",
       "      <th></th>\n",
       "      <th></th>\n",
       "      <th></th>\n",
       "    </tr>\n",
       "  </thead>\n",
       "  <tbody>\n",
       "    <tr>\n",
       "      <th>0</th>\n",
       "      <td>55603639</td>\n",
       "      <td>408824</td>\n",
       "      <td>11219</td>\n",
       "    </tr>\n",
       "    <tr>\n",
       "      <th>1</th>\n",
       "      <td>435479778</td>\n",
       "      <td>779683</td>\n",
       "      <td>38446</td>\n",
       "    </tr>\n",
       "  </tbody>\n",
       "</table>\n",
       "</div>"
      ],
      "text/plain": [
       "        non_residential_sqft  residential_units  source\n",
       "scen24                                                 \n",
       "0                   55603639             408824   11219\n",
       "1                  435479778             779683   38446"
      ]
     },
     "metadata": {},
     "output_type": "display_data"
    }
   ],
   "source": [
    "pba50_proj = pd.read_csv(\n",
    "    r'C:\\Users\\ywang\\Box\\Modeling and Surveys\\Urban Modeling\\Bay Area UrbanSim\\PBA50\\Development Projects\\2021_0308_1907_development_projects.csv')\n",
    "print(len(pba50_proj))\n",
    "\n",
    "display(pba50_proj.groupby(['scen25']).agg(\n",
    "    {'non_residential_sqft': 'sum',\n",
    "     'residential_units': 'sum',\n",
    "     'source': 'count'}))\n",
    "\n",
    "display(pba50_proj.groupby(['scen24']).agg(\n",
    "    {'non_residential_sqft': 'sum',\n",
    "     'residential_units': 'sum',\n",
    "     'source': 'count'}))"
   ]
  },
  {
   "cell_type": "code",
   "execution_count": 41,
   "metadata": {},
   "outputs": [
    {
     "name": "stdout",
     "output_type": "stream",
     "text": [
      "NoProject:\n",
      "36793\n"
     ]
    },
    {
     "data": {
      "text/html": [
       "<div>\n",
       "<style scoped>\n",
       "    .dataframe tbody tr th:only-of-type {\n",
       "        vertical-align: middle;\n",
       "    }\n",
       "\n",
       "    .dataframe tbody tr th {\n",
       "        vertical-align: top;\n",
       "    }\n",
       "\n",
       "    .dataframe thead th {\n",
       "        text-align: right;\n",
       "    }\n",
       "</style>\n",
       "<table border=\"1\" class=\"dataframe\">\n",
       "  <thead>\n",
       "    <tr style=\"text-align: right;\">\n",
       "      <th></th>\n",
       "      <th>non_residential_sqft</th>\n",
       "      <th>residential_units</th>\n",
       "      <th>source</th>\n",
       "    </tr>\n",
       "    <tr>\n",
       "      <th>source</th>\n",
       "      <th></th>\n",
       "      <th></th>\n",
       "      <th></th>\n",
       "    </tr>\n",
       "  </thead>\n",
       "  <tbody>\n",
       "    <tr>\n",
       "      <th>bas_bp_new</th>\n",
       "      <td>15861653</td>\n",
       "      <td>34778</td>\n",
       "      <td>26292</td>\n",
       "    </tr>\n",
       "    <tr>\n",
       "      <th>basis</th>\n",
       "      <td>49709367</td>\n",
       "      <td>88440</td>\n",
       "      <td>1968</td>\n",
       "    </tr>\n",
       "    <tr>\n",
       "      <th>cs</th>\n",
       "      <td>210648032</td>\n",
       "      <td>182263</td>\n",
       "      <td>3591</td>\n",
       "    </tr>\n",
       "    <tr>\n",
       "      <th>manual</th>\n",
       "      <td>60855292</td>\n",
       "      <td>88526</td>\n",
       "      <td>425</td>\n",
       "    </tr>\n",
       "    <tr>\n",
       "      <th>rf</th>\n",
       "      <td>0</td>\n",
       "      <td>4562</td>\n",
       "      <td>4517</td>\n",
       "    </tr>\n",
       "  </tbody>\n",
       "</table>\n",
       "</div>"
      ],
      "text/plain": [
       "            non_residential_sqft  residential_units  source\n",
       "source                                                     \n",
       "bas_bp_new              15861653              34778   26292\n",
       "basis                   49709367              88440    1968\n",
       "cs                     210648032             182263    3591\n",
       "manual                  60855292              88526     425\n",
       "rf                             0               4562    4517"
      ]
     },
     "metadata": {},
     "output_type": "display_data"
    },
    {
     "name": "stdout",
     "output_type": "stream",
     "text": [
      "\n",
      "Final Blueprint:\n",
      "38446\n"
     ]
    },
    {
     "data": {
      "text/html": [
       "<div>\n",
       "<style scoped>\n",
       "    .dataframe tbody tr th:only-of-type {\n",
       "        vertical-align: middle;\n",
       "    }\n",
       "\n",
       "    .dataframe tbody tr th {\n",
       "        vertical-align: top;\n",
       "    }\n",
       "\n",
       "    .dataframe thead th {\n",
       "        text-align: right;\n",
       "    }\n",
       "</style>\n",
       "<table border=\"1\" class=\"dataframe\">\n",
       "  <thead>\n",
       "    <tr style=\"text-align: right;\">\n",
       "      <th></th>\n",
       "      <th>non_residential_sqft</th>\n",
       "      <th>residential_units</th>\n",
       "      <th>source</th>\n",
       "    </tr>\n",
       "    <tr>\n",
       "      <th>source</th>\n",
       "      <th></th>\n",
       "      <th></th>\n",
       "      <th></th>\n",
       "    </tr>\n",
       "  </thead>\n",
       "  <tbody>\n",
       "    <tr>\n",
       "      <th>bas_bp_new</th>\n",
       "      <td>15861653</td>\n",
       "      <td>34778</td>\n",
       "      <td>26292</td>\n",
       "    </tr>\n",
       "    <tr>\n",
       "      <th>basis</th>\n",
       "      <td>49709367</td>\n",
       "      <td>88440</td>\n",
       "      <td>1968</td>\n",
       "    </tr>\n",
       "    <tr>\n",
       "      <th>cs</th>\n",
       "      <td>210648032</td>\n",
       "      <td>182263</td>\n",
       "      <td>3591</td>\n",
       "    </tr>\n",
       "    <tr>\n",
       "      <th>incubator</th>\n",
       "      <td>11250000</td>\n",
       "      <td>0</td>\n",
       "      <td>25</td>\n",
       "    </tr>\n",
       "    <tr>\n",
       "      <th>mall_office</th>\n",
       "      <td>27217094</td>\n",
       "      <td>155602</td>\n",
       "      <td>510</td>\n",
       "    </tr>\n",
       "    <tr>\n",
       "      <th>manual</th>\n",
       "      <td>60855292</td>\n",
       "      <td>88526</td>\n",
       "      <td>425</td>\n",
       "    </tr>\n",
       "    <tr>\n",
       "      <th>opp</th>\n",
       "      <td>5860364</td>\n",
       "      <td>57942</td>\n",
       "      <td>88</td>\n",
       "    </tr>\n",
       "    <tr>\n",
       "      <th>ppa</th>\n",
       "      <td>45701976</td>\n",
       "      <td>0</td>\n",
       "      <td>138</td>\n",
       "    </tr>\n",
       "    <tr>\n",
       "      <th>pub</th>\n",
       "      <td>8376000</td>\n",
       "      <td>167570</td>\n",
       "      <td>892</td>\n",
       "    </tr>\n",
       "    <tr>\n",
       "      <th>rf</th>\n",
       "      <td>0</td>\n",
       "      <td>4562</td>\n",
       "      <td>4517</td>\n",
       "    </tr>\n",
       "  </tbody>\n",
       "</table>\n",
       "</div>"
      ],
      "text/plain": [
       "             non_residential_sqft  residential_units  source\n",
       "source                                                      \n",
       "bas_bp_new               15861653              34778   26292\n",
       "basis                    49709367              88440    1968\n",
       "cs                      210648032             182263    3591\n",
       "incubator                11250000                  0      25\n",
       "mall_office              27217094             155602     510\n",
       "manual                   60855292              88526     425\n",
       "opp                       5860364              57942      88\n",
       "ppa                      45701976                  0     138\n",
       "pub                       8376000             167570     892\n",
       "rf                              0               4562    4517"
      ]
     },
     "metadata": {},
     "output_type": "display_data"
    }
   ],
   "source": [
    "print('NoProject:')\n",
    "pba50_NP = pba50_proj.loc[pba50_proj['scen25'] == 1]\n",
    "print(len(pba50_NP))\n",
    "display(pba50_NP.groupby(['source']).agg(\n",
    "    {'non_residential_sqft': 'sum',\n",
    "     'residential_units': 'sum',\n",
    "     'source': 'count'}))\n",
    "\n",
    "print('\\nFinal Blueprint:')\n",
    "pba50_FBP = pba50_proj.loc[pba50_proj['scen24'] == 1]\n",
    "print(len(pba50_FBP))\n",
    "display(pba50_FBP.groupby(['source']).agg(\n",
    "    {'non_residential_sqft': 'sum',\n",
    "     'residential_units': 'sum',\n",
    "     'source': 'count'}))"
   ]
  },
  {
   "cell_type": "code",
   "execution_count": 42,
   "metadata": {},
   "outputs": [
    {
     "name": "stdout",
     "output_type": "stream",
     "text": [
      "['data_source', 'parcel_id_basis', 'building_id_basis', 'residential_sqft', 'preserved_units', 'inclusionary_units', 'subsidized_units']\n"
     ]
    }
   ],
   "source": [
    "# check if important fields in the PBA50+ schema is missing from the PBA50 data\n",
    "pba50plus_cols = list(pipeline_dbp_version)\n",
    "pba50plus_cols.remove('geom_id')\n",
    "# print(pba50plus_cols)\n",
    "not_in_pba50 = [i for i in list(pba50plus_cols) if not (i in list(pba50_NP))]\n",
    "print(not_in_pba50)"
   ]
  },
  {
   "cell_type": "code",
   "execution_count": 43,
   "metadata": {},
   "outputs": [
    {
     "data": {
      "text/plain": [
       "data_source      source           \n",
       "basis_buildings  basis_buildingsv0    44797\n",
       "baus_pipeline    bas_bp_new            5807\n",
       "                 basis                 1898\n",
       "                 cs                    3105\n",
       "                 manual                 331\n",
       "                 rf                    2785\n",
       "Name: source, dtype: int64"
      ]
     },
     "execution_count": 43,
     "metadata": {},
     "output_type": "execute_result"
    }
   ],
   "source": [
    "# check what value should be assigned to the 'data_source' field\n",
    "pipeline_dbp_version.groupby(['data_source', 'source'])['source'].count()"
   ]
  },
  {
   "cell_type": "code",
   "execution_count": 44,
   "metadata": {},
   "outputs": [
    {
     "name": "stderr",
     "output_type": "stream",
     "text": [
      "C:\\Users\\ywang\\AppData\\Local\\Temp\\ipykernel_12516\\1362611316.py:3: SettingWithCopyWarning: \n",
      "A value is trying to be set on a copy of a slice from a DataFrame.\n",
      "Try using .loc[row_indexer,col_indexer] = value instead\n",
      "\n",
      "See the caveats in the documentation: https://pandas.pydata.org/pandas-docs/stable/user_guide/indexing.html#returning-a-view-versus-a-copy\n",
      "  pba50_NP_pipeline['data_source'] = 'baus_pipeline'\n"
     ]
    }
   ],
   "source": [
    "# keep only needed fields, and add 'data_source'\n",
    "pba50_NP_pipeline = pba50_NP[[i for i in list(pba50plus_cols) if (i in list(pba50_NP))]]\n",
    "pba50_NP_pipeline['data_source'] = 'baus_pipeline'"
   ]
  },
  {
   "cell_type": "code",
   "execution_count": 46,
   "metadata": {},
   "outputs": [
    {
     "name": "stdout",
     "output_type": "stream",
     "text": [
      "36793\n"
     ]
    }
   ],
   "source": [
    "# write out\n",
    "print(len(pba50_NP_pipeline))\n",
    "pba50_NP_pipeline.to_csv(\n",
    "    r'M:\\urban_modeling\\baus\\BAUS Inputs\\basis_inputs\\parcels_buildings_agents\\development_pipeline_PBA50_NPequiv_2024-08-15.csv', index=False\n",
    ")"
   ]
  }
 ],
 "metadata": {
  "kernelspec": {
   "display_name": "geo_evn310",
   "language": "python",
   "name": "python3"
  },
  "language_info": {
   "codemirror_mode": {
    "name": "ipython",
    "version": 3
   },
   "file_extension": ".py",
   "mimetype": "text/x-python",
   "name": "python",
   "nbconvert_exporter": "python",
   "pygments_lexer": "ipython3",
   "version": "3.8.15"
  }
 },
 "nbformat": 4,
 "nbformat_minor": 2
}
