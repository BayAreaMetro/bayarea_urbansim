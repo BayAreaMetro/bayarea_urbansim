{
 "cells": [
  {
   "cell_type": "code",
   "execution_count": 2,
   "metadata": {},
   "outputs": [],
   "source": [
    "import pandas as pd"
   ]
  },
  {
   "cell_type": "markdown",
   "metadata": {},
   "source": [
    "### update on 7/31/2024: make sure the earliest project on a parcel has \"build\" action"
   ]
  },
  {
   "cell_type": "code",
   "execution_count": 3,
   "metadata": {},
   "outputs": [
    {
     "name": "stdout",
     "output_type": "stream",
     "text": [
      "row count: 58723\n",
      "\n",
      "unique development_projects_id: 58723\n",
      "\n",
      "build    53713\n",
      "add       5010\n",
      "Name: action, dtype: int64 \n",
      "\n",
      "non_residential_sqft    392460056.0\n",
      "residential_units          439465.0\n",
      "dtype: float64 \n",
      "\n",
      "        non_residential_sqft  residential_units\n",
      "action                                         \n",
      "add               82823884.0            58031.0\n",
      "build            309636172.0           381434.0\n"
     ]
    },
    {
     "name": "stderr",
     "output_type": "stream",
     "text": [
      "C:\\Users\\ywang\\AppData\\Local\\Temp\\ipykernel_29500\\1866414638.py:2: DtypeWarning: Columns (3,4,6,7,8,9,14,22,23,26,27,34) have mixed types. Specify dtype option on import or set low_memory=False.\n",
      "  pipeline_dbp_version = pd.read_csv(\n"
     ]
    }
   ],
   "source": [
    "# pipeline data used in Draft Blueprint modeling\n",
    "pipeline_dbp_version = pd.read_csv(\n",
    "    r'M:\\urban_modeling\\baus\\BAUS Inputs\\basis_inputs\\parcels_buildings_agents\\development_pipeline_NP_2024-03-08.csv'\n",
    ")\n",
    "print('row count: {}'.format(len(pipeline_dbp_version)))\n",
    "print('\\nunique development_projects_id: {}\\n'.format(pipeline_dbp_version['development_projects_id'].nunique()))\n",
    "print(pipeline_dbp_version['action'].value_counts(dropna=False), '\\n')\n",
    "print(pipeline_dbp_version[['non_residential_sqft', 'residential_units']].sum(), '\\n')\n",
    "print(pipeline_dbp_version.groupby('action')[['non_residential_sqft', 'residential_units']].sum())"
   ]
  },
  {
   "cell_type": "code",
   "execution_count": 4,
   "metadata": {},
   "outputs": [],
   "source": [
    "# a function to modify the project list to ensure the earliest project on a parcel has \"build\" action\n",
    "\n",
    "def ensure_earliest_proj_build(df):\n",
    "    df = df.sort_values([\"PARCEL_ID\", \"year_built\"])\n",
    "    prev_parcel_id = None\n",
    "    for index, rec in df.iterrows():\n",
    "        if rec.PARCEL_ID != prev_parcel_id:\n",
    "            df.loc[index, \"action\"] = \"build\"\n",
    "        prev_parcel_id = rec.PARCEL_ID\n",
    "    \n",
    "    return df"
   ]
  },
  {
   "cell_type": "code",
   "execution_count": 5,
   "metadata": {},
   "outputs": [
    {
     "name": "stdout",
     "output_type": "stream",
     "text": [
      "build    54503\n",
      "add       4220\n",
      "Name: action, dtype: int64 \n",
      "\n",
      "non_residential_sqft    392460056.0\n",
      "residential_units          439465.0\n",
      "dtype: float64 \n",
      "\n",
      "        non_residential_sqft  residential_units\n",
      "action                                         \n",
      "add               56993041.0            38754.0\n",
      "build            335467015.0           400711.0\n"
     ]
    }
   ],
   "source": [
    "# apply the modification\n",
    "pipeline_updated = ensure_earliest_proj_build(pipeline_dbp_version)\n",
    "\n",
    "print(pipeline_updated['action'].value_counts(dropna=False), '\\n')\n",
    "print(pipeline_updated[['non_residential_sqft', 'residential_units']].sum(), '\\n')\n",
    "print(pipeline_updated.groupby('action')[['non_residential_sqft', 'residential_units']].sum())"
   ]
  },
  {
   "cell_type": "code",
   "execution_count": 6,
   "metadata": {},
   "outputs": [
    {
     "name": "stdout",
     "output_type": "stream",
     "text": [
      "['development_projects_id', 'OBJECTID', 'raw_id', 'building_name', 'site_name', 'action', 'address', 'city', 'zip', 'county', 'x', 'y', 'geom_id', 'year_built', 'building_type_det', 'building_type', 'building_type_id', 'development_type_id', 'building_sqft', 'non_residential_sqft', 'residential_units', 'unit_ave_sqft', 'tenure', 'rent_type', 'stories', 'parking_spaces', 'average_weighted_rent', 'last_sale_year', 'last_sale_price', 'deed_restricted_units', 'source', 'PARCEL_ID', 'ZONE_ID', 'edit_date', 'editor', 'data_source', 'parcel_id_basis', 'building_id_basis', 'residential_sqft', 'preserved_units', 'inclusionary_units', 'subsidized_units']\n"
     ]
    }
   ],
   "source": [
    "# drop \"geom_id\" column\n",
    "pipeline_updated.drop(['geom_id'], axis=1, inplace=False)\n",
    "print(list(pipeline_updated))"
   ]
  },
  {
   "cell_type": "code",
   "execution_count": 6,
   "metadata": {},
   "outputs": [],
   "source": [
    "# # write out\n",
    "# pipeline_updated.to_csv(\n",
    "#     r'M:\\urban_modeling\\baus\\BAUS Inputs\\basis_inputs\\parcels_buildings_agents\\development_pipeline_2024-07-31.csv', index=False\n",
    "# )"
   ]
  },
  {
   "cell_type": "markdown",
   "metadata": {},
   "source": [
    "### update on 8/13/2024: remove \"manual\" projects from pipeline (while still making sure the earliest project on a parcel has \"build\" action)"
   ]
  },
  {
   "cell_type": "code",
   "execution_count": 7,
   "metadata": {},
   "outputs": [
    {
     "name": "stdout",
     "output_type": "stream",
     "text": [
      "row count: 58723\n",
      "\n",
      "unique development_projects_id: 58723\n",
      "\n",
      "basis_buildingsv0    44797\n",
      "bas_bp_new            5807\n",
      "cs                    3105\n",
      "rf                    2785\n",
      "basis                 1898\n",
      "manual                 331\n",
      "Name: source, dtype: int64 \n",
      "\n",
      "non_residential_sqft    392460056.0\n",
      "residential_units          439465.0\n",
      "dtype: float64 \n",
      "\n",
      "                   non_residential_sqft  residential_units\n",
      "source                                                    \n",
      "bas_bp_new                    7185174.0             8598.0\n",
      "basis                        49555908.0            75564.0\n",
      "basis_buildingsv0            54698303.0           108945.0\n",
      "cs                          225220281.0           170523.0\n",
      "manual                       55800390.0            73012.0\n",
      "rf                                  0.0             2823.0\n"
     ]
    },
    {
     "name": "stderr",
     "output_type": "stream",
     "text": [
      "C:\\Users\\ywang\\AppData\\Local\\Temp\\ipykernel_29500\\4054561755.py:3: DtypeWarning: Columns (3,4,6,7,8,9,14,22,23,26,27,34) have mixed types. Specify dtype option on import or set low_memory=False.\n",
      "  pipeline_dbp_version = pd.read_csv(\n"
     ]
    }
   ],
   "source": [
    "# pipeline data used in Draft Blueprint modeling\n",
    "\n",
    "pipeline_dbp_version = pd.read_csv(\n",
    "    r'M:\\urban_modeling\\baus\\BAUS Inputs\\basis_inputs\\parcels_buildings_agents\\development_pipeline_NP_2024-03-08.csv'\n",
    ")\n",
    "print('row count: {}'.format(len(pipeline_dbp_version)))\n",
    "print('\\nunique development_projects_id: {}\\n'.format(pipeline_dbp_version['development_projects_id'].nunique()))\n",
    "\n",
    "print(pipeline_dbp_version['source'].value_counts(dropna=False), '\\n')\n",
    "print(pipeline_dbp_version[['non_residential_sqft', 'residential_units']].sum(), '\\n')\n",
    "print(pipeline_dbp_version.groupby('source')[['non_residential_sqft', 'residential_units']].sum())"
   ]
  },
  {
   "cell_type": "code",
   "execution_count": 8,
   "metadata": {},
   "outputs": [
    {
     "name": "stdout",
     "output_type": "stream",
     "text": [
      "58392\n",
      "build    53527\n",
      "add       4865\n",
      "Name: action, dtype: int64 \n",
      "\n",
      "non_residential_sqft    336659666.0\n",
      "residential_units          366453.0\n",
      "dtype: float64 \n",
      "\n",
      "        non_residential_sqft  residential_units\n",
      "action                                         \n",
      "add               56923039.0            31624.0\n",
      "build            279736627.0           334829.0\n",
      "build    54275\n",
      "add       4117\n",
      "Name: action, dtype: int64 \n",
      "\n",
      "non_residential_sqft    336659666.0\n",
      "residential_units          366453.0\n",
      "dtype: float64 \n",
      "\n",
      "        non_residential_sqft  residential_units\n",
      "action                                         \n",
      "add               36660146.0            21370.0\n",
      "build            299999520.0           345083.0\n"
     ]
    }
   ],
   "source": [
    "# drop \"manual\"\n",
    "pipeline_wo_manual = pipeline_dbp_version.loc[pipeline_dbp_version['source'] != 'manual']\n",
    "print(len(pipeline_wo_manual))\n",
    "print(pipeline_wo_manual['action'].value_counts(dropna=False), '\\n')\n",
    "print(pipeline_wo_manual[['non_residential_sqft', 'residential_units']].sum(), '\\n')\n",
    "print(pipeline_wo_manual.groupby('action')[['non_residential_sqft', 'residential_units']].sum())\n",
    "\n",
    "# apply the modification on \"action\"\n",
    "pipeline_wo_manual_updated = ensure_earliest_proj_build(pipeline_wo_manual)\n",
    "\n",
    "print(pipeline_wo_manual_updated['action'].value_counts(dropna=False), '\\n')\n",
    "print(pipeline_wo_manual_updated[['non_residential_sqft', 'residential_units']].sum(), '\\n')\n",
    "print(pipeline_wo_manual_updated.groupby('action')[['non_residential_sqft', 'residential_units']].sum())"
   ]
  },
  {
   "cell_type": "code",
   "execution_count": 9,
   "metadata": {},
   "outputs": [
    {
     "name": "stdout",
     "output_type": "stream",
     "text": [
      "['development_projects_id', 'OBJECTID', 'raw_id', 'building_name', 'site_name', 'action', 'address', 'city', 'zip', 'county', 'x', 'y', 'geom_id', 'year_built', 'building_type_det', 'building_type', 'building_type_id', 'development_type_id', 'building_sqft', 'non_residential_sqft', 'residential_units', 'unit_ave_sqft', 'tenure', 'rent_type', 'stories', 'parking_spaces', 'average_weighted_rent', 'last_sale_year', 'last_sale_price', 'deed_restricted_units', 'source', 'PARCEL_ID', 'ZONE_ID', 'edit_date', 'editor', 'data_source', 'parcel_id_basis', 'building_id_basis', 'residential_sqft', 'preserved_units', 'inclusionary_units', 'subsidized_units']\n"
     ]
    }
   ],
   "source": [
    "# drop \"geom_id\" column\n",
    "pipeline_wo_manual_updated.drop(['geom_id'], axis=1, inplace=False)\n",
    "print(list(pipeline_wo_manual_updated))"
   ]
  },
  {
   "cell_type": "code",
   "execution_count": 10,
   "metadata": {},
   "outputs": [],
   "source": [
    "# write out\n",
    "pipeline_wo_manual_updated.to_csv(\n",
    "    r'M:\\urban_modeling\\baus\\BAUS Inputs\\basis_inputs\\parcels_buildings_agents\\development_pipeline_wo_manual_2024-08-13.csv', index=False\n",
    ")"
   ]
  }
 ],
 "metadata": {
  "kernelspec": {
   "display_name": "geo_evn310",
   "language": "python",
   "name": "python3"
  },
  "language_info": {
   "codemirror_mode": {
    "name": "ipython",
    "version": 3
   },
   "file_extension": ".py",
   "mimetype": "text/x-python",
   "name": "python",
   "nbconvert_exporter": "python",
   "pygments_lexer": "ipython3",
   "version": "3.8.15"
  }
 },
 "nbformat": 4,
 "nbformat_minor": 2
}
