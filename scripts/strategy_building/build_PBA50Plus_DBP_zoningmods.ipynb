{
 "cells": [
  {
   "cell_type": "markdown",
   "metadata": {},
   "source": [
    "#### Build zoningmods lookup table for PBA50+ and add Draft Blueprint zoning values"
   ]
  },
  {
   "cell_type": "code",
   "execution_count": 1,
   "metadata": {},
   "outputs": [],
   "source": [
    "import pandas as pd\n",
    "import numpy as np"
   ]
  },
  {
   "cell_type": "markdown",
   "id": "6dedb1fb",
   "metadata": {},
   "source": [
    "Build the PBA50+ zoningmods table using the parcels geography table and \"zoningmodcat\" column"
   ]
  },
  {
   "cell_type": "code",
   "execution_count": 2,
   "id": "3aab1bd9",
   "metadata": {},
   "outputs": [],
   "source": [
    "# read in parcels geography\n",
    "parcels_geog = pd.read_csv(\"M:/urban_modeling/baus/BAUS Inputs/basis_inputs/crosswalks/parcels_geography_2024_01_30.csv\")"
   ]
  },
  {
   "cell_type": "code",
   "execution_count": 3,
   "id": "7f180d2f",
   "metadata": {},
   "outputs": [],
   "source": [
    "# add a zoniongmodcat column to parcels geography\n",
    "parcels_geog['zoningmodcat'] = ''\n",
    "for col in [\"gg_id\", \"exd_id\", \"tra_id\", \"hra_id\", \"ppa_id\", \"ugb_id\"]:\n",
    "    # leave this line in only because the PBA50 BAUS code makes strings lowercase\n",
    "    # and it will ensure the PBA50 strategy inputs will work\n",
    "    parcels_geog[col] = parcels_geog[col].str.lower()\n",
    "    parcels_geog[col] = parcels_geog[col].fillna('NA')\n",
    "    parcels_geog['zoningmodcat'] = parcels_geog['zoningmodcat'] + parcels_geog[col]"
   ]
  },
  {
   "cell_type": "code",
   "execution_count": 4,
   "id": "bcac9edc",
   "metadata": {},
   "outputs": [],
   "source": [
    "# build zoningmods using zoningmodcat values from parcels geography as the primary key\n",
    "zoningmods = pd.DataFrame({'zoningmodcat': parcels_geog['zoningmodcat'].unique()})\n",
    "\n",
    "# then add other zoningmods columns\n",
    "for col in [\"gg_id\", \"exd_id\", \"tra_id\", \"hra_id\", \"ppa_id\", \"ugb_id\", \n",
    "            \"add_bldg\", \"drop_bldg\", \"dua_up\", \"far_up\", \"dua_down\", \"far_down\"]:\n",
    "    zoningmods[col] = np.nan\n",
    "\n",
    "zoningmods.loc[zoningmods.zoningmodcat.str.contains(\"gg\"), \"gg_id\"] = \"GG\"\n",
    "zoningmods.loc[zoningmods.zoningmodcat.str.contains(\"exd\"), \"exd_id\"] = \"exd\"\n",
    "zoningmods.loc[zoningmods.zoningmodcat.str.contains(\"tra1\"), \"tra_id\"] = \"TRA1\"\n",
    "zoningmods.loc[zoningmods.zoningmodcat.str.contains(\"tra2\"), \"tra_id\"] = \"TRA2\"\n",
    "zoningmods.loc[zoningmods.zoningmodcat.str.contains(\"tra3\"), \"tra_id\"] = \"TRA3\"\n",
    "zoningmods.loc[zoningmods.zoningmodcat.str.contains(\"hra\"), \"hra_id\"] = \"HRA\"\n",
    "zoningmods.loc[zoningmods.zoningmodcat.str.contains(\"ppa\"), \"ppa_id\"] = \"PPA\"\n",
    "zoningmods.loc[zoningmods.zoningmodcat.str.contains(\"ugb\"), \"ugb_id\"] = \"UGB\"\n",
    "zoningmods.loc[zoningmods.zoningmodcat.str.contains(\"uninc_ugb\"), \"ugb_id\"] = \"Uninc_UGB\"\n"
   ]
  },
  {
   "cell_type": "markdown",
   "id": "fc4ab03a",
   "metadata": {},
   "source": [
    "Add Zoning Step 1: Add unincorporated UGB zoning (doesn't apply to PPAs)"
   ]
  },
  {
   "cell_type": "code",
   "execution_count": 5,
   "id": "219835bc",
   "metadata": {},
   "outputs": [],
   "source": [
    "# if within UGB but in unincorporated area, some upzoning is allowed for historic expansion\n",
    "# Non-Residential building on parcel\n",
    "zoningmods.loc[(zoningmods.ugb_id == 'Uninc_UGB') & (zoningmods.exd_id != 'exd'), 'dua_up'] = 2.75\n",
    "zoningmods.loc[(zoningmods.ugb_id == 'Uninc_UGB') & (zoningmods.exd_id != 'exd'), 'add_bldg'] = 'HS'\n",
    "# Residential building on parcel\n",
    "zoningmods.loc[(zoningmods.ugb_id == 'Uninc_UGB') & (zoningmods.exd_id == 'exd'), 'dua_up'] = 1.5\n",
    "zoningmods.loc[(zoningmods.ugb_id == 'Uninc_UGB') & (zoningmods.exd_id == 'exd'), 'add_bldg'] = 'HS'"
   ]
  },
  {
   "cell_type": "markdown",
   "id": "3f65f7b0",
   "metadata": {},
   "source": [
    "Step 3: Add residential and non-residential growth geography upzoning, which can override unincorporated UGB zoning"
   ]
  },
  {
   "cell_type": "code",
   "execution_count": 6,
   "metadata": {},
   "outputs": [],
   "source": [
    "# update \"dua_up\", \"far_up\", and \"add_bldg\" with PBA50+ residential and non-residential zoning\n",
    "\n",
    "# GG + TRA1 + HRA + Non-Residential\n",
    "zm = (zoningmods.gg_id == 'GG') & (zoningmods.tra_id == 'TRA1') & (zoningmods.hra_id == 'HRA') & (zoningmods.exd_id != 'exd')\n",
    "zoningmods.loc[zm, 'dua_up'] = 200\n",
    "zoningmods.loc[zm, 'far_up'] = 10\n",
    "zoningmods.loc[zm, 'add_bldg'] = 'HT, HM, OF, HO, SC, RS, RB, MR, MT, ME'\n",
    "# GG + TRA1 + HRA + Residential\n",
    "zm = (zoningmods.gg_id == 'GG') & (zoningmods.tra_id == 'TRA1') & (zoningmods.hra_id == 'HRA') & (zoningmods.exd_id == 'exd')\n",
    "zoningmods.loc[zm, 'dua_up'] = 50\n",
    "zoningmods.loc[zm, 'add_bldg'] = 'HM, MR'\n",
    "\n",
    "# GG + TRA1 + Non-HRA + Non-Residential\n",
    "zm = (zoningmods.gg_id == 'GG') & (zoningmods.tra_id == 'TRA1') & (zoningmods.hra_id != 'HRA') & (zoningmods.exd_id != 'exd')\n",
    "zoningmods.loc[zm, 'dua_up'] = 150\n",
    "zoningmods.loc[zm, 'far_up'] = 10\n",
    "zoningmods.loc[zm, 'add_bldg'] = 'HT, HM, OF, HO, SC, RS, RB, MR, MT, ME'\n",
    "# GG + TRA1 + Non=HRA + Residential\n",
    "zm = (zoningmods.gg_id == 'GG') & (zoningmods.tra_id == 'TRA1') & (zoningmods.hra_id != 'HRA') & (zoningmods.exd_id == 'exd')\n",
    "zoningmods.loc[zm, 'dua_up'] = 50\n",
    "zoningmods.loc[zm, 'add_bldg'] = 'HM, MR'\n",
    "\n",
    "# GG + TRA2 + HRA + Non-Residential\n",
    "zm = (zoningmods.gg_id == 'GG') & (zoningmods.tra_id == 'TRA2') & (zoningmods.hra_id == 'HRA') & (zoningmods.exd_id != 'exd')\n",
    "zoningmods.loc[zm, 'dua_up'] = 100\n",
    "zoningmods.loc[zm, 'far_up'] = 5\n",
    "zoningmods.loc[zm, 'add_bldg'] = 'HT, HM, OF, HO, SC, RS, RB, MR, MT, ME'\n",
    "# GG + TRA2 + HRA + Residential\n",
    "zm = (zoningmods.gg_id == 'GG') & (zoningmods.tra_id == 'TRA2') & (zoningmods.hra_id == 'HRA') & (zoningmods.exd_id == 'exd')\n",
    "zoningmods.loc[zm, 'dua_up'] = 50\n",
    "zoningmods.loc[zm, 'add_bldg'] = 'HM, MR'\n",
    "\n",
    "# GG + TRA2 + Non-HRA + Non-Residential\n",
    "zm = (zoningmods.gg_id == 'GG') & (zoningmods.tra_id == 'TRA2') & (zoningmods.hra_id != 'HRA') & (zoningmods.exd_id != 'exd')\n",
    "zoningmods.loc[zm, 'dua_up'] = 75\n",
    "zoningmods.loc[zm, 'far_up'] = 5\n",
    "zoningmods.loc[zm, 'add_bldg'] = 'HT, HM, OF, HO, SC, RS, RB, MR, MT, ME'\n",
    "# GG + TRA2 + Non-HRA + Residential\n",
    "zm = (zoningmods.gg_id == 'GG') & (zoningmods.tra_id == 'TRA2') & (zoningmods.hra_id != 'HRA') & (zoningmods.exd_id == 'exd')\n",
    "zoningmods.loc[zm, 'dua_up'] = 35\n",
    "zoningmods.loc[zm, 'add_bldg'] = 'HM, MR'\n",
    "\n",
    "# GG + TRA3 + HRA + Non-Residential\n",
    "zm = (zoningmods.gg_id == 'GG') & (zoningmods.tra_id == 'TRA3') & (zoningmods.hra_id == 'HRA') & (zoningmods.exd_id != 'exd')\n",
    "zoningmods.loc[zm, 'dua_up'] = 50\n",
    "zoningmods.loc[zm, 'far_up'] = 2\n",
    "zoningmods.loc[zm, 'add_bldg'] = 'HT, HM, OF, HO, SC, RS, RB, MR, MT, ME'\n",
    "# GG + TRA3 + HRA + Residential\n",
    "zm = (zoningmods.gg_id == 'GG') & (zoningmods.tra_id == 'TRA3') & (zoningmods.hra_id == 'HRA') & (zoningmods.exd_id == 'exd')\n",
    "zoningmods.loc[zm, 'dua_up'] = 50\n",
    "zoningmods.loc[zm, 'add_bldg'] = 'HM, MR'\n",
    "\n",
    "# GG + TRA3 + Non-HRA + Non-Residential\n",
    "zm = (zoningmods.gg_id == 'GG') & (zoningmods.tra_id == 'TRA3') & (zoningmods.hra_id != 'HRA') & (zoningmods.exd_id != 'exd')\n",
    "zoningmods.loc[zm, 'dua_up'] = 35\n",
    "zoningmods.loc[zm, 'far_up'] = 2\n",
    "zoningmods.loc[zm, 'add_bldg'] = 'HT, HM, OF, HO, SC, RS, RB, MR, MT, ME'\n",
    "# GG + TRA3 + Non-HRA + Residential\n",
    "zm = (zoningmods.gg_id == 'GG') & (zoningmods.tra_id == 'TRA3') & (zoningmods.hra_id != 'HRA') & (zoningmods.exd_id == 'exd')\n",
    "zoningmods.loc[zm, 'dua_up'] = 35\n",
    "zoningmods.loc[zm, 'add_bldg'] = 'HM, MR'\n",
    "\n",
    "# GG + Non-TRA + HRA + Non-Residential\n",
    "zm = (zoningmods.gg_id == 'GG') & (zoningmods.tra_id.isnull()) & (zoningmods.hra_id == 'HRA') & (zoningmods.exd_id != 'exd')\n",
    "zoningmods.loc[zm, 'dua_up'] = 35\n",
    "zoningmods.loc[zm, 'add_bldg'] = 'HT, HM, OF, HO, SC, RS, RB, MR, MT, ME'\n",
    "# GG + Non-TRA + HRA + Residential\n",
    "zm = (zoningmods.gg_id == 'GG') & (zoningmods.tra_id.isnull()) & (zoningmods.hra_id == 'HRA') & (zoningmods.exd_id == 'exd')\n",
    "zoningmods.loc[zm, 'dua_up'] = 35\n",
    "zoningmods.loc[zm, 'add_bldg'] = 'HM, MR'\n",
    "\n",
    "# GG + Non-TRA + Non-HRA + Non-Residential\n",
    "zm = (zoningmods.gg_id == 'GG') & (zoningmods.tra_id.isnull()) & (zoningmods.hra_id.isnull()) & (zoningmods.exd_id != 'exd')\n",
    "zoningmods.loc[zm, 'dua_up'] = 35\n",
    "zoningmods.loc[zm, 'add_bldg'] = 'HT, HM, OF, HO, SC, RS, RB, MR, MT, ME'\n",
    "# GG + Non-TRA + Non-HRA + Residential\n",
    "zm = (zoningmods.gg_id == 'GG') & (zoningmods.tra_id.isnull()) & (zoningmods.hra_id.isnull()) & (zoningmods.exd_id == 'exd')\n",
    "zoningmods.loc[zm, 'dua_up'] = 35\n",
    "zoningmods.loc[zm, 'add_bldg'] = 'HM, MR'"
   ]
  },
  {
   "cell_type": "markdown",
   "id": "68432d74",
   "metadata": {},
   "source": [
    "Step 3: Add PPA zoning, which can override unincorporated UGB zoning and growth geography upzoning"
   ]
  },
  {
   "cell_type": "code",
   "execution_count": 7,
   "id": "0b6a756d",
   "metadata": {},
   "outputs": [],
   "source": [
    "# if within PPA, add industrial zoning and \"drop_bldg\" for all other building types\n",
    "zoningmods.loc[zoningmods.ppa_id == 'PPA', 'far_up'] = 2\n",
    "zoningmods.loc[zoningmods.ppa_id == 'PPA', 'add_bldg'] = 'IW'\n",
    "zoningmods.loc[zoningmods.ppa_id == 'PPA', 'drop_bldg'] = 'HT, HM, OF, HO, SC, RS, RB, MR, MT, ME'\n",
    "# also set \"dua_up\" and \"add_bldg\" to nan\n",
    "zoningmods.loc[zoningmods.ppa_id == 'PPA', 'dua_up'] = np.nan\n",
    "zoningmods.loc[zoningmods.ppa_id == 'PPA', 'add_bldg'] = np.nan\n"
   ]
  },
  {
   "cell_type": "markdown",
   "id": "7f7fae10",
   "metadata": {},
   "source": [
    "Step 4: Add UGB zoning, which can override unincorporated UGB, growth geography, and PPA upzoning"
   ]
  },
  {
   "cell_type": "code",
   "execution_count": 8,
   "id": "7209223c",
   "metadata": {},
   "outputs": [],
   "source": [
    "# if outside of UGB \"far_down\" and \"dua_down\" are 0\n",
    "zoningmods.loc[zoningmods.ugb_id.isnull(), 'dua_down'] = 0\n",
    "zoningmods.loc[zoningmods.ugb_id.isnull(), 'far_down'] = 0\n",
    "# and also set other \"dua_up\", \"far_up\", and \"add_bldg\" to nan\n",
    "zoningmods.loc[zoningmods.ugb_id.isnull(), 'far_up'] = np.nan\n",
    "zoningmods.loc[zoningmods.ugb_id.isnull(), 'dua_up'] = np.nan\n",
    "zoningmods.loc[zoningmods.ugb_id.isnull(), 'add_bldg'] = np.nan\n",
    "zoningmods.loc[zoningmods.ugb_id.isnull(), 'drop_bldg'] = np.nan\n"
   ]
  },
  {
   "cell_type": "code",
   "execution_count": 9,
   "metadata": {},
   "outputs": [],
   "source": [
    "# export\n",
    "zoningmods.to_csv(\"M:/urban_modeling/baus/BAUS Inputs/plan_strategies/zoning_mods_PBA50Plus_DBP.csv\", index=False)"
   ]
  }
 ],
 "metadata": {
  "kernelspec": {
   "display_name": "Python 3",
   "language": "python",
   "name": "python3"
  },
  "language_info": {
   "codemirror_mode": {
    "name": "ipython",
    "version": 3
   },
   "file_extension": ".py",
   "mimetype": "text/x-python",
   "name": "python",
   "nbconvert_exporter": "python",
   "pygments_lexer": "ipython3",
   "version": "3.6.15"
  }
 },
 "nbformat": 4,
 "nbformat_minor": 5
}
