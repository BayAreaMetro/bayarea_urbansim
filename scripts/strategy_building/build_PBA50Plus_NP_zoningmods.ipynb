{
 "cells": [
  {
   "cell_type": "markdown",
   "metadata": {},
   "source": [
    "#### Build zoningmods lookup table for PBA50+ and add No Project zoning values"
   ]
  },
  {
   "cell_type": "code",
   "execution_count": 1,
   "metadata": {},
   "outputs": [],
   "source": [
    "import pandas as pd\n",
    "import numpy as np"
   ]
  },
  {
   "cell_type": "markdown",
   "id": "6dedb1fb",
   "metadata": {},
   "source": [
    "Build the PBA50+ zoningmods table using the parcels geography table and \"zoningmodcat\" column"
   ]
  },
  {
   "cell_type": "code",
   "execution_count": 2,
   "id": "3aab1bd9",
   "metadata": {},
   "outputs": [],
   "source": [
    "# read in parcels geography\n",
    "parcels_geog = pd.read_csv(\"M:/urban_modeling/baus/BAUS Inputs/basis_inputs/crosswalks/parcels_geography_2024_02_14.csv\")"
   ]
  },
  {
   "cell_type": "code",
   "execution_count": 3,
   "id": "7f180d2f",
   "metadata": {},
   "outputs": [],
   "source": [
    "# add a zoningmodcat column to parcels geography\n",
    "parcels_geog['zoningmodcat'] = ''\n",
    "for col in [\"gg_id\", \"exd_id\", \"tra_id\", \"hra_id\", \"ppa_id\", \"ugb_id\"]:\n",
    "    # leave this line in only because the PBA50 BAUS code makes strings lowercase\n",
    "    # and it will ensure the PBA50 strategy inputs will work\n",
    "    parcels_geog[col] = parcels_geog[col].astype(str).str.lower()\n",
    "    parcels_geog['zoningmodcat'] = parcels_geog['zoningmodcat'] + parcels_geog[col]"
   ]
  },
  {
   "cell_type": "code",
   "execution_count": 4,
   "id": "bcac9edc",
   "metadata": {},
   "outputs": [],
   "source": [
    "# build zoningmods using zoningmodcat values from parcels geography as the primary key\n",
    "zoningmods = pd.DataFrame({'zoningmodcat': parcels_geog['zoningmodcat'].unique()})\n",
    "\n",
    "# then add other zoningmods columns\n",
    "for col in [\"gg_id\", \"exd_id\", \"tra_id\", \"hra_id\", \"ppa_id\", \"ugb_id\", \n",
    "            \"add_bldg\", \"drop_bldg\", \"dua_up\", \"far_up\", \"dua_down\", \"far_down\"]:\n",
    "    zoningmods[col] = np.nan\n",
    "\n",
    "zoningmods.loc[zoningmods.zoningmodcat.str.contains(\"gg\"), \"gg_id\"] = \"GG\"\n",
    "zoningmods.loc[zoningmods.zoningmodcat.str.contains(\"exd\"), \"exd_id\"] = \"exd\"\n",
    "zoningmods.loc[zoningmods.zoningmodcat.str.contains(\"tra1\"), \"tra_id\"] = \"TRA1\"\n",
    "zoningmods.loc[zoningmods.zoningmodcat.str.contains(\"tra2\"), \"tra_id\"] = \"TRA2\"\n",
    "zoningmods.loc[zoningmods.zoningmodcat.str.contains(\"tra3\"), \"tra_id\"] = \"TRA3\"\n",
    "zoningmods.loc[zoningmods.zoningmodcat.str.contains(\"hra\"), \"hra_id\"] = \"HRA\"\n",
    "zoningmods.loc[zoningmods.zoningmodcat.str.contains(\"ppa\"), \"ppa_id\"] = \"PPA\"\n",
    "zoningmods.loc[zoningmods.zoningmodcat.str.contains(\"ugb\"), \"ugb_id\"] = \"UGB\"\n",
    "zoningmods.loc[zoningmods.zoningmodcat.str.contains(\"uninc ugb\"), \"ugb_id\"] = \"Uninc UGB\"\n"
   ]
  },
  {
   "cell_type": "markdown",
   "id": "fc4ab03a",
   "metadata": {},
   "source": [
    "Add Zoning Step 1: Add unincorporated UGB zoning- Applied to No Project but not Draft Blueprint"
   ]
  },
  {
   "cell_type": "code",
   "execution_count": 5,
   "id": "219835bc",
   "metadata": {},
   "outputs": [],
   "source": [
    "# if within UGB but in unincorporated area, some upzoning is allowed for historic expansion\n",
    "zoningmods.loc[zoningmods.ugb_id == 'Uninc UGB', 'dua_up'] = 1.5\n",
    "zoningmods.loc[zoningmods.ugb_id == 'Uninc UGB', 'add_bldg'] = 'HS'"
   ]
  },
  {
   "cell_type": "markdown",
   "id": "7f7fae10",
   "metadata": {},
   "source": [
    "Step 2: Add UGB zoning, which can override unincorporated UGB"
   ]
  },
  {
   "cell_type": "code",
   "execution_count": 6,
   "id": "7209223c",
   "metadata": {},
   "outputs": [],
   "source": [
    "# and also set other \"dua_up\", \"far_up\", and \"add_bldg\" to nan\n",
    "zoningmods.loc[zoningmods.ugb_id.isnull(), 'far_up'] = np.nan\n",
    "zoningmods.loc[zoningmods.ugb_id.isnull(), 'dua_up'] = np.nan\n",
    "zoningmods.loc[zoningmods.ugb_id.isnull(), 'add_bldg'] = np.nan\n",
    "zoningmods.loc[zoningmods.ugb_id.isnull(), 'drop_bldg'] = np.nan\n",
    "# if outside of UGB \"far_down\" and \"dua_down\" are 0\n",
    "zoningmods.loc[zoningmods.ugb_id.isnull(), 'dua_down'] = int(0)\n",
    "zoningmods.loc[zoningmods.ugb_id.isnull(), 'far_down'] = int(0)"
   ]
  },
  {
   "cell_type": "code",
   "execution_count": 7,
   "metadata": {},
   "outputs": [],
   "source": [
    "# export\n",
    "zoningmods.to_csv(\"M:/urban_modeling/baus/BAUS Inputs/plan_strategies/zoning_mods_PBA50Plus_NP_revised_script.csv\", index=False)"
   ]
  }
 ],
 "metadata": {
  "kernelspec": {
   "display_name": "Python 3",
   "language": "python",
   "name": "python3"
  },
  "language_info": {
   "codemirror_mode": {
    "name": "ipython",
    "version": 3
   },
   "file_extension": ".py",
   "mimetype": "text/x-python",
   "name": "python",
   "nbconvert_exporter": "python",
   "pygments_lexer": "ipython3",
   "version": "3.6.15"
  }
 },
 "nbformat": 4,
 "nbformat_minor": 5
}
