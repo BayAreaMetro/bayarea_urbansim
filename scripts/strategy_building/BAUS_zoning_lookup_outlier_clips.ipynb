{
 "cells": [
  {
   "cell_type": "markdown",
   "id": "da4cfffc",
   "metadata": {},
   "source": [
    "# Fix a few large outliers on FAR / DUA in the zoning lookups"
   ]
  },
  {
   "cell_type": "code",
   "execution_count": 5,
   "id": "5583ec13",
   "metadata": {},
   "outputs": [],
   "source": [
    "import pandas as pd\n",
    "import pathlib\n",
    "import geopandas as gpd\n",
    "import os"
   ]
  },
  {
   "cell_type": "code",
   "execution_count": 33,
   "id": "8ea5c526",
   "metadata": {},
   "outputs": [
    {
     "data": {
      "text/plain": [
       "PosixPath('/Volumes/Data/Models')"
      ]
     },
     "execution_count": 33,
     "metadata": {},
     "output_type": "execute_result"
    }
   ],
   "source": [
    "m_drive = pathlib.Path(\"/Volumes/Data/Models\") if os.name != \"nt\" else \"M:/\"\n",
    "m_drive"
   ]
  },
  {
   "cell_type": "code",
   "execution_count": 31,
   "id": "921dd198",
   "metadata": {},
   "outputs": [],
   "source": [
    "# p10_topfix_path = m_drive / \"Data\" / \"GIS layers\" / \"JobsHousingTransitProximity\" / \"update_2024\" / \"outputs\" / \"p10_topofix_classified.parquet\"\n",
    "# p10_topfix = gpd.read_parquet(p10_topfix_path)"
   ]
  },
  {
   "cell_type": "code",
   "execution_count": 35,
   "id": "0124a269",
   "metadata": {},
   "outputs": [],
   "source": [
    "# set paths\n",
    "\n",
    "zoning_lookup_path = m_drive / \"urban_modeling\" / \"baus\" / \"BAUS Inputs\" / \\\n",
    "    \"basis_inputs\" / \"zoning\" / \"2024_04_09_zoning_lookup_hybrid_he_MS_pba50plus.csv\"\n",
    "\n",
    "zoning_parcels_path = m_drive / \"urban_modeling\" / \"baus\" / \"BAUS Inputs\" / \\\n",
    "    \"basis_inputs\" / \"zoning\" / \"2024_04_09_zoning_parcels_hybrid_he_MS_pba50plus.csv\""
   ]
  },
  {
   "cell_type": "code",
   "execution_count": 36,
   "id": "816f7c7e",
   "metadata": {},
   "outputs": [],
   "source": [
    "# load parcels\n",
    "zoning_parcels = pd.read_csv(zoning_parcels_path)"
   ]
  },
  {
   "cell_type": "code",
   "execution_count": 37,
   "id": "2bfcc6ab",
   "metadata": {},
   "outputs": [],
   "source": [
    "# load lookups\n",
    "zoning_lookup = pd.read_csv(zoning_lookup_path)\n",
    "\n",
    "# add a tracker field\n",
    "zoning_lookup['adjusted'] = None"
   ]
  },
  {
   "cell_type": "code",
   "execution_count": 38,
   "id": "aa218c76",
   "metadata": {},
   "outputs": [
    {
     "name": "stdout",
     "output_type": "stream",
     "text": [
      "False    17913\n",
      "True         4\n",
      "Name: count, dtype: int64\n"
     ]
    }
   ],
   "source": [
    "# Check for the largest outliers wrt FAR\n",
    "large_far_mask = zoning_lookup.eval('max_far>35')\n",
    "print(large_far_mask.value_counts())\n",
    "\n",
    "# overwrite to missing\n",
    "zoning_lookup.loc[large_far_mask, ['max_far', 'adjusted']] = None, 'Clip >35'"
   ]
  },
  {
   "cell_type": "code",
   "execution_count": 39,
   "id": "3a6bb120",
   "metadata": {},
   "outputs": [
    {
     "name": "stdout",
     "output_type": "stream",
     "text": [
      "False    17863\n",
      "True        54\n",
      "Name: count, dtype: int64\n"
     ]
    }
   ],
   "source": [
    "large_dua_mask = zoning_lookup.eval('max_dua>500')\n",
    "print(large_dua_mask.value_counts())\n",
    "\n",
    "# overwrite to missing\n",
    "zoning_lookup.loc[large_dua_mask, ['max_dua', 'adjusted']] = None, 'Clip >500'"
   ]
  },
  {
   "cell_type": "code",
   "execution_count": 40,
   "id": "723fa761",
   "metadata": {},
   "outputs": [
    {
     "name": "stdout",
     "output_type": "stream",
     "text": [
      "False    17916\n",
      "True         1\n",
      "Name: count, dtype: int64\n"
     ]
    }
   ],
   "source": [
    "# large dev in pleasanton is for specific zone id 10199\n",
    "large_dev_mask = zoning_lookup.eval('id==10199')\n",
    "\n",
    "print(large_dev_mask.value_counts())\n",
    "\n",
    "zoning_lookup.loc[large_dev_mask, ['max_dua',\n",
    "                                   'adjusted']] = None, 'Set to 10 from 154'"
   ]
  },
  {
   "cell_type": "code",
   "execution_count": 41,
   "id": "72f1ea0c",
   "metadata": {},
   "outputs": [],
   "source": [
    "# set path for new zoning lookup table\n",
    "zoning_lookup_path_new = m_drive / \"urban_modeling\" / \"baus\" / \"BAUS Inputs\" / \"basis_inputs\" / \"zoning\" / \"2024_04_09_zoning_lookup_hybrid_he_MSClip_pba50plus.csv\""
   ]
  },
  {
   "cell_type": "code",
   "execution_count": null,
   "id": "0c5eae54",
   "metadata": {},
   "outputs": [],
   "source": [
    "zoning_lookup.to_csv(zoning_lookup_path_new)"
   ]
  },
  {
   "cell_type": "code",
   "execution_count": 42,
   "id": "167bcbf3",
   "metadata": {},
   "outputs": [
    {
     "data": {
      "text/html": [
       "<div>\n",
       "<style scoped>\n",
       "    .dataframe tbody tr th:only-of-type {\n",
       "        vertical-align: middle;\n",
       "    }\n",
       "\n",
       "    .dataframe tbody tr th {\n",
       "        vertical-align: top;\n",
       "    }\n",
       "\n",
       "    .dataframe thead th {\n",
       "        text-align: right;\n",
       "    }\n",
       "</style>\n",
       "<table border=\"1\" class=\"dataframe\">\n",
       "  <thead>\n",
       "    <tr style=\"text-align: right;\">\n",
       "      <th></th>\n",
       "      <th>id</th>\n",
       "      <th>juris</th>\n",
       "      <th>name</th>\n",
       "      <th>max_dua</th>\n",
       "      <th>max_far</th>\n",
       "      <th>max_height</th>\n",
       "      <th>HS</th>\n",
       "      <th>HT</th>\n",
       "      <th>HM</th>\n",
       "      <th>OF</th>\n",
       "      <th>...</th>\n",
       "      <th>SC</th>\n",
       "      <th>IL</th>\n",
       "      <th>IW</th>\n",
       "      <th>IH</th>\n",
       "      <th>RS</th>\n",
       "      <th>RB</th>\n",
       "      <th>MR</th>\n",
       "      <th>MT</th>\n",
       "      <th>ME</th>\n",
       "      <th>adjusted</th>\n",
       "    </tr>\n",
       "  </thead>\n",
       "  <tbody>\n",
       "    <tr>\n",
       "      <th>9199</th>\n",
       "      <td>10199</td>\n",
       "      <td>pleasanton</td>\n",
       "      <td>PUD-RDR/OS</td>\n",
       "      <td>NaN</td>\n",
       "      <td>NaN</td>\n",
       "      <td>NaN</td>\n",
       "      <td>1.0</td>\n",
       "      <td>1.0</td>\n",
       "      <td>1.0</td>\n",
       "      <td>1.0</td>\n",
       "      <td>...</td>\n",
       "      <td>1.0</td>\n",
       "      <td>0.0</td>\n",
       "      <td>0.0</td>\n",
       "      <td>0.0</td>\n",
       "      <td>1.0</td>\n",
       "      <td>0.0</td>\n",
       "      <td>1.0</td>\n",
       "      <td>1.0</td>\n",
       "      <td>1.0</td>\n",
       "      <td>Set to 10 from 154</td>\n",
       "    </tr>\n",
       "  </tbody>\n",
       "</table>\n",
       "<p>1 rows × 21 columns</p>\n",
       "</div>"
      ],
      "text/plain": [
       "         id       juris        name  max_dua  max_far  max_height   HS   HT  \\\n",
       "9199  10199  pleasanton  PUD-RDR/OS      NaN      NaN         NaN  1.0  1.0   \n",
       "\n",
       "       HM   OF  ...   SC   IL   IW   IH   RS   RB   MR   MT   ME  \\\n",
       "9199  1.0  1.0  ...  1.0  0.0  0.0  0.0  1.0  0.0  1.0  1.0  1.0   \n",
       "\n",
       "                adjusted  \n",
       "9199  Set to 10 from 154  \n",
       "\n",
       "[1 rows x 21 columns]"
      ]
     },
     "execution_count": 42,
     "metadata": {},
     "output_type": "execute_result"
    }
   ],
   "source": [
    "zoning_lookup[zoning_lookup.id==10199]"
   ]
  },
  {
   "cell_type": "code",
   "execution_count": null,
   "id": "e8e7dacc",
   "metadata": {},
   "outputs": [],
   "source": []
  }
 ],
 "metadata": {
  "kernelspec": {
   "display_name": "Python 3 (ipykernel)",
   "language": "python",
   "name": "python3"
  },
  "language_info": {
   "codemirror_mode": {
    "name": "ipython",
    "version": 3
   },
   "file_extension": ".py",
   "mimetype": "text/x-python",
   "name": "python",
   "nbconvert_exporter": "python",
   "pygments_lexer": "ipython3",
   "version": "3.10.8"
  },
  "toc": {
   "base_numbering": 1,
   "nav_menu": {},
   "number_sections": true,
   "sideBar": true,
   "skip_h1_title": false,
   "title_cell": "Table of Contents",
   "title_sidebar": "Contents",
   "toc_cell": false,
   "toc_position": {},
   "toc_section_display": true,
   "toc_window_display": false
  }
 },
 "nbformat": 4,
 "nbformat_minor": 5
}
