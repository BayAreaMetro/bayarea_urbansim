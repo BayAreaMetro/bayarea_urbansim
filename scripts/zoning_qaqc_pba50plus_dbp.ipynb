{
 "cells": [
  {
   "cell_type": "code",
   "execution_count": 3,
   "metadata": {},
   "outputs": [],
   "source": [
    "import pandas as pd"
   ]
  },
  {
   "cell_type": "markdown",
   "metadata": {},
   "source": [
    "1. Look at the PBA50+ BAUS zoning for parcels"
   ]
  },
  {
   "cell_type": "code",
   "execution_count": 30,
   "metadata": {},
   "outputs": [],
   "source": [
    "# 2050 output because as built_dua updates the max, max dua calculation is updated\n",
    "\n",
    "pz1 = pd.read_csv(\"M:/urban_modeling/baus/PBA50Plus/Draft Blueprint Datasets/bayarea_urbansim/parcels_2015.csv\")\n",
    "pz2 = pd.read_csv(\"M:/urban_modeling/baus/PBA50Plus/Draft Blueprint Datasets/bayarea_urbansim/parcels_2020.csv\")\n",
    "pz3 = pd.read_csv(\"M:/urban_modeling/baus/PBA50Plus/Draft Blueprint Datasets/bayarea_urbansim/parcels_2025.csv\")\n",
    "pz4 = pd.read_csv(\"M:/urban_modeling/baus/PBA50Plus/Draft Blueprint Datasets/bayarea_urbansim/parcels_2030.csv\")\n",
    "pz5 = pd.read_csv(\"M:/urban_modeling/baus/PBA50Plus/Draft Blueprint Datasets/bayarea_urbansim/parcels_2035.csv\")\n",
    "pz6 = pd.read_csv(\"M:/urban_modeling/baus/PBA50Plus/Draft Blueprint Datasets/bayarea_urbansim/parcels_2040.csv\")\n",
    "pz7 = pd.read_csv(\"M:/urban_modeling/baus/PBA50Plus/Draft Blueprint Datasets/bayarea_urbansim/parcels_2045.csv\")\n",
    "pz8 = pd.read_csv(\"M:/urban_modeling/baus/PBA50Plus/Draft Blueprint Datasets/bayarea_urbansim/parcels_2050.csv\")"
   ]
  },
  {
   "cell_type": "markdown",
   "metadata": {},
   "source": [
    "2. Add growth geography variables for understanding parcels' location"
   ]
  },
  {
   "cell_type": "code",
   "execution_count": 31,
   "metadata": {},
   "outputs": [],
   "source": [
    "# parcels geography input file\n",
    "pg = pd.read_csv(\"M:/urban_modeling/baus/BAUS Inputs/basis_inputs/crosswalks/parcels_geography_2024_02_14.csv\")\n",
    "\n",
    "pz1 = pz1.merge(pg[['PARCEL_ID', 'juris', 'gg_id', 'pda_id', 'tra_id', 'hra_id']], left_on='parcel_id', right_on='PARCEL_ID', how='left')\n",
    "pz2 = pz2.merge(pg[['PARCEL_ID', 'juris', 'gg_id', 'pda_id', 'tra_id', 'hra_id']], left_on='parcel_id', right_on='PARCEL_ID', how='left')\n",
    "pz3 = pz3.merge(pg[['PARCEL_ID', 'juris', 'gg_id', 'pda_id', 'tra_id', 'hra_id']], left_on='parcel_id', right_on='PARCEL_ID', how='left')\n",
    "pz4 = pz4.merge(pg[['PARCEL_ID', 'juris', 'gg_id', 'pda_id', 'tra_id', 'hra_id']], left_on='parcel_id', right_on='PARCEL_ID', how='left')\n",
    "pz5 = pz5.merge(pg[['PARCEL_ID', 'juris', 'gg_id', 'pda_id', 'tra_id', 'hra_id']], left_on='parcel_id', right_on='PARCEL_ID', how='left')\n",
    "pz6 = pz6.merge(pg[['PARCEL_ID', 'juris', 'gg_id', 'pda_id', 'tra_id', 'hra_id']], left_on='parcel_id', right_on='PARCEL_ID', how='left')\n",
    "pz7 = pz7.merge(pg[['PARCEL_ID', 'juris', 'gg_id', 'pda_id', 'tra_id', 'hra_id']], left_on='parcel_id', right_on='PARCEL_ID', how='left')\n",
    "pz8 = pz8.merge(pg[['PARCEL_ID', 'juris', 'gg_id', 'pda_id', 'tra_id', 'hra_id']], left_on='parcel_id', right_on='PARCEL_ID', how='left')"
   ]
  },
  {
   "cell_type": "markdown",
   "metadata": {},
   "source": [
    "3. Add the max built DUA/FAR in a parcel's TAZ, used in the BAUS zoning processing"
   ]
  },
  {
   "cell_type": "code",
   "execution_count": 32,
   "metadata": {},
   "outputs": [],
   "source": [
    "# parcel to TAZ crosswalk\n",
    "ptaz = pd.read_csv(\"M:/urban_modeling/baus/BAUS Inputs/basis_inputs/crosswalks/2020_08_17_parcel_to_taz1454sub.csv\")\n",
    "pz1 = pz1.merge(ptaz[['PARCEL_ID', 'ZONE_ID']], left_on='parcel_id', right_on='PARCEL_ID', how='left')\n",
    "pz2 = pz2.merge(ptaz[['PARCEL_ID', 'ZONE_ID']], left_on='parcel_id', right_on='PARCEL_ID', how='left')\n",
    "pz3 = pz3.merge(ptaz[['PARCEL_ID', 'ZONE_ID']], left_on='parcel_id', right_on='PARCEL_ID', how='left')\n",
    "pz4 = pz4.merge(ptaz[['PARCEL_ID', 'ZONE_ID']], left_on='parcel_id', right_on='PARCEL_ID', how='left')\n",
    "pz5 = pz5.merge(ptaz[['PARCEL_ID', 'ZONE_ID']], left_on='parcel_id', right_on='PARCEL_ID', how='left')\n",
    "pz6 = pz6.merge(ptaz[['PARCEL_ID', 'ZONE_ID']], left_on='parcel_id', right_on='PARCEL_ID', how='left')\n",
    "pz7 = pz7.merge(ptaz[['PARCEL_ID', 'ZONE_ID']], left_on='parcel_id', right_on='PARCEL_ID', how='left')\n",
    "pz8 = pz8.merge(ptaz[['PARCEL_ID', 'ZONE_ID']], left_on='parcel_id', right_on='PARCEL_ID', how='left')\n",
    "\n",
    "max_dua_builtdua_taz = pz.built_dua.groupby(pz.ZONE_ID).max().fillna(4)\n",
    "pz1['max_dua_builtdua_taz'] = pz1['ZONE_ID'].map(max_dua_builtdua_taz).fillna(4)\n",
    "pz2['max_dua_builtdua_taz'] = pz2['ZONE_ID'].map(max_dua_builtdua_taz).fillna(4)\n",
    "pz3['max_dua_builtdua_taz'] = pz3['ZONE_ID'].map(max_dua_builtdua_taz).fillna(4)\n",
    "pz4['max_dua_builtdua_taz'] = pz4['ZONE_ID'].map(max_dua_builtdua_taz).fillna(4)\n",
    "pz5['max_dua_builtdua_taz'] = pz5['ZONE_ID'].map(max_dua_builtdua_taz).fillna(4)\n",
    "pz6['max_dua_builtdua_taz'] = pz6['ZONE_ID'].map(max_dua_builtdua_taz).fillna(4)\n",
    "pz7['max_dua_builtdua_taz'] = pz7['ZONE_ID'].map(max_dua_builtdua_taz).fillna(4)\n",
    "pz8['max_dua_builtdua_taz'] = pz8['ZONE_ID'].map(max_dua_builtdua_taz).fillna(4)\n",
    "\n",
    "max_far_builtdua_taz = pz.built_far.groupby(pz.ZONE_ID).max().fillna(4)\n",
    "pz1['max_dua_builtfar_taz'] = pz1['ZONE_ID'].map(max_far_builtdua_taz).fillna(4)\n",
    "pz2['max_dua_builtfar_taz'] = pz2['ZONE_ID'].map(max_far_builtdua_taz).fillna(4)\n",
    "pz3['max_dua_builtfar_taz'] = pz3['ZONE_ID'].map(max_far_builtdua_taz).fillna(4)\n",
    "pz4['max_dua_builtfar_taz'] = pz4['ZONE_ID'].map(max_far_builtdua_taz).fillna(4)\n",
    "pz5['max_dua_builtfar_taz'] = pz5['ZONE_ID'].map(max_far_builtdua_taz).fillna(4)\n",
    "pz6['max_dua_builtfar_taz'] = pz6['ZONE_ID'].map(max_far_builtdua_taz).fillna(4)\n",
    "pz7['max_dua_builtfar_taz'] = pz7['ZONE_ID'].map(max_far_builtdua_taz).fillna(4)\n",
    "pz8['max_dua_builtfar_taz'] = pz8['ZONE_ID'].map(max_far_builtdua_taz).fillna(4)"
   ]
  },
  {
   "cell_type": "markdown",
   "metadata": {},
   "source": [
    "4. Add the base zoning to parcels in order to lookup the corresponding zoning input"
   ]
  },
  {
   "cell_type": "code",
   "execution_count": 33,
   "metadata": {},
   "outputs": [],
   "source": [
    "# latest parcels zoning file\n",
    "pzon = pd.read_csv(\"M:/urban_modeling/baus/BAUS Inputs/basis_inputs/zoning/zoning_parcels_2024-04-30.csv\")\n",
    "# latest parcel lookup file\n",
    "zl = pd.read_csv(\"M:/urban_modeling/baus/BAUS Inputs/basis_inputs/zoning/zoning_lookup_2024-04-30.csv\")\n",
    "zl = zl.rename(columns={\"name\": \"zoning_name\", \"max_dua\":\"max_dua_zoning\", \"max_far\": \"max_far_zoning\"})\n",
    "\n",
    "# merge the zoning lookup to parcels\n",
    "pz1 = pz1.merge(pzon[['PARCEL_ID', 'zoning_id']], left_on='parcel_id', right_on='PARCEL_ID', how='left')\\\n",
    ".merge(zl[['id', 'zoning_name', 'max_dua_zoning', 'max_far_zoning']], left_on='zoning_id', right_on='id', how='left')\n",
    "pz2 = pz2.merge(pzon[['PARCEL_ID', 'zoning_id']], left_on='parcel_id', right_on='PARCEL_ID', how='left')\\\n",
    ".merge(zl[['id', 'zoning_name', 'max_dua_zoning', 'max_far_zoning']], left_on='zoning_id', right_on='id', how='left')\n",
    "pz3 = pz3.merge(pzon[['PARCEL_ID', 'zoning_id']], left_on='parcel_id', right_on='PARCEL_ID', how='left')\\\n",
    ".merge(zl[['id', 'zoning_name', 'max_dua_zoning', 'max_far_zoning']], left_on='zoning_id', right_on='id', how='left')\n",
    "pz4 = pz4.merge(pzon[['PARCEL_ID', 'zoning_id']], left_on='parcel_id', right_on='PARCEL_ID', how='left')\\\n",
    ".merge(zl[['id', 'zoning_name', 'max_dua_zoning', 'max_far_zoning']], left_on='zoning_id', right_on='id', how='left')\n",
    "pz5 = pz5.merge(pzon[['PARCEL_ID', 'zoning_id']], left_on='parcel_id', right_on='PARCEL_ID', how='left')\\\n",
    ".merge(zl[['id', 'zoning_name', 'max_dua_zoning', 'max_far_zoning']], left_on='zoning_id', right_on='id', how='left')\n",
    "pz6 = pz6.merge(pzon[['PARCEL_ID', 'zoning_id']], left_on='parcel_id', right_on='PARCEL_ID', how='left')\\\n",
    ".merge(zl[['id', 'zoning_name', 'max_dua_zoning', 'max_far_zoning']], left_on='zoning_id', right_on='id', how='left')\n",
    "pz7 = pz7.merge(pzon[['PARCEL_ID', 'zoning_id']], left_on='parcel_id', right_on='PARCEL_ID', how='left')\\\n",
    ".merge(zl[['id', 'zoning_name', 'max_dua_zoning', 'max_far_zoning']], left_on='zoning_id', right_on='id', how='left')\n",
    "pz8 = pz8.merge(pzon[['PARCEL_ID', 'zoning_id']], left_on='parcel_id', right_on='PARCEL_ID', how='left')\\\n",
    ".merge(zl[['id', 'zoning_name', 'max_dua_zoning', 'max_far_zoning']], left_on='zoning_id', right_on='id', how='left')"
   ]
  },
  {
   "cell_type": "markdown",
   "metadata": {},
   "source": [
    "5. Inspect the BAUS zonign based on the processing steps\n",
    "\n",
    "BAUS processing steps / zoning variables in the table:\n",
    "- **max_dua_zoning** is the input zoning\n",
    "- **max_dua_imputation** is zoning with imputation and residential allowance applied\n",
    "- **max_dua_imputation_upzoning** is zoning with imputation and upzoning and residential allowance applied\n",
    "- **maz_dua_builtfar_taz** is the highest max DUA in the TAZ\n",
    "- **max_dua** is zoning with imputation and upzoning, residenital allowance, nodev modification, outside of urban area modification, \\\n",
    "and lowest built density modification applied"
   ]
  },
  {
   "cell_type": "markdown",
   "metadata": {},
   "source": [
    "### DUA"
   ]
  },
  {
   "cell_type": "code",
   "execution_count": 45,
   "metadata": {},
   "outputs": [
    {
     "name": "stdout",
     "output_type": "stream",
     "text": [
      "Number of parcels with DUA > 40 is 248983\n"
     ]
    }
   ],
   "source": [
    "print(\"Number of parcels with DUA > 40 is {}\".format(len(pz8.loc[pz8.max_dua > 40])))\n",
    "dua = pz8.loc[pz.max_dua > 40][['parcel_id', 'zoning_name', 'max_dua_zoning', 'juris_x', 'tra_id_x', 'pda_id_x',\n",
    "                               'max_dua_imputation', 'max_dua_imputation_upzoning', 'max_dua_builtdua_taz', 'max_dua']].\\\n",
    "                                sort_values(by='max_dua', ascending=False)"
   ]
  },
  {
   "cell_type": "markdown",
   "metadata": {},
   "source": [
    "#### DUA from upzoning"
   ]
  },
  {
   "cell_type": "code",
   "execution_count": 46,
   "metadata": {},
   "outputs": [
    {
     "name": "stdout",
     "output_type": "stream",
     "text": [
      "Number of parcels with DUA > 200 from upzoning step is 0\n"
     ]
    },
    {
     "data": {
      "text/html": [
       "<div>\n",
       "<style scoped>\n",
       "    .dataframe tbody tr th:only-of-type {\n",
       "        vertical-align: middle;\n",
       "    }\n",
       "\n",
       "    .dataframe tbody tr th {\n",
       "        vertical-align: top;\n",
       "    }\n",
       "\n",
       "    .dataframe thead th {\n",
       "        text-align: right;\n",
       "    }\n",
       "</style>\n",
       "<table border=\"1\" class=\"dataframe\">\n",
       "  <thead>\n",
       "    <tr style=\"text-align: right;\">\n",
       "      <th></th>\n",
       "      <th>parcel_id</th>\n",
       "      <th>zoning_name</th>\n",
       "      <th>max_dua_zoning</th>\n",
       "      <th>juris_x</th>\n",
       "      <th>tra_id_x</th>\n",
       "      <th>pda_id_x</th>\n",
       "      <th>max_dua_imputation</th>\n",
       "      <th>max_dua_imputation_upzoning</th>\n",
       "      <th>max_dua_builtdua_taz</th>\n",
       "      <th>max_dua</th>\n",
       "    </tr>\n",
       "  </thead>\n",
       "  <tbody>\n",
       "  </tbody>\n",
       "</table>\n",
       "</div>"
      ],
      "text/plain": [
       "Empty DataFrame\n",
       "Columns: [parcel_id, zoning_name, max_dua_zoning, juris_x, tra_id_x, pda_id_x, max_dua_imputation, max_dua_imputation_upzoning, max_dua_builtdua_taz, max_dua]\n",
       "Index: []"
      ]
     },
     "execution_count": 46,
     "metadata": {},
     "output_type": "execute_result"
    }
   ],
   "source": [
    "dua_upzoning = dua8.loc[(dua8.max_dua_imputation_upzoning > dua8.max_dua_imputation) & (dua8.max_dua_imputation_upzoning == dua8.max_dua)]\n",
    "print(\"Number of parcels with DUA > 200 from upzoning step is {}\".format(len(dua_upzoning8.loc[dua_upzoning8.max_dua > 200])))\n",
    "dua_upzoning8.loc[dua_upzoning8.max_dua > 200].head()"
   ]
  },
  {
   "cell_type": "code",
   "execution_count": 47,
   "metadata": {},
   "outputs": [
    {
     "name": "stdout",
     "output_type": "stream",
     "text": [
      "Number of parcels with DUA > 200 from upzoning step but not in a TRA or PDA is 0\n"
     ]
    },
    {
     "data": {
      "text/html": [
       "<div>\n",
       "<style scoped>\n",
       "    .dataframe tbody tr th:only-of-type {\n",
       "        vertical-align: middle;\n",
       "    }\n",
       "\n",
       "    .dataframe tbody tr th {\n",
       "        vertical-align: top;\n",
       "    }\n",
       "\n",
       "    .dataframe thead th {\n",
       "        text-align: right;\n",
       "    }\n",
       "</style>\n",
       "<table border=\"1\" class=\"dataframe\">\n",
       "  <thead>\n",
       "    <tr style=\"text-align: right;\">\n",
       "      <th></th>\n",
       "      <th>parcel_id</th>\n",
       "      <th>zoning_name</th>\n",
       "      <th>max_dua_zoning</th>\n",
       "      <th>juris_x</th>\n",
       "      <th>tra_id_x</th>\n",
       "      <th>pda_id_x</th>\n",
       "      <th>max_dua_imputation</th>\n",
       "      <th>max_dua_imputation_upzoning</th>\n",
       "      <th>max_dua_builtdua_taz</th>\n",
       "      <th>max_dua</th>\n",
       "    </tr>\n",
       "  </thead>\n",
       "  <tbody>\n",
       "  </tbody>\n",
       "</table>\n",
       "</div>"
      ],
      "text/plain": [
       "Empty DataFrame\n",
       "Columns: [parcel_id, zoning_name, max_dua_zoning, juris_x, tra_id_x, pda_id_x, max_dua_imputation, max_dua_imputation_upzoning, max_dua_builtdua_taz, max_dua]\n",
       "Index: []"
      ]
     },
     "execution_count": 47,
     "metadata": {},
     "output_type": "execute_result"
    }
   ],
   "source": [
    "dua_upzoning_high_nongg = dua_upzoning.loc[(dua_upzoning.max_dua > 200) & (dua_upzoning.tra_id_x.isnull()) & (dua_upzoning.pda_id_x.isnull())]\n",
    "print(\"Number of parcels with DUA > 200 from upzoning step but not in a TRA or PDA is {}\".format(len(dua_upzoning_high_nongg)))\n",
    "dua_upzoning_high_nongg.head()"
   ]
  },
  {
   "cell_type": "markdown",
   "metadata": {},
   "source": [
    "#### DUA from Imputation"
   ]
  },
  {
   "cell_type": "code",
   "execution_count": 48,
   "metadata": {},
   "outputs": [
    {
     "name": "stdout",
     "output_type": "stream",
     "text": [
      "Number of parcels with DUA > 40 from imputation 0\n"
     ]
    },
    {
     "data": {
      "text/html": [
       "<div>\n",
       "<style scoped>\n",
       "    .dataframe tbody tr th:only-of-type {\n",
       "        vertical-align: middle;\n",
       "    }\n",
       "\n",
       "    .dataframe tbody tr th {\n",
       "        vertical-align: top;\n",
       "    }\n",
       "\n",
       "    .dataframe thead th {\n",
       "        text-align: right;\n",
       "    }\n",
       "</style>\n",
       "<table border=\"1\" class=\"dataframe\">\n",
       "  <thead>\n",
       "    <tr style=\"text-align: right;\">\n",
       "      <th></th>\n",
       "      <th>parcel_id</th>\n",
       "      <th>zoning_name</th>\n",
       "      <th>max_dua_zoning</th>\n",
       "      <th>juris_x</th>\n",
       "      <th>tra_id_x</th>\n",
       "      <th>pda_id_x</th>\n",
       "      <th>max_dua_imputation</th>\n",
       "      <th>max_dua_imputation_upzoning</th>\n",
       "      <th>max_dua_builtdua_taz</th>\n",
       "      <th>max_dua</th>\n",
       "    </tr>\n",
       "  </thead>\n",
       "  <tbody>\n",
       "  </tbody>\n",
       "</table>\n",
       "</div>"
      ],
      "text/plain": [
       "Empty DataFrame\n",
       "Columns: [parcel_id, zoning_name, max_dua_zoning, juris_x, tra_id_x, pda_id_x, max_dua_imputation, max_dua_imputation_upzoning, max_dua_builtdua_taz, max_dua]\n",
       "Index: []"
      ]
     },
     "execution_count": 48,
     "metadata": {},
     "output_type": "execute_result"
    }
   ],
   "source": [
    "dua_imputation = dua8.loc[(dua8.max_dua_imputation > dua8.max_dua_zoning) & (dua8.max_dua_imputation == dua8.max_dua)]\n",
    "print(\"Number of parcels with DUA > 40 from imputation is {}\".format(len(dua_imputation.loc[dua_imputation.max_dua > 40])))\n",
    "dua_imputation.loc[dua_imputation.max_dua > 40].head()"
   ]
  },
  {
   "cell_type": "code",
   "execution_count": 52,
   "metadata": {},
   "outputs": [
    {
     "name": "stdout",
     "output_type": "stream",
     "text": [
      "Number of parcels with DUA > 40 from imputation and not in a TRA or PDA is 0\n"
     ]
    },
    {
     "data": {
      "text/html": [
       "<div>\n",
       "<style scoped>\n",
       "    .dataframe tbody tr th:only-of-type {\n",
       "        vertical-align: middle;\n",
       "    }\n",
       "\n",
       "    .dataframe tbody tr th {\n",
       "        vertical-align: top;\n",
       "    }\n",
       "\n",
       "    .dataframe thead th {\n",
       "        text-align: right;\n",
       "    }\n",
       "</style>\n",
       "<table border=\"1\" class=\"dataframe\">\n",
       "  <thead>\n",
       "    <tr style=\"text-align: right;\">\n",
       "      <th></th>\n",
       "      <th>parcel_id</th>\n",
       "      <th>zoning_name</th>\n",
       "      <th>max_dua_zoning</th>\n",
       "      <th>juris_x</th>\n",
       "      <th>tra_id_x</th>\n",
       "      <th>pda_id_x</th>\n",
       "      <th>max_dua_imputation</th>\n",
       "      <th>max_dua_imputation_upzoning</th>\n",
       "      <th>max_dua_builtdua_taz</th>\n",
       "      <th>max_dua</th>\n",
       "    </tr>\n",
       "  </thead>\n",
       "  <tbody>\n",
       "  </tbody>\n",
       "</table>\n",
       "</div>"
      ],
      "text/plain": [
       "Empty DataFrame\n",
       "Columns: [parcel_id, zoning_name, max_dua_zoning, juris_x, tra_id_x, pda_id_x, max_dua_imputation, max_dua_imputation_upzoning, max_dua_builtdua_taz, max_dua]\n",
       "Index: []"
      ]
     },
     "execution_count": 52,
     "metadata": {},
     "output_type": "execute_result"
    }
   ],
   "source": [
    "dua_imputation_high_nongg = dua_imputation.loc[(dua_imputation.max_dua > 40) & (dua_imputation.tra_id_x.isnull()) & (dua_imputation.pda_id_x.isnull())]\n",
    "print(\"Number of parcels with DUA > 40 from imputation and not in a TRA or PDA is {}\".format(len(dua_imputation_high_nongg)))\n",
    "dua_imputation_high_nongg"
   ]
  },
  {
   "cell_type": "markdown",
   "metadata": {},
   "source": [
    "#### DUA from Max TAZ Built DUA"
   ]
  },
  {
   "cell_type": "code",
   "execution_count": 54,
   "metadata": {},
   "outputs": [
    {
     "name": "stdout",
     "output_type": "stream",
     "text": [
      "Number of parcels with DUA > 40 set by building to the lowest built DUA 4024\n"
     ]
    },
    {
     "data": {
      "text/html": [
       "<div>\n",
       "<style scoped>\n",
       "    .dataframe tbody tr th:only-of-type {\n",
       "        vertical-align: middle;\n",
       "    }\n",
       "\n",
       "    .dataframe tbody tr th {\n",
       "        vertical-align: top;\n",
       "    }\n",
       "\n",
       "    .dataframe thead th {\n",
       "        text-align: right;\n",
       "    }\n",
       "</style>\n",
       "<table border=\"1\" class=\"dataframe\">\n",
       "  <thead>\n",
       "    <tr style=\"text-align: right;\">\n",
       "      <th></th>\n",
       "      <th>parcel_id</th>\n",
       "      <th>zoning_name</th>\n",
       "      <th>max_dua_zoning</th>\n",
       "      <th>juris_x</th>\n",
       "      <th>tra_id_x</th>\n",
       "      <th>pda_id_x</th>\n",
       "      <th>max_dua_imputation</th>\n",
       "      <th>max_dua_imputation_upzoning</th>\n",
       "      <th>max_dua_builtdua_taz</th>\n",
       "      <th>max_dua</th>\n",
       "    </tr>\n",
       "  </thead>\n",
       "  <tbody>\n",
       "    <tr>\n",
       "      <th>239898</th>\n",
       "      <td>1025891</td>\n",
       "      <td>NODEV_pba40</td>\n",
       "      <td>0.0</td>\n",
       "      <td>San Francisco</td>\n",
       "      <td>tra1</td>\n",
       "      <td>san francisco - j church and mission corridor</td>\n",
       "      <td>0.0</td>\n",
       "      <td>200.0</td>\n",
       "      <td>156.340091</td>\n",
       "      <td>156.340091</td>\n",
       "    </tr>\n",
       "    <tr>\n",
       "      <th>781842</th>\n",
       "      <td>1041372</td>\n",
       "      <td>RH-1 (HE Data)</td>\n",
       "      <td>65.1</td>\n",
       "      <td>San Francisco</td>\n",
       "      <td>tra1</td>\n",
       "      <td>san francisco - j church and mission corridor</td>\n",
       "      <td>65.1</td>\n",
       "      <td>200.0</td>\n",
       "      <td>156.340091</td>\n",
       "      <td>156.340091</td>\n",
       "    </tr>\n",
       "    <tr>\n",
       "      <th>250562</th>\n",
       "      <td>1041325</td>\n",
       "      <td>P (BASIS)</td>\n",
       "      <td>0.0</td>\n",
       "      <td>San Francisco</td>\n",
       "      <td>tra1</td>\n",
       "      <td>NaN</td>\n",
       "      <td>0.0</td>\n",
       "      <td>200.0</td>\n",
       "      <td>156.340091</td>\n",
       "      <td>156.340091</td>\n",
       "    </tr>\n",
       "    <tr>\n",
       "      <th>635674</th>\n",
       "      <td>1024934</td>\n",
       "      <td>RH-1 (HE Data)</td>\n",
       "      <td>44.4</td>\n",
       "      <td>San Francisco</td>\n",
       "      <td>tra1</td>\n",
       "      <td>NaN</td>\n",
       "      <td>44.4</td>\n",
       "      <td>200.0</td>\n",
       "      <td>156.340091</td>\n",
       "      <td>156.340091</td>\n",
       "    </tr>\n",
       "    <tr>\n",
       "      <th>1597461</th>\n",
       "      <td>1041324</td>\n",
       "      <td>P (BASIS)</td>\n",
       "      <td>0.0</td>\n",
       "      <td>San Francisco</td>\n",
       "      <td>tra1</td>\n",
       "      <td>NaN</td>\n",
       "      <td>0.0</td>\n",
       "      <td>200.0</td>\n",
       "      <td>156.340091</td>\n",
       "      <td>156.340091</td>\n",
       "    </tr>\n",
       "  </tbody>\n",
       "</table>\n",
       "</div>"
      ],
      "text/plain": [
       "         parcel_id     zoning_name  max_dua_zoning        juris_x tra_id_x  \\\n",
       "239898     1025891     NODEV_pba40             0.0  San Francisco     tra1   \n",
       "781842     1041372  RH-1 (HE Data)            65.1  San Francisco     tra1   \n",
       "250562     1041325       P (BASIS)             0.0  San Francisco     tra1   \n",
       "635674     1024934  RH-1 (HE Data)            44.4  San Francisco     tra1   \n",
       "1597461    1041324       P (BASIS)             0.0  San Francisco     tra1   \n",
       "\n",
       "                                              pda_id_x  max_dua_imputation  \\\n",
       "239898   san francisco - j church and mission corridor                 0.0   \n",
       "781842   san francisco - j church and mission corridor                65.1   \n",
       "250562                                             NaN                 0.0   \n",
       "635674                                             NaN                44.4   \n",
       "1597461                                            NaN                 0.0   \n",
       "\n",
       "         max_dua_imputation_upzoning  max_dua_builtdua_taz     max_dua  \n",
       "239898                         200.0            156.340091  156.340091  \n",
       "781842                         200.0            156.340091  156.340091  \n",
       "250562                         200.0            156.340091  156.340091  \n",
       "635674                         200.0            156.340091  156.340091  \n",
       "1597461                        200.0            156.340091  156.340091  "
      ]
     },
     "execution_count": 54,
     "metadata": {},
     "output_type": "execute_result"
    }
   ],
   "source": [
    "dua_builtdua_taz_max = dua8.loc[(dua8.max_dua_builtdua_taz == dua8.max_dua) & (dua8.max_dua_builtdua_taz > dua8.max_dua_zoning)]\n",
    "print(\"Number of parcels with DUA > 40 set by building to the lowest built DUA {}\".format(len(dua_builtdua_taz_max.loc[dua_builtdua_taz_max.max_dua > 40])))\n",
    "dua_builtdua_taz_max.loc[dua_builtdua_taz_max.max_dua > 40].head()"
   ]
  },
  {
   "cell_type": "code",
   "execution_count": 55,
   "metadata": {},
   "outputs": [
    {
     "name": "stdout",
     "output_type": "stream",
     "text": [
      "Number of parcels with DUA > 40 from max built dua in TAZ and not in a TRA or PDA is 0\n"
     ]
    },
    {
     "data": {
      "text/html": [
       "<div>\n",
       "<style scoped>\n",
       "    .dataframe tbody tr th:only-of-type {\n",
       "        vertical-align: middle;\n",
       "    }\n",
       "\n",
       "    .dataframe tbody tr th {\n",
       "        vertical-align: top;\n",
       "    }\n",
       "\n",
       "    .dataframe thead th {\n",
       "        text-align: right;\n",
       "    }\n",
       "</style>\n",
       "<table border=\"1\" class=\"dataframe\">\n",
       "  <thead>\n",
       "    <tr style=\"text-align: right;\">\n",
       "      <th></th>\n",
       "      <th>parcel_id</th>\n",
       "      <th>zoning_name</th>\n",
       "      <th>max_dua_zoning</th>\n",
       "      <th>juris_x</th>\n",
       "      <th>tra_id_x</th>\n",
       "      <th>pda_id_x</th>\n",
       "      <th>max_dua_imputation</th>\n",
       "      <th>max_dua_imputation_upzoning</th>\n",
       "      <th>max_dua_builtdua_taz</th>\n",
       "      <th>max_dua</th>\n",
       "    </tr>\n",
       "  </thead>\n",
       "  <tbody>\n",
       "  </tbody>\n",
       "</table>\n",
       "</div>"
      ],
      "text/plain": [
       "Empty DataFrame\n",
       "Columns: [parcel_id, zoning_name, max_dua_zoning, juris_x, tra_id_x, pda_id_x, max_dua_imputation, max_dua_imputation_upzoning, max_dua_builtdua_taz, max_dua]\n",
       "Index: []"
      ]
     },
     "execution_count": 55,
     "metadata": {},
     "output_type": "execute_result"
    }
   ],
   "source": [
    "dua_builtdua_taz_max_high_nongg = dua_builtdua_taz_max.loc[(dua_builtdua_taz_max.max_dua > 40) & \n",
    "                                  (dua_builtdua_taz_max.tra_id_x.isnull()) & (dua_builtdua_taz_max.pda_id_x.isnull())]\n",
    "print(\"Number of parcels with DUA > 40 from max built dua in TAZ and not in a TRA or PDA is {}\".format(len(dua_builtdua_taz_max_high_nongg)))\n",
    "dua_builtdua_taz_max_high_nongg.head()"
   ]
  },
  {
   "cell_type": "markdown",
   "metadata": {},
   "source": [
    "#### DUA from Zoning Input"
   ]
  },
  {
   "cell_type": "code",
   "execution_count": 56,
   "metadata": {},
   "outputs": [
    {
     "name": "stdout",
     "output_type": "stream",
     "text": [
      "Number of parcels with DUA > 40 from input zoning is 71281\n"
     ]
    },
    {
     "data": {
      "text/html": [
       "<div>\n",
       "<style scoped>\n",
       "    .dataframe tbody tr th:only-of-type {\n",
       "        vertical-align: middle;\n",
       "    }\n",
       "\n",
       "    .dataframe tbody tr th {\n",
       "        vertical-align: top;\n",
       "    }\n",
       "\n",
       "    .dataframe thead th {\n",
       "        text-align: right;\n",
       "    }\n",
       "</style>\n",
       "<table border=\"1\" class=\"dataframe\">\n",
       "  <thead>\n",
       "    <tr style=\"text-align: right;\">\n",
       "      <th></th>\n",
       "      <th>parcel_id</th>\n",
       "      <th>zoning_name</th>\n",
       "      <th>max_dua_zoning</th>\n",
       "      <th>juris_x</th>\n",
       "      <th>tra_id_x</th>\n",
       "      <th>pda_id_x</th>\n",
       "      <th>max_dua_imputation</th>\n",
       "      <th>max_dua_imputation_upzoning</th>\n",
       "      <th>max_dua_builtdua_taz</th>\n",
       "      <th>max_dua</th>\n",
       "    </tr>\n",
       "  </thead>\n",
       "  <tbody>\n",
       "    <tr>\n",
       "      <th>502998</th>\n",
       "      <td>981681</td>\n",
       "      <td>TB DTR (HE Data)</td>\n",
       "      <td>1559.7</td>\n",
       "      <td>San Francisco</td>\n",
       "      <td>tra1</td>\n",
       "      <td>san francisco - transbay/rincon hill</td>\n",
       "      <td>1559.7</td>\n",
       "      <td>1559.7</td>\n",
       "      <td>927.653103</td>\n",
       "      <td>1559.7</td>\n",
       "    </tr>\n",
       "    <tr>\n",
       "      <th>169064</th>\n",
       "      <td>981785</td>\n",
       "      <td>RH DTR (HE Data)</td>\n",
       "      <td>1559.7</td>\n",
       "      <td>San Francisco</td>\n",
       "      <td>tra1</td>\n",
       "      <td>san francisco - transbay/rincon hill</td>\n",
       "      <td>1559.7</td>\n",
       "      <td>1559.7</td>\n",
       "      <td>927.653103</td>\n",
       "      <td>1559.7</td>\n",
       "    </tr>\n",
       "    <tr>\n",
       "      <th>1597068</th>\n",
       "      <td>981784</td>\n",
       "      <td>RH DTR (HE Data)</td>\n",
       "      <td>1559.7</td>\n",
       "      <td>San Francisco</td>\n",
       "      <td>tra1</td>\n",
       "      <td>san francisco - transbay/rincon hill</td>\n",
       "      <td>1559.7</td>\n",
       "      <td>1559.7</td>\n",
       "      <td>927.653103</td>\n",
       "      <td>1559.7</td>\n",
       "    </tr>\n",
       "    <tr>\n",
       "      <th>85050</th>\n",
       "      <td>981723</td>\n",
       "      <td>TB DTR (HE Data)</td>\n",
       "      <td>1538.1</td>\n",
       "      <td>San Francisco</td>\n",
       "      <td>tra1</td>\n",
       "      <td>san francisco - transbay/rincon hill</td>\n",
       "      <td>1538.1</td>\n",
       "      <td>1538.1</td>\n",
       "      <td>927.653103</td>\n",
       "      <td>1538.1</td>\n",
       "    </tr>\n",
       "    <tr>\n",
       "      <th>1669360</th>\n",
       "      <td>982865</td>\n",
       "      <td>CMUO (HE Data)</td>\n",
       "      <td>1536.8</td>\n",
       "      <td>San Francisco</td>\n",
       "      <td>tra2</td>\n",
       "      <td>san francisco - eastern neighborhoods</td>\n",
       "      <td>1536.8</td>\n",
       "      <td>1536.8</td>\n",
       "      <td>490.590685</td>\n",
       "      <td>1536.8</td>\n",
       "    </tr>\n",
       "  </tbody>\n",
       "</table>\n",
       "</div>"
      ],
      "text/plain": [
       "         parcel_id       zoning_name  max_dua_zoning        juris_x tra_id_x  \\\n",
       "502998      981681  TB DTR (HE Data)          1559.7  San Francisco     tra1   \n",
       "169064      981785  RH DTR (HE Data)          1559.7  San Francisco     tra1   \n",
       "1597068     981784  RH DTR (HE Data)          1559.7  San Francisco     tra1   \n",
       "85050       981723  TB DTR (HE Data)          1538.1  San Francisco     tra1   \n",
       "1669360     982865    CMUO (HE Data)          1536.8  San Francisco     tra2   \n",
       "\n",
       "                                      pda_id_x  max_dua_imputation  \\\n",
       "502998    san francisco - transbay/rincon hill              1559.7   \n",
       "169064    san francisco - transbay/rincon hill              1559.7   \n",
       "1597068   san francisco - transbay/rincon hill              1559.7   \n",
       "85050     san francisco - transbay/rincon hill              1538.1   \n",
       "1669360  san francisco - eastern neighborhoods              1536.8   \n",
       "\n",
       "         max_dua_imputation_upzoning  max_dua_builtdua_taz  max_dua  \n",
       "502998                        1559.7            927.653103   1559.7  \n",
       "169064                        1559.7            927.653103   1559.7  \n",
       "1597068                       1559.7            927.653103   1559.7  \n",
       "85050                         1538.1            927.653103   1538.1  \n",
       "1669360                       1536.8            490.590685   1536.8  "
      ]
     },
     "execution_count": 56,
     "metadata": {},
     "output_type": "execute_result"
    }
   ],
   "source": [
    "dua_zoning = dua8.loc[(dua8.max_dua_zoning == dua8.max_dua)]\n",
    "print(\"Number of parcels with DUA > 40 from input zoning is {}\".format(len(dua_zoning)))\n",
    "dua_zoning.head()"
   ]
  },
  {
   "cell_type": "code",
   "execution_count": 58,
   "metadata": {},
   "outputs": [
    {
     "name": "stdout",
     "output_type": "stream",
     "text": [
      "Number of parcels with DUA > 40 from input zoning and not in a TRA or PDA is 16178\n"
     ]
    },
    {
     "data": {
      "text/html": [
       "<div>\n",
       "<style scoped>\n",
       "    .dataframe tbody tr th:only-of-type {\n",
       "        vertical-align: middle;\n",
       "    }\n",
       "\n",
       "    .dataframe tbody tr th {\n",
       "        vertical-align: top;\n",
       "    }\n",
       "\n",
       "    .dataframe thead th {\n",
       "        text-align: right;\n",
       "    }\n",
       "</style>\n",
       "<table border=\"1\" class=\"dataframe\">\n",
       "  <thead>\n",
       "    <tr style=\"text-align: right;\">\n",
       "      <th></th>\n",
       "      <th>parcel_id</th>\n",
       "      <th>zoning_name</th>\n",
       "      <th>max_dua_zoning</th>\n",
       "      <th>juris_x</th>\n",
       "      <th>tra_id_x</th>\n",
       "      <th>pda_id_x</th>\n",
       "      <th>max_dua_imputation</th>\n",
       "      <th>max_dua_imputation_upzoning</th>\n",
       "      <th>max_dua_builtdua_taz</th>\n",
       "      <th>max_dua</th>\n",
       "    </tr>\n",
       "  </thead>\n",
       "  <tbody>\n",
       "    <tr>\n",
       "      <th>896229</th>\n",
       "      <td>900474</td>\n",
       "      <td>85' Height Allowed (HE Data)</td>\n",
       "      <td>243.9</td>\n",
       "      <td>San Francisco</td>\n",
       "      <td>NaN</td>\n",
       "      <td>NaN</td>\n",
       "      <td>243.9</td>\n",
       "      <td>243.9</td>\n",
       "      <td>345.596402</td>\n",
       "      <td>243.9</td>\n",
       "    </tr>\n",
       "    <tr>\n",
       "      <th>1545360</th>\n",
       "      <td>900099</td>\n",
       "      <td>85' Height Allowed (HE Data)</td>\n",
       "      <td>243.9</td>\n",
       "      <td>San Francisco</td>\n",
       "      <td>NaN</td>\n",
       "      <td>NaN</td>\n",
       "      <td>243.9</td>\n",
       "      <td>243.9</td>\n",
       "      <td>254.429338</td>\n",
       "      <td>243.9</td>\n",
       "    </tr>\n",
       "    <tr>\n",
       "      <th>895307</th>\n",
       "      <td>907062</td>\n",
       "      <td>85' Height Allowed (HE Data)</td>\n",
       "      <td>243.9</td>\n",
       "      <td>San Francisco</td>\n",
       "      <td>NaN</td>\n",
       "      <td>NaN</td>\n",
       "      <td>243.9</td>\n",
       "      <td>243.9</td>\n",
       "      <td>181.055030</td>\n",
       "      <td>243.9</td>\n",
       "    </tr>\n",
       "    <tr>\n",
       "      <th>1178237</th>\n",
       "      <td>907017</td>\n",
       "      <td>85' Height Allowed (HE Data)</td>\n",
       "      <td>243.9</td>\n",
       "      <td>San Francisco</td>\n",
       "      <td>NaN</td>\n",
       "      <td>NaN</td>\n",
       "      <td>243.9</td>\n",
       "      <td>243.9</td>\n",
       "      <td>292.793462</td>\n",
       "      <td>243.9</td>\n",
       "    </tr>\n",
       "    <tr>\n",
       "      <th>1714280</th>\n",
       "      <td>900165</td>\n",
       "      <td>85' Height Allowed (HE Data)</td>\n",
       "      <td>243.9</td>\n",
       "      <td>San Francisco</td>\n",
       "      <td>NaN</td>\n",
       "      <td>NaN</td>\n",
       "      <td>243.9</td>\n",
       "      <td>243.9</td>\n",
       "      <td>322.640475</td>\n",
       "      <td>243.9</td>\n",
       "    </tr>\n",
       "  </tbody>\n",
       "</table>\n",
       "</div>"
      ],
      "text/plain": [
       "         parcel_id                   zoning_name  max_dua_zoning  \\\n",
       "896229      900474  85' Height Allowed (HE Data)           243.9   \n",
       "1545360     900099  85' Height Allowed (HE Data)           243.9   \n",
       "895307      907062  85' Height Allowed (HE Data)           243.9   \n",
       "1178237     907017  85' Height Allowed (HE Data)           243.9   \n",
       "1714280     900165  85' Height Allowed (HE Data)           243.9   \n",
       "\n",
       "               juris_x tra_id_x pda_id_x  max_dua_imputation  \\\n",
       "896229   San Francisco      NaN      NaN               243.9   \n",
       "1545360  San Francisco      NaN      NaN               243.9   \n",
       "895307   San Francisco      NaN      NaN               243.9   \n",
       "1178237  San Francisco      NaN      NaN               243.9   \n",
       "1714280  San Francisco      NaN      NaN               243.9   \n",
       "\n",
       "         max_dua_imputation_upzoning  max_dua_builtdua_taz  max_dua  \n",
       "896229                         243.9            345.596402    243.9  \n",
       "1545360                        243.9            254.429338    243.9  \n",
       "895307                         243.9            181.055030    243.9  \n",
       "1178237                        243.9            292.793462    243.9  \n",
       "1714280                        243.9            322.640475    243.9  "
      ]
     },
     "execution_count": 58,
     "metadata": {},
     "output_type": "execute_result"
    }
   ],
   "source": [
    "dua_zoning_high_nongg = dua_zoning.loc[(dua_zoning.max_dua > 40) & \n",
    "                                       ((dua_zoning.tra_id_x.isnull()) & (dua_zoning.pda_id_x.isnull()))]\n",
    "print(\"Number of parcels with DUA > 40 from input zoning and not in a TRA or PDA is {}\".format(len(dua_zoning_high_nongg)))\n",
    "dua_zoning_high_nongg.head()"
   ]
  },
  {
   "cell_type": "code",
   "execution_count": 60,
   "metadata": {},
   "outputs": [
    {
     "name": "stdout",
     "output_type": "stream",
     "text": [
      "Number of parcels with DUA > 40 from zoning input and not in a TRA, PDA, or Big 3 is 16178\n"
     ]
    },
    {
     "data": {
      "text/html": [
       "<div>\n",
       "<style scoped>\n",
       "    .dataframe tbody tr th:only-of-type {\n",
       "        vertical-align: middle;\n",
       "    }\n",
       "\n",
       "    .dataframe tbody tr th {\n",
       "        vertical-align: top;\n",
       "    }\n",
       "\n",
       "    .dataframe thead th {\n",
       "        text-align: right;\n",
       "    }\n",
       "</style>\n",
       "<table border=\"1\" class=\"dataframe\">\n",
       "  <thead>\n",
       "    <tr style=\"text-align: right;\">\n",
       "      <th></th>\n",
       "      <th>parcel_id</th>\n",
       "      <th>zoning_name</th>\n",
       "      <th>max_dua_zoning</th>\n",
       "      <th>juris_x</th>\n",
       "      <th>tra_id_x</th>\n",
       "      <th>pda_id_x</th>\n",
       "      <th>max_dua_imputation</th>\n",
       "      <th>max_dua_imputation_upzoning</th>\n",
       "      <th>max_dua_builtdua_taz</th>\n",
       "      <th>max_dua</th>\n",
       "    </tr>\n",
       "  </thead>\n",
       "  <tbody>\n",
       "    <tr>\n",
       "      <th>896229</th>\n",
       "      <td>900474</td>\n",
       "      <td>85' Height Allowed (HE Data)</td>\n",
       "      <td>243.9</td>\n",
       "      <td>San Francisco</td>\n",
       "      <td>NaN</td>\n",
       "      <td>NaN</td>\n",
       "      <td>243.9</td>\n",
       "      <td>243.9</td>\n",
       "      <td>345.596402</td>\n",
       "      <td>243.9</td>\n",
       "    </tr>\n",
       "    <tr>\n",
       "      <th>1545360</th>\n",
       "      <td>900099</td>\n",
       "      <td>85' Height Allowed (HE Data)</td>\n",
       "      <td>243.9</td>\n",
       "      <td>San Francisco</td>\n",
       "      <td>NaN</td>\n",
       "      <td>NaN</td>\n",
       "      <td>243.9</td>\n",
       "      <td>243.9</td>\n",
       "      <td>254.429338</td>\n",
       "      <td>243.9</td>\n",
       "    </tr>\n",
       "    <tr>\n",
       "      <th>895307</th>\n",
       "      <td>907062</td>\n",
       "      <td>85' Height Allowed (HE Data)</td>\n",
       "      <td>243.9</td>\n",
       "      <td>San Francisco</td>\n",
       "      <td>NaN</td>\n",
       "      <td>NaN</td>\n",
       "      <td>243.9</td>\n",
       "      <td>243.9</td>\n",
       "      <td>181.055030</td>\n",
       "      <td>243.9</td>\n",
       "    </tr>\n",
       "    <tr>\n",
       "      <th>1178237</th>\n",
       "      <td>907017</td>\n",
       "      <td>85' Height Allowed (HE Data)</td>\n",
       "      <td>243.9</td>\n",
       "      <td>San Francisco</td>\n",
       "      <td>NaN</td>\n",
       "      <td>NaN</td>\n",
       "      <td>243.9</td>\n",
       "      <td>243.9</td>\n",
       "      <td>292.793462</td>\n",
       "      <td>243.9</td>\n",
       "    </tr>\n",
       "    <tr>\n",
       "      <th>1714280</th>\n",
       "      <td>900165</td>\n",
       "      <td>85' Height Allowed (HE Data)</td>\n",
       "      <td>243.9</td>\n",
       "      <td>San Francisco</td>\n",
       "      <td>NaN</td>\n",
       "      <td>NaN</td>\n",
       "      <td>243.9</td>\n",
       "      <td>243.9</td>\n",
       "      <td>322.640475</td>\n",
       "      <td>243.9</td>\n",
       "    </tr>\n",
       "  </tbody>\n",
       "</table>\n",
       "</div>"
      ],
      "text/plain": [
       "         parcel_id                   zoning_name  max_dua_zoning  \\\n",
       "896229      900474  85' Height Allowed (HE Data)           243.9   \n",
       "1545360     900099  85' Height Allowed (HE Data)           243.9   \n",
       "895307      907062  85' Height Allowed (HE Data)           243.9   \n",
       "1178237     907017  85' Height Allowed (HE Data)           243.9   \n",
       "1714280     900165  85' Height Allowed (HE Data)           243.9   \n",
       "\n",
       "               juris_x tra_id_x pda_id_x  max_dua_imputation  \\\n",
       "896229   San Francisco      NaN      NaN               243.9   \n",
       "1545360  San Francisco      NaN      NaN               243.9   \n",
       "895307   San Francisco      NaN      NaN               243.9   \n",
       "1178237  San Francisco      NaN      NaN               243.9   \n",
       "1714280  San Francisco      NaN      NaN               243.9   \n",
       "\n",
       "         max_dua_imputation_upzoning  max_dua_builtdua_taz  max_dua  \n",
       "896229                         243.9            345.596402    243.9  \n",
       "1545360                        243.9            254.429338    243.9  \n",
       "895307                         243.9            181.055030    243.9  \n",
       "1178237                        243.9            292.793462    243.9  \n",
       "1714280                        243.9            322.640475    243.9  "
      ]
     },
     "execution_count": 60,
     "metadata": {},
     "output_type": "execute_result"
    }
   ],
   "source": [
    "dua_zoning_high_nongg_nonbig3 = dua_zoning.loc[(dua_zoning.parcel_id.isin(dua_zoning_high_nongg.parcel_id)) & \n",
    "            (dua_zoning.juris_x != 'san_francisco') & (dua_zoning.juris_x != 'san_jose') & (dua_zoning.juris_x != 'oakland')]\n",
    "print(\"Number of parcels with DUA > 40 from zoning input and not in a TRA, PDA, or Big 3 is {}\".format(len(dua_zoning_high_nongg_nonbig3)))\n",
    "dua_zoning_high_nongg_nonbig3.head()"
   ]
  },
  {
   "cell_type": "code",
   "execution_count": null,
   "metadata": {},
   "outputs": [],
   "source": [
    "# export associated zoning codes to check them\n",
    "dua_zoning_high_nongg_nonbig3.zoning_name.value_counts().to_csv(\"high base zoning counts.csv\")"
   ]
  },
  {
   "cell_type": "code",
   "execution_count": null,
   "metadata": {},
   "outputs": [],
   "source": [
    "# export associated parcels to view location of input zoning on a map (can dissolve on zoning code)\n",
    "dua_zoning_high_nongg_nonbig3.to_csv(\"dua_zoning_high_nongg_nonbig3.csv\")"
   ]
  },
  {
   "cell_type": "markdown",
   "metadata": {},
   "source": [
    "### FAR"
   ]
  },
  {
   "cell_type": "code",
   "execution_count": null,
   "metadata": {},
   "outputs": [],
   "source": []
  }
 ],
 "metadata": {
  "kernelspec": {
   "display_name": "baus-pip-env",
   "language": "python",
   "name": "python3"
  },
  "language_info": {
   "codemirror_mode": {
    "name": "ipython",
    "version": 3
   },
   "file_extension": ".py",
   "mimetype": "text/x-python",
   "name": "python",
   "nbconvert_exporter": "python",
   "pygments_lexer": "ipython3",
   "version": "3.6.15"
  },
  "orig_nbformat": 4,
  "vscode": {
   "interpreter": {
    "hash": "9278ca6451010c8509587daf3170d1f5396b4ec7bad79e6bf112ffac13fb68de"
   }
  }
 },
 "nbformat": 4,
 "nbformat_minor": 2
}
