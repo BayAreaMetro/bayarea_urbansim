{
 "cells": [
  {
   "cell_type": "code",
   "execution_count": 26,
   "metadata": {},
   "outputs": [],
   "source": [
    "import pandas as pd"
   ]
  },
  {
   "cell_type": "markdown",
   "metadata": {},
   "source": [
    "1. Look at the PBA50+ BAUS zoning for parcels"
   ]
  },
  {
   "cell_type": "code",
   "execution_count": 27,
   "metadata": {},
   "outputs": [],
   "source": [
    "# 2050 output because as built_dua updates the max, max dua calculation is updated\n",
    "pz = pd.read_csv(\"M:/urban_modeling/baus/PBA50Plus/Draft_Blueprint/\\\n",
    "PBA50Plus_Draft_Blueprint_v8_znupd_nodevfix_interimoutput/core_summaries/\\\n",
    "PBA50Plus_Draft_Blueprint_v8_znupd_nodevfix_interimoutput_parcel_summary_2010.csv\")"
   ]
  },
  {
   "cell_type": "markdown",
   "metadata": {},
   "source": [
    "2. Add growth geography variables for understanding parcels' location"
   ]
  },
  {
   "cell_type": "code",
   "execution_count": 28,
   "metadata": {},
   "outputs": [],
   "source": [
    "# parcels geography input file\n",
    "pg = pd.read_csv(\"M:/urban_modeling/baus/BAUS Inputs/basis_inputs/crosswalks/parcels_geography_2024_02_14.csv\")\n",
    "\n",
    "pz = pz.merge(pg[['PARCEL_ID', 'juris', 'gg_id', 'pda_id', 'tra_id', 'hra_id']], \n",
    "                  left_on='parcel_id', right_on='PARCEL_ID', how='left')"
   ]
  },
  {
   "cell_type": "markdown",
   "metadata": {},
   "source": [
    "3. Add the max built DUA/FAR in a parcel's TAZ, used in the BAUS zoning processing"
   ]
  },
  {
   "cell_type": "code",
   "execution_count": 29,
   "metadata": {},
   "outputs": [],
   "source": [
    "# parcel to TAZ crosswalk\n",
    "ptaz = pd.read_csv(\"M:/urban_modeling/baus/BAUS Inputs/basis_inputs/crosswalks/2020_08_17_parcel_to_taz1454sub.csv\")\n",
    "pz = pz.merge(ptaz[['PARCEL_ID', 'ZONE_ID']], left_on='parcel_id', right_on='PARCEL_ID', how='left')\n",
    "\n",
    "max_dua_builtdua_taz = pz.built_dua.groupby(pz.ZONE_ID).max().fillna(4)\n",
    "pz['max_dua_builtdua_taz'] = pz['ZONE_ID'].map(max_dua_builtdua_taz).fillna(4)\n",
    "\n",
    "max_far_builtdua_taz = pz.built_far.groupby(pz.ZONE_ID).max().fillna(4)\n",
    "pz['max_dua_builtfar_taz'] = pz['ZONE_ID'].map(max_far_builtdua_taz).fillna(4)"
   ]
  },
  {
   "cell_type": "markdown",
   "metadata": {},
   "source": [
    "4. Add the base zoning to parcels in order to lookup the corresponding zoning input"
   ]
  },
  {
   "cell_type": "code",
   "execution_count": 30,
   "metadata": {},
   "outputs": [],
   "source": [
    "# latest parcels zoning file\n",
    "pzon = pd.read_csv(\"M:/urban_modeling/baus/BAUS Inputs/basis_inputs/zoning/zoning_parcels_2024-04-30.csv\")\n",
    "# latest parcel lookup file\n",
    "zl = pd.read_csv(\"M:/urban_modeling/baus/BAUS Inputs/basis_inputs/zoning/zoning_lookup_2024-04-30.csv\")\n",
    "zl = zl.rename(columns={\"name\": \"zoning_name\", \"max_dua\":\"max_dua_zoning\", \"max_far\": \"max_far_zoning\"})\n",
    "\n",
    "# merge the zoning lookup to parcels\n",
    "pz = pz.merge(pzon[['PARCEL_ID', 'zoning_id']], left_on='parcel_id', right_on='PARCEL_ID', how='left')\\\n",
    ".merge(zl[['id', 'zoning_name', 'max_dua_zoning', 'max_far_zoning']], left_on='zoning_id', right_on='id', how='left')"
   ]
  },
  {
   "cell_type": "markdown",
   "metadata": {},
   "source": [
    "5. Inspect the BAUS zonign based on the processing steps\n",
    "\n",
    "BAUS processing steps / zoning variables in the table:\n",
    "- **max_dua_zoning** is the input zoning\n",
    "- **max_dua_imputation** is zoning with imputation and residential allowance applied\n",
    "- **max_dua_imputation_upzoning** is zoning with imputation and upzoning and residential allowance applied\n",
    "- **maz_dua_builtfar_taz** is the highest max DUA in the TAZ\n",
    "- **max_dua** is zoning with imputation and upzoning, residenital allowance, nodev modification, outside of urban area modification, \\\n",
    "and lowest built density modification applied"
   ]
  },
  {
   "cell_type": "markdown",
   "metadata": {},
   "source": [
    "### DUA"
   ]
  },
  {
   "cell_type": "code",
   "execution_count": 31,
   "metadata": {},
   "outputs": [
    {
     "name": "stdout",
     "output_type": "stream",
     "text": [
      "Number of parcels with DUA > 40 is 242955\n"
     ]
    }
   ],
   "source": [
    "print(\"Number of parcels with DUA > 40 is {}\".format(len(pz.loc[pz.max_dua > 40])))\n",
    "dua = pz.loc[pz.max_dua > 40][['parcel_id', 'zoning_name', 'max_dua_zoning', 'juris', 'tra_id', 'pda_id',\n",
    "                               'max_dua_imputation', 'max_dua_imputation_upzoning', 'max_dua_builtdua_taz', 'max_dua']].\\\n",
    "                                sort_values(by='max_dua', ascending=False)"
   ]
  },
  {
   "cell_type": "markdown",
   "metadata": {},
   "source": [
    "#### DUA from upzoning"
   ]
  },
  {
   "cell_type": "code",
   "execution_count": 32,
   "metadata": {},
   "outputs": [
    {
     "name": "stdout",
     "output_type": "stream",
     "text": [
      "Number of parcels with DUA > 200 from upzoning step is 0\n"
     ]
    },
    {
     "data": {
      "text/html": [
       "<div>\n",
       "<style scoped>\n",
       "    .dataframe tbody tr th:only-of-type {\n",
       "        vertical-align: middle;\n",
       "    }\n",
       "\n",
       "    .dataframe tbody tr th {\n",
       "        vertical-align: top;\n",
       "    }\n",
       "\n",
       "    .dataframe thead th {\n",
       "        text-align: right;\n",
       "    }\n",
       "</style>\n",
       "<table border=\"1\" class=\"dataframe\">\n",
       "  <thead>\n",
       "    <tr style=\"text-align: right;\">\n",
       "      <th></th>\n",
       "      <th>parcel_id</th>\n",
       "      <th>zoning_name</th>\n",
       "      <th>max_dua_zoning</th>\n",
       "      <th>juris</th>\n",
       "      <th>tra_id</th>\n",
       "      <th>pda_id</th>\n",
       "      <th>max_dua_imputation</th>\n",
       "      <th>max_dua_imputation_upzoning</th>\n",
       "      <th>max_dua_builtdua_taz</th>\n",
       "      <th>max_dua</th>\n",
       "    </tr>\n",
       "  </thead>\n",
       "  <tbody>\n",
       "  </tbody>\n",
       "</table>\n",
       "</div>"
      ],
      "text/plain": [
       "Empty DataFrame\n",
       "Columns: [parcel_id, zoning_name, max_dua_zoning, juris, tra_id, pda_id, max_dua_imputation, max_dua_imputation_upzoning, max_dua_builtdua_taz, max_dua]\n",
       "Index: []"
      ]
     },
     "execution_count": 32,
     "metadata": {},
     "output_type": "execute_result"
    }
   ],
   "source": [
    "dua_upzoning = dua.loc[(dua.max_dua_imputation_upzoning > dua.max_dua_imputation) & (dua.max_dua_imputation_upzoning == dua.max_dua)]\n",
    "print(\"Number of parcels with DUA > 200 from upzoning step is {}\".format(len(dua_upzoning.loc[dua_upzoning.max_dua > 200])))\n",
    "dua_upzoning.loc[dua_upzoning.max_dua > 200].head()"
   ]
  },
  {
   "cell_type": "code",
   "execution_count": 33,
   "metadata": {},
   "outputs": [
    {
     "name": "stdout",
     "output_type": "stream",
     "text": [
      "Number of parcels with DUA > 200 from upzoning step but not in a TRA or PDA is 0\n"
     ]
    },
    {
     "data": {
      "text/html": [
       "<div>\n",
       "<style scoped>\n",
       "    .dataframe tbody tr th:only-of-type {\n",
       "        vertical-align: middle;\n",
       "    }\n",
       "\n",
       "    .dataframe tbody tr th {\n",
       "        vertical-align: top;\n",
       "    }\n",
       "\n",
       "    .dataframe thead th {\n",
       "        text-align: right;\n",
       "    }\n",
       "</style>\n",
       "<table border=\"1\" class=\"dataframe\">\n",
       "  <thead>\n",
       "    <tr style=\"text-align: right;\">\n",
       "      <th></th>\n",
       "      <th>parcel_id</th>\n",
       "      <th>zoning_name</th>\n",
       "      <th>max_dua_zoning</th>\n",
       "      <th>juris</th>\n",
       "      <th>tra_id</th>\n",
       "      <th>pda_id</th>\n",
       "      <th>max_dua_imputation</th>\n",
       "      <th>max_dua_imputation_upzoning</th>\n",
       "      <th>max_dua_builtdua_taz</th>\n",
       "      <th>max_dua</th>\n",
       "    </tr>\n",
       "  </thead>\n",
       "  <tbody>\n",
       "  </tbody>\n",
       "</table>\n",
       "</div>"
      ],
      "text/plain": [
       "Empty DataFrame\n",
       "Columns: [parcel_id, zoning_name, max_dua_zoning, juris, tra_id, pda_id, max_dua_imputation, max_dua_imputation_upzoning, max_dua_builtdua_taz, max_dua]\n",
       "Index: []"
      ]
     },
     "execution_count": 33,
     "metadata": {},
     "output_type": "execute_result"
    }
   ],
   "source": [
    "dua_upzoning_high_nongg = dua_upzoning.loc[(dua_upzoning.max_dua > 200) & (dua_upzoning.tra_id.isnull()) & (dua_upzoning.pda_id.isnull())]\n",
    "print(\"Number of parcels with DUA > 200 from upzoning step but not in a TRA or PDA is {}\".format(len(dua_upzoning_high_nongg)))\n",
    "dua_upzoning_high_nongg.head()"
   ]
  },
  {
   "cell_type": "markdown",
   "metadata": {},
   "source": [
    "#### DUA from Imputation"
   ]
  },
  {
   "cell_type": "code",
   "execution_count": 34,
   "metadata": {},
   "outputs": [
    {
     "name": "stdout",
     "output_type": "stream",
     "text": [
      "Number of parcels with DUA > 40 from imputation is 0\n"
     ]
    },
    {
     "data": {
      "text/html": [
       "<div>\n",
       "<style scoped>\n",
       "    .dataframe tbody tr th:only-of-type {\n",
       "        vertical-align: middle;\n",
       "    }\n",
       "\n",
       "    .dataframe tbody tr th {\n",
       "        vertical-align: top;\n",
       "    }\n",
       "\n",
       "    .dataframe thead th {\n",
       "        text-align: right;\n",
       "    }\n",
       "</style>\n",
       "<table border=\"1\" class=\"dataframe\">\n",
       "  <thead>\n",
       "    <tr style=\"text-align: right;\">\n",
       "      <th></th>\n",
       "      <th>parcel_id</th>\n",
       "      <th>zoning_name</th>\n",
       "      <th>max_dua_zoning</th>\n",
       "      <th>juris</th>\n",
       "      <th>tra_id</th>\n",
       "      <th>pda_id</th>\n",
       "      <th>max_dua_imputation</th>\n",
       "      <th>max_dua_imputation_upzoning</th>\n",
       "      <th>max_dua_builtdua_taz</th>\n",
       "      <th>max_dua</th>\n",
       "    </tr>\n",
       "  </thead>\n",
       "  <tbody>\n",
       "  </tbody>\n",
       "</table>\n",
       "</div>"
      ],
      "text/plain": [
       "Empty DataFrame\n",
       "Columns: [parcel_id, zoning_name, max_dua_zoning, juris, tra_id, pda_id, max_dua_imputation, max_dua_imputation_upzoning, max_dua_builtdua_taz, max_dua]\n",
       "Index: []"
      ]
     },
     "execution_count": 34,
     "metadata": {},
     "output_type": "execute_result"
    }
   ],
   "source": [
    "dua_imputation = dua.loc[(dua.max_dua_imputation > dua.max_dua_zoning) & (dua.max_dua_imputation == dua.max_dua)]\n",
    "print(\"Number of parcels with DUA > 40 from imputation is {}\".format(len(dua_imputation.loc[dua_imputation.max_dua > 40])))\n",
    "dua_imputation.loc[dua_imputation.max_dua > 40].head()"
   ]
  },
  {
   "cell_type": "code",
   "execution_count": 35,
   "metadata": {},
   "outputs": [
    {
     "name": "stdout",
     "output_type": "stream",
     "text": [
      "Number of parcels with DUA > 40 from imputation and not in a TRA or PDA is 0\n"
     ]
    },
    {
     "data": {
      "text/html": [
       "<div>\n",
       "<style scoped>\n",
       "    .dataframe tbody tr th:only-of-type {\n",
       "        vertical-align: middle;\n",
       "    }\n",
       "\n",
       "    .dataframe tbody tr th {\n",
       "        vertical-align: top;\n",
       "    }\n",
       "\n",
       "    .dataframe thead th {\n",
       "        text-align: right;\n",
       "    }\n",
       "</style>\n",
       "<table border=\"1\" class=\"dataframe\">\n",
       "  <thead>\n",
       "    <tr style=\"text-align: right;\">\n",
       "      <th></th>\n",
       "      <th>parcel_id</th>\n",
       "      <th>zoning_name</th>\n",
       "      <th>max_dua_zoning</th>\n",
       "      <th>juris</th>\n",
       "      <th>tra_id</th>\n",
       "      <th>pda_id</th>\n",
       "      <th>max_dua_imputation</th>\n",
       "      <th>max_dua_imputation_upzoning</th>\n",
       "      <th>max_dua_builtdua_taz</th>\n",
       "      <th>max_dua</th>\n",
       "    </tr>\n",
       "  </thead>\n",
       "  <tbody>\n",
       "  </tbody>\n",
       "</table>\n",
       "</div>"
      ],
      "text/plain": [
       "Empty DataFrame\n",
       "Columns: [parcel_id, zoning_name, max_dua_zoning, juris, tra_id, pda_id, max_dua_imputation, max_dua_imputation_upzoning, max_dua_builtdua_taz, max_dua]\n",
       "Index: []"
      ]
     },
     "execution_count": 35,
     "metadata": {},
     "output_type": "execute_result"
    }
   ],
   "source": [
    "dua_imputation_high_nongg = dua_imputation.loc[(dua_imputation.max_dua > 40) & (dua_imputation.tra_id.isnull()) & (dua_imputation.pda_id.isnull())]\n",
    "print(\"Number of parcels with DUA > 40 from imputation and not in a TRA or PDA is {}\".format(len(dua_imputation_high_nongg)))\n",
    "dua_imputation_high_nongg"
   ]
  },
  {
   "cell_type": "markdown",
   "metadata": {},
   "source": [
    "#### DUA from Max TAZ Built DUA"
   ]
  },
  {
   "cell_type": "code",
   "execution_count": 36,
   "metadata": {},
   "outputs": [
    {
     "name": "stdout",
     "output_type": "stream",
     "text": [
      "Number of parcels with DUA > 40 set by building to the lowest built DUA 8166\n"
     ]
    },
    {
     "data": {
      "text/html": [
       "<div>\n",
       "<style scoped>\n",
       "    .dataframe tbody tr th:only-of-type {\n",
       "        vertical-align: middle;\n",
       "    }\n",
       "\n",
       "    .dataframe tbody tr th {\n",
       "        vertical-align: top;\n",
       "    }\n",
       "\n",
       "    .dataframe thead th {\n",
       "        text-align: right;\n",
       "    }\n",
       "</style>\n",
       "<table border=\"1\" class=\"dataframe\">\n",
       "  <thead>\n",
       "    <tr style=\"text-align: right;\">\n",
       "      <th></th>\n",
       "      <th>parcel_id</th>\n",
       "      <th>zoning_name</th>\n",
       "      <th>max_dua_zoning</th>\n",
       "      <th>juris</th>\n",
       "      <th>tra_id</th>\n",
       "      <th>pda_id</th>\n",
       "      <th>max_dua_imputation</th>\n",
       "      <th>max_dua_imputation_upzoning</th>\n",
       "      <th>max_dua_builtdua_taz</th>\n",
       "      <th>max_dua</th>\n",
       "    </tr>\n",
       "  </thead>\n",
       "  <tbody>\n",
       "    <tr>\n",
       "      <th>239898</th>\n",
       "      <td>1025891</td>\n",
       "      <td>NODEV_pba40</td>\n",
       "      <td>0.0</td>\n",
       "      <td>san_francisco</td>\n",
       "      <td>TRA1</td>\n",
       "      <td>San Francisco - J Church and Mission Corridor</td>\n",
       "      <td>0.0</td>\n",
       "      <td>200.0</td>\n",
       "      <td>156.340091</td>\n",
       "      <td>156.340091</td>\n",
       "    </tr>\n",
       "    <tr>\n",
       "      <th>1595926</th>\n",
       "      <td>1041623</td>\n",
       "      <td>RH-1 (HE Data)</td>\n",
       "      <td>60.5</td>\n",
       "      <td>san_francisco</td>\n",
       "      <td>TRA1</td>\n",
       "      <td>NaN</td>\n",
       "      <td>60.5</td>\n",
       "      <td>200.0</td>\n",
       "      <td>156.340091</td>\n",
       "      <td>156.340091</td>\n",
       "    </tr>\n",
       "    <tr>\n",
       "      <th>1597461</th>\n",
       "      <td>1041324</td>\n",
       "      <td>P (BASIS)</td>\n",
       "      <td>0.0</td>\n",
       "      <td>san_francisco</td>\n",
       "      <td>TRA1</td>\n",
       "      <td>NaN</td>\n",
       "      <td>0.0</td>\n",
       "      <td>200.0</td>\n",
       "      <td>156.340091</td>\n",
       "      <td>156.340091</td>\n",
       "    </tr>\n",
       "    <tr>\n",
       "      <th>1422527</th>\n",
       "      <td>1041520</td>\n",
       "      <td>RH-1 (HE Data)</td>\n",
       "      <td>98.0</td>\n",
       "      <td>san_francisco</td>\n",
       "      <td>TRA1</td>\n",
       "      <td>San Francisco - J Church and Mission Corridor</td>\n",
       "      <td>98.0</td>\n",
       "      <td>200.0</td>\n",
       "      <td>156.340091</td>\n",
       "      <td>156.340091</td>\n",
       "    </tr>\n",
       "    <tr>\n",
       "      <th>274324</th>\n",
       "      <td>1024933</td>\n",
       "      <td>RH-1 (HE Data)</td>\n",
       "      <td>43.8</td>\n",
       "      <td>san_francisco</td>\n",
       "      <td>TRA1</td>\n",
       "      <td>NaN</td>\n",
       "      <td>43.8</td>\n",
       "      <td>200.0</td>\n",
       "      <td>156.340091</td>\n",
       "      <td>156.340091</td>\n",
       "    </tr>\n",
       "  </tbody>\n",
       "</table>\n",
       "</div>"
      ],
      "text/plain": [
       "         parcel_id     zoning_name  max_dua_zoning          juris tra_id  \\\n",
       "239898     1025891     NODEV_pba40             0.0  san_francisco   TRA1   \n",
       "1595926    1041623  RH-1 (HE Data)            60.5  san_francisco   TRA1   \n",
       "1597461    1041324       P (BASIS)             0.0  san_francisco   TRA1   \n",
       "1422527    1041520  RH-1 (HE Data)            98.0  san_francisco   TRA1   \n",
       "274324     1024933  RH-1 (HE Data)            43.8  san_francisco   TRA1   \n",
       "\n",
       "                                                pda_id  max_dua_imputation  \\\n",
       "239898   San Francisco - J Church and Mission Corridor                 0.0   \n",
       "1595926                                            NaN                60.5   \n",
       "1597461                                            NaN                 0.0   \n",
       "1422527  San Francisco - J Church and Mission Corridor                98.0   \n",
       "274324                                             NaN                43.8   \n",
       "\n",
       "         max_dua_imputation_upzoning  max_dua_builtdua_taz     max_dua  \n",
       "239898                         200.0            156.340091  156.340091  \n",
       "1595926                        200.0            156.340091  156.340091  \n",
       "1597461                        200.0            156.340091  156.340091  \n",
       "1422527                        200.0            156.340091  156.340091  \n",
       "274324                         200.0            156.340091  156.340091  "
      ]
     },
     "execution_count": 36,
     "metadata": {},
     "output_type": "execute_result"
    }
   ],
   "source": [
    "dua_builtdua_taz_max = dua.loc[(dua.max_dua_builtdua_taz == dua.max_dua) & (dua.max_dua_builtdua_taz > dua.max_dua_zoning)]\n",
    "print(\"Number of parcels with DUA > 40 set by building to the lowest built DUA {}\".format(len(dua_builtdua_taz_max.loc[dua_builtdua_taz_max.max_dua > 40])))\n",
    "dua_builtdua_taz_max.loc[dua_builtdua_taz_max.max_dua > 40].head()"
   ]
  },
  {
   "cell_type": "code",
   "execution_count": 37,
   "metadata": {},
   "outputs": [
    {
     "name": "stdout",
     "output_type": "stream",
     "text": [
      "Number of parcels with DUA > 40 from max built dua in TAZ and not in a TRA or PDA is 0\n"
     ]
    },
    {
     "data": {
      "text/html": [
       "<div>\n",
       "<style scoped>\n",
       "    .dataframe tbody tr th:only-of-type {\n",
       "        vertical-align: middle;\n",
       "    }\n",
       "\n",
       "    .dataframe tbody tr th {\n",
       "        vertical-align: top;\n",
       "    }\n",
       "\n",
       "    .dataframe thead th {\n",
       "        text-align: right;\n",
       "    }\n",
       "</style>\n",
       "<table border=\"1\" class=\"dataframe\">\n",
       "  <thead>\n",
       "    <tr style=\"text-align: right;\">\n",
       "      <th></th>\n",
       "      <th>parcel_id</th>\n",
       "      <th>zoning_name</th>\n",
       "      <th>max_dua_zoning</th>\n",
       "      <th>juris</th>\n",
       "      <th>tra_id</th>\n",
       "      <th>pda_id</th>\n",
       "      <th>max_dua_imputation</th>\n",
       "      <th>max_dua_imputation_upzoning</th>\n",
       "      <th>max_dua_builtdua_taz</th>\n",
       "      <th>max_dua</th>\n",
       "    </tr>\n",
       "  </thead>\n",
       "  <tbody>\n",
       "  </tbody>\n",
       "</table>\n",
       "</div>"
      ],
      "text/plain": [
       "Empty DataFrame\n",
       "Columns: [parcel_id, zoning_name, max_dua_zoning, juris, tra_id, pda_id, max_dua_imputation, max_dua_imputation_upzoning, max_dua_builtdua_taz, max_dua]\n",
       "Index: []"
      ]
     },
     "execution_count": 37,
     "metadata": {},
     "output_type": "execute_result"
    }
   ],
   "source": [
    "dua_builtdua_taz_max_high_nongg = dua_builtdua_taz_max.loc[(dua_builtdua_taz_max.max_dua > 40) & \n",
    "                                  (dua_builtdua_taz_max.tra_id.isnull()) & (dua_builtdua_taz_max.pda_id.isnull())]\n",
    "print(\"Number of parcels with DUA > 40 from max built dua in TAZ and not in a TRA or PDA is {}\".format(len(dua_builtdua_taz_max_high_nongg)))\n",
    "dua_builtdua_taz_max_high_nongg.head()"
   ]
  },
  {
   "cell_type": "markdown",
   "metadata": {},
   "source": [
    "#### DUA from Zoning Input"
   ]
  },
  {
   "cell_type": "code",
   "execution_count": 38,
   "metadata": {},
   "outputs": [
    {
     "name": "stdout",
     "output_type": "stream",
     "text": [
      "Number of parcels with DUA > 40 from input zoning is 68313\n"
     ]
    },
    {
     "data": {
      "text/html": [
       "<div>\n",
       "<style scoped>\n",
       "    .dataframe tbody tr th:only-of-type {\n",
       "        vertical-align: middle;\n",
       "    }\n",
       "\n",
       "    .dataframe tbody tr th {\n",
       "        vertical-align: top;\n",
       "    }\n",
       "\n",
       "    .dataframe thead th {\n",
       "        text-align: right;\n",
       "    }\n",
       "</style>\n",
       "<table border=\"1\" class=\"dataframe\">\n",
       "  <thead>\n",
       "    <tr style=\"text-align: right;\">\n",
       "      <th></th>\n",
       "      <th>parcel_id</th>\n",
       "      <th>zoning_name</th>\n",
       "      <th>max_dua_zoning</th>\n",
       "      <th>juris</th>\n",
       "      <th>tra_id</th>\n",
       "      <th>pda_id</th>\n",
       "      <th>max_dua_imputation</th>\n",
       "      <th>max_dua_imputation_upzoning</th>\n",
       "      <th>max_dua_builtdua_taz</th>\n",
       "      <th>max_dua</th>\n",
       "    </tr>\n",
       "  </thead>\n",
       "  <tbody>\n",
       "    <tr>\n",
       "      <th>1383244</th>\n",
       "      <td>902326</td>\n",
       "      <td>C-3-G (HE Data)</td>\n",
       "      <td>895.2</td>\n",
       "      <td>san_francisco</td>\n",
       "      <td>TRA1</td>\n",
       "      <td>San Francisco - Downtown/Van Ness/Northeast Ne...</td>\n",
       "      <td>895.2</td>\n",
       "      <td>895.2</td>\n",
       "      <td>992.821485</td>\n",
       "      <td>895.2</td>\n",
       "    </tr>\n",
       "    <tr>\n",
       "      <th>150228</th>\n",
       "      <td>893650</td>\n",
       "      <td>DOWNTOWN- OFFICE-300-S_pba40</td>\n",
       "      <td>871.2</td>\n",
       "      <td>san_francisco</td>\n",
       "      <td>TRA1</td>\n",
       "      <td>San Francisco - Downtown/Van Ness/Northeast Ne...</td>\n",
       "      <td>871.2</td>\n",
       "      <td>871.2</td>\n",
       "      <td>1018.311575</td>\n",
       "      <td>871.2</td>\n",
       "    </tr>\n",
       "    <tr>\n",
       "      <th>1819990</th>\n",
       "      <td>893641</td>\n",
       "      <td>DOWNTOWN- OFFICE-300-S_pba40</td>\n",
       "      <td>871.2</td>\n",
       "      <td>san_francisco</td>\n",
       "      <td>TRA1</td>\n",
       "      <td>San Francisco - Downtown/Van Ness/Northeast Ne...</td>\n",
       "      <td>871.2</td>\n",
       "      <td>871.2</td>\n",
       "      <td>1018.311575</td>\n",
       "      <td>871.2</td>\n",
       "    </tr>\n",
       "    <tr>\n",
       "      <th>1355772</th>\n",
       "      <td>893647</td>\n",
       "      <td>DOWNTOWN- OFFICE-300-S_pba40</td>\n",
       "      <td>871.2</td>\n",
       "      <td>san_francisco</td>\n",
       "      <td>TRA1</td>\n",
       "      <td>San Francisco - Downtown/Van Ness/Northeast Ne...</td>\n",
       "      <td>871.2</td>\n",
       "      <td>871.2</td>\n",
       "      <td>1018.311575</td>\n",
       "      <td>871.2</td>\n",
       "    </tr>\n",
       "    <tr>\n",
       "      <th>1597067</th>\n",
       "      <td>981776</td>\n",
       "      <td>RH DTR (HE Data)</td>\n",
       "      <td>749.4</td>\n",
       "      <td>san_francisco</td>\n",
       "      <td>TRA1</td>\n",
       "      <td>San Francisco - Transbay/Rincon Hill</td>\n",
       "      <td>749.4</td>\n",
       "      <td>749.4</td>\n",
       "      <td>927.653103</td>\n",
       "      <td>749.4</td>\n",
       "    </tr>\n",
       "  </tbody>\n",
       "</table>\n",
       "</div>"
      ],
      "text/plain": [
       "         parcel_id                   zoning_name  max_dua_zoning  \\\n",
       "1383244     902326               C-3-G (HE Data)           895.2   \n",
       "150228      893650  DOWNTOWN- OFFICE-300-S_pba40           871.2   \n",
       "1819990     893641  DOWNTOWN- OFFICE-300-S_pba40           871.2   \n",
       "1355772     893647  DOWNTOWN- OFFICE-300-S_pba40           871.2   \n",
       "1597067     981776              RH DTR (HE Data)           749.4   \n",
       "\n",
       "                 juris tra_id  \\\n",
       "1383244  san_francisco   TRA1   \n",
       "150228   san_francisco   TRA1   \n",
       "1819990  san_francisco   TRA1   \n",
       "1355772  san_francisco   TRA1   \n",
       "1597067  san_francisco   TRA1   \n",
       "\n",
       "                                                    pda_id  \\\n",
       "1383244  San Francisco - Downtown/Van Ness/Northeast Ne...   \n",
       "150228   San Francisco - Downtown/Van Ness/Northeast Ne...   \n",
       "1819990  San Francisco - Downtown/Van Ness/Northeast Ne...   \n",
       "1355772  San Francisco - Downtown/Van Ness/Northeast Ne...   \n",
       "1597067               San Francisco - Transbay/Rincon Hill   \n",
       "\n",
       "         max_dua_imputation  max_dua_imputation_upzoning  \\\n",
       "1383244               895.2                        895.2   \n",
       "150228                871.2                        871.2   \n",
       "1819990               871.2                        871.2   \n",
       "1355772               871.2                        871.2   \n",
       "1597067               749.4                        749.4   \n",
       "\n",
       "         max_dua_builtdua_taz  max_dua  \n",
       "1383244            992.821485    895.2  \n",
       "150228            1018.311575    871.2  \n",
       "1819990           1018.311575    871.2  \n",
       "1355772           1018.311575    871.2  \n",
       "1597067            927.653103    749.4  "
      ]
     },
     "execution_count": 38,
     "metadata": {},
     "output_type": "execute_result"
    }
   ],
   "source": [
    "dua_zoning = dua.loc[(dua.max_dua_zoning == dua.max_dua)]\n",
    "print(\"Number of parcels with DUA > 40 from input zoning is {}\".format(len(dua_zoning)))\n",
    "dua_zoning.head()"
   ]
  },
  {
   "cell_type": "code",
   "execution_count": 39,
   "metadata": {},
   "outputs": [
    {
     "name": "stdout",
     "output_type": "stream",
     "text": [
      "Number of parcels with DUA > 40 from input zoning and not in a TRA or PDA is 15997\n"
     ]
    },
    {
     "data": {
      "text/html": [
       "<div>\n",
       "<style scoped>\n",
       "    .dataframe tbody tr th:only-of-type {\n",
       "        vertical-align: middle;\n",
       "    }\n",
       "\n",
       "    .dataframe tbody tr th {\n",
       "        vertical-align: top;\n",
       "    }\n",
       "\n",
       "    .dataframe thead th {\n",
       "        text-align: right;\n",
       "    }\n",
       "</style>\n",
       "<table border=\"1\" class=\"dataframe\">\n",
       "  <thead>\n",
       "    <tr style=\"text-align: right;\">\n",
       "      <th></th>\n",
       "      <th>parcel_id</th>\n",
       "      <th>zoning_name</th>\n",
       "      <th>max_dua_zoning</th>\n",
       "      <th>juris</th>\n",
       "      <th>tra_id</th>\n",
       "      <th>pda_id</th>\n",
       "      <th>max_dua_imputation</th>\n",
       "      <th>max_dua_imputation_upzoning</th>\n",
       "      <th>max_dua_builtdua_taz</th>\n",
       "      <th>max_dua</th>\n",
       "    </tr>\n",
       "  </thead>\n",
       "  <tbody>\n",
       "    <tr>\n",
       "      <th>1220829</th>\n",
       "      <td>900063</td>\n",
       "      <td>85' Height Allowed (HE Data)</td>\n",
       "      <td>243.9</td>\n",
       "      <td>san_francisco</td>\n",
       "      <td>NaN</td>\n",
       "      <td>NaN</td>\n",
       "      <td>243.9</td>\n",
       "      <td>243.9</td>\n",
       "      <td>254.429338</td>\n",
       "      <td>243.9</td>\n",
       "    </tr>\n",
       "    <tr>\n",
       "      <th>1178237</th>\n",
       "      <td>907017</td>\n",
       "      <td>85' Height Allowed (HE Data)</td>\n",
       "      <td>243.9</td>\n",
       "      <td>san_francisco</td>\n",
       "      <td>NaN</td>\n",
       "      <td>NaN</td>\n",
       "      <td>243.9</td>\n",
       "      <td>243.9</td>\n",
       "      <td>292.793462</td>\n",
       "      <td>243.9</td>\n",
       "    </tr>\n",
       "    <tr>\n",
       "      <th>83002</th>\n",
       "      <td>900100</td>\n",
       "      <td>85' Height Allowed (HE Data)</td>\n",
       "      <td>243.9</td>\n",
       "      <td>san_francisco</td>\n",
       "      <td>NaN</td>\n",
       "      <td>NaN</td>\n",
       "      <td>243.9</td>\n",
       "      <td>243.9</td>\n",
       "      <td>254.429338</td>\n",
       "      <td>243.9</td>\n",
       "    </tr>\n",
       "    <tr>\n",
       "      <th>408213</th>\n",
       "      <td>900476</td>\n",
       "      <td>85' Height Allowed (HE Data)</td>\n",
       "      <td>243.9</td>\n",
       "      <td>san_francisco</td>\n",
       "      <td>NaN</td>\n",
       "      <td>NaN</td>\n",
       "      <td>243.9</td>\n",
       "      <td>243.9</td>\n",
       "      <td>345.596402</td>\n",
       "      <td>243.9</td>\n",
       "    </tr>\n",
       "    <tr>\n",
       "      <th>1052216</th>\n",
       "      <td>900580</td>\n",
       "      <td>85' Height Allowed (HE Data)</td>\n",
       "      <td>243.9</td>\n",
       "      <td>san_francisco</td>\n",
       "      <td>NaN</td>\n",
       "      <td>NaN</td>\n",
       "      <td>243.9</td>\n",
       "      <td>243.9</td>\n",
       "      <td>292.793462</td>\n",
       "      <td>243.9</td>\n",
       "    </tr>\n",
       "  </tbody>\n",
       "</table>\n",
       "</div>"
      ],
      "text/plain": [
       "         parcel_id                   zoning_name  max_dua_zoning  \\\n",
       "1220829     900063  85' Height Allowed (HE Data)           243.9   \n",
       "1178237     907017  85' Height Allowed (HE Data)           243.9   \n",
       "83002       900100  85' Height Allowed (HE Data)           243.9   \n",
       "408213      900476  85' Height Allowed (HE Data)           243.9   \n",
       "1052216     900580  85' Height Allowed (HE Data)           243.9   \n",
       "\n",
       "                 juris tra_id pda_id  max_dua_imputation  \\\n",
       "1220829  san_francisco    NaN    NaN               243.9   \n",
       "1178237  san_francisco    NaN    NaN               243.9   \n",
       "83002    san_francisco    NaN    NaN               243.9   \n",
       "408213   san_francisco    NaN    NaN               243.9   \n",
       "1052216  san_francisco    NaN    NaN               243.9   \n",
       "\n",
       "         max_dua_imputation_upzoning  max_dua_builtdua_taz  max_dua  \n",
       "1220829                        243.9            254.429338    243.9  \n",
       "1178237                        243.9            292.793462    243.9  \n",
       "83002                          243.9            254.429338    243.9  \n",
       "408213                         243.9            345.596402    243.9  \n",
       "1052216                        243.9            292.793462    243.9  "
      ]
     },
     "execution_count": 39,
     "metadata": {},
     "output_type": "execute_result"
    }
   ],
   "source": [
    "dua_zoning_high_nongg = dua_zoning.loc[(dua_zoning.max_dua > 40) & \n",
    "                                       ((dua_zoning.tra_id.isnull()) & (dua_zoning.pda_id.isnull()))]\n",
    "print(\"Number of parcels with DUA > 40 from input zoning and not in a TRA or PDA is {}\".format(len(dua_zoning_high_nongg)))\n",
    "dua_zoning_high_nongg.head()"
   ]
  },
  {
   "cell_type": "code",
   "execution_count": 40,
   "metadata": {},
   "outputs": [
    {
     "name": "stdout",
     "output_type": "stream",
     "text": [
      "Number of parcels with DUA > 40 from zoning input and not in a TRA, PDA, or Big 3 is 3280\n"
     ]
    },
    {
     "data": {
      "text/html": [
       "<div>\n",
       "<style scoped>\n",
       "    .dataframe tbody tr th:only-of-type {\n",
       "        vertical-align: middle;\n",
       "    }\n",
       "\n",
       "    .dataframe tbody tr th {\n",
       "        vertical-align: top;\n",
       "    }\n",
       "\n",
       "    .dataframe thead th {\n",
       "        text-align: right;\n",
       "    }\n",
       "</style>\n",
       "<table border=\"1\" class=\"dataframe\">\n",
       "  <thead>\n",
       "    <tr style=\"text-align: right;\">\n",
       "      <th></th>\n",
       "      <th>parcel_id</th>\n",
       "      <th>zoning_name</th>\n",
       "      <th>max_dua_zoning</th>\n",
       "      <th>juris</th>\n",
       "      <th>tra_id</th>\n",
       "      <th>pda_id</th>\n",
       "      <th>max_dua_imputation</th>\n",
       "      <th>max_dua_imputation_upzoning</th>\n",
       "      <th>max_dua_builtdua_taz</th>\n",
       "      <th>max_dua</th>\n",
       "    </tr>\n",
       "  </thead>\n",
       "  <tbody>\n",
       "    <tr>\n",
       "      <th>689158</th>\n",
       "      <td>525678</td>\n",
       "      <td>RH (HE Data)</td>\n",
       "      <td>125.0</td>\n",
       "      <td>concord</td>\n",
       "      <td>NaN</td>\n",
       "      <td>NaN</td>\n",
       "      <td>125.0</td>\n",
       "      <td>125.0</td>\n",
       "      <td>218.328542</td>\n",
       "      <td>125.0</td>\n",
       "    </tr>\n",
       "    <tr>\n",
       "      <th>443090</th>\n",
       "      <td>523121</td>\n",
       "      <td>RH (HE Data)</td>\n",
       "      <td>125.0</td>\n",
       "      <td>concord</td>\n",
       "      <td>NaN</td>\n",
       "      <td>NaN</td>\n",
       "      <td>125.0</td>\n",
       "      <td>125.0</td>\n",
       "      <td>218.328542</td>\n",
       "      <td>125.0</td>\n",
       "    </tr>\n",
       "    <tr>\n",
       "      <th>607876</th>\n",
       "      <td>109967</td>\n",
       "      <td>R-4 (HE Data)</td>\n",
       "      <td>124.5</td>\n",
       "      <td>berkeley</td>\n",
       "      <td>NaN</td>\n",
       "      <td>NaN</td>\n",
       "      <td>124.5</td>\n",
       "      <td>124.5</td>\n",
       "      <td>163.524575</td>\n",
       "      <td>124.5</td>\n",
       "    </tr>\n",
       "    <tr>\n",
       "      <th>53323</th>\n",
       "      <td>110056</td>\n",
       "      <td>R-4 (HE Data)</td>\n",
       "      <td>124.5</td>\n",
       "      <td>berkeley</td>\n",
       "      <td>NaN</td>\n",
       "      <td>NaN</td>\n",
       "      <td>124.5</td>\n",
       "      <td>124.5</td>\n",
       "      <td>163.524575</td>\n",
       "      <td>124.5</td>\n",
       "    </tr>\n",
       "    <tr>\n",
       "      <th>888458</th>\n",
       "      <td>117199</td>\n",
       "      <td>R-4 (HE Data)</td>\n",
       "      <td>124.5</td>\n",
       "      <td>berkeley</td>\n",
       "      <td>NaN</td>\n",
       "      <td>NaN</td>\n",
       "      <td>124.5</td>\n",
       "      <td>124.5</td>\n",
       "      <td>236.041025</td>\n",
       "      <td>124.5</td>\n",
       "    </tr>\n",
       "  </tbody>\n",
       "</table>\n",
       "</div>"
      ],
      "text/plain": [
       "        parcel_id    zoning_name  max_dua_zoning     juris tra_id pda_id  \\\n",
       "689158     525678   RH (HE Data)           125.0   concord    NaN    NaN   \n",
       "443090     523121   RH (HE Data)           125.0   concord    NaN    NaN   \n",
       "607876     109967  R-4 (HE Data)           124.5  berkeley    NaN    NaN   \n",
       "53323      110056  R-4 (HE Data)           124.5  berkeley    NaN    NaN   \n",
       "888458     117199  R-4 (HE Data)           124.5  berkeley    NaN    NaN   \n",
       "\n",
       "        max_dua_imputation  max_dua_imputation_upzoning  max_dua_builtdua_taz  \\\n",
       "689158               125.0                        125.0            218.328542   \n",
       "443090               125.0                        125.0            218.328542   \n",
       "607876               124.5                        124.5            163.524575   \n",
       "53323                124.5                        124.5            163.524575   \n",
       "888458               124.5                        124.5            236.041025   \n",
       "\n",
       "        max_dua  \n",
       "689158    125.0  \n",
       "443090    125.0  \n",
       "607876    124.5  \n",
       "53323     124.5  \n",
       "888458    124.5  "
      ]
     },
     "execution_count": 40,
     "metadata": {},
     "output_type": "execute_result"
    }
   ],
   "source": [
    "dua_zoning_high_nongg_nonbig3 = dua_zoning.loc[(dua_zoning.parcel_id.isin(dua_zoning_high_nongg.parcel_id)) & \n",
    "            (dua_zoning.juris != 'san_francisco') & (dua_zoning.juris != 'san_jose') & (dua_zoning.juris != 'oakland')]\n",
    "print(\"Number of parcels with DUA > 40 from zoning input and not in a TRA, PDA, or Big 3 is {}\".format(len(dua_zoning_high_nongg_nonbig3)))\n",
    "dua_zoning_high_nongg_nonbig3.head()"
   ]
  },
  {
   "cell_type": "code",
   "execution_count": 41,
   "metadata": {},
   "outputs": [],
   "source": [
    "# export associated zoning codes to check them\n",
    "#dua_zoning_high_nongg_nonbig3.zoning_name.value_counts().to_csv(\"high base zoning counts.csv\")"
   ]
  },
  {
   "cell_type": "code",
   "execution_count": 42,
   "metadata": {},
   "outputs": [],
   "source": [
    "# export associated parcels to view location of input zoning on a map (can dissolve on zoning code)\n",
    "#dua_zoning_high_nongg_nonbig3.to_csv(\"dua_zoning_high_nongg_nonbig3.csv\")"
   ]
  },
  {
   "cell_type": "markdown",
   "metadata": {},
   "source": [
    "### FAR"
   ]
  },
  {
   "cell_type": "code",
   "execution_count": null,
   "metadata": {},
   "outputs": [],
   "source": []
  }
 ],
 "metadata": {
  "kernelspec": {
   "display_name": "baus-pip-env",
   "language": "python",
   "name": "python3"
  },
  "language_info": {
   "codemirror_mode": {
    "name": "ipython",
    "version": 3
   },
   "file_extension": ".py",
   "mimetype": "text/x-python",
   "name": "python",
   "nbconvert_exporter": "python",
   "pygments_lexer": "ipython3",
   "version": "3.6.15"
  },
  "orig_nbformat": 4,
  "vscode": {
   "interpreter": {
    "hash": "9278ca6451010c8509587daf3170d1f5396b4ec7bad79e6bf112ffac13fb68de"
   }
  }
 },
 "nbformat": 4,
 "nbformat_minor": 2
}
