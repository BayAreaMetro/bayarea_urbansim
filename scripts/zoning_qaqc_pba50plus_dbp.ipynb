{
 "cells": [
  {
   "cell_type": "code",
   "execution_count": 15,
   "metadata": {},
   "outputs": [],
   "source": [
    "import pandas as pd"
   ]
  },
  {
   "cell_type": "markdown",
   "metadata": {},
   "source": [
    "1. Look at the PBA50+ BAUS zoning for parcels"
   ]
  },
  {
   "cell_type": "code",
   "execution_count": 16,
   "metadata": {},
   "outputs": [],
   "source": [
    "pz = pd.read_csv(\"M:/urban_modeling/baus/PBA50Plus/Draft_Blueprint/\\\n",
    "PBA50Plus_Draft_Blueprint_v8_znupd_nodevfix_interimoutput/core_summaries/\\\n",
    "PBA50Plus_Draft_Blueprint_v8_znupd_nodevfix_interimoutput_parcel_summary_2050.csv\")"
   ]
  },
  {
   "cell_type": "markdown",
   "metadata": {},
   "source": [
    "2. Add growth geography variables for understanding parcels' location"
   ]
  },
  {
   "cell_type": "code",
   "execution_count": 17,
   "metadata": {},
   "outputs": [],
   "source": [
    "# parcels geography input file\n",
    "pg = pd.read_csv(\"M:/urban_modeling/baus/BAUS Inputs/basis_inputs/crosswalks/parcels_geography_2024_02_14.csv\")\n",
    "\n",
    "pz = pz.merge(pg[['PARCEL_ID', 'juris', 'gg_id', 'pda_id', 'tra_id', 'hra_id']], \n",
    "                  left_on='parcel_id', right_on='PARCEL_ID', how='left')"
   ]
  },
  {
   "cell_type": "markdown",
   "metadata": {},
   "source": [
    "3. Add the max built DUA/FAR in a parcel's TAZ, used in the BAUS zoning processing"
   ]
  },
  {
   "cell_type": "code",
   "execution_count": 18,
   "metadata": {},
   "outputs": [],
   "source": [
    "# parcel to TAZ crosswalk\n",
    "ptaz = pd.read_csv(\"M:/urban_modeling/baus/BAUS Inputs/basis_inputs/crosswalks/2020_08_17_parcel_to_taz1454sub.csv\")\n",
    "pz = pz.merge(ptaz[['PARCEL_ID', 'ZONE_ID']], left_on='parcel_id', right_on='PARCEL_ID', how='left')\n",
    "\n",
    "max_dua_builtdua_taz = pz.built_dua.groupby(pz.ZONE_ID).max().fillna(4)\n",
    "pz['max_dua_builtdua_taz'] = pz['ZONE_ID'].map(max_dua_builtdua_taz).fillna(4)\n",
    "\n",
    "max_far_builtdua_taz = pz.built_far.groupby(pz.ZONE_ID).max().fillna(4)\n",
    "pz['max_dua_builtfar_taz'] = pz['ZONE_ID'].map(max_far_builtdua_taz).fillna(4)"
   ]
  },
  {
   "cell_type": "markdown",
   "metadata": {},
   "source": [
    "4. Add the base zoning to parcels in order to lookup the corresponding zoning input"
   ]
  },
  {
   "cell_type": "code",
   "execution_count": 19,
   "metadata": {},
   "outputs": [],
   "source": [
    "# latest parcels zoning file\n",
    "pzon = pd.read_csv(\"M:/urban_modeling/baus/BAUS Inputs/basis_inputs/zoning/zoning_parcels_2024-04-30.csv\")\n",
    "# latest parcel lookup file\n",
    "zl = pd.read_csv(\"M:/urban_modeling/baus/BAUS Inputs/basis_inputs/zoning/zoning_lookup_2024-04-30.csv\")\n",
    "zl = zl.rename(columns={\"name\": \"zoning_name\", \"max_dua\": \"max_dua_zoning\", \"max_far\": \"max_far_zoning\"})\n",
    "\n",
    "# merge the zoning lookup to parcels\n",
    "pz = pz.merge(pzon[['PARCEL_ID', 'zoning_id']], left_on='parcel_id', right_on='PARCEL_ID', how='left')\\\n",
    ".merge(zl[['id', 'zoning_name', 'max_dua_zoning', 'max_far_zoning']], left_on='zoning_id', right_on='id', how='left')"
   ]
  },
  {
   "cell_type": "markdown",
   "metadata": {},
   "source": [
    "5. Inspect the BAUS zoning based on the processing steps\n",
    "\n",
    "BAUS DUA processing steps / zoning variables in the table:\n",
    "- **max_dua_zoning** is the input zoning\n",
    "- **max_dua_imputation** is zoning with imputation and residential allowance applied\n",
    "- **max_dua_imputation_upzoning** is zoning with imputation and upzoning and residential allowance applied\n",
    "- **maz_dua_builtfar_taz** is the highest max DUA in the TAZ\n",
    "- **max_dua** is zoning with imputation and upzoning, residenital allowance, nodev modification, outside of urban area modification, \\\n",
    "and lowest built density modification applied"
   ]
  },
  {
   "cell_type": "markdown",
   "metadata": {},
   "source": [
    "### DUA"
   ]
  },
  {
   "cell_type": "code",
   "execution_count": 20,
   "metadata": {},
   "outputs": [
    {
     "name": "stdout",
     "output_type": "stream",
     "text": [
      "Number of parcels with DUA > 40 is 248983\n"
     ]
    }
   ],
   "source": [
    "print(\"Number of parcels with DUA > 40 is {}\".format(len(pz.loc[pz.max_dua > 40])))\n",
    "dua = pz.loc[pz.max_dua > 40][['parcel_id', 'zoning_name', 'max_dua_zoning', 'juris', 'tra_id', 'pda_id',\n",
    "                               'max_dua_imputation', 'max_dua_imputation_upzoning', 'max_dua_builtdua_taz', 'max_dua', 'built_dua']].\\\n",
    "                                sort_values(by='max_dua', ascending=False)"
   ]
  },
  {
   "cell_type": "markdown",
   "metadata": {},
   "source": [
    "#### DUA from Upzoning"
   ]
  },
  {
   "cell_type": "code",
   "execution_count": 21,
   "metadata": {},
   "outputs": [
    {
     "name": "stdout",
     "output_type": "stream",
     "text": [
      "Number of parcels with DUA > 200 from upzoning step is 0\n"
     ]
    },
    {
     "data": {
      "text/html": [
       "<div>\n",
       "<style scoped>\n",
       "    .dataframe tbody tr th:only-of-type {\n",
       "        vertical-align: middle;\n",
       "    }\n",
       "\n",
       "    .dataframe tbody tr th {\n",
       "        vertical-align: top;\n",
       "    }\n",
       "\n",
       "    .dataframe thead th {\n",
       "        text-align: right;\n",
       "    }\n",
       "</style>\n",
       "<table border=\"1\" class=\"dataframe\">\n",
       "  <thead>\n",
       "    <tr style=\"text-align: right;\">\n",
       "      <th></th>\n",
       "      <th>parcel_id</th>\n",
       "      <th>zoning_name</th>\n",
       "      <th>max_dua_zoning</th>\n",
       "      <th>juris</th>\n",
       "      <th>tra_id</th>\n",
       "      <th>pda_id</th>\n",
       "      <th>max_dua_imputation</th>\n",
       "      <th>max_dua_imputation_upzoning</th>\n",
       "      <th>max_dua_builtdua_taz</th>\n",
       "      <th>max_dua</th>\n",
       "      <th>built_dua</th>\n",
       "    </tr>\n",
       "  </thead>\n",
       "  <tbody>\n",
       "  </tbody>\n",
       "</table>\n",
       "</div>"
      ],
      "text/plain": [
       "Empty DataFrame\n",
       "Columns: [parcel_id, zoning_name, max_dua_zoning, juris, tra_id, pda_id, max_dua_imputation, max_dua_imputation_upzoning, max_dua_builtdua_taz, max_dua, built_dua]\n",
       "Index: []"
      ]
     },
     "execution_count": 21,
     "metadata": {},
     "output_type": "execute_result"
    }
   ],
   "source": [
    "dua_upzoning = dua.loc[(dua.max_dua_imputation_upzoning > dua.max_dua_imputation) & (dua.max_dua_imputation_upzoning == dua.max_dua)]\n",
    "print(\"Number of parcels with DUA > 200 from upzoning step is {}\".format(len(dua_upzoning.loc[dua_upzoning.max_dua > 200])))\n",
    "dua_upzoning.loc[dua_upzoning.max_dua > 200].head()"
   ]
  },
  {
   "cell_type": "code",
   "execution_count": 22,
   "metadata": {},
   "outputs": [
    {
     "name": "stdout",
     "output_type": "stream",
     "text": [
      "Number of parcels with DUA > 200 from upzoning step but not in a TRA or PDA is 0\n"
     ]
    },
    {
     "data": {
      "text/html": [
       "<div>\n",
       "<style scoped>\n",
       "    .dataframe tbody tr th:only-of-type {\n",
       "        vertical-align: middle;\n",
       "    }\n",
       "\n",
       "    .dataframe tbody tr th {\n",
       "        vertical-align: top;\n",
       "    }\n",
       "\n",
       "    .dataframe thead th {\n",
       "        text-align: right;\n",
       "    }\n",
       "</style>\n",
       "<table border=\"1\" class=\"dataframe\">\n",
       "  <thead>\n",
       "    <tr style=\"text-align: right;\">\n",
       "      <th></th>\n",
       "      <th>parcel_id</th>\n",
       "      <th>zoning_name</th>\n",
       "      <th>max_dua_zoning</th>\n",
       "      <th>juris</th>\n",
       "      <th>tra_id</th>\n",
       "      <th>pda_id</th>\n",
       "      <th>max_dua_imputation</th>\n",
       "      <th>max_dua_imputation_upzoning</th>\n",
       "      <th>max_dua_builtdua_taz</th>\n",
       "      <th>max_dua</th>\n",
       "      <th>built_dua</th>\n",
       "    </tr>\n",
       "  </thead>\n",
       "  <tbody>\n",
       "  </tbody>\n",
       "</table>\n",
       "</div>"
      ],
      "text/plain": [
       "Empty DataFrame\n",
       "Columns: [parcel_id, zoning_name, max_dua_zoning, juris, tra_id, pda_id, max_dua_imputation, max_dua_imputation_upzoning, max_dua_builtdua_taz, max_dua, built_dua]\n",
       "Index: []"
      ]
     },
     "execution_count": 22,
     "metadata": {},
     "output_type": "execute_result"
    }
   ],
   "source": [
    "dua_upzoning_high_nongg = dua_upzoning.loc[(dua_upzoning.max_dua > 200) & (dua_upzoning.tra_id.isnull()) & (dua_upzoning.pda_id.isnull())]\n",
    "print(\"Number of parcels with DUA > 200 from upzoning step but not in a TRA or PDA is {}\".format(len(dua_upzoning_high_nongg)))\n",
    "dua_upzoning_high_nongg.head()"
   ]
  },
  {
   "cell_type": "markdown",
   "metadata": {},
   "source": [
    "#### DUA from Imputation"
   ]
  },
  {
   "cell_type": "code",
   "execution_count": 23,
   "metadata": {},
   "outputs": [
    {
     "name": "stdout",
     "output_type": "stream",
     "text": [
      "Number of parcels with DUA > 40 from imputation is 0\n"
     ]
    },
    {
     "data": {
      "text/html": [
       "<div>\n",
       "<style scoped>\n",
       "    .dataframe tbody tr th:only-of-type {\n",
       "        vertical-align: middle;\n",
       "    }\n",
       "\n",
       "    .dataframe tbody tr th {\n",
       "        vertical-align: top;\n",
       "    }\n",
       "\n",
       "    .dataframe thead th {\n",
       "        text-align: right;\n",
       "    }\n",
       "</style>\n",
       "<table border=\"1\" class=\"dataframe\">\n",
       "  <thead>\n",
       "    <tr style=\"text-align: right;\">\n",
       "      <th></th>\n",
       "      <th>parcel_id</th>\n",
       "      <th>zoning_name</th>\n",
       "      <th>max_dua_zoning</th>\n",
       "      <th>juris</th>\n",
       "      <th>tra_id</th>\n",
       "      <th>pda_id</th>\n",
       "      <th>max_dua_imputation</th>\n",
       "      <th>max_dua_imputation_upzoning</th>\n",
       "      <th>max_dua_builtdua_taz</th>\n",
       "      <th>max_dua</th>\n",
       "      <th>built_dua</th>\n",
       "    </tr>\n",
       "  </thead>\n",
       "  <tbody>\n",
       "  </tbody>\n",
       "</table>\n",
       "</div>"
      ],
      "text/plain": [
       "Empty DataFrame\n",
       "Columns: [parcel_id, zoning_name, max_dua_zoning, juris, tra_id, pda_id, max_dua_imputation, max_dua_imputation_upzoning, max_dua_builtdua_taz, max_dua, built_dua]\n",
       "Index: []"
      ]
     },
     "execution_count": 23,
     "metadata": {},
     "output_type": "execute_result"
    }
   ],
   "source": [
    "dua_imputation = dua.loc[(dua.max_dua_imputation > dua.max_dua_zoning) & (dua.max_dua_imputation == dua.max_dua)]\n",
    "print(\"Number of parcels with DUA > 40 from imputation is {}\".format(len(dua_imputation.loc[dua_imputation.max_dua > 40])))\n",
    "dua_imputation.loc[dua_imputation.max_dua > 40].head()"
   ]
  },
  {
   "cell_type": "code",
   "execution_count": 24,
   "metadata": {},
   "outputs": [
    {
     "name": "stdout",
     "output_type": "stream",
     "text": [
      "Number of parcels with DUA > 40 from imputation and not in a TRA or PDA is 0\n"
     ]
    },
    {
     "data": {
      "text/html": [
       "<div>\n",
       "<style scoped>\n",
       "    .dataframe tbody tr th:only-of-type {\n",
       "        vertical-align: middle;\n",
       "    }\n",
       "\n",
       "    .dataframe tbody tr th {\n",
       "        vertical-align: top;\n",
       "    }\n",
       "\n",
       "    .dataframe thead th {\n",
       "        text-align: right;\n",
       "    }\n",
       "</style>\n",
       "<table border=\"1\" class=\"dataframe\">\n",
       "  <thead>\n",
       "    <tr style=\"text-align: right;\">\n",
       "      <th></th>\n",
       "      <th>parcel_id</th>\n",
       "      <th>zoning_name</th>\n",
       "      <th>max_dua_zoning</th>\n",
       "      <th>juris</th>\n",
       "      <th>tra_id</th>\n",
       "      <th>pda_id</th>\n",
       "      <th>max_dua_imputation</th>\n",
       "      <th>max_dua_imputation_upzoning</th>\n",
       "      <th>max_dua_builtdua_taz</th>\n",
       "      <th>max_dua</th>\n",
       "      <th>built_dua</th>\n",
       "    </tr>\n",
       "  </thead>\n",
       "  <tbody>\n",
       "  </tbody>\n",
       "</table>\n",
       "</div>"
      ],
      "text/plain": [
       "Empty DataFrame\n",
       "Columns: [parcel_id, zoning_name, max_dua_zoning, juris, tra_id, pda_id, max_dua_imputation, max_dua_imputation_upzoning, max_dua_builtdua_taz, max_dua, built_dua]\n",
       "Index: []"
      ]
     },
     "execution_count": 24,
     "metadata": {},
     "output_type": "execute_result"
    }
   ],
   "source": [
    "dua_imputation_high_nongg = dua_imputation.loc[(dua_imputation.max_dua > 40) & (dua_imputation.tra_id.isnull()) & (dua_imputation.pda_id.isnull())]\n",
    "print(\"Number of parcels with DUA > 40 from imputation and not in a TRA or PDA is {}\".format(len(dua_imputation_high_nongg)))\n",
    "dua_imputation_high_nongg"
   ]
  },
  {
   "cell_type": "markdown",
   "metadata": {},
   "source": [
    "#### DUA from Max TAZ Built DUA"
   ]
  },
  {
   "cell_type": "code",
   "execution_count": 25,
   "metadata": {},
   "outputs": [
    {
     "name": "stdout",
     "output_type": "stream",
     "text": [
      "Number of parcels with DUA > 40 set by building to the lowest built DUA 5021\n"
     ]
    },
    {
     "data": {
      "text/html": [
       "<div>\n",
       "<style scoped>\n",
       "    .dataframe tbody tr th:only-of-type {\n",
       "        vertical-align: middle;\n",
       "    }\n",
       "\n",
       "    .dataframe tbody tr th {\n",
       "        vertical-align: top;\n",
       "    }\n",
       "\n",
       "    .dataframe thead th {\n",
       "        text-align: right;\n",
       "    }\n",
       "</style>\n",
       "<table border=\"1\" class=\"dataframe\">\n",
       "  <thead>\n",
       "    <tr style=\"text-align: right;\">\n",
       "      <th></th>\n",
       "      <th>parcel_id</th>\n",
       "      <th>zoning_name</th>\n",
       "      <th>max_dua_zoning</th>\n",
       "      <th>juris</th>\n",
       "      <th>tra_id</th>\n",
       "      <th>pda_id</th>\n",
       "      <th>max_dua_imputation</th>\n",
       "      <th>max_dua_imputation_upzoning</th>\n",
       "      <th>max_dua_builtdua_taz</th>\n",
       "      <th>max_dua</th>\n",
       "      <th>built_dua</th>\n",
       "    </tr>\n",
       "  </thead>\n",
       "  <tbody>\n",
       "    <tr>\n",
       "      <th>1758718</th>\n",
       "      <td>1105756</td>\n",
       "      <td>RRMU (BASIS)</td>\n",
       "      <td>70.0</td>\n",
       "      <td>burlingame</td>\n",
       "      <td>TRA1</td>\n",
       "      <td>Burlingame - Downtown</td>\n",
       "      <td>43.56</td>\n",
       "      <td>200.0</td>\n",
       "      <td>191.192672</td>\n",
       "      <td>191.192672</td>\n",
       "      <td>0.0</td>\n",
       "    </tr>\n",
       "    <tr>\n",
       "      <th>359713</th>\n",
       "      <td>1105761</td>\n",
       "      <td>RRMU (BASIS)</td>\n",
       "      <td>70.0</td>\n",
       "      <td>burlingame</td>\n",
       "      <td>TRA1</td>\n",
       "      <td>Burlingame - Downtown</td>\n",
       "      <td>43.56</td>\n",
       "      <td>200.0</td>\n",
       "      <td>191.192672</td>\n",
       "      <td>191.192672</td>\n",
       "      <td>0.0</td>\n",
       "    </tr>\n",
       "    <tr>\n",
       "      <th>606446</th>\n",
       "      <td>1105777</td>\n",
       "      <td>RRMU (BASIS)</td>\n",
       "      <td>70.0</td>\n",
       "      <td>burlingame</td>\n",
       "      <td>TRA1</td>\n",
       "      <td>Burlingame - Downtown</td>\n",
       "      <td>43.56</td>\n",
       "      <td>200.0</td>\n",
       "      <td>191.192672</td>\n",
       "      <td>191.192672</td>\n",
       "      <td>0.0</td>\n",
       "    </tr>\n",
       "    <tr>\n",
       "      <th>267662</th>\n",
       "      <td>1105787</td>\n",
       "      <td>RRMU (BASIS)</td>\n",
       "      <td>70.0</td>\n",
       "      <td>burlingame</td>\n",
       "      <td>TRA1</td>\n",
       "      <td>Burlingame - Downtown</td>\n",
       "      <td>43.56</td>\n",
       "      <td>200.0</td>\n",
       "      <td>191.192672</td>\n",
       "      <td>191.192672</td>\n",
       "      <td>0.0</td>\n",
       "    </tr>\n",
       "    <tr>\n",
       "      <th>159403</th>\n",
       "      <td>1105759</td>\n",
       "      <td>RRMU (BASIS)</td>\n",
       "      <td>70.0</td>\n",
       "      <td>burlingame</td>\n",
       "      <td>TRA1</td>\n",
       "      <td>Burlingame - Burlingame El Camino Real</td>\n",
       "      <td>43.56</td>\n",
       "      <td>200.0</td>\n",
       "      <td>191.192672</td>\n",
       "      <td>191.192672</td>\n",
       "      <td>0.0</td>\n",
       "    </tr>\n",
       "  </tbody>\n",
       "</table>\n",
       "</div>"
      ],
      "text/plain": [
       "         parcel_id   zoning_name  max_dua_zoning       juris tra_id  \\\n",
       "1758718    1105756  RRMU (BASIS)            70.0  burlingame   TRA1   \n",
       "359713     1105761  RRMU (BASIS)            70.0  burlingame   TRA1   \n",
       "606446     1105777  RRMU (BASIS)            70.0  burlingame   TRA1   \n",
       "267662     1105787  RRMU (BASIS)            70.0  burlingame   TRA1   \n",
       "159403     1105759  RRMU (BASIS)            70.0  burlingame   TRA1   \n",
       "\n",
       "                                         pda_id  max_dua_imputation  \\\n",
       "1758718                   Burlingame - Downtown               43.56   \n",
       "359713                    Burlingame - Downtown               43.56   \n",
       "606446                    Burlingame - Downtown               43.56   \n",
       "267662                    Burlingame - Downtown               43.56   \n",
       "159403   Burlingame - Burlingame El Camino Real               43.56   \n",
       "\n",
       "         max_dua_imputation_upzoning  max_dua_builtdua_taz     max_dua  \\\n",
       "1758718                        200.0            191.192672  191.192672   \n",
       "359713                         200.0            191.192672  191.192672   \n",
       "606446                         200.0            191.192672  191.192672   \n",
       "267662                         200.0            191.192672  191.192672   \n",
       "159403                         200.0            191.192672  191.192672   \n",
       "\n",
       "         built_dua  \n",
       "1758718        0.0  \n",
       "359713         0.0  \n",
       "606446         0.0  \n",
       "267662         0.0  \n",
       "159403         0.0  "
      ]
     },
     "execution_count": 25,
     "metadata": {},
     "output_type": "execute_result"
    }
   ],
   "source": [
    "dua_builtdua_taz_max = dua.loc[(dua.max_dua_builtdua_taz == dua.max_dua) & (dua.max_dua_builtdua_taz > dua.max_dua_zoning)]\n",
    "print(\"Number of parcels with DUA > 40 set by building to the lowest built DUA {}\".format(len(dua_builtdua_taz_max.loc[dua_builtdua_taz_max.max_dua > 40])))\n",
    "dua_builtdua_taz_max.loc[dua_builtdua_taz_max.max_dua > 40].head()"
   ]
  },
  {
   "cell_type": "code",
   "execution_count": 26,
   "metadata": {},
   "outputs": [
    {
     "name": "stdout",
     "output_type": "stream",
     "text": [
      "Number of parcels with DUA > 40 from max built dua in TAZ and not in a TRA or PDA is 0\n"
     ]
    },
    {
     "data": {
      "text/html": [
       "<div>\n",
       "<style scoped>\n",
       "    .dataframe tbody tr th:only-of-type {\n",
       "        vertical-align: middle;\n",
       "    }\n",
       "\n",
       "    .dataframe tbody tr th {\n",
       "        vertical-align: top;\n",
       "    }\n",
       "\n",
       "    .dataframe thead th {\n",
       "        text-align: right;\n",
       "    }\n",
       "</style>\n",
       "<table border=\"1\" class=\"dataframe\">\n",
       "  <thead>\n",
       "    <tr style=\"text-align: right;\">\n",
       "      <th></th>\n",
       "      <th>parcel_id</th>\n",
       "      <th>zoning_name</th>\n",
       "      <th>max_dua_zoning</th>\n",
       "      <th>juris</th>\n",
       "      <th>tra_id</th>\n",
       "      <th>pda_id</th>\n",
       "      <th>max_dua_imputation</th>\n",
       "      <th>max_dua_imputation_upzoning</th>\n",
       "      <th>max_dua_builtdua_taz</th>\n",
       "      <th>max_dua</th>\n",
       "      <th>built_dua</th>\n",
       "    </tr>\n",
       "  </thead>\n",
       "  <tbody>\n",
       "  </tbody>\n",
       "</table>\n",
       "</div>"
      ],
      "text/plain": [
       "Empty DataFrame\n",
       "Columns: [parcel_id, zoning_name, max_dua_zoning, juris, tra_id, pda_id, max_dua_imputation, max_dua_imputation_upzoning, max_dua_builtdua_taz, max_dua, built_dua]\n",
       "Index: []"
      ]
     },
     "execution_count": 26,
     "metadata": {},
     "output_type": "execute_result"
    }
   ],
   "source": [
    "dua_builtdua_taz_max_high_nongg = dua_builtdua_taz_max.loc[(dua_builtdua_taz_max.max_dua > 40) & \n",
    "                                  (dua_builtdua_taz_max.tra_id.isnull()) & (dua_builtdua_taz_max.pda_id.isnull())]\n",
    "print(\"Number of parcels with DUA > 40 from max built dua in TAZ and not in a TRA or PDA is {}\".format(len(dua_builtdua_taz_max_high_nongg)))\n",
    "dua_builtdua_taz_max_high_nongg.head()"
   ]
  },
  {
   "cell_type": "markdown",
   "metadata": {},
   "source": [
    "#### DUA from Zoning Input"
   ]
  },
  {
   "cell_type": "code",
   "execution_count": 27,
   "metadata": {},
   "outputs": [
    {
     "name": "stdout",
     "output_type": "stream",
     "text": [
      "Number of parcels with DUA > 40 from input zoning is 72205\n"
     ]
    },
    {
     "data": {
      "text/html": [
       "<div>\n",
       "<style scoped>\n",
       "    .dataframe tbody tr th:only-of-type {\n",
       "        vertical-align: middle;\n",
       "    }\n",
       "\n",
       "    .dataframe tbody tr th {\n",
       "        vertical-align: top;\n",
       "    }\n",
       "\n",
       "    .dataframe thead th {\n",
       "        text-align: right;\n",
       "    }\n",
       "</style>\n",
       "<table border=\"1\" class=\"dataframe\">\n",
       "  <thead>\n",
       "    <tr style=\"text-align: right;\">\n",
       "      <th></th>\n",
       "      <th>parcel_id</th>\n",
       "      <th>zoning_name</th>\n",
       "      <th>max_dua_zoning</th>\n",
       "      <th>juris</th>\n",
       "      <th>tra_id</th>\n",
       "      <th>pda_id</th>\n",
       "      <th>max_dua_imputation</th>\n",
       "      <th>max_dua_imputation_upzoning</th>\n",
       "      <th>max_dua_builtdua_taz</th>\n",
       "      <th>max_dua</th>\n",
       "      <th>built_dua</th>\n",
       "    </tr>\n",
       "  </thead>\n",
       "  <tbody>\n",
       "    <tr>\n",
       "      <th>1597068</th>\n",
       "      <td>981784</td>\n",
       "      <td>RH DTR (HE Data)</td>\n",
       "      <td>1559.7</td>\n",
       "      <td>san_francisco</td>\n",
       "      <td>TRA1</td>\n",
       "      <td>San Francisco - Transbay/Rincon Hill</td>\n",
       "      <td>1559.7</td>\n",
       "      <td>1559.7</td>\n",
       "      <td>2409.727461</td>\n",
       "      <td>1559.7</td>\n",
       "      <td>0.000000</td>\n",
       "    </tr>\n",
       "    <tr>\n",
       "      <th>169064</th>\n",
       "      <td>981785</td>\n",
       "      <td>RH DTR (HE Data)</td>\n",
       "      <td>1559.7</td>\n",
       "      <td>san_francisco</td>\n",
       "      <td>TRA1</td>\n",
       "      <td>San Francisco - Transbay/Rincon Hill</td>\n",
       "      <td>1559.7</td>\n",
       "      <td>1559.7</td>\n",
       "      <td>2409.727461</td>\n",
       "      <td>1559.7</td>\n",
       "      <td>0.000000</td>\n",
       "    </tr>\n",
       "    <tr>\n",
       "      <th>502998</th>\n",
       "      <td>981681</td>\n",
       "      <td>TB DTR (HE Data)</td>\n",
       "      <td>1559.7</td>\n",
       "      <td>san_francisco</td>\n",
       "      <td>TRA1</td>\n",
       "      <td>San Francisco - Transbay/Rincon Hill</td>\n",
       "      <td>1559.7</td>\n",
       "      <td>1559.7</td>\n",
       "      <td>2409.727461</td>\n",
       "      <td>1559.7</td>\n",
       "      <td>0.000000</td>\n",
       "    </tr>\n",
       "    <tr>\n",
       "      <th>85050</th>\n",
       "      <td>981723</td>\n",
       "      <td>TB DTR (HE Data)</td>\n",
       "      <td>1538.1</td>\n",
       "      <td>san_francisco</td>\n",
       "      <td>TRA1</td>\n",
       "      <td>San Francisco - Transbay/Rincon Hill</td>\n",
       "      <td>1538.1</td>\n",
       "      <td>1538.1</td>\n",
       "      <td>2409.727461</td>\n",
       "      <td>1538.1</td>\n",
       "      <td>79.177298</td>\n",
       "    </tr>\n",
       "    <tr>\n",
       "      <th>1669360</th>\n",
       "      <td>982865</td>\n",
       "      <td>CMUO (HE Data)</td>\n",
       "      <td>1536.8</td>\n",
       "      <td>san_francisco</td>\n",
       "      <td>TRA2</td>\n",
       "      <td>San Francisco - Eastern Neighborhoods</td>\n",
       "      <td>1536.8</td>\n",
       "      <td>1536.8</td>\n",
       "      <td>2052.537124</td>\n",
       "      <td>1536.8</td>\n",
       "      <td>22.909390</td>\n",
       "    </tr>\n",
       "  </tbody>\n",
       "</table>\n",
       "</div>"
      ],
      "text/plain": [
       "         parcel_id       zoning_name  max_dua_zoning          juris tra_id  \\\n",
       "1597068     981784  RH DTR (HE Data)          1559.7  san_francisco   TRA1   \n",
       "169064      981785  RH DTR (HE Data)          1559.7  san_francisco   TRA1   \n",
       "502998      981681  TB DTR (HE Data)          1559.7  san_francisco   TRA1   \n",
       "85050       981723  TB DTR (HE Data)          1538.1  san_francisco   TRA1   \n",
       "1669360     982865    CMUO (HE Data)          1536.8  san_francisco   TRA2   \n",
       "\n",
       "                                        pda_id  max_dua_imputation  \\\n",
       "1597068   San Francisco - Transbay/Rincon Hill              1559.7   \n",
       "169064    San Francisco - Transbay/Rincon Hill              1559.7   \n",
       "502998    San Francisco - Transbay/Rincon Hill              1559.7   \n",
       "85050     San Francisco - Transbay/Rincon Hill              1538.1   \n",
       "1669360  San Francisco - Eastern Neighborhoods              1536.8   \n",
       "\n",
       "         max_dua_imputation_upzoning  max_dua_builtdua_taz  max_dua  built_dua  \n",
       "1597068                       1559.7           2409.727461   1559.7   0.000000  \n",
       "169064                        1559.7           2409.727461   1559.7   0.000000  \n",
       "502998                        1559.7           2409.727461   1559.7   0.000000  \n",
       "85050                         1538.1           2409.727461   1538.1  79.177298  \n",
       "1669360                       1536.8           2052.537124   1536.8  22.909390  "
      ]
     },
     "execution_count": 27,
     "metadata": {},
     "output_type": "execute_result"
    }
   ],
   "source": [
    "dua_zoning = dua.loc[(dua.max_dua_zoning == dua.max_dua)]\n",
    "print(\"Number of parcels with DUA > 40 from input zoning is {}\".format(len(dua_zoning)))\n",
    "dua_zoning.head()"
   ]
  },
  {
   "cell_type": "code",
   "execution_count": 28,
   "metadata": {},
   "outputs": [
    {
     "name": "stdout",
     "output_type": "stream",
     "text": [
      "Number of parcels with DUA > 40 from input zoning and not in a TRA or PDA is 16721\n"
     ]
    },
    {
     "data": {
      "text/html": [
       "<div>\n",
       "<style scoped>\n",
       "    .dataframe tbody tr th:only-of-type {\n",
       "        vertical-align: middle;\n",
       "    }\n",
       "\n",
       "    .dataframe tbody tr th {\n",
       "        vertical-align: top;\n",
       "    }\n",
       "\n",
       "    .dataframe thead th {\n",
       "        text-align: right;\n",
       "    }\n",
       "</style>\n",
       "<table border=\"1\" class=\"dataframe\">\n",
       "  <thead>\n",
       "    <tr style=\"text-align: right;\">\n",
       "      <th></th>\n",
       "      <th>parcel_id</th>\n",
       "      <th>zoning_name</th>\n",
       "      <th>max_dua_zoning</th>\n",
       "      <th>juris</th>\n",
       "      <th>tra_id</th>\n",
       "      <th>pda_id</th>\n",
       "      <th>max_dua_imputation</th>\n",
       "      <th>max_dua_imputation_upzoning</th>\n",
       "      <th>max_dua_builtdua_taz</th>\n",
       "      <th>max_dua</th>\n",
       "      <th>built_dua</th>\n",
       "    </tr>\n",
       "  </thead>\n",
       "  <tbody>\n",
       "    <tr>\n",
       "      <th>896229</th>\n",
       "      <td>900474</td>\n",
       "      <td>85' Height Allowed (HE Data)</td>\n",
       "      <td>243.9</td>\n",
       "      <td>san_francisco</td>\n",
       "      <td>NaN</td>\n",
       "      <td>NaN</td>\n",
       "      <td>243.9</td>\n",
       "      <td>243.9</td>\n",
       "      <td>345.596402</td>\n",
       "      <td>243.9</td>\n",
       "      <td>0.000000</td>\n",
       "    </tr>\n",
       "    <tr>\n",
       "      <th>209288</th>\n",
       "      <td>900576</td>\n",
       "      <td>85' Height Allowed (HE Data)</td>\n",
       "      <td>243.9</td>\n",
       "      <td>san_francisco</td>\n",
       "      <td>NaN</td>\n",
       "      <td>NaN</td>\n",
       "      <td>243.9</td>\n",
       "      <td>243.9</td>\n",
       "      <td>292.793462</td>\n",
       "      <td>243.9</td>\n",
       "      <td>0.000000</td>\n",
       "    </tr>\n",
       "    <tr>\n",
       "      <th>1178237</th>\n",
       "      <td>907017</td>\n",
       "      <td>85' Height Allowed (HE Data)</td>\n",
       "      <td>243.9</td>\n",
       "      <td>san_francisco</td>\n",
       "      <td>NaN</td>\n",
       "      <td>NaN</td>\n",
       "      <td>243.9</td>\n",
       "      <td>243.9</td>\n",
       "      <td>292.793462</td>\n",
       "      <td>243.9</td>\n",
       "      <td>0.000000</td>\n",
       "    </tr>\n",
       "    <tr>\n",
       "      <th>1052216</th>\n",
       "      <td>900580</td>\n",
       "      <td>85' Height Allowed (HE Data)</td>\n",
       "      <td>243.9</td>\n",
       "      <td>san_francisco</td>\n",
       "      <td>NaN</td>\n",
       "      <td>NaN</td>\n",
       "      <td>243.9</td>\n",
       "      <td>243.9</td>\n",
       "      <td>292.793462</td>\n",
       "      <td>243.9</td>\n",
       "      <td>18.363485</td>\n",
       "    </tr>\n",
       "    <tr>\n",
       "      <th>1662747</th>\n",
       "      <td>900478</td>\n",
       "      <td>85' Height Allowed (HE Data)</td>\n",
       "      <td>243.9</td>\n",
       "      <td>san_francisco</td>\n",
       "      <td>NaN</td>\n",
       "      <td>NaN</td>\n",
       "      <td>243.9</td>\n",
       "      <td>243.9</td>\n",
       "      <td>345.596402</td>\n",
       "      <td>243.9</td>\n",
       "      <td>0.000000</td>\n",
       "    </tr>\n",
       "  </tbody>\n",
       "</table>\n",
       "</div>"
      ],
      "text/plain": [
       "         parcel_id                   zoning_name  max_dua_zoning  \\\n",
       "896229      900474  85' Height Allowed (HE Data)           243.9   \n",
       "209288      900576  85' Height Allowed (HE Data)           243.9   \n",
       "1178237     907017  85' Height Allowed (HE Data)           243.9   \n",
       "1052216     900580  85' Height Allowed (HE Data)           243.9   \n",
       "1662747     900478  85' Height Allowed (HE Data)           243.9   \n",
       "\n",
       "                 juris tra_id pda_id  max_dua_imputation  \\\n",
       "896229   san_francisco    NaN    NaN               243.9   \n",
       "209288   san_francisco    NaN    NaN               243.9   \n",
       "1178237  san_francisco    NaN    NaN               243.9   \n",
       "1052216  san_francisco    NaN    NaN               243.9   \n",
       "1662747  san_francisco    NaN    NaN               243.9   \n",
       "\n",
       "         max_dua_imputation_upzoning  max_dua_builtdua_taz  max_dua  built_dua  \n",
       "896229                         243.9            345.596402    243.9   0.000000  \n",
       "209288                         243.9            292.793462    243.9   0.000000  \n",
       "1178237                        243.9            292.793462    243.9   0.000000  \n",
       "1052216                        243.9            292.793462    243.9  18.363485  \n",
       "1662747                        243.9            345.596402    243.9   0.000000  "
      ]
     },
     "execution_count": 28,
     "metadata": {},
     "output_type": "execute_result"
    }
   ],
   "source": [
    "dua_zoning_high_nongg = dua_zoning.loc[(dua_zoning.max_dua > 40) & \n",
    "                                       ((dua_zoning.tra_id.isnull()) & (dua_zoning.pda_id.isnull()))]\n",
    "print(\"Number of parcels with DUA > 40 from input zoning and not in a TRA or PDA is {}\".format(len(dua_zoning_high_nongg)))\n",
    "dua_zoning_high_nongg.head()"
   ]
  },
  {
   "cell_type": "code",
   "execution_count": 29,
   "metadata": {},
   "outputs": [
    {
     "name": "stdout",
     "output_type": "stream",
     "text": [
      "Number of parcels with DUA > 40 from zoning input and not in a TRA, PDA, or Big 3 is 3411\n"
     ]
    },
    {
     "data": {
      "text/html": [
       "<div>\n",
       "<style scoped>\n",
       "    .dataframe tbody tr th:only-of-type {\n",
       "        vertical-align: middle;\n",
       "    }\n",
       "\n",
       "    .dataframe tbody tr th {\n",
       "        vertical-align: top;\n",
       "    }\n",
       "\n",
       "    .dataframe thead th {\n",
       "        text-align: right;\n",
       "    }\n",
       "</style>\n",
       "<table border=\"1\" class=\"dataframe\">\n",
       "  <thead>\n",
       "    <tr style=\"text-align: right;\">\n",
       "      <th></th>\n",
       "      <th>parcel_id</th>\n",
       "      <th>zoning_name</th>\n",
       "      <th>max_dua_zoning</th>\n",
       "      <th>juris</th>\n",
       "      <th>tra_id</th>\n",
       "      <th>pda_id</th>\n",
       "      <th>max_dua_imputation</th>\n",
       "      <th>max_dua_imputation_upzoning</th>\n",
       "      <th>max_dua_builtdua_taz</th>\n",
       "      <th>max_dua</th>\n",
       "      <th>built_dua</th>\n",
       "    </tr>\n",
       "  </thead>\n",
       "  <tbody>\n",
       "    <tr>\n",
       "      <th>1492614</th>\n",
       "      <td>1080119</td>\n",
       "      <td>T6UC (HE Data)</td>\n",
       "      <td>200.0</td>\n",
       "      <td>south_san_francisco</td>\n",
       "      <td>NaN</td>\n",
       "      <td>NaN</td>\n",
       "      <td>200.0</td>\n",
       "      <td>200.0</td>\n",
       "      <td>951.196835</td>\n",
       "      <td>200.0</td>\n",
       "      <td>0.0</td>\n",
       "    </tr>\n",
       "    <tr>\n",
       "      <th>135478</th>\n",
       "      <td>1080046</td>\n",
       "      <td>T5C (HE Data)</td>\n",
       "      <td>140.0</td>\n",
       "      <td>south_san_francisco</td>\n",
       "      <td>NaN</td>\n",
       "      <td>NaN</td>\n",
       "      <td>140.0</td>\n",
       "      <td>140.0</td>\n",
       "      <td>951.196835</td>\n",
       "      <td>140.0</td>\n",
       "      <td>0.0</td>\n",
       "    </tr>\n",
       "    <tr>\n",
       "      <th>203061</th>\n",
       "      <td>1080158</td>\n",
       "      <td>T5C (HE Data)</td>\n",
       "      <td>140.0</td>\n",
       "      <td>south_san_francisco</td>\n",
       "      <td>NaN</td>\n",
       "      <td>NaN</td>\n",
       "      <td>140.0</td>\n",
       "      <td>140.0</td>\n",
       "      <td>951.196835</td>\n",
       "      <td>140.0</td>\n",
       "      <td>0.0</td>\n",
       "    </tr>\n",
       "    <tr>\n",
       "      <th>135479</th>\n",
       "      <td>1080121</td>\n",
       "      <td>T5C (HE Data)</td>\n",
       "      <td>140.0</td>\n",
       "      <td>south_san_francisco</td>\n",
       "      <td>NaN</td>\n",
       "      <td>NaN</td>\n",
       "      <td>140.0</td>\n",
       "      <td>140.0</td>\n",
       "      <td>951.196835</td>\n",
       "      <td>140.0</td>\n",
       "      <td>0.0</td>\n",
       "    </tr>\n",
       "    <tr>\n",
       "      <th>1045726</th>\n",
       "      <td>1080116</td>\n",
       "      <td>T5C (HE Data)</td>\n",
       "      <td>140.0</td>\n",
       "      <td>south_san_francisco</td>\n",
       "      <td>NaN</td>\n",
       "      <td>NaN</td>\n",
       "      <td>140.0</td>\n",
       "      <td>140.0</td>\n",
       "      <td>951.196835</td>\n",
       "      <td>140.0</td>\n",
       "      <td>0.0</td>\n",
       "    </tr>\n",
       "  </tbody>\n",
       "</table>\n",
       "</div>"
      ],
      "text/plain": [
       "         parcel_id     zoning_name  max_dua_zoning                juris  \\\n",
       "1492614    1080119  T6UC (HE Data)           200.0  south_san_francisco   \n",
       "135478     1080046   T5C (HE Data)           140.0  south_san_francisco   \n",
       "203061     1080158   T5C (HE Data)           140.0  south_san_francisco   \n",
       "135479     1080121   T5C (HE Data)           140.0  south_san_francisco   \n",
       "1045726    1080116   T5C (HE Data)           140.0  south_san_francisco   \n",
       "\n",
       "        tra_id pda_id  max_dua_imputation  max_dua_imputation_upzoning  \\\n",
       "1492614    NaN    NaN               200.0                        200.0   \n",
       "135478     NaN    NaN               140.0                        140.0   \n",
       "203061     NaN    NaN               140.0                        140.0   \n",
       "135479     NaN    NaN               140.0                        140.0   \n",
       "1045726    NaN    NaN               140.0                        140.0   \n",
       "\n",
       "         max_dua_builtdua_taz  max_dua  built_dua  \n",
       "1492614            951.196835    200.0        0.0  \n",
       "135478             951.196835    140.0        0.0  \n",
       "203061             951.196835    140.0        0.0  \n",
       "135479             951.196835    140.0        0.0  \n",
       "1045726            951.196835    140.0        0.0  "
      ]
     },
     "execution_count": 29,
     "metadata": {},
     "output_type": "execute_result"
    }
   ],
   "source": [
    "dua_zoning_high_nongg_nonbig3 = dua_zoning.loc[(dua_zoning.parcel_id.isin(dua_zoning_high_nongg.parcel_id)) & \n",
    "            (dua_zoning.juris != 'san_francisco') & (dua_zoning.juris != 'san_jose') & (dua_zoning.juris != 'oakland')]\n",
    "print(\"Number of parcels with DUA > 40 from zoning input and not in a TRA, PDA, or Big 3 is {}\".format(len(dua_zoning_high_nongg_nonbig3)))\n",
    "dua_zoning_high_nongg_nonbig3.head()"
   ]
  },
  {
   "cell_type": "code",
   "execution_count": 30,
   "metadata": {},
   "outputs": [],
   "source": [
    "# export associated zoning codes to check them\n",
    "#dua_zoning_high_nongg_nonbig3.zoning_name.value_counts().to_csv(\"high base zoning counts.csv\")"
   ]
  },
  {
   "cell_type": "code",
   "execution_count": 31,
   "metadata": {},
   "outputs": [],
   "source": [
    "# export associated parcels to view location of input zoning on a map (can dissolve on zoning code)\n",
    "#dua_zoning_high_nongg_nonbig3.to_csv(\"dua_zoning_high_nongg_nonbig3.csv\")"
   ]
  },
  {
   "cell_type": "markdown",
   "metadata": {},
   "source": [
    "### FAR"
   ]
  },
  {
   "cell_type": "markdown",
   "metadata": {},
   "source": [
    "\n",
    "BAUS FAR processing steps / zoning variables in the table:\n",
    "- **max_far_zoning** is the input zoning\n",
    "- **max_far_imputation** is zoning with imputation and residential allowance applied\n",
    "- **max_far_imputation_upzoning** is zoning with imputation and upzoning and residential allowance applied\n",
    "- **max_far** is zoning with imputation and upzoning, residenital allowance, nodev modification, outside of urban area modification,\\\n",
    "and lowest built density modification applied"
   ]
  },
  {
   "cell_type": "code",
   "execution_count": 41,
   "metadata": {},
   "outputs": [
    {
     "name": "stdout",
     "output_type": "stream",
     "text": [
      "Number of parcels with FAR > 4 is 27883\n"
     ]
    }
   ],
   "source": [
    "print(\"Number of parcels with FAR > 4 is {}\".format(len(pz.loc[pz.max_far > 4])))\n",
    "far = pz.loc[pz.max_far > 4][['parcel_id', 'zoning_name', 'max_far_zoning', 'juris', 'tra_id', 'pda_id',\n",
    "                              'max_far_imputation', 'max_far_imputation_upzoning', 'max_dua_builtfar_taz', 'max_far', 'built_far']].\\\n",
    "                              sort_values(by='max_far', ascending=False).rename(columns={\"max_dua_builtfar_taz\": \"max_far_builtfar_taz\"})"
   ]
  },
  {
   "cell_type": "markdown",
   "metadata": {},
   "source": [
    "#### FAR from Upzoning"
   ]
  },
  {
   "cell_type": "code",
   "execution_count": 43,
   "metadata": {},
   "outputs": [
    {
     "name": "stdout",
     "output_type": "stream",
     "text": [
      "Number of parcels with FAR > 4 from upzoning step is 17136\n"
     ]
    },
    {
     "data": {
      "text/html": [
       "<div>\n",
       "<style scoped>\n",
       "    .dataframe tbody tr th:only-of-type {\n",
       "        vertical-align: middle;\n",
       "    }\n",
       "\n",
       "    .dataframe tbody tr th {\n",
       "        vertical-align: top;\n",
       "    }\n",
       "\n",
       "    .dataframe thead th {\n",
       "        text-align: right;\n",
       "    }\n",
       "</style>\n",
       "<table border=\"1\" class=\"dataframe\">\n",
       "  <thead>\n",
       "    <tr style=\"text-align: right;\">\n",
       "      <th></th>\n",
       "      <th>parcel_id</th>\n",
       "      <th>zoning_name</th>\n",
       "      <th>max_far_zoning</th>\n",
       "      <th>juris</th>\n",
       "      <th>tra_id</th>\n",
       "      <th>pda_id</th>\n",
       "      <th>max_far_imputation</th>\n",
       "      <th>max_far_imputation_upzoning</th>\n",
       "      <th>max_far_builtfar_taz</th>\n",
       "      <th>max_far</th>\n",
       "      <th>built_far</th>\n",
       "    </tr>\n",
       "  </thead>\n",
       "  <tbody>\n",
       "    <tr>\n",
       "      <th>502993</th>\n",
       "      <td>981358</td>\n",
       "      <td>WMUG (HE Data)</td>\n",
       "      <td>NaN</td>\n",
       "      <td>san_francisco</td>\n",
       "      <td>TRA1</td>\n",
       "      <td>San Francisco - Eastern Neighborhoods</td>\n",
       "      <td>0.000000</td>\n",
       "      <td>10.0</td>\n",
       "      <td>10.766031</td>\n",
       "      <td>10.0</td>\n",
       "      <td>1.583020</td>\n",
       "    </tr>\n",
       "    <tr>\n",
       "      <th>505681</th>\n",
       "      <td>6071</td>\n",
       "      <td>D-LM-2 (BASIS)</td>\n",
       "      <td>0.0</td>\n",
       "      <td>oakland</td>\n",
       "      <td>TRA1</td>\n",
       "      <td>Oakland - Downtown &amp; Jack London Square</td>\n",
       "      <td>0.000000</td>\n",
       "      <td>10.0</td>\n",
       "      <td>72.441954</td>\n",
       "      <td>10.0</td>\n",
       "      <td>3.750000</td>\n",
       "    </tr>\n",
       "    <tr>\n",
       "      <th>268827</th>\n",
       "      <td>980607</td>\n",
       "      <td>C-3-G (HE Data)</td>\n",
       "      <td>NaN</td>\n",
       "      <td>san_francisco</td>\n",
       "      <td>TRA1</td>\n",
       "      <td>San Francisco - Downtown/Van Ness/Northeast Ne...</td>\n",
       "      <td>0.000000</td>\n",
       "      <td>10.0</td>\n",
       "      <td>74.003845</td>\n",
       "      <td>10.0</td>\n",
       "      <td>1.494303</td>\n",
       "    </tr>\n",
       "    <tr>\n",
       "      <th>268835</th>\n",
       "      <td>980714</td>\n",
       "      <td>C-3-R (HE Data)</td>\n",
       "      <td>NaN</td>\n",
       "      <td>san_francisco</td>\n",
       "      <td>TRA1</td>\n",
       "      <td>San Francisco - Downtown/Van Ness/Northeast Ne...</td>\n",
       "      <td>0.000000</td>\n",
       "      <td>10.0</td>\n",
       "      <td>36.328024</td>\n",
       "      <td>10.0</td>\n",
       "      <td>7.000000</td>\n",
       "    </tr>\n",
       "    <tr>\n",
       "      <th>1005884</th>\n",
       "      <td>1103817</td>\n",
       "      <td>MSASP Quasi-Public_pba40</td>\n",
       "      <td>NaN</td>\n",
       "      <td>millbrae</td>\n",
       "      <td>TRA1</td>\n",
       "      <td>Millbrae - Transit Station Area</td>\n",
       "      <td>8.066667</td>\n",
       "      <td>10.0</td>\n",
       "      <td>13.764236</td>\n",
       "      <td>10.0</td>\n",
       "      <td>0.000000</td>\n",
       "    </tr>\n",
       "  </tbody>\n",
       "</table>\n",
       "</div>"
      ],
      "text/plain": [
       "         parcel_id               zoning_name  max_far_zoning          juris  \\\n",
       "502993      981358            WMUG (HE Data)             NaN  san_francisco   \n",
       "505681        6071            D-LM-2 (BASIS)             0.0        oakland   \n",
       "268827      980607           C-3-G (HE Data)             NaN  san_francisco   \n",
       "268835      980714           C-3-R (HE Data)             NaN  san_francisco   \n",
       "1005884    1103817  MSASP Quasi-Public_pba40             NaN       millbrae   \n",
       "\n",
       "        tra_id                                             pda_id  \\\n",
       "502993    TRA1              San Francisco - Eastern Neighborhoods   \n",
       "505681    TRA1            Oakland - Downtown & Jack London Square   \n",
       "268827    TRA1  San Francisco - Downtown/Van Ness/Northeast Ne...   \n",
       "268835    TRA1  San Francisco - Downtown/Van Ness/Northeast Ne...   \n",
       "1005884   TRA1                    Millbrae - Transit Station Area   \n",
       "\n",
       "         max_far_imputation  max_far_imputation_upzoning  \\\n",
       "502993             0.000000                         10.0   \n",
       "505681             0.000000                         10.0   \n",
       "268827             0.000000                         10.0   \n",
       "268835             0.000000                         10.0   \n",
       "1005884            8.066667                         10.0   \n",
       "\n",
       "         max_far_builtfar_taz  max_far  built_far  \n",
       "502993              10.766031     10.0   1.583020  \n",
       "505681              72.441954     10.0   3.750000  \n",
       "268827              74.003845     10.0   1.494303  \n",
       "268835              36.328024     10.0   7.000000  \n",
       "1005884             13.764236     10.0   0.000000  "
      ]
     },
     "execution_count": 43,
     "metadata": {},
     "output_type": "execute_result"
    }
   ],
   "source": [
    "far_upzoning = far.loc[(far.max_far_imputation_upzoning > far.max_far_imputation) & (far.max_far_imputation_upzoning == far.max_far)]\n",
    "print(\"Number of parcels with FAR > 4 from upzoning step is {}\".format(len(far_upzoning.loc[far_upzoning.max_far > 4])))\n",
    "far_upzoning.loc[far_upzoning.max_far > 4].head()"
   ]
  },
  {
   "cell_type": "code",
   "execution_count": 44,
   "metadata": {},
   "outputs": [
    {
     "name": "stdout",
     "output_type": "stream",
     "text": [
      "Number of parcels with FAR > 4 from upzoning step but not in a TRA or PDA is 0\n"
     ]
    },
    {
     "data": {
      "text/html": [
       "<div>\n",
       "<style scoped>\n",
       "    .dataframe tbody tr th:only-of-type {\n",
       "        vertical-align: middle;\n",
       "    }\n",
       "\n",
       "    .dataframe tbody tr th {\n",
       "        vertical-align: top;\n",
       "    }\n",
       "\n",
       "    .dataframe thead th {\n",
       "        text-align: right;\n",
       "    }\n",
       "</style>\n",
       "<table border=\"1\" class=\"dataframe\">\n",
       "  <thead>\n",
       "    <tr style=\"text-align: right;\">\n",
       "      <th></th>\n",
       "      <th>parcel_id</th>\n",
       "      <th>zoning_name</th>\n",
       "      <th>max_far_zoning</th>\n",
       "      <th>juris</th>\n",
       "      <th>tra_id</th>\n",
       "      <th>pda_id</th>\n",
       "      <th>max_far_imputation</th>\n",
       "      <th>max_far_imputation_upzoning</th>\n",
       "      <th>max_far_builtfar_taz</th>\n",
       "      <th>max_far</th>\n",
       "      <th>built_far</th>\n",
       "    </tr>\n",
       "  </thead>\n",
       "  <tbody>\n",
       "  </tbody>\n",
       "</table>\n",
       "</div>"
      ],
      "text/plain": [
       "Empty DataFrame\n",
       "Columns: [parcel_id, zoning_name, max_far_zoning, juris, tra_id, pda_id, max_far_imputation, max_far_imputation_upzoning, max_far_builtfar_taz, max_far, built_far]\n",
       "Index: []"
      ]
     },
     "execution_count": 44,
     "metadata": {},
     "output_type": "execute_result"
    }
   ],
   "source": [
    "far_upzoning_high_nongg = far_upzoning.loc[(far_upzoning.max_far > 4) & (far_upzoning.tra_id.isnull()) & (far_upzoning.pda_id.isnull())]\n",
    "print(\"Number of parcels with FAR > 4 from upzoning step but not in a TRA or PDA is {}\".format(len(far_upzoning_high_nongg)))\n",
    "far_upzoning_high_nongg.head()"
   ]
  },
  {
   "cell_type": "markdown",
   "metadata": {},
   "source": [
    "#### FAR from Imputation"
   ]
  },
  {
   "cell_type": "code",
   "execution_count": 45,
   "metadata": {},
   "outputs": [
    {
     "name": "stdout",
     "output_type": "stream",
     "text": [
      "Number of parcels with FAR > 4 from imputation is 0\n"
     ]
    },
    {
     "data": {
      "text/html": [
       "<div>\n",
       "<style scoped>\n",
       "    .dataframe tbody tr th:only-of-type {\n",
       "        vertical-align: middle;\n",
       "    }\n",
       "\n",
       "    .dataframe tbody tr th {\n",
       "        vertical-align: top;\n",
       "    }\n",
       "\n",
       "    .dataframe thead th {\n",
       "        text-align: right;\n",
       "    }\n",
       "</style>\n",
       "<table border=\"1\" class=\"dataframe\">\n",
       "  <thead>\n",
       "    <tr style=\"text-align: right;\">\n",
       "      <th></th>\n",
       "      <th>parcel_id</th>\n",
       "      <th>zoning_name</th>\n",
       "      <th>max_far_zoning</th>\n",
       "      <th>juris</th>\n",
       "      <th>tra_id</th>\n",
       "      <th>pda_id</th>\n",
       "      <th>max_far_imputation</th>\n",
       "      <th>max_far_imputation_upzoning</th>\n",
       "      <th>max_far_builtfar_taz</th>\n",
       "      <th>max_far</th>\n",
       "      <th>built_far</th>\n",
       "    </tr>\n",
       "  </thead>\n",
       "  <tbody>\n",
       "  </tbody>\n",
       "</table>\n",
       "</div>"
      ],
      "text/plain": [
       "Empty DataFrame\n",
       "Columns: [parcel_id, zoning_name, max_far_zoning, juris, tra_id, pda_id, max_far_imputation, max_far_imputation_upzoning, max_far_builtfar_taz, max_far, built_far]\n",
       "Index: []"
      ]
     },
     "execution_count": 45,
     "metadata": {},
     "output_type": "execute_result"
    }
   ],
   "source": [
    "far_imputation = far.loc[(far.max_far_imputation > far.max_far_zoning) & (far.max_far_imputation == far.max_far)]\n",
    "print(\"Number of parcels with FAR > 4 from imputation is {}\".format(len(far_imputation.loc[far_imputation.max_far > 4])))\n",
    "far_imputation.loc[far_imputation.max_far > 4].head()"
   ]
  },
  {
   "cell_type": "code",
   "execution_count": 46,
   "metadata": {},
   "outputs": [
    {
     "name": "stdout",
     "output_type": "stream",
     "text": [
      "Number of parcels with FAR > 4 from imputation and not in a TRA or PDA is 0\n"
     ]
    },
    {
     "data": {
      "text/html": [
       "<div>\n",
       "<style scoped>\n",
       "    .dataframe tbody tr th:only-of-type {\n",
       "        vertical-align: middle;\n",
       "    }\n",
       "\n",
       "    .dataframe tbody tr th {\n",
       "        vertical-align: top;\n",
       "    }\n",
       "\n",
       "    .dataframe thead th {\n",
       "        text-align: right;\n",
       "    }\n",
       "</style>\n",
       "<table border=\"1\" class=\"dataframe\">\n",
       "  <thead>\n",
       "    <tr style=\"text-align: right;\">\n",
       "      <th></th>\n",
       "      <th>parcel_id</th>\n",
       "      <th>zoning_name</th>\n",
       "      <th>max_far_zoning</th>\n",
       "      <th>juris</th>\n",
       "      <th>tra_id</th>\n",
       "      <th>pda_id</th>\n",
       "      <th>max_far_imputation</th>\n",
       "      <th>max_far_imputation_upzoning</th>\n",
       "      <th>max_far_builtfar_taz</th>\n",
       "      <th>max_far</th>\n",
       "      <th>built_far</th>\n",
       "    </tr>\n",
       "  </thead>\n",
       "  <tbody>\n",
       "  </tbody>\n",
       "</table>\n",
       "</div>"
      ],
      "text/plain": [
       "Empty DataFrame\n",
       "Columns: [parcel_id, zoning_name, max_far_zoning, juris, tra_id, pda_id, max_far_imputation, max_far_imputation_upzoning, max_far_builtfar_taz, max_far, built_far]\n",
       "Index: []"
      ]
     },
     "execution_count": 46,
     "metadata": {},
     "output_type": "execute_result"
    }
   ],
   "source": [
    "far_imputation_high_nongg = far_imputation.loc[(far_imputation.max_far > 40) & (far_imputation.tra_id.isnull()) & (far_imputation.pda_id.isnull())]\n",
    "print(\"Number of parcels with FAR > 4 from imputation and not in a TRA or PDA is {}\".format(len(far_imputation_high_nongg)))\n",
    "far_imputation_high_nongg"
   ]
  },
  {
   "cell_type": "markdown",
   "metadata": {},
   "source": [
    "#### FAR from Max TAZ Built FAR"
   ]
  },
  {
   "cell_type": "code",
   "execution_count": 47,
   "metadata": {},
   "outputs": [
    {
     "name": "stdout",
     "output_type": "stream",
     "text": [
      "Number of parcels with FAR > 4 set by building to the lowest built DUA 1682\n"
     ]
    },
    {
     "data": {
      "text/html": [
       "<div>\n",
       "<style scoped>\n",
       "    .dataframe tbody tr th:only-of-type {\n",
       "        vertical-align: middle;\n",
       "    }\n",
       "\n",
       "    .dataframe tbody tr th {\n",
       "        vertical-align: top;\n",
       "    }\n",
       "\n",
       "    .dataframe thead th {\n",
       "        text-align: right;\n",
       "    }\n",
       "</style>\n",
       "<table border=\"1\" class=\"dataframe\">\n",
       "  <thead>\n",
       "    <tr style=\"text-align: right;\">\n",
       "      <th></th>\n",
       "      <th>parcel_id</th>\n",
       "      <th>zoning_name</th>\n",
       "      <th>max_far_zoning</th>\n",
       "      <th>juris</th>\n",
       "      <th>tra_id</th>\n",
       "      <th>pda_id</th>\n",
       "      <th>max_far_imputation</th>\n",
       "      <th>max_far_imputation_upzoning</th>\n",
       "      <th>max_far_builtfar_taz</th>\n",
       "      <th>max_far</th>\n",
       "      <th>built_far</th>\n",
       "    </tr>\n",
       "  </thead>\n",
       "  <tbody>\n",
       "    <tr>\n",
       "      <th>606093</th>\n",
       "      <td>6555</td>\n",
       "      <td>D-BV-2 (BASIS)</td>\n",
       "      <td>0.0</td>\n",
       "      <td>oakland</td>\n",
       "      <td>TRA1</td>\n",
       "      <td>Oakland - Downtown &amp; Jack London Square</td>\n",
       "      <td>0.0</td>\n",
       "      <td>10.0</td>\n",
       "      <td>9.942464</td>\n",
       "      <td>9.942464</td>\n",
       "      <td>0.786519</td>\n",
       "    </tr>\n",
       "    <tr>\n",
       "      <th>1464981</th>\n",
       "      <td>6564</td>\n",
       "      <td>Urban Residential_pba40</td>\n",
       "      <td>6.0</td>\n",
       "      <td>oakland</td>\n",
       "      <td>TRA1</td>\n",
       "      <td>Oakland - Downtown &amp; Jack London Square</td>\n",
       "      <td>6.0</td>\n",
       "      <td>10.0</td>\n",
       "      <td>9.942464</td>\n",
       "      <td>9.942464</td>\n",
       "      <td>0.000000</td>\n",
       "    </tr>\n",
       "    <tr>\n",
       "      <th>489894</th>\n",
       "      <td>6551</td>\n",
       "      <td>D-BV-2 (BASIS)</td>\n",
       "      <td>0.0</td>\n",
       "      <td>oakland</td>\n",
       "      <td>TRA1</td>\n",
       "      <td>Oakland - Downtown &amp; Jack London Square</td>\n",
       "      <td>0.0</td>\n",
       "      <td>10.0</td>\n",
       "      <td>9.942464</td>\n",
       "      <td>9.942464</td>\n",
       "      <td>3.750000</td>\n",
       "    </tr>\n",
       "    <tr>\n",
       "      <th>1300511</th>\n",
       "      <td>6619</td>\n",
       "      <td>D-BV-2 (BASIS)</td>\n",
       "      <td>0.0</td>\n",
       "      <td>oakland</td>\n",
       "      <td>TRA1</td>\n",
       "      <td>Oakland - Downtown &amp; Jack London Square</td>\n",
       "      <td>0.0</td>\n",
       "      <td>10.0</td>\n",
       "      <td>9.942464</td>\n",
       "      <td>9.942464</td>\n",
       "      <td>0.000000</td>\n",
       "    </tr>\n",
       "    <tr>\n",
       "      <th>1039160</th>\n",
       "      <td>6544</td>\n",
       "      <td>D-BV-2 (BASIS)</td>\n",
       "      <td>0.0</td>\n",
       "      <td>oakland</td>\n",
       "      <td>TRA1</td>\n",
       "      <td>Oakland - Downtown &amp; Jack London Square</td>\n",
       "      <td>0.0</td>\n",
       "      <td>10.0</td>\n",
       "      <td>9.942464</td>\n",
       "      <td>9.942464</td>\n",
       "      <td>8.313090</td>\n",
       "    </tr>\n",
       "  </tbody>\n",
       "</table>\n",
       "</div>"
      ],
      "text/plain": [
       "         parcel_id              zoning_name  max_far_zoning    juris tra_id  \\\n",
       "606093        6555           D-BV-2 (BASIS)             0.0  oakland   TRA1   \n",
       "1464981       6564  Urban Residential_pba40             6.0  oakland   TRA1   \n",
       "489894        6551           D-BV-2 (BASIS)             0.0  oakland   TRA1   \n",
       "1300511       6619           D-BV-2 (BASIS)             0.0  oakland   TRA1   \n",
       "1039160       6544           D-BV-2 (BASIS)             0.0  oakland   TRA1   \n",
       "\n",
       "                                          pda_id  max_far_imputation  \\\n",
       "606093   Oakland - Downtown & Jack London Square                 0.0   \n",
       "1464981  Oakland - Downtown & Jack London Square                 6.0   \n",
       "489894   Oakland - Downtown & Jack London Square                 0.0   \n",
       "1300511  Oakland - Downtown & Jack London Square                 0.0   \n",
       "1039160  Oakland - Downtown & Jack London Square                 0.0   \n",
       "\n",
       "         max_far_imputation_upzoning  max_far_builtfar_taz   max_far  \\\n",
       "606093                          10.0              9.942464  9.942464   \n",
       "1464981                         10.0              9.942464  9.942464   \n",
       "489894                          10.0              9.942464  9.942464   \n",
       "1300511                         10.0              9.942464  9.942464   \n",
       "1039160                         10.0              9.942464  9.942464   \n",
       "\n",
       "         built_far  \n",
       "606093    0.786519  \n",
       "1464981   0.000000  \n",
       "489894    3.750000  \n",
       "1300511   0.000000  \n",
       "1039160   8.313090  "
      ]
     },
     "execution_count": 47,
     "metadata": {},
     "output_type": "execute_result"
    }
   ],
   "source": [
    "far_builtfar_taz_max = far.loc[(far.max_far_builtfar_taz == far.max_far) & (far.max_far_builtfar_taz > far.max_far_zoning)]\n",
    "print(\"Number of parcels with FAR > 4 set by building to the lowest built DUA {}\".format(len(far_builtfar_taz_max.loc[far_builtfar_taz_max.max_far > 4])))\n",
    "far_builtfar_taz_max.loc[far_builtfar_taz_max.max_far > 4].head()"
   ]
  },
  {
   "cell_type": "code",
   "execution_count": 48,
   "metadata": {},
   "outputs": [
    {
     "name": "stdout",
     "output_type": "stream",
     "text": [
      "Number of parcels with FAR > 4 from max built dua in TAZ and not in a TRA or PDA is 0\n"
     ]
    },
    {
     "data": {
      "text/html": [
       "<div>\n",
       "<style scoped>\n",
       "    .dataframe tbody tr th:only-of-type {\n",
       "        vertical-align: middle;\n",
       "    }\n",
       "\n",
       "    .dataframe tbody tr th {\n",
       "        vertical-align: top;\n",
       "    }\n",
       "\n",
       "    .dataframe thead th {\n",
       "        text-align: right;\n",
       "    }\n",
       "</style>\n",
       "<table border=\"1\" class=\"dataframe\">\n",
       "  <thead>\n",
       "    <tr style=\"text-align: right;\">\n",
       "      <th></th>\n",
       "      <th>parcel_id</th>\n",
       "      <th>zoning_name</th>\n",
       "      <th>max_far_zoning</th>\n",
       "      <th>juris</th>\n",
       "      <th>tra_id</th>\n",
       "      <th>pda_id</th>\n",
       "      <th>max_far_imputation</th>\n",
       "      <th>max_far_imputation_upzoning</th>\n",
       "      <th>max_far_builtfar_taz</th>\n",
       "      <th>max_far</th>\n",
       "      <th>built_far</th>\n",
       "    </tr>\n",
       "  </thead>\n",
       "  <tbody>\n",
       "  </tbody>\n",
       "</table>\n",
       "</div>"
      ],
      "text/plain": [
       "Empty DataFrame\n",
       "Columns: [parcel_id, zoning_name, max_far_zoning, juris, tra_id, pda_id, max_far_imputation, max_far_imputation_upzoning, max_far_builtfar_taz, max_far, built_far]\n",
       "Index: []"
      ]
     },
     "execution_count": 48,
     "metadata": {},
     "output_type": "execute_result"
    }
   ],
   "source": [
    "far_builtfar_taz_max_high_nongg = far_builtfar_taz_max.loc[(far_builtfar_taz_max.max_far > 4) & \n",
    "                                  (far_builtfar_taz_max.tra_id.isnull()) & (far_builtfar_taz_max.pda_id.isnull())]\n",
    "print(\"Number of parcels with FAR > 4 from max built dua in TAZ and not in a TRA or PDA is {}\".format(len(far_builtfar_taz_max_high_nongg)))\n",
    "far_builtfar_taz_max_high_nongg.head()"
   ]
  },
  {
   "cell_type": "markdown",
   "metadata": {},
   "source": [
    "#### FAR from Zoning Input"
   ]
  },
  {
   "cell_type": "code",
   "execution_count": 49,
   "metadata": {},
   "outputs": [
    {
     "name": "stdout",
     "output_type": "stream",
     "text": [
      "Number of parcels with FAR > 4 from input zoning is 3415\n"
     ]
    },
    {
     "data": {
      "text/html": [
       "<div>\n",
       "<style scoped>\n",
       "    .dataframe tbody tr th:only-of-type {\n",
       "        vertical-align: middle;\n",
       "    }\n",
       "\n",
       "    .dataframe tbody tr th {\n",
       "        vertical-align: top;\n",
       "    }\n",
       "\n",
       "    .dataframe thead th {\n",
       "        text-align: right;\n",
       "    }\n",
       "</style>\n",
       "<table border=\"1\" class=\"dataframe\">\n",
       "  <thead>\n",
       "    <tr style=\"text-align: right;\">\n",
       "      <th></th>\n",
       "      <th>parcel_id</th>\n",
       "      <th>zoning_name</th>\n",
       "      <th>max_far_zoning</th>\n",
       "      <th>juris</th>\n",
       "      <th>tra_id</th>\n",
       "      <th>pda_id</th>\n",
       "      <th>max_far_imputation</th>\n",
       "      <th>max_far_imputation_upzoning</th>\n",
       "      <th>max_far_builtfar_taz</th>\n",
       "      <th>max_far</th>\n",
       "      <th>built_far</th>\n",
       "    </tr>\n",
       "  </thead>\n",
       "  <tbody>\n",
       "    <tr>\n",
       "      <th>1612240</th>\n",
       "      <td>980901</td>\n",
       "      <td>DOWNTOWN- OFFICE-500-S_pba40</td>\n",
       "      <td>33.333333</td>\n",
       "      <td>san_francisco</td>\n",
       "      <td>TRA1</td>\n",
       "      <td>San Francisco - Transbay/Rincon Hill</td>\n",
       "      <td>33.333333</td>\n",
       "      <td>33.333333</td>\n",
       "      <td>76.803463</td>\n",
       "      <td>33.333333</td>\n",
       "      <td>0.000000</td>\n",
       "    </tr>\n",
       "    <tr>\n",
       "      <th>964649</th>\n",
       "      <td>980892</td>\n",
       "      <td>DOWNTOWN- OFFICE-500-S_pba40</td>\n",
       "      <td>33.333333</td>\n",
       "      <td>san_francisco</td>\n",
       "      <td>TRA1</td>\n",
       "      <td>San Francisco - Transbay/Rincon Hill</td>\n",
       "      <td>33.333333</td>\n",
       "      <td>33.333333</td>\n",
       "      <td>76.803463</td>\n",
       "      <td>33.333333</td>\n",
       "      <td>0.000000</td>\n",
       "    </tr>\n",
       "    <tr>\n",
       "      <th>572642</th>\n",
       "      <td>980893</td>\n",
       "      <td>DOWNTOWN- OFFICE-500-S_pba40</td>\n",
       "      <td>33.333333</td>\n",
       "      <td>san_francisco</td>\n",
       "      <td>TRA1</td>\n",
       "      <td>San Francisco - Transbay/Rincon Hill</td>\n",
       "      <td>33.333333</td>\n",
       "      <td>33.333333</td>\n",
       "      <td>76.803463</td>\n",
       "      <td>33.333333</td>\n",
       "      <td>0.000000</td>\n",
       "    </tr>\n",
       "    <tr>\n",
       "      <th>981075</th>\n",
       "      <td>980933</td>\n",
       "      <td>PUBLIC-320-I_pba40</td>\n",
       "      <td>21.333333</td>\n",
       "      <td>san_francisco</td>\n",
       "      <td>TRA1</td>\n",
       "      <td>San Francisco - Downtown/Van Ness/Northeast Ne...</td>\n",
       "      <td>21.333333</td>\n",
       "      <td>21.333333</td>\n",
       "      <td>49.913984</td>\n",
       "      <td>21.333333</td>\n",
       "      <td>2.053832</td>\n",
       "    </tr>\n",
       "    <tr>\n",
       "      <th>113760</th>\n",
       "      <td>980932</td>\n",
       "      <td>DOWNTOWN- GENERAL-120/320-R-2_pba40</td>\n",
       "      <td>21.333333</td>\n",
       "      <td>san_francisco</td>\n",
       "      <td>TRA1</td>\n",
       "      <td>San Francisco - Downtown/Van Ness/Northeast Ne...</td>\n",
       "      <td>21.333333</td>\n",
       "      <td>21.333333</td>\n",
       "      <td>49.913984</td>\n",
       "      <td>21.333333</td>\n",
       "      <td>3.832590</td>\n",
       "    </tr>\n",
       "  </tbody>\n",
       "</table>\n",
       "</div>"
      ],
      "text/plain": [
       "         parcel_id                          zoning_name  max_far_zoning  \\\n",
       "1612240     980901         DOWNTOWN- OFFICE-500-S_pba40       33.333333   \n",
       "964649      980892         DOWNTOWN- OFFICE-500-S_pba40       33.333333   \n",
       "572642      980893         DOWNTOWN- OFFICE-500-S_pba40       33.333333   \n",
       "981075      980933                   PUBLIC-320-I_pba40       21.333333   \n",
       "113760      980932  DOWNTOWN- GENERAL-120/320-R-2_pba40       21.333333   \n",
       "\n",
       "                 juris tra_id  \\\n",
       "1612240  san_francisco   TRA1   \n",
       "964649   san_francisco   TRA1   \n",
       "572642   san_francisco   TRA1   \n",
       "981075   san_francisco   TRA1   \n",
       "113760   san_francisco   TRA1   \n",
       "\n",
       "                                                    pda_id  \\\n",
       "1612240               San Francisco - Transbay/Rincon Hill   \n",
       "964649                San Francisco - Transbay/Rincon Hill   \n",
       "572642                San Francisco - Transbay/Rincon Hill   \n",
       "981075   San Francisco - Downtown/Van Ness/Northeast Ne...   \n",
       "113760   San Francisco - Downtown/Van Ness/Northeast Ne...   \n",
       "\n",
       "         max_far_imputation  max_far_imputation_upzoning  \\\n",
       "1612240           33.333333                    33.333333   \n",
       "964649            33.333333                    33.333333   \n",
       "572642            33.333333                    33.333333   \n",
       "981075            21.333333                    21.333333   \n",
       "113760            21.333333                    21.333333   \n",
       "\n",
       "         max_far_builtfar_taz    max_far  built_far  \n",
       "1612240             76.803463  33.333333   0.000000  \n",
       "964649              76.803463  33.333333   0.000000  \n",
       "572642              76.803463  33.333333   0.000000  \n",
       "981075              49.913984  21.333333   2.053832  \n",
       "113760              49.913984  21.333333   3.832590  "
      ]
     },
     "execution_count": 49,
     "metadata": {},
     "output_type": "execute_result"
    }
   ],
   "source": [
    "far_zoning = far.loc[(far.max_far_zoning == far.max_far)]\n",
    "print(\"Number of parcels with FAR > 4 from input zoning is {}\".format(len(far_zoning)))\n",
    "far_zoning.head()"
   ]
  },
  {
   "cell_type": "code",
   "execution_count": 50,
   "metadata": {},
   "outputs": [
    {
     "name": "stdout",
     "output_type": "stream",
     "text": [
      "Number of parcels with FAR > 4 from input zoning and not in a TRA or PDA is 0\n"
     ]
    },
    {
     "data": {
      "text/html": [
       "<div>\n",
       "<style scoped>\n",
       "    .dataframe tbody tr th:only-of-type {\n",
       "        vertical-align: middle;\n",
       "    }\n",
       "\n",
       "    .dataframe tbody tr th {\n",
       "        vertical-align: top;\n",
       "    }\n",
       "\n",
       "    .dataframe thead th {\n",
       "        text-align: right;\n",
       "    }\n",
       "</style>\n",
       "<table border=\"1\" class=\"dataframe\">\n",
       "  <thead>\n",
       "    <tr style=\"text-align: right;\">\n",
       "      <th></th>\n",
       "      <th>parcel_id</th>\n",
       "      <th>zoning_name</th>\n",
       "      <th>max_far_zoning</th>\n",
       "      <th>juris</th>\n",
       "      <th>tra_id</th>\n",
       "      <th>pda_id</th>\n",
       "      <th>max_far_imputation</th>\n",
       "      <th>max_far_imputation_upzoning</th>\n",
       "      <th>max_far_builtfar_taz</th>\n",
       "      <th>max_far</th>\n",
       "      <th>built_far</th>\n",
       "    </tr>\n",
       "  </thead>\n",
       "  <tbody>\n",
       "  </tbody>\n",
       "</table>\n",
       "</div>"
      ],
      "text/plain": [
       "Empty DataFrame\n",
       "Columns: [parcel_id, zoning_name, max_far_zoning, juris, tra_id, pda_id, max_far_imputation, max_far_imputation_upzoning, max_far_builtfar_taz, max_far, built_far]\n",
       "Index: []"
      ]
     },
     "execution_count": 50,
     "metadata": {},
     "output_type": "execute_result"
    }
   ],
   "source": [
    "far_zoning_high_nongg = far_zoning.loc[(far_zoning.max_far > 40) & \n",
    "                                       ((far_zoning.tra_id.isnull()) & (far_zoning.pda_id.isnull()))]\n",
    "print(\"Number of parcels with FAR > 4 from input zoning and not in a TRA or PDA is {}\".format(len(far_zoning_high_nongg)))\n",
    "far_zoning_high_nongg.head()"
   ]
  },
  {
   "cell_type": "code",
   "execution_count": 51,
   "metadata": {},
   "outputs": [
    {
     "name": "stdout",
     "output_type": "stream",
     "text": [
      "Number of parcels with FAR > 4 from zoning input and not in a TRA, PDA, or Big 3 is 0\n"
     ]
    },
    {
     "data": {
      "text/html": [
       "<div>\n",
       "<style scoped>\n",
       "    .dataframe tbody tr th:only-of-type {\n",
       "        vertical-align: middle;\n",
       "    }\n",
       "\n",
       "    .dataframe tbody tr th {\n",
       "        vertical-align: top;\n",
       "    }\n",
       "\n",
       "    .dataframe thead th {\n",
       "        text-align: right;\n",
       "    }\n",
       "</style>\n",
       "<table border=\"1\" class=\"dataframe\">\n",
       "  <thead>\n",
       "    <tr style=\"text-align: right;\">\n",
       "      <th></th>\n",
       "      <th>parcel_id</th>\n",
       "      <th>zoning_name</th>\n",
       "      <th>max_far_zoning</th>\n",
       "      <th>juris</th>\n",
       "      <th>tra_id</th>\n",
       "      <th>pda_id</th>\n",
       "      <th>max_far_imputation</th>\n",
       "      <th>max_far_imputation_upzoning</th>\n",
       "      <th>max_far_builtfar_taz</th>\n",
       "      <th>max_far</th>\n",
       "      <th>built_far</th>\n",
       "    </tr>\n",
       "  </thead>\n",
       "  <tbody>\n",
       "  </tbody>\n",
       "</table>\n",
       "</div>"
      ],
      "text/plain": [
       "Empty DataFrame\n",
       "Columns: [parcel_id, zoning_name, max_far_zoning, juris, tra_id, pda_id, max_far_imputation, max_far_imputation_upzoning, max_far_builtfar_taz, max_far, built_far]\n",
       "Index: []"
      ]
     },
     "execution_count": 51,
     "metadata": {},
     "output_type": "execute_result"
    }
   ],
   "source": [
    "far_zoning_high_nongg_nonbig3 = far_zoning.loc[(far_zoning.parcel_id.isin(far_zoning_high_nongg.parcel_id)) & \n",
    "            (far_zoning.juris != 'san_francisco') & (far_zoning.juris != 'san_jose') & (far_zoning.juris != 'oakland')]\n",
    "print(\"Number of parcels with FAR > 4 from zoning input and not in a TRA, PDA, or Big 3 is {}\".format(len(far_zoning_high_nongg_nonbig3)))\n",
    "far_zoning_high_nongg_nonbig3.head()"
   ]
  },
  {
   "cell_type": "code",
   "execution_count": null,
   "metadata": {},
   "outputs": [],
   "source": []
  }
 ],
 "metadata": {
  "kernelspec": {
   "display_name": "baus-pip-env",
   "language": "python",
   "name": "python3"
  },
  "language_info": {
   "codemirror_mode": {
    "name": "ipython",
    "version": 3
   },
   "file_extension": ".py",
   "mimetype": "text/x-python",
   "name": "python",
   "nbconvert_exporter": "python",
   "pygments_lexer": "ipython3",
   "version": "3.6.15"
  },
  "orig_nbformat": 4,
  "vscode": {
   "interpreter": {
    "hash": "9278ca6451010c8509587daf3170d1f5396b4ec7bad79e6bf112ffac13fb68de"
   }
  }
 },
 "nbformat": 4,
 "nbformat_minor": 2
}
