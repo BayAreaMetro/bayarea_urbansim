{
 "cells": [
  {
   "cell_type": "code",
   "execution_count": 1,
   "id": "unsigned-meeting",
   "metadata": {},
   "outputs": [],
   "source": [
    "import os\n",
    "import sys\n",
    "sys.path.insert(0, 'X:\\\\bayarea_urbansim\\\\scripts')\n",
    "from baus_analytics_tools import *"
   ]
  },
  {
   "cell_type": "code",
   "execution_count": 2,
   "id": "roman-turning",
   "metadata": {},
   "outputs": [],
   "source": [
    "# location of two runs: run270-P, run269-NP\n",
    "folder = 'X:\\\\bayarea_urbansim\\\\runs'\n",
    "export_f = 'M:\\\\Data\\\\Urban\\\\BAUS\\\\PBA50\\\\explore_developer_model\\\\runs_feasibility_all_included\\\\trace'"
   ]
  },
  {
   "cell_type": "code",
   "execution_count": 3,
   "id": "opponent-triangle",
   "metadata": {},
   "outputs": [],
   "source": [
    "runs = {'NP': 'run290',\n",
    "        'P':  'run292'}"
   ]
  },
  {
   "cell_type": "code",
   "execution_count": 4,
   "id": "cosmetic-ethernet",
   "metadata": {},
   "outputs": [],
   "source": [
    "year = '2050'"
   ]
  },
  {
   "cell_type": "markdown",
   "id": "mediterranean-librarian",
   "metadata": {},
   "source": [
    "## examine the interim tables following BAUS steps in simulation year 2015 - 2050\n",
    "\n",
    "* \"slr_inundate\"\n",
    "* \"slr_remove_dev\"\n",
    "* \"eq_code_buildings\"\n",
    "* \"earthquake_demolish\"\n",
    "* [\"neighborhood_vars\"](#neighborhood_vars)\n",
    "* [\"regional_vars\"](#regional_vars)\n",
    "* \"nrh_simulate\"\n",
    "* \"household_relocation\"\n",
    "* \"households_transition\"\n",
    "* \"reconcile_unplaced_households\"\n",
    "* \"jobs_relocation\"\n",
    "* \"jobs_transition\"\n",
    "* \"balance_rental_and_ownership_hedonics\"\n",
    "* [\"price_vars\"](#price_vars)\n",
    "* \"scheduled_development_events\"\n",
    "* \"preserve_affordable\"\n",
    "* \"lump_sum_accounts\"\n",
    "* \"subsidized_residential_developer_lump_sum_accts\"\n",
    "* \"office_lump_sum_accounts\"\n",
    "* \"subsidized_office_developer_lump_sum_accts\"\n",
    "* [\"alt_feasibility\"](#alt_feasibility)\n",
    "* [\"residential_developer\"](#residential_developer)\n",
    "* \"developer_reprocess\"\n",
    "* \"retail_developer\"\n",
    "* \"office_developer\"\n",
    "* \"accessory_units\"\n",
    "* \"calculate_vmt_fees\"\n",
    "* \"remove_old_units\"\n",
    "* \"initialize_new_units\"\n",
    "* \"reconcile_unplaced_households\"\n",
    "* [\"rsh_simulate\"](#rsh_simulate)\n",
    "* [\"rrh_simulate\"](#rrh_simulate)\n",
    "* \"assign_tenure_to_new_units\"\n",
    "* \"hlcm_owner_lowincome_simulate\"\n",
    "* \"hlcm_renter_lowincome_simulate\"\n",
    "* \"hlcm_owner_simulate\"\n",
    "* \"hlcm_renter_simulate\"\n",
    "* \"hlcm_owner_simulate_no_unplaced\"\n",
    "* \"hlcm_owner_lowincome_simulate_no_unplaced\"\n",
    "* \"hlcm_renter_simulate_no_unplaced\"\n",
    "* \"hlcm_renter_lowincome_simulate_no_unplaced\"\n",
    "* \"reconcile_placed_households\"\n",
    "* \"proportional_elcm\"\n",
    "* \"elcm_simulate\"\n",
    "* \"topsheet\"\n",
    "* \"simulation_validation\"\n",
    "* [\"parcel_summary\"](#parcel_summary)\n",
    "* [\"building_summary\"](#building_summary)\n",
    "* \"diagnostic_output\"\n",
    "* \"geographic_summary\"\n",
    "* \"travel_model_output\"\n",
    "* \"hazards_slr_summary\"\n",
    "* \"hazards_eq_summary\"\n",
    "* \"slack_report\""
   ]
  },
  {
   "cell_type": "markdown",
   "id": "determined-population",
   "metadata": {},
   "source": [
    "### 'neighborhood_vars' <a class=\"anchor\" id=\"neighborhood_vars\"></a>"
   ]
  },
  {
   "cell_type": "markdown",
   "id": "significant-tackle",
   "metadata": {},
   "source": [
    "pandana: fast move along the network, uses the H5 file has openstreet esiting year network to run a mini-travel model (focusing on pedestrian level), get job conuts, etc. along the network."
   ]
  },
  {
   "cell_type": "code",
   "execution_count": 5,
   "id": "voluntary-annual",
   "metadata": {
    "scrolled": true
   },
   "outputs": [
    {
     "name": "stdout",
     "output_type": "stream",
     "text": [
      "226060\n",
      "226060\n",
      "check if they are identical: False\n",
      "['Unnamed: 0', 'retail_sqft_3000', 'sum_income_3000', 'residential_units_500', 'residential_units_1500', 'office_1500', 'retail_1500', 'industrial_1500', 'ave_sqft_per_unit', 'ave_lot_size_per_unit', 'population', 'poor', 'renters', 'sfdu', 'ave_hhsize', 'jobs_500', 'jobs_1500', 'ave_income_1500', 'ave_income_500', 'retail_ratio']\n",
      "226060\n"
     ]
    }
   ],
   "source": [
    "# output of 'neighborhood_vars' step\n",
    "# https://github.com/BayAreaMetro/bayarea_urbansim/blob/820554cbabee51725c445b9fd211542db8876c9f/baus.py#L313\n",
    "\n",
    "neigh_var_np = pd.read_csv(os.path.join(folder, '{}_nodes_neighborhood_{}.csv'.format(runs['NP'],year)))\n",
    "neigh_var_p = pd.read_csv(os.path.join(folder, '{}_nodes_neighborhood_{}.csv'.format(runs['P'], year)))\n",
    "print(neigh_var_np.shape[0])\n",
    "print(neigh_var_p.shape[0])\n",
    "\n",
    "# if identical between NP and P - they are not identical\n",
    "print('check if they are identical:', neigh_var_p.equals(neigh_var_np))\n",
    "\n",
    "print(list(neigh_var_p))\n",
    "\n",
    "# rename columns \n",
    "neigh_var_np.columns = ['node_id'] + [x+'_NP' for x in list(neigh_var_np)[1:]]\n",
    "neigh_var_p.columns = ['node_id'] + [x+'_P' for x in list(neigh_var_p)[1:]]\n",
    "\n",
    "# merge\n",
    "neigh_var_compare = neigh_var_np.merge(neigh_var_p, on='node_id', how='outer')\n",
    "print(neigh_var_compare.shape[0])\n",
    "\n",
    "# export\n",
    "# neigh_var_compare.to_csv(os.path.join(export_f, 'neigh_vars_{}.csv'.format(year)), index=False)"
   ]
  },
  {
   "cell_type": "markdown",
   "id": "organizational-guide",
   "metadata": {},
   "source": [
    "### \"regional_vars\"<a class=\"anchor\" id=\"regional_vars\"></a>"
   ]
  },
  {
   "cell_type": "code",
   "execution_count": 6,
   "id": "accurate-northern",
   "metadata": {},
   "outputs": [
    {
     "name": "stdout",
     "output_type": "stream",
     "text": [
      "False\n",
      "12016\n"
     ]
    }
   ],
   "source": [
    "regional_var_np = pd.read_csv(os.path.join(folder, '{}_nodes_regional_{}.csv'.format(runs['NP'], year)))\n",
    "regional_var_p = pd.read_csv(os.path.join(folder, '{}_nodes_regional_{}.csv'.format(runs['P'], year)))\n",
    "\n",
    "# if identical between NP and P - they are identical in year 2010\n",
    "print(regional_var_p.equals(regional_var_np))\n",
    "\n",
    "\n",
    "# rename columns \n",
    "regional_var_np.columns = ['tmnode_id'] + [x+'_NP' for x in list(regional_var_np)[1:]]\n",
    "regional_var_p.columns = ['tmnode_id'] + [x+'_P' for x in list(regional_var_p)[1:]]\n",
    "\n",
    "# merge\n",
    "regional_var_compare = regional_var_np.merge(regional_var_p, on='tmnode_id', how='outer')\n",
    "print(regional_var_compare.shape[0])\n",
    "\n",
    "# export\n",
    "regional_var_compare.to_csv(os.path.join(export_f, 'regional_vars_{}.csv'.format(year)), index=False)"
   ]
  },
  {
   "cell_type": "markdown",
   "id": "outstanding-device",
   "metadata": {},
   "source": [
    "#### the two runs have different jobs_500, jobs_1500 values. Why? Does this affect residential development?"
   ]
  },
  {
   "cell_type": "markdown",
   "id": "consistent-species",
   "metadata": {},
   "source": [
    "### \"price_vars\" <a class=\"anchor\" id=\"price_vars\"></a>"
   ]
  },
  {
   "cell_type": "code",
   "execution_count": 7,
   "id": "blond-trick",
   "metadata": {},
   "outputs": [],
   "source": [
    "price_vars_np = pd.read_csv(os.path.join(folder, '{}_nodes_priceVars_{}.csv'.format(runs['NP'], year)))\n",
    "price_vars_p = pd.read_csv(os.path.join(folder, '{}_nodes_priceVars_{}.csv'.format(runs['P'], year)))\n",
    "\n",
    "# rename columns\n",
    "price_vars_np.columns = ['node_id'] + [x + '_NP' for x in list(price_vars_np)[1:]]\n",
    "price_vars_p.columns = ['node_id'] + [x + '_P' for x in list(price_vars_p)[1:]]\n",
    "\n",
    "# merge\n",
    "price_vars_compare = price_vars_np.merge(price_vars_p, on='node_id', how='outer')\n",
    "\n",
    "# export\n",
    "price_vars_compare.to_csv(os.path.join(export_f, 'price_vars_{}.csv'.format(year)), index=False)"
   ]
  },
  {
   "cell_type": "code",
   "execution_count": null,
   "id": "electronic-jacob",
   "metadata": {},
   "outputs": [],
   "source": []
  },
  {
   "cell_type": "markdown",
   "id": "quantitative-update",
   "metadata": {},
   "source": [
    "### \"alt_feasibility\" <a class=\"anchor\" id=\"alt_feasibility\"></a>"
   ]
  },
  {
   "cell_type": "code",
   "execution_count": 8,
   "id": "documentary-saudi",
   "metadata": {
    "scrolled": true
   },
   "outputs": [
    {
     "name": "stdout",
     "output_type": "stream",
     "text": [
      "X:\\bayarea_urbansim\\runs\\run290_feasibility_allParcels_2050.csv\n"
     ]
    },
    {
     "name": "stderr",
     "output_type": "stream",
     "text": [
      "C:\\ProgramData\\Anaconda3\\envs\\geo_env\\lib\\site-packages\\ipykernel_launcher.py:12: DtypeWarning: Columns (22,23,24,25,27,29,38,59,60,61,62,63,64,65,66,67,68,71,72,96,97,99,101,103,133,136,138,140,149,170,171,172,173,174,175,176,177,178,179,182,183,186,207,208,209,210,211,212,213,214,215,216,219,220) have mixed types.Specify dtype option on import or set low_memory=False.\n",
      "  if sys.path[0] == '':\n"
     ]
    },
    {
     "name": "stdout",
     "output_type": "stream",
     "text": [
      "NP all-parcel feasibility has 434541 rows\n",
      "X:\\bayarea_urbansim\\runs\\run292_feasibility_allParcels_2050.csv\n"
     ]
    },
    {
     "name": "stderr",
     "output_type": "stream",
     "text": [
      "C:\\ProgramData\\Anaconda3\\envs\\geo_env\\lib\\site-packages\\ipykernel_launcher.py:18: DtypeWarning: Columns (22,23,24,25,27,29,38,59,60,61,62,63,64,65,66,67,68,71,72,96,97,99,101,103,133,134,136,138,140,149,170,171,172,173,174,175,176,177,178,179,182,183,186,207,208,209,210,211,212,213,214,215,216,219,220) have mixed types.Specify dtype option on import or set low_memory=False.\n"
     ]
    },
    {
     "name": "stdout",
     "output_type": "stream",
     "text": [
      "P all-parcel feasibility has 434898 rows\n",
      "['parcel_id', 'parking_config', 'building_sqft', 'building_cost', 'parking_ratio', 'stories', 'total_cost', 'building_revenue', 'max_profit_far', 'max_profit', 'oldest_building', 'total_sqft', 'total_residential_units', 'max_far', 'max_dua', 'land_cost', 'residential', 'min_max_fars', 'max_height', 'building_purchase_price', 'building_purchase_price_sqft', 'residential_sales_price_sqft', 'pda_pba40', 'pda_pba50', 'trich_id', 'cat_id', 'tra_id', 'ppa_id', 'sesit_id', 'coc_id', 'juris', 'county', 'superdistrict', 'geom_id', 'vmt_res_cat', 'vmt_nonres_cat', 'residential_sqft', 'non_residential_sqft']\n"
     ]
    }
   ],
   "source": [
    "# look up feasibility of all parcels, regardless of development feasibility\n",
    "# 'feasibility' table contains the following development types: \n",
    "# dev_types = ['retail', 'industrial', 'office', 'residential', 'mixedresidential', 'mixedoffice']\n",
    "\n",
    "# however, in BAUS run, the step \"residential_developer\" model following this step only calls 'residential' form,\n",
    "# so only need to consider the 'residential' portion\n",
    "\n",
    "\n",
    "# load the feasibility table and extract residential and mixed-residential portions\n",
    "feasibility_all_np_file = os.path.join(folder,'{}_feasibility_allParcels_{}.csv'.format(runs['NP'], year))\n",
    "print(feasibility_all_np_file)\n",
    "feasibility_all_np = load_feasibility(feasibility_all_np_file)\n",
    "print('NP all-parcel feasibility has {} rows'.format(feasibility_all_np.shape[0]))\n",
    "feasibility_all_res_np = get_feasibility_by_useType(feasibility_all_np, 'residential')\n",
    "\n",
    "feasibility_all_p_file = os.path.join(folder,'{}_feasibility_allParcels_{}.csv'.format(runs['P'], year))\n",
    "print(feasibility_all_p_file)\n",
    "feasibility_all_p = load_feasibility(feasibility_all_p_file)\n",
    "print('P all-parcel feasibility has {} rows'.format(feasibility_all_p.shape[0]))\n",
    "\n",
    "feasibility_all_res_p = get_feasibility_by_useType(feasibility_all_p, 'residential')\n",
    "\n",
    "print(list(feasibility_all_res_np))"
   ]
  },
  {
   "cell_type": "markdown",
   "id": "stylish-funds",
   "metadata": {},
   "source": [
    "### question: why NP and P have different number of rows in feasibility table?"
   ]
  },
  {
   "cell_type": "code",
   "execution_count": 9,
   "id": "disabled-dayton",
   "metadata": {},
   "outputs": [
    {
     "data": {
      "text/html": [
       "<div>\n",
       "<style scoped>\n",
       "    .dataframe tbody tr th:only-of-type {\n",
       "        vertical-align: middle;\n",
       "    }\n",
       "\n",
       "    .dataframe tbody tr th {\n",
       "        vertical-align: top;\n",
       "    }\n",
       "\n",
       "    .dataframe thead th {\n",
       "        text-align: right;\n",
       "    }\n",
       "</style>\n",
       "<table border=\"1\" class=\"dataframe\">\n",
       "  <thead>\n",
       "    <tr style=\"text-align: right;\">\n",
       "      <th></th>\n",
       "      <th>parcel_id</th>\n",
       "      <th>superdistrict_NP</th>\n",
       "      <th>total_cost_NP</th>\n",
       "      <th>building_revenue_NP</th>\n",
       "      <th>max_profit_far_NP</th>\n",
       "      <th>max_profit_NP</th>\n",
       "      <th>residential_sales_price_sqft_NP</th>\n",
       "      <th>residential_sqft_NP</th>\n",
       "      <th>superdistrict_P</th>\n",
       "      <th>total_cost_P</th>\n",
       "      <th>building_revenue_P</th>\n",
       "      <th>max_profit_far_P</th>\n",
       "      <th>max_profit_P</th>\n",
       "      <th>residential_sales_price_sqft_P</th>\n",
       "      <th>residential_sqft_P</th>\n",
       "    </tr>\n",
       "  </thead>\n",
       "  <tbody>\n",
       "    <tr>\n",
       "      <th>0</th>\n",
       "      <td>18</td>\n",
       "      <td>18.0</td>\n",
       "      <td>1.263127e+07</td>\n",
       "      <td>4.095240e+07</td>\n",
       "      <td>3.25</td>\n",
       "      <td>2.832113e+07</td>\n",
       "      <td>898.924822</td>\n",
       "      <td>56946.369455</td>\n",
       "      <td>18.0</td>\n",
       "      <td>1.263127e+07</td>\n",
       "      <td>4.126634e+07</td>\n",
       "      <td>3.25</td>\n",
       "      <td>2.863507e+07</td>\n",
       "      <td>905.815866</td>\n",
       "      <td>56946.369455</td>\n",
       "    </tr>\n",
       "    <tr>\n",
       "      <th>1</th>\n",
       "      <td>20</td>\n",
       "      <td>18.0</td>\n",
       "      <td>6.129055e+06</td>\n",
       "      <td>1.949720e+07</td>\n",
       "      <td>3.25</td>\n",
       "      <td>1.336814e+07</td>\n",
       "      <td>882.002215</td>\n",
       "      <td>27632.011408</td>\n",
       "      <td>18.0</td>\n",
       "      <td>6.129055e+06</td>\n",
       "      <td>1.975730e+07</td>\n",
       "      <td>3.25</td>\n",
       "      <td>1.362824e+07</td>\n",
       "      <td>893.768485</td>\n",
       "      <td>27632.011408</td>\n",
       "    </tr>\n",
       "    <tr>\n",
       "      <th>2</th>\n",
       "      <td>21</td>\n",
       "      <td>18.0</td>\n",
       "      <td>1.116023e+07</td>\n",
       "      <td>3.550192e+07</td>\n",
       "      <td>3.25</td>\n",
       "      <td>2.434169e+07</td>\n",
       "      <td>882.002215</td>\n",
       "      <td>50314.379684</td>\n",
       "      <td>18.0</td>\n",
       "      <td>1.116023e+07</td>\n",
       "      <td>3.597553e+07</td>\n",
       "      <td>3.25</td>\n",
       "      <td>2.481530e+07</td>\n",
       "      <td>893.768485</td>\n",
       "      <td>50314.379684</td>\n",
       "    </tr>\n",
       "    <tr>\n",
       "      <th>3</th>\n",
       "      <td>23</td>\n",
       "      <td>18.0</td>\n",
       "      <td>1.919872e+06</td>\n",
       "      <td>6.154671e+06</td>\n",
       "      <td>3.25</td>\n",
       "      <td>4.234799e+06</td>\n",
       "      <td>888.840158</td>\n",
       "      <td>8655.480111</td>\n",
       "      <td>18.0</td>\n",
       "      <td>1.919872e+06</td>\n",
       "      <td>6.223556e+06</td>\n",
       "      <td>3.25</td>\n",
       "      <td>4.303685e+06</td>\n",
       "      <td>898.788452</td>\n",
       "      <td>8655.480111</td>\n",
       "    </tr>\n",
       "    <tr>\n",
       "      <th>4</th>\n",
       "      <td>38</td>\n",
       "      <td>NaN</td>\n",
       "      <td>NaN</td>\n",
       "      <td>NaN</td>\n",
       "      <td>NaN</td>\n",
       "      <td>NaN</td>\n",
       "      <td>NaN</td>\n",
       "      <td>NaN</td>\n",
       "      <td>NaN</td>\n",
       "      <td>NaN</td>\n",
       "      <td>NaN</td>\n",
       "      <td>NaN</td>\n",
       "      <td>NaN</td>\n",
       "      <td>NaN</td>\n",
       "      <td>NaN</td>\n",
       "    </tr>\n",
       "  </tbody>\n",
       "</table>\n",
       "</div>"
      ],
      "text/plain": [
       "   parcel_id  superdistrict_NP  total_cost_NP  building_revenue_NP  \\\n",
       "0         18              18.0   1.263127e+07         4.095240e+07   \n",
       "1         20              18.0   6.129055e+06         1.949720e+07   \n",
       "2         21              18.0   1.116023e+07         3.550192e+07   \n",
       "3         23              18.0   1.919872e+06         6.154671e+06   \n",
       "4         38               NaN            NaN                  NaN   \n",
       "\n",
       "   max_profit_far_NP  max_profit_NP  residential_sales_price_sqft_NP  \\\n",
       "0               3.25   2.832113e+07                       898.924822   \n",
       "1               3.25   1.336814e+07                       882.002215   \n",
       "2               3.25   2.434169e+07                       882.002215   \n",
       "3               3.25   4.234799e+06                       888.840158   \n",
       "4                NaN            NaN                              NaN   \n",
       "\n",
       "   residential_sqft_NP  superdistrict_P  total_cost_P  building_revenue_P  \\\n",
       "0         56946.369455             18.0  1.263127e+07        4.126634e+07   \n",
       "1         27632.011408             18.0  6.129055e+06        1.975730e+07   \n",
       "2         50314.379684             18.0  1.116023e+07        3.597553e+07   \n",
       "3          8655.480111             18.0  1.919872e+06        6.223556e+06   \n",
       "4                  NaN              NaN           NaN                 NaN   \n",
       "\n",
       "   max_profit_far_P  max_profit_P  residential_sales_price_sqft_P  \\\n",
       "0              3.25  2.863507e+07                      905.815866   \n",
       "1              3.25  1.362824e+07                      893.768485   \n",
       "2              3.25  2.481530e+07                      893.768485   \n",
       "3              3.25  4.303685e+06                      898.788452   \n",
       "4               NaN           NaN                             NaN   \n",
       "\n",
       "   residential_sqft_P  \n",
       "0        56946.369455  \n",
       "1        27632.011408  \n",
       "2        50314.379684  \n",
       "3         8655.480111  \n",
       "4                 NaN  "
      ]
     },
     "metadata": {},
     "output_type": "display_data"
    }
   ],
   "source": [
    "# compare key output columns: max_profit, residential_sqft\n",
    "\n",
    "feasibility_res_np = feasibility_all_res_np[['parcel_id', 'superdistrict',\n",
    "                                             'total_cost', 'building_revenue', 'max_profit_far', 'max_profit',\n",
    "                                             'residential_sales_price_sqft',\n",
    "                                             'residential_sqft']]\n",
    "feasibility_res_np.columns = ['parcel_id'] + [x+'_NP' for x in list(feasibility_res_np)[1:]]\n",
    "\n",
    "feasibility_res_p = feasibility_all_res_p[['parcel_id', 'superdistrict',\n",
    "                                            'total_cost', 'building_revenue', 'max_profit_far', 'max_profit',\n",
    "                                            'residential_sales_price_sqft',\n",
    "                                            'residential_sqft']]\n",
    "feasibility_res_p.columns = ['parcel_id'] + [x+'_P' for x in list(feasibility_res_p)[1:]]\n",
    "\n",
    "feasibility_compare = feasibility_res_np.merge(feasibility_res_p,\n",
    "                                               on='parcel_id',\n",
    "                                               how='outer')\n",
    "display(feasibility_compare.head()) "
   ]
  },
  {
   "cell_type": "code",
   "execution_count": 10,
   "id": "virgin-graphic",
   "metadata": {},
   "outputs": [],
   "source": [
    "# # drop rows where all columns (except for parcel_id) are NA\n",
    "# feasibility_compare.dropna(subset=list(feasibility_compare)[1:], how='all', inplace=True)"
   ]
  },
  {
   "cell_type": "code",
   "execution_count": 11,
   "id": "contrary-saying",
   "metadata": {},
   "outputs": [
    {
     "name": "stdout",
     "output_type": "stream",
     "text": [
      "Both not profitable    229090\n",
      "Both profitable        148773\n",
      "not allow               31715\n",
      "only allow in P         23659\n",
      "only allow in NP        23333\n",
      "NP profitable only        944\n",
      "P profitable only         934\n",
      "Name: max_profit_chk, dtype: int64\n"
     ]
    }
   ],
   "source": [
    "# compare max_project\n",
    "\n",
    "feasibility_compare['max_profit_chk'] = ''\n",
    "feasibility_compare.loc[feasibility_compare.max_profit_NP.isnull() & feasibility_compare.max_profit_P.isnull(), 'max_profit_chk'] = 'not allow'\n",
    "feasibility_compare.loc[feasibility_compare.max_profit_NP.isnull() & feasibility_compare.max_profit_P.notnull(), 'max_profit_chk'] = 'only allow in P'\n",
    "feasibility_compare.loc[feasibility_compare.max_profit_NP.notnull() & feasibility_compare.max_profit_P.isnull(), 'max_profit_chk'] = 'only allow in NP'\n",
    "\n",
    "feasibility_compare.loc[feasibility_compare.max_profit_NP.notnull() & feasibility_compare.max_profit_P.notnull() \\\n",
    "                        & (feasibility_compare.max_profit_NP > 0) \\\n",
    "                        & (feasibility_compare.max_profit_P > 0), 'max_profit_chk'] = 'Both profitable'\n",
    "\n",
    "feasibility_compare.loc[feasibility_compare.max_profit_NP.notnull() & feasibility_compare.max_profit_P.notnull() \\\n",
    "                        & (feasibility_compare.max_profit_NP > 0) \\\n",
    "                        & (feasibility_compare.max_profit_P <= 0), 'max_profit_chk'] = 'NP profitable only'\n",
    "\n",
    "feasibility_compare.loc[feasibility_compare.max_profit_NP.notnull() & feasibility_compare.max_profit_P.notnull() \\\n",
    "                        & (feasibility_compare.max_profit_NP <= 0) \\\n",
    "                        & (feasibility_compare.max_profit_P > 0), 'max_profit_chk'] = 'P profitable only'\n",
    "\n",
    "feasibility_compare.loc[feasibility_compare.max_profit_NP.notnull() & feasibility_compare.max_profit_P.notnull() \\\n",
    "                        & (feasibility_compare.max_profit_NP <= 0) \\\n",
    "                        & (feasibility_compare.max_profit_P <= 0), 'max_profit_chk'] = 'Both not profitable'\n",
    "\n",
    "print(feasibility_compare.max_profit_chk.value_counts())\n",
    "\n",
    "# export\n",
    "feasibility_compare.to_csv(os.path.join(export_f, 'feasibility_compare_{}.csv').format(year), index=False)"
   ]
  },
  {
   "cell_type": "code",
   "execution_count": 12,
   "id": "funny-measure",
   "metadata": {},
   "outputs": [],
   "source": [
    "# 'parcel_id', 'superdistrict', 'building_sqft', 'building_cost', 'parking_ratio', 'stories', 'total_cost', \n",
    "# 'building_revenue', 'max_profit_far', 'max_profit', 'oldest_building',\n",
    "# 'total_sqft', 'total_residential_units', 'max_far', 'max_dua', 'land_cost', 'residential',\n",
    "# 'min_max_fars', 'max_height', 'building_purchase_price', 'building_purchase_price_sqft', 'residential_sales_price_sqft"
   ]
  },
  {
   "cell_type": "code",
   "execution_count": 13,
   "id": "finite-ocean",
   "metadata": {},
   "outputs": [],
   "source": [
    "# chk = feasibility_compare.loc[feasibility_compare.max_profit_chk == 'Both profitable'][['parcel_id',\n",
    "#                                                                                     'residential_sqft_np', 'residential_sqft_p',\n",
    "#                                                                                     'total_cost_np', 'total_cost_p',\n",
    "#                                                                                     'building_revenue_np', 'building_revenue_p',\n",
    "#                                                                                     'residential_sales_price_sqft_np', 'residential_sales_price_sqft_p']]\n",
    "# chk['rev_diff'] = chk['building_revenue_p'] - chk['building_revenue_np']\n",
    "# chk['cost_diff'] = chk['total_cost_p'] - chk['total_cost_np']\n",
    "# chk['price'] = chk['residential_sales_price_sqft_p'] - chk['residential_sales_price_sqft_np']\n",
    "# chk"
   ]
  },
  {
   "cell_type": "code",
   "execution_count": 14,
   "id": "several-street",
   "metadata": {},
   "outputs": [],
   "source": [
    "# # compare feasible residential_sqft\n",
    "# feasibility_compare['res_sqft_diff'] = ''\n",
    "# feasibility_compare.loc[feasibility_compare.residential_sqft_np.isnull() & feasibility_compare.residential_sqft_p.isnull(), 'res_sqft_diff'] = 'not allow'\n",
    "# feasibility_compare.loc[feasibility_compare.residential_sqft_np.isnull() & feasibility_compare.residential_sqft_p.notnull(), 'res_sqft_diff'] = 'not allow in NP'\n",
    "# feasibility_compare.loc[feasibility_compare.residential_sqft_np.notnull() & feasibility_compare.residential_sqft_p.isnull(), 'res_sqft_diff'] = 'not allow in P'\n",
    "# feasibility_compare.loc[feasibility_compare.residential_sqft_np.notnull() & feasibility_compare.residential_sqft_p.notnull() \\\n",
    "#                         & (feasibility_compare.residential_sqft_np == feasibility_compare.residential_sqft_p), 'res_sqft_diff'] = 'NP = P'\n",
    "\n",
    "# feasibility_compare.loc[feasibility_compare.residential_sqft_np.notnull() & feasibility_compare.residential_sqft_p.notnull() \\\n",
    "#                         & (feasibility_compare.residential_sqft_np > feasibility_compare.residential_sqft_p), 'res_sqft_diff'] = 'NP > P'\n",
    "\n",
    "# feasibility_compare.loc[feasibility_compare.residential_sqft_np.notnull() & feasibility_compare.residential_sqft_p.notnull() \\\n",
    "#                         & (feasibility_compare.residential_sqft_np < feasibility_compare.residential_sqft_p), 'res_sqft_diff'] = 'NP < P'"
   ]
  },
  {
   "cell_type": "code",
   "execution_count": 15,
   "id": "signed-resort",
   "metadata": {},
   "outputs": [],
   "source": [
    "# # status of parcels at least only keep parcels feasible at least in one of NP or P (including profitable in both) \n",
    "# feasibility_compare\n",
    "# profitable_feasibility_compare = feasibility_compare.loc[(feasibility_compare.max_profit_np > 0) | (feasibility_compare.max_profit_p > 0)]"
   ]
  },
  {
   "cell_type": "code",
   "execution_count": 16,
   "id": "dominican-academy",
   "metadata": {},
   "outputs": [],
   "source": [
    "# profitable_feasibility_compare['res_sqft_diff'].value_counts()"
   ]
  },
  {
   "cell_type": "code",
   "execution_count": null,
   "id": "angry-kelly",
   "metadata": {},
   "outputs": [],
   "source": []
  },
  {
   "cell_type": "markdown",
   "id": "potential-marriage",
   "metadata": {},
   "source": [
    "### \"residential_developer\" <a class=\"anchor\" id=\"residential_developer\"></a>"
   ]
  },
  {
   "cell_type": "code",
   "execution_count": 17,
   "id": "formal-single",
   "metadata": {
    "scrolled": true
   },
   "outputs": [
    {
     "name": "stdout",
     "output_type": "stream",
     "text": [
      "20894 rows of parcel_output after running residential developer model, 9253 unique parcel_id, the following fields: \n",
      "\n",
      "['Unnamed: 0', 'SDEM', 'ave_unit_size', 'building_cost', 'building_purchase_price', 'building_purchase_price_sqft', 'building_revenue', 'building_sqft', 'building_type', 'building_type_id', 'cat_id', 'coc_id', 'county', 'current_units', 'deed_restricted_units', 'fees', 'form', 'geom_id', 'inclusionary_units', 'job_spaces', 'juris', 'juris_coc', 'juris_ppa', 'juris_sesit', 'juris_tra', 'juris_trich', 'land_cost', 'max_dua', 'max_far', 'max_height', 'max_profit', 'max_profit_far', 'max_profit_per_sqft', 'min_max_fars', 'net_units', 'non_residential_rent', 'non_residential_sqft', 'oldest_building', 'parcel_id', 'parcel_size', 'parking_config', 'parking_ratio', 'pda_id', 'pda_pba40', 'pda_pba50', 'policy_based_revenue_reduction', 'ppa_id', 'preserved_units', 'redfin_sale_price', 'redfin_sale_year', 'residential', 'residential_price', 'residential_sales_price_sqft', 'residential_sqft', 'residential_units', 'return_on_cost', 'sesit_id', 'source', 'stories', 'subsidized', 'subsidized_units', 'superdistrict', 'total_cost', 'total_residential_units', 'total_sqft', 'tra_id', 'trich_id', 'vmt_nonres_cat', 'vmt_res_cat', 'year_built']\n"
     ]
    },
    {
     "name": "stderr",
     "output_type": "stream",
     "text": [
      "C:\\ProgramData\\Anaconda3\\envs\\geo_env\\lib\\site-packages\\IPython\\core\\interactiveshell.py:3457: DtypeWarning: Columns (1,9,10,12,20,40,42,59,66) have mixed types.Specify dtype option on import or set low_memory=False.\n",
      "  exec(code_obj, self.user_global_ns, self.user_ns)\n"
     ]
    }
   ],
   "source": [
    "# read the data\n",
    "resDev_np = pd.read_csv(os.path.join(folder, 'run290_parcel_output_afterReSDev_2015.csv'.format(runs['NP'], year)))\n",
    "print('{} rows of parcel_output after running residential developer model, \\\n",
    "{} unique parcel_id, the following fields: \\n\\n{}'.format(resDev_np.shape[0],\n",
    "                                                        len(resDev_np.parcel_id.unique()),\n",
    "                                                        list(resDev_np)))\n",
    "\n",
    "############# here, 'total_residential_units' is the count of unit before developing\n",
    "############# the question is: where is it from and when is this updated?"
   ]
  },
  {
   "cell_type": "code",
   "execution_count": 18,
   "id": "spread-browser",
   "metadata": {
    "scrolled": true
   },
   "outputs": [
    {
     "name": "stdout",
     "output_type": "stream",
     "text": [
      "read 47439 rows of parcel_output data X:\\bayarea_urbansim\\runs\\run290_parcel_output_afterReSDev_2050.csv, with 25878 unique parcel_id\n",
      "read 47181 rows of parcel_output data X:\\bayarea_urbansim\\runs\\run292_parcel_output_afterReSDev_2050.csv, with 25661 unique parcel_id\n"
     ]
    }
   ],
   "source": [
    "# NP\n",
    "resDev_np_file = os.path.join(folder, '{}_parcel_output_afterReSDev_{}.csv'.format(runs['NP'], year))\n",
    "resDev_parcel_np = summarize_parcel_output_by_parcel(resDev_np_file, ['residential_units'])\n",
    "\n",
    "# P\n",
    "resDev_p_file = os.path.join(folder, '{}_parcel_output_afterReSDev_{}.csv'.format(runs['P'], year))\n",
    "resDev_parcel_p = summarize_parcel_output_by_parcel(resDev_p_file, ['residential_units'])\n",
    "\n",
    "# merge P and NP and export\n",
    "resDev_parcel_np.columns = ['parcel_id'] + [x + '_NP' for x in list(resDev_parcel_np)[1:]]\n",
    "resDev_parcel_p.columns = ['parcel_id'] + [x + '_P' for x in list(resDev_parcel_p)[1:]]\n",
    "\n",
    "resDev_parcel_compare = resDev_parcel_np.merge(resDev_parcel_p, on='parcel_id', how='outer')\n",
    "resDev_parcel_compare.to_csv(os.path.join(export_f, 'resDevModel_by_parcel_{}.csv'.format(year)), index=False)"
   ]
  },
  {
   "cell_type": "markdown",
   "id": "unusual-indication",
   "metadata": {},
   "source": [
    "### \"rsh_simulate\" <a class=\"anchor\" id=\"rsh_simulate\"></a>"
   ]
  },
  {
   "cell_type": "code",
   "execution_count": 19,
   "id": "noted-effectiveness",
   "metadata": {},
   "outputs": [
    {
     "name": "stdout",
     "output_type": "stream",
     "text": [
      "read 4259931 rows of unit-level rsh_simulate result X:\\bayarea_urbansim\\runs\\run290_residential_units_rshSim_2050.csv\n",
      "read 1873606 rows of building_data X:\\bayarea_urbansim\\runs\\run290_building_data_2050.csv\n",
      "read 4261145 rows of unit-level rsh_simulate result X:\\bayarea_urbansim\\runs\\run292_residential_units_rshSim_2050.csv\n",
      "read 1873531 rows of building_data X:\\bayarea_urbansim\\runs\\run292_building_data_2050.csv\n"
     ]
    }
   ],
   "source": [
    "# NP\n",
    "rsh_simulate_np_file = os.path.join(folder, '{}_residential_units_rshSim_{}.csv'.format(runs['NP'], year))\n",
    "building_np_file = os.path.join(folder, '{}_building_data_{}.csv'.format(runs['NP'], year))\n",
    "rsh_simulate_parcel_np = summarize_rsh_simulate_result_by_parcel(rsh_simulate_np_file, building_np_file)\n",
    "\n",
    "# P\n",
    "rsh_simulate_p_file = os.path.join(folder, '{}_residential_units_rshSim_{}.csv'.format(runs['P'], year))\n",
    "building_p_file = os.path.join(folder, '{}_building_data_{}.csv'.format(runs['P'], year))\n",
    "rsh_simulate_parcel_p = summarize_rsh_simulate_result_by_parcel(rsh_simulate_p_file, building_p_file)\n",
    "\n",
    "\n",
    "# merge P and NP and export\n",
    "rsh_simulate_parcel_np.columns = ['parcel_id'] + [x + '_NP' for x in list(rsh_simulate_parcel_np)[1:]]\n",
    "rsh_simulate_parcel_p.columns = ['parcel_id'] + [x + '_P' for x in list(rsh_simulate_parcel_p)[1:]]\n",
    "\n",
    "rsh_simulate_parcel_compare = rsh_simulate_parcel_np.merge(rsh_simulate_parcel_p, on='parcel_id', how='outer')\n",
    "rsh_simulate_parcel_compare.to_csv(os.path.join(export_f, 'rsh_simulate_by_parcel_{}.csv'.format(year)), index=False)"
   ]
  },
  {
   "cell_type": "markdown",
   "id": "suitable-survey",
   "metadata": {},
   "source": [
    "### \"rrh_simulate\" <a class=\"anchor\" id=\"rrh_simulate\"></a>"
   ]
  },
  {
   "cell_type": "code",
   "execution_count": 20,
   "id": "loved-nomination",
   "metadata": {},
   "outputs": [
    {
     "name": "stdout",
     "output_type": "stream",
     "text": [
      "read 4259931 rows of unit-level rrh_simulate result X:\\bayarea_urbansim\\runs\\run290_residential_units_rrhSim_2050.csv\n",
      "read 1873606 rows of building_data X:\\bayarea_urbansim\\runs\\run290_building_data_2050.csv\n",
      "read 4261145 rows of unit-level rrh_simulate result X:\\bayarea_urbansim\\runs\\run292_residential_units_rrhSim_2050.csv\n",
      "read 1873531 rows of building_data X:\\bayarea_urbansim\\runs\\run292_building_data_2050.csv\n"
     ]
    }
   ],
   "source": [
    "# NP\n",
    "rrh_simulate_np_file = os.path.join(folder, '{}_residential_units_rrhSim_{}.csv'.format(runs['NP'], year))\n",
    "building_np_file = os.path.join(folder, '{}_building_data_{}.csv'.format(runs['NP'], year))\n",
    "rrh_simulate_parcel_np = summarize_rrh_simulate_result_by_parcel(rrh_simulate_np_file, building_np_file)\n",
    "\n",
    "# P\n",
    "rrh_simulate_p_file = os.path.join(folder, '{}_residential_units_rrhSim_{}.csv'.format(runs['P'], year))\n",
    "building_p_file = os.path.join(folder, '{}_building_data_{}.csv'.format(runs['P'], year))\n",
    "rrh_simulate_parcel_p = summarize_rrh_simulate_result_by_parcel(rrh_simulate_p_file, building_p_file)\n",
    "\n",
    "\n",
    "# merge P and NP and export\n",
    "rrh_simulate_parcel_np.columns = ['parcel_id'] + [x + '_NP' for x in list(rrh_simulate_parcel_np)[1:]]\n",
    "rrh_simulate_parcel_p.columns = ['parcel_id'] + [x + '_P' for x in list(rrh_simulate_parcel_p)[1:]]\n",
    "\n",
    "rrh_simulate_parcel_compare = rrh_simulate_parcel_np.merge(rrh_simulate_parcel_p, on='parcel_id', how='outer')\n",
    "rrh_simulate_parcel_compare.to_csv(os.path.join(export_f, 'rrh_simulate_by_parcel_{}.csv'.format(year)), index=False)"
   ]
  },
  {
   "cell_type": "code",
   "execution_count": null,
   "id": "coral-asthma",
   "metadata": {},
   "outputs": [],
   "source": []
  },
  {
   "cell_type": "markdown",
   "id": "downtown-savannah",
   "metadata": {},
   "source": [
    "### \"parcel_summary\" <a class=\"anchor\" id=\"parcel_summary\"></a>"
   ]
  },
  {
   "cell_type": "code",
   "execution_count": 21,
   "id": "hazardous-crossing",
   "metadata": {},
   "outputs": [
    {
     "name": "stdout",
     "output_type": "stream",
     "text": [
      "load 1956212 rows of parcel data X:\\bayarea_urbansim\\runs\\run290_parcel_data_2050.csv\n",
      "load 1956212 rows of parcel data X:\\bayarea_urbansim\\runs\\run292_parcel_data_2050.csv\n"
     ]
    },
    {
     "data": {
      "text/html": [
       "<div>\n",
       "<style scoped>\n",
       "    .dataframe tbody tr th:only-of-type {\n",
       "        vertical-align: middle;\n",
       "    }\n",
       "\n",
       "    .dataframe tbody tr th {\n",
       "        vertical-align: top;\n",
       "    }\n",
       "\n",
       "    .dataframe thead th {\n",
       "        text-align: right;\n",
       "    }\n",
       "</style>\n",
       "<table border=\"1\" class=\"dataframe\">\n",
       "  <thead>\n",
       "    <tr style=\"text-align: right;\">\n",
       "      <th></th>\n",
       "      <th>parcel_id</th>\n",
       "      <th>zoned_du_underbuild_NP</th>\n",
       "      <th>zoned_du_NP</th>\n",
       "      <th>tothh_NP</th>\n",
       "      <th>residential_units_NP</th>\n",
       "      <th>zoned_du_P</th>\n",
       "      <th>zoned_du_underbuild_P</th>\n",
       "      <th>tothh_P</th>\n",
       "      <th>residential_units_P</th>\n",
       "    </tr>\n",
       "  </thead>\n",
       "  <tbody>\n",
       "    <tr>\n",
       "      <th>0</th>\n",
       "      <td>229116</td>\n",
       "      <td>0</td>\n",
       "      <td>0.000000</td>\n",
       "      <td>0.0</td>\n",
       "      <td>0.0</td>\n",
       "      <td>0.000000</td>\n",
       "      <td>0</td>\n",
       "      <td>0.0</td>\n",
       "      <td>0.0</td>\n",
       "    </tr>\n",
       "    <tr>\n",
       "      <th>1</th>\n",
       "      <td>244166</td>\n",
       "      <td>0</td>\n",
       "      <td>0.000000</td>\n",
       "      <td>0.0</td>\n",
       "      <td>0.0</td>\n",
       "      <td>0.000000</td>\n",
       "      <td>0</td>\n",
       "      <td>0.0</td>\n",
       "      <td>0.0</td>\n",
       "    </tr>\n",
       "    <tr>\n",
       "      <th>2</th>\n",
       "      <td>202378</td>\n",
       "      <td>96</td>\n",
       "      <td>130.445563</td>\n",
       "      <td>33.0</td>\n",
       "      <td>34.0</td>\n",
       "      <td>130.445563</td>\n",
       "      <td>96</td>\n",
       "      <td>32.0</td>\n",
       "      <td>34.0</td>\n",
       "    </tr>\n",
       "    <tr>\n",
       "      <th>3</th>\n",
       "      <td>2004420</td>\n",
       "      <td>0</td>\n",
       "      <td>0.000000</td>\n",
       "      <td>0.0</td>\n",
       "      <td>0.0</td>\n",
       "      <td>0.000000</td>\n",
       "      <td>0</td>\n",
       "      <td>0.0</td>\n",
       "      <td>0.0</td>\n",
       "    </tr>\n",
       "    <tr>\n",
       "      <th>4</th>\n",
       "      <td>340332</td>\n",
       "      <td>14</td>\n",
       "      <td>14.289466</td>\n",
       "      <td>0.0</td>\n",
       "      <td>0.0</td>\n",
       "      <td>14.289466</td>\n",
       "      <td>14</td>\n",
       "      <td>0.0</td>\n",
       "      <td>0.0</td>\n",
       "    </tr>\n",
       "    <tr>\n",
       "      <th>...</th>\n",
       "      <td>...</td>\n",
       "      <td>...</td>\n",
       "      <td>...</td>\n",
       "      <td>...</td>\n",
       "      <td>...</td>\n",
       "      <td>...</td>\n",
       "      <td>...</td>\n",
       "      <td>...</td>\n",
       "      <td>...</td>\n",
       "    </tr>\n",
       "    <tr>\n",
       "      <th>1956207</th>\n",
       "      <td>782909</td>\n",
       "      <td>0</td>\n",
       "      <td>0.000000</td>\n",
       "      <td>0.0</td>\n",
       "      <td>0.0</td>\n",
       "      <td>0.000000</td>\n",
       "      <td>0</td>\n",
       "      <td>0.0</td>\n",
       "      <td>0.0</td>\n",
       "    </tr>\n",
       "    <tr>\n",
       "      <th>1956208</th>\n",
       "      <td>2054504</td>\n",
       "      <td>0</td>\n",
       "      <td>0.000000</td>\n",
       "      <td>0.0</td>\n",
       "      <td>0.0</td>\n",
       "      <td>0.000000</td>\n",
       "      <td>0</td>\n",
       "      <td>0.0</td>\n",
       "      <td>0.0</td>\n",
       "    </tr>\n",
       "    <tr>\n",
       "      <th>1956209</th>\n",
       "      <td>2054505</td>\n",
       "      <td>0</td>\n",
       "      <td>0.000000</td>\n",
       "      <td>1750.0</td>\n",
       "      <td>1843.0</td>\n",
       "      <td>0.000000</td>\n",
       "      <td>0</td>\n",
       "      <td>1768.0</td>\n",
       "      <td>1843.0</td>\n",
       "    </tr>\n",
       "    <tr>\n",
       "      <th>1956210</th>\n",
       "      <td>2054506</td>\n",
       "      <td>0</td>\n",
       "      <td>0.000000</td>\n",
       "      <td>0.0</td>\n",
       "      <td>0.0</td>\n",
       "      <td>0.000000</td>\n",
       "      <td>0</td>\n",
       "      <td>0.0</td>\n",
       "      <td>0.0</td>\n",
       "    </tr>\n",
       "    <tr>\n",
       "      <th>1956211</th>\n",
       "      <td>572927</td>\n",
       "      <td>0</td>\n",
       "      <td>0.000000</td>\n",
       "      <td>0.0</td>\n",
       "      <td>0.0</td>\n",
       "      <td>0.000000</td>\n",
       "      <td>0</td>\n",
       "      <td>0.0</td>\n",
       "      <td>0.0</td>\n",
       "    </tr>\n",
       "  </tbody>\n",
       "</table>\n",
       "<p>1956212 rows × 9 columns</p>\n",
       "</div>"
      ],
      "text/plain": [
       "         parcel_id  zoned_du_underbuild_NP  zoned_du_NP  tothh_NP  \\\n",
       "0           229116                       0     0.000000       0.0   \n",
       "1           244166                       0     0.000000       0.0   \n",
       "2           202378                      96   130.445563      33.0   \n",
       "3          2004420                       0     0.000000       0.0   \n",
       "4           340332                      14    14.289466       0.0   \n",
       "...            ...                     ...          ...       ...   \n",
       "1956207     782909                       0     0.000000       0.0   \n",
       "1956208    2054504                       0     0.000000       0.0   \n",
       "1956209    2054505                       0     0.000000    1750.0   \n",
       "1956210    2054506                       0     0.000000       0.0   \n",
       "1956211     572927                       0     0.000000       0.0   \n",
       "\n",
       "         residential_units_NP  zoned_du_P  zoned_du_underbuild_P  tothh_P  \\\n",
       "0                         0.0    0.000000                      0      0.0   \n",
       "1                         0.0    0.000000                      0      0.0   \n",
       "2                        34.0  130.445563                     96     32.0   \n",
       "3                         0.0    0.000000                      0      0.0   \n",
       "4                         0.0   14.289466                     14      0.0   \n",
       "...                       ...         ...                    ...      ...   \n",
       "1956207                   0.0    0.000000                      0      0.0   \n",
       "1956208                   0.0    0.000000                      0      0.0   \n",
       "1956209                1843.0    0.000000                      0   1768.0   \n",
       "1956210                   0.0    0.000000                      0      0.0   \n",
       "1956211                   0.0    0.000000                      0      0.0   \n",
       "\n",
       "         residential_units_P  \n",
       "0                        0.0  \n",
       "1                        0.0  \n",
       "2                       34.0  \n",
       "3                        0.0  \n",
       "4                        0.0  \n",
       "...                      ...  \n",
       "1956207                  0.0  \n",
       "1956208                  0.0  \n",
       "1956209               1843.0  \n",
       "1956210                  0.0  \n",
       "1956211                  0.0  \n",
       "\n",
       "[1956212 rows x 9 columns]"
      ]
     },
     "metadata": {},
     "output_type": "display_data"
    }
   ],
   "source": [
    "# NP parcel_data\n",
    "parcel_np_file = os.path.join(folder, '{}_parcel_data_{}.csv'.format(runs['NP'], year))\n",
    "parcel_np = load_housing_data_from_parcel(parcel_np_file,\n",
    "                                          ['tothh', 'zoned_du_underbuild', 'zoned_du',\n",
    "                                           'residential_units'])\n",
    "\n",
    "# P parcel_data\n",
    "parcel_p_file = os.path.join(folder, '{}_parcel_data_{}.csv'.format(runs['P'], year))\n",
    "parcel_p = load_housing_data_from_parcel(parcel_p_file,\n",
    "                                        ['tothh', 'zoned_du_underbuild', 'zoned_du',\n",
    "                                         'residential_units'])\n",
    "\n",
    "# merge P and NP and export\n",
    "parcel_np.columns = ['parcel_id'] + [x+'_NP' for x in list(parcel_np)[1:]]\n",
    "parcel_p.columns = ['parcel_id'] + [x+'_P' for x in list(parcel_p)[1:]]\n",
    "parcel_compare = parcel_np.merge(parcel_p, on='parcel_id', how='outer')\n",
    "display(parcel_compare)\n",
    "\n",
    "parcel_compare.to_csv(os.path.join(export_f, 'parcel_data_compare_{}.csv'.format(year)), index=False)"
   ]
  },
  {
   "cell_type": "code",
   "execution_count": null,
   "id": "08333831",
   "metadata": {},
   "outputs": [],
   "source": []
  },
  {
   "cell_type": "markdown",
   "id": "irish-entrepreneur",
   "metadata": {},
   "source": [
    "### \"building_summary\" <a class=\"anchor\" id=\"building_summary\"></a>"
   ]
  },
  {
   "cell_type": "code",
   "execution_count": 22,
   "id": "introductory-european",
   "metadata": {
    "scrolled": true
   },
   "outputs": [
    {
     "name": "stdout",
     "output_type": "stream",
     "text": [
      "read 1873606 building_data X:\\bayarea_urbansim\\runs\\run290_building_data_2050.csv, with 1850343 unique parcel_id\n"
     ]
    },
    {
     "name": "stderr",
     "output_type": "stream",
     "text": [
      "C:\\ProgramData\\Anaconda3\\envs\\geo_env\\lib\\site-packages\\pandas\\core\\frame.py:5047: SettingWithCopyWarning: \n",
      "A value is trying to be set on a copy of a slice from a DataFrame\n",
      "\n",
      "See the caveats in the documentation: https://pandas.pydata.org/pandas-docs/stable/user_guide/indexing.html#returning-a-view-versus-a-copy\n",
      "  errors=errors,\n"
     ]
    },
    {
     "name": "stdout",
     "output_type": "stream",
     "text": [
      "1850343\n"
     ]
    },
    {
     "data": {
      "text/html": [
       "<div>\n",
       "<style scoped>\n",
       "    .dataframe tbody tr th:only-of-type {\n",
       "        vertical-align: middle;\n",
       "    }\n",
       "\n",
       "    .dataframe tbody tr th {\n",
       "        vertical-align: top;\n",
       "    }\n",
       "\n",
       "    .dataframe thead th {\n",
       "        text-align: right;\n",
       "    }\n",
       "</style>\n",
       "<table border=\"1\" class=\"dataframe\">\n",
       "  <thead>\n",
       "    <tr style=\"text-align: right;\">\n",
       "      <th></th>\n",
       "      <th>parcel_id</th>\n",
       "      <th>resUnits_dev</th>\n",
       "      <th>unit_price_mean_dev</th>\n",
       "      <th>resUnits_nondev</th>\n",
       "      <th>unit_price_mean_nondev</th>\n",
       "    </tr>\n",
       "  </thead>\n",
       "  <tbody>\n",
       "    <tr>\n",
       "      <th>0</th>\n",
       "      <td>26</td>\n",
       "      <td>7.0</td>\n",
       "      <td>661069.099758</td>\n",
       "      <td>NaN</td>\n",
       "      <td>NaN</td>\n",
       "    </tr>\n",
       "    <tr>\n",
       "      <th>1</th>\n",
       "      <td>98</td>\n",
       "      <td>439.0</td>\n",
       "      <td>727500.781104</td>\n",
       "      <td>NaN</td>\n",
       "      <td>NaN</td>\n",
       "    </tr>\n",
       "    <tr>\n",
       "      <th>2</th>\n",
       "      <td>181</td>\n",
       "      <td>435.0</td>\n",
       "      <td>803843.192840</td>\n",
       "      <td>NaN</td>\n",
       "      <td>NaN</td>\n",
       "    </tr>\n",
       "    <tr>\n",
       "      <th>3</th>\n",
       "      <td>191</td>\n",
       "      <td>0.0</td>\n",
       "      <td>NaN</td>\n",
       "      <td>NaN</td>\n",
       "      <td>NaN</td>\n",
       "    </tr>\n",
       "    <tr>\n",
       "      <th>4</th>\n",
       "      <td>193</td>\n",
       "      <td>0.0</td>\n",
       "      <td>NaN</td>\n",
       "      <td>NaN</td>\n",
       "      <td>NaN</td>\n",
       "    </tr>\n",
       "  </tbody>\n",
       "</table>\n",
       "</div>"
      ],
      "text/plain": [
       "   parcel_id  resUnits_dev  unit_price_mean_dev  resUnits_nondev  \\\n",
       "0         26           7.0        661069.099758              NaN   \n",
       "1         98         439.0        727500.781104              NaN   \n",
       "2        181         435.0        803843.192840              NaN   \n",
       "3        191           0.0                  NaN              NaN   \n",
       "4        193           0.0                  NaN              NaN   \n",
       "\n",
       "   unit_price_mean_nondev  \n",
       "0                     NaN  \n",
       "1                     NaN  \n",
       "2                     NaN  \n",
       "3                     NaN  \n",
       "4                     NaN  "
      ]
     },
     "metadata": {},
     "output_type": "display_data"
    },
    {
     "name": "stdout",
     "output_type": "stream",
     "text": [
      "read 1873531 building_data X:\\bayarea_urbansim\\runs\\run292_building_data_2050.csv, with 1850320 unique parcel_id\n"
     ]
    },
    {
     "name": "stderr",
     "output_type": "stream",
     "text": [
      "C:\\ProgramData\\Anaconda3\\envs\\geo_env\\lib\\site-packages\\pandas\\core\\frame.py:5047: SettingWithCopyWarning: \n",
      "A value is trying to be set on a copy of a slice from a DataFrame\n",
      "\n",
      "See the caveats in the documentation: https://pandas.pydata.org/pandas-docs/stable/user_guide/indexing.html#returning-a-view-versus-a-copy\n",
      "  errors=errors,\n"
     ]
    },
    {
     "name": "stdout",
     "output_type": "stream",
     "text": [
      "1850320\n"
     ]
    },
    {
     "data": {
      "text/html": [
       "<div>\n",
       "<style scoped>\n",
       "    .dataframe tbody tr th:only-of-type {\n",
       "        vertical-align: middle;\n",
       "    }\n",
       "\n",
       "    .dataframe tbody tr th {\n",
       "        vertical-align: top;\n",
       "    }\n",
       "\n",
       "    .dataframe thead th {\n",
       "        text-align: right;\n",
       "    }\n",
       "</style>\n",
       "<table border=\"1\" class=\"dataframe\">\n",
       "  <thead>\n",
       "    <tr style=\"text-align: right;\">\n",
       "      <th></th>\n",
       "      <th>parcel_id</th>\n",
       "      <th>resUnits_dev</th>\n",
       "      <th>unit_price_mean_dev</th>\n",
       "      <th>resUnits_nondev</th>\n",
       "      <th>unit_price_mean_nondev</th>\n",
       "    </tr>\n",
       "  </thead>\n",
       "  <tbody>\n",
       "    <tr>\n",
       "      <th>0</th>\n",
       "      <td>104</td>\n",
       "      <td>143.0</td>\n",
       "      <td>730923.178547</td>\n",
       "      <td>NaN</td>\n",
       "      <td>NaN</td>\n",
       "    </tr>\n",
       "    <tr>\n",
       "      <th>1</th>\n",
       "      <td>191</td>\n",
       "      <td>0.0</td>\n",
       "      <td>NaN</td>\n",
       "      <td>NaN</td>\n",
       "      <td>NaN</td>\n",
       "    </tr>\n",
       "    <tr>\n",
       "      <th>2</th>\n",
       "      <td>192</td>\n",
       "      <td>124.0</td>\n",
       "      <td>813936.463202</td>\n",
       "      <td>NaN</td>\n",
       "      <td>NaN</td>\n",
       "    </tr>\n",
       "    <tr>\n",
       "      <th>3</th>\n",
       "      <td>193</td>\n",
       "      <td>0.0</td>\n",
       "      <td>NaN</td>\n",
       "      <td>NaN</td>\n",
       "      <td>NaN</td>\n",
       "    </tr>\n",
       "    <tr>\n",
       "      <th>4</th>\n",
       "      <td>195</td>\n",
       "      <td>88.0</td>\n",
       "      <td>811412.074314</td>\n",
       "      <td>NaN</td>\n",
       "      <td>NaN</td>\n",
       "    </tr>\n",
       "  </tbody>\n",
       "</table>\n",
       "</div>"
      ],
      "text/plain": [
       "   parcel_id  resUnits_dev  unit_price_mean_dev  resUnits_nondev  \\\n",
       "0        104         143.0        730923.178547              NaN   \n",
       "1        191           0.0                  NaN              NaN   \n",
       "2        192         124.0        813936.463202              NaN   \n",
       "3        193           0.0                  NaN              NaN   \n",
       "4        195          88.0        811412.074314              NaN   \n",
       "\n",
       "   unit_price_mean_nondev  \n",
       "0                     NaN  \n",
       "1                     NaN  \n",
       "2                     NaN  \n",
       "3                     NaN  \n",
       "4                     NaN  "
      ]
     },
     "metadata": {},
     "output_type": "display_data"
    },
    {
     "data": {
      "text/html": [
       "<div>\n",
       "<style scoped>\n",
       "    .dataframe tbody tr th:only-of-type {\n",
       "        vertical-align: middle;\n",
       "    }\n",
       "\n",
       "    .dataframe tbody tr th {\n",
       "        vertical-align: top;\n",
       "    }\n",
       "\n",
       "    .dataframe thead th {\n",
       "        text-align: right;\n",
       "    }\n",
       "</style>\n",
       "<table border=\"1\" class=\"dataframe\">\n",
       "  <thead>\n",
       "    <tr style=\"text-align: right;\">\n",
       "      <th></th>\n",
       "      <th>parcel_id</th>\n",
       "      <th>resUnits_dev_NP</th>\n",
       "      <th>unit_price_mean_dev_NP</th>\n",
       "      <th>resUnits_nondev_NP</th>\n",
       "      <th>unit_price_mean_nondev_NP</th>\n",
       "      <th>resUnits_dev_P</th>\n",
       "      <th>unit_price_mean_dev_P</th>\n",
       "      <th>resUnits_nondev_P</th>\n",
       "      <th>unit_price_mean_nondev_P</th>\n",
       "    </tr>\n",
       "  </thead>\n",
       "  <tbody>\n",
       "    <tr>\n",
       "      <th>0</th>\n",
       "      <td>26</td>\n",
       "      <td>7.0</td>\n",
       "      <td>661069.099758</td>\n",
       "      <td>NaN</td>\n",
       "      <td>NaN</td>\n",
       "      <td>NaN</td>\n",
       "      <td>NaN</td>\n",
       "      <td>0.0</td>\n",
       "      <td>NaN</td>\n",
       "    </tr>\n",
       "    <tr>\n",
       "      <th>1</th>\n",
       "      <td>98</td>\n",
       "      <td>439.0</td>\n",
       "      <td>727500.781104</td>\n",
       "      <td>NaN</td>\n",
       "      <td>NaN</td>\n",
       "      <td>NaN</td>\n",
       "      <td>NaN</td>\n",
       "      <td>0.0</td>\n",
       "      <td>NaN</td>\n",
       "    </tr>\n",
       "    <tr>\n",
       "      <th>2</th>\n",
       "      <td>181</td>\n",
       "      <td>435.0</td>\n",
       "      <td>803843.192840</td>\n",
       "      <td>NaN</td>\n",
       "      <td>NaN</td>\n",
       "      <td>NaN</td>\n",
       "      <td>NaN</td>\n",
       "      <td>0.0</td>\n",
       "      <td>NaN</td>\n",
       "    </tr>\n",
       "    <tr>\n",
       "      <th>3</th>\n",
       "      <td>191</td>\n",
       "      <td>0.0</td>\n",
       "      <td>NaN</td>\n",
       "      <td>NaN</td>\n",
       "      <td>NaN</td>\n",
       "      <td>0.0</td>\n",
       "      <td>NaN</td>\n",
       "      <td>NaN</td>\n",
       "      <td>NaN</td>\n",
       "    </tr>\n",
       "    <tr>\n",
       "      <th>4</th>\n",
       "      <td>193</td>\n",
       "      <td>0.0</td>\n",
       "      <td>NaN</td>\n",
       "      <td>NaN</td>\n",
       "      <td>NaN</td>\n",
       "      <td>0.0</td>\n",
       "      <td>NaN</td>\n",
       "      <td>NaN</td>\n",
       "      <td>NaN</td>\n",
       "    </tr>\n",
       "  </tbody>\n",
       "</table>\n",
       "</div>"
      ],
      "text/plain": [
       "   parcel_id  resUnits_dev_NP  unit_price_mean_dev_NP  resUnits_nondev_NP  \\\n",
       "0         26              7.0           661069.099758                 NaN   \n",
       "1         98            439.0           727500.781104                 NaN   \n",
       "2        181            435.0           803843.192840                 NaN   \n",
       "3        191              0.0                     NaN                 NaN   \n",
       "4        193              0.0                     NaN                 NaN   \n",
       "\n",
       "   unit_price_mean_nondev_NP  resUnits_dev_P  unit_price_mean_dev_P  \\\n",
       "0                        NaN             NaN                    NaN   \n",
       "1                        NaN             NaN                    NaN   \n",
       "2                        NaN             NaN                    NaN   \n",
       "3                        NaN             0.0                    NaN   \n",
       "4                        NaN             0.0                    NaN   \n",
       "\n",
       "   resUnits_nondev_P  unit_price_mean_nondev_P  \n",
       "0                0.0                       NaN  \n",
       "1                0.0                       NaN  \n",
       "2                0.0                       NaN  \n",
       "3                NaN                       NaN  \n",
       "4                NaN                       NaN  "
      ]
     },
     "metadata": {},
     "output_type": "display_data"
    }
   ],
   "source": [
    "# NP\n",
    "blg_np_file = os.path.join(folder, '{}_building_data_{}.csv'.format(runs['NP'], year))\n",
    "blg_parcel_np = summarize_units_by_source_from_blg(blg_np_file)\n",
    "print(blg_parcel_np.shape[0])\n",
    "display(blg_parcel_np.head())\n",
    "\n",
    "# P\n",
    "blg_p_file = os.path.join(folder, '{}_building_data_{}.csv'.format(runs['P'], year))\n",
    "blg_parcel_p = summarize_units_by_source_from_blg(blg_p_file)\n",
    "print(blg_parcel_p.shape[0])\n",
    "display(blg_parcel_p.head())\n",
    "\n",
    "# merge P and NP and export\n",
    "blg_parcel_np.columns = ['parcel_id'] + [x+'_NP' for x in list(blg_parcel_np)[1:]]\n",
    "blg_parcel_p.columns = ['parcel_id'] + [x+'_P' for x in list(blg_parcel_p)[1:]]\n",
    "blg_parcel_compare = blg_parcel_np.merge(blg_parcel_p, on='parcel_id', how='outer')\n",
    "display(blg_parcel_compare.head())\n",
    "\n",
    "blg_parcel_compare.to_csv(os.path.join(export_f, 'building_data_parcel_compare_{}.csv'.format(year)), index=False)"
   ]
  },
  {
   "cell_type": "code",
   "execution_count": null,
   "id": "bede1955",
   "metadata": {},
   "outputs": [],
   "source": []
  }
 ],
 "metadata": {
  "kernelspec": {
   "display_name": "Python 3",
   "language": "python",
   "name": "python3"
  },
  "language_info": {
   "codemirror_mode": {
    "name": "ipython",
    "version": 3
   },
   "file_extension": ".py",
   "mimetype": "text/x-python",
   "name": "python",
   "nbconvert_exporter": "python",
   "pygments_lexer": "ipython3",
   "version": "3.7.6"
  }
 },
 "nbformat": 4,
 "nbformat_minor": 5
}
