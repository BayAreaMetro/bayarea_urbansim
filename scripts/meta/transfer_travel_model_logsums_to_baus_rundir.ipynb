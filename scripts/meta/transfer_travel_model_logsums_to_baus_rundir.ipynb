{
 "cells": [
  {
   "cell_type": "markdown",
   "id": "8ed8e01e",
   "metadata": {},
   "source": [
    "# Rename Travel Models BAUS logsums\n",
    "\n",
    "\n",
    "We get TM based logsums with generic names (subzone_logsums_for_BAUS.csv), where the identifying details are embedded in the filename. We use that to come up with a BAUS consistent name, adding relevant details to the file name string."
   ]
  },
  {
   "cell_type": "code",
   "execution_count": 6,
   "id": "2a8e2e06",
   "metadata": {},
   "outputs": [],
   "source": [
    "import pandas as pd\n",
    "import pathlib\n",
    "import os\n",
    "\n",
    "import shutil"
   ]
  },
  {
   "cell_type": "code",
   "execution_count": 7,
   "id": "9e5effc4",
   "metadata": {},
   "outputs": [
    {
     "data": {
      "text/plain": [
       "PosixPath('/Volumes/Data/Models')"
      ]
     },
     "execution_count": 7,
     "metadata": {},
     "output_type": "execute_result"
    }
   ],
   "source": [
    "M_DRIVE = pathlib.Path(\"/Volumes/Data/Models\") if os.name != \"nt\" else \"M:/\"\n",
    "M_DRIVE"
   ]
  },
  {
   "cell_type": "code",
   "execution_count": 8,
   "id": "b74131bb",
   "metadata": {},
   "outputs": [],
   "source": [
    "this_baus_path = M_DRIVE / 'Application' / 'Model One' / 'RTP2025' / \\\n",
    "    'Blueprint' / '2035_TM160_DBP_Plan_06b' / 'OUTPUT' / \\\n",
    "    'logsums' / 'subzone_logsums_for_BAUS.csv'\n",
    "#baus_subzone = pd.read_csv(this_baus_path)"
   ]
  },
  {
   "cell_type": "code",
   "execution_count": 9,
   "id": "d82c37f2",
   "metadata": {},
   "outputs": [],
   "source": [
    "this_tm_path = M_DRIVE / 'urban_modeling' / 'baus' / 'BAUS Inputs' / 'accessibility' / \\\n",
    "    'travel_model' / 'subzone_logsums_for_BAUS_PBA50Plus_DBP_v03_2050.csv'\n",
    "#tm_subzone = pd.read_csv(this_tm_path)"
   ]
  },
  {
   "cell_type": "code",
   "execution_count": 10,
   "id": "45111830",
   "metadata": {},
   "outputs": [
    {
     "data": {
      "text/plain": [
       "PosixPath('/Volumes/Data/Models/Application/Model One/RTP2025/Blueprint')"
      ]
     },
     "execution_count": 10,
     "metadata": {},
     "output_type": "execute_result"
    }
   ],
   "source": [
    "TM_ROOT = M_DRIVE / 'Application' / 'Model One' / 'RTP2025' / 'Blueprint'\n",
    "TM_ROOT"
   ]
  },
  {
   "cell_type": "code",
   "execution_count": 11,
   "id": "0d8fe21c",
   "metadata": {},
   "outputs": [
    {
     "data": {
      "text/plain": [
       "PosixPath('/Volumes/Data/Models/urban_modeling/baus/BAUS Inputs/accessibility/travel_model')"
      ]
     },
     "execution_count": 11,
     "metadata": {},
     "output_type": "execute_result"
    }
   ],
   "source": [
    "BAUS_ROOT = M_DRIVE / 'urban_modeling' / 'baus' / 'BAUS Inputs' / 'accessibility' / 'travel_model'\n",
    "BAUS_ROOT"
   ]
  },
  {
   "cell_type": "markdown",
   "id": "507d2f67",
   "metadata": {},
   "source": [
    "Lisa's files mentioned here: https://app.asana.com/0/1204085012544660/1206924345929686/1207126468960655/f\n",
    "\n",
    "`M:\\Application\\Model One\\RTP2025\\Blueprint\\[model_run]\\OUTPUT\\logsums`\n",
    "\n",
    "model_runs:\n",
    "\n",
    "    2035_TM160_DBP_Plan_06b\n",
    "    2050_TM160_DBP_Plan_06b\n",
    "    2035_TM160_DBP_NoProject_05b\n",
    "    2050_TM160_DBP_NoProject_05b\n",
    "    \n",
    "2025 FBP runs in [PBA50+ FBP Handoff: Travel Model to BAUS](https://app.asana.com/1/11860278793487/project/1203879112191908/task/1210039190290495?focus=true)\n",
    "\n",
    "    2035_TM161_FBP_NoProject_13\n",
    "    2050_TM161_FBP_NoProject_02\n",
    "    2035_TM161_FBP_Plan_13\n",
    "    2050_TM161_FBP_Plan_06    \n",
    "    \n",
    "    \n",
    "`M:\\Application\\Model One\\RTP2025\\Blueprint\\[travel model run ID]\\OUTPUT\\logsums\\`\n",
    "\n",
    "And they are:\n",
    "* subzone_logsums_for_BAUS.csv\n",
    "* taz_logsums_for_BAUS.csv\n",
    "\n",
    "Example:\n",
    "* `M:\\Application\\Model One\\RTP2025\\Blueprint\\2035_TM161_FBP_Plan_13\\OUTPUT\\logsums\\subzone_logsums_for_BAUS.csv`\n",
    "* `M:\\Application\\Model One\\RTP2025\\Blueprint\\2035_TM161_FBP_Plan_13\\OUTPUT\\logsums\\taz_logsums_for_BAUS.csv`"
   ]
  },
  {
   "cell_type": "code",
   "execution_count": 23,
   "id": "23a94633",
   "metadata": {},
   "outputs": [],
   "source": [
    "# set a template for TM input file and for BAUS output file\n",
    "\n",
    "file_mapping_abstract = {'tm_template': '{year}_{tm_version}_FBP_{tm_variant}_{run_num}/OUTPUT/logsums/subzone_logsums_for_BAUS.csv',\n",
    "                         'baus_template': 'subzone_logsums_for_BAUS_PBA50Plus_{baus_variant}_{run_num}_{year}.csv',\n",
    "                         }"
   ]
  },
  {
   "cell_type": "code",
   "execution_count": 27,
   "id": "11116fa2",
   "metadata": {},
   "outputs": [],
   "source": [
    "# define the key parameters for the file names - input and output\n",
    "\n",
    "# DBP version\n",
    "kwarg_lst = [\n",
    "    {'year': 2035,\n",
    "     'tm_version': 'TM160',\n",
    "     'tm_variant': 'NoProject',\n",
    "     'baus_variant': 'NP',\n",
    "     'run_num': '05b'},\n",
    "\n",
    "    {'year': 2050,\n",
    "     'tm_version': 'TM160',\n",
    "     'tm_variant': 'NoProject',\n",
    "     'baus_variant': 'NP',\n",
    "     'run_num': '05b'},\n",
    "\n",
    "    {'year': 2035,\n",
    "     'tm_version': 'TM160',\n",
    "     'tm_variant': 'Plan',\n",
    "     'baus_variant': 'DBP',\n",
    "     'run_num': '06b'},\n",
    "\n",
    "    {'year': 2050,\n",
    "     'tm_version': 'TM160',\n",
    "     'tm_variant': 'Plan',\n",
    "     'baus_variant': 'DBP',\n",
    "     'run_num': '06b'}\n",
    "]\n",
    "\n",
    "# updated for FBP\n",
    "\n",
    "kwarg_lst = [\n",
    "    {'year': 2035,\n",
    "     'tm_version': 'TM161',\n",
    "     'tm_variant': 'Plan',\n",
    "     'baus_variant': 'FBP',\n",
    "     'run_num': '13'},\n",
    "    {'year': 2050,\n",
    "     'tm_version': 'TM161',\n",
    "     'tm_variant': 'Plan',\n",
    "     'baus_variant': 'FBP',\n",
    "     'run_num': '06'},\n",
    "    {'year': 2035,\n",
    "     'tm_version': 'TM161',\n",
    "     'tm_variant': 'NoProject',\n",
    "     'baus_variant': 'NP',\n",
    "     'run_num': '13'},\n",
    "\n",
    "    {'year': 2050,\n",
    "     'tm_version': 'TM161',\n",
    "     'tm_variant': 'NoProject',\n",
    "     'baus_variant': 'NP',\n",
    "     'run_num': '02'},\n",
    "]"
   ]
  },
  {
   "cell_type": "code",
   "execution_count": 28,
   "id": "2a4dd8ef",
   "metadata": {},
   "outputs": [],
   "source": [
    "# define a convenience function for constructing the path from the parameters\n",
    "def file_path_constructor(kind, root, **kwargs):\n",
    "    file = file_mapping_abstract[kind].format(**kwargs)\n",
    "\n",
    "    full_path = root / file\n",
    "    return full_path"
   ]
  },
  {
   "cell_type": "code",
   "execution_count": 30,
   "id": "f18143a3",
   "metadata": {},
   "outputs": [
    {
     "name": "stdout",
     "output_type": "stream",
     "text": [
      "Copying:\t/Volumes/Data/Models/Application/Model One/RTP2025/Blueprint/2035_TM161_FBP_Plan_13/OUTPUT/logsums/subzone_logsums_for_BAUS.csv to subzone_logsums_for_BAUS_PBA50Plus_FBP_13_2035.csv\n",
      "Copying:\t/Volumes/Data/Models/Application/Model One/RTP2025/Blueprint/2050_TM161_FBP_Plan_06/OUTPUT/logsums/subzone_logsums_for_BAUS.csv to subzone_logsums_for_BAUS_PBA50Plus_FBP_06_2050.csv\n",
      "Copying:\t/Volumes/Data/Models/Application/Model One/RTP2025/Blueprint/2035_TM161_FBP_NoProject_13/OUTPUT/logsums/subzone_logsums_for_BAUS.csv to subzone_logsums_for_BAUS_PBA50Plus_NP_13_2035.csv\n",
      "Copying:\t/Volumes/Data/Models/Application/Model One/RTP2025/Blueprint/2050_TM161_FBP_NoProject_02/OUTPUT/logsums/subzone_logsums_for_BAUS.csv to subzone_logsums_for_BAUS_PBA50Plus_NP_02_2050.csv\n"
     ]
    }
   ],
   "source": [
    "# loop through the list of parameters - currently four files so four dicts of parameters\n",
    "# and path those to the path constructor - each set gets us both an input and output file\n",
    "# so we copy from source to destination\n",
    "\n",
    "for kwargs in kwarg_lst:\n",
    "    tm_path = file_path_constructor(kind='tm_template', root=TM_ROOT, **kwargs)\n",
    "\n",
    "    baus_path = file_path_constructor(\n",
    "        kind='baus_template', root=BAUS_ROOT, **kwargs)\n",
    "\n",
    "    print(f'Copying:\\t{tm_path} to {baus_path.name}')\n",
    "    shutil.copyfile(tm_path, baus_path)"
   ]
  },
  {
   "cell_type": "code",
   "execution_count": 37,
   "id": "230afa17",
   "metadata": {},
   "outputs": [
    {
     "data": {
      "text/html": [
       "<div>\n",
       "<style scoped>\n",
       "    .dataframe tbody tr th:only-of-type {\n",
       "        vertical-align: middle;\n",
       "    }\n",
       "\n",
       "    .dataframe tbody tr th {\n",
       "        vertical-align: top;\n",
       "    }\n",
       "\n",
       "    .dataframe thead tr th {\n",
       "        text-align: left;\n",
       "    }\n",
       "</style>\n",
       "<table border=\"1\" class=\"dataframe\">\n",
       "  <thead>\n",
       "    <tr>\n",
       "      <th></th>\n",
       "      <th></th>\n",
       "      <th colspan=\"2\" halign=\"left\">mandatory_logsum</th>\n",
       "      <th colspan=\"2\" halign=\"left\">nonmandatory_logsum</th>\n",
       "      <th colspan=\"2\" halign=\"left\">combo_logsum_prescale</th>\n",
       "      <th colspan=\"2\" halign=\"left\">combo_logsum</th>\n",
       "    </tr>\n",
       "    <tr>\n",
       "      <th></th>\n",
       "      <th></th>\n",
       "      <th>03</th>\n",
       "      <th>06b</th>\n",
       "      <th>03</th>\n",
       "      <th>06b</th>\n",
       "      <th>03</th>\n",
       "      <th>06b</th>\n",
       "      <th>03</th>\n",
       "      <th>06b</th>\n",
       "    </tr>\n",
       "  </thead>\n",
       "  <tbody>\n",
       "    <tr>\n",
       "      <th rowspan=\"2\" valign=\"top\">mandatory_logsum</th>\n",
       "      <th>03</th>\n",
       "      <td>1.000000</td>\n",
       "      <td>0.960905</td>\n",
       "      <td>0.835601</td>\n",
       "      <td>0.824431</td>\n",
       "      <td>0.972729</td>\n",
       "      <td>0.956932</td>\n",
       "      <td>0.973249</td>\n",
       "      <td>0.957468</td>\n",
       "    </tr>\n",
       "    <tr>\n",
       "      <th>06b</th>\n",
       "      <td>0.960905</td>\n",
       "      <td>1.000000</td>\n",
       "      <td>0.821866</td>\n",
       "      <td>0.790513</td>\n",
       "      <td>0.942694</td>\n",
       "      <td>0.968391</td>\n",
       "      <td>0.942953</td>\n",
       "      <td>0.968839</td>\n",
       "    </tr>\n",
       "    <tr>\n",
       "      <th rowspan=\"2\" valign=\"top\">nonmandatory_logsum</th>\n",
       "      <th>03</th>\n",
       "      <td>0.835601</td>\n",
       "      <td>0.821866</td>\n",
       "      <td>1.000000</td>\n",
       "      <td>0.990634</td>\n",
       "      <td>0.940229</td>\n",
       "      <td>0.934746</td>\n",
       "      <td>0.938638</td>\n",
       "      <td>0.932773</td>\n",
       "    </tr>\n",
       "    <tr>\n",
       "      <th>06b</th>\n",
       "      <td>0.824431</td>\n",
       "      <td>0.790513</td>\n",
       "      <td>0.990634</td>\n",
       "      <td>1.000000</td>\n",
       "      <td>0.929350</td>\n",
       "      <td>0.918293</td>\n",
       "      <td>0.927744</td>\n",
       "      <td>0.916276</td>\n",
       "    </tr>\n",
       "    <tr>\n",
       "      <th rowspan=\"2\" valign=\"top\">combo_logsum_prescale</th>\n",
       "      <th>03</th>\n",
       "      <td>0.972729</td>\n",
       "      <td>0.942694</td>\n",
       "      <td>0.940229</td>\n",
       "      <td>0.929350</td>\n",
       "      <td>1.000000</td>\n",
       "      <td>0.987892</td>\n",
       "      <td>0.999650</td>\n",
       "      <td>0.987391</td>\n",
       "    </tr>\n",
       "    <tr>\n",
       "      <th>06b</th>\n",
       "      <td>0.956932</td>\n",
       "      <td>0.968391</td>\n",
       "      <td>0.934746</td>\n",
       "      <td>0.918293</td>\n",
       "      <td>0.987892</td>\n",
       "      <td>1.000000</td>\n",
       "      <td>0.987406</td>\n",
       "      <td>0.999468</td>\n",
       "    </tr>\n",
       "    <tr>\n",
       "      <th rowspan=\"2\" valign=\"top\">combo_logsum</th>\n",
       "      <th>03</th>\n",
       "      <td>0.973249</td>\n",
       "      <td>0.942953</td>\n",
       "      <td>0.938638</td>\n",
       "      <td>0.927744</td>\n",
       "      <td>0.999650</td>\n",
       "      <td>0.987406</td>\n",
       "      <td>1.000000</td>\n",
       "      <td>0.987763</td>\n",
       "    </tr>\n",
       "    <tr>\n",
       "      <th>06b</th>\n",
       "      <td>0.957468</td>\n",
       "      <td>0.968839</td>\n",
       "      <td>0.932773</td>\n",
       "      <td>0.916276</td>\n",
       "      <td>0.987391</td>\n",
       "      <td>0.999468</td>\n",
       "      <td>0.987763</td>\n",
       "      <td>1.000000</td>\n",
       "    </tr>\n",
       "  </tbody>\n",
       "</table>\n",
       "</div>"
      ],
      "text/plain": [
       "                          mandatory_logsum           nonmandatory_logsum  \\\n",
       "                                        03       06b                  03   \n",
       "mandatory_logsum      03          1.000000  0.960905            0.835601   \n",
       "                      06b         0.960905  1.000000            0.821866   \n",
       "nonmandatory_logsum   03          0.835601  0.821866            1.000000   \n",
       "                      06b         0.824431  0.790513            0.990634   \n",
       "combo_logsum_prescale 03          0.972729  0.942694            0.940229   \n",
       "                      06b         0.956932  0.968391            0.934746   \n",
       "combo_logsum          03          0.973249  0.942953            0.938638   \n",
       "                      06b         0.957468  0.968839            0.932773   \n",
       "\n",
       "                                    combo_logsum_prescale            \\\n",
       "                                06b                    03       06b   \n",
       "mandatory_logsum      03   0.824431              0.972729  0.956932   \n",
       "                      06b  0.790513              0.942694  0.968391   \n",
       "nonmandatory_logsum   03   0.990634              0.940229  0.934746   \n",
       "                      06b  1.000000              0.929350  0.918293   \n",
       "combo_logsum_prescale 03   0.929350              1.000000  0.987892   \n",
       "                      06b  0.918293              0.987892  1.000000   \n",
       "combo_logsum          03   0.927744              0.999650  0.987406   \n",
       "                      06b  0.916276              0.987391  0.999468   \n",
       "\n",
       "                          combo_logsum            \n",
       "                                    03       06b  \n",
       "mandatory_logsum      03      0.973249  0.957468  \n",
       "                      06b     0.942953  0.968839  \n",
       "nonmandatory_logsum   03      0.938638  0.932773  \n",
       "                      06b     0.927744  0.916276  \n",
       "combo_logsum_prescale 03      0.999650  0.987391  \n",
       "                      06b     0.987406  0.999468  \n",
       "combo_logsum          03      1.000000  0.987763  \n",
       "                      06b     0.987763  1.000000  "
      ]
     },
     "execution_count": 37,
     "metadata": {},
     "output_type": "execute_result"
    }
   ],
   "source": [
    "# So, how much do these align / vary between NP / FBP?\n",
    "\n",
    "ls2 = pd.read_csv('/Volumes/Data/Models/urban_modeling/baus/BAUS Inputs/accessibility/travel_model/subzone_logsums_for_BAUS_PBA50Plus_NP_02_2050.csv')\n",
    "ls1 = pd.read_csv('/Volumes/Data/Models/urban_modeling/baus/BAUS Inputs/accessibility/travel_model/subzone_logsums_for_BAUS_PBA50Plus_FBP_06_2050.csv')\n",
    "\n",
    "correl = pd.concat([\n",
    "    ls1.set_index('taz_subzone').filter(regex='logs'),\n",
    "    ls2.set_index('taz_subzone').filter(regex='logs')],keys=['03','06b']).unstack(0).corr()\n",
    "\n",
    "correl"
   ]
  },
  {
   "cell_type": "code",
   "execution_count": null,
   "id": "9d60f7ee",
   "metadata": {},
   "outputs": [],
   "source": []
  }
 ],
 "metadata": {
  "kernelspec": {
   "display_name": "Python 3 (ipykernel)",
   "language": "python",
   "name": "python3"
  },
  "language_info": {
   "codemirror_mode": {
    "name": "ipython",
    "version": 3
   },
   "file_extension": ".py",
   "mimetype": "text/x-python",
   "name": "python",
   "nbconvert_exporter": "python",
   "pygments_lexer": "ipython3",
   "version": "3.13.1"
  },
  "toc": {
   "base_numbering": 1,
   "nav_menu": {},
   "number_sections": true,
   "sideBar": true,
   "skip_h1_title": false,
   "title_cell": "Table of Contents",
   "title_sidebar": "Contents",
   "toc_cell": false,
   "toc_position": {},
   "toc_section_display": true,
   "toc_window_display": false
  }
 },
 "nbformat": 4,
 "nbformat_minor": 5
}
