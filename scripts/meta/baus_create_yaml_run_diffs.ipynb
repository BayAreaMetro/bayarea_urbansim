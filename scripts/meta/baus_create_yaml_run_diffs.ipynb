{
 "cells": [
  {
   "cell_type": "code",
   "execution_count": 1,
   "id": "75805b3b",
   "metadata": {},
   "outputs": [],
   "source": [
    "import yaml\n",
    "import pandas as pd\n",
    "import pathlib\n",
    "import os"
   ]
  },
  {
   "cell_type": "markdown",
   "id": "487fb27e",
   "metadata": {},
   "source": [
    "# Create a table diff from two run yamls\n",
    "\n",
    "Purpose: Quickly see how two arbitrary run yamls differ, by checking values against the same keys."
   ]
  },
  {
   "cell_type": "code",
   "execution_count": 2,
   "id": "c4d90d6d",
   "metadata": {},
   "outputs": [],
   "source": [
    "import yaml\n",
    "import pandas as pd\n",
    "\n",
    "\n",
    "def compare_yaml_dicts_to_dataframe(dict1_path: str, dict2_path: str, output_path: str) -> pd.DataFrame:\n",
    "    \"\"\"\n",
    "    Compares two YAML run setup files and generates a DataFrame highlighting the differences.\n",
    "\n",
    "    Args:\n",
    "      dict1_path (str): Path to the first YAML file.\n",
    "      dict2_path (str): Path to the second YAML file.\n",
    "\n",
    "    Returns:\n",
    "      pd.DataFrame: DataFrame containing the keys and values from both dictionaries, \n",
    "                   highlighting mismatched values between them.\n",
    "\n",
    "    \"\"\"\n",
    "\n",
    "    # if pathlib.Path not passed, turn into one from string\n",
    "\n",
    "    dict1_path = pathlib.Path(dict1_path) if type(\n",
    "        dict1_path) != pathlib.PosixPath else dict1_path\n",
    "\n",
    "    dict2_path = pathlib.Path(dict2_path) if type(\n",
    "        dict2_path) != pathlib.PosixPath else dict2_path\n",
    "\n",
    "    # we treat one run as a reference against which we compare a second, \"subject\" run\n",
    "\n",
    "    run_1 = 'reference_run'\n",
    "    run_2 = 'subject_run'\n",
    "\n",
    "    # open the yamls\n",
    "\n",
    "    with open(dict1_path) as f:\n",
    "        dict1 = yaml.safe_load(f)\n",
    "    with open(dict2_path) as f:\n",
    "        dict2 = yaml.safe_load(f)\n",
    "\n",
    "    # concat on axis-1 to get keys from both sides - whether subject or reference dict\n",
    "\n",
    "    #all_keys = list(set(dict1.keys()) | dict2.keys())\n",
    "\n",
    "    # get a record for each key, regardless of origin\n",
    "    df = pd.concat([\n",
    "        pd.Series(dict1),\n",
    "        pd.Series(dict2)],\n",
    "        keys=[run_1, run_2],\n",
    "        axis=1)\n",
    "\n",
    "    df.index = df.index.set_names('key')\n",
    "\n",
    "    # a key may not be present on both subject and reference sides - we call those values NOT USED\n",
    "    df.fillna('NOT USED', inplace=True)\n",
    "\n",
    "    # filter where there is a difference in values for the same key\n",
    "    df = df[df[run_1] != df[run_2]].reset_index()\n",
    "\n",
    "    # write to csv\n",
    "    output_file = f'setup_diff_{dict1_path.stem}_VS_{dict2_path.stem}.csv'.replace(\n",
    "        'run_setup_', '')\n",
    "\n",
    "    print(f'Writing file to {output_file}')\n",
    "    df.to_csv(pathlib.Path(output_path, output_file))\n",
    "    return df"
   ]
  },
  {
   "cell_type": "markdown",
   "id": "351a236f",
   "metadata": {},
   "source": [
    "## Set paths"
   ]
  },
  {
   "cell_type": "code",
   "execution_count": 5,
   "id": "30195074",
   "metadata": {},
   "outputs": [],
   "source": [
    "m_drive = pathlib.Path(\n",
    "    \"/Volumes/Data/Models\") if os.name != \"nt\" else pathlib.Path(\"M:\")\n",
    "home_dir = pathlib.Path.home()"
   ]
  },
  {
   "cell_type": "code",
   "execution_count": 6,
   "id": "ef1f0eaa",
   "metadata": {},
   "outputs": [
    {
     "data": {
      "text/plain": [
       "PosixPath('/Volumes/Data/Models/urban_modeling/baus/PBA50Plus/diffs')"
      ]
     },
     "execution_count": 6,
     "metadata": {},
     "output_type": "execute_result"
    }
   ],
   "source": [
    "# set a target output dir\n",
    "\n",
    "output_path = pathlib.Path(m_drive,'urban_modeling' , 'baus' , 'PBA50Plus','diffs' )\n",
    "output_path"
   ]
  },
  {
   "cell_type": "markdown",
   "id": "fb0bee78",
   "metadata": {},
   "source": [
    "## Run some diffs\n"
   ]
  },
  {
   "cell_type": "code",
   "execution_count": 8,
   "id": "4b4b41c2",
   "metadata": {},
   "outputs": [
    {
     "name": "stdout",
     "output_type": "stream",
     "text": [
      "Writing file to setup_diff_PBA50Plus_NoProject_v10_zn_znmod_upd_VS_PBA50Plus_NoProject_v11.csv\n"
     ]
    }
   ],
   "source": [
    "# A: paths as pathlib paths\n",
    "\n",
    "yaml_1 = m_drive / 'urban_modeling' / 'baus' / 'PBA50Plus' / 'PBA50Plus_NoProject' / 'PBA50Plus_NoProject_v10_zn_znmod_upd' / 'run_setup_PBA50Plus_NoProject_v10_zn_znmod_upd.yaml'\n",
    "yaml_2 = m_drive / 'urban_modeling' / 'baus' / 'PBA50Plus' / 'PBA50Plus_NoProject_v11' / 'run_setup_PBA50Plus_NoProject_v11.yaml'\n",
    "\n",
    "df_differences = compare_yaml_dicts_to_dataframe(\n",
    "    dict1_path=yaml_1, dict2_path=yaml_2, output_path=output_path)"
   ]
  },
  {
   "cell_type": "code",
   "execution_count": 9,
   "id": "73f4be05",
   "metadata": {},
   "outputs": [
    {
     "name": "stdout",
     "output_type": "stream",
     "text": [
      "Writing file to setup_diff_PBA50Plus_Draft_Blueprint_v8_znupd_nodevfix_VS_PBA50Plus_Draft_Blueprint_v8_znupd_nodevfix_altseed_v2.csv\n"
     ]
    }
   ],
   "source": [
    "# B: paths as strings\n",
    "\n",
    "#yaml_1 = '/Volumes/Data/Models/urban_modeling/baus/PBA50Plus/PBA50Plus_DraftBlueprint/PBA50Plus_Draft_Blueprint_v6/run_setup_PBA50Plus_Draft_Blueprint_v6.yaml'\n",
    "yaml_1 = '/Volumes/Data/Models/urban_modeling/baus/PBA50Plus/PBA50Plus_DraftBlueprint/PBA50Plus_Draft_Blueprint_v8_znupd_nodevfix/run_setup_PBA50Plus_Draft_Blueprint_v8_znupd_nodevfix.yaml'\n",
    "yaml_2 = '/Volumes/Data/Models/urban_modeling/baus/PBA50Plus/PBA50Plus_DraftBlueprint/PBA50Plus_Draft_Blueprint_v8_znupd_nodevfix_altseed_v2/run_setup_PBA50Plus_Draft_Blueprint_v8_znupd_nodevfix_altseed_v2.yaml'\n",
    "df_differences = compare_yaml_dicts_to_dataframe(\n",
    "    dict1_path=yaml_1, dict2_path=yaml_2, output_path=output_path)"
   ]
  },
  {
   "cell_type": "code",
   "execution_count": 10,
   "id": "61c34324",
   "metadata": {},
   "outputs": [
    {
     "data": {
      "text/html": [
       "<div>\n",
       "<style scoped>\n",
       "    .dataframe tbody tr th:only-of-type {\n",
       "        vertical-align: middle;\n",
       "    }\n",
       "\n",
       "    .dataframe tbody tr th {\n",
       "        vertical-align: top;\n",
       "    }\n",
       "\n",
       "    .dataframe thead th {\n",
       "        text-align: right;\n",
       "    }\n",
       "</style>\n",
       "<table border=\"1\" class=\"dataframe\">\n",
       "  <thead>\n",
       "    <tr style=\"text-align: right;\">\n",
       "      <th></th>\n",
       "      <th>key</th>\n",
       "      <th>reference_run</th>\n",
       "      <th>subject_run</th>\n",
       "    </tr>\n",
       "  </thead>\n",
       "  <tbody>\n",
       "    <tr>\n",
       "      <th>0</th>\n",
       "      <td>run_name</td>\n",
       "      <td>PBA50Plus_Draft_Blueprint_v8_znupd_nodevfix</td>\n",
       "      <td>PBA50Plus_Draft_Blueprint_v8_znupd_nodevfix_al...</td>\n",
       "    </tr>\n",
       "    <tr>\n",
       "      <th>1</th>\n",
       "      <td>annotation</td>\n",
       "      <td>[Deed restriction fix, H6 pipeline fix, TM dem...</td>\n",
       "      <td>[Deed restriction fix, H6 pipeline fix, TM dem...</td>\n",
       "    </tr>\n",
       "  </tbody>\n",
       "</table>\n",
       "</div>"
      ],
      "text/plain": [
       "          key                                      reference_run  \\\n",
       "0    run_name        PBA50Plus_Draft_Blueprint_v8_znupd_nodevfix   \n",
       "1  annotation  [Deed restriction fix, H6 pipeline fix, TM dem...   \n",
       "\n",
       "                                         subject_run  \n",
       "0  PBA50Plus_Draft_Blueprint_v8_znupd_nodevfix_al...  \n",
       "1  [Deed restriction fix, H6 pipeline fix, TM dem...  "
      ]
     },
     "execution_count": 10,
     "metadata": {},
     "output_type": "execute_result"
    }
   ],
   "source": [
    "df_differences"
   ]
  },
  {
   "cell_type": "code",
   "execution_count": null,
   "id": "81304685",
   "metadata": {},
   "outputs": [],
   "source": []
  },
  {
   "cell_type": "code",
   "execution_count": null,
   "id": "b0f309f3",
   "metadata": {},
   "outputs": [],
   "source": []
  }
 ],
 "metadata": {
  "kernelspec": {
   "display_name": "Python 3 (ipykernel)",
   "language": "python",
   "name": "python3"
  },
  "language_info": {
   "codemirror_mode": {
    "name": "ipython",
    "version": 3
   },
   "file_extension": ".py",
   "mimetype": "text/x-python",
   "name": "python",
   "nbconvert_exporter": "python",
   "pygments_lexer": "ipython3",
   "version": "3.10.8"
  },
  "toc": {
   "base_numbering": 1,
   "nav_menu": {},
   "number_sections": true,
   "sideBar": true,
   "skip_h1_title": false,
   "title_cell": "Table of Contents",
   "title_sidebar": "Contents",
   "toc_cell": false,
   "toc_position": {},
   "toc_section_display": true,
   "toc_window_display": false
  }
 },
 "nbformat": 4,
 "nbformat_minor": 5
}
