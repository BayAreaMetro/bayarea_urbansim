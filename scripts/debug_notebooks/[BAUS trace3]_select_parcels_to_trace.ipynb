{
 "cells": [
  {
   "cell_type": "code",
   "execution_count": 1,
   "metadata": {},
   "outputs": [],
   "source": [
    "import os\n",
    "import sys\n",
    "sys.path.insert(0, 'X:\\\\bayarea_urbansim\\\\scripts')\n",
    "from baus_analytics_tools import *"
   ]
  },
  {
   "cell_type": "code",
   "execution_count": 2,
   "metadata": {},
   "outputs": [],
   "source": [
    "summary_dir = 'M:\\\\Data\\\\Urban\\\\BAUS\\\\PBA50\\\\explore_developer_model\\\\runs_feasibility_all_included'\n",
    "run_dir = os.path.join(summary_dir, 'runs')\n",
    "trace_dir = os.path.join(summary_dir, 'trace')\n",
    "parcel_trace_dir = os.path.join(summary_dir, 'trace_selected_parcels')"
   ]
  },
  {
   "cell_type": "markdown",
   "metadata": {},
   "source": [
    "### read parcel-level growth comparison"
   ]
  },
  {
   "cell_type": "code",
   "execution_count": 3,
   "metadata": {},
   "outputs": [
    {
     "name": "stdout",
     "output_type": "stream",
     "text": [
      "1956212\n"
     ]
    }
   ],
   "source": [
    "# load parcel-level HH growth comparison\n",
    "parcel_hh_growth_2015base_compare = pd.read_csv(os.path.join(summary_dir, 'hh_growth_2015base_compare_byParcel.csv'))\n",
    "print(parcel_hh_growth_2015base_compare.shape[0])"
   ]
  },
  {
   "cell_type": "markdown",
   "metadata": {},
   "source": [
    "### parcels in TAZ 706 (2050 HH growth NP > P)"
   ]
  },
  {
   "cell_type": "code",
   "execution_count": 4,
   "metadata": {},
   "outputs": [
    {
     "name": "stdout",
     "output_type": "stream",
     "text": [
      "TAZ 706 has 1249 parcels, 2050 hh growth comparison:\n",
      "No Household    1024\n",
      "NP > P           107\n",
      "NP < P            94\n",
      "NP = P            24\n",
      "Name: 2050_hh_growth_diff, dtype: int64\n",
      "  2050_hh_growth_diff  hh_growth_2050_NP  hh_growth_2050_P\n",
      "0              NP < P             7143.0           22566.0\n",
      "1              NP = P             7600.0            7600.0\n",
      "2              NP > P            24351.0            7259.0\n",
      "3        No Household                0.0               0.0\n"
     ]
    },
    {
     "name": "stderr",
     "output_type": "stream",
     "text": [
      "C:\\ProgramData\\Anaconda3\\envs\\geo_env\\lib\\site-packages\\pandas\\core\\indexing.py:1667: SettingWithCopyWarning: \n",
      "A value is trying to be set on a copy of a slice from a DataFrame.\n",
      "Try using .loc[row_indexer,col_indexer] = value instead\n",
      "\n",
      "See the caveats in the documentation: https://pandas.pydata.org/pandas-docs/stable/user_guide/indexing.html#returning-a-view-versus-a-copy\n",
      "  self.obj[key] = value\n",
      "C:\\ProgramData\\Anaconda3\\envs\\geo_env\\lib\\site-packages\\pandas\\core\\indexing.py:1817: SettingWithCopyWarning: \n",
      "A value is trying to be set on a copy of a slice from a DataFrame.\n",
      "Try using .loc[row_indexer,col_indexer] = value instead\n",
      "\n",
      "See the caveats in the documentation: https://pandas.pydata.org/pandas-docs/stable/user_guide/indexing.html#returning-a-view-versus-a-copy\n",
      "  self._setitem_single_column(loc, value, pi)\n"
     ]
    }
   ],
   "source": [
    "parcels_taz706 = parcel_hh_growth_2015base_compare.loc[parcel_hh_growth_2015base_compare.TAZ == 706]\n",
    "parcels_taz706.loc[:, '2050_hh_growth_diff'] = 'NP = P'\n",
    "parcels_taz706.loc[parcels_taz706.hh_growth_2050_P > parcels_taz706.hh_growth_2050_NP, '2050_hh_growth_diff'] = 'NP < P'\n",
    "parcels_taz706.loc[parcels_taz706.hh_growth_2050_P < parcels_taz706.hh_growth_2050_NP, '2050_hh_growth_diff'] = 'NP > P'\n",
    "parcels_taz706.loc[(parcels_taz706.hh_growth_2050_P == 0) & (parcels_taz706.hh_growth_2050_NP == 0), '2050_hh_growth_diff'] = 'No Household'\n",
    "print('TAZ 706 has {} parcels, 2050 hh growth comparison:\\n{}\\n{}'.format(\n",
    "    parcels_taz706.shape[0],\n",
    "    parcels_taz706['2050_hh_growth_diff'].value_counts(),\n",
    "    parcels_taz706[['2050_hh_growth_diff', 'hh_growth_2050_NP', 'hh_growth_2050_P']].groupby('2050_hh_growth_diff').sum().reset_index()))\n",
    "\n",
    "# export\n",
    "parcels_taz706[['parcel_id', '2050_hh_growth_diff']].to_csv(os.path.join(parcel_trace_dir, 'taz706', 'parcels_taz706.csv'), index=False)"
   ]
  },
  {
   "cell_type": "markdown",
   "metadata": {},
   "source": [
    "### parcels in TAZ 703 (2050 HH growth P > NP)"
   ]
  },
  {
   "cell_type": "code",
   "execution_count": 5,
   "metadata": {},
   "outputs": [
    {
     "name": "stdout",
     "output_type": "stream",
     "text": [
      "TAZ 703 has 1387 parcels, 2050 hh growth comparison:\n",
      "No Household    1158\n",
      "NP > P           102\n",
      "NP < P            95\n",
      "NP = P            32\n",
      "Name: 2050_hh_growth_diff, dtype: int64\n",
      "  2050_hh_growth_diff  hh_growth_2050_NP  hh_growth_2050_P\n",
      "0              NP < P              -24.0            1557.0\n",
      "1              NP = P                9.0               9.0\n",
      "2              NP > P              498.0             -16.0\n",
      "3        No Household                0.0               0.0\n"
     ]
    },
    {
     "name": "stderr",
     "output_type": "stream",
     "text": [
      "C:\\ProgramData\\Anaconda3\\envs\\geo_env\\lib\\site-packages\\pandas\\core\\indexing.py:1667: SettingWithCopyWarning: \n",
      "A value is trying to be set on a copy of a slice from a DataFrame.\n",
      "Try using .loc[row_indexer,col_indexer] = value instead\n",
      "\n",
      "See the caveats in the documentation: https://pandas.pydata.org/pandas-docs/stable/user_guide/indexing.html#returning-a-view-versus-a-copy\n",
      "  self.obj[key] = value\n",
      "C:\\ProgramData\\Anaconda3\\envs\\geo_env\\lib\\site-packages\\pandas\\core\\indexing.py:1817: SettingWithCopyWarning: \n",
      "A value is trying to be set on a copy of a slice from a DataFrame.\n",
      "Try using .loc[row_indexer,col_indexer] = value instead\n",
      "\n",
      "See the caveats in the documentation: https://pandas.pydata.org/pandas-docs/stable/user_guide/indexing.html#returning-a-view-versus-a-copy\n",
      "  self._setitem_single_column(loc, value, pi)\n"
     ]
    }
   ],
   "source": [
    "parcels_taz703 = parcel_hh_growth_2015base_compare.loc[parcel_hh_growth_2015base_compare.TAZ == 703]\n",
    "parcels_taz703.loc[:, '2050_hh_growth_diff'] = 'NP = P'\n",
    "parcels_taz703.loc[parcels_taz703.hh_growth_2050_P > parcels_taz703.hh_growth_2050_NP, '2050_hh_growth_diff'] = 'NP < P'\n",
    "parcels_taz703.loc[parcels_taz703.hh_growth_2050_P < parcels_taz703.hh_growth_2050_NP, '2050_hh_growth_diff'] = 'NP > P'\n",
    "parcels_taz703.loc[(parcels_taz703.hh_growth_2050_P == 0) & (parcels_taz703.hh_growth_2050_NP == 0), '2050_hh_growth_diff'] = 'No Household'\n",
    "\n",
    "print('TAZ 703 has {} parcels, 2050 hh growth comparison:\\n{}\\n{}'.format(\n",
    "    parcels_taz703.shape[0],\n",
    "    parcels_taz703['2050_hh_growth_diff'].value_counts(),\n",
    "    parcels_taz703[['2050_hh_growth_diff', 'hh_growth_2050_NP', 'hh_growth_2050_P']].groupby('2050_hh_growth_diff').sum().reset_index()))\n",
    "\n",
    "# export\n",
    "parcels_taz703[['parcel_id', '2050_hh_growth_diff']].to_csv(os.path.join(parcel_trace_dir, 'taz703', 'parcels_taz703.csv'), index=False)"
   ]
  },
  {
   "cell_type": "markdown",
   "metadata": {},
   "source": [
    "### parcels in SE Santa Clara County SuperDistrict (2050 HH growth NP > P)"
   ]
  },
  {
   "cell_type": "code",
   "execution_count": 8,
   "metadata": {},
   "outputs": [
    {
     "name": "stdout",
     "output_type": "stream",
     "text": [
      "SE Santa Clara County SuperDistrict has 34037 parcels, 2050 hh growth comparison:\n",
      "No Household    26991\n",
      "NP > P           3110\n",
      "NP < P           3069\n",
      "NP = P            867\n",
      "Name: 2050_hh_growth_diff, dtype: int64\n",
      "  2050_hh_growth_diff  hh_growth_2050_NP  hh_growth_2050_P\n",
      "0              NP < P            15058.0           51134.0\n",
      "1              NP = P             9301.0            9301.0\n",
      "2              NP > P            50354.0           14067.0\n",
      "3        No Household                0.0               0.0\n"
     ]
    },
    {
     "name": "stderr",
     "output_type": "stream",
     "text": [
      "C:\\ProgramData\\Anaconda3\\envs\\geo_env\\lib\\site-packages\\pandas\\core\\indexing.py:1667: SettingWithCopyWarning: \n",
      "A value is trying to be set on a copy of a slice from a DataFrame.\n",
      "Try using .loc[row_indexer,col_indexer] = value instead\n",
      "\n",
      "See the caveats in the documentation: https://pandas.pydata.org/pandas-docs/stable/user_guide/indexing.html#returning-a-view-versus-a-copy\n",
      "  self.obj[key] = value\n",
      "C:\\ProgramData\\Anaconda3\\envs\\geo_env\\lib\\site-packages\\pandas\\core\\indexing.py:1817: SettingWithCopyWarning: \n",
      "A value is trying to be set on a copy of a slice from a DataFrame.\n",
      "Try using .loc[row_indexer,col_indexer] = value instead\n",
      "\n",
      "See the caveats in the documentation: https://pandas.pydata.org/pandas-docs/stable/user_guide/indexing.html#returning-a-view-versus-a-copy\n",
      "  self._setitem_single_column(loc, value, pi)\n"
     ]
    }
   ],
   "source": [
    "parcels_SE_Snta_Clara = parcel_hh_growth_2015base_compare.loc[parcel_hh_growth_2015base_compare.SD_NAME == 'SE Snta Clara Cnty']\n",
    "parcels_SE_Snta_Clara.loc[:, '2050_hh_growth_diff'] = 'NP = P'\n",
    "parcels_SE_Snta_Clara.loc[parcels_SE_Snta_Clara.hh_growth_2050_P > parcels_SE_Snta_Clara.hh_growth_2050_NP, '2050_hh_growth_diff'] = 'NP < P'\n",
    "parcels_SE_Snta_Clara.loc[parcels_SE_Snta_Clara.hh_growth_2050_P < parcels_SE_Snta_Clara.hh_growth_2050_NP, '2050_hh_growth_diff'] = 'NP > P'\n",
    "parcels_SE_Snta_Clara.loc[(parcels_SE_Snta_Clara.hh_growth_2050_P == 0) & (parcels_SE_Snta_Clara.hh_growth_2050_NP == 0), '2050_hh_growth_diff'] = 'No Household'\n",
    "\n",
    "\n",
    "print('SE Santa Clara County SuperDistrict has {} parcels, 2050 hh growth comparison:\\n{}\\n{}'.format(\n",
    "    parcels_SE_Snta_Clara.shape[0],\n",
    "    parcels_SE_Snta_Clara['2050_hh_growth_diff'].value_counts(),\n",
    "    parcels_SE_Snta_Clara[['2050_hh_growth_diff', 'hh_growth_2050_NP', 'hh_growth_2050_P']].groupby('2050_hh_growth_diff').sum().reset_index()))\n",
    "\n",
    "# export\n",
    "parcels_SE_Snta_Clara[['parcel_id', '2050_hh_growth_diff']].to_csv(os.path.join(parcel_trace_dir, 'SE_Snta_Clara', 'parcels_SE_Snta_Clara.csv'), index=False)"
   ]
  },
  {
   "cell_type": "code",
   "execution_count": 7,
   "metadata": {},
   "outputs": [
    {
     "data": {
      "text/plain": [
       "211"
      ]
     },
     "execution_count": 7,
     "metadata": {},
     "output_type": "execute_result"
    }
   ],
   "source": [
    "50354 + 15058 - 14067 - 51134"
   ]
  },
  {
   "cell_type": "code",
   "execution_count": null,
   "metadata": {},
   "outputs": [],
   "source": []
  }
 ],
 "metadata": {
  "kernelspec": {
   "display_name": "Python 3",
   "language": "python",
   "name": "python3"
  },
  "language_info": {
   "codemirror_mode": {
    "name": "ipython",
    "version": 3
   },
   "file_extension": ".py",
   "mimetype": "text/x-python",
   "name": "python",
   "nbconvert_exporter": "python",
   "pygments_lexer": "ipython3",
   "version": "3.7.6"
  }
 },
 "nbformat": 4,
 "nbformat_minor": 4
}
