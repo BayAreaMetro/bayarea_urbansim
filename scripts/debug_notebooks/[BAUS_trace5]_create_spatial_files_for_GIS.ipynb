{
 "cells": [
  {
   "cell_type": "code",
   "execution_count": 19,
   "id": "0a293240",
   "metadata": {},
   "outputs": [],
   "source": [
    "import fiona\n",
    "import geopandas as gpd\n",
    "import pandas as pd\n",
    "import os"
   ]
  },
  {
   "cell_type": "code",
   "execution_count": 2,
   "id": "80a9c8a7",
   "metadata": {},
   "outputs": [
    {
     "name": "stdout",
     "output_type": "stream",
     "text": [
      "{'AeronavFAA': 'r', 'ARCGEN': 'r', 'BNA': 'rw', 'DXF': 'rw', 'CSV': 'raw', 'OpenFileGDB': 'r', 'ESRIJSON': 'r', 'ESRI Shapefile': 'raw', 'GeoJSON': 'raw', 'GeoJSONSeq': 'rw', 'GPKG': 'raw', 'GML': 'rw', 'GPX': 'rw', 'GPSTrackMaker': 'rw', 'Idrisi': 'r', 'MapInfo File': 'raw', 'DGN': 'raw', 'PCIDSK': 'raw', 'S57': 'r', 'SEGY': 'r', 'SUA': 'r', 'TopoJSON': 'r'}\n"
     ]
    }
   ],
   "source": [
    "print(fiona.supported_drivers)"
   ]
  },
  {
   "cell_type": "code",
   "execution_count": 3,
   "id": "5b4d08ee",
   "metadata": {},
   "outputs": [],
   "source": [
    "M_GIS_dir = 'M:\\\\Data\\\\GIS layers\\\\UrbanSim smelt\\\\p10_EIR'\n",
    "summary_dir = 'M:\\\\Data\\\\Urban\\\\BAUS\\\\PBA50\\\\explore_developer_model\\\\runs_feasibility_all_included'\n",
    "run_dir = os.path.join(summary_dir, 'runs')\n",
    "trace_dir = os.path.join(summary_dir, 'trace')\n",
    "parcel_trace_dir = os.path.join(summary_dir, 'trace_selected_parcels')"
   ]
  },
  {
   "cell_type": "code",
   "execution_count": 4,
   "id": "9966ba91",
   "metadata": {},
   "outputs": [],
   "source": [
    "TAZ706_dir = os.path.join(parcel_trace_dir, 'taz706')\n",
    "TAZ703_dir = os.path.join(parcel_trace_dir, 'taz703')\n",
    "SE_Snta_Clara_dir = os.path.join(parcel_trace_dir, 'SE_Snta_Clara')"
   ]
  },
  {
   "cell_type": "code",
   "execution_count": 5,
   "id": "a9d1a076",
   "metadata": {},
   "outputs": [],
   "source": [
    "parcel_gdf_raw = gpd.read_file(os.path.join(M_GIS_dir, 'p10_parcels.shp'))\n",
    "parcel_gdf = parcel_gdf_raw[['PARCEL_ID', 'ZONE_ID', 'geometry']]"
   ]
  },
  {
   "cell_type": "code",
   "execution_count": 6,
   "id": "6eb16f5a",
   "metadata": {},
   "outputs": [
    {
     "name": "stdout",
     "output_type": "stream",
     "text": [
      "1249\n"
     ]
    }
   ],
   "source": [
    "parcel_gdf_TAZ706 = parcel_gdf.loc[parcel_gdf.ZONE_ID == 706]\n",
    "print(parcel_gdf_TAZ706.shape[0])"
   ]
  },
  {
   "cell_type": "code",
   "execution_count": 7,
   "id": "739221db",
   "metadata": {},
   "outputs": [
    {
     "name": "stdout",
     "output_type": "stream",
     "text": [
      "1387\n"
     ]
    }
   ],
   "source": [
    "parcel_gdf_TAZ703 = parcel_gdf.loc[parcel_gdf.ZONE_ID == 703]\n",
    "print(parcel_gdf_TAZ703.shape[0])"
   ]
  },
  {
   "cell_type": "code",
   "execution_count": 11,
   "id": "528bec47",
   "metadata": {},
   "outputs": [
    {
     "name": "stdout",
     "output_type": "stream",
     "text": [
      "['PARCEL_ID', 'ACRES', 'COUNTY_ID', 'ZONE_ID', 'PROPORTION', 'TAX_EXEMPT', 'APN', 'pda_id', 'tpp_id', 'opp_id', 'mapshell', 'tpa_id', 'hra_id', 'trich_id', 'cat_id', 'gg_id', 'tra_id', 'ppa_id', 'nodev', 'Shape_Leng', 'Shape_Area', 'geometry']\n"
     ]
    }
   ],
   "source": [
    "print(list(parcel_gdf_raw))"
   ]
  },
  {
   "cell_type": "code",
   "execution_count": 15,
   "id": "30b7456a",
   "metadata": {},
   "outputs": [
    {
     "name": "stdout",
     "output_type": "stream",
     "text": [
      "34037\n"
     ]
    }
   ],
   "source": [
    "SE_Snta_Clara_parcels = pd.read_csv(os.path.join(SE_Snta_Clara_dir, 'parcels_SE_Snta_Clara.csv'), usecols=['parcel_id'])\n",
    "parcel_gdf_SE_Snta_Clara = parcel_gdf.merge(SE_Snta_Clara_parcels, left_on='PARCEL_ID', right_on='parcel_id', how='right')\n",
    "print(parcel_gdf_SE_Snta_Clara.shape[0])"
   ]
  },
  {
   "cell_type": "code",
   "execution_count": 16,
   "id": "d9ad3881",
   "metadata": {},
   "outputs": [
    {
     "name": "stdout",
     "output_type": "stream",
     "text": [
      "2010_1_parcels_hedonic_compare.csv\n",
      "1249\n",
      "2010_2_parcels_nodes_compare.csv\n",
      "1249\n",
      "2010_3_parcels_final_compare.csv\n",
      "1249\n",
      "2015_1_parcels_nodes_compare.csv\n",
      "1249\n",
      "2015_2_parcels_feasibility_compare.csv\n",
      "1249\n",
      "2015_3_parcels_resDev_compare.csv\n",
      "1249\n",
      "2015_4_parcels_hedonic_compare.csv\n",
      "1249\n",
      "2015_5_parcels_final_compare.csv\n",
      "1249\n",
      "2020_1_parcels_nodes_compare.csv\n",
      "1249\n",
      "2020_2_parcels_feasibility_compare.csv\n",
      "1249\n",
      "2020_3_parcels_resDev_compare.csv\n",
      "1249\n",
      "2020_4_parcels_hedonic_compare.csv\n",
      "1249\n",
      "2020_5_parcels_final_compare.csv\n",
      "1249\n",
      "2025_1_parcels_nodes_compare.csv\n",
      "1249\n",
      "2025_2_parcels_feasibility_compare.csv\n",
      "1249\n",
      "2025_3_parcels_resDev_compare.csv\n",
      "1249\n",
      "2025_4_parcels_hedonic_compare.csv\n",
      "1249\n",
      "2025_5_parcels_final_compare.csv\n",
      "1249\n",
      "2030_1_parcels_nodes_compare.csv\n",
      "1249\n",
      "2030_2_parcels_feasibility_compare.csv\n",
      "1249\n",
      "2030_3_parcels_resDev_compare.csv\n",
      "1249\n",
      "2030_4_parcels_hedonic_compare.csv\n",
      "1249\n",
      "2030_5_parcels_final_compare.csv\n",
      "1249\n",
      "2035_1_parcels_nodes_compare.csv\n",
      "1249\n",
      "2035_2_parcels_feasibility_compare.csv\n",
      "1249\n",
      "2035_3_parcels_resDev_compare.csv\n",
      "1249\n",
      "2035_4_parcels_hedonic_compare.csv\n",
      "1249\n",
      "2035_5_parcels_final_compare.csv\n",
      "1249\n",
      "2040_1_parcels_nodes_compare.csv\n",
      "1249\n",
      "2040_2_parcels_feasibility_compare.csv\n",
      "1249\n",
      "2040_3_parcels_resDev_compare.csv\n",
      "1249\n",
      "2040_4_parcels_hedonic_compare.csv\n",
      "1249\n",
      "2040_5_parcels_final_compare.csv\n",
      "1249\n",
      "2045_1_parcels_nodes_compare.csv\n",
      "1249\n",
      "2045_2_parcels_feasibility_compare.csv\n",
      "1249\n",
      "2045_3_parcels_resDev_compare.csv\n",
      "1249\n",
      "2045_4_parcels_hedonic_compare.csv\n",
      "1249\n",
      "2045_5_parcels_final_compare.csv\n",
      "1249\n",
      "2050_1_parcels_nodes_compare.csv\n",
      "1249\n",
      "2050_2_parcels_feasibility_compare.csv\n",
      "1249\n",
      "2050_3_parcels_resDev_compare.csv\n",
      "1249\n",
      "2050_4_parcels_hedonic_compare.csv\n",
      "1249\n",
      "2050_5_parcels_final_compare.csv\n",
      "1249\n",
      "parcels_taz706.csv\n",
      "1249\n",
      "taz706_logsum_parcels_2010_2025.csv\n",
      "1249\n",
      "taz706_logsum_parcels_2030_2050.csv\n",
      "1249\n"
     ]
    }
   ],
   "source": [
    "for filename in os.listdir(TAZ706_dir):\n",
    "    if '.csv' in filename:\n",
    "        print(filename)\n",
    "        df = pd.read_csv(os.path.join(TAZ706_dir, filename))\n",
    "        layer_name = filename.split('.')[0]\n",
    "#         print(layer_name)\n",
    "        gdf = parcel_gdf_TAZ706.merge(df, left_on='PARCEL_ID', right_on='parcel_id', how='outer')\n",
    "        print(gdf.shape[0])\n",
    "#         display(gdf.head())\n",
    "#         print(type(gdf))\n",
    "        gdf.to_file(os.path.join(TAZ706_dir, 'GIS', layer_name+'.geojson'), driver='GeoJSON')"
   ]
  },
  {
   "cell_type": "code",
   "execution_count": 17,
   "id": "bf5d4958",
   "metadata": {},
   "outputs": [
    {
     "name": "stdout",
     "output_type": "stream",
     "text": [
      "2010_1_parcels_hedonic_compare.csv\n",
      "1387\n",
      "2010_2_parcels_nodes_compare.csv\n",
      "1387\n",
      "2010_3_parcels_final_compare.csv\n",
      "1387\n",
      "2015_1_parcels_nodes_compare.csv\n",
      "1387\n",
      "2015_2_parcels_feasibility_compare.csv\n",
      "1387\n",
      "2015_3_parcels_resDev_compare.csv\n",
      "1387\n",
      "2015_4_parcels_hedonic_compare.csv\n",
      "1387\n",
      "2015_5_parcels_final_compare.csv\n",
      "1387\n",
      "2020_1_parcels_nodes_compare.csv\n",
      "1387\n",
      "2020_2_parcels_feasibility_compare.csv\n",
      "1387\n",
      "2020_3_parcels_resDev_compare.csv\n",
      "1387\n",
      "2020_4_parcels_hedonic_compare.csv\n",
      "1387\n",
      "2020_5_parcels_final_compare.csv\n",
      "1387\n",
      "2025_1_parcels_nodes_compare.csv\n",
      "1387\n",
      "2025_2_parcels_feasibility_compare.csv\n",
      "1387\n",
      "2025_3_parcels_resDev_compare.csv\n",
      "1387\n",
      "2025_4_parcels_hedonic_compare.csv\n",
      "1387\n",
      "2025_5_parcels_final_compare.csv\n",
      "1387\n",
      "2030_1_parcels_nodes_compare.csv\n",
      "1387\n",
      "2030_2_parcels_feasibility_compare.csv\n",
      "1387\n",
      "2030_3_parcels_resDev_compare.csv\n",
      "1387\n",
      "2030_4_parcels_hedonic_compare.csv\n",
      "1387\n",
      "2030_5_parcels_final_compare.csv\n",
      "1387\n",
      "2035_1_parcels_nodes_compare.csv\n",
      "1387\n",
      "2035_2_parcels_feasibility_compare.csv\n",
      "1387\n",
      "2035_3_parcels_resDev_compare.csv\n",
      "1387\n",
      "2035_4_parcels_hedonic_compare.csv\n",
      "1387\n",
      "2035_5_parcels_final_compare.csv\n",
      "1387\n",
      "2040_1_parcels_nodes_compare.csv\n",
      "1387\n",
      "2040_2_parcels_feasibility_compare.csv\n",
      "1387\n",
      "2040_3_parcels_resDev_compare.csv\n",
      "1387\n",
      "2040_4_parcels_hedonic_compare.csv\n",
      "1387\n",
      "2040_5_parcels_final_compare.csv\n",
      "1387\n",
      "2045_1_parcels_nodes_compare.csv\n",
      "1387\n",
      "2045_2_parcels_feasibility_compare.csv\n",
      "1387\n",
      "2045_3_parcels_resDev_compare.csv\n",
      "1387\n",
      "2045_4_parcels_hedonic_compare.csv\n",
      "1387\n",
      "2045_5_parcels_final_compare.csv\n",
      "1387\n",
      "2050_1_parcels_nodes_compare.csv\n",
      "1387\n",
      "2050_2_parcels_feasibility_compare.csv\n",
      "1387\n",
      "2050_3_parcels_resDev_compare.csv\n",
      "1387\n",
      "2050_4_parcels_hedonic_compare.csv\n",
      "1387\n",
      "2050_5_parcels_final_compare.csv\n",
      "1387\n",
      "parcels_taz703.csv\n",
      "1387\n",
      "taz703_logsum_parcels_2010_2025.csv\n",
      "1387\n",
      "taz703_logsum_parcels_2030_2050.csv\n",
      "1387\n"
     ]
    }
   ],
   "source": [
    "for filename in os.listdir(TAZ703_dir):\n",
    "    if '.csv' in filename:\n",
    "        print(filename)\n",
    "        df = pd.read_csv(os.path.join(TAZ703_dir, filename))\n",
    "        layer_name = filename.split('.')[0]\n",
    "#         print(layer_name)\n",
    "        gdf = parcel_gdf_TAZ703.merge(df, left_on='PARCEL_ID', right_on='parcel_id', how='outer')\n",
    "        print(gdf.shape[0])\n",
    "#         display(gdf.head())\n",
    "#         print(type(gdf))\n",
    "        gdf.to_file(os.path.join(TAZ703_dir, 'GIS', layer_name+'.geojson'), driver='GeoJSON')"
   ]
  },
  {
   "cell_type": "code",
   "execution_count": 18,
   "id": "9ee3ecdb",
   "metadata": {},
   "outputs": [
    {
     "name": "stdout",
     "output_type": "stream",
     "text": [
      "2010_1_parcels_hedonic_compare.csv\n",
      "34037\n",
      "2010_2_parcels_nodes_compare.csv\n",
      "34037\n",
      "2010_3_parcels_final_compare.csv\n",
      "34037\n",
      "2015_1_parcels_nodes_compare.csv\n",
      "34037\n",
      "2015_2_parcels_feasibility_compare.csv\n",
      "34037\n",
      "2015_3_parcels_resDev_compare.csv\n",
      "34037\n",
      "2015_4_parcels_hedonic_compare.csv\n",
      "34037\n",
      "2015_5_parcels_final_compare.csv\n",
      "34037\n",
      "2020_1_parcels_nodes_compare.csv\n",
      "34037\n",
      "2020_2_parcels_feasibility_compare.csv\n",
      "34037\n",
      "2020_3_parcels_resDev_compare.csv\n",
      "34037\n",
      "2020_4_parcels_hedonic_compare.csv\n",
      "34037\n",
      "2020_5_parcels_final_compare.csv\n",
      "34037\n",
      "2025_1_parcels_nodes_compare.csv\n",
      "34037\n",
      "2025_2_parcels_feasibility_compare.csv\n",
      "34037\n",
      "2025_3_parcels_resDev_compare.csv\n",
      "34037\n",
      "2025_4_parcels_hedonic_compare.csv\n",
      "34037\n",
      "2025_5_parcels_final_compare.csv\n",
      "34037\n",
      "2030_1_parcels_nodes_compare.csv\n",
      "34037\n",
      "2030_2_parcels_feasibility_compare.csv\n",
      "34037\n",
      "2030_3_parcels_resDev_compare.csv\n",
      "34037\n",
      "2030_4_parcels_hedonic_compare.csv\n",
      "34037\n",
      "2030_5_parcels_final_compare.csv\n",
      "34037\n",
      "2035_1_parcels_nodes_compare.csv\n",
      "34037\n",
      "2035_2_parcels_feasibility_compare.csv\n",
      "34037\n",
      "2035_3_parcels_resDev_compare.csv\n",
      "34037\n",
      "2035_4_parcels_hedonic_compare.csv\n",
      "34037\n",
      "2035_5_parcels_final_compare.csv\n",
      "34037\n",
      "2040_1_parcels_nodes_compare.csv\n",
      "34037\n",
      "2040_2_parcels_feasibility_compare.csv\n",
      "34037\n",
      "2040_3_parcels_resDev_compare.csv\n",
      "34037\n",
      "2040_4_parcels_hedonic_compare.csv\n",
      "34037\n",
      "2040_5_parcels_final_compare.csv\n",
      "34037\n",
      "2045_1_parcels_nodes_compare.csv\n",
      "34037\n",
      "2045_2_parcels_feasibility_compare.csv\n",
      "34037\n",
      "2045_3_parcels_resDev_compare.csv\n",
      "34037\n",
      "2045_4_parcels_hedonic_compare.csv\n",
      "34037\n",
      "2045_5_parcels_final_compare.csv\n",
      "34037\n",
      "2050_1_parcels_nodes_compare.csv\n",
      "34037\n",
      "2050_2_parcels_feasibility_compare.csv\n",
      "34037\n",
      "2050_3_parcels_resDev_compare.csv\n",
      "34037\n",
      "2050_4_parcels_hedonic_compare.csv\n",
      "34037\n",
      "2050_5_parcels_final_compare.csv\n",
      "34037\n",
      "parcels_SE_Snta_Clara.csv\n",
      "34037\n",
      "SE_Snta_Clara_logsum_parcels_2010_2025.csv\n",
      "34037\n",
      "SE_Snta_Clara_logsum_parcels_2030_2050.csv\n",
      "34037\n"
     ]
    }
   ],
   "source": [
    "for filename in os.listdir(SE_Snta_Clara_dir):\n",
    "    if '.csv' in filename:\n",
    "        print(filename)\n",
    "        df = pd.read_csv(os.path.join(SE_Snta_Clara_dir, filename))\n",
    "        layer_name = filename.split('.')[0]\n",
    "#         print(layer_name)\n",
    "        gdf = parcel_gdf_SE_Snta_Clara.merge(df, left_on='PARCEL_ID', right_on='parcel_id', how='outer')\n",
    "        print(gdf.shape[0])\n",
    "#         display(gdf.head())\n",
    "#         print(type(gdf))\n",
    "        gdf.to_file(os.path.join(SE_Snta_Clara_dir, 'GIS', layer_name+'.geojson'), driver='GeoJSON')"
   ]
  },
  {
   "cell_type": "code",
   "execution_count": 28,
   "id": "59c3350a",
   "metadata": {},
   "outputs": [
    {
     "name": "stdout",
     "output_type": "stream",
     "text": [
      "1956212\n",
      "have_subzone_in_both       1512960\n",
      "missing_subzone_in_BAUS     441734\n",
      "missing_subzone_in_both       1518\n",
      "Name: subzone_chk, dtype: int64\n"
     ]
    }
   ],
   "source": [
    "logsum_chk = pd.read_csv(r'M:\\Data\\Urban\\BAUS\\PBA50\\explore_developer_model\\runs_feasibility_all_included\\parcels_subzone_logsum_tag_defaultLookup.csv')\n",
    "print(logsum_chk.shape[0])\n",
    "print(logsum_chk.subzone_chk.value_counts())"
   ]
  },
  {
   "cell_type": "code",
   "execution_count": 26,
   "id": "6318bde7",
   "metadata": {},
   "outputs": [
    {
     "name": "stdout",
     "output_type": "stream",
     "text": [
      "['parcel_id', 'subzone_interim', 'combo_interim_beforeAdjust', 'combo_interim_afterAdjust', 'parcel_id_baus_P', 'cnml_baus_P', 'combo_logsum_baus_P', 'cml_baus_P', 'PARCEL_ID_from_lookup', 'taz_sub_from_lookup', 'cml_Notebook', 'cnml_Notebook', 'combo_logsum_Notebook', 'combo_logsum_final_Notebook', 'subzone_chk']\n"
     ]
    }
   ],
   "source": [
    "print(list(logsum_chk))"
   ]
  },
  {
   "cell_type": "code",
   "execution_count": 29,
   "id": "58c13837",
   "metadata": {},
   "outputs": [],
   "source": [
    "logsum_chk_gdf = parcel_gdf.merge(logsum_chk, right_on='parcel_id', left_on='PARCEL_ID', how='left')\n",
    "logsum_chk_gdf.to_file(r'M:\\Data\\Urban\\BAUS\\PBA50\\explore_developer_model\\runs_feasibility_all_included\\parcels_subzone_logsum_tag_defaultLookup.geojson', driver='GeoJSON')"
   ]
  },
  {
   "cell_type": "code",
   "execution_count": 22,
   "id": "fb4f7d07",
   "metadata": {},
   "outputs": [
    {
     "data": {
      "text/plain": [
       "PARCEL_ID     float64\n",
       "ZONE_ID       float64\n",
       "geometry     geometry\n",
       "dtype: object"
      ]
     },
     "execution_count": 22,
     "metadata": {},
     "output_type": "execute_result"
    }
   ],
   "source": [
    "logsum_chk_gdf."
   ]
  }
 ],
 "metadata": {
  "kernelspec": {
   "display_name": "Python 3 (ipykernel)",
   "language": "python",
   "name": "python3"
  },
  "language_info": {
   "codemirror_mode": {
    "name": "ipython",
    "version": 3
   },
   "file_extension": ".py",
   "mimetype": "text/x-python",
   "name": "python",
   "nbconvert_exporter": "python",
   "pygments_lexer": "ipython3",
   "version": "3.7.12"
  }
 },
 "nbformat": 4,
 "nbformat_minor": 5
}
