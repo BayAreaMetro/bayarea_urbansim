{
 "cells": [
  {
   "cell_type": "code",
   "execution_count": 2,
   "id": "e8ff63a9",
   "metadata": {},
   "outputs": [],
   "source": [
    "import os\n",
    "import sys\n",
    "sys.path.insert(0, 'X:\\\\bayarea_urbansim\\\\scripts')\n",
    "from baus_analytics_tools import *"
   ]
  },
  {
   "cell_type": "code",
   "execution_count": null,
   "id": "04f58bf7",
   "metadata": {},
   "outputs": [],
   "source": [
    "# location of two runs: run270-P, run269-NP\n",
    "folder = 'X:\\\\bayarea_urbansim\\\\runs'\n",
    "export_f = 'M:\\\\Data\\\\Urban\\\\BAUS\\\\PBA50\\\\explore_developer_model\\\\runs_feasibility_all_included\\\\trace'"
   ]
  },
  {
   "cell_type": "code",
   "execution_count": null,
   "id": "8267f2d1",
   "metadata": {},
   "outputs": [],
   "source": [
    "runs = {'NP': 'run310',\n",
    "        'P':  'run313'}"
   ]
  },
  {
   "cell_type": "code",
   "execution_count": null,
   "id": "5b1d7d7a",
   "metadata": {},
   "outputs": [],
   "source": [
    "year = '2010'"
   ]
  },
  {
   "cell_type": "markdown",
   "id": "d928310c",
   "metadata": {},
   "source": [
    "## examine the interim tables following BAUS steps, starting from base year (2010)\n",
    "\n",
    "* \"slr_inundate\"\n",
    "* \"slr_remove_dev\"\n",
    "* \"eq_code_buildings\"\n",
    "* \"earthquake_demolish\"\n",
    "* [\"neighborhood_vars\"](#neighborhood_vars)\n",
    "* [\"regional_vars\"](#regional_vars)\n",
    "* [\"rsh_simulate\"](#rsh_simulate)\n",
    "* [\"rrh_simulate\"](#rrh_simulate)\n",
    "* \"nrh_simulate\"\n",
    "* \"assign_tenure_to_new_units\"\n",
    "* \"household_relocation\"\n",
    "* \"households_transition\"\n",
    "* \"reconcile_unplaced_households\"\n",
    "* \"jobs_transition\"\n",
    "* \"hlcm_owner_lowincome_simulate\"\n",
    "* \"hlcm_renter_lowincome_simulate\"\n",
    "* \"hlcm_owner_simulate\"\n",
    "* \"hlcm_renter_simulate\"\n",
    "* \"hlcm_owner_simulate_no_unplaced\"\n",
    "* \"hlcm_owner_lowincome_simulate_no_unplaced\"\n",
    "* \"hlcm_renter_simulate_no_unplaced\"\n",
    "* \"hlcm_renter_lowincome_simulate_no_unplaced\"\n",
    "* \"reconcile_placed_households\"\n",
    "* \"elcm_simulate\"\n",
    "* [\"price_vars\"](#price_vars)\n",
    "* \"topsheet\"\n",
    "* \"simulation_validation\"\n",
    "* [\"parcel_summary\"](#parcel_summary)\n",
    "* [\"building_summary\"](#building_summary)\n",
    "* \"geographic_summary\"\n",
    "* \"travel_model_output\"\n",
    "* \"hazards_slr_summary\"\n",
    "* \"hazards_eq_summary\"\n",
    "* \"diagnostic_output\"\n",
    "* \"config\"\n",
    "* \"slack_report\""
   ]
  },
  {
   "cell_type": "markdown",
   "id": "3d951890",
   "metadata": {},
   "source": [
    "### 'neighborhood_vars' <a class=\"anchor\" id=\"neighborhood_vars\"></a>"
   ]
  },
  {
   "cell_type": "markdown",
   "id": "8c15fdef",
   "metadata": {},
   "source": [
    "\"neighborhood_vars\" - applies pandana to create 226060 network nodes (focusing on pedestrian level), deviding the region into 226060 neighborhoods, and key variables that reflect neighborhood characteristics (existing units, hh, income, jobs, etc.) are gathered from various tables (households, buildings, jobs) following certain rules, e.g. referencing radii (e.g. 1500, 3000), aggregation method (75%, average, median, etc.), filter (e.g. residential vs non-residential buildings). The network is basd on base year open-street network from the H5 file.\n",
    "\n",
    "pandana: fast move along the network, uses the H5 file has openstreet esiting year network to run a mini-travel model (focusing on pedestrian level), get job conuts, etc. along the network."
   ]
  },
  {
   "cell_type": "code",
   "execution_count": null,
   "id": "e7272894",
   "metadata": {
    "scrolled": true
   },
   "outputs": [],
   "source": [
    "# output of 'neighborhood_vars' step\n",
    "# https://github.com/BayAreaMetro/bayarea_urbansim/blob/820554cbabee51725c445b9fd211542db8876c9f/baus.py#L313\n",
    "\n",
    "neigh_var_np = pd.read_csv(os.path.join(folder, '{}_nodes_neighborhood_{}.csv'.format(runs['NP'],year)))\n",
    "neigh_var_p = pd.read_csv(os.path.join(folder, '{}_nodes_neighborhood_{}.csv'.format(runs['P'], year)))\n",
    "print(neigh_var_np.shape[0])\n",
    "print(neigh_var_p.shape[0])\n",
    "\n",
    "# if identical between NP and P - they are not identical\n",
    "print('check if they are identical:', neigh_var_p.equals(neigh_var_np))\n",
    "\n",
    "print(list(neigh_var_p))\n",
    "\n",
    "# rename columns \n",
    "neigh_var_np.columns = ['node_id'] + [x+'_NP' for x in list(neigh_var_np)[1:]]\n",
    "neigh_var_p.columns = ['node_id'] + [x+'_P' for x in list(neigh_var_p)[1:]]\n",
    "\n",
    "# merge\n",
    "neigh_var_compare = neigh_var_np.merge(neigh_var_p, on='node_id', how='outer')\n",
    "print(neigh_var_compare.shape[0])\n",
    "\n",
    "# export\n",
    "# neigh_var_compare.to_csv(os.path.join(export_f, 'neigh_vars_{}.csv'.format(year)), index=False)"
   ]
  },
  {
   "cell_type": "markdown",
   "id": "803179c9",
   "metadata": {},
   "source": [
    "### \"regional_vars\" <a class=\"anchor\" id=\"regional_vars\"></a>"
   ]
  },
  {
   "cell_type": "code",
   "execution_count": null,
   "id": "1d92ef44",
   "metadata": {},
   "outputs": [],
   "source": [
    "regional_var_np = pd.read_csv(os.path.join(folder, '{}_nodes_regional_{}.csv'.format(runs['NP'], year)))\n",
    "regional_var_p = pd.read_csv(os.path.join(folder, '{}_nodes_regional_{}.csv'.format(runs['P'], year)))\n",
    "\n",
    "# if identical between NP and P - they are identical in year 2010\n",
    "print(regional_var_p.equals(regional_var_np))\n",
    "\n",
    "\n",
    "# rename columns \n",
    "regional_var_np.columns = ['tmnode_id'] + [x+'_NP' for x in list(regional_var_np)[1:]]\n",
    "regional_var_p.columns = ['tmnode_id'] + [x+'_P' for x in list(regional_var_p)[1:]]\n",
    "\n",
    "# merge\n",
    "regional_var_compare = regional_var_np.merge(regional_var_p, on='tmnode_id', how='outer')\n",
    "regional_var_compare['year'] = year\n",
    "print(regional_var_compare.shape[0])\n",
    "\n",
    "# export\n",
    "regional_var_compare.to_csv(os.path.join(export_f, 'regional_vars_{}.csv'.format(year)), index=False)"
   ]
  },
  {
   "cell_type": "code",
   "execution_count": null,
   "id": "0f5e3450",
   "metadata": {},
   "outputs": [],
   "source": []
  },
  {
   "cell_type": "markdown",
   "id": "65b7243e",
   "metadata": {},
   "source": [
    "### \"rsh_simulate\" <a class=\"anchor\" id=\"rsh_simulate\"></a>"
   ]
  },
  {
   "cell_type": "markdown",
   "id": "24b90eba",
   "metadata": {},
   "source": [
    "Hedonic model generating unit-level price predictions based on config rsh.yaml.\n",
    "\n",
    "In the output table, 'unit_residential_price' is the predicted price, which is added to the \"residential_units\" table. Independent attributes come from \"aggregations\", which contains neighborhood and regional attributes (https://github.com/BayAreaMetro/bayarea_urbansim/blob/master/features.md#accessibility-variables).\n",
    "## all parameters used?- need to find out details about \"aggregations\", the meaning of the .yaml config files.\n",
    "\n",
    "This is when logsum from TM first enters into the modeling process."
   ]
  },
  {
   "cell_type": "markdown",
   "id": "dd89ca31",
   "metadata": {},
   "source": [
    "Based on the run log (e.g. run264.log), the first time logsum enters into the modeling process is in step \"rsh_simulate\" for base year (2010) --> applied in the hedonic model to estimate unit-level residential price (\"unit_residential_price\"). This is also when difference between P and NP first appears."
   ]
  },
  {
   "cell_type": "code",
   "execution_count": null,
   "id": "55129536",
   "metadata": {},
   "outputs": [],
   "source": [
    "# year 2010, output of 'rsh_simulate' step\n",
    "# https://github.com/BayAreaMetro/bayarea_urbansim/blob/820554cbabee51725c445b9fd211542db8876c9f/baus.py#L316\n",
    "\n",
    "# NP\n",
    "rsh_simulate_np_file = os.path.join(folder, '{}_residential_units_rshSim_{}.csv'.format(runs['NP'], year))\n",
    "building_np_file = os.path.join(folder, '{}_building_data_{}.csv'.format(runs['NP'], year))\n",
    "rsh_simulate_parcel_np = summarize_rsh_simulate_result_by_parcel(rsh_simulate_np_file, building_np_file)\n",
    "\n",
    "# P\n",
    "rsh_simulate_p_file = os.path.join(folder, '{}_residential_units_rshSim_{}.csv'.format(runs['P'], year))\n",
    "building_p_file = os.path.join(folder, '{}_building_data_{}.csv'.format(runs['P'], year))\n",
    "rsh_simulate_parcel_p = summarize_rsh_simulate_result_by_parcel(rsh_simulate_p_file, building_p_file)\n",
    "\n",
    "\n",
    "# merge P and NP and export\n",
    "rsh_simulate_parcel_np.columns = ['parcel_id'] + [x + '_NP' for x in list(rsh_simulate_parcel_np)[1:]]\n",
    "rsh_simulate_parcel_p.columns = ['parcel_id'] + [x + '_P' for x in list(rsh_simulate_parcel_p)[1:]]\n",
    "\n",
    "rsh_simulate_parcel_compare = rsh_simulate_parcel_np.merge(rsh_simulate_parcel_p, on='parcel_id', how='outer')\n",
    "\n",
    "rsh_simulate_parcel_compare.to_csv(os.path.join(export_f, 'rsh_simulate_by_parcel_{}.csv'.format(year)), index=False)"
   ]
  },
  {
   "cell_type": "markdown",
   "id": "18092f99",
   "metadata": {},
   "source": [
    "### question: \"unit_price\" from the \"buildings\" table - is that the total price of each unit? The model assumes all units of the same building have the same price?"
   ]
  },
  {
   "cell_type": "markdown",
   "id": "5be29f21",
   "metadata": {},
   "source": [
    "### \"rrh_simulate\"<a class=\"anchor\" id=\"rrh_simulate\"></a>"
   ]
  },
  {
   "cell_type": "markdown",
   "id": "adb995ce",
   "metadata": {},
   "source": [
    "\"unit_residential_rent\" doesn't use logsum"
   ]
  },
  {
   "cell_type": "code",
   "execution_count": null,
   "id": "ca73ef5b",
   "metadata": {},
   "outputs": [],
   "source": [
    "# output of 'rrh_simulate' step           \n",
    "\n",
    "# NP\n",
    "rrh_simulate_np_file = os.path.join(folder, '{}_residential_units_rrhSim_{}.csv'.format(runs['NP'], year))\n",
    "building_np_file = os.path.join(folder, '{}_building_data_{}.csv'.format(runs['NP'], year))\n",
    "rrh_simulate_parcel_np = summarize_rrh_simulate_result_by_parcel(rrh_simulate_np_file, building_np_file)\n",
    "\n",
    "# P\n",
    "rrh_simulate_p_file = os.path.join(folder, '{}_residential_units_rrhSim_{}.csv'.format(runs['P'], year))\n",
    "building_p_file = os.path.join(folder, '{}_building_data_{}.csv'.format(runs['P'], year))\n",
    "rrh_simulate_parcel_p = summarize_rrh_simulate_result_by_parcel(rrh_simulate_p_file, building_p_file)\n",
    "\n",
    "\n",
    "# merge P and NP and export\n",
    "rrh_simulate_parcel_np.columns = ['parcel_id'] + [x + '_NP' for x in list(rrh_simulate_parcel_np)[1:]]\n",
    "rrh_simulate_parcel_p.columns = ['parcel_id'] + [x + '_P' for x in list(rrh_simulate_parcel_p)[1:]]\n",
    "\n",
    "rrh_simulate_parcel_compare = rrh_simulate_parcel_np.merge(rrh_simulate_parcel_p, on='parcel_id', how='outer')\n",
    "\n",
    "rrh_simulate_parcel_compare.to_csv(os.path.join(export_f, 'rrh_simulate_by_parcel_{}.csv'.format(year)), index=False)"
   ]
  },
  {
   "cell_type": "markdown",
   "id": "5d6ed80c",
   "metadata": {},
   "source": [
    "### \"price_vars\"<a class=\"anchor\" id=\"price_vars\"></a>"
   ]
  },
  {
   "cell_type": "markdown",
   "id": "7120cefb",
   "metadata": {},
   "source": [
    "The step \"price_vars\" adds price variables to neighborhood_nodes, 4 new columns: 'residential', 'retail', 'office', 'industrial'. The 'residential' value feeds into \"parcel_sales_price_sqft_func\" (index as parcel_id and value as yearly_rent) of the feasibility model. For residential, it is the 'residential' field.\n",
    "https://github.com/BayAreaMetro/bayarea_urbansim/blob/820554cbabee51725c445b9fd211542db8876c9f/baus/variables.py#L538\n",
    "https://github.com/BayAreaMetro/bayarea_urbansim/blob/820554cbabee51725c445b9fd211542db8876c9f/baus/variables.py#L333\n",
    "\n",
    "However, the same \"residential\" value is called \"residential_sales_price_sqft\" in the feasibility setting. So is it rent or sales price?\n",
    "\n",
    "#### Are these prices or rent or something else?"
   ]
  },
  {
   "cell_type": "code",
   "execution_count": null,
   "id": "07417d07",
   "metadata": {},
   "outputs": [],
   "source": [
    "price_vars_np = pd.read_csv(os.path.join(folder, '{}_nodes_priceVars_{}.csv'.format(runs['NP'], year)))\n",
    "price_vars_p = pd.read_csv(os.path.join(folder, '{}_nodes_priceVars_{}.csv'.format(runs['P'], year)))\n",
    "\n",
    "# rename columns\n",
    "price_vars_np.columns = ['node_id'] + [x + '_NP' for x in list(price_vars_np)[1:]]\n",
    "price_vars_p.columns = ['node_id'] + [x + '_P' for x in list(price_vars_p)[1:]]\n",
    "\n",
    "# merge\n",
    "price_vars_compare = price_vars_np.merge(price_vars_p, on='node_id', how='outer')\n",
    "\n",
    "# export\n",
    "price_vars_compare.to_csv(os.path.join(export_f, 'price_vars_{}.csv'.format(year)), index=False)"
   ]
  },
  {
   "cell_type": "markdown",
   "id": "2c1daae6",
   "metadata": {},
   "source": [
    " ### \"parcel_summary\"<a class=\"anchor\" id=\"parcel_summary\"></a>"
   ]
  },
  {
   "cell_type": "code",
   "execution_count": null,
   "id": "9b081c09",
   "metadata": {},
   "outputs": [],
   "source": [
    "# NP parcel_data\n",
    "parcel_np_file = os.path.join(folder, '{}_parcel_data_{}.csv'.format(runs['NP'], year))\n",
    "parcel_np = load_housing_data_from_parcel(parcel_np_file,\n",
    "                                          ['tothh', 'zoned_du_underbuild', 'zoned_du',\n",
    "                                           'residential_units'])\n",
    "\n",
    "# P parcel_data\n",
    "parcel_p_file = os.path.join(folder, '{}_parcel_data_{}.csv'.format(runs['P'], year))\n",
    "parcel_p = load_housing_data_from_parcel(parcel_p_file,\n",
    "                                        ['tothh', 'zoned_du_underbuild', 'zoned_du',\n",
    "                                         'residential_units'])\n",
    "\n",
    "# merge P and NP and export\n",
    "parcel_np.columns = ['parcel_id'] + [x+'_NP' for x in list(parcel_np)[1:]]\n",
    "parcel_p.columns = ['parcel_id'] + [x+'_P' for x in list(parcel_p)[1:]]\n",
    "parcel_compare = parcel_np.merge(parcel_p, on='parcel_id', how='outer')\n",
    "display(parcel_compare)\n",
    "\n",
    "parcel_compare.to_csv(os.path.join(export_f, 'parcel_data_compare_{}.csv'.format(year)), index=False)"
   ]
  },
  {
   "cell_type": "markdown",
   "id": "fc14a170",
   "metadata": {},
   "source": [
    "### \"building_summary\"<a class=\"anchor\" id=\"building_summary\"></a>"
   ]
  },
  {
   "cell_type": "code",
   "execution_count": null,
   "id": "0b185ace",
   "metadata": {},
   "outputs": [],
   "source": [
    "# NP\n",
    "blg_np_file = os.path.join(folder, '{}_building_data_{}.csv'.format(runs['NP'], year))\n",
    "blg_parcel_np = summarize_units_by_source_from_blg(blg_np_file)\n",
    "print(blg_parcel_np.shape[0])\n",
    "display(blg_parcel_np.head())\n",
    "blg_parcel_np.dropna(axis=1, how='all', inplace=True)\n",
    "\n",
    "# P\n",
    "blg_p_file = os.path.join(folder, '{}_building_data_{}.csv'.format(runs['P'], year))\n",
    "blg_parcel_p = summarize_units_by_source_from_blg(blg_p_file)\n",
    "print(blg_parcel_p.shape[0])\n",
    "display(blg_parcel_p.head())\n",
    "blg_parcel_p.dropna(axis=1, how='all', inplace=True)\n",
    "\n",
    "# merge P and NP and export\n",
    "blg_parcel_np.columns = ['parcel_id'] + [x+'_NP' for x in list(blg_parcel_np)[1:]]\n",
    "blg_parcel_p.columns = ['parcel_id'] + [x+'_P' for x in list(blg_parcel_p)[1:]]\n",
    "blg_parcel_compare = blg_parcel_np.merge(blg_parcel_p, on='parcel_id', how='outer')\n",
    "display(blg_parcel_compare.head())\n",
    "\n",
    "blg_parcel_compare.to_csv(os.path.join(export_f, 'building_data_parcel_compare_{}.csv'.format(year)), index=False)"
   ]
  },
  {
   "cell_type": "code",
   "execution_count": null,
   "id": "7eb6e402",
   "metadata": {},
   "outputs": [],
   "source": []
  }
 ],
 "metadata": {
  "interpreter": {
   "hash": "e8915d7987048418bc3c0f3c686c4ca7845de2b7153c1f598e17959b68449445"
  },
  "kernelspec": {
   "display_name": "Python 3.7.6 ('base')",
   "language": "python",
   "name": "python3"
  },
  "language_info": {
   "codemirror_mode": {
    "name": "ipython",
    "version": 3
   },
   "file_extension": ".py",
   "mimetype": "text/x-python",
   "name": "python",
   "nbconvert_exporter": "python",
   "pygments_lexer": "ipython3",
   "version": "3.7.6"
  }
 },
 "nbformat": 4,
 "nbformat_minor": 5
}
