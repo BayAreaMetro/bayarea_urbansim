{
 "cells": [
  {
   "cell_type": "code",
   "execution_count": 1,
   "metadata": {
    "collapsed": false
   },
   "outputs": [],
   "source": [
    "%load_ext autoreload\n",
    "%autoreload 2\n",
    "if 'sim' not in globals():\n",
    "    import os; os.chdir('..')\n",
    "import models\n",
    "import urbansim.sim.simulation as sim\n",
    "from urbansim.maps import dframe_explorer"
   ]
  },
  {
   "cell_type": "code",
   "execution_count": null,
   "metadata": {
    "collapsed": false
   },
   "outputs": [
    {
     "name": "stdout",
     "output_type": "stream",
     "text": [
      "Filling column building_type_id with value 1 (0 values)\n",
      "Filling column residential_units with value 0 (0 values)\n",
      "Filling column year_built with value 1966.0 (0 values)\n",
      "Filling column non_residential_sqft with value 0 (0 values)\n",
      "Filling column shape_area with value 604.336158108 (0 values)\n",
      "Filling column zone_id with value 1178 (0 values)\n",
      "Initial unit tenure assignment: 56% owner occupied, 4% unfilled\n"
     ]
    }
   ],
   "source": [
    "d = {tbl: sim.get_table(tbl).to_frame() for tbl in ['buildings', 'households']}"
   ]
  },
  {
   "cell_type": "code",
   "execution_count": null,
   "metadata": {
    "collapsed": false
   },
   "outputs": [],
   "source": [
    "dframe_explorer.start(d, \n",
    "        center=[37.7792, -122.2191],\n",
    "        zoom=11,\n",
    "        shape_json='data/zones.json',\n",
    "        geom_name='ZONE_ID', # from JSON file\n",
    "        join_name='zone_id', # from data frames\n",
    "        precision=2)"
   ]
  },
  {
   "cell_type": "markdown",
   "metadata": {},
   "source": [
    "### [Click here to explore dataset](http://localhost:8765)   \n",
    " (prior cell launches web process, so it will appear unfinished)"
   ]
  },
  {
   "cell_type": "code",
   "execution_count": null,
   "metadata": {
    "collapsed": false
   },
   "outputs": [],
   "source": []
  }
 ],
 "metadata": {
  "kernelspec": {
   "display_name": "Python 2",
   "language": "python",
   "name": "python2"
  },
  "language_info": {
   "codemirror_mode": {
    "name": "ipython",
    "version": 2
   },
   "file_extension": ".py",
   "mimetype": "text/x-python",
   "name": "python",
   "nbconvert_exporter": "python",
   "pygments_lexer": "ipython2",
   "version": "2.7.9"
  }
 },
 "nbformat": 4,
 "nbformat_minor": 0
}
