{
 "cells": [
  {
   "cell_type": "code",
   "execution_count": 1,
   "metadata": {
    "collapsed": true
   },
   "outputs": [],
   "source": [
    "%load_ext autoreload\n",
    "%autoreload 2"
   ]
  },
  {
   "cell_type": "code",
   "execution_count": 2,
   "metadata": {
    "collapsed": false
   },
   "outputs": [],
   "source": [
    "import os; os.chdir('..')\n",
    "import models\n",
    "import orca\n",
    "from urbansim.maps import dframe_explorer"
   ]
  },
  {
   "cell_type": "code",
   "execution_count": 3,
   "metadata": {
    "collapsed": true
   },
   "outputs": [
    {
     "name": "stdout",
     "output_type": "stream",
     "text": [
      "Running iteration 1 with iteration value 2010\n",
      "Running step 'neighborhood_vars'\n",
      "Computing accessibility variables\n",
      "Computing sum_residential_units\n",
      "Filling column building_type_id with value 1 (0 values)\n",
      "Filling column residential_units with value 0 (0 values)\n",
      "Filling column year_built with value 1966.0 (0 values)\n",
      "Filling column non_residential_sqft with value 0 (0 values)\n",
      "WARNING: this has the hard-coded version which unrealistically increases non-residential square footage to house all the base year jobs\n",
      "Filling column _node_id with value 91839.0 (4 values)\n",
      "Filling column shape_area with value 604.336158108 (0 values)\n",
      "Filling column zone_id with value 1178 (0 values)\n",
      "Computing sum_nonresidential_units\n",
      "Computing ave_sqft_per_unit\n",
      "Computing ave_lot_size_per_unit\n",
      "Computing population\n",
      "Computing poor\n",
      "Computing blacks\n",
      "Removed 3495 rows because they contain missing values\n",
      "Computing hispanics\n",
      "Removed 5989 rows because they contain missing values\n",
      "Computing asians\n",
      "Removed 7970 rows because they contain missing values\n",
      "Computing renters\n",
      "Computing sfdu\n",
      "Computing ave_hhsize\n",
      "Computing jobs\n",
      "Computing ave_income\n",
      "       sum_residential_units  sum_nonresidential_units  ave_sqft_per_unit  \\\n",
      "count          226060.000000             226060.000000      226060.000000   \n",
      "mean                5.959528                  5.270322           7.233096   \n",
      "std                 1.829781                  2.601860           1.271255   \n",
      "min                 0.000000                  0.000000           0.000000   \n",
      "25%                 5.517122                  4.066589           7.258171   \n",
      "50%                 6.443733                  6.024277           7.414018   \n",
      "75%                 7.027597                  7.063817           7.592335   \n",
      "max                10.149053                 11.929914           8.699681   \n",
      "\n",
      "       ave_lot_size_per_unit     population           poor         blacks  \\\n",
      "count          226060.000000  226060.000000  226060.000000  226060.000000   \n",
      "mean                8.929325       6.825233       5.364610       3.762311   \n",
      "std                 1.933885       1.974727       1.966817       1.985548   \n",
      "min                 0.000000       0.000000       0.000000       0.000000   \n",
      "25%                 8.563902       6.400006       4.527863       2.571602   \n",
      "50%                 8.892104       7.388415       5.782141       3.990696   \n",
      "75%                 9.366335       7.991682       6.655470       5.062765   \n",
      "max                17.866968      10.553695      10.054707       8.750156   \n",
      "\n",
      "           hispanics         asians        renters           sfdu  \\\n",
      "count  226060.000000  226060.000000  226060.000000  226060.000000   \n",
      "mean        4.886845       4.885518       4.052804       5.343503   \n",
      "std         1.926005       2.101958       1.519045       1.749075   \n",
      "min         0.000000       0.000000       0.000000       0.000000   \n",
      "25%         3.933408       3.906737       3.515182       4.958143   \n",
      "50%         5.348966       5.286745       4.429089       5.906678   \n",
      "75%         6.210896       6.424274       5.041246       6.438469   \n",
      "max         8.948419       9.559209       7.257352       8.095656   \n",
      "\n",
      "          ave_hhsize           jobs     ave_income  \n",
      "count  226060.000000  226060.000000  226060.000000  \n",
      "mean        1.248310       5.301717      10.934395  \n",
      "std         0.255474       2.241775       1.963421  \n",
      "min         0.000000       0.000000       0.000000  \n",
      "25%         1.199903       4.195786      11.037576  \n",
      "50%         1.279776       5.800490      11.259076  \n",
      "75%         1.367688       6.826318      11.488537  \n",
      "max         2.079442      11.713364      13.171155  \n",
      "Time to execute step 'neighborhood_vars': 67.17 s\n",
      "Running step 'rsh_simulate'\n",
      "Initial unit tenure assignment: 56% owner occupied, 4% unfilled\n",
      "count    2785789.000000\n",
      "mean         430.000405\n",
      "std          143.799876\n",
      "min            2.071219\n",
      "25%          333.933208\n",
      "50%          405.252250\n",
      "75%          497.174875\n",
      "max         1486.007395\n",
      "dtype: float64\n",
      "Time to execute step 'rsh_simulate': 39.88 s\n",
      "Running step 'rrh_simulate'\n",
      "count    2785789.000000\n",
      "mean           2.286896\n",
      "std            0.653378\n",
      "min            0.529291\n",
      "25%            1.851349\n",
      "50%            2.154488\n",
      "75%            2.601086\n",
      "max           11.155477\n",
      "dtype: float64\n",
      "Time to execute step 'rrh_simulate': 7.17 s\n",
      "Total time to execute iteration 1 with iteration value 2010: 114.22 s\n"
     ]
    }
   ],
   "source": [
    "# Run some model steps\n",
    "orca.run([\n",
    "    \"neighborhood_vars\",\n",
    "    \"rsh_simulate\",\n",
    "    \"rrh_simulate\",    \n",
    "], iter_vars=[2010])"
   ]
  },
  {
   "cell_type": "code",
   "execution_count": 4,
   "metadata": {
    "collapsed": false
   },
   "outputs": [],
   "source": [
    "d = {tbl: orca.get_table(tbl).to_frame() for tbl in \n",
    "         ['buildings', 'residential_units', 'households']}"
   ]
  },
  {
   "cell_type": "code",
   "execution_count": null,
   "metadata": {
    "collapsed": false
   },
   "outputs": [
    {
     "name": "stderr",
     "output_type": "stream",
     "text": [
      "Bottle v0.12.8 server starting up (using WSGIRefServer())...\n",
      "Listening on http://localhost:8765/\n",
      "Hit Ctrl-C to quit.\n",
      "\n",
      "127.0.0.1 - - [30/Aug/2015 22:47:13] \"GET / HTTP/1.1\" 200 28533\n"
     ]
    }
   ],
   "source": [
    "dframe_explorer.start(d, \n",
    "        center=[37.7792, -122.2191],\n",
    "        zoom=11,\n",
    "        shape_json='data/zones.json',\n",
    "        geom_name='ZONE_ID', # from JSON file\n",
    "        join_name='zone_id', # from data frames\n",
    "        precision=2)"
   ]
  },
  {
   "cell_type": "markdown",
   "metadata": {},
   "source": [
    "### [Click here to explore dataset](http://localhost:8765)   \n",
    " (prior cell launches web process, so it will appear unfinished)"
   ]
  },
  {
   "cell_type": "code",
   "execution_count": null,
   "metadata": {
    "collapsed": false
   },
   "outputs": [],
   "source": []
  }
 ],
 "metadata": {
  "kernelspec": {
   "display_name": "Python 2",
   "language": "python",
   "name": "python2"
  },
  "language_info": {
   "codemirror_mode": {
    "name": "ipython",
    "version": 2
   },
   "file_extension": ".py",
   "mimetype": "text/x-python",
   "name": "python",
   "nbconvert_exporter": "python",
   "pygments_lexer": "ipython2",
   "version": "2.7.9"
  }
 },
 "nbformat": 4,
 "nbformat_minor": 0
}
