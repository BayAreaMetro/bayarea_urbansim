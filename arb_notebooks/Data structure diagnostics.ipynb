{
 "cells": [
  {
   "cell_type": "markdown",
   "metadata": {},
   "source": [
    "## Data structure diagnostics\n",
    "\n",
    "Sam Maurer, August 2015"
   ]
  },
  {
   "cell_type": "code",
   "execution_count": 1,
   "metadata": {
    "collapsed": true
   },
   "outputs": [],
   "source": [
    "# Goal is to put together a flowchart of what data is used for \n",
    "# each model, and where it comes from"
   ]
  },
  {
   "cell_type": "code",
   "execution_count": 2,
   "metadata": {
    "collapsed": false
   },
   "outputs": [],
   "source": [
    "%load_ext autoreload\n",
    "%autoreload 2\n",
    "if 'sim' not in globals():\n",
    "    import os; os.chdir('..')\n",
    "import models\n",
    "import datasources\n",
    "import urbansim.sim.simulation as sim"
   ]
  },
  {
   "cell_type": "code",
   "execution_count": null,
   "metadata": {
    "collapsed": true
   },
   "outputs": [],
   "source": [
    "# Generate the network vars -- there may also be other columns that don't show up\n",
    "# until particular models are run..."
   ]
  },
  {
   "cell_type": "code",
   "execution_count": 3,
   "metadata": {
    "collapsed": false
   },
   "outputs": [],
   "source": [
    "%%capture\n",
    "sim.run([\"neighborhood_vars\"]);"
   ]
  },
  {
   "cell_type": "markdown",
   "metadata": {},
   "source": [
    "## List tables and columns"
   ]
  },
  {
   "cell_type": "code",
   "execution_count": 4,
   "metadata": {
    "collapsed": false
   },
   "outputs": [
    {
     "data": {
      "text/plain": [
       "['zones',\n",
       " 'buildings',\n",
       " 'residential_units',\n",
       " 'jobs',\n",
       " 'zoning_test',\n",
       " 'household_controls',\n",
       " 'craigslist',\n",
       " 'parcels_geography',\n",
       " 'households',\n",
       " 'costar',\n",
       " 'household_extras',\n",
       " 'homesales',\n",
       " 'employment_controls',\n",
       " 'logsums',\n",
       " 'nodes',\n",
       " 'zoning_baseline',\n",
       " 'parcels']"
      ]
     },
     "execution_count": 4,
     "metadata": {},
     "output_type": "execute_result"
    }
   ],
   "source": [
    "sim.list_tables()"
   ]
  },
  {
   "cell_type": "code",
   "execution_count": 5,
   "metadata": {
    "collapsed": false,
    "scrolled": false
   },
   "outputs": [
    {
     "name": "stdout",
     "output_type": "stream",
     "text": [
      "ZONES\n",
      "\n",
      "from table definition:\n",
      "['gid', 'tract', 'area', 'acres']\n",
      "\n",
      "registered separately:\n",
      "[]\n",
      "\n",
      "BUILDINGS\n",
      "\n",
      "from table definition:\n",
      "['parcel_id', 'residential_units', 'residential_sqft', 'non_residential_sqft', 'building_sqft', 'stories', 'year_built', 'redfin_sale_year', 'building_type_id', 'residential_price', 'non_residential_price']\n",
      "\n",
      "registered separately:\n",
      "['sqft_per_unit', 'node_id', 'general_type', 'residential_price', 'vacant_residential_units', 'residential_rent', 'job_spaces', 'vacant_job_spaces', 'sqft_per_job', 'lot_size_per_unit', 'zone_id']\n",
      "\n",
      "RESIDENTIAL_UNITS\n",
      "\n",
      "from table definition:\n",
      "Initial unit tenure assignment: 56% owner occupied, 4% unfilled\n",
      "['building_id', 'deed_restricted', 'num_units', 'unit_num', 'unit_residential_price', 'unit_residential_rent', 'unit_tenure']\n",
      "\n",
      "registered separately:\n",
      "['submarket_id', 'vacant_units']\n",
      "\n",
      "JOBS\n",
      "\n",
      "from table definition:\n",
      "['sector_id', 'taz', 'building_id']\n",
      "\n",
      "registered separately:\n",
      "['empsix_id', 'node_id', 'zone_id', 'naics', 'empsix']\n",
      "\n",
      "ZONING_TEST\n",
      "\n",
      "from table definition:\n",
      "File ./data/2015_06_01_parcels_to_zoning.csv does not exist\n",
      "\n",
      "registered separately:\n",
      "[]\n",
      "\n",
      "HOUSEHOLD_CONTROLS\n",
      "\n",
      "from table definition:\n",
      "['income_quartile', 'total_number_of_households']\n",
      "\n",
      "registered separately:\n",
      "[]\n",
      "\n",
      "CRAIGSLIST\n",
      "\n",
      "from table definition:\n",
      "['neighborhood', 'price', 'bedrooms', 'date', 'sqft_per_unit', 'longitude', 'latitude', 'price_sqft', 'node_id']\n",
      "\n",
      "registered separately:\n",
      "['zone_id']\n",
      "\n",
      "PARCELS_GEOGRAPHY\n",
      "\n",
      "from table definition:\n",
      "File ./data/2015_06_01_parcels_geography.csv does not exist\n",
      "\n",
      "registered separately:\n",
      "[]\n",
      "\n",
      "HOUSEHOLDS\n",
      "\n",
      "from table definition:\n",
      "['taz', 'serialno', 'puma5', 'income', 'persons', 'hht', 'unittype', 'noc', 'bldgsz', 'tenure', 'vehicl', 'hinccat1', 'hinccat2', 'hhagecat', 'hsizecat', 'hfamily', 'hunittype', 'hnoccat', 'hwrkrcat', 'h0004', 'h0511', 'h1215', 'h1617', 'h1824', 'h2534', 'h3549', 'h5064', 'h6579', 'h80up', 'hworkers', 'hwork_f', 'hwork_p', 'huniv', 'hnwork', 'hretire', 'hpresch', 'hschpred', 'hschdriv', 'htypdwel', 'hownrent', 'hadnwst', 'hadwpst', 'hadkids', 'bucketbin', 'originalpuma', 'hmultiunit', 'unit_id']\n",
      "\n",
      "registered separately:\n",
      "['white', 'building_id', 'asian', 'hisp', 'node_id', 'income_quartile', 'zone_id', 'black']\n",
      "\n",
      "COSTAR\n",
      "\n",
      "from table definition:\n",
      "['X', 'Y', 'PropertyType', 'Res', 'City', 'county', 'averageweightedrent', 'rentable_building_area', 'building_class', 'parking_ratio', 'percent_leased', 'number_of_stories', 'year_built', 'zoning', 'fname', 'same', 'two', 'ok', 'parcel_id', '_node_id0', '_node_id1', '_node_id2', '_node_id']\n",
      "\n",
      "registered separately:\n",
      "['node_id', 'general_type', 'rent', 'stories', 'zone_id']\n",
      "\n",
      "HOUSEHOLD_EXTRAS\n",
      "\n",
      "from table definition:\n",
      "['puma1', 'asian', 'black', 'hisp', 'white']\n",
      "\n",
      "registered separately:\n",
      "[]\n",
      "\n",
      "HOMESALES\n",
      "\n",
      "from table definition:\n",
      "['parcel_id', 'development_type_id', 'improvement_value', 'residential_units', 'residential_sqft', 'sqft_per_unit', 'non_residential_sqft', 'building_sqft', 'nonres_rent_per_sqft', 'res_price_per_sqft', 'stories', 'year_built', 'redfin_sale_price', 'redfin_sale_year', 'redfin_home_type', 'costar_property_type', 'costar_rent', 'building_type_id', 'price_per_sqft']\n",
      "\n",
      "registered separately:\n",
      "['zone_id', 'node_id']\n",
      "\n",
      "EMPLOYMENT_CONTROLS\n",
      "\n",
      "from table definition:\n",
      "['empsix_id', 'number_of_jobs']\n",
      "\n",
      "registered separately:\n",
      "[]\n",
      "\n",
      "LOGSUMS\n",
      "\n",
      "from table definition:\n",
      "['autoPeakRetail', 'autoPeakTotal', 'autoOffPeakRetail', 'autoOffPeakTotal', 'transitPeakRetail', 'transitPeakTotal', 'transitOffPeakRetail', 'transitOffPeakTotal', 'nonMotorizedRetail', 'nonMotorizedTotal']\n",
      "\n",
      "registered separately:\n",
      "[]\n",
      "\n",
      "NODES\n",
      "\n",
      "from table definition:\n",
      "['sum_residential_units', 'sum_nonresidential_units', 'ave_sqft_per_unit', 'ave_lot_size_per_unit', 'population', 'poor', 'renters', 'sfdu', 'ave_hhsize', 'jobs', 'ave_income']\n",
      "\n",
      "registered separately:\n",
      "['poverty_rate']\n",
      "\n",
      "ZONING_BASELINE\n",
      "\n",
      "from table definition:\n",
      "['id', 'juris', 'city', 'name', 'min_far', 'max_far', 'max_height', 'min_front_setback', 'max_front_setback', 'side_setback', 'rear_setback', 'min_dua', 'max_dua', 'coverage', 'max_du_per_parcel', 'min_lot_size', 'type1', 'type2', 'type3', 'type4', 'type5', 'sc', 'type7', 'type8', 'type9', 'type10', 'type11', 'type12', 'type13', 'type14']\n",
      "\n",
      "registered separately:\n",
      "[]\n",
      "\n",
      "PARCELS\n",
      "\n",
      "from table definition:\n",
      "['development_type_id', 'land_value', 'acres', 'county_id', 'zone_id', 'zoning_id', 'proportion_undevelopable', 'tax_exempt_status', 'apn', 'parcel_id_local', 'geom_id', 'imputation_flag', 'x', 'y', 'shape_area', '_node_id']\n",
      "\n",
      "registered separately:\n",
      "['ave_sqft_per_unit', 'cost_shifters', 'building_purchase_price', 'max_height', 'total_job_spaces', 'residential_sales_price_sqft', 'parcel_acres', 'node_id', 'residential_purchase_price_sqft', 'total_residential_units', 'land_cost', 'total_sqft', 'county', 'max_far', 'parcel_size', 'building_purchase_price_sqft', 'zoned_du', 'max_dua', 'ave_unit_size', 'oldest_building', 'lot_size_per_unit', 'zoned_du_underbuild']\n",
      "\n"
     ]
    },
    {
     "name": "stderr",
     "output_type": "stream",
     "text": [
      "/Users/smmaurer/anaconda/lib/python2.7/site-packages/pandas/io/parsers.py:1164: DtypeWarning: Columns (2) have mixed types. Specify dtype option on import or set low_memory=False.\n",
      "  data = self._reader.read(nrows)\n"
     ]
    }
   ],
   "source": [
    "# List columns within each table, both those coded in the table definition\n",
    "# and those registered separately\n",
    "\n",
    "for t in sim.list_tables():\n",
    "    print t.upper()\n",
    "    print \"\\nfrom table definition:\"\n",
    "    try:\n",
    "        print sim.get_table(t).local_columns\n",
    "    except Exception, e:\n",
    "        print e\n",
    "    print \"\\nregistered separately:\"\n",
    "    print [p[1] for p in sim.list_columns() if p[0]==t]\n",
    "    print"
   ]
  },
  {
   "cell_type": "markdown",
   "metadata": {},
   "source": [
    "## List models, injectables, broadcasts"
   ]
  },
  {
   "cell_type": "code",
   "execution_count": 4,
   "metadata": {
    "collapsed": false
   },
   "outputs": [
    {
     "data": {
      "text/plain": [
       "['households_transition',\n",
       " 'pusher',\n",
       " 'diagnostic_output',\n",
       " 'calc_prop_taxes',\n",
       " 'feasibility',\n",
       " 'hlcm_estimate',\n",
       " 'jobs_relocation',\n",
       " 'clear_cache',\n",
       " 'price_vars',\n",
       " 'simple_jobs_transition',\n",
       " 'residential_developer',\n",
       " 'rsh_simulate',\n",
       " 'jobs_transition',\n",
       " 'nrh_estimate',\n",
       " 'nrh_simulate',\n",
       " 'simple_households_transition',\n",
       " 'neighborhood_vars',\n",
       " 'hlcm_simulate',\n",
       " 'non_residential_developer',\n",
       " 'travel_model_output',\n",
       " 'subsidized_residential_developer',\n",
       " 'elcm_simulate',\n",
       " 'elcm_estimate',\n",
       " 'rsh_estimate',\n",
       " 'households_relocation']"
      ]
     },
     "execution_count": 4,
     "metadata": {},
     "output_type": "execute_result"
    }
   ],
   "source": [
    "sim.list_models()"
   ]
  },
  {
   "cell_type": "code",
   "execution_count": 5,
   "metadata": {
    "collapsed": false
   },
   "outputs": [
    {
     "data": {
      "text/plain": [
       "['building_type_map',\n",
       " 'run_number',\n",
       " 'uuid',\n",
       " 'scenario',\n",
       " 'settings',\n",
       " 'parcel_is_allowed_func',\n",
       " 'aggregations',\n",
       " 'summary',\n",
       " 'parcel_average_price',\n",
       " 'scenario_inputs',\n",
       " 'parcel_sales_price_sqft_func',\n",
       " 'form_to_btype_func',\n",
       " 'supply_and_demand_multiplier_func',\n",
       " 'add_extra_columns_func',\n",
       " 'building_sqft_per_job',\n",
       " 'net',\n",
       " 'acct_settings',\n",
       " 'store',\n",
       " 'coffer']"
      ]
     },
     "execution_count": 5,
     "metadata": {},
     "output_type": "execute_result"
    }
   ],
   "source": [
    "sim.list_injectables()"
   ]
  },
  {
   "cell_type": "code",
   "execution_count": 6,
   "metadata": {
    "collapsed": false
   },
   "outputs": [
    {
     "data": {
      "text/plain": [
       "[('logsums', 'parcels'),\n",
       " ('parcels_geography', 'buildings'),\n",
       " ('buildings', 'households'),\n",
       " ('nodes', 'parcels'),\n",
       " ('nodes', 'homesales'),\n",
       " ('nodes', 'buildings'),\n",
       " ('parcels', 'buildings'),\n",
       " ('logsums', 'costar'),\n",
       " ('logsums', 'buildings'),\n",
       " ('nodes', 'costar'),\n",
       " ('logsums', 'homesales'),\n",
       " ('buildings', 'jobs')]"
      ]
     },
     "execution_count": 6,
     "metadata": {},
     "output_type": "execute_result"
    }
   ],
   "source": [
    "sim.list_broadcasts()"
   ]
  },
  {
   "cell_type": "markdown",
   "metadata": {
    "collapsed": true
   },
   "source": [
    "## Dig into particular data series as needed"
   ]
  },
  {
   "cell_type": "code",
   "execution_count": 8,
   "metadata": {
    "collapsed": false
   },
   "outputs": [],
   "source": [
    "hh = sim.get_table('households').to_frame()"
   ]
  },
  {
   "cell_type": "code",
   "execution_count": 15,
   "metadata": {
    "collapsed": false
   },
   "outputs": [
    {
     "data": {
      "text/plain": [
       "2732722"
      ]
     },
     "execution_count": 15,
     "metadata": {},
     "output_type": "execute_result"
    }
   ],
   "source": [
    "len(hh)"
   ]
  },
  {
   "cell_type": "code",
   "execution_count": 11,
   "metadata": {
    "collapsed": false
   },
   "outputs": [
    {
     "name": "stdout",
     "output_type": "stream",
     "text": [
      "                white           black           asian            hisp\n",
      "count  2608019.000000  2608019.000000  2608019.000000  2608019.000000\n",
      "mean         0.686555        0.080798        0.174240        0.129447\n",
      "std          0.463894        0.272524        0.379315        0.335694\n",
      "min          0.000000        0.000000        0.000000        0.000000\n",
      "25%          0.000000        0.000000        0.000000        0.000000\n",
      "50%          1.000000        0.000000        0.000000        0.000000\n",
      "75%          1.000000        0.000000        0.000000        0.000000\n",
      "max          1.000000        1.000000        1.000000        1.000000\n"
     ]
    }
   ],
   "source": [
    "print hh[['white','black','asian','hisp']].describe()"
   ]
  },
  {
   "cell_type": "code",
   "execution_count": null,
   "metadata": {
    "collapsed": true
   },
   "outputs": [],
   "source": []
  },
  {
   "cell_type": "code",
   "execution_count": null,
   "metadata": {
    "collapsed": true
   },
   "outputs": [],
   "source": []
  },
  {
   "cell_type": "code",
   "execution_count": null,
   "metadata": {
    "collapsed": true
   },
   "outputs": [],
   "source": []
  },
  {
   "cell_type": "code",
   "execution_count": null,
   "metadata": {
    "collapsed": true
   },
   "outputs": [],
   "source": []
  },
  {
   "cell_type": "code",
   "execution_count": null,
   "metadata": {
    "collapsed": true
   },
   "outputs": [],
   "source": []
  }
 ],
 "metadata": {
  "kernelspec": {
   "display_name": "Python 2",
   "language": "python",
   "name": "python2"
  },
  "language_info": {
   "codemirror_mode": {
    "name": "ipython",
    "version": 2
   },
   "file_extension": ".py",
   "mimetype": "text/x-python",
   "name": "python",
   "nbconvert_exporter": "python",
   "pygments_lexer": "ipython2",
   "version": "2.7.9"
  }
 },
 "nbformat": 4,
 "nbformat_minor": 0
}
