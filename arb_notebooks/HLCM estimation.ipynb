{
 "cells": [
  {
   "cell_type": "code",
   "execution_count": null,
   "metadata": {
    "collapsed": true
   },
   "outputs": [],
   "source": []
  },
  {
   "cell_type": "markdown",
   "metadata": {
    "collapsed": true
   },
   "source": [
    "## HLCM estimation\n",
    "\n",
    "Sam Maurer and Paul Waddell, August 2015"
   ]
  },
  {
   "cell_type": "code",
   "execution_count": 1,
   "metadata": {
    "collapsed": false
   },
   "outputs": [],
   "source": [
    "%load_ext autoreload\n",
    "%autoreload 2"
   ]
  },
  {
   "cell_type": "code",
   "execution_count": 2,
   "metadata": {
    "collapsed": true
   },
   "outputs": [],
   "source": [
    "import os; os.chdir('..')\n",
    "import models\n",
    "import orca"
   ]
  },
  {
   "cell_type": "code",
   "execution_count": null,
   "metadata": {
    "collapsed": true
   },
   "outputs": [],
   "source": [
    "# Set up network aggregations and fitted prices"
   ]
  },
  {
   "cell_type": "code",
   "execution_count": 3,
   "metadata": {
    "collapsed": false
   },
   "outputs": [],
   "source": [
    "%%capture\n",
    "orca.run([\"neighborhood_vars\"])"
   ]
  },
  {
   "cell_type": "code",
   "execution_count": 4,
   "metadata": {
    "collapsed": false
   },
   "outputs": [],
   "source": [
    "%%capture\n",
    "orca.run([\"rsh_simulate\", \"rrh_simulate\", \"nrh_simulate\"])"
   ]
  },
  {
   "cell_type": "markdown",
   "metadata": {},
   "source": [
    "## HLCM for owners"
   ]
  },
  {
   "cell_type": "code",
   "execution_count": null,
   "metadata": {
    "collapsed": true
   },
   "outputs": [],
   "source": [
    "# The model expression is in hlcm_owner.yaml and it's registered in models.py"
   ]
  },
  {
   "cell_type": "code",
   "execution_count": 7,
   "metadata": {
    "collapsed": false
   },
   "outputs": [
    {
     "name": "stdout",
     "output_type": "stream",
     "text": [
      "Running step 'hlcm_owner_estimate'\n",
      "LCM RESULTS FOR SEGMENT 1\n",
      "\n",
      "Null Log-liklihood: -69003.870\n",
      "Log-liklihood at convergence: -66749.138\n",
      "Log-liklihood Ratio: 0.033\n",
      "\n",
      "+-----------------------------+-------------+------------+---------+\n",
      "| Component                   | Coefficient | Std. Error | T-Score |\n",
      "+-----------------------------+-------------+------------+---------+\n",
      "| np.log1p(residential_price) |    0.009    |   0.004    |  2.547  |\n",
      "| np.log1p(residential_units) |    -0.112   |   0.006    | -17.638 |\n",
      "| ave_income                  |    -0.465   |   0.010    | -44.424 |\n",
      "| np.log1p(white * pct_white) |    6.161    |   0.009    | 705.067 |\n",
      "| np.log1p(black * pct_black) |    6.192    |   0.011    | 555.209 |\n",
      "| np.log1p(hisp * pct_hisp)   |    5.817    |   0.007    | 850.933 |\n",
      "| np.log1p(asian * pct_asian) |    5.253    |   0.010    | 506.489 |\n",
      "| autoPeakTotal               |    -0.139   |   0.010    | -14.355 |\n",
      "+-----------------------------+-------------+------------+---------+\n",
      "LCM RESULTS FOR SEGMENT 2\n",
      "\n",
      "Null Log-liklihood: -68967.029\n",
      "Log-liklihood at convergence: -66799.025\n",
      "Log-liklihood Ratio: 0.031\n",
      "\n",
      "+-----------------------------+-------------+------------+---------+\n",
      "| Component                   | Coefficient | Std. Error | T-Score |\n",
      "+-----------------------------+-------------+------------+---------+\n",
      "| np.log1p(residential_price) |    -0.008   |   0.004    |  -2.095 |\n",
      "| np.log1p(residential_units) |    -0.106   |   0.006    | -16.472 |\n",
      "| ave_income                  |    -0.172   |   0.010    | -16.762 |\n",
      "| np.log1p(white * pct_white) |    5.258    |   0.009    | 605.460 |\n",
      "| np.log1p(black * pct_black) |    5.467    |   0.012    | 473.829 |\n",
      "| np.log1p(hisp * pct_hisp)   |    5.944    |   0.007    | 862.246 |\n",
      "| np.log1p(asian * pct_asian) |    5.555    |   0.010    | 547.130 |\n",
      "| autoPeakTotal               |    -0.231   |   0.010    | -24.107 |\n",
      "+-----------------------------+-------------+------------+---------+\n",
      "LCM RESULTS FOR SEGMENT 3\n",
      "\n",
      "Null Log-liklihood: -69017.686\n",
      "Log-liklihood at convergence: -66931.927\n",
      "Log-liklihood Ratio: 0.030\n",
      "\n",
      "+-----------------------------+-------------+------------+---------+\n",
      "| Component                   | Coefficient | Std. Error | T-Score |\n",
      "+-----------------------------+-------------+------------+---------+\n",
      "| np.log1p(residential_price) |    -0.039   |   0.005    |  -8.387 |\n",
      "| np.log1p(residential_units) |    -0.113   |   0.007    | -17.204 |\n",
      "| ave_income                  |    0.471    |   0.010    |  45.416 |\n",
      "| np.log1p(white * pct_white) |    3.480    |   0.009    | 409.146 |\n",
      "| np.log1p(black * pct_black) |    4.534    |   0.012    | 384.871 |\n",
      "| np.log1p(hisp * pct_hisp)   |    5.483    |   0.007    | 776.218 |\n",
      "| np.log1p(asian * pct_asian) |    5.504    |   0.010    | 564.498 |\n",
      "| autoPeakTotal               |    -0.296   |   0.010    | -30.142 |\n",
      "+-----------------------------+-------------+------------+---------+\n",
      "LCM RESULTS FOR SEGMENT 4\n",
      "\n",
      "Null Log-liklihood: -68990.055\n",
      "Log-liklihood at convergence: -64686.553\n",
      "Log-liklihood Ratio: 0.062\n",
      "\n",
      "+-----------------------------+-------------+------------+---------+\n",
      "| Component                   | Coefficient | Std. Error | T-Score |\n",
      "+-----------------------------+-------------+------------+---------+\n",
      "| np.log1p(residential_price) |    -0.012   |   0.004    |  -2.818 |\n",
      "| np.log1p(residential_units) |    -0.087   |   0.007    | -12.620 |\n",
      "| ave_income                  |    1.912    |   0.011    | 172.660 |\n",
      "| np.log1p(white * pct_white) |    5.519    |   0.011    | 515.096 |\n",
      "| np.log1p(black * pct_black) |    4.442    |   0.014    | 306.653 |\n",
      "| np.log1p(hisp * pct_hisp)   |    4.161    |   0.009    | 477.496 |\n",
      "| np.log1p(asian * pct_asian) |    5.050    |   0.012    | 433.062 |\n",
      "| autoPeakTotal               |    -0.160   |   0.010    | -15.463 |\n",
      "+-----------------------------+-------------+------------+---------+\n",
      "Time to execute step 'hlcm_owner_estimate': 38.04 s\n",
      "Total time to execute iteration 1 with iteration value None: 38.04 s\n"
     ]
    }
   ],
   "source": [
    "orca.run([\"hlcm_owner_estimate\"])"
   ]
  },
  {
   "cell_type": "code",
   "execution_count": null,
   "metadata": {
    "collapsed": true
   },
   "outputs": [],
   "source": [
    "# to try variations, create a new yaml file and run this to register it\n",
    "\n",
    "@orca.model()\n",
    "def hlcm_owner_estimate_NEW(households, residential_units, unit_aggregations):\n",
    "    return utils.lcm_estimate(\"hlcm_owner_NEW.yaml\", households, \"unit_id\",\n",
    "                              residential_units, unit_aggregations)\n",
    "\n",
    "orca.run([\"hlcm_owner_estimate_NEW\"])"
   ]
  },
  {
   "cell_type": "code",
   "execution_count": null,
   "metadata": {
    "collapsed": true
   },
   "outputs": [],
   "source": []
  },
  {
   "cell_type": "markdown",
   "metadata": {
    "collapsed": true
   },
   "source": [
    "## HLCM for renters"
   ]
  },
  {
   "cell_type": "code",
   "execution_count": 6,
   "metadata": {
    "collapsed": false
   },
   "outputs": [
    {
     "name": "stdout",
     "output_type": "stream",
     "text": [
      "Running step 'hlcm_renter_estimate'\n",
      "LCM RESULTS FOR SEGMENT 1\n",
      "\n",
      "Null Log-liklihood: -62708.602\n",
      "Log-liklihood at convergence: -58770.704\n",
      "Log-liklihood Ratio: 0.063\n",
      "\n",
      "+----------------------------------------------+-------------+------------+---------+\n",
      "| Component                                    | Coefficient | Std. Error | T-Score |\n",
      "+----------------------------------------------+-------------+------------+---------+\n",
      "| np.log1p(unit_annual_rent / positive_income) |    0.001    |   0.003    |  0.224  |\n",
      "| np.log1p(residential_units)                  |    0.054    |   0.006    |  9.084  |\n",
      "| np.log1p(pct_renters)                        |    -0.101   |   0.066    |  -1.534 |\n",
      "| ave_income                                   |    -1.230   |   0.024    | -50.220 |\n",
      "| np.log1p(white * pct_white)                  |    3.000    |   0.005    | 571.576 |\n",
      "| np.log1p(black * pct_black)                  |    3.000    |   0.007    | 418.667 |\n",
      "| np.log1p(hisp * pct_hisp)                    |    3.000    |   0.006    | 495.373 |\n",
      "| np.log1p(asian * pct_asian)                  |    3.000    |   0.007    | 449.210 |\n",
      "| jobs                                         |    0.072    |   0.006    |  11.030 |\n",
      "| autoPeakTotal                                |    0.016    |   0.012    |  1.395  |\n",
      "+----------------------------------------------+-------------+------------+---------+\n",
      "LCM RESULTS FOR SEGMENT 2\n",
      "\n",
      "Null Log-liklihood: -67778.895\n",
      "Log-liklihood at convergence: -65173.046\n",
      "Log-liklihood Ratio: 0.038\n",
      "\n",
      "+----------------------------------------------+-------------+------------+---------+\n",
      "| Component                                    | Coefficient | Std. Error | T-Score |\n",
      "+----------------------------------------------+-------------+------------+---------+\n",
      "| np.log1p(unit_annual_rent / positive_income) |    -0.033   |   0.019    |  -1.713 |\n",
      "| np.log1p(residential_units)                  |    0.066    |   0.006    |  11.495 |\n",
      "| np.log1p(pct_renters)                        |    -0.022   |   0.059    |  -0.376 |\n",
      "| ave_income                                   |    -0.619   |   0.022    | -27.804 |\n",
      "| np.log1p(white * pct_white)                  |    3.000    |   0.006    | 472.830 |\n",
      "| np.log1p(black * pct_black)                  |    3.000    |   0.009    | 348.999 |\n",
      "| np.log1p(hisp * pct_hisp)                    |    3.000    |   0.006    | 525.652 |\n",
      "| np.log1p(asian * pct_asian)                  |    3.000    |   0.008    | 383.797 |\n",
      "| jobs                                         |    0.046    |   0.006    |  7.181  |\n",
      "| autoPeakTotal                                |    0.047    |   0.013    |  3.757  |\n",
      "+----------------------------------------------+-------------+------------+---------+\n",
      "LCM RESULTS FOR SEGMENT 3\n",
      "\n",
      "Null Log-liklihood: -67843.367\n",
      "Log-liklihood at convergence: -65991.744\n",
      "Log-liklihood Ratio: 0.027\n",
      "\n",
      "+----------------------------------------------+-------------+------------+---------+\n",
      "| Component                                    | Coefficient | Std. Error | T-Score |\n",
      "+----------------------------------------------+-------------+------------+---------+\n",
      "| np.log1p(unit_annual_rent / positive_income) |    -0.081   |   0.028    |  -2.844 |\n",
      "| np.log1p(residential_units)                  |    0.082    |   0.006    |  14.281 |\n",
      "| np.log1p(pct_renters)                        |    -0.235   |   0.055    |  -4.315 |\n",
      "| ave_income                                   |    0.150    |   0.021    |  7.190  |\n",
      "| np.log1p(white * pct_white)                  |    3.000    |   0.007    | 411.905 |\n",
      "| np.log1p(black * pct_black)                  |    3.000    |   0.010    | 296.011 |\n",
      "| np.log1p(hisp * pct_hisp)                    |    3.000    |   0.006    | 471.629 |\n",
      "| np.log1p(asian * pct_asian)                  |    3.000    |   0.008    | 354.854 |\n",
      "| jobs                                         |    0.020    |   0.006    |  3.253  |\n",
      "| autoPeakTotal                                |    0.203    |   0.014    |  14.879 |\n",
      "+----------------------------------------------+-------------+------------+---------+\n",
      "LCM RESULTS FOR SEGMENT 4\n",
      "\n",
      "Null Log-liklihood: -67723.633\n",
      "Log-liklihood at convergence: -64092.729\n",
      "Log-liklihood Ratio: 0.054\n",
      "\n",
      "+----------------------------------------------+-------------+------------+---------+\n",
      "| Component                                    | Coefficient | Std. Error | T-Score |\n",
      "+----------------------------------------------+-------------+------------+---------+\n",
      "| np.log1p(unit_annual_rent / positive_income) |    0.036    |   0.044    |  0.821  |\n",
      "| np.log1p(residential_units)                  |    0.071    |   0.006    |  11.727 |\n",
      "| np.log1p(pct_renters)                        |    -0.248   |   0.060    |  -4.097 |\n",
      "| ave_income                                   |    1.504    |   0.022    |  69.473 |\n",
      "| np.log1p(white * pct_white)                  |    3.000    |   0.009    | 343.338 |\n",
      "| np.log1p(black * pct_black)                  |    3.000    |   0.013    | 236.260 |\n",
      "| np.log1p(hisp * pct_hisp)                    |    3.000    |   0.007    | 400.523 |\n",
      "| np.log1p(asian * pct_asian)                  |    3.000    |   0.010    | 307.354 |\n",
      "| jobs                                         |    0.074    |   0.006    |  12.019 |\n",
      "| autoPeakTotal                                |    0.524    |   0.015    |  34.660 |\n",
      "+----------------------------------------------+-------------+------------+---------+\n",
      "Time to execute step 'hlcm_renter_estimate': 39.04 s\n",
      "Total time to execute iteration 1 with iteration value None: 39.04 s\n"
     ]
    }
   ],
   "source": [
    "orca.run([\"hlcm_renter_estimate\"])"
   ]
  },
  {
   "cell_type": "code",
   "execution_count": null,
   "metadata": {
    "collapsed": true
   },
   "outputs": [],
   "source": []
  },
  {
   "cell_type": "code",
   "execution_count": null,
   "metadata": {
    "collapsed": true
   },
   "outputs": [],
   "source": []
  },
  {
   "cell_type": "code",
   "execution_count": 19,
   "metadata": {
    "collapsed": true
   },
   "outputs": [],
   "source": []
  },
  {
   "cell_type": "code",
   "execution_count": null,
   "metadata": {
    "collapsed": true
   },
   "outputs": [],
   "source": []
  },
  {
   "cell_type": "code",
   "execution_count": null,
   "metadata": {
    "collapsed": true
   },
   "outputs": [],
   "source": []
  },
  {
   "cell_type": "code",
   "execution_count": null,
   "metadata": {
    "collapsed": true
   },
   "outputs": [],
   "source": []
  },
  {
   "cell_type": "code",
   "execution_count": null,
   "metadata": {
    "collapsed": true
   },
   "outputs": [],
   "source": []
  },
  {
   "cell_type": "code",
   "execution_count": null,
   "metadata": {
    "collapsed": true
   },
   "outputs": [],
   "source": []
  },
  {
   "cell_type": "markdown",
   "metadata": {},
   "source": [
    "## Below is scratch work to check the status of underlying data"
   ]
  },
  {
   "cell_type": "code",
   "execution_count": null,
   "metadata": {
    "collapsed": true
   },
   "outputs": [],
   "source": []
  },
  {
   "cell_type": "code",
   "execution_count": 14,
   "metadata": {
    "collapsed": false
   },
   "outputs": [],
   "source": [
    "df1 = sim.get_table('residential_units').to_frame(\n",
    "            columns=['unit_residential_price', 'node_id'])\n",
    "df2 = sim.get_table('nodes').to_frame(\n",
    "            columns=['sum_residential_units', 'ave_income', 'autoPeakTotal'])\n",
    "df3 = sim.get_table('logsums').to_frame(\n",
    "            columns=['autoPeakTotal', 'node_id'])"
   ]
  },
  {
   "cell_type": "code",
   "execution_count": 17,
   "metadata": {
    "collapsed": false
   },
   "outputs": [
    {
     "name": "stdout",
     "output_type": "stream",
     "text": [
      "       unit_residential_price\n",
      "count          2785789.000000\n",
      "mean               467.790277\n",
      "std                912.510016\n",
      "min                  0.000000\n",
      "25%                330.009162\n",
      "50%                397.432986\n",
      "75%                491.675611\n",
      "max             141696.511604\n",
      "       sum_residential_units     ave_income\n",
      "count          226060.000000  226060.000000\n",
      "mean                5.959514      10.934405\n",
      "std                 1.829774       1.963425\n",
      "min                 0.000000       0.000000\n",
      "25%                 5.517122      11.037583\n",
      "50%                 6.443716      11.259089\n",
      "75%                 7.027581      11.488537\n",
      "max                10.149053      13.171155\n",
      "       autoPeakTotal\n",
      "count    1454.000000\n",
      "mean       11.806047\n",
      "std         0.814177\n",
      "min         6.264300\n",
      "25%        11.482000\n",
      "50%        12.041550\n",
      "75%        12.313925\n",
      "max        13.082800\n"
     ]
    }
   ],
   "source": [
    "print(df1.describe())\n",
    "print(df2.describe())\n",
    "print(df3.describe())"
   ]
  },
  {
   "cell_type": "code",
   "execution_count": null,
   "metadata": {
    "collapsed": true
   },
   "outputs": [],
   "source": [
    "# there's not much variation in any of those three aggregation terms, maybe try others?"
   ]
  },
  {
   "cell_type": "code",
   "execution_count": 18,
   "metadata": {
    "collapsed": true
   },
   "outputs": [],
   "source": [
    "df = sim.get_table('nodes').to_frame()"
   ]
  },
  {
   "cell_type": "code",
   "execution_count": 19,
   "metadata": {
    "collapsed": false
   },
   "outputs": [
    {
     "name": "stdout",
     "output_type": "stream",
     "text": [
      "       sum_residential_units  sum_nonresidential_units  ave_sqft_per_unit  \\\n",
      "count          226060.000000             226060.000000      226060.000000   \n",
      "mean                5.959514                  0.356974           7.253990   \n",
      "std                 1.829774                  1.369450           1.322188   \n",
      "min                 0.000000                  0.000000           0.000000   \n",
      "25%                 5.517122                  0.000000           7.274734   \n",
      "50%                 6.443716                  0.000000           7.436141   \n",
      "75%                 7.027581                  0.000000           7.619552   \n",
      "max                10.149053                  9.289473          12.261587   \n",
      "\n",
      "       ave_lot_size_per_unit     population           poor        renters  \\\n",
      "count          226060.000000  226060.000000  226060.000000  226060.000000   \n",
      "mean                8.929325       6.825222       5.364583       4.052799   \n",
      "std                 1.933885       1.974722       1.966804       1.519042   \n",
      "min                 0.000000       0.000000       0.000000       0.000000   \n",
      "25%                 8.563902       6.400006       4.527863       3.515182   \n",
      "50%                 8.892104       7.388408       5.782053       4.429089   \n",
      "75%                 9.366335       7.991653       6.655447       5.041201   \n",
      "max                17.866968      10.553695      10.054707       7.257352   \n",
      "\n",
      "                sfdu     ave_hhsize           jobs     ave_income  \n",
      "count  226060.000000  226060.000000  226060.000000  226060.000000  \n",
      "mean        5.343503       1.248314       5.301676      10.934405  \n",
      "std         1.749075       0.255475       2.241773       1.963425  \n",
      "min         0.000000       0.000000       0.000000       0.000000  \n",
      "25%         4.958143       1.199913       4.195709      11.037583  \n",
      "50%         5.906678       1.279782       5.800459      11.259089  \n",
      "75%         6.438469       1.367688       6.826297      11.488537  \n",
      "max         8.095656       2.079442      11.713364      13.171155  \n"
     ]
    }
   ],
   "source": [
    "print(df.describe())"
   ]
  },
  {
   "cell_type": "code",
   "execution_count": null,
   "metadata": {
    "collapsed": true
   },
   "outputs": [],
   "source": []
  },
  {
   "cell_type": "code",
   "execution_count": null,
   "metadata": {
    "collapsed": true
   },
   "outputs": [],
   "source": []
  },
  {
   "cell_type": "code",
   "execution_count": 6,
   "metadata": {
    "collapsed": false
   },
   "outputs": [],
   "source": [
    "df = sim.get_table('households').to_frame()"
   ]
  },
  {
   "cell_type": "code",
   "execution_count": 7,
   "metadata": {
    "collapsed": false
   },
   "outputs": [
    {
     "data": {
      "text/html": [
       "<div style=\"max-height:1000px;max-width:1500px;overflow:auto;\">\n",
       "<table border=\"1\" class=\"dataframe\">\n",
       "  <thead>\n",
       "    <tr style=\"text-align: right;\">\n",
       "      <th></th>\n",
       "      <th>taz</th>\n",
       "      <th>serialno</th>\n",
       "      <th>puma5</th>\n",
       "      <th>income</th>\n",
       "      <th>persons</th>\n",
       "      <th>hht</th>\n",
       "      <th>unittype</th>\n",
       "      <th>noc</th>\n",
       "      <th>bldgsz</th>\n",
       "      <th>tenure</th>\n",
       "      <th>...</th>\n",
       "      <th>hadwpst</th>\n",
       "      <th>hadkids</th>\n",
       "      <th>bucketbin</th>\n",
       "      <th>originalpuma</th>\n",
       "      <th>hmultiunit</th>\n",
       "      <th>unit_id</th>\n",
       "      <th>building_id</th>\n",
       "      <th>income_quartile</th>\n",
       "      <th>zone_id</th>\n",
       "      <th>node_id</th>\n",
       "    </tr>\n",
       "    <tr>\n",
       "      <th>household_id</th>\n",
       "      <th></th>\n",
       "      <th></th>\n",
       "      <th></th>\n",
       "      <th></th>\n",
       "      <th></th>\n",
       "      <th></th>\n",
       "      <th></th>\n",
       "      <th></th>\n",
       "      <th></th>\n",
       "      <th></th>\n",
       "      <th></th>\n",
       "      <th></th>\n",
       "      <th></th>\n",
       "      <th></th>\n",
       "      <th></th>\n",
       "      <th></th>\n",
       "      <th></th>\n",
       "      <th></th>\n",
       "      <th></th>\n",
       "      <th></th>\n",
       "      <th></th>\n",
       "    </tr>\n",
       "  </thead>\n",
       "  <tbody>\n",
       "    <tr>\n",
       "      <th>227454</th>\n",
       "      <td>878</td>\n",
       "      <td>9279874</td>\n",
       "      <td>2404</td>\n",
       "      <td>17000</td>\n",
       "      <td>2</td>\n",
       "      <td>3</td>\n",
       "      <td>0</td>\n",
       "      <td>1</td>\n",
       "      <td>5</td>\n",
       "      <td>3</td>\n",
       "      <td>...</td>\n",
       "      <td>0</td>\n",
       "      <td>0</td>\n",
       "      <td>2</td>\n",
       "      <td>2404</td>\n",
       "      <td>1</td>\n",
       "      <td>-1</td>\n",
       "      <td>-1</td>\n",
       "      <td>1</td>\n",
       "      <td>-1</td>\n",
       "      <td>-1</td>\n",
       "    </tr>\n",
       "    <tr>\n",
       "      <th>2687058</th>\n",
       "      <td>1092</td>\n",
       "      <td>8097339</td>\n",
       "      <td>2103</td>\n",
       "      <td>0</td>\n",
       "      <td>1</td>\n",
       "      <td>0</td>\n",
       "      <td>2</td>\n",
       "      <td>0</td>\n",
       "      <td>0</td>\n",
       "      <td>0</td>\n",
       "      <td>...</td>\n",
       "      <td>0</td>\n",
       "      <td>0</td>\n",
       "      <td>9</td>\n",
       "      <td>2103</td>\n",
       "      <td>1</td>\n",
       "      <td>-1</td>\n",
       "      <td>-1</td>\n",
       "      <td>1</td>\n",
       "      <td>-1</td>\n",
       "      <td>-1</td>\n",
       "    </tr>\n",
       "    <tr>\n",
       "      <th>2687063</th>\n",
       "      <td>1092</td>\n",
       "      <td>3530666</td>\n",
       "      <td>2103</td>\n",
       "      <td>0</td>\n",
       "      <td>1</td>\n",
       "      <td>0</td>\n",
       "      <td>2</td>\n",
       "      <td>0</td>\n",
       "      <td>0</td>\n",
       "      <td>0</td>\n",
       "      <td>...</td>\n",
       "      <td>0</td>\n",
       "      <td>0</td>\n",
       "      <td>4</td>\n",
       "      <td>2103</td>\n",
       "      <td>1</td>\n",
       "      <td>-1</td>\n",
       "      <td>-1</td>\n",
       "      <td>1</td>\n",
       "      <td>-1</td>\n",
       "      <td>-1</td>\n",
       "    </tr>\n",
       "    <tr>\n",
       "      <th>2214782</th>\n",
       "      <td>930</td>\n",
       "      <td>5691854</td>\n",
       "      <td>2402</td>\n",
       "      <td>159700</td>\n",
       "      <td>3</td>\n",
       "      <td>5</td>\n",
       "      <td>0</td>\n",
       "      <td>0</td>\n",
       "      <td>2</td>\n",
       "      <td>1</td>\n",
       "      <td>...</td>\n",
       "      <td>0</td>\n",
       "      <td>0</td>\n",
       "      <td>4</td>\n",
       "      <td>2402</td>\n",
       "      <td>0</td>\n",
       "      <td>-1</td>\n",
       "      <td>-1</td>\n",
       "      <td>4</td>\n",
       "      <td>-1</td>\n",
       "      <td>-1</td>\n",
       "    </tr>\n",
       "    <tr>\n",
       "      <th>2687065</th>\n",
       "      <td>1092</td>\n",
       "      <td>8097339</td>\n",
       "      <td>2103</td>\n",
       "      <td>0</td>\n",
       "      <td>1</td>\n",
       "      <td>0</td>\n",
       "      <td>2</td>\n",
       "      <td>0</td>\n",
       "      <td>0</td>\n",
       "      <td>0</td>\n",
       "      <td>...</td>\n",
       "      <td>0</td>\n",
       "      <td>0</td>\n",
       "      <td>9</td>\n",
       "      <td>2103</td>\n",
       "      <td>1</td>\n",
       "      <td>-1</td>\n",
       "      <td>-1</td>\n",
       "      <td>1</td>\n",
       "      <td>-1</td>\n",
       "      <td>-1</td>\n",
       "    </tr>\n",
       "  </tbody>\n",
       "</table>\n",
       "<p>5 rows × 51 columns</p>\n",
       "</div>"
      ],
      "text/plain": [
       "               taz  serialno  puma5  income  persons  hht  unittype  noc  \\\n",
       "household_id                                                               \n",
       "227454         878   9279874   2404   17000        2    3         0    1   \n",
       "2687058       1092   8097339   2103       0        1    0         2    0   \n",
       "2687063       1092   3530666   2103       0        1    0         2    0   \n",
       "2214782        930   5691854   2402  159700        3    5         0    0   \n",
       "2687065       1092   8097339   2103       0        1    0         2    0   \n",
       "\n",
       "              bldgsz  tenure   ...     hadwpst  hadkids  bucketbin  \\\n",
       "household_id                   ...                                   \n",
       "227454             5       3   ...           0        0          2   \n",
       "2687058            0       0   ...           0        0          9   \n",
       "2687063            0       0   ...           0        0          4   \n",
       "2214782            2       1   ...           0        0          4   \n",
       "2687065            0       0   ...           0        0          9   \n",
       "\n",
       "              originalpuma  hmultiunit  unit_id  building_id  income_quartile  \\\n",
       "household_id                                                                    \n",
       "227454                2404           1       -1           -1                1   \n",
       "2687058               2103           1       -1           -1                1   \n",
       "2687063               2103           1       -1           -1                1   \n",
       "2214782               2402           0       -1           -1                4   \n",
       "2687065               2103           1       -1           -1                1   \n",
       "\n",
       "              zone_id  node_id  \n",
       "household_id                    \n",
       "227454             -1       -1  \n",
       "2687058            -1       -1  \n",
       "2687063            -1       -1  \n",
       "2214782            -1       -1  \n",
       "2687065            -1       -1  \n",
       "\n",
       "[5 rows x 51 columns]"
      ]
     },
     "execution_count": 7,
     "metadata": {},
     "output_type": "execute_result"
    }
   ],
   "source": [
    "df[:5]"
   ]
  },
  {
   "cell_type": "code",
   "execution_count": 15,
   "metadata": {
    "collapsed": false
   },
   "outputs": [
    {
     "data": {
      "text/plain": [
       "2732722"
      ]
     },
     "execution_count": 15,
     "metadata": {},
     "output_type": "execute_result"
    }
   ],
   "source": [
    "len(df)"
   ]
  },
  {
   "cell_type": "code",
   "execution_count": 4,
   "metadata": {
    "collapsed": false
   },
   "outputs": [
    {
     "name": "stdout",
     "output_type": "stream",
     "text": [
      "taz, 0\n",
      "serialno, 0\n",
      "puma5, 0\n",
      "income, 0\n",
      "persons, 0\n",
      "hht, 0\n",
      "unittype, 0\n",
      "noc, 0\n",
      "bldgsz, 0\n",
      "tenure, 0\n",
      "vehicl, 0\n",
      "hinccat1, 0\n",
      "hinccat2, 0\n",
      "hhagecat, 0\n",
      "hsizecat, 0\n",
      "hfamily, 0\n",
      "hunittype, 0\n",
      "hnoccat, 0\n",
      "hwrkrcat, 0\n",
      "h0004, 0\n",
      "h0511, 0\n",
      "h1215, 0\n",
      "h1617, 0\n",
      "h1824, 0\n",
      "h2534, 0\n",
      "h3549, 0\n",
      "h5064, 0\n",
      "h6579, 0\n",
      "h80up, 0\n",
      "hworkers, 0\n",
      "hwork_f, 0\n",
      "hwork_p, 0\n",
      "huniv, 0\n",
      "hnwork, 0\n",
      "hretire, 0\n",
      "hpresch, 0\n",
      "hschpred, 0\n",
      "hschdriv, 0\n",
      "htypdwel, 0\n",
      "hownrent, 0\n",
      "hadnwst, 0\n",
      "hadwpst, 0\n",
      "hadkids, 0\n",
      "bucketbin, 0\n",
      "originalpuma, 0\n",
      "hmultiunit, 0\n",
      "building_id, 0\n",
      "node_id, 0\n",
      "income_quartile, 0\n",
      "zone_id, 0\n"
     ]
    }
   ],
   "source": [
    "for a in list(df.columns.values):\n",
    "    print \"%s, %d\" % (a, len(df[df[a].isnull()]))"
   ]
  },
  {
   "cell_type": "code",
   "execution_count": null,
   "metadata": {
    "collapsed": true
   },
   "outputs": [],
   "source": []
  },
  {
   "cell_type": "code",
   "execution_count": 2,
   "metadata": {
    "collapsed": false
   },
   "outputs": [
    {
     "name": "stdout",
     "output_type": "stream",
     "text": [
      "Filling column building_type_id with value 1 (0 values)\n",
      "Filling column residential_units with value 0 (0 values)\n",
      "Filling column year_built with value 1966.0 (0 values)\n",
      "Filling column non_residential_sqft with value 0 (0 values)\n",
      "Filling column shape_area with value 604.336158108 (0 values)\n",
      "Filling column zone_id with value 1178 (0 values)\n",
      "Initial unit tenure assignment: 56% owner occupied, 4% unfilled\n"
     ]
    }
   ],
   "source": [
    "df = sim.get_table('buildings').to_frame()"
   ]
  },
  {
   "cell_type": "code",
   "execution_count": 3,
   "metadata": {
    "collapsed": false
   },
   "outputs": [
    {
     "data": {
      "text/html": [
       "<div style=\"max-height:1000px;max-width:1500px;overflow:auto;\">\n",
       "<table border=\"1\" class=\"dataframe\">\n",
       "  <thead>\n",
       "    <tr style=\"text-align: right;\">\n",
       "      <th></th>\n",
       "      <th>parcel_id</th>\n",
       "      <th>residential_units</th>\n",
       "      <th>residential_sqft</th>\n",
       "      <th>non_residential_sqft</th>\n",
       "      <th>building_sqft</th>\n",
       "      <th>stories</th>\n",
       "      <th>year_built</th>\n",
       "      <th>redfin_sale_year</th>\n",
       "      <th>building_type_id</th>\n",
       "      <th>residential_price</th>\n",
       "      <th>...</th>\n",
       "      <th>zone_id</th>\n",
       "      <th>residential_rent</th>\n",
       "      <th>sqft_per_job</th>\n",
       "      <th>lot_size_per_unit</th>\n",
       "      <th>vacant_job_spaces</th>\n",
       "      <th>vacant_residential_units</th>\n",
       "      <th>general_type</th>\n",
       "      <th>sqft_per_unit</th>\n",
       "      <th>job_spaces</th>\n",
       "      <th>node_id</th>\n",
       "    </tr>\n",
       "    <tr>\n",
       "      <th>building_id</th>\n",
       "      <th></th>\n",
       "      <th></th>\n",
       "      <th></th>\n",
       "      <th></th>\n",
       "      <th></th>\n",
       "      <th></th>\n",
       "      <th></th>\n",
       "      <th></th>\n",
       "      <th></th>\n",
       "      <th></th>\n",
       "      <th></th>\n",
       "      <th></th>\n",
       "      <th></th>\n",
       "      <th></th>\n",
       "      <th></th>\n",
       "      <th></th>\n",
       "      <th></th>\n",
       "      <th></th>\n",
       "      <th></th>\n",
       "      <th></th>\n",
       "      <th></th>\n",
       "    </tr>\n",
       "  </thead>\n",
       "  <tbody>\n",
       "    <tr>\n",
       "      <th>1</th>\n",
       "      <td>69516</td>\n",
       "      <td>1</td>\n",
       "      <td>794</td>\n",
       "      <td>0</td>\n",
       "      <td>794</td>\n",
       "      <td>1</td>\n",
       "      <td>1939</td>\n",
       "      <td>2012</td>\n",
       "      <td>1</td>\n",
       "      <td>0</td>\n",
       "      <td>...</td>\n",
       "      <td>893</td>\n",
       "      <td>0</td>\n",
       "      <td>400</td>\n",
       "      <td>5200.062320</td>\n",
       "      <td>0</td>\n",
       "      <td>0</td>\n",
       "      <td>Residential</td>\n",
       "      <td>794</td>\n",
       "      <td>0</td>\n",
       "      <td>11584</td>\n",
       "    </tr>\n",
       "    <tr>\n",
       "      <th>2</th>\n",
       "      <td>69517</td>\n",
       "      <td>1</td>\n",
       "      <td>1600</td>\n",
       "      <td>0</td>\n",
       "      <td>1600</td>\n",
       "      <td>1</td>\n",
       "      <td>1939</td>\n",
       "      <td>2012</td>\n",
       "      <td>1</td>\n",
       "      <td>0</td>\n",
       "      <td>...</td>\n",
       "      <td>893</td>\n",
       "      <td>0</td>\n",
       "      <td>400</td>\n",
       "      <td>5200.063760</td>\n",
       "      <td>0</td>\n",
       "      <td>0</td>\n",
       "      <td>Residential</td>\n",
       "      <td>1600</td>\n",
       "      <td>0</td>\n",
       "      <td>11584</td>\n",
       "    </tr>\n",
       "    <tr>\n",
       "      <th>3</th>\n",
       "      <td>69518</td>\n",
       "      <td>1</td>\n",
       "      <td>1334</td>\n",
       "      <td>0</td>\n",
       "      <td>1334</td>\n",
       "      <td>1</td>\n",
       "      <td>1939</td>\n",
       "      <td>2012</td>\n",
       "      <td>1</td>\n",
       "      <td>0</td>\n",
       "      <td>...</td>\n",
       "      <td>893</td>\n",
       "      <td>0</td>\n",
       "      <td>400</td>\n",
       "      <td>5200.029703</td>\n",
       "      <td>0</td>\n",
       "      <td>0</td>\n",
       "      <td>Residential</td>\n",
       "      <td>1334</td>\n",
       "      <td>0</td>\n",
       "      <td>11585</td>\n",
       "    </tr>\n",
       "    <tr>\n",
       "      <th>4</th>\n",
       "      <td>69519</td>\n",
       "      <td>1</td>\n",
       "      <td>1220</td>\n",
       "      <td>0</td>\n",
       "      <td>1220</td>\n",
       "      <td>1</td>\n",
       "      <td>1939</td>\n",
       "      <td>2012</td>\n",
       "      <td>1</td>\n",
       "      <td>0</td>\n",
       "      <td>...</td>\n",
       "      <td>893</td>\n",
       "      <td>0</td>\n",
       "      <td>400</td>\n",
       "      <td>5200.144623</td>\n",
       "      <td>0</td>\n",
       "      <td>1</td>\n",
       "      <td>Residential</td>\n",
       "      <td>1220</td>\n",
       "      <td>0</td>\n",
       "      <td>11585</td>\n",
       "    </tr>\n",
       "    <tr>\n",
       "      <th>5</th>\n",
       "      <td>69520</td>\n",
       "      <td>1</td>\n",
       "      <td>892</td>\n",
       "      <td>0</td>\n",
       "      <td>892</td>\n",
       "      <td>1</td>\n",
       "      <td>1943</td>\n",
       "      <td>2012</td>\n",
       "      <td>1</td>\n",
       "      <td>0</td>\n",
       "      <td>...</td>\n",
       "      <td>893</td>\n",
       "      <td>0</td>\n",
       "      <td>400</td>\n",
       "      <td>5200.027559</td>\n",
       "      <td>0</td>\n",
       "      <td>0</td>\n",
       "      <td>Residential</td>\n",
       "      <td>892</td>\n",
       "      <td>0</td>\n",
       "      <td>11585</td>\n",
       "    </tr>\n",
       "  </tbody>\n",
       "</table>\n",
       "<p>5 rows × 21 columns</p>\n",
       "</div>"
      ],
      "text/plain": [
       "             parcel_id  residential_units  residential_sqft  \\\n",
       "building_id                                                   \n",
       "1                69516                  1               794   \n",
       "2                69517                  1              1600   \n",
       "3                69518                  1              1334   \n",
       "4                69519                  1              1220   \n",
       "5                69520                  1               892   \n",
       "\n",
       "             non_residential_sqft  building_sqft  stories  year_built  \\\n",
       "building_id                                                             \n",
       "1                               0            794        1        1939   \n",
       "2                               0           1600        1        1939   \n",
       "3                               0           1334        1        1939   \n",
       "4                               0           1220        1        1939   \n",
       "5                               0            892        1        1943   \n",
       "\n",
       "             redfin_sale_year  building_type_id  residential_price   ...     \\\n",
       "building_id                                                          ...      \n",
       "1                        2012                 1                  0   ...      \n",
       "2                        2012                 1                  0   ...      \n",
       "3                        2012                 1                  0   ...      \n",
       "4                        2012                 1                  0   ...      \n",
       "5                        2012                 1                  0   ...      \n",
       "\n",
       "             zone_id  residential_rent  sqft_per_job  lot_size_per_unit  \\\n",
       "building_id                                                               \n",
       "1                893                 0           400        5200.062320   \n",
       "2                893                 0           400        5200.063760   \n",
       "3                893                 0           400        5200.029703   \n",
       "4                893                 0           400        5200.144623   \n",
       "5                893                 0           400        5200.027559   \n",
       "\n",
       "             vacant_job_spaces  vacant_residential_units  general_type  \\\n",
       "building_id                                                              \n",
       "1                            0                         0   Residential   \n",
       "2                            0                         0   Residential   \n",
       "3                            0                         0   Residential   \n",
       "4                            0                         1   Residential   \n",
       "5                            0                         0   Residential   \n",
       "\n",
       "            sqft_per_unit  job_spaces  node_id  \n",
       "building_id                                     \n",
       "1                     794           0    11584  \n",
       "2                    1600           0    11584  \n",
       "3                    1334           0    11585  \n",
       "4                    1220           0    11585  \n",
       "5                     892           0    11585  \n",
       "\n",
       "[5 rows x 21 columns]"
      ]
     },
     "execution_count": 3,
     "metadata": {},
     "output_type": "execute_result"
    }
   ],
   "source": [
    "df[:5]"
   ]
  },
  {
   "cell_type": "code",
   "execution_count": 4,
   "metadata": {
    "collapsed": false
   },
   "outputs": [
    {
     "data": {
      "text/plain": [
       "1841288"
      ]
     },
     "execution_count": 4,
     "metadata": {},
     "output_type": "execute_result"
    }
   ],
   "source": [
    "len(df)"
   ]
  },
  {
   "cell_type": "code",
   "execution_count": 5,
   "metadata": {
    "collapsed": false
   },
   "outputs": [
    {
     "name": "stdout",
     "output_type": "stream",
     "text": [
      "parcel_id, 0\n",
      "residential_units, 0\n",
      "residential_sqft, 0\n",
      "non_residential_sqft, 0\n",
      "building_sqft, 0\n",
      "stories, 0\n",
      "year_built, 0\n",
      "redfin_sale_year, 0\n",
      "building_type_id, 0\n",
      "residential_price, 0\n",
      "non_residential_price, 0\n",
      "zone_id, 0\n",
      "residential_rent, 0\n",
      "sqft_per_job, 0\n",
      "lot_size_per_unit, 0\n",
      "vacant_job_spaces, 0\n",
      "vacant_residential_units, 0\n",
      "general_type, 0\n",
      "sqft_per_unit, 0\n",
      "job_spaces, 0\n",
      "node_id, 0\n"
     ]
    }
   ],
   "source": [
    "for a in list(df.columns.values):\n",
    "    print \"%s, %d\" % (a, len(df[df[a].isnull()]))"
   ]
  },
  {
   "cell_type": "code",
   "execution_count": null,
   "metadata": {
    "collapsed": true
   },
   "outputs": [],
   "source": []
  },
  {
   "cell_type": "code",
   "execution_count": 5,
   "metadata": {
    "collapsed": false
   },
   "outputs": [
    {
     "name": "stdout",
     "output_type": "stream",
     "text": [
      "Initial unit tenure assignment: 56% owner occupied, 4% unfilled\n"
     ]
    },
    {
     "data": {
      "text/html": [
       "<div style=\"max-height:1000px;max-width:1500px;overflow:auto;\">\n",
       "<table border=\"1\" class=\"dataframe\">\n",
       "  <thead>\n",
       "    <tr style=\"text-align: right;\">\n",
       "      <th></th>\n",
       "      <th>building_id</th>\n",
       "      <th>deed_restricted</th>\n",
       "      <th>num_units</th>\n",
       "      <th>unit_num</th>\n",
       "      <th>unit_residential_price</th>\n",
       "      <th>unit_residential_rent</th>\n",
       "      <th>unit_tenure</th>\n",
       "      <th>vacant_units</th>\n",
       "      <th>submarket_id</th>\n",
       "    </tr>\n",
       "    <tr>\n",
       "      <th>unit_id</th>\n",
       "      <th></th>\n",
       "      <th></th>\n",
       "      <th></th>\n",
       "      <th></th>\n",
       "      <th></th>\n",
       "      <th></th>\n",
       "      <th></th>\n",
       "      <th></th>\n",
       "      <th></th>\n",
       "    </tr>\n",
       "  </thead>\n",
       "  <tbody>\n",
       "    <tr>\n",
       "      <th>0</th>\n",
       "      <td>1</td>\n",
       "      <td>0</td>\n",
       "      <td>1</td>\n",
       "      <td>0</td>\n",
       "      <td>0</td>\n",
       "      <td>0</td>\n",
       "      <td>1</td>\n",
       "      <td>0</td>\n",
       "      <td>893</td>\n",
       "    </tr>\n",
       "    <tr>\n",
       "      <th>1</th>\n",
       "      <td>2</td>\n",
       "      <td>0</td>\n",
       "      <td>1</td>\n",
       "      <td>0</td>\n",
       "      <td>0</td>\n",
       "      <td>0</td>\n",
       "      <td>0</td>\n",
       "      <td>0</td>\n",
       "      <td>893</td>\n",
       "    </tr>\n",
       "    <tr>\n",
       "      <th>2</th>\n",
       "      <td>3</td>\n",
       "      <td>0</td>\n",
       "      <td>1</td>\n",
       "      <td>0</td>\n",
       "      <td>0</td>\n",
       "      <td>0</td>\n",
       "      <td>0</td>\n",
       "      <td>0</td>\n",
       "      <td>893</td>\n",
       "    </tr>\n",
       "    <tr>\n",
       "      <th>3</th>\n",
       "      <td>4</td>\n",
       "      <td>0</td>\n",
       "      <td>1</td>\n",
       "      <td>0</td>\n",
       "      <td>0</td>\n",
       "      <td>0</td>\n",
       "      <td>0</td>\n",
       "      <td>1</td>\n",
       "      <td>893</td>\n",
       "    </tr>\n",
       "    <tr>\n",
       "      <th>4</th>\n",
       "      <td>5</td>\n",
       "      <td>0</td>\n",
       "      <td>1</td>\n",
       "      <td>0</td>\n",
       "      <td>0</td>\n",
       "      <td>0</td>\n",
       "      <td>0</td>\n",
       "      <td>0</td>\n",
       "      <td>893</td>\n",
       "    </tr>\n",
       "  </tbody>\n",
       "</table>\n",
       "</div>"
      ],
      "text/plain": [
       "         building_id  deed_restricted  num_units  unit_num  \\\n",
       "unit_id                                                      \n",
       "0                  1                0          1         0   \n",
       "1                  2                0          1         0   \n",
       "2                  3                0          1         0   \n",
       "3                  4                0          1         0   \n",
       "4                  5                0          1         0   \n",
       "\n",
       "         unit_residential_price  unit_residential_rent  unit_tenure  \\\n",
       "unit_id                                                               \n",
       "0                             0                      0            1   \n",
       "1                             0                      0            0   \n",
       "2                             0                      0            0   \n",
       "3                             0                      0            0   \n",
       "4                             0                      0            0   \n",
       "\n",
       "         vacant_units  submarket_id  \n",
       "unit_id                              \n",
       "0                   0           893  \n",
       "1                   0           893  \n",
       "2                   0           893  \n",
       "3                   1           893  \n",
       "4                   0           893  "
      ]
     },
     "execution_count": 5,
     "metadata": {},
     "output_type": "execute_result"
    }
   ],
   "source": [
    "sim.get_table('residential_units').to_frame()[:5]"
   ]
  },
  {
   "cell_type": "code",
   "execution_count": null,
   "metadata": {
    "collapsed": true
   },
   "outputs": [],
   "source": []
  },
  {
   "cell_type": "code",
   "execution_count": 4,
   "metadata": {
    "collapsed": false
   },
   "outputs": [
    {
     "data": {
      "text/html": [
       "<div style=\"max-height:1000px;max-width:1500px;overflow:auto;\">\n",
       "<table border=\"1\" class=\"dataframe\">\n",
       "  <thead>\n",
       "    <tr style=\"text-align: right;\">\n",
       "      <th></th>\n",
       "      <th>autoPeakRetail</th>\n",
       "      <th>autoPeakTotal</th>\n",
       "      <th>autoOffPeakRetail</th>\n",
       "      <th>autoOffPeakTotal</th>\n",
       "      <th>transitPeakRetail</th>\n",
       "      <th>transitPeakTotal</th>\n",
       "      <th>transitOffPeakRetail</th>\n",
       "      <th>transitOffPeakTotal</th>\n",
       "      <th>nonMotorizedRetail</th>\n",
       "      <th>nonMotorizedTotal</th>\n",
       "    </tr>\n",
       "    <tr>\n",
       "      <th>taz</th>\n",
       "      <th></th>\n",
       "      <th></th>\n",
       "      <th></th>\n",
       "      <th></th>\n",
       "      <th></th>\n",
       "      <th></th>\n",
       "      <th></th>\n",
       "      <th></th>\n",
       "      <th></th>\n",
       "      <th></th>\n",
       "    </tr>\n",
       "  </thead>\n",
       "  <tbody>\n",
       "    <tr>\n",
       "      <th>1</th>\n",
       "      <td>10.5416</td>\n",
       "      <td>13.0616</td>\n",
       "      <td>10.5312</td>\n",
       "      <td>13.0511</td>\n",
       "      <td>8.3954</td>\n",
       "      <td>11.1182</td>\n",
       "      <td>8.3003</td>\n",
       "      <td>11.0119</td>\n",
       "      <td>8.6157</td>\n",
       "      <td>11.3610</td>\n",
       "    </tr>\n",
       "    <tr>\n",
       "      <th>2</th>\n",
       "      <td>10.5336</td>\n",
       "      <td>13.0557</td>\n",
       "      <td>10.5185</td>\n",
       "      <td>13.0410</td>\n",
       "      <td>8.0848</td>\n",
       "      <td>10.8372</td>\n",
       "      <td>7.9369</td>\n",
       "      <td>10.6877</td>\n",
       "      <td>8.6104</td>\n",
       "      <td>11.3717</td>\n",
       "    </tr>\n",
       "    <tr>\n",
       "      <th>3</th>\n",
       "      <td>10.5082</td>\n",
       "      <td>13.0308</td>\n",
       "      <td>10.4998</td>\n",
       "      <td>13.0225</td>\n",
       "      <td>8.0456</td>\n",
       "      <td>10.7516</td>\n",
       "      <td>7.8563</td>\n",
       "      <td>10.5597</td>\n",
       "      <td>8.4067</td>\n",
       "      <td>11.1668</td>\n",
       "    </tr>\n",
       "    <tr>\n",
       "      <th>4</th>\n",
       "      <td>10.5609</td>\n",
       "      <td>13.0801</td>\n",
       "      <td>10.5458</td>\n",
       "      <td>13.0651</td>\n",
       "      <td>8.4306</td>\n",
       "      <td>11.1391</td>\n",
       "      <td>8.3426</td>\n",
       "      <td>11.0507</td>\n",
       "      <td>8.7110</td>\n",
       "      <td>11.4524</td>\n",
       "    </tr>\n",
       "    <tr>\n",
       "      <th>5</th>\n",
       "      <td>10.5458</td>\n",
       "      <td>13.0613</td>\n",
       "      <td>10.5325</td>\n",
       "      <td>13.0484</td>\n",
       "      <td>8.3395</td>\n",
       "      <td>11.0483</td>\n",
       "      <td>8.2755</td>\n",
       "      <td>10.9790</td>\n",
       "      <td>8.4145</td>\n",
       "      <td>11.1588</td>\n",
       "    </tr>\n",
       "  </tbody>\n",
       "</table>\n",
       "</div>"
      ],
      "text/plain": [
       "     autoPeakRetail  autoPeakTotal  autoOffPeakRetail  autoOffPeakTotal  \\\n",
       "taz                                                                       \n",
       "1           10.5416        13.0616            10.5312           13.0511   \n",
       "2           10.5336        13.0557            10.5185           13.0410   \n",
       "3           10.5082        13.0308            10.4998           13.0225   \n",
       "4           10.5609        13.0801            10.5458           13.0651   \n",
       "5           10.5458        13.0613            10.5325           13.0484   \n",
       "\n",
       "     transitPeakRetail  transitPeakTotal  transitOffPeakRetail  \\\n",
       "taz                                                              \n",
       "1               8.3954           11.1182                8.3003   \n",
       "2               8.0848           10.8372                7.9369   \n",
       "3               8.0456           10.7516                7.8563   \n",
       "4               8.4306           11.1391                8.3426   \n",
       "5               8.3395           11.0483                8.2755   \n",
       "\n",
       "     transitOffPeakTotal  nonMotorizedRetail  nonMotorizedTotal  \n",
       "taz                                                              \n",
       "1                11.0119              8.6157            11.3610  \n",
       "2                10.6877              8.6104            11.3717  \n",
       "3                10.5597              8.4067            11.1668  \n",
       "4                11.0507              8.7110            11.4524  \n",
       "5                10.9790              8.4145            11.1588  "
      ]
     },
     "execution_count": 4,
     "metadata": {},
     "output_type": "execute_result"
    }
   ],
   "source": [
    "sim.get_table('logsums').to_frame()[:5]"
   ]
  },
  {
   "cell_type": "code",
   "execution_count": 16,
   "metadata": {
    "collapsed": false
   },
   "outputs": [
    {
     "name": "stdout",
     "output_type": "stream",
     "text": [
      "0.555963700134\n"
     ]
    }
   ],
   "source": [
    "import numpy as np\n",
    "print np.random.random()"
   ]
  },
  {
   "cell_type": "code",
   "execution_count": null,
   "metadata": {
    "collapsed": true
   },
   "outputs": [],
   "source": []
  }
 ],
 "metadata": {
  "kernelspec": {
   "display_name": "Python 2",
   "language": "python",
   "name": "python2"
  },
  "language_info": {
   "codemirror_mode": {
    "name": "ipython",
    "version": 2
   },
   "file_extension": ".py",
   "mimetype": "text/x-python",
   "name": "python",
   "nbconvert_exporter": "python",
   "pygments_lexer": "ipython2",
   "version": "2.7.9"
  }
 },
 "nbformat": 4,
 "nbformat_minor": 0
}
