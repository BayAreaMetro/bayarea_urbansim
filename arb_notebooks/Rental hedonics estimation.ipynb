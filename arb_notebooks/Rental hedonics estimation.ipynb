{
 "cells": [
  {
   "cell_type": "markdown",
   "metadata": {
    "collapsed": true
   },
   "source": [
    "## Rental hedonics estimation\n",
    "\n",
    "Sam Maurer, July 2015"
   ]
  },
  {
   "cell_type": "code",
   "execution_count": 2,
   "metadata": {
    "collapsed": false
   },
   "outputs": [
    {
     "name": "stdout",
     "output_type": "stream",
     "text": [
      "The autoreload extension is already loaded. To reload it, use:\n",
      "  %reload_ext autoreload\n"
     ]
    }
   ],
   "source": [
    "%load_ext autoreload\n",
    "%autoreload 2\n",
    "if 'sim' not in globals():\n",
    "    import os; os.chdir('..')\n",
    "import models\n",
    "import urbansim.sim.simulation as sim\n",
    "import pandas as pd\n",
    "pd.set_option('display.max_columns', 500)"
   ]
  },
  {
   "cell_type": "markdown",
   "metadata": {},
   "source": [
    "### 1. Look at the Craigslist data"
   ]
  },
  {
   "cell_type": "code",
   "execution_count": 3,
   "metadata": {
    "collapsed": false
   },
   "outputs": [
    {
     "name": "stdout",
     "output_type": "stream",
     "text": [
      "Filling column shape_area with value 604.336158108 (0 values)\n",
      "Filling column zone_id with value 1178 (0 values)\n"
     ]
    },
    {
     "data": {
      "text/html": [
       "<div style=\"max-height:1000px;max-width:1500px;overflow:auto;\">\n",
       "<table border=\"1\" class=\"dataframe\">\n",
       "  <thead>\n",
       "    <tr style=\"text-align: right;\">\n",
       "      <th></th>\n",
       "      <th>neighborhood</th>\n",
       "      <th>price</th>\n",
       "      <th>bedrooms</th>\n",
       "      <th>date</th>\n",
       "      <th>sqft_per_unit</th>\n",
       "      <th>longitude</th>\n",
       "      <th>latitude</th>\n",
       "      <th>price_sqft</th>\n",
       "      <th>node_id</th>\n",
       "      <th>zone_id</th>\n",
       "    </tr>\n",
       "  </thead>\n",
       "  <tbody>\n",
       "    <tr>\n",
       "      <th>0</th>\n",
       "      <td>twin peaks / diamond hts</td>\n",
       "      <td>4500</td>\n",
       "      <td>2</td>\n",
       "      <td>2014-05-11</td>\n",
       "      <td>1200</td>\n",
       "      <td>-122.438300</td>\n",
       "      <td>37.745000</td>\n",
       "      <td>3.750000</td>\n",
       "      <td>300155</td>\n",
       "      <td>800</td>\n",
       "    </tr>\n",
       "    <tr>\n",
       "      <th>1</th>\n",
       "      <td>sunnyvale</td>\n",
       "      <td>2650</td>\n",
       "      <td>2</td>\n",
       "      <td>2014-05-11</td>\n",
       "      <td>1040</td>\n",
       "      <td>-122.008131</td>\n",
       "      <td>37.353699</td>\n",
       "      <td>2.548077</td>\n",
       "      <td>143129</td>\n",
       "      <td>960</td>\n",
       "    </tr>\n",
       "    <tr>\n",
       "      <th>2</th>\n",
       "      <td>glen park</td>\n",
       "      <td>3100</td>\n",
       "      <td>2</td>\n",
       "      <td>2014-05-11</td>\n",
       "      <td>1000</td>\n",
       "      <td>-122.439743</td>\n",
       "      <td>37.731584</td>\n",
       "      <td>3.100000</td>\n",
       "      <td>125905</td>\n",
       "      <td>1031</td>\n",
       "    </tr>\n",
       "    <tr>\n",
       "      <th>3</th>\n",
       "      <td>redwood city</td>\n",
       "      <td>1850</td>\n",
       "      <td>1</td>\n",
       "      <td>2014-05-11</td>\n",
       "      <td>792</td>\n",
       "      <td>-122.234294</td>\n",
       "      <td>37.491715</td>\n",
       "      <td>2.335859</td>\n",
       "      <td>143879</td>\n",
       "      <td>963</td>\n",
       "    </tr>\n",
       "    <tr>\n",
       "      <th>4</th>\n",
       "      <td>walnut creek</td>\n",
       "      <td>1325</td>\n",
       "      <td>1</td>\n",
       "      <td>2014-05-11</td>\n",
       "      <td>642</td>\n",
       "      <td>-122.087751</td>\n",
       "      <td>37.923448</td>\n",
       "      <td>2.063863</td>\n",
       "      <td>70923</td>\n",
       "      <td>888</td>\n",
       "    </tr>\n",
       "  </tbody>\n",
       "</table>\n",
       "</div>"
      ],
      "text/plain": [
       "               neighborhood  price  bedrooms        date  sqft_per_unit  \\\n",
       "0  twin peaks / diamond hts   4500         2  2014-05-11           1200   \n",
       "1                 sunnyvale   2650         2  2014-05-11           1040   \n",
       "2                 glen park   3100         2  2014-05-11           1000   \n",
       "3              redwood city   1850         1  2014-05-11            792   \n",
       "4              walnut creek   1325         1  2014-05-11            642   \n",
       "\n",
       "    longitude   latitude  price_sqft  node_id  zone_id  \n",
       "0 -122.438300  37.745000    3.750000   300155      800  \n",
       "1 -122.008131  37.353699    2.548077   143129      960  \n",
       "2 -122.439743  37.731584    3.100000   125905     1031  \n",
       "3 -122.234294  37.491715    2.335859   143879      963  \n",
       "4 -122.087751  37.923448    2.063863    70923      888  "
      ]
     },
     "execution_count": 3,
     "metadata": {},
     "output_type": "execute_result"
    }
   ],
   "source": [
    "cl = sim.get_table('craigslist').to_frame()\n",
    "cl.head(5)"
   ]
  },
  {
   "cell_type": "code",
   "execution_count": 4,
   "metadata": {
    "collapsed": false
   },
   "outputs": [
    {
     "data": {
      "text/html": [
       "<div style=\"max-height:1000px;max-width:1500px;overflow:auto;\">\n",
       "<table border=\"1\" class=\"dataframe\">\n",
       "  <thead>\n",
       "    <tr style=\"text-align: right;\">\n",
       "      <th></th>\n",
       "      <th>price</th>\n",
       "      <th>bedrooms</th>\n",
       "      <th>sqft_per_unit</th>\n",
       "      <th>longitude</th>\n",
       "      <th>latitude</th>\n",
       "      <th>price_sqft</th>\n",
       "      <th>node_id</th>\n",
       "      <th>zone_id</th>\n",
       "    </tr>\n",
       "  </thead>\n",
       "  <tbody>\n",
       "    <tr>\n",
       "      <th>count</th>\n",
       "      <td>73644.000000</td>\n",
       "      <td>73644.000000</td>\n",
       "      <td>73644.00000</td>\n",
       "      <td>73644.000000</td>\n",
       "      <td>73644.000000</td>\n",
       "      <td>73644.000000</td>\n",
       "      <td>73644.000000</td>\n",
       "      <td>73603.000000</td>\n",
       "    </tr>\n",
       "    <tr>\n",
       "      <th>mean</th>\n",
       "      <td>3806.642944</td>\n",
       "      <td>1.858305</td>\n",
       "      <td>1196.62111</td>\n",
       "      <td>-122.108903</td>\n",
       "      <td>37.639416</td>\n",
       "      <td>4.697802</td>\n",
       "      <td>156857.443906</td>\n",
       "      <td>890.963031</td>\n",
       "    </tr>\n",
       "    <tr>\n",
       "      <th>std</th>\n",
       "      <td>146802.055710</td>\n",
       "      <td>0.932134</td>\n",
       "      <td>31192.63512</td>\n",
       "      <td>1.359750</td>\n",
       "      <td>0.863417</td>\n",
       "      <td>183.768413</td>\n",
       "      <td>100783.186320</td>\n",
       "      <td>82.436500</td>\n",
       "    </tr>\n",
       "    <tr>\n",
       "      <th>min</th>\n",
       "      <td>1.000000</td>\n",
       "      <td>1.000000</td>\n",
       "      <td>1.00000</td>\n",
       "      <td>-159.609375</td>\n",
       "      <td>-85.561269</td>\n",
       "      <td>0.000154</td>\n",
       "      <td>62.000000</td>\n",
       "      <td>747.000000</td>\n",
       "    </tr>\n",
       "    <tr>\n",
       "      <th>25%</th>\n",
       "      <td>1831.000000</td>\n",
       "      <td>1.000000</td>\n",
       "      <td>720.00000</td>\n",
       "      <td>-122.286807</td>\n",
       "      <td>37.383128</td>\n",
       "      <td>2.055256</td>\n",
       "      <td>80038.000000</td>\n",
       "      <td>831.000000</td>\n",
       "    </tr>\n",
       "    <tr>\n",
       "      <th>50%</th>\n",
       "      <td>2330.500000</td>\n",
       "      <td>2.000000</td>\n",
       "      <td>904.00000</td>\n",
       "      <td>-122.050473</td>\n",
       "      <td>37.601374</td>\n",
       "      <td>2.587519</td>\n",
       "      <td>149462.000000</td>\n",
       "      <td>879.000000</td>\n",
       "    </tr>\n",
       "    <tr>\n",
       "      <th>75%</th>\n",
       "      <td>2986.000000</td>\n",
       "      <td>2.000000</td>\n",
       "      <td>1160.00000</td>\n",
       "      <td>-121.952270</td>\n",
       "      <td>37.844037</td>\n",
       "      <td>3.135714</td>\n",
       "      <td>190924.000000</td>\n",
       "      <td>956.000000</td>\n",
       "    </tr>\n",
       "    <tr>\n",
       "      <th>max</th>\n",
       "      <td>26722744.000000</td>\n",
       "      <td>8.000000</td>\n",
       "      <td>8388607.00000</td>\n",
       "      <td>146.425781</td>\n",
       "      <td>79.858833</td>\n",
       "      <td>31145.389277</td>\n",
       "      <td>354659.000000</td>\n",
       "      <td>1157.000000</td>\n",
       "    </tr>\n",
       "  </tbody>\n",
       "</table>\n",
       "</div>"
      ],
      "text/plain": [
       "                 price      bedrooms  sqft_per_unit     longitude  \\\n",
       "count     73644.000000  73644.000000    73644.00000  73644.000000   \n",
       "mean       3806.642944      1.858305     1196.62111   -122.108903   \n",
       "std      146802.055710      0.932134    31192.63512      1.359750   \n",
       "min           1.000000      1.000000        1.00000   -159.609375   \n",
       "25%        1831.000000      1.000000      720.00000   -122.286807   \n",
       "50%        2330.500000      2.000000      904.00000   -122.050473   \n",
       "75%        2986.000000      2.000000     1160.00000   -121.952270   \n",
       "max    26722744.000000      8.000000  8388607.00000    146.425781   \n",
       "\n",
       "           latitude    price_sqft        node_id       zone_id  \n",
       "count  73644.000000  73644.000000   73644.000000  73603.000000  \n",
       "mean      37.639416      4.697802  156857.443906    890.963031  \n",
       "std        0.863417    183.768413  100783.186320     82.436500  \n",
       "min      -85.561269      0.000154      62.000000    747.000000  \n",
       "25%       37.383128      2.055256   80038.000000    831.000000  \n",
       "50%       37.601374      2.587519  149462.000000    879.000000  \n",
       "75%       37.844037      3.135714  190924.000000    956.000000  \n",
       "max       79.858833  31145.389277  354659.000000   1157.000000  "
      ]
     },
     "execution_count": 4,
     "metadata": {},
     "output_type": "execute_result"
    }
   ],
   "source": [
    "cl.describe()"
   ]
  },
  {
   "cell_type": "markdown",
   "metadata": {},
   "source": [
    "### 2. Set up the network vars"
   ]
  },
  {
   "cell_type": "code",
   "execution_count": 5,
   "metadata": {
    "collapsed": false
   },
   "outputs": [
    {
     "name": "stdout",
     "output_type": "stream",
     "text": [
      "Running model 'neighborhood_vars'\n",
      "Computing accessibility variables\n",
      "Computing sum_residential_units\n",
      "Filling column building_type_id with value 1 (0 values)\n",
      "Filling column residential_units with value 0 (0 values)\n",
      "Filling column year_built with value 1966.0 (0 values)\n",
      "Filling column non_residential_sqft with value 0 (0 values)\n",
      "Removed 4 rows because they contain missing values\n",
      "Computing sum_nonresidential_units\n",
      "Removed 4 rows because they contain missing values\n",
      "Computing ave_sqft_per_unit\n",
      "Removed 2 rows because they contain missing values\n",
      "Computing ave_lot_size_per_unit\n",
      "Removed 2 rows because they contain missing values\n",
      "Computing population\n",
      "Removed 79699 rows because they contain missing values\n",
      "Computing poor\n",
      "Removed 53966 rows because they contain missing values\n",
      "Computing renters\n",
      "Removed 4919 rows because they contain missing values\n",
      "Computing sfdu\n",
      "Removed 1 rows because they contain missing values\n",
      "Computing ave_hhsize\n",
      "Removed 79699 rows because they contain missing values\n",
      "Computing jobs\n",
      "Removed 335847 rows because they contain missing values\n",
      "Computing ave_income\n",
      "Removed 79699 rows because they contain missing values\n",
      "       sum_residential_units  sum_nonresidential_units  ave_sqft_per_unit  \\\n",
      "count          226060.000000             226060.000000      226060.000000   \n",
      "mean                5.959514                  0.356974           7.253990   \n",
      "std                 1.829774                  1.369450           1.322188   \n",
      "min                 0.000000                  0.000000           0.000000   \n",
      "25%                 5.517122                  0.000000           7.274734   \n",
      "50%                 6.443716                  0.000000           7.436141   \n",
      "75%                 7.027581                  0.000000           7.619552   \n",
      "max                10.149053                  9.289473          12.261587   \n",
      "\n",
      "       ave_lot_size_per_unit     population           poor        renters  \\\n",
      "count          226060.000000  226060.000000  226060.000000  226060.000000   \n",
      "mean                8.929325       6.825222       5.364583       4.052799   \n",
      "std                 1.933885       1.974722       1.966804       1.519042   \n",
      "min                 0.000000       0.000000       0.000000       0.000000   \n",
      "25%                 8.563902       6.400006       4.527863       3.515182   \n",
      "50%                 8.892104       7.388408       5.782053       4.429089   \n",
      "75%                 9.366335       7.991653       6.655447       5.041201   \n",
      "max                17.866968      10.553695      10.054707       7.257352   \n",
      "\n",
      "                sfdu     ave_hhsize           jobs     ave_income  \n",
      "count  226060.000000  226060.000000  226060.000000  226060.000000  \n",
      "mean        5.343503       1.248314       5.301676      10.934405  \n",
      "std         1.749075       0.255475       2.241773       1.963425  \n",
      "min         0.000000       0.000000       0.000000       0.000000  \n",
      "25%         4.958143       1.199913       4.195709      11.037583  \n",
      "50%         5.906678       1.279782       5.800459      11.259089  \n",
      "75%         6.438469       1.367688       6.826297      11.488537  \n",
      "max         8.095656       2.079442      11.713364      13.171155  \n",
      "Time to execute model 'neighborhood_vars': 52.65s\n",
      "Total time to execute: 52.65s\n"
     ]
    }
   ],
   "source": [
    "sim.run([\"neighborhood_vars\"])"
   ]
  },
  {
   "cell_type": "markdown",
   "metadata": {},
   "source": [
    "### 3. Estimate a rental listings hedonic"
   ]
  },
  {
   "cell_type": "code",
   "execution_count": null,
   "metadata": {
    "collapsed": true
   },
   "outputs": [],
   "source": [
    "# The model expression is in rrh.yaml; price_per_sqft is the asking monthly rent per square \n",
    "# foot from the Craigslist listings. Price, sqft, and bedrooms are specific to the unit, \n",
    "# while all the other variables are aggregations at the node or zone level. Note that we \n",
    "# can't use bedrooms in the simulation stage because it's not in the unit data."
   ]
  },
  {
   "cell_type": "code",
   "execution_count": 6,
   "metadata": {
    "collapsed": false
   },
   "outputs": [
    {
     "name": "stdout",
     "output_type": "stream",
     "text": [
      "Running model 'rrh_estimate'\n",
      "                            OLS Regression Results                            \n",
      "==============================================================================\n",
      "Dep. Variable:     np.log(price_sqft)   R-squared:                       0.497\n",
      "Model:                            OLS   Adj. R-squared:                  0.497\n",
      "Method:                 Least Squares   F-statistic:                     6566.\n",
      "Date:                Thu, 06 Aug 2015   Prob (F-statistic):               0.00\n",
      "Time:                        22:46:35   Log-Likelihood:                -5272.0\n",
      "No. Observations:               73168   AIC:                         1.057e+04\n",
      "Df Residuals:                   73156   BIC:                         1.068e+04\n",
      "Df Model:                          11                                         \n",
      "Covariance Type:            nonrobust                                         \n",
      "============================================================================================\n",
      "                               coef    std err          t      P>|t|      [95.0% Conf. Int.]\n",
      "--------------------------------------------------------------------------------------------\n",
      "Intercept                    7.9410      0.083     95.593      0.000         7.778     8.104\n",
      "np.log1p(sqft_per_unit)     -0.3516      0.002   -149.724      0.000        -0.356    -0.347\n",
      "ave_income                   0.0265      0.001     18.664      0.000         0.024     0.029\n",
      "poor                        -0.1860      0.002    -78.903      0.000        -0.191    -0.181\n",
      "renters                      0.0405      0.003     16.080      0.000         0.036     0.045\n",
      "sfdu                        -0.0938      0.001   -101.182      0.000        -0.096    -0.092\n",
      "autoPeakTotal               -0.7995      0.015    -54.722      0.000        -0.828    -0.771\n",
      "transitPeakTotal             0.0197      0.001     33.946      0.000         0.019     0.021\n",
      "autoOffPeakRetail            0.4400      0.016     27.611      0.000         0.409     0.471\n",
      "ave_lot_size_per_unit       -0.0323      0.001    -26.609      0.000        -0.035    -0.030\n",
      "sum_nonresidential_units     0.0035      0.001      5.206      0.000         0.002     0.005\n",
      "sum_residential_units        0.2926      0.004     83.368      0.000         0.286     0.299\n",
      "==============================================================================\n",
      "Omnibus:                     2883.927   Durbin-Watson:                   0.552\n",
      "Prob(Omnibus):                  0.000   Jarque-Bera (JB):             6317.346\n",
      "Skew:                          -0.258   Prob(JB):                         0.00\n",
      "Kurtosis:                       4.344   Cond. No.                     2.24e+03\n",
      "==============================================================================\n",
      "\n",
      "Warnings:\n",
      "[1] Standard Errors assume that the covariance matrix of the errors is correctly specified.\n",
      "[2] The condition number is large, 2.24e+03. This might indicate that there are\n",
      "strong multicollinearity or other numerical problems.\n",
      "Time to execute model 'rrh_estimate': 0.39s\n",
      "Total time to execute: 0.39s\n"
     ]
    }
   ],
   "source": [
    "sim.run([\"rrh_estimate\"])"
   ]
  },
  {
   "cell_type": "code",
   "execution_count": null,
   "metadata": {
    "collapsed": true
   },
   "outputs": [],
   "source": [
    "# to try variations, create a new yaml file and run this to register it\n",
    "\n",
    "@sim.model()\n",
    "def rh_cl_estimate_NEW(craigslist, aggregations):\n",
    "    return utils.hedonic_estimate(\"rrh_NEW.yaml\", craigslist, aggregations)\n",
    "\n",
    "sim.run([\"rrh_estimate_NEW\"])"
   ]
  },
  {
   "cell_type": "markdown",
   "metadata": {},
   "source": [
    "### 4. Compare to current sales hedonic"
   ]
  },
  {
   "cell_type": "code",
   "execution_count": 7,
   "metadata": {
    "collapsed": false
   },
   "outputs": [
    {
     "name": "stdout",
     "output_type": "stream",
     "text": [
      "Running model 'rsh_estimate'\n",
      "                              OLS Regression Results                              \n",
      "==================================================================================\n",
      "Dep. Variable:     np.log(price_per_sqft)   R-squared:                       0.419\n",
      "Model:                                OLS   Adj. R-squared:                  0.419\n",
      "Method:                     Least Squares   F-statistic:                     5465.\n",
      "Date:                    Thu, 06 Aug 2015   Prob (F-statistic):               0.00\n",
      "Time:                            22:46:57   Log-Likelihood:                -30748.\n",
      "No. Observations:                  105997   AIC:                         6.153e+04\n",
      "Df Residuals:                      105982   BIC:                         6.167e+04\n",
      "Df Model:                              14                                         \n",
      "Covariance Type:                nonrobust                                         \n",
      "================================================================================================\n",
      "                                   coef    std err          t      P>|t|      [95.0% Conf. Int.]\n",
      "------------------------------------------------------------------------------------------------\n",
      "Intercept                        3.5888      0.072     49.859      0.000         3.448     3.730\n",
      "I(year_built < 1940)[T.True]     0.1050      0.003     30.452      0.000         0.098     0.112\n",
      "I(year_built > 2000)[T.True]    -0.0099      0.003     -3.261      0.001        -0.016    -0.004\n",
      "np.log1p(sqft_per_unit)         -0.4544      0.003   -159.373      0.000        -0.460    -0.449\n",
      "ave_income                       0.3234      0.006     51.323      0.000         0.311     0.336\n",
      "stories                          0.0892      0.002     38.418      0.000         0.085     0.094\n",
      "poor                            -0.0836      0.003    -24.152      0.000        -0.090    -0.077\n",
      "renters                          0.1678      0.003     58.698      0.000         0.162     0.173\n",
      "sfdu                            -0.0856      0.002    -40.953      0.000        -0.090    -0.082\n",
      "autoPeakTotal                    0.3637      0.006     61.343      0.000         0.352     0.375\n",
      "transitPeakTotal                 0.0106      0.001     16.907      0.000         0.009     0.012\n",
      "autoOffPeakRetail               -0.3021      0.006    -46.775      0.000        -0.315    -0.289\n",
      "ave_lot_size_per_unit            0.0856      0.002     36.275      0.000         0.081     0.090\n",
      "sum_nonresidential_units        -0.0005      0.001     -0.659      0.510        -0.002     0.001\n",
      "sum_residential_units            0.0089      0.005      1.872      0.061        -0.000     0.018\n",
      "==============================================================================\n",
      "Omnibus:                    20323.407   Durbin-Watson:                   1.498\n",
      "Prob(Omnibus):                  0.000   Jarque-Bera (JB):           110025.016\n",
      "Skew:                          -0.822   Prob(JB):                         0.00\n",
      "Kurtosis:                       7.713   Cond. No.                     1.84e+03\n",
      "==============================================================================\n",
      "\n",
      "Warnings:\n",
      "[1] Standard Errors assume that the covariance matrix of the errors is correctly specified.\n",
      "[2] The condition number is large, 1.84e+03. This might indicate that there are\n",
      "strong multicollinearity or other numerical problems.\n",
      "Time to execute model 'rsh_estimate': 5.35s\n",
      "Total time to execute: 5.35s\n"
     ]
    }
   ],
   "source": [
    "sim.run([\"rsh_estimate\"])"
   ]
  },
  {
   "cell_type": "code",
   "execution_count": null,
   "metadata": {
    "collapsed": true
   },
   "outputs": [],
   "source": []
  },
  {
   "cell_type": "code",
   "execution_count": null,
   "metadata": {
    "collapsed": true
   },
   "outputs": [],
   "source": []
  },
  {
   "cell_type": "code",
   "execution_count": null,
   "metadata": {
    "collapsed": true
   },
   "outputs": [],
   "source": []
  },
  {
   "cell_type": "code",
   "execution_count": null,
   "metadata": {
    "collapsed": true
   },
   "outputs": [],
   "source": []
  }
 ],
 "metadata": {
  "kernelspec": {
   "display_name": "Python 2",
   "language": "python",
   "name": "python2"
  },
  "language_info": {
   "codemirror_mode": {
    "name": "ipython",
    "version": 2
   },
   "file_extension": ".py",
   "mimetype": "text/x-python",
   "name": "python",
   "nbconvert_exporter": "python",
   "pygments_lexer": "ipython2",
   "version": "2.7.9"
  }
 },
 "nbformat": 4,
 "nbformat_minor": 0
}
