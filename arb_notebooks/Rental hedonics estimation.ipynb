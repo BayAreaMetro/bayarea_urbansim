{
 "cells": [
  {
   "cell_type": "markdown",
   "metadata": {
    "collapsed": true
   },
   "source": [
    "## Rental hedonics estimation\n",
    "\n",
    "Sam Maurer, August 2015"
   ]
  },
  {
   "cell_type": "code",
   "execution_count": 1,
   "metadata": {
    "collapsed": false
   },
   "outputs": [],
   "source": [
    "%load_ext autoreload\n",
    "%autoreload 2\n",
    "if 'sim' not in globals():\n",
    "    import os; os.chdir('..')\n",
    "import models\n",
    "import urbansim.sim.simulation as sim\n",
    "import pandas as pd\n",
    "pd.set_option('display.max_columns', 500)"
   ]
  },
  {
   "cell_type": "markdown",
   "metadata": {},
   "source": [
    "### 1. Look at the Craigslist data"
   ]
  },
  {
   "cell_type": "code",
   "execution_count": 6,
   "metadata": {
    "collapsed": false
   },
   "outputs": [
    {
     "data": {
      "text/html": [
       "<div style=\"max-height:1000px;max-width:1500px;overflow:auto;\">\n",
       "<table border=\"1\" class=\"dataframe\">\n",
       "  <thead>\n",
       "    <tr style=\"text-align: right;\">\n",
       "      <th></th>\n",
       "      <th>neighborhood</th>\n",
       "      <th>price</th>\n",
       "      <th>bedrooms</th>\n",
       "      <th>date</th>\n",
       "      <th>sqft_per_unit</th>\n",
       "      <th>longitude</th>\n",
       "      <th>latitude</th>\n",
       "      <th>price_sqft</th>\n",
       "      <th>node_id</th>\n",
       "      <th>zone_id</th>\n",
       "    </tr>\n",
       "  </thead>\n",
       "  <tbody>\n",
       "    <tr>\n",
       "      <th>1</th>\n",
       "      <td>sunnyvale</td>\n",
       "      <td>2650</td>\n",
       "      <td>2</td>\n",
       "      <td>2014-05-11</td>\n",
       "      <td>1040</td>\n",
       "      <td>-122.008131</td>\n",
       "      <td>37.353699</td>\n",
       "      <td>2.548077</td>\n",
       "      <td>143129</td>\n",
       "      <td>960</td>\n",
       "    </tr>\n",
       "    <tr>\n",
       "      <th>2</th>\n",
       "      <td>glen park</td>\n",
       "      <td>3100</td>\n",
       "      <td>2</td>\n",
       "      <td>2014-05-11</td>\n",
       "      <td>1000</td>\n",
       "      <td>-122.439743</td>\n",
       "      <td>37.731584</td>\n",
       "      <td>3.100000</td>\n",
       "      <td>125905</td>\n",
       "      <td>1031</td>\n",
       "    </tr>\n",
       "    <tr>\n",
       "      <th>3</th>\n",
       "      <td>redwood city</td>\n",
       "      <td>1850</td>\n",
       "      <td>1</td>\n",
       "      <td>2014-05-11</td>\n",
       "      <td>792</td>\n",
       "      <td>-122.234294</td>\n",
       "      <td>37.491715</td>\n",
       "      <td>2.335859</td>\n",
       "      <td>143879</td>\n",
       "      <td>963</td>\n",
       "    </tr>\n",
       "    <tr>\n",
       "      <th>4</th>\n",
       "      <td>walnut creek</td>\n",
       "      <td>1325</td>\n",
       "      <td>1</td>\n",
       "      <td>2014-05-11</td>\n",
       "      <td>642</td>\n",
       "      <td>-122.087751</td>\n",
       "      <td>37.923448</td>\n",
       "      <td>2.063863</td>\n",
       "      <td>70923</td>\n",
       "      <td>888</td>\n",
       "    </tr>\n",
       "  </tbody>\n",
       "</table>\n",
       "</div>"
      ],
      "text/plain": [
       "   neighborhood  price  bedrooms        date  sqft_per_unit   longitude  \\\n",
       "1     sunnyvale   2650         2  2014-05-11           1040 -122.008131   \n",
       "2     glen park   3100         2  2014-05-11           1000 -122.439743   \n",
       "3  redwood city   1850         1  2014-05-11            792 -122.234294   \n",
       "4  walnut creek   1325         1  2014-05-11            642 -122.087751   \n",
       "\n",
       "    latitude  price_sqft  node_id  zone_id  \n",
       "1  37.353699    2.548077   143129      960  \n",
       "2  37.731584    3.100000   125905     1031  \n",
       "3  37.491715    2.335859   143879      963  \n",
       "4  37.923448    2.063863    70923      888  "
      ]
     },
     "execution_count": 6,
     "metadata": {},
     "output_type": "execute_result"
    }
   ],
   "source": [
    "cl = sim.get_table('craigslist').to_frame()\n",
    "cl[1:5]"
   ]
  },
  {
   "cell_type": "code",
   "execution_count": 7,
   "metadata": {
    "collapsed": false
   },
   "outputs": [
    {
     "data": {
      "text/html": [
       "<div style=\"max-height:1000px;max-width:1500px;overflow:auto;\">\n",
       "<table border=\"1\" class=\"dataframe\">\n",
       "  <thead>\n",
       "    <tr style=\"text-align: right;\">\n",
       "      <th></th>\n",
       "      <th>price</th>\n",
       "      <th>bedrooms</th>\n",
       "      <th>sqft_per_unit</th>\n",
       "      <th>longitude</th>\n",
       "      <th>latitude</th>\n",
       "      <th>price_sqft</th>\n",
       "      <th>node_id</th>\n",
       "      <th>zone_id</th>\n",
       "    </tr>\n",
       "  </thead>\n",
       "  <tbody>\n",
       "    <tr>\n",
       "      <th>count</th>\n",
       "      <td>73644.000000</td>\n",
       "      <td>73644.000000</td>\n",
       "      <td>73644.00000</td>\n",
       "      <td>73644.000000</td>\n",
       "      <td>73644.000000</td>\n",
       "      <td>73644.000000</td>\n",
       "      <td>73644.000000</td>\n",
       "      <td>73603.000000</td>\n",
       "    </tr>\n",
       "    <tr>\n",
       "      <th>mean</th>\n",
       "      <td>3806.642944</td>\n",
       "      <td>1.858305</td>\n",
       "      <td>1196.62111</td>\n",
       "      <td>-122.108903</td>\n",
       "      <td>37.639416</td>\n",
       "      <td>4.697802</td>\n",
       "      <td>156857.443906</td>\n",
       "      <td>890.963031</td>\n",
       "    </tr>\n",
       "    <tr>\n",
       "      <th>std</th>\n",
       "      <td>146802.055710</td>\n",
       "      <td>0.932134</td>\n",
       "      <td>31192.63512</td>\n",
       "      <td>1.359750</td>\n",
       "      <td>0.863417</td>\n",
       "      <td>183.768413</td>\n",
       "      <td>100783.186320</td>\n",
       "      <td>82.436500</td>\n",
       "    </tr>\n",
       "    <tr>\n",
       "      <th>min</th>\n",
       "      <td>1.000000</td>\n",
       "      <td>1.000000</td>\n",
       "      <td>1.00000</td>\n",
       "      <td>-159.609375</td>\n",
       "      <td>-85.561269</td>\n",
       "      <td>0.000154</td>\n",
       "      <td>62.000000</td>\n",
       "      <td>747.000000</td>\n",
       "    </tr>\n",
       "    <tr>\n",
       "      <th>25%</th>\n",
       "      <td>1831.000000</td>\n",
       "      <td>1.000000</td>\n",
       "      <td>720.00000</td>\n",
       "      <td>-122.286807</td>\n",
       "      <td>37.383128</td>\n",
       "      <td>2.055256</td>\n",
       "      <td>80038.000000</td>\n",
       "      <td>831.000000</td>\n",
       "    </tr>\n",
       "    <tr>\n",
       "      <th>50%</th>\n",
       "      <td>2330.500000</td>\n",
       "      <td>2.000000</td>\n",
       "      <td>904.00000</td>\n",
       "      <td>-122.050473</td>\n",
       "      <td>37.601374</td>\n",
       "      <td>2.587519</td>\n",
       "      <td>149462.000000</td>\n",
       "      <td>879.000000</td>\n",
       "    </tr>\n",
       "    <tr>\n",
       "      <th>75%</th>\n",
       "      <td>2986.000000</td>\n",
       "      <td>2.000000</td>\n",
       "      <td>1160.00000</td>\n",
       "      <td>-121.952270</td>\n",
       "      <td>37.844037</td>\n",
       "      <td>3.135714</td>\n",
       "      <td>190924.000000</td>\n",
       "      <td>956.000000</td>\n",
       "    </tr>\n",
       "    <tr>\n",
       "      <th>max</th>\n",
       "      <td>26722744.000000</td>\n",
       "      <td>8.000000</td>\n",
       "      <td>8388607.00000</td>\n",
       "      <td>146.425781</td>\n",
       "      <td>79.858833</td>\n",
       "      <td>31145.389277</td>\n",
       "      <td>354659.000000</td>\n",
       "      <td>1157.000000</td>\n",
       "    </tr>\n",
       "  </tbody>\n",
       "</table>\n",
       "</div>"
      ],
      "text/plain": [
       "                 price      bedrooms  sqft_per_unit     longitude  \\\n",
       "count     73644.000000  73644.000000    73644.00000  73644.000000   \n",
       "mean       3806.642944      1.858305     1196.62111   -122.108903   \n",
       "std      146802.055710      0.932134    31192.63512      1.359750   \n",
       "min           1.000000      1.000000        1.00000   -159.609375   \n",
       "25%        1831.000000      1.000000      720.00000   -122.286807   \n",
       "50%        2330.500000      2.000000      904.00000   -122.050473   \n",
       "75%        2986.000000      2.000000     1160.00000   -121.952270   \n",
       "max    26722744.000000      8.000000  8388607.00000    146.425781   \n",
       "\n",
       "           latitude    price_sqft        node_id       zone_id  \n",
       "count  73644.000000  73644.000000   73644.000000  73603.000000  \n",
       "mean      37.639416      4.697802  156857.443906    890.963031  \n",
       "std        0.863417    183.768413  100783.186320     82.436500  \n",
       "min      -85.561269      0.000154      62.000000    747.000000  \n",
       "25%       37.383128      2.055256   80038.000000    831.000000  \n",
       "50%       37.601374      2.587519  149462.000000    879.000000  \n",
       "75%       37.844037      3.135714  190924.000000    956.000000  \n",
       "max       79.858833  31145.389277  354659.000000   1157.000000  "
      ]
     },
     "execution_count": 7,
     "metadata": {},
     "output_type": "execute_result"
    }
   ],
   "source": [
    "cl.describe()"
   ]
  },
  {
   "cell_type": "markdown",
   "metadata": {},
   "source": [
    "### 2. Set up the network vars"
   ]
  },
  {
   "cell_type": "code",
   "execution_count": 8,
   "metadata": {
    "collapsed": false
   },
   "outputs": [],
   "source": [
    "%%capture\n",
    "sim.run([\"neighborhood_vars\"])"
   ]
  },
  {
   "cell_type": "markdown",
   "metadata": {},
   "source": [
    "### 3. Estimate a rental listings hedonic"
   ]
  },
  {
   "cell_type": "code",
   "execution_count": null,
   "metadata": {
    "collapsed": true
   },
   "outputs": [],
   "source": [
    "# The model expression is in rrh.yaml; price_per_sqft is the asking monthly rent per square \n",
    "# foot from the Craigslist listings. Price, sqft, and bedrooms are specific to the unit, \n",
    "# while all the other variables are aggregations at the node or zone level. Note that we \n",
    "# can't use bedrooms in the simulation stage because it's not in the unit data."
   ]
  },
  {
   "cell_type": "code",
   "execution_count": 9,
   "metadata": {
    "collapsed": false
   },
   "outputs": [
    {
     "name": "stdout",
     "output_type": "stream",
     "text": [
      "Running model 'rrh_estimate'\n",
      "                            OLS Regression Results                            \n",
      "==============================================================================\n",
      "Dep. Variable:     np.log(price_sqft)   R-squared:                       0.488\n",
      "Model:                            OLS   Adj. R-squared:                  0.488\n",
      "Method:                 Least Squares   F-statistic:                     6338.\n",
      "Date:                Wed, 12 Aug 2015   Prob (F-statistic):               0.00\n",
      "Time:                        11:18:30   Log-Likelihood:                -5911.3\n",
      "No. Observations:               73168   AIC:                         1.185e+04\n",
      "Df Residuals:                   73156   BIC:                         1.196e+04\n",
      "Df Model:                          11                                         \n",
      "Covariance Type:            nonrobust                                         \n",
      "============================================================================================\n",
      "                               coef    std err          t      P>|t|      [95.0% Conf. Int.]\n",
      "--------------------------------------------------------------------------------------------\n",
      "Intercept                    7.9437      0.084     94.791      0.000         7.779     8.108\n",
      "np.log1p(sqft_per_unit)     -0.3484      0.002   -147.189      0.000        -0.353    -0.344\n",
      "ave_income                   0.0778      0.001     57.365      0.000         0.075     0.080\n",
      "poverty_rate                -0.9445      0.014    -69.647      0.000        -0.971    -0.918\n",
      "renters                      0.0406      0.003     15.914      0.000         0.036     0.046\n",
      "sfdu                        -0.0989      0.001   -106.043      0.000        -0.101    -0.097\n",
      "autoPeakTotal               -0.7450      0.015    -50.570      0.000        -0.774    -0.716\n",
      "transitPeakTotal             0.0186      0.001     31.740      0.000         0.017     0.020\n",
      "autoOffPeakRetail            0.3778      0.016     23.547      0.000         0.346     0.409\n",
      "ave_lot_size_per_unit       -0.0363      0.001    -29.654      0.000        -0.039    -0.034\n",
      "sum_nonresidential_units     0.0044      0.001      6.388      0.000         0.003     0.006\n",
      "sum_residential_units        0.1497      0.002     64.618      0.000         0.145     0.154\n",
      "==============================================================================\n",
      "Omnibus:                     2849.582   Durbin-Watson:                   0.559\n",
      "Prob(Omnibus):                  0.000   Jarque-Bera (JB):             6603.044\n",
      "Skew:                          -0.233   Prob(JB):                         0.00\n",
      "Kurtosis:                       4.396   Cond. No.                     2.17e+03\n",
      "==============================================================================\n",
      "\n",
      "Warnings:\n",
      "[1] Standard Errors assume that the covariance matrix of the errors is correctly specified.\n",
      "[2] The condition number is large, 2.17e+03. This might indicate that there are\n",
      "strong multicollinearity or other numerical problems.\n",
      "Time to execute model 'rrh_estimate': 0.37s\n",
      "Total time to execute: 0.37s\n"
     ]
    }
   ],
   "source": [
    "sim.run([\"rrh_estimate\"])"
   ]
  },
  {
   "cell_type": "code",
   "execution_count": null,
   "metadata": {
    "collapsed": true
   },
   "outputs": [],
   "source": [
    "# to save variations, create a new yaml file and run this to register it\n",
    "\n",
    "@sim.model()\n",
    "def rh_cl_estimate_NEW(craigslist, aggregations):\n",
    "    return utils.hedonic_estimate(\"rrh_NEW.yaml\", craigslist, aggregations)\n",
    "\n",
    "sim.run([\"rrh_estimate_NEW\"])"
   ]
  },
  {
   "cell_type": "markdown",
   "metadata": {},
   "source": [
    "### 4. Compare to sales hedonic"
   ]
  },
  {
   "cell_type": "code",
   "execution_count": 7,
   "metadata": {
    "collapsed": false
   },
   "outputs": [
    {
     "name": "stdout",
     "output_type": "stream",
     "text": [
      "Running model 'rsh_estimate'\n",
      "                              OLS Regression Results                              \n",
      "==================================================================================\n",
      "Dep. Variable:     np.log(price_per_sqft)   R-squared:                       0.419\n",
      "Model:                                OLS   Adj. R-squared:                  0.419\n",
      "Method:                     Least Squares   F-statistic:                     5465.\n",
      "Date:                    Thu, 06 Aug 2015   Prob (F-statistic):               0.00\n",
      "Time:                            22:46:57   Log-Likelihood:                -30748.\n",
      "No. Observations:                  105997   AIC:                         6.153e+04\n",
      "Df Residuals:                      105982   BIC:                         6.167e+04\n",
      "Df Model:                              14                                         \n",
      "Covariance Type:                nonrobust                                         \n",
      "================================================================================================\n",
      "                                   coef    std err          t      P>|t|      [95.0% Conf. Int.]\n",
      "------------------------------------------------------------------------------------------------\n",
      "Intercept                        3.5888      0.072     49.859      0.000         3.448     3.730\n",
      "I(year_built < 1940)[T.True]     0.1050      0.003     30.452      0.000         0.098     0.112\n",
      "I(year_built > 2000)[T.True]    -0.0099      0.003     -3.261      0.001        -0.016    -0.004\n",
      "np.log1p(sqft_per_unit)         -0.4544      0.003   -159.373      0.000        -0.460    -0.449\n",
      "ave_income                       0.3234      0.006     51.323      0.000         0.311     0.336\n",
      "stories                          0.0892      0.002     38.418      0.000         0.085     0.094\n",
      "poor                            -0.0836      0.003    -24.152      0.000        -0.090    -0.077\n",
      "renters                          0.1678      0.003     58.698      0.000         0.162     0.173\n",
      "sfdu                            -0.0856      0.002    -40.953      0.000        -0.090    -0.082\n",
      "autoPeakTotal                    0.3637      0.006     61.343      0.000         0.352     0.375\n",
      "transitPeakTotal                 0.0106      0.001     16.907      0.000         0.009     0.012\n",
      "autoOffPeakRetail               -0.3021      0.006    -46.775      0.000        -0.315    -0.289\n",
      "ave_lot_size_per_unit            0.0856      0.002     36.275      0.000         0.081     0.090\n",
      "sum_nonresidential_units        -0.0005      0.001     -0.659      0.510        -0.002     0.001\n",
      "sum_residential_units            0.0089      0.005      1.872      0.061        -0.000     0.018\n",
      "==============================================================================\n",
      "Omnibus:                    20323.407   Durbin-Watson:                   1.498\n",
      "Prob(Omnibus):                  0.000   Jarque-Bera (JB):           110025.016\n",
      "Skew:                          -0.822   Prob(JB):                         0.00\n",
      "Kurtosis:                       7.713   Cond. No.                     1.84e+03\n",
      "==============================================================================\n",
      "\n",
      "Warnings:\n",
      "[1] Standard Errors assume that the covariance matrix of the errors is correctly specified.\n",
      "[2] The condition number is large, 1.84e+03. This might indicate that there are\n",
      "strong multicollinearity or other numerical problems.\n",
      "Time to execute model 'rsh_estimate': 5.35s\n",
      "Total time to execute: 5.35s\n"
     ]
    }
   ],
   "source": [
    "sim.run([\"rsh_estimate\"])"
   ]
  },
  {
   "cell_type": "code",
   "execution_count": null,
   "metadata": {
    "collapsed": true
   },
   "outputs": [],
   "source": []
  },
  {
   "cell_type": "code",
   "execution_count": null,
   "metadata": {
    "collapsed": true
   },
   "outputs": [],
   "source": []
  },
  {
   "cell_type": "code",
   "execution_count": null,
   "metadata": {
    "collapsed": true
   },
   "outputs": [],
   "source": []
  },
  {
   "cell_type": "code",
   "execution_count": null,
   "metadata": {
    "collapsed": true
   },
   "outputs": [],
   "source": []
  }
 ],
 "metadata": {
  "kernelspec": {
   "display_name": "Python 2",
   "language": "python",
   "name": "python2"
  },
  "language_info": {
   "codemirror_mode": {
    "name": "ipython",
    "version": 2
   },
   "file_extension": ".py",
   "mimetype": "text/x-python",
   "name": "python",
   "nbconvert_exporter": "python",
   "pygments_lexer": "ipython2",
   "version": "2.7.9"
  }
 },
 "nbformat": 4,
 "nbformat_minor": 0
}
